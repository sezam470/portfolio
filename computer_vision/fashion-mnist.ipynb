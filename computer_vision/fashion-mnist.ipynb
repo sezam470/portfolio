{
 "cells": [
  {
   "cell_type": "markdown",
   "id": "74eed374",
   "metadata": {
    "papermill": {
     "duration": 0.004486,
     "end_time": "2022-09-01T22:00:55.018883",
     "exception": false,
     "start_time": "2022-09-01T22:00:55.014397",
     "status": "completed"
    },
    "tags": []
   },
   "source": [
    "**Классификатор товаров**"
   ]
  },
  {
   "cell_type": "markdown",
   "id": "451a1a41",
   "metadata": {
    "papermill": {
     "duration": 0.003106,
     "end_time": "2022-09-01T22:00:55.025623",
     "exception": false,
     "start_time": "2022-09-01T22:00:55.022517",
     "status": "completed"
    },
    "tags": []
   },
   "source": [
    "Для агрегатора магазинов одежды нужно сделать классификатор одежды на 10 классов"
   ]
  },
  {
   "cell_type": "code",
   "execution_count": null,
   "id": "2acc87a2",
   "metadata": {
    "execution": {
     "iopub.execute_input": "2022-09-01T22:00:55.034453Z",
     "iopub.status.busy": "2022-09-01T22:00:55.033632Z",
     "iopub.status.idle": "2022-09-01T22:01:01.521470Z",
     "shell.execute_reply": "2022-09-01T22:01:01.520191Z"
    },
    "papermill": {
     "duration": 6.495682,
     "end_time": "2022-09-01T22:01:01.524627",
     "exception": false,
     "start_time": "2022-09-01T22:00:55.028945",
     "status": "completed"
    },
    "tags": []
   },
   "outputs": [],
   "source": [
    "from tensorflow.keras.datasets import fashion_mnist\n",
    "from tensorflow.keras.models import Sequential\n",
    "from tensorflow.keras.layers import Dense, Conv2D, AvgPool2D, Flatten\n",
    "from tensorflow.keras.optimizers import Adam\n",
    "import numpy as np\n",
    "import pandas as pd"
   ]
  },
  {
   "cell_type": "code",
   "execution_count": null,
   "id": "d1d082d3",
   "metadata": {
    "execution": {
     "iopub.execute_input": "2022-09-01T22:01:01.557709Z",
     "iopub.status.busy": "2022-09-01T22:01:01.556872Z",
     "iopub.status.idle": "2022-09-01T22:01:07.274153Z",
     "shell.execute_reply": "2022-09-01T22:01:07.272877Z"
    },
    "papermill": {
     "duration": 5.725312,
     "end_time": "2022-09-01T22:01:07.277519",
     "exception": false,
     "start_time": "2022-09-01T22:01:01.552207",
     "status": "completed"
    },
    "tags": []
   },
   "outputs": [
    {
     "name": "stdout",
     "output_type": "stream",
     "text": [
      "features_train.head: (60000, 784)\n",
      "\n",
      "target_train.head (60000,)\n"
     ]
    }
   ],
   "source": [
    "df_train = pd.read_csv(\"/kaggle/input/fashion-mnist-df/fashion-mnist_train.csv\")\n",
    "\n",
    "features_train = np.array(df_train.drop(columns=['label'], axis=1))\n",
    "target_train = np.array(df_train['label'])\n",
    "print('features_train.head:', features_train.shape)\n",
    "print()\n",
    "print('target_train.head', target_train.shape)"
   ]
  },
  {
   "cell_type": "code",
   "execution_count": null,
   "id": "7684609f",
   "metadata": {
    "execution": {
     "iopub.execute_input": "2022-09-01T22:01:07.286957Z",
     "iopub.status.busy": "2022-09-01T22:01:07.286296Z",
     "iopub.status.idle": "2022-09-01T22:01:08.119502Z",
     "shell.execute_reply": "2022-09-01T22:01:08.118080Z"
    },
    "papermill": {
     "duration": 0.840715,
     "end_time": "2022-09-01T22:01:08.122155",
     "exception": false,
     "start_time": "2022-09-01T22:01:07.281440",
     "status": "completed"
    },
    "tags": []
   },
   "outputs": [
    {
     "name": "stdout",
     "output_type": "stream",
     "text": [
      "features_test.head: (10000, 784)\n",
      "\n",
      "target_test.head (10000,)\n"
     ]
    }
   ],
   "source": [
    "df_test = pd.read_csv(\"/kaggle/input/fashion-mnist-df/fashion-mnist_test.csv\")\n",
    "\n",
    "features_test = np.array(df_test.drop(columns=['label'], axis=1))\n",
    "target_test = np.array(df_test['label'])\n",
    "print('features_test.head:', features_test.shape)\n",
    "print()\n",
    "print('target_test.head', target_test.shape)"
   ]
  },
  {
   "cell_type": "code",
   "execution_count": null,
   "id": "f0f5e2ee",
   "metadata": {
    "execution": {
     "iopub.execute_input": "2022-09-01T22:01:08.131425Z",
     "iopub.status.busy": "2022-09-01T22:01:08.131028Z",
     "iopub.status.idle": "2022-09-01T22:01:08.136211Z",
     "shell.execute_reply": "2022-09-01T22:01:08.134978Z"
    },
    "papermill": {
     "duration": 0.012586,
     "end_time": "2022-09-01T22:01:08.138489",
     "exception": false,
     "start_time": "2022-09-01T22:01:08.125903",
     "status": "completed"
    },
    "tags": []
   },
   "outputs": [],
   "source": [
    "def load_train():\n",
    "    features = features_train.reshape(-1, 28, 28, 1) / 255\n",
    "    return features, target_train"
   ]
  },
  {
   "cell_type": "code",
   "execution_count": null,
   "id": "589418dc",
   "metadata": {
    "execution": {
     "iopub.execute_input": "2022-09-01T22:01:08.147472Z",
     "iopub.status.busy": "2022-09-01T22:01:08.147112Z",
     "iopub.status.idle": "2022-09-01T22:01:08.152005Z",
     "shell.execute_reply": "2022-09-01T22:01:08.150974Z"
    },
    "papermill": {
     "duration": 0.012108,
     "end_time": "2022-09-01T22:01:08.154334",
     "exception": false,
     "start_time": "2022-09-01T22:01:08.142226",
     "status": "completed"
    },
    "tags": []
   },
   "outputs": [],
   "source": [
    "def load_test():\n",
    "    features = features_test.reshape(-1, 28, 28, 1) / 255\n",
    "    return features, target_test"
   ]
  },
  {
   "cell_type": "code",
   "execution_count": null,
   "id": "5ca72349",
   "metadata": {
    "execution": {
     "iopub.execute_input": "2022-09-01T22:01:08.163089Z",
     "iopub.status.busy": "2022-09-01T22:01:08.162694Z",
     "iopub.status.idle": "2022-09-01T22:01:08.171015Z",
     "shell.execute_reply": "2022-09-01T22:01:08.169710Z"
    },
    "papermill": {
     "duration": 0.015387,
     "end_time": "2022-09-01T22:01:08.173320",
     "exception": false,
     "start_time": "2022-09-01T22:01:08.157933",
     "status": "completed"
    },
    "tags": []
   },
   "outputs": [],
   "source": [
    "def create_model(input_shape):\n",
    "    model = Sequential()\n",
    "    model.add(Conv2D(filters=6, kernel_size=(5, 5), input_shape=input_shape, padding='same', activation='relu'))\n",
    "    model.add(AvgPool2D(pool_size=(2, 2)))\n",
    "    model.add(Conv2D(filters=16, kernel_size=(5, 5), activation='relu'))\n",
    "    model.add(AvgPool2D(pool_size=(2, 2)))\n",
    "    model.add(Flatten())\n",
    "    model.add(Dense(units=120, activation='relu'))\n",
    "    model.add(Dense(units=84, activation='relu'))\n",
    "    model.add(Dense(units=10, activation='softmax'))\n",
    "    model.compile(loss='sparse_categorical_crossentropy', optimizer=Adam(lr=0.0001), metrics=['acc'])\n",
    "    return model"
   ]
  },
  {
   "cell_type": "code",
   "execution_count": null,
   "id": "af8304b9",
   "metadata": {
    "execution": {
     "iopub.execute_input": "2022-09-01T22:01:08.182489Z",
     "iopub.status.busy": "2022-09-01T22:01:08.181926Z",
     "iopub.status.idle": "2022-09-01T22:01:08.187661Z",
     "shell.execute_reply": "2022-09-01T22:01:08.186835Z"
    },
    "papermill": {
     "duration": 0.012632,
     "end_time": "2022-09-01T22:01:08.189722",
     "exception": false,
     "start_time": "2022-09-01T22:01:08.177090",
     "status": "completed"
    },
    "tags": []
   },
   "outputs": [],
   "source": [
    "def train_model(model, train_data, test_data, batch_size=32, epochs=20,\n",
    "               steps_per_epoch=None, validation_steps=None):\n",
    "    features_train, target_train = train_data\n",
    "    features_test, target_test = test_data\n",
    "    model.fit(\n",
    "        features_train, target_train,\n",
    "        validation_data=(features_test, target_test),\n",
    "        batch_size=batch_size,\n",
    "        epochs=epochs,\n",
    "        steps_per_epoch=steps_per_epoch,\n",
    "        validation_steps=validation_steps,\n",
    "        verbose=2,\n",
    "        shuffle=True\n",
    "    )\n",
    "    return model"
   ]
  },
  {
   "cell_type": "code",
   "execution_count": null,
   "id": "6405436b",
   "metadata": {
    "execution": {
     "iopub.execute_input": "2022-09-01T22:01:08.198547Z",
     "iopub.status.busy": "2022-09-01T22:01:08.197907Z",
     "iopub.status.idle": "2022-09-01T22:04:45.254484Z",
     "shell.execute_reply": "2022-09-01T22:04:45.253313Z"
    },
    "papermill": {
     "duration": 217.063748,
     "end_time": "2022-09-01T22:04:45.256955",
     "exception": false,
     "start_time": "2022-09-01T22:01:08.193207",
     "status": "completed"
    },
    "tags": []
   },
   "outputs": [
    {
     "name": "stderr",
     "output_type": "stream",
     "text": [
      "2022-09-01 22:01:08.407866: I tensorflow/core/common_runtime/process_util.cc:146] Creating new thread pool with default inter op setting: 2. Tune using inter_op_parallelism_threads for best performance.\n",
      "/opt/conda/lib/python3.7/site-packages/keras/optimizer_v2/optimizer_v2.py:356: UserWarning: The `lr` argument is deprecated, use `learning_rate` instead.\n",
      "  \"The `lr` argument is deprecated, use `learning_rate` instead.\")\n",
      "2022-09-01 22:01:09.080765: I tensorflow/compiler/mlir/mlir_graph_optimization_pass.cc:185] None of the MLIR Optimization Passes are enabled (registered 2)\n"
     ]
    },
    {
     "name": "stdout",
     "output_type": "stream",
     "text": [
      "Epoch 1/20\n",
      "1875/1875 - 11s - loss: 0.8272 - acc: 0.7064 - val_loss: 0.6337 - val_acc: 0.7555\n",
      "Epoch 2/20\n",
      "1875/1875 - 11s - loss: 0.5830 - acc: 0.7836 - val_loss: 0.5404 - val_acc: 0.8104\n",
      "Epoch 3/20\n",
      "1875/1875 - 12s - loss: 0.5191 - acc: 0.8120 - val_loss: 0.5129 - val_acc: 0.8044\n",
      "Epoch 4/20\n",
      "1875/1875 - 11s - loss: 0.4807 - acc: 0.8272 - val_loss: 0.4695 - val_acc: 0.8383\n",
      "Epoch 5/20\n",
      "1875/1875 - 11s - loss: 0.4547 - acc: 0.8375 - val_loss: 0.4493 - val_acc: 0.8390\n",
      "Epoch 6/20\n",
      "1875/1875 - 11s - loss: 0.4351 - acc: 0.8442 - val_loss: 0.4200 - val_acc: 0.8527\n",
      "Epoch 7/20\n",
      "1875/1875 - 10s - loss: 0.4198 - acc: 0.8507 - val_loss: 0.4095 - val_acc: 0.8524\n",
      "Epoch 8/20\n",
      "1875/1875 - 10s - loss: 0.4090 - acc: 0.8527 - val_loss: 0.3934 - val_acc: 0.8597\n",
      "Epoch 9/20\n",
      "1875/1875 - 11s - loss: 0.3978 - acc: 0.8583 - val_loss: 0.3856 - val_acc: 0.8646\n",
      "Epoch 10/20\n",
      "1875/1875 - 10s - loss: 0.3885 - acc: 0.8611 - val_loss: 0.3817 - val_acc: 0.8659\n",
      "Epoch 11/20\n",
      "1875/1875 - 10s - loss: 0.3787 - acc: 0.8647 - val_loss: 0.3823 - val_acc: 0.8664\n",
      "Epoch 12/20\n",
      "1875/1875 - 11s - loss: 0.3706 - acc: 0.8671 - val_loss: 0.3767 - val_acc: 0.8628\n",
      "Epoch 13/20\n",
      "1875/1875 - 11s - loss: 0.3625 - acc: 0.8698 - val_loss: 0.3645 - val_acc: 0.8706\n",
      "Epoch 14/20\n",
      "1875/1875 - 10s - loss: 0.3558 - acc: 0.8731 - val_loss: 0.3534 - val_acc: 0.8740\n",
      "Epoch 15/20\n",
      "1875/1875 - 11s - loss: 0.3494 - acc: 0.8738 - val_loss: 0.3473 - val_acc: 0.8760\n",
      "Epoch 16/20\n",
      "1875/1875 - 10s - loss: 0.3438 - acc: 0.8759 - val_loss: 0.3469 - val_acc: 0.8770\n",
      "Epoch 17/20\n",
      "1875/1875 - 10s - loss: 0.3383 - acc: 0.8785 - val_loss: 0.3454 - val_acc: 0.8782\n",
      "Epoch 18/20\n",
      "1875/1875 - 11s - loss: 0.3330 - acc: 0.8806 - val_loss: 0.3556 - val_acc: 0.8710\n",
      "Epoch 19/20\n",
      "1875/1875 - 10s - loss: 0.3282 - acc: 0.8811 - val_loss: 0.3479 - val_acc: 0.8775\n",
      "Epoch 20/20\n",
      "1875/1875 - 11s - loss: 0.3242 - acc: 0.8829 - val_loss: 0.3362 - val_acc: 0.8788\n",
      "313/313 - 1s - loss: 0.3362 - acc: 0.8788\n",
      "\n",
      "Model accuracy: 87.88%\n"
     ]
    }
   ],
   "source": [
    "if __name__ == '__main__':\n",
    "    train_data = load_train()\n",
    "    test_data = load_test()\n",
    "    model = create_model(train_data[0].shape[1:])\n",
    "    model = train_model(model, train_data, test_data)\n",
    "    loss, acc = model.evaluate(test_data[0], test_data[1], verbose=2)\n",
    "    print()\n",
    "    print('Model accuracy: {:5.2f}%'.format(100 * acc))"
   ]
  },
  {
   "cell_type": "markdown",
   "metadata": {},
   "source": [
    "# Исследование объявлений о продаже квартир\n",
    "\n",
    "В вашем распоряжении данные сервиса Яндекc Недвижимость — архив объявлений о продаже квартир в Санкт-Петербурге и соседних населённых пунктах за несколько лет. Нужно научиться определять рыночную стоимость объектов недвижимости. Ваша задача — установить параметры. Это позволит построить автоматизированную систему: она отследит аномалии и мошенническую деятельность. \n",
    "\n",
    "По каждой квартире на продажу доступны два вида данных. Первые вписаны пользователем, вторые получены автоматически на основе картографических данных. Например, расстояние до центра, аэропорта, ближайшего парка и водоёма.\n",
    "\n",
    "Нужно научиться определять рыночную стоимость объектов недвижимости и построить автоматизированную систему отслеживания аномалий и мошеннической деятельности.\n",
    "Задача — установить параметры, в наибольшей степени влияющие на стоимость объектов недвижимости, и характер их влияния."
   ]
  },
  {
   "cell_type": "markdown",
   "metadata": {},
   "source": [
    "## Изучение данных из файла"
   ]
  },
  {
   "cell_type": "code",
   "execution_count": null,
   "metadata": {},
   "outputs": [],
   "source": [
    "import warnings\n",
    "\n",
    "warnings.filterwarnings('ignore')"
   ]
  },
  {
   "cell_type": "code",
   "execution_count": 208,
   "metadata": {},
   "outputs": [
    {
     "data": {
      "text/html": [
       "<div>\n",
       "<style scoped>\n",
       "    .dataframe tbody tr th:only-of-type {\n",
       "        vertical-align: middle;\n",
       "    }\n",
       "\n",
       "    .dataframe tbody tr th {\n",
       "        vertical-align: top;\n",
       "    }\n",
       "\n",
       "    .dataframe thead th {\n",
       "        text-align: right;\n",
       "    }\n",
       "</style>\n",
       "<table border=\"1\" class=\"dataframe\">\n",
       "  <thead>\n",
       "    <tr style=\"text-align: right;\">\n",
       "      <th></th>\n",
       "      <th>total_images</th>\n",
       "      <th>last_price</th>\n",
       "      <th>total_area</th>\n",
       "      <th>first_day_exposition</th>\n",
       "      <th>rooms</th>\n",
       "      <th>ceiling_height</th>\n",
       "      <th>floors_total</th>\n",
       "      <th>living_area</th>\n",
       "      <th>floor</th>\n",
       "      <th>is_apartment</th>\n",
       "      <th>...</th>\n",
       "      <th>kitchen_area</th>\n",
       "      <th>balcony</th>\n",
       "      <th>locality_name</th>\n",
       "      <th>airports_nearest</th>\n",
       "      <th>cityCenters_nearest</th>\n",
       "      <th>parks_around3000</th>\n",
       "      <th>parks_nearest</th>\n",
       "      <th>ponds_around3000</th>\n",
       "      <th>ponds_nearest</th>\n",
       "      <th>days_exposition</th>\n",
       "    </tr>\n",
       "  </thead>\n",
       "  <tbody>\n",
       "    <tr>\n",
       "      <th>0</th>\n",
       "      <td>20</td>\n",
       "      <td>13000000.0</td>\n",
       "      <td>108.0</td>\n",
       "      <td>2019-03-07T00:00:00</td>\n",
       "      <td>3</td>\n",
       "      <td>2.70</td>\n",
       "      <td>16.0</td>\n",
       "      <td>51.0</td>\n",
       "      <td>8</td>\n",
       "      <td>NaN</td>\n",
       "      <td>...</td>\n",
       "      <td>25.0</td>\n",
       "      <td>NaN</td>\n",
       "      <td>Санкт-Петербург</td>\n",
       "      <td>18863.0</td>\n",
       "      <td>16028.0</td>\n",
       "      <td>1.0</td>\n",
       "      <td>482.0</td>\n",
       "      <td>2.0</td>\n",
       "      <td>755.0</td>\n",
       "      <td>NaN</td>\n",
       "    </tr>\n",
       "    <tr>\n",
       "      <th>1</th>\n",
       "      <td>7</td>\n",
       "      <td>3350000.0</td>\n",
       "      <td>40.4</td>\n",
       "      <td>2018-12-04T00:00:00</td>\n",
       "      <td>1</td>\n",
       "      <td>NaN</td>\n",
       "      <td>11.0</td>\n",
       "      <td>18.6</td>\n",
       "      <td>1</td>\n",
       "      <td>NaN</td>\n",
       "      <td>...</td>\n",
       "      <td>11.0</td>\n",
       "      <td>2.0</td>\n",
       "      <td>посёлок Шушары</td>\n",
       "      <td>12817.0</td>\n",
       "      <td>18603.0</td>\n",
       "      <td>0.0</td>\n",
       "      <td>NaN</td>\n",
       "      <td>0.0</td>\n",
       "      <td>NaN</td>\n",
       "      <td>81.0</td>\n",
       "    </tr>\n",
       "    <tr>\n",
       "      <th>2</th>\n",
       "      <td>10</td>\n",
       "      <td>5196000.0</td>\n",
       "      <td>56.0</td>\n",
       "      <td>2015-08-20T00:00:00</td>\n",
       "      <td>2</td>\n",
       "      <td>NaN</td>\n",
       "      <td>5.0</td>\n",
       "      <td>34.3</td>\n",
       "      <td>4</td>\n",
       "      <td>NaN</td>\n",
       "      <td>...</td>\n",
       "      <td>8.3</td>\n",
       "      <td>0.0</td>\n",
       "      <td>Санкт-Петербург</td>\n",
       "      <td>21741.0</td>\n",
       "      <td>13933.0</td>\n",
       "      <td>1.0</td>\n",
       "      <td>90.0</td>\n",
       "      <td>2.0</td>\n",
       "      <td>574.0</td>\n",
       "      <td>558.0</td>\n",
       "    </tr>\n",
       "    <tr>\n",
       "      <th>3</th>\n",
       "      <td>0</td>\n",
       "      <td>64900000.0</td>\n",
       "      <td>159.0</td>\n",
       "      <td>2015-07-24T00:00:00</td>\n",
       "      <td>3</td>\n",
       "      <td>NaN</td>\n",
       "      <td>14.0</td>\n",
       "      <td>NaN</td>\n",
       "      <td>9</td>\n",
       "      <td>NaN</td>\n",
       "      <td>...</td>\n",
       "      <td>NaN</td>\n",
       "      <td>0.0</td>\n",
       "      <td>Санкт-Петербург</td>\n",
       "      <td>28098.0</td>\n",
       "      <td>6800.0</td>\n",
       "      <td>2.0</td>\n",
       "      <td>84.0</td>\n",
       "      <td>3.0</td>\n",
       "      <td>234.0</td>\n",
       "      <td>424.0</td>\n",
       "    </tr>\n",
       "    <tr>\n",
       "      <th>4</th>\n",
       "      <td>2</td>\n",
       "      <td>10000000.0</td>\n",
       "      <td>100.0</td>\n",
       "      <td>2018-06-19T00:00:00</td>\n",
       "      <td>2</td>\n",
       "      <td>3.03</td>\n",
       "      <td>14.0</td>\n",
       "      <td>32.0</td>\n",
       "      <td>13</td>\n",
       "      <td>NaN</td>\n",
       "      <td>...</td>\n",
       "      <td>41.0</td>\n",
       "      <td>NaN</td>\n",
       "      <td>Санкт-Петербург</td>\n",
       "      <td>31856.0</td>\n",
       "      <td>8098.0</td>\n",
       "      <td>2.0</td>\n",
       "      <td>112.0</td>\n",
       "      <td>1.0</td>\n",
       "      <td>48.0</td>\n",
       "      <td>121.0</td>\n",
       "    </tr>\n",
       "  </tbody>\n",
       "</table>\n",
       "<p>5 rows × 22 columns</p>\n",
       "</div>"
      ],
      "text/plain": [
       "   total_images  last_price  total_area first_day_exposition  rooms  \\\n",
       "0            20  13000000.0       108.0  2019-03-07T00:00:00      3   \n",
       "1             7   3350000.0        40.4  2018-12-04T00:00:00      1   \n",
       "2            10   5196000.0        56.0  2015-08-20T00:00:00      2   \n",
       "3             0  64900000.0       159.0  2015-07-24T00:00:00      3   \n",
       "4             2  10000000.0       100.0  2018-06-19T00:00:00      2   \n",
       "\n",
       "   ceiling_height  floors_total  living_area  floor is_apartment  ...  \\\n",
       "0            2.70          16.0         51.0      8          NaN  ...   \n",
       "1             NaN          11.0         18.6      1          NaN  ...   \n",
       "2             NaN           5.0         34.3      4          NaN  ...   \n",
       "3             NaN          14.0          NaN      9          NaN  ...   \n",
       "4            3.03          14.0         32.0     13          NaN  ...   \n",
       "\n",
       "   kitchen_area  balcony    locality_name  airports_nearest  \\\n",
       "0          25.0      NaN  Санкт-Петербург           18863.0   \n",
       "1          11.0      2.0   посёлок Шушары           12817.0   \n",
       "2           8.3      0.0  Санкт-Петербург           21741.0   \n",
       "3           NaN      0.0  Санкт-Петербург           28098.0   \n",
       "4          41.0      NaN  Санкт-Петербург           31856.0   \n",
       "\n",
       "  cityCenters_nearest  parks_around3000  parks_nearest  ponds_around3000  \\\n",
       "0             16028.0               1.0          482.0               2.0   \n",
       "1             18603.0               0.0            NaN               0.0   \n",
       "2             13933.0               1.0           90.0               2.0   \n",
       "3              6800.0               2.0           84.0               3.0   \n",
       "4              8098.0               2.0          112.0               1.0   \n",
       "\n",
       "   ponds_nearest  days_exposition  \n",
       "0          755.0              NaN  \n",
       "1            NaN             81.0  \n",
       "2          574.0            558.0  \n",
       "3          234.0            424.0  \n",
       "4           48.0            121.0  \n",
       "\n",
       "[5 rows x 22 columns]"
      ]
     },
     "metadata": {},
     "output_type": "display_data"
    },
    {
     "name": "stdout",
     "output_type": "stream",
     "text": [
      "<class 'pandas.core.frame.DataFrame'>\n",
      "RangeIndex: 23699 entries, 0 to 23698\n",
      "Data columns (total 22 columns):\n",
      " #   Column                Non-Null Count  Dtype  \n",
      "---  ------                --------------  -----  \n",
      " 0   total_images          23699 non-null  int64  \n",
      " 1   last_price            23699 non-null  float64\n",
      " 2   total_area            23699 non-null  float64\n",
      " 3   first_day_exposition  23699 non-null  object \n",
      " 4   rooms                 23699 non-null  int64  \n",
      " 5   ceiling_height        14504 non-null  float64\n",
      " 6   floors_total          23613 non-null  float64\n",
      " 7   living_area           21796 non-null  float64\n",
      " 8   floor                 23699 non-null  int64  \n",
      " 9   is_apartment          2775 non-null   object \n",
      " 10  studio                23699 non-null  bool   \n",
      " 11  open_plan             23699 non-null  bool   \n",
      " 12  kitchen_area          21421 non-null  float64\n",
      " 13  balcony               12180 non-null  float64\n",
      " 14  locality_name         23650 non-null  object \n",
      " 15  airports_nearest      18157 non-null  float64\n",
      " 16  cityCenters_nearest   18180 non-null  float64\n",
      " 17  parks_around3000      18181 non-null  float64\n",
      " 18  parks_nearest         8079 non-null   float64\n",
      " 19  ponds_around3000      18181 non-null  float64\n",
      " 20  ponds_nearest         9110 non-null   float64\n",
      " 21  days_exposition       20518 non-null  float64\n",
      "dtypes: bool(2), float64(14), int64(3), object(3)\n",
      "memory usage: 3.7+ MB\n"
     ]
    }
   ],
   "source": [
    "import pandas as pd\n",
    "df = pd.read_csv('/datasets/real_estate_data.csv', sep='\\t')\n",
    "display(df.head())\n",
    "df.info()\n",
    "sales_count = df.shape[0] # понадобится позже\n"
   ]
  },
  {
   "cell_type": "markdown",
   "metadata": {},
   "source": [
    "## Предобработка данных"
   ]
  },
  {
   "cell_type": "markdown",
   "metadata": {},
   "source": [
    "### Переименовывание колонок"
   ]
  },
  {
   "cell_type": "code",
   "execution_count": 209,
   "metadata": {},
   "outputs": [
    {
     "name": "stdout",
     "output_type": "stream",
     "text": [
      "Index(['total_images', 'last_price', 'total_area', 'first_day_exposition',\n",
      "       'rooms', 'ceiling_height', 'floors_total', 'living_area', 'floor',\n",
      "       'is_apartment', 'studio', 'open_plan', 'kitchen_area', 'balcony',\n",
      "       'locality_name', 'airports_nearest', 'cityCenters_nearest',\n",
      "       'parks_around3000', 'parks_nearest', 'ponds_around3000',\n",
      "       'ponds_nearest', 'days_exposition'],\n",
      "      dtype='object')\n",
      "Index(['total_images', 'last_price', 'total_area', 'first_day_exposition',\n",
      "       'rooms', 'ceiling_height', 'floors_total', 'living_area', 'floor',\n",
      "       'is_apartment', 'studio', 'open_plan', 'kitchen_area', 'balcony',\n",
      "       'locality_name', 'airports_nearest', 'city_centers_nearest',\n",
      "       'parks_around_3000', 'parks_nearest', 'ponds_around_3000',\n",
      "       'ponds_nearest', 'days_exposition'],\n",
      "      dtype='object')\n"
     ]
    }
   ],
   "source": [
    "print(df.columns)\n",
    "df = df.rename(columns={'cityCenters_nearest': 'city_centers_nearest', 'parks_around3000': 'parks_around_3000', 'ponds_around3000': 'ponds_around_3000'})\n",
    "print(df.columns)"
   ]
  },
  {
   "cell_type": "markdown",
   "metadata": {},
   "source": [
    "### Заполнение пропусков"
   ]
  },
  {
   "cell_type": "code",
   "execution_count": 210,
   "metadata": {},
   "outputs": [
    {
     "name": "stdout",
     "output_type": "stream",
     "text": [
      "0\n"
     ]
    }
   ],
   "source": [
    "df['balcony'] = df['balcony'].fillna(0.0)\n",
    "print(df['balcony'].isna().sum())"
   ]
  },
  {
   "cell_type": "code",
   "execution_count": 211,
   "metadata": {},
   "outputs": [
    {
     "name": "stdout",
     "output_type": "stream",
     "text": [
      "0\n"
     ]
    }
   ],
   "source": [
    "df['is_apartment'] = df['is_apartment'].fillna(False)\n",
    "print(df['is_apartment'].isna().sum())"
   ]
  },
  {
   "cell_type": "code",
   "execution_count": 212,
   "metadata": {},
   "outputs": [
    {
     "data": {
      "text/html": [
       "<div>\n",
       "<style scoped>\n",
       "    .dataframe tbody tr th:only-of-type {\n",
       "        vertical-align: middle;\n",
       "    }\n",
       "\n",
       "    .dataframe tbody tr th {\n",
       "        vertical-align: top;\n",
       "    }\n",
       "\n",
       "    .dataframe thead th {\n",
       "        text-align: right;\n",
       "    }\n",
       "</style>\n",
       "<table border=\"1\" class=\"dataframe\">\n",
       "  <thead>\n",
       "    <tr style=\"text-align: right;\">\n",
       "      <th></th>\n",
       "      <th>total_images</th>\n",
       "      <th>last_price</th>\n",
       "      <th>total_area</th>\n",
       "      <th>first_day_exposition</th>\n",
       "      <th>rooms</th>\n",
       "      <th>ceiling_height</th>\n",
       "      <th>floors_total</th>\n",
       "      <th>living_area</th>\n",
       "      <th>floor</th>\n",
       "      <th>is_apartment</th>\n",
       "      <th>...</th>\n",
       "      <th>kitchen_area</th>\n",
       "      <th>balcony</th>\n",
       "      <th>locality_name</th>\n",
       "      <th>airports_nearest</th>\n",
       "      <th>city_centers_nearest</th>\n",
       "      <th>parks_around_3000</th>\n",
       "      <th>parks_nearest</th>\n",
       "      <th>ponds_around_3000</th>\n",
       "      <th>ponds_nearest</th>\n",
       "      <th>days_exposition</th>\n",
       "    </tr>\n",
       "  </thead>\n",
       "  <tbody>\n",
       "    <tr>\n",
       "      <th>1097</th>\n",
       "      <td>3</td>\n",
       "      <td>8600000.0</td>\n",
       "      <td>81.7</td>\n",
       "      <td>2016-04-15T00:00:00</td>\n",
       "      <td>3</td>\n",
       "      <td>3.55</td>\n",
       "      <td>5.0</td>\n",
       "      <td>50.8</td>\n",
       "      <td>2</td>\n",
       "      <td>False</td>\n",
       "      <td>...</td>\n",
       "      <td>8.8</td>\n",
       "      <td>0.0</td>\n",
       "      <td>NaN</td>\n",
       "      <td>23478.0</td>\n",
       "      <td>4258.0</td>\n",
       "      <td>0.0</td>\n",
       "      <td>NaN</td>\n",
       "      <td>0.0</td>\n",
       "      <td>NaN</td>\n",
       "      <td>147.0</td>\n",
       "    </tr>\n",
       "    <tr>\n",
       "      <th>2033</th>\n",
       "      <td>6</td>\n",
       "      <td>5398000.0</td>\n",
       "      <td>80.0</td>\n",
       "      <td>2017-05-30T00:00:00</td>\n",
       "      <td>3</td>\n",
       "      <td>NaN</td>\n",
       "      <td>4.0</td>\n",
       "      <td>42.6</td>\n",
       "      <td>2</td>\n",
       "      <td>False</td>\n",
       "      <td>...</td>\n",
       "      <td>18.6</td>\n",
       "      <td>0.0</td>\n",
       "      <td>NaN</td>\n",
       "      <td>NaN</td>\n",
       "      <td>NaN</td>\n",
       "      <td>NaN</td>\n",
       "      <td>NaN</td>\n",
       "      <td>NaN</td>\n",
       "      <td>NaN</td>\n",
       "      <td>34.0</td>\n",
       "    </tr>\n",
       "    <tr>\n",
       "      <th>2603</th>\n",
       "      <td>20</td>\n",
       "      <td>3351765.0</td>\n",
       "      <td>42.7</td>\n",
       "      <td>2015-09-20T00:00:00</td>\n",
       "      <td>1</td>\n",
       "      <td>NaN</td>\n",
       "      <td>24.0</td>\n",
       "      <td>15.6</td>\n",
       "      <td>3</td>\n",
       "      <td>False</td>\n",
       "      <td>...</td>\n",
       "      <td>10.7</td>\n",
       "      <td>0.0</td>\n",
       "      <td>NaN</td>\n",
       "      <td>22041.0</td>\n",
       "      <td>17369.0</td>\n",
       "      <td>0.0</td>\n",
       "      <td>NaN</td>\n",
       "      <td>1.0</td>\n",
       "      <td>374.0</td>\n",
       "      <td>276.0</td>\n",
       "    </tr>\n",
       "    <tr>\n",
       "      <th>2632</th>\n",
       "      <td>2</td>\n",
       "      <td>5130593.0</td>\n",
       "      <td>62.4</td>\n",
       "      <td>2015-10-11T00:00:00</td>\n",
       "      <td>2</td>\n",
       "      <td>NaN</td>\n",
       "      <td>24.0</td>\n",
       "      <td>33.1</td>\n",
       "      <td>21</td>\n",
       "      <td>False</td>\n",
       "      <td>...</td>\n",
       "      <td>8.2</td>\n",
       "      <td>0.0</td>\n",
       "      <td>NaN</td>\n",
       "      <td>22041.0</td>\n",
       "      <td>17369.0</td>\n",
       "      <td>0.0</td>\n",
       "      <td>NaN</td>\n",
       "      <td>1.0</td>\n",
       "      <td>374.0</td>\n",
       "      <td>256.0</td>\n",
       "    </tr>\n",
       "    <tr>\n",
       "      <th>3574</th>\n",
       "      <td>10</td>\n",
       "      <td>4200000.0</td>\n",
       "      <td>46.5</td>\n",
       "      <td>2016-05-28T00:00:00</td>\n",
       "      <td>2</td>\n",
       "      <td>NaN</td>\n",
       "      <td>5.0</td>\n",
       "      <td>30.8</td>\n",
       "      <td>5</td>\n",
       "      <td>False</td>\n",
       "      <td>...</td>\n",
       "      <td>6.5</td>\n",
       "      <td>0.0</td>\n",
       "      <td>NaN</td>\n",
       "      <td>27419.0</td>\n",
       "      <td>8127.0</td>\n",
       "      <td>0.0</td>\n",
       "      <td>NaN</td>\n",
       "      <td>1.0</td>\n",
       "      <td>603.0</td>\n",
       "      <td>45.0</td>\n",
       "    </tr>\n",
       "  </tbody>\n",
       "</table>\n",
       "<p>5 rows × 22 columns</p>\n",
       "</div>"
      ],
      "text/plain": [
       "      total_images  last_price  total_area first_day_exposition  rooms  \\\n",
       "1097             3   8600000.0        81.7  2016-04-15T00:00:00      3   \n",
       "2033             6   5398000.0        80.0  2017-05-30T00:00:00      3   \n",
       "2603            20   3351765.0        42.7  2015-09-20T00:00:00      1   \n",
       "2632             2   5130593.0        62.4  2015-10-11T00:00:00      2   \n",
       "3574            10   4200000.0        46.5  2016-05-28T00:00:00      2   \n",
       "\n",
       "      ceiling_height  floors_total  living_area  floor  is_apartment  ...  \\\n",
       "1097            3.55           5.0         50.8      2         False  ...   \n",
       "2033             NaN           4.0         42.6      2         False  ...   \n",
       "2603             NaN          24.0         15.6      3         False  ...   \n",
       "2632             NaN          24.0         33.1     21         False  ...   \n",
       "3574             NaN           5.0         30.8      5         False  ...   \n",
       "\n",
       "      kitchen_area  balcony  locality_name  airports_nearest  \\\n",
       "1097           8.8      0.0            NaN           23478.0   \n",
       "2033          18.6      0.0            NaN               NaN   \n",
       "2603          10.7      0.0            NaN           22041.0   \n",
       "2632           8.2      0.0            NaN           22041.0   \n",
       "3574           6.5      0.0            NaN           27419.0   \n",
       "\n",
       "     city_centers_nearest  parks_around_3000  parks_nearest  \\\n",
       "1097               4258.0                0.0            NaN   \n",
       "2033                  NaN                NaN            NaN   \n",
       "2603              17369.0                0.0            NaN   \n",
       "2632              17369.0                0.0            NaN   \n",
       "3574               8127.0                0.0            NaN   \n",
       "\n",
       "      ponds_around_3000  ponds_nearest  days_exposition  \n",
       "1097                0.0            NaN            147.0  \n",
       "2033                NaN            NaN             34.0  \n",
       "2603                1.0          374.0            276.0  \n",
       "2632                1.0          374.0            256.0  \n",
       "3574                1.0          603.0             45.0  \n",
       "\n",
       "[5 rows x 22 columns]"
      ]
     },
     "metadata": {},
     "output_type": "display_data"
    }
   ],
   "source": [
    "display(df.query('locality_name.isna()').head())"
   ]
  },
  {
   "cell_type": "code",
   "execution_count": 213,
   "metadata": {},
   "outputs": [
    {
     "name": "stdout",
     "output_type": "stream",
     "text": [
      "<class 'pandas.core.frame.DataFrame'>\n",
      "RangeIndex: 23699 entries, 0 to 23698\n",
      "Data columns (total 22 columns):\n",
      " #   Column                Non-Null Count  Dtype  \n",
      "---  ------                --------------  -----  \n",
      " 0   total_images          23699 non-null  int64  \n",
      " 1   last_price            23699 non-null  float64\n",
      " 2   total_area            23699 non-null  float64\n",
      " 3   first_day_exposition  23699 non-null  object \n",
      " 4   rooms                 23699 non-null  int64  \n",
      " 5   ceiling_height        14504 non-null  float64\n",
      " 6   floors_total          23613 non-null  float64\n",
      " 7   living_area           21796 non-null  float64\n",
      " 8   floor                 23699 non-null  int64  \n",
      " 9   is_apartment          23699 non-null  bool   \n",
      " 10  studio                23699 non-null  bool   \n",
      " 11  open_plan             23699 non-null  bool   \n",
      " 12  kitchen_area          21421 non-null  float64\n",
      " 13  balcony               23699 non-null  float64\n",
      " 14  locality_name         23650 non-null  object \n",
      " 15  airports_nearest      18157 non-null  float64\n",
      " 16  city_centers_nearest  18180 non-null  float64\n",
      " 17  parks_around_3000     18181 non-null  float64\n",
      " 18  parks_nearest         8079 non-null   float64\n",
      " 19  ponds_around_3000     18181 non-null  float64\n",
      " 20  ponds_nearest         9110 non-null   float64\n",
      " 21  days_exposition       20518 non-null  float64\n",
      "dtypes: bool(3), float64(14), int64(3), object(2)\n",
      "memory usage: 3.5+ MB\n"
     ]
    }
   ],
   "source": [
    "df.info()"
   ]
  },
  {
   "cell_type": "markdown",
   "metadata": {},
   "source": [
    "#### Вывод"
   ]
  },
  {
   "cell_type": "markdown",
   "metadata": {},
   "source": [
    "Обнаружены пропуски в столбцах, содержащих данные о высоте потолков, количестве этажей в доме, жилую площадь, площадь кухни, является ли апартаментами, названии населённого пункта, расстоянии до ближайшего аэропорта, расстоянии до центра города, числе парков в радиусе 3 км, расстоянии до ближайшего парка, числе водоёмов в радиусе 3 км, расстоянии до ближайшего водоёма, количестве дней было размещено объявление.\n",
    "\n",
    "Возможные причины, которые могли привести к пропускам в колонке balcony - отсутствие в квартире балкона.\n",
    "Возможные причины, которые могли привести к пропускам в колонке is_apartment - скорее всего квартира не является аппартаментами.\n",
    "Пропуски в остальных колонках могли произойти по техническим причинам или в случае, если не было указано их значение.\n",
    "Интересны пропуски в колонке locality_name, но по этим населенным пунктам данные в других колонках имеются, поэтому эти строки не удаляем.\n"
   ]
  },
  {
   "cell_type": "markdown",
   "metadata": {},
   "source": [
    "### Изменение типов данных"
   ]
  },
  {
   "cell_type": "code",
   "execution_count": 214,
   "metadata": {},
   "outputs": [],
   "source": [
    "df['balcony'] = df['balcony'].astype(int)\n"
   ]
  },
  {
   "cell_type": "code",
   "execution_count": 215,
   "metadata": {},
   "outputs": [
    {
     "name": "stdout",
     "output_type": "stream",
     "text": [
      "<class 'pandas.core.frame.DataFrame'>\n",
      "RangeIndex: 23699 entries, 0 to 23698\n",
      "Data columns (total 22 columns):\n",
      " #   Column                Non-Null Count  Dtype  \n",
      "---  ------                --------------  -----  \n",
      " 0   total_images          23699 non-null  int64  \n",
      " 1   last_price            23699 non-null  float64\n",
      " 2   total_area            23699 non-null  float64\n",
      " 3   first_day_exposition  23699 non-null  object \n",
      " 4   rooms                 23699 non-null  int64  \n",
      " 5   ceiling_height        14504 non-null  float64\n",
      " 6   floors_total          23613 non-null  float64\n",
      " 7   living_area           21796 non-null  float64\n",
      " 8   floor                 23699 non-null  int64  \n",
      " 9   is_apartment          23699 non-null  bool   \n",
      " 10  studio                23699 non-null  bool   \n",
      " 11  open_plan             23699 non-null  bool   \n",
      " 12  kitchen_area          21421 non-null  float64\n",
      " 13  balcony               23699 non-null  int64  \n",
      " 14  locality_name         23650 non-null  object \n",
      " 15  airports_nearest      18157 non-null  float64\n",
      " 16  city_centers_nearest  18180 non-null  float64\n",
      " 17  parks_around_3000     18181 non-null  float64\n",
      " 18  parks_nearest         8079 non-null   float64\n",
      " 19  ponds_around_3000     18181 non-null  float64\n",
      " 20  ponds_nearest         9110 non-null   float64\n",
      " 21  days_exposition       20518 non-null  float64\n",
      "dtypes: bool(3), float64(13), int64(4), object(2)\n",
      "memory usage: 3.5+ MB\n"
     ]
    },
    {
     "data": {
      "text/html": [
       "<div>\n",
       "<style scoped>\n",
       "    .dataframe tbody tr th:only-of-type {\n",
       "        vertical-align: middle;\n",
       "    }\n",
       "\n",
       "    .dataframe tbody tr th {\n",
       "        vertical-align: top;\n",
       "    }\n",
       "\n",
       "    .dataframe thead th {\n",
       "        text-align: right;\n",
       "    }\n",
       "</style>\n",
       "<table border=\"1\" class=\"dataframe\">\n",
       "  <thead>\n",
       "    <tr style=\"text-align: right;\">\n",
       "      <th></th>\n",
       "      <th>total_images</th>\n",
       "      <th>last_price</th>\n",
       "      <th>total_area</th>\n",
       "      <th>first_day_exposition</th>\n",
       "      <th>rooms</th>\n",
       "      <th>ceiling_height</th>\n",
       "      <th>floors_total</th>\n",
       "      <th>living_area</th>\n",
       "      <th>floor</th>\n",
       "      <th>is_apartment</th>\n",
       "      <th>...</th>\n",
       "      <th>kitchen_area</th>\n",
       "      <th>balcony</th>\n",
       "      <th>locality_name</th>\n",
       "      <th>airports_nearest</th>\n",
       "      <th>city_centers_nearest</th>\n",
       "      <th>parks_around_3000</th>\n",
       "      <th>parks_nearest</th>\n",
       "      <th>ponds_around_3000</th>\n",
       "      <th>ponds_nearest</th>\n",
       "      <th>days_exposition</th>\n",
       "    </tr>\n",
       "  </thead>\n",
       "  <tbody>\n",
       "    <tr>\n",
       "      <th>0</th>\n",
       "      <td>20</td>\n",
       "      <td>13000000.0</td>\n",
       "      <td>108.0</td>\n",
       "      <td>2019-03-07T00:00:00</td>\n",
       "      <td>3</td>\n",
       "      <td>2.70</td>\n",
       "      <td>16.0</td>\n",
       "      <td>51.0</td>\n",
       "      <td>8</td>\n",
       "      <td>False</td>\n",
       "      <td>...</td>\n",
       "      <td>25.0</td>\n",
       "      <td>0</td>\n",
       "      <td>Санкт-Петербург</td>\n",
       "      <td>18863.0</td>\n",
       "      <td>16028.0</td>\n",
       "      <td>1.0</td>\n",
       "      <td>482.0</td>\n",
       "      <td>2.0</td>\n",
       "      <td>755.0</td>\n",
       "      <td>NaN</td>\n",
       "    </tr>\n",
       "    <tr>\n",
       "      <th>1</th>\n",
       "      <td>7</td>\n",
       "      <td>3350000.0</td>\n",
       "      <td>40.4</td>\n",
       "      <td>2018-12-04T00:00:00</td>\n",
       "      <td>1</td>\n",
       "      <td>NaN</td>\n",
       "      <td>11.0</td>\n",
       "      <td>18.6</td>\n",
       "      <td>1</td>\n",
       "      <td>False</td>\n",
       "      <td>...</td>\n",
       "      <td>11.0</td>\n",
       "      <td>2</td>\n",
       "      <td>посёлок Шушары</td>\n",
       "      <td>12817.0</td>\n",
       "      <td>18603.0</td>\n",
       "      <td>0.0</td>\n",
       "      <td>NaN</td>\n",
       "      <td>0.0</td>\n",
       "      <td>NaN</td>\n",
       "      <td>81.0</td>\n",
       "    </tr>\n",
       "    <tr>\n",
       "      <th>2</th>\n",
       "      <td>10</td>\n",
       "      <td>5196000.0</td>\n",
       "      <td>56.0</td>\n",
       "      <td>2015-08-20T00:00:00</td>\n",
       "      <td>2</td>\n",
       "      <td>NaN</td>\n",
       "      <td>5.0</td>\n",
       "      <td>34.3</td>\n",
       "      <td>4</td>\n",
       "      <td>False</td>\n",
       "      <td>...</td>\n",
       "      <td>8.3</td>\n",
       "      <td>0</td>\n",
       "      <td>Санкт-Петербург</td>\n",
       "      <td>21741.0</td>\n",
       "      <td>13933.0</td>\n",
       "      <td>1.0</td>\n",
       "      <td>90.0</td>\n",
       "      <td>2.0</td>\n",
       "      <td>574.0</td>\n",
       "      <td>558.0</td>\n",
       "    </tr>\n",
       "    <tr>\n",
       "      <th>3</th>\n",
       "      <td>0</td>\n",
       "      <td>64900000.0</td>\n",
       "      <td>159.0</td>\n",
       "      <td>2015-07-24T00:00:00</td>\n",
       "      <td>3</td>\n",
       "      <td>NaN</td>\n",
       "      <td>14.0</td>\n",
       "      <td>NaN</td>\n",
       "      <td>9</td>\n",
       "      <td>False</td>\n",
       "      <td>...</td>\n",
       "      <td>NaN</td>\n",
       "      <td>0</td>\n",
       "      <td>Санкт-Петербург</td>\n",
       "      <td>28098.0</td>\n",
       "      <td>6800.0</td>\n",
       "      <td>2.0</td>\n",
       "      <td>84.0</td>\n",
       "      <td>3.0</td>\n",
       "      <td>234.0</td>\n",
       "      <td>424.0</td>\n",
       "    </tr>\n",
       "    <tr>\n",
       "      <th>4</th>\n",
       "      <td>2</td>\n",
       "      <td>10000000.0</td>\n",
       "      <td>100.0</td>\n",
       "      <td>2018-06-19T00:00:00</td>\n",
       "      <td>2</td>\n",
       "      <td>3.03</td>\n",
       "      <td>14.0</td>\n",
       "      <td>32.0</td>\n",
       "      <td>13</td>\n",
       "      <td>False</td>\n",
       "      <td>...</td>\n",
       "      <td>41.0</td>\n",
       "      <td>0</td>\n",
       "      <td>Санкт-Петербург</td>\n",
       "      <td>31856.0</td>\n",
       "      <td>8098.0</td>\n",
       "      <td>2.0</td>\n",
       "      <td>112.0</td>\n",
       "      <td>1.0</td>\n",
       "      <td>48.0</td>\n",
       "      <td>121.0</td>\n",
       "    </tr>\n",
       "  </tbody>\n",
       "</table>\n",
       "<p>5 rows × 22 columns</p>\n",
       "</div>"
      ],
      "text/plain": [
       "   total_images  last_price  total_area first_day_exposition  rooms  \\\n",
       "0            20  13000000.0       108.0  2019-03-07T00:00:00      3   \n",
       "1             7   3350000.0        40.4  2018-12-04T00:00:00      1   \n",
       "2            10   5196000.0        56.0  2015-08-20T00:00:00      2   \n",
       "3             0  64900000.0       159.0  2015-07-24T00:00:00      3   \n",
       "4             2  10000000.0       100.0  2018-06-19T00:00:00      2   \n",
       "\n",
       "   ceiling_height  floors_total  living_area  floor  is_apartment  ...  \\\n",
       "0            2.70          16.0         51.0      8         False  ...   \n",
       "1             NaN          11.0         18.6      1         False  ...   \n",
       "2             NaN           5.0         34.3      4         False  ...   \n",
       "3             NaN          14.0          NaN      9         False  ...   \n",
       "4            3.03          14.0         32.0     13         False  ...   \n",
       "\n",
       "   kitchen_area  balcony    locality_name  airports_nearest  \\\n",
       "0          25.0        0  Санкт-Петербург           18863.0   \n",
       "1          11.0        2   посёлок Шушары           12817.0   \n",
       "2           8.3        0  Санкт-Петербург           21741.0   \n",
       "3           NaN        0  Санкт-Петербург           28098.0   \n",
       "4          41.0        0  Санкт-Петербург           31856.0   \n",
       "\n",
       "  city_centers_nearest  parks_around_3000  parks_nearest  ponds_around_3000  \\\n",
       "0              16028.0                1.0          482.0                2.0   \n",
       "1              18603.0                0.0            NaN                0.0   \n",
       "2              13933.0                1.0           90.0                2.0   \n",
       "3               6800.0                2.0           84.0                3.0   \n",
       "4               8098.0                2.0          112.0                1.0   \n",
       "\n",
       "   ponds_nearest  days_exposition  \n",
       "0          755.0              NaN  \n",
       "1            NaN             81.0  \n",
       "2          574.0            558.0  \n",
       "3          234.0            424.0  \n",
       "4           48.0            121.0  \n",
       "\n",
       "[5 rows x 22 columns]"
      ]
     },
     "metadata": {},
     "output_type": "display_data"
    }
   ],
   "source": [
    "df.info()\n",
    "display(df.head())\n"
   ]
  },
  {
   "cell_type": "markdown",
   "metadata": {},
   "source": [
    "#### Вывод"
   ]
  },
  {
   "cell_type": "markdown",
   "metadata": {},
   "source": [
    "Изменен тип данных в столбце количества балконов, так как в реальности это не дробные значения, поэтому с ними удобнее работать как с целыми числами.\n",
    "Типы других колонок с float64 не стала менять, так как уместен дробный формам или имеются пропуски значений."
   ]
  },
  {
   "cell_type": "markdown",
   "metadata": {},
   "source": [
    "### Проверка на дубликаты"
   ]
  },
  {
   "cell_type": "code",
   "execution_count": 216,
   "metadata": {},
   "outputs": [
    {
     "name": "stdout",
     "output_type": "stream",
     "text": [
      "0\n"
     ]
    }
   ],
   "source": [
    "print(df.duplicated().sum())"
   ]
  },
  {
   "cell_type": "markdown",
   "metadata": {},
   "source": [
    "#### Вывод"
   ]
  },
  {
   "cell_type": "markdown",
   "metadata": {},
   "source": [
    "Дубликатов не найдено."
   ]
  },
  {
   "cell_type": "markdown",
   "metadata": {},
   "source": [
    "### Вывод"
   ]
  },
  {
   "cell_type": "markdown",
   "metadata": {},
   "source": [
    "<div class=\"alert alert-info\"> <b>Добавила вывод по шагу предобработки данных</b>\n",
    "\n",
    "1. Обнаружены пропуски в некоторых столбцах. Для удобства дальнейшего анализа в случае отсутствия некоторых данных можно заполнять поля так:\n",
    "- является ли апартаментами - False (bool)\n",
    "- парков в радиусе 3 км - False (bool)\n",
    "- числе водоёмов в радиусе 3 км - False (bool)\n",
    "\n",
    "2. Обнаружены пропуски в некоторых колонках (их можно сделать обязательными, если они необязательные): высота потолков, количество этажей в доме, жилая площадь, площадь кухни, является ли апартаментами, название населённого пункта, расстояние до ближайшего аэропорта, расстояние до центра города, число парков в радиусе 3 км, расстояние до ближайшего парка, число водоёмов в радиусе 3 км, расстояние до ближайшего водоёма, наличие балкона.\n",
    "\n",
    "3. Особенно критичны пропуски в колонке `locality_name`. Отсутствие названия населенного пункта делает эти данные бесполезными для анализа.\n",
    "\n",
    "4. Подозрительны пропуски в колонке о количестве дней размещения объявление: возможно, есть какой-то сбой в сборе этой статистики системой или же можно настроить заполнение этой колонки значением `0`, если объявление удалено в день размещения.\n",
    "    \n",
    "5. Изменен тип данных количества балконов. В интерфейсе тип этой колонки лучше также сделать типом `int`.\n",
    "</div>"
   ]
  },
  {
   "cell_type": "markdown",
   "metadata": {},
   "source": [
    "## Расчёты и добавление результатов в таблицу"
   ]
  },
  {
   "cell_type": "code",
   "execution_count": 217,
   "metadata": {},
   "outputs": [
    {
     "data": {
      "text/html": [
       "<div>\n",
       "<style scoped>\n",
       "    .dataframe tbody tr th:only-of-type {\n",
       "        vertical-align: middle;\n",
       "    }\n",
       "\n",
       "    .dataframe tbody tr th {\n",
       "        vertical-align: top;\n",
       "    }\n",
       "\n",
       "    .dataframe thead th {\n",
       "        text-align: right;\n",
       "    }\n",
       "</style>\n",
       "<table border=\"1\" class=\"dataframe\">\n",
       "  <thead>\n",
       "    <tr style=\"text-align: right;\">\n",
       "      <th></th>\n",
       "      <th>total_images</th>\n",
       "      <th>last_price</th>\n",
       "      <th>total_area</th>\n",
       "      <th>first_day_exposition</th>\n",
       "      <th>rooms</th>\n",
       "      <th>ceiling_height</th>\n",
       "      <th>floors_total</th>\n",
       "      <th>living_area</th>\n",
       "      <th>floor</th>\n",
       "      <th>is_apartment</th>\n",
       "      <th>...</th>\n",
       "      <th>ponds_around_3000</th>\n",
       "      <th>ponds_nearest</th>\n",
       "      <th>days_exposition</th>\n",
       "      <th>price_per_square_meter</th>\n",
       "      <th>exposition_weekday</th>\n",
       "      <th>exposition_month</th>\n",
       "      <th>exposition_year</th>\n",
       "      <th>living_to_total_area_share</th>\n",
       "      <th>kitchen_to_total_area_share</th>\n",
       "      <th>floor_category</th>\n",
       "    </tr>\n",
       "  </thead>\n",
       "  <tbody>\n",
       "    <tr>\n",
       "      <th>0</th>\n",
       "      <td>20</td>\n",
       "      <td>13000000.0</td>\n",
       "      <td>108.0</td>\n",
       "      <td>2019-03-07</td>\n",
       "      <td>3</td>\n",
       "      <td>2.70</td>\n",
       "      <td>16.0</td>\n",
       "      <td>51.0</td>\n",
       "      <td>8</td>\n",
       "      <td>False</td>\n",
       "      <td>...</td>\n",
       "      <td>2.0</td>\n",
       "      <td>755.0</td>\n",
       "      <td>NaN</td>\n",
       "      <td>120370.37</td>\n",
       "      <td>3</td>\n",
       "      <td>3</td>\n",
       "      <td>2019</td>\n",
       "      <td>0.47</td>\n",
       "      <td>0.23</td>\n",
       "      <td>другой</td>\n",
       "    </tr>\n",
       "    <tr>\n",
       "      <th>1</th>\n",
       "      <td>7</td>\n",
       "      <td>3350000.0</td>\n",
       "      <td>40.4</td>\n",
       "      <td>2018-12-04</td>\n",
       "      <td>1</td>\n",
       "      <td>NaN</td>\n",
       "      <td>11.0</td>\n",
       "      <td>18.6</td>\n",
       "      <td>1</td>\n",
       "      <td>False</td>\n",
       "      <td>...</td>\n",
       "      <td>0.0</td>\n",
       "      <td>NaN</td>\n",
       "      <td>81.0</td>\n",
       "      <td>82920.79</td>\n",
       "      <td>1</td>\n",
       "      <td>12</td>\n",
       "      <td>2018</td>\n",
       "      <td>0.46</td>\n",
       "      <td>0.27</td>\n",
       "      <td>первый</td>\n",
       "    </tr>\n",
       "    <tr>\n",
       "      <th>2</th>\n",
       "      <td>10</td>\n",
       "      <td>5196000.0</td>\n",
       "      <td>56.0</td>\n",
       "      <td>2015-08-20</td>\n",
       "      <td>2</td>\n",
       "      <td>NaN</td>\n",
       "      <td>5.0</td>\n",
       "      <td>34.3</td>\n",
       "      <td>4</td>\n",
       "      <td>False</td>\n",
       "      <td>...</td>\n",
       "      <td>2.0</td>\n",
       "      <td>574.0</td>\n",
       "      <td>558.0</td>\n",
       "      <td>92785.71</td>\n",
       "      <td>3</td>\n",
       "      <td>8</td>\n",
       "      <td>2015</td>\n",
       "      <td>0.61</td>\n",
       "      <td>0.15</td>\n",
       "      <td>другой</td>\n",
       "    </tr>\n",
       "    <tr>\n",
       "      <th>3</th>\n",
       "      <td>0</td>\n",
       "      <td>64900000.0</td>\n",
       "      <td>159.0</td>\n",
       "      <td>2015-07-24</td>\n",
       "      <td>3</td>\n",
       "      <td>NaN</td>\n",
       "      <td>14.0</td>\n",
       "      <td>NaN</td>\n",
       "      <td>9</td>\n",
       "      <td>False</td>\n",
       "      <td>...</td>\n",
       "      <td>3.0</td>\n",
       "      <td>234.0</td>\n",
       "      <td>424.0</td>\n",
       "      <td>408176.10</td>\n",
       "      <td>4</td>\n",
       "      <td>7</td>\n",
       "      <td>2015</td>\n",
       "      <td>NaN</td>\n",
       "      <td>NaN</td>\n",
       "      <td>другой</td>\n",
       "    </tr>\n",
       "    <tr>\n",
       "      <th>4</th>\n",
       "      <td>2</td>\n",
       "      <td>10000000.0</td>\n",
       "      <td>100.0</td>\n",
       "      <td>2018-06-19</td>\n",
       "      <td>2</td>\n",
       "      <td>3.03</td>\n",
       "      <td>14.0</td>\n",
       "      <td>32.0</td>\n",
       "      <td>13</td>\n",
       "      <td>False</td>\n",
       "      <td>...</td>\n",
       "      <td>1.0</td>\n",
       "      <td>48.0</td>\n",
       "      <td>121.0</td>\n",
       "      <td>100000.00</td>\n",
       "      <td>1</td>\n",
       "      <td>6</td>\n",
       "      <td>2018</td>\n",
       "      <td>0.32</td>\n",
       "      <td>0.41</td>\n",
       "      <td>другой</td>\n",
       "    </tr>\n",
       "  </tbody>\n",
       "</table>\n",
       "<p>5 rows × 29 columns</p>\n",
       "</div>"
      ],
      "text/plain": [
       "   total_images  last_price  total_area first_day_exposition  rooms  \\\n",
       "0            20  13000000.0       108.0           2019-03-07      3   \n",
       "1             7   3350000.0        40.4           2018-12-04      1   \n",
       "2            10   5196000.0        56.0           2015-08-20      2   \n",
       "3             0  64900000.0       159.0           2015-07-24      3   \n",
       "4             2  10000000.0       100.0           2018-06-19      2   \n",
       "\n",
       "   ceiling_height  floors_total  living_area  floor  is_apartment  ...  \\\n",
       "0            2.70          16.0         51.0      8         False  ...   \n",
       "1             NaN          11.0         18.6      1         False  ...   \n",
       "2             NaN           5.0         34.3      4         False  ...   \n",
       "3             NaN          14.0          NaN      9         False  ...   \n",
       "4            3.03          14.0         32.0     13         False  ...   \n",
       "\n",
       "   ponds_around_3000  ponds_nearest  days_exposition  price_per_square_meter  \\\n",
       "0                2.0          755.0              NaN               120370.37   \n",
       "1                0.0            NaN             81.0                82920.79   \n",
       "2                2.0          574.0            558.0                92785.71   \n",
       "3                3.0          234.0            424.0               408176.10   \n",
       "4                1.0           48.0            121.0               100000.00   \n",
       "\n",
       "  exposition_weekday  exposition_month  exposition_year  \\\n",
       "0                  3                 3             2019   \n",
       "1                  1                12             2018   \n",
       "2                  3                 8             2015   \n",
       "3                  4                 7             2015   \n",
       "4                  1                 6             2018   \n",
       "\n",
       "   living_to_total_area_share  kitchen_to_total_area_share  floor_category  \n",
       "0                        0.47                         0.23          другой  \n",
       "1                        0.46                         0.27          первый  \n",
       "2                        0.61                         0.15          другой  \n",
       "3                         NaN                          NaN          другой  \n",
       "4                        0.32                         0.41          другой  \n",
       "\n",
       "[5 rows x 29 columns]"
      ]
     },
     "metadata": {},
     "output_type": "display_data"
    }
   ],
   "source": [
    "df['price_per_square_meter'] = (df['last_price'] / df['total_area']).round(2)\n",
    "df['first_day_exposition'] = pd.to_datetime(df['first_day_exposition'], format='%Y-%m-%dT%H:%M:%S')\n",
    "df['exposition_weekday'] = df['first_day_exposition'].dt.weekday\n",
    "df['exposition_month'] = df['first_day_exposition'].dt.month\n",
    "df['exposition_year'] = df['first_day_exposition'].dt.year\n",
    "df['living_to_total_area_share'] = (df['living_area'] / df['total_area']).round(2)\n",
    "df['kitchen_to_total_area_share'] = (df['kitchen_area'] / df['total_area']).round(2)\n",
    "\n",
    "def floor_categories(row):\n",
    "    if row['floor'] == 1:\n",
    "        return 'первый'\n",
    "    elif row['floor'] == row['floors_total']:\n",
    "        return 'последний'\n",
    "    else:\n",
    "        return 'другой'\n",
    "df['floor_category'] = df.apply(floor_categories, axis=1)\n",
    "\n",
    "display(df.head())"
   ]
  },
  {
   "cell_type": "markdown",
   "metadata": {},
   "source": [
    "## Исследовательский анализ данных"
   ]
  },
  {
   "cell_type": "markdown",
   "metadata": {},
   "source": [
    "### Изучение площади"
   ]
  },
  {
   "cell_type": "code",
   "execution_count": 218,
   "metadata": {
    "scrolled": false
   },
   "outputs": [
    {
     "name": "stdout",
     "output_type": "stream",
     "text": [
      "count    23699.000000\n",
      "mean        60.348651\n",
      "std         35.654083\n",
      "min         12.000000\n",
      "25%         40.000000\n",
      "50%         52.000000\n",
      "75%         69.900000\n",
      "max        900.000000\n",
      "Name: total_area, dtype: float64\n"
     ]
    },
    {
     "data": {
      "text/plain": [
       "<AxesSubplot:>"
      ]
     },
     "execution_count": 218,
     "metadata": {},
     "output_type": "execute_result"
    },
    {
     "data": {
      "image/png": "[encoded data removed]",
      "text/plain": [
       "<Figure size 432x288 with 1 Axes>"
      ]
     },
     "metadata": {
      "needs_background": "light"
     },
     "output_type": "display_data"
    }
   ],
   "source": [
    "print(df['total_area'].describe())\n",
    "df.boxplot(column='total_area')\n"
   ]
  },
  {
   "cell_type": "code",
   "execution_count": 219,
   "metadata": {},
   "outputs": [
    {
     "data": {
      "text/plain": [
       "<AxesSubplot:>"
      ]
     },
     "execution_count": 219,
     "metadata": {},
     "output_type": "execute_result"
    },
    {
     "data": {
      "image/png": "[encoded data removed]",
      "text/plain": [
       "<Figure size 432x288 with 1 Axes>"
      ]
     },
     "metadata": {
      "needs_background": "light"
     },
     "output_type": "display_data"
    }
   ],
   "source": [
    "df['total_area'].hist(bins=900, legend=True, grid=True)"
   ]
  },
  {
   "cell_type": "markdown",
   "metadata": {},
   "source": [
    "### Изучение цены"
   ]
  },
  {
   "cell_type": "code",
   "execution_count": 220,
   "metadata": {},
   "outputs": [
    {
     "name": "stdout",
     "output_type": "stream",
     "text": [
      "count    2.369900e+04\n",
      "mean     6.541549e+06\n",
      "std      1.088701e+07\n",
      "min      1.219000e+04\n",
      "25%      3.400000e+06\n",
      "50%      4.650000e+06\n",
      "75%      6.800000e+06\n",
      "max      7.630000e+08\n",
      "Name: last_price, dtype: float64\n"
     ]
    },
    {
     "data": {
      "text/plain": [
       "<AxesSubplot:>"
      ]
     },
     "execution_count": 220,
     "metadata": {},
     "output_type": "execute_result"
    },
    {
     "data": {
      "image/png": "[encoded data removed]",
      "text/plain": [
       "<Figure size 432x288 with 1 Axes>"
      ]
     },
     "metadata": {
      "needs_background": "light"
     },
     "output_type": "display_data"
    }
   ],
   "source": [
    "print(df['last_price'].describe())\n",
    "df.boxplot(column='last_price', grid=True)"
   ]
  },
  {
   "cell_type": "code",
   "execution_count": 221,
   "metadata": {
    "scrolled": true
   },
   "outputs": [
    {
     "data": {
      "text/plain": [
       "<AxesSubplot:>"
      ]
     },
     "execution_count": 221,
     "metadata": {},
     "output_type": "execute_result"
    },
    {
     "data": {
      "image/png": "[encoded data removed]",
      "text/plain": [
       "<Figure size 432x288 with 1 Axes>"
      ]
     },
     "metadata": {
      "needs_background": "light"
     },
     "output_type": "display_data"
    }
   ],
   "source": [
    "df['last_price'].hist(bins=100, legend=True, grid=True)"
   ]
  },
  {
   "cell_type": "markdown",
   "metadata": {},
   "source": [
    "### Изучение числа комнат"
   ]
  },
  {
   "cell_type": "code",
   "execution_count": 222,
   "metadata": {},
   "outputs": [
    {
     "name": "stdout",
     "output_type": "stream",
     "text": [
      "count    23699.000000\n",
      "mean         2.070636\n",
      "std          1.078405\n",
      "min          0.000000\n",
      "25%          1.000000\n",
      "50%          2.000000\n",
      "75%          3.000000\n",
      "max         19.000000\n",
      "Name: rooms, dtype: float64\n"
     ]
    },
    {
     "data": {
      "text/plain": [
       "<AxesSubplot:>"
      ]
     },
     "execution_count": 222,
     "metadata": {},
     "output_type": "execute_result"
    },
    {
     "data": {
      "image/png": "[encoded data removed]",
      "text/plain": [
       "<Figure size 432x288 with 1 Axes>"
      ]
     },
     "metadata": {
      "needs_background": "light"
     },
     "output_type": "display_data"
    }
   ],
   "source": [
    "print(df['rooms'].describe())\n",
    "df.boxplot(column='rooms')"
   ]
  },
  {
   "cell_type": "code",
   "execution_count": 223,
   "metadata": {
    "scrolled": true
   },
   "outputs": [
    {
     "data": {
      "text/plain": [
       "<AxesSubplot:>"
      ]
     },
     "execution_count": 223,
     "metadata": {},
     "output_type": "execute_result"
    },
    {
     "data": {
      "image/png": "[encoded data removed]",
      "text/plain": [
       "<Figure size 432x288 with 1 Axes>"
      ]
     },
     "metadata": {
      "needs_background": "light"
     },
     "output_type": "display_data"
    }
   ],
   "source": [
    "df['rooms'].hist(bins=15, legend=True, grid=True)"
   ]
  },
  {
   "cell_type": "markdown",
   "metadata": {},
   "source": [
    "### Изучение высоты потолков"
   ]
  },
  {
   "cell_type": "code",
   "execution_count": 224,
   "metadata": {},
   "outputs": [
    {
     "name": "stdout",
     "output_type": "stream",
     "text": [
      "count    14504.000000\n",
      "mean         2.771499\n",
      "std          1.261056\n",
      "min          1.000000\n",
      "25%          2.520000\n",
      "50%          2.650000\n",
      "75%          2.800000\n",
      "max        100.000000\n",
      "Name: ceiling_height, dtype: float64\n"
     ]
    },
    {
     "data": {
      "text/plain": [
       "<AxesSubplot:>"
      ]
     },
     "execution_count": 224,
     "metadata": {},
     "output_type": "execute_result"
    },
    {
     "data": {
      "image/png": "[encoded data removed]",
      "text/plain": [
       "<Figure size 432x288 with 1 Axes>"
      ]
     },
     "metadata": {
      "needs_background": "light"
     },
     "output_type": "display_data"
    }
   ],
   "source": [
    "print(df['ceiling_height'].describe())\n",
    "df.boxplot(column='ceiling_height')\n"
   ]
  },
  {
   "cell_type": "code",
   "execution_count": 225,
   "metadata": {},
   "outputs": [
    {
     "data": {
      "text/plain": [
       "<AxesSubplot:>"
      ]
     },
     "execution_count": 225,
     "metadata": {},
     "output_type": "execute_result"
    },
    {
     "data": {
      "image/png": "[encoded data removed]",
      "text/plain": [
       "<Figure size 432x288 with 1 Axes>"
      ]
     },
     "metadata": {
      "needs_background": "light"
     },
     "output_type": "display_data"
    }
   ],
   "source": [
    "df['ceiling_height'].hist(bins=100, legend=True, grid=True)\n"
   ]
  },
  {
   "cell_type": "markdown",
   "metadata": {},
   "source": [
    "### Изучение времени продажи"
   ]
  },
  {
   "cell_type": "code",
   "execution_count": 226,
   "metadata": {},
   "outputs": [
    {
     "name": "stdout",
     "output_type": "stream",
     "text": [
      "count    20518.000000\n",
      "mean       180.888634\n",
      "std        219.727988\n",
      "min          1.000000\n",
      "25%         45.000000\n",
      "50%         95.000000\n",
      "75%        232.000000\n",
      "max       1580.000000\n",
      "Name: days_exposition, dtype: float64\n"
     ]
    },
    {
     "data": {
      "text/plain": [
       "<AxesSubplot:>"
      ]
     },
     "execution_count": 226,
     "metadata": {},
     "output_type": "execute_result"
    },
    {
     "data": {
      "image/png": "[encoded data removed]",
      "text/plain": [
       "<Figure size 432x288 with 1 Axes>"
      ]
     },
     "metadata": {
      "needs_background": "light"
     },
     "output_type": "display_data"
    }
   ],
   "source": [
    "print(df['days_exposition'].describe())\n",
    "df.boxplot(column='days_exposition')\n"
   ]
  },
  {
   "cell_type": "code",
   "execution_count": 227,
   "metadata": {
    "scrolled": true
   },
   "outputs": [
    {
     "data": {
      "text/plain": [
       "<AxesSubplot:>"
      ]
     },
     "execution_count": 227,
     "metadata": {},
     "output_type": "execute_result"
    },
    {
     "data": {
      "image/png": "[encoded data removed]",
      "text/plain": [
       "<Figure size 432x288 with 1 Axes>"
      ]
     },
     "metadata": {
      "needs_background": "light"
     },
     "output_type": "display_data"
    }
   ],
   "source": [
    "df['days_exposition'].hist(bins=100)"
   ]
  },
  {
   "cell_type": "code",
   "execution_count": 234,
   "metadata": {
    "scrolled": true
   },
   "outputs": [
    {
     "name": "stdout",
     "output_type": "stream",
     "text": [
      "Количество очень долгих продаж: 7.4%\n"
     ]
    }
   ],
   "source": [
    "to_long_sales_percent = df.query('days_exposition > 500')['days_exposition'].count() / sales_count\n",
    "print(f'Количество очень долгих продаж: {to_long_sales_percent:.1%}')"
   ]
  },
  {
   "cell_type": "markdown",
   "metadata": {},
   "source": [
    "<div class=\"alert alert-info\">\n",
    "1. Среднее время продажи квартир - 95 дней (медиана). Но медиана сильно отличается от среднего - в 2 раза, значит имеются выбросы - слишком длительные продажи. Действительно, по данным диаграммы \"ящик с усами\", имеются сильно выбивающиеся по времени продажи квартиры - более 500 дней. Таких продаж всего около 7% - их лучше удалить из анализа.\n",
    "    \n",
    "2. Также подозрительны продажи за 1 день - слишком быстро: обычно покупатели или торгуются, или еще не собрали нужную сумму, или еще присматриваются к квартирам и другие причины. К тому же сначала нужно договориться с покупателем об условиях продажи, удостовериться в точном решении о покупке, а затем обычно только объявление снимают с продажи.\n",
    "\n",
    "</div>"
   ]
  },
  {
   "cell_type": "markdown",
   "metadata": {},
   "source": [
    "### Удаление редких и выбивающихся значений"
   ]
  },
  {
   "cell_type": "code",
   "execution_count": null,
   "metadata": {},
   "outputs": [],
   "source": [
    "df = df.query('total_area <= 100')\n",
    "df['total_area'].hist(bins=90, legend=True, grid=True)\n"
   ]
  },
  {
   "cell_type": "code",
   "execution_count": null,
   "metadata": {},
   "outputs": [],
   "source": [
    "df = df.query('last_price < 1.000000e+07')\n",
    "df['last_price'].describe()\n",
    "df['last_price'].hist(bins=10, legend=True, grid=True)"
   ]
  },
  {
   "cell_type": "code",
   "execution_count": null,
   "metadata": {},
   "outputs": [],
   "source": [
    "df = df.query('rooms != 0 and rooms < 6')\n",
    "df['rooms'].hist(bins=5, legend=True, grid=True)"
   ]
  },
  {
   "cell_type": "code",
   "execution_count": null,
   "metadata": {},
   "outputs": [],
   "source": [
    "df = df.query('ceiling_height >= 2.0 and ceiling_height < 5.0')\n",
    "print(df['ceiling_height'].describe())\n",
    "df['ceiling_height'].hist(bins=5)"
   ]
  },
  {
   "cell_type": "code",
   "execution_count": null,
   "metadata": {
    "scrolled": true
   },
   "outputs": [],
   "source": [
    "df = df.query('days_exposition != 1 and days_exposition < 500')\n",
    "df['days_exposition'].hist(bins=499, legend=True)"
   ]
  },
  {
   "cell_type": "code",
   "execution_count": null,
   "metadata": {},
   "outputs": [],
   "source": [
    "removed_shape = (sales_count - df.shape[0]) / sales_count\n",
    "print(f'% удаленных выбросов: {removed_shape:.0%} от всех данных')"
   ]
  },
  {
   "cell_type": "markdown",
   "metadata": {},
   "source": [
    "Обнаружены аномалии среди квартир:\n",
    "1) низкими потолками (1 метр),\n",
    "2) нулевым числом комнат,\n",
    "3) временем продажи всего 1 день.\n",
    "\n",
    "Также обнаружены редкие явления среди квартир:\n",
    "1) с очень большой площадью (более 100 метров),\n",
    "2) с числом комнат более 5,\n",
    "3) стоимостью более 1.000000e+07,\n",
    "4) высотой потолков больше 5 метров,\n",
    "5) временем продажи более 500 дней.\n",
    "\n",
    "Эти продажи удалены из выборки - 60% от первоначальных данных."
   ]
  },
  {
   "cell_type": "markdown",
   "metadata": {},
   "source": [
    "### Факторы, влияющие на стоимость квартиры"
   ]
  },
  {
   "cell_type": "markdown",
   "metadata": {},
   "source": [
    "#### Площадь "
   ]
  },
  {
   "cell_type": "code",
   "execution_count": null,
   "metadata": {},
   "outputs": [],
   "source": [
    "print('Корреляция с площадью', df['last_price'].corr(df['total_area']).round(2))\n",
    "df.plot(x='last_price', y='total_area', kind='hist', bins=100)"
   ]
  },
  {
   "cell_type": "markdown",
   "metadata": {},
   "source": [
    "#### Число комнат"
   ]
  },
  {
   "cell_type": "code",
   "execution_count": null,
   "metadata": {
    "scrolled": true
   },
   "outputs": [],
   "source": [
    "print('Коррелция с числом комнат', df['last_price'].corr(df['rooms']).round(2))\n",
    "df.plot(x='last_price', y='rooms', kind='hist', bins=5)"
   ]
  },
  {
   "cell_type": "markdown",
   "metadata": {},
   "source": [
    "#### Удаленность от центра"
   ]
  },
  {
   "cell_type": "code",
   "execution_count": null,
   "metadata": {},
   "outputs": [],
   "source": [
    "print('Корреляция с удаленностью от центра', df['last_price'].corr(df['city_centers_nearest']).round(2))\n",
    "df.plot(x='last_price', y='city_centers_nearest', kind='hist', bins=100)"
   ]
  },
  {
   "cell_type": "markdown",
   "metadata": {},
   "source": [
    "#### Категория этажа"
   ]
  },
  {
   "cell_type": "code",
   "execution_count": null,
   "metadata": {
    "scrolled": false
   },
   "outputs": [],
   "source": [
    "def floor_category_number(floor):\n",
    "    if floor == 'первый':\n",
    "        return 1\n",
    "    elif floor == 'последний':\n",
    "        return 3\n",
    "    else:\n",
    "        return 2\n",
    "df['floor_category_raiting'] = df['floor_category'].apply(floor_category_number)\n",
    "print('Корреляция с категорией этажа', df['last_price'].corr(df['floor_category_raiting']).round(2))\n",
    "df.plot(x='last_price', y='floor_category_raiting', kind='hist', bins=3)\n",
    "                                                                                    "
   ]
  },
  {
   "cell_type": "markdown",
   "metadata": {},
   "source": [
    "#### Дата размещения"
   ]
  },
  {
   "cell_type": "code",
   "execution_count": null,
   "metadata": {
    "scrolled": true
   },
   "outputs": [],
   "source": [
    "print('Корреляция с датой размещения', df['last_price'].corr(df['days_exposition']).round(2))\n",
    "df.plot(x='last_price', y='days_exposition', kind='hist', bins=100)"
   ]
  },
  {
   "cell_type": "markdown",
   "metadata": {},
   "source": [
    "На стоимость квартиры больше всего влияют: площадь квартиры, число комнат и удаленность от центра.\n",
    "Стоимость квартиры тем выше, чем больше площадь квартиры и число комнат и чем ближе расстояние квартиры до центра города."
   ]
  },
  {
   "cell_type": "markdown",
   "metadata": {},
   "source": [
    "### Выборка: населённый пункт с наибольшим числом объявлений с сегментом квартир в центре"
   ]
  },
  {
   "cell_type": "markdown",
   "metadata": {},
   "source": [
    "#### Топ 10 населенных пунктов с наибольшим числом объявлений"
   ]
  },
  {
   "cell_type": "code",
   "execution_count": null,
   "metadata": {
    "scrolled": false
   },
   "outputs": [],
   "source": [
    "#10 населённых пунктов с наибольшим числом объявлений\n",
    "df_by_locality_name = df.pivot_table(index='locality_name', values='price_per_square_meter', aggfunc=['count', 'mean'])\n",
    "df_by_locality_name.columns = ['Количество объявлений', 'Средняя цена за кв м']\n",
    "df_by_locality_name['Средняя цена за кв м'] = df_by_locality_name['Средняя цена за кв м'].round(2)\n",
    "df_by_locality_name = df_by_locality_name.sort_values(by='Количество объявлений', ascending=False)\n",
    "display(df_by_locality_name.head(10))\n"
   ]
  },
  {
   "cell_type": "markdown",
   "metadata": {},
   "source": [
    "#### Квартиры в Санкт-Петербурге"
   ]
  },
  {
   "cell_type": "code",
   "execution_count": null,
   "metadata": {
    "scrolled": true
   },
   "outputs": [],
   "source": [
    "spb_sales = df.query('locality_name == \"Санкт-Петербург\"')\n",
    "spb_sales.loc[:, 'city_centers_nearest_km'] = (spb_sales.loc[:, 'city_centers_nearest'] / 1000).round()\n",
    "spb_sales.loc[:, 'price_per_city_centers_km'] = (spb_sales.loc[:, 'last_price'] / spb_sales.loc[:, 'city_centers_nearest_km']).round()\n",
    "display(spb_sales.head())\n",
    "print(spb_sales['city_centers_nearest_km'].describe())\n",
    "spb_sales.plot(x='price_per_city_centers_km', y='city_centers_nearest_km', kind='hist', grid=True, bins=29)\n"
   ]
  },
  {
   "cell_type": "markdown",
   "metadata": {},
   "source": [
    "#### Квартиры в Санкт-Петербурге в центре"
   ]
  },
  {
   "cell_type": "code",
   "execution_count": null,
   "metadata": {
    "scrolled": false
   },
   "outputs": [],
   "source": [
    "spb_center_sales = spb_sales.query('city_centers_nearest_km <= 17')\n",
    "display(spb_center_sales.head())"
   ]
  },
  {
   "cell_type": "markdown",
   "metadata": {},
   "source": [
    "В Санкт-Петербурге центр находится в радиусе приблизительно до 17 км."
   ]
  },
  {
   "cell_type": "markdown",
   "metadata": {},
   "source": [
    "#### Анализ продаж квартир в центре Санкт-Петербурга"
   ]
  },
  {
   "cell_type": "markdown",
   "metadata": {},
   "source": [
    "##### Анализ территории: площадь, цена, число комнат, высота потолков."
   ]
  },
  {
   "cell_type": "code",
   "execution_count": null,
   "metadata": {},
   "outputs": [],
   "source": [
    "spb_center_sales['total_area'].hist(bins=100, legend=True, grid=True)"
   ]
  },
  {
   "cell_type": "code",
   "execution_count": null,
   "metadata": {},
   "outputs": [],
   "source": [
    "spb_center_sales['last_price'].hist(bins=100, legend=True, grid=True)"
   ]
  },
  {
   "cell_type": "code",
   "execution_count": null,
   "metadata": {},
   "outputs": [],
   "source": [
    "spb_center_sales['rooms'].hist(bins=5, legend=True, grid=True)"
   ]
  },
  {
   "cell_type": "code",
   "execution_count": null,
   "metadata": {},
   "outputs": [],
   "source": [
    "spb_center_sales['ceiling_height'].hist(bins=5, legend=True, grid=True)"
   ]
  },
  {
   "cell_type": "markdown",
   "metadata": {},
   "source": [
    "##### Факторы, вляющие на стоимость квартиры в центре Санкт-Петербурга"
   ]
  },
  {
   "cell_type": "code",
   "execution_count": null,
   "metadata": {},
   "outputs": [],
   "source": [
    "#Зависимость от площади\n",
    "print('Коэффициент корреляции Пирсона', spb_center_sales['last_price'].corr(spb_center_sales['total_area']).round(2))\n",
    "spb_center_sales.plot(x='last_price', y='total_area', kind='hist', bins=100)"
   ]
  },
  {
   "cell_type": "code",
   "execution_count": null,
   "metadata": {},
   "outputs": [],
   "source": [
    "#Зависимость от числа комнат\n",
    "print('Коэффициент корреляции Пирсона', spb_center_sales['last_price'].corr(spb_center_sales['rooms']).round(2))\n",
    "spb_center_sales.plot(x='last_price', y='rooms', kind='hist', bins=5)"
   ]
  },
  {
   "cell_type": "code",
   "execution_count": null,
   "metadata": {},
   "outputs": [],
   "source": [
    "#Зависимость от высоты потолков\n",
    "print('Коэффициент корреляции Пирсона', spb_center_sales['last_price'].corr(spb_center_sales['ceiling_height']).round(2))\n",
    "spb_center_sales.plot(x='last_price', y='ceiling_height', kind='hist', bins=5)"
   ]
  },
  {
   "cell_type": "code",
   "execution_count": null,
   "metadata": {},
   "outputs": [],
   "source": [
    "#Зависимость от категории этажа\n",
    "print('Коэффициент корреляции Пирсона', spb_center_sales['last_price'].corr(spb_center_sales['floor_category_raiting']).round(2))\n",
    "spb_center_sales.plot(x='last_price', y='floor_category_raiting', kind='hist', bins=3)"
   ]
  },
  {
   "cell_type": "code",
   "execution_count": null,
   "metadata": {},
   "outputs": [],
   "source": [
    "#Зависимость от категории от удаленности от центра в км\n",
    "print('Коэффициент корреляции Пирсона', spb_center_sales['last_price'].corr(spb_center_sales['city_centers_nearest_km']).round(2))\n",
    "spb_center_sales.plot(x='last_price', y='city_centers_nearest_km', kind='hist', bins=17)"
   ]
  },
  {
   "cell_type": "code",
   "execution_count": null,
   "metadata": {},
   "outputs": [],
   "source": [
    "#Зависимость от даты размещения объявления\n",
    "print('Коэффициент корреляции Пирсона', spb_center_sales['last_price'].corr(spb_center_sales['days_exposition']).round(2))\n",
    "spb_center_sales.plot(x='last_price', y='days_exposition', kind='hist', bins=11)\n"
   ]
  },
  {
   "cell_type": "markdown",
   "metadata": {},
   "source": [
    "## Общий вывод\n",
    "\n",
    "На стоимость квартиры больше всего влияют: площадь квартиры, число комнат и удаленность от центра. Это видно как по всей базе продаж квартир, так и по квартирам в центре Санкт-Петербурге. Стоимость квартиры тем выше, чем больше ее площадь и число комнат и чем ближе она расположена к центру.\n",
    "\n",
    "Также существует небольшая зависимость от этажа: цена квартиры на первом и последнем этажах примерно одинаковая и ниже, чем на других этажах.\n",
    "\n",
    "Также обнаружены аномалии среди квартир:\n",
    "1) у некоторых населенных пунктов нет названия,\n",
    "2) нереально низкие потолки (1 метр),\n",
    "3) нулевое число комнат,\n",
    "4) слишком короткое время продажи - всего 1 день.\n",
    "\n",
    "Необходимо разобраться, вызваны ли они техническими причинами или неправильными/ мошенническими действиями со стороны продавцов квартир."
   ]
  }
 ],
 "metadata": {
  "ExecuteTimeLog": [
   {
    "duration": 1773,
    "start_time": "2022-03-13T21:07:27.945Z"
   },
   {
    "duration": 61,
    "start_time": "2022-03-13T21:08:02.840Z"
   },
   {
    "duration": 80,
    "start_time": "2022-03-13T21:09:02.271Z"
   },
   {
    "duration": 12,
    "start_time": "2022-03-13T21:12:12.162Z"
   },
   {
    "duration": 9,
    "start_time": "2022-03-13T21:15:47.960Z"
   },
   {
    "duration": 7,
    "start_time": "2022-03-13T21:16:08.033Z"
   },
   {
    "duration": -18,
    "start_time": "2022-03-13T21:16:37.561Z"
   },
   {
    "duration": 8,
    "start_time": "2022-03-13T21:16:39.257Z"
   },
   {
    "duration": 9,
    "start_time": "2022-03-13T21:16:54.844Z"
   },
   {
    "duration": 9,
    "start_time": "2022-03-13T21:17:17.147Z"
   },
   {
    "duration": 4,
    "start_time": "2022-03-13T21:31:54.665Z"
   },
   {
    "duration": 176,
    "start_time": "2022-03-13T21:32:21.797Z"
   },
   {
    "duration": 6,
    "start_time": "2022-03-13T21:32:26.907Z"
   },
   {
    "duration": 27,
    "start_time": "2022-03-13T21:35:58.574Z"
   },
   {
    "duration": 24,
    "start_time": "2022-03-13T21:36:06.768Z"
   },
   {
    "duration": 12,
    "start_time": "2022-03-13T21:40:15.067Z"
   },
   {
    "duration": 46,
    "start_time": "2022-03-13T21:50:10.827Z"
   },
   {
    "duration": 174,
    "start_time": "2022-03-13T21:52:44.479Z"
   },
   {
    "duration": 193,
    "start_time": "2022-03-13T21:52:54.806Z"
   },
   {
    "duration": 186,
    "start_time": "2022-03-13T21:52:57.524Z"
   },
   {
    "duration": 4,
    "start_time": "2022-03-13T21:53:58.637Z"
   },
   {
    "duration": 4,
    "start_time": "2022-03-13T21:54:00.909Z"
   },
   {
    "duration": 5,
    "start_time": "2022-03-13T21:54:03.213Z"
   },
   {
    "duration": 74,
    "start_time": "2022-03-13T21:54:05.482Z"
   },
   {
    "duration": 5,
    "start_time": "2022-03-13T21:54:05.558Z"
   },
   {
    "duration": 5,
    "start_time": "2022-03-13T21:54:05.565Z"
   },
   {
    "duration": 8,
    "start_time": "2022-03-13T21:54:05.572Z"
   },
   {
    "duration": 4,
    "start_time": "2022-03-13T21:54:05.581Z"
   },
   {
    "duration": 8,
    "start_time": "2022-03-13T21:54:05.587Z"
   },
   {
    "duration": 54,
    "start_time": "2022-03-13T21:54:05.596Z"
   },
   {
    "duration": 4,
    "start_time": "2022-03-13T21:55:06.007Z"
   },
   {
    "duration": 71,
    "start_time": "2022-03-13T21:55:13.120Z"
   },
   {
    "duration": 5,
    "start_time": "2022-03-13T21:55:13.194Z"
   },
   {
    "duration": 4,
    "start_time": "2022-03-13T21:55:13.201Z"
   },
   {
    "duration": 8,
    "start_time": "2022-03-13T21:55:13.207Z"
   },
   {
    "duration": 5,
    "start_time": "2022-03-13T21:55:13.217Z"
   },
   {
    "duration": 18,
    "start_time": "2022-03-13T21:55:13.224Z"
   },
   {
    "duration": 38,
    "start_time": "2022-03-13T21:55:13.244Z"
   },
   {
    "duration": 57,
    "start_time": "2022-03-13T21:56:28.786Z"
   },
   {
    "duration": 4,
    "start_time": "2022-03-13T21:56:55.890Z"
   },
   {
    "duration": 4,
    "start_time": "2022-03-13T21:56:58.447Z"
   },
   {
    "duration": 4,
    "start_time": "2022-03-13T21:58:23.319Z"
   },
   {
    "duration": 5,
    "start_time": "2022-03-13T21:59:15.378Z"
   },
   {
    "duration": 5,
    "start_time": "2022-03-13T21:59:21.270Z"
   },
   {
    "duration": 12,
    "start_time": "2022-03-13T21:59:39.581Z"
   },
   {
    "duration": 5,
    "start_time": "2022-03-13T22:02:30.313Z"
   },
   {
    "duration": 5,
    "start_time": "2022-03-13T22:02:49.157Z"
   },
   {
    "duration": 6,
    "start_time": "2022-03-13T22:03:00.331Z"
   },
   {
    "duration": 5,
    "start_time": "2022-03-13T22:06:20.598Z"
   },
   {
    "duration": 6,
    "start_time": "2022-03-13T22:06:23.665Z"
   },
   {
    "duration": 11,
    "start_time": "2022-03-13T22:06:55.843Z"
   },
   {
    "duration": 71,
    "start_time": "2022-03-13T22:07:39.385Z"
   },
   {
    "duration": 4,
    "start_time": "2022-03-13T22:07:39.458Z"
   },
   {
    "duration": 7,
    "start_time": "2022-03-13T22:07:39.464Z"
   },
   {
    "duration": 7,
    "start_time": "2022-03-13T22:07:39.473Z"
   },
   {
    "duration": 11,
    "start_time": "2022-03-13T22:07:39.482Z"
   },
   {
    "duration": 3,
    "start_time": "2022-03-13T22:07:39.495Z"
   },
   {
    "duration": 4,
    "start_time": "2022-03-13T22:07:39.500Z"
   },
   {
    "duration": 34,
    "start_time": "2022-03-13T22:07:39.505Z"
   },
   {
    "duration": 22,
    "start_time": "2022-03-13T22:07:39.541Z"
   },
   {
    "duration": 203,
    "start_time": "2022-03-13T22:18:10.279Z"
   },
   {
    "duration": 177,
    "start_time": "2022-03-13T22:19:15.315Z"
   },
   {
    "duration": 184,
    "start_time": "2022-03-13T22:19:18.109Z"
   },
   {
    "duration": 184,
    "start_time": "2022-03-13T22:19:29.366Z"
   },
   {
    "duration": 72,
    "start_time": "2022-03-13T22:19:35.420Z"
   },
   {
    "duration": 6,
    "start_time": "2022-03-13T22:19:35.494Z"
   },
   {
    "duration": 8,
    "start_time": "2022-03-13T22:19:35.503Z"
   },
   {
    "duration": 5,
    "start_time": "2022-03-13T22:19:35.513Z"
   },
   {
    "duration": 12,
    "start_time": "2022-03-13T22:19:35.537Z"
   },
   {
    "duration": 4,
    "start_time": "2022-03-13T22:19:35.551Z"
   },
   {
    "duration": 172,
    "start_time": "2022-03-13T22:19:35.556Z"
   },
   {
    "duration": 33,
    "start_time": "2022-03-13T22:19:35.698Z"
   },
   {
    "duration": 30,
    "start_time": "2022-03-13T22:19:35.702Z"
   },
   {
    "duration": 214,
    "start_time": "2022-03-13T22:19:55.694Z"
   },
   {
    "duration": 168,
    "start_time": "2022-03-13T22:20:13.245Z"
   },
   {
    "duration": 176,
    "start_time": "2022-03-13T22:21:08.605Z"
   },
   {
    "duration": 175,
    "start_time": "2022-03-13T22:21:39.358Z"
   },
   {
    "duration": 167,
    "start_time": "2022-03-13T22:21:41.893Z"
   },
   {
    "duration": 72,
    "start_time": "2022-03-13T22:21:54.396Z"
   },
   {
    "duration": 5,
    "start_time": "2022-03-13T22:21:54.470Z"
   },
   {
    "duration": 8,
    "start_time": "2022-03-13T22:21:54.478Z"
   },
   {
    "duration": 6,
    "start_time": "2022-03-13T22:21:54.488Z"
   },
   {
    "duration": 14,
    "start_time": "2022-03-13T22:21:54.495Z"
   },
   {
    "duration": 30,
    "start_time": "2022-03-13T22:21:54.511Z"
   },
   {
    "duration": 223,
    "start_time": "2022-03-13T22:21:54.543Z"
   },
   {
    "duration": -24,
    "start_time": "2022-03-13T22:21:54.792Z"
   },
   {
    "duration": -24,
    "start_time": "2022-03-13T22:21:54.794Z"
   },
   {
    "duration": 187,
    "start_time": "2022-03-13T22:22:15.946Z"
   },
   {
    "duration": 186,
    "start_time": "2022-03-13T22:22:19.209Z"
   },
   {
    "duration": 5,
    "start_time": "2022-03-13T22:22:49.436Z"
   },
   {
    "duration": 30,
    "start_time": "2022-03-13T22:23:52.485Z"
   },
   {
    "duration": 222,
    "start_time": "2022-03-13T22:24:14.975Z"
   },
   {
    "duration": 168,
    "start_time": "2022-03-13T22:24:17.140Z"
   },
   {
    "duration": 181,
    "start_time": "2022-03-13T22:24:29.087Z"
   },
   {
    "duration": 333,
    "start_time": "2022-03-13T22:24:30.903Z"
   },
   {
    "duration": 70,
    "start_time": "2022-03-13T22:24:51.980Z"
   },
   {
    "duration": 179,
    "start_time": "2022-03-13T22:25:04.754Z"
   },
   {
    "duration": 177,
    "start_time": "2022-03-13T22:25:12.158Z"
   },
   {
    "duration": 174,
    "start_time": "2022-03-13T22:32:54.577Z"
   },
   {
    "duration": 189,
    "start_time": "2022-03-13T22:33:03.385Z"
   },
   {
    "duration": 78,
    "start_time": "2022-03-13T22:33:06.382Z"
   },
   {
    "duration": 4,
    "start_time": "2022-03-13T22:33:06.462Z"
   },
   {
    "duration": 10,
    "start_time": "2022-03-13T22:33:06.468Z"
   },
   {
    "duration": 8,
    "start_time": "2022-03-13T22:33:06.480Z"
   },
   {
    "duration": 15,
    "start_time": "2022-03-13T22:33:06.490Z"
   },
   {
    "duration": 4,
    "start_time": "2022-03-13T22:33:06.507Z"
   },
   {
    "duration": 210,
    "start_time": "2022-03-13T22:33:06.513Z"
   },
   {
    "duration": 33,
    "start_time": "2022-03-13T22:33:06.692Z"
   },
   {
    "duration": 33,
    "start_time": "2022-03-13T22:33:06.693Z"
   },
   {
    "duration": 167,
    "start_time": "2022-03-13T22:33:19.020Z"
   },
   {
    "duration": 71,
    "start_time": "2022-03-13T22:33:21.502Z"
   },
   {
    "duration": 4,
    "start_time": "2022-03-13T22:33:21.575Z"
   },
   {
    "duration": 7,
    "start_time": "2022-03-13T22:33:21.581Z"
   },
   {
    "duration": 5,
    "start_time": "2022-03-13T22:33:21.590Z"
   },
   {
    "duration": 13,
    "start_time": "2022-03-13T22:33:21.597Z"
   },
   {
    "duration": 3,
    "start_time": "2022-03-13T22:33:21.612Z"
   },
   {
    "duration": 230,
    "start_time": "2022-03-13T22:33:21.637Z"
   },
   {
    "duration": -539,
    "start_time": "2022-03-13T22:33:22.408Z"
   },
   {
    "duration": -549,
    "start_time": "2022-03-13T22:33:22.419Z"
   },
   {
    "duration": 70,
    "start_time": "2022-03-13T22:37:36.336Z"
   },
   {
    "duration": 56,
    "start_time": "2022-03-13T22:37:47.006Z"
   },
   {
    "duration": 55,
    "start_time": "2022-03-13T22:38:09.790Z"
   },
   {
    "duration": 182,
    "start_time": "2022-03-13T22:38:51.756Z"
   },
   {
    "duration": 184,
    "start_time": "2022-03-13T22:38:54.077Z"
   },
   {
    "duration": 182,
    "start_time": "2022-03-13T22:39:06.738Z"
   },
   {
    "duration": 178,
    "start_time": "2022-03-13T22:39:08.927Z"
   },
   {
    "duration": 219,
    "start_time": "2022-03-13T22:42:31.119Z"
   },
   {
    "duration": 54,
    "start_time": "2022-03-13T22:42:36.668Z"
   },
   {
    "duration": 61,
    "start_time": "2022-03-13T22:42:45.379Z"
   },
   {
    "duration": 208,
    "start_time": "2022-03-13T22:43:17.137Z"
   },
   {
    "duration": 181,
    "start_time": "2022-03-13T22:43:18.979Z"
   },
   {
    "duration": 68,
    "start_time": "2022-03-13T22:43:43.517Z"
   },
   {
    "duration": 56,
    "start_time": "2022-03-13T22:43:45.904Z"
   },
   {
    "duration": 54,
    "start_time": "2022-03-13T22:43:51.559Z"
   },
   {
    "duration": 5,
    "start_time": "2022-03-13T22:44:02.763Z"
   },
   {
    "duration": 4,
    "start_time": "2022-03-13T22:44:08.801Z"
   },
   {
    "duration": 4,
    "start_time": "2022-03-13T22:44:10.410Z"
   },
   {
    "duration": 5,
    "start_time": "2022-03-13T22:44:12.701Z"
   },
   {
    "duration": 9,
    "start_time": "2022-03-13T22:45:09.947Z"
   },
   {
    "duration": 5,
    "start_time": "2022-03-13T22:45:14.556Z"
   },
   {
    "duration": 7,
    "start_time": "2022-03-13T22:49:33.592Z"
   },
   {
    "duration": 28,
    "start_time": "2022-03-13T22:49:45.844Z"
   },
   {
    "duration": 7,
    "start_time": "2022-03-13T22:50:58.270Z"
   },
   {
    "duration": 7,
    "start_time": "2022-03-13T22:51:00.113Z"
   },
   {
    "duration": 11,
    "start_time": "2022-03-13T22:51:24.445Z"
   },
   {
    "duration": 8,
    "start_time": "2022-03-13T22:52:15.142Z"
   },
   {
    "duration": 5,
    "start_time": "2022-03-13T22:52:16.905Z"
   },
   {
    "duration": 11,
    "start_time": "2022-03-13T22:52:22.377Z"
   },
   {
    "duration": 11,
    "start_time": "2022-03-13T22:53:02.716Z"
   },
   {
    "duration": 71,
    "start_time": "2022-03-13T22:53:24.718Z"
   },
   {
    "duration": 6,
    "start_time": "2022-03-13T22:53:24.791Z"
   },
   {
    "duration": 8,
    "start_time": "2022-03-13T22:53:24.799Z"
   },
   {
    "duration": 5,
    "start_time": "2022-03-13T22:53:24.809Z"
   },
   {
    "duration": 11,
    "start_time": "2022-03-13T22:53:24.838Z"
   },
   {
    "duration": 10,
    "start_time": "2022-03-13T22:53:24.899Z"
   },
   {
    "duration": 12,
    "start_time": "2022-03-13T22:53:24.911Z"
   },
   {
    "duration": 21,
    "start_time": "2022-03-13T22:53:25.009Z"
   },
   {
    "duration": 6,
    "start_time": "2022-03-13T22:53:52.418Z"
   },
   {
    "duration": 62,
    "start_time": "2022-03-13T22:55:55.533Z"
   },
   {
    "duration": 60,
    "start_time": "2022-03-13T22:56:06.757Z"
   },
   {
    "duration": 60,
    "start_time": "2022-03-13T22:56:09.250Z"
   },
   {
    "duration": 57,
    "start_time": "2022-03-13T22:56:53.652Z"
   },
   {
    "duration": 11,
    "start_time": "2022-03-13T22:59:17.841Z"
   },
   {
    "duration": 205,
    "start_time": "2022-03-13T23:00:56.865Z"
   },
   {
    "duration": 194,
    "start_time": "2022-03-13T23:01:34.986Z"
   },
   {
    "duration": 196,
    "start_time": "2022-03-13T23:01:37.066Z"
   },
   {
    "duration": 193,
    "start_time": "2022-03-13T23:03:23.739Z"
   },
   {
    "duration": 230,
    "start_time": "2022-03-13T23:04:14.994Z"
   },
   {
    "duration": 61,
    "start_time": "2022-03-13T23:08:08.684Z"
   },
   {
    "duration": 58,
    "start_time": "2022-03-13T23:09:18.461Z"
   },
   {
    "duration": 62,
    "start_time": "2022-03-13T23:09:21.362Z"
   },
   {
    "duration": 56,
    "start_time": "2022-03-13T23:10:11.709Z"
   },
   {
    "duration": 58,
    "start_time": "2022-03-13T23:10:26.931Z"
   },
   {
    "duration": 59,
    "start_time": "2022-03-13T23:10:36.210Z"
   },
   {
    "duration": 56,
    "start_time": "2022-03-13T23:10:38.806Z"
   },
   {
    "duration": 73,
    "start_time": "2022-03-13T23:10:41.056Z"
   },
   {
    "duration": 4,
    "start_time": "2022-03-13T23:10:41.131Z"
   },
   {
    "duration": 21,
    "start_time": "2022-03-13T23:10:41.137Z"
   },
   {
    "duration": 7,
    "start_time": "2022-03-13T23:10:41.159Z"
   },
   {
    "duration": 13,
    "start_time": "2022-03-13T23:10:41.167Z"
   },
   {
    "duration": 60,
    "start_time": "2022-03-13T23:10:41.181Z"
   },
   {
    "duration": 6,
    "start_time": "2022-03-13T23:10:41.237Z"
   },
   {
    "duration": 6,
    "start_time": "2022-03-13T23:10:41.238Z"
   },
   {
    "duration": 60,
    "start_time": "2022-03-13T23:11:05.044Z"
   },
   {
    "duration": 55,
    "start_time": "2022-03-13T23:11:06.420Z"
   },
   {
    "duration": 58,
    "start_time": "2022-03-13T23:11:16.990Z"
   },
   {
    "duration": 174,
    "start_time": "2022-03-13T23:11:26.631Z"
   },
   {
    "duration": 176,
    "start_time": "2022-03-13T23:11:28.192Z"
   },
   {
    "duration": 168,
    "start_time": "2022-03-13T23:11:57.981Z"
   },
   {
    "duration": 182,
    "start_time": "2022-03-13T23:11:59.357Z"
   },
   {
    "duration": 732,
    "start_time": "2022-03-13T23:12:23.592Z"
   },
   {
    "duration": 707,
    "start_time": "2022-03-13T23:12:25.218Z"
   },
   {
    "duration": 553,
    "start_time": "2022-03-13T23:12:51.647Z"
   },
   {
    "duration": 180,
    "start_time": "2022-03-13T23:14:02.717Z"
   },
   {
    "duration": 7,
    "start_time": "2022-03-13T23:14:54.309Z"
   },
   {
    "duration": 11,
    "start_time": "2022-03-13T23:14:58.182Z"
   },
   {
    "duration": 74,
    "start_time": "2022-03-13T23:15:08.256Z"
   },
   {
    "duration": 5,
    "start_time": "2022-03-13T23:15:08.332Z"
   },
   {
    "duration": 9,
    "start_time": "2022-03-13T23:15:08.339Z"
   },
   {
    "duration": 7,
    "start_time": "2022-03-13T23:15:08.351Z"
   },
   {
    "duration": 19,
    "start_time": "2022-03-13T23:15:08.359Z"
   },
   {
    "duration": 7,
    "start_time": "2022-03-13T23:15:08.380Z"
   },
   {
    "duration": 9,
    "start_time": "2022-03-13T23:15:08.389Z"
   },
   {
    "duration": 39,
    "start_time": "2022-03-13T23:15:08.400Z"
   },
   {
    "duration": 4,
    "start_time": "2022-03-13T23:15:21.553Z"
   },
   {
    "duration": 10,
    "start_time": "2022-03-13T23:15:23.330Z"
   },
   {
    "duration": 77,
    "start_time": "2022-03-13T23:15:30.305Z"
   },
   {
    "duration": 6,
    "start_time": "2022-03-13T23:15:30.383Z"
   },
   {
    "duration": 9,
    "start_time": "2022-03-13T23:15:30.391Z"
   },
   {
    "duration": 11,
    "start_time": "2022-03-13T23:15:30.402Z"
   },
   {
    "duration": 32,
    "start_time": "2022-03-13T23:15:30.415Z"
   },
   {
    "duration": 5,
    "start_time": "2022-03-13T23:15:30.448Z"
   },
   {
    "duration": 29,
    "start_time": "2022-03-13T23:15:30.455Z"
   },
   {
    "duration": 26,
    "start_time": "2022-03-13T23:15:30.486Z"
   },
   {
    "duration": 73,
    "start_time": "2022-03-13T23:15:39.269Z"
   },
   {
    "duration": 6,
    "start_time": "2022-03-13T23:15:39.344Z"
   },
   {
    "duration": 9,
    "start_time": "2022-03-13T23:15:39.352Z"
   },
   {
    "duration": 5,
    "start_time": "2022-03-13T23:15:39.363Z"
   },
   {
    "duration": 12,
    "start_time": "2022-03-13T23:15:39.369Z"
   },
   {
    "duration": 6,
    "start_time": "2022-03-13T23:15:39.383Z"
   },
   {
    "duration": 48,
    "start_time": "2022-03-13T23:15:39.391Z"
   },
   {
    "duration": 22,
    "start_time": "2022-03-13T23:15:39.441Z"
   },
   {
    "duration": 73,
    "start_time": "2022-03-13T23:15:48.206Z"
   },
   {
    "duration": 6,
    "start_time": "2022-03-13T23:15:48.282Z"
   },
   {
    "duration": 8,
    "start_time": "2022-03-13T23:15:48.290Z"
   },
   {
    "duration": 6,
    "start_time": "2022-03-13T23:15:48.300Z"
   },
   {
    "duration": 36,
    "start_time": "2022-03-13T23:15:48.308Z"
   },
   {
    "duration": 5,
    "start_time": "2022-03-13T23:15:48.347Z"
   },
   {
    "duration": 17,
    "start_time": "2022-03-13T23:15:48.353Z"
   },
   {
    "duration": 25,
    "start_time": "2022-03-13T23:15:48.372Z"
   },
   {
    "duration": 7,
    "start_time": "2022-03-13T23:17:11.793Z"
   },
   {
    "duration": 73,
    "start_time": "2022-03-13T23:17:13.913Z"
   },
   {
    "duration": 5,
    "start_time": "2022-03-13T23:17:13.988Z"
   },
   {
    "duration": 7,
    "start_time": "2022-03-13T23:17:13.995Z"
   },
   {
    "duration": 11,
    "start_time": "2022-03-13T23:17:14.004Z"
   },
   {
    "duration": 27,
    "start_time": "2022-03-13T23:17:14.017Z"
   },
   {
    "duration": 5,
    "start_time": "2022-03-13T23:17:14.046Z"
   },
   {
    "duration": 14,
    "start_time": "2022-03-13T23:17:14.053Z"
   },
   {
    "duration": 21,
    "start_time": "2022-03-13T23:17:14.069Z"
   },
   {
    "duration": 67,
    "start_time": "2022-03-13T23:17:30.899Z"
   },
   {
    "duration": 5,
    "start_time": "2022-03-13T23:17:30.968Z"
   },
   {
    "duration": 12,
    "start_time": "2022-03-13T23:17:30.975Z"
   },
   {
    "duration": 15,
    "start_time": "2022-03-13T23:17:30.989Z"
   },
   {
    "duration": 24,
    "start_time": "2022-03-13T23:17:31.006Z"
   },
   {
    "duration": 9,
    "start_time": "2022-03-13T23:17:31.032Z"
   },
   {
    "duration": 19,
    "start_time": "2022-03-13T23:17:31.043Z"
   },
   {
    "duration": 25,
    "start_time": "2022-03-13T23:17:31.064Z"
   },
   {
    "duration": 5,
    "start_time": "2022-03-13T23:17:39.883Z"
   },
   {
    "duration": 10,
    "start_time": "2022-03-13T23:17:42.242Z"
   },
   {
    "duration": 65,
    "start_time": "2022-03-13T23:18:29.620Z"
   },
   {
    "duration": 5,
    "start_time": "2022-03-13T23:18:29.687Z"
   },
   {
    "duration": 13,
    "start_time": "2022-03-13T23:18:29.694Z"
   },
   {
    "duration": 10,
    "start_time": "2022-03-13T23:18:29.709Z"
   },
   {
    "duration": 21,
    "start_time": "2022-03-13T23:18:29.720Z"
   },
   {
    "duration": 202,
    "start_time": "2022-03-13T23:18:29.743Z"
   },
   {
    "duration": -12,
    "start_time": "2022-03-13T23:18:29.959Z"
   },
   {
    "duration": -27,
    "start_time": "2022-03-13T23:18:29.975Z"
   },
   {
    "duration": 10,
    "start_time": "2022-03-13T23:18:41.071Z"
   },
   {
    "duration": 12,
    "start_time": "2022-03-13T23:18:43.994Z"
   },
   {
    "duration": 70,
    "start_time": "2022-03-13T23:19:55.393Z"
   },
   {
    "duration": 4,
    "start_time": "2022-03-13T23:19:55.466Z"
   },
   {
    "duration": 7,
    "start_time": "2022-03-13T23:19:55.472Z"
   },
   {
    "duration": 6,
    "start_time": "2022-03-13T23:19:55.481Z"
   },
   {
    "duration": 13,
    "start_time": "2022-03-13T23:19:55.488Z"
   },
   {
    "duration": 48,
    "start_time": "2022-03-13T23:19:55.503Z"
   },
   {
    "duration": 10,
    "start_time": "2022-03-13T23:19:55.553Z"
   },
   {
    "duration": 25,
    "start_time": "2022-03-13T23:19:55.565Z"
   },
   {
    "duration": 20,
    "start_time": "2022-03-13T23:19:58.438Z"
   },
   {
    "duration": 20,
    "start_time": "2022-03-13T23:20:03.026Z"
   },
   {
    "duration": 11,
    "start_time": "2022-03-13T23:20:05.625Z"
   },
   {
    "duration": 189,
    "start_time": "2022-03-13T23:21:29.271Z"
   },
   {
    "duration": 169,
    "start_time": "2022-03-13T23:22:01.025Z"
   },
   {
    "duration": 197,
    "start_time": "2022-03-13T23:22:25.464Z"
   },
   {
    "duration": 27,
    "start_time": "2022-03-13T23:22:56.920Z"
   },
   {
    "duration": 30,
    "start_time": "2022-03-13T23:23:01.175Z"
   },
   {
    "duration": 57,
    "start_time": "2022-03-13T23:23:55.628Z"
   },
   {
    "duration": 176,
    "start_time": "2022-03-13T23:24:12.827Z"
   },
   {
    "duration": 182,
    "start_time": "2022-03-13T23:24:29.405Z"
   },
   {
    "duration": 174,
    "start_time": "2022-03-13T23:24:57.990Z"
   },
   {
    "duration": 179,
    "start_time": "2022-03-13T23:25:13.983Z"
   },
   {
    "duration": 172,
    "start_time": "2022-03-13T23:25:23.613Z"
   },
   {
    "duration": 165,
    "start_time": "2022-03-13T23:25:48.391Z"
   },
   {
    "duration": 74,
    "start_time": "2022-03-13T23:28:02.436Z"
   },
   {
    "duration": 4,
    "start_time": "2022-03-13T23:28:02.512Z"
   },
   {
    "duration": 12,
    "start_time": "2022-03-13T23:28:02.519Z"
   },
   {
    "duration": 13,
    "start_time": "2022-03-13T23:28:02.533Z"
   },
   {
    "duration": 17,
    "start_time": "2022-03-13T23:28:02.548Z"
   },
   {
    "duration": 20,
    "start_time": "2022-03-13T23:28:02.566Z"
   },
   {
    "duration": 9,
    "start_time": "2022-03-13T23:28:02.587Z"
   },
   {
    "duration": 40,
    "start_time": "2022-03-13T23:28:02.598Z"
   },
   {
    "duration": 10,
    "start_time": "2022-03-13T23:28:08.684Z"
   },
   {
    "duration": 20,
    "start_time": "2022-03-13T23:28:10.645Z"
   },
   {
    "duration": 294,
    "start_time": "2022-03-14T17:42:23.443Z"
   },
   {
    "duration": 892,
    "start_time": "2022-03-14T17:42:31.639Z"
   },
   {
    "duration": 5,
    "start_time": "2022-03-14T17:42:32.533Z"
   },
   {
    "duration": 14,
    "start_time": "2022-03-14T17:42:32.541Z"
   },
   {
    "duration": 7,
    "start_time": "2022-03-14T17:42:32.557Z"
   },
   {
    "duration": 36,
    "start_time": "2022-03-14T17:42:32.565Z"
   },
   {
    "duration": 62,
    "start_time": "2022-03-14T17:42:32.604Z"
   },
   {
    "duration": 35,
    "start_time": "2022-03-14T17:42:32.667Z"
   },
   {
    "duration": 27,
    "start_time": "2022-03-14T17:42:32.704Z"
   },
   {
    "duration": 52,
    "start_time": "2022-03-14T17:42:42.416Z"
   },
   {
    "duration": 508,
    "start_time": "2022-03-14T17:43:39.484Z"
   },
   {
    "duration": 449,
    "start_time": "2022-03-14T17:43:46.727Z"
   },
   {
    "duration": 85,
    "start_time": "2022-03-14T17:43:49.540Z"
   },
   {
    "duration": 5,
    "start_time": "2022-03-14T17:43:49.628Z"
   },
   {
    "duration": 9,
    "start_time": "2022-03-14T17:43:49.636Z"
   },
   {
    "duration": 10,
    "start_time": "2022-03-14T17:43:49.647Z"
   },
   {
    "duration": 14,
    "start_time": "2022-03-14T17:43:49.659Z"
   },
   {
    "duration": 529,
    "start_time": "2022-03-14T17:43:49.675Z"
   },
   {
    "duration": 53,
    "start_time": "2022-03-14T17:43:50.154Z"
   },
   {
    "duration": 54,
    "start_time": "2022-03-14T17:43:50.154Z"
   },
   {
    "duration": 449,
    "start_time": "2022-03-14T17:43:54.921Z"
   },
   {
    "duration": 476,
    "start_time": "2022-03-14T17:44:07.661Z"
   },
   {
    "duration": 85,
    "start_time": "2022-03-14T17:44:10.737Z"
   },
   {
    "duration": 6,
    "start_time": "2022-03-14T17:44:10.824Z"
   },
   {
    "duration": 12,
    "start_time": "2022-03-14T17:44:10.833Z"
   },
   {
    "duration": 11,
    "start_time": "2022-03-14T17:44:10.847Z"
   },
   {
    "duration": 33,
    "start_time": "2022-03-14T17:44:10.861Z"
   },
   {
    "duration": 514,
    "start_time": "2022-03-14T17:44:10.896Z"
   },
   {
    "duration": 59,
    "start_time": "2022-03-14T17:44:11.352Z"
   },
   {
    "duration": 59,
    "start_time": "2022-03-14T17:44:11.353Z"
   },
   {
    "duration": 452,
    "start_time": "2022-03-14T17:44:19.088Z"
   },
   {
    "duration": 458,
    "start_time": "2022-03-14T17:44:28.379Z"
   },
   {
    "duration": 112,
    "start_time": "2022-03-14T17:44:31.711Z"
   },
   {
    "duration": 6,
    "start_time": "2022-03-14T17:44:31.826Z"
   },
   {
    "duration": 23,
    "start_time": "2022-03-14T17:44:31.836Z"
   },
   {
    "duration": 19,
    "start_time": "2022-03-14T17:44:31.862Z"
   },
   {
    "duration": 34,
    "start_time": "2022-03-14T17:44:31.883Z"
   },
   {
    "duration": 482,
    "start_time": "2022-03-14T17:44:31.919Z"
   },
   {
    "duration": 50,
    "start_time": "2022-03-14T17:44:32.353Z"
   },
   {
    "duration": 50,
    "start_time": "2022-03-14T17:44:32.354Z"
   },
   {
    "duration": 476,
    "start_time": "2022-03-14T17:45:08.216Z"
   },
   {
    "duration": 65,
    "start_time": "2022-03-14T17:45:18.019Z"
   },
   {
    "duration": 42,
    "start_time": "2022-03-14T17:45:51.968Z"
   },
   {
    "duration": 41,
    "start_time": "2022-03-14T17:46:04.644Z"
   },
   {
    "duration": 38,
    "start_time": "2022-03-14T17:46:25.910Z"
   },
   {
    "duration": 90,
    "start_time": "2022-03-14T17:46:33.796Z"
   },
   {
    "duration": 6,
    "start_time": "2022-03-14T17:46:33.889Z"
   },
   {
    "duration": 18,
    "start_time": "2022-03-14T17:46:33.898Z"
   },
   {
    "duration": 15,
    "start_time": "2022-03-14T17:46:33.918Z"
   },
   {
    "duration": 19,
    "start_time": "2022-03-14T17:46:33.936Z"
   },
   {
    "duration": 45,
    "start_time": "2022-03-14T17:46:33.957Z"
   },
   {
    "duration": 12,
    "start_time": "2022-03-14T17:46:34.005Z"
   },
   {
    "duration": 34,
    "start_time": "2022-03-14T17:46:34.020Z"
   },
   {
    "duration": 129,
    "start_time": "2022-03-14T17:46:51.980Z"
   },
   {
    "duration": 38,
    "start_time": "2022-03-14T17:46:57.074Z"
   },
   {
    "duration": 528,
    "start_time": "2022-03-14T17:47:20.901Z"
   },
   {
    "duration": 548,
    "start_time": "2022-03-14T17:47:26.854Z"
   },
   {
    "duration": 89,
    "start_time": "2022-03-14T17:47:30.278Z"
   },
   {
    "duration": 7,
    "start_time": "2022-03-14T17:47:30.370Z"
   },
   {
    "duration": 41,
    "start_time": "2022-03-14T17:47:30.379Z"
   },
   {
    "duration": 23,
    "start_time": "2022-03-14T17:47:30.422Z"
   },
   {
    "duration": 38,
    "start_time": "2022-03-14T17:47:30.447Z"
   },
   {
    "duration": 645,
    "start_time": "2022-03-14T17:47:30.486Z"
   },
   {
    "duration": -9,
    "start_time": "2022-03-14T17:47:31.143Z"
   },
   {
    "duration": -9,
    "start_time": "2022-03-14T17:47:31.144Z"
   },
   {
    "duration": 455,
    "start_time": "2022-03-14T17:47:48.032Z"
   },
   {
    "duration": 118,
    "start_time": "2022-03-14T17:47:50.625Z"
   },
   {
    "duration": 6,
    "start_time": "2022-03-14T17:47:50.745Z"
   },
   {
    "duration": 29,
    "start_time": "2022-03-14T17:47:50.754Z"
   },
   {
    "duration": 24,
    "start_time": "2022-03-14T17:47:50.786Z"
   },
   {
    "duration": 54,
    "start_time": "2022-03-14T17:47:50.812Z"
   },
   {
    "duration": 477,
    "start_time": "2022-03-14T17:47:50.868Z"
   },
   {
    "duration": 40,
    "start_time": "2022-03-14T17:47:51.308Z"
   },
   {
    "duration": 41,
    "start_time": "2022-03-14T17:47:51.309Z"
   },
   {
    "duration": 498,
    "start_time": "2022-03-14T17:48:10.135Z"
   },
   {
    "duration": 102,
    "start_time": "2022-03-14T17:48:12.832Z"
   },
   {
    "duration": 5,
    "start_time": "2022-03-14T17:48:12.937Z"
   },
   {
    "duration": 47,
    "start_time": "2022-03-14T17:48:12.944Z"
   },
   {
    "duration": 38,
    "start_time": "2022-03-14T17:48:12.993Z"
   },
   {
    "duration": 32,
    "start_time": "2022-03-14T17:48:13.033Z"
   },
   {
    "duration": 491,
    "start_time": "2022-03-14T17:48:13.068Z"
   },
   {
    "duration": 84,
    "start_time": "2022-03-14T17:48:13.477Z"
   },
   {
    "duration": 85,
    "start_time": "2022-03-14T17:48:13.477Z"
   },
   {
    "duration": 464,
    "start_time": "2022-03-14T17:48:40.089Z"
   },
   {
    "duration": 110,
    "start_time": "2022-03-14T17:48:42.897Z"
   },
   {
    "duration": 6,
    "start_time": "2022-03-14T17:48:43.011Z"
   },
   {
    "duration": 25,
    "start_time": "2022-03-14T17:48:43.020Z"
   },
   {
    "duration": 14,
    "start_time": "2022-03-14T17:48:43.047Z"
   },
   {
    "duration": 18,
    "start_time": "2022-03-14T17:48:43.063Z"
   },
   {
    "duration": 500,
    "start_time": "2022-03-14T17:48:43.083Z"
   },
   {
    "duration": 48,
    "start_time": "2022-03-14T17:48:43.537Z"
   },
   {
    "duration": 48,
    "start_time": "2022-03-14T17:48:43.538Z"
   },
   {
    "duration": 84,
    "start_time": "2022-03-14T17:50:48.824Z"
   },
   {
    "duration": 5,
    "start_time": "2022-03-14T17:50:48.910Z"
   },
   {
    "duration": 9,
    "start_time": "2022-03-14T17:50:48.917Z"
   },
   {
    "duration": 15,
    "start_time": "2022-03-14T17:50:48.928Z"
   },
   {
    "duration": 16,
    "start_time": "2022-03-14T17:50:48.945Z"
   },
   {
    "duration": 625,
    "start_time": "2022-03-14T17:50:48.963Z"
   },
   {
    "duration": 1,
    "start_time": "2022-03-14T17:50:49.589Z"
   },
   {
    "duration": 2,
    "start_time": "2022-03-14T17:50:49.590Z"
   },
   {
    "duration": 494,
    "start_time": "2022-03-14T17:51:17.290Z"
   },
   {
    "duration": 112,
    "start_time": "2022-03-14T17:51:22.391Z"
   },
   {
    "duration": 17,
    "start_time": "2022-03-14T17:51:22.505Z"
   },
   {
    "duration": 11,
    "start_time": "2022-03-14T17:51:22.525Z"
   },
   {
    "duration": 8,
    "start_time": "2022-03-14T17:51:22.538Z"
   },
   {
    "duration": 16,
    "start_time": "2022-03-14T17:51:22.549Z"
   },
   {
    "duration": 482,
    "start_time": "2022-03-14T17:51:22.568Z"
   },
   {
    "duration": -18,
    "start_time": "2022-03-14T17:51:23.071Z"
   },
   {
    "duration": -18,
    "start_time": "2022-03-14T17:51:23.072Z"
   },
   {
    "duration": 81,
    "start_time": "2022-03-14T17:54:11.704Z"
   },
   {
    "duration": 89,
    "start_time": "2022-03-14T17:54:15.566Z"
   },
   {
    "duration": 456,
    "start_time": "2022-03-14T17:56:03.195Z"
   },
   {
    "duration": 481,
    "start_time": "2022-03-14T17:56:40.227Z"
   },
   {
    "duration": 81,
    "start_time": "2022-03-14T17:56:42.823Z"
   },
   {
    "duration": 48,
    "start_time": "2022-03-14T17:56:42.906Z"
   },
   {
    "duration": 19,
    "start_time": "2022-03-14T17:56:42.956Z"
   },
   {
    "duration": 16,
    "start_time": "2022-03-14T17:56:42.977Z"
   },
   {
    "duration": 12,
    "start_time": "2022-03-14T17:56:43.001Z"
   },
   {
    "duration": 441,
    "start_time": "2022-03-14T17:56:43.015Z"
   },
   {
    "duration": -26,
    "start_time": "2022-03-14T17:56:43.484Z"
   },
   {
    "duration": -25,
    "start_time": "2022-03-14T17:56:43.484Z"
   },
   {
    "duration": 510,
    "start_time": "2022-03-14T17:56:46.475Z"
   },
   {
    "duration": 454,
    "start_time": "2022-03-14T17:57:06.864Z"
   },
   {
    "duration": 469,
    "start_time": "2022-03-14T17:57:08.557Z"
   },
   {
    "duration": 71,
    "start_time": "2022-03-14T17:57:09.688Z"
   },
   {
    "duration": 5,
    "start_time": "2022-03-14T17:57:09.761Z"
   },
   {
    "duration": 15,
    "start_time": "2022-03-14T17:57:09.768Z"
   },
   {
    "duration": 5,
    "start_time": "2022-03-14T17:57:09.800Z"
   },
   {
    "duration": 28,
    "start_time": "2022-03-14T17:57:09.808Z"
   },
   {
    "duration": 488,
    "start_time": "2022-03-14T17:57:09.838Z"
   },
   {
    "duration": 11,
    "start_time": "2022-03-14T17:57:10.317Z"
   },
   {
    "duration": 11,
    "start_time": "2022-03-14T17:57:10.318Z"
   },
   {
    "duration": 581,
    "start_time": "2022-03-14T17:57:12.748Z"
   },
   {
    "duration": 432,
    "start_time": "2022-03-14T17:57:37.751Z"
   },
   {
    "duration": 71,
    "start_time": "2022-03-14T17:57:40.570Z"
   },
   {
    "duration": 5,
    "start_time": "2022-03-14T17:57:40.643Z"
   },
   {
    "duration": 11,
    "start_time": "2022-03-14T17:57:40.650Z"
   },
   {
    "duration": 6,
    "start_time": "2022-03-14T17:57:40.663Z"
   },
   {
    "duration": 40,
    "start_time": "2022-03-14T17:57:40.671Z"
   },
   {
    "duration": 452,
    "start_time": "2022-03-14T17:57:40.713Z"
   },
   {
    "duration": 32,
    "start_time": "2022-03-14T17:57:41.135Z"
   },
   {
    "duration": 32,
    "start_time": "2022-03-14T17:57:41.136Z"
   },
   {
    "duration": 452,
    "start_time": "2022-03-14T17:57:49.546Z"
   },
   {
    "duration": 458,
    "start_time": "2022-03-14T17:58:03.356Z"
   },
   {
    "duration": 78,
    "start_time": "2022-03-14T17:58:05.523Z"
   },
   {
    "duration": 5,
    "start_time": "2022-03-14T17:58:05.603Z"
   },
   {
    "duration": 34,
    "start_time": "2022-03-14T17:58:05.610Z"
   },
   {
    "duration": 25,
    "start_time": "2022-03-14T17:58:05.646Z"
   },
   {
    "duration": 31,
    "start_time": "2022-03-14T17:58:05.673Z"
   },
   {
    "duration": 501,
    "start_time": "2022-03-14T17:58:05.707Z"
   },
   {
    "duration": 30,
    "start_time": "2022-03-14T17:58:06.180Z"
   },
   {
    "duration": 31,
    "start_time": "2022-03-14T17:58:06.180Z"
   },
   {
    "duration": 727,
    "start_time": "2022-03-14T17:58:09.274Z"
   },
   {
    "duration": 451,
    "start_time": "2022-03-14T17:58:59.565Z"
   },
   {
    "duration": 443,
    "start_time": "2022-03-14T17:59:19.335Z"
   },
   {
    "duration": 83,
    "start_time": "2022-03-14T17:59:21.623Z"
   },
   {
    "duration": 6,
    "start_time": "2022-03-14T17:59:21.709Z"
   },
   {
    "duration": 9,
    "start_time": "2022-03-14T17:59:21.718Z"
   },
   {
    "duration": 10,
    "start_time": "2022-03-14T17:59:21.729Z"
   },
   {
    "duration": 15,
    "start_time": "2022-03-14T17:59:21.741Z"
   },
   {
    "duration": 461,
    "start_time": "2022-03-14T17:59:21.758Z"
   },
   {
    "duration": -46,
    "start_time": "2022-03-14T17:59:22.268Z"
   },
   {
    "duration": -45,
    "start_time": "2022-03-14T17:59:22.268Z"
   },
   {
    "duration": 525,
    "start_time": "2022-03-14T18:04:11.079Z"
   },
   {
    "duration": 108,
    "start_time": "2022-03-14T18:04:15.048Z"
   },
   {
    "duration": 21,
    "start_time": "2022-03-14T18:04:15.159Z"
   },
   {
    "duration": 8,
    "start_time": "2022-03-14T18:04:15.182Z"
   },
   {
    "duration": 11,
    "start_time": "2022-03-14T18:04:15.193Z"
   },
   {
    "duration": 22,
    "start_time": "2022-03-14T18:04:15.206Z"
   },
   {
    "duration": 628,
    "start_time": "2022-03-14T18:04:15.230Z"
   },
   {
    "duration": -102,
    "start_time": "2022-03-14T18:04:15.963Z"
   },
   {
    "duration": -102,
    "start_time": "2022-03-14T18:04:15.964Z"
   },
   {
    "duration": 512,
    "start_time": "2022-03-14T18:04:35.169Z"
   },
   {
    "duration": 679,
    "start_time": "2022-03-14T18:07:14.541Z"
   },
   {
    "duration": 1204,
    "start_time": "2022-03-14T18:07:51.798Z"
   },
   {
    "duration": 91,
    "start_time": "2022-03-14T18:07:55.191Z"
   },
   {
    "duration": 19,
    "start_time": "2022-03-14T18:07:55.285Z"
   },
   {
    "duration": 12,
    "start_time": "2022-03-14T18:07:55.306Z"
   },
   {
    "duration": 9,
    "start_time": "2022-03-14T18:07:55.321Z"
   },
   {
    "duration": 27,
    "start_time": "2022-03-14T18:07:55.332Z"
   },
   {
    "duration": 1194,
    "start_time": "2022-03-14T18:07:55.361Z"
   },
   {
    "duration": -78,
    "start_time": "2022-03-14T18:07:56.635Z"
   },
   {
    "duration": -79,
    "start_time": "2022-03-14T18:07:56.637Z"
   },
   {
    "duration": 1183,
    "start_time": "2022-03-14T18:08:00.368Z"
   },
   {
    "duration": 84,
    "start_time": "2022-03-14T18:09:22.747Z"
   },
   {
    "duration": 91,
    "start_time": "2022-03-14T18:09:30.591Z"
   },
   {
    "duration": 80,
    "start_time": "2022-03-14T18:09:35.070Z"
   },
   {
    "duration": 80,
    "start_time": "2022-03-14T18:09:37.654Z"
   },
   {
    "duration": 6,
    "start_time": "2022-03-14T18:09:37.736Z"
   },
   {
    "duration": 16,
    "start_time": "2022-03-14T18:09:37.745Z"
   },
   {
    "duration": 17,
    "start_time": "2022-03-14T18:09:37.764Z"
   },
   {
    "duration": 27,
    "start_time": "2022-03-14T18:09:37.783Z"
   },
   {
    "duration": 89,
    "start_time": "2022-03-14T18:09:37.812Z"
   },
   {
    "duration": 32,
    "start_time": "2022-03-14T18:09:37.871Z"
   },
   {
    "duration": 35,
    "start_time": "2022-03-14T18:09:37.872Z"
   },
   {
    "duration": 25,
    "start_time": "2022-03-14T18:10:10.982Z"
   },
   {
    "duration": 30,
    "start_time": "2022-03-14T18:10:20.024Z"
   },
   {
    "duration": 434,
    "start_time": "2022-03-14T18:12:00.427Z"
   },
   {
    "duration": 436,
    "start_time": "2022-03-14T18:12:02.025Z"
   },
   {
    "duration": 490,
    "start_time": "2022-03-14T18:12:38.259Z"
   },
   {
    "duration": 78,
    "start_time": "2022-03-14T18:12:40.831Z"
   },
   {
    "duration": 5,
    "start_time": "2022-03-14T18:12:40.911Z"
   },
   {
    "duration": 11,
    "start_time": "2022-03-14T18:12:40.918Z"
   },
   {
    "duration": 10,
    "start_time": "2022-03-14T18:12:40.931Z"
   },
   {
    "duration": 24,
    "start_time": "2022-03-14T18:12:40.943Z"
   },
   {
    "duration": 524,
    "start_time": "2022-03-14T18:12:40.969Z"
   },
   {
    "duration": -25,
    "start_time": "2022-03-14T18:12:41.520Z"
   },
   {
    "duration": -25,
    "start_time": "2022-03-14T18:12:41.521Z"
   },
   {
    "duration": 441,
    "start_time": "2022-03-14T18:12:48.742Z"
   },
   {
    "duration": 492,
    "start_time": "2022-03-14T18:13:20.584Z"
   },
   {
    "duration": 437,
    "start_time": "2022-03-14T18:13:49.415Z"
   },
   {
    "duration": 435,
    "start_time": "2022-03-14T18:13:53.515Z"
   },
   {
    "duration": 77,
    "start_time": "2022-03-14T18:13:54.676Z"
   },
   {
    "duration": 6,
    "start_time": "2022-03-14T18:13:54.755Z"
   },
   {
    "duration": 12,
    "start_time": "2022-03-14T18:13:54.764Z"
   },
   {
    "duration": 24,
    "start_time": "2022-03-14T18:13:54.779Z"
   },
   {
    "duration": 36,
    "start_time": "2022-03-14T18:13:54.805Z"
   },
   {
    "duration": 448,
    "start_time": "2022-03-14T18:13:54.843Z"
   },
   {
    "duration": -51,
    "start_time": "2022-03-14T18:13:55.344Z"
   },
   {
    "duration": -51,
    "start_time": "2022-03-14T18:13:55.345Z"
   },
   {
    "duration": 480,
    "start_time": "2022-03-14T18:15:13.846Z"
   },
   {
    "duration": 82,
    "start_time": "2022-03-14T18:15:15.650Z"
   },
   {
    "duration": 5,
    "start_time": "2022-03-14T18:15:15.734Z"
   },
   {
    "duration": 74,
    "start_time": "2022-03-14T18:15:15.741Z"
   },
   {
    "duration": 17,
    "start_time": "2022-03-14T18:15:15.817Z"
   },
   {
    "duration": 20,
    "start_time": "2022-03-14T18:15:15.836Z"
   },
   {
    "duration": 490,
    "start_time": "2022-03-14T18:15:15.858Z"
   },
   {
    "duration": -99,
    "start_time": "2022-03-14T18:15:16.449Z"
   },
   {
    "duration": -99,
    "start_time": "2022-03-14T18:15:16.450Z"
   },
   {
    "duration": 526,
    "start_time": "2022-03-14T18:15:20.226Z"
   },
   {
    "duration": 450,
    "start_time": "2022-03-14T18:15:34.140Z"
   },
   {
    "duration": 458,
    "start_time": "2022-03-14T18:16:01.781Z"
   },
   {
    "duration": 79,
    "start_time": "2022-03-14T18:20:24.965Z"
   },
   {
    "duration": 419,
    "start_time": "2022-03-14T18:20:41.766Z"
   },
   {
    "duration": 623,
    "start_time": "2022-03-14T18:20:50.012Z"
   },
   {
    "duration": 486,
    "start_time": "2022-03-14T18:20:53.349Z"
   },
   {
    "duration": 470,
    "start_time": "2022-03-14T18:21:44.672Z"
   },
   {
    "duration": 464,
    "start_time": "2022-03-14T18:21:51.877Z"
   },
   {
    "duration": 635,
    "start_time": "2022-03-14T18:22:09.741Z"
   },
   {
    "duration": 21,
    "start_time": "2022-03-14T18:25:54.526Z"
   },
   {
    "duration": 12,
    "start_time": "2022-03-14T18:25:58.195Z"
   },
   {
    "duration": 21,
    "start_time": "2022-03-14T18:28:00.592Z"
   },
   {
    "duration": 40,
    "start_time": "2022-03-14T18:28:10.227Z"
   },
   {
    "duration": 72,
    "start_time": "2022-03-14T18:28:28.652Z"
   },
   {
    "duration": 5,
    "start_time": "2022-03-14T18:28:28.726Z"
   },
   {
    "duration": 15,
    "start_time": "2022-03-14T18:28:28.733Z"
   },
   {
    "duration": 7,
    "start_time": "2022-03-14T18:28:28.751Z"
   },
   {
    "duration": 18,
    "start_time": "2022-03-14T18:28:28.760Z"
   },
   {
    "duration": 83,
    "start_time": "2022-03-14T18:28:28.780Z"
   },
   {
    "duration": 48,
    "start_time": "2022-03-14T18:28:28.865Z"
   },
   {
    "duration": 23,
    "start_time": "2022-03-14T18:28:28.915Z"
   },
   {
    "duration": 20,
    "start_time": "2022-03-14T18:28:49.845Z"
   },
   {
    "duration": 35,
    "start_time": "2022-03-14T18:28:52.280Z"
   },
   {
    "duration": 286,
    "start_time": "2022-03-14T18:29:02.308Z"
   },
   {
    "duration": 30,
    "start_time": "2022-03-14T18:29:04.668Z"
   },
   {
    "duration": 21,
    "start_time": "2022-03-14T18:29:14.627Z"
   },
   {
    "duration": 30,
    "start_time": "2022-03-14T18:29:18.224Z"
   },
   {
    "duration": 32,
    "start_time": "2022-03-14T18:29:30.773Z"
   },
   {
    "duration": 4,
    "start_time": "2022-03-14T18:29:33.143Z"
   },
   {
    "duration": 31,
    "start_time": "2022-03-14T18:29:35.503Z"
   },
   {
    "duration": 29,
    "start_time": "2022-03-14T18:52:17.132Z"
   },
   {
    "duration": 264,
    "start_time": "2022-03-14T19:00:40.483Z"
   },
   {
    "duration": 253,
    "start_time": "2022-03-14T19:00:51.226Z"
   },
   {
    "duration": 18,
    "start_time": "2022-03-14T19:05:57.247Z"
   },
   {
    "duration": 23,
    "start_time": "2022-03-14T19:06:18.859Z"
   },
   {
    "duration": 16,
    "start_time": "2022-03-14T19:06:31.686Z"
   },
   {
    "duration": 70,
    "start_time": "2022-03-14T19:06:41.517Z"
   },
   {
    "duration": 16,
    "start_time": "2022-03-14T19:06:41.590Z"
   },
   {
    "duration": 5,
    "start_time": "2022-03-14T19:06:41.608Z"
   },
   {
    "duration": 9,
    "start_time": "2022-03-14T19:06:41.615Z"
   },
   {
    "duration": 8,
    "start_time": "2022-03-14T19:06:41.625Z"
   },
   {
    "duration": 16,
    "start_time": "2022-03-14T19:06:41.635Z"
   },
   {
    "duration": 5,
    "start_time": "2022-03-14T19:06:41.653Z"
   },
   {
    "duration": 66,
    "start_time": "2022-03-14T19:06:41.659Z"
   },
   {
    "duration": 25,
    "start_time": "2022-03-14T19:06:41.728Z"
   },
   {
    "duration": 47,
    "start_time": "2022-03-14T19:06:41.755Z"
   },
   {
    "duration": 269,
    "start_time": "2022-03-14T19:07:18.451Z"
   },
   {
    "duration": 22,
    "start_time": "2022-03-14T19:07:23.830Z"
   },
   {
    "duration": 86,
    "start_time": "2022-03-14T19:07:43.568Z"
   },
   {
    "duration": 18,
    "start_time": "2022-03-14T19:07:43.657Z"
   },
   {
    "duration": 26,
    "start_time": "2022-03-14T19:07:43.678Z"
   },
   {
    "duration": 9,
    "start_time": "2022-03-14T19:07:43.707Z"
   },
   {
    "duration": 8,
    "start_time": "2022-03-14T19:07:43.719Z"
   },
   {
    "duration": 21,
    "start_time": "2022-03-14T19:07:43.730Z"
   },
   {
    "duration": 5,
    "start_time": "2022-03-14T19:07:43.754Z"
   },
   {
    "duration": 70,
    "start_time": "2022-03-14T19:07:43.761Z"
   },
   {
    "duration": 29,
    "start_time": "2022-03-14T19:07:43.834Z"
   },
   {
    "duration": 54,
    "start_time": "2022-03-14T19:07:43.865Z"
   },
   {
    "duration": 9,
    "start_time": "2022-03-14T19:09:39.553Z"
   },
   {
    "duration": 68,
    "start_time": "2022-03-14T19:09:47.823Z"
   },
   {
    "duration": 7,
    "start_time": "2022-03-14T19:09:47.893Z"
   },
   {
    "duration": 30,
    "start_time": "2022-03-14T19:09:47.902Z"
   },
   {
    "duration": 25,
    "start_time": "2022-03-14T19:09:47.934Z"
   },
   {
    "duration": 26,
    "start_time": "2022-03-14T19:09:47.961Z"
   },
   {
    "duration": 33,
    "start_time": "2022-03-14T19:09:47.990Z"
   },
   {
    "duration": 16,
    "start_time": "2022-03-14T19:09:48.026Z"
   },
   {
    "duration": 66,
    "start_time": "2022-03-14T19:09:48.044Z"
   },
   {
    "duration": 25,
    "start_time": "2022-03-14T19:09:48.113Z"
   },
   {
    "duration": 24,
    "start_time": "2022-03-14T19:09:48.140Z"
   },
   {
    "duration": 244,
    "start_time": "2022-03-14T19:11:17.233Z"
   },
   {
    "duration": 8,
    "start_time": "2022-03-14T19:12:16.831Z"
   },
   {
    "duration": 69,
    "start_time": "2022-03-14T19:12:23.331Z"
   },
   {
    "duration": 6,
    "start_time": "2022-03-14T19:12:23.402Z"
   },
   {
    "duration": 9,
    "start_time": "2022-03-14T19:12:23.410Z"
   },
   {
    "duration": 12,
    "start_time": "2022-03-14T19:12:23.421Z"
   },
   {
    "duration": 9,
    "start_time": "2022-03-14T19:12:23.435Z"
   },
   {
    "duration": 19,
    "start_time": "2022-03-14T19:12:23.446Z"
   },
   {
    "duration": 4,
    "start_time": "2022-03-14T19:12:23.467Z"
   },
   {
    "duration": 53,
    "start_time": "2022-03-14T19:12:23.473Z"
   },
   {
    "duration": 23,
    "start_time": "2022-03-14T19:12:23.528Z"
   },
   {
    "duration": 50,
    "start_time": "2022-03-14T19:12:23.553Z"
   },
   {
    "duration": 69,
    "start_time": "2022-03-14T19:12:52.731Z"
   },
   {
    "duration": 7,
    "start_time": "2022-03-14T19:12:52.802Z"
   },
   {
    "duration": 8,
    "start_time": "2022-03-14T19:12:52.812Z"
   },
   {
    "duration": 7,
    "start_time": "2022-03-14T19:12:52.822Z"
   },
   {
    "duration": 7,
    "start_time": "2022-03-14T19:12:52.831Z"
   },
   {
    "duration": 18,
    "start_time": "2022-03-14T19:12:52.839Z"
   },
   {
    "duration": 4,
    "start_time": "2022-03-14T19:12:52.859Z"
   },
   {
    "duration": 59,
    "start_time": "2022-03-14T19:12:52.864Z"
   },
   {
    "duration": 27,
    "start_time": "2022-03-14T19:12:52.926Z"
   },
   {
    "duration": 25,
    "start_time": "2022-03-14T19:12:52.955Z"
   },
   {
    "duration": 9,
    "start_time": "2022-03-14T19:18:56.736Z"
   },
   {
    "duration": 8,
    "start_time": "2022-03-14T19:20:12.386Z"
   },
   {
    "duration": 253,
    "start_time": "2022-03-14T19:25:13.143Z"
   },
   {
    "duration": 23,
    "start_time": "2022-03-14T19:25:31.230Z"
   },
   {
    "duration": 25,
    "start_time": "2022-03-14T19:25:49.615Z"
   },
   {
    "duration": 250,
    "start_time": "2022-03-14T19:26:12.717Z"
   },
   {
    "duration": 24,
    "start_time": "2022-03-14T19:26:50.523Z"
   },
   {
    "duration": 71,
    "start_time": "2022-03-14T19:29:51.561Z"
   },
   {
    "duration": 7,
    "start_time": "2022-03-14T19:29:51.635Z"
   },
   {
    "duration": 11,
    "start_time": "2022-03-14T19:29:51.644Z"
   },
   {
    "duration": 10,
    "start_time": "2022-03-14T19:29:51.657Z"
   },
   {
    "duration": 13,
    "start_time": "2022-03-14T19:29:51.669Z"
   },
   {
    "duration": 28,
    "start_time": "2022-03-14T19:29:51.684Z"
   },
   {
    "duration": 4,
    "start_time": "2022-03-14T19:29:51.714Z"
   },
   {
    "duration": 45,
    "start_time": "2022-03-14T19:29:51.719Z"
   },
   {
    "duration": 42,
    "start_time": "2022-03-14T19:29:51.766Z"
   },
   {
    "duration": 26,
    "start_time": "2022-03-14T19:29:51.810Z"
   },
   {
    "duration": 9,
    "start_time": "2022-03-14T19:30:13.309Z"
   },
   {
    "duration": 9,
    "start_time": "2022-03-14T19:32:03.328Z"
   },
   {
    "duration": 71,
    "start_time": "2022-03-14T19:50:53.469Z"
   },
   {
    "duration": 7,
    "start_time": "2022-03-14T19:50:53.542Z"
   },
   {
    "duration": 9,
    "start_time": "2022-03-14T19:50:53.551Z"
   },
   {
    "duration": 11,
    "start_time": "2022-03-14T19:50:53.562Z"
   },
   {
    "duration": 28,
    "start_time": "2022-03-14T19:50:53.575Z"
   },
   {
    "duration": 15,
    "start_time": "2022-03-14T19:50:53.605Z"
   },
   {
    "duration": 7,
    "start_time": "2022-03-14T19:50:53.622Z"
   },
   {
    "duration": 49,
    "start_time": "2022-03-14T19:50:53.631Z"
   },
   {
    "duration": 33,
    "start_time": "2022-03-14T19:50:53.682Z"
   },
   {
    "duration": 28,
    "start_time": "2022-03-14T19:50:53.717Z"
   },
   {
    "duration": 27,
    "start_time": "2022-03-14T19:51:35.269Z"
   },
   {
    "duration": 31,
    "start_time": "2022-03-14T19:51:50.180Z"
   },
   {
    "duration": 99,
    "start_time": "2022-03-14T20:00:58.956Z"
   },
   {
    "duration": 80,
    "start_time": "2022-03-14T20:01:06.436Z"
   },
   {
    "duration": 76,
    "start_time": "2022-03-14T20:03:23.510Z"
   },
   {
    "duration": 286,
    "start_time": "2022-03-14T20:03:29.492Z"
   },
   {
    "duration": 84,
    "start_time": "2022-03-14T20:03:46.489Z"
   },
   {
    "duration": 303,
    "start_time": "2022-03-14T20:04:21.984Z"
   },
   {
    "duration": 70,
    "start_time": "2022-03-14T20:04:24.736Z"
   },
   {
    "duration": 8,
    "start_time": "2022-03-14T20:04:24.808Z"
   },
   {
    "duration": 6,
    "start_time": "2022-03-14T20:04:24.818Z"
   },
   {
    "duration": 8,
    "start_time": "2022-03-14T20:04:24.826Z"
   },
   {
    "duration": 11,
    "start_time": "2022-03-14T20:04:24.836Z"
   },
   {
    "duration": 13,
    "start_time": "2022-03-14T20:04:24.849Z"
   },
   {
    "duration": 4,
    "start_time": "2022-03-14T20:04:24.864Z"
   },
   {
    "duration": 31,
    "start_time": "2022-03-14T20:04:24.901Z"
   },
   {
    "duration": 23,
    "start_time": "2022-03-14T20:04:24.935Z"
   },
   {
    "duration": 243,
    "start_time": "2022-03-14T20:04:24.960Z"
   },
   {
    "duration": 258,
    "start_time": "2022-03-14T20:04:59.041Z"
   },
   {
    "duration": 80,
    "start_time": "2022-03-14T20:05:02.324Z"
   },
   {
    "duration": 119,
    "start_time": "2022-03-14T20:05:02.406Z"
   },
   {
    "duration": 64,
    "start_time": "2022-03-14T20:05:02.528Z"
   },
   {
    "duration": 60,
    "start_time": "2022-03-14T20:05:02.594Z"
   },
   {
    "duration": 48,
    "start_time": "2022-03-14T20:05:02.656Z"
   },
   {
    "duration": 28,
    "start_time": "2022-03-14T20:05:02.706Z"
   },
   {
    "duration": 19,
    "start_time": "2022-03-14T20:05:02.736Z"
   },
   {
    "duration": 75,
    "start_time": "2022-03-14T20:05:02.757Z"
   },
   {
    "duration": 35,
    "start_time": "2022-03-14T20:05:02.835Z"
   },
   {
    "duration": 329,
    "start_time": "2022-03-14T20:05:02.872Z"
   },
   {
    "duration": 253,
    "start_time": "2022-03-14T20:05:35.345Z"
   },
   {
    "duration": 259,
    "start_time": "2022-03-14T20:06:29.552Z"
   },
   {
    "duration": 353,
    "start_time": "2022-03-14T20:11:33.313Z"
   },
   {
    "duration": 70,
    "start_time": "2022-03-14T20:11:58.327Z"
   },
   {
    "duration": 7,
    "start_time": "2022-03-14T20:11:58.399Z"
   },
   {
    "duration": 8,
    "start_time": "2022-03-14T20:11:58.408Z"
   },
   {
    "duration": 13,
    "start_time": "2022-03-14T20:11:58.418Z"
   },
   {
    "duration": 13,
    "start_time": "2022-03-14T20:11:58.433Z"
   },
   {
    "duration": 17,
    "start_time": "2022-03-14T20:11:58.448Z"
   },
   {
    "duration": 4,
    "start_time": "2022-03-14T20:11:58.466Z"
   },
   {
    "duration": 59,
    "start_time": "2022-03-14T20:11:58.473Z"
   },
   {
    "duration": 26,
    "start_time": "2022-03-14T20:11:58.534Z"
   },
   {
    "duration": 250,
    "start_time": "2022-03-14T20:11:58.562Z"
   },
   {
    "duration": 268,
    "start_time": "2022-03-14T20:12:01.333Z"
   },
   {
    "duration": 1977,
    "start_time": "2022-03-14T20:12:32.979Z"
   },
   {
    "duration": 1668,
    "start_time": "2022-03-14T20:12:35.839Z"
   },
   {
    "duration": 49,
    "start_time": "2022-03-14T20:13:15.000Z"
   },
   {
    "duration": 41,
    "start_time": "2022-03-14T20:13:36.368Z"
   },
   {
    "duration": 65,
    "start_time": "2022-03-14T20:13:38.447Z"
   },
   {
    "duration": 9,
    "start_time": "2022-03-14T20:13:38.514Z"
   },
   {
    "duration": 6,
    "start_time": "2022-03-14T20:13:38.525Z"
   },
   {
    "duration": 12,
    "start_time": "2022-03-14T20:13:38.533Z"
   },
   {
    "duration": 12,
    "start_time": "2022-03-14T20:13:38.547Z"
   },
   {
    "duration": 40,
    "start_time": "2022-03-14T20:13:38.561Z"
   },
   {
    "duration": 6,
    "start_time": "2022-03-14T20:13:38.603Z"
   },
   {
    "duration": 41,
    "start_time": "2022-03-14T20:13:38.611Z"
   },
   {
    "duration": 25,
    "start_time": "2022-03-14T20:13:38.654Z"
   },
   {
    "duration": 62,
    "start_time": "2022-03-14T20:13:38.680Z"
   },
   {
    "duration": 37,
    "start_time": "2022-03-14T20:14:11.997Z"
   },
   {
    "duration": 70,
    "start_time": "2022-03-14T20:14:17.104Z"
   },
   {
    "duration": 8,
    "start_time": "2022-03-14T20:14:17.177Z"
   },
   {
    "duration": 6,
    "start_time": "2022-03-14T20:14:17.201Z"
   },
   {
    "duration": 9,
    "start_time": "2022-03-14T20:14:17.210Z"
   },
   {
    "duration": 10,
    "start_time": "2022-03-14T20:14:17.221Z"
   },
   {
    "duration": 12,
    "start_time": "2022-03-14T20:14:17.233Z"
   },
   {
    "duration": 4,
    "start_time": "2022-03-14T20:14:17.246Z"
   },
   {
    "duration": 65,
    "start_time": "2022-03-14T20:14:17.252Z"
   },
   {
    "duration": 24,
    "start_time": "2022-03-14T20:14:17.319Z"
   },
   {
    "duration": 66,
    "start_time": "2022-03-14T20:14:17.346Z"
   },
   {
    "duration": 38,
    "start_time": "2022-03-14T20:14:44.169Z"
   },
   {
    "duration": 67,
    "start_time": "2022-03-14T20:14:47.372Z"
   },
   {
    "duration": 8,
    "start_time": "2022-03-14T20:14:47.441Z"
   },
   {
    "duration": 8,
    "start_time": "2022-03-14T20:14:47.451Z"
   },
   {
    "duration": 13,
    "start_time": "2022-03-14T20:14:47.461Z"
   },
   {
    "duration": 26,
    "start_time": "2022-03-14T20:14:47.476Z"
   },
   {
    "duration": 12,
    "start_time": "2022-03-14T20:14:47.504Z"
   },
   {
    "duration": 9,
    "start_time": "2022-03-14T20:14:47.518Z"
   },
   {
    "duration": 33,
    "start_time": "2022-03-14T20:14:47.528Z"
   },
   {
    "duration": 44,
    "start_time": "2022-03-14T20:14:47.563Z"
   },
   {
    "duration": 42,
    "start_time": "2022-03-14T20:14:47.609Z"
   },
   {
    "duration": 38,
    "start_time": "2022-03-14T20:15:05.134Z"
   },
   {
    "duration": 38,
    "start_time": "2022-03-14T20:16:20.573Z"
   },
   {
    "duration": 973,
    "start_time": "2022-03-14T20:19:30.953Z"
   },
   {
    "duration": 1014,
    "start_time": "2022-03-14T20:19:33.684Z"
   },
   {
    "duration": 630,
    "start_time": "2022-03-14T20:20:31.123Z"
   },
   {
    "duration": 653,
    "start_time": "2022-03-14T20:21:49.651Z"
   },
   {
    "duration": 605,
    "start_time": "2022-03-14T20:21:58.287Z"
   },
   {
    "duration": 629,
    "start_time": "2022-03-14T20:22:19.149Z"
   },
   {
    "duration": 616,
    "start_time": "2022-03-14T20:22:43.607Z"
   },
   {
    "duration": 678,
    "start_time": "2022-03-14T20:22:53.928Z"
   },
   {
    "duration": 318,
    "start_time": "2022-03-15T17:14:27.549Z"
   },
   {
    "duration": 719,
    "start_time": "2022-03-15T17:14:39.761Z"
   },
   {
    "duration": 10,
    "start_time": "2022-03-15T17:14:40.482Z"
   },
   {
    "duration": 9,
    "start_time": "2022-03-15T17:14:40.494Z"
   },
   {
    "duration": 8,
    "start_time": "2022-03-15T17:14:40.505Z"
   },
   {
    "duration": 6,
    "start_time": "2022-03-15T17:14:40.515Z"
   },
   {
    "duration": 14,
    "start_time": "2022-03-15T17:14:40.523Z"
   },
   {
    "duration": 4,
    "start_time": "2022-03-15T17:14:40.539Z"
   },
   {
    "duration": 68,
    "start_time": "2022-03-15T17:14:40.544Z"
   },
   {
    "duration": 26,
    "start_time": "2022-03-15T17:14:40.614Z"
   },
   {
    "duration": 678,
    "start_time": "2022-03-15T17:14:40.642Z"
   },
   {
    "duration": 313,
    "start_time": "2022-03-15T17:14:41.322Z"
   },
   {
    "duration": 202,
    "start_time": "2022-03-15T17:16:12.826Z"
   },
   {
    "duration": 326,
    "start_time": "2022-03-15T17:16:17.662Z"
   },
   {
    "duration": 496,
    "start_time": "2022-03-15T17:16:25.553Z"
   },
   {
    "duration": 1850,
    "start_time": "2022-03-15T17:16:34.690Z"
   },
   {
    "duration": 495,
    "start_time": "2022-03-15T17:16:51.362Z"
   },
   {
    "duration": 909,
    "start_time": "2022-03-15T17:16:56.955Z"
   },
   {
    "duration": 3791,
    "start_time": "2022-03-15T17:23:58.970Z"
   },
   {
    "duration": 2049,
    "start_time": "2022-03-15T17:24:29.463Z"
   },
   {
    "duration": 2019,
    "start_time": "2022-03-15T17:24:45.865Z"
   },
   {
    "duration": 2099,
    "start_time": "2022-03-15T17:24:57.705Z"
   },
   {
    "duration": 111,
    "start_time": "2022-03-15T17:27:26.406Z"
   },
   {
    "duration": 11,
    "start_time": "2022-03-15T17:27:26.520Z"
   },
   {
    "duration": 19,
    "start_time": "2022-03-15T17:27:26.534Z"
   },
   {
    "duration": 9,
    "start_time": "2022-03-15T17:27:26.556Z"
   },
   {
    "duration": 31,
    "start_time": "2022-03-15T17:27:26.568Z"
   },
   {
    "duration": 41,
    "start_time": "2022-03-15T17:27:26.602Z"
   },
   {
    "duration": 5,
    "start_time": "2022-03-15T17:27:26.645Z"
   },
   {
    "duration": 43,
    "start_time": "2022-03-15T17:27:26.652Z"
   },
   {
    "duration": 34,
    "start_time": "2022-03-15T17:27:26.698Z"
   },
   {
    "duration": 720,
    "start_time": "2022-03-15T17:27:26.735Z"
   },
   {
    "duration": 2238,
    "start_time": "2022-03-15T17:27:27.458Z"
   },
   {
    "duration": 2203,
    "start_time": "2022-03-15T17:27:29.698Z"
   },
   {
    "duration": 1939,
    "start_time": "2022-03-15T17:27:31.903Z"
   },
   {
    "duration": 2230,
    "start_time": "2022-03-15T17:27:33.844Z"
   },
   {
    "duration": 203,
    "start_time": "2022-03-15T17:28:17.765Z"
   },
   {
    "duration": 353,
    "start_time": "2022-03-15T17:28:21.686Z"
   },
   {
    "duration": 994,
    "start_time": "2022-03-15T17:28:28.390Z"
   },
   {
    "duration": 1805,
    "start_time": "2022-03-15T17:28:35.861Z"
   },
   {
    "duration": 3899,
    "start_time": "2022-03-15T17:28:48.941Z"
   },
   {
    "duration": 84,
    "start_time": "2022-03-15T17:28:53.256Z"
   },
   {
    "duration": 11,
    "start_time": "2022-03-15T17:28:53.343Z"
   },
   {
    "duration": 5,
    "start_time": "2022-03-15T17:28:53.357Z"
   },
   {
    "duration": 13,
    "start_time": "2022-03-15T17:28:53.365Z"
   },
   {
    "duration": 5,
    "start_time": "2022-03-15T17:28:53.402Z"
   },
   {
    "duration": 12,
    "start_time": "2022-03-15T17:28:53.409Z"
   },
   {
    "duration": 4,
    "start_time": "2022-03-15T17:28:53.424Z"
   },
   {
    "duration": 38,
    "start_time": "2022-03-15T17:28:53.431Z"
   },
   {
    "duration": 25,
    "start_time": "2022-03-15T17:28:53.502Z"
   },
   {
    "duration": 680,
    "start_time": "2022-03-15T17:28:53.530Z"
   },
   {
    "duration": 2525,
    "start_time": "2022-03-15T17:28:54.212Z"
   },
   {
    "duration": 3524,
    "start_time": "2022-03-15T17:28:56.739Z"
   },
   {
    "duration": 2565,
    "start_time": "2022-03-15T17:29:00.265Z"
   },
   {
    "duration": 1821,
    "start_time": "2022-03-15T17:29:02.832Z"
   },
   {
    "duration": 4142,
    "start_time": "2022-03-15T17:30:04.013Z"
   },
   {
    "duration": 3568,
    "start_time": "2022-03-15T17:30:08.839Z"
   },
   {
    "duration": 2608,
    "start_time": "2022-03-15T17:30:25.853Z"
   },
   {
    "duration": 215,
    "start_time": "2022-03-15T17:30:32.765Z"
   },
   {
    "duration": 297,
    "start_time": "2022-03-15T17:30:38.910Z"
   },
   {
    "duration": 371,
    "start_time": "2022-03-15T17:30:45.365Z"
   },
   {
    "duration": 207,
    "start_time": "2022-03-15T17:30:58.052Z"
   },
   {
    "duration": 555,
    "start_time": "2022-03-15T17:31:09.675Z"
   },
   {
    "duration": 193,
    "start_time": "2022-03-15T17:31:16.521Z"
   },
   {
    "duration": 354,
    "start_time": "2022-03-15T17:31:21.589Z"
   },
   {
    "duration": 187,
    "start_time": "2022-03-15T17:31:35.510Z"
   },
   {
    "duration": 345,
    "start_time": "2022-03-15T17:31:40.915Z"
   },
   {
    "duration": 1837,
    "start_time": "2022-03-15T17:31:46.253Z"
   },
   {
    "duration": 342,
    "start_time": "2022-03-15T17:31:54.021Z"
   },
   {
    "duration": 1813,
    "start_time": "2022-03-15T17:32:04.188Z"
   },
   {
    "duration": 1829,
    "start_time": "2022-03-15T17:32:13.407Z"
   },
   {
    "duration": 1110,
    "start_time": "2022-03-15T17:32:22.251Z"
   },
   {
    "duration": 354,
    "start_time": "2022-03-15T17:32:27.865Z"
   },
   {
    "duration": 78,
    "start_time": "2022-03-15T17:33:16.113Z"
   },
   {
    "duration": 10,
    "start_time": "2022-03-15T17:33:16.202Z"
   },
   {
    "duration": 5,
    "start_time": "2022-03-15T17:33:16.214Z"
   },
   {
    "duration": 11,
    "start_time": "2022-03-15T17:33:16.221Z"
   },
   {
    "duration": 9,
    "start_time": "2022-03-15T17:33:16.233Z"
   },
   {
    "duration": 17,
    "start_time": "2022-03-15T17:33:16.244Z"
   },
   {
    "duration": 4,
    "start_time": "2022-03-15T17:33:16.263Z"
   },
   {
    "duration": 31,
    "start_time": "2022-03-15T17:33:16.302Z"
   },
   {
    "duration": 26,
    "start_time": "2022-03-15T17:33:16.335Z"
   },
   {
    "duration": 707,
    "start_time": "2022-03-15T17:33:16.363Z"
   },
   {
    "duration": 1958,
    "start_time": "2022-03-15T17:33:17.072Z"
   },
   {
    "duration": 3613,
    "start_time": "2022-03-15T17:33:19.032Z"
   },
   {
    "duration": 289,
    "start_time": "2022-03-15T17:33:22.647Z"
   },
   {
    "duration": 3663,
    "start_time": "2022-03-15T17:33:22.939Z"
   },
   {
    "duration": 358,
    "start_time": "2022-03-15T17:33:43.730Z"
   },
   {
    "duration": 102,
    "start_time": "2022-03-15T17:34:55.989Z"
   },
   {
    "duration": 491,
    "start_time": "2022-03-15T17:35:01.202Z"
   },
   {
    "duration": 363,
    "start_time": "2022-03-15T17:35:13.783Z"
   },
   {
    "duration": 1824,
    "start_time": "2022-03-15T17:35:30.625Z"
   },
   {
    "duration": 338,
    "start_time": "2022-03-15T17:35:38.191Z"
   },
   {
    "duration": 195,
    "start_time": "2022-03-15T17:35:42.720Z"
   },
   {
    "duration": 199,
    "start_time": "2022-03-15T17:35:47.190Z"
   },
   {
    "duration": 332,
    "start_time": "2022-03-15T17:35:51.694Z"
   },
   {
    "duration": 623,
    "start_time": "2022-03-15T17:36:02.295Z"
   },
   {
    "duration": 1040,
    "start_time": "2022-03-15T17:36:07.142Z"
   },
   {
    "duration": 342,
    "start_time": "2022-03-15T17:36:22.093Z"
   },
   {
    "duration": 252,
    "start_time": "2022-03-15T17:36:30.186Z"
   },
   {
    "duration": 348,
    "start_time": "2022-03-15T17:36:38.867Z"
   },
   {
    "duration": 449,
    "start_time": "2022-03-15T17:36:52.957Z"
   },
   {
    "duration": 201,
    "start_time": "2022-03-15T17:36:58.608Z"
   },
   {
    "duration": 276,
    "start_time": "2022-03-15T17:37:02.774Z"
   },
   {
    "duration": 513,
    "start_time": "2022-03-15T17:37:16.132Z"
   },
   {
    "duration": 323,
    "start_time": "2022-03-15T17:37:23.780Z"
   },
   {
    "duration": 323,
    "start_time": "2022-03-15T17:37:28.483Z"
   },
   {
    "duration": 289,
    "start_time": "2022-03-15T17:37:34.421Z"
   },
   {
    "duration": 441,
    "start_time": "2022-03-15T17:37:42.589Z"
   },
   {
    "duration": 262,
    "start_time": "2022-03-15T17:37:50.443Z"
   },
   {
    "duration": 418,
    "start_time": "2022-03-15T17:38:00.447Z"
   },
   {
    "duration": 275,
    "start_time": "2022-03-15T17:38:16.016Z"
   },
   {
    "duration": 214,
    "start_time": "2022-03-15T17:38:27.836Z"
   },
   {
    "duration": 401,
    "start_time": "2022-03-15T17:38:34.188Z"
   },
   {
    "duration": 318,
    "start_time": "2022-03-15T17:38:40.848Z"
   },
   {
    "duration": 287,
    "start_time": "2022-03-15T17:38:45.968Z"
   },
   {
    "duration": 255,
    "start_time": "2022-03-15T17:38:50.977Z"
   },
   {
    "duration": 263,
    "start_time": "2022-03-15T17:38:54.877Z"
   },
   {
    "duration": 336,
    "start_time": "2022-03-15T17:39:00.550Z"
   },
   {
    "duration": 454,
    "start_time": "2022-03-15T17:39:04.782Z"
   },
   {
    "duration": 264,
    "start_time": "2022-03-15T17:39:51.823Z"
   },
   {
    "duration": 96,
    "start_time": "2022-03-15T17:42:17.390Z"
   },
   {
    "duration": 22,
    "start_time": "2022-03-15T17:42:17.489Z"
   },
   {
    "duration": 31,
    "start_time": "2022-03-15T17:42:17.514Z"
   },
   {
    "duration": 17,
    "start_time": "2022-03-15T17:42:17.547Z"
   },
   {
    "duration": 10,
    "start_time": "2022-03-15T17:42:17.566Z"
   },
   {
    "duration": 20,
    "start_time": "2022-03-15T17:42:17.579Z"
   },
   {
    "duration": 14,
    "start_time": "2022-03-15T17:42:17.601Z"
   },
   {
    "duration": 55,
    "start_time": "2022-03-15T17:42:17.619Z"
   },
   {
    "duration": 31,
    "start_time": "2022-03-15T17:42:17.677Z"
   },
   {
    "duration": 737,
    "start_time": "2022-03-15T17:42:17.711Z"
   },
   {
    "duration": 543,
    "start_time": "2022-03-15T17:42:18.450Z"
   },
   {
    "duration": 17,
    "start_time": "2022-03-15T17:42:18.978Z"
   },
   {
    "duration": 21,
    "start_time": "2022-03-15T17:42:18.980Z"
   },
   {
    "duration": 21,
    "start_time": "2022-03-15T17:42:18.981Z"
   },
   {
    "duration": 249,
    "start_time": "2022-03-15T17:42:45.652Z"
   },
   {
    "duration": 79,
    "start_time": "2022-03-15T17:42:48.744Z"
   },
   {
    "duration": 8,
    "start_time": "2022-03-15T17:42:48.825Z"
   },
   {
    "duration": 13,
    "start_time": "2022-03-15T17:42:48.835Z"
   },
   {
    "duration": 11,
    "start_time": "2022-03-15T17:42:48.850Z"
   },
   {
    "duration": 10,
    "start_time": "2022-03-15T17:42:48.862Z"
   },
   {
    "duration": 28,
    "start_time": "2022-03-15T17:42:48.874Z"
   },
   {
    "duration": 5,
    "start_time": "2022-03-15T17:42:48.904Z"
   },
   {
    "duration": 40,
    "start_time": "2022-03-15T17:42:48.911Z"
   },
   {
    "duration": 47,
    "start_time": "2022-03-15T17:42:48.954Z"
   },
   {
    "duration": 656,
    "start_time": "2022-03-15T17:42:49.003Z"
   },
   {
    "duration": 262,
    "start_time": "2022-03-15T17:42:49.661Z"
   },
   {
    "duration": 311,
    "start_time": "2022-03-15T17:42:49.925Z"
   },
   {
    "duration": 284,
    "start_time": "2022-03-15T17:42:50.238Z"
   },
   {
    "duration": 264,
    "start_time": "2022-03-15T17:42:50.524Z"
   },
   {
    "duration": 417,
    "start_time": "2022-03-15T17:56:51.597Z"
   },
   {
    "duration": 313,
    "start_time": "2022-03-15T17:58:33.675Z"
   },
   {
    "duration": 233,
    "start_time": "2022-03-15T17:59:59.066Z"
   },
   {
    "duration": 435,
    "start_time": "2022-03-15T18:00:10.731Z"
   },
   {
    "duration": 328,
    "start_time": "2022-03-15T18:00:18.791Z"
   },
   {
    "duration": 416,
    "start_time": "2022-03-15T18:00:25.998Z"
   },
   {
    "duration": 349,
    "start_time": "2022-03-15T18:00:33.285Z"
   },
   {
    "duration": 474,
    "start_time": "2022-03-15T18:00:41.271Z"
   },
   {
    "duration": 4022,
    "start_time": "2022-03-15T18:02:18.579Z"
   },
   {
    "duration": 323,
    "start_time": "2022-03-15T18:02:35.724Z"
   },
   {
    "duration": 321,
    "start_time": "2022-03-15T18:05:12.795Z"
   },
   {
    "duration": 317,
    "start_time": "2022-03-15T18:05:24.790Z"
   },
   {
    "duration": 317,
    "start_time": "2022-03-15T18:06:32.736Z"
   },
   {
    "duration": 305,
    "start_time": "2022-03-15T18:07:06.658Z"
   },
   {
    "duration": 311,
    "start_time": "2022-03-15T18:08:15.252Z"
   },
   {
    "duration": 326,
    "start_time": "2022-03-15T18:08:22.156Z"
   },
   {
    "duration": 89,
    "start_time": "2022-03-15T18:08:38.727Z"
   },
   {
    "duration": 12,
    "start_time": "2022-03-15T18:08:38.818Z"
   },
   {
    "duration": 7,
    "start_time": "2022-03-15T18:08:38.833Z"
   },
   {
    "duration": 22,
    "start_time": "2022-03-15T18:08:38.842Z"
   },
   {
    "duration": 14,
    "start_time": "2022-03-15T18:08:38.866Z"
   },
   {
    "duration": 45,
    "start_time": "2022-03-15T18:08:38.882Z"
   },
   {
    "duration": 13,
    "start_time": "2022-03-15T18:08:38.930Z"
   },
   {
    "duration": 44,
    "start_time": "2022-03-15T18:08:38.945Z"
   },
   {
    "duration": 37,
    "start_time": "2022-03-15T18:08:38.991Z"
   },
   {
    "duration": 723,
    "start_time": "2022-03-15T18:08:39.030Z"
   },
   {
    "duration": 281,
    "start_time": "2022-03-15T18:08:39.756Z"
   },
   {
    "duration": 325,
    "start_time": "2022-03-15T18:08:40.040Z"
   },
   {
    "duration": 329,
    "start_time": "2022-03-15T18:08:40.368Z"
   },
   {
    "duration": 307,
    "start_time": "2022-03-15T18:08:40.701Z"
   },
   {
    "duration": 348,
    "start_time": "2022-03-15T18:08:41.010Z"
   },
   {
    "duration": 100,
    "start_time": "2022-03-15T18:13:11.299Z"
   },
   {
    "duration": 12,
    "start_time": "2022-03-15T18:13:11.408Z"
   },
   {
    "duration": 15,
    "start_time": "2022-03-15T18:13:11.423Z"
   },
   {
    "duration": 12,
    "start_time": "2022-03-15T18:13:11.441Z"
   },
   {
    "duration": 16,
    "start_time": "2022-03-15T18:13:11.455Z"
   },
   {
    "duration": 18,
    "start_time": "2022-03-15T18:13:11.473Z"
   },
   {
    "duration": 16,
    "start_time": "2022-03-15T18:13:11.493Z"
   },
   {
    "duration": 59,
    "start_time": "2022-03-15T18:13:11.512Z"
   },
   {
    "duration": 31,
    "start_time": "2022-03-15T18:13:11.575Z"
   },
   {
    "duration": 746,
    "start_time": "2022-03-15T18:13:11.608Z"
   },
   {
    "duration": 287,
    "start_time": "2022-03-15T18:13:12.356Z"
   },
   {
    "duration": 307,
    "start_time": "2022-03-15T18:13:12.645Z"
   },
   {
    "duration": 313,
    "start_time": "2022-03-15T18:13:12.954Z"
   },
   {
    "duration": 302,
    "start_time": "2022-03-15T18:13:13.269Z"
   },
   {
    "duration": 336,
    "start_time": "2022-03-15T18:13:13.573Z"
   },
   {
    "duration": 89,
    "start_time": "2022-03-15T18:13:36.936Z"
   },
   {
    "duration": 322,
    "start_time": "2022-03-15T18:13:41.015Z"
   },
   {
    "duration": 308,
    "start_time": "2022-03-15T18:13:49.483Z"
   },
   {
    "duration": 92,
    "start_time": "2022-03-15T18:13:55.508Z"
   },
   {
    "duration": 14,
    "start_time": "2022-03-15T18:13:55.608Z"
   },
   {
    "duration": 8,
    "start_time": "2022-03-15T18:13:55.629Z"
   },
   {
    "duration": 12,
    "start_time": "2022-03-15T18:13:55.640Z"
   },
   {
    "duration": 7,
    "start_time": "2022-03-15T18:13:55.653Z"
   },
   {
    "duration": 14,
    "start_time": "2022-03-15T18:13:55.661Z"
   },
   {
    "duration": 5,
    "start_time": "2022-03-15T18:13:55.677Z"
   },
   {
    "duration": 56,
    "start_time": "2022-03-15T18:13:55.684Z"
   },
   {
    "duration": 27,
    "start_time": "2022-03-15T18:13:55.743Z"
   },
   {
    "duration": 784,
    "start_time": "2022-03-15T18:13:55.773Z"
   },
   {
    "duration": 291,
    "start_time": "2022-03-15T18:13:56.558Z"
   },
   {
    "duration": 296,
    "start_time": "2022-03-15T18:13:56.851Z"
   },
   {
    "duration": 310,
    "start_time": "2022-03-15T18:13:57.149Z"
   },
   {
    "duration": 287,
    "start_time": "2022-03-15T18:13:57.461Z"
   },
   {
    "duration": 331,
    "start_time": "2022-03-15T18:13:57.750Z"
   },
   {
    "duration": 303,
    "start_time": "2022-03-15T18:14:36.359Z"
   },
   {
    "duration": 94,
    "start_time": "2022-03-15T18:14:40.352Z"
   },
   {
    "duration": 10,
    "start_time": "2022-03-15T18:14:40.449Z"
   },
   {
    "duration": 6,
    "start_time": "2022-03-15T18:14:40.463Z"
   },
   {
    "duration": 32,
    "start_time": "2022-03-15T18:14:40.471Z"
   },
   {
    "duration": 11,
    "start_time": "2022-03-15T18:14:40.507Z"
   },
   {
    "duration": 21,
    "start_time": "2022-03-15T18:14:40.525Z"
   },
   {
    "duration": 5,
    "start_time": "2022-03-15T18:14:40.549Z"
   },
   {
    "duration": 59,
    "start_time": "2022-03-15T18:14:40.556Z"
   },
   {
    "duration": 28,
    "start_time": "2022-03-15T18:14:40.618Z"
   },
   {
    "duration": 773,
    "start_time": "2022-03-15T18:14:40.648Z"
   },
   {
    "duration": 284,
    "start_time": "2022-03-15T18:14:41.424Z"
   },
   {
    "duration": 279,
    "start_time": "2022-03-15T18:14:41.710Z"
   },
   {
    "duration": 306,
    "start_time": "2022-03-15T18:14:41.991Z"
   },
   {
    "duration": 290,
    "start_time": "2022-03-15T18:14:42.301Z"
   },
   {
    "duration": 327,
    "start_time": "2022-03-15T18:14:42.604Z"
   },
   {
    "duration": 359,
    "start_time": "2022-03-15T18:14:49.496Z"
   },
   {
    "duration": 311,
    "start_time": "2022-03-15T18:15:23.342Z"
   },
   {
    "duration": 92,
    "start_time": "2022-03-15T18:15:27.865Z"
   },
   {
    "duration": 8,
    "start_time": "2022-03-15T18:15:27.959Z"
   },
   {
    "duration": 7,
    "start_time": "2022-03-15T18:15:27.970Z"
   },
   {
    "duration": 30,
    "start_time": "2022-03-15T18:15:27.980Z"
   },
   {
    "duration": 14,
    "start_time": "2022-03-15T18:15:28.013Z"
   },
   {
    "duration": 24,
    "start_time": "2022-03-15T18:15:28.029Z"
   },
   {
    "duration": 5,
    "start_time": "2022-03-15T18:15:28.056Z"
   },
   {
    "duration": 51,
    "start_time": "2022-03-15T18:15:28.064Z"
   },
   {
    "duration": 31,
    "start_time": "2022-03-15T18:15:28.117Z"
   },
   {
    "duration": 773,
    "start_time": "2022-03-15T18:15:28.149Z"
   },
   {
    "duration": 334,
    "start_time": "2022-03-15T18:15:28.929Z"
   },
   {
    "duration": 413,
    "start_time": "2022-03-15T18:15:29.265Z"
   },
   {
    "duration": 333,
    "start_time": "2022-03-15T18:15:29.680Z"
   },
   {
    "duration": 286,
    "start_time": "2022-03-15T18:15:30.015Z"
   },
   {
    "duration": 332,
    "start_time": "2022-03-15T18:15:30.303Z"
   },
   {
    "duration": 332,
    "start_time": "2022-03-15T18:17:06.467Z"
   },
   {
    "duration": 350,
    "start_time": "2022-03-15T18:17:44.321Z"
   },
   {
    "duration": 390,
    "start_time": "2022-03-15T18:18:26.852Z"
   },
   {
    "duration": 366,
    "start_time": "2022-03-15T18:18:56.724Z"
   },
   {
    "duration": 388,
    "start_time": "2022-03-15T18:19:00.493Z"
   },
   {
    "duration": 366,
    "start_time": "2022-03-15T18:19:56.089Z"
   },
   {
    "duration": 140,
    "start_time": "2022-03-15T18:20:01.686Z"
   },
   {
    "duration": 800,
    "start_time": "2022-03-15T18:29:55.251Z"
   },
   {
    "duration": 396,
    "start_time": "2022-03-15T18:30:47.647Z"
   },
   {
    "duration": 164,
    "start_time": "2022-03-15T18:32:19.425Z"
   },
   {
    "duration": 355,
    "start_time": "2022-03-15T18:32:43.527Z"
   },
   {
    "duration": 387,
    "start_time": "2022-03-15T18:32:57.187Z"
   },
   {
    "duration": 86,
    "start_time": "2022-03-15T18:33:04.213Z"
   },
   {
    "duration": 20,
    "start_time": "2022-03-15T18:33:04.301Z"
   },
   {
    "duration": 16,
    "start_time": "2022-03-15T18:33:04.323Z"
   },
   {
    "duration": 9,
    "start_time": "2022-03-15T18:33:04.342Z"
   },
   {
    "duration": 7,
    "start_time": "2022-03-15T18:33:04.353Z"
   },
   {
    "duration": 14,
    "start_time": "2022-03-15T18:33:04.362Z"
   },
   {
    "duration": 32,
    "start_time": "2022-03-15T18:33:04.378Z"
   },
   {
    "duration": 51,
    "start_time": "2022-03-15T18:33:04.414Z"
   },
   {
    "duration": 26,
    "start_time": "2022-03-15T18:33:04.467Z"
   },
   {
    "duration": 773,
    "start_time": "2022-03-15T18:33:04.495Z"
   },
   {
    "duration": 300,
    "start_time": "2022-03-15T18:33:05.270Z"
   },
   {
    "duration": 314,
    "start_time": "2022-03-15T18:33:05.572Z"
   },
   {
    "duration": 307,
    "start_time": "2022-03-15T18:33:05.888Z"
   },
   {
    "duration": 287,
    "start_time": "2022-03-15T18:33:06.201Z"
   },
   {
    "duration": 377,
    "start_time": "2022-03-15T18:33:06.489Z"
   },
   {
    "duration": 104,
    "start_time": "2022-03-15T18:33:06.867Z"
   },
   {
    "duration": 2,
    "start_time": "2022-03-15T18:33:13.877Z"
   },
   {
    "duration": 354,
    "start_time": "2022-03-15T18:33:15.524Z"
   },
   {
    "duration": 458,
    "start_time": "2022-03-15T18:33:25.413Z"
   },
   {
    "duration": 169,
    "start_time": "2022-03-15T18:33:27.934Z"
   },
   {
    "duration": 174,
    "start_time": "2022-03-15T18:34:54.670Z"
   },
   {
    "duration": 164,
    "start_time": "2022-03-15T18:35:01.323Z"
   },
   {
    "duration": 184,
    "start_time": "2022-03-15T18:36:56.661Z"
   },
   {
    "duration": -46,
    "start_time": "2022-03-15T18:38:29.927Z"
   },
   {
    "duration": 90,
    "start_time": "2022-03-15T18:38:30.248Z"
   },
   {
    "duration": 370,
    "start_time": "2022-03-15T18:38:39.650Z"
   },
   {
    "duration": 554,
    "start_time": "2022-03-15T18:38:43.494Z"
   },
   {
    "duration": 111,
    "start_time": "2022-03-15T18:38:57.279Z"
   },
   {
    "duration": 93,
    "start_time": "2022-03-15T18:39:20.172Z"
   },
   {
    "duration": 183,
    "start_time": "2022-03-15T18:41:30.060Z"
   },
   {
    "duration": 155,
    "start_time": "2022-03-15T18:41:34.533Z"
   },
   {
    "duration": 90,
    "start_time": "2022-03-15T18:42:41.013Z"
   },
   {
    "duration": 175,
    "start_time": "2022-03-15T18:44:49.176Z"
   },
   {
    "duration": 157,
    "start_time": "2022-03-15T18:44:56.928Z"
   },
   {
    "duration": 193,
    "start_time": "2022-03-15T18:45:10.226Z"
   },
   {
    "duration": 156,
    "start_time": "2022-03-15T18:45:21.938Z"
   },
   {
    "duration": 171,
    "start_time": "2022-03-15T18:45:28.428Z"
   },
   {
    "duration": 210,
    "start_time": "2022-03-15T18:45:39.645Z"
   },
   {
    "duration": 169,
    "start_time": "2022-03-15T18:46:02.392Z"
   },
   {
    "duration": 170,
    "start_time": "2022-03-15T18:46:17.512Z"
   },
   {
    "duration": 166,
    "start_time": "2022-03-15T18:47:51.863Z"
   },
   {
    "duration": 151,
    "start_time": "2022-03-15T18:48:24.140Z"
   },
   {
    "duration": 176,
    "start_time": "2022-03-15T18:48:38.801Z"
   },
   {
    "duration": 155,
    "start_time": "2022-03-15T18:48:50.137Z"
   },
   {
    "duration": 116,
    "start_time": "2022-03-15T18:49:00.473Z"
   },
   {
    "duration": 23,
    "start_time": "2022-03-15T18:49:00.592Z"
   },
   {
    "duration": 31,
    "start_time": "2022-03-15T18:49:00.618Z"
   },
   {
    "duration": 18,
    "start_time": "2022-03-15T18:49:00.652Z"
   },
   {
    "duration": 13,
    "start_time": "2022-03-15T18:49:00.672Z"
   },
   {
    "duration": 37,
    "start_time": "2022-03-15T18:49:00.687Z"
   },
   {
    "duration": 13,
    "start_time": "2022-03-15T18:49:00.730Z"
   },
   {
    "duration": 41,
    "start_time": "2022-03-15T18:49:00.745Z"
   },
   {
    "duration": 30,
    "start_time": "2022-03-15T18:49:00.789Z"
   },
   {
    "duration": 807,
    "start_time": "2022-03-15T18:49:00.825Z"
   },
   {
    "duration": 303,
    "start_time": "2022-03-15T18:49:01.635Z"
   },
   {
    "duration": 312,
    "start_time": "2022-03-15T18:49:01.940Z"
   },
   {
    "duration": 336,
    "start_time": "2022-03-15T18:49:02.254Z"
   },
   {
    "duration": 303,
    "start_time": "2022-03-15T18:49:02.592Z"
   },
   {
    "duration": 404,
    "start_time": "2022-03-15T18:49:02.906Z"
   },
   {
    "duration": 192,
    "start_time": "2022-03-15T18:49:03.312Z"
   },
   {
    "duration": 169,
    "start_time": "2022-03-15T18:49:35.204Z"
   },
   {
    "duration": 9,
    "start_time": "2022-03-15T18:49:37.534Z"
   },
   {
    "duration": 8,
    "start_time": "2022-03-15T19:03:22.644Z"
   },
   {
    "duration": 304,
    "start_time": "2022-03-15T19:22:22.268Z"
   },
   {
    "duration": 512,
    "start_time": "2022-03-15T19:22:38.698Z"
   },
   {
    "duration": 473,
    "start_time": "2022-03-15T19:22:51.551Z"
   },
   {
    "duration": 429,
    "start_time": "2022-03-15T19:22:53.558Z"
   },
   {
    "duration": 426,
    "start_time": "2022-03-15T19:22:59.945Z"
   },
   {
    "duration": 241,
    "start_time": "2022-03-15T19:24:39.245Z"
   },
   {
    "duration": 248,
    "start_time": "2022-03-15T19:27:38.903Z"
   },
   {
    "duration": 13,
    "start_time": "2022-03-15T19:28:29.078Z"
   },
   {
    "duration": 11,
    "start_time": "2022-03-15T19:28:49.878Z"
   },
   {
    "duration": 973,
    "start_time": "2022-03-15T19:31:08.083Z"
   },
   {
    "duration": 13,
    "start_time": "2022-03-15T19:31:22.360Z"
   },
   {
    "duration": 277,
    "start_time": "2022-03-15T19:34:58.198Z"
   },
   {
    "duration": 32,
    "start_time": "2022-03-15T19:35:22.638Z"
   },
   {
    "duration": 14,
    "start_time": "2022-03-15T19:37:35.464Z"
   },
   {
    "duration": 29,
    "start_time": "2022-03-15T19:37:48.617Z"
   },
   {
    "duration": 315,
    "start_time": "2022-03-15T19:39:35.858Z"
   },
   {
    "duration": 220,
    "start_time": "2022-03-15T19:40:09.027Z"
   },
   {
    "duration": 362,
    "start_time": "2022-03-15T19:40:20.100Z"
   },
   {
    "duration": 538,
    "start_time": "2022-03-15T19:41:06.922Z"
   },
   {
    "duration": 785,
    "start_time": "2022-03-15T19:41:31.755Z"
   },
   {
    "duration": 562,
    "start_time": "2022-03-15T19:41:57.939Z"
   },
   {
    "duration": 525,
    "start_time": "2022-03-15T19:42:04.373Z"
   },
   {
    "duration": 19,
    "start_time": "2022-03-15T19:42:55.738Z"
   },
   {
    "duration": 553,
    "start_time": "2022-03-15T19:43:10.374Z"
   },
   {
    "duration": 523,
    "start_time": "2022-03-15T19:43:18.868Z"
   },
   {
    "duration": 535,
    "start_time": "2022-03-15T19:44:47.046Z"
   },
   {
    "duration": 540,
    "start_time": "2022-03-15T19:46:49.573Z"
   },
   {
    "duration": 561,
    "start_time": "2022-03-15T19:47:01.632Z"
   },
   {
    "duration": 323,
    "start_time": "2022-03-15T19:52:31.656Z"
   },
   {
    "duration": 546,
    "start_time": "2022-03-15T19:52:47.332Z"
   },
   {
    "duration": 516,
    "start_time": "2022-03-15T19:53:26.079Z"
   },
   {
    "duration": 8,
    "start_time": "2022-03-15T19:54:27.455Z"
   },
   {
    "duration": 534,
    "start_time": "2022-03-15T19:57:44.454Z"
   },
   {
    "duration": 19,
    "start_time": "2022-03-15T20:00:20.670Z"
   },
   {
    "duration": 10,
    "start_time": "2022-03-15T20:01:07.730Z"
   },
   {
    "duration": 524,
    "start_time": "2022-03-15T20:02:31.173Z"
   },
   {
    "duration": 545,
    "start_time": "2022-03-15T20:02:50.698Z"
   },
   {
    "duration": 656,
    "start_time": "2022-03-15T20:03:03.826Z"
   },
   {
    "duration": 783,
    "start_time": "2022-03-16T20:13:00.616Z"
   },
   {
    "duration": 13,
    "start_time": "2022-03-16T20:13:01.402Z"
   },
   {
    "duration": 19,
    "start_time": "2022-03-16T20:13:01.418Z"
   },
   {
    "duration": 15,
    "start_time": "2022-03-16T20:13:01.439Z"
   },
   {
    "duration": 50,
    "start_time": "2022-03-16T20:13:01.457Z"
   },
   {
    "duration": 46,
    "start_time": "2022-03-16T20:13:01.509Z"
   },
   {
    "duration": 5,
    "start_time": "2022-03-16T20:13:01.557Z"
   },
   {
    "duration": 59,
    "start_time": "2022-03-16T20:13:01.564Z"
   },
   {
    "duration": 28,
    "start_time": "2022-03-16T20:13:01.627Z"
   },
   {
    "duration": 742,
    "start_time": "2022-03-16T20:13:01.658Z"
   },
   {
    "duration": 425,
    "start_time": "2022-03-16T20:13:02.402Z"
   },
   {
    "duration": 322,
    "start_time": "2022-03-16T20:13:02.829Z"
   },
   {
    "duration": 325,
    "start_time": "2022-03-16T20:13:03.153Z"
   },
   {
    "duration": 304,
    "start_time": "2022-03-16T20:13:03.480Z"
   },
   {
    "duration": 420,
    "start_time": "2022-03-16T20:13:03.786Z"
   },
   {
    "duration": 205,
    "start_time": "2022-03-16T20:13:04.208Z"
   },
   {
    "duration": 9,
    "start_time": "2022-03-16T20:13:04.415Z"
   },
   {
    "duration": 522,
    "start_time": "2022-03-16T20:13:04.432Z"
   },
   {
    "duration": 565,
    "start_time": "2022-03-16T20:13:04.956Z"
   },
   {
    "duration": 500,
    "start_time": "2022-03-16T20:13:05.523Z"
   },
   {
    "duration": 602,
    "start_time": "2022-03-16T20:13:06.025Z"
   },
   {
    "duration": 512,
    "start_time": "2022-03-16T20:13:06.629Z"
   },
   {
    "duration": 16,
    "start_time": "2022-03-16T20:15:55.944Z"
   },
   {
    "duration": 17,
    "start_time": "2022-03-16T20:16:07.168Z"
   },
   {
    "duration": 17,
    "start_time": "2022-03-16T20:16:20.127Z"
   },
   {
    "duration": 363,
    "start_time": "2022-03-16T20:17:06.982Z"
   },
   {
    "duration": 17,
    "start_time": "2022-03-16T20:17:25.420Z"
   },
   {
    "duration": 16,
    "start_time": "2022-03-16T20:17:47.469Z"
   },
   {
    "duration": 18,
    "start_time": "2022-03-16T20:17:51.689Z"
   },
   {
    "duration": 23,
    "start_time": "2022-03-16T20:18:04.759Z"
   },
   {
    "duration": 21,
    "start_time": "2022-03-16T20:18:11.545Z"
   },
   {
    "duration": 83,
    "start_time": "2022-03-16T20:18:15.804Z"
   },
   {
    "duration": 8,
    "start_time": "2022-03-16T20:18:15.890Z"
   },
   {
    "duration": 5,
    "start_time": "2022-03-16T20:18:15.901Z"
   },
   {
    "duration": 28,
    "start_time": "2022-03-16T20:18:15.909Z"
   },
   {
    "duration": 9,
    "start_time": "2022-03-16T20:18:15.940Z"
   },
   {
    "duration": 15,
    "start_time": "2022-03-16T20:18:15.951Z"
   },
   {
    "duration": 6,
    "start_time": "2022-03-16T20:18:15.968Z"
   },
   {
    "duration": 67,
    "start_time": "2022-03-16T20:18:15.976Z"
   },
   {
    "duration": 27,
    "start_time": "2022-03-16T20:18:16.046Z"
   },
   {
    "duration": 786,
    "start_time": "2022-03-16T20:18:16.075Z"
   },
   {
    "duration": 333,
    "start_time": "2022-03-16T20:18:16.864Z"
   },
   {
    "duration": 332,
    "start_time": "2022-03-16T20:18:17.199Z"
   },
   {
    "duration": 338,
    "start_time": "2022-03-16T20:18:17.533Z"
   },
   {
    "duration": 326,
    "start_time": "2022-03-16T20:18:17.873Z"
   },
   {
    "duration": 445,
    "start_time": "2022-03-16T20:18:18.201Z"
   },
   {
    "duration": 298,
    "start_time": "2022-03-16T20:18:18.648Z"
   },
   {
    "duration": 9,
    "start_time": "2022-03-16T20:18:18.948Z"
   },
   {
    "duration": 557,
    "start_time": "2022-03-16T20:18:18.959Z"
   },
   {
    "duration": 526,
    "start_time": "2022-03-16T20:18:19.518Z"
   },
   {
    "duration": 553,
    "start_time": "2022-03-16T20:18:20.046Z"
   },
   {
    "duration": 520,
    "start_time": "2022-03-16T20:18:20.601Z"
   },
   {
    "duration": 521,
    "start_time": "2022-03-16T20:18:21.123Z"
   },
   {
    "duration": 23,
    "start_time": "2022-03-16T20:18:21.664Z"
   },
   {
    "duration": 18,
    "start_time": "2022-03-16T20:18:29.809Z"
   },
   {
    "duration": 1329,
    "start_time": "2022-03-16T20:20:26.730Z"
   },
   {
    "duration": 16,
    "start_time": "2022-03-16T20:21:52.577Z"
   },
   {
    "duration": 20,
    "start_time": "2022-03-16T20:21:59.956Z"
   },
   {
    "duration": 18,
    "start_time": "2022-03-16T20:28:42.932Z"
   },
   {
    "duration": 16,
    "start_time": "2022-03-16T20:28:45.259Z"
   },
   {
    "duration": 259,
    "start_time": "2022-03-16T20:28:56.899Z"
   },
   {
    "duration": 17,
    "start_time": "2022-03-16T20:29:02.831Z"
   },
   {
    "duration": 281,
    "start_time": "2022-03-16T20:32:02.453Z"
   },
   {
    "duration": 28,
    "start_time": "2022-03-16T20:32:42.528Z"
   },
   {
    "duration": 78,
    "start_time": "2022-03-16T20:32:55.099Z"
   },
   {
    "duration": 8,
    "start_time": "2022-03-16T20:32:55.180Z"
   },
   {
    "duration": 10,
    "start_time": "2022-03-16T20:32:55.191Z"
   },
   {
    "duration": 15,
    "start_time": "2022-03-16T20:32:55.203Z"
   },
   {
    "duration": 20,
    "start_time": "2022-03-16T20:32:55.220Z"
   },
   {
    "duration": 25,
    "start_time": "2022-03-16T20:32:55.242Z"
   },
   {
    "duration": 4,
    "start_time": "2022-03-16T20:32:55.269Z"
   },
   {
    "duration": 34,
    "start_time": "2022-03-16T20:32:55.275Z"
   },
   {
    "duration": 49,
    "start_time": "2022-03-16T20:32:55.312Z"
   },
   {
    "duration": 717,
    "start_time": "2022-03-16T20:32:55.364Z"
   },
   {
    "duration": 291,
    "start_time": "2022-03-16T20:32:56.083Z"
   },
   {
    "duration": 315,
    "start_time": "2022-03-16T20:32:56.376Z"
   },
   {
    "duration": 412,
    "start_time": "2022-03-16T20:32:56.693Z"
   },
   {
    "duration": 311,
    "start_time": "2022-03-16T20:32:57.107Z"
   },
   {
    "duration": 441,
    "start_time": "2022-03-16T20:32:57.420Z"
   },
   {
    "duration": 194,
    "start_time": "2022-03-16T20:32:57.863Z"
   },
   {
    "duration": 7,
    "start_time": "2022-03-16T20:32:58.059Z"
   },
   {
    "duration": 555,
    "start_time": "2022-03-16T20:32:58.068Z"
   },
   {
    "duration": 515,
    "start_time": "2022-03-16T20:32:58.626Z"
   },
   {
    "duration": 497,
    "start_time": "2022-03-16T20:32:59.143Z"
   },
   {
    "duration": 548,
    "start_time": "2022-03-16T20:32:59.643Z"
   },
   {
    "duration": 512,
    "start_time": "2022-03-16T20:33:00.193Z"
   },
   {
    "duration": 29,
    "start_time": "2022-03-16T20:33:00.947Z"
   },
   {
    "duration": 260,
    "start_time": "2022-03-16T20:33:03.536Z"
   },
   {
    "duration": 28,
    "start_time": "2022-03-16T20:33:11.541Z"
   },
   {
    "duration": 29,
    "start_time": "2022-03-16T20:34:03.842Z"
   },
   {
    "duration": 638,
    "start_time": "2022-03-16T20:34:56.588Z"
   },
   {
    "duration": 552,
    "start_time": "2022-03-16T20:35:18.294Z"
   },
   {
    "duration": 28,
    "start_time": "2022-03-16T20:35:54.188Z"
   },
   {
    "duration": 27,
    "start_time": "2022-03-16T20:39:46.811Z"
   },
   {
    "duration": 25,
    "start_time": "2022-03-16T20:41:12.809Z"
   },
   {
    "duration": 34,
    "start_time": "2022-03-16T20:41:34.663Z"
   },
   {
    "duration": 33,
    "start_time": "2022-03-16T20:41:45.527Z"
   },
   {
    "duration": 27,
    "start_time": "2022-03-16T20:42:18.728Z"
   },
   {
    "duration": 26,
    "start_time": "2022-03-16T20:42:29.004Z"
   },
   {
    "duration": -16,
    "start_time": "2022-03-16T20:44:28.160Z"
   },
   {
    "duration": 7,
    "start_time": "2022-03-16T20:44:36.151Z"
   },
   {
    "duration": 90,
    "start_time": "2022-03-16T20:44:37.944Z"
   },
   {
    "duration": 10,
    "start_time": "2022-03-16T20:44:38.036Z"
   },
   {
    "duration": 6,
    "start_time": "2022-03-16T20:44:38.049Z"
   },
   {
    "duration": 10,
    "start_time": "2022-03-16T20:44:38.058Z"
   },
   {
    "duration": 10,
    "start_time": "2022-03-16T20:44:38.070Z"
   },
   {
    "duration": 13,
    "start_time": "2022-03-16T20:44:38.082Z"
   },
   {
    "duration": 38,
    "start_time": "2022-03-16T20:44:38.097Z"
   },
   {
    "duration": 37,
    "start_time": "2022-03-16T20:44:38.137Z"
   },
   {
    "duration": 25,
    "start_time": "2022-03-16T20:44:38.177Z"
   },
   {
    "duration": 718,
    "start_time": "2022-03-16T20:44:38.204Z"
   },
   {
    "duration": 301,
    "start_time": "2022-03-16T20:44:38.924Z"
   },
   {
    "duration": 315,
    "start_time": "2022-03-16T20:44:39.232Z"
   },
   {
    "duration": 325,
    "start_time": "2022-03-16T20:44:39.549Z"
   },
   {
    "duration": 305,
    "start_time": "2022-03-16T20:44:39.876Z"
   },
   {
    "duration": 524,
    "start_time": "2022-03-16T20:44:40.183Z"
   },
   {
    "duration": 184,
    "start_time": "2022-03-16T20:44:40.709Z"
   },
   {
    "duration": 9,
    "start_time": "2022-03-16T20:44:40.895Z"
   },
   {
    "duration": 514,
    "start_time": "2022-03-16T20:44:40.907Z"
   },
   {
    "duration": 493,
    "start_time": "2022-03-16T20:44:41.423Z"
   },
   {
    "duration": 494,
    "start_time": "2022-03-16T20:44:41.918Z"
   },
   {
    "duration": 523,
    "start_time": "2022-03-16T20:44:42.414Z"
   },
   {
    "duration": 550,
    "start_time": "2022-03-16T20:44:42.939Z"
   },
   {
    "duration": 46,
    "start_time": "2022-03-16T20:44:50.070Z"
   },
   {
    "duration": 82,
    "start_time": "2022-03-16T20:45:30.787Z"
   },
   {
    "duration": 89,
    "start_time": "2022-03-16T20:45:58.303Z"
   },
   {
    "duration": -19,
    "start_time": "2022-03-16T20:46:26.641Z"
   },
   {
    "duration": 91,
    "start_time": "2022-03-16T20:47:53.190Z"
   },
   {
    "duration": 24,
    "start_time": "2022-03-16T20:50:28.051Z"
   },
   {
    "duration": 36,
    "start_time": "2022-03-16T20:51:12.933Z"
   },
   {
    "duration": 39,
    "start_time": "2022-03-16T20:58:15.723Z"
   },
   {
    "duration": 273,
    "start_time": "2022-03-16T21:03:21.360Z"
   },
   {
    "duration": 257,
    "start_time": "2022-03-16T21:03:29.369Z"
   },
   {
    "duration": 251,
    "start_time": "2022-03-16T21:03:44.571Z"
   },
   {
    "duration": 86,
    "start_time": "2022-03-16T21:04:10.302Z"
   },
   {
    "duration": 10,
    "start_time": "2022-03-16T21:04:10.390Z"
   },
   {
    "duration": 6,
    "start_time": "2022-03-16T21:04:10.402Z"
   },
   {
    "duration": 27,
    "start_time": "2022-03-16T21:04:10.410Z"
   },
   {
    "duration": 8,
    "start_time": "2022-03-16T21:04:10.439Z"
   },
   {
    "duration": 14,
    "start_time": "2022-03-16T21:04:10.449Z"
   },
   {
    "duration": 4,
    "start_time": "2022-03-16T21:04:10.465Z"
   },
   {
    "duration": 62,
    "start_time": "2022-03-16T21:04:10.471Z"
   },
   {
    "duration": 25,
    "start_time": "2022-03-16T21:04:10.537Z"
   },
   {
    "duration": 720,
    "start_time": "2022-03-16T21:04:10.565Z"
   },
   {
    "duration": 291,
    "start_time": "2022-03-16T21:04:11.287Z"
   },
   {
    "duration": 321,
    "start_time": "2022-03-16T21:04:11.581Z"
   },
   {
    "duration": 448,
    "start_time": "2022-03-16T21:04:11.904Z"
   },
   {
    "duration": 299,
    "start_time": "2022-03-16T21:04:12.354Z"
   },
   {
    "duration": 432,
    "start_time": "2022-03-16T21:04:12.655Z"
   },
   {
    "duration": 188,
    "start_time": "2022-03-16T21:04:13.090Z"
   },
   {
    "duration": 9,
    "start_time": "2022-03-16T21:04:13.281Z"
   },
   {
    "duration": 521,
    "start_time": "2022-03-16T21:04:13.292Z"
   },
   {
    "duration": 506,
    "start_time": "2022-03-16T21:04:13.815Z"
   },
   {
    "duration": 489,
    "start_time": "2022-03-16T21:04:14.323Z"
   },
   {
    "duration": 509,
    "start_time": "2022-03-16T21:04:14.814Z"
   },
   {
    "duration": 512,
    "start_time": "2022-03-16T21:04:15.325Z"
   },
   {
    "duration": 25,
    "start_time": "2022-03-16T21:04:15.839Z"
   },
   {
    "duration": -29,
    "start_time": "2022-03-16T21:04:16.162Z"
   },
   {
    "duration": 274,
    "start_time": "2022-03-16T21:04:21.302Z"
   },
   {
    "duration": 45,
    "start_time": "2022-03-16T21:04:34.038Z"
   },
   {
    "duration": 43,
    "start_time": "2022-03-16T21:04:40.749Z"
   },
   {
    "duration": 49,
    "start_time": "2022-03-16T21:06:09.626Z"
   },
   {
    "duration": 46,
    "start_time": "2022-03-16T21:06:11.792Z"
   },
   {
    "duration": 10,
    "start_time": "2022-03-16T21:07:07.139Z"
   },
   {
    "duration": 14,
    "start_time": "2022-03-16T21:07:40.281Z"
   },
   {
    "duration": 47,
    "start_time": "2022-03-16T21:07:46.213Z"
   },
   {
    "duration": 49,
    "start_time": "2022-03-16T21:08:31.318Z"
   },
   {
    "duration": 51,
    "start_time": "2022-03-16T21:08:50.482Z"
   },
   {
    "duration": 46,
    "start_time": "2022-03-16T21:09:39.411Z"
   },
   {
    "duration": 274,
    "start_time": "2022-03-16T21:09:56.689Z"
   },
   {
    "duration": 282,
    "start_time": "2022-03-16T21:10:04.980Z"
   },
   {
    "duration": 48,
    "start_time": "2022-03-16T21:11:39.836Z"
   },
   {
    "duration": 45,
    "start_time": "2022-03-16T21:11:51.547Z"
   },
   {
    "duration": 45,
    "start_time": "2022-03-16T21:12:15.484Z"
   },
   {
    "duration": 6696,
    "start_time": "2022-03-16T21:14:42.932Z"
   },
   {
    "duration": 55,
    "start_time": "2022-03-16T21:15:54.984Z"
   },
   {
    "duration": 54,
    "start_time": "2022-03-16T21:16:34.216Z"
   },
   {
    "duration": 59,
    "start_time": "2022-03-16T21:16:56.720Z"
   },
   {
    "duration": 290,
    "start_time": "2022-03-16T21:24:00.553Z"
   },
   {
    "duration": 304,
    "start_time": "2022-03-16T21:24:37.038Z"
   },
   {
    "duration": 279,
    "start_time": "2022-03-16T21:24:55.447Z"
   },
   {
    "duration": 259,
    "start_time": "2022-03-16T21:25:20.184Z"
   },
   {
    "duration": 474,
    "start_time": "2022-03-16T21:27:19.222Z"
   },
   {
    "duration": 266,
    "start_time": "2022-03-16T21:27:33.949Z"
   },
   {
    "duration": 476,
    "start_time": "2022-03-16T21:39:50.540Z"
   },
   {
    "duration": 483,
    "start_time": "2022-03-16T21:47:08.792Z"
   },
   {
    "duration": 462,
    "start_time": "2022-03-16T21:47:25.955Z"
   },
   {
    "duration": 298,
    "start_time": "2022-03-16T21:47:32.760Z"
   },
   {
    "duration": 360,
    "start_time": "2022-03-16T21:47:42.610Z"
   },
   {
    "duration": 300,
    "start_time": "2022-03-16T21:47:59.229Z"
   },
   {
    "duration": 18,
    "start_time": "2022-03-16T21:48:47.514Z"
   },
   {
    "duration": 304,
    "start_time": "2022-03-16T21:48:58.779Z"
   },
   {
    "duration": 310,
    "start_time": "2022-03-16T21:50:27.144Z"
   },
   {
    "duration": 310,
    "start_time": "2022-03-16T21:50:39.722Z"
   },
   {
    "duration": 79,
    "start_time": "2022-03-16T21:51:02.365Z"
   },
   {
    "duration": 461,
    "start_time": "2022-03-16T21:51:28.849Z"
   },
   {
    "duration": 450,
    "start_time": "2022-03-16T21:52:02.721Z"
   },
   {
    "duration": 523,
    "start_time": "2022-03-16T21:52:47.150Z"
   },
   {
    "duration": 260,
    "start_time": "2022-03-16T21:53:24.491Z"
   },
   {
    "duration": 267,
    "start_time": "2022-03-16T22:00:12.403Z"
   },
   {
    "duration": 281,
    "start_time": "2022-03-16T22:04:18.696Z"
   },
   {
    "duration": 305,
    "start_time": "2022-03-16T22:04:25.507Z"
   },
   {
    "duration": 273,
    "start_time": "2022-03-16T22:07:41.644Z"
   },
   {
    "duration": 83,
    "start_time": "2022-03-19T21:10:30.528Z"
   },
   {
    "duration": 12,
    "start_time": "2022-03-19T21:10:35.536Z"
   },
   {
    "duration": 11,
    "start_time": "2022-03-19T21:10:38.107Z"
   },
   {
    "duration": 639,
    "start_time": "2022-03-19T21:10:42.015Z"
   },
   {
    "duration": 15,
    "start_time": "2022-03-19T21:10:42.659Z"
   },
   {
    "duration": 8,
    "start_time": "2022-03-19T21:10:42.677Z"
   },
   {
    "duration": 12,
    "start_time": "2022-03-19T21:10:42.687Z"
   },
   {
    "duration": 6,
    "start_time": "2022-03-19T21:10:42.702Z"
   },
   {
    "duration": 31,
    "start_time": "2022-03-19T21:10:42.742Z"
   },
   {
    "duration": 6,
    "start_time": "2022-03-19T21:10:42.775Z"
   },
   {
    "duration": 113,
    "start_time": "2022-03-19T21:10:42.783Z"
   },
   {
    "duration": 45,
    "start_time": "2022-03-19T21:10:42.898Z"
   },
   {
    "duration": 777,
    "start_time": "2022-03-19T21:10:42.947Z"
   },
   {
    "duration": 1416,
    "start_time": "2022-03-19T21:10:43.726Z"
   },
   {
    "duration": 308,
    "start_time": "2022-03-19T21:10:45.145Z"
   },
   {
    "duration": 332,
    "start_time": "2022-03-19T21:10:45.456Z"
   },
   {
    "duration": 323,
    "start_time": "2022-03-19T21:10:45.793Z"
   },
   {
    "duration": 419,
    "start_time": "2022-03-19T21:10:46.119Z"
   },
   {
    "duration": 220,
    "start_time": "2022-03-19T21:10:46.541Z"
   },
   {
    "duration": 15,
    "start_time": "2022-03-19T21:10:46.763Z"
   },
   {
    "duration": 308,
    "start_time": "2022-03-19T21:10:46.780Z"
   },
   {
    "duration": 320,
    "start_time": "2022-03-19T21:10:47.090Z"
   },
   {
    "duration": 382,
    "start_time": "2022-03-19T21:10:47.413Z"
   },
   {
    "duration": 322,
    "start_time": "2022-03-19T21:10:47.798Z"
   },
   {
    "duration": 302,
    "start_time": "2022-03-19T21:10:48.123Z"
   },
   {
    "duration": 47,
    "start_time": "2022-03-19T21:10:48.427Z"
   },
   {
    "duration": 315,
    "start_time": "2022-03-19T21:10:48.477Z"
   },
   {
    "duration": 77,
    "start_time": "2022-03-19T21:11:12.126Z"
   },
   {
    "duration": 342,
    "start_time": "2022-03-19T21:11:16.806Z"
   },
   {
    "duration": 129,
    "start_time": "2022-03-19T21:11:19.557Z"
   },
   {
    "duration": 9,
    "start_time": "2022-03-19T21:11:19.689Z"
   },
   {
    "duration": 6,
    "start_time": "2022-03-19T21:11:19.700Z"
   },
   {
    "duration": 37,
    "start_time": "2022-03-19T21:11:19.709Z"
   },
   {
    "duration": 8,
    "start_time": "2022-03-19T21:11:19.755Z"
   },
   {
    "duration": 20,
    "start_time": "2022-03-19T21:11:19.765Z"
   },
   {
    "duration": 7,
    "start_time": "2022-03-19T21:11:19.787Z"
   },
   {
    "duration": 84,
    "start_time": "2022-03-19T21:11:19.796Z"
   },
   {
    "duration": 32,
    "start_time": "2022-03-19T21:11:19.882Z"
   },
   {
    "duration": 679,
    "start_time": "2022-03-19T21:11:19.919Z"
   },
   {
    "duration": 293,
    "start_time": "2022-03-19T21:11:20.601Z"
   },
   {
    "duration": 309,
    "start_time": "2022-03-19T21:11:20.896Z"
   },
   {
    "duration": 346,
    "start_time": "2022-03-19T21:11:21.207Z"
   },
   {
    "duration": 362,
    "start_time": "2022-03-19T21:11:21.556Z"
   },
   {
    "duration": 413,
    "start_time": "2022-03-19T21:11:21.921Z"
   },
   {
    "duration": 217,
    "start_time": "2022-03-19T21:11:22.343Z"
   },
   {
    "duration": 14,
    "start_time": "2022-03-19T21:11:22.563Z"
   },
   {
    "duration": 349,
    "start_time": "2022-03-19T21:11:22.580Z"
   },
   {
    "duration": 337,
    "start_time": "2022-03-19T21:11:22.932Z"
   },
   {
    "duration": 337,
    "start_time": "2022-03-19T21:11:23.271Z"
   },
   {
    "duration": 346,
    "start_time": "2022-03-19T21:11:23.610Z"
   },
   {
    "duration": 324,
    "start_time": "2022-03-19T21:11:23.963Z"
   },
   {
    "duration": 52,
    "start_time": "2022-03-19T21:11:24.290Z"
   },
   {
    "duration": 336,
    "start_time": "2022-03-19T21:11:24.345Z"
   },
   {
    "duration": 331,
    "start_time": "2022-03-19T21:11:58.635Z"
   },
   {
    "duration": 320,
    "start_time": "2022-03-19T21:12:44.647Z"
   },
   {
    "duration": 143,
    "start_time": "2022-03-19T21:12:48.067Z"
   },
   {
    "duration": 9,
    "start_time": "2022-03-19T21:12:48.213Z"
   },
   {
    "duration": 30,
    "start_time": "2022-03-19T21:12:48.225Z"
   },
   {
    "duration": 15,
    "start_time": "2022-03-19T21:12:48.257Z"
   },
   {
    "duration": 7,
    "start_time": "2022-03-19T21:12:48.276Z"
   },
   {
    "duration": 24,
    "start_time": "2022-03-19T21:12:48.286Z"
   },
   {
    "duration": 41,
    "start_time": "2022-03-19T21:12:48.312Z"
   },
   {
    "duration": 162,
    "start_time": "2022-03-19T21:12:48.355Z"
   },
   {
    "duration": 49,
    "start_time": "2022-03-19T21:12:48.520Z"
   },
   {
    "duration": 729,
    "start_time": "2022-03-19T21:12:48.572Z"
   },
   {
    "duration": 305,
    "start_time": "2022-03-19T21:12:49.303Z"
   },
   {
    "duration": 335,
    "start_time": "2022-03-19T21:12:49.610Z"
   },
   {
    "duration": 332,
    "start_time": "2022-03-19T21:12:49.948Z"
   },
   {
    "duration": 305,
    "start_time": "2022-03-19T21:12:50.284Z"
   },
   {
    "duration": 436,
    "start_time": "2022-03-19T21:12:50.591Z"
   },
   {
    "duration": 218,
    "start_time": "2022-03-19T21:12:51.030Z"
   },
   {
    "duration": 13,
    "start_time": "2022-03-19T21:12:51.252Z"
   },
   {
    "duration": 405,
    "start_time": "2022-03-19T21:12:51.267Z"
   },
   {
    "duration": 311,
    "start_time": "2022-03-19T21:12:51.674Z"
   },
   {
    "duration": 309,
    "start_time": "2022-03-19T21:12:51.988Z"
   },
   {
    "duration": 335,
    "start_time": "2022-03-19T21:12:52.299Z"
   },
   {
    "duration": 292,
    "start_time": "2022-03-19T21:12:52.654Z"
   },
   {
    "duration": 40,
    "start_time": "2022-03-19T21:12:52.949Z"
   },
   {
    "duration": 348,
    "start_time": "2022-03-19T21:12:52.991Z"
   },
   {
    "duration": 323,
    "start_time": "2022-03-19T21:14:20.515Z"
   },
   {
    "duration": 349,
    "start_time": "2022-03-19T21:14:45.844Z"
   },
   {
    "duration": 148,
    "start_time": "2022-03-19T21:15:11.525Z"
   },
   {
    "duration": 11,
    "start_time": "2022-03-19T21:15:11.677Z"
   },
   {
    "duration": 9,
    "start_time": "2022-03-19T21:15:11.690Z"
   },
   {
    "duration": 10,
    "start_time": "2022-03-19T21:15:11.702Z"
   },
   {
    "duration": 7,
    "start_time": "2022-03-19T21:15:11.744Z"
   },
   {
    "duration": 31,
    "start_time": "2022-03-19T21:15:11.753Z"
   },
   {
    "duration": 5,
    "start_time": "2022-03-19T21:15:11.787Z"
   },
   {
    "duration": 82,
    "start_time": "2022-03-19T21:15:11.796Z"
   },
   {
    "duration": 32,
    "start_time": "2022-03-19T21:15:11.880Z"
   },
   {
    "duration": 682,
    "start_time": "2022-03-19T21:15:11.916Z"
   },
   {
    "duration": 300,
    "start_time": "2022-03-19T21:15:12.600Z"
   },
   {
    "duration": 316,
    "start_time": "2022-03-19T21:15:12.902Z"
   },
   {
    "duration": 346,
    "start_time": "2022-03-19T21:15:13.220Z"
   },
   {
    "duration": 462,
    "start_time": "2022-03-19T21:15:13.569Z"
   },
   {
    "duration": 417,
    "start_time": "2022-03-19T21:15:14.032Z"
   },
   {
    "duration": 205,
    "start_time": "2022-03-19T21:15:14.453Z"
   },
   {
    "duration": 12,
    "start_time": "2022-03-19T21:15:14.661Z"
   },
   {
    "duration": 292,
    "start_time": "2022-03-19T21:15:14.675Z"
   },
   {
    "duration": 299,
    "start_time": "2022-03-19T21:15:14.973Z"
   },
   {
    "duration": 295,
    "start_time": "2022-03-19T21:15:15.275Z"
   },
   {
    "duration": 303,
    "start_time": "2022-03-19T21:15:15.572Z"
   },
   {
    "duration": 299,
    "start_time": "2022-03-19T21:15:15.877Z"
   },
   {
    "duration": 34,
    "start_time": "2022-03-19T21:15:16.178Z"
   },
   {
    "duration": 370,
    "start_time": "2022-03-19T21:15:16.214Z"
   },
   {
    "duration": 332,
    "start_time": "2022-03-19T21:17:47.720Z"
   },
   {
    "duration": 158,
    "start_time": "2022-03-19T21:18:14.350Z"
   },
   {
    "duration": 8,
    "start_time": "2022-03-19T21:18:14.511Z"
   },
   {
    "duration": 24,
    "start_time": "2022-03-19T21:18:14.521Z"
   },
   {
    "duration": 13,
    "start_time": "2022-03-19T21:18:14.549Z"
   },
   {
    "duration": 15,
    "start_time": "2022-03-19T21:18:14.564Z"
   },
   {
    "duration": 22,
    "start_time": "2022-03-19T21:18:14.581Z"
   },
   {
    "duration": 7,
    "start_time": "2022-03-19T21:18:14.604Z"
   },
   {
    "duration": 84,
    "start_time": "2022-03-19T21:18:14.613Z"
   },
   {
    "duration": 51,
    "start_time": "2022-03-19T21:18:14.699Z"
   },
   {
    "duration": 676,
    "start_time": "2022-03-19T21:18:14.757Z"
   },
   {
    "duration": 290,
    "start_time": "2022-03-19T21:18:15.436Z"
   },
   {
    "duration": 329,
    "start_time": "2022-03-19T21:18:15.728Z"
   },
   {
    "duration": 503,
    "start_time": "2022-03-19T21:18:16.059Z"
   },
   {
    "duration": 302,
    "start_time": "2022-03-19T21:18:16.564Z"
   },
   {
    "duration": 421,
    "start_time": "2022-03-19T21:18:16.869Z"
   },
   {
    "duration": 229,
    "start_time": "2022-03-19T21:18:17.293Z"
   },
   {
    "duration": 25,
    "start_time": "2022-03-19T21:18:17.525Z"
   },
   {
    "duration": 300,
    "start_time": "2022-03-19T21:18:17.553Z"
   },
   {
    "duration": 312,
    "start_time": "2022-03-19T21:18:17.856Z"
   },
   {
    "duration": 298,
    "start_time": "2022-03-19T21:18:18.170Z"
   },
   {
    "duration": 319,
    "start_time": "2022-03-19T21:18:18.471Z"
   },
   {
    "duration": 316,
    "start_time": "2022-03-19T21:18:18.793Z"
   },
   {
    "duration": 51,
    "start_time": "2022-03-19T21:18:19.112Z"
   },
   {
    "duration": 341,
    "start_time": "2022-03-19T21:18:19.165Z"
   },
   {
    "duration": 339,
    "start_time": "2022-03-19T21:18:23.906Z"
   },
   {
    "duration": 321,
    "start_time": "2022-03-19T21:25:39.635Z"
   },
   {
    "duration": 344,
    "start_time": "2022-03-19T21:38:14.890Z"
   },
   {
    "duration": 284,
    "start_time": "2022-03-19T21:40:29.229Z"
   },
   {
    "duration": 139,
    "start_time": "2022-03-19T21:40:33.708Z"
   },
   {
    "duration": 10,
    "start_time": "2022-03-19T21:40:33.851Z"
   },
   {
    "duration": 9,
    "start_time": "2022-03-19T21:40:33.864Z"
   },
   {
    "duration": 9,
    "start_time": "2022-03-19T21:40:33.876Z"
   },
   {
    "duration": 6,
    "start_time": "2022-03-19T21:40:33.889Z"
   },
   {
    "duration": 30,
    "start_time": "2022-03-19T21:40:33.942Z"
   },
   {
    "duration": 5,
    "start_time": "2022-03-19T21:40:33.974Z"
   },
   {
    "duration": 75,
    "start_time": "2022-03-19T21:40:33.982Z"
   },
   {
    "duration": 36,
    "start_time": "2022-03-19T21:40:34.059Z"
   },
   {
    "duration": 675,
    "start_time": "2022-03-19T21:40:34.097Z"
   },
   {
    "duration": 304,
    "start_time": "2022-03-19T21:40:34.774Z"
   },
   {
    "duration": 327,
    "start_time": "2022-03-19T21:40:35.080Z"
   },
   {
    "duration": 527,
    "start_time": "2022-03-19T21:40:35.409Z"
   },
   {
    "duration": 310,
    "start_time": "2022-03-19T21:40:35.940Z"
   },
   {
    "duration": 419,
    "start_time": "2022-03-19T21:40:36.254Z"
   },
   {
    "duration": 214,
    "start_time": "2022-03-19T21:40:36.675Z"
   },
   {
    "duration": 12,
    "start_time": "2022-03-19T21:40:36.891Z"
   },
   {
    "duration": 296,
    "start_time": "2022-03-19T21:40:36.906Z"
   },
   {
    "duration": 304,
    "start_time": "2022-03-19T21:40:37.204Z"
   },
   {
    "duration": 301,
    "start_time": "2022-03-19T21:40:37.511Z"
   },
   {
    "duration": 307,
    "start_time": "2022-03-19T21:40:37.814Z"
   },
   {
    "duration": 296,
    "start_time": "2022-03-19T21:40:38.123Z"
   },
   {
    "duration": 47,
    "start_time": "2022-03-19T21:40:38.421Z"
   },
   {
    "duration": 293,
    "start_time": "2022-03-19T21:40:38.471Z"
   },
   {
    "duration": 356,
    "start_time": "2022-03-19T21:40:53.233Z"
   },
   {
    "duration": 206,
    "start_time": "2022-03-19T21:42:03.793Z"
   },
   {
    "duration": 198,
    "start_time": "2022-03-19T21:42:28.242Z"
   },
   {
    "duration": 144,
    "start_time": "2022-03-19T21:42:31.142Z"
   },
   {
    "duration": 9,
    "start_time": "2022-03-19T21:42:31.289Z"
   },
   {
    "duration": 15,
    "start_time": "2022-03-19T21:42:31.300Z"
   },
   {
    "duration": 28,
    "start_time": "2022-03-19T21:42:31.317Z"
   },
   {
    "duration": 8,
    "start_time": "2022-03-19T21:42:31.349Z"
   },
   {
    "duration": 36,
    "start_time": "2022-03-19T21:42:31.360Z"
   },
   {
    "duration": 6,
    "start_time": "2022-03-19T21:42:31.398Z"
   },
   {
    "duration": 84,
    "start_time": "2022-03-19T21:42:31.406Z"
   },
   {
    "duration": 32,
    "start_time": "2022-03-19T21:42:31.493Z"
   },
   {
    "duration": 748,
    "start_time": "2022-03-19T21:42:31.547Z"
   },
   {
    "duration": 337,
    "start_time": "2022-03-19T21:42:32.298Z"
   },
   {
    "duration": 307,
    "start_time": "2022-03-19T21:42:32.643Z"
   },
   {
    "duration": 330,
    "start_time": "2022-03-19T21:42:32.953Z"
   },
   {
    "duration": 311,
    "start_time": "2022-03-19T21:42:33.287Z"
   },
   {
    "duration": 630,
    "start_time": "2022-03-19T21:42:33.600Z"
   },
   {
    "duration": 223,
    "start_time": "2022-03-19T21:42:34.232Z"
   },
   {
    "duration": 15,
    "start_time": "2022-03-19T21:42:34.457Z"
   },
   {
    "duration": 312,
    "start_time": "2022-03-19T21:42:34.475Z"
   },
   {
    "duration": 327,
    "start_time": "2022-03-19T21:42:34.789Z"
   },
   {
    "duration": 342,
    "start_time": "2022-03-19T21:42:35.118Z"
   },
   {
    "duration": 337,
    "start_time": "2022-03-19T21:42:35.462Z"
   },
   {
    "duration": 332,
    "start_time": "2022-03-19T21:42:35.801Z"
   },
   {
    "duration": 44,
    "start_time": "2022-03-19T21:42:36.143Z"
   },
   {
    "duration": 253,
    "start_time": "2022-03-19T21:42:36.189Z"
   },
   {
    "duration": 334,
    "start_time": "2022-03-19T21:42:47.141Z"
   },
   {
    "duration": 65,
    "start_time": "2022-03-19T22:28:54.094Z"
   },
   {
    "duration": 69,
    "start_time": "2022-03-19T22:29:14.010Z"
   },
   {
    "duration": 308,
    "start_time": "2022-03-19T22:34:37.424Z"
   },
   {
    "duration": 293,
    "start_time": "2022-03-19T22:35:30.243Z"
   },
   {
    "duration": 251,
    "start_time": "2022-03-19T22:36:06.140Z"
   },
   {
    "duration": 224,
    "start_time": "2022-03-19T22:36:12.006Z"
   },
   {
    "duration": 236,
    "start_time": "2022-03-19T22:36:16.660Z"
   },
   {
    "duration": 234,
    "start_time": "2022-03-19T22:38:46.683Z"
   },
   {
    "duration": 274,
    "start_time": "2022-03-19T22:41:03.916Z"
   },
   {
    "duration": 257,
    "start_time": "2022-03-19T22:41:12.506Z"
   },
   {
    "duration": 288,
    "start_time": "2022-03-19T22:41:18.447Z"
   },
   {
    "duration": 293,
    "start_time": "2022-03-19T22:41:23.887Z"
   },
   {
    "duration": 275,
    "start_time": "2022-03-19T22:41:29.385Z"
   },
   {
    "duration": 302,
    "start_time": "2022-03-19T22:43:06.445Z"
   },
   {
    "duration": 264,
    "start_time": "2022-03-19T22:54:12.908Z"
   },
   {
    "duration": 183,
    "start_time": "2022-03-19T22:54:20.780Z"
   },
   {
    "duration": 264,
    "start_time": "2022-03-19T22:54:28.385Z"
   },
   {
    "duration": 360,
    "start_time": "2022-03-19T22:54:47.396Z"
   },
   {
    "duration": 241,
    "start_time": "2022-03-19T22:55:32.135Z"
   },
   {
    "duration": 228,
    "start_time": "2022-03-19T22:55:43.653Z"
   },
   {
    "duration": 254,
    "start_time": "2022-03-19T22:56:41.773Z"
   },
   {
    "duration": 229,
    "start_time": "2022-03-19T23:00:47.361Z"
   },
   {
    "duration": 232,
    "start_time": "2022-03-19T23:00:56.993Z"
   },
   {
    "duration": 223,
    "start_time": "2022-03-19T23:01:18.205Z"
   },
   {
    "duration": 229,
    "start_time": "2022-03-19T23:01:25.201Z"
   },
   {
    "duration": 372,
    "start_time": "2022-03-19T23:01:30.717Z"
   },
   {
    "duration": 484,
    "start_time": "2022-03-19T23:01:36.986Z"
   },
   {
    "duration": 222,
    "start_time": "2022-03-19T23:01:46.728Z"
   },
   {
    "duration": 242,
    "start_time": "2022-03-19T23:01:51.185Z"
   },
   {
    "duration": 253,
    "start_time": "2022-03-19T23:01:56.673Z"
   },
   {
    "duration": 263,
    "start_time": "2022-03-19T23:02:05.161Z"
   },
   {
    "duration": 252,
    "start_time": "2022-03-19T23:02:10.474Z"
   },
   {
    "duration": 238,
    "start_time": "2022-03-19T23:03:37.931Z"
   },
   {
    "duration": 233,
    "start_time": "2022-03-19T23:03:53.329Z"
   },
   {
    "duration": 233,
    "start_time": "2022-03-19T23:03:58.744Z"
   },
   {
    "duration": 214,
    "start_time": "2022-03-19T23:04:03.260Z"
   },
   {
    "duration": 340,
    "start_time": "2022-03-19T23:04:10.856Z"
   },
   {
    "duration": 246,
    "start_time": "2022-03-19T23:06:16.019Z"
   },
   {
    "duration": 230,
    "start_time": "2022-03-19T23:06:57.033Z"
   },
   {
    "duration": 224,
    "start_time": "2022-03-19T23:08:39.808Z"
   },
   {
    "duration": 227,
    "start_time": "2022-03-19T23:08:53.743Z"
   },
   {
    "duration": 232,
    "start_time": "2022-03-19T23:09:11.686Z"
   },
   {
    "duration": 240,
    "start_time": "2022-03-19T23:09:30.556Z"
   },
   {
    "duration": 230,
    "start_time": "2022-03-19T23:09:58.994Z"
   },
   {
    "duration": 238,
    "start_time": "2022-03-19T23:12:25.973Z"
   },
   {
    "duration": 224,
    "start_time": "2022-03-19T23:14:27.962Z"
   },
   {
    "duration": 243,
    "start_time": "2022-03-19T23:14:31.935Z"
   },
   {
    "duration": 283,
    "start_time": "2022-03-19T23:14:37.763Z"
   },
   {
    "duration": 242,
    "start_time": "2022-03-19T23:14:48.909Z"
   },
   {
    "duration": 234,
    "start_time": "2022-03-19T23:14:58.263Z"
   },
   {
    "duration": 230,
    "start_time": "2022-03-19T23:15:10.705Z"
   },
   {
    "duration": 326,
    "start_time": "2022-03-19T23:15:19.230Z"
   },
   {
    "duration": 3,
    "start_time": "2022-03-19T23:33:49.930Z"
   },
   {
    "duration": 8,
    "start_time": "2022-03-19T23:35:31.311Z"
   },
   {
    "duration": 5,
    "start_time": "2022-03-19T23:35:49.188Z"
   },
   {
    "duration": 9,
    "start_time": "2022-03-19T23:37:54.201Z"
   },
   {
    "duration": 10,
    "start_time": "2022-03-19T23:38:01.841Z"
   },
   {
    "duration": 39,
    "start_time": "2022-03-19T23:39:53.878Z"
   },
   {
    "duration": 10,
    "start_time": "2022-03-19T23:40:51.973Z"
   },
   {
    "duration": 17,
    "start_time": "2022-03-19T23:41:23.086Z"
   },
   {
    "duration": 53,
    "start_time": "2022-03-19T23:41:43.194Z"
   },
   {
    "duration": 231,
    "start_time": "2022-03-19T23:45:00.025Z"
   },
   {
    "duration": 25,
    "start_time": "2022-03-19T23:45:50.676Z"
   },
   {
    "duration": 0,
    "start_time": "2022-03-19T23:48:10.978Z"
   },
   {
    "duration": 30,
    "start_time": "2022-03-19T23:48:13.268Z"
   },
   {
    "duration": 24,
    "start_time": "2022-03-19T23:48:38.199Z"
   },
   {
    "duration": 25,
    "start_time": "2022-03-19T23:49:36.583Z"
   },
   {
    "duration": 0,
    "start_time": "2022-03-19T23:54:11.847Z"
   },
   {
    "duration": 0,
    "start_time": "2022-03-19T23:54:11.849Z"
   },
   {
    "duration": 0,
    "start_time": "2022-03-19T23:54:11.851Z"
   },
   {
    "duration": 0,
    "start_time": "2022-03-19T23:54:11.853Z"
   },
   {
    "duration": 0,
    "start_time": "2022-03-19T23:54:11.855Z"
   },
   {
    "duration": 0,
    "start_time": "2022-03-19T23:54:11.857Z"
   },
   {
    "duration": 0,
    "start_time": "2022-03-19T23:54:11.859Z"
   },
   {
    "duration": 0,
    "start_time": "2022-03-19T23:54:11.860Z"
   },
   {
    "duration": 0,
    "start_time": "2022-03-19T23:54:11.862Z"
   },
   {
    "duration": 0,
    "start_time": "2022-03-19T23:54:11.864Z"
   },
   {
    "duration": 0,
    "start_time": "2022-03-19T23:54:11.866Z"
   },
   {
    "duration": 0,
    "start_time": "2022-03-19T23:54:11.868Z"
   },
   {
    "duration": 0,
    "start_time": "2022-03-19T23:54:11.869Z"
   },
   {
    "duration": 0,
    "start_time": "2022-03-19T23:54:12.256Z"
   },
   {
    "duration": 0,
    "start_time": "2022-03-19T23:54:12.258Z"
   },
   {
    "duration": 0,
    "start_time": "2022-03-19T23:54:12.260Z"
   },
   {
    "duration": 0,
    "start_time": "2022-03-19T23:54:12.263Z"
   },
   {
    "duration": 0,
    "start_time": "2022-03-19T23:54:12.269Z"
   },
   {
    "duration": 0,
    "start_time": "2022-03-19T23:54:12.271Z"
   },
   {
    "duration": 0,
    "start_time": "2022-03-19T23:54:12.273Z"
   },
   {
    "duration": 0,
    "start_time": "2022-03-19T23:54:12.275Z"
   },
   {
    "duration": 1,
    "start_time": "2022-03-19T23:54:12.277Z"
   },
   {
    "duration": 0,
    "start_time": "2022-03-19T23:54:12.280Z"
   },
   {
    "duration": 0,
    "start_time": "2022-03-19T23:54:12.282Z"
   },
   {
    "duration": 0,
    "start_time": "2022-03-19T23:54:12.284Z"
   },
   {
    "duration": 0,
    "start_time": "2022-03-19T23:54:12.286Z"
   },
   {
    "duration": 0,
    "start_time": "2022-03-19T23:54:12.288Z"
   },
   {
    "duration": 0,
    "start_time": "2022-03-19T23:54:12.290Z"
   },
   {
    "duration": 0,
    "start_time": "2022-03-19T23:54:12.352Z"
   },
   {
    "duration": 25,
    "start_time": "2022-03-20T00:05:19.118Z"
   },
   {
    "duration": 17,
    "start_time": "2022-03-20T00:05:33.123Z"
   },
   {
    "duration": 11,
    "start_time": "2022-03-20T00:05:57.413Z"
   },
   {
    "duration": 18,
    "start_time": "2022-03-20T00:06:05.467Z"
   },
   {
    "duration": 4,
    "start_time": "2022-03-20T00:06:21.337Z"
   },
   {
    "duration": 9,
    "start_time": "2022-03-20T00:06:34.498Z"
   },
   {
    "duration": 10,
    "start_time": "2022-03-20T00:07:24.539Z"
   },
   {
    "duration": 9,
    "start_time": "2022-03-20T00:08:33.547Z"
   },
   {
    "duration": 11,
    "start_time": "2022-03-20T00:09:44.552Z"
   },
   {
    "duration": 11,
    "start_time": "2022-03-20T00:10:24.489Z"
   },
   {
    "duration": 11,
    "start_time": "2022-03-20T00:10:56.210Z"
   },
   {
    "duration": 10,
    "start_time": "2022-03-20T00:11:21.822Z"
   },
   {
    "duration": 10,
    "start_time": "2022-03-20T00:11:35.553Z"
   },
   {
    "duration": 14,
    "start_time": "2022-03-20T00:11:47.351Z"
   },
   {
    "duration": 63,
    "start_time": "2022-03-20T00:14:37.891Z"
   },
   {
    "duration": 976,
    "start_time": "2022-03-20T00:19:18.792Z"
   },
   {
    "duration": 3834,
    "start_time": "2022-03-20T00:20:59.289Z"
   },
   {
    "duration": 137,
    "start_time": "2022-03-20T00:22:04.227Z"
   },
   {
    "duration": 8,
    "start_time": "2022-03-20T00:22:04.367Z"
   },
   {
    "duration": 9,
    "start_time": "2022-03-20T00:22:04.377Z"
   },
   {
    "duration": 9,
    "start_time": "2022-03-20T00:22:04.389Z"
   },
   {
    "duration": 41,
    "start_time": "2022-03-20T00:22:04.402Z"
   },
   {
    "duration": 28,
    "start_time": "2022-03-20T00:22:04.446Z"
   },
   {
    "duration": 6,
    "start_time": "2022-03-20T00:22:04.476Z"
   },
   {
    "duration": 92,
    "start_time": "2022-03-20T00:22:04.485Z"
   },
   {
    "duration": 31,
    "start_time": "2022-03-20T00:22:04.580Z"
   },
   {
    "duration": 660,
    "start_time": "2022-03-20T00:22:04.614Z"
   },
   {
    "duration": 375,
    "start_time": "2022-03-20T00:22:05.276Z"
   },
   {
    "duration": 314,
    "start_time": "2022-03-20T00:22:05.653Z"
   },
   {
    "duration": 339,
    "start_time": "2022-03-20T00:22:05.969Z"
   },
   {
    "duration": 308,
    "start_time": "2022-03-20T00:22:06.312Z"
   },
   {
    "duration": 415,
    "start_time": "2022-03-20T00:22:06.623Z"
   },
   {
    "duration": 213,
    "start_time": "2022-03-20T00:22:07.043Z"
   },
   {
    "duration": 11,
    "start_time": "2022-03-20T00:22:07.261Z"
   },
   {
    "duration": 3,
    "start_time": "2022-03-20T00:22:07.275Z"
   },
   {
    "duration": 297,
    "start_time": "2022-03-20T00:22:07.280Z"
   },
   {
    "duration": 297,
    "start_time": "2022-03-20T00:22:07.579Z"
   },
   {
    "duration": 295,
    "start_time": "2022-03-20T00:22:07.878Z"
   },
   {
    "duration": 409,
    "start_time": "2022-03-20T00:22:08.176Z"
   },
   {
    "duration": 286,
    "start_time": "2022-03-20T00:22:08.587Z"
   },
   {
    "duration": 33,
    "start_time": "2022-03-20T00:22:08.876Z"
   },
   {
    "duration": 353,
    "start_time": "2022-03-20T00:22:08.911Z"
   },
   {
    "duration": 94,
    "start_time": "2022-03-20T00:22:09.266Z"
   },
   {
    "duration": 3,
    "start_time": "2022-03-20T00:22:09.363Z"
   },
   {
    "duration": 5,
    "start_time": "2022-03-20T00:22:09.368Z"
   },
   {
    "duration": 0,
    "start_time": "2022-03-20T00:22:13.663Z"
   },
   {
    "duration": 0,
    "start_time": "2022-03-20T00:22:13.665Z"
   },
   {
    "duration": 3742,
    "start_time": "2022-03-20T00:22:44.541Z"
   },
   {
    "duration": 18,
    "start_time": "2022-03-20T00:26:04.901Z"
   },
   {
    "duration": 50,
    "start_time": "2022-03-20T19:08:13.508Z"
   },
   {
    "duration": 8,
    "start_time": "2022-03-20T19:10:44.088Z"
   },
   {
    "duration": 6,
    "start_time": "2022-03-20T19:11:03.935Z"
   },
   {
    "duration": 8,
    "start_time": "2022-03-20T19:11:06.697Z"
   },
   {
    "duration": 482,
    "start_time": "2022-03-20T19:11:13.851Z"
   },
   {
    "duration": 6,
    "start_time": "2022-03-20T19:11:14.335Z"
   },
   {
    "duration": 5,
    "start_time": "2022-03-20T19:11:14.342Z"
   },
   {
    "duration": 8,
    "start_time": "2022-03-20T19:11:14.348Z"
   },
   {
    "duration": 8,
    "start_time": "2022-03-20T19:11:14.358Z"
   },
   {
    "duration": 17,
    "start_time": "2022-03-20T19:11:14.367Z"
   },
   {
    "duration": 27,
    "start_time": "2022-03-20T19:11:14.385Z"
   },
   {
    "duration": 46,
    "start_time": "2022-03-20T19:11:14.414Z"
   },
   {
    "duration": 24,
    "start_time": "2022-03-20T19:11:14.461Z"
   },
   {
    "duration": 433,
    "start_time": "2022-03-20T19:11:14.487Z"
   },
   {
    "duration": 595,
    "start_time": "2022-03-20T19:11:14.922Z"
   },
   {
    "duration": 209,
    "start_time": "2022-03-20T19:11:15.519Z"
   },
   {
    "duration": 216,
    "start_time": "2022-03-20T19:11:15.730Z"
   },
   {
    "duration": 188,
    "start_time": "2022-03-20T19:11:15.949Z"
   },
   {
    "duration": 258,
    "start_time": "2022-03-20T19:11:16.139Z"
   },
   {
    "duration": 147,
    "start_time": "2022-03-20T19:11:16.399Z"
   },
   {
    "duration": 10,
    "start_time": "2022-03-20T19:11:16.548Z"
   },
   {
    "duration": 2,
    "start_time": "2022-03-20T19:11:16.560Z"
   },
   {
    "duration": 224,
    "start_time": "2022-03-20T19:11:16.563Z"
   },
   {
    "duration": 210,
    "start_time": "2022-03-20T19:11:16.789Z"
   },
   {
    "duration": 253,
    "start_time": "2022-03-20T19:11:17.001Z"
   },
   {
    "duration": 211,
    "start_time": "2022-03-20T19:11:17.256Z"
   },
   {
    "duration": 197,
    "start_time": "2022-03-20T19:11:17.469Z"
   },
   {
    "duration": 25,
    "start_time": "2022-03-20T19:11:17.668Z"
   },
   {
    "duration": 225,
    "start_time": "2022-03-20T19:11:17.695Z"
   },
   {
    "duration": 42,
    "start_time": "2022-03-20T19:11:17.922Z"
   },
   {
    "duration": 2,
    "start_time": "2022-03-20T19:11:17.966Z"
   },
   {
    "duration": 6,
    "start_time": "2022-03-20T19:11:17.969Z"
   },
   {
    "duration": 39,
    "start_time": "2022-03-20T19:11:17.976Z"
   },
   {
    "duration": 192,
    "start_time": "2022-03-20T19:11:18.016Z"
   },
   {
    "duration": 160,
    "start_time": "2022-03-20T19:11:27.355Z"
   },
   {
    "duration": 43,
    "start_time": "2022-03-20T19:12:17.527Z"
   },
   {
    "duration": 4,
    "start_time": "2022-03-20T19:12:29.247Z"
   },
   {
    "duration": 300,
    "start_time": "2022-03-20T19:12:43.565Z"
   },
   {
    "duration": 1629,
    "start_time": "2022-03-20T19:12:52.047Z"
   },
   {
    "duration": 407,
    "start_time": "2022-03-20T19:13:00.520Z"
   },
   {
    "duration": 469,
    "start_time": "2022-03-20T19:13:05.156Z"
   },
   {
    "duration": 296,
    "start_time": "2022-03-20T19:13:09.192Z"
   },
   {
    "duration": 310,
    "start_time": "2022-03-20T19:15:49.384Z"
   },
   {
    "duration": 463,
    "start_time": "2022-03-20T19:15:55.175Z"
   },
   {
    "duration": 294,
    "start_time": "2022-03-20T19:16:01.615Z"
   },
   {
    "duration": 165,
    "start_time": "2022-03-20T19:16:06.157Z"
   },
   {
    "duration": 307,
    "start_time": "2022-03-20T19:16:11.004Z"
   },
   {
    "duration": 163,
    "start_time": "2022-03-20T19:16:18.081Z"
   },
   {
    "duration": 302,
    "start_time": "2022-03-20T19:16:28.206Z"
   },
   {
    "duration": 306,
    "start_time": "2022-03-20T19:16:36.001Z"
   },
   {
    "duration": 159,
    "start_time": "2022-03-20T19:16:39.871Z"
   },
   {
    "duration": 297,
    "start_time": "2022-03-20T19:16:48.286Z"
   },
   {
    "duration": 15,
    "start_time": "2022-03-20T19:29:23.339Z"
   },
   {
    "duration": 293,
    "start_time": "2022-03-20T19:30:35.594Z"
   },
   {
    "duration": 442,
    "start_time": "2022-03-20T19:47:09.392Z"
   },
   {
    "duration": 329,
    "start_time": "2022-03-20T19:47:53.786Z"
   },
   {
    "duration": 205,
    "start_time": "2022-03-20T19:49:18.964Z"
   },
   {
    "duration": 215,
    "start_time": "2022-03-20T19:49:26.279Z"
   },
   {
    "duration": 315,
    "start_time": "2022-03-20T19:52:31.873Z"
   },
   {
    "duration": 307,
    "start_time": "2022-03-20T19:53:12.130Z"
   },
   {
    "duration": 13,
    "start_time": "2022-03-20T19:53:43.041Z"
   },
   {
    "duration": 313,
    "start_time": "2022-03-20T19:54:13.887Z"
   },
   {
    "duration": 10,
    "start_time": "2022-03-20T19:54:25.540Z"
   },
   {
    "duration": 1892,
    "start_time": "2022-03-20T19:54:35.533Z"
   },
   {
    "duration": 377,
    "start_time": "2022-03-20T19:54:41.230Z"
   },
   {
    "duration": 300,
    "start_time": "2022-03-20T19:54:45.376Z"
   },
   {
    "duration": 28,
    "start_time": "2022-03-20T20:01:12.466Z"
   },
   {
    "duration": 181,
    "start_time": "2022-03-20T20:01:40.764Z"
   },
   {
    "duration": 164,
    "start_time": "2022-03-20T20:01:54.245Z"
   },
   {
    "duration": 5,
    "start_time": "2022-03-20T20:02:02.995Z"
   },
   {
    "duration": 183,
    "start_time": "2022-03-20T20:02:13.964Z"
   },
   {
    "duration": 1223,
    "start_time": "2022-03-20T20:02:48.768Z"
   },
   {
    "duration": 1101,
    "start_time": "2022-03-20T20:03:03.201Z"
   },
   {
    "duration": 101,
    "start_time": "2022-03-20T20:03:09.434Z"
   },
   {
    "duration": 7,
    "start_time": "2022-03-20T20:03:09.537Z"
   },
   {
    "duration": 6,
    "start_time": "2022-03-20T20:03:09.545Z"
   },
   {
    "duration": 7,
    "start_time": "2022-03-20T20:03:09.553Z"
   },
   {
    "duration": 4,
    "start_time": "2022-03-20T20:03:09.563Z"
   },
   {
    "duration": 45,
    "start_time": "2022-03-20T20:03:09.568Z"
   },
   {
    "duration": 4,
    "start_time": "2022-03-20T20:03:09.615Z"
   },
   {
    "duration": 42,
    "start_time": "2022-03-20T20:03:09.621Z"
   },
   {
    "duration": 23,
    "start_time": "2022-03-20T20:03:09.664Z"
   },
   {
    "duration": 395,
    "start_time": "2022-03-20T20:03:09.689Z"
   },
   {
    "duration": 182,
    "start_time": "2022-03-20T20:03:10.085Z"
   },
   {
    "duration": 202,
    "start_time": "2022-03-20T20:03:10.268Z"
   },
   {
    "duration": 219,
    "start_time": "2022-03-20T20:03:10.471Z"
   },
   {
    "duration": 192,
    "start_time": "2022-03-20T20:03:10.693Z"
   },
   {
    "duration": 251,
    "start_time": "2022-03-20T20:03:10.887Z"
   },
   {
    "duration": 136,
    "start_time": "2022-03-20T20:03:11.140Z"
   },
   {
    "duration": 7,
    "start_time": "2022-03-20T20:03:11.278Z"
   },
   {
    "duration": 317,
    "start_time": "2022-03-20T20:03:11.286Z"
   },
   {
    "duration": 166,
    "start_time": "2022-03-20T20:03:11.608Z"
   },
   {
    "duration": 320,
    "start_time": "2022-03-20T20:03:11.776Z"
   },
   {
    "duration": 186,
    "start_time": "2022-03-20T20:03:12.098Z"
   },
   {
    "duration": 559,
    "start_time": "2022-03-20T20:03:12.286Z"
   },
   {
    "duration": 23,
    "start_time": "2022-03-20T20:03:12.846Z"
   },
   {
    "duration": 235,
    "start_time": "2022-03-20T20:03:12.871Z"
   },
   {
    "duration": 39,
    "start_time": "2022-03-20T20:03:13.108Z"
   },
   {
    "duration": 9,
    "start_time": "2022-03-20T20:03:13.149Z"
   },
   {
    "duration": 319,
    "start_time": "2022-03-20T20:03:13.160Z"
   },
   {
    "duration": 332,
    "start_time": "2022-03-20T20:03:13.481Z"
   },
   {
    "duration": 324,
    "start_time": "2022-03-20T20:03:13.814Z"
   },
   {
    "duration": 321,
    "start_time": "2022-03-20T20:03:14.140Z"
   },
   {
    "duration": 166,
    "start_time": "2022-03-20T20:03:24.287Z"
   },
   {
    "duration": 163,
    "start_time": "2022-03-20T20:03:29.933Z"
   },
   {
    "duration": 157,
    "start_time": "2022-03-20T20:03:35.049Z"
   },
   {
    "duration": 170,
    "start_time": "2022-03-20T20:03:40.013Z"
   },
   {
    "duration": 283,
    "start_time": "2022-03-20T20:03:43.223Z"
   },
   {
    "duration": 456,
    "start_time": "2022-03-20T20:03:47.769Z"
   },
   {
    "duration": 889,
    "start_time": "2022-03-20T20:03:54.411Z"
   },
   {
    "duration": 950,
    "start_time": "2022-03-20T20:04:03.416Z"
   },
   {
    "duration": 455,
    "start_time": "2022-03-20T20:04:09.600Z"
   },
   {
    "duration": 168,
    "start_time": "2022-03-20T20:05:18.815Z"
   },
   {
    "duration": 171,
    "start_time": "2022-03-20T20:05:24.886Z"
   },
   {
    "duration": 191,
    "start_time": "2022-03-20T20:05:30.489Z"
   },
   {
    "duration": 162,
    "start_time": "2022-03-20T20:05:38.864Z"
   },
   {
    "duration": 1285,
    "start_time": "2022-03-20T20:05:47.141Z"
   },
   {
    "duration": 100,
    "start_time": "2022-03-20T20:06:01.482Z"
   },
   {
    "duration": 9,
    "start_time": "2022-03-20T20:06:01.584Z"
   },
   {
    "duration": 26,
    "start_time": "2022-03-20T20:06:01.595Z"
   },
   {
    "duration": 19,
    "start_time": "2022-03-20T20:06:01.624Z"
   },
   {
    "duration": 22,
    "start_time": "2022-03-20T20:06:01.647Z"
   },
   {
    "duration": 23,
    "start_time": "2022-03-20T20:06:01.671Z"
   },
   {
    "duration": 4,
    "start_time": "2022-03-20T20:06:01.696Z"
   },
   {
    "duration": 41,
    "start_time": "2022-03-20T20:06:01.702Z"
   },
   {
    "duration": 25,
    "start_time": "2022-03-20T20:06:01.745Z"
   },
   {
    "duration": 393,
    "start_time": "2022-03-20T20:06:01.772Z"
   },
   {
    "duration": 194,
    "start_time": "2022-03-20T20:06:02.166Z"
   },
   {
    "duration": 214,
    "start_time": "2022-03-20T20:06:02.362Z"
   },
   {
    "duration": 218,
    "start_time": "2022-03-20T20:06:02.578Z"
   },
   {
    "duration": 194,
    "start_time": "2022-03-20T20:06:02.799Z"
   },
   {
    "duration": 256,
    "start_time": "2022-03-20T20:06:02.995Z"
   },
   {
    "duration": 137,
    "start_time": "2022-03-20T20:06:03.253Z"
   },
   {
    "duration": 21,
    "start_time": "2022-03-20T20:06:03.391Z"
   },
   {
    "duration": 320,
    "start_time": "2022-03-20T20:06:03.414Z"
   },
   {
    "duration": 174,
    "start_time": "2022-03-20T20:06:03.736Z"
   },
   {
    "duration": 678,
    "start_time": "2022-03-20T20:06:03.912Z"
   },
   {
    "duration": 240,
    "start_time": "2022-03-20T20:06:04.592Z"
   },
   {
    "duration": 339,
    "start_time": "2022-03-20T20:06:04.834Z"
   },
   {
    "duration": 35,
    "start_time": "2022-03-20T20:06:05.175Z"
   },
   {
    "duration": 256,
    "start_time": "2022-03-20T20:06:05.212Z"
   },
   {
    "duration": 55,
    "start_time": "2022-03-20T20:06:05.471Z"
   },
   {
    "duration": 7,
    "start_time": "2022-03-20T20:06:05.527Z"
   },
   {
    "duration": 338,
    "start_time": "2022-03-20T20:06:05.535Z"
   },
   {
    "duration": 358,
    "start_time": "2022-03-20T20:06:05.875Z"
   },
   {
    "duration": 520,
    "start_time": "2022-03-20T20:06:06.238Z"
   },
   {
    "duration": 199,
    "start_time": "2022-03-20T20:06:06.760Z"
   },
   {
    "duration": 0,
    "start_time": "2022-03-20T20:06:08.168Z"
   },
   {
    "duration": 1062,
    "start_time": "2022-03-20T20:06:13.236Z"
   },
   {
    "duration": 321,
    "start_time": "2022-03-20T20:06:40.669Z"
   },
   {
    "duration": 5,
    "start_time": "2022-03-20T20:06:52.947Z"
   },
   {
    "duration": 177,
    "start_time": "2022-03-20T20:07:12.611Z"
   },
   {
    "duration": 256,
    "start_time": "2022-03-20T20:10:40.075Z"
   },
   {
    "duration": 250,
    "start_time": "2022-03-20T20:12:18.142Z"
   },
   {
    "duration": 178,
    "start_time": "2022-03-20T20:38:22.710Z"
   },
   {
    "duration": 7,
    "start_time": "2022-03-20T20:54:48.900Z"
   },
   {
    "duration": 7,
    "start_time": "2022-03-20T20:58:18.999Z"
   },
   {
    "duration": 112,
    "start_time": "2022-03-20T20:58:24.366Z"
   },
   {
    "duration": 5,
    "start_time": "2022-03-20T20:58:24.480Z"
   },
   {
    "duration": 22,
    "start_time": "2022-03-20T20:58:24.487Z"
   },
   {
    "duration": 10,
    "start_time": "2022-03-20T20:58:24.511Z"
   },
   {
    "duration": 4,
    "start_time": "2022-03-20T20:58:24.524Z"
   },
   {
    "duration": 17,
    "start_time": "2022-03-20T20:58:24.530Z"
   },
   {
    "duration": 5,
    "start_time": "2022-03-20T20:58:24.549Z"
   },
   {
    "duration": 78,
    "start_time": "2022-03-20T20:58:24.556Z"
   },
   {
    "duration": 21,
    "start_time": "2022-03-20T20:58:24.635Z"
   },
   {
    "duration": 403,
    "start_time": "2022-03-20T20:58:24.657Z"
   },
   {
    "duration": 196,
    "start_time": "2022-03-20T20:58:25.061Z"
   },
   {
    "duration": 215,
    "start_time": "2022-03-20T20:58:25.259Z"
   },
   {
    "duration": 226,
    "start_time": "2022-03-20T20:58:25.475Z"
   },
   {
    "duration": 203,
    "start_time": "2022-03-20T20:58:25.708Z"
   },
   {
    "duration": 297,
    "start_time": "2022-03-20T20:58:25.913Z"
   },
   {
    "duration": 3,
    "start_time": "2022-03-20T20:58:26.212Z"
   },
   {
    "duration": 154,
    "start_time": "2022-03-20T20:58:26.216Z"
   },
   {
    "duration": 8,
    "start_time": "2022-03-20T20:58:26.372Z"
   },
   {
    "duration": 367,
    "start_time": "2022-03-20T20:58:26.382Z"
   },
   {
    "duration": 199,
    "start_time": "2022-03-20T20:58:26.751Z"
   },
   {
    "duration": 331,
    "start_time": "2022-03-20T20:58:26.952Z"
   },
   {
    "duration": 201,
    "start_time": "2022-03-20T20:58:27.285Z"
   },
   {
    "duration": 724,
    "start_time": "2022-03-20T20:58:27.488Z"
   },
   {
    "duration": 36,
    "start_time": "2022-03-20T20:58:28.213Z"
   },
   {
    "duration": 240,
    "start_time": "2022-03-20T20:58:28.252Z"
   },
   {
    "duration": 46,
    "start_time": "2022-03-20T20:58:28.494Z"
   },
   {
    "duration": 6,
    "start_time": "2022-03-20T20:58:28.542Z"
   },
   {
    "duration": 335,
    "start_time": "2022-03-20T20:58:28.550Z"
   },
   {
    "duration": 349,
    "start_time": "2022-03-20T20:58:28.886Z"
   },
   {
    "duration": 483,
    "start_time": "2022-03-20T20:58:29.237Z"
   },
   {
    "duration": 187,
    "start_time": "2022-03-20T20:58:29.722Z"
   },
   {
    "duration": 198,
    "start_time": "2022-03-20T20:58:29.910Z"
   },
   {
    "duration": 166,
    "start_time": "2022-03-20T20:58:30.111Z"
   },
   {
    "duration": 483,
    "start_time": "2022-03-21T18:43:11.516Z"
   },
   {
    "duration": 93,
    "start_time": "2022-03-21T18:58:24.198Z"
   },
   {
    "duration": 100,
    "start_time": "2022-03-21T18:59:58.134Z"
   },
   {
    "duration": 90,
    "start_time": "2022-03-21T19:00:02.770Z"
   },
   {
    "duration": 5,
    "start_time": "2022-03-21T19:00:02.862Z"
   },
   {
    "duration": 4,
    "start_time": "2022-03-21T19:00:02.931Z"
   },
   {
    "duration": 15,
    "start_time": "2022-03-21T19:00:02.937Z"
   },
   {
    "duration": 12,
    "start_time": "2022-03-21T19:00:02.954Z"
   },
   {
    "duration": 13,
    "start_time": "2022-03-21T19:00:02.968Z"
   },
   {
    "duration": 4,
    "start_time": "2022-03-21T19:00:02.993Z"
   },
   {
    "duration": 39,
    "start_time": "2022-03-21T19:00:02.999Z"
   },
   {
    "duration": 18,
    "start_time": "2022-03-21T19:00:03.039Z"
   },
   {
    "duration": 433,
    "start_time": "2022-03-21T19:00:03.059Z"
   },
   {
    "duration": 700,
    "start_time": "2022-03-21T19:00:03.494Z"
   },
   {
    "duration": 189,
    "start_time": "2022-03-21T19:00:04.201Z"
   },
   {
    "duration": 221,
    "start_time": "2022-03-21T19:00:04.392Z"
   },
   {
    "duration": 197,
    "start_time": "2022-03-21T19:00:04.614Z"
   },
   {
    "duration": 468,
    "start_time": "2022-03-21T19:00:04.812Z"
   },
   {
    "duration": 3,
    "start_time": "2022-03-21T19:00:05.284Z"
   },
   {
    "duration": 196,
    "start_time": "2022-03-21T19:00:05.289Z"
   },
   {
    "duration": 87,
    "start_time": "2022-03-21T19:00:05.487Z"
   },
   {
    "duration": 0,
    "start_time": "2022-03-21T19:00:05.576Z"
   },
   {
    "duration": 0,
    "start_time": "2022-03-21T19:00:05.578Z"
   },
   {
    "duration": 0,
    "start_time": "2022-03-21T19:00:05.580Z"
   },
   {
    "duration": 0,
    "start_time": "2022-03-21T19:00:05.581Z"
   },
   {
    "duration": 0,
    "start_time": "2022-03-21T19:00:05.583Z"
   },
   {
    "duration": 0,
    "start_time": "2022-03-21T19:00:05.601Z"
   },
   {
    "duration": 0,
    "start_time": "2022-03-21T19:00:05.602Z"
   },
   {
    "duration": 0,
    "start_time": "2022-03-21T19:00:05.604Z"
   },
   {
    "duration": 0,
    "start_time": "2022-03-21T19:00:05.605Z"
   },
   {
    "duration": 0,
    "start_time": "2022-03-21T19:00:05.607Z"
   },
   {
    "duration": 0,
    "start_time": "2022-03-21T19:00:05.608Z"
   },
   {
    "duration": 0,
    "start_time": "2022-03-21T19:00:05.610Z"
   },
   {
    "duration": 0,
    "start_time": "2022-03-21T19:00:05.611Z"
   },
   {
    "duration": 0,
    "start_time": "2022-03-21T19:00:05.612Z"
   },
   {
    "duration": 0,
    "start_time": "2022-03-21T19:00:05.614Z"
   },
   {
    "duration": 103,
    "start_time": "2022-03-21T19:01:33.563Z"
   },
   {
    "duration": 7,
    "start_time": "2022-03-21T19:01:33.668Z"
   },
   {
    "duration": 5,
    "start_time": "2022-03-21T19:01:33.677Z"
   },
   {
    "duration": 6,
    "start_time": "2022-03-21T19:01:33.702Z"
   },
   {
    "duration": 16,
    "start_time": "2022-03-21T19:01:33.709Z"
   },
   {
    "duration": 4,
    "start_time": "2022-03-21T19:01:33.727Z"
   },
   {
    "duration": 34,
    "start_time": "2022-03-21T19:01:33.733Z"
   },
   {
    "duration": 50,
    "start_time": "2022-03-21T19:01:33.769Z"
   },
   {
    "duration": 438,
    "start_time": "2022-03-21T19:01:33.821Z"
   },
   {
    "duration": 173,
    "start_time": "2022-03-21T19:01:34.262Z"
   },
   {
    "duration": 174,
    "start_time": "2022-03-21T19:01:34.437Z"
   },
   {
    "duration": 182,
    "start_time": "2022-03-21T19:01:34.613Z"
   },
   {
    "duration": 171,
    "start_time": "2022-03-21T19:01:34.800Z"
   },
   {
    "duration": 233,
    "start_time": "2022-03-21T19:01:34.973Z"
   },
   {
    "duration": 2,
    "start_time": "2022-03-21T19:01:35.208Z"
   },
   {
    "duration": 130,
    "start_time": "2022-03-21T19:01:35.211Z"
   },
   {
    "duration": 12,
    "start_time": "2022-03-21T19:01:35.342Z"
   },
   {
    "duration": 0,
    "start_time": "2022-03-21T19:01:35.356Z"
   },
   {
    "duration": 0,
    "start_time": "2022-03-21T19:01:35.357Z"
   },
   {
    "duration": 0,
    "start_time": "2022-03-21T19:01:35.358Z"
   },
   {
    "duration": 0,
    "start_time": "2022-03-21T19:01:35.360Z"
   },
   {
    "duration": 0,
    "start_time": "2022-03-21T19:01:35.361Z"
   },
   {
    "duration": 0,
    "start_time": "2022-03-21T19:01:35.362Z"
   },
   {
    "duration": 0,
    "start_time": "2022-03-21T19:01:35.363Z"
   },
   {
    "duration": 0,
    "start_time": "2022-03-21T19:01:35.365Z"
   },
   {
    "duration": 0,
    "start_time": "2022-03-21T19:01:35.366Z"
   },
   {
    "duration": 0,
    "start_time": "2022-03-21T19:01:35.366Z"
   },
   {
    "duration": 0,
    "start_time": "2022-03-21T19:01:35.367Z"
   },
   {
    "duration": 0,
    "start_time": "2022-03-21T19:01:35.368Z"
   },
   {
    "duration": 0,
    "start_time": "2022-03-21T19:01:35.402Z"
   },
   {
    "duration": 0,
    "start_time": "2022-03-21T19:01:35.403Z"
   },
   {
    "duration": 0,
    "start_time": "2022-03-21T19:01:35.404Z"
   },
   {
    "duration": 94,
    "start_time": "2022-03-21T19:11:48.914Z"
   },
   {
    "duration": 98,
    "start_time": "2022-03-21T19:11:56.078Z"
   },
   {
    "duration": 107,
    "start_time": "2022-03-21T19:12:04.334Z"
   },
   {
    "duration": 14,
    "start_time": "2022-03-21T19:12:55.989Z"
   },
   {
    "duration": 12,
    "start_time": "2022-03-21T19:13:16.864Z"
   },
   {
    "duration": 110,
    "start_time": "2022-03-21T19:13:19.749Z"
   },
   {
    "duration": 7,
    "start_time": "2022-03-21T19:13:19.861Z"
   },
   {
    "duration": 5,
    "start_time": "2022-03-21T19:13:19.869Z"
   },
   {
    "duration": 27,
    "start_time": "2022-03-21T19:13:19.876Z"
   },
   {
    "duration": 15,
    "start_time": "2022-03-21T19:13:19.906Z"
   },
   {
    "duration": 4,
    "start_time": "2022-03-21T19:13:19.923Z"
   },
   {
    "duration": 32,
    "start_time": "2022-03-21T19:13:19.928Z"
   },
   {
    "duration": 47,
    "start_time": "2022-03-21T19:13:19.962Z"
   },
   {
    "duration": 425,
    "start_time": "2022-03-21T19:13:20.010Z"
   },
   {
    "duration": 158,
    "start_time": "2022-03-21T19:13:20.436Z"
   },
   {
    "duration": 163,
    "start_time": "2022-03-21T19:13:20.600Z"
   },
   {
    "duration": 189,
    "start_time": "2022-03-21T19:13:20.765Z"
   },
   {
    "duration": 172,
    "start_time": "2022-03-21T19:13:20.956Z"
   },
   {
    "duration": 222,
    "start_time": "2022-03-21T19:13:21.131Z"
   },
   {
    "duration": 2,
    "start_time": "2022-03-21T19:13:21.354Z"
   },
   {
    "duration": 126,
    "start_time": "2022-03-21T19:13:21.358Z"
   },
   {
    "duration": 19,
    "start_time": "2022-03-21T19:13:21.486Z"
   },
   {
    "duration": 0,
    "start_time": "2022-03-21T19:13:21.506Z"
   },
   {
    "duration": 0,
    "start_time": "2022-03-21T19:13:21.507Z"
   },
   {
    "duration": 0,
    "start_time": "2022-03-21T19:13:21.508Z"
   },
   {
    "duration": 0,
    "start_time": "2022-03-21T19:13:21.509Z"
   },
   {
    "duration": 0,
    "start_time": "2022-03-21T19:13:21.510Z"
   },
   {
    "duration": 0,
    "start_time": "2022-03-21T19:13:21.511Z"
   },
   {
    "duration": 0,
    "start_time": "2022-03-21T19:13:21.512Z"
   },
   {
    "duration": 0,
    "start_time": "2022-03-21T19:13:21.513Z"
   },
   {
    "duration": 0,
    "start_time": "2022-03-21T19:13:21.514Z"
   },
   {
    "duration": 0,
    "start_time": "2022-03-21T19:13:21.516Z"
   },
   {
    "duration": 0,
    "start_time": "2022-03-21T19:13:21.517Z"
   },
   {
    "duration": 0,
    "start_time": "2022-03-21T19:13:21.518Z"
   },
   {
    "duration": 0,
    "start_time": "2022-03-21T19:13:21.519Z"
   },
   {
    "duration": 0,
    "start_time": "2022-03-21T19:13:21.520Z"
   },
   {
    "duration": 0,
    "start_time": "2022-03-21T19:13:21.521Z"
   },
   {
    "duration": 11,
    "start_time": "2022-03-21T19:15:19.474Z"
   },
   {
    "duration": 124,
    "start_time": "2022-03-21T19:15:32.399Z"
   },
   {
    "duration": 6,
    "start_time": "2022-03-21T19:15:32.526Z"
   },
   {
    "duration": 24,
    "start_time": "2022-03-21T19:15:32.534Z"
   },
   {
    "duration": 16,
    "start_time": "2022-03-21T19:15:32.559Z"
   },
   {
    "duration": 32,
    "start_time": "2022-03-21T19:15:32.578Z"
   },
   {
    "duration": 0,
    "start_time": "2022-03-21T19:15:32.612Z"
   },
   {
    "duration": 0,
    "start_time": "2022-03-21T19:15:32.614Z"
   },
   {
    "duration": 1,
    "start_time": "2022-03-21T19:15:32.615Z"
   },
   {
    "duration": 0,
    "start_time": "2022-03-21T19:15:32.617Z"
   },
   {
    "duration": 0,
    "start_time": "2022-03-21T19:15:32.618Z"
   },
   {
    "duration": 1,
    "start_time": "2022-03-21T19:15:32.619Z"
   },
   {
    "duration": 0,
    "start_time": "2022-03-21T19:15:32.621Z"
   },
   {
    "duration": 0,
    "start_time": "2022-03-21T19:15:32.622Z"
   },
   {
    "duration": 0,
    "start_time": "2022-03-21T19:15:32.623Z"
   },
   {
    "duration": 0,
    "start_time": "2022-03-21T19:15:32.624Z"
   },
   {
    "duration": 0,
    "start_time": "2022-03-21T19:15:32.625Z"
   },
   {
    "duration": 0,
    "start_time": "2022-03-21T19:15:32.626Z"
   },
   {
    "duration": 0,
    "start_time": "2022-03-21T19:15:32.627Z"
   },
   {
    "duration": 0,
    "start_time": "2022-03-21T19:15:32.628Z"
   },
   {
    "duration": 0,
    "start_time": "2022-03-21T19:15:32.629Z"
   },
   {
    "duration": 0,
    "start_time": "2022-03-21T19:15:32.630Z"
   },
   {
    "duration": 0,
    "start_time": "2022-03-21T19:15:32.631Z"
   },
   {
    "duration": 0,
    "start_time": "2022-03-21T19:15:32.632Z"
   },
   {
    "duration": 0,
    "start_time": "2022-03-21T19:15:32.633Z"
   },
   {
    "duration": 0,
    "start_time": "2022-03-21T19:15:32.634Z"
   },
   {
    "duration": 0,
    "start_time": "2022-03-21T19:15:32.635Z"
   },
   {
    "duration": 0,
    "start_time": "2022-03-21T19:15:32.636Z"
   },
   {
    "duration": 0,
    "start_time": "2022-03-21T19:15:32.637Z"
   },
   {
    "duration": 0,
    "start_time": "2022-03-21T19:15:32.638Z"
   },
   {
    "duration": 0,
    "start_time": "2022-03-21T19:15:32.639Z"
   },
   {
    "duration": 0,
    "start_time": "2022-03-21T19:15:32.640Z"
   },
   {
    "duration": 0,
    "start_time": "2022-03-21T19:15:32.641Z"
   },
   {
    "duration": 0,
    "start_time": "2022-03-21T19:15:32.642Z"
   },
   {
    "duration": 3448,
    "start_time": "2022-03-21T19:15:39.738Z"
   },
   {
    "duration": 9,
    "start_time": "2022-03-21T19:15:48.896Z"
   },
   {
    "duration": 6,
    "start_time": "2022-03-21T19:16:00.005Z"
   },
   {
    "duration": 7,
    "start_time": "2022-03-21T19:16:19.066Z"
   },
   {
    "duration": 6,
    "start_time": "2022-03-21T19:16:38.026Z"
   },
   {
    "duration": 6,
    "start_time": "2022-03-21T19:16:55.245Z"
   },
   {
    "duration": 7,
    "start_time": "2022-03-21T19:17:13.615Z"
   },
   {
    "duration": 7,
    "start_time": "2022-03-21T19:17:25.507Z"
   },
   {
    "duration": 7,
    "start_time": "2022-03-21T19:17:34.367Z"
   },
   {
    "duration": 7,
    "start_time": "2022-03-21T19:17:38.425Z"
   },
   {
    "duration": 10,
    "start_time": "2022-03-21T19:18:46.267Z"
   },
   {
    "duration": 11,
    "start_time": "2022-03-21T19:21:20.512Z"
   },
   {
    "duration": 6,
    "start_time": "2022-03-21T19:21:25.825Z"
   },
   {
    "duration": 11,
    "start_time": "2022-03-21T19:25:07.389Z"
   },
   {
    "duration": 8,
    "start_time": "2022-03-21T19:25:21.955Z"
   },
   {
    "duration": 8,
    "start_time": "2022-03-21T19:26:06.881Z"
   },
   {
    "duration": 11,
    "start_time": "2022-03-21T19:26:27.283Z"
   },
   {
    "duration": 7,
    "start_time": "2022-03-21T19:27:05.556Z"
   },
   {
    "duration": 11,
    "start_time": "2022-03-21T19:28:35.652Z"
   },
   {
    "duration": 7,
    "start_time": "2022-03-21T19:28:43.259Z"
   },
   {
    "duration": 15,
    "start_time": "2022-03-21T19:30:13.928Z"
   },
   {
    "duration": 12,
    "start_time": "2022-03-21T19:31:05.384Z"
   },
   {
    "duration": 919,
    "start_time": "2022-03-21T19:32:41.817Z"
   },
   {
    "duration": 8,
    "start_time": "2022-03-21T19:32:53.634Z"
   },
   {
    "duration": 107,
    "start_time": "2022-03-21T19:32:56.305Z"
   },
   {
    "duration": 5,
    "start_time": "2022-03-21T19:32:56.414Z"
   },
   {
    "duration": 25,
    "start_time": "2022-03-21T19:32:56.420Z"
   },
   {
    "duration": 27,
    "start_time": "2022-03-21T19:32:56.446Z"
   },
   {
    "duration": 26,
    "start_time": "2022-03-21T19:32:56.475Z"
   },
   {
    "duration": 0,
    "start_time": "2022-03-21T19:32:56.504Z"
   },
   {
    "duration": 0,
    "start_time": "2022-03-21T19:32:56.506Z"
   },
   {
    "duration": 0,
    "start_time": "2022-03-21T19:32:56.507Z"
   },
   {
    "duration": 0,
    "start_time": "2022-03-21T19:32:56.508Z"
   },
   {
    "duration": 0,
    "start_time": "2022-03-21T19:32:56.509Z"
   },
   {
    "duration": 0,
    "start_time": "2022-03-21T19:32:56.510Z"
   },
   {
    "duration": 0,
    "start_time": "2022-03-21T19:32:56.511Z"
   },
   {
    "duration": 0,
    "start_time": "2022-03-21T19:32:56.512Z"
   },
   {
    "duration": 0,
    "start_time": "2022-03-21T19:32:56.513Z"
   },
   {
    "duration": 0,
    "start_time": "2022-03-21T19:32:56.514Z"
   },
   {
    "duration": 0,
    "start_time": "2022-03-21T19:32:56.515Z"
   },
   {
    "duration": 0,
    "start_time": "2022-03-21T19:32:56.516Z"
   },
   {
    "duration": 0,
    "start_time": "2022-03-21T19:32:56.517Z"
   },
   {
    "duration": 0,
    "start_time": "2022-03-21T19:32:56.518Z"
   },
   {
    "duration": 0,
    "start_time": "2022-03-21T19:32:56.519Z"
   },
   {
    "duration": 0,
    "start_time": "2022-03-21T19:32:56.521Z"
   },
   {
    "duration": 0,
    "start_time": "2022-03-21T19:32:56.521Z"
   },
   {
    "duration": 0,
    "start_time": "2022-03-21T19:32:56.523Z"
   },
   {
    "duration": 0,
    "start_time": "2022-03-21T19:32:56.524Z"
   },
   {
    "duration": 0,
    "start_time": "2022-03-21T19:32:56.526Z"
   },
   {
    "duration": 0,
    "start_time": "2022-03-21T19:32:56.527Z"
   },
   {
    "duration": 0,
    "start_time": "2022-03-21T19:32:56.528Z"
   },
   {
    "duration": 0,
    "start_time": "2022-03-21T19:32:56.529Z"
   },
   {
    "duration": 0,
    "start_time": "2022-03-21T19:32:56.530Z"
   },
   {
    "duration": 0,
    "start_time": "2022-03-21T19:32:56.531Z"
   },
   {
    "duration": 0,
    "start_time": "2022-03-21T19:32:56.532Z"
   },
   {
    "duration": 0,
    "start_time": "2022-03-21T19:32:56.533Z"
   },
   {
    "duration": 0,
    "start_time": "2022-03-21T19:32:56.534Z"
   },
   {
    "duration": 9,
    "start_time": "2022-03-21T19:33:13.670Z"
   },
   {
    "duration": 10,
    "start_time": "2022-03-21T19:33:31.240Z"
   },
   {
    "duration": 114,
    "start_time": "2022-03-21T19:33:34.536Z"
   },
   {
    "duration": 5,
    "start_time": "2022-03-21T19:33:34.652Z"
   },
   {
    "duration": 5,
    "start_time": "2022-03-21T19:33:34.658Z"
   },
   {
    "duration": 6,
    "start_time": "2022-03-21T19:33:34.665Z"
   },
   {
    "duration": 10,
    "start_time": "2022-03-21T19:33:34.673Z"
   },
   {
    "duration": 0,
    "start_time": "2022-03-21T19:33:34.701Z"
   },
   {
    "duration": 0,
    "start_time": "2022-03-21T19:33:34.702Z"
   },
   {
    "duration": 0,
    "start_time": "2022-03-21T19:33:34.703Z"
   },
   {
    "duration": 0,
    "start_time": "2022-03-21T19:33:34.704Z"
   },
   {
    "duration": 0,
    "start_time": "2022-03-21T19:33:34.705Z"
   },
   {
    "duration": 0,
    "start_time": "2022-03-21T19:33:34.706Z"
   },
   {
    "duration": 0,
    "start_time": "2022-03-21T19:33:34.707Z"
   },
   {
    "duration": 0,
    "start_time": "2022-03-21T19:33:34.708Z"
   },
   {
    "duration": 0,
    "start_time": "2022-03-21T19:33:34.709Z"
   },
   {
    "duration": 0,
    "start_time": "2022-03-21T19:33:34.710Z"
   },
   {
    "duration": 0,
    "start_time": "2022-03-21T19:33:34.711Z"
   },
   {
    "duration": 0,
    "start_time": "2022-03-21T19:33:34.712Z"
   },
   {
    "duration": 0,
    "start_time": "2022-03-21T19:33:34.713Z"
   },
   {
    "duration": 0,
    "start_time": "2022-03-21T19:33:34.714Z"
   },
   {
    "duration": 0,
    "start_time": "2022-03-21T19:33:34.715Z"
   },
   {
    "duration": 0,
    "start_time": "2022-03-21T19:33:34.716Z"
   },
   {
    "duration": 0,
    "start_time": "2022-03-21T19:33:34.718Z"
   },
   {
    "duration": 0,
    "start_time": "2022-03-21T19:33:34.719Z"
   },
   {
    "duration": 0,
    "start_time": "2022-03-21T19:33:34.720Z"
   },
   {
    "duration": 0,
    "start_time": "2022-03-21T19:33:34.721Z"
   },
   {
    "duration": 0,
    "start_time": "2022-03-21T19:33:34.722Z"
   },
   {
    "duration": 0,
    "start_time": "2022-03-21T19:33:34.723Z"
   },
   {
    "duration": 0,
    "start_time": "2022-03-21T19:33:34.724Z"
   },
   {
    "duration": 0,
    "start_time": "2022-03-21T19:33:34.725Z"
   },
   {
    "duration": 0,
    "start_time": "2022-03-21T19:33:34.726Z"
   },
   {
    "duration": 0,
    "start_time": "2022-03-21T19:33:34.727Z"
   },
   {
    "duration": 0,
    "start_time": "2022-03-21T19:33:34.728Z"
   },
   {
    "duration": 0,
    "start_time": "2022-03-21T19:33:34.728Z"
   },
   {
    "duration": 9,
    "start_time": "2022-03-21T19:33:45.865Z"
   },
   {
    "duration": 110,
    "start_time": "2022-03-21T19:33:49.531Z"
   },
   {
    "duration": 5,
    "start_time": "2022-03-21T19:33:49.643Z"
   },
   {
    "duration": 4,
    "start_time": "2022-03-21T19:33:49.650Z"
   },
   {
    "duration": 6,
    "start_time": "2022-03-21T19:33:49.656Z"
   },
   {
    "duration": 8,
    "start_time": "2022-03-21T19:33:49.664Z"
   },
   {
    "duration": 0,
    "start_time": "2022-03-21T19:33:49.674Z"
   },
   {
    "duration": 0,
    "start_time": "2022-03-21T19:33:49.675Z"
   },
   {
    "duration": 0,
    "start_time": "2022-03-21T19:33:49.676Z"
   },
   {
    "duration": 0,
    "start_time": "2022-03-21T19:33:49.677Z"
   },
   {
    "duration": 0,
    "start_time": "2022-03-21T19:33:49.678Z"
   },
   {
    "duration": 0,
    "start_time": "2022-03-21T19:33:49.679Z"
   },
   {
    "duration": 0,
    "start_time": "2022-03-21T19:33:49.680Z"
   },
   {
    "duration": 0,
    "start_time": "2022-03-21T19:33:49.681Z"
   },
   {
    "duration": 0,
    "start_time": "2022-03-21T19:33:49.682Z"
   },
   {
    "duration": 0,
    "start_time": "2022-03-21T19:33:49.682Z"
   },
   {
    "duration": 0,
    "start_time": "2022-03-21T19:33:49.683Z"
   },
   {
    "duration": 0,
    "start_time": "2022-03-21T19:33:49.684Z"
   },
   {
    "duration": 0,
    "start_time": "2022-03-21T19:33:49.685Z"
   },
   {
    "duration": 0,
    "start_time": "2022-03-21T19:33:49.686Z"
   },
   {
    "duration": 0,
    "start_time": "2022-03-21T19:33:49.686Z"
   },
   {
    "duration": 0,
    "start_time": "2022-03-21T19:33:49.701Z"
   },
   {
    "duration": 0,
    "start_time": "2022-03-21T19:33:49.702Z"
   },
   {
    "duration": 0,
    "start_time": "2022-03-21T19:33:49.703Z"
   },
   {
    "duration": 0,
    "start_time": "2022-03-21T19:33:49.704Z"
   },
   {
    "duration": 0,
    "start_time": "2022-03-21T19:33:49.705Z"
   },
   {
    "duration": 0,
    "start_time": "2022-03-21T19:33:49.706Z"
   },
   {
    "duration": 0,
    "start_time": "2022-03-21T19:33:49.707Z"
   },
   {
    "duration": 0,
    "start_time": "2022-03-21T19:33:49.708Z"
   },
   {
    "duration": 0,
    "start_time": "2022-03-21T19:33:49.709Z"
   },
   {
    "duration": 0,
    "start_time": "2022-03-21T19:33:49.710Z"
   },
   {
    "duration": 0,
    "start_time": "2022-03-21T19:33:49.711Z"
   },
   {
    "duration": 0,
    "start_time": "2022-03-21T19:33:49.712Z"
   },
   {
    "duration": 0,
    "start_time": "2022-03-21T19:33:49.713Z"
   },
   {
    "duration": 198,
    "start_time": "2022-03-21T19:34:28.797Z"
   },
   {
    "duration": 9,
    "start_time": "2022-03-21T19:34:43.599Z"
   },
   {
    "duration": 125,
    "start_time": "2022-03-21T19:34:59.698Z"
   },
   {
    "duration": 6,
    "start_time": "2022-03-21T19:34:59.825Z"
   },
   {
    "duration": 5,
    "start_time": "2022-03-21T19:34:59.832Z"
   },
   {
    "duration": 6,
    "start_time": "2022-03-21T19:34:59.839Z"
   },
   {
    "duration": 8,
    "start_time": "2022-03-21T19:34:59.847Z"
   },
   {
    "duration": 0,
    "start_time": "2022-03-21T19:34:59.857Z"
   },
   {
    "duration": 0,
    "start_time": "2022-03-21T19:34:59.858Z"
   },
   {
    "duration": 0,
    "start_time": "2022-03-21T19:34:59.860Z"
   },
   {
    "duration": 0,
    "start_time": "2022-03-21T19:34:59.861Z"
   },
   {
    "duration": 0,
    "start_time": "2022-03-21T19:34:59.862Z"
   },
   {
    "duration": 0,
    "start_time": "2022-03-21T19:34:59.863Z"
   },
   {
    "duration": 0,
    "start_time": "2022-03-21T19:34:59.864Z"
   },
   {
    "duration": 0,
    "start_time": "2022-03-21T19:34:59.901Z"
   },
   {
    "duration": 0,
    "start_time": "2022-03-21T19:34:59.902Z"
   },
   {
    "duration": 0,
    "start_time": "2022-03-21T19:34:59.903Z"
   },
   {
    "duration": 0,
    "start_time": "2022-03-21T19:34:59.904Z"
   },
   {
    "duration": 0,
    "start_time": "2022-03-21T19:34:59.905Z"
   },
   {
    "duration": 0,
    "start_time": "2022-03-21T19:34:59.906Z"
   },
   {
    "duration": 0,
    "start_time": "2022-03-21T19:34:59.907Z"
   },
   {
    "duration": 0,
    "start_time": "2022-03-21T19:34:59.908Z"
   },
   {
    "duration": 0,
    "start_time": "2022-03-21T19:34:59.909Z"
   },
   {
    "duration": 0,
    "start_time": "2022-03-21T19:34:59.910Z"
   },
   {
    "duration": 0,
    "start_time": "2022-03-21T19:34:59.911Z"
   },
   {
    "duration": 0,
    "start_time": "2022-03-21T19:34:59.912Z"
   },
   {
    "duration": 0,
    "start_time": "2022-03-21T19:34:59.912Z"
   },
   {
    "duration": 0,
    "start_time": "2022-03-21T19:34:59.913Z"
   },
   {
    "duration": 0,
    "start_time": "2022-03-21T19:34:59.914Z"
   },
   {
    "duration": 0,
    "start_time": "2022-03-21T19:34:59.915Z"
   },
   {
    "duration": 0,
    "start_time": "2022-03-21T19:34:59.916Z"
   },
   {
    "duration": 0,
    "start_time": "2022-03-21T19:34:59.917Z"
   },
   {
    "duration": 0,
    "start_time": "2022-03-21T19:34:59.918Z"
   },
   {
    "duration": 0,
    "start_time": "2022-03-21T19:34:59.919Z"
   },
   {
    "duration": 0,
    "start_time": "2022-03-21T19:34:59.920Z"
   },
   {
    "duration": 109,
    "start_time": "2022-03-21T19:35:07.791Z"
   },
   {
    "duration": 6,
    "start_time": "2022-03-21T19:35:07.901Z"
   },
   {
    "duration": 5,
    "start_time": "2022-03-21T19:35:07.909Z"
   },
   {
    "duration": 5,
    "start_time": "2022-03-21T19:35:07.916Z"
   },
   {
    "duration": 8,
    "start_time": "2022-03-21T19:35:07.923Z"
   },
   {
    "duration": 0,
    "start_time": "2022-03-21T19:35:07.933Z"
   },
   {
    "duration": 0,
    "start_time": "2022-03-21T19:35:07.934Z"
   },
   {
    "duration": 0,
    "start_time": "2022-03-21T19:35:07.935Z"
   },
   {
    "duration": 0,
    "start_time": "2022-03-21T19:35:07.936Z"
   },
   {
    "duration": 0,
    "start_time": "2022-03-21T19:35:07.937Z"
   },
   {
    "duration": 0,
    "start_time": "2022-03-21T19:35:07.938Z"
   },
   {
    "duration": 0,
    "start_time": "2022-03-21T19:35:07.939Z"
   },
   {
    "duration": 0,
    "start_time": "2022-03-21T19:35:07.940Z"
   },
   {
    "duration": 0,
    "start_time": "2022-03-21T19:35:07.941Z"
   },
   {
    "duration": 0,
    "start_time": "2022-03-21T19:35:07.942Z"
   },
   {
    "duration": 0,
    "start_time": "2022-03-21T19:35:07.943Z"
   },
   {
    "duration": 0,
    "start_time": "2022-03-21T19:35:07.944Z"
   },
   {
    "duration": 0,
    "start_time": "2022-03-21T19:35:07.945Z"
   },
   {
    "duration": 0,
    "start_time": "2022-03-21T19:35:07.946Z"
   },
   {
    "duration": 0,
    "start_time": "2022-03-21T19:35:07.947Z"
   },
   {
    "duration": 0,
    "start_time": "2022-03-21T19:35:07.948Z"
   },
   {
    "duration": 0,
    "start_time": "2022-03-21T19:35:07.949Z"
   },
   {
    "duration": 0,
    "start_time": "2022-03-21T19:35:07.950Z"
   },
   {
    "duration": 0,
    "start_time": "2022-03-21T19:35:07.951Z"
   },
   {
    "duration": 0,
    "start_time": "2022-03-21T19:35:08.002Z"
   },
   {
    "duration": 0,
    "start_time": "2022-03-21T19:35:08.003Z"
   },
   {
    "duration": 0,
    "start_time": "2022-03-21T19:35:08.004Z"
   },
   {
    "duration": 0,
    "start_time": "2022-03-21T19:35:08.005Z"
   },
   {
    "duration": 0,
    "start_time": "2022-03-21T19:35:08.006Z"
   },
   {
    "duration": 0,
    "start_time": "2022-03-21T19:35:08.007Z"
   },
   {
    "duration": 0,
    "start_time": "2022-03-21T19:35:08.008Z"
   },
   {
    "duration": 0,
    "start_time": "2022-03-21T19:35:08.009Z"
   },
   {
    "duration": 0,
    "start_time": "2022-03-21T19:35:08.010Z"
   },
   {
    "duration": 23,
    "start_time": "2022-03-21T19:36:18.237Z"
   },
   {
    "duration": 13,
    "start_time": "2022-03-21T19:36:22.934Z"
   },
   {
    "duration": 16,
    "start_time": "2022-03-21T19:36:32.529Z"
   },
   {
    "duration": 8,
    "start_time": "2022-03-21T19:36:37.259Z"
   },
   {
    "duration": 9,
    "start_time": "2022-03-21T19:37:32.447Z"
   },
   {
    "duration": 9,
    "start_time": "2022-03-21T19:37:55.761Z"
   },
   {
    "duration": 11,
    "start_time": "2022-03-21T19:39:56.947Z"
   },
   {
    "duration": 20,
    "start_time": "2022-03-21T19:40:16.561Z"
   },
   {
    "duration": 31,
    "start_time": "2022-03-21T19:40:22.686Z"
   },
   {
    "duration": 132,
    "start_time": "2022-03-21T19:40:39.370Z"
   },
   {
    "duration": 7,
    "start_time": "2022-03-21T19:40:39.504Z"
   },
   {
    "duration": 6,
    "start_time": "2022-03-21T19:40:39.513Z"
   },
   {
    "duration": 14,
    "start_time": "2022-03-21T19:40:39.520Z"
   },
   {
    "duration": 31,
    "start_time": "2022-03-21T19:40:39.537Z"
   },
   {
    "duration": 38,
    "start_time": "2022-03-21T19:40:39.570Z"
   },
   {
    "duration": 5,
    "start_time": "2022-03-21T19:40:39.610Z"
   },
   {
    "duration": 43,
    "start_time": "2022-03-21T19:40:39.616Z"
   },
   {
    "duration": 63,
    "start_time": "2022-03-21T19:40:39.662Z"
   },
   {
    "duration": 433,
    "start_time": "2022-03-21T19:40:39.742Z"
   },
   {
    "duration": 253,
    "start_time": "2022-03-21T19:40:40.177Z"
   },
   {
    "duration": 255,
    "start_time": "2022-03-21T19:40:40.432Z"
   },
   {
    "duration": 242,
    "start_time": "2022-03-21T19:40:40.688Z"
   },
   {
    "duration": 213,
    "start_time": "2022-03-21T19:40:40.934Z"
   },
   {
    "duration": 358,
    "start_time": "2022-03-21T19:40:41.150Z"
   },
   {
    "duration": 2,
    "start_time": "2022-03-21T19:40:41.510Z"
   },
   {
    "duration": 125,
    "start_time": "2022-03-21T19:40:41.514Z"
   },
   {
    "duration": 12,
    "start_time": "2022-03-21T19:40:41.640Z"
   },
   {
    "duration": 0,
    "start_time": "2022-03-21T19:40:41.654Z"
   },
   {
    "duration": 0,
    "start_time": "2022-03-21T19:40:41.655Z"
   },
   {
    "duration": 0,
    "start_time": "2022-03-21T19:40:41.656Z"
   },
   {
    "duration": 0,
    "start_time": "2022-03-21T19:40:41.658Z"
   },
   {
    "duration": 0,
    "start_time": "2022-03-21T19:40:41.659Z"
   },
   {
    "duration": 0,
    "start_time": "2022-03-21T19:40:41.660Z"
   },
   {
    "duration": 0,
    "start_time": "2022-03-21T19:40:41.661Z"
   },
   {
    "duration": 0,
    "start_time": "2022-03-21T19:40:41.662Z"
   },
   {
    "duration": 0,
    "start_time": "2022-03-21T19:40:41.663Z"
   },
   {
    "duration": 0,
    "start_time": "2022-03-21T19:40:41.664Z"
   },
   {
    "duration": 0,
    "start_time": "2022-03-21T19:40:41.701Z"
   },
   {
    "duration": 0,
    "start_time": "2022-03-21T19:40:41.702Z"
   },
   {
    "duration": 0,
    "start_time": "2022-03-21T19:40:41.704Z"
   },
   {
    "duration": 0,
    "start_time": "2022-03-21T19:40:41.705Z"
   },
   {
    "duration": 0,
    "start_time": "2022-03-21T19:40:41.706Z"
   },
   {
    "duration": 37,
    "start_time": "2022-03-21T19:42:14.389Z"
   },
   {
    "duration": 29,
    "start_time": "2022-03-21T19:44:01.417Z"
   },
   {
    "duration": 30,
    "start_time": "2022-03-21T19:44:34.672Z"
   },
   {
    "duration": 31,
    "start_time": "2022-03-21T19:44:49.995Z"
   },
   {
    "duration": 122,
    "start_time": "2022-03-21T19:45:16.196Z"
   },
   {
    "duration": 7,
    "start_time": "2022-03-21T19:45:16.320Z"
   },
   {
    "duration": 5,
    "start_time": "2022-03-21T19:45:16.328Z"
   },
   {
    "duration": 7,
    "start_time": "2022-03-21T19:45:16.335Z"
   },
   {
    "duration": 32,
    "start_time": "2022-03-21T19:45:16.343Z"
   },
   {
    "duration": 14,
    "start_time": "2022-03-21T19:45:16.401Z"
   },
   {
    "duration": 4,
    "start_time": "2022-03-21T19:45:16.417Z"
   },
   {
    "duration": 32,
    "start_time": "2022-03-21T19:45:16.422Z"
   },
   {
    "duration": 46,
    "start_time": "2022-03-21T19:45:16.456Z"
   },
   {
    "duration": 472,
    "start_time": "2022-03-21T19:45:16.506Z"
   },
   {
    "duration": 171,
    "start_time": "2022-03-21T19:45:16.980Z"
   },
   {
    "duration": 177,
    "start_time": "2022-03-21T19:45:17.153Z"
   },
   {
    "duration": 190,
    "start_time": "2022-03-21T19:45:17.332Z"
   },
   {
    "duration": 167,
    "start_time": "2022-03-21T19:45:17.524Z"
   },
   {
    "duration": 240,
    "start_time": "2022-03-21T19:45:17.693Z"
   },
   {
    "duration": 3,
    "start_time": "2022-03-21T19:45:17.934Z"
   },
   {
    "duration": 132,
    "start_time": "2022-03-21T19:45:17.938Z"
   },
   {
    "duration": 11,
    "start_time": "2022-03-21T19:45:18.072Z"
   },
   {
    "duration": 0,
    "start_time": "2022-03-21T19:45:18.085Z"
   },
   {
    "duration": 0,
    "start_time": "2022-03-21T19:45:18.086Z"
   },
   {
    "duration": 0,
    "start_time": "2022-03-21T19:45:18.087Z"
   },
   {
    "duration": 0,
    "start_time": "2022-03-21T19:45:18.101Z"
   },
   {
    "duration": 0,
    "start_time": "2022-03-21T19:45:18.102Z"
   },
   {
    "duration": 0,
    "start_time": "2022-03-21T19:45:18.103Z"
   },
   {
    "duration": 0,
    "start_time": "2022-03-21T19:45:18.104Z"
   },
   {
    "duration": 0,
    "start_time": "2022-03-21T19:45:18.105Z"
   },
   {
    "duration": 0,
    "start_time": "2022-03-21T19:45:18.106Z"
   },
   {
    "duration": 0,
    "start_time": "2022-03-21T19:45:18.107Z"
   },
   {
    "duration": 0,
    "start_time": "2022-03-21T19:45:18.108Z"
   },
   {
    "duration": 0,
    "start_time": "2022-03-21T19:45:18.109Z"
   },
   {
    "duration": 0,
    "start_time": "2022-03-21T19:45:18.110Z"
   },
   {
    "duration": 0,
    "start_time": "2022-03-21T19:45:18.111Z"
   },
   {
    "duration": 0,
    "start_time": "2022-03-21T19:45:18.112Z"
   },
   {
    "duration": 48,
    "start_time": "2022-03-21T19:50:31.198Z"
   },
   {
    "duration": 29,
    "start_time": "2022-03-21T19:50:36.789Z"
   },
   {
    "duration": 6,
    "start_time": "2022-03-21T20:01:26.427Z"
   },
   {
    "duration": 8,
    "start_time": "2022-03-21T20:02:56.951Z"
   },
   {
    "duration": 7,
    "start_time": "2022-03-21T20:03:06.882Z"
   },
   {
    "duration": 25,
    "start_time": "2022-03-21T20:03:25.850Z"
   },
   {
    "duration": 49,
    "start_time": "2022-03-21T20:03:43.966Z"
   },
   {
    "duration": 40,
    "start_time": "2022-03-21T20:04:07.166Z"
   },
   {
    "duration": 209,
    "start_time": "2022-03-21T20:04:35.599Z"
   },
   {
    "duration": 26,
    "start_time": "2022-03-21T20:04:39.312Z"
   },
   {
    "duration": 113,
    "start_time": "2022-03-21T20:41:15.932Z"
   },
   {
    "duration": 7,
    "start_time": "2022-03-21T20:41:16.047Z"
   },
   {
    "duration": 6,
    "start_time": "2022-03-21T20:41:16.056Z"
   },
   {
    "duration": 8,
    "start_time": "2022-03-21T20:41:16.064Z"
   },
   {
    "duration": 51,
    "start_time": "2022-03-21T20:41:16.075Z"
   },
   {
    "duration": 12,
    "start_time": "2022-03-21T20:41:16.127Z"
   },
   {
    "duration": 3,
    "start_time": "2022-03-21T20:41:16.141Z"
   },
   {
    "duration": 32,
    "start_time": "2022-03-21T20:41:16.145Z"
   },
   {
    "duration": 21,
    "start_time": "2022-03-21T20:41:16.201Z"
   },
   {
    "duration": 477,
    "start_time": "2022-03-21T20:41:16.224Z"
   },
   {
    "duration": 165,
    "start_time": "2022-03-21T20:41:16.703Z"
   },
   {
    "duration": 172,
    "start_time": "2022-03-21T20:41:16.870Z"
   },
   {
    "duration": 181,
    "start_time": "2022-03-21T20:41:17.043Z"
   },
   {
    "duration": 161,
    "start_time": "2022-03-21T20:41:17.226Z"
   },
   {
    "duration": 216,
    "start_time": "2022-03-21T20:41:17.389Z"
   },
   {
    "duration": 2,
    "start_time": "2022-03-21T20:41:17.607Z"
   },
   {
    "duration": 124,
    "start_time": "2022-03-21T20:41:17.611Z"
   },
   {
    "duration": 11,
    "start_time": "2022-03-21T20:41:17.737Z"
   },
   {
    "duration": 0,
    "start_time": "2022-03-21T20:41:17.750Z"
   },
   {
    "duration": 0,
    "start_time": "2022-03-21T20:41:17.751Z"
   },
   {
    "duration": 0,
    "start_time": "2022-03-21T20:41:17.752Z"
   },
   {
    "duration": 0,
    "start_time": "2022-03-21T20:41:17.753Z"
   },
   {
    "duration": 0,
    "start_time": "2022-03-21T20:41:17.753Z"
   },
   {
    "duration": 0,
    "start_time": "2022-03-21T20:41:17.754Z"
   },
   {
    "duration": 0,
    "start_time": "2022-03-21T20:41:17.755Z"
   },
   {
    "duration": 0,
    "start_time": "2022-03-21T20:41:17.756Z"
   },
   {
    "duration": 0,
    "start_time": "2022-03-21T20:41:17.757Z"
   },
   {
    "duration": 0,
    "start_time": "2022-03-21T20:41:17.758Z"
   },
   {
    "duration": 0,
    "start_time": "2022-03-21T20:41:17.759Z"
   },
   {
    "duration": 0,
    "start_time": "2022-03-21T20:41:17.760Z"
   },
   {
    "duration": 0,
    "start_time": "2022-03-21T20:41:17.760Z"
   },
   {
    "duration": 0,
    "start_time": "2022-03-21T20:41:17.761Z"
   },
   {
    "duration": 0,
    "start_time": "2022-03-21T20:41:17.762Z"
   },
   {
    "duration": 12,
    "start_time": "2022-03-21T21:42:14.044Z"
   },
   {
    "duration": 12,
    "start_time": "2022-03-21T21:42:49.605Z"
   },
   {
    "duration": 115,
    "start_time": "2022-03-21T21:42:53.120Z"
   },
   {
    "duration": 7,
    "start_time": "2022-03-21T21:42:53.236Z"
   },
   {
    "duration": 6,
    "start_time": "2022-03-21T21:42:53.244Z"
   },
   {
    "duration": 6,
    "start_time": "2022-03-21T21:42:53.251Z"
   },
   {
    "duration": 48,
    "start_time": "2022-03-21T21:42:53.260Z"
   },
   {
    "duration": 13,
    "start_time": "2022-03-21T21:42:53.310Z"
   },
   {
    "duration": 4,
    "start_time": "2022-03-21T21:42:53.325Z"
   },
   {
    "duration": 29,
    "start_time": "2022-03-21T21:42:53.331Z"
   },
   {
    "duration": 49,
    "start_time": "2022-03-21T21:42:53.362Z"
   },
   {
    "duration": 462,
    "start_time": "2022-03-21T21:42:53.413Z"
   },
   {
    "duration": 152,
    "start_time": "2022-03-21T21:42:53.877Z"
   },
   {
    "duration": 164,
    "start_time": "2022-03-21T21:42:54.031Z"
   },
   {
    "duration": 174,
    "start_time": "2022-03-21T21:42:54.196Z"
   },
   {
    "duration": 166,
    "start_time": "2022-03-21T21:42:54.373Z"
   },
   {
    "duration": 225,
    "start_time": "2022-03-21T21:42:54.541Z"
   },
   {
    "duration": 2,
    "start_time": "2022-03-21T21:42:54.768Z"
   },
   {
    "duration": 123,
    "start_time": "2022-03-21T21:42:54.772Z"
   },
   {
    "duration": 11,
    "start_time": "2022-03-21T21:42:54.901Z"
   },
   {
    "duration": 0,
    "start_time": "2022-03-21T21:42:54.914Z"
   },
   {
    "duration": 0,
    "start_time": "2022-03-21T21:42:54.915Z"
   },
   {
    "duration": 0,
    "start_time": "2022-03-21T21:42:54.916Z"
   },
   {
    "duration": 0,
    "start_time": "2022-03-21T21:42:54.917Z"
   },
   {
    "duration": 0,
    "start_time": "2022-03-21T21:42:54.918Z"
   },
   {
    "duration": 0,
    "start_time": "2022-03-21T21:42:54.919Z"
   },
   {
    "duration": 0,
    "start_time": "2022-03-21T21:42:54.919Z"
   },
   {
    "duration": 0,
    "start_time": "2022-03-21T21:42:54.921Z"
   },
   {
    "duration": 0,
    "start_time": "2022-03-21T21:42:54.921Z"
   },
   {
    "duration": 0,
    "start_time": "2022-03-21T21:42:54.922Z"
   },
   {
    "duration": 0,
    "start_time": "2022-03-21T21:42:54.923Z"
   },
   {
    "duration": 0,
    "start_time": "2022-03-21T21:42:54.925Z"
   },
   {
    "duration": 0,
    "start_time": "2022-03-21T21:42:54.926Z"
   },
   {
    "duration": 0,
    "start_time": "2022-03-21T21:42:54.926Z"
   },
   {
    "duration": 0,
    "start_time": "2022-03-21T21:42:54.927Z"
   },
   {
    "duration": 14,
    "start_time": "2022-03-21T21:43:54.317Z"
   },
   {
    "duration": 11,
    "start_time": "2022-03-21T21:46:36.442Z"
   },
   {
    "duration": 11,
    "start_time": "2022-03-21T21:46:48.765Z"
   },
   {
    "duration": 10,
    "start_time": "2022-03-21T21:47:13.109Z"
   },
   {
    "duration": 112,
    "start_time": "2022-03-21T21:48:51.089Z"
   },
   {
    "duration": 114,
    "start_time": "2022-03-21T21:49:10.381Z"
   },
   {
    "duration": 11,
    "start_time": "2022-03-21T21:49:19.205Z"
   },
   {
    "duration": 2037,
    "start_time": "2022-03-21T21:50:11.103Z"
   },
   {
    "duration": 117,
    "start_time": "2022-03-21T21:51:08.388Z"
   },
   {
    "duration": 6,
    "start_time": "2022-03-21T21:51:08.507Z"
   },
   {
    "duration": 5,
    "start_time": "2022-03-21T21:51:08.515Z"
   },
   {
    "duration": 7,
    "start_time": "2022-03-21T21:51:08.522Z"
   },
   {
    "duration": 27,
    "start_time": "2022-03-21T21:51:08.532Z"
   },
   {
    "duration": 53,
    "start_time": "2022-03-21T21:51:08.560Z"
   },
   {
    "duration": 4,
    "start_time": "2022-03-21T21:51:08.614Z"
   },
   {
    "duration": 31,
    "start_time": "2022-03-21T21:51:08.619Z"
   },
   {
    "duration": 19,
    "start_time": "2022-03-21T21:51:08.652Z"
   },
   {
    "duration": 385,
    "start_time": "2022-03-21T21:51:08.673Z"
   },
   {
    "duration": 160,
    "start_time": "2022-03-21T21:51:09.060Z"
   },
   {
    "duration": 169,
    "start_time": "2022-03-21T21:51:09.222Z"
   },
   {
    "duration": 182,
    "start_time": "2022-03-21T21:51:09.393Z"
   },
   {
    "duration": 164,
    "start_time": "2022-03-21T21:51:09.578Z"
   },
   {
    "duration": 2239,
    "start_time": "2022-03-21T21:51:09.743Z"
   },
   {
    "duration": 128,
    "start_time": "2022-03-21T21:51:11.983Z"
   },
   {
    "duration": 9,
    "start_time": "2022-03-21T21:51:12.113Z"
   },
   {
    "duration": 288,
    "start_time": "2022-03-21T21:51:12.124Z"
   },
   {
    "duration": 150,
    "start_time": "2022-03-21T21:51:12.414Z"
   },
   {
    "duration": 262,
    "start_time": "2022-03-21T21:51:12.566Z"
   },
   {
    "duration": 168,
    "start_time": "2022-03-21T21:51:12.829Z"
   },
   {
    "duration": 503,
    "start_time": "2022-03-21T21:51:13.000Z"
   },
   {
    "duration": 22,
    "start_time": "2022-03-21T21:51:13.505Z"
   },
   {
    "duration": 200,
    "start_time": "2022-03-21T21:51:13.528Z"
   },
   {
    "duration": 37,
    "start_time": "2022-03-21T21:51:13.729Z"
   },
   {
    "duration": 5,
    "start_time": "2022-03-21T21:51:13.767Z"
   },
   {
    "duration": 272,
    "start_time": "2022-03-21T21:51:13.774Z"
   },
   {
    "duration": 278,
    "start_time": "2022-03-21T21:51:14.048Z"
   },
   {
    "duration": 409,
    "start_time": "2022-03-21T21:51:14.327Z"
   },
   {
    "duration": 152,
    "start_time": "2022-03-21T21:51:14.737Z"
   },
   {
    "duration": 156,
    "start_time": "2022-03-21T21:51:14.891Z"
   },
   {
    "duration": 147,
    "start_time": "2022-03-21T21:51:15.048Z"
   },
   {
    "duration": 117,
    "start_time": "2022-03-21T21:52:58.795Z"
   },
   {
    "duration": 7,
    "start_time": "2022-03-21T21:52:58.914Z"
   },
   {
    "duration": 4,
    "start_time": "2022-03-21T21:52:58.923Z"
   },
   {
    "duration": 7,
    "start_time": "2022-03-21T21:52:58.928Z"
   },
   {
    "duration": 30,
    "start_time": "2022-03-21T21:52:58.936Z"
   },
   {
    "duration": 41,
    "start_time": "2022-03-21T21:52:58.967Z"
   },
   {
    "duration": 4,
    "start_time": "2022-03-21T21:52:59.010Z"
   },
   {
    "duration": 33,
    "start_time": "2022-03-21T21:52:59.016Z"
   },
   {
    "duration": 21,
    "start_time": "2022-03-21T21:52:59.050Z"
   },
   {
    "duration": 377,
    "start_time": "2022-03-21T21:52:59.074Z"
   },
   {
    "duration": 318,
    "start_time": "2022-03-21T21:52:59.452Z"
   },
   {
    "duration": 169,
    "start_time": "2022-03-21T21:52:59.771Z"
   },
   {
    "duration": 183,
    "start_time": "2022-03-21T21:52:59.941Z"
   },
   {
    "duration": 187,
    "start_time": "2022-03-21T21:53:00.126Z"
   },
   {
    "duration": 219,
    "start_time": "2022-03-21T21:53:00.314Z"
   },
   {
    "duration": 110,
    "start_time": "2022-03-21T21:53:00.535Z"
   },
   {
    "duration": 11,
    "start_time": "2022-03-21T21:53:00.647Z"
   },
   {
    "duration": 275,
    "start_time": "2022-03-21T21:53:00.659Z"
   },
   {
    "duration": 140,
    "start_time": "2022-03-21T21:53:00.936Z"
   },
   {
    "duration": 297,
    "start_time": "2022-03-21T21:53:01.078Z"
   },
   {
    "duration": 229,
    "start_time": "2022-03-21T21:53:01.377Z"
   },
   {
    "duration": 266,
    "start_time": "2022-03-21T21:53:01.608Z"
   },
   {
    "duration": 28,
    "start_time": "2022-03-21T21:53:01.876Z"
   },
   {
    "duration": 181,
    "start_time": "2022-03-21T21:53:01.906Z"
   },
   {
    "duration": 41,
    "start_time": "2022-03-21T21:53:02.089Z"
   },
   {
    "duration": 5,
    "start_time": "2022-03-21T21:53:02.132Z"
   },
   {
    "duration": 307,
    "start_time": "2022-03-21T21:53:02.139Z"
   },
   {
    "duration": 488,
    "start_time": "2022-03-21T21:53:02.450Z"
   },
   {
    "duration": 431,
    "start_time": "2022-03-21T21:53:02.940Z"
   },
   {
    "duration": 191,
    "start_time": "2022-03-21T21:53:03.372Z"
   },
   {
    "duration": 145,
    "start_time": "2022-03-21T21:53:03.564Z"
   },
   {
    "duration": 154,
    "start_time": "2022-03-21T21:53:03.711Z"
   },
   {
    "duration": 114,
    "start_time": "2022-03-21T21:53:52.829Z"
   },
   {
    "duration": 6,
    "start_time": "2022-03-21T21:53:52.945Z"
   },
   {
    "duration": 6,
    "start_time": "2022-03-21T21:53:52.952Z"
   },
   {
    "duration": 7,
    "start_time": "2022-03-21T21:53:52.959Z"
   },
   {
    "duration": 43,
    "start_time": "2022-03-21T21:53:52.968Z"
   },
   {
    "duration": 13,
    "start_time": "2022-03-21T21:53:53.013Z"
   },
   {
    "duration": 5,
    "start_time": "2022-03-21T21:53:53.027Z"
   },
   {
    "duration": 31,
    "start_time": "2022-03-21T21:53:53.034Z"
   },
   {
    "duration": 44,
    "start_time": "2022-03-21T21:53:53.066Z"
   },
   {
    "duration": 354,
    "start_time": "2022-03-21T21:53:53.112Z"
   },
   {
    "duration": 151,
    "start_time": "2022-03-21T21:53:53.468Z"
   },
   {
    "duration": 182,
    "start_time": "2022-03-21T21:53:53.621Z"
   },
   {
    "duration": 184,
    "start_time": "2022-03-21T21:53:53.804Z"
   },
   {
    "duration": 163,
    "start_time": "2022-03-21T21:53:53.991Z"
   },
   {
    "duration": 217,
    "start_time": "2022-03-21T21:53:54.155Z"
   },
   {
    "duration": 210,
    "start_time": "2022-03-21T21:53:54.374Z"
   },
   {
    "duration": 15,
    "start_time": "2022-03-21T21:53:54.586Z"
   },
   {
    "duration": 277,
    "start_time": "2022-03-21T21:53:54.603Z"
   },
   {
    "duration": 162,
    "start_time": "2022-03-21T21:53:54.882Z"
   },
   {
    "duration": 483,
    "start_time": "2022-03-21T21:53:55.045Z"
   },
   {
    "duration": 151,
    "start_time": "2022-03-21T21:53:55.530Z"
   },
   {
    "duration": 249,
    "start_time": "2022-03-21T21:53:55.683Z"
   },
   {
    "duration": 78,
    "start_time": "2022-03-21T21:53:55.934Z"
   },
   {
    "duration": 216,
    "start_time": "2022-03-21T21:53:56.014Z"
   },
   {
    "duration": 37,
    "start_time": "2022-03-21T21:53:56.232Z"
   },
   {
    "duration": 34,
    "start_time": "2022-03-21T21:53:56.271Z"
   },
   {
    "duration": 241,
    "start_time": "2022-03-21T21:53:56.306Z"
   },
   {
    "duration": 266,
    "start_time": "2022-03-21T21:53:56.549Z"
   },
   {
    "duration": 614,
    "start_time": "2022-03-21T21:53:56.816Z"
   },
   {
    "duration": 148,
    "start_time": "2022-03-21T21:53:57.432Z"
   },
   {
    "duration": 160,
    "start_time": "2022-03-21T21:53:57.582Z"
   },
   {
    "duration": 159,
    "start_time": "2022-03-21T21:53:57.744Z"
   },
   {
    "duration": 100,
    "start_time": "2022-03-21T21:54:21.777Z"
   },
   {
    "duration": 121,
    "start_time": "2022-03-21T21:54:25.700Z"
   },
   {
    "duration": 7,
    "start_time": "2022-03-21T21:54:25.823Z"
   },
   {
    "duration": 4,
    "start_time": "2022-03-21T21:54:25.832Z"
   },
   {
    "duration": 6,
    "start_time": "2022-03-21T21:54:25.838Z"
   },
   {
    "duration": 55,
    "start_time": "2022-03-21T21:54:25.847Z"
   },
   {
    "duration": 13,
    "start_time": "2022-03-21T21:54:25.904Z"
   },
   {
    "duration": 4,
    "start_time": "2022-03-21T21:54:25.918Z"
   },
   {
    "duration": 31,
    "start_time": "2022-03-21T21:54:25.924Z"
   },
   {
    "duration": 46,
    "start_time": "2022-03-21T21:54:25.956Z"
   },
   {
    "duration": 366,
    "start_time": "2022-03-21T21:54:26.003Z"
   },
   {
    "duration": 162,
    "start_time": "2022-03-21T21:54:26.370Z"
   },
   {
    "duration": 169,
    "start_time": "2022-03-21T21:54:26.534Z"
   },
   {
    "duration": 191,
    "start_time": "2022-03-21T21:54:26.705Z"
   },
   {
    "duration": 162,
    "start_time": "2022-03-21T21:54:26.902Z"
   },
   {
    "duration": 222,
    "start_time": "2022-03-21T21:54:27.066Z"
   },
   {
    "duration": 123,
    "start_time": "2022-03-21T21:54:27.290Z"
   },
   {
    "duration": 9,
    "start_time": "2022-03-21T21:54:27.415Z"
   },
   {
    "duration": 565,
    "start_time": "2022-03-21T21:54:27.426Z"
   },
   {
    "duration": 201,
    "start_time": "2022-03-21T21:54:28.000Z"
   },
   {
    "duration": 269,
    "start_time": "2022-03-21T21:54:28.203Z"
   },
   {
    "duration": 164,
    "start_time": "2022-03-21T21:54:28.474Z"
   },
   {
    "duration": 271,
    "start_time": "2022-03-21T21:54:28.640Z"
   },
   {
    "duration": 22,
    "start_time": "2022-03-21T21:54:28.913Z"
   },
   {
    "duration": 194,
    "start_time": "2022-03-21T21:54:28.936Z"
   },
   {
    "duration": 44,
    "start_time": "2022-03-21T21:54:29.132Z"
   },
   {
    "duration": 26,
    "start_time": "2022-03-21T21:54:29.178Z"
   },
   {
    "duration": 430,
    "start_time": "2022-03-21T21:54:29.207Z"
   },
   {
    "duration": 276,
    "start_time": "2022-03-21T21:54:29.638Z"
   },
   {
    "duration": 437,
    "start_time": "2022-03-21T21:54:29.915Z"
   },
   {
    "duration": 164,
    "start_time": "2022-03-21T21:54:30.354Z"
   },
   {
    "duration": 168,
    "start_time": "2022-03-21T21:54:30.520Z"
   },
   {
    "duration": 167,
    "start_time": "2022-03-21T21:54:30.690Z"
   },
   {
    "duration": 214,
    "start_time": "2022-03-21T21:54:44.121Z"
   },
   {
    "duration": 614,
    "start_time": "2022-03-21T21:54:59.547Z"
   },
   {
    "duration": 128,
    "start_time": "2022-03-21T21:55:02.254Z"
   },
   {
    "duration": 30,
    "start_time": "2022-03-21T21:55:02.385Z"
   },
   {
    "duration": 7,
    "start_time": "2022-03-21T21:55:02.417Z"
   },
   {
    "duration": 7,
    "start_time": "2022-03-21T21:55:02.426Z"
   },
   {
    "duration": 30,
    "start_time": "2022-03-21T21:55:02.434Z"
   },
   {
    "duration": 12,
    "start_time": "2022-03-21T21:55:02.466Z"
   },
   {
    "duration": 4,
    "start_time": "2022-03-21T21:55:02.479Z"
   },
   {
    "duration": 41,
    "start_time": "2022-03-21T21:55:02.484Z"
   },
   {
    "duration": 21,
    "start_time": "2022-03-21T21:55:02.526Z"
   },
   {
    "duration": 678,
    "start_time": "2022-03-21T21:55:02.551Z"
   },
   {
    "duration": 151,
    "start_time": "2022-03-21T21:55:03.230Z"
   },
   {
    "duration": 162,
    "start_time": "2022-03-21T21:55:03.383Z"
   },
   {
    "duration": 169,
    "start_time": "2022-03-21T21:55:03.547Z"
   },
   {
    "duration": 162,
    "start_time": "2022-03-21T21:55:03.718Z"
   },
   {
    "duration": 222,
    "start_time": "2022-03-21T21:55:03.882Z"
   },
   {
    "duration": 125,
    "start_time": "2022-03-21T21:55:04.106Z"
   },
   {
    "duration": 663,
    "start_time": "2022-03-21T21:55:04.233Z"
   },
   {
    "duration": 291,
    "start_time": "2022-03-21T21:55:04.898Z"
   },
   {
    "duration": 159,
    "start_time": "2022-03-21T21:55:05.190Z"
   },
   {
    "duration": 302,
    "start_time": "2022-03-21T21:55:05.350Z"
   },
   {
    "duration": 178,
    "start_time": "2022-03-21T21:55:05.654Z"
   },
   {
    "duration": 264,
    "start_time": "2022-03-21T21:55:05.834Z"
   },
   {
    "duration": 22,
    "start_time": "2022-03-21T21:55:06.100Z"
   },
   {
    "duration": 212,
    "start_time": "2022-03-21T21:55:06.124Z"
   },
   {
    "duration": 40,
    "start_time": "2022-03-21T21:55:06.338Z"
   },
   {
    "duration": 6,
    "start_time": "2022-03-21T21:55:06.379Z"
   },
   {
    "duration": 280,
    "start_time": "2022-03-21T21:55:06.386Z"
   },
   {
    "duration": 274,
    "start_time": "2022-03-21T21:55:06.670Z"
   },
   {
    "duration": 392,
    "start_time": "2022-03-21T21:55:06.946Z"
   },
   {
    "duration": 151,
    "start_time": "2022-03-21T21:55:07.340Z"
   },
   {
    "duration": 156,
    "start_time": "2022-03-21T21:55:07.493Z"
   },
   {
    "duration": 163,
    "start_time": "2022-03-21T21:55:07.651Z"
   },
   {
    "duration": 1029,
    "start_time": "2022-03-21T21:56:01.715Z"
   },
   {
    "duration": 116,
    "start_time": "2022-03-21T21:56:07.498Z"
   },
   {
    "duration": 6,
    "start_time": "2022-03-21T21:56:07.616Z"
   },
   {
    "duration": 5,
    "start_time": "2022-03-21T21:56:07.623Z"
   },
   {
    "duration": 7,
    "start_time": "2022-03-21T21:56:07.629Z"
   },
   {
    "duration": 28,
    "start_time": "2022-03-21T21:56:07.638Z"
   },
   {
    "duration": 45,
    "start_time": "2022-03-21T21:56:07.668Z"
   },
   {
    "duration": 6,
    "start_time": "2022-03-21T21:56:07.715Z"
   },
   {
    "duration": 31,
    "start_time": "2022-03-21T21:56:07.722Z"
   },
   {
    "duration": 19,
    "start_time": "2022-03-21T21:56:07.754Z"
   },
   {
    "duration": 355,
    "start_time": "2022-03-21T21:56:07.801Z"
   },
   {
    "duration": 157,
    "start_time": "2022-03-21T21:56:08.157Z"
   },
   {
    "duration": 168,
    "start_time": "2022-03-21T21:56:08.315Z"
   },
   {
    "duration": 191,
    "start_time": "2022-03-21T21:56:08.485Z"
   },
   {
    "duration": 160,
    "start_time": "2022-03-21T21:56:08.679Z"
   },
   {
    "duration": 220,
    "start_time": "2022-03-21T21:56:08.841Z"
   },
   {
    "duration": 114,
    "start_time": "2022-03-21T21:56:09.063Z"
   },
   {
    "duration": 611,
    "start_time": "2022-03-21T21:56:09.178Z"
   },
   {
    "duration": 254,
    "start_time": "2022-03-21T21:56:09.791Z"
   },
   {
    "duration": 146,
    "start_time": "2022-03-21T21:56:10.047Z"
   },
   {
    "duration": 256,
    "start_time": "2022-03-21T21:56:10.194Z"
   },
   {
    "duration": 160,
    "start_time": "2022-03-21T21:56:10.451Z"
   },
   {
    "duration": 259,
    "start_time": "2022-03-21T21:56:10.613Z"
   },
   {
    "duration": 29,
    "start_time": "2022-03-21T21:56:10.873Z"
   },
   {
    "duration": 192,
    "start_time": "2022-03-21T21:56:10.904Z"
   },
   {
    "duration": 38,
    "start_time": "2022-03-21T21:56:11.098Z"
   },
   {
    "duration": 4,
    "start_time": "2022-03-21T21:56:11.138Z"
   },
   {
    "duration": 265,
    "start_time": "2022-03-21T21:56:11.144Z"
   },
   {
    "duration": 292,
    "start_time": "2022-03-21T21:56:11.411Z"
   },
   {
    "duration": 391,
    "start_time": "2022-03-21T21:56:11.705Z"
   },
   {
    "duration": 144,
    "start_time": "2022-03-21T21:56:12.100Z"
   },
   {
    "duration": 150,
    "start_time": "2022-03-21T21:56:12.245Z"
   },
   {
    "duration": 158,
    "start_time": "2022-03-21T21:56:12.396Z"
   },
   {
    "duration": 642,
    "start_time": "2022-03-21T21:57:32.992Z"
   },
   {
    "duration": 180,
    "start_time": "2022-03-21T21:57:41.715Z"
   },
   {
    "duration": 111,
    "start_time": "2022-03-21T21:58:01.652Z"
   },
   {
    "duration": 6,
    "start_time": "2022-03-21T21:58:01.764Z"
   },
   {
    "duration": 5,
    "start_time": "2022-03-21T21:58:01.772Z"
   },
   {
    "duration": 26,
    "start_time": "2022-03-21T21:58:01.779Z"
   },
   {
    "duration": 27,
    "start_time": "2022-03-21T21:58:01.808Z"
   },
   {
    "duration": 13,
    "start_time": "2022-03-21T21:58:01.837Z"
   },
   {
    "duration": 5,
    "start_time": "2022-03-21T21:58:01.851Z"
   },
   {
    "duration": 57,
    "start_time": "2022-03-21T21:58:01.858Z"
   },
   {
    "duration": 19,
    "start_time": "2022-03-21T21:58:01.916Z"
   },
   {
    "duration": 378,
    "start_time": "2022-03-21T21:58:01.937Z"
   },
   {
    "duration": 185,
    "start_time": "2022-03-21T21:58:02.316Z"
   },
   {
    "duration": 191,
    "start_time": "2022-03-21T21:58:02.503Z"
   },
   {
    "duration": 223,
    "start_time": "2022-03-21T21:58:02.696Z"
   },
   {
    "duration": 180,
    "start_time": "2022-03-21T21:58:02.922Z"
   },
   {
    "duration": 214,
    "start_time": "2022-03-21T21:58:03.104Z"
   },
   {
    "duration": 109,
    "start_time": "2022-03-21T21:58:03.319Z"
   },
   {
    "duration": 850,
    "start_time": "2022-03-21T21:58:03.430Z"
   },
   {
    "duration": 276,
    "start_time": "2022-03-21T21:58:04.282Z"
   },
   {
    "duration": 145,
    "start_time": "2022-03-21T21:58:04.560Z"
   },
   {
    "duration": 285,
    "start_time": "2022-03-21T21:58:04.707Z"
   },
   {
    "duration": 162,
    "start_time": "2022-03-21T21:58:04.993Z"
   },
   {
    "duration": 266,
    "start_time": "2022-03-21T21:58:05.156Z"
   },
   {
    "duration": 22,
    "start_time": "2022-03-21T21:58:05.423Z"
   },
   {
    "duration": 200,
    "start_time": "2022-03-21T21:58:05.447Z"
   },
   {
    "duration": 38,
    "start_time": "2022-03-21T21:58:05.649Z"
   },
   {
    "duration": 13,
    "start_time": "2022-03-21T21:58:05.689Z"
   },
   {
    "duration": 251,
    "start_time": "2022-03-21T21:58:05.704Z"
   },
   {
    "duration": 280,
    "start_time": "2022-03-21T21:58:05.957Z"
   },
   {
    "duration": 398,
    "start_time": "2022-03-21T21:58:06.238Z"
   },
   {
    "duration": 149,
    "start_time": "2022-03-21T21:58:06.638Z"
   },
   {
    "duration": 151,
    "start_time": "2022-03-21T21:58:06.789Z"
   },
   {
    "duration": 149,
    "start_time": "2022-03-21T21:58:06.942Z"
   },
   {
    "duration": 267,
    "start_time": "2022-03-21T21:58:17.522Z"
   },
   {
    "duration": 115,
    "start_time": "2022-03-21T21:58:22.750Z"
   },
   {
    "duration": 5,
    "start_time": "2022-03-21T21:58:22.867Z"
   },
   {
    "duration": 4,
    "start_time": "2022-03-21T21:58:22.874Z"
   },
   {
    "duration": 25,
    "start_time": "2022-03-21T21:58:22.880Z"
   },
   {
    "duration": 33,
    "start_time": "2022-03-21T21:58:22.906Z"
   },
   {
    "duration": 14,
    "start_time": "2022-03-21T21:58:22.941Z"
   },
   {
    "duration": 4,
    "start_time": "2022-03-21T21:58:22.956Z"
   },
   {
    "duration": 53,
    "start_time": "2022-03-21T21:58:22.961Z"
   },
   {
    "duration": 20,
    "start_time": "2022-03-21T21:58:23.015Z"
   },
   {
    "duration": 366,
    "start_time": "2022-03-21T21:58:23.038Z"
   },
   {
    "duration": 185,
    "start_time": "2022-03-21T21:58:23.406Z"
   },
   {
    "duration": 286,
    "start_time": "2022-03-21T21:58:23.593Z"
   },
   {
    "duration": 220,
    "start_time": "2022-03-21T21:58:23.881Z"
   },
   {
    "duration": 206,
    "start_time": "2022-03-21T21:58:24.103Z"
   },
   {
    "duration": 801,
    "start_time": "2022-03-21T21:58:24.311Z"
   },
   {
    "duration": 123,
    "start_time": "2022-03-21T21:58:25.114Z"
   },
   {
    "duration": 621,
    "start_time": "2022-03-21T21:58:25.240Z"
   },
   {
    "duration": 282,
    "start_time": "2022-03-21T21:58:25.862Z"
   },
   {
    "duration": 158,
    "start_time": "2022-03-21T21:58:26.146Z"
   },
   {
    "duration": 279,
    "start_time": "2022-03-21T21:58:26.306Z"
   },
   {
    "duration": 200,
    "start_time": "2022-03-21T21:58:26.586Z"
   },
   {
    "duration": 265,
    "start_time": "2022-03-21T21:58:26.788Z"
   },
   {
    "duration": 24,
    "start_time": "2022-03-21T21:58:27.055Z"
   },
   {
    "duration": 195,
    "start_time": "2022-03-21T21:58:27.080Z"
   },
   {
    "duration": 38,
    "start_time": "2022-03-21T21:58:27.277Z"
   },
   {
    "duration": 6,
    "start_time": "2022-03-21T21:58:27.316Z"
   },
   {
    "duration": 266,
    "start_time": "2022-03-21T21:58:27.323Z"
   },
   {
    "duration": 356,
    "start_time": "2022-03-21T21:58:27.592Z"
   },
   {
    "duration": 692,
    "start_time": "2022-03-21T21:58:27.950Z"
   },
   {
    "duration": 235,
    "start_time": "2022-03-21T21:58:28.643Z"
   },
   {
    "duration": 156,
    "start_time": "2022-03-21T21:58:28.880Z"
   },
   {
    "duration": 156,
    "start_time": "2022-03-21T21:58:29.038Z"
   },
   {
    "duration": 175,
    "start_time": "2022-03-21T22:07:36.655Z"
   },
   {
    "duration": 1256,
    "start_time": "2022-03-21T22:07:43.090Z"
   },
   {
    "duration": 273,
    "start_time": "2022-03-21T22:10:13.735Z"
   },
   {
    "duration": 121,
    "start_time": "2022-03-21T22:10:16.800Z"
   },
   {
    "duration": 7,
    "start_time": "2022-03-21T22:10:16.922Z"
   },
   {
    "duration": 5,
    "start_time": "2022-03-21T22:10:16.930Z"
   },
   {
    "duration": 6,
    "start_time": "2022-03-21T22:10:16.936Z"
   },
   {
    "duration": 25,
    "start_time": "2022-03-21T22:10:16.944Z"
   },
   {
    "duration": 40,
    "start_time": "2022-03-21T22:10:16.971Z"
   },
   {
    "duration": 4,
    "start_time": "2022-03-21T22:10:17.012Z"
   },
   {
    "duration": 30,
    "start_time": "2022-03-21T22:10:17.017Z"
   },
   {
    "duration": 21,
    "start_time": "2022-03-21T22:10:17.049Z"
   },
   {
    "duration": 366,
    "start_time": "2022-03-21T22:10:17.071Z"
   },
   {
    "duration": 2004,
    "start_time": "2022-03-21T22:10:17.438Z"
   },
   {
    "duration": 278,
    "start_time": "2022-03-21T22:10:19.443Z"
   },
   {
    "duration": 200,
    "start_time": "2022-03-21T22:10:19.723Z"
   },
   {
    "duration": 195,
    "start_time": "2022-03-21T22:10:19.927Z"
   },
   {
    "duration": 232,
    "start_time": "2022-03-21T22:10:20.124Z"
   },
   {
    "duration": 123,
    "start_time": "2022-03-21T22:10:20.358Z"
   },
   {
    "duration": 630,
    "start_time": "2022-03-21T22:10:20.482Z"
   },
   {
    "duration": 277,
    "start_time": "2022-03-21T22:10:21.114Z"
   },
   {
    "duration": 167,
    "start_time": "2022-03-21T22:10:21.393Z"
   },
   {
    "duration": 312,
    "start_time": "2022-03-21T22:10:21.561Z"
   },
   {
    "duration": 167,
    "start_time": "2022-03-21T22:10:21.874Z"
   },
   {
    "duration": 290,
    "start_time": "2022-03-21T22:10:22.042Z"
   },
   {
    "duration": 29,
    "start_time": "2022-03-21T22:10:22.334Z"
   },
   {
    "duration": 218,
    "start_time": "2022-03-21T22:10:22.365Z"
   },
   {
    "duration": 48,
    "start_time": "2022-03-21T22:10:22.585Z"
   },
   {
    "duration": 5,
    "start_time": "2022-03-21T22:10:22.635Z"
   },
   {
    "duration": 262,
    "start_time": "2022-03-21T22:10:22.641Z"
   },
   {
    "duration": 283,
    "start_time": "2022-03-21T22:10:22.904Z"
   },
   {
    "duration": 398,
    "start_time": "2022-03-21T22:10:23.189Z"
   },
   {
    "duration": 155,
    "start_time": "2022-03-21T22:10:23.588Z"
   },
   {
    "duration": 158,
    "start_time": "2022-03-21T22:10:23.745Z"
   },
   {
    "duration": 153,
    "start_time": "2022-03-21T22:10:23.904Z"
   },
   {
    "duration": 47,
    "start_time": "2022-03-21T22:10:59.972Z"
   },
   {
    "duration": 7,
    "start_time": "2022-03-21T22:11:06.062Z"
   },
   {
    "duration": 532,
    "start_time": "2022-03-21T22:11:19.733Z"
   },
   {
    "duration": 6,
    "start_time": "2022-03-21T22:11:20.267Z"
   },
   {
    "duration": 8,
    "start_time": "2022-03-21T22:11:20.275Z"
   },
   {
    "duration": 19,
    "start_time": "2022-03-21T22:11:20.286Z"
   },
   {
    "duration": 46,
    "start_time": "2022-03-21T22:11:20.307Z"
   },
   {
    "duration": 14,
    "start_time": "2022-03-21T22:11:20.354Z"
   },
   {
    "duration": 6,
    "start_time": "2022-03-21T22:11:20.369Z"
   },
   {
    "duration": 38,
    "start_time": "2022-03-21T22:11:20.376Z"
   },
   {
    "duration": 23,
    "start_time": "2022-03-21T22:11:20.416Z"
   },
   {
    "duration": 394,
    "start_time": "2022-03-21T22:11:20.442Z"
   },
   {
    "duration": 1611,
    "start_time": "2022-03-21T22:11:20.838Z"
   },
   {
    "duration": 1159,
    "start_time": "2022-03-21T22:11:22.451Z"
   },
   {
    "duration": 307,
    "start_time": "2022-03-21T22:11:23.611Z"
   },
   {
    "duration": 197,
    "start_time": "2022-03-21T22:11:23.920Z"
   },
   {
    "duration": 232,
    "start_time": "2022-03-21T22:11:24.119Z"
   },
   {
    "duration": 126,
    "start_time": "2022-03-21T22:11:24.352Z"
   },
   {
    "duration": 781,
    "start_time": "2022-03-21T22:11:24.480Z"
   },
   {
    "duration": 258,
    "start_time": "2022-03-21T22:11:25.262Z"
   },
   {
    "duration": 136,
    "start_time": "2022-03-21T22:11:25.522Z"
   },
   {
    "duration": 262,
    "start_time": "2022-03-21T22:11:25.659Z"
   },
   {
    "duration": 154,
    "start_time": "2022-03-21T22:11:25.922Z"
   },
   {
    "duration": 304,
    "start_time": "2022-03-21T22:11:26.078Z"
   },
   {
    "duration": 21,
    "start_time": "2022-03-21T22:11:26.402Z"
   },
   {
    "duration": 235,
    "start_time": "2022-03-21T22:11:26.425Z"
   },
   {
    "duration": 43,
    "start_time": "2022-03-21T22:11:26.662Z"
   },
   {
    "duration": 5,
    "start_time": "2022-03-21T22:11:26.706Z"
   },
   {
    "duration": 256,
    "start_time": "2022-03-21T22:11:26.713Z"
   },
   {
    "duration": 407,
    "start_time": "2022-03-21T22:11:26.972Z"
   },
   {
    "duration": 406,
    "start_time": "2022-03-21T22:11:27.380Z"
   },
   {
    "duration": 153,
    "start_time": "2022-03-21T22:11:27.787Z"
   },
   {
    "duration": 154,
    "start_time": "2022-03-21T22:11:27.942Z"
   },
   {
    "duration": 159,
    "start_time": "2022-03-21T22:11:28.101Z"
   },
   {
    "duration": 118,
    "start_time": "2022-03-21T22:14:59.932Z"
   },
   {
    "duration": 8,
    "start_time": "2022-03-21T22:15:00.052Z"
   },
   {
    "duration": 6,
    "start_time": "2022-03-21T22:15:00.062Z"
   },
   {
    "duration": 34,
    "start_time": "2022-03-21T22:15:00.070Z"
   },
   {
    "duration": 30,
    "start_time": "2022-03-21T22:15:00.107Z"
   },
   {
    "duration": 14,
    "start_time": "2022-03-21T22:15:00.139Z"
   },
   {
    "duration": 6,
    "start_time": "2022-03-21T22:15:00.155Z"
   },
   {
    "duration": 62,
    "start_time": "2022-03-21T22:15:00.162Z"
   },
   {
    "duration": 23,
    "start_time": "2022-03-21T22:15:00.225Z"
   },
   {
    "duration": 385,
    "start_time": "2022-03-21T22:15:00.250Z"
   },
   {
    "duration": 1503,
    "start_time": "2022-03-21T22:15:00.637Z"
   },
   {
    "duration": 1391,
    "start_time": "2022-03-21T22:15:02.141Z"
   },
   {
    "duration": 204,
    "start_time": "2022-03-21T22:15:03.534Z"
   },
   {
    "duration": 198,
    "start_time": "2022-03-21T22:15:03.741Z"
   },
   {
    "duration": 2280,
    "start_time": "2022-03-21T22:15:03.940Z"
   },
   {
    "duration": 132,
    "start_time": "2022-03-21T22:15:06.222Z"
   },
   {
    "duration": 618,
    "start_time": "2022-03-21T22:15:06.355Z"
   },
   {
    "duration": 288,
    "start_time": "2022-03-21T22:15:06.975Z"
   },
   {
    "duration": 152,
    "start_time": "2022-03-21T22:15:07.264Z"
   },
   {
    "duration": 256,
    "start_time": "2022-03-21T22:15:07.418Z"
   },
   {
    "duration": 167,
    "start_time": "2022-03-21T22:15:07.676Z"
   },
   {
    "duration": 263,
    "start_time": "2022-03-21T22:15:07.845Z"
   },
   {
    "duration": 23,
    "start_time": "2022-03-21T22:15:08.109Z"
   },
   {
    "duration": 207,
    "start_time": "2022-03-21T22:15:08.133Z"
   },
   {
    "duration": 37,
    "start_time": "2022-03-21T22:15:08.342Z"
   },
   {
    "duration": 21,
    "start_time": "2022-03-21T22:15:08.381Z"
   },
   {
    "duration": 264,
    "start_time": "2022-03-21T22:15:08.403Z"
   },
   {
    "duration": 660,
    "start_time": "2022-03-21T22:15:08.669Z"
   },
   {
    "duration": 393,
    "start_time": "2022-03-21T22:15:09.331Z"
   },
   {
    "duration": 147,
    "start_time": "2022-03-21T22:15:09.726Z"
   },
   {
    "duration": 155,
    "start_time": "2022-03-21T22:15:09.875Z"
   },
   {
    "duration": 159,
    "start_time": "2022-03-21T22:15:10.032Z"
   },
   {
    "duration": 115,
    "start_time": "2022-03-21T22:15:23.032Z"
   },
   {
    "duration": 6,
    "start_time": "2022-03-21T22:15:23.149Z"
   },
   {
    "duration": 4,
    "start_time": "2022-03-21T22:15:23.157Z"
   },
   {
    "duration": 8,
    "start_time": "2022-03-21T22:15:23.162Z"
   },
   {
    "duration": 51,
    "start_time": "2022-03-21T22:15:23.172Z"
   },
   {
    "duration": 13,
    "start_time": "2022-03-21T22:15:23.225Z"
   },
   {
    "duration": 3,
    "start_time": "2022-03-21T22:15:23.240Z"
   },
   {
    "duration": 31,
    "start_time": "2022-03-21T22:15:23.245Z"
   },
   {
    "duration": 24,
    "start_time": "2022-03-21T22:15:23.300Z"
   },
   {
    "duration": 362,
    "start_time": "2022-03-21T22:15:23.326Z"
   },
   {
    "duration": 1758,
    "start_time": "2022-03-21T22:15:23.690Z"
   },
   {
    "duration": 1139,
    "start_time": "2022-03-21T22:15:25.449Z"
   },
   {
    "duration": 211,
    "start_time": "2022-03-21T22:15:26.590Z"
   },
   {
    "duration": 203,
    "start_time": "2022-03-21T22:15:26.803Z"
   },
   {
    "duration": 2136,
    "start_time": "2022-03-21T22:15:27.007Z"
   },
   {
    "duration": 117,
    "start_time": "2022-03-21T22:15:29.145Z"
   },
   {
    "duration": 643,
    "start_time": "2022-03-21T22:15:29.263Z"
   },
   {
    "duration": 722,
    "start_time": "2022-03-21T22:15:29.908Z"
   },
   {
    "duration": 158,
    "start_time": "2022-03-21T22:15:30.631Z"
   },
   {
    "duration": 281,
    "start_time": "2022-03-21T22:15:30.790Z"
   },
   {
    "duration": 181,
    "start_time": "2022-03-21T22:15:31.072Z"
   },
   {
    "duration": 272,
    "start_time": "2022-03-21T22:15:31.254Z"
   },
   {
    "duration": 22,
    "start_time": "2022-03-21T22:15:31.528Z"
   },
   {
    "duration": 213,
    "start_time": "2022-03-21T22:15:31.552Z"
   },
   {
    "duration": 48,
    "start_time": "2022-03-21T22:15:31.767Z"
   },
   {
    "duration": 5,
    "start_time": "2022-03-21T22:15:31.817Z"
   },
   {
    "duration": 256,
    "start_time": "2022-03-21T22:15:31.824Z"
   },
   {
    "duration": 271,
    "start_time": "2022-03-21T22:15:32.081Z"
   },
   {
    "duration": 405,
    "start_time": "2022-03-21T22:15:32.354Z"
   },
   {
    "duration": 154,
    "start_time": "2022-03-21T22:15:32.760Z"
   },
   {
    "duration": 150,
    "start_time": "2022-03-21T22:15:32.916Z"
   },
   {
    "duration": 152,
    "start_time": "2022-03-21T22:15:33.068Z"
   },
   {
    "duration": 1905,
    "start_time": "2022-03-21T22:15:49.927Z"
   },
   {
    "duration": 117,
    "start_time": "2022-03-21T22:16:10.692Z"
   },
   {
    "duration": 7,
    "start_time": "2022-03-21T22:16:10.811Z"
   },
   {
    "duration": 5,
    "start_time": "2022-03-21T22:16:10.819Z"
   },
   {
    "duration": 6,
    "start_time": "2022-03-21T22:16:10.826Z"
   },
   {
    "duration": 554,
    "start_time": "2022-03-21T22:16:10.834Z"
   },
   {
    "duration": 19,
    "start_time": "2022-03-21T22:16:11.390Z"
   },
   {
    "duration": 4,
    "start_time": "2022-03-21T22:16:11.410Z"
   },
   {
    "duration": 32,
    "start_time": "2022-03-21T22:16:11.416Z"
   },
   {
    "duration": 19,
    "start_time": "2022-03-21T22:16:11.449Z"
   },
   {
    "duration": 369,
    "start_time": "2022-03-21T22:16:11.469Z"
   },
   {
    "duration": 1286,
    "start_time": "2022-03-21T22:16:11.840Z"
   },
   {
    "duration": 1117,
    "start_time": "2022-03-21T22:16:13.128Z"
   },
   {
    "duration": 204,
    "start_time": "2022-03-21T22:16:14.246Z"
   },
   {
    "duration": 202,
    "start_time": "2022-03-21T22:16:14.453Z"
   },
   {
    "duration": 2362,
    "start_time": "2022-03-21T22:16:14.657Z"
   },
   {
    "duration": 132,
    "start_time": "2022-03-21T22:16:17.021Z"
   },
   {
    "duration": 634,
    "start_time": "2022-03-21T22:16:17.156Z"
   },
   {
    "duration": 277,
    "start_time": "2022-03-21T22:16:17.791Z"
   },
   {
    "duration": 159,
    "start_time": "2022-03-21T22:16:18.070Z"
   },
   {
    "duration": 297,
    "start_time": "2022-03-21T22:16:18.231Z"
   },
   {
    "duration": 162,
    "start_time": "2022-03-21T22:16:18.530Z"
   },
   {
    "duration": 264,
    "start_time": "2022-03-21T22:16:18.694Z"
   },
   {
    "duration": 23,
    "start_time": "2022-03-21T22:16:18.959Z"
   },
   {
    "duration": 193,
    "start_time": "2022-03-21T22:16:18.984Z"
   },
   {
    "duration": 46,
    "start_time": "2022-03-21T22:16:19.179Z"
   },
   {
    "duration": 5,
    "start_time": "2022-03-21T22:16:19.226Z"
   },
   {
    "duration": 268,
    "start_time": "2022-03-21T22:16:19.233Z"
   },
   {
    "duration": 361,
    "start_time": "2022-03-21T22:16:19.503Z"
   },
   {
    "duration": 411,
    "start_time": "2022-03-21T22:16:19.901Z"
   },
   {
    "duration": 144,
    "start_time": "2022-03-21T22:16:20.313Z"
   },
   {
    "duration": 174,
    "start_time": "2022-03-21T22:16:20.459Z"
   },
   {
    "duration": 847,
    "start_time": "2022-03-21T22:16:20.635Z"
   },
   {
    "duration": 110,
    "start_time": "2022-03-21T22:16:55.106Z"
   },
   {
    "duration": 6,
    "start_time": "2022-03-21T22:16:55.218Z"
   },
   {
    "duration": 8,
    "start_time": "2022-03-21T22:16:55.226Z"
   },
   {
    "duration": 6,
    "start_time": "2022-03-21T22:16:55.236Z"
   },
   {
    "duration": 26,
    "start_time": "2022-03-21T22:16:55.244Z"
   },
   {
    "duration": 40,
    "start_time": "2022-03-21T22:16:55.271Z"
   },
   {
    "duration": 4,
    "start_time": "2022-03-21T22:16:55.313Z"
   },
   {
    "duration": 35,
    "start_time": "2022-03-21T22:16:55.318Z"
   },
   {
    "duration": 21,
    "start_time": "2022-03-21T22:16:55.355Z"
   },
   {
    "duration": 376,
    "start_time": "2022-03-21T22:16:55.378Z"
   },
   {
    "duration": 1306,
    "start_time": "2022-03-21T22:16:55.756Z"
   },
   {
    "duration": 1089,
    "start_time": "2022-03-21T22:16:57.064Z"
   },
   {
    "duration": 207,
    "start_time": "2022-03-21T22:16:58.155Z"
   },
   {
    "duration": 190,
    "start_time": "2022-03-21T22:16:58.365Z"
   },
   {
    "duration": 2714,
    "start_time": "2022-03-21T22:16:58.557Z"
   },
   {
    "duration": 118,
    "start_time": "2022-03-21T22:17:01.273Z"
   },
   {
    "duration": 627,
    "start_time": "2022-03-21T22:17:01.393Z"
   },
   {
    "duration": 272,
    "start_time": "2022-03-21T22:17:02.022Z"
   },
   {
    "duration": 147,
    "start_time": "2022-03-21T22:17:02.296Z"
   },
   {
    "duration": 249,
    "start_time": "2022-03-21T22:17:02.445Z"
   },
   {
    "duration": 161,
    "start_time": "2022-03-21T22:17:02.695Z"
   },
   {
    "duration": 253,
    "start_time": "2022-03-21T22:17:02.858Z"
   },
   {
    "duration": 21,
    "start_time": "2022-03-21T22:17:03.113Z"
   },
   {
    "duration": 195,
    "start_time": "2022-03-21T22:17:03.136Z"
   },
   {
    "duration": 36,
    "start_time": "2022-03-21T22:17:03.333Z"
   },
   {
    "duration": 5,
    "start_time": "2022-03-21T22:17:03.371Z"
   },
   {
    "duration": 272,
    "start_time": "2022-03-21T22:17:03.378Z"
   },
   {
    "duration": 278,
    "start_time": "2022-03-21T22:17:03.652Z"
   },
   {
    "duration": 406,
    "start_time": "2022-03-21T22:17:03.932Z"
   },
   {
    "duration": 153,
    "start_time": "2022-03-21T22:17:04.339Z"
   },
   {
    "duration": 158,
    "start_time": "2022-03-21T22:17:04.493Z"
   },
   {
    "duration": 160,
    "start_time": "2022-03-21T22:17:04.653Z"
   },
   {
    "duration": 181,
    "start_time": "2022-03-21T22:17:12.880Z"
   },
   {
    "duration": 113,
    "start_time": "2022-03-21T22:17:23.143Z"
   },
   {
    "duration": 6,
    "start_time": "2022-03-21T22:17:23.258Z"
   },
   {
    "duration": 4,
    "start_time": "2022-03-21T22:17:23.266Z"
   },
   {
    "duration": 6,
    "start_time": "2022-03-21T22:17:23.271Z"
   },
   {
    "duration": 45,
    "start_time": "2022-03-21T22:17:23.280Z"
   },
   {
    "duration": 13,
    "start_time": "2022-03-21T22:17:23.327Z"
   },
   {
    "duration": 5,
    "start_time": "2022-03-21T22:17:23.341Z"
   },
   {
    "duration": 35,
    "start_time": "2022-03-21T22:17:23.347Z"
   },
   {
    "duration": 37,
    "start_time": "2022-03-21T22:17:23.383Z"
   },
   {
    "duration": 356,
    "start_time": "2022-03-21T22:17:23.421Z"
   },
   {
    "duration": 1290,
    "start_time": "2022-03-21T22:17:23.779Z"
   },
   {
    "duration": 1998,
    "start_time": "2022-03-21T22:17:25.071Z"
   },
   {
    "duration": 212,
    "start_time": "2022-03-21T22:17:27.070Z"
   },
   {
    "duration": 199,
    "start_time": "2022-03-21T22:17:27.285Z"
   },
   {
    "duration": 1735,
    "start_time": "2022-03-21T22:17:27.486Z"
   },
   {
    "duration": 128,
    "start_time": "2022-03-21T22:17:29.223Z"
   },
   {
    "duration": 662,
    "start_time": "2022-03-21T22:17:29.353Z"
   },
   {
    "duration": 288,
    "start_time": "2022-03-21T22:17:30.017Z"
   },
   {
    "duration": 160,
    "start_time": "2022-03-21T22:17:30.306Z"
   },
   {
    "duration": 262,
    "start_time": "2022-03-21T22:17:30.467Z"
   },
   {
    "duration": 180,
    "start_time": "2022-03-21T22:17:30.730Z"
   },
   {
    "duration": 283,
    "start_time": "2022-03-21T22:17:30.912Z"
   },
   {
    "duration": 25,
    "start_time": "2022-03-21T22:17:31.197Z"
   },
   {
    "duration": 204,
    "start_time": "2022-03-21T22:17:31.223Z"
   },
   {
    "duration": 39,
    "start_time": "2022-03-21T22:17:31.429Z"
   },
   {
    "duration": 6,
    "start_time": "2022-03-21T22:17:31.470Z"
   },
   {
    "duration": 276,
    "start_time": "2022-03-21T22:17:31.477Z"
   },
   {
    "duration": 271,
    "start_time": "2022-03-21T22:17:31.755Z"
   },
   {
    "duration": 434,
    "start_time": "2022-03-21T22:17:32.027Z"
   },
   {
    "duration": 151,
    "start_time": "2022-03-21T22:17:32.462Z"
   },
   {
    "duration": 149,
    "start_time": "2022-03-21T22:17:32.615Z"
   },
   {
    "duration": 150,
    "start_time": "2022-03-21T22:17:32.766Z"
   },
   {
    "duration": 231,
    "start_time": "2022-03-21T22:17:46.952Z"
   },
   {
    "duration": 610,
    "start_time": "2022-03-21T22:21:23.373Z"
   },
   {
    "duration": 201,
    "start_time": "2022-03-21T22:22:05.228Z"
   },
   {
    "duration": 142,
    "start_time": "2022-03-21T22:22:15.936Z"
   },
   {
    "duration": 8,
    "start_time": "2022-03-21T22:22:16.080Z"
   },
   {
    "duration": 5,
    "start_time": "2022-03-21T22:22:16.100Z"
   },
   {
    "duration": 6,
    "start_time": "2022-03-21T22:22:16.107Z"
   },
   {
    "duration": 30,
    "start_time": "2022-03-21T22:22:16.115Z"
   },
   {
    "duration": 14,
    "start_time": "2022-03-21T22:22:16.147Z"
   },
   {
    "duration": 6,
    "start_time": "2022-03-21T22:22:16.162Z"
   },
   {
    "duration": 62,
    "start_time": "2022-03-21T22:22:16.169Z"
   },
   {
    "duration": 21,
    "start_time": "2022-03-21T22:22:16.233Z"
   },
   {
    "duration": 366,
    "start_time": "2022-03-21T22:22:16.257Z"
   },
   {
    "duration": 2349,
    "start_time": "2022-03-21T22:22:16.625Z"
   },
   {
    "duration": 1137,
    "start_time": "2022-03-21T22:22:18.976Z"
   },
   {
    "duration": 219,
    "start_time": "2022-03-21T22:22:20.115Z"
   },
   {
    "duration": 270,
    "start_time": "2022-03-21T22:22:20.335Z"
   },
   {
    "duration": 238,
    "start_time": "2022-03-21T22:22:20.607Z"
   },
   {
    "duration": 125,
    "start_time": "2022-03-21T22:22:20.847Z"
   },
   {
    "duration": 650,
    "start_time": "2022-03-21T22:22:20.974Z"
   },
   {
    "duration": 268,
    "start_time": "2022-03-21T22:22:21.626Z"
   },
   {
    "duration": 143,
    "start_time": "2022-03-21T22:22:21.901Z"
   },
   {
    "duration": 276,
    "start_time": "2022-03-21T22:22:22.046Z"
   },
   {
    "duration": 172,
    "start_time": "2022-03-21T22:22:22.324Z"
   },
   {
    "duration": 276,
    "start_time": "2022-03-21T22:22:22.500Z"
   },
   {
    "duration": 31,
    "start_time": "2022-03-21T22:22:22.777Z"
   },
   {
    "duration": 206,
    "start_time": "2022-03-21T22:22:22.810Z"
   },
   {
    "duration": 39,
    "start_time": "2022-03-21T22:22:23.018Z"
   },
   {
    "duration": 6,
    "start_time": "2022-03-21T22:22:23.059Z"
   },
   {
    "duration": 277,
    "start_time": "2022-03-21T22:22:23.067Z"
   },
   {
    "duration": 273,
    "start_time": "2022-03-21T22:22:23.347Z"
   },
   {
    "duration": 389,
    "start_time": "2022-03-21T22:22:23.622Z"
   },
   {
    "duration": 151,
    "start_time": "2022-03-21T22:22:24.013Z"
   },
   {
    "duration": 158,
    "start_time": "2022-03-21T22:22:24.166Z"
   },
   {
    "duration": 157,
    "start_time": "2022-03-21T22:22:24.326Z"
   },
   {
    "duration": 202,
    "start_time": "2022-03-21T22:22:47.248Z"
   },
   {
    "duration": 109,
    "start_time": "2022-03-21T22:22:53.314Z"
   },
   {
    "duration": 5,
    "start_time": "2022-03-21T22:22:53.425Z"
   },
   {
    "duration": 5,
    "start_time": "2022-03-21T22:22:53.432Z"
   },
   {
    "duration": 6,
    "start_time": "2022-03-21T22:22:53.439Z"
   },
   {
    "duration": 25,
    "start_time": "2022-03-21T22:22:53.448Z"
   },
   {
    "duration": 14,
    "start_time": "2022-03-21T22:22:53.502Z"
   },
   {
    "duration": 5,
    "start_time": "2022-03-21T22:22:53.518Z"
   },
   {
    "duration": 31,
    "start_time": "2022-03-21T22:22:53.525Z"
   },
   {
    "duration": 52,
    "start_time": "2022-03-21T22:22:53.558Z"
   },
   {
    "duration": 356,
    "start_time": "2022-03-21T22:22:53.612Z"
   },
   {
    "duration": 1256,
    "start_time": "2022-03-21T22:22:53.970Z"
   },
   {
    "duration": 1130,
    "start_time": "2022-03-21T22:22:55.228Z"
   },
   {
    "duration": 206,
    "start_time": "2022-03-21T22:22:56.360Z"
   },
   {
    "duration": 255,
    "start_time": "2022-03-21T22:22:56.570Z"
   },
   {
    "duration": 1442,
    "start_time": "2022-03-21T22:22:56.827Z"
   },
   {
    "duration": 111,
    "start_time": "2022-03-21T22:22:58.271Z"
   },
   {
    "duration": 607,
    "start_time": "2022-03-21T22:22:58.384Z"
   },
   {
    "duration": 259,
    "start_time": "2022-03-21T22:22:58.993Z"
   },
   {
    "duration": 140,
    "start_time": "2022-03-21T22:22:59.253Z"
   },
   {
    "duration": 263,
    "start_time": "2022-03-21T22:22:59.395Z"
   },
   {
    "duration": 165,
    "start_time": "2022-03-21T22:22:59.659Z"
   },
   {
    "duration": 272,
    "start_time": "2022-03-21T22:22:59.825Z"
   },
   {
    "duration": 23,
    "start_time": "2022-03-21T22:23:00.100Z"
   },
   {
    "duration": 206,
    "start_time": "2022-03-21T22:23:00.124Z"
   },
   {
    "duration": 40,
    "start_time": "2022-03-21T22:23:00.332Z"
   },
   {
    "duration": 6,
    "start_time": "2022-03-21T22:23:00.373Z"
   },
   {
    "duration": 313,
    "start_time": "2022-03-21T22:23:00.380Z"
   },
   {
    "duration": 275,
    "start_time": "2022-03-21T22:23:00.694Z"
   },
   {
    "duration": 396,
    "start_time": "2022-03-21T22:23:00.971Z"
   },
   {
    "duration": 148,
    "start_time": "2022-03-21T22:23:01.369Z"
   },
   {
    "duration": 185,
    "start_time": "2022-03-21T22:23:01.519Z"
   },
   {
    "duration": 196,
    "start_time": "2022-03-21T22:23:01.705Z"
   },
   {
    "duration": 97,
    "start_time": "2022-03-21T22:24:50.278Z"
   },
   {
    "duration": 114,
    "start_time": "2022-03-21T22:26:06.880Z"
   },
   {
    "duration": 7,
    "start_time": "2022-03-21T22:26:06.995Z"
   },
   {
    "duration": 4,
    "start_time": "2022-03-21T22:26:07.003Z"
   },
   {
    "duration": 6,
    "start_time": "2022-03-21T22:26:07.009Z"
   },
   {
    "duration": 27,
    "start_time": "2022-03-21T22:26:07.017Z"
   },
   {
    "duration": 13,
    "start_time": "2022-03-21T22:26:07.045Z"
   },
   {
    "duration": 3,
    "start_time": "2022-03-21T22:26:07.060Z"
   },
   {
    "duration": 42,
    "start_time": "2022-03-21T22:26:07.065Z"
   },
   {
    "duration": 22,
    "start_time": "2022-03-21T22:26:07.109Z"
   },
   {
    "duration": 381,
    "start_time": "2022-03-21T22:26:07.133Z"
   },
   {
    "duration": 1289,
    "start_time": "2022-03-21T22:26:07.516Z"
   },
   {
    "duration": 1100,
    "start_time": "2022-03-21T22:26:08.806Z"
   },
   {
    "duration": 209,
    "start_time": "2022-03-21T22:26:09.908Z"
   },
   {
    "duration": 273,
    "start_time": "2022-03-21T22:26:10.120Z"
   },
   {
    "duration": 228,
    "start_time": "2022-03-21T22:26:10.394Z"
   },
   {
    "duration": 124,
    "start_time": "2022-03-21T22:26:10.624Z"
   },
   {
    "duration": 643,
    "start_time": "2022-03-21T22:26:10.750Z"
   },
   {
    "duration": 273,
    "start_time": "2022-03-21T22:26:11.395Z"
   },
   {
    "duration": 153,
    "start_time": "2022-03-21T22:26:11.669Z"
   },
   {
    "duration": 277,
    "start_time": "2022-03-21T22:26:11.824Z"
   },
   {
    "duration": 180,
    "start_time": "2022-03-21T22:26:12.103Z"
   },
   {
    "duration": 271,
    "start_time": "2022-03-21T22:26:12.284Z"
   },
   {
    "duration": 22,
    "start_time": "2022-03-21T22:26:12.556Z"
   },
   {
    "duration": 198,
    "start_time": "2022-03-21T22:26:12.580Z"
   },
   {
    "duration": 51,
    "start_time": "2022-03-21T22:26:12.780Z"
   },
   {
    "duration": 6,
    "start_time": "2022-03-21T22:26:12.833Z"
   },
   {
    "duration": 272,
    "start_time": "2022-03-21T22:26:12.840Z"
   },
   {
    "duration": 267,
    "start_time": "2022-03-21T22:26:13.114Z"
   },
   {
    "duration": 391,
    "start_time": "2022-03-21T22:26:13.383Z"
   },
   {
    "duration": 153,
    "start_time": "2022-03-21T22:26:13.775Z"
   },
   {
    "duration": 157,
    "start_time": "2022-03-21T22:26:13.929Z"
   },
   {
    "duration": 167,
    "start_time": "2022-03-21T22:26:14.088Z"
   },
   {
    "duration": 90,
    "start_time": "2022-03-21T22:27:41.685Z"
   },
   {
    "duration": 90,
    "start_time": "2022-03-21T22:29:01.768Z"
   },
   {
    "duration": 92,
    "start_time": "2022-03-21T22:29:10.168Z"
   },
   {
    "duration": 0,
    "start_time": "2022-03-21T22:36:26.735Z"
   },
   {
    "duration": 1,
    "start_time": "2022-03-21T22:36:26.737Z"
   },
   {
    "duration": 0,
    "start_time": "2022-03-21T22:36:26.802Z"
   },
   {
    "duration": 0,
    "start_time": "2022-03-21T22:36:26.804Z"
   },
   {
    "duration": 0,
    "start_time": "2022-03-21T22:36:26.806Z"
   },
   {
    "duration": 0,
    "start_time": "2022-03-21T22:36:26.808Z"
   },
   {
    "duration": 0,
    "start_time": "2022-03-21T22:36:26.810Z"
   },
   {
    "duration": 0,
    "start_time": "2022-03-21T22:36:26.812Z"
   },
   {
    "duration": 0,
    "start_time": "2022-03-21T22:36:26.814Z"
   },
   {
    "duration": 0,
    "start_time": "2022-03-21T22:36:26.817Z"
   },
   {
    "duration": 0,
    "start_time": "2022-03-21T22:36:26.818Z"
   },
   {
    "duration": 0,
    "start_time": "2022-03-21T22:36:26.821Z"
   },
   {
    "duration": 0,
    "start_time": "2022-03-21T22:36:26.823Z"
   },
   {
    "duration": 0,
    "start_time": "2022-03-21T22:36:26.826Z"
   },
   {
    "duration": 0,
    "start_time": "2022-03-21T22:36:26.828Z"
   },
   {
    "duration": 0,
    "start_time": "2022-03-21T22:36:26.830Z"
   },
   {
    "duration": 0,
    "start_time": "2022-03-21T22:36:26.832Z"
   },
   {
    "duration": 0,
    "start_time": "2022-03-21T22:36:26.834Z"
   },
   {
    "duration": 0,
    "start_time": "2022-03-21T22:36:26.836Z"
   },
   {
    "duration": 0,
    "start_time": "2022-03-21T22:36:26.838Z"
   },
   {
    "duration": 0,
    "start_time": "2022-03-21T22:36:26.902Z"
   },
   {
    "duration": 0,
    "start_time": "2022-03-21T22:36:26.904Z"
   },
   {
    "duration": 0,
    "start_time": "2022-03-21T22:36:26.906Z"
   },
   {
    "duration": 0,
    "start_time": "2022-03-21T22:36:26.908Z"
   },
   {
    "duration": 0,
    "start_time": "2022-03-21T22:36:26.910Z"
   },
   {
    "duration": 0,
    "start_time": "2022-03-21T22:36:26.912Z"
   },
   {
    "duration": 0,
    "start_time": "2022-03-21T22:36:26.914Z"
   },
   {
    "duration": 0,
    "start_time": "2022-03-21T22:36:26.915Z"
   },
   {
    "duration": 0,
    "start_time": "2022-03-21T22:36:26.917Z"
   },
   {
    "duration": 0,
    "start_time": "2022-03-21T22:36:26.918Z"
   },
   {
    "duration": 0,
    "start_time": "2022-03-21T22:36:26.920Z"
   },
   {
    "duration": 0,
    "start_time": "2022-03-21T22:36:26.921Z"
   },
   {
    "duration": 0,
    "start_time": "2022-03-21T22:36:26.922Z"
   },
   {
    "duration": 117,
    "start_time": "2022-03-21T22:37:28.211Z"
   },
   {
    "duration": 6,
    "start_time": "2022-03-21T22:37:28.330Z"
   },
   {
    "duration": 6,
    "start_time": "2022-03-21T22:37:28.337Z"
   },
   {
    "duration": 6,
    "start_time": "2022-03-21T22:37:28.345Z"
   },
   {
    "duration": 52,
    "start_time": "2022-03-21T22:37:28.353Z"
   },
   {
    "duration": 15,
    "start_time": "2022-03-21T22:37:28.406Z"
   },
   {
    "duration": 5,
    "start_time": "2022-03-21T22:37:28.422Z"
   },
   {
    "duration": 31,
    "start_time": "2022-03-21T22:37:28.429Z"
   },
   {
    "duration": 47,
    "start_time": "2022-03-21T22:37:28.462Z"
   },
   {
    "duration": 346,
    "start_time": "2022-03-21T22:37:28.511Z"
   },
   {
    "duration": 1321,
    "start_time": "2022-03-21T22:37:28.859Z"
   },
   {
    "duration": 1141,
    "start_time": "2022-03-21T22:37:30.182Z"
   },
   {
    "duration": 211,
    "start_time": "2022-03-21T22:37:31.325Z"
   },
   {
    "duration": 262,
    "start_time": "2022-03-21T22:37:31.539Z"
   },
   {
    "duration": 229,
    "start_time": "2022-03-21T22:37:31.803Z"
   },
   {
    "duration": 124,
    "start_time": "2022-03-21T22:37:32.033Z"
   },
   {
    "duration": 124,
    "start_time": "2022-03-21T22:37:32.159Z"
   },
   {
    "duration": 632,
    "start_time": "2022-03-21T22:37:32.285Z"
   },
   {
    "duration": 269,
    "start_time": "2022-03-21T22:37:32.918Z"
   },
   {
    "duration": 156,
    "start_time": "2022-03-21T22:37:33.189Z"
   },
   {
    "duration": 267,
    "start_time": "2022-03-21T22:37:33.347Z"
   },
   {
    "duration": 175,
    "start_time": "2022-03-21T22:37:33.615Z"
   },
   {
    "duration": 280,
    "start_time": "2022-03-21T22:37:33.792Z"
   },
   {
    "duration": 33,
    "start_time": "2022-03-21T22:37:34.074Z"
   },
   {
    "duration": 212,
    "start_time": "2022-03-21T22:37:34.109Z"
   },
   {
    "duration": 45,
    "start_time": "2022-03-21T22:37:34.323Z"
   },
   {
    "duration": 5,
    "start_time": "2022-03-21T22:37:34.370Z"
   },
   {
    "duration": 450,
    "start_time": "2022-03-21T22:37:34.377Z"
   },
   {
    "duration": 492,
    "start_time": "2022-03-21T22:37:34.829Z"
   },
   {
    "duration": 480,
    "start_time": "2022-03-21T22:37:35.323Z"
   },
   {
    "duration": 145,
    "start_time": "2022-03-21T22:37:35.805Z"
   },
   {
    "duration": 151,
    "start_time": "2022-03-21T22:37:35.952Z"
   },
   {
    "duration": 152,
    "start_time": "2022-03-21T22:37:36.104Z"
   },
   {
    "duration": 120,
    "start_time": "2022-03-21T22:38:20.504Z"
   },
   {
    "duration": 7,
    "start_time": "2022-03-21T22:38:20.626Z"
   },
   {
    "duration": 5,
    "start_time": "2022-03-21T22:38:20.634Z"
   },
   {
    "duration": 6,
    "start_time": "2022-03-21T22:38:20.640Z"
   },
   {
    "duration": 30,
    "start_time": "2022-03-21T22:38:20.648Z"
   },
   {
    "duration": 13,
    "start_time": "2022-03-21T22:38:20.679Z"
   },
   {
    "duration": 9,
    "start_time": "2022-03-21T22:38:20.693Z"
   },
   {
    "duration": 30,
    "start_time": "2022-03-21T22:38:20.704Z"
   },
   {
    "duration": 22,
    "start_time": "2022-03-21T22:38:20.735Z"
   },
   {
    "duration": 372,
    "start_time": "2022-03-21T22:38:20.759Z"
   },
   {
    "duration": 1409,
    "start_time": "2022-03-21T22:38:21.133Z"
   },
   {
    "duration": 1142,
    "start_time": "2022-03-21T22:38:22.544Z"
   },
   {
    "duration": 219,
    "start_time": "2022-03-21T22:38:23.687Z"
   },
   {
    "duration": 267,
    "start_time": "2022-03-21T22:38:23.909Z"
   },
   {
    "duration": 232,
    "start_time": "2022-03-21T22:38:24.178Z"
   },
   {
    "duration": 127,
    "start_time": "2022-03-21T22:38:24.412Z"
   },
   {
    "duration": 121,
    "start_time": "2022-03-21T22:38:24.541Z"
   },
   {
    "duration": 621,
    "start_time": "2022-03-21T22:38:24.664Z"
   },
   {
    "duration": 275,
    "start_time": "2022-03-21T22:38:25.287Z"
   },
   {
    "duration": 150,
    "start_time": "2022-03-21T22:38:25.563Z"
   },
   {
    "duration": 265,
    "start_time": "2022-03-21T22:38:25.714Z"
   },
   {
    "duration": 168,
    "start_time": "2022-03-21T22:38:25.981Z"
   },
   {
    "duration": 259,
    "start_time": "2022-03-21T22:38:26.151Z"
   },
   {
    "duration": 23,
    "start_time": "2022-03-21T22:38:26.411Z"
   },
   {
    "duration": 199,
    "start_time": "2022-03-21T22:38:26.436Z"
   },
   {
    "duration": 39,
    "start_time": "2022-03-21T22:38:26.637Z"
   },
   {
    "duration": 24,
    "start_time": "2022-03-21T22:38:26.677Z"
   },
   {
    "duration": 257,
    "start_time": "2022-03-21T22:38:26.702Z"
   },
   {
    "duration": 286,
    "start_time": "2022-03-21T22:38:26.961Z"
   },
   {
    "duration": 413,
    "start_time": "2022-03-21T22:38:27.248Z"
   },
   {
    "duration": 168,
    "start_time": "2022-03-21T22:38:27.663Z"
   },
   {
    "duration": 170,
    "start_time": "2022-03-21T22:38:27.833Z"
   },
   {
    "duration": 166,
    "start_time": "2022-03-21T22:38:28.005Z"
   },
   {
    "duration": 160,
    "start_time": "2022-03-21T22:38:37.005Z"
   },
   {
    "duration": 1100,
    "start_time": "2022-03-21T22:39:09.816Z"
   },
   {
    "duration": 1272,
    "start_time": "2022-03-21T22:40:11.793Z"
   },
   {
    "duration": 114,
    "start_time": "2022-03-21T22:42:43.039Z"
   },
   {
    "duration": 6,
    "start_time": "2022-03-21T22:42:43.155Z"
   },
   {
    "duration": 4,
    "start_time": "2022-03-21T22:42:43.163Z"
   },
   {
    "duration": 6,
    "start_time": "2022-03-21T22:42:43.168Z"
   },
   {
    "duration": 26,
    "start_time": "2022-03-21T22:42:43.176Z"
   },
   {
    "duration": 12,
    "start_time": "2022-03-21T22:42:43.204Z"
   },
   {
    "duration": 4,
    "start_time": "2022-03-21T22:42:43.217Z"
   },
   {
    "duration": 30,
    "start_time": "2022-03-21T22:42:43.223Z"
   },
   {
    "duration": 21,
    "start_time": "2022-03-21T22:42:43.254Z"
   },
   {
    "duration": 347,
    "start_time": "2022-03-21T22:42:43.277Z"
   },
   {
    "duration": 1298,
    "start_time": "2022-03-21T22:42:43.625Z"
   },
   {
    "duration": 1078,
    "start_time": "2022-03-21T22:42:44.924Z"
   },
   {
    "duration": 172,
    "start_time": "2022-03-21T22:42:46.004Z"
   },
   {
    "duration": 251,
    "start_time": "2022-03-21T22:42:46.179Z"
   },
   {
    "duration": 219,
    "start_time": "2022-03-21T22:42:46.431Z"
   },
   {
    "duration": 120,
    "start_time": "2022-03-21T22:42:46.651Z"
   },
   {
    "duration": 102,
    "start_time": "2022-03-21T22:42:46.772Z"
   },
   {
    "duration": 115,
    "start_time": "2022-03-21T22:42:46.876Z"
   },
   {
    "duration": 110,
    "start_time": "2022-03-21T22:42:47.000Z"
   },
   {
    "duration": 105,
    "start_time": "2022-03-21T22:42:47.112Z"
   },
   {
    "duration": 605,
    "start_time": "2022-03-21T22:42:47.219Z"
   },
   {
    "duration": 259,
    "start_time": "2022-03-21T22:42:47.826Z"
   },
   {
    "duration": 145,
    "start_time": "2022-03-21T22:42:48.087Z"
   },
   {
    "duration": 257,
    "start_time": "2022-03-21T22:42:48.234Z"
   },
   {
    "duration": 169,
    "start_time": "2022-03-21T22:42:48.492Z"
   },
   {
    "duration": 267,
    "start_time": "2022-03-21T22:42:48.663Z"
   },
   {
    "duration": 21,
    "start_time": "2022-03-21T22:42:48.932Z"
   },
   {
    "duration": 198,
    "start_time": "2022-03-21T22:42:48.955Z"
   },
   {
    "duration": 46,
    "start_time": "2022-03-21T22:42:49.155Z"
   },
   {
    "duration": 5,
    "start_time": "2022-03-21T22:42:49.203Z"
   },
   {
    "duration": 251,
    "start_time": "2022-03-21T22:42:49.209Z"
   },
   {
    "duration": 277,
    "start_time": "2022-03-21T22:42:49.462Z"
   },
   {
    "duration": 376,
    "start_time": "2022-03-21T22:42:49.740Z"
   },
   {
    "duration": 148,
    "start_time": "2022-03-21T22:42:50.118Z"
   },
   {
    "duration": 155,
    "start_time": "2022-03-21T22:42:50.268Z"
   },
   {
    "duration": 153,
    "start_time": "2022-03-21T22:42:50.425Z"
   },
   {
    "duration": 4,
    "start_time": "2022-03-21T22:45:33.740Z"
   },
   {
    "duration": 237,
    "start_time": "2022-03-21T22:47:38.686Z"
   },
   {
    "duration": 236,
    "start_time": "2022-03-21T22:48:47.710Z"
   },
   {
    "duration": 4,
    "start_time": "2022-03-21T22:49:05.374Z"
   },
   {
    "duration": 249,
    "start_time": "2022-03-21T22:49:13.866Z"
   },
   {
    "duration": 251,
    "start_time": "2022-03-21T22:49:29.133Z"
   },
   {
    "duration": 120,
    "start_time": "2022-03-21T22:49:33.161Z"
   },
   {
    "duration": 18,
    "start_time": "2022-03-21T22:49:33.284Z"
   },
   {
    "duration": 7,
    "start_time": "2022-03-21T22:49:33.303Z"
   },
   {
    "duration": 6,
    "start_time": "2022-03-21T22:49:33.312Z"
   },
   {
    "duration": 26,
    "start_time": "2022-03-21T22:49:33.320Z"
   },
   {
    "duration": 12,
    "start_time": "2022-03-21T22:49:33.347Z"
   },
   {
    "duration": 4,
    "start_time": "2022-03-21T22:49:33.361Z"
   },
   {
    "duration": 62,
    "start_time": "2022-03-21T22:49:33.367Z"
   },
   {
    "duration": 19,
    "start_time": "2022-03-21T22:49:33.431Z"
   },
   {
    "duration": 375,
    "start_time": "2022-03-21T22:49:33.452Z"
   },
   {
    "duration": 1296,
    "start_time": "2022-03-21T22:49:33.829Z"
   },
   {
    "duration": 1095,
    "start_time": "2022-03-21T22:49:35.128Z"
   },
   {
    "duration": 166,
    "start_time": "2022-03-21T22:49:36.225Z"
   },
   {
    "duration": 276,
    "start_time": "2022-03-21T22:49:36.403Z"
   },
   {
    "duration": 0,
    "start_time": "2022-03-21T22:49:36.680Z"
   },
   {
    "duration": 0,
    "start_time": "2022-03-21T22:49:36.682Z"
   },
   {
    "duration": 0,
    "start_time": "2022-03-21T22:49:36.683Z"
   },
   {
    "duration": 0,
    "start_time": "2022-03-21T22:49:36.685Z"
   },
   {
    "duration": 0,
    "start_time": "2022-03-21T22:49:36.686Z"
   },
   {
    "duration": 0,
    "start_time": "2022-03-21T22:49:36.687Z"
   },
   {
    "duration": 0,
    "start_time": "2022-03-21T22:49:36.701Z"
   },
   {
    "duration": 0,
    "start_time": "2022-03-21T22:49:36.702Z"
   },
   {
    "duration": 0,
    "start_time": "2022-03-21T22:49:36.703Z"
   },
   {
    "duration": 0,
    "start_time": "2022-03-21T22:49:36.704Z"
   },
   {
    "duration": 0,
    "start_time": "2022-03-21T22:49:36.706Z"
   },
   {
    "duration": 0,
    "start_time": "2022-03-21T22:49:36.707Z"
   },
   {
    "duration": 0,
    "start_time": "2022-03-21T22:49:36.708Z"
   },
   {
    "duration": 0,
    "start_time": "2022-03-21T22:49:36.710Z"
   },
   {
    "duration": 0,
    "start_time": "2022-03-21T22:49:36.711Z"
   },
   {
    "duration": 0,
    "start_time": "2022-03-21T22:49:36.712Z"
   },
   {
    "duration": 0,
    "start_time": "2022-03-21T22:49:36.714Z"
   },
   {
    "duration": 0,
    "start_time": "2022-03-21T22:49:36.715Z"
   },
   {
    "duration": 0,
    "start_time": "2022-03-21T22:49:36.717Z"
   },
   {
    "duration": 0,
    "start_time": "2022-03-21T22:49:36.718Z"
   },
   {
    "duration": 0,
    "start_time": "2022-03-21T22:49:36.720Z"
   },
   {
    "duration": 0,
    "start_time": "2022-03-21T22:49:36.721Z"
   },
   {
    "duration": 0,
    "start_time": "2022-03-21T22:49:36.722Z"
   },
   {
    "duration": 243,
    "start_time": "2022-03-21T22:50:12.344Z"
   },
   {
    "duration": 258,
    "start_time": "2022-03-21T22:51:16.885Z"
   },
   {
    "duration": 248,
    "start_time": "2022-03-21T22:51:23.484Z"
   },
   {
    "duration": 253,
    "start_time": "2022-03-21T22:51:32.784Z"
   },
   {
    "duration": 247,
    "start_time": "2022-03-21T22:51:41.259Z"
   },
   {
    "duration": 245,
    "start_time": "2022-03-21T22:52:49.444Z"
   },
   {
    "duration": 243,
    "start_time": "2022-03-21T22:54:00.719Z"
   },
   {
    "duration": 242,
    "start_time": "2022-03-21T22:54:06.141Z"
   },
   {
    "duration": 240,
    "start_time": "2022-03-21T22:54:49.110Z"
   },
   {
    "duration": 17,
    "start_time": "2022-03-21T22:54:57.384Z"
   },
   {
    "duration": 263,
    "start_time": "2022-03-21T22:55:03.997Z"
   },
   {
    "duration": 228,
    "start_time": "2022-03-21T22:55:50.654Z"
   },
   {
    "duration": 250,
    "start_time": "2022-03-21T22:56:19.632Z"
   },
   {
    "duration": 248,
    "start_time": "2022-03-21T22:56:23.957Z"
   },
   {
    "duration": 265,
    "start_time": "2022-03-21T22:56:49.893Z"
   },
   {
    "duration": 115,
    "start_time": "2022-03-21T22:56:57.395Z"
   },
   {
    "duration": 6,
    "start_time": "2022-03-21T22:56:57.512Z"
   },
   {
    "duration": 5,
    "start_time": "2022-03-21T22:56:57.519Z"
   },
   {
    "duration": 6,
    "start_time": "2022-03-21T22:56:57.525Z"
   },
   {
    "duration": 26,
    "start_time": "2022-03-21T22:56:57.532Z"
   },
   {
    "duration": 43,
    "start_time": "2022-03-21T22:56:57.559Z"
   },
   {
    "duration": 4,
    "start_time": "2022-03-21T22:56:57.603Z"
   },
   {
    "duration": 29,
    "start_time": "2022-03-21T22:56:57.609Z"
   },
   {
    "duration": 19,
    "start_time": "2022-03-21T22:56:57.639Z"
   },
   {
    "duration": 357,
    "start_time": "2022-03-21T22:56:57.661Z"
   },
   {
    "duration": 1253,
    "start_time": "2022-03-21T22:56:58.020Z"
   },
   {
    "duration": 1092,
    "start_time": "2022-03-21T22:56:59.274Z"
   },
   {
    "duration": 180,
    "start_time": "2022-03-21T22:57:00.368Z"
   },
   {
    "duration": 270,
    "start_time": "2022-03-21T22:57:00.550Z"
   },
   {
    "duration": 231,
    "start_time": "2022-03-21T22:57:00.822Z"
   },
   {
    "duration": 112,
    "start_time": "2022-03-21T22:57:01.054Z"
   },
   {
    "duration": 618,
    "start_time": "2022-03-21T22:57:01.168Z"
   },
   {
    "duration": 93,
    "start_time": "2022-03-21T22:57:01.787Z"
   },
   {
    "duration": 98,
    "start_time": "2022-03-21T22:57:01.882Z"
   },
   {
    "duration": 109,
    "start_time": "2022-03-21T22:57:01.982Z"
   },
   {
    "duration": 89,
    "start_time": "2022-03-21T22:57:02.100Z"
   },
   {
    "duration": 13,
    "start_time": "2022-03-21T22:57:02.190Z"
   },
   {
    "duration": 243,
    "start_time": "2022-03-21T22:57:02.205Z"
   },
   {
    "duration": 154,
    "start_time": "2022-03-21T22:57:02.450Z"
   },
   {
    "duration": 252,
    "start_time": "2022-03-21T22:57:02.606Z"
   },
   {
    "duration": 162,
    "start_time": "2022-03-21T22:57:02.860Z"
   },
   {
    "duration": 262,
    "start_time": "2022-03-21T22:57:03.024Z"
   },
   {
    "duration": 30,
    "start_time": "2022-03-21T22:57:03.289Z"
   },
   {
    "duration": 186,
    "start_time": "2022-03-21T22:57:03.321Z"
   },
   {
    "duration": 37,
    "start_time": "2022-03-21T22:57:03.509Z"
   },
   {
    "duration": 5,
    "start_time": "2022-03-21T22:57:03.548Z"
   },
   {
    "duration": 268,
    "start_time": "2022-03-21T22:57:03.554Z"
   },
   {
    "duration": 256,
    "start_time": "2022-03-21T22:57:03.824Z"
   },
   {
    "duration": 390,
    "start_time": "2022-03-21T22:57:04.081Z"
   },
   {
    "duration": 153,
    "start_time": "2022-03-21T22:57:04.473Z"
   },
   {
    "duration": 148,
    "start_time": "2022-03-21T22:57:04.627Z"
   },
   {
    "duration": 142,
    "start_time": "2022-03-21T22:57:04.776Z"
   },
   {
    "duration": 261,
    "start_time": "2022-03-21T22:58:21.373Z"
   },
   {
    "duration": 105,
    "start_time": "2022-03-21T22:58:30.702Z"
   },
   {
    "duration": 110,
    "start_time": "2022-03-21T23:00:03.326Z"
   },
   {
    "duration": 6,
    "start_time": "2022-03-21T23:00:03.438Z"
   },
   {
    "duration": 4,
    "start_time": "2022-03-21T23:00:03.446Z"
   },
   {
    "duration": 6,
    "start_time": "2022-03-21T23:00:03.452Z"
   },
   {
    "duration": 46,
    "start_time": "2022-03-21T23:00:03.460Z"
   },
   {
    "duration": 13,
    "start_time": "2022-03-21T23:00:03.507Z"
   },
   {
    "duration": 5,
    "start_time": "2022-03-21T23:00:03.521Z"
   },
   {
    "duration": 36,
    "start_time": "2022-03-21T23:00:03.527Z"
   },
   {
    "duration": 41,
    "start_time": "2022-03-21T23:00:03.564Z"
   },
   {
    "duration": 350,
    "start_time": "2022-03-21T23:00:03.607Z"
   },
   {
    "duration": 1295,
    "start_time": "2022-03-21T23:00:03.959Z"
   },
   {
    "duration": 1117,
    "start_time": "2022-03-21T23:00:05.256Z"
   },
   {
    "duration": 181,
    "start_time": "2022-03-21T23:00:06.375Z"
   },
   {
    "duration": 292,
    "start_time": "2022-03-21T23:00:06.560Z"
   },
   {
    "duration": 234,
    "start_time": "2022-03-21T23:00:06.854Z"
   },
   {
    "duration": 130,
    "start_time": "2022-03-21T23:00:07.090Z"
   },
   {
    "duration": 623,
    "start_time": "2022-03-21T23:00:07.221Z"
   },
   {
    "duration": 110,
    "start_time": "2022-03-21T23:00:07.846Z"
   },
   {
    "duration": 125,
    "start_time": "2022-03-21T23:00:07.957Z"
   },
   {
    "duration": 125,
    "start_time": "2022-03-21T23:00:08.084Z"
   },
   {
    "duration": 113,
    "start_time": "2022-03-21T23:00:08.211Z"
   },
   {
    "duration": 3,
    "start_time": "2022-03-21T23:00:08.326Z"
   },
   {
    "duration": 259,
    "start_time": "2022-03-21T23:00:08.330Z"
   },
   {
    "duration": 158,
    "start_time": "2022-03-21T23:00:08.590Z"
   },
   {
    "duration": 280,
    "start_time": "2022-03-21T23:00:08.750Z"
   },
   {
    "duration": 172,
    "start_time": "2022-03-21T23:00:09.031Z"
   },
   {
    "duration": 269,
    "start_time": "2022-03-21T23:00:09.204Z"
   },
   {
    "duration": 32,
    "start_time": "2022-03-21T23:00:09.474Z"
   },
   {
    "duration": 184,
    "start_time": "2022-03-21T23:00:09.508Z"
   },
   {
    "duration": 39,
    "start_time": "2022-03-21T23:00:09.701Z"
   },
   {
    "duration": 4,
    "start_time": "2022-03-21T23:00:09.742Z"
   },
   {
    "duration": 287,
    "start_time": "2022-03-21T23:00:09.748Z"
   },
   {
    "duration": 260,
    "start_time": "2022-03-21T23:00:10.037Z"
   },
   {
    "duration": 5542,
    "start_time": "2022-03-21T23:00:10.301Z"
   },
   {
    "duration": 164,
    "start_time": "2022-03-21T23:00:15.845Z"
   },
   {
    "duration": 159,
    "start_time": "2022-03-21T23:00:16.011Z"
   },
   {
    "duration": 152,
    "start_time": "2022-03-21T23:00:16.172Z"
   },
   {
    "duration": 131,
    "start_time": "2022-03-21T23:00:38.271Z"
   },
   {
    "duration": 231,
    "start_time": "2022-03-21T23:00:52.422Z"
   },
   {
    "duration": 134,
    "start_time": "2022-03-21T23:01:00.282Z"
   },
   {
    "duration": 5,
    "start_time": "2022-03-21T23:01:00.418Z"
   },
   {
    "duration": 16,
    "start_time": "2022-03-21T23:01:00.425Z"
   },
   {
    "duration": 11,
    "start_time": "2022-03-21T23:01:00.443Z"
   },
   {
    "duration": 31,
    "start_time": "2022-03-21T23:01:00.455Z"
   },
   {
    "duration": 22,
    "start_time": "2022-03-21T23:01:00.487Z"
   },
   {
    "duration": 14,
    "start_time": "2022-03-21T23:01:00.511Z"
   },
   {
    "duration": 46,
    "start_time": "2022-03-21T23:01:00.527Z"
   },
   {
    "duration": 26,
    "start_time": "2022-03-21T23:01:00.575Z"
   },
   {
    "duration": 334,
    "start_time": "2022-03-21T23:01:00.604Z"
   },
   {
    "duration": 1253,
    "start_time": "2022-03-21T23:01:00.940Z"
   },
   {
    "duration": 1117,
    "start_time": "2022-03-21T23:01:02.195Z"
   },
   {
    "duration": 173,
    "start_time": "2022-03-21T23:01:03.313Z"
   },
   {
    "duration": 258,
    "start_time": "2022-03-21T23:01:03.488Z"
   },
   {
    "duration": 229,
    "start_time": "2022-03-21T23:01:03.749Z"
   },
   {
    "duration": 133,
    "start_time": "2022-03-21T23:01:03.981Z"
   },
   {
    "duration": 634,
    "start_time": "2022-03-21T23:01:04.116Z"
   },
   {
    "duration": 111,
    "start_time": "2022-03-21T23:01:04.753Z"
   },
   {
    "duration": 123,
    "start_time": "2022-03-21T23:01:04.866Z"
   },
   {
    "duration": 124,
    "start_time": "2022-03-21T23:01:04.991Z"
   },
   {
    "duration": 112,
    "start_time": "2022-03-21T23:01:05.117Z"
   },
   {
    "duration": 3,
    "start_time": "2022-03-21T23:01:05.231Z"
   },
   {
    "duration": 252,
    "start_time": "2022-03-21T23:01:05.236Z"
   },
   {
    "duration": 152,
    "start_time": "2022-03-21T23:01:05.489Z"
   },
   {
    "duration": 263,
    "start_time": "2022-03-21T23:01:05.643Z"
   },
   {
    "duration": 167,
    "start_time": "2022-03-21T23:01:05.907Z"
   },
   {
    "duration": 261,
    "start_time": "2022-03-21T23:01:06.076Z"
   },
   {
    "duration": 20,
    "start_time": "2022-03-21T23:01:06.340Z"
   },
   {
    "duration": 196,
    "start_time": "2022-03-21T23:01:06.362Z"
   },
   {
    "duration": 47,
    "start_time": "2022-03-21T23:01:06.560Z"
   },
   {
    "duration": 5,
    "start_time": "2022-03-21T23:01:06.609Z"
   },
   {
    "duration": 261,
    "start_time": "2022-03-21T23:01:06.616Z"
   },
   {
    "duration": 267,
    "start_time": "2022-03-21T23:01:06.879Z"
   },
   {
    "duration": 379,
    "start_time": "2022-03-21T23:01:07.148Z"
   },
   {
    "duration": 148,
    "start_time": "2022-03-21T23:01:07.528Z"
   },
   {
    "duration": 142,
    "start_time": "2022-03-21T23:01:07.677Z"
   },
   {
    "duration": 140,
    "start_time": "2022-03-21T23:01:07.820Z"
   },
   {
    "duration": 96,
    "start_time": "2022-03-21T23:02:26.517Z"
   },
   {
    "duration": 113,
    "start_time": "2022-03-21T23:02:33.804Z"
   },
   {
    "duration": 13,
    "start_time": "2022-03-21T23:03:33.533Z"
   },
   {
    "duration": 12,
    "start_time": "2022-03-21T23:03:42.380Z"
   },
   {
    "duration": 255,
    "start_time": "2022-03-21T23:04:07.048Z"
   },
   {
    "duration": 96,
    "start_time": "2022-03-21T23:04:21.318Z"
   },
   {
    "duration": 112,
    "start_time": "2022-03-21T23:04:34.565Z"
   },
   {
    "duration": 6,
    "start_time": "2022-03-21T23:04:34.679Z"
   },
   {
    "duration": 18,
    "start_time": "2022-03-21T23:04:34.686Z"
   },
   {
    "duration": 9,
    "start_time": "2022-03-21T23:04:34.705Z"
   },
   {
    "duration": 28,
    "start_time": "2022-03-21T23:04:34.717Z"
   },
   {
    "duration": 14,
    "start_time": "2022-03-21T23:04:34.747Z"
   },
   {
    "duration": 6,
    "start_time": "2022-03-21T23:04:34.763Z"
   },
   {
    "duration": 32,
    "start_time": "2022-03-21T23:04:34.801Z"
   },
   {
    "duration": 19,
    "start_time": "2022-03-21T23:04:34.834Z"
   },
   {
    "duration": 345,
    "start_time": "2022-03-21T23:04:34.854Z"
   },
   {
    "duration": 1253,
    "start_time": "2022-03-21T23:04:35.201Z"
   },
   {
    "duration": 1107,
    "start_time": "2022-03-21T23:04:36.456Z"
   },
   {
    "duration": 167,
    "start_time": "2022-03-21T23:04:37.565Z"
   },
   {
    "duration": 110,
    "start_time": "2022-03-21T23:04:37.735Z"
   },
   {
    "duration": 235,
    "start_time": "2022-03-21T23:04:37.846Z"
   },
   {
    "duration": 226,
    "start_time": "2022-03-21T23:04:38.083Z"
   },
   {
    "duration": 116,
    "start_time": "2022-03-21T23:04:38.311Z"
   },
   {
    "duration": 593,
    "start_time": "2022-03-21T23:04:38.428Z"
   },
   {
    "duration": 103,
    "start_time": "2022-03-21T23:04:39.022Z"
   },
   {
    "duration": 112,
    "start_time": "2022-03-21T23:04:39.127Z"
   },
   {
    "duration": 112,
    "start_time": "2022-03-21T23:04:39.241Z"
   },
   {
    "duration": 12,
    "start_time": "2022-03-21T23:04:39.354Z"
   },
   {
    "duration": 3,
    "start_time": "2022-03-21T23:04:39.367Z"
   },
   {
    "duration": 257,
    "start_time": "2022-03-21T23:04:39.371Z"
   },
   {
    "duration": 154,
    "start_time": "2022-03-21T23:04:39.629Z"
   },
   {
    "duration": 273,
    "start_time": "2022-03-21T23:04:39.785Z"
   },
   {
    "duration": 170,
    "start_time": "2022-03-21T23:04:40.060Z"
   },
   {
    "duration": 264,
    "start_time": "2022-03-21T23:04:40.232Z"
   },
   {
    "duration": 21,
    "start_time": "2022-03-21T23:04:40.500Z"
   },
   {
    "duration": 179,
    "start_time": "2022-03-21T23:04:40.523Z"
   },
   {
    "duration": 36,
    "start_time": "2022-03-21T23:04:40.704Z"
   },
   {
    "duration": 5,
    "start_time": "2022-03-21T23:04:40.741Z"
   },
   {
    "duration": 268,
    "start_time": "2022-03-21T23:04:40.747Z"
   },
   {
    "duration": 262,
    "start_time": "2022-03-21T23:04:41.017Z"
   },
   {
    "duration": 390,
    "start_time": "2022-03-21T23:04:41.280Z"
   },
   {
    "duration": 154,
    "start_time": "2022-03-21T23:04:41.672Z"
   },
   {
    "duration": 136,
    "start_time": "2022-03-21T23:04:41.827Z"
   },
   {
    "duration": 138,
    "start_time": "2022-03-21T23:04:41.964Z"
   },
   {
    "duration": 113,
    "start_time": "2022-03-21T23:06:18.297Z"
   },
   {
    "duration": 119,
    "start_time": "2022-03-21T23:06:28.682Z"
   },
   {
    "duration": 6,
    "start_time": "2022-03-21T23:06:28.803Z"
   },
   {
    "duration": 5,
    "start_time": "2022-03-21T23:06:28.811Z"
   },
   {
    "duration": 8,
    "start_time": "2022-03-21T23:06:28.818Z"
   },
   {
    "duration": 27,
    "start_time": "2022-03-21T23:06:28.828Z"
   },
   {
    "duration": 13,
    "start_time": "2022-03-21T23:06:28.856Z"
   },
   {
    "duration": 4,
    "start_time": "2022-03-21T23:06:28.901Z"
   },
   {
    "duration": 30,
    "start_time": "2022-03-21T23:06:28.907Z"
   },
   {
    "duration": 24,
    "start_time": "2022-03-21T23:06:28.939Z"
   },
   {
    "duration": 3320,
    "start_time": "2022-03-21T23:06:28.965Z"
   },
   {
    "duration": 2040,
    "start_time": "2022-03-21T23:06:32.548Z"
   },
   {
    "duration": 1631,
    "start_time": "2022-03-21T23:06:34.589Z"
   },
   {
    "duration": 203,
    "start_time": "2022-03-21T23:06:36.222Z"
   },
   {
    "duration": 225,
    "start_time": "2022-03-21T23:06:36.481Z"
   },
   {
    "duration": 620,
    "start_time": "2022-03-21T23:06:36.707Z"
   },
   {
    "duration": 237,
    "start_time": "2022-03-21T23:06:37.329Z"
   },
   {
    "duration": 119,
    "start_time": "2022-03-21T23:06:37.568Z"
   },
   {
    "duration": 1286,
    "start_time": "2022-03-21T23:06:37.689Z"
   },
   {
    "duration": 151,
    "start_time": "2022-03-21T23:06:38.976Z"
   },
   {
    "duration": 135,
    "start_time": "2022-03-21T23:06:39.128Z"
   },
   {
    "duration": 120,
    "start_time": "2022-03-21T23:06:39.264Z"
   },
   {
    "duration": 152,
    "start_time": "2022-03-21T23:06:39.386Z"
   },
   {
    "duration": 58,
    "start_time": "2022-03-21T23:06:39.540Z"
   },
   {
    "duration": 734,
    "start_time": "2022-03-21T23:06:39.600Z"
   },
   {
    "duration": 232,
    "start_time": "2022-03-21T23:06:40.335Z"
   },
   {
    "duration": 393,
    "start_time": "2022-03-21T23:06:40.569Z"
   },
   {
    "duration": 367,
    "start_time": "2022-03-21T23:06:40.964Z"
   },
   {
    "duration": 437,
    "start_time": "2022-03-21T23:06:41.333Z"
   },
   {
    "duration": 979,
    "start_time": "2022-03-21T23:06:41.772Z"
   },
   {
    "duration": 827,
    "start_time": "2022-03-21T23:06:42.753Z"
   },
   {
    "duration": 208,
    "start_time": "2022-03-21T23:06:43.581Z"
   },
   {
    "duration": 112,
    "start_time": "2022-03-21T23:06:43.806Z"
   },
   {
    "duration": 635,
    "start_time": "2022-03-21T23:06:43.922Z"
   },
   {
    "duration": 468,
    "start_time": "2022-03-21T23:06:44.559Z"
   },
   {
    "duration": 702,
    "start_time": "2022-03-21T23:06:45.029Z"
   },
   {
    "duration": 248,
    "start_time": "2022-03-21T23:06:45.733Z"
   },
   {
    "duration": 288,
    "start_time": "2022-03-21T23:06:45.982Z"
   },
   {
    "duration": 249,
    "start_time": "2022-03-21T23:06:46.272Z"
   },
   {
    "duration": 313,
    "start_time": "2022-03-21T23:09:29.718Z"
   },
   {
    "duration": 20,
    "start_time": "2022-03-21T23:09:46.832Z"
   },
   {
    "duration": 220,
    "start_time": "2022-03-21T23:09:59.095Z"
   },
   {
    "duration": 18,
    "start_time": "2022-03-21T23:10:27.545Z"
   },
   {
    "duration": 13,
    "start_time": "2022-03-21T23:10:42.706Z"
   },
   {
    "duration": 100,
    "start_time": "2022-03-21T23:14:19.620Z"
   },
   {
    "duration": 3420,
    "start_time": "2022-03-21T23:14:52.234Z"
   },
   {
    "duration": 31,
    "start_time": "2022-03-21T23:14:55.657Z"
   },
   {
    "duration": 26,
    "start_time": "2022-03-21T23:14:55.690Z"
   },
   {
    "duration": 10,
    "start_time": "2022-03-21T23:14:55.718Z"
   },
   {
    "duration": 97,
    "start_time": "2022-03-21T23:14:55.730Z"
   },
   {
    "duration": 77,
    "start_time": "2022-03-21T23:14:55.829Z"
   },
   {
    "duration": 16,
    "start_time": "2022-03-21T23:14:55.908Z"
   },
   {
    "duration": 33,
    "start_time": "2022-03-21T23:14:55.925Z"
   },
   {
    "duration": 47,
    "start_time": "2022-03-21T23:14:55.959Z"
   },
   {
    "duration": 1686,
    "start_time": "2022-03-21T23:14:56.008Z"
   },
   {
    "duration": 1253,
    "start_time": "2022-03-21T23:14:57.695Z"
   },
   {
    "duration": 44,
    "start_time": "2022-03-21T23:15:13.959Z"
   },
   {
    "duration": 5,
    "start_time": "2022-03-21T23:15:46.894Z"
   },
   {
    "duration": 7,
    "start_time": "2022-03-21T23:16:10.883Z"
   },
   {
    "duration": 6,
    "start_time": "2022-03-21T23:16:19.388Z"
   },
   {
    "duration": 6,
    "start_time": "2022-03-21T23:16:22.983Z"
   },
   {
    "duration": 8,
    "start_time": "2022-03-21T23:16:31.193Z"
   },
   {
    "duration": 551,
    "start_time": "2022-03-21T23:16:35.079Z"
   },
   {
    "duration": 5,
    "start_time": "2022-03-21T23:16:35.633Z"
   },
   {
    "duration": 6,
    "start_time": "2022-03-21T23:16:35.640Z"
   },
   {
    "duration": 9,
    "start_time": "2022-03-21T23:16:35.648Z"
   },
   {
    "duration": 53,
    "start_time": "2022-03-21T23:16:35.659Z"
   },
   {
    "duration": 14,
    "start_time": "2022-03-21T23:16:35.713Z"
   },
   {
    "duration": 5,
    "start_time": "2022-03-21T23:16:35.728Z"
   },
   {
    "duration": 31,
    "start_time": "2022-03-21T23:16:35.734Z"
   },
   {
    "duration": 48,
    "start_time": "2022-03-21T23:16:35.766Z"
   },
   {
    "duration": 407,
    "start_time": "2022-03-21T23:16:35.816Z"
   },
   {
    "duration": 1665,
    "start_time": "2022-03-21T23:16:36.225Z"
   },
   {
    "duration": 1181,
    "start_time": "2022-03-21T23:16:37.892Z"
   },
   {
    "duration": 269,
    "start_time": "2022-03-21T23:16:39.074Z"
   },
   {
    "duration": 116,
    "start_time": "2022-03-21T23:16:39.345Z"
   },
   {
    "duration": 253,
    "start_time": "2022-03-21T23:16:39.463Z"
   },
   {
    "duration": 123,
    "start_time": "2022-03-21T23:16:39.717Z"
   },
   {
    "duration": 216,
    "start_time": "2022-03-21T23:16:39.842Z"
   },
   {
    "duration": 752,
    "start_time": "2022-03-21T23:16:40.060Z"
   },
   {
    "duration": 110,
    "start_time": "2022-03-21T23:16:40.813Z"
   },
   {
    "duration": 119,
    "start_time": "2022-03-21T23:16:40.925Z"
   },
   {
    "duration": 109,
    "start_time": "2022-03-21T23:16:41.045Z"
   },
   {
    "duration": 12,
    "start_time": "2022-03-21T23:16:41.156Z"
   },
   {
    "duration": 3,
    "start_time": "2022-03-21T23:16:41.169Z"
   },
   {
    "duration": 253,
    "start_time": "2022-03-21T23:16:41.173Z"
   },
   {
    "duration": 176,
    "start_time": "2022-03-21T23:16:41.428Z"
   },
   {
    "duration": 272,
    "start_time": "2022-03-21T23:16:41.606Z"
   },
   {
    "duration": 154,
    "start_time": "2022-03-21T23:16:41.880Z"
   },
   {
    "duration": 259,
    "start_time": "2022-03-21T23:16:42.036Z"
   },
   {
    "duration": 20,
    "start_time": "2022-03-21T23:16:42.297Z"
   },
   {
    "duration": 405,
    "start_time": "2022-03-21T23:16:42.318Z"
   },
   {
    "duration": 38,
    "start_time": "2022-03-21T23:16:42.725Z"
   },
   {
    "duration": 4,
    "start_time": "2022-03-21T23:16:42.764Z"
   },
   {
    "duration": 333,
    "start_time": "2022-03-21T23:16:42.770Z"
   },
   {
    "duration": 248,
    "start_time": "2022-03-21T23:16:43.104Z"
   },
   {
    "duration": 385,
    "start_time": "2022-03-21T23:16:43.353Z"
   },
   {
    "duration": 147,
    "start_time": "2022-03-21T23:16:43.739Z"
   },
   {
    "duration": 138,
    "start_time": "2022-03-21T23:16:43.888Z"
   },
   {
    "duration": 127,
    "start_time": "2022-03-21T23:16:44.027Z"
   },
   {
    "duration": 94,
    "start_time": "2022-03-21T23:17:24.464Z"
   },
   {
    "duration": 119,
    "start_time": "2022-03-21T23:17:40.116Z"
   },
   {
    "duration": 7,
    "start_time": "2022-03-21T23:17:40.236Z"
   },
   {
    "duration": 4,
    "start_time": "2022-03-21T23:17:40.244Z"
   },
   {
    "duration": 7,
    "start_time": "2022-03-21T23:17:40.249Z"
   },
   {
    "duration": 45,
    "start_time": "2022-03-21T23:17:40.258Z"
   },
   {
    "duration": 11,
    "start_time": "2022-03-21T23:17:40.305Z"
   },
   {
    "duration": 3,
    "start_time": "2022-03-21T23:17:40.318Z"
   },
   {
    "duration": 31,
    "start_time": "2022-03-21T23:17:40.322Z"
   },
   {
    "duration": 46,
    "start_time": "2022-03-21T23:17:40.355Z"
   },
   {
    "duration": 350,
    "start_time": "2022-03-21T23:17:40.403Z"
   },
   {
    "duration": 1643,
    "start_time": "2022-03-21T23:17:40.754Z"
   },
   {
    "duration": 1329,
    "start_time": "2022-03-21T23:17:42.401Z"
   },
   {
    "duration": 166,
    "start_time": "2022-03-21T23:17:43.732Z"
   },
   {
    "duration": 105,
    "start_time": "2022-03-21T23:17:43.903Z"
   },
   {
    "duration": 257,
    "start_time": "2022-03-21T23:17:44.010Z"
   },
   {
    "duration": 118,
    "start_time": "2022-03-21T23:17:44.269Z"
   },
   {
    "duration": 213,
    "start_time": "2022-03-21T23:17:44.389Z"
   },
   {
    "duration": 604,
    "start_time": "2022-03-21T23:17:44.604Z"
   },
   {
    "duration": 100,
    "start_time": "2022-03-21T23:17:45.209Z"
   },
   {
    "duration": 114,
    "start_time": "2022-03-21T23:17:45.310Z"
   },
   {
    "duration": 109,
    "start_time": "2022-03-21T23:17:45.426Z"
   },
   {
    "duration": 11,
    "start_time": "2022-03-21T23:17:45.537Z"
   },
   {
    "duration": 2,
    "start_time": "2022-03-21T23:17:45.550Z"
   },
   {
    "duration": 258,
    "start_time": "2022-03-21T23:17:45.554Z"
   },
   {
    "duration": 151,
    "start_time": "2022-03-21T23:17:45.813Z"
   },
   {
    "duration": 277,
    "start_time": "2022-03-21T23:17:45.965Z"
   },
   {
    "duration": 160,
    "start_time": "2022-03-21T23:17:46.243Z"
   },
   {
    "duration": 514,
    "start_time": "2022-03-21T23:17:46.405Z"
   },
   {
    "duration": 22,
    "start_time": "2022-03-21T23:17:46.921Z"
   },
   {
    "duration": 184,
    "start_time": "2022-03-21T23:17:46.945Z"
   },
   {
    "duration": 37,
    "start_time": "2022-03-21T23:17:47.131Z"
   },
   {
    "duration": 5,
    "start_time": "2022-03-21T23:17:47.170Z"
   },
   {
    "duration": 267,
    "start_time": "2022-03-21T23:17:47.177Z"
   },
   {
    "duration": 256,
    "start_time": "2022-03-21T23:17:47.445Z"
   },
   {
    "duration": 386,
    "start_time": "2022-03-21T23:17:47.702Z"
   },
   {
    "duration": 150,
    "start_time": "2022-03-21T23:17:48.089Z"
   },
   {
    "duration": 141,
    "start_time": "2022-03-21T23:17:48.240Z"
   },
   {
    "duration": 137,
    "start_time": "2022-03-21T23:17:48.383Z"
   },
   {
    "duration": 202,
    "start_time": "2022-03-21T23:18:29.212Z"
   },
   {
    "duration": 129,
    "start_time": "2022-03-21T23:18:32.588Z"
   },
   {
    "duration": 7,
    "start_time": "2022-03-21T23:18:32.720Z"
   },
   {
    "duration": 5,
    "start_time": "2022-03-21T23:18:32.729Z"
   },
   {
    "duration": 7,
    "start_time": "2022-03-21T23:18:32.735Z"
   },
   {
    "duration": 60,
    "start_time": "2022-03-21T23:18:32.745Z"
   },
   {
    "duration": 13,
    "start_time": "2022-03-21T23:18:32.807Z"
   },
   {
    "duration": 4,
    "start_time": "2022-03-21T23:18:32.821Z"
   },
   {
    "duration": 34,
    "start_time": "2022-03-21T23:18:32.827Z"
   },
   {
    "duration": 45,
    "start_time": "2022-03-21T23:18:32.863Z"
   },
   {
    "duration": 350,
    "start_time": "2022-03-21T23:18:32.910Z"
   },
   {
    "duration": 1629,
    "start_time": "2022-03-21T23:18:33.261Z"
   },
   {
    "duration": 1094,
    "start_time": "2022-03-21T23:18:34.892Z"
   },
   {
    "duration": 180,
    "start_time": "2022-03-21T23:18:35.988Z"
   },
   {
    "duration": 100,
    "start_time": "2022-03-21T23:18:36.171Z"
   },
   {
    "duration": 257,
    "start_time": "2022-03-21T23:18:36.273Z"
   },
   {
    "duration": 137,
    "start_time": "2022-03-21T23:18:36.532Z"
   },
   {
    "duration": 581,
    "start_time": "2022-03-21T23:18:36.670Z"
   },
   {
    "duration": 589,
    "start_time": "2022-03-21T23:18:37.253Z"
   },
   {
    "duration": 101,
    "start_time": "2022-03-21T23:18:37.844Z"
   },
   {
    "duration": 121,
    "start_time": "2022-03-21T23:18:37.947Z"
   },
   {
    "duration": 114,
    "start_time": "2022-03-21T23:18:38.070Z"
   },
   {
    "duration": 21,
    "start_time": "2022-03-21T23:18:38.186Z"
   },
   {
    "duration": 18,
    "start_time": "2022-03-21T23:18:38.209Z"
   },
   {
    "duration": 252,
    "start_time": "2022-03-21T23:18:38.229Z"
   },
   {
    "duration": 159,
    "start_time": "2022-03-21T23:18:38.483Z"
   },
   {
    "duration": 265,
    "start_time": "2022-03-21T23:18:38.643Z"
   },
   {
    "duration": 166,
    "start_time": "2022-03-21T23:18:38.909Z"
   },
   {
    "duration": 268,
    "start_time": "2022-03-21T23:18:39.077Z"
   },
   {
    "duration": 21,
    "start_time": "2022-03-21T23:18:39.347Z"
   },
   {
    "duration": 200,
    "start_time": "2022-03-21T23:18:39.370Z"
   },
   {
    "duration": 47,
    "start_time": "2022-03-21T23:18:39.572Z"
   },
   {
    "duration": 6,
    "start_time": "2022-03-21T23:18:39.621Z"
   },
   {
    "duration": 282,
    "start_time": "2022-03-21T23:18:39.628Z"
   },
   {
    "duration": 278,
    "start_time": "2022-03-21T23:18:39.912Z"
   },
   {
    "duration": 416,
    "start_time": "2022-03-21T23:18:40.192Z"
   },
   {
    "duration": 151,
    "start_time": "2022-03-21T23:18:40.609Z"
   },
   {
    "duration": 144,
    "start_time": "2022-03-21T23:18:40.761Z"
   },
   {
    "duration": 142,
    "start_time": "2022-03-21T23:18:40.906Z"
   },
   {
    "duration": 603,
    "start_time": "2022-03-21T23:21:36.702Z"
   },
   {
    "duration": 116,
    "start_time": "2022-03-21T23:21:49.161Z"
   },
   {
    "duration": 6,
    "start_time": "2022-03-21T23:21:49.279Z"
   },
   {
    "duration": 17,
    "start_time": "2022-03-21T23:21:49.287Z"
   },
   {
    "duration": 7,
    "start_time": "2022-03-21T23:21:49.305Z"
   },
   {
    "duration": 459,
    "start_time": "2022-03-21T23:21:49.314Z"
   },
   {
    "duration": 12,
    "start_time": "2022-03-21T23:21:49.775Z"
   },
   {
    "duration": 4,
    "start_time": "2022-03-21T23:21:49.800Z"
   },
   {
    "duration": 32,
    "start_time": "2022-03-21T23:21:49.806Z"
   },
   {
    "duration": 19,
    "start_time": "2022-03-21T23:21:49.840Z"
   },
   {
    "duration": 365,
    "start_time": "2022-03-21T23:21:49.861Z"
   },
   {
    "duration": 1280,
    "start_time": "2022-03-21T23:21:50.228Z"
   },
   {
    "duration": 1115,
    "start_time": "2022-03-21T23:21:51.509Z"
   },
   {
    "duration": 164,
    "start_time": "2022-03-21T23:21:52.626Z"
   },
   {
    "duration": 109,
    "start_time": "2022-03-21T23:21:52.793Z"
   },
   {
    "duration": 729,
    "start_time": "2022-03-21T23:21:52.904Z"
   },
   {
    "duration": 127,
    "start_time": "2022-03-21T23:21:53.635Z"
   },
   {
    "duration": 228,
    "start_time": "2022-03-21T23:21:53.764Z"
   },
   {
    "duration": 616,
    "start_time": "2022-03-21T23:21:53.994Z"
   },
   {
    "duration": 98,
    "start_time": "2022-03-21T23:21:54.612Z"
   },
   {
    "duration": 112,
    "start_time": "2022-03-21T23:21:54.712Z"
   },
   {
    "duration": 111,
    "start_time": "2022-03-21T23:21:54.826Z"
   },
   {
    "duration": 10,
    "start_time": "2022-03-21T23:21:54.938Z"
   },
   {
    "duration": 4,
    "start_time": "2022-03-21T23:21:54.950Z"
   },
   {
    "duration": 259,
    "start_time": "2022-03-21T23:21:54.956Z"
   },
   {
    "duration": 131,
    "start_time": "2022-03-21T23:21:55.216Z"
   },
   {
    "duration": 248,
    "start_time": "2022-03-21T23:21:55.349Z"
   },
   {
    "duration": 134,
    "start_time": "2022-03-21T23:21:55.601Z"
   },
   {
    "duration": 245,
    "start_time": "2022-03-21T23:21:55.736Z"
   },
   {
    "duration": 24,
    "start_time": "2022-03-21T23:21:55.982Z"
   },
   {
    "duration": 169,
    "start_time": "2022-03-21T23:21:56.008Z"
   },
   {
    "duration": 30,
    "start_time": "2022-03-21T23:21:56.179Z"
   },
   {
    "duration": 4,
    "start_time": "2022-03-21T23:21:56.210Z"
   },
   {
    "duration": 257,
    "start_time": "2022-03-21T23:21:56.216Z"
   },
   {
    "duration": 244,
    "start_time": "2022-03-21T23:21:56.475Z"
   },
   {
    "duration": 381,
    "start_time": "2022-03-21T23:21:56.720Z"
   },
   {
    "duration": 133,
    "start_time": "2022-03-21T23:21:57.102Z"
   },
   {
    "duration": 138,
    "start_time": "2022-03-21T23:21:57.237Z"
   },
   {
    "duration": 141,
    "start_time": "2022-03-21T23:21:57.376Z"
   },
   {
    "duration": 11,
    "start_time": "2022-03-21T23:22:25.044Z"
   },
   {
    "duration": 614,
    "start_time": "2022-03-21T23:22:40.657Z"
   },
   {
    "duration": 120,
    "start_time": "2022-03-21T23:22:47.259Z"
   },
   {
    "duration": 6,
    "start_time": "2022-03-21T23:22:47.381Z"
   },
   {
    "duration": 15,
    "start_time": "2022-03-21T23:22:47.388Z"
   },
   {
    "duration": 7,
    "start_time": "2022-03-21T23:22:47.404Z"
   },
   {
    "duration": 31,
    "start_time": "2022-03-21T23:22:47.413Z"
   },
   {
    "duration": 14,
    "start_time": "2022-03-21T23:22:47.445Z"
   },
   {
    "duration": 5,
    "start_time": "2022-03-21T23:22:47.460Z"
   },
   {
    "duration": 60,
    "start_time": "2022-03-21T23:22:47.466Z"
   },
   {
    "duration": 21,
    "start_time": "2022-03-21T23:22:47.528Z"
   },
   {
    "duration": 353,
    "start_time": "2022-03-21T23:22:47.550Z"
   },
   {
    "duration": 1897,
    "start_time": "2022-03-21T23:22:47.904Z"
   },
   {
    "duration": 1105,
    "start_time": "2022-03-21T23:22:49.803Z"
   },
   {
    "duration": 175,
    "start_time": "2022-03-21T23:22:50.910Z"
   },
   {
    "duration": 106,
    "start_time": "2022-03-21T23:22:51.101Z"
   },
   {
    "duration": 252,
    "start_time": "2022-03-21T23:22:51.209Z"
   },
   {
    "duration": 125,
    "start_time": "2022-03-21T23:22:51.463Z"
   },
   {
    "duration": 221,
    "start_time": "2022-03-21T23:22:51.590Z"
   },
   {
    "duration": 631,
    "start_time": "2022-03-21T23:22:51.813Z"
   },
   {
    "duration": 106,
    "start_time": "2022-03-21T23:22:52.446Z"
   },
   {
    "duration": 119,
    "start_time": "2022-03-21T23:22:52.554Z"
   },
   {
    "duration": 115,
    "start_time": "2022-03-21T23:22:52.675Z"
   },
   {
    "duration": 20,
    "start_time": "2022-03-21T23:22:52.791Z"
   },
   {
    "duration": 3,
    "start_time": "2022-03-21T23:22:52.812Z"
   },
   {
    "duration": 257,
    "start_time": "2022-03-21T23:22:52.816Z"
   },
   {
    "duration": 161,
    "start_time": "2022-03-21T23:22:53.075Z"
   },
   {
    "duration": 260,
    "start_time": "2022-03-21T23:22:53.237Z"
   },
   {
    "duration": 161,
    "start_time": "2022-03-21T23:22:53.498Z"
   },
   {
    "duration": 260,
    "start_time": "2022-03-21T23:22:53.661Z"
   },
   {
    "duration": 22,
    "start_time": "2022-03-21T23:22:53.923Z"
   },
   {
    "duration": 182,
    "start_time": "2022-03-21T23:22:53.946Z"
   },
   {
    "duration": 36,
    "start_time": "2022-03-21T23:22:54.130Z"
   },
   {
    "duration": 5,
    "start_time": "2022-03-21T23:22:54.168Z"
   },
   {
    "duration": 272,
    "start_time": "2022-03-21T23:22:54.175Z"
   },
   {
    "duration": 263,
    "start_time": "2022-03-21T23:22:54.449Z"
   },
   {
    "duration": 1070,
    "start_time": "2022-03-21T23:22:54.714Z"
   },
   {
    "duration": 142,
    "start_time": "2022-03-21T23:22:55.786Z"
   },
   {
    "duration": 137,
    "start_time": "2022-03-21T23:22:55.930Z"
   },
   {
    "duration": 137,
    "start_time": "2022-03-21T23:22:56.069Z"
   },
   {
    "duration": 625,
    "start_time": "2022-03-21T23:23:44.281Z"
   },
   {
    "duration": 120,
    "start_time": "2022-03-21T23:23:55.794Z"
   },
   {
    "duration": 110,
    "start_time": "2022-03-21T23:26:00.948Z"
   },
   {
    "duration": 147,
    "start_time": "2022-03-21T23:28:11.634Z"
   },
   {
    "duration": 148,
    "start_time": "2022-03-21T23:28:29.057Z"
   },
   {
    "duration": 144,
    "start_time": "2022-03-21T23:30:04.744Z"
   },
   {
    "duration": 129,
    "start_time": "2022-03-21T23:30:12.538Z"
   },
   {
    "duration": 1408,
    "start_time": "2022-03-21T23:30:40.364Z"
   },
   {
    "duration": 136,
    "start_time": "2022-03-21T23:30:59.531Z"
   },
   {
    "duration": 386,
    "start_time": "2022-03-21T23:31:07.440Z"
   },
   {
    "duration": 152,
    "start_time": "2022-03-21T23:31:13.704Z"
   },
   {
    "duration": 257,
    "start_time": "2022-03-21T23:31:24.154Z"
   },
   {
    "duration": 843,
    "start_time": "2022-03-21T23:32:44.953Z"
   },
   {
    "duration": 798,
    "start_time": "2022-03-21T23:33:29.919Z"
   },
   {
    "duration": 1547,
    "start_time": "2022-03-21T23:33:38.409Z"
   },
   {
    "duration": 14,
    "start_time": "2022-03-21T23:34:19.022Z"
   },
   {
    "duration": 774,
    "start_time": "2022-03-21T23:34:28.929Z"
   },
   {
    "duration": 94,
    "start_time": "2022-03-21T23:34:35.627Z"
   },
   {
    "duration": 757,
    "start_time": "2022-03-21T23:34:48.139Z"
   },
   {
    "duration": 239,
    "start_time": "2022-03-21T23:36:07.075Z"
   },
   {
    "duration": 97,
    "start_time": "2022-03-21T23:36:12.138Z"
   },
   {
    "duration": 265,
    "start_time": "2022-03-21T23:36:25.871Z"
   },
   {
    "duration": 104,
    "start_time": "2022-03-21T23:36:30.178Z"
   },
   {
    "duration": 13,
    "start_time": "2022-03-21T23:41:15.804Z"
   },
   {
    "duration": 104,
    "start_time": "2022-03-21T23:42:00.525Z"
   },
   {
    "duration": 97,
    "start_time": "2022-03-21T23:46:57.592Z"
   },
   {
    "duration": 12,
    "start_time": "2022-03-21T23:47:07.426Z"
   },
   {
    "duration": 12,
    "start_time": "2022-03-21T23:47:38.426Z"
   },
   {
    "duration": 121,
    "start_time": "2022-03-21T23:48:01.409Z"
   },
   {
    "duration": 124,
    "start_time": "2022-03-21T23:48:17.361Z"
   },
   {
    "duration": 130,
    "start_time": "2022-03-21T23:48:20.329Z"
   },
   {
    "duration": 137,
    "start_time": "2022-03-21T23:48:28.079Z"
   },
   {
    "duration": 143,
    "start_time": "2022-03-21T23:48:34.196Z"
   },
   {
    "duration": 142,
    "start_time": "2022-03-21T23:48:39.931Z"
   },
   {
    "duration": 123,
    "start_time": "2022-03-21T23:48:44.409Z"
   },
   {
    "duration": 6,
    "start_time": "2022-03-21T23:48:44.534Z"
   },
   {
    "duration": 4,
    "start_time": "2022-03-21T23:48:44.542Z"
   },
   {
    "duration": 6,
    "start_time": "2022-03-21T23:48:44.547Z"
   },
   {
    "duration": 47,
    "start_time": "2022-03-21T23:48:44.555Z"
   },
   {
    "duration": 12,
    "start_time": "2022-03-21T23:48:44.603Z"
   },
   {
    "duration": 4,
    "start_time": "2022-03-21T23:48:44.616Z"
   },
   {
    "duration": 31,
    "start_time": "2022-03-21T23:48:44.621Z"
   },
   {
    "duration": 20,
    "start_time": "2022-03-21T23:48:44.654Z"
   },
   {
    "duration": 370,
    "start_time": "2022-03-21T23:48:44.676Z"
   },
   {
    "duration": 1263,
    "start_time": "2022-03-21T23:48:45.047Z"
   },
   {
    "duration": 124,
    "start_time": "2022-03-21T23:48:46.312Z"
   },
   {
    "duration": 255,
    "start_time": "2022-03-21T23:48:46.437Z"
   },
   {
    "duration": 112,
    "start_time": "2022-03-21T23:48:46.700Z"
   },
   {
    "duration": 156,
    "start_time": "2022-03-21T23:48:46.813Z"
   },
   {
    "duration": 101,
    "start_time": "2022-03-21T23:48:46.970Z"
   },
   {
    "duration": 241,
    "start_time": "2022-03-21T23:48:47.072Z"
   },
   {
    "duration": 120,
    "start_time": "2022-03-21T23:48:47.314Z"
   },
   {
    "duration": 212,
    "start_time": "2022-03-21T23:48:47.435Z"
   },
   {
    "duration": 1670,
    "start_time": "2022-03-21T23:48:47.649Z"
   },
   {
    "duration": 164,
    "start_time": "2022-03-21T23:48:49.321Z"
   },
   {
    "duration": 136,
    "start_time": "2022-03-21T23:48:49.487Z"
   },
   {
    "duration": 140,
    "start_time": "2022-03-21T23:48:49.625Z"
   },
   {
    "duration": 4,
    "start_time": "2022-03-21T23:48:49.767Z"
   },
   {
    "duration": 272,
    "start_time": "2022-03-21T23:48:49.772Z"
   },
   {
    "duration": 155,
    "start_time": "2022-03-21T23:48:50.046Z"
   },
   {
    "duration": 260,
    "start_time": "2022-03-21T23:48:50.203Z"
   },
   {
    "duration": 144,
    "start_time": "2022-03-21T23:48:50.465Z"
   },
   {
    "duration": 255,
    "start_time": "2022-03-21T23:48:50.611Z"
   },
   {
    "duration": 19,
    "start_time": "2022-03-21T23:48:50.869Z"
   },
   {
    "duration": 200,
    "start_time": "2022-03-21T23:48:50.890Z"
   },
   {
    "duration": 41,
    "start_time": "2022-03-21T23:48:51.091Z"
   },
   {
    "duration": 5,
    "start_time": "2022-03-21T23:48:51.134Z"
   },
   {
    "duration": 272,
    "start_time": "2022-03-21T23:48:51.141Z"
   },
   {
    "duration": 257,
    "start_time": "2022-03-21T23:48:51.414Z"
   },
   {
    "duration": 370,
    "start_time": "2022-03-21T23:48:51.673Z"
   },
   {
    "duration": 158,
    "start_time": "2022-03-21T23:48:52.045Z"
   },
   {
    "duration": 158,
    "start_time": "2022-03-21T23:48:52.204Z"
   },
   {
    "duration": 144,
    "start_time": "2022-03-21T23:48:52.364Z"
   },
   {
    "duration": 122,
    "start_time": "2022-03-21T23:49:36.250Z"
   },
   {
    "duration": 7,
    "start_time": "2022-03-21T23:49:36.373Z"
   },
   {
    "duration": 4,
    "start_time": "2022-03-21T23:49:36.382Z"
   },
   {
    "duration": 17,
    "start_time": "2022-03-21T23:49:36.388Z"
   },
   {
    "duration": 29,
    "start_time": "2022-03-21T23:49:36.407Z"
   },
   {
    "duration": 13,
    "start_time": "2022-03-21T23:49:36.438Z"
   },
   {
    "duration": 4,
    "start_time": "2022-03-21T23:49:36.453Z"
   },
   {
    "duration": 69,
    "start_time": "2022-03-21T23:49:36.458Z"
   },
   {
    "duration": 32,
    "start_time": "2022-03-21T23:49:36.528Z"
   },
   {
    "duration": 360,
    "start_time": "2022-03-21T23:49:36.563Z"
   },
   {
    "duration": 1377,
    "start_time": "2022-03-21T23:49:36.925Z"
   },
   {
    "duration": 248,
    "start_time": "2022-03-21T23:49:38.304Z"
   },
   {
    "duration": 324,
    "start_time": "2022-03-21T23:49:38.601Z"
   },
   {
    "duration": 107,
    "start_time": "2022-03-21T23:49:38.927Z"
   },
   {
    "duration": 160,
    "start_time": "2022-03-21T23:49:39.035Z"
   },
   {
    "duration": 94,
    "start_time": "2022-03-21T23:49:39.200Z"
   },
   {
    "duration": 244,
    "start_time": "2022-03-21T23:49:39.295Z"
   },
   {
    "duration": 142,
    "start_time": "2022-03-21T23:49:39.541Z"
   },
   {
    "duration": 226,
    "start_time": "2022-03-21T23:49:39.685Z"
   },
   {
    "duration": 763,
    "start_time": "2022-03-21T23:49:39.913Z"
   },
   {
    "duration": 152,
    "start_time": "2022-03-21T23:49:40.678Z"
   },
   {
    "duration": 132,
    "start_time": "2022-03-21T23:49:40.831Z"
   },
   {
    "duration": 138,
    "start_time": "2022-03-21T23:49:40.964Z"
   },
   {
    "duration": 3,
    "start_time": "2022-03-21T23:49:41.104Z"
   },
   {
    "duration": 255,
    "start_time": "2022-03-21T23:49:41.108Z"
   },
   {
    "duration": 146,
    "start_time": "2022-03-21T23:49:41.364Z"
   },
   {
    "duration": 260,
    "start_time": "2022-03-21T23:49:41.512Z"
   },
   {
    "duration": 159,
    "start_time": "2022-03-21T23:49:41.776Z"
   },
   {
    "duration": 274,
    "start_time": "2022-03-21T23:49:41.937Z"
   },
   {
    "duration": 20,
    "start_time": "2022-03-21T23:49:42.212Z"
   },
   {
    "duration": 200,
    "start_time": "2022-03-21T23:49:42.233Z"
   },
   {
    "duration": 37,
    "start_time": "2022-03-21T23:49:42.435Z"
   },
   {
    "duration": 4,
    "start_time": "2022-03-21T23:49:42.474Z"
   },
   {
    "duration": 268,
    "start_time": "2022-03-21T23:49:42.479Z"
   },
   {
    "duration": 256,
    "start_time": "2022-03-21T23:49:42.749Z"
   },
   {
    "duration": 355,
    "start_time": "2022-03-21T23:49:43.006Z"
   },
   {
    "duration": 154,
    "start_time": "2022-03-21T23:49:43.363Z"
   },
   {
    "duration": 140,
    "start_time": "2022-03-21T23:49:43.519Z"
   },
   {
    "duration": 142,
    "start_time": "2022-03-21T23:49:43.660Z"
   },
   {
    "duration": 142,
    "start_time": "2022-03-21T23:50:10.649Z"
   },
   {
    "duration": 97,
    "start_time": "2022-03-21T23:51:13.680Z"
   },
   {
    "duration": 2738,
    "start_time": "2022-03-21T23:53:15.784Z"
   },
   {
    "duration": 245,
    "start_time": "2022-03-21T23:53:25.360Z"
   },
   {
    "duration": 364,
    "start_time": "2022-03-21T23:55:01.339Z"
   },
   {
    "duration": 103,
    "start_time": "2022-03-21T23:56:02.266Z"
   },
   {
    "duration": 263,
    "start_time": "2022-03-21T23:56:54.110Z"
   },
   {
    "duration": 227,
    "start_time": "2022-03-21T23:57:13.567Z"
   },
   {
    "duration": 122,
    "start_time": "2022-03-21T23:57:22.466Z"
   },
   {
    "duration": 11,
    "start_time": "2022-03-21T23:57:22.591Z"
   },
   {
    "duration": 5,
    "start_time": "2022-03-21T23:57:22.604Z"
   },
   {
    "duration": 6,
    "start_time": "2022-03-21T23:57:22.611Z"
   },
   {
    "duration": 31,
    "start_time": "2022-03-21T23:57:22.619Z"
   },
   {
    "duration": 16,
    "start_time": "2022-03-21T23:57:22.651Z"
   },
   {
    "duration": 37,
    "start_time": "2022-03-21T23:57:22.668Z"
   },
   {
    "duration": 31,
    "start_time": "2022-03-21T23:57:22.707Z"
   },
   {
    "duration": 20,
    "start_time": "2022-03-21T23:57:22.739Z"
   },
   {
    "duration": 380,
    "start_time": "2022-03-21T23:57:22.761Z"
   },
   {
    "duration": 110,
    "start_time": "2022-03-21T23:57:23.143Z"
   },
   {
    "duration": 353,
    "start_time": "2022-03-21T23:57:23.255Z"
   },
   {
    "duration": 130,
    "start_time": "2022-03-21T23:57:23.609Z"
   },
   {
    "duration": 268,
    "start_time": "2022-03-21T23:57:23.742Z"
   },
   {
    "duration": 125,
    "start_time": "2022-03-21T23:57:24.012Z"
   },
   {
    "duration": 163,
    "start_time": "2022-03-21T23:57:24.138Z"
   },
   {
    "duration": 107,
    "start_time": "2022-03-21T23:57:24.302Z"
   },
   {
    "duration": 262,
    "start_time": "2022-03-21T23:57:24.410Z"
   },
   {
    "duration": 130,
    "start_time": "2022-03-21T23:57:24.673Z"
   },
   {
    "duration": 216,
    "start_time": "2022-03-21T23:57:24.804Z"
   },
   {
    "duration": 112,
    "start_time": "2022-03-21T23:57:25.021Z"
   },
   {
    "duration": 254,
    "start_time": "2022-03-21T23:57:25.134Z"
   },
   {
    "duration": 780,
    "start_time": "2022-03-21T23:57:25.390Z"
   },
   {
    "duration": 160,
    "start_time": "2022-03-21T23:57:26.171Z"
   },
   {
    "duration": 148,
    "start_time": "2022-03-21T23:57:26.333Z"
   },
   {
    "duration": 140,
    "start_time": "2022-03-21T23:57:26.483Z"
   },
   {
    "duration": 3,
    "start_time": "2022-03-21T23:57:26.625Z"
   },
   {
    "duration": 274,
    "start_time": "2022-03-21T23:57:26.630Z"
   },
   {
    "duration": 157,
    "start_time": "2022-03-21T23:57:26.907Z"
   },
   {
    "duration": 280,
    "start_time": "2022-03-21T23:57:27.066Z"
   },
   {
    "duration": 165,
    "start_time": "2022-03-21T23:57:27.348Z"
   },
   {
    "duration": 255,
    "start_time": "2022-03-21T23:57:27.514Z"
   },
   {
    "duration": 31,
    "start_time": "2022-03-21T23:57:27.771Z"
   },
   {
    "duration": 182,
    "start_time": "2022-03-21T23:57:27.803Z"
   },
   {
    "duration": 39,
    "start_time": "2022-03-21T23:57:27.987Z"
   },
   {
    "duration": 5,
    "start_time": "2022-03-21T23:57:28.027Z"
   },
   {
    "duration": 279,
    "start_time": "2022-03-21T23:57:28.034Z"
   },
   {
    "duration": 247,
    "start_time": "2022-03-21T23:57:28.315Z"
   },
   {
    "duration": 387,
    "start_time": "2022-03-21T23:57:28.564Z"
   },
   {
    "duration": 154,
    "start_time": "2022-03-21T23:57:28.952Z"
   },
   {
    "duration": 150,
    "start_time": "2022-03-21T23:57:29.110Z"
   },
   {
    "duration": 147,
    "start_time": "2022-03-21T23:57:29.262Z"
   },
   {
    "duration": 1285,
    "start_time": "2022-03-21T23:58:51.122Z"
   },
   {
    "duration": 116,
    "start_time": "2022-03-21T23:59:13.374Z"
   },
   {
    "duration": 7,
    "start_time": "2022-03-21T23:59:13.502Z"
   },
   {
    "duration": 4,
    "start_time": "2022-03-21T23:59:13.510Z"
   },
   {
    "duration": 6,
    "start_time": "2022-03-21T23:59:13.516Z"
   },
   {
    "duration": 29,
    "start_time": "2022-03-21T23:59:13.523Z"
   },
   {
    "duration": 13,
    "start_time": "2022-03-21T23:59:13.553Z"
   },
   {
    "duration": 34,
    "start_time": "2022-03-21T23:59:13.567Z"
   },
   {
    "duration": 31,
    "start_time": "2022-03-21T23:59:13.603Z"
   },
   {
    "duration": 19,
    "start_time": "2022-03-21T23:59:13.635Z"
   },
   {
    "duration": 366,
    "start_time": "2022-03-21T23:59:13.656Z"
   },
   {
    "duration": 107,
    "start_time": "2022-03-21T23:59:14.023Z"
   },
   {
    "duration": 3270,
    "start_time": "2022-03-21T23:59:14.132Z"
   },
   {
    "duration": 226,
    "start_time": "2022-03-21T23:59:17.404Z"
   },
   {
    "duration": 482,
    "start_time": "2022-03-21T23:59:17.633Z"
   },
   {
    "duration": 113,
    "start_time": "2022-03-21T23:59:18.117Z"
   },
   {
    "duration": 155,
    "start_time": "2022-03-21T23:59:18.232Z"
   },
   {
    "duration": 100,
    "start_time": "2022-03-21T23:59:18.388Z"
   },
   {
    "duration": 257,
    "start_time": "2022-03-21T23:59:18.490Z"
   },
   {
    "duration": 117,
    "start_time": "2022-03-21T23:59:18.748Z"
   },
   {
    "duration": 256,
    "start_time": "2022-03-21T23:59:18.866Z"
   },
   {
    "duration": 149,
    "start_time": "2022-03-21T23:59:19.123Z"
   },
   {
    "duration": 310,
    "start_time": "2022-03-21T23:59:19.273Z"
   },
   {
    "duration": 820,
    "start_time": "2022-03-21T23:59:19.585Z"
   },
   {
    "duration": 168,
    "start_time": "2022-03-21T23:59:20.407Z"
   },
   {
    "duration": 136,
    "start_time": "2022-03-21T23:59:20.577Z"
   },
   {
    "duration": 133,
    "start_time": "2022-03-21T23:59:20.715Z"
   },
   {
    "duration": 3,
    "start_time": "2022-03-21T23:59:20.850Z"
   },
   {
    "duration": 309,
    "start_time": "2022-03-21T23:59:20.855Z"
   },
   {
    "duration": 137,
    "start_time": "2022-03-21T23:59:21.165Z"
   },
   {
    "duration": 276,
    "start_time": "2022-03-21T23:59:21.304Z"
   },
   {
    "duration": 157,
    "start_time": "2022-03-21T23:59:21.581Z"
   },
   {
    "duration": 280,
    "start_time": "2022-03-21T23:59:21.739Z"
   },
   {
    "duration": 21,
    "start_time": "2022-03-21T23:59:22.021Z"
   },
   {
    "duration": 281,
    "start_time": "2022-03-21T23:59:22.044Z"
   },
   {
    "duration": 75,
    "start_time": "2022-03-21T23:59:22.327Z"
   },
   {
    "duration": 5,
    "start_time": "2022-03-21T23:59:22.404Z"
   },
   {
    "duration": 513,
    "start_time": "2022-03-21T23:59:22.410Z"
   },
   {
    "duration": 521,
    "start_time": "2022-03-21T23:59:22.925Z"
   },
   {
    "duration": 434,
    "start_time": "2022-03-21T23:59:23.448Z"
   },
   {
    "duration": 154,
    "start_time": "2022-03-21T23:59:23.883Z"
   },
   {
    "duration": 154,
    "start_time": "2022-03-21T23:59:24.041Z"
   },
   {
    "duration": 151,
    "start_time": "2022-03-21T23:59:24.201Z"
   },
   {
    "duration": 105,
    "start_time": "2022-03-22T00:00:14.607Z"
   },
   {
    "duration": 120,
    "start_time": "2022-03-22T00:00:22.265Z"
   },
   {
    "duration": 15,
    "start_time": "2022-03-22T00:00:22.387Z"
   },
   {
    "duration": 5,
    "start_time": "2022-03-22T00:00:22.403Z"
   },
   {
    "duration": 8,
    "start_time": "2022-03-22T00:00:22.410Z"
   },
   {
    "duration": 28,
    "start_time": "2022-03-22T00:00:22.420Z"
   },
   {
    "duration": 13,
    "start_time": "2022-03-22T00:00:22.450Z"
   },
   {
    "duration": 5,
    "start_time": "2022-03-22T00:00:22.465Z"
   },
   {
    "duration": 32,
    "start_time": "2022-03-22T00:00:22.502Z"
   },
   {
    "duration": 21,
    "start_time": "2022-03-22T00:00:22.536Z"
   },
   {
    "duration": 376,
    "start_time": "2022-03-22T00:00:22.559Z"
   },
   {
    "duration": 109,
    "start_time": "2022-03-22T00:00:22.937Z"
   },
   {
    "duration": 1293,
    "start_time": "2022-03-22T00:00:23.047Z"
   },
   {
    "duration": 127,
    "start_time": "2022-03-22T00:00:24.342Z"
   },
   {
    "duration": 284,
    "start_time": "2022-03-22T00:00:24.472Z"
   },
   {
    "duration": 165,
    "start_time": "2022-03-22T00:00:24.757Z"
   },
   {
    "duration": 302,
    "start_time": "2022-03-22T00:00:24.924Z"
   },
   {
    "duration": 205,
    "start_time": "2022-03-22T00:00:25.227Z"
   },
   {
    "duration": 506,
    "start_time": "2022-03-22T00:00:25.433Z"
   },
   {
    "duration": 279,
    "start_time": "2022-03-22T00:00:25.940Z"
   },
   {
    "duration": 326,
    "start_time": "2022-03-22T00:00:26.220Z"
   },
   {
    "duration": 105,
    "start_time": "2022-03-22T00:00:26.548Z"
   },
   {
    "duration": 245,
    "start_time": "2022-03-22T00:00:26.655Z"
   },
   {
    "duration": 774,
    "start_time": "2022-03-22T00:00:26.902Z"
   },
   {
    "duration": 155,
    "start_time": "2022-03-22T00:00:27.677Z"
   },
   {
    "duration": 131,
    "start_time": "2022-03-22T00:00:27.833Z"
   },
   {
    "duration": 135,
    "start_time": "2022-03-22T00:00:27.966Z"
   },
   {
    "duration": 2,
    "start_time": "2022-03-22T00:00:28.103Z"
   },
   {
    "duration": 264,
    "start_time": "2022-03-22T00:00:28.107Z"
   },
   {
    "duration": 147,
    "start_time": "2022-03-22T00:00:28.372Z"
   },
   {
    "duration": 273,
    "start_time": "2022-03-22T00:00:28.521Z"
   },
   {
    "duration": 158,
    "start_time": "2022-03-22T00:00:28.796Z"
   },
   {
    "duration": 267,
    "start_time": "2022-03-22T00:00:28.956Z"
   },
   {
    "duration": 21,
    "start_time": "2022-03-22T00:00:29.225Z"
   },
   {
    "duration": 192,
    "start_time": "2022-03-22T00:00:29.248Z"
   },
   {
    "duration": 36,
    "start_time": "2022-03-22T00:00:29.442Z"
   },
   {
    "duration": 5,
    "start_time": "2022-03-22T00:00:29.484Z"
   },
   {
    "duration": 280,
    "start_time": "2022-03-22T00:00:29.500Z"
   },
   {
    "duration": 254,
    "start_time": "2022-03-22T00:00:29.782Z"
   },
   {
    "duration": 391,
    "start_time": "2022-03-22T00:00:30.037Z"
   },
   {
    "duration": 155,
    "start_time": "2022-03-22T00:00:30.430Z"
   },
   {
    "duration": 159,
    "start_time": "2022-03-22T00:00:30.589Z"
   },
   {
    "duration": 153,
    "start_time": "2022-03-22T00:00:30.750Z"
   },
   {
    "duration": 144,
    "start_time": "2022-03-22T00:02:42.484Z"
   },
   {
    "duration": 8,
    "start_time": "2022-03-22T00:02:42.630Z"
   },
   {
    "duration": 5,
    "start_time": "2022-03-22T00:02:42.640Z"
   },
   {
    "duration": 7,
    "start_time": "2022-03-22T00:02:42.646Z"
   },
   {
    "duration": 67,
    "start_time": "2022-03-22T00:02:42.655Z"
   },
   {
    "duration": 14,
    "start_time": "2022-03-22T00:02:42.723Z"
   },
   {
    "duration": 4,
    "start_time": "2022-03-22T00:02:42.739Z"
   },
   {
    "duration": 32,
    "start_time": "2022-03-22T00:02:42.744Z"
   },
   {
    "duration": 21,
    "start_time": "2022-03-22T00:02:42.802Z"
   },
   {
    "duration": 367,
    "start_time": "2022-03-22T00:02:42.825Z"
   },
   {
    "duration": 108,
    "start_time": "2022-03-22T00:02:43.201Z"
   },
   {
    "duration": 3502,
    "start_time": "2022-03-22T00:02:43.311Z"
   },
   {
    "duration": 126,
    "start_time": "2022-03-22T00:02:46.814Z"
   },
   {
    "duration": 269,
    "start_time": "2022-03-22T00:02:46.943Z"
   },
   {
    "duration": 178,
    "start_time": "2022-03-22T00:02:47.214Z"
   },
   {
    "duration": 255,
    "start_time": "2022-03-22T00:02:47.394Z"
   },
   {
    "duration": 167,
    "start_time": "2022-03-22T00:02:47.651Z"
   },
   {
    "duration": 433,
    "start_time": "2022-03-22T00:02:47.820Z"
   },
   {
    "duration": 177,
    "start_time": "2022-03-22T00:02:48.255Z"
   },
   {
    "duration": 220,
    "start_time": "2022-03-22T00:02:48.433Z"
   },
   {
    "duration": 247,
    "start_time": "2022-03-22T00:02:48.654Z"
   },
   {
    "duration": 764,
    "start_time": "2022-03-22T00:02:48.903Z"
   },
   {
    "duration": 154,
    "start_time": "2022-03-22T00:02:49.669Z"
   },
   {
    "duration": 130,
    "start_time": "2022-03-22T00:02:49.825Z"
   },
   {
    "duration": 125,
    "start_time": "2022-03-22T00:02:49.957Z"
   },
   {
    "duration": 4,
    "start_time": "2022-03-22T00:02:50.083Z"
   },
   {
    "duration": 269,
    "start_time": "2022-03-22T00:02:50.088Z"
   },
   {
    "duration": 152,
    "start_time": "2022-03-22T00:02:50.358Z"
   },
   {
    "duration": 265,
    "start_time": "2022-03-22T00:02:50.511Z"
   },
   {
    "duration": 157,
    "start_time": "2022-03-22T00:02:50.778Z"
   },
   {
    "duration": 259,
    "start_time": "2022-03-22T00:02:50.937Z"
   },
   {
    "duration": 22,
    "start_time": "2022-03-22T00:02:51.197Z"
   },
   {
    "duration": 189,
    "start_time": "2022-03-22T00:02:51.220Z"
   },
   {
    "duration": 35,
    "start_time": "2022-03-22T00:02:51.411Z"
   },
   {
    "duration": 5,
    "start_time": "2022-03-22T00:02:51.447Z"
   },
   {
    "duration": 308,
    "start_time": "2022-03-22T00:02:51.453Z"
   },
   {
    "duration": 244,
    "start_time": "2022-03-22T00:02:51.763Z"
   },
   {
    "duration": 384,
    "start_time": "2022-03-22T00:02:52.008Z"
   },
   {
    "duration": 151,
    "start_time": "2022-03-22T00:02:52.394Z"
   },
   {
    "duration": 150,
    "start_time": "2022-03-22T00:02:52.547Z"
   },
   {
    "duration": 146,
    "start_time": "2022-03-22T00:02:52.704Z"
   },
   {
    "duration": 235,
    "start_time": "2022-03-22T00:03:59.823Z"
   },
   {
    "duration": 130,
    "start_time": "2022-03-22T00:06:43.626Z"
   },
   {
    "duration": 122,
    "start_time": "2022-03-22T00:06:55.780Z"
   },
   {
    "duration": 7,
    "start_time": "2022-03-22T00:06:55.903Z"
   },
   {
    "duration": 4,
    "start_time": "2022-03-22T00:06:55.911Z"
   },
   {
    "duration": 5,
    "start_time": "2022-03-22T00:06:55.917Z"
   },
   {
    "duration": 24,
    "start_time": "2022-03-22T00:06:55.924Z"
   },
   {
    "duration": 12,
    "start_time": "2022-03-22T00:06:55.949Z"
   },
   {
    "duration": 3,
    "start_time": "2022-03-22T00:06:55.962Z"
   },
   {
    "duration": 62,
    "start_time": "2022-03-22T00:06:55.966Z"
   },
   {
    "duration": 19,
    "start_time": "2022-03-22T00:06:56.029Z"
   },
   {
    "duration": 357,
    "start_time": "2022-03-22T00:06:56.049Z"
   },
   {
    "duration": 102,
    "start_time": "2022-03-22T00:06:56.408Z"
   },
   {
    "duration": 1245,
    "start_time": "2022-03-22T00:06:56.512Z"
   },
   {
    "duration": 122,
    "start_time": "2022-03-22T00:06:57.759Z"
   },
   {
    "duration": 548,
    "start_time": "2022-03-22T00:06:57.886Z"
   },
   {
    "duration": 212,
    "start_time": "2022-03-22T00:06:58.435Z"
   },
   {
    "duration": 312,
    "start_time": "2022-03-22T00:06:58.701Z"
   },
   {
    "duration": 199,
    "start_time": "2022-03-22T00:06:59.014Z"
   },
   {
    "duration": 352,
    "start_time": "2022-03-22T00:06:59.214Z"
   },
   {
    "duration": 123,
    "start_time": "2022-03-22T00:06:59.568Z"
   },
   {
    "duration": 223,
    "start_time": "2022-03-22T00:06:59.693Z"
   },
   {
    "duration": 265,
    "start_time": "2022-03-22T00:06:59.918Z"
   },
   {
    "duration": 137,
    "start_time": "2022-03-22T00:07:00.185Z"
   },
   {
    "duration": 159,
    "start_time": "2022-03-22T00:07:00.324Z"
   },
   {
    "duration": 133,
    "start_time": "2022-03-22T00:07:00.485Z"
   },
   {
    "duration": 785,
    "start_time": "2022-03-22T00:07:00.619Z"
   },
   {
    "duration": 3,
    "start_time": "2022-03-22T00:07:01.406Z"
   },
   {
    "duration": 263,
    "start_time": "2022-03-22T00:07:01.410Z"
   },
   {
    "duration": 156,
    "start_time": "2022-03-22T00:07:01.674Z"
   },
   {
    "duration": 254,
    "start_time": "2022-03-22T00:07:01.832Z"
   },
   {
    "duration": 155,
    "start_time": "2022-03-22T00:07:02.088Z"
   },
   {
    "duration": 258,
    "start_time": "2022-03-22T00:07:02.245Z"
   },
   {
    "duration": 20,
    "start_time": "2022-03-22T00:07:02.504Z"
   },
   {
    "duration": 195,
    "start_time": "2022-03-22T00:07:02.525Z"
   },
   {
    "duration": 35,
    "start_time": "2022-03-22T00:07:02.722Z"
   },
   {
    "duration": 4,
    "start_time": "2022-03-22T00:07:02.759Z"
   },
   {
    "duration": 259,
    "start_time": "2022-03-22T00:07:02.765Z"
   },
   {
    "duration": 260,
    "start_time": "2022-03-22T00:07:03.025Z"
   },
   {
    "duration": 381,
    "start_time": "2022-03-22T00:07:03.286Z"
   },
   {
    "duration": 145,
    "start_time": "2022-03-22T00:07:03.669Z"
   },
   {
    "duration": 155,
    "start_time": "2022-03-22T00:07:03.815Z"
   },
   {
    "duration": 140,
    "start_time": "2022-03-22T00:07:03.974Z"
   },
   {
    "duration": 3,
    "start_time": "2022-03-22T00:09:24.682Z"
   },
   {
    "duration": 115,
    "start_time": "2022-03-22T00:10:22.718Z"
   },
   {
    "duration": 128,
    "start_time": "2022-03-22T00:25:48.974Z"
   },
   {
    "duration": 7,
    "start_time": "2022-03-22T00:25:49.104Z"
   },
   {
    "duration": 5,
    "start_time": "2022-03-22T00:25:49.112Z"
   },
   {
    "duration": 7,
    "start_time": "2022-03-22T00:25:49.118Z"
   },
   {
    "duration": 26,
    "start_time": "2022-03-22T00:25:49.127Z"
   },
   {
    "duration": 13,
    "start_time": "2022-03-22T00:25:49.155Z"
   },
   {
    "duration": 35,
    "start_time": "2022-03-22T00:25:49.169Z"
   },
   {
    "duration": 32,
    "start_time": "2022-03-22T00:25:49.206Z"
   },
   {
    "duration": 21,
    "start_time": "2022-03-22T00:25:49.239Z"
   },
   {
    "duration": 370,
    "start_time": "2022-03-22T00:25:49.261Z"
   },
   {
    "duration": 118,
    "start_time": "2022-03-22T00:25:49.632Z"
   },
   {
    "duration": 1277,
    "start_time": "2022-03-22T00:25:49.752Z"
   },
   {
    "duration": 124,
    "start_time": "2022-03-22T00:25:51.030Z"
   },
   {
    "duration": 264,
    "start_time": "2022-03-22T00:25:51.157Z"
   },
   {
    "duration": 126,
    "start_time": "2022-03-22T00:25:51.422Z"
   },
   {
    "duration": 181,
    "start_time": "2022-03-22T00:25:51.550Z"
   },
   {
    "duration": 100,
    "start_time": "2022-03-22T00:25:51.733Z"
   },
   {
    "duration": 237,
    "start_time": "2022-03-22T00:25:51.834Z"
   },
   {
    "duration": 121,
    "start_time": "2022-03-22T00:25:52.073Z"
   },
   {
    "duration": 208,
    "start_time": "2022-03-22T00:25:52.200Z"
   },
   {
    "duration": 257,
    "start_time": "2022-03-22T00:25:52.410Z"
   },
   {
    "duration": 188,
    "start_time": "2022-03-22T00:25:52.669Z"
   },
   {
    "duration": 203,
    "start_time": "2022-03-22T00:25:52.859Z"
   },
   {
    "duration": 167,
    "start_time": "2022-03-22T00:25:53.063Z"
   },
   {
    "duration": 3315,
    "start_time": "2022-03-22T00:25:53.232Z"
   },
   {
    "duration": 2,
    "start_time": "2022-03-22T00:25:56.549Z"
   },
   {
    "duration": 272,
    "start_time": "2022-03-22T00:25:56.553Z"
   },
   {
    "duration": 155,
    "start_time": "2022-03-22T00:25:56.827Z"
   },
   {
    "duration": 263,
    "start_time": "2022-03-22T00:25:56.983Z"
   },
   {
    "duration": 155,
    "start_time": "2022-03-22T00:25:57.248Z"
   },
   {
    "duration": 258,
    "start_time": "2022-03-22T00:25:57.406Z"
   },
   {
    "duration": 22,
    "start_time": "2022-03-22T00:25:57.666Z"
   },
   {
    "duration": 191,
    "start_time": "2022-03-22T00:25:57.702Z"
   },
   {
    "duration": 39,
    "start_time": "2022-03-22T00:25:57.895Z"
   },
   {
    "duration": 4,
    "start_time": "2022-03-22T00:25:57.936Z"
   },
   {
    "duration": 252,
    "start_time": "2022-03-22T00:25:57.942Z"
   },
   {
    "duration": 258,
    "start_time": "2022-03-22T00:25:58.200Z"
   },
   {
    "duration": 386,
    "start_time": "2022-03-22T00:25:58.460Z"
   },
   {
    "duration": 142,
    "start_time": "2022-03-22T00:25:58.848Z"
   },
   {
    "duration": 151,
    "start_time": "2022-03-22T00:25:58.991Z"
   },
   {
    "duration": 136,
    "start_time": "2022-03-22T00:25:59.146Z"
   },
   {
    "duration": 245,
    "start_time": "2022-03-22T00:27:49.090Z"
   },
   {
    "duration": 143,
    "start_time": "2022-03-22T00:27:53.686Z"
   },
   {
    "duration": 234,
    "start_time": "2022-03-22T00:28:47.390Z"
   },
   {
    "duration": 146,
    "start_time": "2022-03-22T00:30:50.848Z"
   },
   {
    "duration": 269,
    "start_time": "2022-03-22T00:32:06.378Z"
   },
   {
    "duration": 176,
    "start_time": "2022-03-22T00:41:10.792Z"
   },
   {
    "duration": 180,
    "start_time": "2022-03-22T00:43:13.769Z"
   },
   {
    "duration": 37,
    "start_time": "2022-03-22T00:43:15.560Z"
   },
   {
    "duration": 35,
    "start_time": "2022-03-22T00:43:45.240Z"
   },
   {
    "duration": 123,
    "start_time": "2022-03-22T00:44:23.104Z"
   },
   {
    "duration": 6,
    "start_time": "2022-03-22T00:44:23.229Z"
   },
   {
    "duration": 5,
    "start_time": "2022-03-22T00:44:23.237Z"
   },
   {
    "duration": 7,
    "start_time": "2022-03-22T00:44:23.243Z"
   },
   {
    "duration": 57,
    "start_time": "2022-03-22T00:44:23.252Z"
   },
   {
    "duration": 14,
    "start_time": "2022-03-22T00:44:23.311Z"
   },
   {
    "duration": 4,
    "start_time": "2022-03-22T00:44:23.327Z"
   },
   {
    "duration": 32,
    "start_time": "2022-03-22T00:44:23.333Z"
   },
   {
    "duration": 50,
    "start_time": "2022-03-22T00:44:23.367Z"
   },
   {
    "duration": 445,
    "start_time": "2022-03-22T00:44:23.419Z"
   },
   {
    "duration": 107,
    "start_time": "2022-03-22T00:44:23.865Z"
   },
   {
    "duration": 1315,
    "start_time": "2022-03-22T00:44:23.974Z"
   },
   {
    "duration": 140,
    "start_time": "2022-03-22T00:44:25.291Z"
   },
   {
    "duration": 278,
    "start_time": "2022-03-22T00:44:25.435Z"
   },
   {
    "duration": 118,
    "start_time": "2022-03-22T00:44:25.715Z"
   },
   {
    "duration": 195,
    "start_time": "2022-03-22T00:44:25.835Z"
   },
   {
    "duration": 106,
    "start_time": "2022-03-22T00:44:26.032Z"
   },
   {
    "duration": 252,
    "start_time": "2022-03-22T00:44:26.139Z"
   },
   {
    "duration": 122,
    "start_time": "2022-03-22T00:44:26.393Z"
   },
   {
    "duration": 211,
    "start_time": "2022-03-22T00:44:26.516Z"
   },
   {
    "duration": 240,
    "start_time": "2022-03-22T00:44:26.729Z"
   },
   {
    "duration": 187,
    "start_time": "2022-03-22T00:44:26.971Z"
   },
   {
    "duration": 195,
    "start_time": "2022-03-22T00:44:27.160Z"
   },
   {
    "duration": 180,
    "start_time": "2022-03-22T00:44:27.356Z"
   },
   {
    "duration": 998,
    "start_time": "2022-03-22T00:44:27.537Z"
   },
   {
    "duration": 4,
    "start_time": "2022-03-22T00:44:28.537Z"
   },
   {
    "duration": 580,
    "start_time": "2022-03-22T00:44:28.542Z"
   },
   {
    "duration": 310,
    "start_time": "2022-03-22T00:44:29.124Z"
   },
   {
    "duration": 365,
    "start_time": "2022-03-22T00:44:29.436Z"
   },
   {
    "duration": 168,
    "start_time": "2022-03-22T00:44:29.802Z"
   },
   {
    "duration": 284,
    "start_time": "2022-03-22T00:44:29.972Z"
   },
   {
    "duration": 21,
    "start_time": "2022-03-22T00:44:30.258Z"
   },
   {
    "duration": 209,
    "start_time": "2022-03-22T00:44:30.281Z"
   },
   {
    "duration": 45,
    "start_time": "2022-03-22T00:44:30.492Z"
   },
   {
    "duration": 12,
    "start_time": "2022-03-22T00:44:30.539Z"
   },
   {
    "duration": 285,
    "start_time": "2022-03-22T00:44:30.552Z"
   },
   {
    "duration": 281,
    "start_time": "2022-03-22T00:44:30.839Z"
   },
   {
    "duration": 398,
    "start_time": "2022-03-22T00:44:31.122Z"
   },
   {
    "duration": 155,
    "start_time": "2022-03-22T00:44:31.521Z"
   },
   {
    "duration": 159,
    "start_time": "2022-03-22T00:44:31.678Z"
   },
   {
    "duration": 142,
    "start_time": "2022-03-22T00:44:31.841Z"
   },
   {
    "duration": 177,
    "start_time": "2022-03-22T00:45:44.470Z"
   },
   {
    "duration": 164,
    "start_time": "2022-03-22T00:45:55.215Z"
   },
   {
    "duration": 176,
    "start_time": "2022-03-22T00:46:19.382Z"
   },
   {
    "duration": 182,
    "start_time": "2022-03-22T00:46:26.982Z"
   },
   {
    "duration": 206,
    "start_time": "2022-03-22T00:46:49.197Z"
   },
   {
    "duration": 199,
    "start_time": "2022-03-22T00:47:08.041Z"
   },
   {
    "duration": 133,
    "start_time": "2022-03-22T00:47:37.399Z"
   },
   {
    "duration": 7,
    "start_time": "2022-03-22T00:47:37.534Z"
   },
   {
    "duration": 5,
    "start_time": "2022-03-22T00:47:37.543Z"
   },
   {
    "duration": 6,
    "start_time": "2022-03-22T00:47:37.550Z"
   },
   {
    "duration": 57,
    "start_time": "2022-03-22T00:47:37.558Z"
   },
   {
    "duration": 15,
    "start_time": "2022-03-22T00:47:37.617Z"
   },
   {
    "duration": 6,
    "start_time": "2022-03-22T00:47:37.633Z"
   },
   {
    "duration": 34,
    "start_time": "2022-03-22T00:47:37.641Z"
   },
   {
    "duration": 44,
    "start_time": "2022-03-22T00:47:37.677Z"
   },
   {
    "duration": 364,
    "start_time": "2022-03-22T00:47:37.724Z"
   },
   {
    "duration": 116,
    "start_time": "2022-03-22T00:47:38.090Z"
   },
   {
    "duration": 1406,
    "start_time": "2022-03-22T00:47:38.208Z"
   },
   {
    "duration": 121,
    "start_time": "2022-03-22T00:47:39.615Z"
   },
   {
    "duration": 317,
    "start_time": "2022-03-22T00:47:39.737Z"
   },
   {
    "duration": 171,
    "start_time": "2022-03-22T00:47:40.056Z"
   },
   {
    "duration": 184,
    "start_time": "2022-03-22T00:47:40.230Z"
   },
   {
    "duration": 105,
    "start_time": "2022-03-22T00:47:40.416Z"
   },
   {
    "duration": 248,
    "start_time": "2022-03-22T00:47:40.522Z"
   },
   {
    "duration": 146,
    "start_time": "2022-03-22T00:47:40.771Z"
   },
   {
    "duration": 687,
    "start_time": "2022-03-22T00:47:40.919Z"
   },
   {
    "duration": 820,
    "start_time": "2022-03-22T00:47:41.608Z"
   },
   {
    "duration": 404,
    "start_time": "2022-03-22T00:47:42.430Z"
   },
   {
    "duration": 496,
    "start_time": "2022-03-22T00:47:42.836Z"
   },
   {
    "duration": 229,
    "start_time": "2022-03-22T00:47:43.334Z"
   },
   {
    "duration": 749,
    "start_time": "2022-03-22T00:47:43.565Z"
   },
   {
    "duration": 3,
    "start_time": "2022-03-22T00:47:44.317Z"
   },
   {
    "duration": 264,
    "start_time": "2022-03-22T00:47:44.322Z"
   },
   {
    "duration": 161,
    "start_time": "2022-03-22T00:47:44.589Z"
   },
   {
    "duration": 263,
    "start_time": "2022-03-22T00:47:44.751Z"
   },
   {
    "duration": 157,
    "start_time": "2022-03-22T00:47:45.016Z"
   },
   {
    "duration": 245,
    "start_time": "2022-03-22T00:47:45.175Z"
   },
   {
    "duration": 19,
    "start_time": "2022-03-22T00:47:45.421Z"
   },
   {
    "duration": 210,
    "start_time": "2022-03-22T00:47:45.442Z"
   },
   {
    "duration": 36,
    "start_time": "2022-03-22T00:47:45.654Z"
   },
   {
    "duration": 5,
    "start_time": "2022-03-22T00:47:45.700Z"
   },
   {
    "duration": 248,
    "start_time": "2022-03-22T00:47:45.706Z"
   },
   {
    "duration": 262,
    "start_time": "2022-03-22T00:47:45.956Z"
   },
   {
    "duration": 374,
    "start_time": "2022-03-22T00:47:46.219Z"
   },
   {
    "duration": 139,
    "start_time": "2022-03-22T00:47:46.595Z"
   },
   {
    "duration": 156,
    "start_time": "2022-03-22T00:47:46.735Z"
   },
   {
    "duration": 136,
    "start_time": "2022-03-22T00:47:46.893Z"
   },
   {
    "duration": 209,
    "start_time": "2022-03-22T00:49:59.486Z"
   },
   {
    "duration": 38,
    "start_time": "2022-03-22T00:50:29.598Z"
   },
   {
    "duration": 25,
    "start_time": "2022-03-22T00:50:43.920Z"
   },
   {
    "duration": 5,
    "start_time": "2022-03-22T00:55:18.115Z"
   },
   {
    "duration": 119,
    "start_time": "2022-03-22T00:56:50.187Z"
   },
   {
    "duration": 7,
    "start_time": "2022-03-22T00:56:50.308Z"
   },
   {
    "duration": 10,
    "start_time": "2022-03-22T00:56:50.316Z"
   },
   {
    "duration": 6,
    "start_time": "2022-03-22T00:56:50.328Z"
   },
   {
    "duration": 26,
    "start_time": "2022-03-22T00:56:50.335Z"
   },
   {
    "duration": 43,
    "start_time": "2022-03-22T00:56:50.363Z"
   },
   {
    "duration": 4,
    "start_time": "2022-03-22T00:56:50.407Z"
   },
   {
    "duration": 31,
    "start_time": "2022-03-22T00:56:50.413Z"
   },
   {
    "duration": 20,
    "start_time": "2022-03-22T00:56:50.446Z"
   },
   {
    "duration": 361,
    "start_time": "2022-03-22T00:56:50.468Z"
   },
   {
    "duration": 109,
    "start_time": "2022-03-22T00:56:50.830Z"
   },
   {
    "duration": 4271,
    "start_time": "2022-03-22T00:56:50.940Z"
   },
   {
    "duration": 222,
    "start_time": "2022-03-22T00:56:55.212Z"
   },
   {
    "duration": 507,
    "start_time": "2022-03-22T00:56:55.436Z"
   },
   {
    "duration": 210,
    "start_time": "2022-03-22T00:56:55.945Z"
   },
   {
    "duration": 182,
    "start_time": "2022-03-22T00:56:56.157Z"
   },
   {
    "duration": 104,
    "start_time": "2022-03-22T00:56:56.340Z"
   },
   {
    "duration": 237,
    "start_time": "2022-03-22T00:56:56.445Z"
   },
   {
    "duration": 117,
    "start_time": "2022-03-22T00:56:56.684Z"
   },
   {
    "duration": 212,
    "start_time": "2022-03-22T00:56:56.802Z"
   },
   {
    "duration": 242,
    "start_time": "2022-03-22T00:56:57.015Z"
   },
   {
    "duration": 129,
    "start_time": "2022-03-22T00:56:57.259Z"
   },
   {
    "duration": 155,
    "start_time": "2022-03-22T00:56:57.389Z"
   },
   {
    "duration": 125,
    "start_time": "2022-03-22T00:56:57.546Z"
   },
   {
    "duration": 759,
    "start_time": "2022-03-22T00:56:57.672Z"
   },
   {
    "duration": 3,
    "start_time": "2022-03-22T00:56:58.433Z"
   },
   {
    "duration": 258,
    "start_time": "2022-03-22T00:56:58.438Z"
   },
   {
    "duration": 150,
    "start_time": "2022-03-22T00:56:58.700Z"
   },
   {
    "duration": 258,
    "start_time": "2022-03-22T00:56:58.851Z"
   },
   {
    "duration": 166,
    "start_time": "2022-03-22T00:56:59.111Z"
   },
   {
    "duration": 264,
    "start_time": "2022-03-22T00:56:59.279Z"
   },
   {
    "duration": 21,
    "start_time": "2022-03-22T00:56:59.544Z"
   },
   {
    "duration": 229,
    "start_time": "2022-03-22T00:56:59.567Z"
   },
   {
    "duration": 27,
    "start_time": "2022-03-22T00:56:59.798Z"
   },
   {
    "duration": 277,
    "start_time": "2022-03-22T00:56:59.827Z"
   },
   {
    "duration": 288,
    "start_time": "2022-03-22T00:57:00.106Z"
   },
   {
    "duration": 401,
    "start_time": "2022-03-22T00:57:00.396Z"
   },
   {
    "duration": 161,
    "start_time": "2022-03-22T00:57:00.801Z"
   },
   {
    "duration": 157,
    "start_time": "2022-03-22T00:57:00.964Z"
   },
   {
    "duration": 4,
    "start_time": "2022-03-22T00:57:01.123Z"
   },
   {
    "duration": 154,
    "start_time": "2022-03-22T00:57:01.129Z"
   },
   {
    "duration": 1308,
    "start_time": "2022-03-22T01:00:04.205Z"
   },
   {
    "duration": 1266,
    "start_time": "2022-03-22T01:00:06.863Z"
   },
   {
    "duration": 111,
    "start_time": "2022-03-22T01:00:44.791Z"
   },
   {
    "duration": 6,
    "start_time": "2022-03-22T01:00:44.904Z"
   },
   {
    "duration": 5,
    "start_time": "2022-03-22T01:00:44.911Z"
   },
   {
    "duration": 6,
    "start_time": "2022-03-22T01:00:44.917Z"
   },
   {
    "duration": 29,
    "start_time": "2022-03-22T01:00:44.925Z"
   },
   {
    "duration": 14,
    "start_time": "2022-03-22T01:00:44.955Z"
   },
   {
    "duration": 5,
    "start_time": "2022-03-22T01:00:44.970Z"
   },
   {
    "duration": 44,
    "start_time": "2022-03-22T01:00:44.977Z"
   },
   {
    "duration": 22,
    "start_time": "2022-03-22T01:00:45.022Z"
   },
   {
    "duration": 349,
    "start_time": "2022-03-22T01:00:45.045Z"
   },
   {
    "duration": 110,
    "start_time": "2022-03-22T01:00:45.396Z"
   },
   {
    "duration": 1807,
    "start_time": "2022-03-22T01:00:45.508Z"
   },
   {
    "duration": 218,
    "start_time": "2022-03-22T01:00:47.317Z"
   },
   {
    "duration": 447,
    "start_time": "2022-03-22T01:00:47.538Z"
   },
   {
    "duration": 120,
    "start_time": "2022-03-22T01:00:47.987Z"
   },
   {
    "duration": 169,
    "start_time": "2022-03-22T01:00:48.109Z"
   },
   {
    "duration": 122,
    "start_time": "2022-03-22T01:00:48.280Z"
   },
   {
    "duration": 261,
    "start_time": "2022-03-22T01:00:48.404Z"
   },
   {
    "duration": 139,
    "start_time": "2022-03-22T01:00:48.667Z"
   },
   {
    "duration": 210,
    "start_time": "2022-03-22T01:00:48.807Z"
   },
   {
    "duration": 242,
    "start_time": "2022-03-22T01:00:49.019Z"
   },
   {
    "duration": 129,
    "start_time": "2022-03-22T01:00:49.262Z"
   },
   {
    "duration": 148,
    "start_time": "2022-03-22T01:00:49.400Z"
   },
   {
    "duration": 125,
    "start_time": "2022-03-22T01:00:49.550Z"
   },
   {
    "duration": 751,
    "start_time": "2022-03-22T01:00:49.676Z"
   },
   {
    "duration": 3,
    "start_time": "2022-03-22T01:00:50.429Z"
   },
   {
    "duration": 267,
    "start_time": "2022-03-22T01:00:50.434Z"
   },
   {
    "duration": 154,
    "start_time": "2022-03-22T01:00:50.703Z"
   },
   {
    "duration": 270,
    "start_time": "2022-03-22T01:00:50.859Z"
   },
   {
    "duration": 158,
    "start_time": "2022-03-22T01:00:51.131Z"
   },
   {
    "duration": 271,
    "start_time": "2022-03-22T01:00:51.291Z"
   },
   {
    "duration": 21,
    "start_time": "2022-03-22T01:00:51.564Z"
   },
   {
    "duration": 211,
    "start_time": "2022-03-22T01:00:51.600Z"
   },
   {
    "duration": 26,
    "start_time": "2022-03-22T01:00:51.813Z"
   },
   {
    "duration": 1238,
    "start_time": "2022-03-22T01:00:51.840Z"
   },
   {
    "duration": 1239,
    "start_time": "2022-03-22T01:00:53.079Z"
   },
   {
    "duration": 3432,
    "start_time": "2022-03-22T01:00:54.319Z"
   },
   {
    "duration": 1239,
    "start_time": "2022-03-22T01:00:57.753Z"
   },
   {
    "duration": 252,
    "start_time": "2022-03-22T01:00:58.994Z"
   },
   {
    "duration": 263,
    "start_time": "2022-03-22T01:00:59.248Z"
   },
   {
    "duration": 380,
    "start_time": "2022-03-22T01:00:59.515Z"
   },
   {
    "duration": 143,
    "start_time": "2022-03-22T01:00:59.900Z"
   },
   {
    "duration": 158,
    "start_time": "2022-03-22T01:01:00.045Z"
   },
   {
    "duration": 148,
    "start_time": "2022-03-22T01:01:00.204Z"
   },
   {
    "duration": 144,
    "start_time": "2022-03-22T01:01:18.059Z"
   },
   {
    "duration": 242,
    "start_time": "2022-03-22T01:01:35.219Z"
   },
   {
    "duration": 249,
    "start_time": "2022-03-22T01:02:18.974Z"
   },
   {
    "duration": 145,
    "start_time": "2022-03-22T01:02:27.006Z"
   },
   {
    "duration": 126,
    "start_time": "2022-03-22T01:02:32.904Z"
   },
   {
    "duration": 144,
    "start_time": "2022-03-22T01:07:42.576Z"
   },
   {
    "duration": 133,
    "start_time": "2022-03-22T01:07:53.628Z"
   },
   {
    "duration": 139,
    "start_time": "2022-03-22T01:08:19.581Z"
   },
   {
    "duration": 143,
    "start_time": "2022-03-22T01:08:23.517Z"
   },
   {
    "duration": 181,
    "start_time": "2022-03-22T01:09:52.290Z"
   },
   {
    "duration": 235,
    "start_time": "2022-03-22T01:09:57.715Z"
   },
   {
    "duration": 145,
    "start_time": "2022-03-22T01:10:09.977Z"
   },
   {
    "duration": 122,
    "start_time": "2022-03-22T01:11:09.148Z"
   },
   {
    "duration": 116,
    "start_time": "2022-03-22T01:13:16.355Z"
   },
   {
    "duration": 6,
    "start_time": "2022-03-22T01:13:16.472Z"
   },
   {
    "duration": 6,
    "start_time": "2022-03-22T01:13:16.479Z"
   },
   {
    "duration": 7,
    "start_time": "2022-03-22T01:13:16.500Z"
   },
   {
    "duration": 28,
    "start_time": "2022-03-22T01:13:16.509Z"
   },
   {
    "duration": 12,
    "start_time": "2022-03-22T01:13:16.540Z"
   },
   {
    "duration": 4,
    "start_time": "2022-03-22T01:13:16.553Z"
   },
   {
    "duration": 56,
    "start_time": "2022-03-22T01:13:16.559Z"
   },
   {
    "duration": 21,
    "start_time": "2022-03-22T01:13:16.617Z"
   },
   {
    "duration": 352,
    "start_time": "2022-03-22T01:13:16.640Z"
   },
   {
    "duration": 108,
    "start_time": "2022-03-22T01:13:16.993Z"
   },
   {
    "duration": 1311,
    "start_time": "2022-03-22T01:13:17.102Z"
   },
   {
    "duration": 125,
    "start_time": "2022-03-22T01:13:18.415Z"
   },
   {
    "duration": 273,
    "start_time": "2022-03-22T01:13:18.542Z"
   },
   {
    "duration": 121,
    "start_time": "2022-03-22T01:13:18.817Z"
   },
   {
    "duration": 166,
    "start_time": "2022-03-22T01:13:18.940Z"
   },
   {
    "duration": 113,
    "start_time": "2022-03-22T01:13:19.107Z"
   },
   {
    "duration": 260,
    "start_time": "2022-03-22T01:13:19.222Z"
   },
   {
    "duration": 119,
    "start_time": "2022-03-22T01:13:19.484Z"
   },
   {
    "duration": 223,
    "start_time": "2022-03-22T01:13:19.604Z"
   },
   {
    "duration": 255,
    "start_time": "2022-03-22T01:13:19.829Z"
   },
   {
    "duration": 143,
    "start_time": "2022-03-22T01:13:20.086Z"
   },
   {
    "duration": 161,
    "start_time": "2022-03-22T01:13:20.231Z"
   },
   {
    "duration": 141,
    "start_time": "2022-03-22T01:13:20.400Z"
   },
   {
    "duration": 794,
    "start_time": "2022-03-22T01:13:20.542Z"
   },
   {
    "duration": 3,
    "start_time": "2022-03-22T01:13:21.338Z"
   },
   {
    "duration": 275,
    "start_time": "2022-03-22T01:13:21.343Z"
   },
   {
    "duration": 154,
    "start_time": "2022-03-22T01:13:21.619Z"
   },
   {
    "duration": 259,
    "start_time": "2022-03-22T01:13:21.774Z"
   },
   {
    "duration": 167,
    "start_time": "2022-03-22T01:13:22.034Z"
   },
   {
    "duration": 265,
    "start_time": "2022-03-22T01:13:22.202Z"
   },
   {
    "duration": 34,
    "start_time": "2022-03-22T01:13:22.468Z"
   },
   {
    "duration": 211,
    "start_time": "2022-03-22T01:13:22.504Z"
   },
   {
    "duration": 27,
    "start_time": "2022-03-22T01:13:22.717Z"
   },
   {
    "duration": 264,
    "start_time": "2022-03-22T01:13:22.745Z"
   },
   {
    "duration": 252,
    "start_time": "2022-03-22T01:13:23.011Z"
   },
   {
    "duration": 153,
    "start_time": "2022-03-22T01:13:23.265Z"
   },
   {
    "duration": 138,
    "start_time": "2022-03-22T01:13:23.421Z"
   },
   {
    "duration": 267,
    "start_time": "2022-03-22T01:13:23.562Z"
   },
   {
    "duration": 161,
    "start_time": "2022-03-22T01:13:23.831Z"
   },
   {
    "duration": 396,
    "start_time": "2022-03-22T01:13:23.994Z"
   },
   {
    "duration": 167,
    "start_time": "2022-03-22T01:13:24.392Z"
   },
   {
    "duration": 155,
    "start_time": "2022-03-22T01:13:24.561Z"
   },
   {
    "duration": 156,
    "start_time": "2022-03-22T01:13:24.718Z"
   },
   {
    "duration": 143,
    "start_time": "2022-03-22T01:14:10.940Z"
   },
   {
    "duration": 155,
    "start_time": "2022-03-22T01:14:27.193Z"
   },
   {
    "duration": 254,
    "start_time": "2022-03-22T01:14:37.051Z"
   },
   {
    "duration": 148,
    "start_time": "2022-03-22T01:14:46.516Z"
   },
   {
    "duration": 151,
    "start_time": "2022-03-22T01:14:51.370Z"
   },
   {
    "duration": 151,
    "start_time": "2022-03-22T01:16:15.490Z"
   },
   {
    "duration": 157,
    "start_time": "2022-03-22T01:16:25.240Z"
   },
   {
    "duration": 165,
    "start_time": "2022-03-22T01:16:33.646Z"
   },
   {
    "duration": 109,
    "start_time": "2022-03-22T01:16:58.672Z"
   },
   {
    "duration": 19,
    "start_time": "2022-03-22T01:16:58.782Z"
   },
   {
    "duration": 4,
    "start_time": "2022-03-22T01:16:58.802Z"
   },
   {
    "duration": 6,
    "start_time": "2022-03-22T01:16:58.808Z"
   },
   {
    "duration": 26,
    "start_time": "2022-03-22T01:16:58.815Z"
   },
   {
    "duration": 13,
    "start_time": "2022-03-22T01:16:58.842Z"
   },
   {
    "duration": 4,
    "start_time": "2022-03-22T01:16:58.856Z"
   },
   {
    "duration": 66,
    "start_time": "2022-03-22T01:16:58.861Z"
   },
   {
    "duration": 20,
    "start_time": "2022-03-22T01:16:58.928Z"
   },
   {
    "duration": 345,
    "start_time": "2022-03-22T01:16:58.949Z"
   },
   {
    "duration": 102,
    "start_time": "2022-03-22T01:16:59.300Z"
   },
   {
    "duration": 5161,
    "start_time": "2022-03-22T01:16:59.404Z"
   },
   {
    "duration": 155,
    "start_time": "2022-03-22T01:17:04.567Z"
   },
   {
    "duration": 291,
    "start_time": "2022-03-22T01:17:04.725Z"
   },
   {
    "duration": 114,
    "start_time": "2022-03-22T01:17:05.018Z"
   },
   {
    "duration": 152,
    "start_time": "2022-03-22T01:17:05.134Z"
   },
   {
    "duration": 115,
    "start_time": "2022-03-22T01:17:05.288Z"
   },
   {
    "duration": 243,
    "start_time": "2022-03-22T01:17:05.404Z"
   },
   {
    "duration": 123,
    "start_time": "2022-03-22T01:17:05.649Z"
   },
   {
    "duration": 316,
    "start_time": "2022-03-22T01:17:05.774Z"
   },
   {
    "duration": 240,
    "start_time": "2022-03-22T01:17:06.092Z"
   },
   {
    "duration": 139,
    "start_time": "2022-03-22T01:17:06.334Z"
   },
   {
    "duration": 163,
    "start_time": "2022-03-22T01:17:06.475Z"
   },
   {
    "duration": 208,
    "start_time": "2022-03-22T01:17:06.640Z"
   },
   {
    "duration": 772,
    "start_time": "2022-03-22T01:17:06.850Z"
   },
   {
    "duration": 3,
    "start_time": "2022-03-22T01:17:07.624Z"
   },
   {
    "duration": 313,
    "start_time": "2022-03-22T01:17:07.629Z"
   },
   {
    "duration": 279,
    "start_time": "2022-03-22T01:17:07.945Z"
   },
   {
    "duration": 385,
    "start_time": "2022-03-22T01:17:08.226Z"
   },
   {
    "duration": 233,
    "start_time": "2022-03-22T01:17:08.613Z"
   },
   {
    "duration": 555,
    "start_time": "2022-03-22T01:17:08.848Z"
   },
   {
    "duration": 20,
    "start_time": "2022-03-22T01:17:09.405Z"
   },
   {
    "duration": 380,
    "start_time": "2022-03-22T01:17:09.426Z"
   },
   {
    "duration": 26,
    "start_time": "2022-03-22T01:17:09.807Z"
   },
   {
    "duration": 239,
    "start_time": "2022-03-22T01:17:09.834Z"
   },
   {
    "duration": 250,
    "start_time": "2022-03-22T01:17:10.074Z"
   },
   {
    "duration": 137,
    "start_time": "2022-03-22T01:17:10.326Z"
   },
   {
    "duration": 139,
    "start_time": "2022-03-22T01:17:10.465Z"
   },
   {
    "duration": 245,
    "start_time": "2022-03-22T01:17:10.606Z"
   },
   {
    "duration": 137,
    "start_time": "2022-03-22T01:17:10.853Z"
   },
   {
    "duration": 147,
    "start_time": "2022-03-22T01:17:10.994Z"
   },
   {
    "duration": 140,
    "start_time": "2022-03-22T01:17:11.143Z"
   },
   {
    "duration": 148,
    "start_time": "2022-03-22T01:17:11.284Z"
   },
   {
    "duration": 144,
    "start_time": "2022-03-22T01:17:11.433Z"
   },
   {
    "duration": 154,
    "start_time": "2022-03-22T01:17:24.001Z"
   },
   {
    "duration": 274,
    "start_time": "2022-03-22T01:18:35.588Z"
   },
   {
    "duration": 144,
    "start_time": "2022-03-22T01:18:39.889Z"
   },
   {
    "duration": 129,
    "start_time": "2022-03-22T01:34:02.174Z"
   },
   {
    "duration": 569,
    "start_time": "2022-04-01T22:54:44.905Z"
   },
   {
    "duration": 7,
    "start_time": "2022-04-01T22:54:45.477Z"
   },
   {
    "duration": 19,
    "start_time": "2022-04-01T22:54:45.486Z"
   },
   {
    "duration": 10,
    "start_time": "2022-04-01T22:54:45.508Z"
   },
   {
    "duration": 33,
    "start_time": "2022-04-01T22:54:45.519Z"
   },
   {
    "duration": 48,
    "start_time": "2022-04-01T22:54:45.554Z"
   },
   {
    "duration": 5,
    "start_time": "2022-04-01T22:54:45.604Z"
   },
   {
    "duration": 36,
    "start_time": "2022-04-01T22:54:45.611Z"
   },
   {
    "duration": 24,
    "start_time": "2022-04-01T22:54:45.648Z"
   },
   {
    "duration": 462,
    "start_time": "2022-04-01T22:54:45.675Z"
   },
   {
    "duration": 523,
    "start_time": "2022-04-01T22:54:46.139Z"
   },
   {
    "duration": 1462,
    "start_time": "2022-04-01T22:54:46.664Z"
   },
   {
    "duration": 135,
    "start_time": "2022-04-01T22:54:48.128Z"
   },
   {
    "duration": 296,
    "start_time": "2022-04-01T22:54:48.265Z"
   },
   {
    "duration": 129,
    "start_time": "2022-04-01T22:54:48.562Z"
   },
   {
    "duration": 174,
    "start_time": "2022-04-01T22:54:48.701Z"
   },
   {
    "duration": 116,
    "start_time": "2022-04-01T22:54:48.877Z"
   },
   {
    "duration": 271,
    "start_time": "2022-04-01T22:54:49.000Z"
   },
   {
    "duration": 138,
    "start_time": "2022-04-01T22:54:49.272Z"
   },
   {
    "duration": 328,
    "start_time": "2022-04-01T22:54:49.412Z"
   },
   {
    "duration": 273,
    "start_time": "2022-04-01T22:54:49.742Z"
   },
   {
    "duration": 157,
    "start_time": "2022-04-01T22:54:50.018Z"
   },
   {
    "duration": 180,
    "start_time": "2022-04-01T22:54:50.178Z"
   },
   {
    "duration": 154,
    "start_time": "2022-04-01T22:54:50.361Z"
   },
   {
    "duration": 906,
    "start_time": "2022-04-01T22:54:50.518Z"
   },
   {
    "duration": 4,
    "start_time": "2022-04-01T22:54:51.426Z"
   },
   {
    "duration": 287,
    "start_time": "2022-04-01T22:54:51.432Z"
   },
   {
    "duration": 171,
    "start_time": "2022-04-01T22:54:51.724Z"
   },
   {
    "duration": 279,
    "start_time": "2022-04-01T22:54:51.897Z"
   },
   {
    "duration": 175,
    "start_time": "2022-04-01T22:54:52.179Z"
   },
   {
    "duration": 420,
    "start_time": "2022-04-01T22:54:52.357Z"
   },
   {
    "duration": 34,
    "start_time": "2022-04-01T22:54:52.779Z"
   },
   {
    "duration": 252,
    "start_time": "2022-04-01T22:54:52.815Z"
   },
   {
    "duration": 42,
    "start_time": "2022-04-01T22:54:53.070Z"
   },
   {
    "duration": 261,
    "start_time": "2022-04-01T22:54:53.115Z"
   },
   {
    "duration": 280,
    "start_time": "2022-04-01T22:54:53.378Z"
   },
   {
    "duration": 159,
    "start_time": "2022-04-01T22:54:53.661Z"
   },
   {
    "duration": 158,
    "start_time": "2022-04-01T22:54:53.822Z"
   },
   {
    "duration": 285,
    "start_time": "2022-04-01T22:54:53.982Z"
   },
   {
    "duration": 162,
    "start_time": "2022-04-01T22:54:54.269Z"
   },
   {
    "duration": 162,
    "start_time": "2022-04-01T22:54:54.433Z"
   },
   {
    "duration": 156,
    "start_time": "2022-04-01T22:54:54.600Z"
   },
   {
    "duration": 181,
    "start_time": "2022-04-01T22:54:54.758Z"
   },
   {
    "duration": 177,
    "start_time": "2022-04-01T22:54:54.942Z"
   },
   {
    "duration": 6,
    "start_time": "2022-04-01T23:43:05.034Z"
   },
   {
    "duration": 9,
    "start_time": "2022-04-01T23:43:14.971Z"
   },
   {
    "duration": 139,
    "start_time": "2022-04-01T23:43:42.291Z"
   },
   {
    "duration": 9,
    "start_time": "2022-04-01T23:43:42.432Z"
   },
   {
    "duration": 6,
    "start_time": "2022-04-01T23:43:42.442Z"
   },
   {
    "duration": 20,
    "start_time": "2022-04-01T23:43:42.450Z"
   },
   {
    "duration": 52,
    "start_time": "2022-04-01T23:43:42.473Z"
   },
   {
    "duration": 15,
    "start_time": "2022-04-01T23:43:42.526Z"
   },
   {
    "duration": 8,
    "start_time": "2022-04-01T23:43:42.542Z"
   },
   {
    "duration": 51,
    "start_time": "2022-04-01T23:43:42.552Z"
   },
   {
    "duration": 24,
    "start_time": "2022-04-01T23:43:42.605Z"
   },
   {
    "duration": 564,
    "start_time": "2022-04-01T23:43:42.631Z"
   },
   {
    "duration": 125,
    "start_time": "2022-04-01T23:43:43.201Z"
   },
   {
    "duration": 1518,
    "start_time": "2022-04-01T23:43:43.327Z"
   },
   {
    "duration": 138,
    "start_time": "2022-04-01T23:43:44.846Z"
   },
   {
    "duration": 312,
    "start_time": "2022-04-01T23:43:44.987Z"
   },
   {
    "duration": 132,
    "start_time": "2022-04-01T23:43:45.301Z"
   },
   {
    "duration": 169,
    "start_time": "2022-04-01T23:43:45.434Z"
   },
   {
    "duration": 120,
    "start_time": "2022-04-01T23:43:45.604Z"
   },
   {
    "duration": 287,
    "start_time": "2022-04-01T23:43:45.725Z"
   },
   {
    "duration": 149,
    "start_time": "2022-04-01T23:43:46.014Z"
   },
   {
    "duration": 239,
    "start_time": "2022-04-01T23:43:46.165Z"
   },
   {
    "duration": 11,
    "start_time": "2022-04-01T23:43:46.406Z"
   },
   {
    "duration": 273,
    "start_time": "2022-04-01T23:43:46.419Z"
   },
   {
    "duration": 159,
    "start_time": "2022-04-01T23:43:46.694Z"
   },
   {
    "duration": 181,
    "start_time": "2022-04-01T23:43:46.854Z"
   },
   {
    "duration": 149,
    "start_time": "2022-04-01T23:43:47.037Z"
   },
   {
    "duration": 1021,
    "start_time": "2022-04-01T23:43:47.187Z"
   },
   {
    "duration": 4,
    "start_time": "2022-04-01T23:43:48.210Z"
   },
   {
    "duration": 278,
    "start_time": "2022-04-01T23:43:48.215Z"
   },
   {
    "duration": 170,
    "start_time": "2022-04-01T23:43:48.495Z"
   },
   {
    "duration": 283,
    "start_time": "2022-04-01T23:43:48.667Z"
   },
   {
    "duration": 171,
    "start_time": "2022-04-01T23:43:48.952Z"
   },
   {
    "duration": 294,
    "start_time": "2022-04-01T23:43:49.125Z"
   },
   {
    "duration": 22,
    "start_time": "2022-04-01T23:43:49.421Z"
   },
   {
    "duration": 241,
    "start_time": "2022-04-01T23:43:49.445Z"
   },
   {
    "duration": 38,
    "start_time": "2022-04-01T23:43:49.688Z"
   },
   {
    "duration": 262,
    "start_time": "2022-04-01T23:43:49.728Z"
   },
   {
    "duration": 278,
    "start_time": "2022-04-01T23:43:49.992Z"
   },
   {
    "duration": 154,
    "start_time": "2022-04-01T23:43:50.272Z"
   },
   {
    "duration": 160,
    "start_time": "2022-04-01T23:43:50.428Z"
   },
   {
    "duration": 549,
    "start_time": "2022-04-01T23:43:50.590Z"
   },
   {
    "duration": 150,
    "start_time": "2022-04-01T23:43:51.144Z"
   },
   {
    "duration": 164,
    "start_time": "2022-04-01T23:43:51.301Z"
   },
   {
    "duration": 153,
    "start_time": "2022-04-01T23:43:51.467Z"
   },
   {
    "duration": 170,
    "start_time": "2022-04-01T23:43:51.622Z"
   },
   {
    "duration": 172,
    "start_time": "2022-04-01T23:43:51.794Z"
   },
   {
    "duration": 7,
    "start_time": "2022-04-01T23:49:52.972Z"
   },
   {
    "duration": 11,
    "start_time": "2022-04-01T23:50:08.056Z"
   },
   {
    "duration": 124,
    "start_time": "2022-04-01T23:50:17.300Z"
   },
   {
    "duration": 8,
    "start_time": "2022-04-01T23:50:17.426Z"
   },
   {
    "duration": 8,
    "start_time": "2022-04-01T23:50:17.436Z"
   },
   {
    "duration": 8,
    "start_time": "2022-04-01T23:50:17.446Z"
   },
   {
    "duration": 71,
    "start_time": "2022-04-01T23:50:17.456Z"
   },
   {
    "duration": 15,
    "start_time": "2022-04-01T23:50:17.529Z"
   },
   {
    "duration": 5,
    "start_time": "2022-04-01T23:50:17.546Z"
   },
   {
    "duration": 62,
    "start_time": "2022-04-01T23:50:17.553Z"
   },
   {
    "duration": 25,
    "start_time": "2022-04-01T23:50:17.617Z"
   },
   {
    "duration": 392,
    "start_time": "2022-04-01T23:50:17.644Z"
   },
   {
    "duration": 123,
    "start_time": "2022-04-01T23:50:18.037Z"
   },
   {
    "duration": 1327,
    "start_time": "2022-04-01T23:50:18.161Z"
   },
   {
    "duration": 461,
    "start_time": "2022-04-01T23:50:19.490Z"
   },
   {
    "duration": 292,
    "start_time": "2022-04-01T23:50:19.955Z"
   },
   {
    "duration": 125,
    "start_time": "2022-04-01T23:50:20.249Z"
   },
   {
    "duration": 180,
    "start_time": "2022-04-01T23:50:20.376Z"
   },
   {
    "duration": 113,
    "start_time": "2022-04-01T23:50:20.558Z"
   },
   {
    "duration": 268,
    "start_time": "2022-04-01T23:50:20.673Z"
   },
   {
    "duration": 131,
    "start_time": "2022-04-01T23:50:20.943Z"
   },
   {
    "duration": 231,
    "start_time": "2022-04-01T23:50:21.076Z"
   },
   {
    "duration": 21,
    "start_time": "2022-04-01T23:50:21.309Z"
   },
   {
    "duration": 280,
    "start_time": "2022-04-01T23:50:21.332Z"
   },
   {
    "duration": 158,
    "start_time": "2022-04-01T23:50:21.614Z"
   },
   {
    "duration": 180,
    "start_time": "2022-04-01T23:50:21.774Z"
   },
   {
    "duration": 161,
    "start_time": "2022-04-01T23:50:21.956Z"
   },
   {
    "duration": 807,
    "start_time": "2022-04-01T23:50:22.119Z"
   },
   {
    "duration": 4,
    "start_time": "2022-04-01T23:50:22.928Z"
   },
   {
    "duration": 291,
    "start_time": "2022-04-01T23:50:22.934Z"
   },
   {
    "duration": 176,
    "start_time": "2022-04-01T23:50:23.227Z"
   },
   {
    "duration": 289,
    "start_time": "2022-04-01T23:50:23.405Z"
   },
   {
    "duration": 172,
    "start_time": "2022-04-01T23:50:23.696Z"
   },
   {
    "duration": 290,
    "start_time": "2022-04-01T23:50:23.871Z"
   },
   {
    "duration": 24,
    "start_time": "2022-04-01T23:50:24.164Z"
   },
   {
    "duration": 613,
    "start_time": "2022-04-01T23:50:24.202Z"
   },
   {
    "duration": 32,
    "start_time": "2022-04-01T23:50:24.818Z"
   },
   {
    "duration": 272,
    "start_time": "2022-04-01T23:50:24.852Z"
   },
   {
    "duration": 275,
    "start_time": "2022-04-01T23:50:25.126Z"
   },
   {
    "duration": 147,
    "start_time": "2022-04-01T23:50:25.403Z"
   },
   {
    "duration": 165,
    "start_time": "2022-04-01T23:50:25.552Z"
   },
   {
    "duration": 269,
    "start_time": "2022-04-01T23:50:25.720Z"
   },
   {
    "duration": 150,
    "start_time": "2022-04-01T23:50:26.003Z"
   },
   {
    "duration": 162,
    "start_time": "2022-04-01T23:50:26.155Z"
   },
   {
    "duration": 154,
    "start_time": "2022-04-01T23:50:26.319Z"
   },
   {
    "duration": 176,
    "start_time": "2022-04-01T23:50:26.475Z"
   },
   {
    "duration": 171,
    "start_time": "2022-04-01T23:50:26.653Z"
   },
   {
    "duration": 7,
    "start_time": "2022-04-01T23:51:17.701Z"
   },
   {
    "duration": 155,
    "start_time": "2022-04-01T23:51:21.707Z"
   },
   {
    "duration": 8,
    "start_time": "2022-04-01T23:51:21.865Z"
   },
   {
    "duration": 6,
    "start_time": "2022-04-01T23:51:21.875Z"
   },
   {
    "duration": 10,
    "start_time": "2022-04-01T23:51:21.902Z"
   },
   {
    "duration": 33,
    "start_time": "2022-04-01T23:51:21.914Z"
   },
   {
    "duration": 15,
    "start_time": "2022-04-01T23:51:21.949Z"
   },
   {
    "duration": 35,
    "start_time": "2022-04-01T23:51:21.966Z"
   },
   {
    "duration": 38,
    "start_time": "2022-04-01T23:51:22.003Z"
   },
   {
    "duration": 25,
    "start_time": "2022-04-01T23:51:22.043Z"
   },
   {
    "duration": 403,
    "start_time": "2022-04-01T23:51:22.070Z"
   },
   {
    "duration": 126,
    "start_time": "2022-04-01T23:51:22.475Z"
   },
   {
    "duration": 1351,
    "start_time": "2022-04-01T23:51:22.603Z"
   },
   {
    "duration": 586,
    "start_time": "2022-04-01T23:51:23.957Z"
   },
   {
    "duration": 296,
    "start_time": "2022-04-01T23:51:24.548Z"
   },
   {
    "duration": 132,
    "start_time": "2022-04-01T23:51:24.847Z"
   },
   {
    "duration": 188,
    "start_time": "2022-04-01T23:51:24.982Z"
   },
   {
    "duration": 131,
    "start_time": "2022-04-01T23:51:25.173Z"
   },
   {
    "duration": 266,
    "start_time": "2022-04-01T23:51:25.306Z"
   },
   {
    "duration": 151,
    "start_time": "2022-04-01T23:51:25.575Z"
   },
   {
    "duration": 227,
    "start_time": "2022-04-01T23:51:25.729Z"
   },
   {
    "duration": 10,
    "start_time": "2022-04-01T23:51:25.957Z"
   },
   {
    "duration": 262,
    "start_time": "2022-04-01T23:51:25.969Z"
   },
   {
    "duration": 153,
    "start_time": "2022-04-01T23:51:26.233Z"
   },
   {
    "duration": 173,
    "start_time": "2022-04-01T23:51:26.388Z"
   },
   {
    "duration": 157,
    "start_time": "2022-04-01T23:51:26.563Z"
   },
   {
    "duration": 852,
    "start_time": "2022-04-01T23:51:26.722Z"
   },
   {
    "duration": 4,
    "start_time": "2022-04-01T23:51:27.575Z"
   },
   {
    "duration": 284,
    "start_time": "2022-04-01T23:51:27.581Z"
   },
   {
    "duration": 170,
    "start_time": "2022-04-01T23:51:27.867Z"
   },
   {
    "duration": 359,
    "start_time": "2022-04-01T23:51:28.040Z"
   },
   {
    "duration": 169,
    "start_time": "2022-04-01T23:51:28.402Z"
   },
   {
    "duration": 283,
    "start_time": "2022-04-01T23:51:28.573Z"
   },
   {
    "duration": 23,
    "start_time": "2022-04-01T23:51:28.858Z"
   },
   {
    "duration": 463,
    "start_time": "2022-04-01T23:51:28.883Z"
   },
   {
    "duration": 53,
    "start_time": "2022-04-01T23:51:29.348Z"
   },
   {
    "duration": 408,
    "start_time": "2022-04-01T23:51:29.403Z"
   },
   {
    "duration": 278,
    "start_time": "2022-04-01T23:51:29.813Z"
   },
   {
    "duration": 159,
    "start_time": "2022-04-01T23:51:30.093Z"
   },
   {
    "duration": 175,
    "start_time": "2022-04-01T23:51:30.253Z"
   },
   {
    "duration": 280,
    "start_time": "2022-04-01T23:51:30.430Z"
   },
   {
    "duration": 158,
    "start_time": "2022-04-01T23:51:30.715Z"
   },
   {
    "duration": 162,
    "start_time": "2022-04-01T23:51:30.875Z"
   },
   {
    "duration": 162,
    "start_time": "2022-04-01T23:51:31.039Z"
   },
   {
    "duration": 177,
    "start_time": "2022-04-01T23:51:31.203Z"
   },
   {
    "duration": 177,
    "start_time": "2022-04-01T23:51:31.382Z"
   },
   {
    "duration": 76,
    "start_time": "2022-04-01T23:52:19.545Z"
   },
   {
    "duration": 11,
    "start_time": "2022-04-01T23:52:29.383Z"
   },
   {
    "duration": 139,
    "start_time": "2022-04-01T23:52:42.607Z"
   },
   {
    "duration": 9,
    "start_time": "2022-04-01T23:52:42.749Z"
   },
   {
    "duration": 12,
    "start_time": "2022-04-01T23:52:42.760Z"
   },
   {
    "duration": 30,
    "start_time": "2022-04-01T23:52:42.774Z"
   },
   {
    "duration": 563,
    "start_time": "2022-04-01T23:52:42.807Z"
   },
   {
    "duration": 15,
    "start_time": "2022-04-01T23:52:43.372Z"
   },
   {
    "duration": 16,
    "start_time": "2022-04-01T23:52:43.389Z"
   },
   {
    "duration": 38,
    "start_time": "2022-04-01T23:52:43.407Z"
   },
   {
    "duration": 23,
    "start_time": "2022-04-01T23:52:43.446Z"
   },
   {
    "duration": 406,
    "start_time": "2022-04-01T23:52:43.471Z"
   },
   {
    "duration": 128,
    "start_time": "2022-04-01T23:52:43.879Z"
   },
   {
    "duration": 1349,
    "start_time": "2022-04-01T23:52:44.010Z"
   },
   {
    "duration": 146,
    "start_time": "2022-04-01T23:52:45.362Z"
   },
   {
    "duration": 291,
    "start_time": "2022-04-01T23:52:45.513Z"
   },
   {
    "duration": 143,
    "start_time": "2022-04-01T23:52:45.806Z"
   },
   {
    "duration": 189,
    "start_time": "2022-04-01T23:52:45.951Z"
   },
   {
    "duration": 123,
    "start_time": "2022-04-01T23:52:46.142Z"
   },
   {
    "duration": 277,
    "start_time": "2022-04-01T23:52:46.267Z"
   },
   {
    "duration": 138,
    "start_time": "2022-04-01T23:52:46.546Z"
   },
   {
    "duration": 350,
    "start_time": "2022-04-01T23:52:46.686Z"
   },
   {
    "duration": 12,
    "start_time": "2022-04-01T23:52:47.038Z"
   },
   {
    "duration": 0,
    "start_time": "2022-04-01T23:52:47.052Z"
   },
   {
    "duration": 0,
    "start_time": "2022-04-01T23:52:47.054Z"
   },
   {
    "duration": 0,
    "start_time": "2022-04-01T23:52:47.056Z"
   },
   {
    "duration": 0,
    "start_time": "2022-04-01T23:52:47.057Z"
   },
   {
    "duration": 0,
    "start_time": "2022-04-01T23:52:47.059Z"
   },
   {
    "duration": 0,
    "start_time": "2022-04-01T23:52:47.060Z"
   },
   {
    "duration": 0,
    "start_time": "2022-04-01T23:52:47.062Z"
   },
   {
    "duration": 0,
    "start_time": "2022-04-01T23:52:47.063Z"
   },
   {
    "duration": 0,
    "start_time": "2022-04-01T23:52:47.065Z"
   },
   {
    "duration": 0,
    "start_time": "2022-04-01T23:52:47.101Z"
   },
   {
    "duration": 0,
    "start_time": "2022-04-01T23:52:47.103Z"
   },
   {
    "duration": 0,
    "start_time": "2022-04-01T23:52:47.105Z"
   },
   {
    "duration": 1,
    "start_time": "2022-04-01T23:52:47.106Z"
   },
   {
    "duration": 0,
    "start_time": "2022-04-01T23:52:47.108Z"
   },
   {
    "duration": 0,
    "start_time": "2022-04-01T23:52:47.109Z"
   },
   {
    "duration": 0,
    "start_time": "2022-04-01T23:52:47.111Z"
   },
   {
    "duration": 0,
    "start_time": "2022-04-01T23:52:47.113Z"
   },
   {
    "duration": 0,
    "start_time": "2022-04-01T23:52:47.114Z"
   },
   {
    "duration": 0,
    "start_time": "2022-04-01T23:52:47.115Z"
   },
   {
    "duration": 0,
    "start_time": "2022-04-01T23:52:47.116Z"
   },
   {
    "duration": 0,
    "start_time": "2022-04-01T23:52:47.118Z"
   },
   {
    "duration": 0,
    "start_time": "2022-04-01T23:52:47.119Z"
   },
   {
    "duration": 0,
    "start_time": "2022-04-01T23:52:47.120Z"
   },
   {
    "duration": 0,
    "start_time": "2022-04-01T23:52:47.122Z"
   },
   {
    "duration": 131,
    "start_time": "2022-04-01T23:53:07.879Z"
   },
   {
    "duration": 8,
    "start_time": "2022-04-01T23:53:08.013Z"
   },
   {
    "duration": 5,
    "start_time": "2022-04-01T23:53:08.023Z"
   },
   {
    "duration": 8,
    "start_time": "2022-04-01T23:53:08.030Z"
   },
   {
    "duration": 61,
    "start_time": "2022-04-01T23:53:08.041Z"
   },
   {
    "duration": 14,
    "start_time": "2022-04-01T23:53:08.104Z"
   },
   {
    "duration": 6,
    "start_time": "2022-04-01T23:53:08.120Z"
   },
   {
    "duration": 34,
    "start_time": "2022-04-01T23:53:08.128Z"
   },
   {
    "duration": 56,
    "start_time": "2022-04-01T23:53:08.165Z"
   },
   {
    "duration": 377,
    "start_time": "2022-04-01T23:53:08.223Z"
   },
   {
    "duration": 125,
    "start_time": "2022-04-01T23:53:08.603Z"
   },
   {
    "duration": 1891,
    "start_time": "2022-04-01T23:53:08.730Z"
   },
   {
    "duration": 144,
    "start_time": "2022-04-01T23:53:10.623Z"
   },
   {
    "duration": 301,
    "start_time": "2022-04-01T23:53:10.771Z"
   },
   {
    "duration": 141,
    "start_time": "2022-04-01T23:53:11.074Z"
   },
   {
    "duration": 184,
    "start_time": "2022-04-01T23:53:11.217Z"
   },
   {
    "duration": 125,
    "start_time": "2022-04-01T23:53:11.403Z"
   },
   {
    "duration": 272,
    "start_time": "2022-04-01T23:53:11.531Z"
   },
   {
    "duration": 143,
    "start_time": "2022-04-01T23:53:11.806Z"
   },
   {
    "duration": 236,
    "start_time": "2022-04-01T23:53:11.951Z"
   },
   {
    "duration": 17,
    "start_time": "2022-04-01T23:53:12.189Z"
   },
   {
    "duration": 0,
    "start_time": "2022-04-01T23:53:12.208Z"
   },
   {
    "duration": 0,
    "start_time": "2022-04-01T23:53:12.209Z"
   },
   {
    "duration": 0,
    "start_time": "2022-04-01T23:53:12.210Z"
   },
   {
    "duration": 0,
    "start_time": "2022-04-01T23:53:12.211Z"
   },
   {
    "duration": 0,
    "start_time": "2022-04-01T23:53:12.212Z"
   },
   {
    "duration": 0,
    "start_time": "2022-04-01T23:53:12.213Z"
   },
   {
    "duration": 0,
    "start_time": "2022-04-01T23:53:12.214Z"
   },
   {
    "duration": 0,
    "start_time": "2022-04-01T23:53:12.215Z"
   },
   {
    "duration": 0,
    "start_time": "2022-04-01T23:53:12.216Z"
   },
   {
    "duration": 0,
    "start_time": "2022-04-01T23:53:12.218Z"
   },
   {
    "duration": 0,
    "start_time": "2022-04-01T23:53:12.219Z"
   },
   {
    "duration": 0,
    "start_time": "2022-04-01T23:53:12.220Z"
   },
   {
    "duration": 0,
    "start_time": "2022-04-01T23:53:12.221Z"
   },
   {
    "duration": 0,
    "start_time": "2022-04-01T23:53:12.222Z"
   },
   {
    "duration": 0,
    "start_time": "2022-04-01T23:53:12.223Z"
   },
   {
    "duration": 0,
    "start_time": "2022-04-01T23:53:12.224Z"
   },
   {
    "duration": 0,
    "start_time": "2022-04-01T23:53:12.225Z"
   },
   {
    "duration": 0,
    "start_time": "2022-04-01T23:53:12.226Z"
   },
   {
    "duration": 0,
    "start_time": "2022-04-01T23:53:12.227Z"
   },
   {
    "duration": 0,
    "start_time": "2022-04-01T23:53:12.228Z"
   },
   {
    "duration": 0,
    "start_time": "2022-04-01T23:53:12.229Z"
   },
   {
    "duration": 0,
    "start_time": "2022-04-01T23:53:12.230Z"
   },
   {
    "duration": 0,
    "start_time": "2022-04-01T23:53:12.231Z"
   },
   {
    "duration": 0,
    "start_time": "2022-04-01T23:53:12.232Z"
   },
   {
    "duration": 10,
    "start_time": "2022-04-01T23:53:27.272Z"
   },
   {
    "duration": 9,
    "start_time": "2022-04-01T23:53:43.199Z"
   },
   {
    "duration": 9,
    "start_time": "2022-04-01T23:53:53.949Z"
   },
   {
    "duration": 9,
    "start_time": "2022-04-01T23:54:03.249Z"
   },
   {
    "duration": 9,
    "start_time": "2022-04-01T23:56:47.632Z"
   },
   {
    "duration": 9,
    "start_time": "2022-04-01T23:58:18.570Z"
   }
  ],
  "kernelspec": {
   "display_name": "Python 3.10.2 64-bit",
   "language": "python",
   "name": "python3"
  },
  "language_info": {
   "codemirror_mode": {
    "name": "ipython",
    "version": 3
   },
   "file_extension": ".py",
   "mimetype": "text/x-python",
   "name": "python",
   "nbconvert_exporter": "python",
   "pygments_lexer": "ipython3",
   "version": "3.10.2"
  },
  "toc": {
   "base_numbering": 1,
   "nav_menu": {},
   "number_sections": true,
   "sideBar": true,
   "skip_h1_title": true,
   "title_cell": "Содержание",
   "title_sidebar": "Contents",
   "toc_cell": true,
   "toc_position": {
    "height": "calc(100% - 180px)",
    "left": "10px",
    "top": "150px",
    "width": "270.391px"
   },
   "toc_section_display": true,
   "toc_window_display": false
  },
  "vscode": {
   "interpreter": {
    "hash": "aee8b7b246df8f9039afb4144a1f6fd8d2ca17a180786b69acc140d282b71a49"
   }
  }
 },
 "nbformat": 4,
 "nbformat_minor": 4
}
