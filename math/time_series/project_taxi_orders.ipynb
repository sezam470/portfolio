{
 "cells": [
  {
   "cell_type": "markdown",
   "metadata": {
    "toc": true
   },
   "source": [
    "<h1>Содержание<span class=\"tocSkip\"></span></h1>\n",
    "<div class=\"toc\"><ul class=\"toc-item\"><li><span><a href=\"#Подготовка\" data-toc-modified-id=\"Подготовка-1\"><span class=\"toc-item-num\">1&nbsp;&nbsp;</span>Подготовка</a></span></li><li><span><a href=\"#Анализ\" data-toc-modified-id=\"Анализ-2\"><span class=\"toc-item-num\">2&nbsp;&nbsp;</span>Анализ</a></span><ul class=\"toc-item\"><li><span><a href=\"#Стационарность-рядов\" data-toc-modified-id=\"Стационарность-рядов-2.1\"><span class=\"toc-item-num\">2.1&nbsp;&nbsp;</span>Стационарность рядов</a></span></li></ul></li><li><span><a href=\"#Обучение\" data-toc-modified-id=\"Обучение-3\"><span class=\"toc-item-num\">3&nbsp;&nbsp;</span>Обучение</a></span><ul class=\"toc-item\"><li><span><a href=\"#Создание-признаков\" data-toc-modified-id=\"Создание-признаков-3.1\"><span class=\"toc-item-num\">3.1&nbsp;&nbsp;</span>Создание признаков</a></span></li><li><span><a href=\"#Создание-выборок\" data-toc-modified-id=\"Создание-выборок-3.2\"><span class=\"toc-item-num\">3.2&nbsp;&nbsp;</span>Создание выборок</a></span></li><li><span><a href=\"#Линейная-регрессия\" data-toc-modified-id=\"Линейная-регрессия-3.3\"><span class=\"toc-item-num\">3.3&nbsp;&nbsp;</span>Линейная регрессия</a></span></li><li><span><a href=\"#Решающее-дерево\" data-toc-modified-id=\"Решающее-дерево-3.4\"><span class=\"toc-item-num\">3.4&nbsp;&nbsp;</span>Решающее дерево</a></span></li><li><span><a href=\"#Случайный-лес\" data-toc-modified-id=\"Случайный-лес-3.5\"><span class=\"toc-item-num\">3.5&nbsp;&nbsp;</span>Случайный лес</a></span></li><li><span><a href=\"#Градиентный-бустинг\" data-toc-modified-id=\"Градиентный-бустинг-3.6\"><span class=\"toc-item-num\">3.6&nbsp;&nbsp;</span>Градиентный бустинг</a></span></li></ul></li><li><span><a href=\"#Чек-лист-проверки\" data-toc-modified-id=\"Чек-лист-проверки-4\"><span class=\"toc-item-num\">4&nbsp;&nbsp;</span>Чек-лист проверки</a></span></li></ul></div>"
   ]
  },
  {
   "cell_type": "markdown",
   "metadata": {},
   "source": [
    "#  Прогнозирование заказов такси"
   ]
  },
  {
   "cell_type": "markdown",
   "metadata": {},
   "source": [
    "Компания «Чётенькое такси» собрала исторические данные о заказах такси в аэропортах. Чтобы привлекать больше водителей в период пиковой нагрузки, нужно спрогнозировать количество заказов такси на следующий час. Постройте модель для такого предсказания.\n",
    "\n",
    "Значение метрики *RMSE* на тестовой выборке должно быть не больше 48.\n",
    "\n",
    "Вам нужно:\n",
    "\n",
    "1. Загрузить данные и выполнить их ресемплирование по одному часу.\n",
    "2. Проанализировать данные.\n",
    "3. Обучить разные модели с различными гиперпараметрами. Сделать тестовую выборку размером 10% от исходных данных.\n",
    "4. Проверить данные на тестовой выборке и сделать выводы.\n",
    "\n",
    "\n",
    "Данные лежат в файле `taxi.csv`. Количество заказов находится в столбце `num_orders` (от англ. *number of orders*, «число заказов»)."
   ]
  },
  {
   "cell_type": "markdown",
   "metadata": {},
   "source": [
    "## Подготовка"
   ]
  },
  {
   "cell_type": "code",
   "execution_count": 1,
   "metadata": {},
   "outputs": [],
   "source": [
    "import pandas as pd\n",
    "import matplotlib.pyplot as plt\n",
    "from statsmodels.tsa.seasonal import seasonal_decompose\n",
    "from sklearn.model_selection import train_test_split\n",
    "from sklearn.linear_model import LinearRegression\n",
    "from statsmodels.tsa.stattools import adfuller\n",
    "from sklearn.metrics import mean_squared_error\n",
    "from catboost import CatBoostRegressor\n",
    "from sklearn.tree import DecisionTreeRegressor\n",
    "from sklearn.ensemble import RandomForestRegressor\n",
    "from random import randint\n",
    "from sklearn.model_selection import GridSearchCV\n",
    "from random import randint"
   ]
  },
  {
   "cell_type": "code",
   "execution_count": 2,
   "metadata": {},
   "outputs": [],
   "source": [
    "RANDOM_STATE = 12345\n",
    "RMSE_LIMIT = 48"
   ]
  },
  {
   "cell_type": "code",
   "execution_count": 3,
   "metadata": {},
   "outputs": [
    {
     "name": "stdout",
     "output_type": "stream",
     "text": [
      "<class 'pandas.core.frame.DataFrame'>\n",
      "DatetimeIndex: 26496 entries, 2018-03-01 00:00:00 to 2018-08-31 23:50:00\n",
      "Data columns (total 1 columns):\n",
      " #   Column      Non-Null Count  Dtype\n",
      "---  ------      --------------  -----\n",
      " 0   num_orders  26496 non-null  int64\n",
      "dtypes: int64(1)\n",
      "memory usage: 414.0 KB\n"
     ]
    }
   ],
   "source": [
    "data = pd.read_csv('datasets/taxi.csv', index_col=[0], parse_dates=[0])\n",
    "data.info()"
   ]
  },
  {
   "cell_type": "code",
   "execution_count": 4,
   "metadata": {
    "scrolled": true
   },
   "outputs": [
    {
     "name": "stdout",
     "output_type": "stream",
     "text": [
      "Даты и время расположены в хронологическом порядке: True\n"
     ]
    }
   ],
   "source": [
    "data.sort_index(inplace=True)\n",
    "print('Даты и время расположены в хронологическом порядке:', data.index.is_monotonic)"
   ]
  },
  {
   "cell_type": "code",
   "execution_count": 5,
   "metadata": {},
   "outputs": [
    {
     "data": {
      "text/html": [
       "<div>\n",
       "<style scoped>\n",
       "    .dataframe tbody tr th:only-of-type {\n",
       "        vertical-align: middle;\n",
       "    }\n",
       "\n",
       "    .dataframe tbody tr th {\n",
       "        vertical-align: top;\n",
       "    }\n",
       "\n",
       "    .dataframe thead th {\n",
       "        text-align: right;\n",
       "    }\n",
       "</style>\n",
       "<table border=\"1\" class=\"dataframe\">\n",
       "  <thead>\n",
       "    <tr style=\"text-align: right;\">\n",
       "      <th></th>\n",
       "      <th>num_orders</th>\n",
       "    </tr>\n",
       "    <tr>\n",
       "      <th>datetime</th>\n",
       "      <th></th>\n",
       "    </tr>\n",
       "  </thead>\n",
       "  <tbody>\n",
       "    <tr>\n",
       "      <th>2018-03-01 00:00:00</th>\n",
       "      <td>124</td>\n",
       "    </tr>\n",
       "    <tr>\n",
       "      <th>2018-03-01 01:00:00</th>\n",
       "      <td>85</td>\n",
       "    </tr>\n",
       "    <tr>\n",
       "      <th>2018-03-01 02:00:00</th>\n",
       "      <td>71</td>\n",
       "    </tr>\n",
       "    <tr>\n",
       "      <th>2018-03-01 03:00:00</th>\n",
       "      <td>66</td>\n",
       "    </tr>\n",
       "    <tr>\n",
       "      <th>2018-03-01 04:00:00</th>\n",
       "      <td>43</td>\n",
       "    </tr>\n",
       "  </tbody>\n",
       "</table>\n",
       "</div>"
      ],
      "text/plain": [
       "                     num_orders\n",
       "datetime                       \n",
       "2018-03-01 00:00:00         124\n",
       "2018-03-01 01:00:00          85\n",
       "2018-03-01 02:00:00          71\n",
       "2018-03-01 03:00:00          66\n",
       "2018-03-01 04:00:00          43"
      ]
     },
     "execution_count": 5,
     "metadata": {},
     "output_type": "execute_result"
    }
   ],
   "source": [
    "df = data.resample('1H').sum()\n",
    "df.head()"
   ]
  },
  {
   "cell_type": "code",
   "execution_count": 6,
   "metadata": {},
   "outputs": [
    {
     "data": {
      "text/plain": [
       "4416"
      ]
     },
     "execution_count": 6,
     "metadata": {},
     "output_type": "execute_result"
    }
   ],
   "source": [
    "df_shape = df.shape[0]\n",
    "df_shape"
   ]
  },
  {
   "cell_type": "markdown",
   "metadata": {},
   "source": [
    "## Анализ"
   ]
  },
  {
   "cell_type": "code",
   "execution_count": 7,
   "metadata": {},
   "outputs": [],
   "source": [
    "decomposed = seasonal_decompose(df)"
   ]
  },
  {
   "cell_type": "code",
   "execution_count": 8,
   "metadata": {
    "scrolled": false
   },
   "outputs": [
    {
     "data": {
      "image/png": "[encoded data removed]",
      "text/plain": [
       "<Figure size 432x576 with 3 Axes>"
      ]
     },
     "metadata": {
      "needs_background": "light"
     },
     "output_type": "display_data"
    }
   ],
   "source": [
    "plt.figure(figsize=(6, 8))\n",
    "\n",
    "plt.subplot(311)\n",
    "decomposed.trend.plot(ax=plt.gca())\n",
    "plt.title('Тренд')\n",
    "\n",
    "plt.subplot(312)\n",
    "decomposed.seasonal.plot(ax=plt.gca())\n",
    "plt.title('Сезонность')\n",
    "\n",
    "plt.subplot(313)\n",
    "decomposed.resid.plot(ax=plt.gca())\n",
    "plt.title('Шум')\n",
    "plt.tight_layout()"
   ]
  },
  {
   "cell_type": "markdown",
   "metadata": {},
   "source": [
    "Общий тренд: заказы такси росли в течение года."
   ]
  },
  {
   "cell_type": "code",
   "execution_count": 9,
   "metadata": {},
   "outputs": [
    {
     "data": {
      "image/png": "[encoded data removed]",
      "text/plain": [
       "<Figure size 1080x216 with 1 Axes>"
      ]
     },
     "metadata": {
      "needs_background": "light"
     },
     "output_type": "display_data"
    }
   ],
   "source": [
    "#код ревьюера\n",
    "# график сезонности за день\n",
    "\n",
    "decomposed.seasonal['2018-03-01':'2018-03-01'].plot(figsize = (15,3))\n",
    "plt.title('Сезонность за день');\n",
    "\n"
   ]
  },
  {
   "cell_type": "code",
   "execution_count": 10,
   "metadata": {},
   "outputs": [
    {
     "data": {
      "image/png": "[encoded data removed]",
      "text/plain": [
       "<Figure size 1080x216 with 1 Axes>"
      ]
     },
     "metadata": {
      "needs_background": "light"
     },
     "output_type": "display_data"
    }
   ],
   "source": [
    "decomposed.trend['2018-03-01':'2018-03-07'].plot(figsize = (15,3)) # тренд за неделю\n",
    "plt.title('Тренд за неделю');"
   ]
  },
  {
   "cell_type": "markdown",
   "metadata": {},
   "source": [
    "<div class=\"alert alert-success\">\n",
    "   \n",
    "   По графику отлично виден тренд с апреля по май, потом небольшое снижение в конце-мая и начале июня, затем снова положительный тренд до конца июля, небольшое снижение в начале августа и сильный рост в течение оставшейся части августа.\n",
    "\n",
    "</div>\n"
   ]
  },
  {
   "cell_type": "markdown",
   "metadata": {},
   "source": [
    "<div class=\"alert alert-info\">\n",
    "   \n",
    "Рассмотрели также сезонность в течение суток и тренд в течение недели - так можно будет заметить некоторые закономерности в спросе на такси.\n",
    "\n",
    "</div>\n"
   ]
  },
  {
   "cell_type": "markdown",
   "metadata": {},
   "source": [
    "### Стационарность рядов"
   ]
  },
  {
   "cell_type": "markdown",
   "metadata": {},
   "source": [
    "Нулевая гипотеза: ряд не является стацирнарным.\n",
    "\n",
    "Альтернативная гипотеза: ряд является стационарным."
   ]
  },
  {
   "cell_type": "code",
   "execution_count": 11,
   "metadata": {},
   "outputs": [],
   "source": [
    "def adf_test(timeseries):\n",
    "    # Выполняем тест Дики-Фуллера:\n",
    "    print ('Результаты теста Дики-Фуллера:')\n",
    "    dftest = adfuller(timeseries, regression='ctt')\n",
    "    dfoutput = pd.Series(dftest[0:4], index=['Test Statistic','p-value','#Lags Used','Number of Observations Used'])\n",
    "    print()\n",
    "    for key, value in dftest[4].items():\n",
    "        dfoutput['Critical Value (%s)'%key] = value\n",
    "        \n",
    "    print (dfoutput)\n",
    "        \n",
    "    if dftest[0] < dftest[4][\"5%\"]:\n",
    "        print (\"Нулевая гипотеза отвергнута – Временной ряд стационарен\")\n",
    "    else:\n",
    "        print (\"Нулевая гипотеза не отвергнута – Временной ряд не стационарен\")"
   ]
  },
  {
   "cell_type": "code",
   "execution_count": 12,
   "metadata": {},
   "outputs": [
    {
     "name": "stdout",
     "output_type": "stream",
     "text": [
      "Результаты теста Дики-Фуллера:\n",
      "\n",
      "Test Statistic                -1.089145e+01\n",
      "p-value                        4.054940e-17\n",
      "#Lags Used                     3.100000e+01\n",
      "Number of Observations Used    4.384000e+03\n",
      "Critical Value (1%)           -4.373775e+00\n",
      "Critical Value (5%)           -3.833738e+00\n",
      "Critical Value (10%)          -3.554095e+00\n",
      "dtype: float64\n",
      "Нулевая гипотеза отвергнута – Временной ряд стационарен\n"
     ]
    }
   ],
   "source": [
    "# Применяем к временному ряду\n",
    "result = adf_test(df['num_orders'])"
   ]
  },
  {
   "cell_type": "code",
   "execution_count": 13,
   "metadata": {},
   "outputs": [
    {
     "data": {
      "text/html": [
       "<div>\n",
       "<style scoped>\n",
       "    .dataframe tbody tr th:only-of-type {\n",
       "        vertical-align: middle;\n",
       "    }\n",
       "\n",
       "    .dataframe tbody tr th {\n",
       "        vertical-align: top;\n",
       "    }\n",
       "\n",
       "    .dataframe thead th {\n",
       "        text-align: right;\n",
       "    }\n",
       "</style>\n",
       "<table border=\"1\" class=\"dataframe\">\n",
       "  <thead>\n",
       "    <tr style=\"text-align: right;\">\n",
       "      <th></th>\n",
       "      <th>num_orders</th>\n",
       "    </tr>\n",
       "    <tr>\n",
       "      <th>datetime</th>\n",
       "      <th></th>\n",
       "    </tr>\n",
       "  </thead>\n",
       "  <tbody>\n",
       "    <tr>\n",
       "      <th>2018-03-01 00:00:00</th>\n",
       "      <td>NaN</td>\n",
       "    </tr>\n",
       "    <tr>\n",
       "      <th>2018-03-01 01:00:00</th>\n",
       "      <td>-39.0</td>\n",
       "    </tr>\n",
       "    <tr>\n",
       "      <th>2018-03-01 02:00:00</th>\n",
       "      <td>-14.0</td>\n",
       "    </tr>\n",
       "    <tr>\n",
       "      <th>2018-03-01 03:00:00</th>\n",
       "      <td>-5.0</td>\n",
       "    </tr>\n",
       "    <tr>\n",
       "      <th>2018-03-01 04:00:00</th>\n",
       "      <td>-23.0</td>\n",
       "    </tr>\n",
       "  </tbody>\n",
       "</table>\n",
       "</div>"
      ],
      "text/plain": [
       "                     num_orders\n",
       "datetime                       \n",
       "2018-03-01 00:00:00         NaN\n",
       "2018-03-01 01:00:00       -39.0\n",
       "2018-03-01 02:00:00       -14.0\n",
       "2018-03-01 03:00:00        -5.0\n",
       "2018-03-01 04:00:00       -23.0"
      ]
     },
     "execution_count": 13,
     "metadata": {},
     "output_type": "execute_result"
    }
   ],
   "source": [
    "# Сделаем ряд более стационарным для облегчения прогноза\n",
    "df -= df.shift()\n",
    "df.head()"
   ]
  },
  {
   "cell_type": "markdown",
   "metadata": {},
   "source": [
    "<div class=\"alert alert-info\">\n",
    "   \n",
    "   Сделала ряд более стационарным - взяла разности временного ряда.\n",
    "\n",
    "</div>"
   ]
  },
  {
   "cell_type": "markdown",
   "metadata": {},
   "source": [
    "## Обучение"
   ]
  },
  {
   "cell_type": "markdown",
   "metadata": {},
   "source": [
    "### Создание признаков"
   ]
  },
  {
   "cell_type": "code",
   "execution_count": 14,
   "metadata": {},
   "outputs": [],
   "source": [
    "def make_features(max_lag):\n",
    "    for lag in range(1, max_lag + 1):\n",
    "        df['lag_{}'.format(lag)] = df['num_orders'].shift(lag)"
   ]
  },
  {
   "cell_type": "markdown",
   "metadata": {},
   "source": [
    "<div class=\"alert alert-info\">\n",
    "   \n",
    "   1. Добавила календарные признаки: месяц и день недели заказа.\n",
    "   2. Также добавила признаки со средней суммой заказов за сутки и неделю (основываясь на новом графике сезонности)\n",
    "\n",
    "\n",
    "</div>"
   ]
  },
  {
   "cell_type": "code",
   "execution_count": 15,
   "metadata": {},
   "outputs": [],
   "source": [
    "make_features(15)\n",
    "df['dayofweek'] = df.index.dayofweek\n",
    "df['hour'] = df.index.hour"
   ]
  },
  {
   "cell_type": "code",
   "execution_count": 16,
   "metadata": {},
   "outputs": [],
   "source": [
    "df['rolling_mean_day'] = df['num_orders'].rolling(24).mean()"
   ]
  },
  {
   "cell_type": "code",
   "execution_count": 17,
   "metadata": {},
   "outputs": [
    {
     "name": "stdout",
     "output_type": "stream",
     "text": [
      "<class 'pandas.core.frame.DataFrame'>\n",
      "DatetimeIndex: 4416 entries, 2018-03-01 00:00:00 to 2018-08-31 23:00:00\n",
      "Freq: H\n",
      "Data columns (total 19 columns):\n",
      " #   Column            Non-Null Count  Dtype  \n",
      "---  ------            --------------  -----  \n",
      " 0   num_orders        4415 non-null   float64\n",
      " 1   lag_1             4414 non-null   float64\n",
      " 2   lag_2             4413 non-null   float64\n",
      " 3   lag_3             4412 non-null   float64\n",
      " 4   lag_4             4411 non-null   float64\n",
      " 5   lag_5             4410 non-null   float64\n",
      " 6   lag_6             4409 non-null   float64\n",
      " 7   lag_7             4408 non-null   float64\n",
      " 8   lag_8             4407 non-null   float64\n",
      " 9   lag_9             4406 non-null   float64\n",
      " 10  lag_10            4405 non-null   float64\n",
      " 11  lag_11            4404 non-null   float64\n",
      " 12  lag_12            4403 non-null   float64\n",
      " 13  lag_13            4402 non-null   float64\n",
      " 14  lag_14            4401 non-null   float64\n",
      " 15  lag_15            4400 non-null   float64\n",
      " 16  dayofweek         4416 non-null   int64  \n",
      " 17  hour              4416 non-null   int64  \n",
      " 18  rolling_mean_day  4392 non-null   float64\n",
      "dtypes: float64(17), int64(2)\n",
      "memory usage: 690.0 KB\n"
     ]
    }
   ],
   "source": [
    "df.info()"
   ]
  },
  {
   "cell_type": "markdown",
   "metadata": {},
   "source": [
    "### Создание выборок"
   ]
  },
  {
   "cell_type": "code",
   "execution_count": 18,
   "metadata": {},
   "outputs": [
    {
     "data": {
      "text/plain": [
       "num_orders          0\n",
       "lag_1               0\n",
       "lag_2               0\n",
       "lag_3               0\n",
       "lag_4               0\n",
       "lag_5               0\n",
       "lag_6               0\n",
       "lag_7               0\n",
       "lag_8               0\n",
       "lag_9               0\n",
       "lag_10              0\n",
       "lag_11              0\n",
       "lag_12              0\n",
       "lag_13              0\n",
       "lag_14              0\n",
       "lag_15              0\n",
       "dayofweek           0\n",
       "hour                0\n",
       "rolling_mean_day    0\n",
       "dtype: int64"
      ]
     },
     "execution_count": 18,
     "metadata": {},
     "output_type": "execute_result"
    }
   ],
   "source": [
    "train, untrain = train_test_split(df, shuffle=False, test_size=0.2)\n",
    "valid, test = train_test_split(untrain, shuffle=False, test_size=0.5)\n",
    "train = train.dropna()\n",
    "train.isna().sum()"
   ]
  },
  {
   "cell_type": "code",
   "execution_count": 19,
   "metadata": {},
   "outputs": [
    {
     "name": "stdout",
     "output_type": "stream",
     "text": [
      "Удалено из обучающей выборки: 21%\n"
     ]
    }
   ],
   "source": [
    "train_shape = train.shape[0]\n",
    "print(f'Удалено из обучающей выборки: {1 - train_shape / df_shape:.0%}')"
   ]
  },
  {
   "cell_type": "code",
   "execution_count": 20,
   "metadata": {},
   "outputs": [
    {
     "data": {
      "text/html": [
       "<div>\n",
       "<style scoped>\n",
       "    .dataframe tbody tr th:only-of-type {\n",
       "        vertical-align: middle;\n",
       "    }\n",
       "\n",
       "    .dataframe tbody tr th {\n",
       "        vertical-align: top;\n",
       "    }\n",
       "\n",
       "    .dataframe thead th {\n",
       "        text-align: right;\n",
       "    }\n",
       "</style>\n",
       "<table border=\"1\" class=\"dataframe\">\n",
       "  <thead>\n",
       "    <tr style=\"text-align: right;\">\n",
       "      <th></th>\n",
       "      <th>lag_1</th>\n",
       "      <th>lag_2</th>\n",
       "      <th>lag_3</th>\n",
       "      <th>lag_4</th>\n",
       "      <th>lag_5</th>\n",
       "      <th>lag_6</th>\n",
       "      <th>lag_7</th>\n",
       "      <th>lag_8</th>\n",
       "      <th>lag_9</th>\n",
       "      <th>lag_10</th>\n",
       "      <th>lag_11</th>\n",
       "      <th>lag_12</th>\n",
       "      <th>lag_13</th>\n",
       "      <th>lag_14</th>\n",
       "      <th>lag_15</th>\n",
       "      <th>dayofweek</th>\n",
       "      <th>hour</th>\n",
       "      <th>rolling_mean_day</th>\n",
       "    </tr>\n",
       "    <tr>\n",
       "      <th>datetime</th>\n",
       "      <th></th>\n",
       "      <th></th>\n",
       "      <th></th>\n",
       "      <th></th>\n",
       "      <th></th>\n",
       "      <th></th>\n",
       "      <th></th>\n",
       "      <th></th>\n",
       "      <th></th>\n",
       "      <th></th>\n",
       "      <th></th>\n",
       "      <th></th>\n",
       "      <th></th>\n",
       "      <th></th>\n",
       "      <th></th>\n",
       "      <th></th>\n",
       "      <th></th>\n",
       "      <th></th>\n",
       "    </tr>\n",
       "  </thead>\n",
       "  <tbody>\n",
       "    <tr>\n",
       "      <th>2018-03-02 00:00:00</th>\n",
       "      <td>-55.0</td>\n",
       "      <td>47.0</td>\n",
       "      <td>5.0</td>\n",
       "      <td>16.0</td>\n",
       "      <td>-28.0</td>\n",
       "      <td>29.0</td>\n",
       "      <td>1.0</td>\n",
       "      <td>-23.0</td>\n",
       "      <td>18.0</td>\n",
       "      <td>16.0</td>\n",
       "      <td>2.0</td>\n",
       "      <td>-66.0</td>\n",
       "      <td>32.0</td>\n",
       "      <td>-5.0</td>\n",
       "      <td>35.0</td>\n",
       "      <td>4</td>\n",
       "      <td>0</td>\n",
       "      <td>-1.416667</td>\n",
       "    </tr>\n",
       "    <tr>\n",
       "      <th>2018-03-02 01:00:00</th>\n",
       "      <td>32.0</td>\n",
       "      <td>-55.0</td>\n",
       "      <td>47.0</td>\n",
       "      <td>5.0</td>\n",
       "      <td>16.0</td>\n",
       "      <td>-28.0</td>\n",
       "      <td>29.0</td>\n",
       "      <td>1.0</td>\n",
       "      <td>-23.0</td>\n",
       "      <td>18.0</td>\n",
       "      <td>16.0</td>\n",
       "      <td>2.0</td>\n",
       "      <td>-66.0</td>\n",
       "      <td>32.0</td>\n",
       "      <td>-5.0</td>\n",
       "      <td>4</td>\n",
       "      <td>1</td>\n",
       "      <td>1.458333</td>\n",
       "    </tr>\n",
       "    <tr>\n",
       "      <th>2018-03-02 02:00:00</th>\n",
       "      <td>30.0</td>\n",
       "      <td>32.0</td>\n",
       "      <td>-55.0</td>\n",
       "      <td>47.0</td>\n",
       "      <td>5.0</td>\n",
       "      <td>16.0</td>\n",
       "      <td>-28.0</td>\n",
       "      <td>29.0</td>\n",
       "      <td>1.0</td>\n",
       "      <td>-23.0</td>\n",
       "      <td>18.0</td>\n",
       "      <td>16.0</td>\n",
       "      <td>2.0</td>\n",
       "      <td>-66.0</td>\n",
       "      <td>32.0</td>\n",
       "      <td>4</td>\n",
       "      <td>2</td>\n",
       "      <td>0.166667</td>\n",
       "    </tr>\n",
       "    <tr>\n",
       "      <th>2018-03-02 03:00:00</th>\n",
       "      <td>-45.0</td>\n",
       "      <td>30.0</td>\n",
       "      <td>32.0</td>\n",
       "      <td>-55.0</td>\n",
       "      <td>47.0</td>\n",
       "      <td>5.0</td>\n",
       "      <td>16.0</td>\n",
       "      <td>-28.0</td>\n",
       "      <td>29.0</td>\n",
       "      <td>1.0</td>\n",
       "      <td>-23.0</td>\n",
       "      <td>18.0</td>\n",
       "      <td>16.0</td>\n",
       "      <td>2.0</td>\n",
       "      <td>-66.0</td>\n",
       "      <td>4</td>\n",
       "      <td>3</td>\n",
       "      <td>-0.083333</td>\n",
       "    </tr>\n",
       "    <tr>\n",
       "      <th>2018-03-02 04:00:00</th>\n",
       "      <td>-11.0</td>\n",
       "      <td>-45.0</td>\n",
       "      <td>30.0</td>\n",
       "      <td>32.0</td>\n",
       "      <td>-55.0</td>\n",
       "      <td>47.0</td>\n",
       "      <td>5.0</td>\n",
       "      <td>16.0</td>\n",
       "      <td>-28.0</td>\n",
       "      <td>29.0</td>\n",
       "      <td>1.0</td>\n",
       "      <td>-23.0</td>\n",
       "      <td>18.0</td>\n",
       "      <td>16.0</td>\n",
       "      <td>2.0</td>\n",
       "      <td>4</td>\n",
       "      <td>4</td>\n",
       "      <td>-0.958333</td>\n",
       "    </tr>\n",
       "  </tbody>\n",
       "</table>\n",
       "</div>"
      ],
      "text/plain": [
       "                     lag_1  lag_2  lag_3  lag_4  lag_5  lag_6  lag_7  lag_8  \\\n",
       "datetime                                                                      \n",
       "2018-03-02 00:00:00  -55.0   47.0    5.0   16.0  -28.0   29.0    1.0  -23.0   \n",
       "2018-03-02 01:00:00   32.0  -55.0   47.0    5.0   16.0  -28.0   29.0    1.0   \n",
       "2018-03-02 02:00:00   30.0   32.0  -55.0   47.0    5.0   16.0  -28.0   29.0   \n",
       "2018-03-02 03:00:00  -45.0   30.0   32.0  -55.0   47.0    5.0   16.0  -28.0   \n",
       "2018-03-02 04:00:00  -11.0  -45.0   30.0   32.0  -55.0   47.0    5.0   16.0   \n",
       "\n",
       "                     lag_9  lag_10  lag_11  lag_12  lag_13  lag_14  lag_15  \\\n",
       "datetime                                                                     \n",
       "2018-03-02 00:00:00   18.0    16.0     2.0   -66.0    32.0    -5.0    35.0   \n",
       "2018-03-02 01:00:00  -23.0    18.0    16.0     2.0   -66.0    32.0    -5.0   \n",
       "2018-03-02 02:00:00    1.0   -23.0    18.0    16.0     2.0   -66.0    32.0   \n",
       "2018-03-02 03:00:00   29.0     1.0   -23.0    18.0    16.0     2.0   -66.0   \n",
       "2018-03-02 04:00:00  -28.0    29.0     1.0   -23.0    18.0    16.0     2.0   \n",
       "\n",
       "                     dayofweek  hour  rolling_mean_day  \n",
       "datetime                                                \n",
       "2018-03-02 00:00:00          4     0         -1.416667  \n",
       "2018-03-02 01:00:00          4     1          1.458333  \n",
       "2018-03-02 02:00:00          4     2          0.166667  \n",
       "2018-03-02 03:00:00          4     3         -0.083333  \n",
       "2018-03-02 04:00:00          4     4         -0.958333  "
      ]
     },
     "metadata": {},
     "output_type": "display_data"
    },
    {
     "data": {
      "text/plain": [
       "datetime\n",
       "2018-03-02 00:00:00    32.0\n",
       "2018-03-02 01:00:00    30.0\n",
       "2018-03-02 02:00:00   -45.0\n",
       "2018-03-02 03:00:00   -11.0\n",
       "2018-03-02 04:00:00   -44.0\n",
       "Freq: H, Name: num_orders, dtype: float64"
      ]
     },
     "metadata": {},
     "output_type": "display_data"
    }
   ],
   "source": [
    "features_train = train.drop(['num_orders'], axis=1)\n",
    "target_train = train['num_orders']\n",
    "\n",
    "display(features_train.head())\n",
    "display(target_train.head())"
   ]
  },
  {
   "cell_type": "code",
   "execution_count": 21,
   "metadata": {},
   "outputs": [
    {
     "data": {
      "text/html": [
       "<div>\n",
       "<style scoped>\n",
       "    .dataframe tbody tr th:only-of-type {\n",
       "        vertical-align: middle;\n",
       "    }\n",
       "\n",
       "    .dataframe tbody tr th {\n",
       "        vertical-align: top;\n",
       "    }\n",
       "\n",
       "    .dataframe thead th {\n",
       "        text-align: right;\n",
       "    }\n",
       "</style>\n",
       "<table border=\"1\" class=\"dataframe\">\n",
       "  <thead>\n",
       "    <tr style=\"text-align: right;\">\n",
       "      <th></th>\n",
       "      <th>lag_1</th>\n",
       "      <th>lag_2</th>\n",
       "      <th>lag_3</th>\n",
       "      <th>lag_4</th>\n",
       "      <th>lag_5</th>\n",
       "      <th>lag_6</th>\n",
       "      <th>lag_7</th>\n",
       "      <th>lag_8</th>\n",
       "      <th>lag_9</th>\n",
       "      <th>lag_10</th>\n",
       "      <th>lag_11</th>\n",
       "      <th>lag_12</th>\n",
       "      <th>lag_13</th>\n",
       "      <th>lag_14</th>\n",
       "      <th>lag_15</th>\n",
       "      <th>dayofweek</th>\n",
       "      <th>hour</th>\n",
       "      <th>rolling_mean_day</th>\n",
       "    </tr>\n",
       "    <tr>\n",
       "      <th>datetime</th>\n",
       "      <th></th>\n",
       "      <th></th>\n",
       "      <th></th>\n",
       "      <th></th>\n",
       "      <th></th>\n",
       "      <th></th>\n",
       "      <th></th>\n",
       "      <th></th>\n",
       "      <th></th>\n",
       "      <th></th>\n",
       "      <th></th>\n",
       "      <th></th>\n",
       "      <th></th>\n",
       "      <th></th>\n",
       "      <th></th>\n",
       "      <th></th>\n",
       "      <th></th>\n",
       "      <th></th>\n",
       "    </tr>\n",
       "  </thead>\n",
       "  <tbody>\n",
       "    <tr>\n",
       "      <th>2018-07-26 04:00:00</th>\n",
       "      <td>-56.0</td>\n",
       "      <td>124.0</td>\n",
       "      <td>-76.0</td>\n",
       "      <td>11.0</td>\n",
       "      <td>54.0</td>\n",
       "      <td>-26.0</td>\n",
       "      <td>-1.0</td>\n",
       "      <td>-26.0</td>\n",
       "      <td>69.0</td>\n",
       "      <td>-53.0</td>\n",
       "      <td>-13.0</td>\n",
       "      <td>15.0</td>\n",
       "      <td>24.0</td>\n",
       "      <td>-4.0</td>\n",
       "      <td>16.0</td>\n",
       "      <td>3</td>\n",
       "      <td>4</td>\n",
       "      <td>0.291667</td>\n",
       "    </tr>\n",
       "    <tr>\n",
       "      <th>2018-07-26 05:00:00</th>\n",
       "      <td>-10.0</td>\n",
       "      <td>-56.0</td>\n",
       "      <td>124.0</td>\n",
       "      <td>-76.0</td>\n",
       "      <td>11.0</td>\n",
       "      <td>54.0</td>\n",
       "      <td>-26.0</td>\n",
       "      <td>-1.0</td>\n",
       "      <td>-26.0</td>\n",
       "      <td>69.0</td>\n",
       "      <td>-53.0</td>\n",
       "      <td>-13.0</td>\n",
       "      <td>15.0</td>\n",
       "      <td>24.0</td>\n",
       "      <td>-4.0</td>\n",
       "      <td>3</td>\n",
       "      <td>5</td>\n",
       "      <td>0.583333</td>\n",
       "    </tr>\n",
       "    <tr>\n",
       "      <th>2018-07-26 06:00:00</th>\n",
       "      <td>-48.0</td>\n",
       "      <td>-10.0</td>\n",
       "      <td>-56.0</td>\n",
       "      <td>124.0</td>\n",
       "      <td>-76.0</td>\n",
       "      <td>11.0</td>\n",
       "      <td>54.0</td>\n",
       "      <td>-26.0</td>\n",
       "      <td>-1.0</td>\n",
       "      <td>-26.0</td>\n",
       "      <td>69.0</td>\n",
       "      <td>-53.0</td>\n",
       "      <td>-13.0</td>\n",
       "      <td>15.0</td>\n",
       "      <td>24.0</td>\n",
       "      <td>3</td>\n",
       "      <td>6</td>\n",
       "      <td>-1.833333</td>\n",
       "    </tr>\n",
       "    <tr>\n",
       "      <th>2018-07-26 07:00:00</th>\n",
       "      <td>-62.0</td>\n",
       "      <td>-48.0</td>\n",
       "      <td>-10.0</td>\n",
       "      <td>-56.0</td>\n",
       "      <td>124.0</td>\n",
       "      <td>-76.0</td>\n",
       "      <td>11.0</td>\n",
       "      <td>54.0</td>\n",
       "      <td>-26.0</td>\n",
       "      <td>-1.0</td>\n",
       "      <td>-26.0</td>\n",
       "      <td>69.0</td>\n",
       "      <td>-53.0</td>\n",
       "      <td>-13.0</td>\n",
       "      <td>15.0</td>\n",
       "      <td>3</td>\n",
       "      <td>7</td>\n",
       "      <td>-0.875000</td>\n",
       "    </tr>\n",
       "    <tr>\n",
       "      <th>2018-07-26 08:00:00</th>\n",
       "      <td>18.0</td>\n",
       "      <td>-62.0</td>\n",
       "      <td>-48.0</td>\n",
       "      <td>-10.0</td>\n",
       "      <td>-56.0</td>\n",
       "      <td>124.0</td>\n",
       "      <td>-76.0</td>\n",
       "      <td>11.0</td>\n",
       "      <td>54.0</td>\n",
       "      <td>-26.0</td>\n",
       "      <td>-1.0</td>\n",
       "      <td>-26.0</td>\n",
       "      <td>69.0</td>\n",
       "      <td>-53.0</td>\n",
       "      <td>-13.0</td>\n",
       "      <td>3</td>\n",
       "      <td>8</td>\n",
       "      <td>0.583333</td>\n",
       "    </tr>\n",
       "  </tbody>\n",
       "</table>\n",
       "</div>"
      ],
      "text/plain": [
       "                     lag_1  lag_2  lag_3  lag_4  lag_5  lag_6  lag_7  lag_8  \\\n",
       "datetime                                                                      \n",
       "2018-07-26 04:00:00  -56.0  124.0  -76.0   11.0   54.0  -26.0   -1.0  -26.0   \n",
       "2018-07-26 05:00:00  -10.0  -56.0  124.0  -76.0   11.0   54.0  -26.0   -1.0   \n",
       "2018-07-26 06:00:00  -48.0  -10.0  -56.0  124.0  -76.0   11.0   54.0  -26.0   \n",
       "2018-07-26 07:00:00  -62.0  -48.0  -10.0  -56.0  124.0  -76.0   11.0   54.0   \n",
       "2018-07-26 08:00:00   18.0  -62.0  -48.0  -10.0  -56.0  124.0  -76.0   11.0   \n",
       "\n",
       "                     lag_9  lag_10  lag_11  lag_12  lag_13  lag_14  lag_15  \\\n",
       "datetime                                                                     \n",
       "2018-07-26 04:00:00   69.0   -53.0   -13.0    15.0    24.0    -4.0    16.0   \n",
       "2018-07-26 05:00:00  -26.0    69.0   -53.0   -13.0    15.0    24.0    -4.0   \n",
       "2018-07-26 06:00:00   -1.0   -26.0    69.0   -53.0   -13.0    15.0    24.0   \n",
       "2018-07-26 07:00:00  -26.0    -1.0   -26.0    69.0   -53.0   -13.0    15.0   \n",
       "2018-07-26 08:00:00   54.0   -26.0    -1.0   -26.0    69.0   -53.0   -13.0   \n",
       "\n",
       "                     dayofweek  hour  rolling_mean_day  \n",
       "datetime                                                \n",
       "2018-07-26 04:00:00          3     4          0.291667  \n",
       "2018-07-26 05:00:00          3     5          0.583333  \n",
       "2018-07-26 06:00:00          3     6         -1.833333  \n",
       "2018-07-26 07:00:00          3     7         -0.875000  \n",
       "2018-07-26 08:00:00          3     8          0.583333  "
      ]
     },
     "metadata": {},
     "output_type": "display_data"
    },
    {
     "data": {
      "text/plain": [
       "datetime\n",
       "2018-07-26 04:00:00   -10.0\n",
       "2018-07-26 05:00:00   -48.0\n",
       "2018-07-26 06:00:00   -62.0\n",
       "2018-07-26 07:00:00    18.0\n",
       "2018-07-26 08:00:00    41.0\n",
       "Freq: H, Name: num_orders, dtype: float64"
      ]
     },
     "metadata": {},
     "output_type": "display_data"
    }
   ],
   "source": [
    "features_valid = valid.drop(['num_orders'], axis=1)\n",
    "target_valid = valid['num_orders']\n",
    "\n",
    "display(features_valid.head())\n",
    "display(target_valid.head())"
   ]
  },
  {
   "cell_type": "code",
   "execution_count": 22,
   "metadata": {},
   "outputs": [
    {
     "data": {
      "text/html": [
       "<div>\n",
       "<style scoped>\n",
       "    .dataframe tbody tr th:only-of-type {\n",
       "        vertical-align: middle;\n",
       "    }\n",
       "\n",
       "    .dataframe tbody tr th {\n",
       "        vertical-align: top;\n",
       "    }\n",
       "\n",
       "    .dataframe thead th {\n",
       "        text-align: right;\n",
       "    }\n",
       "</style>\n",
       "<table border=\"1\" class=\"dataframe\">\n",
       "  <thead>\n",
       "    <tr style=\"text-align: right;\">\n",
       "      <th></th>\n",
       "      <th>lag_1</th>\n",
       "      <th>lag_2</th>\n",
       "      <th>lag_3</th>\n",
       "      <th>lag_4</th>\n",
       "      <th>lag_5</th>\n",
       "      <th>lag_6</th>\n",
       "      <th>lag_7</th>\n",
       "      <th>lag_8</th>\n",
       "      <th>lag_9</th>\n",
       "      <th>lag_10</th>\n",
       "      <th>lag_11</th>\n",
       "      <th>lag_12</th>\n",
       "      <th>lag_13</th>\n",
       "      <th>lag_14</th>\n",
       "      <th>lag_15</th>\n",
       "      <th>dayofweek</th>\n",
       "      <th>hour</th>\n",
       "      <th>rolling_mean_day</th>\n",
       "    </tr>\n",
       "    <tr>\n",
       "      <th>datetime</th>\n",
       "      <th></th>\n",
       "      <th></th>\n",
       "      <th></th>\n",
       "      <th></th>\n",
       "      <th></th>\n",
       "      <th></th>\n",
       "      <th></th>\n",
       "      <th></th>\n",
       "      <th></th>\n",
       "      <th></th>\n",
       "      <th></th>\n",
       "      <th></th>\n",
       "      <th></th>\n",
       "      <th></th>\n",
       "      <th></th>\n",
       "      <th></th>\n",
       "      <th></th>\n",
       "      <th></th>\n",
       "    </tr>\n",
       "  </thead>\n",
       "  <tbody>\n",
       "    <tr>\n",
       "      <th>2018-08-13 14:00:00</th>\n",
       "      <td>27.0</td>\n",
       "      <td>-52.0</td>\n",
       "      <td>-12.0</td>\n",
       "      <td>19.0</td>\n",
       "      <td>46.0</td>\n",
       "      <td>52.0</td>\n",
       "      <td>-27.0</td>\n",
       "      <td>-17.0</td>\n",
       "      <td>-60.0</td>\n",
       "      <td>-25.0</td>\n",
       "      <td>-269.0</td>\n",
       "      <td>164.0</td>\n",
       "      <td>113.0</td>\n",
       "      <td>-25.0</td>\n",
       "      <td>67.0</td>\n",
       "      <td>0</td>\n",
       "      <td>14</td>\n",
       "      <td>-0.083333</td>\n",
       "    </tr>\n",
       "    <tr>\n",
       "      <th>2018-08-13 15:00:00</th>\n",
       "      <td>-17.0</td>\n",
       "      <td>27.0</td>\n",
       "      <td>-52.0</td>\n",
       "      <td>-12.0</td>\n",
       "      <td>19.0</td>\n",
       "      <td>46.0</td>\n",
       "      <td>52.0</td>\n",
       "      <td>-27.0</td>\n",
       "      <td>-17.0</td>\n",
       "      <td>-60.0</td>\n",
       "      <td>-25.0</td>\n",
       "      <td>-269.0</td>\n",
       "      <td>164.0</td>\n",
       "      <td>113.0</td>\n",
       "      <td>-25.0</td>\n",
       "      <td>0</td>\n",
       "      <td>15</td>\n",
       "      <td>1.083333</td>\n",
       "    </tr>\n",
       "    <tr>\n",
       "      <th>2018-08-13 16:00:00</th>\n",
       "      <td>73.0</td>\n",
       "      <td>-17.0</td>\n",
       "      <td>27.0</td>\n",
       "      <td>-52.0</td>\n",
       "      <td>-12.0</td>\n",
       "      <td>19.0</td>\n",
       "      <td>46.0</td>\n",
       "      <td>52.0</td>\n",
       "      <td>-27.0</td>\n",
       "      <td>-17.0</td>\n",
       "      <td>-60.0</td>\n",
       "      <td>-25.0</td>\n",
       "      <td>-269.0</td>\n",
       "      <td>164.0</td>\n",
       "      <td>113.0</td>\n",
       "      <td>0</td>\n",
       "      <td>16</td>\n",
       "      <td>-0.375000</td>\n",
       "    </tr>\n",
       "    <tr>\n",
       "      <th>2018-08-13 17:00:00</th>\n",
       "      <td>-31.0</td>\n",
       "      <td>73.0</td>\n",
       "      <td>-17.0</td>\n",
       "      <td>27.0</td>\n",
       "      <td>-52.0</td>\n",
       "      <td>-12.0</td>\n",
       "      <td>19.0</td>\n",
       "      <td>46.0</td>\n",
       "      <td>52.0</td>\n",
       "      <td>-27.0</td>\n",
       "      <td>-17.0</td>\n",
       "      <td>-60.0</td>\n",
       "      <td>-25.0</td>\n",
       "      <td>-269.0</td>\n",
       "      <td>164.0</td>\n",
       "      <td>0</td>\n",
       "      <td>17</td>\n",
       "      <td>1.541667</td>\n",
       "    </tr>\n",
       "    <tr>\n",
       "      <th>2018-08-13 18:00:00</th>\n",
       "      <td>8.0</td>\n",
       "      <td>-31.0</td>\n",
       "      <td>73.0</td>\n",
       "      <td>-17.0</td>\n",
       "      <td>27.0</td>\n",
       "      <td>-52.0</td>\n",
       "      <td>-12.0</td>\n",
       "      <td>19.0</td>\n",
       "      <td>46.0</td>\n",
       "      <td>52.0</td>\n",
       "      <td>-27.0</td>\n",
       "      <td>-17.0</td>\n",
       "      <td>-60.0</td>\n",
       "      <td>-25.0</td>\n",
       "      <td>-269.0</td>\n",
       "      <td>0</td>\n",
       "      <td>18</td>\n",
       "      <td>1.083333</td>\n",
       "    </tr>\n",
       "  </tbody>\n",
       "</table>\n",
       "</div>"
      ],
      "text/plain": [
       "                     lag_1  lag_2  lag_3  lag_4  lag_5  lag_6  lag_7  lag_8  \\\n",
       "datetime                                                                      \n",
       "2018-08-13 14:00:00   27.0  -52.0  -12.0   19.0   46.0   52.0  -27.0  -17.0   \n",
       "2018-08-13 15:00:00  -17.0   27.0  -52.0  -12.0   19.0   46.0   52.0  -27.0   \n",
       "2018-08-13 16:00:00   73.0  -17.0   27.0  -52.0  -12.0   19.0   46.0   52.0   \n",
       "2018-08-13 17:00:00  -31.0   73.0  -17.0   27.0  -52.0  -12.0   19.0   46.0   \n",
       "2018-08-13 18:00:00    8.0  -31.0   73.0  -17.0   27.0  -52.0  -12.0   19.0   \n",
       "\n",
       "                     lag_9  lag_10  lag_11  lag_12  lag_13  lag_14  lag_15  \\\n",
       "datetime                                                                     \n",
       "2018-08-13 14:00:00  -60.0   -25.0  -269.0   164.0   113.0   -25.0    67.0   \n",
       "2018-08-13 15:00:00  -17.0   -60.0   -25.0  -269.0   164.0   113.0   -25.0   \n",
       "2018-08-13 16:00:00  -27.0   -17.0   -60.0   -25.0  -269.0   164.0   113.0   \n",
       "2018-08-13 17:00:00   52.0   -27.0   -17.0   -60.0   -25.0  -269.0   164.0   \n",
       "2018-08-13 18:00:00   46.0    52.0   -27.0   -17.0   -60.0   -25.0  -269.0   \n",
       "\n",
       "                     dayofweek  hour  rolling_mean_day  \n",
       "datetime                                                \n",
       "2018-08-13 14:00:00          0    14         -0.083333  \n",
       "2018-08-13 15:00:00          0    15          1.083333  \n",
       "2018-08-13 16:00:00          0    16         -0.375000  \n",
       "2018-08-13 17:00:00          0    17          1.541667  \n",
       "2018-08-13 18:00:00          0    18          1.083333  "
      ]
     },
     "metadata": {},
     "output_type": "display_data"
    },
    {
     "data": {
      "text/plain": [
       "datetime\n",
       "2018-08-13 14:00:00   -17.0\n",
       "2018-08-13 15:00:00    73.0\n",
       "2018-08-13 16:00:00   -31.0\n",
       "2018-08-13 17:00:00     8.0\n",
       "2018-08-13 18:00:00   -48.0\n",
       "Freq: H, Name: num_orders, dtype: float64"
      ]
     },
     "metadata": {},
     "output_type": "display_data"
    }
   ],
   "source": [
    "features_test = test.drop(['num_orders'], axis=1)\n",
    "target_test = test['num_orders']\n",
    "\n",
    "display(features_test.head())\n",
    "display(target_test.head())"
   ]
  },
  {
   "cell_type": "markdown",
   "metadata": {},
   "source": [
    "### Линейная регрессия"
   ]
  },
  {
   "cell_type": "code",
   "execution_count": 23,
   "metadata": {
    "scrolled": true
   },
   "outputs": [
    {
     "name": "stdout",
     "output_type": "stream",
     "text": [
      "RMSE на валидационной выборке: 35.498755686875924\n",
      "RMSE на тестовой выборке: 44.503207879779005\n"
     ]
    }
   ],
   "source": [
    "model = LinearRegression()\n",
    "model.fit(features_train, target_train)\n",
    "\n",
    "pred_valid = model.predict(features_valid)\n",
    "pred_test = model.predict(features_test)\n",
    "\n",
    "rmse_valid = mean_squared_error(target_valid, pred_valid) ** 0.5\n",
    "rmse_test = mean_squared_error(target_test, pred_test) ** 0.5\n",
    "\n",
    "print(\"RMSE на валидационной выборке:\", rmse_valid)\n",
    "print(\"RMSE на тестовой выборке:\", rmse_test)"
   ]
  },
  {
   "cell_type": "markdown",
   "metadata": {},
   "source": [
    "### Решающее дерево"
   ]
  },
  {
   "cell_type": "code",
   "execution_count": 24,
   "metadata": {},
   "outputs": [
    {
     "name": "stdout",
     "output_type": "stream",
     "text": [
      "RMSE наилучшей модели 'Дерево решений' на валидационной выборке: 0 Глубина дерева: 0\n",
      "RMSE наилучшей модели 'Дерево решений' на тестовой выборке: 0 Глубина дерева: 0\n"
     ]
    }
   ],
   "source": [
    "best_model_tree = None\n",
    "best_rmse_test = 0\n",
    "best_rmse_valid = 0\n",
    "best_depth_tree = 0\n",
    "\n",
    "for depth in range(1, 3):\n",
    "    model_tree = DecisionTreeRegressor(random_state=RANDOM_STATE, max_depth=depth)\n",
    "    model_tree.fit(features_train, target_train)\n",
    "    pred_valid = model_tree.predict(features_valid)\n",
    "    pred_test = model_tree.predict(features_test)\n",
    "    \n",
    "    rmse_valid = mean_squared_error(target_valid, pred_valid) ** 0.5\n",
    "    rmse_test = mean_squared_error(target_test, pred_test) ** 0.5\n",
    "\n",
    "    if rmse_valid > best_rmse_valid and (rmse_test < RMSE_LIMIT or rmse_test == RMSE_LIMIT):\n",
    "        best_model_tree = model_tree\n",
    "        best_rmse_valid = rmse_valid\n",
    "        best_rmse_test = rmse_test\n",
    "        best_depth_tree = depth\n",
    "        \n",
    "print(\"RMSE наилучшей модели 'Дерево решений' на валидационной выборке:\", best_rmse_valid, \"Глубина дерева:\", best_depth_tree)\n",
    "print(\"RMSE наилучшей модели 'Дерево решений' на тестовой выборке:\", best_rmse_test, \"Глубина дерева:\", best_depth_tree)\n"
   ]
  },
  {
   "cell_type": "markdown",
   "metadata": {},
   "source": [
    "### Случайный лес"
   ]
  },
  {
   "cell_type": "code",
   "execution_count": 25,
   "metadata": {},
   "outputs": [
    {
     "name": "stdout",
     "output_type": "stream",
     "text": [
      "{'max_depth': 6, 'n_estimators': 79, 'random_state': 12345}\n"
     ]
    }
   ],
   "source": [
    "model_forest = RandomForestRegressor()\n",
    "params = {\n",
    "    'max_depth': [randint(1, 100)],\n",
    "    'n_estimators': [randint(1, 100)],\n",
    "    'random_state': [RANDOM_STATE],\n",
    "}\n",
    "\n",
    "grid = GridSearchCV(model_forest, params, scoring='neg_root_mean_squared_error')\n",
    "grid.fit(features_train, target_train)\n",
    "print(grid.best_params_)"
   ]
  },
  {
   "cell_type": "code",
   "execution_count": 26,
   "metadata": {},
   "outputs": [],
   "source": [
    "def search_forest(depth, est):\n",
    "    model_forest = RandomForestRegressor(max_depth=depth, n_estimators=est, random_state=RANDOM_STATE)\n",
    "    model_forest.fit(features_train, target_train)\n",
    "    pred_valid = model_forest.predict(features_valid)\n",
    "    pred_test = model_forest.predict(features_test)\n",
    "\n",
    "    rmse_valid = mean_squared_error(target_valid, pred_valid) ** 0.5\n",
    "    rmse_test = mean_squared_error(target_test, pred_test) ** 0.5\n",
    "\n",
    "    print(\"RMSE наилучшей модели 'Случайный лес' на валидационной выборке\", rmse_valid)\n",
    "    print(\"RMSE наилучшей модели 'Случайный лес' на тестовой выборке\", rmse_test)"
   ]
  },
  {
   "cell_type": "code",
   "execution_count": 27,
   "metadata": {},
   "outputs": [
    {
     "name": "stdout",
     "output_type": "stream",
     "text": [
      "RMSE наилучшей модели 'Случайный лес' на валидационной выборке 33.49231975289885\n",
      "RMSE наилучшей модели 'Случайный лес' на тестовой выборке 44.80010877421266\n"
     ]
    }
   ],
   "source": [
    "search_forest(37, 58)"
   ]
  },
  {
   "cell_type": "markdown",
   "metadata": {},
   "source": [
    "### Градиентный бустинг"
   ]
  },
  {
   "cell_type": "code",
   "execution_count": 28,
   "metadata": {},
   "outputs": [
    {
     "data": {
      "application/vnd.jupyter.widget-view+json": {
       "model_id": "19440234c5984f2b9435088fe4b08a39",
       "version_major": 2,
       "version_minor": 0
      },
      "text/plain": [
       "MetricVisualizer(layout=Layout(align_self='stretch', height='500px'))"
      ]
     },
     "metadata": {},
     "output_type": "display_data"
    },
    {
     "name": "stdout",
     "output_type": "stream",
     "text": [
      "RMSE валидационной выборки: 27.50252070699105\n",
      "RMSE тестовой выборки: 38.9497981489593\n"
     ]
    }
   ],
   "source": [
    "cat = CatBoostRegressor()\n",
    "cat.fit(features_train, target_train, verbose=False, plot=True)\n",
    "\n",
    "pred_valid = cat.predict(features_valid)\n",
    "pred_test = cat.predict(features_test)\n",
    "\n",
    "rmse_valid = mean_squared_error(target_valid, pred_valid) ** 0.5\n",
    "rmse_test = mean_squared_error(target_test, pred_test) ** 0.5\n",
    "\n",
    "print(\"RMSE валидационной выборки:\", rmse_valid)\n",
    "print(\"RMSE тестовой выборки:\", rmse_test)"
   ]
  },
  {
   "cell_type": "markdown",
   "metadata": {},
   "source": [
    "<div class=\"alert alert-info\">\n",
    "   \n",
    "  Лучший RMSE на валидационной выборке (35.5) при RMSE на тестовой выборке не больше 48 показала модель линейной регресии.\n",
    "\n",
    "</div>"
   ]
  }
 ],
 "metadata": {
  "ExecuteTimeLog": [
   {
    "duration": 374,
    "start_time": "2022-07-18T20:29:54.677Z"
   },
   {
    "duration": 99,
    "start_time": "2022-07-18T20:29:55.052Z"
   },
   {
    "duration": 49,
    "start_time": "2022-07-18T20:30:01.416Z"
   },
   {
    "duration": 12,
    "start_time": "2022-07-18T20:30:11.154Z"
   },
   {
    "duration": 68,
    "start_time": "2022-07-18T20:58:31.650Z"
   },
   {
    "duration": 10,
    "start_time": "2022-07-18T20:58:55.843Z"
   },
   {
    "duration": 46,
    "start_time": "2022-07-18T21:06:46.369Z"
   },
   {
    "duration": 6,
    "start_time": "2022-07-18T21:06:50.482Z"
   },
   {
    "duration": 53,
    "start_time": "2022-07-18T21:07:04.509Z"
   },
   {
    "duration": 49,
    "start_time": "2022-07-18T21:07:16.526Z"
   },
   {
    "duration": 116,
    "start_time": "2022-07-18T21:08:05.328Z"
   },
   {
    "duration": 106,
    "start_time": "2022-07-18T21:08:20.013Z"
   },
   {
    "duration": 61,
    "start_time": "2022-07-18T21:08:29.006Z"
   },
   {
    "duration": 50,
    "start_time": "2022-07-18T21:08:44.136Z"
   },
   {
    "duration": 7,
    "start_time": "2022-07-18T21:08:54.526Z"
   },
   {
    "duration": 3,
    "start_time": "2022-07-18T21:10:19.752Z"
   },
   {
    "duration": 7,
    "start_time": "2022-07-18T21:10:35.417Z"
   },
   {
    "duration": 8,
    "start_time": "2022-07-18T21:11:36.806Z"
   },
   {
    "duration": 12,
    "start_time": "2022-07-18T21:11:58.837Z"
   },
   {
    "duration": 11,
    "start_time": "2022-07-18T21:16:50.253Z"
   },
   {
    "duration": 8,
    "start_time": "2022-07-18T21:16:57.287Z"
   },
   {
    "duration": 8,
    "start_time": "2022-07-18T21:17:06.573Z"
   },
   {
    "duration": 4,
    "start_time": "2022-07-18T21:17:22.210Z"
   },
   {
    "duration": 11,
    "start_time": "2022-07-18T21:17:24.377Z"
   },
   {
    "duration": 245,
    "start_time": "2022-07-18T21:23:50.031Z"
   },
   {
    "duration": 19,
    "start_time": "2022-07-18T21:24:58.900Z"
   },
   {
    "duration": 533,
    "start_time": "2022-07-18T21:25:09.871Z"
   },
   {
    "duration": 48,
    "start_time": "2022-07-18T21:25:46.037Z"
   },
   {
    "duration": 10,
    "start_time": "2022-07-18T21:26:38.197Z"
   },
   {
    "duration": 10,
    "start_time": "2022-07-18T21:27:10.144Z"
   },
   {
    "duration": 11,
    "start_time": "2022-07-18T21:27:27.143Z"
   },
   {
    "duration": 10,
    "start_time": "2022-07-18T21:27:47.920Z"
   },
   {
    "duration": 1142,
    "start_time": "2022-07-18T21:28:05.222Z"
   },
   {
    "duration": 54,
    "start_time": "2022-07-18T21:28:06.365Z"
   },
   {
    "duration": 4,
    "start_time": "2022-07-18T21:28:06.420Z"
   },
   {
    "duration": 21,
    "start_time": "2022-07-18T21:28:06.426Z"
   },
   {
    "duration": 108,
    "start_time": "2022-07-18T21:28:06.449Z"
   },
   {
    "duration": 13,
    "start_time": "2022-07-18T21:28:29.106Z"
   },
   {
    "duration": 11,
    "start_time": "2022-07-18T21:28:32.559Z"
   },
   {
    "duration": 11,
    "start_time": "2022-07-18T21:28:41.188Z"
   },
   {
    "duration": 17,
    "start_time": "2022-07-18T21:29:25.073Z"
   },
   {
    "duration": 8,
    "start_time": "2022-07-18T21:31:10.134Z"
   },
   {
    "duration": 204,
    "start_time": "2022-07-18T21:31:14.206Z"
   },
   {
    "duration": 184,
    "start_time": "2022-07-18T21:31:32.647Z"
   },
   {
    "duration": 179,
    "start_time": "2022-07-18T21:31:38.320Z"
   },
   {
    "duration": 8,
    "start_time": "2022-07-18T21:31:45.251Z"
   },
   {
    "duration": 170,
    "start_time": "2022-07-18T21:31:48.101Z"
   },
   {
    "duration": 270,
    "start_time": "2022-07-18T21:31:53.854Z"
   },
   {
    "duration": 188,
    "start_time": "2022-07-18T21:32:38.428Z"
   },
   {
    "duration": 213,
    "start_time": "2022-07-18T21:33:08.253Z"
   },
   {
    "duration": 223,
    "start_time": "2022-07-18T21:33:12.800Z"
   },
   {
    "duration": 187,
    "start_time": "2022-07-18T21:33:40.923Z"
   },
   {
    "duration": 226,
    "start_time": "2022-07-18T21:34:20.890Z"
   },
   {
    "duration": 300,
    "start_time": "2022-07-18T21:34:33.742Z"
   },
   {
    "duration": 220,
    "start_time": "2022-07-18T21:34:51.475Z"
   },
   {
    "duration": 205,
    "start_time": "2022-07-18T21:35:19.492Z"
   },
   {
    "duration": 207,
    "start_time": "2022-07-18T21:35:25.329Z"
   },
   {
    "duration": 195,
    "start_time": "2022-07-18T21:35:27.655Z"
   },
   {
    "duration": 223,
    "start_time": "2022-07-18T21:35:30.044Z"
   },
   {
    "duration": 288,
    "start_time": "2022-07-18T21:35:32.357Z"
   },
   {
    "duration": 704,
    "start_time": "2022-07-18T21:36:32.919Z"
   },
   {
    "duration": 686,
    "start_time": "2022-07-18T21:37:15.843Z"
   },
   {
    "duration": 489,
    "start_time": "2022-07-18T22:01:01.379Z"
   },
   {
    "duration": 10,
    "start_time": "2022-07-18T22:13:19.775Z"
   },
   {
    "duration": 10,
    "start_time": "2022-07-18T22:13:26.570Z"
   },
   {
    "duration": 5,
    "start_time": "2022-07-18T22:13:35.974Z"
   },
   {
    "duration": 23,
    "start_time": "2022-07-18T22:15:25.884Z"
   },
   {
    "duration": 6,
    "start_time": "2022-07-18T22:16:26.828Z"
   },
   {
    "duration": 21,
    "start_time": "2022-07-18T22:24:55.194Z"
   },
   {
    "duration": 146,
    "start_time": "2022-07-18T22:25:03.330Z"
   },
   {
    "duration": 1938,
    "start_time": "2022-07-18T22:26:03.315Z"
   },
   {
    "duration": 1626,
    "start_time": "2022-07-18T22:27:19.924Z"
   },
   {
    "duration": 2021,
    "start_time": "2022-07-18T22:28:30.824Z"
   },
   {
    "duration": 3084,
    "start_time": "2022-07-18T22:28:35.666Z"
   },
   {
    "duration": 1901,
    "start_time": "2022-07-18T22:29:07.846Z"
   },
   {
    "duration": 1810,
    "start_time": "2022-07-18T22:29:41.037Z"
   },
   {
    "duration": 1909,
    "start_time": "2022-07-18T22:30:03.948Z"
   },
   {
    "duration": 1491,
    "start_time": "2022-07-18T22:30:21.467Z"
   },
   {
    "duration": 1809,
    "start_time": "2022-07-18T22:30:56.838Z"
   },
   {
    "duration": 1833,
    "start_time": "2022-07-18T22:31:03.114Z"
   },
   {
    "duration": 1799,
    "start_time": "2022-07-18T22:31:31.148Z"
   },
   {
    "duration": 990,
    "start_time": "2022-07-18T22:32:04.392Z"
   },
   {
    "duration": 3209,
    "start_time": "2022-07-18T22:32:26.950Z"
   },
   {
    "duration": 1882,
    "start_time": "2022-07-18T22:33:30.375Z"
   },
   {
    "duration": 4,
    "start_time": "2022-07-18T22:35:19.444Z"
   },
   {
    "duration": 1672,
    "start_time": "2022-07-18T22:35:19.675Z"
   },
   {
    "duration": 5,
    "start_time": "2022-07-18T22:35:39.485Z"
   },
   {
    "duration": 1539,
    "start_time": "2022-07-18T22:35:39.813Z"
   },
   {
    "duration": 4,
    "start_time": "2022-07-18T22:35:47.592Z"
   },
   {
    "duration": 2005,
    "start_time": "2022-07-18T22:35:47.743Z"
   },
   {
    "duration": 3,
    "start_time": "2022-07-18T22:47:22.111Z"
   },
   {
    "duration": 9,
    "start_time": "2022-07-18T22:47:22.305Z"
   },
   {
    "duration": 3,
    "start_time": "2022-07-18T22:47:27.699Z"
   },
   {
    "duration": 9,
    "start_time": "2022-07-18T22:47:27.843Z"
   },
   {
    "duration": 9,
    "start_time": "2022-07-18T22:47:30.479Z"
   },
   {
    "duration": 3,
    "start_time": "2022-07-18T22:47:41.275Z"
   },
   {
    "duration": 7,
    "start_time": "2022-07-18T22:47:41.423Z"
   },
   {
    "duration": 3,
    "start_time": "2022-07-18T22:48:26.789Z"
   },
   {
    "duration": 14,
    "start_time": "2022-07-18T22:48:27.206Z"
   },
   {
    "duration": 3,
    "start_time": "2022-07-18T22:48:33.769Z"
   },
   {
    "duration": 13,
    "start_time": "2022-07-18T22:48:33.918Z"
   },
   {
    "duration": 12,
    "start_time": "2022-07-18T22:48:39.857Z"
   },
   {
    "duration": 4,
    "start_time": "2022-07-18T22:48:47.689Z"
   },
   {
    "duration": 13,
    "start_time": "2022-07-18T22:48:47.835Z"
   },
   {
    "duration": 4,
    "start_time": "2022-07-18T22:48:55.820Z"
   },
   {
    "duration": 19,
    "start_time": "2022-07-18T22:48:55.978Z"
   },
   {
    "duration": 7,
    "start_time": "2022-07-18T22:57:07.132Z"
   },
   {
    "duration": 17,
    "start_time": "2022-07-18T22:57:07.341Z"
   },
   {
    "duration": 3,
    "start_time": "2022-07-18T22:58:34.656Z"
   },
   {
    "duration": 7,
    "start_time": "2022-07-18T23:00:56.919Z"
   },
   {
    "duration": 14,
    "start_time": "2022-07-18T23:01:46.879Z"
   },
   {
    "duration": 15,
    "start_time": "2022-07-18T23:02:04.882Z"
   },
   {
    "duration": 18,
    "start_time": "2022-07-18T23:02:38.655Z"
   },
   {
    "duration": 20,
    "start_time": "2022-07-18T23:03:35.552Z"
   },
   {
    "duration": 15,
    "start_time": "2022-07-18T23:03:39.689Z"
   },
   {
    "duration": 15,
    "start_time": "2022-07-18T23:03:41.581Z"
   },
   {
    "duration": 16,
    "start_time": "2022-07-18T23:03:44.564Z"
   },
   {
    "duration": 22,
    "start_time": "2022-07-18T23:04:38.303Z"
   },
   {
    "duration": 21,
    "start_time": "2022-07-18T23:04:41.854Z"
   },
   {
    "duration": 13,
    "start_time": "2022-07-18T23:04:42.205Z"
   },
   {
    "duration": 15,
    "start_time": "2022-07-18T23:04:42.599Z"
   },
   {
    "duration": 17,
    "start_time": "2022-07-18T23:04:43.723Z"
   },
   {
    "duration": 16,
    "start_time": "2022-07-18T23:04:46.147Z"
   },
   {
    "duration": 29,
    "start_time": "2022-07-18T23:04:52.274Z"
   },
   {
    "duration": 14,
    "start_time": "2022-07-18T23:04:54.486Z"
   },
   {
    "duration": 16,
    "start_time": "2022-07-18T23:04:54.728Z"
   },
   {
    "duration": 17,
    "start_time": "2022-07-18T23:04:55.369Z"
   },
   {
    "duration": 16,
    "start_time": "2022-07-18T23:04:58.299Z"
   },
   {
    "duration": 1280,
    "start_time": "2022-07-18T23:08:53.188Z"
   },
   {
    "duration": 55,
    "start_time": "2022-07-18T23:08:54.470Z"
   },
   {
    "duration": 3,
    "start_time": "2022-07-18T23:08:54.527Z"
   },
   {
    "duration": 22,
    "start_time": "2022-07-18T23:08:54.532Z"
   },
   {
    "duration": 6,
    "start_time": "2022-07-18T23:08:54.556Z"
   },
   {
    "duration": 636,
    "start_time": "2022-07-18T23:08:54.564Z"
   },
   {
    "duration": 4,
    "start_time": "2022-07-18T23:08:55.202Z"
   },
   {
    "duration": 2140,
    "start_time": "2022-07-18T23:08:55.208Z"
   },
   {
    "duration": 5,
    "start_time": "2022-07-18T23:08:57.350Z"
   },
   {
    "duration": 27,
    "start_time": "2022-07-18T23:08:57.445Z"
   },
   {
    "duration": 18,
    "start_time": "2022-07-18T23:08:57.474Z"
   },
   {
    "duration": 14,
    "start_time": "2022-07-18T23:08:57.493Z"
   },
   {
    "duration": 14,
    "start_time": "2022-07-18T23:08:57.508Z"
   },
   {
    "duration": 112,
    "start_time": "2022-07-18T23:08:57.547Z"
   },
   {
    "duration": 8,
    "start_time": "2022-07-18T23:09:57.248Z"
   },
   {
    "duration": 22,
    "start_time": "2022-07-18T23:10:08.860Z"
   },
   {
    "duration": 10,
    "start_time": "2022-07-18T23:10:27.077Z"
   },
   {
    "duration": 10,
    "start_time": "2022-07-18T23:11:19.998Z"
   },
   {
    "duration": 19,
    "start_time": "2022-07-18T23:11:52.939Z"
   },
   {
    "duration": 6,
    "start_time": "2022-07-18T23:12:18.587Z"
   },
   {
    "duration": 7,
    "start_time": "2022-07-18T23:12:32.269Z"
   },
   {
    "duration": 7,
    "start_time": "2022-07-18T23:12:51.856Z"
   },
   {
    "duration": 9,
    "start_time": "2022-07-18T23:13:04.730Z"
   },
   {
    "duration": 7,
    "start_time": "2022-07-18T23:13:09.717Z"
   },
   {
    "duration": 16,
    "start_time": "2022-07-18T23:13:13.810Z"
   },
   {
    "duration": 13,
    "start_time": "2022-07-18T23:13:14.974Z"
   },
   {
    "duration": 41,
    "start_time": "2022-07-18T23:13:15.817Z"
   },
   {
    "duration": 130,
    "start_time": "2022-07-18T23:17:14.654Z"
   },
   {
    "duration": 3379,
    "start_time": "2022-07-18T23:17:59.621Z"
   },
   {
    "duration": 15,
    "start_time": "2022-07-18T23:20:19.469Z"
   },
   {
    "duration": 4,
    "start_time": "2022-07-18T23:21:24.925Z"
   },
   {
    "duration": 25,
    "start_time": "2022-07-18T23:22:23.202Z"
   },
   {
    "duration": 2688,
    "start_time": "2022-07-18T23:24:15.465Z"
   },
   {
    "duration": 62,
    "start_time": "2022-07-18T23:26:32.246Z"
   },
   {
    "duration": 4,
    "start_time": "2022-07-18T23:26:43.167Z"
   },
   {
    "duration": 2546,
    "start_time": "2022-07-18T23:26:54.351Z"
   },
   {
    "duration": 2820,
    "start_time": "2022-07-18T23:27:18.647Z"
   },
   {
    "duration": 3,
    "start_time": "2022-07-18T23:28:01.620Z"
   },
   {
    "duration": 425,
    "start_time": "2022-07-18T23:28:16.329Z"
   },
   {
    "duration": 474,
    "start_time": "2022-07-18T23:28:49.926Z"
   },
   {
    "duration": 2622,
    "start_time": "2022-07-18T23:29:09.745Z"
   },
   {
    "duration": 4,
    "start_time": "2022-07-18T23:29:16.401Z"
   },
   {
    "duration": 3,
    "start_time": "2022-07-18T23:29:16.609Z"
   },
   {
    "duration": 9,
    "start_time": "2022-07-18T23:35:11.732Z"
   },
   {
    "duration": 17,
    "start_time": "2022-07-18T23:35:22.368Z"
   },
   {
    "duration": 17,
    "start_time": "2022-07-18T23:35:54.608Z"
   },
   {
    "duration": 9,
    "start_time": "2022-07-18T23:36:12.003Z"
   },
   {
    "duration": 16,
    "start_time": "2022-07-18T23:36:13.701Z"
   },
   {
    "duration": 16,
    "start_time": "2022-07-18T23:36:20.677Z"
   },
   {
    "duration": 10,
    "start_time": "2022-07-18T23:36:35.682Z"
   },
   {
    "duration": 9,
    "start_time": "2022-07-18T23:37:08.163Z"
   },
   {
    "duration": 10,
    "start_time": "2022-07-18T23:37:38.587Z"
   },
   {
    "duration": 10,
    "start_time": "2022-07-18T23:37:54.088Z"
   },
   {
    "duration": 15,
    "start_time": "2022-07-18T23:38:56.734Z"
   },
   {
    "duration": 97,
    "start_time": "2022-07-18T23:39:59.557Z"
   },
   {
    "duration": 19,
    "start_time": "2022-07-18T23:40:49.654Z"
   },
   {
    "duration": 20,
    "start_time": "2022-07-18T23:41:04.900Z"
   },
   {
    "duration": 12,
    "start_time": "2022-07-18T23:41:24.259Z"
   },
   {
    "duration": 21,
    "start_time": "2022-07-18T23:41:41.141Z"
   },
   {
    "duration": 2531,
    "start_time": "2022-07-18T23:41:57.937Z"
   },
   {
    "duration": 2650,
    "start_time": "2022-07-18T23:42:37.333Z"
   },
   {
    "duration": 2,
    "start_time": "2022-07-18T23:43:24.206Z"
   },
   {
    "duration": 3,
    "start_time": "2022-07-18T23:43:55.001Z"
   },
   {
    "duration": 3,
    "start_time": "2022-07-18T23:44:25.133Z"
   },
   {
    "duration": 15,
    "start_time": "2022-07-18T23:44:46.021Z"
   },
   {
    "duration": 67,
    "start_time": "2022-07-18T23:45:04.373Z"
   },
   {
    "duration": 3,
    "start_time": "2022-07-18T23:45:20.449Z"
   },
   {
    "duration": 74,
    "start_time": "2022-07-18T23:45:23.691Z"
   },
   {
    "duration": 3,
    "start_time": "2022-07-18T23:45:41.591Z"
   },
   {
    "duration": 70,
    "start_time": "2022-07-18T23:45:46.133Z"
   },
   {
    "duration": 52,
    "start_time": "2022-07-18T23:46:07.130Z"
   },
   {
    "duration": 53,
    "start_time": "2022-07-18T23:46:17.072Z"
   },
   {
    "duration": 89,
    "start_time": "2022-07-18T23:46:32.673Z"
   },
   {
    "duration": 48,
    "start_time": "2022-07-18T23:46:49.683Z"
   },
   {
    "duration": 73,
    "start_time": "2022-07-18T23:46:52.681Z"
   },
   {
    "duration": 66,
    "start_time": "2022-07-18T23:47:02.318Z"
   },
   {
    "duration": 82,
    "start_time": "2022-07-18T23:47:13.232Z"
   },
   {
    "duration": 70,
    "start_time": "2022-07-18T23:47:16.032Z"
   },
   {
    "duration": 65,
    "start_time": "2022-07-18T23:47:39.367Z"
   },
   {
    "duration": 90,
    "start_time": "2022-07-18T23:50:02.458Z"
   },
   {
    "duration": 13,
    "start_time": "2022-07-18T23:50:33.646Z"
   },
   {
    "duration": 14,
    "start_time": "2022-07-18T23:51:19.512Z"
   },
   {
    "duration": 2189,
    "start_time": "2022-07-18T23:51:55.884Z"
   },
   {
    "duration": 8,
    "start_time": "2022-07-18T23:54:59.802Z"
   },
   {
    "duration": 7,
    "start_time": "2022-07-18T23:55:07.896Z"
   },
   {
    "duration": 15,
    "start_time": "2022-07-18T23:55:29.505Z"
   },
   {
    "duration": 14,
    "start_time": "2022-07-18T23:55:38.582Z"
   },
   {
    "duration": 15,
    "start_time": "2022-07-18T23:55:44.395Z"
   },
   {
    "duration": 8,
    "start_time": "2022-07-18T23:55:48.461Z"
   },
   {
    "duration": 16,
    "start_time": "2022-07-18T23:55:49.094Z"
   },
   {
    "duration": 16,
    "start_time": "2022-07-18T23:55:49.562Z"
   },
   {
    "duration": 15,
    "start_time": "2022-07-18T23:55:57.300Z"
   },
   {
    "duration": 88,
    "start_time": "2022-07-18T23:56:01.211Z"
   },
   {
    "duration": 95,
    "start_time": "2022-07-18T23:56:35.786Z"
   },
   {
    "duration": 83,
    "start_time": "2022-07-18T23:56:49.614Z"
   },
   {
    "duration": 90,
    "start_time": "2022-07-18T23:57:00.681Z"
   },
   {
    "duration": 87,
    "start_time": "2022-07-18T23:57:22.622Z"
   },
   {
    "duration": 86,
    "start_time": "2022-07-18T23:57:33.091Z"
   },
   {
    "duration": 91,
    "start_time": "2022-07-18T23:57:35.994Z"
   },
   {
    "duration": 85,
    "start_time": "2022-07-18T23:57:42.505Z"
   },
   {
    "duration": 286,
    "start_time": "2022-07-18T23:58:10.424Z"
   },
   {
    "duration": 991,
    "start_time": "2022-07-18T23:58:35.921Z"
   },
   {
    "duration": 971,
    "start_time": "2022-07-18T23:58:42.189Z"
   },
   {
    "duration": 1012,
    "start_time": "2022-07-18T23:58:47.031Z"
   },
   {
    "duration": 2205,
    "start_time": "2022-07-18T23:58:51.199Z"
   },
   {
    "duration": 14,
    "start_time": "2022-07-19T00:00:10.112Z"
   },
   {
    "duration": 16,
    "start_time": "2022-07-19T00:00:16.357Z"
   },
   {
    "duration": 1431,
    "start_time": "2022-07-19T00:00:38.007Z"
   },
   {
    "duration": 3,
    "start_time": "2022-07-19T00:00:39.440Z"
   },
   {
    "duration": 76,
    "start_time": "2022-07-19T00:00:39.445Z"
   },
   {
    "duration": 4,
    "start_time": "2022-07-19T00:00:39.522Z"
   },
   {
    "duration": 27,
    "start_time": "2022-07-19T00:00:39.528Z"
   },
   {
    "duration": 9,
    "start_time": "2022-07-19T00:00:39.556Z"
   },
   {
    "duration": 761,
    "start_time": "2022-07-19T00:00:39.567Z"
   },
   {
    "duration": 3,
    "start_time": "2022-07-19T00:00:40.330Z"
   },
   {
    "duration": 3920,
    "start_time": "2022-07-19T00:00:40.335Z"
   },
   {
    "duration": 89,
    "start_time": "2022-07-19T00:00:44.257Z"
   },
   {
    "duration": 44,
    "start_time": "2022-07-19T00:00:44.349Z"
   },
   {
    "duration": 20,
    "start_time": "2022-07-19T00:00:44.394Z"
   },
   {
    "duration": 31,
    "start_time": "2022-07-19T00:00:44.415Z"
   },
   {
    "duration": 45,
    "start_time": "2022-07-19T00:00:44.449Z"
   },
   {
    "duration": 56,
    "start_time": "2022-07-19T00:00:44.495Z"
   },
   {
    "duration": 218,
    "start_time": "2022-07-19T00:00:44.553Z"
   },
   {
    "duration": 0,
    "start_time": "2022-07-19T00:00:44.772Z"
   },
   {
    "duration": 2222,
    "start_time": "2022-07-19T00:01:25.739Z"
   },
   {
    "duration": 2232,
    "start_time": "2022-07-19T00:02:05.240Z"
   },
   {
    "duration": 2264,
    "start_time": "2022-07-19T00:03:01.704Z"
   },
   {
    "duration": 2806,
    "start_time": "2022-07-19T00:03:05.403Z"
   },
   {
    "duration": 10,
    "start_time": "2022-07-19T00:05:32.666Z"
   },
   {
    "duration": 4,
    "start_time": "2022-07-19T00:05:57.710Z"
   },
   {
    "duration": 11,
    "start_time": "2022-07-19T00:06:03.812Z"
   },
   {
    "duration": 4,
    "start_time": "2022-07-19T00:06:18.916Z"
   },
   {
    "duration": 6524,
    "start_time": "2022-07-19T00:06:23.041Z"
   },
   {
    "duration": 6224,
    "start_time": "2022-07-19T00:06:47.539Z"
   },
   {
    "duration": 7503,
    "start_time": "2022-07-19T00:07:01.676Z"
   },
   {
    "duration": 4,
    "start_time": "2022-07-19T00:09:01.452Z"
   },
   {
    "duration": 1349,
    "start_time": "2022-07-19T00:09:01.765Z"
   },
   {
    "duration": 7459,
    "start_time": "2022-07-19T00:09:34.305Z"
   },
   {
    "duration": 7591,
    "start_time": "2022-07-19T00:09:46.629Z"
   },
   {
    "duration": 7859,
    "start_time": "2022-07-19T00:10:07.957Z"
   },
   {
    "duration": 1410,
    "start_time": "2022-07-19T00:10:26.970Z"
   },
   {
    "duration": 7731,
    "start_time": "2022-07-19T00:11:09.894Z"
   },
   {
    "duration": 11,
    "start_time": "2022-07-19T00:11:42.619Z"
   },
   {
    "duration": 176,
    "start_time": "2022-07-19T00:11:50.389Z"
   },
   {
    "duration": 22,
    "start_time": "2022-07-19T00:11:56.868Z"
   },
   {
    "duration": 1331,
    "start_time": "2022-07-19T00:12:07.171Z"
   },
   {
    "duration": 2086,
    "start_time": "2022-07-19T00:13:50.854Z"
   },
   {
    "duration": 83,
    "start_time": "2022-07-19T00:14:00.403Z"
   },
   {
    "duration": 298,
    "start_time": "2022-07-19T00:14:08.053Z"
   },
   {
    "duration": 4366,
    "start_time": "2022-07-19T00:14:13.275Z"
   },
   {
    "duration": 85,
    "start_time": "2022-07-19T00:14:28.093Z"
   },
   {
    "duration": 10,
    "start_time": "2022-07-19T00:14:34.060Z"
   },
   {
    "duration": 15,
    "start_time": "2022-07-19T00:14:39.513Z"
   },
   {
    "duration": 27,
    "start_time": "2022-07-19T00:14:42.847Z"
   },
   {
    "duration": 47,
    "start_time": "2022-07-19T00:14:50.595Z"
   },
   {
    "duration": 28,
    "start_time": "2022-07-19T00:14:55.547Z"
   },
   {
    "duration": 16,
    "start_time": "2022-07-19T00:15:22.766Z"
   },
   {
    "duration": 9,
    "start_time": "2022-07-19T00:15:27.885Z"
   },
   {
    "duration": 15,
    "start_time": "2022-07-19T00:15:31.888Z"
   },
   {
    "duration": 7,
    "start_time": "2022-07-19T19:04:37.041Z"
   },
   {
    "duration": 1708,
    "start_time": "2022-07-19T19:04:59.532Z"
   },
   {
    "duration": 3,
    "start_time": "2022-07-19T19:05:01.242Z"
   },
   {
    "duration": 164,
    "start_time": "2022-07-19T19:05:01.246Z"
   },
   {
    "duration": 3,
    "start_time": "2022-07-19T19:05:01.413Z"
   },
   {
    "duration": 31,
    "start_time": "2022-07-19T19:05:01.417Z"
   },
   {
    "duration": 25,
    "start_time": "2022-07-19T19:05:01.450Z"
   },
   {
    "duration": 713,
    "start_time": "2022-07-19T19:05:01.476Z"
   },
   {
    "duration": 4,
    "start_time": "2022-07-19T19:05:02.191Z"
   },
   {
    "duration": 1603,
    "start_time": "2022-07-19T19:05:02.202Z"
   },
   {
    "duration": 93,
    "start_time": "2022-07-19T19:05:03.810Z"
   },
   {
    "duration": 0,
    "start_time": "2022-07-19T19:05:03.905Z"
   },
   {
    "duration": 0,
    "start_time": "2022-07-19T19:05:03.907Z"
   },
   {
    "duration": 0,
    "start_time": "2022-07-19T19:05:03.909Z"
   },
   {
    "duration": 1,
    "start_time": "2022-07-19T19:05:03.910Z"
   },
   {
    "duration": 0,
    "start_time": "2022-07-19T19:05:03.912Z"
   },
   {
    "duration": 0,
    "start_time": "2022-07-19T19:05:03.913Z"
   },
   {
    "duration": 0,
    "start_time": "2022-07-19T19:05:03.914Z"
   },
   {
    "duration": 0,
    "start_time": "2022-07-19T19:05:03.916Z"
   },
   {
    "duration": 0,
    "start_time": "2022-07-19T19:05:03.917Z"
   },
   {
    "duration": 0,
    "start_time": "2022-07-19T19:05:03.918Z"
   },
   {
    "duration": 0,
    "start_time": "2022-07-19T19:05:03.919Z"
   },
   {
    "duration": 4,
    "start_time": "2022-07-19T19:05:50.459Z"
   },
   {
    "duration": 4,
    "start_time": "2022-07-19T19:05:59.508Z"
   },
   {
    "duration": 1374,
    "start_time": "2022-07-19T19:06:05.727Z"
   },
   {
    "duration": 2,
    "start_time": "2022-07-19T19:06:07.103Z"
   },
   {
    "duration": 57,
    "start_time": "2022-07-19T19:06:07.106Z"
   },
   {
    "duration": 4,
    "start_time": "2022-07-19T19:06:07.166Z"
   },
   {
    "duration": 15,
    "start_time": "2022-07-19T19:06:07.174Z"
   },
   {
    "duration": 14,
    "start_time": "2022-07-19T19:06:07.190Z"
   },
   {
    "duration": 801,
    "start_time": "2022-07-19T19:06:07.205Z"
   },
   {
    "duration": 4,
    "start_time": "2022-07-19T19:06:08.008Z"
   },
   {
    "duration": 1190,
    "start_time": "2022-07-19T19:06:08.013Z"
   },
   {
    "duration": 3,
    "start_time": "2022-07-19T19:06:09.205Z"
   },
   {
    "duration": 112,
    "start_time": "2022-07-19T19:06:09.209Z"
   },
   {
    "duration": 9,
    "start_time": "2022-07-19T19:06:09.324Z"
   },
   {
    "duration": 19,
    "start_time": "2022-07-19T19:06:09.335Z"
   },
   {
    "duration": 14,
    "start_time": "2022-07-19T19:06:09.357Z"
   },
   {
    "duration": 131,
    "start_time": "2022-07-19T19:06:09.374Z"
   },
   {
    "duration": 109,
    "start_time": "2022-07-19T19:06:09.508Z"
   },
   {
    "duration": 7239,
    "start_time": "2022-07-19T19:06:09.618Z"
   },
   {
    "duration": 3,
    "start_time": "2022-07-19T19:06:16.859Z"
   },
   {
    "duration": 1332,
    "start_time": "2022-07-19T19:06:16.864Z"
   },
   {
    "duration": 2911,
    "start_time": "2022-07-19T19:06:18.197Z"
   },
   {
    "duration": 4,
    "start_time": "2022-07-19T19:06:55.525Z"
   },
   {
    "duration": 1459,
    "start_time": "2022-07-19T19:07:08.410Z"
   },
   {
    "duration": 3,
    "start_time": "2022-07-19T19:07:09.870Z"
   },
   {
    "duration": 70,
    "start_time": "2022-07-19T19:07:09.874Z"
   },
   {
    "duration": 4,
    "start_time": "2022-07-19T19:07:09.946Z"
   },
   {
    "duration": 23,
    "start_time": "2022-07-19T19:07:09.951Z"
   },
   {
    "duration": 6,
    "start_time": "2022-07-19T19:07:09.975Z"
   },
   {
    "duration": 731,
    "start_time": "2022-07-19T19:07:09.983Z"
   },
   {
    "duration": 4,
    "start_time": "2022-07-19T19:07:10.718Z"
   },
   {
    "duration": 1289,
    "start_time": "2022-07-19T19:07:10.724Z"
   },
   {
    "duration": 6,
    "start_time": "2022-07-19T19:07:12.019Z"
   },
   {
    "duration": 177,
    "start_time": "2022-07-19T19:07:12.027Z"
   },
   {
    "duration": 7,
    "start_time": "2022-07-19T19:07:12.206Z"
   },
   {
    "duration": 18,
    "start_time": "2022-07-19T19:07:12.215Z"
   },
   {
    "duration": 14,
    "start_time": "2022-07-19T19:07:12.235Z"
   },
   {
    "duration": 67,
    "start_time": "2022-07-19T19:07:12.250Z"
   },
   {
    "duration": 116,
    "start_time": "2022-07-19T19:07:12.319Z"
   },
   {
    "duration": 7589,
    "start_time": "2022-07-19T19:07:12.437Z"
   },
   {
    "duration": 4,
    "start_time": "2022-07-19T19:07:20.027Z"
   },
   {
    "duration": 1319,
    "start_time": "2022-07-19T19:07:20.032Z"
   },
   {
    "duration": 2945,
    "start_time": "2022-07-19T19:07:21.353Z"
   },
   {
    "duration": 1404,
    "start_time": "2022-07-19T19:07:54.680Z"
   },
   {
    "duration": 4,
    "start_time": "2022-07-19T19:07:56.085Z"
   },
   {
    "duration": 59,
    "start_time": "2022-07-19T19:07:56.090Z"
   },
   {
    "duration": 4,
    "start_time": "2022-07-19T19:07:56.151Z"
   },
   {
    "duration": 14,
    "start_time": "2022-07-19T19:07:56.157Z"
   },
   {
    "duration": 8,
    "start_time": "2022-07-19T19:07:56.173Z"
   },
   {
    "duration": 708,
    "start_time": "2022-07-19T19:07:56.182Z"
   },
   {
    "duration": 10,
    "start_time": "2022-07-19T19:07:56.892Z"
   },
   {
    "duration": 1699,
    "start_time": "2022-07-19T19:07:56.904Z"
   },
   {
    "duration": 4,
    "start_time": "2022-07-19T19:07:58.604Z"
   },
   {
    "duration": 116,
    "start_time": "2022-07-19T19:07:58.610Z"
   },
   {
    "duration": 6,
    "start_time": "2022-07-19T19:07:58.727Z"
   },
   {
    "duration": 15,
    "start_time": "2022-07-19T19:07:58.734Z"
   },
   {
    "duration": 15,
    "start_time": "2022-07-19T19:07:58.751Z"
   },
   {
    "duration": 45,
    "start_time": "2022-07-19T19:07:58.769Z"
   },
   {
    "duration": 187,
    "start_time": "2022-07-19T19:07:58.816Z"
   },
   {
    "duration": 7404,
    "start_time": "2022-07-19T19:07:59.005Z"
   },
   {
    "duration": 4,
    "start_time": "2022-07-19T19:08:06.411Z"
   },
   {
    "duration": 1405,
    "start_time": "2022-07-19T19:08:06.418Z"
   },
   {
    "duration": 2815,
    "start_time": "2022-07-19T19:08:07.824Z"
   },
   {
    "duration": 7600,
    "start_time": "2022-07-19T19:08:32.105Z"
   },
   {
    "duration": 5,
    "start_time": "2022-07-19T19:15:06.564Z"
   },
   {
    "duration": 1444,
    "start_time": "2022-07-19T19:15:11.515Z"
   },
   {
    "duration": 4,
    "start_time": "2022-07-19T19:15:12.961Z"
   },
   {
    "duration": 65,
    "start_time": "2022-07-19T19:15:12.967Z"
   },
   {
    "duration": 5,
    "start_time": "2022-07-19T19:15:13.034Z"
   },
   {
    "duration": 21,
    "start_time": "2022-07-19T19:15:13.041Z"
   },
   {
    "duration": 7,
    "start_time": "2022-07-19T19:15:13.064Z"
   },
   {
    "duration": 769,
    "start_time": "2022-07-19T19:15:13.073Z"
   },
   {
    "duration": 4,
    "start_time": "2022-07-19T19:15:13.844Z"
   },
   {
    "duration": 1576,
    "start_time": "2022-07-19T19:15:13.849Z"
   },
   {
    "duration": 5,
    "start_time": "2022-07-19T19:15:15.504Z"
   },
   {
    "duration": 122,
    "start_time": "2022-07-19T19:15:15.513Z"
   },
   {
    "duration": 7,
    "start_time": "2022-07-19T19:15:15.637Z"
   },
   {
    "duration": 13,
    "start_time": "2022-07-19T19:15:15.645Z"
   },
   {
    "duration": 12,
    "start_time": "2022-07-19T19:15:15.662Z"
   },
   {
    "duration": 30,
    "start_time": "2022-07-19T19:15:15.676Z"
   },
   {
    "duration": 130,
    "start_time": "2022-07-19T19:15:15.708Z"
   },
   {
    "duration": 7400,
    "start_time": "2022-07-19T19:15:15.840Z"
   },
   {
    "duration": 3,
    "start_time": "2022-07-19T19:15:23.242Z"
   },
   {
    "duration": 1291,
    "start_time": "2022-07-19T19:15:23.246Z"
   },
   {
    "duration": 2734,
    "start_time": "2022-07-19T19:15:24.539Z"
   },
   {
    "duration": 4,
    "start_time": "2022-07-19T19:16:34.685Z"
   },
   {
    "duration": 4,
    "start_time": "2022-07-19T19:17:01.577Z"
   },
   {
    "duration": 3010,
    "start_time": "2022-07-19T19:17:04.113Z"
   },
   {
    "duration": 8,
    "start_time": "2022-07-19T19:38:25.376Z"
   },
   {
    "duration": 15,
    "start_time": "2022-07-19T19:38:26.268Z"
   },
   {
    "duration": 13,
    "start_time": "2022-07-19T19:38:28.686Z"
   },
   {
    "duration": 14,
    "start_time": "2022-07-19T19:38:29.374Z"
   },
   {
    "duration": 9,
    "start_time": "2022-07-19T19:39:28.073Z"
   },
   {
    "duration": 16,
    "start_time": "2022-07-19T19:41:00.561Z"
   },
   {
    "duration": 16,
    "start_time": "2022-07-19T19:41:35.017Z"
   },
   {
    "duration": 18,
    "start_time": "2022-07-19T19:43:02.875Z"
   },
   {
    "duration": 1423,
    "start_time": "2022-07-19T19:44:23.891Z"
   },
   {
    "duration": 2,
    "start_time": "2022-07-19T19:44:25.316Z"
   },
   {
    "duration": 56,
    "start_time": "2022-07-19T19:44:25.320Z"
   },
   {
    "duration": 3,
    "start_time": "2022-07-19T19:44:25.378Z"
   },
   {
    "duration": 15,
    "start_time": "2022-07-19T19:44:25.382Z"
   },
   {
    "duration": 7,
    "start_time": "2022-07-19T19:44:25.398Z"
   },
   {
    "duration": 731,
    "start_time": "2022-07-19T19:44:25.406Z"
   },
   {
    "duration": 5,
    "start_time": "2022-07-19T19:44:26.139Z"
   },
   {
    "duration": 1758,
    "start_time": "2022-07-19T19:44:26.145Z"
   },
   {
    "duration": 5,
    "start_time": "2022-07-19T19:44:27.905Z"
   },
   {
    "duration": 115,
    "start_time": "2022-07-19T19:44:27.912Z"
   },
   {
    "duration": 9,
    "start_time": "2022-07-19T19:44:28.029Z"
   },
   {
    "duration": 29,
    "start_time": "2022-07-19T19:44:28.040Z"
   },
   {
    "duration": 31,
    "start_time": "2022-07-19T19:44:28.070Z"
   },
   {
    "duration": 26,
    "start_time": "2022-07-19T19:44:28.104Z"
   },
   {
    "duration": 209,
    "start_time": "2022-07-19T19:44:28.132Z"
   },
   {
    "duration": 0,
    "start_time": "2022-07-19T19:44:28.343Z"
   },
   {
    "duration": 0,
    "start_time": "2022-07-19T19:44:28.344Z"
   },
   {
    "duration": 0,
    "start_time": "2022-07-19T19:44:28.345Z"
   },
   {
    "duration": 0,
    "start_time": "2022-07-19T19:44:28.347Z"
   },
   {
    "duration": 0,
    "start_time": "2022-07-19T19:44:28.349Z"
   },
   {
    "duration": 11,
    "start_time": "2022-07-19T19:44:39.611Z"
   },
   {
    "duration": 10,
    "start_time": "2022-07-19T19:47:32.269Z"
   },
   {
    "duration": 16,
    "start_time": "2022-07-19T19:51:34.630Z"
   },
   {
    "duration": 11,
    "start_time": "2022-07-19T19:52:19.954Z"
   },
   {
    "duration": 15,
    "start_time": "2022-07-19T19:52:26.210Z"
   },
   {
    "duration": 12,
    "start_time": "2022-07-19T19:52:32.522Z"
   },
   {
    "duration": 13,
    "start_time": "2022-07-19T19:52:37.470Z"
   },
   {
    "duration": 4,
    "start_time": "2022-07-19T20:15:03.665Z"
   },
   {
    "duration": 2876,
    "start_time": "2022-07-19T20:15:04.960Z"
   },
   {
    "duration": 1341,
    "start_time": "2022-07-19T21:03:30.358Z"
   },
   {
    "duration": 3,
    "start_time": "2022-07-19T21:03:31.701Z"
   },
   {
    "duration": 57,
    "start_time": "2022-07-19T21:03:31.705Z"
   },
   {
    "duration": 3,
    "start_time": "2022-07-19T21:03:31.764Z"
   },
   {
    "duration": 6,
    "start_time": "2022-07-19T21:03:31.769Z"
   },
   {
    "duration": 23,
    "start_time": "2022-07-19T21:03:31.777Z"
   },
   {
    "duration": 9,
    "start_time": "2022-07-19T21:03:31.801Z"
   },
   {
    "duration": 758,
    "start_time": "2022-07-19T21:03:31.811Z"
   },
   {
    "duration": 1242,
    "start_time": "2022-07-19T21:03:32.571Z"
   },
   {
    "duration": 88,
    "start_time": "2022-07-19T21:03:33.815Z"
   },
   {
    "duration": 127,
    "start_time": "2022-07-19T21:03:33.905Z"
   },
   {
    "duration": 12,
    "start_time": "2022-07-19T21:03:34.034Z"
   },
   {
    "duration": 18,
    "start_time": "2022-07-19T21:03:34.048Z"
   },
   {
    "duration": 35,
    "start_time": "2022-07-19T21:03:34.068Z"
   },
   {
    "duration": 23,
    "start_time": "2022-07-19T21:03:34.105Z"
   },
   {
    "duration": 13,
    "start_time": "2022-07-19T21:03:34.129Z"
   },
   {
    "duration": 205,
    "start_time": "2022-07-19T21:03:34.145Z"
   },
   {
    "duration": 0,
    "start_time": "2022-07-19T21:03:34.352Z"
   },
   {
    "duration": 0,
    "start_time": "2022-07-19T21:03:34.353Z"
   },
   {
    "duration": 0,
    "start_time": "2022-07-19T21:03:34.355Z"
   },
   {
    "duration": 0,
    "start_time": "2022-07-19T21:03:34.356Z"
   },
   {
    "duration": 1546,
    "start_time": "2022-07-19T21:04:27.029Z"
   },
   {
    "duration": 4,
    "start_time": "2022-07-19T21:04:28.577Z"
   },
   {
    "duration": 75,
    "start_time": "2022-07-19T21:04:28.584Z"
   },
   {
    "duration": 4,
    "start_time": "2022-07-19T21:04:28.662Z"
   },
   {
    "duration": 6,
    "start_time": "2022-07-19T21:04:28.668Z"
   },
   {
    "duration": 24434,
    "start_time": "2022-07-19T21:04:28.675Z"
   },
   {
    "duration": 100,
    "start_time": "2022-07-19T21:04:53.112Z"
   },
   {
    "duration": 7,
    "start_time": "2022-07-19T21:04:53.214Z"
   },
   {
    "duration": 757,
    "start_time": "2022-07-19T21:04:53.222Z"
   },
   {
    "duration": 1237,
    "start_time": "2022-07-19T21:04:53.982Z"
   },
   {
    "duration": 3,
    "start_time": "2022-07-19T21:04:55.220Z"
   },
   {
    "duration": 191,
    "start_time": "2022-07-19T21:04:55.225Z"
   },
   {
    "duration": 12,
    "start_time": "2022-07-19T21:04:55.418Z"
   },
   {
    "duration": 32,
    "start_time": "2022-07-19T21:04:55.433Z"
   },
   {
    "duration": 37,
    "start_time": "2022-07-19T21:04:55.467Z"
   },
   {
    "duration": 15,
    "start_time": "2022-07-19T21:04:55.506Z"
   },
   {
    "duration": 13,
    "start_time": "2022-07-19T21:04:55.524Z"
   },
   {
    "duration": 211,
    "start_time": "2022-07-19T21:04:55.538Z"
   },
   {
    "duration": 0,
    "start_time": "2022-07-19T21:04:55.751Z"
   },
   {
    "duration": 0,
    "start_time": "2022-07-19T21:04:55.753Z"
   },
   {
    "duration": 0,
    "start_time": "2022-07-19T21:04:55.754Z"
   },
   {
    "duration": 0,
    "start_time": "2022-07-19T21:04:55.755Z"
   },
   {
    "duration": 1538,
    "start_time": "2022-07-19T21:08:30.776Z"
   },
   {
    "duration": 5,
    "start_time": "2022-07-19T21:08:32.317Z"
   },
   {
    "duration": 75,
    "start_time": "2022-07-19T21:08:32.324Z"
   },
   {
    "duration": 6,
    "start_time": "2022-07-19T21:08:32.401Z"
   },
   {
    "duration": 26,
    "start_time": "2022-07-19T21:08:32.409Z"
   },
   {
    "duration": 13,
    "start_time": "2022-07-19T21:08:32.438Z"
   },
   {
    "duration": 846,
    "start_time": "2022-07-19T21:08:32.454Z"
   },
   {
    "duration": 9,
    "start_time": "2022-07-19T21:08:33.301Z"
   },
   {
    "duration": 2805,
    "start_time": "2022-07-19T21:08:33.313Z"
   },
   {
    "duration": 4,
    "start_time": "2022-07-19T21:08:36.203Z"
   },
   {
    "duration": 35,
    "start_time": "2022-07-19T21:08:36.209Z"
   },
   {
    "duration": 14,
    "start_time": "2022-07-19T21:08:36.246Z"
   },
   {
    "duration": 41,
    "start_time": "2022-07-19T21:08:36.262Z"
   },
   {
    "duration": 22,
    "start_time": "2022-07-19T21:08:36.305Z"
   },
   {
    "duration": 22,
    "start_time": "2022-07-19T21:08:36.331Z"
   },
   {
    "duration": 49,
    "start_time": "2022-07-19T21:08:36.356Z"
   },
   {
    "duration": 277,
    "start_time": "2022-07-19T21:08:36.409Z"
   },
   {
    "duration": 0,
    "start_time": "2022-07-19T21:08:36.689Z"
   },
   {
    "duration": 0,
    "start_time": "2022-07-19T21:08:36.691Z"
   },
   {
    "duration": 0,
    "start_time": "2022-07-19T21:08:36.703Z"
   },
   {
    "duration": 0,
    "start_time": "2022-07-19T21:08:36.703Z"
   },
   {
    "duration": 15,
    "start_time": "2022-07-19T21:09:34.252Z"
   },
   {
    "duration": 1514,
    "start_time": "2022-07-19T21:09:38.297Z"
   },
   {
    "duration": 3,
    "start_time": "2022-07-19T21:09:39.813Z"
   },
   {
    "duration": 71,
    "start_time": "2022-07-19T21:09:39.819Z"
   },
   {
    "duration": 4,
    "start_time": "2022-07-19T21:09:39.892Z"
   },
   {
    "duration": 27,
    "start_time": "2022-07-19T21:09:39.898Z"
   },
   {
    "duration": 15,
    "start_time": "2022-07-19T21:09:39.927Z"
   },
   {
    "duration": 761,
    "start_time": "2022-07-19T21:09:39.944Z"
   },
   {
    "duration": 5,
    "start_time": "2022-07-19T21:09:40.707Z"
   },
   {
    "duration": 2089,
    "start_time": "2022-07-19T21:09:40.714Z"
   },
   {
    "duration": 6,
    "start_time": "2022-07-19T21:09:42.806Z"
   },
   {
    "duration": 121,
    "start_time": "2022-07-19T21:09:42.815Z"
   },
   {
    "duration": 15,
    "start_time": "2022-07-19T21:09:42.938Z"
   },
   {
    "duration": 21,
    "start_time": "2022-07-19T21:09:42.955Z"
   },
   {
    "duration": 40,
    "start_time": "2022-07-19T21:09:42.979Z"
   },
   {
    "duration": 20,
    "start_time": "2022-07-19T21:09:43.021Z"
   },
   {
    "duration": 13,
    "start_time": "2022-07-19T21:09:43.045Z"
   },
   {
    "duration": 261,
    "start_time": "2022-07-19T21:09:43.061Z"
   },
   {
    "duration": 0,
    "start_time": "2022-07-19T21:09:43.324Z"
   },
   {
    "duration": 0,
    "start_time": "2022-07-19T21:09:43.325Z"
   },
   {
    "duration": 0,
    "start_time": "2022-07-19T21:09:43.326Z"
   },
   {
    "duration": 0,
    "start_time": "2022-07-19T21:09:43.328Z"
   },
   {
    "duration": 17,
    "start_time": "2022-07-19T21:21:01.165Z"
   },
   {
    "duration": 4,
    "start_time": "2022-07-19T21:23:03.076Z"
   },
   {
    "duration": 1476,
    "start_time": "2022-07-19T21:23:06.027Z"
   },
   {
    "duration": 4,
    "start_time": "2022-07-19T21:23:30.487Z"
   },
   {
    "duration": 1475,
    "start_time": "2022-07-19T21:23:41.534Z"
   },
   {
    "duration": 4,
    "start_time": "2022-07-19T21:23:52.687Z"
   },
   {
    "duration": 3036,
    "start_time": "2022-07-19T21:23:52.968Z"
   },
   {
    "duration": 4,
    "start_time": "2022-07-19T21:24:24.534Z"
   },
   {
    "duration": 1621,
    "start_time": "2022-07-19T21:24:27.083Z"
   },
   {
    "duration": 1396,
    "start_time": "2022-07-19T21:50:14.393Z"
   },
   {
    "duration": 2,
    "start_time": "2022-07-19T21:50:15.791Z"
   },
   {
    "duration": 57,
    "start_time": "2022-07-19T21:50:15.794Z"
   },
   {
    "duration": 3,
    "start_time": "2022-07-19T21:50:15.852Z"
   },
   {
    "duration": 15,
    "start_time": "2022-07-19T21:50:15.857Z"
   },
   {
    "duration": 8,
    "start_time": "2022-07-19T21:50:15.873Z"
   },
   {
    "duration": 681,
    "start_time": "2022-07-19T21:50:15.882Z"
   },
   {
    "duration": 5,
    "start_time": "2022-07-19T21:50:16.564Z"
   },
   {
    "duration": 1637,
    "start_time": "2022-07-19T21:50:16.570Z"
   },
   {
    "duration": 4,
    "start_time": "2022-07-19T21:50:18.208Z"
   },
   {
    "duration": 22,
    "start_time": "2022-07-19T21:50:18.303Z"
   },
   {
    "duration": 9,
    "start_time": "2022-07-19T21:50:18.327Z"
   },
   {
    "duration": 12,
    "start_time": "2022-07-19T21:50:18.337Z"
   },
   {
    "duration": 12,
    "start_time": "2022-07-19T21:50:18.352Z"
   },
   {
    "duration": 39,
    "start_time": "2022-07-19T21:50:18.365Z"
   },
   {
    "duration": 10,
    "start_time": "2022-07-19T21:50:18.406Z"
   },
   {
    "duration": 16,
    "start_time": "2022-07-19T21:50:18.417Z"
   },
   {
    "duration": 6336,
    "start_time": "2022-07-19T21:50:18.435Z"
   },
   {
    "duration": 4,
    "start_time": "2022-07-19T21:50:24.772Z"
   },
   {
    "duration": 1125,
    "start_time": "2022-07-19T21:50:24.778Z"
   },
   {
    "duration": 2598,
    "start_time": "2022-07-19T21:50:25.905Z"
   },
   {
    "duration": 12,
    "start_time": "2022-07-19T21:53:37.390Z"
   },
   {
    "duration": 9,
    "start_time": "2022-07-19T21:53:43.885Z"
   },
   {
    "duration": 10,
    "start_time": "2022-07-19T21:53:48.473Z"
   },
   {
    "duration": 10,
    "start_time": "2022-07-19T21:53:52.917Z"
   },
   {
    "duration": 19,
    "start_time": "2022-07-19T21:55:22.958Z"
   },
   {
    "duration": 18,
    "start_time": "2022-07-19T21:55:51.034Z"
   },
   {
    "duration": 45,
    "start_time": "2022-07-21T19:07:55.905Z"
   },
   {
    "duration": 1833,
    "start_time": "2022-07-21T19:08:01.933Z"
   },
   {
    "duration": 3,
    "start_time": "2022-07-21T19:08:03.768Z"
   },
   {
    "duration": 127,
    "start_time": "2022-07-21T19:08:03.773Z"
   },
   {
    "duration": 3,
    "start_time": "2022-07-21T19:08:03.902Z"
   },
   {
    "duration": 25,
    "start_time": "2022-07-21T19:08:03.908Z"
   },
   {
    "duration": 14,
    "start_time": "2022-07-21T19:08:03.935Z"
   },
   {
    "duration": 833,
    "start_time": "2022-07-21T19:08:03.951Z"
   },
   {
    "duration": 5,
    "start_time": "2022-07-21T19:08:04.786Z"
   },
   {
    "duration": 3478,
    "start_time": "2022-07-21T19:08:04.793Z"
   },
   {
    "duration": 4,
    "start_time": "2022-07-21T19:08:08.361Z"
   },
   {
    "duration": 114,
    "start_time": "2022-07-21T19:08:08.367Z"
   },
   {
    "duration": 10,
    "start_time": "2022-07-21T19:08:08.483Z"
   },
   {
    "duration": 16,
    "start_time": "2022-07-21T19:08:08.495Z"
   },
   {
    "duration": 27,
    "start_time": "2022-07-21T19:08:08.514Z"
   },
   {
    "duration": 30,
    "start_time": "2022-07-21T19:08:08.543Z"
   },
   {
    "duration": 12,
    "start_time": "2022-07-21T19:08:08.575Z"
   },
   {
    "duration": 22,
    "start_time": "2022-07-21T19:08:08.589Z"
   },
   {
    "duration": 7066,
    "start_time": "2022-07-21T19:08:08.660Z"
   },
   {
    "duration": 7,
    "start_time": "2022-07-21T19:08:15.728Z"
   },
   {
    "duration": 1369,
    "start_time": "2022-07-21T19:08:15.737Z"
   },
   {
    "duration": 2849,
    "start_time": "2022-07-21T19:08:17.109Z"
   },
   {
    "duration": 16,
    "start_time": "2022-07-21T19:08:57.432Z"
   },
   {
    "duration": 7,
    "start_time": "2022-07-21T19:11:18.121Z"
   },
   {
    "duration": 1443,
    "start_time": "2022-07-21T19:11:25.746Z"
   },
   {
    "duration": 2,
    "start_time": "2022-07-21T19:11:27.191Z"
   },
   {
    "duration": 55,
    "start_time": "2022-07-21T19:11:27.194Z"
   },
   {
    "duration": 3,
    "start_time": "2022-07-21T19:11:27.251Z"
   },
   {
    "duration": 24,
    "start_time": "2022-07-21T19:11:27.256Z"
   },
   {
    "duration": 8,
    "start_time": "2022-07-21T19:11:27.282Z"
   },
   {
    "duration": 733,
    "start_time": "2022-07-21T19:11:27.292Z"
   },
   {
    "duration": 4,
    "start_time": "2022-07-21T19:11:28.027Z"
   },
   {
    "duration": 2232,
    "start_time": "2022-07-21T19:11:28.032Z"
   },
   {
    "duration": 93,
    "start_time": "2022-07-21T19:11:30.268Z"
   },
   {
    "duration": 15,
    "start_time": "2022-07-21T19:11:30.363Z"
   },
   {
    "duration": 19,
    "start_time": "2022-07-21T19:11:30.380Z"
   },
   {
    "duration": 33,
    "start_time": "2022-07-21T19:11:30.401Z"
   },
   {
    "duration": 42,
    "start_time": "2022-07-21T19:11:30.435Z"
   },
   {
    "duration": 37,
    "start_time": "2022-07-21T19:11:30.479Z"
   },
   {
    "duration": 35,
    "start_time": "2022-07-21T19:11:30.518Z"
   },
   {
    "duration": 30,
    "start_time": "2022-07-21T19:11:30.555Z"
   },
   {
    "duration": 7358,
    "start_time": "2022-07-21T19:11:30.587Z"
   },
   {
    "duration": 4,
    "start_time": "2022-07-21T19:11:37.946Z"
   },
   {
    "duration": 1298,
    "start_time": "2022-07-21T19:11:37.960Z"
   },
   {
    "duration": 2267,
    "start_time": "2022-07-21T19:11:39.260Z"
   },
   {
    "duration": 7,
    "start_time": "2022-07-21T19:12:28.162Z"
   },
   {
    "duration": 1402,
    "start_time": "2022-07-21T19:12:32.844Z"
   },
   {
    "duration": 2,
    "start_time": "2022-07-21T19:12:34.248Z"
   },
   {
    "duration": 56,
    "start_time": "2022-07-21T19:12:34.252Z"
   },
   {
    "duration": 4,
    "start_time": "2022-07-21T19:12:34.309Z"
   },
   {
    "duration": 18,
    "start_time": "2022-07-21T19:12:34.315Z"
   },
   {
    "duration": 7,
    "start_time": "2022-07-21T19:12:34.335Z"
   },
   {
    "duration": 726,
    "start_time": "2022-07-21T19:12:34.344Z"
   },
   {
    "duration": 4,
    "start_time": "2022-07-21T19:12:35.072Z"
   },
   {
    "duration": 2685,
    "start_time": "2022-07-21T19:12:35.078Z"
   },
   {
    "duration": 4,
    "start_time": "2022-07-21T19:12:37.765Z"
   },
   {
    "duration": 103,
    "start_time": "2022-07-21T19:12:37.771Z"
   },
   {
    "duration": 13,
    "start_time": "2022-07-21T19:12:37.875Z"
   },
   {
    "duration": 18,
    "start_time": "2022-07-21T19:12:37.889Z"
   },
   {
    "duration": 17,
    "start_time": "2022-07-21T19:12:37.909Z"
   },
   {
    "duration": 37,
    "start_time": "2022-07-21T19:12:37.927Z"
   },
   {
    "duration": 12,
    "start_time": "2022-07-21T19:12:37.965Z"
   },
   {
    "duration": 19,
    "start_time": "2022-07-21T19:12:37.979Z"
   },
   {
    "duration": 7686,
    "start_time": "2022-07-21T19:12:38.000Z"
   },
   {
    "duration": 3,
    "start_time": "2022-07-21T19:12:45.688Z"
   },
   {
    "duration": 1457,
    "start_time": "2022-07-21T19:12:45.692Z"
   },
   {
    "duration": 2532,
    "start_time": "2022-07-21T19:12:47.151Z"
   },
   {
    "duration": 27,
    "start_time": "2022-07-21T19:17:27.547Z"
   },
   {
    "duration": 23,
    "start_time": "2022-07-21T19:17:38.347Z"
   },
   {
    "duration": 6,
    "start_time": "2022-07-21T19:19:48.506Z"
   },
   {
    "duration": 1471,
    "start_time": "2022-07-21T19:19:58.137Z"
   },
   {
    "duration": 2,
    "start_time": "2022-07-21T19:19:59.611Z"
   },
   {
    "duration": 62,
    "start_time": "2022-07-21T19:19:59.615Z"
   },
   {
    "duration": 4,
    "start_time": "2022-07-21T19:19:59.679Z"
   },
   {
    "duration": 17,
    "start_time": "2022-07-21T19:19:59.684Z"
   },
   {
    "duration": 7,
    "start_time": "2022-07-21T19:19:59.703Z"
   },
   {
    "duration": 722,
    "start_time": "2022-07-21T19:19:59.711Z"
   },
   {
    "duration": 5,
    "start_time": "2022-07-21T19:20:00.434Z"
   },
   {
    "duration": 1821,
    "start_time": "2022-07-21T19:20:00.441Z"
   },
   {
    "duration": 6,
    "start_time": "2022-07-21T19:20:02.267Z"
   },
   {
    "duration": 98,
    "start_time": "2022-07-21T19:20:02.276Z"
   },
   {
    "duration": 12,
    "start_time": "2022-07-21T19:20:02.376Z"
   },
   {
    "duration": 30,
    "start_time": "2022-07-21T19:20:02.390Z"
   },
   {
    "duration": 38,
    "start_time": "2022-07-21T19:20:02.422Z"
   },
   {
    "duration": 56,
    "start_time": "2022-07-21T19:20:02.462Z"
   },
   {
    "duration": 22,
    "start_time": "2022-07-21T19:20:02.521Z"
   },
   {
    "duration": 19,
    "start_time": "2022-07-21T19:20:02.545Z"
   },
   {
    "duration": 111,
    "start_time": "2022-07-21T19:20:02.566Z"
   },
   {
    "duration": 9934,
    "start_time": "2022-07-21T19:20:02.679Z"
   },
   {
    "duration": 6,
    "start_time": "2022-07-21T19:20:12.615Z"
   },
   {
    "duration": 1860,
    "start_time": "2022-07-21T19:20:12.624Z"
   },
   {
    "duration": 3307,
    "start_time": "2022-07-21T19:20:14.486Z"
   },
   {
    "duration": 1422,
    "start_time": "2022-07-21T19:27:02.237Z"
   },
   {
    "duration": 3,
    "start_time": "2022-07-21T19:27:03.661Z"
   },
   {
    "duration": 62,
    "start_time": "2022-07-21T19:27:03.665Z"
   },
   {
    "duration": 4,
    "start_time": "2022-07-21T19:27:03.729Z"
   },
   {
    "duration": 19,
    "start_time": "2022-07-21T19:27:03.736Z"
   },
   {
    "duration": 11,
    "start_time": "2022-07-21T19:27:03.757Z"
   },
   {
    "duration": 793,
    "start_time": "2022-07-21T19:27:03.770Z"
   },
   {
    "duration": 5,
    "start_time": "2022-07-21T19:27:04.564Z"
   },
   {
    "duration": 1591,
    "start_time": "2022-07-21T19:27:04.570Z"
   },
   {
    "duration": 5,
    "start_time": "2022-07-21T19:27:06.167Z"
   },
   {
    "duration": 101,
    "start_time": "2022-07-21T19:27:06.175Z"
   },
   {
    "duration": 10,
    "start_time": "2022-07-21T19:27:06.278Z"
   },
   {
    "duration": 59,
    "start_time": "2022-07-21T19:27:06.290Z"
   },
   {
    "duration": 25,
    "start_time": "2022-07-21T19:27:06.353Z"
   },
   {
    "duration": 48,
    "start_time": "2022-07-21T19:27:06.380Z"
   },
   {
    "duration": 27,
    "start_time": "2022-07-21T19:27:06.429Z"
   },
   {
    "duration": 39,
    "start_time": "2022-07-21T19:27:06.458Z"
   },
   {
    "duration": 181,
    "start_time": "2022-07-21T19:27:06.499Z"
   },
   {
    "duration": 13759,
    "start_time": "2022-07-21T19:27:06.682Z"
   },
   {
    "duration": 3,
    "start_time": "2022-07-21T19:27:20.444Z"
   },
   {
    "duration": 2255,
    "start_time": "2022-07-21T19:27:20.449Z"
   },
   {
    "duration": 4021,
    "start_time": "2022-07-21T19:27:22.706Z"
   },
   {
    "duration": 1360,
    "start_time": "2022-07-21T19:28:10.165Z"
   },
   {
    "duration": 2,
    "start_time": "2022-07-21T19:28:11.527Z"
   },
   {
    "duration": 59,
    "start_time": "2022-07-21T19:28:11.531Z"
   },
   {
    "duration": 4,
    "start_time": "2022-07-21T19:28:11.592Z"
   },
   {
    "duration": 25,
    "start_time": "2022-07-21T19:28:11.598Z"
   },
   {
    "duration": 11,
    "start_time": "2022-07-21T19:28:11.625Z"
   },
   {
    "duration": 825,
    "start_time": "2022-07-21T19:28:11.638Z"
   },
   {
    "duration": 5,
    "start_time": "2022-07-21T19:28:12.464Z"
   },
   {
    "duration": 3891,
    "start_time": "2022-07-21T19:28:12.470Z"
   },
   {
    "duration": 6,
    "start_time": "2022-07-21T19:28:16.368Z"
   },
   {
    "duration": 109,
    "start_time": "2022-07-21T19:28:16.377Z"
   },
   {
    "duration": 8,
    "start_time": "2022-07-21T19:28:16.488Z"
   },
   {
    "duration": 34,
    "start_time": "2022-07-21T19:28:16.498Z"
   },
   {
    "duration": 39,
    "start_time": "2022-07-21T19:28:16.535Z"
   },
   {
    "duration": 47,
    "start_time": "2022-07-21T19:28:16.576Z"
   },
   {
    "duration": 41,
    "start_time": "2022-07-21T19:28:16.625Z"
   },
   {
    "duration": 94,
    "start_time": "2022-07-21T19:28:16.667Z"
   },
   {
    "duration": 111,
    "start_time": "2022-07-21T19:28:16.763Z"
   },
   {
    "duration": 16903,
    "start_time": "2022-07-21T19:28:16.876Z"
   },
   {
    "duration": 5,
    "start_time": "2022-07-21T19:28:33.781Z"
   },
   {
    "duration": 3240,
    "start_time": "2022-07-21T19:28:33.788Z"
   },
   {
    "duration": 5978,
    "start_time": "2022-07-21T19:28:37.030Z"
   },
   {
    "duration": 185,
    "start_time": "2022-07-21T19:35:06.465Z"
   },
   {
    "duration": 357,
    "start_time": "2022-07-21T19:35:16.833Z"
   },
   {
    "duration": 13,
    "start_time": "2022-07-21T19:36:26.938Z"
   },
   {
    "duration": 12,
    "start_time": "2022-07-21T19:36:48.168Z"
   },
   {
    "duration": 12,
    "start_time": "2022-07-21T19:37:43.212Z"
   },
   {
    "duration": 51,
    "start_time": "2022-07-21T19:37:48.037Z"
   },
   {
    "duration": 4,
    "start_time": "2022-07-21T19:37:48.800Z"
   },
   {
    "duration": 12,
    "start_time": "2022-07-21T19:37:49.698Z"
   },
   {
    "duration": 12,
    "start_time": "2022-07-21T19:38:09.860Z"
   },
   {
    "duration": 11,
    "start_time": "2022-07-21T19:39:49.333Z"
   },
   {
    "duration": 11,
    "start_time": "2022-07-21T19:41:00.464Z"
   },
   {
    "duration": 12,
    "start_time": "2022-07-21T19:41:45.244Z"
   },
   {
    "duration": 527,
    "start_time": "2022-07-21T19:42:50.175Z"
   },
   {
    "duration": 23,
    "start_time": "2022-07-21T19:43:14.532Z"
   },
   {
    "duration": 731,
    "start_time": "2022-07-21T19:43:15.978Z"
   },
   {
    "duration": 13,
    "start_time": "2022-07-21T19:43:25.910Z"
   },
   {
    "duration": 11,
    "start_time": "2022-07-21T19:43:26.628Z"
   },
   {
    "duration": 11,
    "start_time": "2022-07-21T19:43:29.357Z"
   },
   {
    "duration": 17,
    "start_time": "2022-07-21T19:43:31.928Z"
   },
   {
    "duration": 618,
    "start_time": "2022-07-21T19:43:32.580Z"
   },
   {
    "duration": 18,
    "start_time": "2022-07-21T19:43:55.590Z"
   },
   {
    "duration": 11,
    "start_time": "2022-07-21T19:44:22.604Z"
   },
   {
    "duration": 11,
    "start_time": "2022-07-21T19:44:27.265Z"
   },
   {
    "duration": 12,
    "start_time": "2022-07-21T19:44:30.765Z"
   },
   {
    "duration": 23,
    "start_time": "2022-07-21T19:44:38.805Z"
   },
   {
    "duration": 12,
    "start_time": "2022-07-21T19:45:03.731Z"
   },
   {
    "duration": 731,
    "start_time": "2022-07-21T19:45:06.117Z"
   },
   {
    "duration": 12,
    "start_time": "2022-07-21T19:45:27.814Z"
   },
   {
    "duration": 638,
    "start_time": "2022-07-21T19:45:28.023Z"
   },
   {
    "duration": 669,
    "start_time": "2022-07-21T19:45:59.752Z"
   },
   {
    "duration": 763,
    "start_time": "2022-07-21T19:46:47.510Z"
   },
   {
    "duration": 17,
    "start_time": "2022-07-21T19:48:11.193Z"
   },
   {
    "duration": 11,
    "start_time": "2022-07-21T19:48:36.078Z"
   },
   {
    "duration": 632,
    "start_time": "2022-07-21T19:48:39.996Z"
   },
   {
    "duration": 4,
    "start_time": "2022-07-21T19:51:33.373Z"
   },
   {
    "duration": 8,
    "start_time": "2022-07-21T19:51:39.388Z"
   },
   {
    "duration": 1462,
    "start_time": "2022-07-21T19:51:47.350Z"
   },
   {
    "duration": 3,
    "start_time": "2022-07-21T19:51:48.814Z"
   },
   {
    "duration": 63,
    "start_time": "2022-07-21T19:51:48.819Z"
   },
   {
    "duration": 121,
    "start_time": "2022-07-21T19:51:48.884Z"
   },
   {
    "duration": 0,
    "start_time": "2022-07-21T19:51:49.007Z"
   },
   {
    "duration": 0,
    "start_time": "2022-07-21T19:51:49.008Z"
   },
   {
    "duration": 0,
    "start_time": "2022-07-21T19:51:49.009Z"
   },
   {
    "duration": 0,
    "start_time": "2022-07-21T19:51:49.011Z"
   },
   {
    "duration": 0,
    "start_time": "2022-07-21T19:51:49.013Z"
   },
   {
    "duration": 0,
    "start_time": "2022-07-21T19:51:49.014Z"
   },
   {
    "duration": 0,
    "start_time": "2022-07-21T19:51:49.016Z"
   },
   {
    "duration": 0,
    "start_time": "2022-07-21T19:51:49.018Z"
   },
   {
    "duration": 0,
    "start_time": "2022-07-21T19:51:49.020Z"
   },
   {
    "duration": 0,
    "start_time": "2022-07-21T19:51:49.021Z"
   },
   {
    "duration": 0,
    "start_time": "2022-07-21T19:51:49.023Z"
   },
   {
    "duration": 0,
    "start_time": "2022-07-21T19:51:49.025Z"
   },
   {
    "duration": 0,
    "start_time": "2022-07-21T19:51:49.025Z"
   },
   {
    "duration": 0,
    "start_time": "2022-07-21T19:51:49.027Z"
   },
   {
    "duration": 0,
    "start_time": "2022-07-21T19:51:49.027Z"
   },
   {
    "duration": 0,
    "start_time": "2022-07-21T19:51:49.061Z"
   },
   {
    "duration": 0,
    "start_time": "2022-07-21T19:51:49.062Z"
   },
   {
    "duration": 0,
    "start_time": "2022-07-21T19:51:49.063Z"
   },
   {
    "duration": 0,
    "start_time": "2022-07-21T19:51:49.064Z"
   },
   {
    "duration": 0,
    "start_time": "2022-07-21T19:51:49.065Z"
   },
   {
    "duration": 0,
    "start_time": "2022-07-21T19:51:49.066Z"
   },
   {
    "duration": 3,
    "start_time": "2022-07-21T19:52:45.530Z"
   },
   {
    "duration": 1342,
    "start_time": "2022-07-21T19:52:50.981Z"
   },
   {
    "duration": 3,
    "start_time": "2022-07-21T19:52:52.325Z"
   },
   {
    "duration": 65,
    "start_time": "2022-07-21T19:52:52.330Z"
   },
   {
    "duration": 4,
    "start_time": "2022-07-21T19:52:52.398Z"
   },
   {
    "duration": 22,
    "start_time": "2022-07-21T19:52:52.405Z"
   },
   {
    "duration": 11,
    "start_time": "2022-07-21T19:52:52.429Z"
   },
   {
    "duration": 24,
    "start_time": "2022-07-21T19:52:52.441Z"
   },
   {
    "duration": 14,
    "start_time": "2022-07-21T19:52:52.467Z"
   },
   {
    "duration": 799,
    "start_time": "2022-07-21T19:52:52.483Z"
   },
   {
    "duration": 4,
    "start_time": "2022-07-21T19:52:53.284Z"
   },
   {
    "duration": 2872,
    "start_time": "2022-07-21T19:52:53.289Z"
   },
   {
    "duration": 94,
    "start_time": "2022-07-21T19:52:56.168Z"
   },
   {
    "duration": 5,
    "start_time": "2022-07-21T19:52:56.265Z"
   },
   {
    "duration": 45,
    "start_time": "2022-07-21T19:52:56.274Z"
   },
   {
    "duration": 8,
    "start_time": "2022-07-21T19:52:56.322Z"
   },
   {
    "duration": 29,
    "start_time": "2022-07-21T19:52:56.332Z"
   },
   {
    "duration": 47,
    "start_time": "2022-07-21T19:52:56.363Z"
   },
   {
    "duration": 50,
    "start_time": "2022-07-21T19:52:56.412Z"
   },
   {
    "duration": 54,
    "start_time": "2022-07-21T19:52:56.465Z"
   },
   {
    "duration": 35,
    "start_time": "2022-07-21T19:52:56.520Z"
   },
   {
    "duration": 158,
    "start_time": "2022-07-21T19:52:56.562Z"
   },
   {
    "duration": 17059,
    "start_time": "2022-07-21T19:52:56.722Z"
   },
   {
    "duration": 4,
    "start_time": "2022-07-21T19:53:13.783Z"
   },
   {
    "duration": 3213,
    "start_time": "2022-07-21T19:53:13.789Z"
   },
   {
    "duration": 5577,
    "start_time": "2022-07-21T19:53:17.004Z"
   },
   {
    "duration": 6,
    "start_time": "2022-07-21T19:56:05.316Z"
   },
   {
    "duration": 114,
    "start_time": "2022-07-21T19:56:07.358Z"
   },
   {
    "duration": 653,
    "start_time": "2022-07-21T19:56:07.556Z"
   },
   {
    "duration": 4,
    "start_time": "2022-07-21T19:56:27.230Z"
   },
   {
    "duration": 11,
    "start_time": "2022-07-21T19:56:29.454Z"
   },
   {
    "duration": 1470,
    "start_time": "2022-07-21T19:56:39.555Z"
   },
   {
    "duration": 3,
    "start_time": "2022-07-21T19:56:41.027Z"
   },
   {
    "duration": 57,
    "start_time": "2022-07-21T19:56:41.032Z"
   },
   {
    "duration": 4,
    "start_time": "2022-07-21T19:56:41.091Z"
   },
   {
    "duration": 17,
    "start_time": "2022-07-21T19:56:41.097Z"
   },
   {
    "duration": 10,
    "start_time": "2022-07-21T19:56:41.116Z"
   },
   {
    "duration": 38,
    "start_time": "2022-07-21T19:56:41.127Z"
   },
   {
    "duration": 10,
    "start_time": "2022-07-21T19:56:41.167Z"
   },
   {
    "duration": 760,
    "start_time": "2022-07-21T19:56:41.179Z"
   },
   {
    "duration": 5,
    "start_time": "2022-07-21T19:56:41.941Z"
   },
   {
    "duration": 2023,
    "start_time": "2022-07-21T19:56:41.948Z"
   },
   {
    "duration": 100,
    "start_time": "2022-07-21T19:56:44.062Z"
   },
   {
    "duration": 2,
    "start_time": "2022-07-21T19:56:44.164Z"
   },
   {
    "duration": 16,
    "start_time": "2022-07-21T19:56:44.169Z"
   },
   {
    "duration": 8,
    "start_time": "2022-07-21T19:56:44.187Z"
   },
   {
    "duration": 13,
    "start_time": "2022-07-21T19:56:44.197Z"
   },
   {
    "duration": 25,
    "start_time": "2022-07-21T19:56:44.211Z"
   },
   {
    "duration": 23,
    "start_time": "2022-07-21T19:56:44.262Z"
   },
   {
    "duration": 25,
    "start_time": "2022-07-21T19:56:44.287Z"
   },
   {
    "duration": 49,
    "start_time": "2022-07-21T19:56:44.313Z"
   },
   {
    "duration": 105,
    "start_time": "2022-07-21T19:56:44.364Z"
   },
   {
    "duration": 16520,
    "start_time": "2022-07-21T19:56:44.471Z"
   },
   {
    "duration": 4,
    "start_time": "2022-07-21T19:57:00.993Z"
   },
   {
    "duration": 3194,
    "start_time": "2022-07-21T19:57:00.999Z"
   },
   {
    "duration": 5078,
    "start_time": "2022-07-21T19:57:04.195Z"
   },
   {
    "duration": 28,
    "start_time": "2022-07-21T19:58:32.275Z"
   },
   {
    "duration": 34,
    "start_time": "2022-07-21T20:01:06.677Z"
   },
   {
    "duration": 27,
    "start_time": "2022-07-21T20:01:19.941Z"
   },
   {
    "duration": 36,
    "start_time": "2022-07-21T20:01:29.829Z"
   },
   {
    "duration": 37,
    "start_time": "2022-07-21T20:01:40.404Z"
   },
   {
    "duration": 31,
    "start_time": "2022-07-21T20:01:49.757Z"
   },
   {
    "duration": 35,
    "start_time": "2022-07-21T20:01:59.086Z"
   },
   {
    "duration": 3157,
    "start_time": "2022-07-21T20:02:23.157Z"
   },
   {
    "duration": 17476,
    "start_time": "2022-07-21T20:02:34.533Z"
   },
   {
    "duration": 17515,
    "start_time": "2022-07-21T20:03:06.808Z"
   },
   {
    "duration": 125,
    "start_time": "2022-07-21T20:03:37.710Z"
   },
   {
    "duration": 6,
    "start_time": "2022-07-21T20:03:50.367Z"
   },
   {
    "duration": 11,
    "start_time": "2022-07-21T20:04:02.793Z"
   },
   {
    "duration": 15,
    "start_time": "2022-07-21T20:04:06.480Z"
   },
   {
    "duration": 9897,
    "start_time": "2022-07-21T20:05:36.243Z"
   },
   {
    "duration": 2143,
    "start_time": "2022-07-21T20:06:04.225Z"
   },
   {
    "duration": 3811,
    "start_time": "2022-07-21T20:06:41.912Z"
   },
   {
    "duration": 782,
    "start_time": "2022-07-21T20:06:53.359Z"
   },
   {
    "duration": 13381,
    "start_time": "2022-07-21T20:06:59.701Z"
   },
   {
    "duration": 2739,
    "start_time": "2022-07-21T20:07:21.210Z"
   },
   {
    "duration": 788,
    "start_time": "2022-07-21T20:07:31.343Z"
   },
   {
    "duration": 167,
    "start_time": "2022-07-21T20:07:40.808Z"
   },
   {
    "duration": 5087,
    "start_time": "2022-07-21T20:07:45.748Z"
   },
   {
    "duration": 4,
    "start_time": "2022-07-21T20:07:57.429Z"
   },
   {
    "duration": 1030,
    "start_time": "2022-07-21T20:07:58.983Z"
   },
   {
    "duration": 8880,
    "start_time": "2022-07-21T20:08:18.335Z"
   },
   {
    "duration": 4,
    "start_time": "2022-07-21T20:08:35.176Z"
   },
   {
    "duration": 19,
    "start_time": "2022-07-21T20:17:16.874Z"
   },
   {
    "duration": 23,
    "start_time": "2022-07-21T20:17:31.476Z"
   },
   {
    "duration": 27,
    "start_time": "2022-07-21T20:17:51.019Z"
   },
   {
    "duration": 11,
    "start_time": "2022-07-21T20:18:01.881Z"
   },
   {
    "duration": 4,
    "start_time": "2022-07-21T20:19:14.978Z"
   },
   {
    "duration": 4,
    "start_time": "2022-07-21T20:20:06.040Z"
   },
   {
    "duration": 4,
    "start_time": "2022-07-21T20:20:39.118Z"
   },
   {
    "duration": 6,
    "start_time": "2022-07-21T20:21:09.672Z"
   },
   {
    "duration": 3,
    "start_time": "2022-07-21T20:22:07.755Z"
   },
   {
    "duration": 4,
    "start_time": "2022-07-21T20:23:59.093Z"
   },
   {
    "duration": 14,
    "start_time": "2022-07-21T20:24:00.729Z"
   },
   {
    "duration": 17,
    "start_time": "2022-07-21T20:24:02.561Z"
   },
   {
    "duration": 16,
    "start_time": "2022-07-21T20:24:05.758Z"
   },
   {
    "duration": 3,
    "start_time": "2022-07-21T20:24:09.803Z"
   },
   {
    "duration": 4,
    "start_time": "2022-07-21T20:24:25.630Z"
   },
   {
    "duration": 11,
    "start_time": "2022-07-21T20:24:25.925Z"
   },
   {
    "duration": 1433,
    "start_time": "2022-07-21T20:24:33.476Z"
   },
   {
    "duration": 3,
    "start_time": "2022-07-21T20:24:34.911Z"
   },
   {
    "duration": 65,
    "start_time": "2022-07-21T20:24:34.915Z"
   },
   {
    "duration": 123,
    "start_time": "2022-07-21T20:24:34.982Z"
   },
   {
    "duration": 0,
    "start_time": "2022-07-21T20:24:35.107Z"
   },
   {
    "duration": 0,
    "start_time": "2022-07-21T20:24:35.108Z"
   },
   {
    "duration": 0,
    "start_time": "2022-07-21T20:24:35.109Z"
   },
   {
    "duration": 0,
    "start_time": "2022-07-21T20:24:35.111Z"
   },
   {
    "duration": 0,
    "start_time": "2022-07-21T20:24:35.112Z"
   },
   {
    "duration": 0,
    "start_time": "2022-07-21T20:24:35.113Z"
   },
   {
    "duration": 0,
    "start_time": "2022-07-21T20:24:35.115Z"
   },
   {
    "duration": 0,
    "start_time": "2022-07-21T20:24:35.116Z"
   },
   {
    "duration": 0,
    "start_time": "2022-07-21T20:24:35.118Z"
   },
   {
    "duration": 0,
    "start_time": "2022-07-21T20:24:35.120Z"
   },
   {
    "duration": 0,
    "start_time": "2022-07-21T20:24:35.121Z"
   },
   {
    "duration": 0,
    "start_time": "2022-07-21T20:24:35.122Z"
   },
   {
    "duration": 0,
    "start_time": "2022-07-21T20:24:35.124Z"
   },
   {
    "duration": 0,
    "start_time": "2022-07-21T20:24:35.125Z"
   },
   {
    "duration": 0,
    "start_time": "2022-07-21T20:24:35.127Z"
   },
   {
    "duration": 0,
    "start_time": "2022-07-21T20:24:35.165Z"
   },
   {
    "duration": 0,
    "start_time": "2022-07-21T20:24:35.170Z"
   },
   {
    "duration": 0,
    "start_time": "2022-07-21T20:24:35.171Z"
   },
   {
    "duration": 0,
    "start_time": "2022-07-21T20:24:35.172Z"
   },
   {
    "duration": 0,
    "start_time": "2022-07-21T20:24:35.173Z"
   },
   {
    "duration": 0,
    "start_time": "2022-07-21T20:24:35.174Z"
   },
   {
    "duration": 0,
    "start_time": "2022-07-21T20:24:35.175Z"
   },
   {
    "duration": 0,
    "start_time": "2022-07-21T20:24:35.175Z"
   },
   {
    "duration": 0,
    "start_time": "2022-07-21T20:24:35.176Z"
   },
   {
    "duration": 13,
    "start_time": "2022-07-21T20:26:28.656Z"
   },
   {
    "duration": 19,
    "start_time": "2022-07-21T20:26:45.253Z"
   },
   {
    "duration": 1512,
    "start_time": "2022-07-21T20:26:54.645Z"
   },
   {
    "duration": 16,
    "start_time": "2022-07-21T20:26:56.159Z"
   },
   {
    "duration": 73,
    "start_time": "2022-07-21T20:26:56.176Z"
   },
   {
    "duration": 5,
    "start_time": "2022-07-21T20:26:56.252Z"
   },
   {
    "duration": 29,
    "start_time": "2022-07-21T20:26:56.259Z"
   },
   {
    "duration": 25,
    "start_time": "2022-07-21T20:26:56.296Z"
   },
   {
    "duration": 12,
    "start_time": "2022-07-21T20:26:56.323Z"
   },
   {
    "duration": 11,
    "start_time": "2022-07-21T20:26:56.338Z"
   },
   {
    "duration": 14,
    "start_time": "2022-07-21T20:26:56.352Z"
   },
   {
    "duration": 898,
    "start_time": "2022-07-21T20:26:56.376Z"
   },
   {
    "duration": 6,
    "start_time": "2022-07-21T20:26:57.280Z"
   },
   {
    "duration": 4578,
    "start_time": "2022-07-21T20:26:57.288Z"
   },
   {
    "duration": 94,
    "start_time": "2022-07-21T20:27:01.869Z"
   },
   {
    "duration": 19,
    "start_time": "2022-07-21T20:27:01.965Z"
   },
   {
    "duration": 22,
    "start_time": "2022-07-21T20:27:01.986Z"
   },
   {
    "duration": 4,
    "start_time": "2022-07-21T20:27:02.010Z"
   },
   {
    "duration": 21,
    "start_time": "2022-07-21T20:27:02.015Z"
   },
   {
    "duration": 12,
    "start_time": "2022-07-21T20:27:02.038Z"
   },
   {
    "duration": 16,
    "start_time": "2022-07-21T20:27:02.051Z"
   },
   {
    "duration": 36,
    "start_time": "2022-07-21T20:27:02.069Z"
   },
   {
    "duration": 24,
    "start_time": "2022-07-21T20:27:02.107Z"
   },
   {
    "duration": 34,
    "start_time": "2022-07-21T20:27:02.133Z"
   },
   {
    "duration": 18,
    "start_time": "2022-07-21T20:27:02.170Z"
   },
   {
    "duration": 177,
    "start_time": "2022-07-21T20:27:02.190Z"
   },
   {
    "duration": 353,
    "start_time": "2022-07-21T20:27:02.370Z"
   },
   {
    "duration": 5,
    "start_time": "2022-07-21T20:27:02.724Z"
   },
   {
    "duration": 1850,
    "start_time": "2022-07-21T20:27:02.730Z"
   },
   {
    "duration": 5906,
    "start_time": "2022-07-21T20:27:04.584Z"
   },
   {
    "duration": 14,
    "start_time": "2022-07-21T20:27:53.403Z"
   },
   {
    "duration": 12,
    "start_time": "2022-07-21T20:28:10.691Z"
   },
   {
    "duration": 21,
    "start_time": "2022-07-21T20:28:19.770Z"
   },
   {
    "duration": 13,
    "start_time": "2022-07-21T20:29:04.628Z"
   },
   {
    "duration": 10,
    "start_time": "2022-07-21T20:29:12.394Z"
   },
   {
    "duration": 4,
    "start_time": "2022-07-21T20:29:15.720Z"
   },
   {
    "duration": 138,
    "start_time": "2022-07-21T20:29:49.583Z"
   },
   {
    "duration": 4,
    "start_time": "2022-07-21T20:30:03.084Z"
   },
   {
    "duration": 3,
    "start_time": "2022-07-21T20:30:25.989Z"
   },
   {
    "duration": 7,
    "start_time": "2022-07-21T20:30:41.804Z"
   },
   {
    "duration": 4,
    "start_time": "2022-07-21T20:30:44.996Z"
   },
   {
    "duration": 1381,
    "start_time": "2022-07-21T20:30:49.995Z"
   },
   {
    "duration": 3,
    "start_time": "2022-07-21T20:30:51.378Z"
   },
   {
    "duration": 60,
    "start_time": "2022-07-21T20:30:51.383Z"
   },
   {
    "duration": 4,
    "start_time": "2022-07-21T20:30:51.445Z"
   },
   {
    "duration": 38,
    "start_time": "2022-07-21T20:30:51.452Z"
   },
   {
    "duration": 16,
    "start_time": "2022-07-21T20:30:51.492Z"
   },
   {
    "duration": 40,
    "start_time": "2022-07-21T20:30:51.509Z"
   },
   {
    "duration": 30,
    "start_time": "2022-07-21T20:30:51.550Z"
   },
   {
    "duration": 13,
    "start_time": "2022-07-21T20:30:51.582Z"
   },
   {
    "duration": 746,
    "start_time": "2022-07-21T20:30:51.597Z"
   },
   {
    "duration": 4,
    "start_time": "2022-07-21T20:30:52.344Z"
   },
   {
    "duration": 5112,
    "start_time": "2022-07-21T20:30:52.350Z"
   },
   {
    "duration": 12,
    "start_time": "2022-07-21T20:30:57.467Z"
   },
   {
    "duration": 96,
    "start_time": "2022-07-21T20:30:57.482Z"
   },
   {
    "duration": 20,
    "start_time": "2022-07-21T20:30:57.579Z"
   },
   {
    "duration": 5,
    "start_time": "2022-07-21T20:30:57.601Z"
   },
   {
    "duration": 54,
    "start_time": "2022-07-21T20:30:57.607Z"
   },
   {
    "duration": 16,
    "start_time": "2022-07-21T20:30:57.663Z"
   },
   {
    "duration": 7,
    "start_time": "2022-07-21T20:30:57.681Z"
   },
   {
    "duration": 78,
    "start_time": "2022-07-21T20:30:57.689Z"
   },
   {
    "duration": 36,
    "start_time": "2022-07-21T20:30:57.768Z"
   },
   {
    "duration": 85,
    "start_time": "2022-07-21T20:30:57.806Z"
   },
   {
    "duration": 78,
    "start_time": "2022-07-21T20:30:57.892Z"
   },
   {
    "duration": 131,
    "start_time": "2022-07-21T20:30:57.973Z"
   },
   {
    "duration": 14010,
    "start_time": "2022-07-21T20:30:58.106Z"
   },
   {
    "duration": 4,
    "start_time": "2022-07-21T20:31:12.117Z"
   },
   {
    "duration": 1924,
    "start_time": "2022-07-21T20:31:12.123Z"
   },
   {
    "duration": 5536,
    "start_time": "2022-07-21T20:31:14.048Z"
   },
   {
    "duration": 1526,
    "start_time": "2022-07-21T20:34:30.158Z"
   },
   {
    "duration": 3,
    "start_time": "2022-07-21T20:34:31.686Z"
   },
   {
    "duration": 116,
    "start_time": "2022-07-21T20:34:31.690Z"
   },
   {
    "duration": 3,
    "start_time": "2022-07-21T20:34:31.808Z"
   },
   {
    "duration": 63,
    "start_time": "2022-07-21T20:34:31.813Z"
   },
   {
    "duration": 31,
    "start_time": "2022-07-21T20:34:31.877Z"
   },
   {
    "duration": 65,
    "start_time": "2022-07-21T20:34:31.909Z"
   },
   {
    "duration": 11,
    "start_time": "2022-07-21T20:34:31.977Z"
   },
   {
    "duration": 38,
    "start_time": "2022-07-21T20:34:31.989Z"
   },
   {
    "duration": 1381,
    "start_time": "2022-07-21T20:34:32.061Z"
   },
   {
    "duration": 4,
    "start_time": "2022-07-21T20:34:33.443Z"
   },
   {
    "duration": 4114,
    "start_time": "2022-07-21T20:34:33.448Z"
   },
   {
    "duration": 95,
    "start_time": "2022-07-21T20:34:37.569Z"
   },
   {
    "duration": 12,
    "start_time": "2022-07-21T20:34:37.670Z"
   },
   {
    "duration": 19,
    "start_time": "2022-07-21T20:34:37.683Z"
   },
   {
    "duration": 8,
    "start_time": "2022-07-21T20:34:37.704Z"
   },
   {
    "duration": 12,
    "start_time": "2022-07-21T20:34:37.713Z"
   },
   {
    "duration": 12,
    "start_time": "2022-07-21T20:34:37.727Z"
   },
   {
    "duration": 3,
    "start_time": "2022-07-21T20:34:37.740Z"
   },
   {
    "duration": 41,
    "start_time": "2022-07-21T20:34:37.745Z"
   },
   {
    "duration": 25,
    "start_time": "2022-07-21T20:34:37.788Z"
   },
   {
    "duration": 58,
    "start_time": "2022-07-21T20:34:37.815Z"
   },
   {
    "duration": 27,
    "start_time": "2022-07-21T20:34:37.874Z"
   },
   {
    "duration": 115,
    "start_time": "2022-07-21T20:34:37.966Z"
   },
   {
    "duration": 8303,
    "start_time": "2022-07-21T20:34:38.083Z"
   },
   {
    "duration": 5,
    "start_time": "2022-07-21T20:34:46.388Z"
   },
   {
    "duration": 1957,
    "start_time": "2022-07-21T20:34:46.395Z"
   },
   {
    "duration": 5197,
    "start_time": "2022-07-21T20:34:48.353Z"
   },
   {
    "duration": 61,
    "start_time": "2022-07-21T20:37:30.221Z"
   },
   {
    "duration": 1406,
    "start_time": "2022-07-21T20:38:31.863Z"
   },
   {
    "duration": 3,
    "start_time": "2022-07-21T20:38:33.271Z"
   },
   {
    "duration": 61,
    "start_time": "2022-07-21T20:38:33.276Z"
   },
   {
    "duration": 4,
    "start_time": "2022-07-21T20:38:33.339Z"
   },
   {
    "duration": 22,
    "start_time": "2022-07-21T20:38:33.345Z"
   },
   {
    "duration": 4,
    "start_time": "2022-07-21T20:38:33.368Z"
   },
   {
    "duration": 14,
    "start_time": "2022-07-21T20:38:33.374Z"
   },
   {
    "duration": 9,
    "start_time": "2022-07-21T20:38:33.390Z"
   },
   {
    "duration": 19,
    "start_time": "2022-07-21T20:38:33.400Z"
   },
   {
    "duration": 1359,
    "start_time": "2022-07-21T20:38:33.421Z"
   },
   {
    "duration": 4,
    "start_time": "2022-07-21T20:38:34.782Z"
   },
   {
    "duration": 5378,
    "start_time": "2022-07-21T20:38:34.788Z"
   },
   {
    "duration": 11,
    "start_time": "2022-07-21T20:38:40.168Z"
   },
   {
    "duration": 5,
    "start_time": "2022-07-21T20:38:40.182Z"
   },
   {
    "duration": 72,
    "start_time": "2022-07-21T20:38:40.189Z"
   },
   {
    "duration": 5,
    "start_time": "2022-07-21T20:38:40.262Z"
   },
   {
    "duration": 18,
    "start_time": "2022-07-21T20:38:40.269Z"
   },
   {
    "duration": 12,
    "start_time": "2022-07-21T20:38:40.289Z"
   },
   {
    "duration": 4,
    "start_time": "2022-07-21T20:38:40.360Z"
   },
   {
    "duration": 37,
    "start_time": "2022-07-21T20:38:40.366Z"
   },
   {
    "duration": 75,
    "start_time": "2022-07-21T20:38:40.404Z"
   },
   {
    "duration": 24,
    "start_time": "2022-07-21T20:38:40.480Z"
   },
   {
    "duration": 19,
    "start_time": "2022-07-21T20:38:40.561Z"
   },
   {
    "duration": 183,
    "start_time": "2022-07-21T20:38:40.583Z"
   },
   {
    "duration": 400,
    "start_time": "2022-07-21T20:38:40.768Z"
   },
   {
    "duration": 4,
    "start_time": "2022-07-21T20:38:41.170Z"
   },
   {
    "duration": 2053,
    "start_time": "2022-07-21T20:38:41.176Z"
   },
   {
    "duration": 4836,
    "start_time": "2022-07-21T20:38:43.230Z"
   },
   {
    "duration": 7,
    "start_time": "2022-07-21T20:39:27.577Z"
   },
   {
    "duration": 1499,
    "start_time": "2022-07-21T20:39:31.929Z"
   },
   {
    "duration": 2,
    "start_time": "2022-07-21T20:39:33.431Z"
   },
   {
    "duration": 59,
    "start_time": "2022-07-21T20:39:33.435Z"
   },
   {
    "duration": 3,
    "start_time": "2022-07-21T20:39:33.497Z"
   },
   {
    "duration": 19,
    "start_time": "2022-07-21T20:39:33.502Z"
   },
   {
    "duration": 3,
    "start_time": "2022-07-21T20:39:33.523Z"
   },
   {
    "duration": 14,
    "start_time": "2022-07-21T20:39:33.528Z"
   },
   {
    "duration": 26,
    "start_time": "2022-07-21T20:39:33.545Z"
   },
   {
    "duration": 21,
    "start_time": "2022-07-21T20:39:33.573Z"
   },
   {
    "duration": 805,
    "start_time": "2022-07-21T20:39:33.597Z"
   },
   {
    "duration": 4,
    "start_time": "2022-07-21T20:39:34.404Z"
   },
   {
    "duration": 2558,
    "start_time": "2022-07-21T20:39:34.409Z"
   },
   {
    "duration": 95,
    "start_time": "2022-07-21T20:39:36.972Z"
   },
   {
    "duration": 6,
    "start_time": "2022-07-21T20:39:37.069Z"
   },
   {
    "duration": 17,
    "start_time": "2022-07-21T20:39:37.077Z"
   },
   {
    "duration": 5,
    "start_time": "2022-07-21T20:39:37.095Z"
   },
   {
    "duration": 13,
    "start_time": "2022-07-21T20:39:37.102Z"
   },
   {
    "duration": 45,
    "start_time": "2022-07-21T20:39:37.117Z"
   },
   {
    "duration": 4,
    "start_time": "2022-07-21T20:39:37.164Z"
   },
   {
    "duration": 32,
    "start_time": "2022-07-21T20:39:37.169Z"
   },
   {
    "duration": 23,
    "start_time": "2022-07-21T20:39:37.203Z"
   },
   {
    "duration": 52,
    "start_time": "2022-07-21T20:39:37.228Z"
   },
   {
    "duration": 15,
    "start_time": "2022-07-21T20:39:37.282Z"
   },
   {
    "duration": 166,
    "start_time": "2022-07-21T20:39:37.299Z"
   },
   {
    "duration": 9501,
    "start_time": "2022-07-21T20:39:37.468Z"
   },
   {
    "duration": 4,
    "start_time": "2022-07-21T20:39:46.972Z"
   },
   {
    "duration": 1731,
    "start_time": "2022-07-21T20:39:46.978Z"
   },
   {
    "duration": 4810,
    "start_time": "2022-07-21T20:39:48.712Z"
   },
   {
    "duration": 5,
    "start_time": "2022-07-21T20:40:42.708Z"
   },
   {
    "duration": 672,
    "start_time": "2022-07-21T20:50:12.517Z"
   },
   {
    "duration": 743,
    "start_time": "2022-07-21T20:50:35.484Z"
   },
   {
    "duration": 116,
    "start_time": "2022-07-21T20:50:47.939Z"
   },
   {
    "duration": 16,
    "start_time": "2022-07-21T20:51:10.465Z"
   },
   {
    "duration": 1022,
    "start_time": "2022-07-21T20:51:50.996Z"
   },
   {
    "duration": 10,
    "start_time": "2022-07-21T20:52:10.146Z"
   },
   {
    "duration": 13,
    "start_time": "2022-07-21T20:52:24.071Z"
   },
   {
    "duration": 10,
    "start_time": "2022-07-21T20:52:31.801Z"
   },
   {
    "duration": 11,
    "start_time": "2022-07-21T20:52:36.940Z"
   },
   {
    "duration": 12,
    "start_time": "2022-07-21T20:53:05.101Z"
   },
   {
    "duration": 10,
    "start_time": "2022-07-21T20:53:12.715Z"
   },
   {
    "duration": 11,
    "start_time": "2022-07-21T20:53:21.091Z"
   },
   {
    "duration": 10,
    "start_time": "2022-07-21T20:53:30.929Z"
   },
   {
    "duration": 1773,
    "start_time": "2022-07-21T21:41:18.277Z"
   },
   {
    "duration": 3,
    "start_time": "2022-07-21T21:41:20.053Z"
   },
   {
    "duration": 83,
    "start_time": "2022-07-21T21:41:20.057Z"
   },
   {
    "duration": 5,
    "start_time": "2022-07-21T21:41:20.143Z"
   },
   {
    "duration": 23,
    "start_time": "2022-07-21T21:41:20.149Z"
   },
   {
    "duration": 23,
    "start_time": "2022-07-21T21:41:20.173Z"
   },
   {
    "duration": 18,
    "start_time": "2022-07-21T21:41:20.197Z"
   },
   {
    "duration": 6,
    "start_time": "2022-07-21T21:41:20.218Z"
   },
   {
    "duration": 14,
    "start_time": "2022-07-21T21:41:20.226Z"
   },
   {
    "duration": 899,
    "start_time": "2022-07-21T21:41:20.244Z"
   },
   {
    "duration": 179,
    "start_time": "2022-07-21T21:41:21.145Z"
   },
   {
    "duration": 167,
    "start_time": "2022-07-21T21:41:21.326Z"
   },
   {
    "duration": 16,
    "start_time": "2022-07-21T21:41:21.495Z"
   },
   {
    "duration": 3101,
    "start_time": "2022-07-21T21:41:21.513Z"
   },
   {
    "duration": 12,
    "start_time": "2022-07-21T21:41:24.709Z"
   },
   {
    "duration": 7,
    "start_time": "2022-07-21T21:41:24.722Z"
   },
   {
    "duration": 20,
    "start_time": "2022-07-21T21:41:24.731Z"
   },
   {
    "duration": 5,
    "start_time": "2022-07-21T21:41:24.752Z"
   },
   {
    "duration": 18,
    "start_time": "2022-07-21T21:41:24.758Z"
   },
   {
    "duration": 38,
    "start_time": "2022-07-21T21:41:24.778Z"
   },
   {
    "duration": 4,
    "start_time": "2022-07-21T21:41:24.818Z"
   },
   {
    "duration": 31,
    "start_time": "2022-07-21T21:41:24.823Z"
   },
   {
    "duration": 58,
    "start_time": "2022-07-21T21:41:24.856Z"
   },
   {
    "duration": 27,
    "start_time": "2022-07-21T21:41:24.916Z"
   },
   {
    "duration": 70,
    "start_time": "2022-07-21T21:41:24.945Z"
   },
   {
    "duration": 116,
    "start_time": "2022-07-21T21:41:25.017Z"
   },
   {
    "duration": 424,
    "start_time": "2022-07-21T21:41:25.135Z"
   },
   {
    "duration": 6,
    "start_time": "2022-07-21T21:41:25.562Z"
   },
   {
    "duration": 2013,
    "start_time": "2022-07-21T21:41:25.570Z"
   },
   {
    "duration": 6077,
    "start_time": "2022-07-21T21:41:27.585Z"
   },
   {
    "duration": 44,
    "start_time": "2022-07-28T20:13:01.690Z"
   },
   {
    "duration": 1448,
    "start_time": "2022-07-28T20:13:06.809Z"
   },
   {
    "duration": 3,
    "start_time": "2022-07-28T20:13:08.259Z"
   },
   {
    "duration": 127,
    "start_time": "2022-07-28T20:13:08.265Z"
   },
   {
    "duration": 4,
    "start_time": "2022-07-28T20:13:08.393Z"
   },
   {
    "duration": 29,
    "start_time": "2022-07-28T20:13:08.399Z"
   },
   {
    "duration": 3,
    "start_time": "2022-07-28T20:13:08.430Z"
   },
   {
    "duration": 3,
    "start_time": "2022-07-28T20:13:08.435Z"
   },
   {
    "duration": 5,
    "start_time": "2022-07-28T20:13:08.439Z"
   },
   {
    "duration": 129,
    "start_time": "2022-07-28T20:13:08.445Z"
   },
   {
    "duration": 0,
    "start_time": "2022-07-28T20:13:08.575Z"
   },
   {
    "duration": 0,
    "start_time": "2022-07-28T20:13:08.576Z"
   },
   {
    "duration": 0,
    "start_time": "2022-07-28T20:13:08.578Z"
   },
   {
    "duration": 0,
    "start_time": "2022-07-28T20:13:08.579Z"
   },
   {
    "duration": 0,
    "start_time": "2022-07-28T20:13:08.580Z"
   },
   {
    "duration": 0,
    "start_time": "2022-07-28T20:13:08.581Z"
   },
   {
    "duration": 0,
    "start_time": "2022-07-28T20:13:08.582Z"
   },
   {
    "duration": 0,
    "start_time": "2022-07-28T20:13:08.583Z"
   },
   {
    "duration": 0,
    "start_time": "2022-07-28T20:13:08.583Z"
   },
   {
    "duration": 0,
    "start_time": "2022-07-28T20:13:08.584Z"
   },
   {
    "duration": 0,
    "start_time": "2022-07-28T20:13:08.585Z"
   },
   {
    "duration": 0,
    "start_time": "2022-07-28T20:13:08.586Z"
   },
   {
    "duration": 0,
    "start_time": "2022-07-28T20:13:08.587Z"
   },
   {
    "duration": 0,
    "start_time": "2022-07-28T20:13:08.588Z"
   },
   {
    "duration": 0,
    "start_time": "2022-07-28T20:13:08.589Z"
   },
   {
    "duration": 0,
    "start_time": "2022-07-28T20:13:08.590Z"
   },
   {
    "duration": 0,
    "start_time": "2022-07-28T20:13:08.591Z"
   },
   {
    "duration": 0,
    "start_time": "2022-07-28T20:13:08.592Z"
   },
   {
    "duration": 0,
    "start_time": "2022-07-28T20:13:08.593Z"
   },
   {
    "duration": 0,
    "start_time": "2022-07-28T20:13:08.594Z"
   },
   {
    "duration": 0,
    "start_time": "2022-07-28T20:13:08.595Z"
   },
   {
    "duration": 2063,
    "start_time": "2022-07-28T20:13:34.961Z"
   },
   {
    "duration": 3,
    "start_time": "2022-07-28T20:13:37.027Z"
   },
   {
    "duration": 58,
    "start_time": "2022-07-28T20:13:37.032Z"
   },
   {
    "duration": 4,
    "start_time": "2022-07-28T20:13:37.092Z"
   },
   {
    "duration": 16,
    "start_time": "2022-07-28T20:13:37.097Z"
   },
   {
    "duration": 3,
    "start_time": "2022-07-28T20:13:37.115Z"
   },
   {
    "duration": 11,
    "start_time": "2022-07-28T20:13:37.119Z"
   },
   {
    "duration": 10,
    "start_time": "2022-07-28T20:13:37.131Z"
   },
   {
    "duration": 14,
    "start_time": "2022-07-28T20:13:37.142Z"
   },
   {
    "duration": 774,
    "start_time": "2022-07-28T20:13:37.158Z"
   },
   {
    "duration": 149,
    "start_time": "2022-07-28T20:13:37.933Z"
   },
   {
    "duration": 129,
    "start_time": "2022-07-28T20:13:38.084Z"
   },
   {
    "duration": 3,
    "start_time": "2022-07-28T20:13:38.215Z"
   },
   {
    "duration": 1954,
    "start_time": "2022-07-28T20:13:38.220Z"
   },
   {
    "duration": 95,
    "start_time": "2022-07-28T20:13:40.180Z"
   },
   {
    "duration": 12,
    "start_time": "2022-07-28T20:13:40.276Z"
   },
   {
    "duration": 36,
    "start_time": "2022-07-28T20:13:40.289Z"
   },
   {
    "duration": 4,
    "start_time": "2022-07-28T20:13:40.326Z"
   },
   {
    "duration": 30,
    "start_time": "2022-07-28T20:13:40.332Z"
   },
   {
    "duration": 12,
    "start_time": "2022-07-28T20:13:40.364Z"
   },
   {
    "duration": 13,
    "start_time": "2022-07-28T20:13:40.377Z"
   },
   {
    "duration": 42,
    "start_time": "2022-07-28T20:13:40.391Z"
   },
   {
    "duration": 36,
    "start_time": "2022-07-28T20:13:40.434Z"
   },
   {
    "duration": 36,
    "start_time": "2022-07-28T20:13:40.472Z"
   },
   {
    "duration": 18,
    "start_time": "2022-07-28T20:13:40.510Z"
   },
   {
    "duration": 147,
    "start_time": "2022-07-28T20:13:40.530Z"
   },
   {
    "duration": 5500,
    "start_time": "2022-07-28T20:13:40.679Z"
   },
   {
    "duration": 4,
    "start_time": "2022-07-28T20:13:46.181Z"
   },
   {
    "duration": 1542,
    "start_time": "2022-07-28T20:13:46.186Z"
   },
   {
    "duration": 4286,
    "start_time": "2022-07-28T20:13:47.729Z"
   },
   {
    "duration": 639,
    "start_time": "2022-07-28T20:14:05.348Z"
   },
   {
    "duration": 1325,
    "start_time": "2022-07-28T20:14:55.350Z"
   },
   {
    "duration": 4,
    "start_time": "2022-07-28T20:14:56.677Z"
   },
   {
    "duration": 56,
    "start_time": "2022-07-28T20:14:56.682Z"
   },
   {
    "duration": 6,
    "start_time": "2022-07-28T20:14:56.740Z"
   },
   {
    "duration": 20,
    "start_time": "2022-07-28T20:14:56.748Z"
   },
   {
    "duration": 4,
    "start_time": "2022-07-28T20:14:56.769Z"
   },
   {
    "duration": 16,
    "start_time": "2022-07-28T20:14:56.774Z"
   },
   {
    "duration": 1006,
    "start_time": "2022-07-28T20:14:56.792Z"
   },
   {
    "duration": 294,
    "start_time": "2022-07-28T20:14:57.800Z"
   },
   {
    "duration": 279,
    "start_time": "2022-07-28T20:14:58.095Z"
   },
   {
    "duration": 3,
    "start_time": "2022-07-28T20:14:58.376Z"
   },
   {
    "duration": 1894,
    "start_time": "2022-07-28T20:14:58.381Z"
   },
   {
    "duration": 97,
    "start_time": "2022-07-28T20:15:00.277Z"
   },
   {
    "duration": 7,
    "start_time": "2022-07-28T20:15:00.377Z"
   },
   {
    "duration": 17,
    "start_time": "2022-07-28T20:15:00.386Z"
   },
   {
    "duration": 4,
    "start_time": "2022-07-28T20:15:00.405Z"
   },
   {
    "duration": 17,
    "start_time": "2022-07-28T20:15:00.410Z"
   },
   {
    "duration": 52,
    "start_time": "2022-07-28T20:15:00.429Z"
   },
   {
    "duration": 3,
    "start_time": "2022-07-28T20:15:00.483Z"
   },
   {
    "duration": 27,
    "start_time": "2022-07-28T20:15:00.487Z"
   },
   {
    "duration": 33,
    "start_time": "2022-07-28T20:15:00.516Z"
   },
   {
    "duration": 38,
    "start_time": "2022-07-28T20:15:00.550Z"
   },
   {
    "duration": 40,
    "start_time": "2022-07-28T20:15:00.590Z"
   },
   {
    "duration": 152,
    "start_time": "2022-07-28T20:15:00.632Z"
   },
   {
    "duration": 8636,
    "start_time": "2022-07-28T20:15:00.786Z"
   },
   {
    "duration": 4,
    "start_time": "2022-07-28T20:15:09.424Z"
   },
   {
    "duration": 1558,
    "start_time": "2022-07-28T20:15:09.429Z"
   },
   {
    "duration": 4703,
    "start_time": "2022-07-28T20:15:10.989Z"
   },
   {
    "duration": 594,
    "start_time": "2022-07-28T20:15:33.419Z"
   },
   {
    "duration": 725,
    "start_time": "2022-07-28T20:15:41.319Z"
   },
   {
    "duration": 130,
    "start_time": "2022-07-28T20:30:46.328Z"
   },
   {
    "duration": 147,
    "start_time": "2022-07-28T20:37:36.687Z"
   },
   {
    "duration": 134,
    "start_time": "2022-07-28T20:38:09.777Z"
   },
   {
    "duration": 145,
    "start_time": "2022-07-28T20:46:22.475Z"
   },
   {
    "duration": 133,
    "start_time": "2022-07-28T20:46:32.661Z"
   },
   {
    "duration": 1481,
    "start_time": "2022-07-28T20:46:50.549Z"
   },
   {
    "duration": 2,
    "start_time": "2022-07-28T20:46:52.032Z"
   },
   {
    "duration": 57,
    "start_time": "2022-07-28T20:46:52.036Z"
   },
   {
    "duration": 3,
    "start_time": "2022-07-28T20:46:52.095Z"
   },
   {
    "duration": 19,
    "start_time": "2022-07-28T20:46:52.099Z"
   },
   {
    "duration": 3,
    "start_time": "2022-07-28T20:46:52.120Z"
   },
   {
    "duration": 12,
    "start_time": "2022-07-28T20:46:52.125Z"
   },
   {
    "duration": 802,
    "start_time": "2022-07-28T20:46:52.139Z"
   },
   {
    "duration": 163,
    "start_time": "2022-07-28T20:46:52.943Z"
   },
   {
    "duration": 143,
    "start_time": "2022-07-28T20:46:53.109Z"
   },
   {
    "duration": 5,
    "start_time": "2022-07-28T20:46:53.253Z"
   },
   {
    "duration": 1914,
    "start_time": "2022-07-28T20:46:53.260Z"
   },
   {
    "duration": 98,
    "start_time": "2022-07-28T20:46:55.176Z"
   },
   {
    "duration": 4,
    "start_time": "2022-07-28T20:46:55.277Z"
   },
   {
    "duration": 17,
    "start_time": "2022-07-28T20:46:55.283Z"
   },
   {
    "duration": 4,
    "start_time": "2022-07-28T20:46:55.302Z"
   },
   {
    "duration": 14,
    "start_time": "2022-07-28T20:46:55.307Z"
   },
   {
    "duration": 11,
    "start_time": "2022-07-28T20:46:55.323Z"
   },
   {
    "duration": 3,
    "start_time": "2022-07-28T20:46:55.335Z"
   },
   {
    "duration": 25,
    "start_time": "2022-07-28T20:46:55.374Z"
   },
   {
    "duration": 23,
    "start_time": "2022-07-28T20:46:55.401Z"
   },
   {
    "duration": 22,
    "start_time": "2022-07-28T20:46:55.426Z"
   },
   {
    "duration": 14,
    "start_time": "2022-07-28T20:46:55.474Z"
   },
   {
    "duration": 188,
    "start_time": "2022-07-28T20:46:55.490Z"
   },
   {
    "duration": 3932,
    "start_time": "2022-07-28T20:46:55.679Z"
   },
   {
    "duration": 4,
    "start_time": "2022-07-28T20:46:59.614Z"
   },
   {
    "duration": 1581,
    "start_time": "2022-07-28T20:46:59.620Z"
   },
   {
    "duration": 4900,
    "start_time": "2022-07-28T20:47:01.205Z"
   },
   {
    "duration": 1459,
    "start_time": "2022-07-28T20:56:31.063Z"
   },
   {
    "duration": 2,
    "start_time": "2022-07-28T20:56:32.525Z"
   },
   {
    "duration": 73,
    "start_time": "2022-07-28T20:56:32.529Z"
   },
   {
    "duration": 4,
    "start_time": "2022-07-28T20:56:32.604Z"
   },
   {
    "duration": 18,
    "start_time": "2022-07-28T20:56:32.610Z"
   },
   {
    "duration": 4,
    "start_time": "2022-07-28T20:56:32.630Z"
   },
   {
    "duration": 11,
    "start_time": "2022-07-28T20:56:32.636Z"
   },
   {
    "duration": 777,
    "start_time": "2022-07-28T20:56:32.673Z"
   },
   {
    "duration": 152,
    "start_time": "2022-07-28T20:56:33.452Z"
   },
   {
    "duration": 148,
    "start_time": "2022-07-28T20:56:33.606Z"
   },
   {
    "duration": 5,
    "start_time": "2022-07-28T20:56:33.755Z"
   },
   {
    "duration": 2012,
    "start_time": "2022-07-28T20:56:33.762Z"
   },
   {
    "duration": 99,
    "start_time": "2022-07-28T20:56:35.776Z"
   },
   {
    "duration": 7,
    "start_time": "2022-07-28T20:56:35.879Z"
   },
   {
    "duration": 20,
    "start_time": "2022-07-28T20:56:35.888Z"
   },
   {
    "duration": 5,
    "start_time": "2022-07-28T20:56:35.910Z"
   },
   {
    "duration": 25,
    "start_time": "2022-07-28T20:56:35.917Z"
   },
   {
    "duration": 34,
    "start_time": "2022-07-28T20:56:35.944Z"
   },
   {
    "duration": 4,
    "start_time": "2022-07-28T20:56:35.980Z"
   },
   {
    "duration": 28,
    "start_time": "2022-07-28T20:56:35.986Z"
   },
   {
    "duration": 57,
    "start_time": "2022-07-28T20:56:36.016Z"
   },
   {
    "duration": 26,
    "start_time": "2022-07-28T20:56:36.076Z"
   },
   {
    "duration": 70,
    "start_time": "2022-07-28T20:56:36.104Z"
   },
   {
    "duration": 108,
    "start_time": "2022-07-28T20:56:36.176Z"
   },
   {
    "duration": 3874,
    "start_time": "2022-07-28T20:56:36.285Z"
   },
   {
    "duration": 4,
    "start_time": "2022-07-28T20:56:40.161Z"
   },
   {
    "duration": 1635,
    "start_time": "2022-07-28T20:56:40.173Z"
   },
   {
    "duration": 4825,
    "start_time": "2022-07-28T20:56:41.810Z"
   },
   {
    "duration": 4,
    "start_time": "2022-07-28T20:58:14.885Z"
   },
   {
    "duration": 1377,
    "start_time": "2022-07-28T20:58:22.674Z"
   },
   {
    "duration": 3,
    "start_time": "2022-07-28T20:58:24.053Z"
   },
   {
    "duration": 57,
    "start_time": "2022-07-28T20:58:24.057Z"
   },
   {
    "duration": 4,
    "start_time": "2022-07-28T20:58:24.116Z"
   },
   {
    "duration": 22,
    "start_time": "2022-07-28T20:58:24.122Z"
   },
   {
    "duration": 3,
    "start_time": "2022-07-28T20:58:24.145Z"
   },
   {
    "duration": 11,
    "start_time": "2022-07-28T20:58:24.150Z"
   },
   {
    "duration": 787,
    "start_time": "2022-07-28T20:58:24.162Z"
   },
   {
    "duration": 170,
    "start_time": "2022-07-28T20:58:24.951Z"
   },
   {
    "duration": 141,
    "start_time": "2022-07-28T20:58:25.124Z"
   },
   {
    "duration": 4,
    "start_time": "2022-07-28T20:58:25.273Z"
   },
   {
    "duration": 2712,
    "start_time": "2022-07-28T20:58:25.279Z"
   },
   {
    "duration": 85,
    "start_time": "2022-07-28T20:58:27.995Z"
   },
   {
    "duration": 4,
    "start_time": "2022-07-28T20:58:28.082Z"
   },
   {
    "duration": 21,
    "start_time": "2022-07-28T20:58:28.088Z"
   },
   {
    "duration": 5,
    "start_time": "2022-07-28T20:58:28.111Z"
   },
   {
    "duration": 19,
    "start_time": "2022-07-28T20:58:28.117Z"
   },
   {
    "duration": 36,
    "start_time": "2022-07-28T20:58:28.138Z"
   },
   {
    "duration": 3,
    "start_time": "2022-07-28T20:58:28.176Z"
   },
   {
    "duration": 26,
    "start_time": "2022-07-28T20:58:28.181Z"
   },
   {
    "duration": 22,
    "start_time": "2022-07-28T20:58:28.208Z"
   },
   {
    "duration": 50,
    "start_time": "2022-07-28T20:58:28.232Z"
   },
   {
    "duration": 15,
    "start_time": "2022-07-28T20:58:28.284Z"
   },
   {
    "duration": 90,
    "start_time": "2022-07-28T20:58:28.300Z"
   },
   {
    "duration": 8645,
    "start_time": "2022-07-28T20:58:28.473Z"
   },
   {
    "duration": 4,
    "start_time": "2022-07-28T20:58:37.120Z"
   },
   {
    "duration": 1625,
    "start_time": "2022-07-28T20:58:37.126Z"
   },
   {
    "duration": 4639,
    "start_time": "2022-07-28T20:58:38.754Z"
   },
   {
    "duration": 1425,
    "start_time": "2022-07-28T21:01:02.518Z"
   },
   {
    "duration": 3,
    "start_time": "2022-07-28T21:01:03.945Z"
   },
   {
    "duration": 64,
    "start_time": "2022-07-28T21:01:03.949Z"
   },
   {
    "duration": 4,
    "start_time": "2022-07-28T21:01:04.015Z"
   },
   {
    "duration": 21,
    "start_time": "2022-07-28T21:01:04.022Z"
   },
   {
    "duration": 9,
    "start_time": "2022-07-28T21:01:04.045Z"
   },
   {
    "duration": 15,
    "start_time": "2022-07-28T21:01:04.056Z"
   },
   {
    "duration": 787,
    "start_time": "2022-07-28T21:01:04.073Z"
   },
   {
    "duration": 151,
    "start_time": "2022-07-28T21:01:04.862Z"
   },
   {
    "duration": 152,
    "start_time": "2022-07-28T21:01:05.015Z"
   },
   {
    "duration": 6,
    "start_time": "2022-07-28T21:01:05.168Z"
   },
   {
    "duration": 2000,
    "start_time": "2022-07-28T21:01:05.176Z"
   },
   {
    "duration": 94,
    "start_time": "2022-07-28T21:01:07.180Z"
   },
   {
    "duration": 5,
    "start_time": "2022-07-28T21:01:07.277Z"
   },
   {
    "duration": 17,
    "start_time": "2022-07-28T21:01:07.283Z"
   },
   {
    "duration": 4,
    "start_time": "2022-07-28T21:01:07.301Z"
   },
   {
    "duration": 16,
    "start_time": "2022-07-28T21:01:07.307Z"
   },
   {
    "duration": 13,
    "start_time": "2022-07-28T21:01:07.325Z"
   },
   {
    "duration": 3,
    "start_time": "2022-07-28T21:01:07.339Z"
   },
   {
    "duration": 24,
    "start_time": "2022-07-28T21:01:07.373Z"
   },
   {
    "duration": 23,
    "start_time": "2022-07-28T21:01:07.399Z"
   },
   {
    "duration": 27,
    "start_time": "2022-07-28T21:01:07.423Z"
   },
   {
    "duration": 40,
    "start_time": "2022-07-28T21:01:07.452Z"
   },
   {
    "duration": 190,
    "start_time": "2022-07-28T21:01:07.494Z"
   },
   {
    "duration": 3367,
    "start_time": "2022-07-28T21:01:07.686Z"
   },
   {
    "duration": 3,
    "start_time": "2022-07-28T21:01:11.056Z"
   },
   {
    "duration": 1703,
    "start_time": "2022-07-28T21:01:11.061Z"
   },
   {
    "duration": 7355,
    "start_time": "2022-07-28T21:01:12.765Z"
   },
   {
    "duration": 5,
    "start_time": "2022-07-28T21:05:45.859Z"
   },
   {
    "duration": 4,
    "start_time": "2022-07-28T21:05:59.949Z"
   },
   {
    "duration": 1445,
    "start_time": "2022-07-28T21:06:06.645Z"
   },
   {
    "duration": 3,
    "start_time": "2022-07-28T21:06:08.092Z"
   },
   {
    "duration": 59,
    "start_time": "2022-07-28T21:06:08.097Z"
   },
   {
    "duration": 3,
    "start_time": "2022-07-28T21:06:08.159Z"
   },
   {
    "duration": 19,
    "start_time": "2022-07-28T21:06:08.164Z"
   },
   {
    "duration": 4,
    "start_time": "2022-07-28T21:06:08.185Z"
   },
   {
    "duration": 11,
    "start_time": "2022-07-28T21:06:08.191Z"
   },
   {
    "duration": 783,
    "start_time": "2022-07-28T21:06:08.203Z"
   },
   {
    "duration": 159,
    "start_time": "2022-07-28T21:06:08.988Z"
   },
   {
    "duration": 148,
    "start_time": "2022-07-28T21:06:09.151Z"
   },
   {
    "duration": 5,
    "start_time": "2022-07-28T21:06:09.300Z"
   },
   {
    "duration": 1876,
    "start_time": "2022-07-28T21:06:09.306Z"
   },
   {
    "duration": 96,
    "start_time": "2022-07-28T21:06:11.184Z"
   },
   {
    "duration": 98,
    "start_time": "2022-07-28T21:06:11.282Z"
   },
   {
    "duration": 19,
    "start_time": "2022-07-28T21:06:11.382Z"
   },
   {
    "duration": 6,
    "start_time": "2022-07-28T21:06:11.402Z"
   },
   {
    "duration": 13,
    "start_time": "2022-07-28T21:06:11.409Z"
   },
   {
    "duration": 16,
    "start_time": "2022-07-28T21:06:11.424Z"
   },
   {
    "duration": 30,
    "start_time": "2022-07-28T21:06:11.444Z"
   },
   {
    "duration": 35,
    "start_time": "2022-07-28T21:06:11.476Z"
   },
   {
    "duration": 32,
    "start_time": "2022-07-28T21:06:11.513Z"
   },
   {
    "duration": 47,
    "start_time": "2022-07-28T21:06:11.547Z"
   },
   {
    "duration": 79,
    "start_time": "2022-07-28T21:06:11.595Z"
   },
   {
    "duration": 107,
    "start_time": "2022-07-28T21:06:11.677Z"
   },
   {
    "duration": 4814,
    "start_time": "2022-07-28T21:06:11.786Z"
   },
   {
    "duration": 4,
    "start_time": "2022-07-28T21:06:16.602Z"
   },
   {
    "duration": 1654,
    "start_time": "2022-07-28T21:06:16.608Z"
   },
   {
    "duration": 4974,
    "start_time": "2022-07-28T21:06:18.265Z"
   }
  ],
  "kernelspec": {
   "display_name": "Python 3 (ipykernel)",
   "language": "python",
   "name": "python3"
  },
  "language_info": {
   "codemirror_mode": {
    "name": "ipython",
    "version": 3
   },
   "file_extension": ".py",
   "mimetype": "text/x-python",
   "name": "python",
   "nbconvert_exporter": "python",
   "pygments_lexer": "ipython3",
   "version": "3.9.7"
  },
  "toc": {
   "base_numbering": 1,
   "nav_menu": {},
   "number_sections": true,
   "sideBar": true,
   "skip_h1_title": true,
   "title_cell": "Содержание",
   "title_sidebar": "Contents",
   "toc_cell": true,
   "toc_position": {
    "height": "calc(100% - 180px)",
    "left": "10px",
    "top": "150px",
    "width": "165px"
   },
   "toc_section_display": true,
   "toc_window_display": true
  }
 },
 "nbformat": 4,
 "nbformat_minor": 2
}
