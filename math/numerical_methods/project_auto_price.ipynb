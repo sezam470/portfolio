{
 "cells": [
  {
   "cell_type": "markdown",
   "metadata": {},
   "source": [
    "# Определение стоимости автомобилей"
   ]
  },
  {
   "cell_type": "markdown",
   "metadata": {},
   "source": [
    "Сервис по продаже автомобилей с пробегом «Не бит, не крашен» разрабатывает приложение для привлечения новых клиентов. В нём можно быстро узнать рыночную стоимость своего автомобиля. В вашем распоряжении исторические данные: технические характеристики, комплектации и цены автомобилей. Вам нужно построить модель для определения стоимости. \n",
    "\n",
    "Заказчику важны:\n",
    "\n",
    "- качество предсказания;\n",
    "- скорость предсказания;\n",
    "- время обучения."
   ]
  },
  {
   "cell_type": "markdown",
   "metadata": {},
   "source": [
    "## Цель"
   ]
  },
  {
   "cell_type": "markdown",
   "metadata": {},
   "source": [
    "Предсказание рыночной стоимости автомобиля."
   ]
  },
  {
   "cell_type": "markdown",
   "metadata": {},
   "source": [
    "## Задачи"
   ]
  },
  {
   "cell_type": "markdown",
   "metadata": {},
   "source": [
    "1. Построение модели на основе анализа исторических данных: технические характеристики, комплектации и цены автомобилей.\n",
    "\n",
    "2. Для оценки качества моделей применять метрику RMSE. Значение метрики RMSE должно быть меньше 2500.\n",
    "\n",
    "3. Контролировать время обучения и предсказания модели (не более минуты?)"
   ]
  },
  {
   "cell_type": "markdown",
   "metadata": {},
   "source": [
    "## Описание данных"
   ]
  },
  {
   "cell_type": "markdown",
   "metadata": {},
   "source": [
    "### Признаки"
   ]
  },
  {
   "cell_type": "markdown",
   "metadata": {},
   "source": [
    "DateCrawled — дата скачивания анкеты из базы\n",
    "\n",
    "VehicleType — тип автомобильного кузова\n",
    "\n",
    "RegistrationYear — год регистрации автомобиля\n",
    "\n",
    "Gearbox — тип коробки передач\n",
    "\n",
    "Power — мощность (л. с.)\n",
    "\n",
    "Model — модель автомобиля\n",
    "\n",
    "Kilometer — пробег (км)\n",
    "\n",
    "RegistrationMonth — месяц регистрации автомобиля\n",
    "\n",
    "FuelType — тип топлива\n",
    "\n",
    "Brand — марка автомобиля\n",
    "\n",
    "NotRepaired — была машина в ремонте или нет\n",
    "\n",
    "DateCreated — дата создания анкеты\n",
    "\n",
    "NumberOfPictures — количество фотографий автомобиля\n",
    "\n",
    "PostalCode — почтовый индекс владельца анкеты (пользователя)\n",
    "\n",
    "LastSeen — дата последней активности пользователя"
   ]
  },
  {
   "cell_type": "markdown",
   "metadata": {},
   "source": [
    "### Целевой признак"
   ]
  },
  {
   "cell_type": "markdown",
   "metadata": {},
   "source": [
    "Price — цена (евро)"
   ]
  },
  {
   "cell_type": "markdown",
   "metadata": {},
   "source": [
    "### План работы"
   ]
  },
  {
   "cell_type": "markdown",
   "metadata": {},
   "source": [
    "Сравним значение метрик RMSE у предсказаний моделей линейной регрессии, дерева решений, случайного леса, градиентного бустинга (LightGBM)."
   ]
  },
  {
   "cell_type": "markdown",
   "metadata": {},
   "source": [
    "## Подготовка данных"
   ]
  },
  {
   "cell_type": "code",
   "execution_count": 1,
   "metadata": {},
   "outputs": [],
   "source": [
    "import pandas as pd\n",
    "import seaborn as sns\n",
    "from sklearn.model_selection import train_test_split\n",
    "from sklearn.linear_model import LinearRegression\n",
    "from sklearn.preprocessing import StandardScaler\n",
    "from sklearn.metrics import mean_squared_error\n",
    "from sklearn.tree import DecisionTreeRegressor\n",
    "from sklearn.ensemble import RandomForestRegressor\n",
    "from sklearn.model_selection import GridSearchCV\n",
    "from random import randint\n",
    "from lightgbm import LGBMRegressor\n",
    "from sklearn.preprocessing import OrdinalEncoder\n",
    "import seaborn as sns\n",
    "import matplotlib.pyplot as plt"
   ]
  },
  {
   "cell_type": "code",
   "execution_count": 2,
   "metadata": {},
   "outputs": [],
   "source": [
    "RANDOM_STATE = 12345\n",
    "RMSE_LIMIT = 2500"
   ]
  },
  {
   "cell_type": "code",
   "execution_count": 3,
   "metadata": {},
   "outputs": [
    {
     "name": "stdout",
     "output_type": "stream",
     "text": [
      "<class 'pandas.core.frame.DataFrame'>\n",
      "RangeIndex: 354369 entries, 0 to 354368\n",
      "Data columns (total 16 columns):\n",
      " #   Column             Non-Null Count   Dtype \n",
      "---  ------             --------------   ----- \n",
      " 0   DateCrawled        354369 non-null  object\n",
      " 1   Price              354369 non-null  int64 \n",
      " 2   VehicleType        316879 non-null  object\n",
      " 3   RegistrationYear   354369 non-null  int64 \n",
      " 4   Gearbox            334536 non-null  object\n",
      " 5   Power              354369 non-null  int64 \n",
      " 6   Model              334664 non-null  object\n",
      " 7   Kilometer          354369 non-null  int64 \n",
      " 8   RegistrationMonth  354369 non-null  int64 \n",
      " 9   FuelType           321474 non-null  object\n",
      " 10  Brand              354369 non-null  object\n",
      " 11  NotRepaired        283215 non-null  object\n",
      " 12  DateCreated        354369 non-null  object\n",
      " 13  NumberOfPictures   354369 non-null  int64 \n",
      " 14  PostalCode         354369 non-null  int64 \n",
      " 15  LastSeen           354369 non-null  object\n",
      "dtypes: int64(7), object(9)\n",
      "memory usage: 43.3+ MB\n"
     ]
    }
   ],
   "source": [
    "df = pd.read_csv('datasets/autos.csv')\n",
    "df.info()"
   ]
  },
  {
   "cell_type": "code",
   "execution_count": 4,
   "metadata": {},
   "outputs": [
    {
     "data": {
      "text/plain": [
       "354369"
      ]
     },
     "execution_count": 4,
     "metadata": {},
     "output_type": "execute_result"
    }
   ],
   "source": [
    "df_length = df.shape[0]\n",
    "df_length"
   ]
  },
  {
   "cell_type": "code",
   "execution_count": 5,
   "metadata": {},
   "outputs": [
    {
     "data": {
      "text/html": [
       "<div>\n",
       "<style scoped>\n",
       "    .dataframe tbody tr th:only-of-type {\n",
       "        vertical-align: middle;\n",
       "    }\n",
       "\n",
       "    .dataframe tbody tr th {\n",
       "        vertical-align: top;\n",
       "    }\n",
       "\n",
       "    .dataframe thead th {\n",
       "        text-align: right;\n",
       "    }\n",
       "</style>\n",
       "<table border=\"1\" class=\"dataframe\">\n",
       "  <thead>\n",
       "    <tr style=\"text-align: right;\">\n",
       "      <th></th>\n",
       "      <th>DateCrawled</th>\n",
       "      <th>Price</th>\n",
       "      <th>VehicleType</th>\n",
       "      <th>RegistrationYear</th>\n",
       "      <th>Gearbox</th>\n",
       "      <th>Power</th>\n",
       "      <th>Model</th>\n",
       "      <th>Kilometer</th>\n",
       "      <th>RegistrationMonth</th>\n",
       "      <th>FuelType</th>\n",
       "      <th>Brand</th>\n",
       "      <th>NotRepaired</th>\n",
       "      <th>DateCreated</th>\n",
       "      <th>NumberOfPictures</th>\n",
       "      <th>PostalCode</th>\n",
       "      <th>LastSeen</th>\n",
       "    </tr>\n",
       "  </thead>\n",
       "  <tbody>\n",
       "    <tr>\n",
       "      <th>0</th>\n",
       "      <td>2016-03-24 11:52:17</td>\n",
       "      <td>480</td>\n",
       "      <td>NaN</td>\n",
       "      <td>1993</td>\n",
       "      <td>manual</td>\n",
       "      <td>0</td>\n",
       "      <td>golf</td>\n",
       "      <td>150000</td>\n",
       "      <td>0</td>\n",
       "      <td>petrol</td>\n",
       "      <td>volkswagen</td>\n",
       "      <td>NaN</td>\n",
       "      <td>2016-03-24 00:00:00</td>\n",
       "      <td>0</td>\n",
       "      <td>70435</td>\n",
       "      <td>2016-04-07 03:16:57</td>\n",
       "    </tr>\n",
       "    <tr>\n",
       "      <th>1</th>\n",
       "      <td>2016-03-24 10:58:45</td>\n",
       "      <td>18300</td>\n",
       "      <td>coupe</td>\n",
       "      <td>2011</td>\n",
       "      <td>manual</td>\n",
       "      <td>190</td>\n",
       "      <td>NaN</td>\n",
       "      <td>125000</td>\n",
       "      <td>5</td>\n",
       "      <td>gasoline</td>\n",
       "      <td>audi</td>\n",
       "      <td>yes</td>\n",
       "      <td>2016-03-24 00:00:00</td>\n",
       "      <td>0</td>\n",
       "      <td>66954</td>\n",
       "      <td>2016-04-07 01:46:50</td>\n",
       "    </tr>\n",
       "    <tr>\n",
       "      <th>2</th>\n",
       "      <td>2016-03-14 12:52:21</td>\n",
       "      <td>9800</td>\n",
       "      <td>suv</td>\n",
       "      <td>2004</td>\n",
       "      <td>auto</td>\n",
       "      <td>163</td>\n",
       "      <td>grand</td>\n",
       "      <td>125000</td>\n",
       "      <td>8</td>\n",
       "      <td>gasoline</td>\n",
       "      <td>jeep</td>\n",
       "      <td>NaN</td>\n",
       "      <td>2016-03-14 00:00:00</td>\n",
       "      <td>0</td>\n",
       "      <td>90480</td>\n",
       "      <td>2016-04-05 12:47:46</td>\n",
       "    </tr>\n",
       "    <tr>\n",
       "      <th>3</th>\n",
       "      <td>2016-03-17 16:54:04</td>\n",
       "      <td>1500</td>\n",
       "      <td>small</td>\n",
       "      <td>2001</td>\n",
       "      <td>manual</td>\n",
       "      <td>75</td>\n",
       "      <td>golf</td>\n",
       "      <td>150000</td>\n",
       "      <td>6</td>\n",
       "      <td>petrol</td>\n",
       "      <td>volkswagen</td>\n",
       "      <td>no</td>\n",
       "      <td>2016-03-17 00:00:00</td>\n",
       "      <td>0</td>\n",
       "      <td>91074</td>\n",
       "      <td>2016-03-17 17:40:17</td>\n",
       "    </tr>\n",
       "    <tr>\n",
       "      <th>4</th>\n",
       "      <td>2016-03-31 17:25:20</td>\n",
       "      <td>3600</td>\n",
       "      <td>small</td>\n",
       "      <td>2008</td>\n",
       "      <td>manual</td>\n",
       "      <td>69</td>\n",
       "      <td>fabia</td>\n",
       "      <td>90000</td>\n",
       "      <td>7</td>\n",
       "      <td>gasoline</td>\n",
       "      <td>skoda</td>\n",
       "      <td>no</td>\n",
       "      <td>2016-03-31 00:00:00</td>\n",
       "      <td>0</td>\n",
       "      <td>60437</td>\n",
       "      <td>2016-04-06 10:17:21</td>\n",
       "    </tr>\n",
       "  </tbody>\n",
       "</table>\n",
       "</div>"
      ],
      "text/plain": [
       "           DateCrawled  Price VehicleType  RegistrationYear Gearbox  Power  \\\n",
       "0  2016-03-24 11:52:17    480         NaN              1993  manual      0   \n",
       "1  2016-03-24 10:58:45  18300       coupe              2011  manual    190   \n",
       "2  2016-03-14 12:52:21   9800         suv              2004    auto    163   \n",
       "3  2016-03-17 16:54:04   1500       small              2001  manual     75   \n",
       "4  2016-03-31 17:25:20   3600       small              2008  manual     69   \n",
       "\n",
       "   Model  Kilometer  RegistrationMonth  FuelType       Brand NotRepaired  \\\n",
       "0   golf     150000                  0    petrol  volkswagen         NaN   \n",
       "1    NaN     125000                  5  gasoline        audi         yes   \n",
       "2  grand     125000                  8  gasoline        jeep         NaN   \n",
       "3   golf     150000                  6    petrol  volkswagen          no   \n",
       "4  fabia      90000                  7  gasoline       skoda          no   \n",
       "\n",
       "           DateCreated  NumberOfPictures  PostalCode             LastSeen  \n",
       "0  2016-03-24 00:00:00                 0       70435  2016-04-07 03:16:57  \n",
       "1  2016-03-24 00:00:00                 0       66954  2016-04-07 01:46:50  \n",
       "2  2016-03-14 00:00:00                 0       90480  2016-04-05 12:47:46  \n",
       "3  2016-03-17 00:00:00                 0       91074  2016-03-17 17:40:17  \n",
       "4  2016-03-31 00:00:00                 0       60437  2016-04-06 10:17:21  "
      ]
     },
     "execution_count": 5,
     "metadata": {},
     "output_type": "execute_result"
    }
   ],
   "source": [
    "df.head()"
   ]
  },
  {
   "cell_type": "code",
   "execution_count": 6,
   "metadata": {
    "scrolled": true
   },
   "outputs": [
    {
     "name": "stdout",
     "output_type": "stream",
     "text": [
      "<class 'pandas.core.frame.DataFrame'>\n",
      "RangeIndex: 354369 entries, 0 to 354368\n",
      "Data columns (total 11 columns):\n",
      " #   Column             Non-Null Count   Dtype \n",
      "---  ------             --------------   ----- \n",
      " 0   Price              354369 non-null  int64 \n",
      " 1   VehicleType        316879 non-null  object\n",
      " 2   RegistrationYear   354369 non-null  int64 \n",
      " 3   Gearbox            334536 non-null  object\n",
      " 4   Power              354369 non-null  int64 \n",
      " 5   Model              334664 non-null  object\n",
      " 6   Kilometer          354369 non-null  int64 \n",
      " 7   RegistrationMonth  354369 non-null  int64 \n",
      " 8   FuelType           321474 non-null  object\n",
      " 9   Brand              354369 non-null  object\n",
      " 10  NotRepaired        283215 non-null  object\n",
      "dtypes: int64(5), object(6)\n",
      "memory usage: 29.7+ MB\n"
     ]
    }
   ],
   "source": [
    "df = df.drop(['DateCrawled', 'DateCreated', 'NumberOfPictures', 'PostalCode', 'LastSeen'], axis=1)\n",
    "df.info()"
   ]
  },
  {
   "cell_type": "code",
   "execution_count": 7,
   "metadata": {},
   "outputs": [
    {
     "data": {
      "text/plain": [
       "Price                    0\n",
       "VehicleType          37490\n",
       "RegistrationYear         0\n",
       "Gearbox              19833\n",
       "Power                    0\n",
       "Model                19705\n",
       "Kilometer                0\n",
       "RegistrationMonth        0\n",
       "FuelType             32895\n",
       "Brand                    0\n",
       "NotRepaired          71154\n",
       "dtype: int64"
      ]
     },
     "execution_count": 7,
     "metadata": {},
     "output_type": "execute_result"
    }
   ],
   "source": [
    "df.isna().sum()"
   ]
  },
  {
   "cell_type": "code",
   "execution_count": 8,
   "metadata": {
    "scrolled": true
   },
   "outputs": [],
   "source": [
    "df = df.fillna('other')"
   ]
  },
  {
   "cell_type": "code",
   "execution_count": 9,
   "metadata": {},
   "outputs": [
    {
     "data": {
      "text/plain": [
       "Index(['price', 'vehicle_type', 'registration_year', 'gearbox', 'power',\n",
       "       'model', 'kilometer', 'registration_month', 'fuel_type', 'brand',\n",
       "       'not_repaired'],\n",
       "      dtype='object')"
      ]
     },
     "execution_count": 9,
     "metadata": {},
     "output_type": "execute_result"
    }
   ],
   "source": [
    "df = df.rename(columns={\n",
    "    'Price': 'price',\n",
    "    'VehicleType': 'vehicle_type',\n",
    "    'Gearbox': 'gearbox',\n",
    "    'Power': 'power',\n",
    "    'Model': 'model',\n",
    "    'Kilometer': 'kilometer',\n",
    "    'FuelType': 'fuel_type',\n",
    "    'Brand': 'brand',\n",
    "    'NotRepaired': 'not_repaired',\n",
    "    'RegistrationYear': 'registration_year',\n",
    "    'RegistrationMonth': 'registration_month'\n",
    "})\n",
    "df.columns"
   ]
  },
  {
   "cell_type": "code",
   "execution_count": 10,
   "metadata": {
    "scrolled": false
   },
   "outputs": [
    {
     "name": "stdout",
     "output_type": "stream",
     "text": [
      "price: 0        10772\n",
      "500       5670\n",
      "1500      5394\n",
      "1000      4649\n",
      "1200      4594\n",
      "         ...  \n",
      "13180        1\n",
      "10879        1\n",
      "2683         1\n",
      "634          1\n",
      "8188         1\n",
      "Name: price, Length: 3731, dtype: int64 \n",
      " \n",
      "\n",
      "vehicle_type: sedan          91457\n",
      "small          79831\n",
      "wagon          65166\n",
      "other          40778\n",
      "bus            28775\n",
      "convertible    20203\n",
      "coupe          16163\n",
      "suv            11996\n",
      "Name: vehicle_type, dtype: int64 \n",
      " \n",
      "\n",
      "registration_year: 2000    24490\n",
      "1999    22728\n",
      "2005    22109\n",
      "2001    20124\n",
      "2006    19900\n",
      "        ...  \n",
      "4100        1\n",
      "1200        1\n",
      "5300        1\n",
      "8888        1\n",
      "2290        1\n",
      "Name: registration_year, Length: 151, dtype: int64 \n",
      " \n",
      "\n",
      "gearbox: manual    268251\n",
      "auto       66285\n",
      "other      19833\n",
      "Name: gearbox, dtype: int64 \n",
      " \n",
      "\n",
      "power: 0        40225\n",
      "75       24023\n",
      "60       15897\n",
      "150      14590\n",
      "101      13298\n",
      "         ...  \n",
      "323          1\n",
      "3454         1\n",
      "1056         1\n",
      "13636        1\n",
      "1158         1\n",
      "Name: power, Length: 712, dtype: int64 \n",
      " \n",
      "\n",
      "model: other                 44126\n",
      "golf                  29232\n",
      "3er                   19761\n",
      "polo                  13066\n",
      "corsa                 12570\n",
      "                      ...  \n",
      "serie_2                   8\n",
      "serie_3                   4\n",
      "rangerover                4\n",
      "serie_1                   2\n",
      "range_rover_evoque        2\n",
      "Name: model, Length: 250, dtype: int64 \n",
      " \n",
      "\n",
      "kilometer: 150000    238209\n",
      "125000     36454\n",
      "100000     14882\n",
      "90000      11567\n",
      "80000      10047\n",
      "70000       8593\n",
      "60000       7444\n",
      "5000        6397\n",
      "50000       6232\n",
      "40000       4911\n",
      "30000       4436\n",
      "20000       3975\n",
      "10000       1222\n",
      "Name: kilometer, dtype: int64 \n",
      " \n",
      "\n",
      "registration_month: 0     37352\n",
      "3     34373\n",
      "6     31508\n",
      "4     29270\n",
      "5     29153\n",
      "7     27213\n",
      "10    26099\n",
      "12    24289\n",
      "11    24186\n",
      "9     23813\n",
      "1     23219\n",
      "8     22627\n",
      "2     21267\n",
      "Name: registration_month, dtype: int64 \n",
      " \n",
      "\n",
      "fuel_type: petrol      216352\n",
      "gasoline     98720\n",
      "other        33099\n",
      "lpg           5310\n",
      "cng            565\n",
      "hybrid         233\n",
      "electric        90\n",
      "Name: fuel_type, dtype: int64 \n",
      " \n",
      "\n",
      "brand: volkswagen        77013\n",
      "opel              39931\n",
      "bmw               36914\n",
      "mercedes_benz     32046\n",
      "audi              29456\n",
      "ford              25179\n",
      "renault           17927\n",
      "peugeot           10998\n",
      "fiat               9643\n",
      "seat               6907\n",
      "mazda              5615\n",
      "skoda              5500\n",
      "smart              5246\n",
      "citroen            5148\n",
      "nissan             4941\n",
      "toyota             4606\n",
      "hyundai            3587\n",
      "sonstige_autos     3374\n",
      "volvo              3210\n",
      "mini               3202\n",
      "mitsubishi         3022\n",
      "honda              2817\n",
      "kia                2465\n",
      "suzuki             2323\n",
      "alfa_romeo         2314\n",
      "chevrolet          1754\n",
      "chrysler           1439\n",
      "dacia               900\n",
      "daihatsu            806\n",
      "subaru              762\n",
      "porsche             758\n",
      "jeep                677\n",
      "trabant             589\n",
      "land_rover          545\n",
      "daewoo              542\n",
      "saab                526\n",
      "jaguar              505\n",
      "rover               486\n",
      "lancia              471\n",
      "lada                225\n",
      "Name: brand, dtype: int64 \n",
      " \n",
      "\n",
      "not_repaired: no       247161\n",
      "other     71154\n",
      "yes       36054\n",
      "Name: not_repaired, dtype: int64 \n",
      " \n",
      "\n"
     ]
    }
   ],
   "source": [
    "for col in df.columns:\n",
    "    print(f'{col}: {df[col].value_counts()} \\n \\n')"
   ]
  },
  {
   "cell_type": "code",
   "execution_count": 11,
   "metadata": {
    "scrolled": true
   },
   "outputs": [
    {
     "data": {
      "text/plain": [
       "500      5670\n",
       "1500     5394\n",
       "1000     4649\n",
       "1200     4594\n",
       "2500     4438\n",
       "         ... \n",
       "5240        1\n",
       "13180       1\n",
       "10879       1\n",
       "2683        1\n",
       "8188        1\n",
       "Name: price, Length: 3730, dtype: int64"
      ]
     },
     "execution_count": 11,
     "metadata": {},
     "output_type": "execute_result"
    }
   ],
   "source": [
    "# Удалим данные с аномальной ценой\n",
    "df = df.query('price != 0')\n",
    "df['price'].value_counts()"
   ]
  },
  {
   "cell_type": "code",
   "execution_count": 12,
   "metadata": {},
   "outputs": [
    {
     "data": {
      "text/plain": [
       "75      23319\n",
       "60      15465\n",
       "150     14170\n",
       "101     12960\n",
       "140     12712\n",
       "        ...  \n",
       "297         1\n",
       "700         1\n",
       "808         1\n",
       "1115        1\n",
       "903         1\n",
       "Name: power, Length: 563, dtype: int64"
      ]
     },
     "execution_count": 12,
     "metadata": {},
     "output_type": "execute_result"
    }
   ],
   "source": [
    "# Удалим данные с аномальной мощностью\n",
    "df = df.query('power != 0 and power <= 1600')\n",
    "df['power'].value_counts()"
   ]
  },
  {
   "cell_type": "code",
   "execution_count": 13,
   "metadata": {},
   "outputs": [
    {
     "data": {
      "image/png": "[encoded data removed]",
      "text/plain": [
       "<Figure size 432x288 with 1 Axes>"
      ]
     },
     "metadata": {
      "needs_background": "light"
     },
     "output_type": "display_data"
    }
   ],
   "source": [
    "ax = sns.boxplot(data=df, y='registration_year')\n",
    "ax.set_title('Год регистрации')\n",
    "ax.set_ylim([1900, 2022])\n",
    "plt.show()"
   ]
  },
  {
   "cell_type": "code",
   "execution_count": 14,
   "metadata": {},
   "outputs": [
    {
     "data": {
      "text/plain": [
       "1985    477\n",
       "1983    345\n",
       "1984    331\n",
       "1982    267\n",
       "1980    267\n",
       "       ... \n",
       "1928      1\n",
       "1931      1\n",
       "1927      1\n",
       "1234      1\n",
       "1948      1\n",
       "Name: registration_year, Length: 64, dtype: int64"
      ]
     },
     "execution_count": 14,
     "metadata": {},
     "output_type": "execute_result"
    }
   ],
   "source": [
    "df.query('registration_year < 1986')['registration_year'].value_counts()"
   ]
  },
  {
   "cell_type": "code",
   "execution_count": 15,
   "metadata": {},
   "outputs": [
    {
     "data": {
      "text/plain": [
       "1999    19601\n",
       "2005    18930\n",
       "2000    18812\n",
       "2006    18581\n",
       "2003    17957\n",
       "2001    17882\n",
       "2004    17822\n",
       "2002    17235\n",
       "2007    16088\n",
       "1998    15220\n",
       "2008    14526\n",
       "2009    13837\n",
       "1997    12413\n",
       "2010    10347\n",
       "2011     9565\n",
       "1996     9163\n",
       "2017     7405\n",
       "1995     7274\n",
       "2012     6923\n",
       "2016     6385\n",
       "1994     4116\n",
       "2013     3989\n",
       "1993     2902\n",
       "2018     2873\n",
       "1992     2567\n",
       "2014     2400\n",
       "1991     2321\n",
       "1990     1869\n",
       "1989     1086\n",
       "2015     1069\n",
       "1988      796\n",
       "1987      540\n",
       "1986      414\n",
       "2019       10\n",
       "Name: registration_year, dtype: int64"
      ]
     },
     "execution_count": 15,
     "metadata": {},
     "output_type": "execute_result"
    }
   ],
   "source": [
    "# Удалим данные с аномальными и/или очень старыми значениями года регистрации\n",
    "df = df.query('registration_year > 1985 and registration_year <= 2022')\n",
    "df['registration_year'].value_counts()"
   ]
  },
  {
   "cell_type": "code",
   "execution_count": 16,
   "metadata": {},
   "outputs": [
    {
     "name": "stdout",
     "output_type": "stream",
     "text": [
      "Удалено данных: 15%\n"
     ]
    }
   ],
   "source": [
    "print(f'Удалено данных: {1 - df.shape[0] / df_length:.0%}')"
   ]
  },
  {
   "cell_type": "code",
   "execution_count": 17,
   "metadata": {},
   "outputs": [
    {
     "data": {
      "text/html": [
       "<div>\n",
       "<style scoped>\n",
       "    .dataframe tbody tr th:only-of-type {\n",
       "        vertical-align: middle;\n",
       "    }\n",
       "\n",
       "    .dataframe tbody tr th {\n",
       "        vertical-align: top;\n",
       "    }\n",
       "\n",
       "    .dataframe thead th {\n",
       "        text-align: right;\n",
       "    }\n",
       "</style>\n",
       "<table border=\"1\" class=\"dataframe\">\n",
       "  <thead>\n",
       "    <tr style=\"text-align: right;\">\n",
       "      <th></th>\n",
       "      <th>price</th>\n",
       "      <th>vehicle_type</th>\n",
       "      <th>registration_year</th>\n",
       "      <th>gearbox</th>\n",
       "      <th>power</th>\n",
       "      <th>model</th>\n",
       "      <th>kilometer</th>\n",
       "      <th>registration_month</th>\n",
       "      <th>fuel_type</th>\n",
       "      <th>brand</th>\n",
       "      <th>not_repaired</th>\n",
       "    </tr>\n",
       "  </thead>\n",
       "  <tbody>\n",
       "    <tr>\n",
       "      <th>1</th>\n",
       "      <td>18300</td>\n",
       "      <td>coupe</td>\n",
       "      <td>2011</td>\n",
       "      <td>manual</td>\n",
       "      <td>190</td>\n",
       "      <td>other</td>\n",
       "      <td>125000</td>\n",
       "      <td>5</td>\n",
       "      <td>gasoline</td>\n",
       "      <td>audi</td>\n",
       "      <td>yes</td>\n",
       "    </tr>\n",
       "    <tr>\n",
       "      <th>2</th>\n",
       "      <td>9800</td>\n",
       "      <td>suv</td>\n",
       "      <td>2004</td>\n",
       "      <td>auto</td>\n",
       "      <td>163</td>\n",
       "      <td>grand</td>\n",
       "      <td>125000</td>\n",
       "      <td>8</td>\n",
       "      <td>gasoline</td>\n",
       "      <td>jeep</td>\n",
       "      <td>other</td>\n",
       "    </tr>\n",
       "    <tr>\n",
       "      <th>3</th>\n",
       "      <td>1500</td>\n",
       "      <td>small</td>\n",
       "      <td>2001</td>\n",
       "      <td>manual</td>\n",
       "      <td>75</td>\n",
       "      <td>golf</td>\n",
       "      <td>150000</td>\n",
       "      <td>6</td>\n",
       "      <td>petrol</td>\n",
       "      <td>volkswagen</td>\n",
       "      <td>no</td>\n",
       "    </tr>\n",
       "    <tr>\n",
       "      <th>4</th>\n",
       "      <td>3600</td>\n",
       "      <td>small</td>\n",
       "      <td>2008</td>\n",
       "      <td>manual</td>\n",
       "      <td>69</td>\n",
       "      <td>fabia</td>\n",
       "      <td>90000</td>\n",
       "      <td>7</td>\n",
       "      <td>gasoline</td>\n",
       "      <td>skoda</td>\n",
       "      <td>no</td>\n",
       "    </tr>\n",
       "    <tr>\n",
       "      <th>5</th>\n",
       "      <td>650</td>\n",
       "      <td>sedan</td>\n",
       "      <td>1995</td>\n",
       "      <td>manual</td>\n",
       "      <td>102</td>\n",
       "      <td>3er</td>\n",
       "      <td>150000</td>\n",
       "      <td>10</td>\n",
       "      <td>petrol</td>\n",
       "      <td>bmw</td>\n",
       "      <td>yes</td>\n",
       "    </tr>\n",
       "    <tr>\n",
       "      <th>6</th>\n",
       "      <td>2200</td>\n",
       "      <td>convertible</td>\n",
       "      <td>2004</td>\n",
       "      <td>manual</td>\n",
       "      <td>109</td>\n",
       "      <td>2_reihe</td>\n",
       "      <td>150000</td>\n",
       "      <td>8</td>\n",
       "      <td>petrol</td>\n",
       "      <td>peugeot</td>\n",
       "      <td>no</td>\n",
       "    </tr>\n",
       "    <tr>\n",
       "      <th>8</th>\n",
       "      <td>14500</td>\n",
       "      <td>bus</td>\n",
       "      <td>2014</td>\n",
       "      <td>manual</td>\n",
       "      <td>125</td>\n",
       "      <td>c_max</td>\n",
       "      <td>30000</td>\n",
       "      <td>8</td>\n",
       "      <td>petrol</td>\n",
       "      <td>ford</td>\n",
       "      <td>other</td>\n",
       "    </tr>\n",
       "    <tr>\n",
       "      <th>9</th>\n",
       "      <td>999</td>\n",
       "      <td>small</td>\n",
       "      <td>1998</td>\n",
       "      <td>manual</td>\n",
       "      <td>101</td>\n",
       "      <td>golf</td>\n",
       "      <td>150000</td>\n",
       "      <td>0</td>\n",
       "      <td>other</td>\n",
       "      <td>volkswagen</td>\n",
       "      <td>other</td>\n",
       "    </tr>\n",
       "    <tr>\n",
       "      <th>10</th>\n",
       "      <td>2000</td>\n",
       "      <td>sedan</td>\n",
       "      <td>2004</td>\n",
       "      <td>manual</td>\n",
       "      <td>105</td>\n",
       "      <td>3_reihe</td>\n",
       "      <td>150000</td>\n",
       "      <td>12</td>\n",
       "      <td>petrol</td>\n",
       "      <td>mazda</td>\n",
       "      <td>no</td>\n",
       "    </tr>\n",
       "    <tr>\n",
       "      <th>11</th>\n",
       "      <td>2799</td>\n",
       "      <td>wagon</td>\n",
       "      <td>2005</td>\n",
       "      <td>manual</td>\n",
       "      <td>140</td>\n",
       "      <td>passat</td>\n",
       "      <td>150000</td>\n",
       "      <td>12</td>\n",
       "      <td>gasoline</td>\n",
       "      <td>volkswagen</td>\n",
       "      <td>yes</td>\n",
       "    </tr>\n",
       "    <tr>\n",
       "      <th>12</th>\n",
       "      <td>999</td>\n",
       "      <td>wagon</td>\n",
       "      <td>1995</td>\n",
       "      <td>manual</td>\n",
       "      <td>115</td>\n",
       "      <td>passat</td>\n",
       "      <td>150000</td>\n",
       "      <td>11</td>\n",
       "      <td>petrol</td>\n",
       "      <td>volkswagen</td>\n",
       "      <td>other</td>\n",
       "    </tr>\n",
       "    <tr>\n",
       "      <th>13</th>\n",
       "      <td>2500</td>\n",
       "      <td>wagon</td>\n",
       "      <td>2004</td>\n",
       "      <td>manual</td>\n",
       "      <td>131</td>\n",
       "      <td>passat</td>\n",
       "      <td>150000</td>\n",
       "      <td>2</td>\n",
       "      <td>other</td>\n",
       "      <td>volkswagen</td>\n",
       "      <td>no</td>\n",
       "    </tr>\n",
       "    <tr>\n",
       "      <th>14</th>\n",
       "      <td>17999</td>\n",
       "      <td>suv</td>\n",
       "      <td>2011</td>\n",
       "      <td>manual</td>\n",
       "      <td>190</td>\n",
       "      <td>navara</td>\n",
       "      <td>70000</td>\n",
       "      <td>3</td>\n",
       "      <td>gasoline</td>\n",
       "      <td>nissan</td>\n",
       "      <td>no</td>\n",
       "    </tr>\n",
       "    <tr>\n",
       "      <th>16</th>\n",
       "      <td>300</td>\n",
       "      <td>other</td>\n",
       "      <td>2016</td>\n",
       "      <td>other</td>\n",
       "      <td>60</td>\n",
       "      <td>polo</td>\n",
       "      <td>150000</td>\n",
       "      <td>0</td>\n",
       "      <td>petrol</td>\n",
       "      <td>volkswagen</td>\n",
       "      <td>other</td>\n",
       "    </tr>\n",
       "    <tr>\n",
       "      <th>17</th>\n",
       "      <td>1750</td>\n",
       "      <td>small</td>\n",
       "      <td>2004</td>\n",
       "      <td>auto</td>\n",
       "      <td>75</td>\n",
       "      <td>twingo</td>\n",
       "      <td>150000</td>\n",
       "      <td>2</td>\n",
       "      <td>petrol</td>\n",
       "      <td>renault</td>\n",
       "      <td>no</td>\n",
       "    </tr>\n",
       "    <tr>\n",
       "      <th>18</th>\n",
       "      <td>7550</td>\n",
       "      <td>bus</td>\n",
       "      <td>2007</td>\n",
       "      <td>manual</td>\n",
       "      <td>136</td>\n",
       "      <td>c_max</td>\n",
       "      <td>150000</td>\n",
       "      <td>6</td>\n",
       "      <td>gasoline</td>\n",
       "      <td>ford</td>\n",
       "      <td>no</td>\n",
       "    </tr>\n",
       "    <tr>\n",
       "      <th>19</th>\n",
       "      <td>1850</td>\n",
       "      <td>bus</td>\n",
       "      <td>2004</td>\n",
       "      <td>manual</td>\n",
       "      <td>102</td>\n",
       "      <td>a_klasse</td>\n",
       "      <td>150000</td>\n",
       "      <td>1</td>\n",
       "      <td>petrol</td>\n",
       "      <td>mercedes_benz</td>\n",
       "      <td>no</td>\n",
       "    </tr>\n",
       "    <tr>\n",
       "      <th>20</th>\n",
       "      <td>10400</td>\n",
       "      <td>coupe</td>\n",
       "      <td>2009</td>\n",
       "      <td>manual</td>\n",
       "      <td>160</td>\n",
       "      <td>scirocco</td>\n",
       "      <td>100000</td>\n",
       "      <td>4</td>\n",
       "      <td>petrol</td>\n",
       "      <td>volkswagen</td>\n",
       "      <td>no</td>\n",
       "    </tr>\n",
       "    <tr>\n",
       "      <th>21</th>\n",
       "      <td>3699</td>\n",
       "      <td>sedan</td>\n",
       "      <td>2002</td>\n",
       "      <td>auto</td>\n",
       "      <td>231</td>\n",
       "      <td>5er</td>\n",
       "      <td>150000</td>\n",
       "      <td>7</td>\n",
       "      <td>petrol</td>\n",
       "      <td>bmw</td>\n",
       "      <td>no</td>\n",
       "    </tr>\n",
       "    <tr>\n",
       "      <th>22</th>\n",
       "      <td>2900</td>\n",
       "      <td>other</td>\n",
       "      <td>2018</td>\n",
       "      <td>manual</td>\n",
       "      <td>90</td>\n",
       "      <td>meriva</td>\n",
       "      <td>150000</td>\n",
       "      <td>5</td>\n",
       "      <td>petrol</td>\n",
       "      <td>opel</td>\n",
       "      <td>no</td>\n",
       "    </tr>\n",
       "  </tbody>\n",
       "</table>\n",
       "</div>"
      ],
      "text/plain": [
       "    price vehicle_type  registration_year gearbox  power     model  kilometer  \\\n",
       "1   18300        coupe               2011  manual    190     other     125000   \n",
       "2    9800          suv               2004    auto    163     grand     125000   \n",
       "3    1500        small               2001  manual     75      golf     150000   \n",
       "4    3600        small               2008  manual     69     fabia      90000   \n",
       "5     650        sedan               1995  manual    102       3er     150000   \n",
       "6    2200  convertible               2004  manual    109   2_reihe     150000   \n",
       "8   14500          bus               2014  manual    125     c_max      30000   \n",
       "9     999        small               1998  manual    101      golf     150000   \n",
       "10   2000        sedan               2004  manual    105   3_reihe     150000   \n",
       "11   2799        wagon               2005  manual    140    passat     150000   \n",
       "12    999        wagon               1995  manual    115    passat     150000   \n",
       "13   2500        wagon               2004  manual    131    passat     150000   \n",
       "14  17999          suv               2011  manual    190    navara      70000   \n",
       "16    300        other               2016   other     60      polo     150000   \n",
       "17   1750        small               2004    auto     75    twingo     150000   \n",
       "18   7550          bus               2007  manual    136     c_max     150000   \n",
       "19   1850          bus               2004  manual    102  a_klasse     150000   \n",
       "20  10400        coupe               2009  manual    160  scirocco     100000   \n",
       "21   3699        sedan               2002    auto    231       5er     150000   \n",
       "22   2900        other               2018  manual     90    meriva     150000   \n",
       "\n",
       "    registration_month fuel_type          brand not_repaired  \n",
       "1                    5  gasoline           audi          yes  \n",
       "2                    8  gasoline           jeep        other  \n",
       "3                    6    petrol     volkswagen           no  \n",
       "4                    7  gasoline          skoda           no  \n",
       "5                   10    petrol            bmw          yes  \n",
       "6                    8    petrol        peugeot           no  \n",
       "8                    8    petrol           ford        other  \n",
       "9                    0     other     volkswagen        other  \n",
       "10                  12    petrol          mazda           no  \n",
       "11                  12  gasoline     volkswagen          yes  \n",
       "12                  11    petrol     volkswagen        other  \n",
       "13                   2     other     volkswagen           no  \n",
       "14                   3  gasoline         nissan           no  \n",
       "16                   0    petrol     volkswagen        other  \n",
       "17                   2    petrol        renault           no  \n",
       "18                   6  gasoline           ford           no  \n",
       "19                   1    petrol  mercedes_benz           no  \n",
       "20                   4    petrol     volkswagen           no  \n",
       "21                   7    petrol            bmw           no  \n",
       "22                   5    petrol           opel           no  "
      ]
     },
     "execution_count": 17,
     "metadata": {},
     "output_type": "execute_result"
    }
   ],
   "source": [
    "df.head(20)"
   ]
  },
  {
   "cell_type": "markdown",
   "metadata": {},
   "source": [
    "1. Переименовали колонки.\n",
    "\n",
    "2. Удалили колонки, не несущие смысла для бизнес-задачи.\n",
    "\n",
    "3. Удалили пропуски в данных.\n",
    "\n",
    "4. Удалили данные с ценой 0 как аномалии.\n",
    "\n",
    "5. Удалили выбросы и аномалии в году регистрации автомобиля."
   ]
  },
  {
   "cell_type": "markdown",
   "metadata": {},
   "source": [
    "<div class=\"alert alert-block alert-info\">\n",
    "Присутствуют нулевые значения в признаке price. Цена не может быть нулевой, к тому же это целевой признак. Самое интересное, что на нескольких сайтах по продаже подержанных автомобилей в Германии (страну можно определить по почтовым индексам, большинство из них из Германии) показало, что цены, действительно, начинаются с 0 и 1 евро, но это единичные объявления. Не понятно, то ли это ошибка при заполнении формы, то ли машины на металлолом. Но я все-таки склоняюсь к тому, чтобы избавиться от таких данных.\n",
    "</div>"
   ]
  },
  {
   "cell_type": "markdown",
   "metadata": {},
   "source": [
    "<div class=\"alert alert-block alert-info\">\n",
    "Поправлены аномалии:\n",
    "\n",
    "- Мощность ограничила максимальной и минимальной приемлемыми мощностями;\n",
    "- Год регистрации;\n",
    "- Лишние и константные признаки (признак NumberOfPictures константный, так как все значения равны нулю).\n",
    "\n",
    "\n",
    "</div>"
   ]
  },
  {
   "cell_type": "markdown",
   "metadata": {},
   "source": [
    "## Обучение моделей"
   ]
  },
  {
   "cell_type": "markdown",
   "metadata": {},
   "source": [
    "### Подготовка признаков"
   ]
  },
  {
   "cell_type": "code",
   "execution_count": 18,
   "metadata": {},
   "outputs": [
    {
     "data": {
      "text/plain": [
       "'features:'"
      ]
     },
     "metadata": {},
     "output_type": "display_data"
    },
    {
     "data": {
      "text/html": [
       "<div>\n",
       "<style scoped>\n",
       "    .dataframe tbody tr th:only-of-type {\n",
       "        vertical-align: middle;\n",
       "    }\n",
       "\n",
       "    .dataframe tbody tr th {\n",
       "        vertical-align: top;\n",
       "    }\n",
       "\n",
       "    .dataframe thead th {\n",
       "        text-align: right;\n",
       "    }\n",
       "</style>\n",
       "<table border=\"1\" class=\"dataframe\">\n",
       "  <thead>\n",
       "    <tr style=\"text-align: right;\">\n",
       "      <th></th>\n",
       "      <th>vehicle_type</th>\n",
       "      <th>registration_year</th>\n",
       "      <th>gearbox</th>\n",
       "      <th>power</th>\n",
       "      <th>model</th>\n",
       "      <th>kilometer</th>\n",
       "      <th>registration_month</th>\n",
       "      <th>fuel_type</th>\n",
       "      <th>brand</th>\n",
       "      <th>not_repaired</th>\n",
       "    </tr>\n",
       "  </thead>\n",
       "  <tbody>\n",
       "    <tr>\n",
       "      <th>1</th>\n",
       "      <td>coupe</td>\n",
       "      <td>2011</td>\n",
       "      <td>manual</td>\n",
       "      <td>190</td>\n",
       "      <td>other</td>\n",
       "      <td>125000</td>\n",
       "      <td>5</td>\n",
       "      <td>gasoline</td>\n",
       "      <td>audi</td>\n",
       "      <td>yes</td>\n",
       "    </tr>\n",
       "    <tr>\n",
       "      <th>2</th>\n",
       "      <td>suv</td>\n",
       "      <td>2004</td>\n",
       "      <td>auto</td>\n",
       "      <td>163</td>\n",
       "      <td>grand</td>\n",
       "      <td>125000</td>\n",
       "      <td>8</td>\n",
       "      <td>gasoline</td>\n",
       "      <td>jeep</td>\n",
       "      <td>other</td>\n",
       "    </tr>\n",
       "    <tr>\n",
       "      <th>3</th>\n",
       "      <td>small</td>\n",
       "      <td>2001</td>\n",
       "      <td>manual</td>\n",
       "      <td>75</td>\n",
       "      <td>golf</td>\n",
       "      <td>150000</td>\n",
       "      <td>6</td>\n",
       "      <td>petrol</td>\n",
       "      <td>volkswagen</td>\n",
       "      <td>no</td>\n",
       "    </tr>\n",
       "    <tr>\n",
       "      <th>4</th>\n",
       "      <td>small</td>\n",
       "      <td>2008</td>\n",
       "      <td>manual</td>\n",
       "      <td>69</td>\n",
       "      <td>fabia</td>\n",
       "      <td>90000</td>\n",
       "      <td>7</td>\n",
       "      <td>gasoline</td>\n",
       "      <td>skoda</td>\n",
       "      <td>no</td>\n",
       "    </tr>\n",
       "    <tr>\n",
       "      <th>5</th>\n",
       "      <td>sedan</td>\n",
       "      <td>1995</td>\n",
       "      <td>manual</td>\n",
       "      <td>102</td>\n",
       "      <td>3er</td>\n",
       "      <td>150000</td>\n",
       "      <td>10</td>\n",
       "      <td>petrol</td>\n",
       "      <td>bmw</td>\n",
       "      <td>yes</td>\n",
       "    </tr>\n",
       "  </tbody>\n",
       "</table>\n",
       "</div>"
      ],
      "text/plain": [
       "  vehicle_type  registration_year gearbox  power  model  kilometer  \\\n",
       "1        coupe               2011  manual    190  other     125000   \n",
       "2          suv               2004    auto    163  grand     125000   \n",
       "3        small               2001  manual     75   golf     150000   \n",
       "4        small               2008  manual     69  fabia      90000   \n",
       "5        sedan               1995  manual    102    3er     150000   \n",
       "\n",
       "   registration_month fuel_type       brand not_repaired  \n",
       "1                   5  gasoline        audi          yes  \n",
       "2                   8  gasoline        jeep        other  \n",
       "3                   6    petrol  volkswagen           no  \n",
       "4                   7  gasoline       skoda           no  \n",
       "5                  10    petrol         bmw          yes  "
      ]
     },
     "metadata": {},
     "output_type": "display_data"
    },
    {
     "data": {
      "text/plain": [
       "'target:'"
      ]
     },
     "metadata": {},
     "output_type": "display_data"
    },
    {
     "data": {
      "text/plain": [
       "1    18300\n",
       "2     9800\n",
       "3     1500\n",
       "4     3600\n",
       "5      650\n",
       "Name: price, dtype: int64"
      ]
     },
     "metadata": {},
     "output_type": "display_data"
    }
   ],
   "source": [
    "# Выделяем целевой признак\n",
    "target = df['price']\n",
    "features = df.drop(['price'], axis=1)\n",
    "\n",
    "display('features:', features.head())\n",
    "display('target:', target.head())"
   ]
  },
  {
   "cell_type": "code",
   "execution_count": 19,
   "metadata": {
    "scrolled": true
   },
   "outputs": [
    {
     "data": {
      "text/html": [
       "<div>\n",
       "<style scoped>\n",
       "    .dataframe tbody tr th:only-of-type {\n",
       "        vertical-align: middle;\n",
       "    }\n",
       "\n",
       "    .dataframe tbody tr th {\n",
       "        vertical-align: top;\n",
       "    }\n",
       "\n",
       "    .dataframe thead th {\n",
       "        text-align: right;\n",
       "    }\n",
       "</style>\n",
       "<table border=\"1\" class=\"dataframe\">\n",
       "  <thead>\n",
       "    <tr style=\"text-align: right;\">\n",
       "      <th></th>\n",
       "      <th>vehicle_type</th>\n",
       "      <th>registration_year</th>\n",
       "      <th>gearbox</th>\n",
       "      <th>power</th>\n",
       "      <th>model</th>\n",
       "      <th>kilometer</th>\n",
       "      <th>registration_month</th>\n",
       "      <th>fuel_type</th>\n",
       "      <th>brand</th>\n",
       "      <th>not_repaired</th>\n",
       "    </tr>\n",
       "  </thead>\n",
       "  <tbody>\n",
       "    <tr>\n",
       "      <th>1</th>\n",
       "      <td>coupe</td>\n",
       "      <td>2011</td>\n",
       "      <td>manual</td>\n",
       "      <td>1.167055</td>\n",
       "      <td>other</td>\n",
       "      <td>-0.104043</td>\n",
       "      <td>5</td>\n",
       "      <td>gasoline</td>\n",
       "      <td>audi</td>\n",
       "      <td>yes</td>\n",
       "    </tr>\n",
       "    <tr>\n",
       "      <th>2</th>\n",
       "      <td>suv</td>\n",
       "      <td>2004</td>\n",
       "      <td>auto</td>\n",
       "      <td>0.710121</td>\n",
       "      <td>grand</td>\n",
       "      <td>-0.104043</td>\n",
       "      <td>8</td>\n",
       "      <td>gasoline</td>\n",
       "      <td>jeep</td>\n",
       "      <td>other</td>\n",
       "    </tr>\n",
       "    <tr>\n",
       "      <th>3</th>\n",
       "      <td>small</td>\n",
       "      <td>2001</td>\n",
       "      <td>manual</td>\n",
       "      <td>-0.779142</td>\n",
       "      <td>golf</td>\n",
       "      <td>0.582695</td>\n",
       "      <td>6</td>\n",
       "      <td>petrol</td>\n",
       "      <td>volkswagen</td>\n",
       "      <td>no</td>\n",
       "    </tr>\n",
       "    <tr>\n",
       "      <th>4</th>\n",
       "      <td>small</td>\n",
       "      <td>2008</td>\n",
       "      <td>manual</td>\n",
       "      <td>-0.880683</td>\n",
       "      <td>fabia</td>\n",
       "      <td>-1.065478</td>\n",
       "      <td>7</td>\n",
       "      <td>gasoline</td>\n",
       "      <td>skoda</td>\n",
       "      <td>no</td>\n",
       "    </tr>\n",
       "    <tr>\n",
       "      <th>5</th>\n",
       "      <td>sedan</td>\n",
       "      <td>1995</td>\n",
       "      <td>manual</td>\n",
       "      <td>-0.322209</td>\n",
       "      <td>3er</td>\n",
       "      <td>0.582695</td>\n",
       "      <td>10</td>\n",
       "      <td>petrol</td>\n",
       "      <td>bmw</td>\n",
       "      <td>yes</td>\n",
       "    </tr>\n",
       "  </tbody>\n",
       "</table>\n",
       "</div>"
      ],
      "text/plain": [
       "  vehicle_type  registration_year gearbox     power  model  kilometer  \\\n",
       "1        coupe               2011  manual  1.167055  other  -0.104043   \n",
       "2          suv               2004    auto  0.710121  grand  -0.104043   \n",
       "3        small               2001  manual -0.779142   golf   0.582695   \n",
       "4        small               2008  manual -0.880683  fabia  -1.065478   \n",
       "5        sedan               1995  manual -0.322209    3er   0.582695   \n",
       "\n",
       "   registration_month fuel_type       brand not_repaired  \n",
       "1                   5  gasoline        audi          yes  \n",
       "2                   8  gasoline        jeep        other  \n",
       "3                   6    petrol  volkswagen           no  \n",
       "4                   7  gasoline       skoda           no  \n",
       "5                  10    petrol         bmw          yes  "
      ]
     },
     "execution_count": 19,
     "metadata": {},
     "output_type": "execute_result"
    }
   ],
   "source": [
    "# Масштабируем численные признаки\n",
    "numeric = ['power', 'kilometer']\n",
    "\n",
    "scaler = StandardScaler()\n",
    "scaler.fit(features[numeric])\n",
    "features[numeric] = scaler.transform(features[numeric])\n",
    "features.head()"
   ]
  },
  {
   "cell_type": "code",
   "execution_count": 20,
   "metadata": {},
   "outputs": [
    {
     "data": {
      "text/html": [
       "<div>\n",
       "<style scoped>\n",
       "    .dataframe tbody tr th:only-of-type {\n",
       "        vertical-align: middle;\n",
       "    }\n",
       "\n",
       "    .dataframe tbody tr th {\n",
       "        vertical-align: top;\n",
       "    }\n",
       "\n",
       "    .dataframe thead th {\n",
       "        text-align: right;\n",
       "    }\n",
       "</style>\n",
       "<table border=\"1\" class=\"dataframe\">\n",
       "  <thead>\n",
       "    <tr style=\"text-align: right;\">\n",
       "      <th></th>\n",
       "      <th>registration_year</th>\n",
       "      <th>power</th>\n",
       "      <th>kilometer</th>\n",
       "      <th>registration_month</th>\n",
       "      <th>vehicle_type_convertible</th>\n",
       "      <th>vehicle_type_coupe</th>\n",
       "      <th>vehicle_type_other</th>\n",
       "      <th>vehicle_type_sedan</th>\n",
       "      <th>vehicle_type_small</th>\n",
       "      <th>vehicle_type_suv</th>\n",
       "      <th>...</th>\n",
       "      <th>brand_smart</th>\n",
       "      <th>brand_sonstige_autos</th>\n",
       "      <th>brand_subaru</th>\n",
       "      <th>brand_suzuki</th>\n",
       "      <th>brand_toyota</th>\n",
       "      <th>brand_trabant</th>\n",
       "      <th>brand_volkswagen</th>\n",
       "      <th>brand_volvo</th>\n",
       "      <th>not_repaired_other</th>\n",
       "      <th>not_repaired_yes</th>\n",
       "    </tr>\n",
       "  </thead>\n",
       "  <tbody>\n",
       "    <tr>\n",
       "      <th>1</th>\n",
       "      <td>2011</td>\n",
       "      <td>1.167055</td>\n",
       "      <td>-0.104043</td>\n",
       "      <td>5</td>\n",
       "      <td>0</td>\n",
       "      <td>1</td>\n",
       "      <td>0</td>\n",
       "      <td>0</td>\n",
       "      <td>0</td>\n",
       "      <td>0</td>\n",
       "      <td>...</td>\n",
       "      <td>0</td>\n",
       "      <td>0</td>\n",
       "      <td>0</td>\n",
       "      <td>0</td>\n",
       "      <td>0</td>\n",
       "      <td>0</td>\n",
       "      <td>0</td>\n",
       "      <td>0</td>\n",
       "      <td>0</td>\n",
       "      <td>1</td>\n",
       "    </tr>\n",
       "    <tr>\n",
       "      <th>2</th>\n",
       "      <td>2004</td>\n",
       "      <td>0.710121</td>\n",
       "      <td>-0.104043</td>\n",
       "      <td>8</td>\n",
       "      <td>0</td>\n",
       "      <td>0</td>\n",
       "      <td>0</td>\n",
       "      <td>0</td>\n",
       "      <td>0</td>\n",
       "      <td>1</td>\n",
       "      <td>...</td>\n",
       "      <td>0</td>\n",
       "      <td>0</td>\n",
       "      <td>0</td>\n",
       "      <td>0</td>\n",
       "      <td>0</td>\n",
       "      <td>0</td>\n",
       "      <td>0</td>\n",
       "      <td>0</td>\n",
       "      <td>1</td>\n",
       "      <td>0</td>\n",
       "    </tr>\n",
       "    <tr>\n",
       "      <th>3</th>\n",
       "      <td>2001</td>\n",
       "      <td>-0.779142</td>\n",
       "      <td>0.582695</td>\n",
       "      <td>6</td>\n",
       "      <td>0</td>\n",
       "      <td>0</td>\n",
       "      <td>0</td>\n",
       "      <td>0</td>\n",
       "      <td>1</td>\n",
       "      <td>0</td>\n",
       "      <td>...</td>\n",
       "      <td>0</td>\n",
       "      <td>0</td>\n",
       "      <td>0</td>\n",
       "      <td>0</td>\n",
       "      <td>0</td>\n",
       "      <td>0</td>\n",
       "      <td>1</td>\n",
       "      <td>0</td>\n",
       "      <td>0</td>\n",
       "      <td>0</td>\n",
       "    </tr>\n",
       "    <tr>\n",
       "      <th>4</th>\n",
       "      <td>2008</td>\n",
       "      <td>-0.880683</td>\n",
       "      <td>-1.065478</td>\n",
       "      <td>7</td>\n",
       "      <td>0</td>\n",
       "      <td>0</td>\n",
       "      <td>0</td>\n",
       "      <td>0</td>\n",
       "      <td>1</td>\n",
       "      <td>0</td>\n",
       "      <td>...</td>\n",
       "      <td>0</td>\n",
       "      <td>0</td>\n",
       "      <td>0</td>\n",
       "      <td>0</td>\n",
       "      <td>0</td>\n",
       "      <td>0</td>\n",
       "      <td>0</td>\n",
       "      <td>0</td>\n",
       "      <td>0</td>\n",
       "      <td>0</td>\n",
       "    </tr>\n",
       "    <tr>\n",
       "      <th>5</th>\n",
       "      <td>1995</td>\n",
       "      <td>-0.322209</td>\n",
       "      <td>0.582695</td>\n",
       "      <td>10</td>\n",
       "      <td>0</td>\n",
       "      <td>0</td>\n",
       "      <td>0</td>\n",
       "      <td>1</td>\n",
       "      <td>0</td>\n",
       "      <td>0</td>\n",
       "      <td>...</td>\n",
       "      <td>0</td>\n",
       "      <td>0</td>\n",
       "      <td>0</td>\n",
       "      <td>0</td>\n",
       "      <td>0</td>\n",
       "      <td>0</td>\n",
       "      <td>0</td>\n",
       "      <td>0</td>\n",
       "      <td>0</td>\n",
       "      <td>1</td>\n",
       "    </tr>\n",
       "  </tbody>\n",
       "</table>\n",
       "<p>5 rows × 307 columns</p>\n",
       "</div>"
      ],
      "text/plain": [
       "   registration_year     power  kilometer  registration_month  \\\n",
       "1               2011  1.167055  -0.104043                   5   \n",
       "2               2004  0.710121  -0.104043                   8   \n",
       "3               2001 -0.779142   0.582695                   6   \n",
       "4               2008 -0.880683  -1.065478                   7   \n",
       "5               1995 -0.322209   0.582695                  10   \n",
       "\n",
       "   vehicle_type_convertible  vehicle_type_coupe  vehicle_type_other  \\\n",
       "1                         0                   1                   0   \n",
       "2                         0                   0                   0   \n",
       "3                         0                   0                   0   \n",
       "4                         0                   0                   0   \n",
       "5                         0                   0                   0   \n",
       "\n",
       "   vehicle_type_sedan  vehicle_type_small  vehicle_type_suv  ...  brand_smart  \\\n",
       "1                   0                   0                 0  ...            0   \n",
       "2                   0                   0                 1  ...            0   \n",
       "3                   0                   1                 0  ...            0   \n",
       "4                   0                   1                 0  ...            0   \n",
       "5                   1                   0                 0  ...            0   \n",
       "\n",
       "   brand_sonstige_autos  brand_subaru  brand_suzuki  brand_toyota  \\\n",
       "1                     0             0             0             0   \n",
       "2                     0             0             0             0   \n",
       "3                     0             0             0             0   \n",
       "4                     0             0             0             0   \n",
       "5                     0             0             0             0   \n",
       "\n",
       "   brand_trabant  brand_volkswagen  brand_volvo  not_repaired_other  \\\n",
       "1              0                 0            0                   0   \n",
       "2              0                 0            0                   1   \n",
       "3              0                 1            0                   0   \n",
       "4              0                 0            0                   0   \n",
       "5              0                 0            0                   0   \n",
       "\n",
       "   not_repaired_yes  \n",
       "1                 1  \n",
       "2                 0  \n",
       "3                 0  \n",
       "4                 0  \n",
       "5                 1  \n",
       "\n",
       "[5 rows x 307 columns]"
      ]
     },
     "execution_count": 20,
     "metadata": {},
     "output_type": "execute_result"
    }
   ],
   "source": [
    "# Кодируем категориальные переменные методом OHE\n",
    "features_ohe = pd.get_dummies(features, drop_first=True)\n",
    "features_ohe.head()"
   ]
  },
  {
   "cell_type": "code",
   "execution_count": 21,
   "metadata": {},
   "outputs": [
    {
     "data": {
      "text/html": [
       "<div>\n",
       "<style scoped>\n",
       "    .dataframe tbody tr th:only-of-type {\n",
       "        vertical-align: middle;\n",
       "    }\n",
       "\n",
       "    .dataframe tbody tr th {\n",
       "        vertical-align: top;\n",
       "    }\n",
       "\n",
       "    .dataframe thead th {\n",
       "        text-align: right;\n",
       "    }\n",
       "</style>\n",
       "<table border=\"1\" class=\"dataframe\">\n",
       "  <thead>\n",
       "    <tr style=\"text-align: right;\">\n",
       "      <th></th>\n",
       "      <th>vehicle_type</th>\n",
       "      <th>registration_year</th>\n",
       "      <th>gearbox</th>\n",
       "      <th>power</th>\n",
       "      <th>model</th>\n",
       "      <th>kilometer</th>\n",
       "      <th>registration_month</th>\n",
       "      <th>fuel_type</th>\n",
       "      <th>brand</th>\n",
       "      <th>not_repaired</th>\n",
       "    </tr>\n",
       "  </thead>\n",
       "  <tbody>\n",
       "    <tr>\n",
       "      <th>0</th>\n",
       "      <td>2.0</td>\n",
       "      <td>25.0</td>\n",
       "      <td>1.0</td>\n",
       "      <td>189.0</td>\n",
       "      <td>166.0</td>\n",
       "      <td>11.0</td>\n",
       "      <td>5.0</td>\n",
       "      <td>2.0</td>\n",
       "      <td>1.0</td>\n",
       "      <td>2.0</td>\n",
       "    </tr>\n",
       "    <tr>\n",
       "      <th>1</th>\n",
       "      <td>6.0</td>\n",
       "      <td>18.0</td>\n",
       "      <td>0.0</td>\n",
       "      <td>162.0</td>\n",
       "      <td>117.0</td>\n",
       "      <td>11.0</td>\n",
       "      <td>8.0</td>\n",
       "      <td>2.0</td>\n",
       "      <td>14.0</td>\n",
       "      <td>1.0</td>\n",
       "    </tr>\n",
       "    <tr>\n",
       "      <th>2</th>\n",
       "      <td>5.0</td>\n",
       "      <td>15.0</td>\n",
       "      <td>1.0</td>\n",
       "      <td>74.0</td>\n",
       "      <td>116.0</td>\n",
       "      <td>12.0</td>\n",
       "      <td>6.0</td>\n",
       "      <td>6.0</td>\n",
       "      <td>38.0</td>\n",
       "      <td>0.0</td>\n",
       "    </tr>\n",
       "    <tr>\n",
       "      <th>3</th>\n",
       "      <td>5.0</td>\n",
       "      <td>22.0</td>\n",
       "      <td>1.0</td>\n",
       "      <td>68.0</td>\n",
       "      <td>101.0</td>\n",
       "      <td>9.0</td>\n",
       "      <td>7.0</td>\n",
       "      <td>2.0</td>\n",
       "      <td>31.0</td>\n",
       "      <td>0.0</td>\n",
       "    </tr>\n",
       "    <tr>\n",
       "      <th>4</th>\n",
       "      <td>4.0</td>\n",
       "      <td>9.0</td>\n",
       "      <td>1.0</td>\n",
       "      <td>101.0</td>\n",
       "      <td>11.0</td>\n",
       "      <td>12.0</td>\n",
       "      <td>10.0</td>\n",
       "      <td>6.0</td>\n",
       "      <td>2.0</td>\n",
       "      <td>2.0</td>\n",
       "    </tr>\n",
       "  </tbody>\n",
       "</table>\n",
       "</div>"
      ],
      "text/plain": [
       "   vehicle_type  registration_year  gearbox  power  model  kilometer  \\\n",
       "0           2.0               25.0      1.0  189.0  166.0       11.0   \n",
       "1           6.0               18.0      0.0  162.0  117.0       11.0   \n",
       "2           5.0               15.0      1.0   74.0  116.0       12.0   \n",
       "3           5.0               22.0      1.0   68.0  101.0        9.0   \n",
       "4           4.0                9.0      1.0  101.0   11.0       12.0   \n",
       "\n",
       "   registration_month  fuel_type  brand  not_repaired  \n",
       "0                 5.0        2.0    1.0           2.0  \n",
       "1                 8.0        2.0   14.0           1.0  \n",
       "2                 6.0        6.0   38.0           0.0  \n",
       "3                 7.0        2.0   31.0           0.0  \n",
       "4                10.0        6.0    2.0           2.0  "
      ]
     },
     "execution_count": 21,
     "metadata": {},
     "output_type": "execute_result"
    }
   ],
   "source": [
    "# Кодируем категориальные переменные методом OrdinalEncoder\n",
    "encoder_ordinal = OrdinalEncoder()\n",
    "features_ordinal = pd.DataFrame(encoder_ordinal.fit_transform(features), columns=features.columns)\n",
    "features_ordinal.head()"
   ]
  },
  {
   "cell_type": "code",
   "execution_count": 22,
   "metadata": {
    "scrolled": true
   },
   "outputs": [
    {
     "data": {
      "text/plain": [
       "<seaborn.axisgrid.PairGrid at 0x7f50d25190a0>"
      ]
     },
     "execution_count": 22,
     "metadata": {},
     "output_type": "execute_result"
    },
    {
     "data": {
      "image/png": "[encoded data removed]",
      "text/plain": [
       "<Figure size 900x900 with 30 Axes>"
      ]
     },
     "metadata": {
      "needs_background": "light"
     },
     "output_type": "display_data"
    }
   ],
   "source": [
    "# Проверка признаков на линейные зависимости\n",
    "sns.pairplot(data=df)"
   ]
  },
  {
   "cell_type": "markdown",
   "metadata": {},
   "source": [
    "<div class=\"alert alert-block alert-info\">\n",
    "Сильно зависимых признаков не обнаружено.\n",
    "</div>"
   ]
  },
  {
   "cell_type": "markdown",
   "metadata": {},
   "source": [
    "<div class=\"alert alert-block alert-info\">\n",
    "Для линейных моделей OHE отлично подойдет. Для других стоит использовать порядковое кодирование\n",
    "</div>"
   ]
  },
  {
   "cell_type": "markdown",
   "metadata": {},
   "source": [
    "### Выборки OHE"
   ]
  },
  {
   "cell_type": "code",
   "execution_count": 23,
   "metadata": {},
   "outputs": [
    {
     "data": {
      "text/plain": [
       "'features_train:'"
      ]
     },
     "metadata": {},
     "output_type": "display_data"
    },
    {
     "data": {
      "text/html": [
       "<div>\n",
       "<style scoped>\n",
       "    .dataframe tbody tr th:only-of-type {\n",
       "        vertical-align: middle;\n",
       "    }\n",
       "\n",
       "    .dataframe tbody tr th {\n",
       "        vertical-align: top;\n",
       "    }\n",
       "\n",
       "    .dataframe thead th {\n",
       "        text-align: right;\n",
       "    }\n",
       "</style>\n",
       "<table border=\"1\" class=\"dataframe\">\n",
       "  <thead>\n",
       "    <tr style=\"text-align: right;\">\n",
       "      <th></th>\n",
       "      <th>registration_year</th>\n",
       "      <th>power</th>\n",
       "      <th>kilometer</th>\n",
       "      <th>registration_month</th>\n",
       "      <th>vehicle_type_convertible</th>\n",
       "      <th>vehicle_type_coupe</th>\n",
       "      <th>vehicle_type_other</th>\n",
       "      <th>vehicle_type_sedan</th>\n",
       "      <th>vehicle_type_small</th>\n",
       "      <th>vehicle_type_suv</th>\n",
       "      <th>...</th>\n",
       "      <th>brand_smart</th>\n",
       "      <th>brand_sonstige_autos</th>\n",
       "      <th>brand_subaru</th>\n",
       "      <th>brand_suzuki</th>\n",
       "      <th>brand_toyota</th>\n",
       "      <th>brand_trabant</th>\n",
       "      <th>brand_volkswagen</th>\n",
       "      <th>brand_volvo</th>\n",
       "      <th>not_repaired_other</th>\n",
       "      <th>not_repaired_yes</th>\n",
       "    </tr>\n",
       "  </thead>\n",
       "  <tbody>\n",
       "    <tr>\n",
       "      <th>26188</th>\n",
       "      <td>2002</td>\n",
       "      <td>-0.406826</td>\n",
       "      <td>0.582695</td>\n",
       "      <td>7</td>\n",
       "      <td>0</td>\n",
       "      <td>0</td>\n",
       "      <td>0</td>\n",
       "      <td>0</td>\n",
       "      <td>0</td>\n",
       "      <td>0</td>\n",
       "      <td>...</td>\n",
       "      <td>0</td>\n",
       "      <td>0</td>\n",
       "      <td>0</td>\n",
       "      <td>1</td>\n",
       "      <td>0</td>\n",
       "      <td>0</td>\n",
       "      <td>0</td>\n",
       "      <td>0</td>\n",
       "      <td>0</td>\n",
       "      <td>0</td>\n",
       "    </tr>\n",
       "    <tr>\n",
       "      <th>22352</th>\n",
       "      <td>2016</td>\n",
       "      <td>-1.134535</td>\n",
       "      <td>-1.065478</td>\n",
       "      <td>6</td>\n",
       "      <td>0</td>\n",
       "      <td>0</td>\n",
       "      <td>1</td>\n",
       "      <td>0</td>\n",
       "      <td>0</td>\n",
       "      <td>0</td>\n",
       "      <td>...</td>\n",
       "      <td>0</td>\n",
       "      <td>0</td>\n",
       "      <td>0</td>\n",
       "      <td>0</td>\n",
       "      <td>0</td>\n",
       "      <td>0</td>\n",
       "      <td>1</td>\n",
       "      <td>0</td>\n",
       "      <td>1</td>\n",
       "      <td>0</td>\n",
       "    </tr>\n",
       "    <tr>\n",
       "      <th>138480</th>\n",
       "      <td>1998</td>\n",
       "      <td>0.490117</td>\n",
       "      <td>0.582695</td>\n",
       "      <td>3</td>\n",
       "      <td>0</td>\n",
       "      <td>0</td>\n",
       "      <td>0</td>\n",
       "      <td>0</td>\n",
       "      <td>0</td>\n",
       "      <td>0</td>\n",
       "      <td>...</td>\n",
       "      <td>0</td>\n",
       "      <td>0</td>\n",
       "      <td>0</td>\n",
       "      <td>0</td>\n",
       "      <td>0</td>\n",
       "      <td>0</td>\n",
       "      <td>0</td>\n",
       "      <td>0</td>\n",
       "      <td>0</td>\n",
       "      <td>0</td>\n",
       "    </tr>\n",
       "    <tr>\n",
       "      <th>353223</th>\n",
       "      <td>1999</td>\n",
       "      <td>-0.779142</td>\n",
       "      <td>0.582695</td>\n",
       "      <td>10</td>\n",
       "      <td>0</td>\n",
       "      <td>0</td>\n",
       "      <td>0</td>\n",
       "      <td>0</td>\n",
       "      <td>1</td>\n",
       "      <td>0</td>\n",
       "      <td>...</td>\n",
       "      <td>0</td>\n",
       "      <td>0</td>\n",
       "      <td>0</td>\n",
       "      <td>0</td>\n",
       "      <td>0</td>\n",
       "      <td>0</td>\n",
       "      <td>0</td>\n",
       "      <td>0</td>\n",
       "      <td>0</td>\n",
       "      <td>0</td>\n",
       "    </tr>\n",
       "    <tr>\n",
       "      <th>85033</th>\n",
       "      <td>2018</td>\n",
       "      <td>-1.032994</td>\n",
       "      <td>0.582695</td>\n",
       "      <td>11</td>\n",
       "      <td>0</td>\n",
       "      <td>0</td>\n",
       "      <td>1</td>\n",
       "      <td>0</td>\n",
       "      <td>0</td>\n",
       "      <td>0</td>\n",
       "      <td>...</td>\n",
       "      <td>0</td>\n",
       "      <td>0</td>\n",
       "      <td>0</td>\n",
       "      <td>0</td>\n",
       "      <td>0</td>\n",
       "      <td>0</td>\n",
       "      <td>0</td>\n",
       "      <td>0</td>\n",
       "      <td>0</td>\n",
       "      <td>0</td>\n",
       "    </tr>\n",
       "  </tbody>\n",
       "</table>\n",
       "<p>5 rows × 307 columns</p>\n",
       "</div>"
      ],
      "text/plain": [
       "        registration_year     power  kilometer  registration_month  \\\n",
       "26188                2002 -0.406826   0.582695                   7   \n",
       "22352                2016 -1.134535  -1.065478                   6   \n",
       "138480               1998  0.490117   0.582695                   3   \n",
       "353223               1999 -0.779142   0.582695                  10   \n",
       "85033                2018 -1.032994   0.582695                  11   \n",
       "\n",
       "        vehicle_type_convertible  vehicle_type_coupe  vehicle_type_other  \\\n",
       "26188                          0                   0                   0   \n",
       "22352                          0                   0                   1   \n",
       "138480                         0                   0                   0   \n",
       "353223                         0                   0                   0   \n",
       "85033                          0                   0                   1   \n",
       "\n",
       "        vehicle_type_sedan  vehicle_type_small  vehicle_type_suv  ...  \\\n",
       "26188                    0                   0                 0  ...   \n",
       "22352                    0                   0                 0  ...   \n",
       "138480                   0                   0                 0  ...   \n",
       "353223                   0                   1                 0  ...   \n",
       "85033                    0                   0                 0  ...   \n",
       "\n",
       "        brand_smart  brand_sonstige_autos  brand_subaru  brand_suzuki  \\\n",
       "26188             0                     0             0             1   \n",
       "22352             0                     0             0             0   \n",
       "138480            0                     0             0             0   \n",
       "353223            0                     0             0             0   \n",
       "85033             0                     0             0             0   \n",
       "\n",
       "        brand_toyota  brand_trabant  brand_volkswagen  brand_volvo  \\\n",
       "26188              0              0                 0            0   \n",
       "22352              0              0                 1            0   \n",
       "138480             0              0                 0            0   \n",
       "353223             0              0                 0            0   \n",
       "85033              0              0                 0            0   \n",
       "\n",
       "        not_repaired_other  not_repaired_yes  \n",
       "26188                    0                 0  \n",
       "22352                    1                 0  \n",
       "138480                   0                 0  \n",
       "353223                   0                 0  \n",
       "85033                    0                 0  \n",
       "\n",
       "[5 rows x 307 columns]"
      ]
     },
     "metadata": {},
     "output_type": "display_data"
    },
    {
     "data": {
      "text/plain": [
       "'features_untrain:'"
      ]
     },
     "metadata": {},
     "output_type": "display_data"
    },
    {
     "data": {
      "text/html": [
       "<div>\n",
       "<style scoped>\n",
       "    .dataframe tbody tr th:only-of-type {\n",
       "        vertical-align: middle;\n",
       "    }\n",
       "\n",
       "    .dataframe tbody tr th {\n",
       "        vertical-align: top;\n",
       "    }\n",
       "\n",
       "    .dataframe thead th {\n",
       "        text-align: right;\n",
       "    }\n",
       "</style>\n",
       "<table border=\"1\" class=\"dataframe\">\n",
       "  <thead>\n",
       "    <tr style=\"text-align: right;\">\n",
       "      <th></th>\n",
       "      <th>registration_year</th>\n",
       "      <th>power</th>\n",
       "      <th>kilometer</th>\n",
       "      <th>registration_month</th>\n",
       "      <th>vehicle_type_convertible</th>\n",
       "      <th>vehicle_type_coupe</th>\n",
       "      <th>vehicle_type_other</th>\n",
       "      <th>vehicle_type_sedan</th>\n",
       "      <th>vehicle_type_small</th>\n",
       "      <th>vehicle_type_suv</th>\n",
       "      <th>...</th>\n",
       "      <th>brand_smart</th>\n",
       "      <th>brand_sonstige_autos</th>\n",
       "      <th>brand_subaru</th>\n",
       "      <th>brand_suzuki</th>\n",
       "      <th>brand_toyota</th>\n",
       "      <th>brand_trabant</th>\n",
       "      <th>brand_volkswagen</th>\n",
       "      <th>brand_volvo</th>\n",
       "      <th>not_repaired_other</th>\n",
       "      <th>not_repaired_yes</th>\n",
       "    </tr>\n",
       "  </thead>\n",
       "  <tbody>\n",
       "    <tr>\n",
       "      <th>27489</th>\n",
       "      <td>1999</td>\n",
       "      <td>-0.322209</td>\n",
       "      <td>0.582695</td>\n",
       "      <td>4</td>\n",
       "      <td>0</td>\n",
       "      <td>0</td>\n",
       "      <td>0</td>\n",
       "      <td>1</td>\n",
       "      <td>0</td>\n",
       "      <td>0</td>\n",
       "      <td>...</td>\n",
       "      <td>0</td>\n",
       "      <td>0</td>\n",
       "      <td>0</td>\n",
       "      <td>0</td>\n",
       "      <td>0</td>\n",
       "      <td>0</td>\n",
       "      <td>0</td>\n",
       "      <td>0</td>\n",
       "      <td>1</td>\n",
       "      <td>0</td>\n",
       "    </tr>\n",
       "    <tr>\n",
       "      <th>69910</th>\n",
       "      <td>2008</td>\n",
       "      <td>0.253188</td>\n",
       "      <td>-1.889564</td>\n",
       "      <td>6</td>\n",
       "      <td>0</td>\n",
       "      <td>0</td>\n",
       "      <td>0</td>\n",
       "      <td>1</td>\n",
       "      <td>0</td>\n",
       "      <td>0</td>\n",
       "      <td>...</td>\n",
       "      <td>0</td>\n",
       "      <td>0</td>\n",
       "      <td>0</td>\n",
       "      <td>0</td>\n",
       "      <td>0</td>\n",
       "      <td>0</td>\n",
       "      <td>0</td>\n",
       "      <td>0</td>\n",
       "      <td>0</td>\n",
       "      <td>0</td>\n",
       "    </tr>\n",
       "    <tr>\n",
       "      <th>204521</th>\n",
       "      <td>1994</td>\n",
       "      <td>-0.525291</td>\n",
       "      <td>0.582695</td>\n",
       "      <td>3</td>\n",
       "      <td>0</td>\n",
       "      <td>0</td>\n",
       "      <td>0</td>\n",
       "      <td>0</td>\n",
       "      <td>0</td>\n",
       "      <td>0</td>\n",
       "      <td>...</td>\n",
       "      <td>0</td>\n",
       "      <td>0</td>\n",
       "      <td>0</td>\n",
       "      <td>0</td>\n",
       "      <td>0</td>\n",
       "      <td>0</td>\n",
       "      <td>1</td>\n",
       "      <td>0</td>\n",
       "      <td>1</td>\n",
       "      <td>0</td>\n",
       "    </tr>\n",
       "    <tr>\n",
       "      <th>201996</th>\n",
       "      <td>2003</td>\n",
       "      <td>-1.134535</td>\n",
       "      <td>0.582695</td>\n",
       "      <td>10</td>\n",
       "      <td>0</td>\n",
       "      <td>0</td>\n",
       "      <td>0</td>\n",
       "      <td>0</td>\n",
       "      <td>1</td>\n",
       "      <td>0</td>\n",
       "      <td>...</td>\n",
       "      <td>0</td>\n",
       "      <td>0</td>\n",
       "      <td>0</td>\n",
       "      <td>0</td>\n",
       "      <td>0</td>\n",
       "      <td>0</td>\n",
       "      <td>0</td>\n",
       "      <td>0</td>\n",
       "      <td>0</td>\n",
       "      <td>0</td>\n",
       "    </tr>\n",
       "    <tr>\n",
       "      <th>30797</th>\n",
       "      <td>2004</td>\n",
       "      <td>0.490117</td>\n",
       "      <td>0.582695</td>\n",
       "      <td>11</td>\n",
       "      <td>0</td>\n",
       "      <td>0</td>\n",
       "      <td>0</td>\n",
       "      <td>0</td>\n",
       "      <td>0</td>\n",
       "      <td>0</td>\n",
       "      <td>...</td>\n",
       "      <td>0</td>\n",
       "      <td>0</td>\n",
       "      <td>0</td>\n",
       "      <td>0</td>\n",
       "      <td>0</td>\n",
       "      <td>0</td>\n",
       "      <td>0</td>\n",
       "      <td>0</td>\n",
       "      <td>0</td>\n",
       "      <td>0</td>\n",
       "    </tr>\n",
       "  </tbody>\n",
       "</table>\n",
       "<p>5 rows × 307 columns</p>\n",
       "</div>"
      ],
      "text/plain": [
       "        registration_year     power  kilometer  registration_month  \\\n",
       "27489                1999 -0.322209   0.582695                   4   \n",
       "69910                2008  0.253188  -1.889564                   6   \n",
       "204521               1994 -0.525291   0.582695                   3   \n",
       "201996               2003 -1.134535   0.582695                  10   \n",
       "30797                2004  0.490117   0.582695                  11   \n",
       "\n",
       "        vehicle_type_convertible  vehicle_type_coupe  vehicle_type_other  \\\n",
       "27489                          0                   0                   0   \n",
       "69910                          0                   0                   0   \n",
       "204521                         0                   0                   0   \n",
       "201996                         0                   0                   0   \n",
       "30797                          0                   0                   0   \n",
       "\n",
       "        vehicle_type_sedan  vehicle_type_small  vehicle_type_suv  ...  \\\n",
       "27489                    1                   0                 0  ...   \n",
       "69910                    1                   0                 0  ...   \n",
       "204521                   0                   0                 0  ...   \n",
       "201996                   0                   1                 0  ...   \n",
       "30797                    0                   0                 0  ...   \n",
       "\n",
       "        brand_smart  brand_sonstige_autos  brand_subaru  brand_suzuki  \\\n",
       "27489             0                     0             0             0   \n",
       "69910             0                     0             0             0   \n",
       "204521            0                     0             0             0   \n",
       "201996            0                     0             0             0   \n",
       "30797             0                     0             0             0   \n",
       "\n",
       "        brand_toyota  brand_trabant  brand_volkswagen  brand_volvo  \\\n",
       "27489              0              0                 0            0   \n",
       "69910              0              0                 0            0   \n",
       "204521             0              0                 1            0   \n",
       "201996             0              0                 0            0   \n",
       "30797              0              0                 0            0   \n",
       "\n",
       "        not_repaired_other  not_repaired_yes  \n",
       "27489                    1                 0  \n",
       "69910                    0                 0  \n",
       "204521                   1                 0  \n",
       "201996                   0                 0  \n",
       "30797                    0                 0  \n",
       "\n",
       "[5 rows x 307 columns]"
      ]
     },
     "metadata": {},
     "output_type": "display_data"
    },
    {
     "data": {
      "text/plain": [
       "'target_train:'"
      ]
     },
     "metadata": {},
     "output_type": "display_data"
    },
    {
     "data": {
      "text/plain": [
       "26188     1699\n",
       "22352      550\n",
       "138480    1790\n",
       "353223    1400\n",
       "85033     2800\n",
       "Name: price, dtype: int64"
      ]
     },
     "metadata": {},
     "output_type": "display_data"
    },
    {
     "data": {
      "text/plain": [
       "'target_untrain:'"
      ]
     },
     "metadata": {},
     "output_type": "display_data"
    },
    {
     "data": {
      "text/plain": [
       "27489      1500\n",
       "69910     10860\n",
       "204521      800\n",
       "201996     1650\n",
       "30797      4500\n",
       "Name: price, dtype: int64"
      ]
     },
     "metadata": {},
     "output_type": "display_data"
    }
   ],
   "source": [
    "# Делим данные на обучающую и необучающую выборки, закодированные OHE\n",
    "features_train_ohe, features_untrain_ohe, target_train_ohe, target_untrain_ohe = train_test_split(features_ohe, target, test_size=0.4, random_state=RANDOM_STATE)\n",
    "display('features_train:', features_train_ohe.head())\n",
    "display('features_untrain:', features_untrain_ohe.head())\n",
    "display('target_train:', target_train_ohe.head())\n",
    "display('target_untrain:', target_untrain_ohe.head())\n"
   ]
  },
  {
   "cell_type": "code",
   "execution_count": 24,
   "metadata": {
    "scrolled": true
   },
   "outputs": [
    {
     "data": {
      "text/plain": [
       "'features_valid'"
      ]
     },
     "metadata": {},
     "output_type": "display_data"
    },
    {
     "data": {
      "text/html": [
       "<div>\n",
       "<style scoped>\n",
       "    .dataframe tbody tr th:only-of-type {\n",
       "        vertical-align: middle;\n",
       "    }\n",
       "\n",
       "    .dataframe tbody tr th {\n",
       "        vertical-align: top;\n",
       "    }\n",
       "\n",
       "    .dataframe thead th {\n",
       "        text-align: right;\n",
       "    }\n",
       "</style>\n",
       "<table border=\"1\" class=\"dataframe\">\n",
       "  <thead>\n",
       "    <tr style=\"text-align: right;\">\n",
       "      <th></th>\n",
       "      <th>registration_year</th>\n",
       "      <th>power</th>\n",
       "      <th>kilometer</th>\n",
       "      <th>registration_month</th>\n",
       "      <th>vehicle_type_convertible</th>\n",
       "      <th>vehicle_type_coupe</th>\n",
       "      <th>vehicle_type_other</th>\n",
       "      <th>vehicle_type_sedan</th>\n",
       "      <th>vehicle_type_small</th>\n",
       "      <th>vehicle_type_suv</th>\n",
       "      <th>...</th>\n",
       "      <th>brand_smart</th>\n",
       "      <th>brand_sonstige_autos</th>\n",
       "      <th>brand_subaru</th>\n",
       "      <th>brand_suzuki</th>\n",
       "      <th>brand_toyota</th>\n",
       "      <th>brand_trabant</th>\n",
       "      <th>brand_volkswagen</th>\n",
       "      <th>brand_volvo</th>\n",
       "      <th>not_repaired_other</th>\n",
       "      <th>not_repaired_yes</th>\n",
       "    </tr>\n",
       "  </thead>\n",
       "  <tbody>\n",
       "    <tr>\n",
       "      <th>310413</th>\n",
       "      <td>2006</td>\n",
       "      <td>-0.017587</td>\n",
       "      <td>0.582695</td>\n",
       "      <td>11</td>\n",
       "      <td>0</td>\n",
       "      <td>0</td>\n",
       "      <td>0</td>\n",
       "      <td>0</td>\n",
       "      <td>0</td>\n",
       "      <td>0</td>\n",
       "      <td>...</td>\n",
       "      <td>0</td>\n",
       "      <td>0</td>\n",
       "      <td>0</td>\n",
       "      <td>0</td>\n",
       "      <td>0</td>\n",
       "      <td>0</td>\n",
       "      <td>0</td>\n",
       "      <td>0</td>\n",
       "      <td>0</td>\n",
       "      <td>0</td>\n",
       "    </tr>\n",
       "    <tr>\n",
       "      <th>44725</th>\n",
       "      <td>1997</td>\n",
       "      <td>-1.032994</td>\n",
       "      <td>0.582695</td>\n",
       "      <td>4</td>\n",
       "      <td>0</td>\n",
       "      <td>0</td>\n",
       "      <td>0</td>\n",
       "      <td>0</td>\n",
       "      <td>1</td>\n",
       "      <td>0</td>\n",
       "      <td>...</td>\n",
       "      <td>0</td>\n",
       "      <td>0</td>\n",
       "      <td>0</td>\n",
       "      <td>0</td>\n",
       "      <td>0</td>\n",
       "      <td>0</td>\n",
       "      <td>1</td>\n",
       "      <td>0</td>\n",
       "      <td>0</td>\n",
       "      <td>0</td>\n",
       "    </tr>\n",
       "    <tr>\n",
       "      <th>182630</th>\n",
       "      <td>1997</td>\n",
       "      <td>0.490117</td>\n",
       "      <td>0.582695</td>\n",
       "      <td>0</td>\n",
       "      <td>0</td>\n",
       "      <td>0</td>\n",
       "      <td>0</td>\n",
       "      <td>1</td>\n",
       "      <td>0</td>\n",
       "      <td>0</td>\n",
       "      <td>...</td>\n",
       "      <td>0</td>\n",
       "      <td>0</td>\n",
       "      <td>0</td>\n",
       "      <td>0</td>\n",
       "      <td>0</td>\n",
       "      <td>0</td>\n",
       "      <td>0</td>\n",
       "      <td>0</td>\n",
       "      <td>0</td>\n",
       "      <td>1</td>\n",
       "    </tr>\n",
       "    <tr>\n",
       "      <th>279152</th>\n",
       "      <td>2006</td>\n",
       "      <td>-0.271439</td>\n",
       "      <td>0.582695</td>\n",
       "      <td>12</td>\n",
       "      <td>0</td>\n",
       "      <td>0</td>\n",
       "      <td>0</td>\n",
       "      <td>0</td>\n",
       "      <td>0</td>\n",
       "      <td>0</td>\n",
       "      <td>...</td>\n",
       "      <td>0</td>\n",
       "      <td>0</td>\n",
       "      <td>0</td>\n",
       "      <td>0</td>\n",
       "      <td>0</td>\n",
       "      <td>0</td>\n",
       "      <td>1</td>\n",
       "      <td>0</td>\n",
       "      <td>0</td>\n",
       "      <td>0</td>\n",
       "    </tr>\n",
       "    <tr>\n",
       "      <th>240660</th>\n",
       "      <td>2000</td>\n",
       "      <td>-0.339133</td>\n",
       "      <td>0.582695</td>\n",
       "      <td>6</td>\n",
       "      <td>0</td>\n",
       "      <td>0</td>\n",
       "      <td>0</td>\n",
       "      <td>0</td>\n",
       "      <td>0</td>\n",
       "      <td>0</td>\n",
       "      <td>...</td>\n",
       "      <td>0</td>\n",
       "      <td>0</td>\n",
       "      <td>0</td>\n",
       "      <td>0</td>\n",
       "      <td>0</td>\n",
       "      <td>0</td>\n",
       "      <td>0</td>\n",
       "      <td>0</td>\n",
       "      <td>0</td>\n",
       "      <td>0</td>\n",
       "    </tr>\n",
       "  </tbody>\n",
       "</table>\n",
       "<p>5 rows × 307 columns</p>\n",
       "</div>"
      ],
      "text/plain": [
       "        registration_year     power  kilometer  registration_month  \\\n",
       "310413               2006 -0.017587   0.582695                  11   \n",
       "44725                1997 -1.032994   0.582695                   4   \n",
       "182630               1997  0.490117   0.582695                   0   \n",
       "279152               2006 -0.271439   0.582695                  12   \n",
       "240660               2000 -0.339133   0.582695                   6   \n",
       "\n",
       "        vehicle_type_convertible  vehicle_type_coupe  vehicle_type_other  \\\n",
       "310413                         0                   0                   0   \n",
       "44725                          0                   0                   0   \n",
       "182630                         0                   0                   0   \n",
       "279152                         0                   0                   0   \n",
       "240660                         0                   0                   0   \n",
       "\n",
       "        vehicle_type_sedan  vehicle_type_small  vehicle_type_suv  ...  \\\n",
       "310413                   0                   0                 0  ...   \n",
       "44725                    0                   1                 0  ...   \n",
       "182630                   1                   0                 0  ...   \n",
       "279152                   0                   0                 0  ...   \n",
       "240660                   0                   0                 0  ...   \n",
       "\n",
       "        brand_smart  brand_sonstige_autos  brand_subaru  brand_suzuki  \\\n",
       "310413            0                     0             0             0   \n",
       "44725             0                     0             0             0   \n",
       "182630            0                     0             0             0   \n",
       "279152            0                     0             0             0   \n",
       "240660            0                     0             0             0   \n",
       "\n",
       "        brand_toyota  brand_trabant  brand_volkswagen  brand_volvo  \\\n",
       "310413             0              0                 0            0   \n",
       "44725              0              0                 1            0   \n",
       "182630             0              0                 0            0   \n",
       "279152             0              0                 1            0   \n",
       "240660             0              0                 0            0   \n",
       "\n",
       "        not_repaired_other  not_repaired_yes  \n",
       "310413                   0                 0  \n",
       "44725                    0                 0  \n",
       "182630                   0                 1  \n",
       "279152                   0                 0  \n",
       "240660                   0                 0  \n",
       "\n",
       "[5 rows x 307 columns]"
      ]
     },
     "metadata": {},
     "output_type": "display_data"
    },
    {
     "data": {
      "text/plain": [
       "'features_test'"
      ]
     },
     "metadata": {},
     "output_type": "display_data"
    },
    {
     "data": {
      "text/html": [
       "<div>\n",
       "<style scoped>\n",
       "    .dataframe tbody tr th:only-of-type {\n",
       "        vertical-align: middle;\n",
       "    }\n",
       "\n",
       "    .dataframe tbody tr th {\n",
       "        vertical-align: top;\n",
       "    }\n",
       "\n",
       "    .dataframe thead th {\n",
       "        text-align: right;\n",
       "    }\n",
       "</style>\n",
       "<table border=\"1\" class=\"dataframe\">\n",
       "  <thead>\n",
       "    <tr style=\"text-align: right;\">\n",
       "      <th></th>\n",
       "      <th>registration_year</th>\n",
       "      <th>power</th>\n",
       "      <th>kilometer</th>\n",
       "      <th>registration_month</th>\n",
       "      <th>vehicle_type_convertible</th>\n",
       "      <th>vehicle_type_coupe</th>\n",
       "      <th>vehicle_type_other</th>\n",
       "      <th>vehicle_type_sedan</th>\n",
       "      <th>vehicle_type_small</th>\n",
       "      <th>vehicle_type_suv</th>\n",
       "      <th>...</th>\n",
       "      <th>brand_smart</th>\n",
       "      <th>brand_sonstige_autos</th>\n",
       "      <th>brand_subaru</th>\n",
       "      <th>brand_suzuki</th>\n",
       "      <th>brand_toyota</th>\n",
       "      <th>brand_trabant</th>\n",
       "      <th>brand_volkswagen</th>\n",
       "      <th>brand_volvo</th>\n",
       "      <th>not_repaired_other</th>\n",
       "      <th>not_repaired_yes</th>\n",
       "    </tr>\n",
       "  </thead>\n",
       "  <tbody>\n",
       "    <tr>\n",
       "      <th>83988</th>\n",
       "      <td>2005</td>\n",
       "      <td>-0.085281</td>\n",
       "      <td>0.582695</td>\n",
       "      <td>8</td>\n",
       "      <td>0</td>\n",
       "      <td>0</td>\n",
       "      <td>0</td>\n",
       "      <td>0</td>\n",
       "      <td>0</td>\n",
       "      <td>0</td>\n",
       "      <td>...</td>\n",
       "      <td>0</td>\n",
       "      <td>0</td>\n",
       "      <td>0</td>\n",
       "      <td>0</td>\n",
       "      <td>0</td>\n",
       "      <td>0</td>\n",
       "      <td>0</td>\n",
       "      <td>0</td>\n",
       "      <td>0</td>\n",
       "      <td>0</td>\n",
       "    </tr>\n",
       "    <tr>\n",
       "      <th>236388</th>\n",
       "      <td>2007</td>\n",
       "      <td>-0.203745</td>\n",
       "      <td>-1.065478</td>\n",
       "      <td>9</td>\n",
       "      <td>0</td>\n",
       "      <td>0</td>\n",
       "      <td>0</td>\n",
       "      <td>1</td>\n",
       "      <td>0</td>\n",
       "      <td>0</td>\n",
       "      <td>...</td>\n",
       "      <td>0</td>\n",
       "      <td>0</td>\n",
       "      <td>0</td>\n",
       "      <td>0</td>\n",
       "      <td>0</td>\n",
       "      <td>0</td>\n",
       "      <td>0</td>\n",
       "      <td>0</td>\n",
       "      <td>0</td>\n",
       "      <td>0</td>\n",
       "    </tr>\n",
       "    <tr>\n",
       "      <th>43870</th>\n",
       "      <td>2000</td>\n",
       "      <td>0.168571</td>\n",
       "      <td>0.582695</td>\n",
       "      <td>7</td>\n",
       "      <td>0</td>\n",
       "      <td>0</td>\n",
       "      <td>0</td>\n",
       "      <td>1</td>\n",
       "      <td>0</td>\n",
       "      <td>0</td>\n",
       "      <td>...</td>\n",
       "      <td>0</td>\n",
       "      <td>0</td>\n",
       "      <td>0</td>\n",
       "      <td>0</td>\n",
       "      <td>0</td>\n",
       "      <td>0</td>\n",
       "      <td>0</td>\n",
       "      <td>0</td>\n",
       "      <td>0</td>\n",
       "      <td>0</td>\n",
       "    </tr>\n",
       "    <tr>\n",
       "      <th>159045</th>\n",
       "      <td>1997</td>\n",
       "      <td>0.490117</td>\n",
       "      <td>0.582695</td>\n",
       "      <td>11</td>\n",
       "      <td>0</td>\n",
       "      <td>0</td>\n",
       "      <td>0</td>\n",
       "      <td>0</td>\n",
       "      <td>0</td>\n",
       "      <td>0</td>\n",
       "      <td>...</td>\n",
       "      <td>0</td>\n",
       "      <td>0</td>\n",
       "      <td>0</td>\n",
       "      <td>0</td>\n",
       "      <td>0</td>\n",
       "      <td>0</td>\n",
       "      <td>0</td>\n",
       "      <td>0</td>\n",
       "      <td>0</td>\n",
       "      <td>0</td>\n",
       "    </tr>\n",
       "    <tr>\n",
       "      <th>182496</th>\n",
       "      <td>1997</td>\n",
       "      <td>0.828586</td>\n",
       "      <td>0.582695</td>\n",
       "      <td>9</td>\n",
       "      <td>0</td>\n",
       "      <td>1</td>\n",
       "      <td>0</td>\n",
       "      <td>0</td>\n",
       "      <td>0</td>\n",
       "      <td>0</td>\n",
       "      <td>...</td>\n",
       "      <td>0</td>\n",
       "      <td>0</td>\n",
       "      <td>0</td>\n",
       "      <td>0</td>\n",
       "      <td>0</td>\n",
       "      <td>0</td>\n",
       "      <td>0</td>\n",
       "      <td>0</td>\n",
       "      <td>0</td>\n",
       "      <td>0</td>\n",
       "    </tr>\n",
       "  </tbody>\n",
       "</table>\n",
       "<p>5 rows × 307 columns</p>\n",
       "</div>"
      ],
      "text/plain": [
       "        registration_year     power  kilometer  registration_month  \\\n",
       "83988                2005 -0.085281   0.582695                   8   \n",
       "236388               2007 -0.203745  -1.065478                   9   \n",
       "43870                2000  0.168571   0.582695                   7   \n",
       "159045               1997  0.490117   0.582695                  11   \n",
       "182496               1997  0.828586   0.582695                   9   \n",
       "\n",
       "        vehicle_type_convertible  vehicle_type_coupe  vehicle_type_other  \\\n",
       "83988                          0                   0                   0   \n",
       "236388                         0                   0                   0   \n",
       "43870                          0                   0                   0   \n",
       "159045                         0                   0                   0   \n",
       "182496                         0                   1                   0   \n",
       "\n",
       "        vehicle_type_sedan  vehicle_type_small  vehicle_type_suv  ...  \\\n",
       "83988                    0                   0                 0  ...   \n",
       "236388                   1                   0                 0  ...   \n",
       "43870                    1                   0                 0  ...   \n",
       "159045                   0                   0                 0  ...   \n",
       "182496                   0                   0                 0  ...   \n",
       "\n",
       "        brand_smart  brand_sonstige_autos  brand_subaru  brand_suzuki  \\\n",
       "83988             0                     0             0             0   \n",
       "236388            0                     0             0             0   \n",
       "43870             0                     0             0             0   \n",
       "159045            0                     0             0             0   \n",
       "182496            0                     0             0             0   \n",
       "\n",
       "        brand_toyota  brand_trabant  brand_volkswagen  brand_volvo  \\\n",
       "83988              0              0                 0            0   \n",
       "236388             0              0                 0            0   \n",
       "43870              0              0                 0            0   \n",
       "159045             0              0                 0            0   \n",
       "182496             0              0                 0            0   \n",
       "\n",
       "        not_repaired_other  not_repaired_yes  \n",
       "83988                    0                 0  \n",
       "236388                   0                 0  \n",
       "43870                    0                 0  \n",
       "159045                   0                 0  \n",
       "182496                   0                 0  \n",
       "\n",
       "[5 rows x 307 columns]"
      ]
     },
     "metadata": {},
     "output_type": "display_data"
    },
    {
     "data": {
      "text/plain": [
       "'target_valid'"
      ]
     },
     "metadata": {},
     "output_type": "display_data"
    },
    {
     "data": {
      "text/plain": [
       "310413    6899\n",
       "44725      350\n",
       "182630    1000\n",
       "279152    5850\n",
       "240660    1800\n",
       "Name: price, dtype: int64"
      ]
     },
     "metadata": {},
     "output_type": "display_data"
    },
    {
     "data": {
      "text/plain": [
       "'target_test'"
      ]
     },
     "metadata": {},
     "output_type": "display_data"
    },
    {
     "data": {
      "text/plain": [
       "83988     3800\n",
       "236388    4999\n",
       "43870      999\n",
       "159045    2150\n",
       "182496    1200\n",
       "Name: price, dtype: int64"
      ]
     },
     "metadata": {},
     "output_type": "display_data"
    }
   ],
   "source": [
    "# Делим данные на валидационную и тестовую выборки, закодированные OHE\n",
    "features_valid_ohe, features_test_ohe, target_valid_ohe, target_test_ohe = train_test_split(features_untrain_ohe, target_untrain_ohe, test_size=0.5, random_state=RANDOM_STATE)\n",
    "display('features_valid', features_valid_ohe.head())\n",
    "display('features_test', features_test_ohe.head())\n",
    "display('target_valid', target_valid_ohe.head())\n",
    "display('target_test', target_test_ohe.head())\n"
   ]
  },
  {
   "cell_type": "markdown",
   "metadata": {},
   "source": [
    "### Выборки OrdinalEncoder"
   ]
  },
  {
   "cell_type": "code",
   "execution_count": 25,
   "metadata": {},
   "outputs": [
    {
     "data": {
      "text/plain": [
       "'features_train:'"
      ]
     },
     "metadata": {},
     "output_type": "display_data"
    },
    {
     "data": {
      "text/html": [
       "<div>\n",
       "<style scoped>\n",
       "    .dataframe tbody tr th:only-of-type {\n",
       "        vertical-align: middle;\n",
       "    }\n",
       "\n",
       "    .dataframe tbody tr th {\n",
       "        vertical-align: top;\n",
       "    }\n",
       "\n",
       "    .dataframe thead th {\n",
       "        text-align: right;\n",
       "    }\n",
       "</style>\n",
       "<table border=\"1\" class=\"dataframe\">\n",
       "  <thead>\n",
       "    <tr style=\"text-align: right;\">\n",
       "      <th></th>\n",
       "      <th>vehicle_type</th>\n",
       "      <th>registration_year</th>\n",
       "      <th>gearbox</th>\n",
       "      <th>power</th>\n",
       "      <th>model</th>\n",
       "      <th>kilometer</th>\n",
       "      <th>registration_month</th>\n",
       "      <th>fuel_type</th>\n",
       "      <th>brand</th>\n",
       "      <th>not_repaired</th>\n",
       "    </tr>\n",
       "  </thead>\n",
       "  <tbody>\n",
       "    <tr>\n",
       "      <th>22272</th>\n",
       "      <td>7.0</td>\n",
       "      <td>16.0</td>\n",
       "      <td>1.0</td>\n",
       "      <td>96.0</td>\n",
       "      <td>166.0</td>\n",
       "      <td>12.0</td>\n",
       "      <td>7.0</td>\n",
       "      <td>6.0</td>\n",
       "      <td>35.0</td>\n",
       "      <td>0.0</td>\n",
       "    </tr>\n",
       "    <tr>\n",
       "      <th>19023</th>\n",
       "      <td>3.0</td>\n",
       "      <td>30.0</td>\n",
       "      <td>1.0</td>\n",
       "      <td>53.0</td>\n",
       "      <td>116.0</td>\n",
       "      <td>9.0</td>\n",
       "      <td>6.0</td>\n",
       "      <td>6.0</td>\n",
       "      <td>38.0</td>\n",
       "      <td>1.0</td>\n",
       "    </tr>\n",
       "    <tr>\n",
       "      <th>118347</th>\n",
       "      <td>7.0</td>\n",
       "      <td>12.0</td>\n",
       "      <td>1.0</td>\n",
       "      <td>149.0</td>\n",
       "      <td>11.0</td>\n",
       "      <td>12.0</td>\n",
       "      <td>3.0</td>\n",
       "      <td>6.0</td>\n",
       "      <td>2.0</td>\n",
       "      <td>0.0</td>\n",
       "    </tr>\n",
       "    <tr>\n",
       "      <th>301939</th>\n",
       "      <td>5.0</td>\n",
       "      <td>13.0</td>\n",
       "      <td>1.0</td>\n",
       "      <td>74.0</td>\n",
       "      <td>120.0</td>\n",
       "      <td>12.0</td>\n",
       "      <td>10.0</td>\n",
       "      <td>6.0</td>\n",
       "      <td>30.0</td>\n",
       "      <td>0.0</td>\n",
       "    </tr>\n",
       "    <tr>\n",
       "      <th>72541</th>\n",
       "      <td>3.0</td>\n",
       "      <td>32.0</td>\n",
       "      <td>1.0</td>\n",
       "      <td>59.0</td>\n",
       "      <td>166.0</td>\n",
       "      <td>12.0</td>\n",
       "      <td>11.0</td>\n",
       "      <td>5.0</td>\n",
       "      <td>31.0</td>\n",
       "      <td>0.0</td>\n",
       "    </tr>\n",
       "  </tbody>\n",
       "</table>\n",
       "</div>"
      ],
      "text/plain": [
       "        vehicle_type  registration_year  gearbox  power  model  kilometer  \\\n",
       "22272            7.0               16.0      1.0   96.0  166.0       12.0   \n",
       "19023            3.0               30.0      1.0   53.0  116.0        9.0   \n",
       "118347           7.0               12.0      1.0  149.0   11.0       12.0   \n",
       "301939           5.0               13.0      1.0   74.0  120.0       12.0   \n",
       "72541            3.0               32.0      1.0   59.0  166.0       12.0   \n",
       "\n",
       "        registration_month  fuel_type  brand  not_repaired  \n",
       "22272                  7.0        6.0   35.0           0.0  \n",
       "19023                  6.0        6.0   38.0           1.0  \n",
       "118347                 3.0        6.0    2.0           0.0  \n",
       "301939                10.0        6.0   30.0           0.0  \n",
       "72541                 11.0        5.0   31.0           0.0  "
      ]
     },
     "metadata": {},
     "output_type": "display_data"
    },
    {
     "data": {
      "text/plain": [
       "'features_untrain:'"
      ]
     },
     "metadata": {},
     "output_type": "display_data"
    },
    {
     "data": {
      "text/html": [
       "<div>\n",
       "<style scoped>\n",
       "    .dataframe tbody tr th:only-of-type {\n",
       "        vertical-align: middle;\n",
       "    }\n",
       "\n",
       "    .dataframe tbody tr th {\n",
       "        vertical-align: top;\n",
       "    }\n",
       "\n",
       "    .dataframe thead th {\n",
       "        text-align: right;\n",
       "    }\n",
       "</style>\n",
       "<table border=\"1\" class=\"dataframe\">\n",
       "  <thead>\n",
       "    <tr style=\"text-align: right;\">\n",
       "      <th></th>\n",
       "      <th>vehicle_type</th>\n",
       "      <th>registration_year</th>\n",
       "      <th>gearbox</th>\n",
       "      <th>power</th>\n",
       "      <th>model</th>\n",
       "      <th>kilometer</th>\n",
       "      <th>registration_month</th>\n",
       "      <th>fuel_type</th>\n",
       "      <th>brand</th>\n",
       "      <th>not_repaired</th>\n",
       "    </tr>\n",
       "  </thead>\n",
       "  <tbody>\n",
       "    <tr>\n",
       "      <th>23357</th>\n",
       "      <td>4.0</td>\n",
       "      <td>13.0</td>\n",
       "      <td>1.0</td>\n",
       "      <td>101.0</td>\n",
       "      <td>33.0</td>\n",
       "      <td>12.0</td>\n",
       "      <td>4.0</td>\n",
       "      <td>6.0</td>\n",
       "      <td>20.0</td>\n",
       "      <td>1.0</td>\n",
       "    </tr>\n",
       "    <tr>\n",
       "      <th>59602</th>\n",
       "      <td>4.0</td>\n",
       "      <td>22.0</td>\n",
       "      <td>0.0</td>\n",
       "      <td>135.0</td>\n",
       "      <td>33.0</td>\n",
       "      <td>6.0</td>\n",
       "      <td>6.0</td>\n",
       "      <td>6.0</td>\n",
       "      <td>20.0</td>\n",
       "      <td>0.0</td>\n",
       "    </tr>\n",
       "    <tr>\n",
       "      <th>174779</th>\n",
       "      <td>7.0</td>\n",
       "      <td>8.0</td>\n",
       "      <td>1.0</td>\n",
       "      <td>89.0</td>\n",
       "      <td>170.0</td>\n",
       "      <td>12.0</td>\n",
       "      <td>3.0</td>\n",
       "      <td>6.0</td>\n",
       "      <td>38.0</td>\n",
       "      <td>1.0</td>\n",
       "    </tr>\n",
       "    <tr>\n",
       "      <th>172602</th>\n",
       "      <td>5.0</td>\n",
       "      <td>17.0</td>\n",
       "      <td>1.0</td>\n",
       "      <td>53.0</td>\n",
       "      <td>101.0</td>\n",
       "      <td>12.0</td>\n",
       "      <td>10.0</td>\n",
       "      <td>6.0</td>\n",
       "      <td>31.0</td>\n",
       "      <td>0.0</td>\n",
       "    </tr>\n",
       "    <tr>\n",
       "      <th>26160</th>\n",
       "      <td>7.0</td>\n",
       "      <td>18.0</td>\n",
       "      <td>1.0</td>\n",
       "      <td>149.0</td>\n",
       "      <td>59.0</td>\n",
       "      <td>12.0</td>\n",
       "      <td>11.0</td>\n",
       "      <td>2.0</td>\n",
       "      <td>20.0</td>\n",
       "      <td>0.0</td>\n",
       "    </tr>\n",
       "  </tbody>\n",
       "</table>\n",
       "</div>"
      ],
      "text/plain": [
       "        vehicle_type  registration_year  gearbox  power  model  kilometer  \\\n",
       "23357            4.0               13.0      1.0  101.0   33.0       12.0   \n",
       "59602            4.0               22.0      0.0  135.0   33.0        6.0   \n",
       "174779           7.0                8.0      1.0   89.0  170.0       12.0   \n",
       "172602           5.0               17.0      1.0   53.0  101.0       12.0   \n",
       "26160            7.0               18.0      1.0  149.0   59.0       12.0   \n",
       "\n",
       "        registration_month  fuel_type  brand  not_repaired  \n",
       "23357                  4.0        6.0   20.0           1.0  \n",
       "59602                  6.0        6.0   20.0           0.0  \n",
       "174779                 3.0        6.0   38.0           1.0  \n",
       "172602                10.0        6.0   31.0           0.0  \n",
       "26160                 11.0        2.0   20.0           0.0  "
      ]
     },
     "metadata": {},
     "output_type": "display_data"
    },
    {
     "data": {
      "text/plain": [
       "'target_train:'"
      ]
     },
     "metadata": {},
     "output_type": "display_data"
    },
    {
     "data": {
      "text/plain": [
       "26188     1699\n",
       "22352      550\n",
       "138480    1790\n",
       "353223    1400\n",
       "85033     2800\n",
       "Name: price, dtype: int64"
      ]
     },
     "metadata": {},
     "output_type": "display_data"
    },
    {
     "data": {
      "text/plain": [
       "'target_untrain:'"
      ]
     },
     "metadata": {},
     "output_type": "display_data"
    },
    {
     "data": {
      "text/plain": [
       "27489      1500\n",
       "69910     10860\n",
       "204521      800\n",
       "201996     1650\n",
       "30797      4500\n",
       "Name: price, dtype: int64"
      ]
     },
     "metadata": {},
     "output_type": "display_data"
    }
   ],
   "source": [
    "# Делим данные на обучающую и необучающую выборки, закодированные OrdinalEncoder\n",
    "features_train_ordinal, features_untrain_ordinal, target_train_ordinal, target_untrain_ordinal = train_test_split(features_ordinal, target, test_size=0.4, random_state=RANDOM_STATE)\n",
    "display('features_train:', features_train_ordinal.head())\n",
    "display('features_untrain:', features_untrain_ordinal.head())\n",
    "display('target_train:', target_train_ordinal.head())\n",
    "display('target_untrain:', target_untrain_ordinal.head())\n"
   ]
  },
  {
   "cell_type": "code",
   "execution_count": 26,
   "metadata": {
    "scrolled": false
   },
   "outputs": [
    {
     "data": {
      "text/plain": [
       "'features_valid'"
      ]
     },
     "metadata": {},
     "output_type": "display_data"
    },
    {
     "data": {
      "text/html": [
       "<div>\n",
       "<style scoped>\n",
       "    .dataframe tbody tr th:only-of-type {\n",
       "        vertical-align: middle;\n",
       "    }\n",
       "\n",
       "    .dataframe tbody tr th {\n",
       "        vertical-align: top;\n",
       "    }\n",
       "\n",
       "    .dataframe thead th {\n",
       "        text-align: right;\n",
       "    }\n",
       "</style>\n",
       "<table border=\"1\" class=\"dataframe\">\n",
       "  <thead>\n",
       "    <tr style=\"text-align: right;\">\n",
       "      <th></th>\n",
       "      <th>vehicle_type</th>\n",
       "      <th>registration_year</th>\n",
       "      <th>gearbox</th>\n",
       "      <th>power</th>\n",
       "      <th>model</th>\n",
       "      <th>kilometer</th>\n",
       "      <th>registration_month</th>\n",
       "      <th>fuel_type</th>\n",
       "      <th>brand</th>\n",
       "      <th>not_repaired</th>\n",
       "    </tr>\n",
       "  </thead>\n",
       "  <tbody>\n",
       "    <tr>\n",
       "      <th>265370</th>\n",
       "      <td>0.0</td>\n",
       "      <td>20.0</td>\n",
       "      <td>1.0</td>\n",
       "      <td>119.0</td>\n",
       "      <td>93.0</td>\n",
       "      <td>12.0</td>\n",
       "      <td>11.0</td>\n",
       "      <td>2.0</td>\n",
       "      <td>9.0</td>\n",
       "      <td>0.0</td>\n",
       "    </tr>\n",
       "    <tr>\n",
       "      <th>38053</th>\n",
       "      <td>5.0</td>\n",
       "      <td>11.0</td>\n",
       "      <td>1.0</td>\n",
       "      <td>59.0</td>\n",
       "      <td>166.0</td>\n",
       "      <td>12.0</td>\n",
       "      <td>4.0</td>\n",
       "      <td>3.0</td>\n",
       "      <td>38.0</td>\n",
       "      <td>0.0</td>\n",
       "    </tr>\n",
       "    <tr>\n",
       "      <th>156100</th>\n",
       "      <td>4.0</td>\n",
       "      <td>11.0</td>\n",
       "      <td>1.0</td>\n",
       "      <td>149.0</td>\n",
       "      <td>29.0</td>\n",
       "      <td>12.0</td>\n",
       "      <td>0.0</td>\n",
       "      <td>5.0</td>\n",
       "      <td>1.0</td>\n",
       "      <td>2.0</td>\n",
       "    </tr>\n",
       "    <tr>\n",
       "      <th>238749</th>\n",
       "      <td>0.0</td>\n",
       "      <td>20.0</td>\n",
       "      <td>1.0</td>\n",
       "      <td>104.0</td>\n",
       "      <td>220.0</td>\n",
       "      <td>12.0</td>\n",
       "      <td>12.0</td>\n",
       "      <td>2.0</td>\n",
       "      <td>38.0</td>\n",
       "      <td>0.0</td>\n",
       "    </tr>\n",
       "    <tr>\n",
       "      <th>205667</th>\n",
       "      <td>7.0</td>\n",
       "      <td>14.0</td>\n",
       "      <td>1.0</td>\n",
       "      <td>100.0</td>\n",
       "      <td>232.0</td>\n",
       "      <td>12.0</td>\n",
       "      <td>6.0</td>\n",
       "      <td>6.0</td>\n",
       "      <td>24.0</td>\n",
       "      <td>0.0</td>\n",
       "    </tr>\n",
       "  </tbody>\n",
       "</table>\n",
       "</div>"
      ],
      "text/plain": [
       "        vehicle_type  registration_year  gearbox  power  model  kilometer  \\\n",
       "265370           0.0               20.0      1.0  119.0   93.0       12.0   \n",
       "38053            5.0               11.0      1.0   59.0  166.0       12.0   \n",
       "156100           4.0               11.0      1.0  149.0   29.0       12.0   \n",
       "238749           0.0               20.0      1.0  104.0  220.0       12.0   \n",
       "205667           7.0               14.0      1.0  100.0  232.0       12.0   \n",
       "\n",
       "        registration_month  fuel_type  brand  not_repaired  \n",
       "265370                11.0        2.0    9.0           0.0  \n",
       "38053                  4.0        3.0   38.0           0.0  \n",
       "156100                 0.0        5.0    1.0           2.0  \n",
       "238749                12.0        2.0   38.0           0.0  \n",
       "205667                 6.0        6.0   24.0           0.0  "
      ]
     },
     "metadata": {},
     "output_type": "display_data"
    },
    {
     "data": {
      "text/plain": [
       "'features_test'"
      ]
     },
     "metadata": {},
     "output_type": "display_data"
    },
    {
     "data": {
      "text/html": [
       "<div>\n",
       "<style scoped>\n",
       "    .dataframe tbody tr th:only-of-type {\n",
       "        vertical-align: middle;\n",
       "    }\n",
       "\n",
       "    .dataframe tbody tr th {\n",
       "        vertical-align: top;\n",
       "    }\n",
       "\n",
       "    .dataframe thead th {\n",
       "        text-align: right;\n",
       "    }\n",
       "</style>\n",
       "<table border=\"1\" class=\"dataframe\">\n",
       "  <thead>\n",
       "    <tr style=\"text-align: right;\">\n",
       "      <th></th>\n",
       "      <th>vehicle_type</th>\n",
       "      <th>registration_year</th>\n",
       "      <th>gearbox</th>\n",
       "      <th>power</th>\n",
       "      <th>model</th>\n",
       "      <th>kilometer</th>\n",
       "      <th>registration_month</th>\n",
       "      <th>fuel_type</th>\n",
       "      <th>brand</th>\n",
       "      <th>not_repaired</th>\n",
       "    </tr>\n",
       "  </thead>\n",
       "  <tbody>\n",
       "    <tr>\n",
       "      <th>71645</th>\n",
       "      <td>0.0</td>\n",
       "      <td>19.0</td>\n",
       "      <td>1.0</td>\n",
       "      <td>115.0</td>\n",
       "      <td>112.0</td>\n",
       "      <td>12.0</td>\n",
       "      <td>8.0</td>\n",
       "      <td>2.0</td>\n",
       "      <td>10.0</td>\n",
       "      <td>0.0</td>\n",
       "    </tr>\n",
       "    <tr>\n",
       "      <th>202001</th>\n",
       "      <td>4.0</td>\n",
       "      <td>21.0</td>\n",
       "      <td>1.0</td>\n",
       "      <td>108.0</td>\n",
       "      <td>69.0</td>\n",
       "      <td>9.0</td>\n",
       "      <td>9.0</td>\n",
       "      <td>6.0</td>\n",
       "      <td>15.0</td>\n",
       "      <td>0.0</td>\n",
       "    </tr>\n",
       "    <tr>\n",
       "      <th>37314</th>\n",
       "      <td>4.0</td>\n",
       "      <td>14.0</td>\n",
       "      <td>1.0</td>\n",
       "      <td>130.0</td>\n",
       "      <td>154.0</td>\n",
       "      <td>12.0</td>\n",
       "      <td>7.0</td>\n",
       "      <td>6.0</td>\n",
       "      <td>10.0</td>\n",
       "      <td>0.0</td>\n",
       "    </tr>\n",
       "    <tr>\n",
       "      <th>135918</th>\n",
       "      <td>7.0</td>\n",
       "      <td>11.0</td>\n",
       "      <td>1.0</td>\n",
       "      <td>149.0</td>\n",
       "      <td>29.0</td>\n",
       "      <td>12.0</td>\n",
       "      <td>11.0</td>\n",
       "      <td>6.0</td>\n",
       "      <td>1.0</td>\n",
       "      <td>0.0</td>\n",
       "    </tr>\n",
       "    <tr>\n",
       "      <th>155986</th>\n",
       "      <td>2.0</td>\n",
       "      <td>11.0</td>\n",
       "      <td>0.0</td>\n",
       "      <td>169.0</td>\n",
       "      <td>11.0</td>\n",
       "      <td>12.0</td>\n",
       "      <td>9.0</td>\n",
       "      <td>6.0</td>\n",
       "      <td>2.0</td>\n",
       "      <td>0.0</td>\n",
       "    </tr>\n",
       "  </tbody>\n",
       "</table>\n",
       "</div>"
      ],
      "text/plain": [
       "        vehicle_type  registration_year  gearbox  power  model  kilometer  \\\n",
       "71645            0.0               19.0      1.0  115.0  112.0       12.0   \n",
       "202001           4.0               21.0      1.0  108.0   69.0        9.0   \n",
       "37314            4.0               14.0      1.0  130.0  154.0       12.0   \n",
       "135918           7.0               11.0      1.0  149.0   29.0       12.0   \n",
       "155986           2.0               11.0      0.0  169.0   11.0       12.0   \n",
       "\n",
       "        registration_month  fuel_type  brand  not_repaired  \n",
       "71645                  8.0        2.0   10.0           0.0  \n",
       "202001                 9.0        6.0   15.0           0.0  \n",
       "37314                  7.0        6.0   10.0           0.0  \n",
       "135918                11.0        6.0    1.0           0.0  \n",
       "155986                 9.0        6.0    2.0           0.0  "
      ]
     },
     "metadata": {},
     "output_type": "display_data"
    },
    {
     "data": {
      "text/plain": [
       "'target_valid'"
      ]
     },
     "metadata": {},
     "output_type": "display_data"
    },
    {
     "data": {
      "text/plain": [
       "310413    6899\n",
       "44725      350\n",
       "182630    1000\n",
       "279152    5850\n",
       "240660    1800\n",
       "Name: price, dtype: int64"
      ]
     },
     "metadata": {},
     "output_type": "display_data"
    },
    {
     "data": {
      "text/plain": [
       "'target_test'"
      ]
     },
     "metadata": {},
     "output_type": "display_data"
    },
    {
     "data": {
      "text/plain": [
       "83988     3800\n",
       "236388    4999\n",
       "43870      999\n",
       "159045    2150\n",
       "182496    1200\n",
       "Name: price, dtype: int64"
      ]
     },
     "metadata": {},
     "output_type": "display_data"
    }
   ],
   "source": [
    "# Делим данные на валидационную и тестовую выборки, закодированные OrdinalEncoder\n",
    "features_valid_ordinal, features_test_ordinal, target_valid_ordinal, target_test_ordinal = train_test_split(features_untrain_ordinal, target_untrain_ordinal, test_size=0.5, random_state=RANDOM_STATE)\n",
    "display('features_valid', features_valid_ordinal.head())\n",
    "display('features_test', features_test_ordinal.head())\n",
    "display('target_valid', target_valid_ordinal.head())\n",
    "display('target_test', target_test_ordinal.head())\n"
   ]
  },
  {
   "cell_type": "markdown",
   "metadata": {},
   "source": [
    "1. Выделили целевой признак.\n",
    "2. Закодировали категориальные признаки с удалением первого столбца для избежания дамми-ловушки.\n",
    "3. Масштабировали численные признаки.\n",
    "3. Разбили данные на обучающую, валидационную и тестовую выборки."
   ]
  },
  {
   "cell_type": "markdown",
   "metadata": {},
   "source": [
    "### Обучение моделей"
   ]
  },
  {
   "cell_type": "code",
   "execution_count": 27,
   "metadata": {},
   "outputs": [
    {
     "data": {
      "text/plain": [
       "2450.877921010593"
      ]
     },
     "execution_count": 27,
     "metadata": {},
     "output_type": "execute_result"
    }
   ],
   "source": [
    "# Линейная регрессия\n",
    "model_linear = LinearRegression()\n",
    "model_linear.fit(features_train_ohe, target_train_ohe)\n",
    "predictions_linear = model_linear.predict(features_valid_ohe)\n",
    "\n",
    "rmse = mean_squared_error(target_valid_ohe, predictions_linear) ** 0.5\n",
    "rmse"
   ]
  },
  {
   "cell_type": "code",
   "execution_count": 28,
   "metadata": {},
   "outputs": [
    {
     "name": "stdout",
     "output_type": "stream",
     "text": [
      "RMSE наилучшей модели 'Дерево решений' на валидационной выборке: 2387.2896448387723 Глубина дерева: 5\n"
     ]
    }
   ],
   "source": [
    "# Решающее дерево\n",
    "best_model_tree = None\n",
    "best_rmse_tree = 0\n",
    "best_depth_tree = 0\n",
    "\n",
    "for depth in range(1, 10):\n",
    "    model_tree = DecisionTreeRegressor(random_state=RANDOM_STATE, max_depth=depth)\n",
    "    model_tree.fit(features_train_ordinal, target_train_ordinal)\n",
    "    predictions_tree = model_tree.predict(features_valid_ordinal)\n",
    "    \n",
    "    rmse_tree = mean_squared_error(target_valid_ordinal, predictions_tree) ** 0.5\n",
    "\n",
    "    if (rmse_tree > best_rmse_tree) and (rmse_tree < RMSE_LIMIT):\n",
    "        best_model_tree = model_tree\n",
    "        best_rmse_tree = rmse_tree\n",
    "        best_depth_tree = depth\n",
    "        \n",
    "print(\"RMSE наилучшей модели 'Дерево решений' на валидационной выборке:\", best_rmse_tree, \"Глубина дерева:\", best_depth_tree)"
   ]
  },
  {
   "cell_type": "markdown",
   "metadata": {},
   "source": [
    "<div class=\"alert alert-block alert-info\">\n",
    "Для моделей основанных на деревьях использовано порядковое кодирование (OrdinalEncoder). Это должно ускорить их работу.\n",
    "</div>"
   ]
  },
  {
   "cell_type": "code",
   "execution_count": 29,
   "metadata": {},
   "outputs": [
    {
     "name": "stdout",
     "output_type": "stream",
     "text": [
      "Fitting 5 folds for each of 1 candidates, totalling 5 fits\n",
      "[CV 1/5] END max_depth=49, n_estimators=64, random_state=12345; total time=  25.5s\n",
      "[CV 2/5] END max_depth=49, n_estimators=64, random_state=12345; total time=  25.9s\n",
      "[CV 3/5] END max_depth=49, n_estimators=64, random_state=12345; total time=  26.1s\n",
      "[CV 4/5] END max_depth=49, n_estimators=64, random_state=12345; total time=  26.2s\n",
      "[CV 5/5] END max_depth=49, n_estimators=64, random_state=12345; total time=  26.1s\n",
      "{'max_depth': 49, 'n_estimators': 64, 'random_state': 12345}\n"
     ]
    }
   ],
   "source": [
    "# Случайный лес\n",
    "model_forest = RandomForestRegressor()\n",
    "params = {\n",
    "    'max_depth': [randint(1, 100)],\n",
    "    'n_estimators': [randint(1, 100)],\n",
    "    'random_state': [RANDOM_STATE],\n",
    "}\n",
    "\n",
    "grid = GridSearchCV(model_forest, params, scoring='neg_root_mean_squared_error', verbose=3)\n",
    "grid.fit(features_train_ordinal, target_train_ordinal)\n",
    "print(grid.best_params_)"
   ]
  },
  {
   "cell_type": "code",
   "execution_count": 30,
   "metadata": {},
   "outputs": [],
   "source": [
    "def search_forest(depth, est):\n",
    "    model_forest = RandomForestRegressor(max_depth=depth, n_estimators=est, random_state=RANDOM_STATE)\n",
    "    model_forest.fit(features_train_ordinal, target_train_ordinal)\n",
    "    predictions_forest = model_forest.predict(features_valid_ordinal)\n",
    "\n",
    "    rmse = mean_squared_error(target_valid_ordinal, predictions_forest) ** 0.5\n",
    "\n",
    "    print(\"RMSE наилучшей модели 'Случайный лес'\", rmse)"
   ]
  },
  {
   "cell_type": "code",
   "execution_count": 31,
   "metadata": {},
   "outputs": [
    {
     "name": "stdout",
     "output_type": "stream",
     "text": [
      "RMSE наилучшей модели 'Случайный лес' 1606.662089416546\n"
     ]
    }
   ],
   "source": [
    "search_forest(94, 14)"
   ]
  },
  {
   "cell_type": "code",
   "execution_count": 32,
   "metadata": {},
   "outputs": [
    {
     "name": "stdout",
     "output_type": "stream",
     "text": [
      "RMSE наилучшей модели 'LGBMRegressor' на валидационной выборке: 1750.6214337279773 Кол-во деревьев решений: 50\n"
     ]
    }
   ],
   "source": [
    "# LightGBM\n",
    "best_model_lgbm = None\n",
    "best_rmse_lgbm = 0\n",
    "best_est_lgbm = 0\n",
    "\n",
    "trees = [10, 50, 100]\n",
    "for n in trees:\n",
    "    model_lgbm = LGBMRegressor(n_estimators=n, random_state=RANDOM_STATE)\n",
    "    model_lgbm.fit(features_train_ordinal, target_train_ordinal)\n",
    "    predictions_lgbm = model_lgbm.predict(features_valid_ordinal)\n",
    "\n",
    "    rmse_lgbm = mean_squared_error(target_valid_ordinal, predictions_lgbm) ** 0.5\n",
    "\n",
    "    if (rmse_lgbm > best_rmse_lgbm) and (rmse_lgbm < RMSE_LIMIT):\n",
    "        best_model_lgbm = model_lgbm\n",
    "        best_rmse_lgbm = rmse_lgbm\n",
    "        best_est_lgbm = n\n",
    "        \n",
    "print(\"RMSE наилучшей модели 'LGBMRegressor' на валидационной выборке:\", best_rmse_lgbm, \"Кол-во деревьев решений:\", best_est_lgbm)\n"
   ]
  },
  {
   "cell_type": "markdown",
   "metadata": {},
   "source": [
    "<div class=\"alert alert-block alert-info\">\n",
    "Лучшей моделью оказалась Линейная регрессия (RMSE 2450,8).\n",
    "    </div>"
   ]
  },
  {
   "cell_type": "markdown",
   "metadata": {},
   "source": [
    "<div class=\"alert alert-block alert-info\">\n",
    "Гридсерч перебирает все комбинации параметров. Здесь можно выводить метрики после каждой валидации с помощью verbose. И остановить GridSearchCV (Kernel -> Interrupt), если надо.\n",
    "</div>"
   ]
  },
  {
   "cell_type": "markdown",
   "metadata": {},
   "source": [
    "## Анализ моделей"
   ]
  },
  {
   "cell_type": "code",
   "execution_count": 36,
   "metadata": {},
   "outputs": [
    {
     "name": "stdout",
     "output_type": "stream",
     "text": [
      "CPU times: user 3.91 s, sys: 266 ms, total: 4.18 s\n",
      "Wall time: 4.15 s\n"
     ]
    },
    {
     "data": {
      "text/plain": [
       "LGBMRegressor(n_estimators=50, random_state=12345)"
      ]
     },
     "execution_count": 36,
     "metadata": {},
     "output_type": "execute_result"
    }
   ],
   "source": [
    "%%time\n",
    "model_best = LGBMRegressor(n_estimators=50, random_state=RANDOM_STATE)\n",
    "model_best.fit(features_train_ohe, target_train_ohe)"
   ]
  },
  {
   "cell_type": "code",
   "execution_count": 37,
   "metadata": {},
   "outputs": [
    {
     "name": "stdout",
     "output_type": "stream",
     "text": [
      "CPU times: user 379 ms, sys: 92.6 ms, total: 472 ms\n",
      "Wall time: 402 ms\n"
     ]
    }
   ],
   "source": [
    "%%time\n",
    "predictions_best = model_best.predict(features_test_ohe)"
   ]
  },
  {
   "cell_type": "code",
   "execution_count": 38,
   "metadata": {},
   "outputs": [
    {
     "name": "stdout",
     "output_type": "stream",
     "text": [
      "RMSE лучшей модели на тестовой выборке: 1753.577782337517\n"
     ]
    }
   ],
   "source": [
    "rmse = mean_squared_error(target_test_ohe, predictions_best) ** 0.5\n",
    "print(\"RMSE лучшей модели на тестовой выборке:\", rmse)"
   ]
  },
  {
   "cell_type": "markdown",
   "metadata": {},
   "source": [
    "<div class=\"alert alert-block alert-info\">\n",
    "    \n",
    "При обучении моделей были взяты исторические данные по продаже автомобилей, впервые зарегистрированных за период с 1986 по 2022 (при подготовке данных исключены аномалии и выбросы даты регистрации автомобилей).\n",
    "    \n",
    "Было проанализировано качество нескольких моделей обучения - линейная регрессия, решающее дерево, случайный лес и градиентный бустинг (от библиотеки LightGBM). В качестве метрики выбран RMSE.\n",
    "\n",
    "Модель линейной регресии показала лучшее качество предсказания как на обучающей, так и тестовой выборках (RMSE 2450,8), а также высокие скорость обучения и время предсказания. \n",
    "\n",
    "Рекомендуем заказчику модель линейной регрессии.\n",
    "    </div>"
   ]
  },
  {
   "cell_type": "markdown",
   "metadata": {},
   "source": [
    "# <font color='orange'>Рекомендации 🔥</font>\n",
    "* Доступное объяснение про работу градиентного бустинга https://www.youtube.com/watch?v=ZNJ3lKyI-EY&t=995s\n",
    "* После просмотра видео можешь почитать статью про ансамбли и бустинги https://habr.com/ru/company/ods/blog/645887/\n",
    "* Подбор гиперпараметров для CatBoost https://translated.turbopages.org/proxy_u/en-ru.ru.35f776b3-62cd57e2-136cbedd-74722d776562/https/www.projectpro.io/recipes/find-optimal-parameters-for-catboost-using-gridsearchcv-for-classification\n",
    "* Подбор гиперпараметров для LightGBM https://programmersought.com/article/40776531516/\n",
    "* Разумные способы кодирования категориальных данных для машинного обучения https://machinelearningmastery.ru/smarter-ways-to-encode-categorical-data-for-machine-learning-part-1-of-3-6dca2f71b159/\n",
    "* Статья про \"непонятную\" метрику ROC-AUC https://dyakonov.org/2017/07/28/auc-roc-площадь-под-кривой-ошибок/\n",
    "* Хочешь подтянуть математику для DS?) https://academy.stepik.org/math-for-data-science\n",
    "* Результы обучения моделей можно визуализировать 😎 https://www.datatechnotes.com/2019/08/elasticnet-regression-example-in-python.html\n",
    "* В нашем деле нужно быть всегда в курсе всех новинок, новостей и тд, вот тут публикуют новости в области DS: https://www.infoq.com/data-analysis/news/"
   ]
  }
 ],
 "metadata": {
  "ExecuteTimeLog": [
   {
    "duration": 346,
    "start_time": "2022-07-06T18:34:00.540Z"
   },
   {
    "duration": 2646,
    "start_time": "2022-07-06T18:34:00.888Z"
   },
   {
    "duration": 706,
    "start_time": "2022-07-06T18:34:06.361Z"
   },
   {
    "duration": 698,
    "start_time": "2022-07-06T18:34:14.215Z"
   },
   {
    "duration": 686,
    "start_time": "2022-07-06T18:37:44.871Z"
   },
   {
    "duration": 735,
    "start_time": "2022-07-06T18:41:03.179Z"
   },
   {
    "duration": 795,
    "start_time": "2022-07-06T18:42:06.389Z"
   },
   {
    "duration": 71,
    "start_time": "2022-07-06T18:44:24.484Z"
   },
   {
    "duration": 90,
    "start_time": "2022-07-06T18:44:41.706Z"
   },
   {
    "duration": 112,
    "start_time": "2022-07-06T18:51:41.080Z"
   },
   {
    "duration": 15,
    "start_time": "2022-07-06T18:52:09.798Z"
   },
   {
    "duration": 14,
    "start_time": "2022-07-06T18:52:19.002Z"
   },
   {
    "duration": 15,
    "start_time": "2022-07-06T18:52:28.392Z"
   },
   {
    "duration": 15,
    "start_time": "2022-07-06T18:52:54.375Z"
   },
   {
    "duration": 14,
    "start_time": "2022-07-06T18:52:57.615Z"
   },
   {
    "duration": 17,
    "start_time": "2022-07-06T18:53:13.441Z"
   },
   {
    "duration": 4,
    "start_time": "2022-07-06T18:53:18.576Z"
   },
   {
    "duration": 64,
    "start_time": "2022-07-06T18:53:28.405Z"
   },
   {
    "duration": 3,
    "start_time": "2022-07-06T18:53:38.530Z"
   },
   {
    "duration": 13,
    "start_time": "2022-07-06T18:53:54.177Z"
   },
   {
    "duration": 3,
    "start_time": "2022-07-06T18:53:55.587Z"
   },
   {
    "duration": 13,
    "start_time": "2022-07-06T18:54:03.129Z"
   },
   {
    "duration": 4,
    "start_time": "2022-07-06T18:54:03.743Z"
   },
   {
    "duration": 12,
    "start_time": "2022-07-06T18:54:08.018Z"
   },
   {
    "duration": 5,
    "start_time": "2022-07-06T18:54:08.337Z"
   },
   {
    "duration": 14,
    "start_time": "2022-07-06T18:54:16.735Z"
   },
   {
    "duration": 3,
    "start_time": "2022-07-06T18:56:46.928Z"
   },
   {
    "duration": 4,
    "start_time": "2022-07-06T18:56:51.240Z"
   },
   {
    "duration": 349,
    "start_time": "2022-07-06T18:57:16.244Z"
   },
   {
    "duration": 780,
    "start_time": "2022-07-06T18:57:16.595Z"
   },
   {
    "duration": 120,
    "start_time": "2022-07-06T18:57:17.376Z"
   },
   {
    "duration": 48,
    "start_time": "2022-07-06T18:57:17.498Z"
   },
   {
    "duration": 126,
    "start_time": "2022-07-06T19:05:48.527Z"
   },
   {
    "duration": 98,
    "start_time": "2022-07-06T19:06:06.680Z"
   },
   {
    "duration": 855,
    "start_time": "2022-07-06T19:19:38.976Z"
   },
   {
    "duration": 45783,
    "start_time": "2022-07-06T19:20:09.210Z"
   },
   {
    "duration": 413,
    "start_time": "2022-07-06T19:21:02.506Z"
   },
   {
    "duration": 1083,
    "start_time": "2022-07-06T19:25:54.989Z"
   },
   {
    "duration": 814,
    "start_time": "2022-07-06T19:25:56.074Z"
   },
   {
    "duration": 113,
    "start_time": "2022-07-06T19:25:56.890Z"
   },
   {
    "duration": 37,
    "start_time": "2022-07-06T19:25:57.004Z"
   },
   {
    "duration": 134,
    "start_time": "2022-07-06T19:25:57.043Z"
   },
   {
    "duration": 98,
    "start_time": "2022-07-06T19:25:57.179Z"
   },
   {
    "duration": 0,
    "start_time": "2022-07-06T19:25:57.278Z"
   },
   {
    "duration": 0,
    "start_time": "2022-07-06T19:25:57.280Z"
   },
   {
    "duration": 0,
    "start_time": "2022-07-06T19:25:57.281Z"
   },
   {
    "duration": 45637,
    "start_time": "2022-07-06T19:26:07.684Z"
   },
   {
    "duration": 451,
    "start_time": "2022-07-06T19:27:07.386Z"
   },
   {
    "duration": 78,
    "start_time": "2022-07-06T19:27:07.914Z"
   },
   {
    "duration": 150,
    "start_time": "2022-07-06T19:27:20.202Z"
   },
   {
    "duration": 107,
    "start_time": "2022-07-06T19:27:31.180Z"
   },
   {
    "duration": 97,
    "start_time": "2022-07-06T19:27:41.942Z"
   },
   {
    "duration": 218,
    "start_time": "2022-07-06T19:28:13.989Z"
   },
   {
    "duration": 3,
    "start_time": "2022-07-06T19:32:14.977Z"
   },
   {
    "duration": 214,
    "start_time": "2022-07-06T19:35:40.865Z"
   },
   {
    "duration": 242,
    "start_time": "2022-07-06T19:37:08.432Z"
   },
   {
    "duration": 91,
    "start_time": "2022-07-06T19:38:44.168Z"
   },
   {
    "duration": 234,
    "start_time": "2022-07-06T19:39:14.596Z"
   },
   {
    "duration": 80,
    "start_time": "2022-07-06T19:39:16.945Z"
   },
   {
    "duration": 24,
    "start_time": "2022-07-06T19:43:12.706Z"
   },
   {
    "duration": 3,
    "start_time": "2022-07-06T19:47:48.394Z"
   },
   {
    "duration": 11,
    "start_time": "2022-07-06T19:48:42.444Z"
   },
   {
    "duration": 3,
    "start_time": "2022-07-06T19:48:49.284Z"
   },
   {
    "duration": 13,
    "start_time": "2022-07-06T19:50:08.288Z"
   },
   {
    "duration": 80,
    "start_time": "2022-07-06T19:50:59.124Z"
   },
   {
    "duration": 89,
    "start_time": "2022-07-06T19:51:26.547Z"
   },
   {
    "duration": 90,
    "start_time": "2022-07-06T19:51:31.484Z"
   },
   {
    "duration": 1492,
    "start_time": "2022-07-06T19:54:03.849Z"
   },
   {
    "duration": 2,
    "start_time": "2022-07-06T19:54:05.343Z"
   },
   {
    "duration": 997,
    "start_time": "2022-07-06T19:54:05.347Z"
   },
   {
    "duration": 126,
    "start_time": "2022-07-06T19:54:06.346Z"
   },
   {
    "duration": 46,
    "start_time": "2022-07-06T19:54:06.474Z"
   },
   {
    "duration": 145,
    "start_time": "2022-07-06T19:54:06.522Z"
   },
   {
    "duration": 50421,
    "start_time": "2022-07-06T19:54:06.669Z"
   },
   {
    "duration": 462,
    "start_time": "2022-07-06T19:54:57.092Z"
   },
   {
    "duration": 175,
    "start_time": "2022-07-06T19:54:57.556Z"
   },
   {
    "duration": 87,
    "start_time": "2022-07-06T19:54:57.733Z"
   },
   {
    "duration": 299,
    "start_time": "2022-07-06T19:54:57.822Z"
   },
   {
    "duration": 137,
    "start_time": "2022-07-06T19:54:58.123Z"
   },
   {
    "duration": 3,
    "start_time": "2022-07-06T19:54:58.262Z"
   },
   {
    "duration": 9,
    "start_time": "2022-07-06T19:54:58.268Z"
   },
   {
    "duration": 3,
    "start_time": "2022-07-06T20:07:18.732Z"
   },
   {
    "duration": 66079,
    "start_time": "2022-07-06T20:08:16.707Z"
   },
   {
    "duration": 35742,
    "start_time": "2022-07-06T20:11:36.261Z"
   },
   {
    "duration": 39584,
    "start_time": "2022-07-06T20:12:20.025Z"
   },
   {
    "duration": 40369,
    "start_time": "2022-07-06T20:14:22.233Z"
   },
   {
    "duration": 11,
    "start_time": "2022-07-06T20:16:24.750Z"
   },
   {
    "duration": 20,
    "start_time": "2022-07-06T20:17:31.777Z"
   },
   {
    "duration": 4901,
    "start_time": "2022-07-06T20:17:57.972Z"
   },
   {
    "duration": 13899,
    "start_time": "2022-07-06T20:18:12.961Z"
   },
   {
    "duration": 10,
    "start_time": "2022-07-06T20:23:32.549Z"
   },
   {
    "duration": 10,
    "start_time": "2022-07-06T20:27:10.410Z"
   },
   {
    "duration": 39867,
    "start_time": "2022-07-06T20:32:53.454Z"
   },
   {
    "duration": 13,
    "start_time": "2022-07-06T20:33:46.266Z"
   },
   {
    "duration": 10,
    "start_time": "2022-07-06T20:33:46.666Z"
   },
   {
    "duration": 3,
    "start_time": "2022-07-06T20:34:10.425Z"
   },
   {
    "duration": 13770,
    "start_time": "2022-07-06T20:34:17.097Z"
   },
   {
    "duration": 9,
    "start_time": "2022-07-06T20:34:30.869Z"
   },
   {
    "duration": 0,
    "start_time": "2022-07-06T20:34:30.880Z"
   },
   {
    "duration": 1383,
    "start_time": "2022-07-06T20:45:27.442Z"
   },
   {
    "duration": 2,
    "start_time": "2022-07-06T20:45:28.827Z"
   },
   {
    "duration": 949,
    "start_time": "2022-07-06T20:45:28.831Z"
   },
   {
    "duration": 134,
    "start_time": "2022-07-06T20:45:29.782Z"
   },
   {
    "duration": 38,
    "start_time": "2022-07-06T20:45:29.920Z"
   },
   {
    "duration": 169,
    "start_time": "2022-07-06T20:45:29.959Z"
   },
   {
    "duration": 48794,
    "start_time": "2022-07-06T20:45:30.130Z"
   },
   {
    "duration": 462,
    "start_time": "2022-07-06T20:46:18.925Z"
   },
   {
    "duration": 183,
    "start_time": "2022-07-06T20:46:19.388Z"
   },
   {
    "duration": 109,
    "start_time": "2022-07-06T20:46:19.573Z"
   },
   {
    "duration": 259,
    "start_time": "2022-07-06T20:46:19.684Z"
   },
   {
    "duration": 117,
    "start_time": "2022-07-06T20:46:19.945Z"
   },
   {
    "duration": 44646,
    "start_time": "2022-07-06T20:46:20.064Z"
   },
   {
    "duration": 13764,
    "start_time": "2022-07-06T20:47:04.713Z"
   },
   {
    "duration": 503259,
    "start_time": "2022-07-06T20:47:18.478Z"
   },
   {
    "duration": 4,
    "start_time": "2022-07-06T20:55:41.738Z"
   },
   {
    "duration": 10,
    "start_time": "2022-07-06T20:55:41.743Z"
   },
   {
    "duration": 3,
    "start_time": "2022-07-06T22:10:08.901Z"
   },
   {
    "duration": 98,
    "start_time": "2022-07-06T22:10:09.369Z"
   },
   {
    "duration": 3,
    "start_time": "2022-07-06T22:12:48.156Z"
   },
   {
    "duration": 52628,
    "start_time": "2022-07-06T22:12:49.737Z"
   },
   {
    "duration": 4,
    "start_time": "2022-07-06T22:15:16.088Z"
   },
   {
    "duration": 53194,
    "start_time": "2022-07-06T22:15:18.718Z"
   },
   {
    "duration": 676998,
    "start_time": "2022-07-06T22:19:41.834Z"
   },
   {
    "duration": 4920,
    "start_time": "2022-07-07T16:30:08.371Z"
   },
   {
    "duration": 4,
    "start_time": "2022-07-07T16:35:57.165Z"
   },
   {
    "duration": 1413,
    "start_time": "2022-07-07T16:58:22.629Z"
   },
   {
    "duration": 2,
    "start_time": "2022-07-07T16:58:24.045Z"
   },
   {
    "duration": 1213,
    "start_time": "2022-07-07T16:58:24.048Z"
   },
   {
    "duration": 131,
    "start_time": "2022-07-07T16:58:25.263Z"
   },
   {
    "duration": 45,
    "start_time": "2022-07-07T16:58:25.396Z"
   },
   {
    "duration": 159,
    "start_time": "2022-07-07T16:58:25.443Z"
   },
   {
    "duration": 53586,
    "start_time": "2022-07-07T16:58:25.604Z"
   },
   {
    "duration": 520,
    "start_time": "2022-07-07T16:59:19.192Z"
   },
   {
    "duration": 176,
    "start_time": "2022-07-07T16:59:19.713Z"
   },
   {
    "duration": 114,
    "start_time": "2022-07-07T16:59:19.891Z"
   },
   {
    "duration": 272,
    "start_time": "2022-07-07T16:59:20.007Z"
   },
   {
    "duration": 126,
    "start_time": "2022-07-07T16:59:20.281Z"
   },
   {
    "duration": 14319,
    "start_time": "2022-07-07T16:59:20.409Z"
   },
   {
    "duration": 14625,
    "start_time": "2022-07-07T16:59:34.732Z"
   },
   {
    "duration": 1868,
    "start_time": "2022-07-07T17:19:12.303Z"
   },
   {
    "duration": 4,
    "start_time": "2022-07-07T17:19:14.176Z"
   },
   {
    "duration": 1492,
    "start_time": "2022-07-07T17:19:14.182Z"
   },
   {
    "duration": 196,
    "start_time": "2022-07-07T17:19:15.679Z"
   },
   {
    "duration": 59,
    "start_time": "2022-07-07T17:19:15.877Z"
   },
   {
    "duration": 211,
    "start_time": "2022-07-07T17:19:15.940Z"
   },
   {
    "duration": 68948,
    "start_time": "2022-07-07T17:19:16.153Z"
   },
   {
    "duration": 850,
    "start_time": "2022-07-07T17:20:25.105Z"
   },
   {
    "duration": 218,
    "start_time": "2022-07-07T17:20:25.960Z"
   },
   {
    "duration": 129,
    "start_time": "2022-07-07T17:20:26.182Z"
   },
   {
    "duration": 355,
    "start_time": "2022-07-07T17:20:26.314Z"
   },
   {
    "duration": 165,
    "start_time": "2022-07-07T17:20:26.671Z"
   },
   {
    "duration": 52229,
    "start_time": "2022-07-07T17:20:26.838Z"
   },
   {
    "duration": 20429,
    "start_time": "2022-07-07T17:21:19.069Z"
   },
   {
    "duration": 264956,
    "start_time": "2022-07-07T17:21:39.501Z"
   },
   {
    "duration": 8,
    "start_time": "2022-07-07T17:26:04.460Z"
   },
   {
    "duration": 204536,
    "start_time": "2022-07-07T17:26:04.470Z"
   },
   {
    "duration": 1650414,
    "start_time": "2022-07-07T17:29:29.009Z"
   },
   {
    "duration": 43675,
    "start_time": "2022-07-07T17:56:59.431Z"
   },
   {
    "duration": 69709,
    "start_time": "2022-07-07T18:27:08.881Z"
   },
   {
    "duration": 2492,
    "start_time": "2022-07-07T19:23:17.650Z"
   },
   {
    "duration": 0,
    "start_time": "2022-07-07T19:23:20.145Z"
   },
   {
    "duration": 3,
    "start_time": "2022-07-07T20:12:40.155Z"
   },
   {
    "duration": 231537,
    "start_time": "2022-07-07T20:12:56.019Z"
   },
   {
    "duration": 31058,
    "start_time": "2022-07-07T20:40:27.173Z"
   },
   {
    "duration": 51,
    "start_time": "2022-07-09T11:53:43.598Z"
   },
   {
    "duration": 1587,
    "start_time": "2022-07-09T11:53:49.532Z"
   },
   {
    "duration": 3,
    "start_time": "2022-07-09T11:53:51.121Z"
   },
   {
    "duration": 1226,
    "start_time": "2022-07-09T11:53:51.127Z"
   },
   {
    "duration": 17,
    "start_time": "2022-07-09T11:53:52.354Z"
   },
   {
    "duration": 53,
    "start_time": "2022-07-09T11:53:52.373Z"
   },
   {
    "duration": 0,
    "start_time": "2022-07-09T11:53:52.428Z"
   },
   {
    "duration": 0,
    "start_time": "2022-07-09T11:53:52.429Z"
   },
   {
    "duration": 0,
    "start_time": "2022-07-09T11:53:52.431Z"
   },
   {
    "duration": 0,
    "start_time": "2022-07-09T11:53:52.432Z"
   },
   {
    "duration": 0,
    "start_time": "2022-07-09T11:53:52.433Z"
   },
   {
    "duration": 0,
    "start_time": "2022-07-09T11:53:52.434Z"
   },
   {
    "duration": 0,
    "start_time": "2022-07-09T11:53:52.435Z"
   },
   {
    "duration": 0,
    "start_time": "2022-07-09T11:53:52.436Z"
   },
   {
    "duration": 0,
    "start_time": "2022-07-09T11:53:52.437Z"
   },
   {
    "duration": 0,
    "start_time": "2022-07-09T11:53:52.438Z"
   },
   {
    "duration": 0,
    "start_time": "2022-07-09T11:53:52.439Z"
   },
   {
    "duration": 0,
    "start_time": "2022-07-09T11:53:52.440Z"
   },
   {
    "duration": 0,
    "start_time": "2022-07-09T11:53:52.441Z"
   },
   {
    "duration": 0,
    "start_time": "2022-07-09T11:53:52.442Z"
   },
   {
    "duration": 0,
    "start_time": "2022-07-09T11:53:52.444Z"
   },
   {
    "duration": 0,
    "start_time": "2022-07-09T11:53:52.445Z"
   },
   {
    "duration": 0,
    "start_time": "2022-07-09T11:53:52.446Z"
   },
   {
    "duration": 0,
    "start_time": "2022-07-09T11:53:52.447Z"
   },
   {
    "duration": 46,
    "start_time": "2022-07-09T11:58:20.620Z"
   },
   {
    "duration": 115,
    "start_time": "2022-07-09T11:58:26.653Z"
   },
   {
    "duration": 187,
    "start_time": "2022-07-09T12:03:31.412Z"
   },
   {
    "duration": 199,
    "start_time": "2022-07-09T12:03:45.449Z"
   },
   {
    "duration": 204,
    "start_time": "2022-07-09T12:03:57.800Z"
   },
   {
    "duration": 84,
    "start_time": "2022-07-09T12:04:04.200Z"
   },
   {
    "duration": 188,
    "start_time": "2022-07-09T12:04:07.910Z"
   },
   {
    "duration": 73,
    "start_time": "2022-07-09T12:04:32.321Z"
   },
   {
    "duration": 77,
    "start_time": "2022-07-09T12:04:46.668Z"
   },
   {
    "duration": 9,
    "start_time": "2022-07-09T12:05:48.296Z"
   },
   {
    "duration": 4,
    "start_time": "2022-07-09T12:05:55.045Z"
   },
   {
    "duration": 4,
    "start_time": "2022-07-09T12:06:00.857Z"
   },
   {
    "duration": 3,
    "start_time": "2022-07-09T12:09:06.001Z"
   },
   {
    "duration": 3,
    "start_time": "2022-07-09T12:09:16.307Z"
   },
   {
    "duration": 3,
    "start_time": "2022-07-09T12:09:54.567Z"
   },
   {
    "duration": 4,
    "start_time": "2022-07-09T12:10:25.246Z"
   },
   {
    "duration": 3,
    "start_time": "2022-07-09T12:10:40.040Z"
   },
   {
    "duration": 3,
    "start_time": "2022-07-09T12:10:55.466Z"
   },
   {
    "duration": 3,
    "start_time": "2022-07-09T12:11:05.055Z"
   },
   {
    "duration": 4,
    "start_time": "2022-07-09T12:11:10.696Z"
   },
   {
    "duration": 3,
    "start_time": "2022-07-09T12:11:20.190Z"
   },
   {
    "duration": 20,
    "start_time": "2022-07-09T12:11:24.255Z"
   },
   {
    "duration": 1392,
    "start_time": "2022-07-09T12:11:36.176Z"
   },
   {
    "duration": 3,
    "start_time": "2022-07-09T12:11:37.570Z"
   },
   {
    "duration": 915,
    "start_time": "2022-07-09T12:11:37.574Z"
   },
   {
    "duration": 6,
    "start_time": "2022-07-09T12:11:38.491Z"
   },
   {
    "duration": 29,
    "start_time": "2022-07-09T12:11:38.499Z"
   },
   {
    "duration": 118,
    "start_time": "2022-07-09T12:11:38.530Z"
   },
   {
    "duration": 3,
    "start_time": "2022-07-09T12:11:38.650Z"
   },
   {
    "duration": 50,
    "start_time": "2022-07-09T12:11:38.655Z"
   },
   {
    "duration": 93,
    "start_time": "2022-07-09T12:11:38.707Z"
   },
   {
    "duration": 181,
    "start_time": "2022-07-09T12:11:38.802Z"
   },
   {
    "duration": 4,
    "start_time": "2022-07-09T12:11:38.985Z"
   },
   {
    "duration": 1369,
    "start_time": "2022-07-09T12:12:36.368Z"
   },
   {
    "duration": 4,
    "start_time": "2022-07-09T12:12:37.739Z"
   },
   {
    "duration": 965,
    "start_time": "2022-07-09T12:12:37.744Z"
   },
   {
    "duration": 12,
    "start_time": "2022-07-09T12:12:38.711Z"
   },
   {
    "duration": 18,
    "start_time": "2022-07-09T12:12:38.725Z"
   },
   {
    "duration": 106,
    "start_time": "2022-07-09T12:12:38.744Z"
   },
   {
    "duration": 4,
    "start_time": "2022-07-09T12:12:38.852Z"
   },
   {
    "duration": 70,
    "start_time": "2022-07-09T12:12:38.858Z"
   },
   {
    "duration": 106,
    "start_time": "2022-07-09T12:12:38.931Z"
   },
   {
    "duration": 184,
    "start_time": "2022-07-09T12:12:39.041Z"
   },
   {
    "duration": 3,
    "start_time": "2022-07-09T12:12:39.227Z"
   },
   {
    "duration": 1385,
    "start_time": "2022-07-09T12:14:48.372Z"
   },
   {
    "duration": 2,
    "start_time": "2022-07-09T12:14:49.759Z"
   },
   {
    "duration": 914,
    "start_time": "2022-07-09T12:14:49.763Z"
   },
   {
    "duration": 5,
    "start_time": "2022-07-09T12:14:50.678Z"
   },
   {
    "duration": 36,
    "start_time": "2022-07-09T12:14:50.685Z"
   },
   {
    "duration": 100,
    "start_time": "2022-07-09T12:14:50.723Z"
   },
   {
    "duration": 50,
    "start_time": "2022-07-09T12:14:50.825Z"
   },
   {
    "duration": 75,
    "start_time": "2022-07-09T12:14:50.876Z"
   },
   {
    "duration": 153,
    "start_time": "2022-07-09T12:14:50.952Z"
   },
   {
    "duration": 6,
    "start_time": "2022-07-09T12:14:51.106Z"
   },
   {
    "duration": 1462,
    "start_time": "2022-07-09T12:15:24.406Z"
   },
   {
    "duration": 3,
    "start_time": "2022-07-09T12:15:25.869Z"
   },
   {
    "duration": 946,
    "start_time": "2022-07-09T12:15:25.873Z"
   },
   {
    "duration": 5,
    "start_time": "2022-07-09T12:15:26.823Z"
   },
   {
    "duration": 17,
    "start_time": "2022-07-09T12:15:26.830Z"
   },
   {
    "duration": 113,
    "start_time": "2022-07-09T12:15:26.849Z"
   },
   {
    "duration": 42,
    "start_time": "2022-07-09T12:15:26.964Z"
   },
   {
    "duration": 74,
    "start_time": "2022-07-09T12:15:27.007Z"
   },
   {
    "duration": 153,
    "start_time": "2022-07-09T12:15:27.083Z"
   },
   {
    "duration": 3,
    "start_time": "2022-07-09T12:15:27.239Z"
   },
   {
    "duration": 197147,
    "start_time": "2022-07-09T12:15:27.243Z"
   },
   {
    "duration": 536,
    "start_time": "2022-07-09T12:18:44.392Z"
   },
   {
    "duration": 181,
    "start_time": "2022-07-09T12:18:44.930Z"
   },
   {
    "duration": 110,
    "start_time": "2022-07-09T12:18:45.113Z"
   },
   {
    "duration": 284,
    "start_time": "2022-07-09T12:18:45.225Z"
   },
   {
    "duration": 117,
    "start_time": "2022-07-09T12:18:45.524Z"
   },
   {
    "duration": 14285,
    "start_time": "2022-07-09T12:18:45.643Z"
   },
   {
    "duration": 14612,
    "start_time": "2022-07-09T12:18:59.930Z"
   },
   {
    "duration": 211579,
    "start_time": "2022-07-09T12:19:14.544Z"
   },
   {
    "duration": 4,
    "start_time": "2022-07-09T12:22:46.124Z"
   },
   {
    "duration": 43194,
    "start_time": "2022-07-09T12:22:46.129Z"
   },
   {
    "duration": 1536,
    "start_time": "2022-07-09T12:24:45.558Z"
   },
   {
    "duration": 3,
    "start_time": "2022-07-09T12:24:47.096Z"
   },
   {
    "duration": 982,
    "start_time": "2022-07-09T12:24:47.100Z"
   },
   {
    "duration": 5,
    "start_time": "2022-07-09T12:24:48.085Z"
   },
   {
    "duration": 32,
    "start_time": "2022-07-09T12:24:48.092Z"
   },
   {
    "duration": 120,
    "start_time": "2022-07-09T12:24:48.126Z"
   },
   {
    "duration": 44,
    "start_time": "2022-07-09T12:24:48.248Z"
   },
   {
    "duration": 91,
    "start_time": "2022-07-09T12:24:48.294Z"
   },
   {
    "duration": 166,
    "start_time": "2022-07-09T12:24:48.387Z"
   },
   {
    "duration": 3,
    "start_time": "2022-07-09T12:24:48.556Z"
   },
   {
    "duration": 1491,
    "start_time": "2022-07-09T12:25:37.065Z"
   },
   {
    "duration": 3,
    "start_time": "2022-07-09T12:25:38.558Z"
   },
   {
    "duration": 1092,
    "start_time": "2022-07-09T12:25:38.563Z"
   },
   {
    "duration": 7,
    "start_time": "2022-07-09T12:25:39.657Z"
   },
   {
    "duration": 16,
    "start_time": "2022-07-09T12:25:39.666Z"
   },
   {
    "duration": 116,
    "start_time": "2022-07-09T12:25:39.684Z"
   },
   {
    "duration": 54,
    "start_time": "2022-07-09T12:25:39.801Z"
   },
   {
    "duration": 258,
    "start_time": "2022-07-09T12:25:39.858Z"
   },
   {
    "duration": 0,
    "start_time": "2022-07-09T12:25:40.118Z"
   },
   {
    "duration": 0,
    "start_time": "2022-07-09T12:25:40.120Z"
   },
   {
    "duration": 0,
    "start_time": "2022-07-09T12:25:40.129Z"
   },
   {
    "duration": 0,
    "start_time": "2022-07-09T12:25:40.130Z"
   },
   {
    "duration": 0,
    "start_time": "2022-07-09T12:25:40.132Z"
   },
   {
    "duration": 0,
    "start_time": "2022-07-09T12:25:40.133Z"
   },
   {
    "duration": 0,
    "start_time": "2022-07-09T12:25:40.134Z"
   },
   {
    "duration": 0,
    "start_time": "2022-07-09T12:25:40.136Z"
   },
   {
    "duration": 0,
    "start_time": "2022-07-09T12:25:40.137Z"
   },
   {
    "duration": 0,
    "start_time": "2022-07-09T12:25:40.138Z"
   },
   {
    "duration": 0,
    "start_time": "2022-07-09T12:25:40.139Z"
   },
   {
    "duration": 0,
    "start_time": "2022-07-09T12:25:40.140Z"
   },
   {
    "duration": 0,
    "start_time": "2022-07-09T12:25:40.141Z"
   },
   {
    "duration": 0,
    "start_time": "2022-07-09T12:25:40.142Z"
   },
   {
    "duration": 0,
    "start_time": "2022-07-09T12:25:40.143Z"
   },
   {
    "duration": 0,
    "start_time": "2022-07-09T12:25:40.144Z"
   },
   {
    "duration": 0,
    "start_time": "2022-07-09T12:25:40.145Z"
   },
   {
    "duration": 80,
    "start_time": "2022-07-09T12:25:54.179Z"
   },
   {
    "duration": 158,
    "start_time": "2022-07-09T12:26:00.555Z"
   },
   {
    "duration": 72,
    "start_time": "2022-07-09T12:26:26.644Z"
   },
   {
    "duration": 1474,
    "start_time": "2022-07-09T12:28:12.810Z"
   },
   {
    "duration": 3,
    "start_time": "2022-07-09T12:28:14.286Z"
   },
   {
    "duration": 1002,
    "start_time": "2022-07-09T12:28:14.291Z"
   },
   {
    "duration": 5,
    "start_time": "2022-07-09T12:28:15.296Z"
   },
   {
    "duration": 33,
    "start_time": "2022-07-09T12:28:15.303Z"
   },
   {
    "duration": 114,
    "start_time": "2022-07-09T12:28:15.338Z"
   },
   {
    "duration": 43,
    "start_time": "2022-07-09T12:28:15.454Z"
   },
   {
    "duration": 87,
    "start_time": "2022-07-09T12:28:15.499Z"
   },
   {
    "duration": 167,
    "start_time": "2022-07-09T12:28:15.587Z"
   },
   {
    "duration": 4,
    "start_time": "2022-07-09T12:28:15.757Z"
   },
   {
    "duration": 1487,
    "start_time": "2022-07-09T12:31:10.189Z"
   },
   {
    "duration": 3,
    "start_time": "2022-07-09T12:31:11.678Z"
   },
   {
    "duration": 998,
    "start_time": "2022-07-09T12:31:11.682Z"
   },
   {
    "duration": 6,
    "start_time": "2022-07-09T12:31:12.682Z"
   },
   {
    "duration": 18,
    "start_time": "2022-07-09T12:31:12.690Z"
   },
   {
    "duration": 114,
    "start_time": "2022-07-09T12:31:12.723Z"
   },
   {
    "duration": 42,
    "start_time": "2022-07-09T12:31:12.838Z"
   },
   {
    "duration": 94,
    "start_time": "2022-07-09T12:31:12.882Z"
   },
   {
    "duration": 174,
    "start_time": "2022-07-09T12:31:12.977Z"
   },
   {
    "duration": 4,
    "start_time": "2022-07-09T12:31:13.153Z"
   },
   {
    "duration": 603,
    "start_time": "2022-07-09T12:34:47.482Z"
   },
   {
    "duration": 186,
    "start_time": "2022-07-09T12:34:48.087Z"
   },
   {
    "duration": 299,
    "start_time": "2022-07-09T12:34:48.275Z"
   },
   {
    "duration": 125,
    "start_time": "2022-07-09T12:34:48.576Z"
   },
   {
    "duration": 29139,
    "start_time": "2022-07-09T12:34:48.703Z"
   },
   {
    "duration": 15374,
    "start_time": "2022-07-09T12:35:17.926Z"
   },
   {
    "duration": 1611,
    "start_time": "2022-07-09T12:47:25.808Z"
   },
   {
    "duration": 3,
    "start_time": "2022-07-09T12:47:27.422Z"
   },
   {
    "duration": 1040,
    "start_time": "2022-07-09T12:47:27.427Z"
   },
   {
    "duration": 7,
    "start_time": "2022-07-09T12:47:28.470Z"
   },
   {
    "duration": 35,
    "start_time": "2022-07-09T12:47:28.481Z"
   },
   {
    "duration": 107,
    "start_time": "2022-07-09T12:47:28.525Z"
   },
   {
    "duration": 43,
    "start_time": "2022-07-09T12:47:28.634Z"
   },
   {
    "duration": 90,
    "start_time": "2022-07-09T12:47:28.679Z"
   },
   {
    "duration": 186,
    "start_time": "2022-07-09T12:47:28.771Z"
   },
   {
    "duration": 4,
    "start_time": "2022-07-09T12:47:28.959Z"
   },
   {
    "duration": 1778,
    "start_time": "2022-07-09T12:50:29.019Z"
   },
   {
    "duration": 3,
    "start_time": "2022-07-09T12:50:30.799Z"
   },
   {
    "duration": 1079,
    "start_time": "2022-07-09T12:50:30.804Z"
   },
   {
    "duration": 7,
    "start_time": "2022-07-09T12:50:31.885Z"
   },
   {
    "duration": 18,
    "start_time": "2022-07-09T12:50:31.895Z"
   },
   {
    "duration": 137,
    "start_time": "2022-07-09T12:50:31.915Z"
   },
   {
    "duration": 87,
    "start_time": "2022-07-09T12:50:32.057Z"
   },
   {
    "duration": 117,
    "start_time": "2022-07-09T12:50:32.149Z"
   },
   {
    "duration": 4,
    "start_time": "2022-07-09T12:50:32.268Z"
   },
   {
    "duration": 53,
    "start_time": "2022-07-09T12:50:32.274Z"
   },
   {
    "duration": 298554,
    "start_time": "2022-07-09T12:50:32.328Z"
   },
   {
    "duration": 33,
    "start_time": "2022-07-09T12:55:30.884Z"
   },
   {
    "duration": 9,
    "start_time": "2022-07-09T12:55:30.919Z"
   },
   {
    "duration": 188,
    "start_time": "2022-07-09T12:55:30.931Z"
   },
   {
    "duration": 136,
    "start_time": "2022-07-09T12:55:31.123Z"
   },
   {
    "duration": 88,
    "start_time": "2022-07-09T12:55:31.261Z"
   },
   {
    "duration": 201,
    "start_time": "2022-07-09T12:55:31.354Z"
   },
   {
    "duration": 0,
    "start_time": "2022-07-09T12:55:31.557Z"
   },
   {
    "duration": 0,
    "start_time": "2022-07-09T12:55:31.558Z"
   },
   {
    "duration": 0,
    "start_time": "2022-07-09T12:55:31.559Z"
   },
   {
    "duration": 0,
    "start_time": "2022-07-09T12:55:31.561Z"
   },
   {
    "duration": 0,
    "start_time": "2022-07-09T12:55:31.562Z"
   },
   {
    "duration": 0,
    "start_time": "2022-07-09T12:55:31.563Z"
   },
   {
    "duration": 0,
    "start_time": "2022-07-09T12:55:31.566Z"
   },
   {
    "duration": 0,
    "start_time": "2022-07-09T12:55:31.567Z"
   },
   {
    "duration": 26,
    "start_time": "2022-07-09T13:07:56.432Z"
   },
   {
    "duration": 1417,
    "start_time": "2022-07-09T13:08:42.148Z"
   },
   {
    "duration": 3,
    "start_time": "2022-07-09T13:08:43.567Z"
   },
   {
    "duration": 975,
    "start_time": "2022-07-09T13:08:43.571Z"
   },
   {
    "duration": 6,
    "start_time": "2022-07-09T13:08:44.548Z"
   },
   {
    "duration": 18,
    "start_time": "2022-07-09T13:08:44.555Z"
   },
   {
    "duration": 139,
    "start_time": "2022-07-09T13:08:44.575Z"
   },
   {
    "duration": 82,
    "start_time": "2022-07-09T13:08:44.722Z"
   },
   {
    "duration": 134,
    "start_time": "2022-07-09T13:08:44.806Z"
   },
   {
    "duration": 11,
    "start_time": "2022-07-09T13:08:44.942Z"
   },
   {
    "duration": 55,
    "start_time": "2022-07-09T13:08:44.957Z"
   },
   {
    "duration": 1429,
    "start_time": "2022-07-09T13:10:49.954Z"
   },
   {
    "duration": 3,
    "start_time": "2022-07-09T13:10:51.385Z"
   },
   {
    "duration": 965,
    "start_time": "2022-07-09T13:10:51.390Z"
   },
   {
    "duration": 6,
    "start_time": "2022-07-09T13:10:52.357Z"
   },
   {
    "duration": 18,
    "start_time": "2022-07-09T13:10:52.364Z"
   },
   {
    "duration": 124,
    "start_time": "2022-07-09T13:10:52.383Z"
   },
   {
    "duration": 81,
    "start_time": "2022-07-09T13:10:52.509Z"
   },
   {
    "duration": 126,
    "start_time": "2022-07-09T13:10:52.592Z"
   },
   {
    "duration": 44,
    "start_time": "2022-07-09T13:10:52.719Z"
   },
   {
    "duration": 262740,
    "start_time": "2022-07-09T13:10:52.765Z"
   },
   {
    "duration": 38,
    "start_time": "2022-07-09T13:15:15.507Z"
   },
   {
    "duration": 957,
    "start_time": "2022-07-09T13:15:15.546Z"
   },
   {
    "duration": 215,
    "start_time": "2022-07-09T13:15:16.505Z"
   },
   {
    "duration": 427,
    "start_time": "2022-07-09T13:15:16.721Z"
   },
   {
    "duration": 163,
    "start_time": "2022-07-09T13:15:17.150Z"
   },
   {
    "duration": 38706,
    "start_time": "2022-07-09T13:15:17.326Z"
   },
   {
    "duration": 24039,
    "start_time": "2022-07-09T13:15:56.034Z"
   },
   {
    "duration": 137691,
    "start_time": "2022-07-09T13:16:20.074Z"
   },
   {
    "duration": 5,
    "start_time": "2022-07-09T13:18:37.767Z"
   },
   {
    "duration": 81519,
    "start_time": "2022-07-09T13:18:37.773Z"
   },
   {
    "duration": 1294531,
    "start_time": "2022-07-09T13:19:59.294Z"
   },
   {
    "duration": 7115,
    "start_time": "2022-07-09T13:41:33.826Z"
   },
   {
    "duration": 896,
    "start_time": "2022-07-09T13:41:40.943Z"
   },
   {
    "duration": 5,
    "start_time": "2022-07-09T13:41:41.840Z"
   },
   {
    "duration": 1544,
    "start_time": "2022-07-09T16:26:30.477Z"
   },
   {
    "duration": 6,
    "start_time": "2022-07-09T16:26:32.023Z"
   },
   {
    "duration": 1064,
    "start_time": "2022-07-09T16:26:32.031Z"
   },
   {
    "duration": 6,
    "start_time": "2022-07-09T16:26:33.097Z"
   },
   {
    "duration": 55,
    "start_time": "2022-07-09T16:26:33.105Z"
   },
   {
    "duration": 114,
    "start_time": "2022-07-09T16:26:33.162Z"
   },
   {
    "duration": 93,
    "start_time": "2022-07-09T16:26:33.279Z"
   },
   {
    "duration": 123,
    "start_time": "2022-07-09T16:26:33.374Z"
   },
   {
    "duration": 49,
    "start_time": "2022-07-09T16:26:33.499Z"
   },
   {
    "duration": 322736,
    "start_time": "2022-07-09T16:26:33.550Z"
   },
   {
    "duration": 31,
    "start_time": "2022-07-09T16:31:56.287Z"
   },
   {
    "duration": 892,
    "start_time": "2022-07-09T16:31:56.321Z"
   },
   {
    "duration": 242,
    "start_time": "2022-07-09T16:31:57.215Z"
   },
   {
    "duration": 414,
    "start_time": "2022-07-09T16:31:57.460Z"
   },
   {
    "duration": 171,
    "start_time": "2022-07-09T16:31:57.875Z"
   },
   {
    "duration": 57106,
    "start_time": "2022-07-09T16:31:58.052Z"
   },
   {
    "duration": 24254,
    "start_time": "2022-07-09T16:32:55.223Z"
   },
   {
    "duration": 1970203,
    "start_time": "2022-07-09T16:33:19.479Z"
   },
   {
    "duration": 4,
    "start_time": "2022-07-09T17:06:09.683Z"
   },
   {
    "duration": 76386,
    "start_time": "2022-07-09T17:06:09.689Z"
   },
   {
    "duration": 606876,
    "start_time": "2022-07-09T17:07:26.077Z"
   },
   {
    "duration": 44576,
    "start_time": "2022-07-09T17:17:32.956Z"
   },
   {
    "duration": 816,
    "start_time": "2022-07-09T17:18:17.534Z"
   },
   {
    "duration": 5,
    "start_time": "2022-07-09T17:18:18.423Z"
   },
   {
    "duration": 42665,
    "start_time": "2022-07-09T17:25:21.574Z"
   },
   {
    "duration": 4983,
    "start_time": "2022-07-09T17:33:49.050Z"
   },
   {
    "duration": 505,
    "start_time": "2022-07-09T17:33:56.430Z"
   },
   {
    "duration": 519,
    "start_time": "2022-07-09T17:34:26.315Z"
   },
   {
    "duration": 1492,
    "start_time": "2022-07-09T17:39:48.990Z"
   },
   {
    "duration": 2,
    "start_time": "2022-07-09T17:39:50.485Z"
   },
   {
    "duration": 984,
    "start_time": "2022-07-09T17:39:50.489Z"
   },
   {
    "duration": 5,
    "start_time": "2022-07-09T17:39:51.476Z"
   },
   {
    "duration": 19,
    "start_time": "2022-07-09T17:39:51.483Z"
   },
   {
    "duration": 131,
    "start_time": "2022-07-09T17:39:51.504Z"
   },
   {
    "duration": 87,
    "start_time": "2022-07-09T17:39:51.637Z"
   },
   {
    "duration": 117,
    "start_time": "2022-07-09T17:39:51.726Z"
   },
   {
    "duration": 43,
    "start_time": "2022-07-09T17:39:51.845Z"
   },
   {
    "duration": 255335,
    "start_time": "2022-07-09T17:39:51.891Z"
   },
   {
    "duration": 34,
    "start_time": "2022-07-09T17:44:07.228Z"
   },
   {
    "duration": 986,
    "start_time": "2022-07-09T17:44:07.263Z"
   },
   {
    "duration": 230,
    "start_time": "2022-07-09T17:44:08.251Z"
   },
   {
    "duration": 433,
    "start_time": "2022-07-09T17:44:08.482Z"
   },
   {
    "duration": 257,
    "start_time": "2022-07-09T17:44:08.917Z"
   },
   {
    "duration": 19347,
    "start_time": "2022-07-09T17:44:09.176Z"
   },
   {
    "duration": 22630,
    "start_time": "2022-07-09T17:44:28.525Z"
   },
   {
    "duration": 1512767,
    "start_time": "2022-07-09T17:44:51.157Z"
   },
   {
    "duration": 3,
    "start_time": "2022-07-09T18:10:03.926Z"
   },
   {
    "duration": 74182,
    "start_time": "2022-07-09T18:10:03.931Z"
   },
   {
    "duration": 46807,
    "start_time": "2022-07-09T18:11:18.116Z"
   },
   {
    "duration": 12204,
    "start_time": "2022-07-09T18:12:04.925Z"
   },
   {
    "duration": 593,
    "start_time": "2022-07-09T18:12:17.130Z"
   },
   {
    "duration": 47,
    "start_time": "2022-07-09T18:12:17.725Z"
   },
   {
    "duration": 0,
    "start_time": "2022-07-09T18:12:17.774Z"
   },
   {
    "duration": 6,
    "start_time": "2022-07-09T18:32:49.161Z"
   },
   {
    "duration": 47,
    "start_time": "2022-07-16T21:20:09.273Z"
   },
   {
    "duration": 1547,
    "start_time": "2022-07-16T21:20:16.431Z"
   },
   {
    "duration": 2,
    "start_time": "2022-07-16T21:20:17.980Z"
   },
   {
    "duration": 1193,
    "start_time": "2022-07-16T21:20:17.984Z"
   },
   {
    "duration": 6,
    "start_time": "2022-07-16T21:20:19.182Z"
   },
   {
    "duration": 19,
    "start_time": "2022-07-16T21:20:19.191Z"
   },
   {
    "duration": 123,
    "start_time": "2022-07-16T21:20:19.212Z"
   },
   {
    "duration": 94,
    "start_time": "2022-07-16T21:20:19.337Z"
   },
   {
    "duration": 126,
    "start_time": "2022-07-16T21:20:19.432Z"
   },
   {
    "duration": 38,
    "start_time": "2022-07-16T21:20:19.559Z"
   },
   {
    "duration": 355,
    "start_time": "2022-07-16T21:20:19.599Z"
   },
   {
    "duration": 239545,
    "start_time": "2022-07-16T21:20:19.955Z"
   },
   {
    "duration": 33,
    "start_time": "2022-07-16T21:24:19.501Z"
   },
   {
    "duration": 744,
    "start_time": "2022-07-16T21:24:19.536Z"
   },
   {
    "duration": 219,
    "start_time": "2022-07-16T21:24:20.283Z"
   },
   {
    "duration": 358,
    "start_time": "2022-07-16T21:24:20.503Z"
   },
   {
    "duration": 154,
    "start_time": "2022-07-16T21:24:20.862Z"
   },
   {
    "duration": 19194,
    "start_time": "2022-07-16T21:24:21.017Z"
   },
   {
    "duration": 21643,
    "start_time": "2022-07-16T21:24:40.310Z"
   },
   {
    "duration": 1352,
    "start_time": "2022-07-16T21:30:09.936Z"
   },
   {
    "duration": 2,
    "start_time": "2022-07-16T21:30:11.290Z"
   },
   {
    "duration": 973,
    "start_time": "2022-07-16T21:30:11.294Z"
   },
   {
    "duration": 5,
    "start_time": "2022-07-16T21:30:12.269Z"
   },
   {
    "duration": 23,
    "start_time": "2022-07-16T21:30:12.276Z"
   },
   {
    "duration": 119,
    "start_time": "2022-07-16T21:30:12.301Z"
   },
   {
    "duration": 99,
    "start_time": "2022-07-16T21:30:12.422Z"
   },
   {
    "duration": 127,
    "start_time": "2022-07-16T21:30:12.523Z"
   },
   {
    "duration": 42,
    "start_time": "2022-07-16T21:30:12.652Z"
   },
   {
    "duration": 332,
    "start_time": "2022-07-16T21:30:12.709Z"
   },
   {
    "duration": 237685,
    "start_time": "2022-07-16T21:30:13.043Z"
   },
   {
    "duration": 34,
    "start_time": "2022-07-16T21:34:10.730Z"
   },
   {
    "duration": 841,
    "start_time": "2022-07-16T21:34:10.765Z"
   },
   {
    "duration": 220,
    "start_time": "2022-07-16T21:34:11.610Z"
   },
   {
    "duration": 378,
    "start_time": "2022-07-16T21:34:11.832Z"
   },
   {
    "duration": 147,
    "start_time": "2022-07-16T21:34:12.212Z"
   },
   {
    "duration": 28950,
    "start_time": "2022-07-16T21:34:12.360Z"
   },
   {
    "duration": 22065,
    "start_time": "2022-07-16T21:34:41.313Z"
   },
   {
    "duration": 395683,
    "start_time": "2022-07-16T21:35:03.379Z"
   },
   {
    "duration": 3,
    "start_time": "2022-07-16T21:41:39.064Z"
   },
   {
    "duration": 68135,
    "start_time": "2022-07-16T21:41:39.068Z"
   },
   {
    "duration": 16519,
    "start_time": "2022-07-16T21:42:47.205Z"
   },
   {
    "duration": 5085,
    "start_time": "2022-07-16T21:43:03.726Z"
   },
   {
    "duration": 510,
    "start_time": "2022-07-16T21:43:08.813Z"
   },
   {
    "duration": 4,
    "start_time": "2022-07-16T21:43:09.325Z"
   },
   {
    "duration": 206,
    "start_time": "2022-07-16T21:43:09.577Z"
   },
   {
    "duration": 115,
    "start_time": "2022-07-16T22:58:42.955Z"
   },
   {
    "duration": 7,
    "start_time": "2022-07-16T22:59:03.022Z"
   },
   {
    "duration": 6812,
    "start_time": "2022-07-16T22:59:07.866Z"
   },
   {
    "duration": 7067,
    "start_time": "2022-07-16T23:02:59.163Z"
   },
   {
    "duration": 10,
    "start_time": "2022-07-16T23:07:29.321Z"
   },
   {
    "duration": 196,
    "start_time": "2022-07-16T23:07:39.626Z"
   },
   {
    "duration": 48,
    "start_time": "2022-07-16T23:08:29.773Z"
   },
   {
    "duration": 1381,
    "start_time": "2022-07-16T23:08:47.959Z"
   },
   {
    "duration": 77,
    "start_time": "2022-07-16T23:09:04.266Z"
   },
   {
    "duration": 10,
    "start_time": "2022-07-16T23:09:07.732Z"
   },
   {
    "duration": 9,
    "start_time": "2022-07-16T23:09:08.392Z"
   },
   {
    "duration": 10,
    "start_time": "2022-07-16T23:13:28.718Z"
   },
   {
    "duration": 1329,
    "start_time": "2022-07-16T23:15:58.970Z"
   },
   {
    "duration": 3,
    "start_time": "2022-07-16T23:16:00.301Z"
   },
   {
    "duration": 1358,
    "start_time": "2022-07-16T23:16:00.305Z"
   },
   {
    "duration": 6,
    "start_time": "2022-07-16T23:16:01.665Z"
   },
   {
    "duration": 25,
    "start_time": "2022-07-16T23:16:01.673Z"
   },
   {
    "duration": 135,
    "start_time": "2022-07-16T23:16:01.700Z"
   },
   {
    "duration": 95,
    "start_time": "2022-07-16T23:16:01.837Z"
   },
   {
    "duration": 136,
    "start_time": "2022-07-16T23:16:01.934Z"
   },
   {
    "duration": 52,
    "start_time": "2022-07-16T23:16:02.071Z"
   },
   {
    "duration": 205,
    "start_time": "2022-07-16T23:16:02.125Z"
   },
   {
    "duration": 230033,
    "start_time": "2022-07-16T23:16:02.331Z"
   },
   {
    "duration": 33,
    "start_time": "2022-07-16T23:19:52.365Z"
   },
   {
    "duration": 143,
    "start_time": "2022-07-16T23:19:52.399Z"
   },
   {
    "duration": 890,
    "start_time": "2022-07-16T23:19:52.545Z"
   },
   {
    "duration": 648,
    "start_time": "2022-07-16T23:19:53.437Z"
   },
   {
    "duration": 455,
    "start_time": "2022-07-16T23:19:54.086Z"
   },
   {
    "duration": 154,
    "start_time": "2022-07-16T23:19:54.543Z"
   },
   {
    "duration": 74,
    "start_time": "2022-07-16T23:19:54.699Z"
   },
   {
    "duration": 64,
    "start_time": "2022-07-16T23:19:54.775Z"
   },
   {
    "duration": 113,
    "start_time": "2022-07-16T23:19:54.841Z"
   },
   {
    "duration": 0,
    "start_time": "2022-07-16T23:19:54.956Z"
   },
   {
    "duration": 0,
    "start_time": "2022-07-16T23:19:54.957Z"
   },
   {
    "duration": 0,
    "start_time": "2022-07-16T23:19:54.958Z"
   },
   {
    "duration": 0,
    "start_time": "2022-07-16T23:19:54.959Z"
   },
   {
    "duration": 0,
    "start_time": "2022-07-16T23:19:54.961Z"
   },
   {
    "duration": 0,
    "start_time": "2022-07-16T23:19:54.961Z"
   },
   {
    "duration": 0,
    "start_time": "2022-07-16T23:19:54.963Z"
   },
   {
    "duration": 0,
    "start_time": "2022-07-16T23:19:54.964Z"
   },
   {
    "duration": 0,
    "start_time": "2022-07-16T23:19:54.965Z"
   },
   {
    "duration": 19296,
    "start_time": "2022-07-16T23:23:36.017Z"
   },
   {
    "duration": 2541,
    "start_time": "2022-07-16T23:26:09.921Z"
   },
   {
    "duration": 7259,
    "start_time": "2022-07-16T23:26:31.260Z"
   },
   {
    "duration": 4,
    "start_time": "2022-07-16T23:27:05.070Z"
   },
   {
    "duration": 8982,
    "start_time": "2022-07-16T23:27:06.009Z"
   },
   {
    "duration": 3,
    "start_time": "2022-07-16T23:28:41.070Z"
   },
   {
    "duration": 9140,
    "start_time": "2022-07-16T23:29:36.481Z"
   },
   {
    "duration": 10715,
    "start_time": "2022-07-16T23:29:50.616Z"
   },
   {
    "duration": 206,
    "start_time": "2022-07-16T23:33:54.539Z"
   },
   {
    "duration": 201,
    "start_time": "2022-07-16T23:39:23.368Z"
   },
   {
    "duration": 203,
    "start_time": "2022-07-16T23:39:29.346Z"
   },
   {
    "duration": 203,
    "start_time": "2022-07-16T23:39:42.197Z"
   },
   {
    "duration": 233,
    "start_time": "2022-07-16T23:39:54.447Z"
   },
   {
    "duration": 230,
    "start_time": "2022-07-16T23:40:13.393Z"
   },
   {
    "duration": 208,
    "start_time": "2022-07-16T23:40:50.729Z"
   },
   {
    "duration": 217,
    "start_time": "2022-07-16T23:40:59.958Z"
   },
   {
    "duration": 231847,
    "start_time": "2022-07-16T23:50:52.655Z"
   },
   {
    "duration": 35,
    "start_time": "2022-07-16T23:54:44.509Z"
   },
   {
    "duration": 36,
    "start_time": "2022-07-16T23:55:02.812Z"
   },
   {
    "duration": 27,
    "start_time": "2022-07-16T23:55:14.136Z"
   },
   {
    "duration": 27,
    "start_time": "2022-07-16T23:55:35.130Z"
   },
   {
    "duration": 26,
    "start_time": "2022-07-16T23:55:45.070Z"
   },
   {
    "duration": 27,
    "start_time": "2022-07-16T23:55:55.601Z"
   },
   {
    "duration": 27,
    "start_time": "2022-07-16T23:58:10.070Z"
   },
   {
    "duration": 25,
    "start_time": "2022-07-16T23:58:18.954Z"
   },
   {
    "duration": 27,
    "start_time": "2022-07-16T23:58:30.245Z"
   },
   {
    "duration": 8,
    "start_time": "2022-07-17T00:04:34.318Z"
   },
   {
    "duration": 7,
    "start_time": "2022-07-17T00:04:40.147Z"
   },
   {
    "duration": 8,
    "start_time": "2022-07-17T00:04:45.040Z"
   },
   {
    "duration": 7,
    "start_time": "2022-07-17T00:04:53.128Z"
   },
   {
    "duration": 28,
    "start_time": "2022-07-17T00:05:30.443Z"
   },
   {
    "duration": 26,
    "start_time": "2022-07-17T00:06:01.756Z"
   },
   {
    "duration": 8,
    "start_time": "2022-07-17T00:06:09.767Z"
   },
   {
    "duration": 9,
    "start_time": "2022-07-17T00:06:30.868Z"
   },
   {
    "duration": 27,
    "start_time": "2022-07-17T00:06:45.623Z"
   },
   {
    "duration": 9,
    "start_time": "2022-07-17T00:06:46.273Z"
   },
   {
    "duration": 26,
    "start_time": "2022-07-17T00:06:52.047Z"
   },
   {
    "duration": 9,
    "start_time": "2022-07-17T00:06:54.781Z"
   },
   {
    "duration": 28,
    "start_time": "2022-07-17T00:07:37.368Z"
   },
   {
    "duration": 8,
    "start_time": "2022-07-17T00:08:30.027Z"
   },
   {
    "duration": 8,
    "start_time": "2022-07-17T00:08:33.636Z"
   },
   {
    "duration": 8,
    "start_time": "2022-07-17T00:08:41.735Z"
   },
   {
    "duration": 8,
    "start_time": "2022-07-17T00:08:45.066Z"
   },
   {
    "duration": 8,
    "start_time": "2022-07-17T00:08:48.606Z"
   },
   {
    "duration": 9,
    "start_time": "2022-07-17T00:08:53.048Z"
   },
   {
    "duration": 8,
    "start_time": "2022-07-17T00:08:56.828Z"
   },
   {
    "duration": 9,
    "start_time": "2022-07-17T00:08:59.726Z"
   },
   {
    "duration": 8,
    "start_time": "2022-07-17T00:09:04.524Z"
   },
   {
    "duration": 27,
    "start_time": "2022-07-17T00:10:03.764Z"
   },
   {
    "duration": 25,
    "start_time": "2022-07-17T00:13:05.805Z"
   },
   {
    "duration": 9,
    "start_time": "2022-07-17T00:13:10.008Z"
   },
   {
    "duration": 24,
    "start_time": "2022-07-17T00:13:25.847Z"
   },
   {
    "duration": 9,
    "start_time": "2022-07-17T00:13:26.496Z"
   },
   {
    "duration": 8,
    "start_time": "2022-07-17T00:13:37.833Z"
   },
   {
    "duration": 4,
    "start_time": "2022-07-17T00:14:05.319Z"
   },
   {
    "duration": 34,
    "start_time": "2022-07-17T00:14:22.029Z"
   },
   {
    "duration": 6,
    "start_time": "2022-07-17T00:16:05.832Z"
   },
   {
    "duration": 6,
    "start_time": "2022-07-17T00:16:17.145Z"
   },
   {
    "duration": 7,
    "start_time": "2022-07-17T00:16:31.921Z"
   },
   {
    "duration": 9,
    "start_time": "2022-07-17T00:16:40.368Z"
   },
   {
    "duration": 26,
    "start_time": "2022-07-17T00:18:40.699Z"
   },
   {
    "duration": 14,
    "start_time": "2022-07-17T00:19:32.370Z"
   },
   {
    "duration": 83,
    "start_time": "2022-07-17T00:19:50.295Z"
   },
   {
    "duration": 18,
    "start_time": "2022-07-17T00:20:02.109Z"
   },
   {
    "duration": 17,
    "start_time": "2022-07-17T00:20:15.938Z"
   },
   {
    "duration": 12,
    "start_time": "2022-07-17T00:22:44.341Z"
   },
   {
    "duration": 9,
    "start_time": "2022-07-17T00:22:44.848Z"
   },
   {
    "duration": 8,
    "start_time": "2022-07-17T00:23:05.986Z"
   },
   {
    "duration": 8,
    "start_time": "2022-07-17T00:23:18.981Z"
   },
   {
    "duration": 6,
    "start_time": "2022-07-17T00:23:31.900Z"
   },
   {
    "duration": 5,
    "start_time": "2022-07-17T00:23:32.237Z"
   },
   {
    "duration": 7,
    "start_time": "2022-07-17T00:23:47.353Z"
   },
   {
    "duration": 8,
    "start_time": "2022-07-17T00:23:55.058Z"
   },
   {
    "duration": 6,
    "start_time": "2022-07-17T00:24:27.947Z"
   },
   {
    "duration": 9,
    "start_time": "2022-07-17T00:24:39.751Z"
   },
   {
    "duration": 5,
    "start_time": "2022-07-17T00:25:28.265Z"
   },
   {
    "duration": 7,
    "start_time": "2022-07-17T00:25:45.839Z"
   },
   {
    "duration": 24,
    "start_time": "2022-07-17T00:26:13.584Z"
   },
   {
    "duration": 9,
    "start_time": "2022-07-17T00:26:29.437Z"
   },
   {
    "duration": 9,
    "start_time": "2022-07-17T00:26:46.123Z"
   },
   {
    "duration": 7,
    "start_time": "2022-07-17T00:26:53.192Z"
   },
   {
    "duration": 7,
    "start_time": "2022-07-17T00:26:57.512Z"
   },
   {
    "duration": 6,
    "start_time": "2022-07-17T00:26:59.214Z"
   },
   {
    "duration": 9,
    "start_time": "2022-07-17T00:27:13.003Z"
   },
   {
    "duration": 1304,
    "start_time": "2022-07-17T00:27:42.362Z"
   },
   {
    "duration": 2,
    "start_time": "2022-07-17T00:27:43.668Z"
   },
   {
    "duration": 900,
    "start_time": "2022-07-17T00:27:43.671Z"
   },
   {
    "duration": 5,
    "start_time": "2022-07-17T00:27:44.573Z"
   },
   {
    "duration": 18,
    "start_time": "2022-07-17T00:27:44.580Z"
   },
   {
    "duration": 112,
    "start_time": "2022-07-17T00:27:44.599Z"
   },
   {
    "duration": 75,
    "start_time": "2022-07-17T00:27:44.713Z"
   },
   {
    "duration": 129,
    "start_time": "2022-07-17T00:27:44.789Z"
   },
   {
    "duration": 31,
    "start_time": "2022-07-17T00:27:44.920Z"
   },
   {
    "duration": 217,
    "start_time": "2022-07-17T00:27:44.952Z"
   },
   {
    "duration": 97,
    "start_time": "2022-07-17T00:27:45.171Z"
   },
   {
    "duration": 30,
    "start_time": "2022-07-17T00:27:45.270Z"
   },
   {
    "duration": 31,
    "start_time": "2022-07-17T00:27:45.309Z"
   },
   {
    "duration": 3,
    "start_time": "2022-07-17T00:27:45.343Z"
   },
   {
    "duration": 1335,
    "start_time": "2022-07-17T00:31:03.468Z"
   },
   {
    "duration": 3,
    "start_time": "2022-07-17T00:31:04.805Z"
   },
   {
    "duration": 952,
    "start_time": "2022-07-17T00:31:04.810Z"
   },
   {
    "duration": 5,
    "start_time": "2022-07-17T00:31:05.764Z"
   },
   {
    "duration": 16,
    "start_time": "2022-07-17T00:31:05.771Z"
   },
   {
    "duration": 122,
    "start_time": "2022-07-17T00:31:05.788Z"
   },
   {
    "duration": 80,
    "start_time": "2022-07-17T00:31:05.912Z"
   },
   {
    "duration": 141,
    "start_time": "2022-07-17T00:31:05.994Z"
   },
   {
    "duration": 34,
    "start_time": "2022-07-17T00:31:06.138Z"
   },
   {
    "duration": 223,
    "start_time": "2022-07-17T00:31:06.174Z"
   },
   {
    "duration": 99,
    "start_time": "2022-07-17T00:31:06.400Z"
   },
   {
    "duration": 38,
    "start_time": "2022-07-17T00:31:06.500Z"
   },
   {
    "duration": 32,
    "start_time": "2022-07-17T00:31:06.540Z"
   },
   {
    "duration": 4,
    "start_time": "2022-07-17T00:31:06.574Z"
   },
   {
    "duration": 38,
    "start_time": "2022-07-17T00:31:06.579Z"
   },
   {
    "duration": 204090,
    "start_time": "2022-07-17T00:31:06.618Z"
   },
   {
    "duration": 25,
    "start_time": "2022-07-17T00:34:30.710Z"
   },
   {
    "duration": 126,
    "start_time": "2022-07-17T00:34:30.736Z"
   },
   {
    "duration": 596,
    "start_time": "2022-07-17T00:34:30.864Z"
   },
   {
    "duration": 581,
    "start_time": "2022-07-17T00:34:31.462Z"
   },
   {
    "duration": 390,
    "start_time": "2022-07-17T00:34:32.046Z"
   },
   {
    "duration": 136,
    "start_time": "2022-07-17T00:34:32.437Z"
   },
   {
    "duration": 82,
    "start_time": "2022-07-17T00:34:32.575Z"
   },
   {
    "duration": 68,
    "start_time": "2022-07-17T00:34:32.658Z"
   },
   {
    "duration": 15282,
    "start_time": "2022-07-17T00:34:32.727Z"
   },
   {
    "duration": 1880,
    "start_time": "2022-07-17T00:34:48.012Z"
   },
   {
    "duration": 45,
    "start_time": "2022-07-17T20:42:13.017Z"
   },
   {
    "duration": 1525,
    "start_time": "2022-07-17T20:42:18.868Z"
   },
   {
    "duration": 3,
    "start_time": "2022-07-17T20:42:20.395Z"
   },
   {
    "duration": 1230,
    "start_time": "2022-07-17T20:42:20.400Z"
   },
   {
    "duration": 6,
    "start_time": "2022-07-17T20:42:21.632Z"
   },
   {
    "duration": 15,
    "start_time": "2022-07-17T20:42:21.641Z"
   },
   {
    "duration": 118,
    "start_time": "2022-07-17T20:42:21.658Z"
   },
   {
    "duration": 85,
    "start_time": "2022-07-17T20:42:21.778Z"
   },
   {
    "duration": 106,
    "start_time": "2022-07-17T20:42:21.864Z"
   },
   {
    "duration": 49,
    "start_time": "2022-07-17T20:42:21.972Z"
   },
   {
    "duration": 177,
    "start_time": "2022-07-17T20:42:22.022Z"
   },
   {
    "duration": 85,
    "start_time": "2022-07-17T20:42:22.201Z"
   },
   {
    "duration": 40,
    "start_time": "2022-07-17T20:42:22.287Z"
   },
   {
    "duration": 29,
    "start_time": "2022-07-17T20:42:22.329Z"
   },
   {
    "duration": 314,
    "start_time": "2022-07-17T20:42:22.361Z"
   },
   {
    "duration": 4,
    "start_time": "2022-07-17T20:42:22.676Z"
   },
   {
    "duration": 28,
    "start_time": "2022-07-17T20:42:22.681Z"
   },
   {
    "duration": 1310,
    "start_time": "2022-07-17T20:43:39.043Z"
   },
   {
    "duration": 2,
    "start_time": "2022-07-17T20:43:40.355Z"
   },
   {
    "duration": 849,
    "start_time": "2022-07-17T20:43:40.358Z"
   },
   {
    "duration": 4,
    "start_time": "2022-07-17T20:43:41.209Z"
   },
   {
    "duration": 16,
    "start_time": "2022-07-17T20:43:41.215Z"
   },
   {
    "duration": 111,
    "start_time": "2022-07-17T20:43:41.233Z"
   },
   {
    "duration": 71,
    "start_time": "2022-07-17T20:43:41.345Z"
   },
   {
    "duration": 111,
    "start_time": "2022-07-17T20:43:41.417Z"
   },
   {
    "duration": 39,
    "start_time": "2022-07-17T20:43:41.530Z"
   },
   {
    "duration": 183,
    "start_time": "2022-07-17T20:43:41.572Z"
   },
   {
    "duration": 92,
    "start_time": "2022-07-17T20:43:41.756Z"
   },
   {
    "duration": 30,
    "start_time": "2022-07-17T20:43:41.850Z"
   },
   {
    "duration": 3,
    "start_time": "2022-07-17T20:43:41.881Z"
   },
   {
    "duration": 315,
    "start_time": "2022-07-17T20:43:41.900Z"
   },
   {
    "duration": 4,
    "start_time": "2022-07-17T20:43:42.216Z"
   },
   {
    "duration": 16,
    "start_time": "2022-07-17T20:43:42.221Z"
   },
   {
    "duration": 208977,
    "start_time": "2022-07-17T20:43:42.239Z"
   },
   {
    "duration": 31,
    "start_time": "2022-07-17T20:47:11.218Z"
   },
   {
    "duration": 102,
    "start_time": "2022-07-17T20:47:11.250Z"
   },
   {
    "duration": 572,
    "start_time": "2022-07-17T20:47:11.353Z"
   },
   {
    "duration": 508,
    "start_time": "2022-07-17T20:47:11.927Z"
   },
   {
    "duration": 379,
    "start_time": "2022-07-17T20:47:12.437Z"
   },
   {
    "duration": 134,
    "start_time": "2022-07-17T20:47:12.818Z"
   },
   {
    "duration": 81,
    "start_time": "2022-07-17T20:47:12.953Z"
   },
   {
    "duration": 70,
    "start_time": "2022-07-17T20:47:13.035Z"
   },
   {
    "duration": 22704,
    "start_time": "2022-07-17T20:47:13.106Z"
   },
   {
    "duration": 1818,
    "start_time": "2022-07-17T20:47:35.901Z"
   },
   {
    "duration": 179564,
    "start_time": "2022-07-17T20:47:37.722Z"
   },
   {
    "duration": 3,
    "start_time": "2022-07-17T20:50:37.288Z"
   },
   {
    "duration": 7122,
    "start_time": "2022-07-17T20:50:37.300Z"
   },
   {
    "duration": 1318,
    "start_time": "2022-07-17T20:50:48.716Z"
   },
   {
    "duration": 3,
    "start_time": "2022-07-17T20:50:50.036Z"
   },
   {
    "duration": 847,
    "start_time": "2022-07-17T20:50:50.040Z"
   },
   {
    "duration": 4,
    "start_time": "2022-07-17T20:50:50.889Z"
   },
   {
    "duration": 13,
    "start_time": "2022-07-17T20:50:50.900Z"
   },
   {
    "duration": 107,
    "start_time": "2022-07-17T20:50:50.915Z"
   },
   {
    "duration": 76,
    "start_time": "2022-07-17T20:50:51.024Z"
   },
   {
    "duration": 104,
    "start_time": "2022-07-17T20:50:51.102Z"
   },
   {
    "duration": 37,
    "start_time": "2022-07-17T20:50:51.208Z"
   },
   {
    "duration": 184,
    "start_time": "2022-07-17T20:50:51.247Z"
   },
   {
    "duration": 100,
    "start_time": "2022-07-17T20:50:51.432Z"
   },
   {
    "duration": 29,
    "start_time": "2022-07-17T20:50:51.534Z"
   },
   {
    "duration": 4,
    "start_time": "2022-07-17T20:50:51.565Z"
   },
   {
    "duration": 231,
    "start_time": "2022-07-17T20:50:51.570Z"
   },
   {
    "duration": 0,
    "start_time": "2022-07-17T20:50:51.802Z"
   },
   {
    "duration": 0,
    "start_time": "2022-07-17T20:50:51.804Z"
   },
   {
    "duration": 0,
    "start_time": "2022-07-17T20:50:51.805Z"
   },
   {
    "duration": 0,
    "start_time": "2022-07-17T20:50:51.806Z"
   },
   {
    "duration": 0,
    "start_time": "2022-07-17T20:50:51.807Z"
   },
   {
    "duration": 0,
    "start_time": "2022-07-17T20:50:51.808Z"
   },
   {
    "duration": 0,
    "start_time": "2022-07-17T20:50:51.809Z"
   },
   {
    "duration": 0,
    "start_time": "2022-07-17T20:50:51.810Z"
   },
   {
    "duration": 0,
    "start_time": "2022-07-17T20:50:51.811Z"
   },
   {
    "duration": 0,
    "start_time": "2022-07-17T20:50:51.812Z"
   },
   {
    "duration": 0,
    "start_time": "2022-07-17T20:50:51.813Z"
   },
   {
    "duration": 0,
    "start_time": "2022-07-17T20:50:51.814Z"
   },
   {
    "duration": 0,
    "start_time": "2022-07-17T20:50:51.815Z"
   },
   {
    "duration": 0,
    "start_time": "2022-07-17T20:50:51.817Z"
   },
   {
    "duration": 0,
    "start_time": "2022-07-17T20:50:51.817Z"
   },
   {
    "duration": 0,
    "start_time": "2022-07-17T20:50:51.818Z"
   },
   {
    "duration": 0,
    "start_time": "2022-07-17T20:50:51.820Z"
   },
   {
    "duration": 0,
    "start_time": "2022-07-17T20:50:51.821Z"
   },
   {
    "duration": 0,
    "start_time": "2022-07-17T20:50:51.822Z"
   },
   {
    "duration": 0,
    "start_time": "2022-07-17T20:50:51.823Z"
   },
   {
    "duration": 4,
    "start_time": "2022-07-17T20:51:24.661Z"
   },
   {
    "duration": 108,
    "start_time": "2022-07-17T20:51:33.951Z"
   },
   {
    "duration": 119,
    "start_time": "2022-07-17T20:52:32.208Z"
   },
   {
    "duration": 127,
    "start_time": "2022-07-17T20:52:45.167Z"
   },
   {
    "duration": 177,
    "start_time": "2022-07-17T20:53:26.541Z"
   },
   {
    "duration": 33,
    "start_time": "2022-07-17T20:54:21.886Z"
   },
   {
    "duration": 109,
    "start_time": "2022-07-17T20:54:45.210Z"
   },
   {
    "duration": 100,
    "start_time": "2022-07-17T20:54:58.879Z"
   },
   {
    "duration": 100,
    "start_time": "2022-07-17T20:55:27.926Z"
   },
   {
    "duration": 1338,
    "start_time": "2022-07-17T20:55:47.931Z"
   },
   {
    "duration": 2,
    "start_time": "2022-07-17T20:55:49.271Z"
   },
   {
    "duration": 872,
    "start_time": "2022-07-17T20:55:49.275Z"
   },
   {
    "duration": 5,
    "start_time": "2022-07-17T20:55:50.149Z"
   },
   {
    "duration": 17,
    "start_time": "2022-07-17T20:55:50.156Z"
   },
   {
    "duration": 103,
    "start_time": "2022-07-17T20:55:50.174Z"
   },
   {
    "duration": 76,
    "start_time": "2022-07-17T20:55:50.279Z"
   },
   {
    "duration": 114,
    "start_time": "2022-07-17T20:55:50.357Z"
   },
   {
    "duration": 36,
    "start_time": "2022-07-17T20:55:50.473Z"
   },
   {
    "duration": 173,
    "start_time": "2022-07-17T20:55:50.511Z"
   },
   {
    "duration": 92,
    "start_time": "2022-07-17T20:55:50.686Z"
   },
   {
    "duration": 43,
    "start_time": "2022-07-17T20:55:50.780Z"
   },
   {
    "duration": 130,
    "start_time": "2022-07-17T20:55:50.824Z"
   },
   {
    "duration": 28,
    "start_time": "2022-07-17T20:55:50.957Z"
   },
   {
    "duration": 14,
    "start_time": "2022-07-17T20:55:50.987Z"
   },
   {
    "duration": 18,
    "start_time": "2022-07-17T20:55:51.002Z"
   },
   {
    "duration": 208738,
    "start_time": "2022-07-17T20:55:51.022Z"
   },
   {
    "duration": 32,
    "start_time": "2022-07-17T20:59:19.762Z"
   },
   {
    "duration": 100,
    "start_time": "2022-07-17T20:59:19.795Z"
   },
   {
    "duration": 628,
    "start_time": "2022-07-17T20:59:19.900Z"
   },
   {
    "duration": 559,
    "start_time": "2022-07-17T20:59:20.529Z"
   },
   {
    "duration": 394,
    "start_time": "2022-07-17T20:59:21.090Z"
   },
   {
    "duration": 133,
    "start_time": "2022-07-17T20:59:21.500Z"
   },
   {
    "duration": 86,
    "start_time": "2022-07-17T20:59:21.635Z"
   },
   {
    "duration": 79,
    "start_time": "2022-07-17T20:59:21.723Z"
   },
   {
    "duration": 15104,
    "start_time": "2022-07-17T20:59:21.804Z"
   },
   {
    "duration": 1930,
    "start_time": "2022-07-17T20:59:36.910Z"
   },
   {
    "duration": 1303,
    "start_time": "2022-07-17T21:00:29.147Z"
   },
   {
    "duration": 2,
    "start_time": "2022-07-17T21:00:30.452Z"
   },
   {
    "duration": 895,
    "start_time": "2022-07-17T21:00:30.455Z"
   },
   {
    "duration": 5,
    "start_time": "2022-07-17T21:00:31.352Z"
   },
   {
    "duration": 37,
    "start_time": "2022-07-17T21:00:31.359Z"
   },
   {
    "duration": 107,
    "start_time": "2022-07-17T21:00:31.397Z"
   },
   {
    "duration": 67,
    "start_time": "2022-07-17T21:00:31.506Z"
   },
   {
    "duration": 116,
    "start_time": "2022-07-17T21:00:31.575Z"
   },
   {
    "duration": 40,
    "start_time": "2022-07-17T21:00:31.692Z"
   },
   {
    "duration": 172,
    "start_time": "2022-07-17T21:00:31.733Z"
   },
   {
    "duration": 100,
    "start_time": "2022-07-17T21:00:31.907Z"
   },
   {
    "duration": 32,
    "start_time": "2022-07-17T21:00:32.009Z"
   },
   {
    "duration": 132,
    "start_time": "2022-07-17T21:00:32.043Z"
   },
   {
    "duration": 35,
    "start_time": "2022-07-17T21:00:32.178Z"
   },
   {
    "duration": 3,
    "start_time": "2022-07-17T21:00:32.215Z"
   },
   {
    "duration": 67,
    "start_time": "2022-07-17T21:00:32.219Z"
   },
   {
    "duration": 206017,
    "start_time": "2022-07-17T21:00:32.287Z"
   },
   {
    "duration": 26,
    "start_time": "2022-07-17T21:03:58.306Z"
   },
   {
    "duration": 112,
    "start_time": "2022-07-17T21:03:58.334Z"
   },
   {
    "duration": 572,
    "start_time": "2022-07-17T21:03:58.448Z"
   },
   {
    "duration": 507,
    "start_time": "2022-07-17T21:03:59.022Z"
   },
   {
    "duration": 387,
    "start_time": "2022-07-17T21:03:59.530Z"
   },
   {
    "duration": 135,
    "start_time": "2022-07-17T21:03:59.919Z"
   },
   {
    "duration": 79,
    "start_time": "2022-07-17T21:04:00.056Z"
   },
   {
    "duration": 70,
    "start_time": "2022-07-17T21:04:00.136Z"
   },
   {
    "duration": 14804,
    "start_time": "2022-07-17T21:04:00.208Z"
   },
   {
    "duration": 2041,
    "start_time": "2022-07-17T21:04:15.101Z"
   },
   {
    "duration": 39395,
    "start_time": "2022-07-17T21:04:17.144Z"
   },
   {
    "duration": 4,
    "start_time": "2022-07-17T21:04:56.540Z"
   },
   {
    "duration": 7340,
    "start_time": "2022-07-17T21:04:56.546Z"
   },
   {
    "duration": 8213,
    "start_time": "2022-07-17T21:05:03.888Z"
   },
   {
    "duration": 161,
    "start_time": "2022-07-17T21:05:12.103Z"
   },
   {
    "duration": 62,
    "start_time": "2022-07-17T21:05:12.266Z"
   },
   {
    "duration": 9,
    "start_time": "2022-07-17T21:05:12.330Z"
   },
   {
    "duration": 122,
    "start_time": "2022-07-17T21:06:43.916Z"
   },
   {
    "duration": 158,
    "start_time": "2022-07-17T21:06:55.260Z"
   },
   {
    "duration": 114,
    "start_time": "2022-07-17T21:08:49.391Z"
   },
   {
    "duration": 119,
    "start_time": "2022-07-17T21:09:05.999Z"
   },
   {
    "duration": 104,
    "start_time": "2022-07-17T21:11:51.027Z"
   },
   {
    "duration": 115,
    "start_time": "2022-07-17T21:12:04.467Z"
   },
   {
    "duration": 1360,
    "start_time": "2022-07-17T21:12:12.807Z"
   },
   {
    "duration": 2,
    "start_time": "2022-07-17T21:12:14.169Z"
   },
   {
    "duration": 875,
    "start_time": "2022-07-17T21:12:14.172Z"
   },
   {
    "duration": 5,
    "start_time": "2022-07-17T21:12:15.049Z"
   },
   {
    "duration": 30,
    "start_time": "2022-07-17T21:12:15.055Z"
   },
   {
    "duration": 114,
    "start_time": "2022-07-17T21:12:15.086Z"
   },
   {
    "duration": 67,
    "start_time": "2022-07-17T21:12:15.201Z"
   },
   {
    "duration": 138,
    "start_time": "2022-07-17T21:12:15.269Z"
   },
   {
    "duration": 43,
    "start_time": "2022-07-17T21:12:15.409Z"
   },
   {
    "duration": 203,
    "start_time": "2022-07-17T21:12:15.456Z"
   },
   {
    "duration": 91,
    "start_time": "2022-07-17T21:12:15.660Z"
   },
   {
    "duration": 29,
    "start_time": "2022-07-17T21:12:15.752Z"
   },
   {
    "duration": 124,
    "start_time": "2022-07-17T21:12:15.783Z"
   },
   {
    "duration": 33,
    "start_time": "2022-07-17T21:12:15.908Z"
   },
   {
    "duration": 4,
    "start_time": "2022-07-17T21:12:15.943Z"
   },
   {
    "duration": 38,
    "start_time": "2022-07-17T21:12:15.948Z"
   },
   {
    "duration": 41,
    "start_time": "2022-07-17T21:12:15.988Z"
   },
   {
    "duration": 102,
    "start_time": "2022-07-17T21:12:16.031Z"
   },
   {
    "duration": 576,
    "start_time": "2022-07-17T21:12:16.134Z"
   },
   {
    "duration": 501,
    "start_time": "2022-07-17T21:12:16.712Z"
   },
   {
    "duration": 394,
    "start_time": "2022-07-17T21:12:17.214Z"
   },
   {
    "duration": 139,
    "start_time": "2022-07-17T21:12:17.610Z"
   },
   {
    "duration": 80,
    "start_time": "2022-07-17T21:12:17.750Z"
   },
   {
    "duration": 73,
    "start_time": "2022-07-17T21:12:17.832Z"
   },
   {
    "duration": 15308,
    "start_time": "2022-07-17T21:12:17.907Z"
   },
   {
    "duration": 2072,
    "start_time": "2022-07-17T21:12:33.216Z"
   },
   {
    "duration": 1339,
    "start_time": "2022-07-17T21:13:39.986Z"
   },
   {
    "duration": 2,
    "start_time": "2022-07-17T21:13:41.327Z"
   },
   {
    "duration": 832,
    "start_time": "2022-07-17T21:13:41.330Z"
   },
   {
    "duration": 5,
    "start_time": "2022-07-17T21:13:42.164Z"
   },
   {
    "duration": 15,
    "start_time": "2022-07-17T21:13:42.170Z"
   },
   {
    "duration": 103,
    "start_time": "2022-07-17T21:13:42.186Z"
   },
   {
    "duration": 72,
    "start_time": "2022-07-17T21:13:42.290Z"
   },
   {
    "duration": 109,
    "start_time": "2022-07-17T21:13:42.363Z"
   },
   {
    "duration": 46,
    "start_time": "2022-07-17T21:13:42.473Z"
   },
   {
    "duration": 166,
    "start_time": "2022-07-17T21:13:42.522Z"
   },
   {
    "duration": 90,
    "start_time": "2022-07-17T21:13:42.689Z"
   },
   {
    "duration": 40,
    "start_time": "2022-07-17T21:13:42.781Z"
   },
   {
    "duration": 127,
    "start_time": "2022-07-17T21:13:42.823Z"
   },
   {
    "duration": 32,
    "start_time": "2022-07-17T21:13:42.951Z"
   },
   {
    "duration": 16,
    "start_time": "2022-07-17T21:13:42.985Z"
   },
   {
    "duration": 12,
    "start_time": "2022-07-17T21:13:43.003Z"
   },
   {
    "duration": 27,
    "start_time": "2022-07-17T21:13:43.017Z"
   },
   {
    "duration": 115,
    "start_time": "2022-07-17T21:13:43.045Z"
   },
   {
    "duration": 586,
    "start_time": "2022-07-17T21:13:43.161Z"
   },
   {
    "duration": 535,
    "start_time": "2022-07-17T21:13:43.748Z"
   },
   {
    "duration": 388,
    "start_time": "2022-07-17T21:13:44.284Z"
   },
   {
    "duration": 142,
    "start_time": "2022-07-17T21:13:44.673Z"
   },
   {
    "duration": 88,
    "start_time": "2022-07-17T21:13:44.816Z"
   },
   {
    "duration": 49,
    "start_time": "2022-07-17T21:13:44.905Z"
   },
   {
    "duration": 14453,
    "start_time": "2022-07-17T21:13:44.955Z"
   },
   {
    "duration": 2127,
    "start_time": "2022-07-17T21:13:59.411Z"
   },
   {
    "duration": 2722,
    "start_time": "2022-07-17T21:14:01.540Z"
   },
   {
    "duration": 3,
    "start_time": "2022-07-17T21:14:04.266Z"
   },
   {
    "duration": 7326,
    "start_time": "2022-07-17T21:14:04.271Z"
   },
   {
    "duration": 7814,
    "start_time": "2022-07-17T21:14:11.600Z"
   },
   {
    "duration": 197,
    "start_time": "2022-07-17T21:14:19.415Z"
   },
   {
    "duration": 51,
    "start_time": "2022-07-17T21:14:19.613Z"
   },
   {
    "duration": 9,
    "start_time": "2022-07-17T21:14:19.666Z"
   },
   {
    "duration": 104,
    "start_time": "2022-07-17T21:14:49.705Z"
   },
   {
    "duration": 98,
    "start_time": "2022-07-17T21:15:04.993Z"
   },
   {
    "duration": 1293,
    "start_time": "2022-07-17T21:15:16.061Z"
   },
   {
    "duration": 3,
    "start_time": "2022-07-17T21:15:17.356Z"
   },
   {
    "duration": 859,
    "start_time": "2022-07-17T21:15:17.361Z"
   },
   {
    "duration": 5,
    "start_time": "2022-07-17T21:15:18.222Z"
   },
   {
    "duration": 18,
    "start_time": "2022-07-17T21:15:18.228Z"
   },
   {
    "duration": 108,
    "start_time": "2022-07-17T21:15:18.247Z"
   },
   {
    "duration": 72,
    "start_time": "2022-07-17T21:15:18.357Z"
   },
   {
    "duration": 112,
    "start_time": "2022-07-17T21:15:18.431Z"
   },
   {
    "duration": 38,
    "start_time": "2022-07-17T21:15:18.544Z"
   },
   {
    "duration": 172,
    "start_time": "2022-07-17T21:15:18.585Z"
   },
   {
    "duration": 92,
    "start_time": "2022-07-17T21:15:18.759Z"
   },
   {
    "duration": 29,
    "start_time": "2022-07-17T21:15:18.852Z"
   },
   {
    "duration": 126,
    "start_time": "2022-07-17T21:15:18.883Z"
   },
   {
    "duration": 32,
    "start_time": "2022-07-17T21:15:19.010Z"
   },
   {
    "duration": 3,
    "start_time": "2022-07-17T21:15:19.044Z"
   },
   {
    "duration": 20,
    "start_time": "2022-07-17T21:15:19.049Z"
   },
   {
    "duration": 49,
    "start_time": "2022-07-17T21:15:19.070Z"
   },
   {
    "duration": 123,
    "start_time": "2022-07-17T21:15:19.121Z"
   },
   {
    "duration": 645,
    "start_time": "2022-07-17T21:15:19.245Z"
   },
   {
    "duration": 529,
    "start_time": "2022-07-17T21:15:19.892Z"
   },
   {
    "duration": 400,
    "start_time": "2022-07-17T21:15:20.422Z"
   },
   {
    "duration": 150,
    "start_time": "2022-07-17T21:15:20.824Z"
   },
   {
    "duration": 87,
    "start_time": "2022-07-17T21:15:20.975Z"
   },
   {
    "duration": 74,
    "start_time": "2022-07-17T21:15:21.064Z"
   },
   {
    "duration": 14771,
    "start_time": "2022-07-17T21:15:21.139Z"
   },
   {
    "duration": 1909,
    "start_time": "2022-07-17T21:15:36.001Z"
   },
   {
    "duration": 1375,
    "start_time": "2022-07-17T21:15:56.684Z"
   },
   {
    "duration": 2,
    "start_time": "2022-07-17T21:15:58.061Z"
   },
   {
    "duration": 849,
    "start_time": "2022-07-17T21:15:58.064Z"
   },
   {
    "duration": 4,
    "start_time": "2022-07-17T21:15:58.916Z"
   },
   {
    "duration": 21,
    "start_time": "2022-07-17T21:15:58.922Z"
   },
   {
    "duration": 91,
    "start_time": "2022-07-17T21:15:58.944Z"
   },
   {
    "duration": 70,
    "start_time": "2022-07-17T21:15:59.037Z"
   },
   {
    "duration": 109,
    "start_time": "2022-07-17T21:15:59.109Z"
   },
   {
    "duration": 32,
    "start_time": "2022-07-17T21:15:59.220Z"
   },
   {
    "duration": 168,
    "start_time": "2022-07-17T21:15:59.254Z"
   },
   {
    "duration": 100,
    "start_time": "2022-07-17T21:15:59.424Z"
   },
   {
    "duration": 29,
    "start_time": "2022-07-17T21:15:59.526Z"
   },
   {
    "duration": 122,
    "start_time": "2022-07-17T21:15:59.556Z"
   },
   {
    "duration": 36,
    "start_time": "2022-07-17T21:15:59.680Z"
   },
   {
    "duration": 3,
    "start_time": "2022-07-17T21:15:59.718Z"
   },
   {
    "duration": 16,
    "start_time": "2022-07-17T21:15:59.722Z"
   },
   {
    "duration": 28,
    "start_time": "2022-07-17T21:15:59.739Z"
   },
   {
    "duration": 120,
    "start_time": "2022-07-17T21:15:59.768Z"
   },
   {
    "duration": 571,
    "start_time": "2022-07-17T21:15:59.890Z"
   },
   {
    "duration": 567,
    "start_time": "2022-07-17T21:16:00.463Z"
   },
   {
    "duration": 416,
    "start_time": "2022-07-17T21:16:01.033Z"
   },
   {
    "duration": 164,
    "start_time": "2022-07-17T21:16:01.451Z"
   },
   {
    "duration": 95,
    "start_time": "2022-07-17T21:16:01.617Z"
   },
   {
    "duration": 51,
    "start_time": "2022-07-17T21:16:01.714Z"
   },
   {
    "duration": 13843,
    "start_time": "2022-07-17T21:16:01.766Z"
   },
   {
    "duration": 1935,
    "start_time": "2022-07-17T21:16:15.612Z"
   },
   {
    "duration": 1383,
    "start_time": "2022-07-17T21:17:01.806Z"
   },
   {
    "duration": 2,
    "start_time": "2022-07-17T21:17:03.191Z"
   },
   {
    "duration": 940,
    "start_time": "2022-07-17T21:17:03.195Z"
   },
   {
    "duration": 5,
    "start_time": "2022-07-17T21:17:04.137Z"
   },
   {
    "duration": 19,
    "start_time": "2022-07-17T21:17:04.144Z"
   },
   {
    "duration": 113,
    "start_time": "2022-07-17T21:17:04.165Z"
   },
   {
    "duration": 83,
    "start_time": "2022-07-17T21:17:04.280Z"
   },
   {
    "duration": 115,
    "start_time": "2022-07-17T21:17:04.365Z"
   },
   {
    "duration": 47,
    "start_time": "2022-07-17T21:17:04.482Z"
   },
   {
    "duration": 194,
    "start_time": "2022-07-17T21:17:04.531Z"
   },
   {
    "duration": 99,
    "start_time": "2022-07-17T21:17:04.727Z"
   },
   {
    "duration": 30,
    "start_time": "2022-07-17T21:17:04.827Z"
   },
   {
    "duration": 127,
    "start_time": "2022-07-17T21:17:04.859Z"
   },
   {
    "duration": 89,
    "start_time": "2022-07-17T21:17:04.989Z"
   },
   {
    "duration": 40,
    "start_time": "2022-07-17T21:17:05.079Z"
   },
   {
    "duration": 3,
    "start_time": "2022-07-17T21:17:05.120Z"
   },
   {
    "duration": 19,
    "start_time": "2022-07-17T21:17:05.124Z"
   },
   {
    "duration": 39,
    "start_time": "2022-07-17T21:17:05.144Z"
   },
   {
    "duration": 132,
    "start_time": "2022-07-17T21:17:05.187Z"
   },
   {
    "duration": 598,
    "start_time": "2022-07-17T21:17:05.321Z"
   },
   {
    "duration": 515,
    "start_time": "2022-07-17T21:17:05.920Z"
   },
   {
    "duration": 401,
    "start_time": "2022-07-17T21:17:06.437Z"
   },
   {
    "duration": 161,
    "start_time": "2022-07-17T21:17:06.840Z"
   },
   {
    "duration": 65,
    "start_time": "2022-07-17T21:17:07.003Z"
   },
   {
    "duration": 71,
    "start_time": "2022-07-17T21:17:07.069Z"
   },
   {
    "duration": 16060,
    "start_time": "2022-07-17T21:17:07.141Z"
   },
   {
    "duration": 1370,
    "start_time": "2022-07-17T21:17:26.378Z"
   },
   {
    "duration": 2,
    "start_time": "2022-07-17T21:17:27.752Z"
   },
   {
    "duration": 853,
    "start_time": "2022-07-17T21:17:27.756Z"
   },
   {
    "duration": 5,
    "start_time": "2022-07-17T21:17:28.611Z"
   },
   {
    "duration": 17,
    "start_time": "2022-07-17T21:17:28.617Z"
   },
   {
    "duration": 105,
    "start_time": "2022-07-17T21:17:28.635Z"
   },
   {
    "duration": 72,
    "start_time": "2022-07-17T21:17:28.742Z"
   },
   {
    "duration": 99,
    "start_time": "2022-07-17T21:17:28.816Z"
   },
   {
    "duration": 39,
    "start_time": "2022-07-17T21:17:28.916Z"
   },
   {
    "duration": 179,
    "start_time": "2022-07-17T21:17:28.958Z"
   },
   {
    "duration": 85,
    "start_time": "2022-07-17T21:17:29.138Z"
   },
   {
    "duration": 29,
    "start_time": "2022-07-17T21:17:29.224Z"
   },
   {
    "duration": 118,
    "start_time": "2022-07-17T21:17:29.255Z"
   },
   {
    "duration": 26,
    "start_time": "2022-07-17T21:17:29.375Z"
   },
   {
    "duration": 38,
    "start_time": "2022-07-17T21:17:29.403Z"
   },
   {
    "duration": 2,
    "start_time": "2022-07-17T21:17:29.443Z"
   },
   {
    "duration": 41,
    "start_time": "2022-07-17T21:17:29.447Z"
   },
   {
    "duration": 51,
    "start_time": "2022-07-17T21:17:29.490Z"
   },
   {
    "duration": 100,
    "start_time": "2022-07-17T21:17:29.543Z"
   },
   {
    "duration": 557,
    "start_time": "2022-07-17T21:17:29.644Z"
   },
   {
    "duration": 518,
    "start_time": "2022-07-17T21:17:30.202Z"
   },
   {
    "duration": 388,
    "start_time": "2022-07-17T21:17:30.722Z"
   },
   {
    "duration": 134,
    "start_time": "2022-07-17T21:17:31.111Z"
   },
   {
    "duration": 78,
    "start_time": "2022-07-17T21:17:31.246Z"
   },
   {
    "duration": 47,
    "start_time": "2022-07-17T21:17:31.325Z"
   },
   {
    "duration": 14706,
    "start_time": "2022-07-17T21:17:31.401Z"
   },
   {
    "duration": 1967,
    "start_time": "2022-07-17T21:17:46.109Z"
   },
   {
    "duration": 22969,
    "start_time": "2022-07-17T21:17:48.079Z"
   },
   {
    "duration": 4,
    "start_time": "2022-07-17T21:18:11.049Z"
   },
   {
    "duration": 1330,
    "start_time": "2022-07-17T21:18:19.356Z"
   },
   {
    "duration": 3,
    "start_time": "2022-07-17T21:18:20.688Z"
   },
   {
    "duration": 928,
    "start_time": "2022-07-17T21:18:20.693Z"
   },
   {
    "duration": 6,
    "start_time": "2022-07-17T21:18:21.623Z"
   },
   {
    "duration": 24,
    "start_time": "2022-07-17T21:18:21.630Z"
   },
   {
    "duration": 126,
    "start_time": "2022-07-17T21:18:21.655Z"
   },
   {
    "duration": 87,
    "start_time": "2022-07-17T21:18:21.783Z"
   },
   {
    "duration": 119,
    "start_time": "2022-07-17T21:18:21.873Z"
   },
   {
    "duration": 42,
    "start_time": "2022-07-17T21:18:21.994Z"
   },
   {
    "duration": 191,
    "start_time": "2022-07-17T21:18:22.039Z"
   },
   {
    "duration": 101,
    "start_time": "2022-07-17T21:18:22.232Z"
   },
   {
    "duration": 32,
    "start_time": "2022-07-17T21:18:22.335Z"
   },
   {
    "duration": 134,
    "start_time": "2022-07-17T21:18:22.369Z"
   },
   {
    "duration": 17,
    "start_time": "2022-07-17T21:18:22.505Z"
   },
   {
    "duration": 31,
    "start_time": "2022-07-17T21:18:22.523Z"
   },
   {
    "duration": 3,
    "start_time": "2022-07-17T21:18:22.556Z"
   },
   {
    "duration": 16,
    "start_time": "2022-07-17T21:18:22.560Z"
   },
   {
    "duration": 25,
    "start_time": "2022-07-17T21:18:22.600Z"
   },
   {
    "duration": 108,
    "start_time": "2022-07-17T21:18:22.627Z"
   },
   {
    "duration": 585,
    "start_time": "2022-07-17T21:18:22.737Z"
   },
   {
    "duration": 496,
    "start_time": "2022-07-17T21:18:23.324Z"
   },
   {
    "duration": 398,
    "start_time": "2022-07-17T21:18:23.821Z"
   },
   {
    "duration": 137,
    "start_time": "2022-07-17T21:18:24.220Z"
   },
   {
    "duration": 77,
    "start_time": "2022-07-17T21:18:24.358Z"
   },
   {
    "duration": 69,
    "start_time": "2022-07-17T21:18:24.437Z"
   },
   {
    "duration": 14899,
    "start_time": "2022-07-17T21:18:24.508Z"
   },
   {
    "duration": 1973,
    "start_time": "2022-07-17T21:18:39.409Z"
   },
   {
    "duration": 43360,
    "start_time": "2022-07-17T21:18:41.385Z"
   },
   {
    "duration": 5,
    "start_time": "2022-07-17T21:19:24.746Z"
   },
   {
    "duration": 6968,
    "start_time": "2022-07-17T21:19:24.753Z"
   },
   {
    "duration": 8082,
    "start_time": "2022-07-17T21:19:31.723Z"
   },
   {
    "duration": 160,
    "start_time": "2022-07-17T21:19:39.806Z"
   },
   {
    "duration": 52,
    "start_time": "2022-07-17T21:19:39.968Z"
   },
   {
    "duration": 10,
    "start_time": "2022-07-17T21:19:40.022Z"
   },
   {
    "duration": 16,
    "start_time": "2022-07-17T21:19:40.202Z"
   },
   {
    "duration": 1335,
    "start_time": "2022-07-17T21:19:45.104Z"
   },
   {
    "duration": 2,
    "start_time": "2022-07-17T21:19:46.441Z"
   },
   {
    "duration": 826,
    "start_time": "2022-07-17T21:19:46.445Z"
   },
   {
    "duration": 5,
    "start_time": "2022-07-17T21:19:47.272Z"
   },
   {
    "duration": 23,
    "start_time": "2022-07-17T21:19:47.279Z"
   },
   {
    "duration": 98,
    "start_time": "2022-07-17T21:19:47.304Z"
   },
   {
    "duration": 63,
    "start_time": "2022-07-17T21:19:47.404Z"
   },
   {
    "duration": 120,
    "start_time": "2022-07-17T21:19:47.469Z"
   },
   {
    "duration": 44,
    "start_time": "2022-07-17T21:19:47.591Z"
   },
   {
    "duration": 170,
    "start_time": "2022-07-17T21:19:47.636Z"
   },
   {
    "duration": 84,
    "start_time": "2022-07-17T21:19:47.808Z"
   },
   {
    "duration": 34,
    "start_time": "2022-07-17T21:19:47.893Z"
   },
   {
    "duration": 122,
    "start_time": "2022-07-17T21:19:47.929Z"
   },
   {
    "duration": 16,
    "start_time": "2022-07-17T21:19:48.053Z"
   },
   {
    "duration": 46,
    "start_time": "2022-07-17T21:19:48.071Z"
   },
   {
    "duration": 3,
    "start_time": "2022-07-17T21:19:48.118Z"
   },
   {
    "duration": 16,
    "start_time": "2022-07-17T21:19:48.123Z"
   },
   {
    "duration": 34,
    "start_time": "2022-07-17T21:19:48.140Z"
   },
   {
    "duration": 108,
    "start_time": "2022-07-17T21:19:48.175Z"
   },
   {
    "duration": 619,
    "start_time": "2022-07-17T21:19:48.284Z"
   },
   {
    "duration": 495,
    "start_time": "2022-07-17T21:19:48.904Z"
   },
   {
    "duration": 382,
    "start_time": "2022-07-17T21:19:49.400Z"
   },
   {
    "duration": 140,
    "start_time": "2022-07-17T21:19:49.784Z"
   },
   {
    "duration": 78,
    "start_time": "2022-07-17T21:19:49.925Z"
   },
   {
    "duration": 48,
    "start_time": "2022-07-17T21:19:50.005Z"
   },
   {
    "duration": 14948,
    "start_time": "2022-07-17T21:19:50.054Z"
   },
   {
    "duration": 2045,
    "start_time": "2022-07-17T21:20:05.003Z"
   },
   {
    "duration": 1338,
    "start_time": "2022-07-17T21:20:57.792Z"
   },
   {
    "duration": 2,
    "start_time": "2022-07-17T21:20:59.132Z"
   },
   {
    "duration": 839,
    "start_time": "2022-07-17T21:20:59.136Z"
   },
   {
    "duration": 5,
    "start_time": "2022-07-17T21:20:59.977Z"
   },
   {
    "duration": 20,
    "start_time": "2022-07-17T21:20:59.983Z"
   },
   {
    "duration": 103,
    "start_time": "2022-07-17T21:21:00.005Z"
   },
   {
    "duration": 65,
    "start_time": "2022-07-17T21:21:00.110Z"
   },
   {
    "duration": 110,
    "start_time": "2022-07-17T21:21:00.176Z"
   },
   {
    "duration": 45,
    "start_time": "2022-07-17T21:21:00.287Z"
   },
   {
    "duration": 185,
    "start_time": "2022-07-17T21:21:00.335Z"
   },
   {
    "duration": 99,
    "start_time": "2022-07-17T21:21:00.522Z"
   },
   {
    "duration": 30,
    "start_time": "2022-07-17T21:21:00.623Z"
   },
   {
    "duration": 129,
    "start_time": "2022-07-17T21:21:00.655Z"
   },
   {
    "duration": 27,
    "start_time": "2022-07-17T21:21:00.786Z"
   },
   {
    "duration": 42,
    "start_time": "2022-07-17T21:21:00.814Z"
   },
   {
    "duration": 3,
    "start_time": "2022-07-17T21:21:00.857Z"
   },
   {
    "duration": 21,
    "start_time": "2022-07-17T21:21:00.862Z"
   },
   {
    "duration": 44,
    "start_time": "2022-07-17T21:21:00.885Z"
   },
   {
    "duration": 121,
    "start_time": "2022-07-17T21:21:00.931Z"
   },
   {
    "duration": 727,
    "start_time": "2022-07-17T21:21:01.053Z"
   },
   {
    "duration": 539,
    "start_time": "2022-07-17T21:21:01.781Z"
   },
   {
    "duration": 406,
    "start_time": "2022-07-17T21:21:02.322Z"
   },
   {
    "duration": 150,
    "start_time": "2022-07-17T21:21:02.730Z"
   },
   {
    "duration": 76,
    "start_time": "2022-07-17T21:21:02.881Z"
   },
   {
    "duration": 69,
    "start_time": "2022-07-17T21:21:02.959Z"
   },
   {
    "duration": 14676,
    "start_time": "2022-07-17T21:21:03.030Z"
   },
   {
    "duration": 1987,
    "start_time": "2022-07-17T21:21:17.709Z"
   },
   {
    "duration": 1305,
    "start_time": "2022-07-17T21:21:56.270Z"
   },
   {
    "duration": 2,
    "start_time": "2022-07-17T21:21:57.577Z"
   },
   {
    "duration": 864,
    "start_time": "2022-07-17T21:21:57.580Z"
   },
   {
    "duration": 5,
    "start_time": "2022-07-17T21:21:58.447Z"
   },
   {
    "duration": 17,
    "start_time": "2022-07-17T21:21:58.453Z"
   },
   {
    "duration": 103,
    "start_time": "2022-07-17T21:21:58.471Z"
   },
   {
    "duration": 77,
    "start_time": "2022-07-17T21:21:58.575Z"
   },
   {
    "duration": 116,
    "start_time": "2022-07-17T21:21:58.654Z"
   },
   {
    "duration": 47,
    "start_time": "2022-07-17T21:21:58.772Z"
   },
   {
    "duration": 168,
    "start_time": "2022-07-17T21:21:58.822Z"
   },
   {
    "duration": 85,
    "start_time": "2022-07-17T21:21:58.992Z"
   },
   {
    "duration": 37,
    "start_time": "2022-07-17T21:21:59.079Z"
   },
   {
    "duration": 115,
    "start_time": "2022-07-17T21:21:59.118Z"
   },
   {
    "duration": 12,
    "start_time": "2022-07-17T21:21:59.234Z"
   },
   {
    "duration": 30,
    "start_time": "2022-07-17T21:21:59.247Z"
   },
   {
    "duration": 3,
    "start_time": "2022-07-17T21:21:59.278Z"
   },
   {
    "duration": 28,
    "start_time": "2022-07-17T21:21:59.283Z"
   },
   {
    "duration": 36,
    "start_time": "2022-07-17T21:21:59.313Z"
   },
   {
    "duration": 108,
    "start_time": "2022-07-17T21:21:59.350Z"
   },
   {
    "duration": 572,
    "start_time": "2022-07-17T21:21:59.460Z"
   },
   {
    "duration": 516,
    "start_time": "2022-07-17T21:22:00.034Z"
   },
   {
    "duration": 399,
    "start_time": "2022-07-17T21:22:00.551Z"
   },
   {
    "duration": 155,
    "start_time": "2022-07-17T21:22:00.951Z"
   },
   {
    "duration": 94,
    "start_time": "2022-07-17T21:22:01.108Z"
   },
   {
    "duration": 54,
    "start_time": "2022-07-17T21:22:01.205Z"
   },
   {
    "duration": 14850,
    "start_time": "2022-07-17T21:22:01.260Z"
   },
   {
    "duration": 2002,
    "start_time": "2022-07-17T21:22:16.112Z"
   },
   {
    "duration": 2572,
    "start_time": "2022-07-17T21:22:18.118Z"
   },
   {
    "duration": 4,
    "start_time": "2022-07-17T21:22:20.691Z"
   },
   {
    "duration": 7208,
    "start_time": "2022-07-17T21:22:20.696Z"
   },
   {
    "duration": 8303,
    "start_time": "2022-07-17T21:22:27.906Z"
   },
   {
    "duration": 179,
    "start_time": "2022-07-17T21:22:36.211Z"
   },
   {
    "duration": 64,
    "start_time": "2022-07-17T21:22:36.391Z"
   },
   {
    "duration": 9,
    "start_time": "2022-07-17T21:22:36.456Z"
   },
   {
    "duration": 9,
    "start_time": "2022-07-17T21:22:52.745Z"
   },
   {
    "duration": 1447,
    "start_time": "2022-07-17T21:22:59.972Z"
   },
   {
    "duration": 3,
    "start_time": "2022-07-17T21:23:01.421Z"
   },
   {
    "duration": 1030,
    "start_time": "2022-07-17T21:23:01.426Z"
   },
   {
    "duration": 5,
    "start_time": "2022-07-17T21:23:02.459Z"
   },
   {
    "duration": 19,
    "start_time": "2022-07-17T21:23:02.466Z"
   },
   {
    "duration": 126,
    "start_time": "2022-07-17T21:23:02.487Z"
   },
   {
    "duration": 71,
    "start_time": "2022-07-17T21:23:02.614Z"
   },
   {
    "duration": 121,
    "start_time": "2022-07-17T21:23:02.686Z"
   },
   {
    "duration": 41,
    "start_time": "2022-07-17T21:23:02.809Z"
   },
   {
    "duration": 186,
    "start_time": "2022-07-17T21:23:02.854Z"
   },
   {
    "duration": 102,
    "start_time": "2022-07-17T21:23:03.042Z"
   },
   {
    "duration": 31,
    "start_time": "2022-07-17T21:23:03.146Z"
   },
   {
    "duration": 137,
    "start_time": "2022-07-17T21:23:03.179Z"
   },
   {
    "duration": 11,
    "start_time": "2022-07-17T21:23:03.318Z"
   },
   {
    "duration": 37,
    "start_time": "2022-07-17T21:23:03.331Z"
   },
   {
    "duration": 3,
    "start_time": "2022-07-17T21:23:03.370Z"
   },
   {
    "duration": 32,
    "start_time": "2022-07-17T21:23:03.374Z"
   },
   {
    "duration": 35,
    "start_time": "2022-07-17T21:23:03.408Z"
   },
   {
    "duration": 117,
    "start_time": "2022-07-17T21:23:03.444Z"
   },
   {
    "duration": 717,
    "start_time": "2022-07-17T21:23:03.563Z"
   },
   {
    "duration": 554,
    "start_time": "2022-07-17T21:23:04.282Z"
   },
   {
    "duration": 403,
    "start_time": "2022-07-17T21:23:04.837Z"
   },
   {
    "duration": 182,
    "start_time": "2022-07-17T21:23:05.242Z"
   },
   {
    "duration": 82,
    "start_time": "2022-07-17T21:23:05.426Z"
   },
   {
    "duration": 50,
    "start_time": "2022-07-17T21:23:05.510Z"
   },
   {
    "duration": 15239,
    "start_time": "2022-07-17T21:23:05.561Z"
   },
   {
    "duration": 2105,
    "start_time": "2022-07-17T21:23:20.802Z"
   },
   {
    "duration": 1403,
    "start_time": "2022-07-17T21:23:32.228Z"
   },
   {
    "duration": 3,
    "start_time": "2022-07-17T21:23:33.633Z"
   },
   {
    "duration": 859,
    "start_time": "2022-07-17T21:23:33.637Z"
   },
   {
    "duration": 6,
    "start_time": "2022-07-17T21:23:34.498Z"
   },
   {
    "duration": 19,
    "start_time": "2022-07-17T21:23:34.506Z"
   },
   {
    "duration": 98,
    "start_time": "2022-07-17T21:23:34.526Z"
   },
   {
    "duration": 75,
    "start_time": "2022-07-17T21:23:34.626Z"
   },
   {
    "duration": 101,
    "start_time": "2022-07-17T21:23:34.702Z"
   },
   {
    "duration": 30,
    "start_time": "2022-07-17T21:23:34.805Z"
   },
   {
    "duration": 180,
    "start_time": "2022-07-17T21:23:34.837Z"
   },
   {
    "duration": 91,
    "start_time": "2022-07-17T21:23:35.018Z"
   },
   {
    "duration": 29,
    "start_time": "2022-07-17T21:23:35.111Z"
   },
   {
    "duration": 155,
    "start_time": "2022-07-17T21:23:35.142Z"
   },
   {
    "duration": 12,
    "start_time": "2022-07-17T21:23:35.300Z"
   },
   {
    "duration": 31,
    "start_time": "2022-07-17T21:23:35.314Z"
   },
   {
    "duration": 3,
    "start_time": "2022-07-17T21:23:35.348Z"
   },
   {
    "duration": 28,
    "start_time": "2022-07-17T21:23:35.353Z"
   },
   {
    "duration": 25,
    "start_time": "2022-07-17T21:23:35.400Z"
   },
   {
    "duration": 124,
    "start_time": "2022-07-17T21:23:35.427Z"
   },
   {
    "duration": 550,
    "start_time": "2022-07-17T21:23:35.552Z"
   },
   {
    "duration": 500,
    "start_time": "2022-07-17T21:23:36.104Z"
   },
   {
    "duration": 395,
    "start_time": "2022-07-17T21:23:36.606Z"
   },
   {
    "duration": 133,
    "start_time": "2022-07-17T21:23:37.003Z"
   },
   {
    "duration": 80,
    "start_time": "2022-07-17T21:23:37.138Z"
   },
   {
    "duration": 49,
    "start_time": "2022-07-17T21:23:37.220Z"
   },
   {
    "duration": 14711,
    "start_time": "2022-07-17T21:23:37.300Z"
   },
   {
    "duration": 2051,
    "start_time": "2022-07-17T21:23:52.013Z"
   },
   {
    "duration": 199088,
    "start_time": "2022-07-17T21:23:54.067Z"
   },
   {
    "duration": 3,
    "start_time": "2022-07-17T21:27:13.157Z"
   },
   {
    "duration": 6984,
    "start_time": "2022-07-17T21:27:13.161Z"
   },
   {
    "duration": 9168,
    "start_time": "2022-07-17T21:27:20.147Z"
   },
   {
    "duration": 220,
    "start_time": "2022-07-17T21:27:29.316Z"
   },
   {
    "duration": 57,
    "start_time": "2022-07-17T21:27:29.538Z"
   },
   {
    "duration": 8,
    "start_time": "2022-07-17T21:27:29.596Z"
   },
   {
    "duration": 9,
    "start_time": "2022-07-17T21:30:21.746Z"
   },
   {
    "duration": 23,
    "start_time": "2022-07-17T21:31:16.145Z"
   },
   {
    "duration": 9,
    "start_time": "2022-07-17T21:32:35.065Z"
   },
   {
    "duration": 1303,
    "start_time": "2022-07-17T21:32:43.652Z"
   },
   {
    "duration": 3,
    "start_time": "2022-07-17T21:32:44.956Z"
   },
   {
    "duration": 889,
    "start_time": "2022-07-17T21:32:44.960Z"
   },
   {
    "duration": 5,
    "start_time": "2022-07-17T21:32:45.852Z"
   },
   {
    "duration": 73,
    "start_time": "2022-07-17T21:32:45.858Z"
   },
   {
    "duration": 88,
    "start_time": "2022-07-17T21:32:45.933Z"
   },
   {
    "duration": 65,
    "start_time": "2022-07-17T21:32:46.022Z"
   },
   {
    "duration": 104,
    "start_time": "2022-07-17T21:32:46.101Z"
   },
   {
    "duration": 31,
    "start_time": "2022-07-17T21:32:46.207Z"
   },
   {
    "duration": 170,
    "start_time": "2022-07-17T21:32:46.241Z"
   },
   {
    "duration": 98,
    "start_time": "2022-07-17T21:32:46.413Z"
   },
   {
    "duration": 33,
    "start_time": "2022-07-17T21:32:46.513Z"
   },
   {
    "duration": 122,
    "start_time": "2022-07-17T21:32:46.547Z"
   },
   {
    "duration": 11,
    "start_time": "2022-07-17T21:32:46.671Z"
   },
   {
    "duration": 41,
    "start_time": "2022-07-17T21:32:46.683Z"
   },
   {
    "duration": 3,
    "start_time": "2022-07-17T21:32:46.725Z"
   },
   {
    "duration": 16,
    "start_time": "2022-07-17T21:32:46.729Z"
   },
   {
    "duration": 27,
    "start_time": "2022-07-17T21:32:46.746Z"
   },
   {
    "duration": 117,
    "start_time": "2022-07-17T21:32:46.774Z"
   },
   {
    "duration": 569,
    "start_time": "2022-07-17T21:32:46.893Z"
   },
   {
    "duration": 514,
    "start_time": "2022-07-17T21:32:47.463Z"
   },
   {
    "duration": 388,
    "start_time": "2022-07-17T21:32:47.979Z"
   },
   {
    "duration": 144,
    "start_time": "2022-07-17T21:32:48.369Z"
   },
   {
    "duration": 91,
    "start_time": "2022-07-17T21:32:48.515Z"
   },
   {
    "duration": 52,
    "start_time": "2022-07-17T21:32:48.608Z"
   },
   {
    "duration": 14139,
    "start_time": "2022-07-17T21:32:48.662Z"
   },
   {
    "duration": 2149,
    "start_time": "2022-07-17T21:33:02.805Z"
   },
   {
    "duration": 15115,
    "start_time": "2022-07-17T21:33:04.957Z"
   },
   {
    "duration": 3,
    "start_time": "2022-07-17T21:33:20.074Z"
   },
   {
    "duration": 1401,
    "start_time": "2022-07-17T21:33:25.374Z"
   },
   {
    "duration": 3,
    "start_time": "2022-07-17T21:33:26.776Z"
   },
   {
    "duration": 846,
    "start_time": "2022-07-17T21:33:26.780Z"
   },
   {
    "duration": 6,
    "start_time": "2022-07-17T21:33:27.628Z"
   },
   {
    "duration": 19,
    "start_time": "2022-07-17T21:33:27.636Z"
   },
   {
    "duration": 114,
    "start_time": "2022-07-17T21:33:27.657Z"
   },
   {
    "duration": 81,
    "start_time": "2022-07-17T21:33:27.773Z"
   },
   {
    "duration": 106,
    "start_time": "2022-07-17T21:33:27.856Z"
   },
   {
    "duration": 43,
    "start_time": "2022-07-17T21:33:27.964Z"
   },
   {
    "duration": 169,
    "start_time": "2022-07-17T21:33:28.009Z"
   },
   {
    "duration": 88,
    "start_time": "2022-07-17T21:33:28.180Z"
   },
   {
    "duration": 34,
    "start_time": "2022-07-17T21:33:28.269Z"
   },
   {
    "duration": 120,
    "start_time": "2022-07-17T21:33:28.305Z"
   },
   {
    "duration": 10,
    "start_time": "2022-07-17T21:33:28.427Z"
   },
   {
    "duration": 30,
    "start_time": "2022-07-17T21:33:28.439Z"
   },
   {
    "duration": 2,
    "start_time": "2022-07-17T21:33:28.471Z"
   },
   {
    "duration": 32,
    "start_time": "2022-07-17T21:33:28.475Z"
   },
   {
    "duration": 26,
    "start_time": "2022-07-17T21:33:28.509Z"
   },
   {
    "duration": 120,
    "start_time": "2022-07-17T21:33:28.536Z"
   },
   {
    "duration": 587,
    "start_time": "2022-07-17T21:33:28.657Z"
   },
   {
    "duration": 520,
    "start_time": "2022-07-17T21:33:29.245Z"
   },
   {
    "duration": 394,
    "start_time": "2022-07-17T21:33:29.766Z"
   },
   {
    "duration": 148,
    "start_time": "2022-07-17T21:33:30.161Z"
   },
   {
    "duration": 64,
    "start_time": "2022-07-17T21:33:30.311Z"
   },
   {
    "duration": 51,
    "start_time": "2022-07-17T21:33:30.401Z"
   },
   {
    "duration": 15056,
    "start_time": "2022-07-17T21:33:30.453Z"
   },
   {
    "duration": 2077,
    "start_time": "2022-07-17T21:33:45.510Z"
   },
   {
    "duration": 1285,
    "start_time": "2022-07-17T21:34:49.755Z"
   },
   {
    "duration": 2,
    "start_time": "2022-07-17T21:34:51.042Z"
   },
   {
    "duration": 869,
    "start_time": "2022-07-17T21:34:51.046Z"
   },
   {
    "duration": 5,
    "start_time": "2022-07-17T21:34:51.917Z"
   },
   {
    "duration": 19,
    "start_time": "2022-07-17T21:34:51.924Z"
   },
   {
    "duration": 108,
    "start_time": "2022-07-17T21:34:51.944Z"
   },
   {
    "duration": 77,
    "start_time": "2022-07-17T21:34:52.053Z"
   },
   {
    "duration": 105,
    "start_time": "2022-07-17T21:34:52.131Z"
   },
   {
    "duration": 39,
    "start_time": "2022-07-17T21:34:52.238Z"
   },
   {
    "duration": 175,
    "start_time": "2022-07-17T21:34:52.278Z"
   },
   {
    "duration": 96,
    "start_time": "2022-07-17T21:34:52.454Z"
   },
   {
    "duration": 32,
    "start_time": "2022-07-17T21:34:52.552Z"
   },
   {
    "duration": 152,
    "start_time": "2022-07-17T21:34:52.586Z"
   },
   {
    "duration": 13,
    "start_time": "2022-07-17T21:34:52.740Z"
   },
   {
    "duration": 47,
    "start_time": "2022-07-17T21:34:52.754Z"
   },
   {
    "duration": 3,
    "start_time": "2022-07-17T21:34:52.803Z"
   },
   {
    "duration": 16,
    "start_time": "2022-07-17T21:34:52.807Z"
   },
   {
    "duration": 30,
    "start_time": "2022-07-17T21:34:52.824Z"
   },
   {
    "duration": 118,
    "start_time": "2022-07-17T21:34:52.856Z"
   },
   {
    "duration": 590,
    "start_time": "2022-07-17T21:34:52.975Z"
   },
   {
    "duration": 531,
    "start_time": "2022-07-17T21:34:53.566Z"
   },
   {
    "duration": 387,
    "start_time": "2022-07-17T21:34:54.100Z"
   },
   {
    "duration": 137,
    "start_time": "2022-07-17T21:34:54.500Z"
   },
   {
    "duration": 78,
    "start_time": "2022-07-17T21:34:54.638Z"
   },
   {
    "duration": 46,
    "start_time": "2022-07-17T21:34:54.718Z"
   },
   {
    "duration": 15446,
    "start_time": "2022-07-17T21:34:54.766Z"
   },
   {
    "duration": 1959,
    "start_time": "2022-07-17T21:35:10.300Z"
   },
   {
    "duration": 5135,
    "start_time": "2022-07-17T21:35:12.261Z"
   },
   {
    "duration": 3,
    "start_time": "2022-07-17T21:35:17.400Z"
   },
   {
    "duration": 7331,
    "start_time": "2022-07-17T21:35:17.404Z"
   },
   {
    "duration": 8265,
    "start_time": "2022-07-17T21:35:24.736Z"
   },
   {
    "duration": 181,
    "start_time": "2022-07-17T21:35:33.003Z"
   },
   {
    "duration": 57,
    "start_time": "2022-07-17T21:35:33.186Z"
   },
   {
    "duration": 9,
    "start_time": "2022-07-17T21:35:33.245Z"
   },
   {
    "duration": 12,
    "start_time": "2022-07-17T21:36:03.826Z"
   },
   {
    "duration": 1287,
    "start_time": "2022-07-17T21:36:40.062Z"
   },
   {
    "duration": 3,
    "start_time": "2022-07-17T21:36:41.350Z"
   },
   {
    "duration": 851,
    "start_time": "2022-07-17T21:36:41.354Z"
   },
   {
    "duration": 4,
    "start_time": "2022-07-17T21:36:42.207Z"
   },
   {
    "duration": 25,
    "start_time": "2022-07-17T21:36:42.213Z"
   },
   {
    "duration": 109,
    "start_time": "2022-07-17T21:36:42.240Z"
   },
   {
    "duration": 66,
    "start_time": "2022-07-17T21:36:42.350Z"
   },
   {
    "duration": 105,
    "start_time": "2022-07-17T21:36:42.417Z"
   },
   {
    "duration": 37,
    "start_time": "2022-07-17T21:36:42.524Z"
   },
   {
    "duration": 173,
    "start_time": "2022-07-17T21:36:42.563Z"
   },
   {
    "duration": 86,
    "start_time": "2022-07-17T21:36:42.737Z"
   },
   {
    "duration": 29,
    "start_time": "2022-07-17T21:36:42.824Z"
   },
   {
    "duration": 121,
    "start_time": "2022-07-17T21:36:42.854Z"
   },
   {
    "duration": 12,
    "start_time": "2022-07-17T21:36:42.977Z"
   },
   {
    "duration": 31,
    "start_time": "2022-07-17T21:36:43.000Z"
   },
   {
    "duration": 4,
    "start_time": "2022-07-17T21:36:43.032Z"
   },
   {
    "duration": 31,
    "start_time": "2022-07-17T21:36:43.037Z"
   },
   {
    "duration": 38,
    "start_time": "2022-07-17T21:36:43.069Z"
   },
   {
    "duration": 97,
    "start_time": "2022-07-17T21:36:43.108Z"
   },
   {
    "duration": 581,
    "start_time": "2022-07-17T21:36:43.206Z"
   },
   {
    "duration": 521,
    "start_time": "2022-07-17T21:36:43.788Z"
   },
   {
    "duration": 391,
    "start_time": "2022-07-17T21:36:44.311Z"
   },
   {
    "duration": 137,
    "start_time": "2022-07-17T21:36:44.704Z"
   },
   {
    "duration": 84,
    "start_time": "2022-07-17T21:36:44.843Z"
   },
   {
    "duration": 76,
    "start_time": "2022-07-17T21:36:44.929Z"
   },
   {
    "duration": 14202,
    "start_time": "2022-07-17T21:36:45.006Z"
   },
   {
    "duration": 2095,
    "start_time": "2022-07-17T21:36:59.210Z"
   },
   {
    "duration": 1372,
    "start_time": "2022-07-17T21:37:53.598Z"
   },
   {
    "duration": 2,
    "start_time": "2022-07-17T21:37:54.972Z"
   },
   {
    "duration": 890,
    "start_time": "2022-07-17T21:37:54.975Z"
   },
   {
    "duration": 5,
    "start_time": "2022-07-17T21:37:55.867Z"
   },
   {
    "duration": 29,
    "start_time": "2022-07-17T21:37:55.874Z"
   },
   {
    "duration": 87,
    "start_time": "2022-07-17T21:37:55.904Z"
   },
   {
    "duration": 69,
    "start_time": "2022-07-17T21:37:55.992Z"
   },
   {
    "duration": 124,
    "start_time": "2022-07-17T21:37:56.062Z"
   },
   {
    "duration": 30,
    "start_time": "2022-07-17T21:37:56.188Z"
   },
   {
    "duration": 175,
    "start_time": "2022-07-17T21:37:56.219Z"
   },
   {
    "duration": 85,
    "start_time": "2022-07-17T21:37:56.396Z"
   },
   {
    "duration": 34,
    "start_time": "2022-07-17T21:37:56.483Z"
   },
   {
    "duration": 119,
    "start_time": "2022-07-17T21:37:56.518Z"
   },
   {
    "duration": 11,
    "start_time": "2022-07-17T21:37:56.640Z"
   },
   {
    "duration": 27,
    "start_time": "2022-07-17T21:37:56.652Z"
   },
   {
    "duration": 20,
    "start_time": "2022-07-17T21:37:56.681Z"
   },
   {
    "duration": 22,
    "start_time": "2022-07-17T21:37:56.702Z"
   },
   {
    "duration": 41,
    "start_time": "2022-07-17T21:37:56.726Z"
   },
   {
    "duration": 96,
    "start_time": "2022-07-17T21:37:56.769Z"
   },
   {
    "duration": 565,
    "start_time": "2022-07-17T21:37:56.867Z"
   },
   {
    "duration": 508,
    "start_time": "2022-07-17T21:37:57.434Z"
   },
   {
    "duration": 391,
    "start_time": "2022-07-17T21:37:57.943Z"
   },
   {
    "duration": 153,
    "start_time": "2022-07-17T21:37:58.336Z"
   },
   {
    "duration": 61,
    "start_time": "2022-07-17T21:37:58.500Z"
   },
   {
    "duration": 69,
    "start_time": "2022-07-17T21:37:58.562Z"
   },
   {
    "duration": 15276,
    "start_time": "2022-07-17T21:37:58.633Z"
   },
   {
    "duration": 2109,
    "start_time": "2022-07-17T21:38:13.913Z"
   },
   {
    "duration": 1315,
    "start_time": "2022-07-17T21:38:37.782Z"
   },
   {
    "duration": 3,
    "start_time": "2022-07-17T21:38:39.099Z"
   },
   {
    "duration": 900,
    "start_time": "2022-07-17T21:38:39.104Z"
   },
   {
    "duration": 5,
    "start_time": "2022-07-17T21:38:40.006Z"
   },
   {
    "duration": 27,
    "start_time": "2022-07-17T21:38:40.012Z"
   },
   {
    "duration": 100,
    "start_time": "2022-07-17T21:38:40.040Z"
   },
   {
    "duration": 74,
    "start_time": "2022-07-17T21:38:40.141Z"
   },
   {
    "duration": 105,
    "start_time": "2022-07-17T21:38:40.216Z"
   },
   {
    "duration": 39,
    "start_time": "2022-07-17T21:38:40.323Z"
   },
   {
    "duration": 191,
    "start_time": "2022-07-17T21:38:40.364Z"
   },
   {
    "duration": 92,
    "start_time": "2022-07-17T21:38:40.556Z"
   },
   {
    "duration": 29,
    "start_time": "2022-07-17T21:38:40.650Z"
   },
   {
    "duration": 123,
    "start_time": "2022-07-17T21:38:40.681Z"
   },
   {
    "duration": 11,
    "start_time": "2022-07-17T21:38:40.805Z"
   },
   {
    "duration": 31,
    "start_time": "2022-07-17T21:38:40.817Z"
   },
   {
    "duration": 2,
    "start_time": "2022-07-17T21:38:40.850Z"
   },
   {
    "duration": 23,
    "start_time": "2022-07-17T21:38:40.854Z"
   },
   {
    "duration": 43,
    "start_time": "2022-07-17T21:38:40.878Z"
   },
   {
    "duration": 108,
    "start_time": "2022-07-17T21:38:40.923Z"
   },
   {
    "duration": 578,
    "start_time": "2022-07-17T21:38:41.033Z"
   },
   {
    "duration": 490,
    "start_time": "2022-07-17T21:38:41.612Z"
   },
   {
    "duration": 379,
    "start_time": "2022-07-17T21:38:42.104Z"
   },
   {
    "duration": 144,
    "start_time": "2022-07-17T21:38:42.484Z"
   },
   {
    "duration": 82,
    "start_time": "2022-07-17T21:38:42.629Z"
   },
   {
    "duration": 44,
    "start_time": "2022-07-17T21:38:42.712Z"
   },
   {
    "duration": 14647,
    "start_time": "2022-07-17T21:38:42.757Z"
   },
   {
    "duration": 1869,
    "start_time": "2022-07-17T21:38:57.405Z"
   },
   {
    "duration": 55621,
    "start_time": "2022-07-17T21:38:59.277Z"
   },
   {
    "duration": 3,
    "start_time": "2022-07-17T21:39:54.900Z"
   },
   {
    "duration": 7212,
    "start_time": "2022-07-17T21:39:54.904Z"
   },
   {
    "duration": 1377,
    "start_time": "2022-07-17T21:40:07.992Z"
   },
   {
    "duration": 2,
    "start_time": "2022-07-17T21:40:09.371Z"
   },
   {
    "duration": 835,
    "start_time": "2022-07-17T21:40:09.374Z"
   },
   {
    "duration": 5,
    "start_time": "2022-07-17T21:40:10.211Z"
   },
   {
    "duration": 17,
    "start_time": "2022-07-17T21:40:10.217Z"
   },
   {
    "duration": 93,
    "start_time": "2022-07-17T21:40:10.236Z"
   },
   {
    "duration": 70,
    "start_time": "2022-07-17T21:40:10.331Z"
   },
   {
    "duration": 101,
    "start_time": "2022-07-17T21:40:10.403Z"
   },
   {
    "duration": 30,
    "start_time": "2022-07-17T21:40:10.506Z"
   },
   {
    "duration": 173,
    "start_time": "2022-07-17T21:40:10.538Z"
   },
   {
    "duration": 92,
    "start_time": "2022-07-17T21:40:10.712Z"
   },
   {
    "duration": 30,
    "start_time": "2022-07-17T21:40:10.805Z"
   },
   {
    "duration": 128,
    "start_time": "2022-07-17T21:40:10.837Z"
   },
   {
    "duration": 11,
    "start_time": "2022-07-17T21:40:10.967Z"
   },
   {
    "duration": 47,
    "start_time": "2022-07-17T21:40:10.979Z"
   },
   {
    "duration": 3,
    "start_time": "2022-07-17T21:40:11.027Z"
   },
   {
    "duration": 14,
    "start_time": "2022-07-17T21:40:11.032Z"
   },
   {
    "duration": 28,
    "start_time": "2022-07-17T21:40:11.048Z"
   },
   {
    "duration": 112,
    "start_time": "2022-07-17T21:40:11.077Z"
   },
   {
    "duration": 584,
    "start_time": "2022-07-17T21:40:11.191Z"
   },
   {
    "duration": 517,
    "start_time": "2022-07-17T21:40:11.777Z"
   },
   {
    "duration": 414,
    "start_time": "2022-07-17T21:40:12.295Z"
   },
   {
    "duration": 145,
    "start_time": "2022-07-17T21:40:12.710Z"
   },
   {
    "duration": 89,
    "start_time": "2022-07-17T21:40:12.856Z"
   },
   {
    "duration": 70,
    "start_time": "2022-07-17T21:40:12.946Z"
   },
   {
    "duration": 15485,
    "start_time": "2022-07-17T21:40:13.017Z"
   },
   {
    "duration": 1874,
    "start_time": "2022-07-17T21:40:28.504Z"
   },
   {
    "duration": 1251,
    "start_time": "2022-07-17T21:40:36.169Z"
   },
   {
    "duration": 3,
    "start_time": "2022-07-17T21:40:37.422Z"
   },
   {
    "duration": 861,
    "start_time": "2022-07-17T21:40:37.426Z"
   },
   {
    "duration": 4,
    "start_time": "2022-07-17T21:40:38.290Z"
   },
   {
    "duration": 14,
    "start_time": "2022-07-17T21:40:38.301Z"
   },
   {
    "duration": 112,
    "start_time": "2022-07-17T21:40:38.317Z"
   },
   {
    "duration": 74,
    "start_time": "2022-07-17T21:40:38.431Z"
   },
   {
    "duration": 109,
    "start_time": "2022-07-17T21:40:38.506Z"
   },
   {
    "duration": 39,
    "start_time": "2022-07-17T21:40:38.616Z"
   },
   {
    "duration": 194,
    "start_time": "2022-07-17T21:40:38.658Z"
   },
   {
    "duration": 99,
    "start_time": "2022-07-17T21:40:38.854Z"
   },
   {
    "duration": 31,
    "start_time": "2022-07-17T21:40:38.955Z"
   },
   {
    "duration": 126,
    "start_time": "2022-07-17T21:40:39.000Z"
   },
   {
    "duration": 12,
    "start_time": "2022-07-17T21:40:39.127Z"
   },
   {
    "duration": 32,
    "start_time": "2022-07-17T21:40:39.141Z"
   },
   {
    "duration": 26,
    "start_time": "2022-07-17T21:40:39.175Z"
   },
   {
    "duration": 17,
    "start_time": "2022-07-17T21:40:39.203Z"
   },
   {
    "duration": 42,
    "start_time": "2022-07-17T21:40:39.221Z"
   },
   {
    "duration": 120,
    "start_time": "2022-07-17T21:40:39.265Z"
   },
   {
    "duration": 611,
    "start_time": "2022-07-17T21:40:39.387Z"
   },
   {
    "duration": 524,
    "start_time": "2022-07-17T21:40:40.000Z"
   },
   {
    "duration": 391,
    "start_time": "2022-07-17T21:40:40.526Z"
   },
   {
    "duration": 144,
    "start_time": "2022-07-17T21:40:40.919Z"
   },
   {
    "duration": 85,
    "start_time": "2022-07-17T21:40:41.064Z"
   },
   {
    "duration": 67,
    "start_time": "2022-07-17T21:40:41.150Z"
   },
   {
    "duration": 15188,
    "start_time": "2022-07-17T21:40:41.219Z"
   },
   {
    "duration": 1973,
    "start_time": "2022-07-17T21:40:56.409Z"
   },
   {
    "duration": 1338,
    "start_time": "2022-07-17T21:41:13.227Z"
   },
   {
    "duration": 2,
    "start_time": "2022-07-17T21:41:14.569Z"
   },
   {
    "duration": 1019,
    "start_time": "2022-07-17T21:41:14.572Z"
   },
   {
    "duration": 5,
    "start_time": "2022-07-17T21:41:15.593Z"
   },
   {
    "duration": 16,
    "start_time": "2022-07-17T21:41:15.601Z"
   },
   {
    "duration": 109,
    "start_time": "2022-07-17T21:41:15.618Z"
   },
   {
    "duration": 74,
    "start_time": "2022-07-17T21:41:15.729Z"
   },
   {
    "duration": 106,
    "start_time": "2022-07-17T21:41:15.805Z"
   },
   {
    "duration": 43,
    "start_time": "2022-07-17T21:41:15.912Z"
   },
   {
    "duration": 175,
    "start_time": "2022-07-17T21:41:15.958Z"
   },
   {
    "duration": 93,
    "start_time": "2022-07-17T21:41:16.135Z"
   },
   {
    "duration": 29,
    "start_time": "2022-07-17T21:41:16.230Z"
   },
   {
    "duration": 120,
    "start_time": "2022-07-17T21:41:16.261Z"
   },
   {
    "duration": 20,
    "start_time": "2022-07-17T21:41:16.383Z"
   },
   {
    "duration": 30,
    "start_time": "2022-07-17T21:41:16.404Z"
   },
   {
    "duration": 3,
    "start_time": "2022-07-17T21:41:16.436Z"
   },
   {
    "duration": 16,
    "start_time": "2022-07-17T21:41:16.440Z"
   },
   {
    "duration": 48,
    "start_time": "2022-07-17T21:41:16.458Z"
   },
   {
    "duration": 109,
    "start_time": "2022-07-17T21:41:16.507Z"
   },
   {
    "duration": 553,
    "start_time": "2022-07-17T21:41:16.617Z"
   },
   {
    "duration": 500,
    "start_time": "2022-07-17T21:41:17.172Z"
   },
   {
    "duration": 380,
    "start_time": "2022-07-17T21:41:17.674Z"
   },
   {
    "duration": 133,
    "start_time": "2022-07-17T21:41:18.056Z"
   },
   {
    "duration": 58,
    "start_time": "2022-07-17T21:41:18.201Z"
   },
   {
    "duration": 68,
    "start_time": "2022-07-17T21:41:18.260Z"
   },
   {
    "duration": 17478,
    "start_time": "2022-07-17T21:41:18.330Z"
   },
   {
    "duration": 1929,
    "start_time": "2022-07-17T21:41:35.810Z"
   },
   {
    "duration": 1392,
    "start_time": "2022-07-17T21:42:06.183Z"
   },
   {
    "duration": 3,
    "start_time": "2022-07-17T21:42:07.577Z"
   },
   {
    "duration": 849,
    "start_time": "2022-07-17T21:42:07.581Z"
   },
   {
    "duration": 5,
    "start_time": "2022-07-17T21:42:08.432Z"
   },
   {
    "duration": 15,
    "start_time": "2022-07-17T21:42:08.440Z"
   },
   {
    "duration": 117,
    "start_time": "2022-07-17T21:42:08.456Z"
   },
   {
    "duration": 74,
    "start_time": "2022-07-17T21:42:08.575Z"
   },
   {
    "duration": 109,
    "start_time": "2022-07-17T21:42:08.651Z"
   },
   {
    "duration": 48,
    "start_time": "2022-07-17T21:42:08.762Z"
   },
   {
    "duration": 167,
    "start_time": "2022-07-17T21:42:08.811Z"
   },
   {
    "duration": 94,
    "start_time": "2022-07-17T21:42:08.980Z"
   },
   {
    "duration": 34,
    "start_time": "2022-07-17T21:42:09.076Z"
   },
   {
    "duration": 118,
    "start_time": "2022-07-17T21:42:09.111Z"
   },
   {
    "duration": 11,
    "start_time": "2022-07-17T21:42:09.232Z"
   },
   {
    "duration": 31,
    "start_time": "2022-07-17T21:42:09.244Z"
   },
   {
    "duration": 3,
    "start_time": "2022-07-17T21:42:09.277Z"
   },
   {
    "duration": 30,
    "start_time": "2022-07-17T21:42:09.281Z"
   },
   {
    "duration": 29,
    "start_time": "2022-07-17T21:42:09.312Z"
   },
   {
    "duration": 111,
    "start_time": "2022-07-17T21:42:09.342Z"
   },
   {
    "duration": 572,
    "start_time": "2022-07-17T21:42:09.455Z"
   },
   {
    "duration": 502,
    "start_time": "2022-07-17T21:42:10.029Z"
   },
   {
    "duration": 396,
    "start_time": "2022-07-17T21:42:10.533Z"
   },
   {
    "duration": 136,
    "start_time": "2022-07-17T21:42:10.930Z"
   },
   {
    "duration": 78,
    "start_time": "2022-07-17T21:42:11.067Z"
   },
   {
    "duration": 67,
    "start_time": "2022-07-17T21:42:11.146Z"
   },
   {
    "duration": 16787,
    "start_time": "2022-07-17T21:42:11.215Z"
   },
   {
    "duration": 1950,
    "start_time": "2022-07-17T21:42:28.003Z"
   },
   {
    "duration": 9683,
    "start_time": "2022-07-17T21:42:29.954Z"
   },
   {
    "duration": 3,
    "start_time": "2022-07-17T21:42:39.639Z"
   },
   {
    "duration": 7052,
    "start_time": "2022-07-17T21:42:39.643Z"
   },
   {
    "duration": 10208,
    "start_time": "2022-07-17T21:42:46.701Z"
   },
   {
    "duration": 144,
    "start_time": "2022-07-17T21:42:56.911Z"
   },
   {
    "duration": 219,
    "start_time": "2022-07-17T21:42:57.057Z"
   },
   {
    "duration": 8,
    "start_time": "2022-07-17T21:42:57.278Z"
   },
   {
    "duration": 44,
    "start_time": "2022-07-17T21:45:17.901Z"
   },
   {
    "duration": 54,
    "start_time": "2022-07-17T21:45:37.973Z"
   },
   {
    "duration": 14386,
    "start_time": "2022-07-17T21:47:29.522Z"
   },
   {
    "duration": 14736,
    "start_time": "2022-07-17T21:49:04.711Z"
   },
   {
    "duration": 1782,
    "start_time": "2022-07-17T21:55:43.575Z"
   },
   {
    "duration": 1368,
    "start_time": "2022-07-17T22:03:47.482Z"
   },
   {
    "duration": 2,
    "start_time": "2022-07-17T22:03:48.852Z"
   },
   {
    "duration": 879,
    "start_time": "2022-07-17T22:03:48.856Z"
   },
   {
    "duration": 5,
    "start_time": "2022-07-17T22:03:49.737Z"
   },
   {
    "duration": 21,
    "start_time": "2022-07-17T22:03:49.744Z"
   },
   {
    "duration": 126,
    "start_time": "2022-07-17T22:03:49.766Z"
   },
   {
    "duration": 67,
    "start_time": "2022-07-17T22:03:49.901Z"
   },
   {
    "duration": 109,
    "start_time": "2022-07-17T22:03:49.969Z"
   },
   {
    "duration": 49,
    "start_time": "2022-07-17T22:03:50.079Z"
   },
   {
    "duration": 170,
    "start_time": "2022-07-17T22:03:50.131Z"
   },
   {
    "duration": 86,
    "start_time": "2022-07-17T22:03:50.302Z"
   },
   {
    "duration": 39,
    "start_time": "2022-07-17T22:03:50.389Z"
   },
   {
    "duration": 122,
    "start_time": "2022-07-17T22:03:50.429Z"
   },
   {
    "duration": 11,
    "start_time": "2022-07-17T22:03:50.553Z"
   },
   {
    "duration": 43,
    "start_time": "2022-07-17T22:03:50.565Z"
   },
   {
    "duration": 3,
    "start_time": "2022-07-17T22:03:50.610Z"
   },
   {
    "duration": 20,
    "start_time": "2022-07-17T22:03:50.615Z"
   },
   {
    "duration": 28,
    "start_time": "2022-07-17T22:03:50.637Z"
   },
   {
    "duration": 119,
    "start_time": "2022-07-17T22:03:50.666Z"
   },
   {
    "duration": 566,
    "start_time": "2022-07-17T22:03:50.787Z"
   },
   {
    "duration": 500,
    "start_time": "2022-07-17T22:03:51.355Z"
   },
   {
    "duration": 14596,
    "start_time": "2022-07-17T22:03:51.857Z"
   },
   {
    "duration": 390,
    "start_time": "2022-07-17T22:04:06.454Z"
   },
   {
    "duration": 157,
    "start_time": "2022-07-17T22:04:06.846Z"
   },
   {
    "duration": 97,
    "start_time": "2022-07-17T22:04:07.005Z"
   },
   {
    "duration": 58,
    "start_time": "2022-07-17T22:04:07.104Z"
   },
   {
    "duration": 19438,
    "start_time": "2022-07-17T22:04:07.164Z"
   },
   {
    "duration": 170,
    "start_time": "2022-07-17T22:04:26.604Z"
   },
   {
    "duration": 0,
    "start_time": "2022-07-17T22:04:26.775Z"
   },
   {
    "duration": 0,
    "start_time": "2022-07-17T22:04:26.777Z"
   },
   {
    "duration": 0,
    "start_time": "2022-07-17T22:04:26.778Z"
   },
   {
    "duration": 0,
    "start_time": "2022-07-17T22:04:26.779Z"
   },
   {
    "duration": 0,
    "start_time": "2022-07-17T22:04:26.780Z"
   },
   {
    "duration": 0,
    "start_time": "2022-07-17T22:04:26.781Z"
   },
   {
    "duration": 0,
    "start_time": "2022-07-17T22:04:26.781Z"
   },
   {
    "duration": 1953,
    "start_time": "2022-07-17T22:04:59.783Z"
   },
   {
    "duration": 1525,
    "start_time": "2022-07-18T20:00:40.589Z"
   },
   {
    "duration": 3,
    "start_time": "2022-07-18T20:00:42.116Z"
   },
   {
    "duration": 1234,
    "start_time": "2022-07-18T20:00:42.121Z"
   },
   {
    "duration": 5,
    "start_time": "2022-07-18T20:00:43.357Z"
   },
   {
    "duration": 25,
    "start_time": "2022-07-18T20:00:43.364Z"
   },
   {
    "duration": 148,
    "start_time": "2022-07-18T20:00:43.390Z"
   },
   {
    "duration": 80,
    "start_time": "2022-07-18T20:00:43.545Z"
   },
   {
    "duration": 129,
    "start_time": "2022-07-18T20:00:43.627Z"
   },
   {
    "duration": 42,
    "start_time": "2022-07-18T20:00:43.758Z"
   },
   {
    "duration": 216,
    "start_time": "2022-07-18T20:00:43.801Z"
   },
   {
    "duration": 103,
    "start_time": "2022-07-18T20:00:44.019Z"
   },
   {
    "duration": 39,
    "start_time": "2022-07-18T20:00:44.124Z"
   },
   {
    "duration": 127,
    "start_time": "2022-07-18T20:00:44.165Z"
   },
   {
    "duration": 12,
    "start_time": "2022-07-18T20:00:44.295Z"
   },
   {
    "duration": 53,
    "start_time": "2022-07-18T20:00:44.309Z"
   },
   {
    "duration": 3,
    "start_time": "2022-07-18T20:00:44.364Z"
   },
   {
    "duration": 52,
    "start_time": "2022-07-18T20:00:44.369Z"
   },
   {
    "duration": 44,
    "start_time": "2022-07-18T20:00:44.423Z"
   },
   {
    "duration": 119,
    "start_time": "2022-07-18T20:00:44.469Z"
   },
   {
    "duration": 636,
    "start_time": "2022-07-18T20:00:44.590Z"
   },
   {
    "duration": 557,
    "start_time": "2022-07-18T20:00:45.228Z"
   },
   {
    "duration": 14574,
    "start_time": "2022-07-18T20:00:45.787Z"
   },
   {
    "duration": 413,
    "start_time": "2022-07-18T20:01:00.363Z"
   },
   {
    "duration": 145,
    "start_time": "2022-07-18T20:01:00.778Z"
   },
   {
    "duration": 87,
    "start_time": "2022-07-18T20:01:00.925Z"
   },
   {
    "duration": 79,
    "start_time": "2022-07-18T20:01:01.013Z"
   },
   {
    "duration": 21160,
    "start_time": "2022-07-18T20:01:01.094Z"
   },
   {
    "duration": 2044,
    "start_time": "2022-07-18T20:01:22.347Z"
   },
   {
    "duration": 5,
    "start_time": "2022-07-18T20:03:56.846Z"
   },
   {
    "duration": 7532,
    "start_time": "2022-07-18T20:03:56.852Z"
   },
   {
    "duration": 11070,
    "start_time": "2022-07-18T20:04:04.386Z"
   },
   {
    "duration": 177,
    "start_time": "2022-07-18T20:04:15.457Z"
   },
   {
    "duration": 61,
    "start_time": "2022-07-18T20:04:15.635Z"
   },
   {
    "duration": 10,
    "start_time": "2022-07-18T20:04:15.697Z"
   },
   {
    "duration": 0,
    "start_time": "2022-07-18T20:04:15.709Z"
   },
   {
    "duration": 1414,
    "start_time": "2022-07-18T20:08:17.995Z"
   },
   {
    "duration": 3,
    "start_time": "2022-07-18T20:08:19.411Z"
   },
   {
    "duration": 928,
    "start_time": "2022-07-18T20:08:19.415Z"
   },
   {
    "duration": 5,
    "start_time": "2022-07-18T20:08:20.344Z"
   },
   {
    "duration": 16,
    "start_time": "2022-07-18T20:08:20.351Z"
   },
   {
    "duration": 130,
    "start_time": "2022-07-18T20:08:20.368Z"
   },
   {
    "duration": 86,
    "start_time": "2022-07-18T20:08:20.499Z"
   },
   {
    "duration": 123,
    "start_time": "2022-07-18T20:08:20.587Z"
   },
   {
    "duration": 51,
    "start_time": "2022-07-18T20:08:20.712Z"
   },
   {
    "duration": 195,
    "start_time": "2022-07-18T20:08:20.765Z"
   },
   {
    "duration": 99,
    "start_time": "2022-07-18T20:08:20.962Z"
   },
   {
    "duration": 33,
    "start_time": "2022-07-18T20:08:21.063Z"
   },
   {
    "duration": 124,
    "start_time": "2022-07-18T20:08:21.098Z"
   },
   {
    "duration": 23,
    "start_time": "2022-07-18T20:08:21.225Z"
   },
   {
    "duration": 33,
    "start_time": "2022-07-18T20:08:21.250Z"
   },
   {
    "duration": 4,
    "start_time": "2022-07-18T20:08:21.285Z"
   },
   {
    "duration": 18,
    "start_time": "2022-07-18T20:08:21.290Z"
   },
   {
    "duration": 49,
    "start_time": "2022-07-18T20:08:21.309Z"
   },
   {
    "duration": 116,
    "start_time": "2022-07-18T20:08:21.359Z"
   },
   {
    "duration": 631,
    "start_time": "2022-07-18T20:08:21.476Z"
   },
   {
    "duration": 551,
    "start_time": "2022-07-18T20:08:22.109Z"
   },
   {
    "duration": 14142,
    "start_time": "2022-07-18T20:08:22.662Z"
   },
   {
    "duration": 397,
    "start_time": "2022-07-18T20:08:36.806Z"
   },
   {
    "duration": 157,
    "start_time": "2022-07-18T20:08:37.204Z"
   },
   {
    "duration": 86,
    "start_time": "2022-07-18T20:08:37.363Z"
   },
   {
    "duration": 52,
    "start_time": "2022-07-18T20:08:37.450Z"
   },
   {
    "duration": 16651,
    "start_time": "2022-07-18T20:08:37.504Z"
   },
   {
    "duration": 1998,
    "start_time": "2022-07-18T20:08:54.246Z"
   },
   {
    "duration": 162021,
    "start_time": "2022-07-18T20:08:56.246Z"
   },
   {
    "duration": 3,
    "start_time": "2022-07-18T20:11:38.269Z"
   },
   {
    "duration": 7322,
    "start_time": "2022-07-18T20:11:38.273Z"
   },
   {
    "duration": 8161,
    "start_time": "2022-07-18T20:11:45.596Z"
   },
   {
    "duration": 186,
    "start_time": "2022-07-18T20:11:53.758Z"
   },
   {
    "duration": 53,
    "start_time": "2022-07-18T20:11:53.945Z"
   },
   {
    "duration": 9,
    "start_time": "2022-07-18T20:11:54.000Z"
   },
   {
    "duration": 4155,
    "start_time": "2022-07-18T20:13:48.201Z"
   },
   {
    "duration": 406,
    "start_time": "2022-07-18T20:14:00.468Z"
   },
   {
    "duration": 4,
    "start_time": "2022-07-18T20:14:09.133Z"
   }
  ],
  "kernelspec": {
   "display_name": "Python 3 (ipykernel)",
   "language": "python",
   "name": "python3"
  },
  "language_info": {
   "codemirror_mode": {
    "name": "ipython",
    "version": 3
   },
   "file_extension": ".py",
   "mimetype": "text/x-python",
   "name": "python",
   "nbconvert_exporter": "python",
   "pygments_lexer": "ipython3",
   "version": "3.9.7"
  },
  "toc": {
   "base_numbering": 1,
   "nav_menu": {},
   "number_sections": true,
   "sideBar": true,
   "skip_h1_title": true,
   "title_cell": "Table of Contents",
   "title_sidebar": "Contents",
   "toc_cell": false,
   "toc_position": {},
   "toc_section_display": true,
   "toc_window_display": false
  }
 },
 "nbformat": 4,
 "nbformat_minor": 2
}
