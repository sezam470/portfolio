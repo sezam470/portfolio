{
 "cells": [
  {
   "cell_type": "markdown",
   "metadata": {
    "toc": true
   },
   "source": [
    "<h1>Содержание<span class=\"tocSkip\"></span></h1>\n",
    "<div class=\"toc\"><ul class=\"toc-item\"><li><span><a href=\"#Загрузка-данных\" data-toc-modified-id=\"Загрузка-данных-1\"><span class=\"toc-item-num\">1&nbsp;&nbsp;</span>Загрузка данных</a></span></li><li><span><a href=\"#Умножение-матриц\" data-toc-modified-id=\"Умножение-матриц-2\"><span class=\"toc-item-num\">2&nbsp;&nbsp;</span>Умножение матриц</a></span></li><li><span><a href=\"#Алгоритм-преобразования\" data-toc-modified-id=\"Алгоритм-преобразования-3\"><span class=\"toc-item-num\">3&nbsp;&nbsp;</span>Алгоритм преобразования</a></span></li><li><span><a href=\"#Проверка-алгоритма\" data-toc-modified-id=\"Проверка-алгоритма-4\"><span class=\"toc-item-num\">4&nbsp;&nbsp;</span>Проверка алгоритма</a></span></li><li><span><a href=\"#Чек-лист-проверки\" data-toc-modified-id=\"Чек-лист-проверки-5\"><span class=\"toc-item-num\">5&nbsp;&nbsp;</span>Чек-лист проверки</a></span></li></ul></div>"
   ]
  },
  {
   "cell_type": "markdown",
   "metadata": {},
   "source": [
    "# Защита персональных данных клиентов"
   ]
  },
  {
   "cell_type": "markdown",
   "metadata": {},
   "source": [
    "Вам нужно защитить данные клиентов страховой компании «Хоть потоп». Разработайте такой метод преобразования данных, чтобы по ним было сложно восстановить персональную информацию. Обоснуйте корректность его работы.\n",
    "\n",
    "Нужно защитить данные, чтобы при преобразовании качество моделей машинного обучения не ухудшилось. Подбирать наилучшую модель не требуется."
   ]
  },
  {
   "cell_type": "markdown",
   "metadata": {},
   "source": [
    "## Загрузка данных"
   ]
  },
  {
   "cell_type": "code",
   "execution_count": 1,
   "metadata": {},
   "outputs": [],
   "source": [
    "import pandas as pd\n",
    "import numpy as np\n",
    "from sklearn.linear_model import LinearRegression\n",
    "from sklearn.model_selection import train_test_split\n",
    "from sklearn.metrics import r2_score"
   ]
  },
  {
   "cell_type": "code",
   "execution_count": 2,
   "metadata": {},
   "outputs": [],
   "source": [
    "RANDOM_STATE = 12345"
   ]
  },
  {
   "cell_type": "code",
   "execution_count": 3,
   "metadata": {},
   "outputs": [
    {
     "name": "stdout",
     "output_type": "stream",
     "text": [
      "<class 'pandas.core.frame.DataFrame'>\n",
      "RangeIndex: 5000 entries, 0 to 4999\n",
      "Data columns (total 5 columns):\n",
      " #   Column             Non-Null Count  Dtype  \n",
      "---  ------             --------------  -----  \n",
      " 0   Пол                5000 non-null   int64  \n",
      " 1   Возраст            5000 non-null   float64\n",
      " 2   Зарплата           5000 non-null   float64\n",
      " 3   Члены семьи        5000 non-null   int64  \n",
      " 4   Страховые выплаты  5000 non-null   int64  \n",
      "dtypes: float64(2), int64(3)\n",
      "memory usage: 195.4 KB\n"
     ]
    }
   ],
   "source": [
    "df = pd.read_csv('datasets/insurance.csv')\n",
    "df.info()"
   ]
  },
  {
   "cell_type": "code",
   "execution_count": 4,
   "metadata": {},
   "outputs": [
    {
     "data": {
      "text/html": [
       "<div>\n",
       "<style scoped>\n",
       "    .dataframe tbody tr th:only-of-type {\n",
       "        vertical-align: middle;\n",
       "    }\n",
       "\n",
       "    .dataframe tbody tr th {\n",
       "        vertical-align: top;\n",
       "    }\n",
       "\n",
       "    .dataframe thead th {\n",
       "        text-align: right;\n",
       "    }\n",
       "</style>\n",
       "<table border=\"1\" class=\"dataframe\">\n",
       "  <thead>\n",
       "    <tr style=\"text-align: right;\">\n",
       "      <th></th>\n",
       "      <th>Пол</th>\n",
       "      <th>Возраст</th>\n",
       "      <th>Зарплата</th>\n",
       "      <th>Члены семьи</th>\n",
       "      <th>Страховые выплаты</th>\n",
       "    </tr>\n",
       "  </thead>\n",
       "  <tbody>\n",
       "    <tr>\n",
       "      <th>0</th>\n",
       "      <td>1</td>\n",
       "      <td>41.0</td>\n",
       "      <td>49600.0</td>\n",
       "      <td>1</td>\n",
       "      <td>0</td>\n",
       "    </tr>\n",
       "    <tr>\n",
       "      <th>1</th>\n",
       "      <td>0</td>\n",
       "      <td>46.0</td>\n",
       "      <td>38000.0</td>\n",
       "      <td>1</td>\n",
       "      <td>1</td>\n",
       "    </tr>\n",
       "    <tr>\n",
       "      <th>2</th>\n",
       "      <td>0</td>\n",
       "      <td>29.0</td>\n",
       "      <td>21000.0</td>\n",
       "      <td>0</td>\n",
       "      <td>0</td>\n",
       "    </tr>\n",
       "    <tr>\n",
       "      <th>3</th>\n",
       "      <td>0</td>\n",
       "      <td>21.0</td>\n",
       "      <td>41700.0</td>\n",
       "      <td>2</td>\n",
       "      <td>0</td>\n",
       "    </tr>\n",
       "    <tr>\n",
       "      <th>4</th>\n",
       "      <td>1</td>\n",
       "      <td>28.0</td>\n",
       "      <td>26100.0</td>\n",
       "      <td>0</td>\n",
       "      <td>0</td>\n",
       "    </tr>\n",
       "  </tbody>\n",
       "</table>\n",
       "</div>"
      ],
      "text/plain": [
       "   Пол  Возраст  Зарплата  Члены семьи  Страховые выплаты\n",
       "0    1     41.0   49600.0            1                  0\n",
       "1    0     46.0   38000.0            1                  1\n",
       "2    0     29.0   21000.0            0                  0\n",
       "3    0     21.0   41700.0            2                  0\n",
       "4    1     28.0   26100.0            0                  0"
      ]
     },
     "execution_count": 4,
     "metadata": {},
     "output_type": "execute_result"
    }
   ],
   "source": [
    "df.head()"
   ]
  },
  {
   "cell_type": "code",
   "execution_count": 5,
   "metadata": {},
   "outputs": [
    {
     "data": {
      "text/html": [
       "<div>\n",
       "<style scoped>\n",
       "    .dataframe tbody tr th:only-of-type {\n",
       "        vertical-align: middle;\n",
       "    }\n",
       "\n",
       "    .dataframe tbody tr th {\n",
       "        vertical-align: top;\n",
       "    }\n",
       "\n",
       "    .dataframe thead th {\n",
       "        text-align: right;\n",
       "    }\n",
       "</style>\n",
       "<table border=\"1\" class=\"dataframe\">\n",
       "  <thead>\n",
       "    <tr style=\"text-align: right;\">\n",
       "      <th></th>\n",
       "      <th>Пол</th>\n",
       "      <th>Возраст</th>\n",
       "      <th>Зарплата</th>\n",
       "      <th>Члены семьи</th>\n",
       "      <th>Страховые выплаты</th>\n",
       "    </tr>\n",
       "  </thead>\n",
       "  <tbody>\n",
       "    <tr>\n",
       "      <th>0</th>\n",
       "      <td>1.0</td>\n",
       "      <td>41.0</td>\n",
       "      <td>49600.0</td>\n",
       "      <td>1.0</td>\n",
       "      <td>0.0</td>\n",
       "    </tr>\n",
       "    <tr>\n",
       "      <th>1</th>\n",
       "      <td>0.0</td>\n",
       "      <td>46.0</td>\n",
       "      <td>38000.0</td>\n",
       "      <td>1.0</td>\n",
       "      <td>1.0</td>\n",
       "    </tr>\n",
       "    <tr>\n",
       "      <th>2</th>\n",
       "      <td>0.0</td>\n",
       "      <td>29.0</td>\n",
       "      <td>21000.0</td>\n",
       "      <td>0.0</td>\n",
       "      <td>0.0</td>\n",
       "    </tr>\n",
       "    <tr>\n",
       "      <th>3</th>\n",
       "      <td>0.0</td>\n",
       "      <td>21.0</td>\n",
       "      <td>41700.0</td>\n",
       "      <td>2.0</td>\n",
       "      <td>0.0</td>\n",
       "    </tr>\n",
       "    <tr>\n",
       "      <th>4</th>\n",
       "      <td>1.0</td>\n",
       "      <td>28.0</td>\n",
       "      <td>26100.0</td>\n",
       "      <td>0.0</td>\n",
       "      <td>0.0</td>\n",
       "    </tr>\n",
       "  </tbody>\n",
       "</table>\n",
       "</div>"
      ],
      "text/plain": [
       "   Пол  Возраст  Зарплата  Члены семьи  Страховые выплаты\n",
       "0  1.0     41.0   49600.0          1.0                0.0\n",
       "1  0.0     46.0   38000.0          1.0                1.0\n",
       "2  0.0     29.0   21000.0          0.0                0.0\n",
       "3  0.0     21.0   41700.0          2.0                0.0\n",
       "4  1.0     28.0   26100.0          0.0                0.0"
      ]
     },
     "execution_count": 5,
     "metadata": {},
     "output_type": "execute_result"
    }
   ],
   "source": [
    "df['Пол'] = df['Пол'].astype(float)\n",
    "df['Члены семьи'] = df['Члены семьи'].astype(float)\n",
    "df['Страховые выплаты'] = df['Страховые выплаты'].astype(float)\n",
    "df.head()"
   ]
  },
  {
   "cell_type": "code",
   "execution_count": 6,
   "metadata": {},
   "outputs": [
    {
     "data": {
      "text/plain": [
       "(5000, 5)"
      ]
     },
     "execution_count": 6,
     "metadata": {},
     "output_type": "execute_result"
    }
   ],
   "source": [
    "df.shape"
   ]
  },
  {
   "cell_type": "code",
   "execution_count": 7,
   "metadata": {
    "scrolled": true
   },
   "outputs": [
    {
     "data": {
      "text/plain": [
       "array([[1.00e+00, 4.10e+01, 4.96e+04, 1.00e+00, 0.00e+00],\n",
       "       [0.00e+00, 4.60e+01, 3.80e+04, 1.00e+00, 1.00e+00],\n",
       "       [0.00e+00, 2.90e+01, 2.10e+04, 0.00e+00, 0.00e+00],\n",
       "       ...,\n",
       "       [0.00e+00, 2.00e+01, 3.39e+04, 2.00e+00, 0.00e+00],\n",
       "       [1.00e+00, 2.20e+01, 3.27e+04, 3.00e+00, 0.00e+00],\n",
       "       [1.00e+00, 2.80e+01, 4.06e+04, 1.00e+00, 0.00e+00]])"
      ]
     },
     "execution_count": 7,
     "metadata": {},
     "output_type": "execute_result"
    }
   ],
   "source": [
    "df.values"
   ]
  },
  {
   "cell_type": "markdown",
   "metadata": {},
   "source": [
    "<div class=\"alert alert-block alert-info\">\n",
    "    \n",
    "Пропуски в данных отсутствуют.\n",
    "    \n",
    "Ширина матрицы признаков - 5 колонок вместе с целевым признаком, значит размер обратимой матрицы для домножения будет 4 х 4.\n",
    "    \n",
    "Целевой признак - Страховые выплаты.\n",
    "</div>"
   ]
  },
  {
   "cell_type": "markdown",
   "metadata": {},
   "source": [
    "## Умножение матриц"
   ]
  },
  {
   "cell_type": "markdown",
   "metadata": {},
   "source": [
    "В этом задании вы можете записывать формулы в *Jupyter Notebook.*\n",
    "\n",
    "Чтобы записать формулу внутри текста, окружите её символами доллара \\\\$; если снаружи —  двойными символами \\\\$\\\\$. Эти формулы записываются на языке вёрстки *LaTeX.* \n",
    "\n",
    "Для примера мы записали формулы линейной регрессии. Можете их скопировать и отредактировать, чтобы решить задачу.\n",
    "\n",
    "Работать в *LaTeX* необязательно."
   ]
  },
  {
   "cell_type": "markdown",
   "metadata": {},
   "source": [
    "Обозначения:\n",
    "\n",
    "- $X$ — матрица признаков (нулевой столбец состоит из единиц)\n",
    "\n",
    "- $y$ — вектор целевого признака\n",
    "\n",
    "- $P$ — матрица, на которую умножаются признаки\n",
    "\n",
    "- $w$ — вектор весов линейной регрессии (нулевой элемент равен сдвигу)"
   ]
  },
  {
   "cell_type": "markdown",
   "metadata": {},
   "source": [
    "Предсказания:\n",
    "\n",
    "$$\n",
    "a = Xw\n",
    "$$\n",
    "\n",
    "Задача обучения:\n",
    "\n",
    "$$\n",
    "w = \\arg\\min_w MSE(Xw, y)\n",
    "$$\n",
    "\n",
    "Формула обучения:\n",
    "\n",
    "$$\n",
    "w = (X^T X)^{-1} X^T y\n",
    "$$"
   ]
  },
  {
   "cell_type": "markdown",
   "metadata": {},
   "source": [
    "**Ответ:**\n",
    "\n",
    "При умножении признаков на обратимую матрицу качество линейной регрессии не изменится, если результат умножения признаков на обратимую матрицу умножить на обратную матрицу от матрицы, на которую умножали.\n",
    "\n",
    "\n",
    "**Обоснование:**\n",
    "\n",
    "$$\n",
    "w' = (X^T P^T X P)^{-1} X^T P^T y\n",
    "$$\n",
    "\n",
    "$$\n",
    "w' = ((XP)^T XP)^{-1} (XP)^T y\n",
    "$$\n",
    "\n",
    "$$\n",
    "w' = (P^T X^T XP)^{-1} P^T X^T y\n",
    "$$\n",
    "\n",
    "$$\n",
    "w' = P^{-1} (X^T X)^{-1} (P^T)^{-1} P^T X^T y\n",
    "$$\n",
    "\n",
    "$$\n",
    "w' = P^{-1} (X^T X)^{-1} X^T y\n",
    "$$\n",
    "\n",
    "$$\n",
    "w' = P^{-1} w\n",
    "$$\n",
    "\n",
    "$$\n",
    "w = P w'\n",
    "$$\n",
    "\n",
    "\n",
    "$$\n",
    "a' = XP P^{−1} w\n",
    "$$\n",
    "\n",
    "$$\n",
    "a' = Xw\n",
    "$$\n",
    "\n",
    "\n",
    "$$\n",
    "a' = a\n",
    "$$"
   ]
  },
  {
   "cell_type": "markdown",
   "metadata": {},
   "source": [
    "<div class=\"alert alert-block alert-info\">\n",
    "При перемножении матриц порядок множителей имеет принципиальное значение, поэтому раскрываем скобки мы только на базе вот этих свойств:\n",
    "$$\n",
    "(AB)^T=B^T A^T\n",
    "$$\n",
    "$$\n",
    "(AB)^{-1} = B^{-1} A^{-1}\n",
    "$$\n",
    "Произвольно менять порядок и переставлять матрицы как нам удобно мы не можем. Кроме того, мы производим домножение на случайную матрицу только справа, слева результаты линейной регрессии не будут совпадать\n",
    "</div>"
   ]
  },
  {
   "cell_type": "code",
   "execution_count": 8,
   "metadata": {},
   "outputs": [],
   "source": [
    "def check_score(f, t, custom_class=None, P=None):\n",
    "    features_train, features_valid, target_train, target_valid = train_test_split(f, t, test_size=0.25, random_state=RANDOM_STATE)\n",
    "    \n",
    "    print('features_train.head', features_train.head())\n",
    "    print()\n",
    "    print('features_valid.head', features_valid.head())\n",
    "    print()\n",
    "    print('target_train.head', target_train.head())\n",
    "    print()\n",
    "    print('target_valid.head', target_valid.head())\n",
    "    \n",
    "    model = None\n",
    "    if custom_class:\n",
    "        model = custom_class()\n",
    "    else:\n",
    "        model = LinearRegression()\n",
    "    \n",
    "    if P is not None:\n",
    "        model.fit(features_train, target_train, P)\n",
    "    else:\n",
    "        model.fit(features_train, target_train)\n",
    "    target_predictions = model.predict(features_valid)\n",
    "    \n",
    "    score = r2_score(target_valid, target_predictions)\n",
    "    return score\n",
    "    "
   ]
  },
  {
   "cell_type": "code",
   "execution_count": 9,
   "metadata": {},
   "outputs": [
    {
     "name": "stdout",
     "output_type": "stream",
     "text": [
      "target.head 0    0.0\n",
      "1    1.0\n",
      "2    0.0\n",
      "3    0.0\n",
      "4    0.0\n",
      "Name: Страховые выплаты, dtype: float64\n",
      "\n",
      "features.head    Пол  Возраст  Зарплата  Члены семьи\n",
      "0  1.0     41.0   49600.0          1.0\n",
      "1  0.0     46.0   38000.0          1.0\n",
      "2  0.0     29.0   21000.0          0.0\n",
      "3  0.0     21.0   41700.0          2.0\n",
      "4  1.0     28.0   26100.0          0.0\n"
     ]
    }
   ],
   "source": [
    "target = df['Страховые выплаты']\n",
    "features = df.drop(['Страховые выплаты'], axis=1)\n",
    "print('target.head', target.head())\n",
    "print()\n",
    "print('features.head', features.head())"
   ]
  },
  {
   "cell_type": "markdown",
   "metadata": {},
   "source": [
    "Обучим линейную регрессию"
   ]
  },
  {
   "cell_type": "code",
   "execution_count": 10,
   "metadata": {},
   "outputs": [
    {
     "name": "stdout",
     "output_type": "stream",
     "text": [
      "features_train.head       Пол  Возраст  Зарплата  Члены семьи\n",
      "3369  1.0     43.0   36200.0          1.0\n",
      "1441  1.0     34.0   57600.0          0.0\n",
      "571   0.0     32.0   41100.0          1.0\n",
      "225   0.0     36.0   45100.0          1.0\n",
      "2558  0.0     33.0   50600.0          2.0\n",
      "\n",
      "features_valid.head       Пол  Возраст  Зарплата  Члены семьи\n",
      "3183  0.0     33.0   39000.0          4.0\n",
      "1071  0.0     50.0   43100.0          2.0\n",
      "2640  1.0     39.0   42100.0          0.0\n",
      "2282  0.0     20.0   34800.0          0.0\n",
      "1595  0.0     41.0   40000.0          4.0\n",
      "\n",
      "target_train.head 3369    1.0\n",
      "1441    0.0\n",
      "571     0.0\n",
      "225     0.0\n",
      "2558    0.0\n",
      "Name: Страховые выплаты, dtype: float64\n",
      "\n",
      "target_valid.head 3183    0.0\n",
      "1071    2.0\n",
      "2640    0.0\n",
      "2282    0.0\n",
      "1595    0.0\n",
      "Name: Страховые выплаты, dtype: float64\n"
     ]
    },
    {
     "data": {
      "text/plain": [
       "0.43522757127025635"
      ]
     },
     "execution_count": 10,
     "metadata": {},
     "output_type": "execute_result"
    }
   ],
   "source": [
    "check_score(features, target)"
   ]
  },
  {
   "cell_type": "markdown",
   "metadata": {},
   "source": [
    "Обучим линейную регрессию на закодированных данных"
   ]
  },
  {
   "cell_type": "code",
   "execution_count": 11,
   "metadata": {},
   "outputs": [],
   "source": [
    "def inv_matrix():\n",
    "    res = np.random.normal(size=(4,4))\n",
    "    \n",
    "    try:\n",
    "        np.linalg.inv(res)\n",
    "        return res\n",
    "    except:\n",
    "        inv_matrix()"
   ]
  },
  {
   "cell_type": "code",
   "execution_count": 12,
   "metadata": {},
   "outputs": [
    {
     "data": {
      "text/plain": [
       "array([[ 1.55225216, -1.10764209, -0.02076024,  0.58764478],\n",
       "       [ 1.43902341,  0.30249596, -1.06500964, -0.58133143],\n",
       "       [-0.0153801 , -0.77204302, -1.40605057, -0.83354945],\n",
       "       [-0.32542082, -0.85580739, -1.86283929,  0.02482349]])"
      ]
     },
     "execution_count": 12,
     "metadata": {},
     "output_type": "execute_result"
    }
   ],
   "source": [
    "random_matrix = inv_matrix()\n",
    "random_matrix"
   ]
  },
  {
   "cell_type": "code",
   "execution_count": 13,
   "metadata": {
    "scrolled": false
   },
   "outputs": [
    {
     "data": {
      "text/html": [
       "<div>\n",
       "<style scoped>\n",
       "    .dataframe tbody tr th:only-of-type {\n",
       "        vertical-align: middle;\n",
       "    }\n",
       "\n",
       "    .dataframe tbody tr th {\n",
       "        vertical-align: top;\n",
       "    }\n",
       "\n",
       "    .dataframe thead th {\n",
       "        text-align: right;\n",
       "    }\n",
       "</style>\n",
       "<table border=\"1\" class=\"dataframe\">\n",
       "  <thead>\n",
       "    <tr style=\"text-align: right;\">\n",
       "      <th></th>\n",
       "      <th>Пол</th>\n",
       "      <th>Возраст</th>\n",
       "      <th>Зарплата</th>\n",
       "      <th>Члены семьи</th>\n",
       "    </tr>\n",
       "  </thead>\n",
       "  <tbody>\n",
       "    <tr>\n",
       "      <th>0</th>\n",
       "      <td>-702.626227</td>\n",
       "      <td>-38282.895096</td>\n",
       "      <td>-69785.657351</td>\n",
       "      <td>-41367.274955</td>\n",
       "    </tr>\n",
       "    <tr>\n",
       "      <th>1</th>\n",
       "      <td>-518.574189</td>\n",
       "      <td>-29324.575898</td>\n",
       "      <td>-53480.775007</td>\n",
       "      <td>-31701.595610</td>\n",
       "    </tr>\n",
       "    <tr>\n",
       "      <th>2</th>\n",
       "      <td>-281.250446</td>\n",
       "      <td>-16204.131117</td>\n",
       "      <td>-29557.947285</td>\n",
       "      <td>-17521.397110</td>\n",
       "    </tr>\n",
       "    <tr>\n",
       "      <th>3</th>\n",
       "      <td>-611.781569</td>\n",
       "      <td>-32189.553292</td>\n",
       "      <td>-58658.399721</td>\n",
       "      <td>-34771.170474</td>\n",
       "    </tr>\n",
       "    <tr>\n",
       "      <th>4</th>\n",
       "      <td>-359.575733</td>\n",
       "      <td>-20142.960676</td>\n",
       "      <td>-36727.760952</td>\n",
       "      <td>-21771.330340</td>\n",
       "    </tr>\n",
       "    <tr>\n",
       "      <th>...</th>\n",
       "      <td>...</td>\n",
       "      <td>...</td>\n",
       "      <td>...</td>\n",
       "      <td>...</td>\n",
       "    </tr>\n",
       "    <tr>\n",
       "      <th>4995</th>\n",
       "      <td>-509.427798</td>\n",
       "      <td>-27555.177678</td>\n",
       "      <td>-50229.551358</td>\n",
       "      <td>-29773.943080</td>\n",
       "    </tr>\n",
       "    <tr>\n",
       "      <th>4996</th>\n",
       "      <td>-757.315926</td>\n",
       "      <td>-40445.625392</td>\n",
       "      <td>-73715.123124</td>\n",
       "      <td>-43697.731746</td>\n",
       "    </tr>\n",
       "    <tr>\n",
       "      <th>4997</th>\n",
       "      <td>-493.255803</td>\n",
       "      <td>-26167.920202</td>\n",
       "      <td>-47690.140252</td>\n",
       "      <td>-28268.903415</td>\n",
       "    </tr>\n",
       "    <tr>\n",
       "      <th>4998</th>\n",
       "      <td>-470.694804</td>\n",
       "      <td>-25242.827031</td>\n",
       "      <td>-46006.893185</td>\n",
       "      <td>-27269.194267</td>\n",
       "    </tr>\n",
       "    <tr>\n",
       "      <th>4999</th>\n",
       "      <td>-582.912621</td>\n",
       "      <td>-31338.440329</td>\n",
       "      <td>-57117.357081</td>\n",
       "      <td>-33857.772575</td>\n",
       "    </tr>\n",
       "  </tbody>\n",
       "</table>\n",
       "<p>5000 rows × 4 columns</p>\n",
       "</div>"
      ],
      "text/plain": [
       "             Пол       Возраст      Зарплата   Члены семьи\n",
       "0    -702.626227 -38282.895096 -69785.657351 -41367.274955\n",
       "1    -518.574189 -29324.575898 -53480.775007 -31701.595610\n",
       "2    -281.250446 -16204.131117 -29557.947285 -17521.397110\n",
       "3    -611.781569 -32189.553292 -58658.399721 -34771.170474\n",
       "4    -359.575733 -20142.960676 -36727.760952 -21771.330340\n",
       "...          ...           ...           ...           ...\n",
       "4995 -509.427798 -27555.177678 -50229.551358 -29773.943080\n",
       "4996 -757.315926 -40445.625392 -73715.123124 -43697.731746\n",
       "4997 -493.255803 -26167.920202 -47690.140252 -28268.903415\n",
       "4998 -470.694804 -25242.827031 -46006.893185 -27269.194267\n",
       "4999 -582.912621 -31338.440329 -57117.357081 -33857.772575\n",
       "\n",
       "[5000 rows x 4 columns]"
      ]
     },
     "execution_count": 13,
     "metadata": {},
     "output_type": "execute_result"
    }
   ],
   "source": [
    "new_features = np.dot(features.values, random_matrix)\n",
    "new_features = pd.DataFrame(new_features, columns=features.columns)\n",
    "new_features"
   ]
  },
  {
   "cell_type": "code",
   "execution_count": 14,
   "metadata": {},
   "outputs": [
    {
     "name": "stdout",
     "output_type": "stream",
     "text": [
      "features_train.head              Пол       Возраст      Зарплата   Члены семьи\n",
      "3369 -493.654825 -27936.913585 -50946.709710 -30198.874957\n",
      "1441 -835.414780 -44460.500950 -81024.744018 -48031.626077\n",
      "571  -586.398830 -31722.144215 -57824.621645 -34277.460272\n",
      "225  -642.163141 -34809.106326 -63453.083970 -37613.983407\n",
      "2558 -731.396189 -39057.106252 -71185.029925 -42196.736577\n",
      "\n",
      "features_valid.head              Пол       Возраст      Зарплата   Члены семьи\n",
      "3183 -553.637857 -30103.118791 -54878.568972 -32527.513283\n",
      "1071 -591.582032 -33261.641143 -60657.755801 -35954.998319\n",
      "2640 -589.828094 -32492.321602 -59236.285205 -35114.516223\n",
      "2282 -506.447053 -26861.047309 -48951.860088 -29019.147569\n",
      "1595 -557.505770 -30872.741847 -56293.139621 -33365.713387\n",
      "\n",
      "target_train.head 3369    1.0\n",
      "1441    0.0\n",
      "571     0.0\n",
      "225     0.0\n",
      "2558    0.0\n",
      "Name: Страховые выплаты, dtype: float64\n",
      "\n",
      "target_valid.head 3183    0.0\n",
      "1071    2.0\n",
      "2640    0.0\n",
      "2282    0.0\n",
      "1595    0.0\n",
      "Name: Страховые выплаты, dtype: float64\n"
     ]
    },
    {
     "data": {
      "text/plain": [
       "0.43522757127027567"
      ]
     },
     "execution_count": 14,
     "metadata": {},
     "output_type": "execute_result"
    }
   ],
   "source": [
    "check_score(new_features, target)"
   ]
  },
  {
   "cell_type": "markdown",
   "metadata": {},
   "source": [
    "Качество линейной регресии не изменилось."
   ]
  },
  {
   "cell_type": "markdown",
   "metadata": {},
   "source": [
    "## Алгоритм преобразования"
   ]
  },
  {
   "cell_type": "markdown",
   "metadata": {},
   "source": [
    "**Алгоритм**\n",
    "\n",
    "$$\n",
    "a = XPP^{-1}w\n",
    "$$"
   ]
  },
  {
   "cell_type": "markdown",
   "metadata": {},
   "source": [
    "<div class=\"alert alert-block alert-info\">\n",
    "Мы производим домножение всегда справа.\n",
    "</div>"
   ]
  },
  {
   "cell_type": "markdown",
   "metadata": {},
   "source": [
    "**Обоснование**\n",
    "\n",
    "..."
   ]
  },
  {
   "cell_type": "code",
   "execution_count": 15,
   "metadata": {},
   "outputs": [],
   "source": [
    "class CustomLinearRegression:\n",
    "    def fit(self, train_features, train_target, P=None):\n",
    "        y = train_target\n",
    "        w = None\n",
    "        self.p = None\n",
    "        \n",
    "        if P is not None:\n",
    "            new_features = train_features.values @ P\n",
    "            X = np.concatenate((np.ones((new_features.shape[0], 1)), new_features), axis=1)\n",
    "            w = np.linalg.inv(X.T @ X) @ X.T @ y\n",
    "            self.p = P\n",
    "            self.w = self.p @ w[1:]\n",
    "        else:\n",
    "            X = np.concatenate((np.ones((train_features.shape[0], 1)), train_features), axis=1)\n",
    "            w = np.linalg.inv(X.T @ X) @ X.T @ y\n",
    "            self.w = w[1:]\n",
    "        \n",
    "        self.w0 = w[0]\n",
    "\n",
    "    def predict(self, test_features):\n",
    "        return test_features @ self.w + self.w0"
   ]
  },
  {
   "cell_type": "markdown",
   "metadata": {},
   "source": [
    "## Проверка алгоритма"
   ]
  },
  {
   "cell_type": "code",
   "execution_count": 16,
   "metadata": {},
   "outputs": [
    {
     "name": "stdout",
     "output_type": "stream",
     "text": [
      "features_train.head       Пол  Возраст  Зарплата  Члены семьи\n",
      "3369  1.0     43.0   36200.0          1.0\n",
      "1441  1.0     34.0   57600.0          0.0\n",
      "571   0.0     32.0   41100.0          1.0\n",
      "225   0.0     36.0   45100.0          1.0\n",
      "2558  0.0     33.0   50600.0          2.0\n",
      "\n",
      "features_valid.head       Пол  Возраст  Зарплата  Члены семьи\n",
      "3183  0.0     33.0   39000.0          4.0\n",
      "1071  0.0     50.0   43100.0          2.0\n",
      "2640  1.0     39.0   42100.0          0.0\n",
      "2282  0.0     20.0   34800.0          0.0\n",
      "1595  0.0     41.0   40000.0          4.0\n",
      "\n",
      "target_train.head 3369    1.0\n",
      "1441    0.0\n",
      "571     0.0\n",
      "225     0.0\n",
      "2558    0.0\n",
      "Name: Страховые выплаты, dtype: float64\n",
      "\n",
      "target_valid.head 3183    0.0\n",
      "1071    2.0\n",
      "2640    0.0\n",
      "2282    0.0\n",
      "1595    0.0\n",
      "Name: Страховые выплаты, dtype: float64\n"
     ]
    },
    {
     "data": {
      "text/plain": [
       "0.43522757127026657"
      ]
     },
     "execution_count": 16,
     "metadata": {},
     "output_type": "execute_result"
    }
   ],
   "source": [
    "check_score(features, target, CustomLinearRegression)"
   ]
  },
  {
   "cell_type": "code",
   "execution_count": 17,
   "metadata": {},
   "outputs": [
    {
     "name": "stdout",
     "output_type": "stream",
     "text": [
      "(5000, 4)\n",
      "P shape (4, 4)\n",
      "\n",
      "features_train.head       Пол  Возраст  Зарплата  Члены семьи\n",
      "3369  1.0     43.0   36200.0          1.0\n",
      "1441  1.0     34.0   57600.0          0.0\n",
      "571   0.0     32.0   41100.0          1.0\n",
      "225   0.0     36.0   45100.0          1.0\n",
      "2558  0.0     33.0   50600.0          2.0\n",
      "\n",
      "features_valid.head       Пол  Возраст  Зарплата  Члены семьи\n",
      "3183  0.0     33.0   39000.0          4.0\n",
      "1071  0.0     50.0   43100.0          2.0\n",
      "2640  1.0     39.0   42100.0          0.0\n",
      "2282  0.0     20.0   34800.0          0.0\n",
      "1595  0.0     41.0   40000.0          4.0\n",
      "\n",
      "target_train.head 3369    1.0\n",
      "1441    0.0\n",
      "571     0.0\n",
      "225     0.0\n",
      "2558    0.0\n",
      "Name: Страховые выплаты, dtype: float64\n",
      "\n",
      "target_valid.head 3183    0.0\n",
      "1071    2.0\n",
      "2640    0.0\n",
      "2282    0.0\n",
      "1595    0.0\n",
      "Name: Страховые выплаты, dtype: float64\n"
     ]
    },
    {
     "data": {
      "text/plain": [
       "0.4352275712650374"
      ]
     },
     "execution_count": 17,
     "metadata": {},
     "output_type": "execute_result"
    }
   ],
   "source": [
    "P = np.random.normal(size=(features.shape[1], features.shape[1]))\n",
    "print(features.shape)\n",
    "print('P shape', P.shape)\n",
    "print()\n",
    "check_score(features, target, CustomLinearRegression, P)"
   ]
  },
  {
   "cell_type": "markdown",
   "metadata": {},
   "source": [
    "Метрика R2 показала результат 0.435"
   ]
  },
  {
   "cell_type": "markdown",
   "metadata": {},
   "source": [
    "<div class=\"alert alert-block alert-success\">\n",
    "Дополнительные материалы:\n",
    "\n",
    "Обзоры по применению криптографии в машинном обучении: https://arxiv.org/pdf/1902.04109.pdf, https://www.researchgate.net/publication/342746786_Some_Applications_of_Machine_Learning_in_Cryptography\n",
    "\n",
    "Небольшой обзор на Шифр Хилла: https://habr.com/ru/post/595281/\n",
    "   \n",
    "Примеры использования линейной алгебры в машинном обучении:\n",
    "https://machinelearningmastery.com/examples-of-linear-algebra-in-machine-learning/\n",
    "    \n",
    "Для чего нужна математика в машинном обучении?\n",
    "https://proglib.io/p/dlya-chego-nuzhen-matematicheskiy-analiz-v-mashinnom-obuchenii-2021-02-15\n",
    "\n",
    "Большая статья по векторам:\n",
    "https://neptune.ai/blog/understanding-vectors-from-a-machine-learning-perspective  \n",
    "\n",
    "Можно ещё дополнительно посмотреть лекции от МФТИ https://www.youtube.com/playlist?list=PLk4h7dmY2eYHHTyfLyrl7HmP-H3mMAW08\n",
    "    \n",
    "Классная серия роликов по линейной алгебре на английском (можно включить автоматические русские субтитры): https://www.youtube.com/playlist?list=PLRDl2inPrWQW1QSWhBU0ki-jq_uElkh2a\n",
    "    \n",
    "Удачи в будущих проектах и работе =)\n",
    "</div>\n"
   ]
  }
 ],
 "metadata": {
  "ExecuteTimeLog": [
   {
    "duration": 44,
    "start_time": "2022-06-24T17:19:15.416Z"
   },
   {
    "duration": 386,
    "start_time": "2022-06-24T17:19:37.055Z"
   },
   {
    "duration": 95,
    "start_time": "2022-06-24T17:19:37.443Z"
   },
   {
    "duration": 50,
    "start_time": "2022-06-25T18:00:31.205Z"
   },
   {
    "duration": 412,
    "start_time": "2022-06-25T18:00:33.039Z"
   },
   {
    "duration": 80,
    "start_time": "2022-06-25T18:00:33.453Z"
   },
   {
    "duration": 8,
    "start_time": "2022-06-25T18:00:33.534Z"
   },
   {
    "duration": 3,
    "start_time": "2022-06-25T18:21:36.439Z"
   },
   {
    "duration": 31,
    "start_time": "2022-06-25T18:21:40.743Z"
   },
   {
    "duration": 3,
    "start_time": "2022-06-25T18:21:46.835Z"
   },
   {
    "duration": 4,
    "start_time": "2022-06-25T18:21:53.545Z"
   },
   {
    "duration": 176,
    "start_time": "2022-06-25T18:22:43.361Z"
   },
   {
    "duration": 5,
    "start_time": "2022-06-25T18:23:00.682Z"
   },
   {
    "duration": 8,
    "start_time": "2022-06-25T18:51:44.097Z"
   },
   {
    "duration": 7,
    "start_time": "2022-06-25T18:51:54.903Z"
   },
   {
    "duration": 6,
    "start_time": "2022-06-25T18:52:10.632Z"
   },
   {
    "duration": 6,
    "start_time": "2022-06-25T18:52:13.296Z"
   },
   {
    "duration": 5,
    "start_time": "2022-06-25T18:52:16.914Z"
   },
   {
    "duration": 6,
    "start_time": "2022-06-25T18:55:22.200Z"
   },
   {
    "duration": 5,
    "start_time": "2022-06-25T18:56:01.009Z"
   },
   {
    "duration": 6,
    "start_time": "2022-06-25T18:56:43.328Z"
   },
   {
    "duration": 7,
    "start_time": "2022-06-25T18:56:56.209Z"
   },
   {
    "duration": 6,
    "start_time": "2022-06-25T19:16:48.597Z"
   },
   {
    "duration": 5,
    "start_time": "2022-06-25T19:18:00.690Z"
   },
   {
    "duration": 84,
    "start_time": "2022-06-25T19:18:15.183Z"
   },
   {
    "duration": 5,
    "start_time": "2022-06-25T19:19:11.807Z"
   },
   {
    "duration": 5,
    "start_time": "2022-06-25T19:19:15.060Z"
   },
   {
    "duration": 5,
    "start_time": "2022-06-25T19:19:22.506Z"
   },
   {
    "duration": 725,
    "start_time": "2022-06-25T19:39:08.861Z"
   },
   {
    "duration": 5,
    "start_time": "2022-06-25T19:43:05.937Z"
   },
   {
    "duration": 94,
    "start_time": "2022-06-25T21:13:40.202Z"
   },
   {
    "duration": 1301,
    "start_time": "2022-06-25T21:15:14.209Z"
   },
   {
    "duration": 112,
    "start_time": "2022-06-25T21:15:15.512Z"
   },
   {
    "duration": 15,
    "start_time": "2022-06-25T21:15:15.626Z"
   },
   {
    "duration": 35,
    "start_time": "2022-06-25T21:15:15.645Z"
   },
   {
    "duration": 19,
    "start_time": "2022-06-25T21:15:15.683Z"
   },
   {
    "duration": 8,
    "start_time": "2022-06-25T21:15:15.703Z"
   },
   {
    "duration": 8,
    "start_time": "2022-06-25T21:15:15.713Z"
   },
   {
    "duration": 5,
    "start_time": "2022-06-25T21:20:36.265Z"
   },
   {
    "duration": 3,
    "start_time": "2022-06-25T21:28:17.800Z"
   },
   {
    "duration": 71,
    "start_time": "2022-06-25T21:28:57.231Z"
   },
   {
    "duration": 129,
    "start_time": "2022-06-25T21:29:31.306Z"
   },
   {
    "duration": 14,
    "start_time": "2022-06-25T21:29:39.166Z"
   },
   {
    "duration": 4,
    "start_time": "2022-06-25T21:29:51.389Z"
   },
   {
    "duration": 7,
    "start_time": "2022-06-25T21:29:56.973Z"
   },
   {
    "duration": 10,
    "start_time": "2022-06-25T21:30:23.812Z"
   },
   {
    "duration": 14,
    "start_time": "2022-06-25T21:30:33.524Z"
   },
   {
    "duration": 13,
    "start_time": "2022-06-25T21:31:07.695Z"
   },
   {
    "duration": 37,
    "start_time": "2022-06-25T21:31:17.032Z"
   },
   {
    "duration": 22,
    "start_time": "2022-06-25T21:31:30.028Z"
   },
   {
    "duration": 19,
    "start_time": "2022-06-25T21:31:44.669Z"
   },
   {
    "duration": 8,
    "start_time": "2022-06-25T21:31:50.898Z"
   },
   {
    "duration": 9,
    "start_time": "2022-06-25T21:32:58.868Z"
   },
   {
    "duration": 12,
    "start_time": "2022-06-25T21:33:32.266Z"
   },
   {
    "duration": 16,
    "start_time": "2022-06-25T21:35:03.081Z"
   },
   {
    "duration": 14,
    "start_time": "2022-06-25T21:35:47.020Z"
   },
   {
    "duration": 12,
    "start_time": "2022-06-25T21:41:22.084Z"
   },
   {
    "duration": 9,
    "start_time": "2022-06-25T21:41:46.979Z"
   },
   {
    "duration": 7,
    "start_time": "2022-06-25T21:41:52.175Z"
   },
   {
    "duration": 23,
    "start_time": "2022-06-25T21:41:56.323Z"
   },
   {
    "duration": 7,
    "start_time": "2022-06-25T21:42:49.226Z"
   },
   {
    "duration": 8,
    "start_time": "2022-06-25T21:43:59.763Z"
   },
   {
    "duration": 38,
    "start_time": "2022-06-25T21:44:04.927Z"
   },
   {
    "duration": 6,
    "start_time": "2022-06-25T21:44:28.400Z"
   },
   {
    "duration": 51,
    "start_time": "2022-06-25T21:44:34.383Z"
   },
   {
    "duration": 5,
    "start_time": "2022-06-25T21:45:43.980Z"
   },
   {
    "duration": 23,
    "start_time": "2022-06-25T21:45:46.567Z"
   },
   {
    "duration": 5,
    "start_time": "2022-06-25T21:46:09.969Z"
   },
   {
    "duration": 24,
    "start_time": "2022-06-25T21:46:12.865Z"
   },
   {
    "duration": 24,
    "start_time": "2022-06-25T21:46:48.487Z"
   },
   {
    "duration": 28,
    "start_time": "2022-06-25T21:46:56.589Z"
   },
   {
    "duration": 8,
    "start_time": "2022-06-25T21:47:14.883Z"
   },
   {
    "duration": 23,
    "start_time": "2022-06-25T21:47:25.306Z"
   },
   {
    "duration": 25,
    "start_time": "2022-06-25T21:47:32.772Z"
   },
   {
    "duration": 5,
    "start_time": "2022-06-25T23:09:48.562Z"
   },
   {
    "duration": 5,
    "start_time": "2022-06-25T23:10:34.474Z"
   },
   {
    "duration": 3,
    "start_time": "2022-06-25T23:10:38.392Z"
   },
   {
    "duration": 4,
    "start_time": "2022-06-25T23:10:44.628Z"
   },
   {
    "duration": 1032,
    "start_time": "2022-06-26T14:15:16.794Z"
   },
   {
    "duration": 2,
    "start_time": "2022-06-26T14:15:17.828Z"
   },
   {
    "duration": 94,
    "start_time": "2022-06-26T14:15:17.832Z"
   },
   {
    "duration": 8,
    "start_time": "2022-06-26T14:15:17.928Z"
   },
   {
    "duration": 6,
    "start_time": "2022-06-26T14:15:17.938Z"
   },
   {
    "duration": 5,
    "start_time": "2022-06-26T14:15:17.945Z"
   },
   {
    "duration": 21,
    "start_time": "2022-06-26T14:15:17.951Z"
   },
   {
    "duration": 4,
    "start_time": "2022-06-26T14:15:17.973Z"
   },
   {
    "duration": 20,
    "start_time": "2022-06-26T14:15:17.979Z"
   },
   {
    "duration": 49,
    "start_time": "2022-06-26T14:15:18.001Z"
   },
   {
    "duration": 6,
    "start_time": "2022-06-26T14:15:18.051Z"
   },
   {
    "duration": 6,
    "start_time": "2022-06-26T14:16:16.812Z"
   },
   {
    "duration": 59,
    "start_time": "2022-06-26T14:16:24.872Z"
   },
   {
    "duration": 8,
    "start_time": "2022-06-26T14:17:27.435Z"
   },
   {
    "duration": 11,
    "start_time": "2022-06-26T14:19:53.273Z"
   },
   {
    "duration": 1096,
    "start_time": "2022-06-26T14:20:04.433Z"
   },
   {
    "duration": 3,
    "start_time": "2022-06-26T14:20:05.531Z"
   },
   {
    "duration": 38,
    "start_time": "2022-06-26T14:20:05.538Z"
   },
   {
    "duration": 15,
    "start_time": "2022-06-26T14:20:05.578Z"
   },
   {
    "duration": 12,
    "start_time": "2022-06-26T14:20:05.595Z"
   },
   {
    "duration": 5,
    "start_time": "2022-06-26T14:20:05.609Z"
   },
   {
    "duration": 15,
    "start_time": "2022-06-26T14:20:05.615Z"
   },
   {
    "duration": 5,
    "start_time": "2022-06-26T14:20:05.632Z"
   },
   {
    "duration": 23,
    "start_time": "2022-06-26T14:20:05.639Z"
   },
   {
    "duration": 4,
    "start_time": "2022-06-26T14:20:05.663Z"
   },
   {
    "duration": 15,
    "start_time": "2022-06-26T14:20:05.668Z"
   },
   {
    "duration": 20,
    "start_time": "2022-06-26T14:20:05.685Z"
   },
   {
    "duration": 18,
    "start_time": "2022-06-26T14:20:05.729Z"
   },
   {
    "duration": 10,
    "start_time": "2022-06-26T14:20:51.459Z"
   },
   {
    "duration": 23,
    "start_time": "2022-06-26T14:20:58.561Z"
   },
   {
    "duration": 4,
    "start_time": "2022-06-26T18:21:51.099Z"
   },
   {
    "duration": 14,
    "start_time": "2022-06-26T19:13:31.708Z"
   },
   {
    "duration": 22,
    "start_time": "2022-06-26T19:14:06.698Z"
   },
   {
    "duration": 11,
    "start_time": "2022-06-26T19:14:15.793Z"
   },
   {
    "duration": 22,
    "start_time": "2022-06-26T19:14:18.705Z"
   },
   {
    "duration": 12,
    "start_time": "2022-06-26T19:14:53.942Z"
   },
   {
    "duration": 19,
    "start_time": "2022-06-26T19:15:12.011Z"
   },
   {
    "duration": 13,
    "start_time": "2022-06-26T19:15:57.585Z"
   },
   {
    "duration": 19,
    "start_time": "2022-06-26T19:16:12.885Z"
   },
   {
    "duration": 21,
    "start_time": "2022-06-26T19:16:13.264Z"
   },
   {
    "duration": 17,
    "start_time": "2022-06-26T19:16:27.937Z"
   },
   {
    "duration": 1017,
    "start_time": "2022-06-26T19:16:32.928Z"
   },
   {
    "duration": 3,
    "start_time": "2022-06-26T19:16:33.946Z"
   },
   {
    "duration": 47,
    "start_time": "2022-06-26T19:16:33.951Z"
   },
   {
    "duration": 12,
    "start_time": "2022-06-26T19:16:34.001Z"
   },
   {
    "duration": 11,
    "start_time": "2022-06-26T19:16:34.015Z"
   },
   {
    "duration": 9,
    "start_time": "2022-06-26T19:16:34.027Z"
   },
   {
    "duration": 11,
    "start_time": "2022-06-26T19:16:34.037Z"
   },
   {
    "duration": 9,
    "start_time": "2022-06-26T19:16:34.049Z"
   },
   {
    "duration": 26,
    "start_time": "2022-06-26T19:16:34.060Z"
   },
   {
    "duration": 4,
    "start_time": "2022-06-26T19:16:34.088Z"
   },
   {
    "duration": 12,
    "start_time": "2022-06-26T19:16:34.093Z"
   },
   {
    "duration": 29,
    "start_time": "2022-06-26T19:16:34.107Z"
   },
   {
    "duration": 17,
    "start_time": "2022-06-26T19:16:34.138Z"
   },
   {
    "duration": 105,
    "start_time": "2022-06-26T19:16:34.230Z"
   },
   {
    "duration": 83,
    "start_time": "2022-06-26T19:18:43.446Z"
   },
   {
    "duration": 22,
    "start_time": "2022-06-26T19:18:43.805Z"
   },
   {
    "duration": 21,
    "start_time": "2022-06-26T19:19:05.914Z"
   },
   {
    "duration": 5,
    "start_time": "2022-06-26T19:21:11.532Z"
   },
   {
    "duration": 15,
    "start_time": "2022-06-26T19:21:18.221Z"
   },
   {
    "duration": 15,
    "start_time": "2022-06-26T19:21:57.504Z"
   },
   {
    "duration": 13,
    "start_time": "2022-06-26T19:22:12.246Z"
   },
   {
    "duration": 18,
    "start_time": "2022-06-26T19:23:27.825Z"
   },
   {
    "duration": 2,
    "start_time": "2022-06-26T19:24:42.810Z"
   },
   {
    "duration": 5,
    "start_time": "2022-06-26T19:24:48.660Z"
   },
   {
    "duration": 4,
    "start_time": "2022-06-26T19:25:18.035Z"
   },
   {
    "duration": 4,
    "start_time": "2022-06-26T19:26:16.664Z"
   },
   {
    "duration": 13,
    "start_time": "2022-06-26T19:26:44.743Z"
   },
   {
    "duration": 14,
    "start_time": "2022-06-26T19:27:12.212Z"
   },
   {
    "duration": 11,
    "start_time": "2022-06-26T19:27:12.349Z"
   },
   {
    "duration": 4,
    "start_time": "2022-06-26T19:27:47.495Z"
   },
   {
    "duration": 20,
    "start_time": "2022-06-26T19:28:07.783Z"
   },
   {
    "duration": 16,
    "start_time": "2022-06-26T19:28:15.198Z"
   },
   {
    "duration": 3,
    "start_time": "2022-06-26T19:28:15.415Z"
   },
   {
    "duration": 1025,
    "start_time": "2022-06-26T19:28:48.724Z"
   },
   {
    "duration": 3,
    "start_time": "2022-06-26T19:28:49.751Z"
   },
   {
    "duration": 43,
    "start_time": "2022-06-26T19:28:49.756Z"
   },
   {
    "duration": 14,
    "start_time": "2022-06-26T19:28:49.801Z"
   },
   {
    "duration": 12,
    "start_time": "2022-06-26T19:28:49.817Z"
   },
   {
    "duration": 6,
    "start_time": "2022-06-26T19:28:49.830Z"
   },
   {
    "duration": 6,
    "start_time": "2022-06-26T19:28:49.837Z"
   },
   {
    "duration": 4,
    "start_time": "2022-06-26T19:28:49.845Z"
   },
   {
    "duration": 25,
    "start_time": "2022-06-26T19:28:49.851Z"
   },
   {
    "duration": 4,
    "start_time": "2022-06-26T19:28:49.878Z"
   },
   {
    "duration": 17,
    "start_time": "2022-06-26T19:28:49.884Z"
   },
   {
    "duration": 22,
    "start_time": "2022-06-26T19:28:49.928Z"
   },
   {
    "duration": 81,
    "start_time": "2022-06-26T19:28:49.951Z"
   },
   {
    "duration": 112,
    "start_time": "2022-06-26T19:28:50.035Z"
   },
   {
    "duration": 16,
    "start_time": "2022-06-26T19:32:31.641Z"
   },
   {
    "duration": 1058,
    "start_time": "2022-06-27T13:32:32.356Z"
   },
   {
    "duration": 3,
    "start_time": "2022-06-27T13:32:33.417Z"
   },
   {
    "duration": 70,
    "start_time": "2022-06-27T13:32:33.422Z"
   },
   {
    "duration": 14,
    "start_time": "2022-06-27T13:32:33.494Z"
   },
   {
    "duration": 12,
    "start_time": "2022-06-27T13:32:33.509Z"
   },
   {
    "duration": 4,
    "start_time": "2022-06-27T13:32:33.522Z"
   },
   {
    "duration": 14,
    "start_time": "2022-06-27T13:32:33.527Z"
   },
   {
    "duration": 7,
    "start_time": "2022-06-27T13:32:33.543Z"
   },
   {
    "duration": 6,
    "start_time": "2022-06-27T13:32:33.551Z"
   },
   {
    "duration": 119,
    "start_time": "2022-06-27T13:32:33.559Z"
   },
   {
    "duration": 0,
    "start_time": "2022-06-27T13:32:33.679Z"
   },
   {
    "duration": 0,
    "start_time": "2022-06-27T13:32:33.681Z"
   },
   {
    "duration": 0,
    "start_time": "2022-06-27T13:32:33.682Z"
   },
   {
    "duration": 0,
    "start_time": "2022-06-27T13:32:33.682Z"
   },
   {
    "duration": 0,
    "start_time": "2022-06-27T13:32:33.683Z"
   },
   {
    "duration": 0,
    "start_time": "2022-06-27T13:32:33.684Z"
   },
   {
    "duration": 1083,
    "start_time": "2022-06-27T13:33:01.365Z"
   },
   {
    "duration": 2,
    "start_time": "2022-06-27T13:33:02.450Z"
   },
   {
    "duration": 48,
    "start_time": "2022-06-27T13:33:02.454Z"
   },
   {
    "duration": 15,
    "start_time": "2022-06-27T13:33:02.504Z"
   },
   {
    "duration": 14,
    "start_time": "2022-06-27T13:33:02.521Z"
   },
   {
    "duration": 14,
    "start_time": "2022-06-27T13:33:02.537Z"
   },
   {
    "duration": 30,
    "start_time": "2022-06-27T13:33:02.552Z"
   },
   {
    "duration": 27,
    "start_time": "2022-06-27T13:33:02.584Z"
   },
   {
    "duration": 27,
    "start_time": "2022-06-27T13:33:02.613Z"
   },
   {
    "duration": 42,
    "start_time": "2022-06-27T13:33:02.642Z"
   },
   {
    "duration": 5,
    "start_time": "2022-06-27T13:33:02.686Z"
   },
   {
    "duration": 31,
    "start_time": "2022-06-27T13:33:02.693Z"
   },
   {
    "duration": 46,
    "start_time": "2022-06-27T13:33:02.725Z"
   },
   {
    "duration": 58,
    "start_time": "2022-06-27T13:33:02.773Z"
   },
   {
    "duration": 105,
    "start_time": "2022-06-27T13:33:02.835Z"
   },
   {
    "duration": 36,
    "start_time": "2022-06-27T13:33:02.941Z"
   },
   {
    "duration": 971,
    "start_time": "2022-06-27T13:33:36.461Z"
   },
   {
    "duration": 3,
    "start_time": "2022-06-27T13:33:37.434Z"
   },
   {
    "duration": 29,
    "start_time": "2022-06-27T13:33:37.439Z"
   },
   {
    "duration": 15,
    "start_time": "2022-06-27T13:33:37.470Z"
   },
   {
    "duration": 13,
    "start_time": "2022-06-27T13:33:37.486Z"
   },
   {
    "duration": 10,
    "start_time": "2022-06-27T13:33:37.500Z"
   },
   {
    "duration": 18,
    "start_time": "2022-06-27T13:33:37.512Z"
   },
   {
    "duration": 7,
    "start_time": "2022-06-27T13:33:37.531Z"
   },
   {
    "duration": 26,
    "start_time": "2022-06-27T13:33:37.540Z"
   },
   {
    "duration": 111,
    "start_time": "2022-06-27T13:33:37.569Z"
   },
   {
    "duration": 0,
    "start_time": "2022-06-27T13:33:37.682Z"
   },
   {
    "duration": 0,
    "start_time": "2022-06-27T13:33:37.683Z"
   },
   {
    "duration": 0,
    "start_time": "2022-06-27T13:33:37.684Z"
   },
   {
    "duration": 0,
    "start_time": "2022-06-27T13:33:37.685Z"
   },
   {
    "duration": 0,
    "start_time": "2022-06-27T13:33:37.686Z"
   },
   {
    "duration": 0,
    "start_time": "2022-06-27T13:33:37.688Z"
   },
   {
    "duration": 1022,
    "start_time": "2022-06-27T15:18:23.984Z"
   },
   {
    "duration": 2,
    "start_time": "2022-06-27T15:18:25.008Z"
   },
   {
    "duration": 82,
    "start_time": "2022-06-27T15:18:25.012Z"
   },
   {
    "duration": 14,
    "start_time": "2022-06-27T15:18:25.096Z"
   },
   {
    "duration": 35,
    "start_time": "2022-06-27T15:18:25.111Z"
   },
   {
    "duration": 34,
    "start_time": "2022-06-27T15:18:25.147Z"
   },
   {
    "duration": 21,
    "start_time": "2022-06-27T15:18:25.183Z"
   },
   {
    "duration": 20,
    "start_time": "2022-06-27T15:18:25.206Z"
   },
   {
    "duration": 14,
    "start_time": "2022-06-27T15:18:25.228Z"
   },
   {
    "duration": 135,
    "start_time": "2022-06-27T15:18:25.244Z"
   },
   {
    "duration": 0,
    "start_time": "2022-06-27T15:18:25.381Z"
   },
   {
    "duration": 0,
    "start_time": "2022-06-27T15:18:25.382Z"
   },
   {
    "duration": 0,
    "start_time": "2022-06-27T15:18:25.383Z"
   },
   {
    "duration": 0,
    "start_time": "2022-06-27T15:18:25.384Z"
   },
   {
    "duration": 0,
    "start_time": "2022-06-27T15:18:25.385Z"
   },
   {
    "duration": 0,
    "start_time": "2022-06-27T15:18:25.386Z"
   },
   {
    "duration": 1058,
    "start_time": "2022-06-27T15:19:25.930Z"
   },
   {
    "duration": 3,
    "start_time": "2022-06-27T15:19:26.990Z"
   },
   {
    "duration": 40,
    "start_time": "2022-06-27T15:19:26.995Z"
   },
   {
    "duration": 15,
    "start_time": "2022-06-27T15:19:27.037Z"
   },
   {
    "duration": 27,
    "start_time": "2022-06-27T15:19:27.054Z"
   },
   {
    "duration": 7,
    "start_time": "2022-06-27T15:19:27.082Z"
   },
   {
    "duration": 10,
    "start_time": "2022-06-27T15:19:27.091Z"
   },
   {
    "duration": 5,
    "start_time": "2022-06-27T15:19:27.103Z"
   },
   {
    "duration": 20,
    "start_time": "2022-06-27T15:19:27.110Z"
   },
   {
    "duration": 117,
    "start_time": "2022-06-27T15:19:27.133Z"
   },
   {
    "duration": 0,
    "start_time": "2022-06-27T15:19:27.252Z"
   },
   {
    "duration": 0,
    "start_time": "2022-06-27T15:19:27.254Z"
   },
   {
    "duration": 0,
    "start_time": "2022-06-27T15:19:27.255Z"
   },
   {
    "duration": 0,
    "start_time": "2022-06-27T15:19:27.257Z"
   },
   {
    "duration": 0,
    "start_time": "2022-06-27T15:19:27.258Z"
   },
   {
    "duration": 0,
    "start_time": "2022-06-27T15:19:27.259Z"
   },
   {
    "duration": 1072,
    "start_time": "2022-06-27T15:20:13.753Z"
   },
   {
    "duration": 3,
    "start_time": "2022-06-27T15:20:14.827Z"
   },
   {
    "duration": 32,
    "start_time": "2022-06-27T15:20:14.832Z"
   },
   {
    "duration": 14,
    "start_time": "2022-06-27T15:20:14.866Z"
   },
   {
    "duration": 14,
    "start_time": "2022-06-27T15:20:14.881Z"
   },
   {
    "duration": 7,
    "start_time": "2022-06-27T15:20:14.896Z"
   },
   {
    "duration": 7,
    "start_time": "2022-06-27T15:20:14.904Z"
   },
   {
    "duration": 15,
    "start_time": "2022-06-27T15:20:14.912Z"
   },
   {
    "duration": 5,
    "start_time": "2022-06-27T15:20:14.929Z"
   },
   {
    "duration": 30,
    "start_time": "2022-06-27T15:20:14.937Z"
   },
   {
    "duration": 5,
    "start_time": "2022-06-27T15:20:14.969Z"
   },
   {
    "duration": 15,
    "start_time": "2022-06-27T15:20:14.975Z"
   },
   {
    "duration": 56,
    "start_time": "2022-06-27T15:20:14.991Z"
   },
   {
    "duration": 91,
    "start_time": "2022-06-27T15:20:15.049Z"
   },
   {
    "duration": 16,
    "start_time": "2022-06-27T15:20:15.227Z"
   },
   {
    "duration": 25,
    "start_time": "2022-06-27T15:20:15.244Z"
   },
   {
    "duration": 1028,
    "start_time": "2022-06-27T15:20:40.170Z"
   },
   {
    "duration": 3,
    "start_time": "2022-06-27T15:20:41.200Z"
   },
   {
    "duration": 28,
    "start_time": "2022-06-27T15:20:41.204Z"
   },
   {
    "duration": 15,
    "start_time": "2022-06-27T15:20:41.233Z"
   },
   {
    "duration": 23,
    "start_time": "2022-06-27T15:20:41.249Z"
   },
   {
    "duration": 6,
    "start_time": "2022-06-27T15:20:41.274Z"
   },
   {
    "duration": 16,
    "start_time": "2022-06-27T15:20:41.281Z"
   },
   {
    "duration": 9,
    "start_time": "2022-06-27T15:20:41.298Z"
   },
   {
    "duration": 11,
    "start_time": "2022-06-27T15:20:41.308Z"
   },
   {
    "duration": 46,
    "start_time": "2022-06-27T15:20:41.322Z"
   },
   {
    "duration": 5,
    "start_time": "2022-06-27T15:20:41.369Z"
   },
   {
    "duration": 26,
    "start_time": "2022-06-27T15:20:41.376Z"
   },
   {
    "duration": 42,
    "start_time": "2022-06-27T15:20:41.403Z"
   },
   {
    "duration": 87,
    "start_time": "2022-06-27T15:20:41.447Z"
   },
   {
    "duration": 128,
    "start_time": "2022-06-27T15:20:41.537Z"
   },
   {
    "duration": 36,
    "start_time": "2022-06-27T15:20:41.667Z"
   },
   {
    "duration": 1031,
    "start_time": "2022-06-27T15:21:32.190Z"
   },
   {
    "duration": 3,
    "start_time": "2022-06-27T15:21:33.223Z"
   },
   {
    "duration": 27,
    "start_time": "2022-06-27T15:21:33.229Z"
   },
   {
    "duration": 14,
    "start_time": "2022-06-27T15:21:33.258Z"
   },
   {
    "duration": 23,
    "start_time": "2022-06-27T15:21:33.274Z"
   },
   {
    "duration": 3,
    "start_time": "2022-06-27T15:21:33.299Z"
   },
   {
    "duration": 22,
    "start_time": "2022-06-27T15:21:33.304Z"
   },
   {
    "duration": 16,
    "start_time": "2022-06-27T15:21:33.327Z"
   },
   {
    "duration": 23,
    "start_time": "2022-06-27T15:21:33.344Z"
   },
   {
    "duration": 65,
    "start_time": "2022-06-27T15:21:33.369Z"
   },
   {
    "duration": 4,
    "start_time": "2022-06-27T15:21:33.436Z"
   },
   {
    "duration": 38,
    "start_time": "2022-06-27T15:21:33.442Z"
   },
   {
    "duration": 49,
    "start_time": "2022-06-27T15:21:33.482Z"
   },
   {
    "duration": 16,
    "start_time": "2022-06-27T15:21:33.533Z"
   },
   {
    "duration": 104,
    "start_time": "2022-06-27T15:21:33.626Z"
   },
   {
    "duration": 34,
    "start_time": "2022-06-27T15:21:33.732Z"
   },
   {
    "duration": 1052,
    "start_time": "2022-06-27T15:23:49.878Z"
   },
   {
    "duration": 3,
    "start_time": "2022-06-27T15:23:50.931Z"
   },
   {
    "duration": 28,
    "start_time": "2022-06-27T15:23:50.935Z"
   },
   {
    "duration": 15,
    "start_time": "2022-06-27T15:23:50.965Z"
   },
   {
    "duration": 11,
    "start_time": "2022-06-27T15:23:50.982Z"
   },
   {
    "duration": 5,
    "start_time": "2022-06-27T15:23:50.995Z"
   },
   {
    "duration": 6,
    "start_time": "2022-06-27T15:23:51.001Z"
   },
   {
    "duration": 4,
    "start_time": "2022-06-27T15:23:51.027Z"
   },
   {
    "duration": 16,
    "start_time": "2022-06-27T15:23:51.033Z"
   },
   {
    "duration": 26,
    "start_time": "2022-06-27T15:23:51.052Z"
   },
   {
    "duration": 4,
    "start_time": "2022-06-27T15:23:51.079Z"
   },
   {
    "duration": 15,
    "start_time": "2022-06-27T15:23:51.085Z"
   },
   {
    "duration": 31,
    "start_time": "2022-06-27T15:23:51.102Z"
   },
   {
    "duration": 94,
    "start_time": "2022-06-27T15:23:51.134Z"
   },
   {
    "duration": 100,
    "start_time": "2022-06-27T15:23:51.230Z"
   },
   {
    "duration": 24,
    "start_time": "2022-06-27T15:23:51.332Z"
   },
   {
    "duration": 1133,
    "start_time": "2022-06-27T15:24:40.703Z"
   },
   {
    "duration": 3,
    "start_time": "2022-06-27T15:24:41.838Z"
   },
   {
    "duration": 30,
    "start_time": "2022-06-27T15:24:41.842Z"
   },
   {
    "duration": 15,
    "start_time": "2022-06-27T15:24:41.874Z"
   },
   {
    "duration": 12,
    "start_time": "2022-06-27T15:24:41.890Z"
   },
   {
    "duration": 3,
    "start_time": "2022-06-27T15:24:41.903Z"
   },
   {
    "duration": 18,
    "start_time": "2022-06-27T15:24:41.908Z"
   },
   {
    "duration": 3,
    "start_time": "2022-06-27T15:24:41.928Z"
   },
   {
    "duration": 7,
    "start_time": "2022-06-27T15:24:41.932Z"
   },
   {
    "duration": 37,
    "start_time": "2022-06-27T15:24:41.941Z"
   },
   {
    "duration": 5,
    "start_time": "2022-06-27T15:24:41.980Z"
   },
   {
    "duration": 19,
    "start_time": "2022-06-27T15:24:41.986Z"
   },
   {
    "duration": 37,
    "start_time": "2022-06-27T15:24:42.007Z"
   },
   {
    "duration": 89,
    "start_time": "2022-06-27T15:24:42.046Z"
   },
   {
    "duration": 90,
    "start_time": "2022-06-27T15:24:42.137Z"
   },
   {
    "duration": 28,
    "start_time": "2022-06-27T15:24:42.229Z"
   },
   {
    "duration": 1102,
    "start_time": "2022-06-27T15:25:07.031Z"
   },
   {
    "duration": 2,
    "start_time": "2022-06-27T15:25:08.135Z"
   },
   {
    "duration": 28,
    "start_time": "2022-06-27T15:25:08.139Z"
   },
   {
    "duration": 14,
    "start_time": "2022-06-27T15:25:08.169Z"
   },
   {
    "duration": 18,
    "start_time": "2022-06-27T15:25:08.185Z"
   },
   {
    "duration": 9,
    "start_time": "2022-06-27T15:25:08.205Z"
   },
   {
    "duration": 10,
    "start_time": "2022-06-27T15:25:08.215Z"
   },
   {
    "duration": 4,
    "start_time": "2022-06-27T15:25:08.227Z"
   },
   {
    "duration": 12,
    "start_time": "2022-06-27T15:25:08.232Z"
   },
   {
    "duration": 29,
    "start_time": "2022-06-27T15:25:08.247Z"
   },
   {
    "duration": 5,
    "start_time": "2022-06-27T15:25:08.278Z"
   },
   {
    "duration": 21,
    "start_time": "2022-06-27T15:25:08.284Z"
   },
   {
    "duration": 37,
    "start_time": "2022-06-27T15:25:08.307Z"
   },
   {
    "duration": 93,
    "start_time": "2022-06-27T15:25:08.345Z"
   },
   {
    "duration": 107,
    "start_time": "2022-06-27T15:25:08.441Z"
   },
   {
    "duration": 3,
    "start_time": "2022-06-27T15:29:34.390Z"
   },
   {
    "duration": 2,
    "start_time": "2022-06-27T15:29:39.310Z"
   },
   {
    "duration": 1063,
    "start_time": "2022-06-27T15:49:39.560Z"
   },
   {
    "duration": 3,
    "start_time": "2022-06-27T15:49:40.625Z"
   },
   {
    "duration": 30,
    "start_time": "2022-06-27T15:49:40.630Z"
   },
   {
    "duration": 15,
    "start_time": "2022-06-27T15:49:40.662Z"
   },
   {
    "duration": 12,
    "start_time": "2022-06-27T15:49:40.680Z"
   },
   {
    "duration": 4,
    "start_time": "2022-06-27T15:49:40.694Z"
   },
   {
    "duration": 7,
    "start_time": "2022-06-27T15:49:40.700Z"
   },
   {
    "duration": 5,
    "start_time": "2022-06-27T15:49:40.727Z"
   },
   {
    "duration": 98,
    "start_time": "2022-06-27T15:49:40.733Z"
   },
   {
    "duration": 0,
    "start_time": "2022-06-27T15:49:40.833Z"
   },
   {
    "duration": 0,
    "start_time": "2022-06-27T15:49:40.834Z"
   },
   {
    "duration": 0,
    "start_time": "2022-06-27T15:49:40.836Z"
   },
   {
    "duration": 0,
    "start_time": "2022-06-27T15:49:40.836Z"
   },
   {
    "duration": 0,
    "start_time": "2022-06-27T15:49:40.837Z"
   },
   {
    "duration": 0,
    "start_time": "2022-06-27T15:49:40.838Z"
   },
   {
    "duration": 0,
    "start_time": "2022-06-27T15:49:40.839Z"
   },
   {
    "duration": 1118,
    "start_time": "2022-06-27T15:49:58.495Z"
   },
   {
    "duration": 3,
    "start_time": "2022-06-27T15:49:59.615Z"
   },
   {
    "duration": 35,
    "start_time": "2022-06-27T15:49:59.619Z"
   },
   {
    "duration": 14,
    "start_time": "2022-06-27T15:49:59.655Z"
   },
   {
    "duration": 12,
    "start_time": "2022-06-27T15:49:59.671Z"
   },
   {
    "duration": 8,
    "start_time": "2022-06-27T15:49:59.684Z"
   },
   {
    "duration": 7,
    "start_time": "2022-06-27T15:49:59.694Z"
   },
   {
    "duration": 6,
    "start_time": "2022-06-27T15:49:59.702Z"
   },
   {
    "duration": 18,
    "start_time": "2022-06-27T15:49:59.709Z"
   },
   {
    "duration": 17,
    "start_time": "2022-06-27T15:49:59.728Z"
   },
   {
    "duration": 4,
    "start_time": "2022-06-27T15:49:59.747Z"
   },
   {
    "duration": 118,
    "start_time": "2022-06-27T15:49:59.753Z"
   },
   {
    "duration": 0,
    "start_time": "2022-06-27T15:49:59.873Z"
   },
   {
    "duration": 0,
    "start_time": "2022-06-27T15:49:59.874Z"
   },
   {
    "duration": 0,
    "start_time": "2022-06-27T15:49:59.876Z"
   },
   {
    "duration": 0,
    "start_time": "2022-06-27T15:49:59.877Z"
   },
   {
    "duration": 11,
    "start_time": "2022-06-27T15:50:22.599Z"
   },
   {
    "duration": 5,
    "start_time": "2022-06-27T15:50:53.110Z"
   },
   {
    "duration": 13,
    "start_time": "2022-06-27T15:50:57.813Z"
   },
   {
    "duration": 4,
    "start_time": "2022-06-27T15:51:02.646Z"
   },
   {
    "duration": 4,
    "start_time": "2022-06-27T15:51:17.527Z"
   },
   {
    "duration": 4,
    "start_time": "2022-06-27T15:51:23.932Z"
   },
   {
    "duration": 4,
    "start_time": "2022-06-27T15:51:28.288Z"
   },
   {
    "duration": 5,
    "start_time": "2022-06-27T15:51:40.009Z"
   },
   {
    "duration": 14,
    "start_time": "2022-06-27T15:51:43.215Z"
   },
   {
    "duration": 5,
    "start_time": "2022-06-27T15:52:15.988Z"
   },
   {
    "duration": 4,
    "start_time": "2022-06-27T15:52:20.641Z"
   },
   {
    "duration": 13,
    "start_time": "2022-06-27T15:52:28.164Z"
   },
   {
    "duration": 3,
    "start_time": "2022-06-27T15:53:12.918Z"
   },
   {
    "duration": 13,
    "start_time": "2022-06-27T15:53:20.146Z"
   },
   {
    "duration": 17,
    "start_time": "2022-06-27T15:53:25.508Z"
   },
   {
    "duration": 4,
    "start_time": "2022-06-27T15:54:06.399Z"
   },
   {
    "duration": 13,
    "start_time": "2022-06-27T15:54:11.162Z"
   },
   {
    "duration": 18,
    "start_time": "2022-06-27T15:54:14.508Z"
   },
   {
    "duration": 9,
    "start_time": "2022-06-27T15:55:01.945Z"
   },
   {
    "duration": 8,
    "start_time": "2022-06-27T15:55:02.131Z"
   },
   {
    "duration": 4,
    "start_time": "2022-06-27T16:34:46.330Z"
   },
   {
    "duration": 4,
    "start_time": "2022-06-27T16:40:08.282Z"
   },
   {
    "duration": 9,
    "start_time": "2022-06-27T16:40:30.012Z"
   },
   {
    "duration": 8,
    "start_time": "2022-06-27T16:40:47.755Z"
   },
   {
    "duration": 5,
    "start_time": "2022-06-27T16:40:52.272Z"
   },
   {
    "duration": 26,
    "start_time": "2022-06-27T16:40:54.121Z"
   },
   {
    "duration": 4,
    "start_time": "2022-06-27T16:41:27.267Z"
   },
   {
    "duration": 5,
    "start_time": "2022-06-27T16:41:47.616Z"
   },
   {
    "duration": 24,
    "start_time": "2022-06-27T16:41:53.684Z"
   },
   {
    "duration": 1059,
    "start_time": "2022-06-27T16:42:00.169Z"
   },
   {
    "duration": 2,
    "start_time": "2022-06-27T16:42:01.230Z"
   },
   {
    "duration": 31,
    "start_time": "2022-06-27T16:42:01.234Z"
   },
   {
    "duration": 17,
    "start_time": "2022-06-27T16:42:01.267Z"
   },
   {
    "duration": 25,
    "start_time": "2022-06-27T16:42:01.287Z"
   },
   {
    "duration": 15,
    "start_time": "2022-06-27T16:42:01.314Z"
   },
   {
    "duration": 14,
    "start_time": "2022-06-27T16:42:01.331Z"
   },
   {
    "duration": 7,
    "start_time": "2022-06-27T16:42:01.346Z"
   },
   {
    "duration": 15,
    "start_time": "2022-06-27T16:42:01.354Z"
   },
   {
    "duration": 121,
    "start_time": "2022-06-27T16:42:01.371Z"
   },
   {
    "duration": 0,
    "start_time": "2022-06-27T16:42:01.493Z"
   },
   {
    "duration": 0,
    "start_time": "2022-06-27T16:42:01.495Z"
   },
   {
    "duration": 0,
    "start_time": "2022-06-27T16:42:01.496Z"
   },
   {
    "duration": 0,
    "start_time": "2022-06-27T16:42:01.497Z"
   },
   {
    "duration": 0,
    "start_time": "2022-06-27T16:42:01.498Z"
   },
   {
    "duration": 0,
    "start_time": "2022-06-27T16:42:01.499Z"
   },
   {
    "duration": 4,
    "start_time": "2022-06-27T16:42:20.167Z"
   },
   {
    "duration": 1049,
    "start_time": "2022-06-27T16:42:25.152Z"
   },
   {
    "duration": 2,
    "start_time": "2022-06-27T16:42:26.203Z"
   },
   {
    "duration": 31,
    "start_time": "2022-06-27T16:42:26.207Z"
   },
   {
    "duration": 14,
    "start_time": "2022-06-27T16:42:26.240Z"
   },
   {
    "duration": 11,
    "start_time": "2022-06-27T16:42:26.255Z"
   },
   {
    "duration": 8,
    "start_time": "2022-06-27T16:42:26.268Z"
   },
   {
    "duration": 6,
    "start_time": "2022-06-27T16:42:26.277Z"
   },
   {
    "duration": 4,
    "start_time": "2022-06-27T16:42:26.285Z"
   },
   {
    "duration": 15,
    "start_time": "2022-06-27T16:42:26.291Z"
   },
   {
    "duration": 18,
    "start_time": "2022-06-27T16:42:26.326Z"
   },
   {
    "duration": 3,
    "start_time": "2022-06-27T16:42:26.345Z"
   },
   {
    "duration": 13,
    "start_time": "2022-06-27T16:42:26.350Z"
   },
   {
    "duration": 36,
    "start_time": "2022-06-27T16:42:26.365Z"
   },
   {
    "duration": 4,
    "start_time": "2022-06-27T16:42:26.403Z"
   },
   {
    "duration": 133,
    "start_time": "2022-06-27T16:42:26.409Z"
   },
   {
    "duration": 0,
    "start_time": "2022-06-27T16:42:26.544Z"
   },
   {
    "duration": 6,
    "start_time": "2022-06-27T16:46:11.483Z"
   },
   {
    "duration": 27,
    "start_time": "2022-06-27T16:46:13.567Z"
   },
   {
    "duration": 5,
    "start_time": "2022-06-27T16:47:54.204Z"
   },
   {
    "duration": 1042,
    "start_time": "2022-06-27T16:47:57.958Z"
   },
   {
    "duration": 3,
    "start_time": "2022-06-27T16:47:59.002Z"
   },
   {
    "duration": 32,
    "start_time": "2022-06-27T16:47:59.006Z"
   },
   {
    "duration": 14,
    "start_time": "2022-06-27T16:47:59.040Z"
   },
   {
    "duration": 12,
    "start_time": "2022-06-27T16:47:59.056Z"
   },
   {
    "duration": 10,
    "start_time": "2022-06-27T16:47:59.069Z"
   },
   {
    "duration": 6,
    "start_time": "2022-06-27T16:47:59.081Z"
   },
   {
    "duration": 40,
    "start_time": "2022-06-27T16:47:59.088Z"
   },
   {
    "duration": 11,
    "start_time": "2022-06-27T16:47:59.130Z"
   },
   {
    "duration": 20,
    "start_time": "2022-06-27T16:47:59.143Z"
   },
   {
    "duration": 3,
    "start_time": "2022-06-27T16:47:59.165Z"
   },
   {
    "duration": 13,
    "start_time": "2022-06-27T16:47:59.227Z"
   },
   {
    "duration": 19,
    "start_time": "2022-06-27T16:47:59.241Z"
   },
   {
    "duration": 5,
    "start_time": "2022-06-27T16:47:59.262Z"
   },
   {
    "duration": 272,
    "start_time": "2022-06-27T16:47:59.269Z"
   },
   {
    "duration": 0,
    "start_time": "2022-06-27T16:47:59.542Z"
   },
   {
    "duration": 1031,
    "start_time": "2022-06-27T16:48:37.789Z"
   },
   {
    "duration": 3,
    "start_time": "2022-06-27T16:48:38.821Z"
   },
   {
    "duration": 29,
    "start_time": "2022-06-27T16:48:38.825Z"
   },
   {
    "duration": 13,
    "start_time": "2022-06-27T16:48:38.856Z"
   },
   {
    "duration": 11,
    "start_time": "2022-06-27T16:48:38.871Z"
   },
   {
    "duration": 7,
    "start_time": "2022-06-27T16:48:38.884Z"
   },
   {
    "duration": 6,
    "start_time": "2022-06-27T16:48:38.892Z"
   },
   {
    "duration": 4,
    "start_time": "2022-06-27T16:48:38.900Z"
   },
   {
    "duration": 25,
    "start_time": "2022-06-27T16:48:38.906Z"
   },
   {
    "duration": 17,
    "start_time": "2022-06-27T16:48:38.932Z"
   },
   {
    "duration": 3,
    "start_time": "2022-06-27T16:48:38.950Z"
   },
   {
    "duration": 17,
    "start_time": "2022-06-27T16:48:38.955Z"
   },
   {
    "duration": 17,
    "start_time": "2022-06-27T16:48:38.974Z"
   },
   {
    "duration": 4,
    "start_time": "2022-06-27T16:48:38.993Z"
   },
   {
    "duration": 140,
    "start_time": "2022-06-27T16:48:38.999Z"
   },
   {
    "duration": 0,
    "start_time": "2022-06-27T16:48:39.140Z"
   },
   {
    "duration": 4,
    "start_time": "2022-06-27T16:49:11.191Z"
   },
   {
    "duration": 25,
    "start_time": "2022-06-27T16:49:13.030Z"
   },
   {
    "duration": 5,
    "start_time": "2022-06-27T16:52:11.028Z"
   },
   {
    "duration": 24,
    "start_time": "2022-06-27T16:52:14.571Z"
   },
   {
    "duration": 28,
    "start_time": "2022-06-27T16:53:19.536Z"
   },
   {
    "duration": 4,
    "start_time": "2022-06-27T16:53:43.857Z"
   },
   {
    "duration": 26,
    "start_time": "2022-06-27T16:53:46.714Z"
   },
   {
    "duration": 4,
    "start_time": "2022-06-27T16:54:12.757Z"
   },
   {
    "duration": 28,
    "start_time": "2022-06-27T16:54:17.563Z"
   },
   {
    "duration": 31,
    "start_time": "2022-06-27T16:57:32.709Z"
   },
   {
    "duration": 6,
    "start_time": "2022-06-27T16:57:37.422Z"
   },
   {
    "duration": 201,
    "start_time": "2022-06-27T16:57:37.831Z"
   },
   {
    "duration": 5,
    "start_time": "2022-06-27T17:00:52.664Z"
   },
   {
    "duration": 131,
    "start_time": "2022-06-27T17:01:07.201Z"
   },
   {
    "duration": 5,
    "start_time": "2022-06-27T17:02:57.338Z"
   },
   {
    "duration": 62,
    "start_time": "2022-06-27T17:03:19.280Z"
   },
   {
    "duration": 5,
    "start_time": "2022-06-27T17:04:12.692Z"
   },
   {
    "duration": 35,
    "start_time": "2022-06-27T17:04:15.398Z"
   },
   {
    "duration": 8,
    "start_time": "2022-06-27T17:04:25.795Z"
   },
   {
    "duration": 21,
    "start_time": "2022-06-27T17:04:40.951Z"
   },
   {
    "duration": 1192,
    "start_time": "2022-06-27T17:05:50.203Z"
   },
   {
    "duration": 2,
    "start_time": "2022-06-27T17:05:51.397Z"
   },
   {
    "duration": 44,
    "start_time": "2022-06-27T17:05:51.401Z"
   },
   {
    "duration": 19,
    "start_time": "2022-06-27T17:05:51.453Z"
   },
   {
    "duration": 28,
    "start_time": "2022-06-27T17:05:51.474Z"
   },
   {
    "duration": 13,
    "start_time": "2022-06-27T17:05:51.505Z"
   },
   {
    "duration": 38,
    "start_time": "2022-06-27T17:05:51.520Z"
   },
   {
    "duration": 7,
    "start_time": "2022-06-27T17:05:51.561Z"
   },
   {
    "duration": 22,
    "start_time": "2022-06-27T17:05:51.570Z"
   },
   {
    "duration": 44,
    "start_time": "2022-06-27T17:05:51.594Z"
   },
   {
    "duration": 12,
    "start_time": "2022-06-27T17:05:51.643Z"
   },
   {
    "duration": 22,
    "start_time": "2022-06-27T17:05:51.658Z"
   },
   {
    "duration": 27,
    "start_time": "2022-06-27T17:05:51.682Z"
   },
   {
    "duration": 6,
    "start_time": "2022-06-27T17:05:51.712Z"
   },
   {
    "duration": 282,
    "start_time": "2022-06-27T17:05:51.726Z"
   },
   {
    "duration": 0,
    "start_time": "2022-06-27T17:05:52.010Z"
   },
   {
    "duration": 5,
    "start_time": "2022-06-27T17:07:16.646Z"
   },
   {
    "duration": 5,
    "start_time": "2022-06-27T17:07:18.476Z"
   },
   {
    "duration": 5,
    "start_time": "2022-06-27T17:07:45.266Z"
   },
   {
    "duration": 1165,
    "start_time": "2022-06-27T17:07:50.209Z"
   },
   {
    "duration": 2,
    "start_time": "2022-06-27T17:07:51.376Z"
   },
   {
    "duration": 27,
    "start_time": "2022-06-27T17:07:51.379Z"
   },
   {
    "duration": 19,
    "start_time": "2022-06-27T17:07:51.428Z"
   },
   {
    "duration": 33,
    "start_time": "2022-06-27T17:07:51.449Z"
   },
   {
    "duration": 13,
    "start_time": "2022-06-27T17:07:51.484Z"
   },
   {
    "duration": 24,
    "start_time": "2022-06-27T17:07:51.499Z"
   },
   {
    "duration": 11,
    "start_time": "2022-06-27T17:07:51.525Z"
   },
   {
    "duration": 33,
    "start_time": "2022-06-27T17:07:51.537Z"
   },
   {
    "duration": 35,
    "start_time": "2022-06-27T17:07:51.573Z"
   },
   {
    "duration": 6,
    "start_time": "2022-06-27T17:07:51.610Z"
   },
   {
    "duration": 31,
    "start_time": "2022-06-27T17:07:51.618Z"
   },
   {
    "duration": 37,
    "start_time": "2022-06-27T17:07:51.651Z"
   },
   {
    "duration": 6,
    "start_time": "2022-06-27T17:07:51.690Z"
   },
   {
    "duration": 287,
    "start_time": "2022-06-27T17:07:51.697Z"
   },
   {
    "duration": 0,
    "start_time": "2022-06-27T17:07:51.985Z"
   },
   {
    "duration": 49,
    "start_time": "2022-06-27T17:09:12.529Z"
   },
   {
    "duration": 5,
    "start_time": "2022-06-27T17:09:35.678Z"
   },
   {
    "duration": 58,
    "start_time": "2022-06-27T17:09:39.581Z"
   },
   {
    "duration": 5,
    "start_time": "2022-06-27T17:09:48.950Z"
   },
   {
    "duration": 25,
    "start_time": "2022-06-27T17:09:52.537Z"
   },
   {
    "duration": 5,
    "start_time": "2022-06-27T17:10:09.860Z"
   },
   {
    "duration": 26,
    "start_time": "2022-06-27T17:10:13.711Z"
   },
   {
    "duration": 5,
    "start_time": "2022-06-27T17:10:53.441Z"
   },
   {
    "duration": 35,
    "start_time": "2022-06-27T17:10:55.798Z"
   },
   {
    "duration": 25,
    "start_time": "2022-06-27T17:11:32.036Z"
   },
   {
    "duration": 6,
    "start_time": "2022-06-27T17:14:10.907Z"
   },
   {
    "duration": 27,
    "start_time": "2022-06-27T17:14:13.062Z"
   },
   {
    "duration": 44,
    "start_time": "2022-06-27T17:14:20.285Z"
   },
   {
    "duration": 5,
    "start_time": "2022-06-27T17:14:30.367Z"
   },
   {
    "duration": 102,
    "start_time": "2022-06-27T17:14:39.525Z"
   },
   {
    "duration": 5,
    "start_time": "2022-06-27T17:14:59.328Z"
   },
   {
    "duration": 23,
    "start_time": "2022-06-27T17:15:01.873Z"
   },
   {
    "duration": 30,
    "start_time": "2022-06-27T17:15:34.052Z"
   },
   {
    "duration": 5,
    "start_time": "2022-06-27T17:16:03.323Z"
   },
   {
    "duration": 19,
    "start_time": "2022-06-27T17:16:07.642Z"
   },
   {
    "duration": 25,
    "start_time": "2022-06-27T17:16:14.090Z"
   },
   {
    "duration": 5,
    "start_time": "2022-06-27T17:16:22.525Z"
   },
   {
    "duration": 19,
    "start_time": "2022-06-27T17:16:23.289Z"
   },
   {
    "duration": 1119,
    "start_time": "2022-06-27T17:16:50.595Z"
   },
   {
    "duration": 4,
    "start_time": "2022-06-27T17:16:51.716Z"
   },
   {
    "duration": 33,
    "start_time": "2022-06-27T17:16:51.727Z"
   },
   {
    "duration": 19,
    "start_time": "2022-06-27T17:16:51.762Z"
   },
   {
    "duration": 12,
    "start_time": "2022-06-27T17:16:51.784Z"
   },
   {
    "duration": 9,
    "start_time": "2022-06-27T17:16:51.798Z"
   },
   {
    "duration": 18,
    "start_time": "2022-06-27T17:16:51.809Z"
   },
   {
    "duration": 7,
    "start_time": "2022-06-27T17:16:51.829Z"
   },
   {
    "duration": 16,
    "start_time": "2022-06-27T17:16:51.838Z"
   },
   {
    "duration": 37,
    "start_time": "2022-06-27T17:16:51.856Z"
   },
   {
    "duration": 4,
    "start_time": "2022-06-27T17:16:51.895Z"
   },
   {
    "duration": 30,
    "start_time": "2022-06-27T17:16:51.901Z"
   },
   {
    "duration": 19,
    "start_time": "2022-06-27T17:16:51.933Z"
   },
   {
    "duration": 5,
    "start_time": "2022-06-27T17:16:51.954Z"
   },
   {
    "duration": 66,
    "start_time": "2022-06-27T17:16:51.961Z"
   },
   {
    "duration": 207,
    "start_time": "2022-06-27T17:16:52.030Z"
   },
   {
    "duration": 5,
    "start_time": "2022-06-27T17:17:23.134Z"
   },
   {
    "duration": 22,
    "start_time": "2022-06-27T17:17:26.751Z"
   },
   {
    "duration": 24,
    "start_time": "2022-06-27T17:17:34.719Z"
   },
   {
    "duration": 5,
    "start_time": "2022-06-27T17:20:36.332Z"
   },
   {
    "duration": 18,
    "start_time": "2022-06-27T17:20:44.566Z"
   },
   {
    "duration": 22,
    "start_time": "2022-06-27T17:20:49.882Z"
   },
   {
    "duration": 22,
    "start_time": "2022-06-27T17:20:55.803Z"
   },
   {
    "duration": 5,
    "start_time": "2022-06-27T17:22:50.054Z"
   },
   {
    "duration": 5,
    "start_time": "2022-06-27T17:22:52.020Z"
   },
   {
    "duration": 18,
    "start_time": "2022-06-27T17:22:54.146Z"
   },
   {
    "duration": 24,
    "start_time": "2022-06-27T17:22:56.465Z"
   },
   {
    "duration": 5,
    "start_time": "2022-06-27T17:23:26.563Z"
   },
   {
    "duration": 17,
    "start_time": "2022-06-27T17:23:29.803Z"
   },
   {
    "duration": 22,
    "start_time": "2022-06-27T17:23:32.975Z"
   },
   {
    "duration": 5,
    "start_time": "2022-06-27T17:24:50.330Z"
   },
   {
    "duration": 8,
    "start_time": "2022-06-27T17:25:23.924Z"
   },
   {
    "duration": 22,
    "start_time": "2022-06-27T17:25:27.431Z"
   },
   {
    "duration": 4,
    "start_time": "2022-06-27T17:25:59.287Z"
   },
   {
    "duration": 24,
    "start_time": "2022-06-27T17:26:01.398Z"
   },
   {
    "duration": 21,
    "start_time": "2022-06-27T17:26:05.476Z"
   },
   {
    "duration": 5,
    "start_time": "2022-06-27T17:28:37.279Z"
   },
   {
    "duration": 16,
    "start_time": "2022-06-27T17:28:40.801Z"
   },
   {
    "duration": 21,
    "start_time": "2022-06-27T17:28:44.948Z"
   },
   {
    "duration": 6,
    "start_time": "2022-06-27T17:32:00.581Z"
   },
   {
    "duration": 23,
    "start_time": "2022-06-27T17:32:03.891Z"
   },
   {
    "duration": 5,
    "start_time": "2022-06-27T17:34:48.222Z"
   },
   {
    "duration": 17,
    "start_time": "2022-06-27T17:34:50.664Z"
   },
   {
    "duration": 22,
    "start_time": "2022-06-27T17:34:53.438Z"
   },
   {
    "duration": 6,
    "start_time": "2022-06-27T17:35:39.155Z"
   },
   {
    "duration": 22,
    "start_time": "2022-06-27T17:35:41.666Z"
   },
   {
    "duration": 1105,
    "start_time": "2022-06-27T17:37:32.798Z"
   },
   {
    "duration": 3,
    "start_time": "2022-06-27T17:37:33.906Z"
   },
   {
    "duration": 32,
    "start_time": "2022-06-27T17:37:33.913Z"
   },
   {
    "duration": 20,
    "start_time": "2022-06-27T17:37:33.948Z"
   },
   {
    "duration": 13,
    "start_time": "2022-06-27T17:37:33.970Z"
   },
   {
    "duration": 12,
    "start_time": "2022-06-27T17:37:33.985Z"
   },
   {
    "duration": 12,
    "start_time": "2022-06-27T17:37:33.998Z"
   },
   {
    "duration": 16,
    "start_time": "2022-06-27T17:37:34.012Z"
   },
   {
    "duration": 17,
    "start_time": "2022-06-27T17:37:34.030Z"
   },
   {
    "duration": 28,
    "start_time": "2022-06-27T17:37:34.049Z"
   },
   {
    "duration": 4,
    "start_time": "2022-06-27T17:37:34.080Z"
   },
   {
    "duration": 14,
    "start_time": "2022-06-27T17:37:34.086Z"
   },
   {
    "duration": 42,
    "start_time": "2022-06-27T17:37:34.103Z"
   },
   {
    "duration": 4,
    "start_time": "2022-06-27T17:37:34.147Z"
   },
   {
    "duration": 75,
    "start_time": "2022-06-27T17:37:34.153Z"
   },
   {
    "duration": 209,
    "start_time": "2022-06-27T17:37:34.230Z"
   },
   {
    "duration": 4,
    "start_time": "2022-06-27T17:39:10.274Z"
   },
   {
    "duration": 23,
    "start_time": "2022-06-27T17:39:20.154Z"
   },
   {
    "duration": 6,
    "start_time": "2022-06-27T17:39:41.282Z"
   },
   {
    "duration": 4,
    "start_time": "2022-06-27T17:39:58.070Z"
   },
   {
    "duration": 6,
    "start_time": "2022-06-27T17:40:00.522Z"
   },
   {
    "duration": 101,
    "start_time": "2022-06-27T17:40:06.728Z"
   },
   {
    "duration": 20,
    "start_time": "2022-06-27T17:40:28.896Z"
   },
   {
    "duration": 5,
    "start_time": "2022-06-27T17:41:18.907Z"
   },
   {
    "duration": 29,
    "start_time": "2022-06-27T17:41:22.798Z"
   },
   {
    "duration": 9,
    "start_time": "2022-06-27T17:43:30.522Z"
   },
   {
    "duration": 55,
    "start_time": "2022-06-27T17:43:35.574Z"
   },
   {
    "duration": 5,
    "start_time": "2022-06-27T17:45:40.996Z"
   },
   {
    "duration": 17,
    "start_time": "2022-06-27T17:45:48.595Z"
   },
   {
    "duration": 17,
    "start_time": "2022-06-27T17:45:52.497Z"
   },
   {
    "duration": 5,
    "start_time": "2022-06-27T17:46:13.803Z"
   },
   {
    "duration": 17,
    "start_time": "2022-06-27T17:46:17.728Z"
   },
   {
    "duration": 18,
    "start_time": "2022-06-27T17:46:21.374Z"
   },
   {
    "duration": 5,
    "start_time": "2022-06-27T17:46:52.773Z"
   },
   {
    "duration": 19,
    "start_time": "2022-06-27T17:46:56.073Z"
   },
   {
    "duration": 5,
    "start_time": "2022-06-27T17:47:02.761Z"
   },
   {
    "duration": 18,
    "start_time": "2022-06-27T17:47:07.828Z"
   },
   {
    "duration": 1517,
    "start_time": "2022-06-27T17:48:53.657Z"
   },
   {
    "duration": 51,
    "start_time": "2022-06-27T17:48:55.176Z"
   },
   {
    "duration": 35,
    "start_time": "2022-06-27T17:48:55.230Z"
   },
   {
    "duration": 14,
    "start_time": "2022-06-27T17:48:55.267Z"
   },
   {
    "duration": 55,
    "start_time": "2022-06-27T17:48:55.282Z"
   },
   {
    "duration": 11,
    "start_time": "2022-06-27T17:48:55.339Z"
   },
   {
    "duration": 10,
    "start_time": "2022-06-27T17:48:55.351Z"
   },
   {
    "duration": 5,
    "start_time": "2022-06-27T17:48:55.362Z"
   },
   {
    "duration": 59,
    "start_time": "2022-06-27T17:48:55.368Z"
   },
   {
    "duration": 21,
    "start_time": "2022-06-27T17:48:55.430Z"
   },
   {
    "duration": 5,
    "start_time": "2022-06-27T17:48:55.453Z"
   },
   {
    "duration": 67,
    "start_time": "2022-06-27T17:48:55.461Z"
   },
   {
    "duration": 34,
    "start_time": "2022-06-27T17:48:55.530Z"
   },
   {
    "duration": 14,
    "start_time": "2022-06-27T17:48:55.566Z"
   },
   {
    "duration": 80,
    "start_time": "2022-06-27T17:48:55.582Z"
   },
   {
    "duration": 83,
    "start_time": "2022-06-27T17:48:55.664Z"
   },
   {
    "duration": 1060,
    "start_time": "2022-06-28T15:26:41.268Z"
   },
   {
    "duration": 3,
    "start_time": "2022-06-28T15:26:42.330Z"
   },
   {
    "duration": 80,
    "start_time": "2022-06-28T15:26:42.334Z"
   },
   {
    "duration": 15,
    "start_time": "2022-06-28T15:26:42.415Z"
   },
   {
    "duration": 13,
    "start_time": "2022-06-28T15:26:42.432Z"
   },
   {
    "duration": 4,
    "start_time": "2022-06-28T15:26:42.447Z"
   },
   {
    "duration": 7,
    "start_time": "2022-06-28T15:26:42.452Z"
   },
   {
    "duration": 6,
    "start_time": "2022-06-28T15:26:42.461Z"
   },
   {
    "duration": 11,
    "start_time": "2022-06-28T15:26:42.468Z"
   },
   {
    "duration": 48,
    "start_time": "2022-06-28T15:26:42.480Z"
   },
   {
    "duration": 3,
    "start_time": "2022-06-28T15:26:42.530Z"
   },
   {
    "duration": 14,
    "start_time": "2022-06-28T15:26:42.534Z"
   },
   {
    "duration": 78,
    "start_time": "2022-06-28T15:26:42.551Z"
   },
   {
    "duration": 107,
    "start_time": "2022-06-28T15:26:42.633Z"
   },
   {
    "duration": 6,
    "start_time": "2022-06-28T15:26:42.742Z"
   },
   {
    "duration": 22,
    "start_time": "2022-06-28T15:26:42.749Z"
   },
   {
    "duration": 101,
    "start_time": "2022-06-28T15:26:42.827Z"
   },
   {
    "duration": 1061,
    "start_time": "2022-06-28T15:30:06.074Z"
   },
   {
    "duration": 3,
    "start_time": "2022-06-28T15:30:07.137Z"
   },
   {
    "duration": 28,
    "start_time": "2022-06-28T15:30:07.141Z"
   },
   {
    "duration": 16,
    "start_time": "2022-06-28T15:30:07.171Z"
   },
   {
    "duration": 12,
    "start_time": "2022-06-28T15:30:07.189Z"
   },
   {
    "duration": 4,
    "start_time": "2022-06-28T15:30:07.203Z"
   },
   {
    "duration": 21,
    "start_time": "2022-06-28T15:30:07.209Z"
   },
   {
    "duration": 5,
    "start_time": "2022-06-28T15:30:07.232Z"
   },
   {
    "duration": 24,
    "start_time": "2022-06-28T15:30:07.238Z"
   },
   {
    "duration": 22,
    "start_time": "2022-06-28T15:30:07.264Z"
   },
   {
    "duration": 3,
    "start_time": "2022-06-28T15:30:07.288Z"
   },
   {
    "duration": 34,
    "start_time": "2022-06-28T15:30:07.293Z"
   },
   {
    "duration": 99,
    "start_time": "2022-06-28T15:30:07.329Z"
   },
   {
    "duration": 26,
    "start_time": "2022-06-28T15:30:07.431Z"
   },
   {
    "duration": 9,
    "start_time": "2022-06-28T15:30:07.459Z"
   },
   {
    "duration": 63,
    "start_time": "2022-06-28T15:30:07.470Z"
   },
   {
    "duration": 100,
    "start_time": "2022-06-28T15:30:07.535Z"
   },
   {
    "duration": 3,
    "start_time": "2022-06-28T15:30:29.565Z"
   },
   {
    "duration": 6,
    "start_time": "2022-06-28T15:30:32.022Z"
   },
   {
    "duration": 3,
    "start_time": "2022-06-28T15:35:29.162Z"
   },
   {
    "duration": 4,
    "start_time": "2022-06-28T15:35:31.002Z"
   },
   {
    "duration": 6,
    "start_time": "2022-06-28T15:35:40.778Z"
   },
   {
    "duration": 1125,
    "start_time": "2022-06-28T15:48:41.913Z"
   },
   {
    "duration": 3,
    "start_time": "2022-06-28T15:48:43.040Z"
   },
   {
    "duration": 56,
    "start_time": "2022-06-28T15:48:43.044Z"
   },
   {
    "duration": 21,
    "start_time": "2022-06-28T15:48:43.102Z"
   },
   {
    "duration": 31,
    "start_time": "2022-06-28T15:48:43.125Z"
   },
   {
    "duration": 6,
    "start_time": "2022-06-28T15:48:43.158Z"
   },
   {
    "duration": 29,
    "start_time": "2022-06-28T15:48:43.166Z"
   },
   {
    "duration": 30,
    "start_time": "2022-06-28T15:48:43.197Z"
   },
   {
    "duration": 33,
    "start_time": "2022-06-28T15:48:43.229Z"
   },
   {
    "duration": 43,
    "start_time": "2022-06-28T15:48:43.265Z"
   },
   {
    "duration": 5,
    "start_time": "2022-06-28T15:48:43.309Z"
   },
   {
    "duration": 32,
    "start_time": "2022-06-28T15:48:43.316Z"
   },
   {
    "duration": 87,
    "start_time": "2022-06-28T15:48:43.350Z"
   },
   {
    "duration": 104,
    "start_time": "2022-06-28T15:48:43.439Z"
   },
   {
    "duration": 21,
    "start_time": "2022-06-28T15:48:43.545Z"
   },
   {
    "duration": 61,
    "start_time": "2022-06-28T15:48:43.567Z"
   },
   {
    "duration": 103,
    "start_time": "2022-06-28T15:48:43.631Z"
   },
   {
    "duration": 5,
    "start_time": "2022-06-28T15:51:58.834Z"
   },
   {
    "duration": 18,
    "start_time": "2022-06-28T15:52:02.875Z"
   },
   {
    "duration": 18,
    "start_time": "2022-06-28T15:52:07.151Z"
   },
   {
    "duration": 5,
    "start_time": "2022-06-28T15:59:04.504Z"
   },
   {
    "duration": 20,
    "start_time": "2022-06-28T15:59:08.392Z"
   },
   {
    "duration": 5,
    "start_time": "2022-06-28T15:59:36.499Z"
   },
   {
    "duration": 25,
    "start_time": "2022-06-28T15:59:39.333Z"
   },
   {
    "duration": 6,
    "start_time": "2022-06-28T16:00:56.510Z"
   },
   {
    "duration": 26,
    "start_time": "2022-06-28T16:01:00.714Z"
   },
   {
    "duration": 51,
    "start_time": "2022-06-28T16:01:43.139Z"
   },
   {
    "duration": 6,
    "start_time": "2022-06-28T16:01:58.866Z"
   },
   {
    "duration": 304,
    "start_time": "2022-06-28T16:02:02.304Z"
   },
   {
    "duration": 6,
    "start_time": "2022-06-28T16:02:38.870Z"
   },
   {
    "duration": 24,
    "start_time": "2022-06-28T16:02:42.334Z"
   },
   {
    "duration": 5,
    "start_time": "2022-06-28T16:02:52.470Z"
   },
   {
    "duration": 24,
    "start_time": "2022-06-28T16:02:56.427Z"
   },
   {
    "duration": 5,
    "start_time": "2022-06-28T16:03:10.300Z"
   },
   {
    "duration": 16,
    "start_time": "2022-06-28T16:03:12.767Z"
   },
   {
    "duration": 5,
    "start_time": "2022-06-28T16:03:47.116Z"
   },
   {
    "duration": 25,
    "start_time": "2022-06-28T16:03:49.811Z"
   },
   {
    "duration": 149,
    "start_time": "2022-06-28T16:10:28.638Z"
   },
   {
    "duration": 76,
    "start_time": "2022-06-28T16:10:45.753Z"
   },
   {
    "duration": 114,
    "start_time": "2022-06-28T16:11:00.679Z"
   },
   {
    "duration": 60,
    "start_time": "2022-06-28T16:11:13.079Z"
   },
   {
    "duration": 74,
    "start_time": "2022-06-28T16:11:23.627Z"
   },
   {
    "duration": 6,
    "start_time": "2022-06-28T16:12:38.942Z"
   },
   {
    "duration": 148,
    "start_time": "2022-06-28T16:12:41.679Z"
   },
   {
    "duration": 6,
    "start_time": "2022-06-28T16:17:09.203Z"
   },
   {
    "duration": 98,
    "start_time": "2022-06-28T16:17:11.229Z"
   },
   {
    "duration": 5,
    "start_time": "2022-06-28T16:18:19.893Z"
   },
   {
    "duration": 20,
    "start_time": "2022-06-28T16:18:22.405Z"
   },
   {
    "duration": 6,
    "start_time": "2022-06-28T16:24:01.254Z"
   },
   {
    "duration": 32,
    "start_time": "2022-06-28T16:24:05.095Z"
   },
   {
    "duration": 25,
    "start_time": "2022-06-28T16:24:08.417Z"
   },
   {
    "duration": 6,
    "start_time": "2022-06-28T16:24:26.399Z"
   },
   {
    "duration": 44,
    "start_time": "2022-06-28T16:24:28.484Z"
   },
   {
    "duration": 24,
    "start_time": "2022-06-28T16:24:29.715Z"
   },
   {
    "duration": 6,
    "start_time": "2022-06-28T16:24:47.832Z"
   },
   {
    "duration": 35,
    "start_time": "2022-06-28T16:24:50.703Z"
   },
   {
    "duration": 7,
    "start_time": "2022-06-28T16:26:58.984Z"
   },
   {
    "duration": 18,
    "start_time": "2022-06-28T16:27:04.707Z"
   },
   {
    "duration": 26,
    "start_time": "2022-06-28T16:27:08.403Z"
   },
   {
    "duration": 6,
    "start_time": "2022-06-28T16:28:15.042Z"
   },
   {
    "duration": 25,
    "start_time": "2022-06-28T16:28:18.234Z"
   },
   {
    "duration": 91,
    "start_time": "2022-06-28T16:29:07.238Z"
   },
   {
    "duration": 47,
    "start_time": "2022-06-28T16:29:22.885Z"
   },
   {
    "duration": 34,
    "start_time": "2022-06-28T16:29:43.371Z"
   },
   {
    "duration": 63,
    "start_time": "2022-06-28T16:30:46.203Z"
   },
   {
    "duration": 28,
    "start_time": "2022-06-28T16:30:56.581Z"
   },
   {
    "duration": 61,
    "start_time": "2022-06-28T16:31:04.368Z"
   },
   {
    "duration": 44,
    "start_time": "2022-06-28T16:31:18.114Z"
   },
   {
    "duration": 27,
    "start_time": "2022-06-28T16:31:29.370Z"
   },
   {
    "duration": 76,
    "start_time": "2022-06-28T16:31:39.253Z"
   },
   {
    "duration": 25,
    "start_time": "2022-06-28T16:33:39.655Z"
   },
   {
    "duration": 30,
    "start_time": "2022-06-28T16:40:04.652Z"
   },
   {
    "duration": 5,
    "start_time": "2022-06-28T16:41:49.382Z"
   },
   {
    "duration": 25,
    "start_time": "2022-06-28T16:41:52.119Z"
   },
   {
    "duration": 6,
    "start_time": "2022-06-28T16:43:51.571Z"
   },
   {
    "duration": 25,
    "start_time": "2022-06-28T16:43:54.653Z"
   },
   {
    "duration": 6,
    "start_time": "2022-06-28T16:49:42.621Z"
   },
   {
    "duration": 16,
    "start_time": "2022-06-28T16:49:44.869Z"
   },
   {
    "duration": 162,
    "start_time": "2022-06-28T16:49:48.303Z"
   },
   {
    "duration": 6,
    "start_time": "2022-06-28T16:50:07.604Z"
   },
   {
    "duration": 17,
    "start_time": "2022-06-28T16:50:10.136Z"
   },
   {
    "duration": 114,
    "start_time": "2022-06-28T16:50:10.426Z"
   },
   {
    "duration": 185,
    "start_time": "2022-06-28T16:50:14.046Z"
   },
   {
    "duration": 7,
    "start_time": "2022-06-28T16:50:30.017Z"
   },
   {
    "duration": 17,
    "start_time": "2022-06-28T16:50:34.196Z"
   },
   {
    "duration": 170,
    "start_time": "2022-06-28T16:50:34.663Z"
   },
   {
    "duration": 5,
    "start_time": "2022-06-28T16:51:41.926Z"
   },
   {
    "duration": 113,
    "start_time": "2022-06-28T16:51:44.426Z"
   },
   {
    "duration": 5,
    "start_time": "2022-06-28T16:52:37.217Z"
   },
   {
    "duration": 5,
    "start_time": "2022-06-28T16:52:48.094Z"
   },
   {
    "duration": 17,
    "start_time": "2022-06-28T16:52:50.304Z"
   },
   {
    "duration": 59,
    "start_time": "2022-06-28T16:53:15.376Z"
   },
   {
    "duration": 5,
    "start_time": "2022-06-28T16:53:23.212Z"
   },
   {
    "duration": 203,
    "start_time": "2022-06-28T16:53:26.032Z"
   },
   {
    "duration": 5,
    "start_time": "2022-06-28T16:55:27.952Z"
   },
   {
    "duration": 162,
    "start_time": "2022-06-28T16:55:31.669Z"
   },
   {
    "duration": 6,
    "start_time": "2022-06-28T16:56:03.517Z"
   },
   {
    "duration": 18,
    "start_time": "2022-06-28T16:56:07.114Z"
   },
   {
    "duration": 4,
    "start_time": "2022-06-28T17:00:54.317Z"
   },
   {
    "duration": 143,
    "start_time": "2022-06-28T17:00:56.294Z"
   },
   {
    "duration": 19,
    "start_time": "2022-06-28T17:01:00.249Z"
   },
   {
    "duration": 114,
    "start_time": "2022-06-28T17:01:04.826Z"
   },
   {
    "duration": 20,
    "start_time": "2022-06-28T17:01:08.930Z"
   },
   {
    "duration": 5,
    "start_time": "2022-06-28T17:02:40.805Z"
   },
   {
    "duration": 16,
    "start_time": "2022-06-28T17:02:43.078Z"
   },
   {
    "duration": 18,
    "start_time": "2022-06-28T17:02:46.520Z"
   },
   {
    "duration": 1035,
    "start_time": "2022-06-28T17:03:58.599Z"
   },
   {
    "duration": 3,
    "start_time": "2022-06-28T17:03:59.636Z"
   },
   {
    "duration": 30,
    "start_time": "2022-06-28T17:03:59.641Z"
   },
   {
    "duration": 15,
    "start_time": "2022-06-28T17:03:59.673Z"
   },
   {
    "duration": 13,
    "start_time": "2022-06-28T17:03:59.691Z"
   },
   {
    "duration": 8,
    "start_time": "2022-06-28T17:03:59.706Z"
   },
   {
    "duration": 23,
    "start_time": "2022-06-28T17:03:59.716Z"
   },
   {
    "duration": 16,
    "start_time": "2022-06-28T17:03:59.741Z"
   },
   {
    "duration": 13,
    "start_time": "2022-06-28T17:03:59.759Z"
   },
   {
    "duration": 22,
    "start_time": "2022-06-28T17:03:59.774Z"
   },
   {
    "duration": 2,
    "start_time": "2022-06-28T17:03:59.798Z"
   },
   {
    "duration": 9,
    "start_time": "2022-06-28T17:03:59.802Z"
   },
   {
    "duration": 26,
    "start_time": "2022-06-28T17:03:59.813Z"
   },
   {
    "duration": 99,
    "start_time": "2022-06-28T17:03:59.842Z"
   },
   {
    "duration": 5,
    "start_time": "2022-06-28T17:03:59.942Z"
   },
   {
    "duration": 83,
    "start_time": "2022-06-28T17:03:59.949Z"
   },
   {
    "duration": 102,
    "start_time": "2022-06-28T17:04:00.034Z"
   },
   {
    "duration": 1283,
    "start_time": "2022-06-28T22:51:36.647Z"
   },
   {
    "duration": 2,
    "start_time": "2022-06-28T22:51:37.932Z"
   },
   {
    "duration": 62,
    "start_time": "2022-06-28T22:51:37.935Z"
   },
   {
    "duration": 14,
    "start_time": "2022-06-28T22:51:37.999Z"
   },
   {
    "duration": 13,
    "start_time": "2022-06-28T22:51:38.014Z"
   },
   {
    "duration": 9,
    "start_time": "2022-06-28T22:51:38.028Z"
   },
   {
    "duration": 6,
    "start_time": "2022-06-28T22:51:38.038Z"
   },
   {
    "duration": 5,
    "start_time": "2022-06-28T22:51:38.045Z"
   },
   {
    "duration": 16,
    "start_time": "2022-06-28T22:51:38.051Z"
   },
   {
    "duration": 17,
    "start_time": "2022-06-28T22:51:38.070Z"
   },
   {
    "duration": 2,
    "start_time": "2022-06-28T22:51:38.089Z"
   },
   {
    "duration": 7,
    "start_time": "2022-06-28T22:51:38.093Z"
   },
   {
    "duration": 74,
    "start_time": "2022-06-28T22:51:38.102Z"
   },
   {
    "duration": 95,
    "start_time": "2022-06-28T22:51:38.177Z"
   },
   {
    "duration": 5,
    "start_time": "2022-06-28T22:51:38.273Z"
   },
   {
    "duration": 9,
    "start_time": "2022-06-28T22:51:38.280Z"
   },
   {
    "duration": 18,
    "start_time": "2022-06-28T22:51:38.291Z"
   },
   {
    "duration": 162,
    "start_time": "2022-06-28T22:51:38.311Z"
   },
   {
    "duration": 5,
    "start_time": "2022-06-28T22:54:31.410Z"
   },
   {
    "duration": 17,
    "start_time": "2022-06-28T22:54:35.582Z"
   },
   {
    "duration": 5,
    "start_time": "2022-06-28T22:57:59.435Z"
   },
   {
    "duration": 21,
    "start_time": "2022-06-28T22:58:03.272Z"
   },
   {
    "duration": 5,
    "start_time": "2022-06-28T22:59:01.070Z"
   },
   {
    "duration": 16,
    "start_time": "2022-06-28T22:59:04.303Z"
   },
   {
    "duration": 5,
    "start_time": "2022-06-28T22:59:49.015Z"
   },
   {
    "duration": 100,
    "start_time": "2022-06-28T22:59:52.145Z"
   },
   {
    "duration": 25,
    "start_time": "2022-06-28T23:02:32.131Z"
   },
   {
    "duration": 5,
    "start_time": "2022-06-28T23:02:38.675Z"
   },
   {
    "duration": 6,
    "start_time": "2022-06-28T23:06:30.657Z"
   },
   {
    "duration": 18,
    "start_time": "2022-06-28T23:06:34.253Z"
   },
   {
    "duration": 5,
    "start_time": "2022-06-28T23:06:56.804Z"
   },
   {
    "duration": 17,
    "start_time": "2022-06-28T23:07:00.157Z"
   },
   {
    "duration": 4,
    "start_time": "2022-06-28T23:07:27.230Z"
   },
   {
    "duration": 19,
    "start_time": "2022-06-28T23:07:30.693Z"
   },
   {
    "duration": 6,
    "start_time": "2022-06-28T23:09:41.345Z"
   },
   {
    "duration": 19,
    "start_time": "2022-06-28T23:09:45.553Z"
   },
   {
    "duration": 1465,
    "start_time": "2022-06-29T13:45:34.574Z"
   },
   {
    "duration": 3,
    "start_time": "2022-06-29T13:45:36.041Z"
   },
   {
    "duration": 127,
    "start_time": "2022-06-29T13:45:36.045Z"
   },
   {
    "duration": 22,
    "start_time": "2022-06-29T13:45:36.175Z"
   },
   {
    "duration": 18,
    "start_time": "2022-06-29T13:45:36.199Z"
   },
   {
    "duration": 8,
    "start_time": "2022-06-29T13:45:36.219Z"
   },
   {
    "duration": 10,
    "start_time": "2022-06-29T13:45:36.228Z"
   },
   {
    "duration": 28,
    "start_time": "2022-06-29T13:45:36.239Z"
   },
   {
    "duration": 12,
    "start_time": "2022-06-29T13:45:36.269Z"
   },
   {
    "duration": 20,
    "start_time": "2022-06-29T13:45:36.283Z"
   },
   {
    "duration": 3,
    "start_time": "2022-06-29T13:45:36.305Z"
   },
   {
    "duration": 10,
    "start_time": "2022-06-29T13:45:36.309Z"
   },
   {
    "duration": 48,
    "start_time": "2022-06-29T13:45:36.321Z"
   },
   {
    "duration": 97,
    "start_time": "2022-06-29T13:45:36.373Z"
   },
   {
    "duration": 9,
    "start_time": "2022-06-29T13:45:36.472Z"
   },
   {
    "duration": 10,
    "start_time": "2022-06-29T13:45:36.483Z"
   },
   {
    "duration": 68,
    "start_time": "2022-06-29T13:45:36.495Z"
   },
   {
    "duration": 106,
    "start_time": "2022-06-29T13:45:36.569Z"
   },
   {
    "duration": 1100,
    "start_time": "2022-07-03T15:50:50.937Z"
   },
   {
    "duration": 2,
    "start_time": "2022-07-03T15:50:52.039Z"
   },
   {
    "duration": 118,
    "start_time": "2022-07-03T15:50:52.042Z"
   },
   {
    "duration": 12,
    "start_time": "2022-07-03T15:50:52.162Z"
   },
   {
    "duration": 12,
    "start_time": "2022-07-03T15:50:52.176Z"
   },
   {
    "duration": 3,
    "start_time": "2022-07-03T15:50:52.189Z"
   },
   {
    "duration": 5,
    "start_time": "2022-07-03T15:50:52.193Z"
   },
   {
    "duration": 4,
    "start_time": "2022-07-03T15:50:52.200Z"
   },
   {
    "duration": 9,
    "start_time": "2022-07-03T15:50:52.205Z"
   },
   {
    "duration": 21,
    "start_time": "2022-07-03T15:50:52.215Z"
   },
   {
    "duration": 2,
    "start_time": "2022-07-03T15:50:52.237Z"
   },
   {
    "duration": 6,
    "start_time": "2022-07-03T15:50:52.240Z"
   },
   {
    "duration": 12,
    "start_time": "2022-07-03T15:50:52.247Z"
   },
   {
    "duration": 99,
    "start_time": "2022-07-03T15:50:52.331Z"
   },
   {
    "duration": 5,
    "start_time": "2022-07-03T15:50:52.431Z"
   },
   {
    "duration": 22,
    "start_time": "2022-07-03T15:50:52.437Z"
   },
   {
    "duration": 81,
    "start_time": "2022-07-03T15:50:52.460Z"
   },
   {
    "duration": 1122,
    "start_time": "2022-07-03T15:51:42.030Z"
   },
   {
    "duration": 2,
    "start_time": "2022-07-03T15:51:43.154Z"
   },
   {
    "duration": 43,
    "start_time": "2022-07-03T15:51:43.157Z"
   },
   {
    "duration": 13,
    "start_time": "2022-07-03T15:51:43.202Z"
   },
   {
    "duration": 11,
    "start_time": "2022-07-03T15:51:43.217Z"
   },
   {
    "duration": 6,
    "start_time": "2022-07-03T15:51:43.229Z"
   },
   {
    "duration": 6,
    "start_time": "2022-07-03T15:51:43.236Z"
   },
   {
    "duration": 4,
    "start_time": "2022-07-03T15:51:43.244Z"
   },
   {
    "duration": 13,
    "start_time": "2022-07-03T15:51:43.250Z"
   },
   {
    "duration": 17,
    "start_time": "2022-07-03T15:51:43.266Z"
   },
   {
    "duration": 3,
    "start_time": "2022-07-03T15:51:43.284Z"
   },
   {
    "duration": 42,
    "start_time": "2022-07-03T15:51:43.288Z"
   },
   {
    "duration": 13,
    "start_time": "2022-07-03T15:51:43.332Z"
   },
   {
    "duration": 96,
    "start_time": "2022-07-03T15:51:43.346Z"
   },
   {
    "duration": 4,
    "start_time": "2022-07-03T15:51:43.444Z"
   },
   {
    "duration": 18,
    "start_time": "2022-07-03T15:51:43.450Z"
   },
   {
    "duration": 104,
    "start_time": "2022-07-03T15:51:43.530Z"
   },
   {
    "duration": 990,
    "start_time": "2022-07-03T15:53:33.234Z"
   },
   {
    "duration": 2,
    "start_time": "2022-07-03T15:53:34.226Z"
   },
   {
    "duration": 38,
    "start_time": "2022-07-03T15:53:34.229Z"
   },
   {
    "duration": 13,
    "start_time": "2022-07-03T15:53:34.269Z"
   },
   {
    "duration": 11,
    "start_time": "2022-07-03T15:53:34.284Z"
   },
   {
    "duration": 5,
    "start_time": "2022-07-03T15:53:34.296Z"
   },
   {
    "duration": 5,
    "start_time": "2022-07-03T15:53:34.302Z"
   },
   {
    "duration": 4,
    "start_time": "2022-07-03T15:53:34.309Z"
   },
   {
    "duration": 17,
    "start_time": "2022-07-03T15:53:34.314Z"
   },
   {
    "duration": 20,
    "start_time": "2022-07-03T15:53:34.332Z"
   },
   {
    "duration": 2,
    "start_time": "2022-07-03T15:53:34.353Z"
   },
   {
    "duration": 7,
    "start_time": "2022-07-03T15:53:34.357Z"
   },
   {
    "duration": 72,
    "start_time": "2022-07-03T15:53:34.365Z"
   },
   {
    "duration": 95,
    "start_time": "2022-07-03T15:53:34.440Z"
   },
   {
    "duration": 4,
    "start_time": "2022-07-03T15:53:34.537Z"
   },
   {
    "duration": 18,
    "start_time": "2022-07-03T15:53:34.543Z"
   },
   {
    "duration": 75,
    "start_time": "2022-07-03T15:53:34.563Z"
   },
   {
    "duration": 1018,
    "start_time": "2022-07-03T15:56:01.819Z"
   },
   {
    "duration": 2,
    "start_time": "2022-07-03T15:56:02.839Z"
   },
   {
    "duration": 39,
    "start_time": "2022-07-03T15:56:02.842Z"
   },
   {
    "duration": 13,
    "start_time": "2022-07-03T15:56:02.883Z"
   },
   {
    "duration": 14,
    "start_time": "2022-07-03T15:56:02.897Z"
   },
   {
    "duration": 6,
    "start_time": "2022-07-03T15:56:02.912Z"
   },
   {
    "duration": 9,
    "start_time": "2022-07-03T15:56:02.919Z"
   },
   {
    "duration": 17,
    "start_time": "2022-07-03T15:56:02.929Z"
   },
   {
    "duration": 18,
    "start_time": "2022-07-03T15:56:02.947Z"
   },
   {
    "duration": 23,
    "start_time": "2022-07-03T15:56:02.967Z"
   },
   {
    "duration": 3,
    "start_time": "2022-07-03T15:56:02.991Z"
   },
   {
    "duration": 20,
    "start_time": "2022-07-03T15:56:02.995Z"
   },
   {
    "duration": 21,
    "start_time": "2022-07-03T15:56:03.016Z"
   },
   {
    "duration": 98,
    "start_time": "2022-07-03T15:56:03.039Z"
   },
   {
    "duration": 5,
    "start_time": "2022-07-03T15:56:03.138Z"
   },
   {
    "duration": 90,
    "start_time": "2022-07-03T15:56:03.144Z"
   },
   {
    "duration": 100,
    "start_time": "2022-07-03T15:56:03.236Z"
   },
   {
    "duration": 5,
    "start_time": "2022-07-03T16:08:20.054Z"
   },
   {
    "duration": 323,
    "start_time": "2022-07-03T16:08:24.204Z"
   },
   {
    "duration": 15,
    "start_time": "2022-07-03T16:08:27.753Z"
   },
   {
    "duration": 1011,
    "start_time": "2022-07-03T16:08:54.640Z"
   },
   {
    "duration": 2,
    "start_time": "2022-07-03T16:08:55.653Z"
   },
   {
    "duration": 39,
    "start_time": "2022-07-03T16:08:55.657Z"
   },
   {
    "duration": 15,
    "start_time": "2022-07-03T16:08:55.697Z"
   },
   {
    "duration": 16,
    "start_time": "2022-07-03T16:08:55.715Z"
   },
   {
    "duration": 8,
    "start_time": "2022-07-03T16:08:55.733Z"
   },
   {
    "duration": 8,
    "start_time": "2022-07-03T16:08:55.742Z"
   },
   {
    "duration": 6,
    "start_time": "2022-07-03T16:08:55.752Z"
   },
   {
    "duration": 11,
    "start_time": "2022-07-03T16:08:55.760Z"
   },
   {
    "duration": 23,
    "start_time": "2022-07-03T16:08:55.773Z"
   },
   {
    "duration": 3,
    "start_time": "2022-07-03T16:08:55.797Z"
   },
   {
    "duration": 32,
    "start_time": "2022-07-03T16:08:55.802Z"
   },
   {
    "duration": 15,
    "start_time": "2022-07-03T16:08:55.835Z"
   },
   {
    "duration": 20,
    "start_time": "2022-07-03T16:08:55.928Z"
   },
   {
    "duration": 5,
    "start_time": "2022-07-03T16:08:56.030Z"
   },
   {
    "duration": 29,
    "start_time": "2022-07-03T16:08:56.037Z"
   },
   {
    "duration": 76,
    "start_time": "2022-07-03T16:08:56.070Z"
   },
   {
    "duration": 956,
    "start_time": "2022-07-03T16:09:29.755Z"
   },
   {
    "duration": 3,
    "start_time": "2022-07-03T16:09:30.713Z"
   },
   {
    "duration": 41,
    "start_time": "2022-07-03T16:09:30.717Z"
   },
   {
    "duration": 15,
    "start_time": "2022-07-03T16:09:30.759Z"
   },
   {
    "duration": 12,
    "start_time": "2022-07-03T16:09:30.776Z"
   },
   {
    "duration": 3,
    "start_time": "2022-07-03T16:09:30.789Z"
   },
   {
    "duration": 12,
    "start_time": "2022-07-03T16:09:30.794Z"
   },
   {
    "duration": 5,
    "start_time": "2022-07-03T16:09:30.808Z"
   },
   {
    "duration": 16,
    "start_time": "2022-07-03T16:09:30.815Z"
   },
   {
    "duration": 21,
    "start_time": "2022-07-03T16:09:30.832Z"
   },
   {
    "duration": 3,
    "start_time": "2022-07-03T16:09:30.855Z"
   },
   {
    "duration": 7,
    "start_time": "2022-07-03T16:09:30.859Z"
   },
   {
    "duration": 67,
    "start_time": "2022-07-03T16:09:30.868Z"
   },
   {
    "duration": 97,
    "start_time": "2022-07-03T16:09:30.937Z"
   },
   {
    "duration": 5,
    "start_time": "2022-07-03T16:09:31.036Z"
   },
   {
    "duration": 24,
    "start_time": "2022-07-03T16:09:31.043Z"
   },
   {
    "duration": 162,
    "start_time": "2022-07-03T16:09:31.069Z"
   },
   {
    "duration": 5,
    "start_time": "2022-07-03T16:10:09.855Z"
   },
   {
    "duration": 16,
    "start_time": "2022-07-03T16:10:13.233Z"
   },
   {
    "duration": 16,
    "start_time": "2022-07-03T16:10:16.319Z"
   },
   {
    "duration": 5,
    "start_time": "2022-07-03T16:10:26.448Z"
   },
   {
    "duration": 20,
    "start_time": "2022-07-03T16:10:28.787Z"
   },
   {
    "duration": 17,
    "start_time": "2022-07-03T16:10:30.735Z"
   },
   {
    "duration": 1144,
    "start_time": "2022-07-04T16:56:02.639Z"
   },
   {
    "duration": 4,
    "start_time": "2022-07-04T16:56:03.786Z"
   },
   {
    "duration": 85,
    "start_time": "2022-07-04T16:56:03.792Z"
   },
   {
    "duration": 16,
    "start_time": "2022-07-04T16:56:03.884Z"
   },
   {
    "duration": 12,
    "start_time": "2022-07-04T16:56:03.901Z"
   },
   {
    "duration": 4,
    "start_time": "2022-07-04T16:56:03.915Z"
   },
   {
    "duration": 9,
    "start_time": "2022-07-04T16:56:03.920Z"
   },
   {
    "duration": 13,
    "start_time": "2022-07-04T16:56:03.931Z"
   },
   {
    "duration": 20,
    "start_time": "2022-07-04T16:56:03.946Z"
   },
   {
    "duration": 43,
    "start_time": "2022-07-04T16:56:03.968Z"
   },
   {
    "duration": 4,
    "start_time": "2022-07-04T16:56:04.013Z"
   },
   {
    "duration": 15,
    "start_time": "2022-07-04T16:56:04.019Z"
   },
   {
    "duration": 38,
    "start_time": "2022-07-04T16:56:04.036Z"
   },
   {
    "duration": 103,
    "start_time": "2022-07-04T16:56:04.076Z"
   },
   {
    "duration": 32,
    "start_time": "2022-07-04T16:56:04.180Z"
   },
   {
    "duration": 34,
    "start_time": "2022-07-04T16:56:04.214Z"
   },
   {
    "duration": 118,
    "start_time": "2022-07-04T16:56:04.264Z"
   }
  ],
  "kernelspec": {
   "display_name": "Python 3 (ipykernel)",
   "language": "python",
   "name": "python3"
  },
  "language_info": {
   "codemirror_mode": {
    "name": "ipython",
    "version": 3
   },
   "file_extension": ".py",
   "mimetype": "text/x-python",
   "name": "python",
   "nbconvert_exporter": "python",
   "pygments_lexer": "ipython3",
   "version": "3.9.7"
  },
  "toc": {
   "base_numbering": 1,
   "nav_menu": {},
   "number_sections": true,
   "sideBar": true,
   "skip_h1_title": true,
   "title_cell": "Содержание",
   "title_sidebar": "Contents",
   "toc_cell": true,
   "toc_position": {
    "height": "calc(100% - 180px)",
    "left": "10px",
    "top": "150px",
    "width": "270.391px"
   },
   "toc_section_display": true,
   "toc_window_display": true
  }
 },
 "nbformat": 4,
 "nbformat_minor": 2
}
