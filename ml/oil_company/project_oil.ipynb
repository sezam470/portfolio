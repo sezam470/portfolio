{
 "cells": [
  {
   "cell_type": "markdown",
   "metadata": {},
   "source": [
    "# Выбор локации для скважины"
   ]
  },
  {
   "cell_type": "markdown",
   "metadata": {},
   "source": [
    "Допустим, вы работаете в добывающей компании «ГлавРосГосНефть». Нужно решить, где бурить новую скважину.\n",
    "\n",
    "Вам предоставлены пробы нефти в трёх регионах: в каждом 10 000 месторождений, где измерили качество нефти и объём её запасов. Постройте модель машинного обучения, которая поможет определить регион, где добыча принесёт наибольшую прибыль. Проанализируйте возможную прибыль и риски техникой *Bootstrap.*\n",
    "\n",
    "Шаги для выбора локации:\n",
    "\n",
    "- В избранном регионе ищут месторождения, для каждого определяют значения признаков;\n",
    "- Строят модель и оценивают объём запасов;\n",
    "- Выбирают месторождения с самым высокими оценками значений. Количество месторождений зависит от бюджета компании и стоимости разработки одной скважины;\n",
    "- Прибыль равна суммарной прибыли отобранных месторождений."
   ]
  },
  {
   "cell_type": "markdown",
   "metadata": {},
   "source": [
    "## Загрузка и подготовка данных"
   ]
  },
  {
   "cell_type": "code",
   "execution_count": 1,
   "metadata": {},
   "outputs": [],
   "source": [
    "import pandas as pd\n",
    "from sklearn.model_selection import train_test_split\n",
    "from sklearn.linear_model import LinearRegression\n",
    "from sklearn.metrics import mean_squared_error\n",
    "import numpy as np\n",
    "from statistics import mean"
   ]
  },
  {
   "cell_type": "code",
   "execution_count": 2,
   "metadata": {},
   "outputs": [],
   "source": [
    "RANDOM_STATE = 12345\n",
    "PRODUCT_PROFIT = 450000\n",
    "BUDGET = 10000000000\n",
    "HOLES_TARGET_COUNT = 200\n",
    "ALPHA = 0.025"
   ]
  },
  {
   "cell_type": "code",
   "execution_count": 3,
   "metadata": {},
   "outputs": [
    {
     "name": "stdout",
     "output_type": "stream",
     "text": [
      "<class 'pandas.core.frame.DataFrame'>\n",
      "RangeIndex: 100000 entries, 0 to 99999\n",
      "Data columns (total 5 columns):\n",
      " #   Column   Non-Null Count   Dtype  \n",
      "---  ------   --------------   -----  \n",
      " 0   id       100000 non-null  object \n",
      " 1   f0       100000 non-null  float64\n",
      " 2   f1       100000 non-null  float64\n",
      " 3   f2       100000 non-null  float64\n",
      " 4   product  100000 non-null  float64\n",
      "dtypes: float64(4), object(1)\n",
      "memory usage: 3.8+ MB\n",
      "None\n"
     ]
    },
    {
     "data": {
      "text/html": [
       "<div>\n",
       "<style scoped>\n",
       "    .dataframe tbody tr th:only-of-type {\n",
       "        vertical-align: middle;\n",
       "    }\n",
       "\n",
       "    .dataframe tbody tr th {\n",
       "        vertical-align: top;\n",
       "    }\n",
       "\n",
       "    .dataframe thead th {\n",
       "        text-align: right;\n",
       "    }\n",
       "</style>\n",
       "<table border=\"1\" class=\"dataframe\">\n",
       "  <thead>\n",
       "    <tr style=\"text-align: right;\">\n",
       "      <th></th>\n",
       "      <th>id</th>\n",
       "      <th>f0</th>\n",
       "      <th>f1</th>\n",
       "      <th>f2</th>\n",
       "      <th>product</th>\n",
       "    </tr>\n",
       "  </thead>\n",
       "  <tbody>\n",
       "    <tr>\n",
       "      <th>0</th>\n",
       "      <td>txEyH</td>\n",
       "      <td>0.705745</td>\n",
       "      <td>-0.497823</td>\n",
       "      <td>1.221170</td>\n",
       "      <td>105.280062</td>\n",
       "    </tr>\n",
       "    <tr>\n",
       "      <th>1</th>\n",
       "      <td>2acmU</td>\n",
       "      <td>1.334711</td>\n",
       "      <td>-0.340164</td>\n",
       "      <td>4.365080</td>\n",
       "      <td>73.037750</td>\n",
       "    </tr>\n",
       "    <tr>\n",
       "      <th>2</th>\n",
       "      <td>409Wp</td>\n",
       "      <td>1.022732</td>\n",
       "      <td>0.151990</td>\n",
       "      <td>1.419926</td>\n",
       "      <td>85.265647</td>\n",
       "    </tr>\n",
       "    <tr>\n",
       "      <th>3</th>\n",
       "      <td>iJLyR</td>\n",
       "      <td>-0.032172</td>\n",
       "      <td>0.139033</td>\n",
       "      <td>2.978566</td>\n",
       "      <td>168.620776</td>\n",
       "    </tr>\n",
       "    <tr>\n",
       "      <th>4</th>\n",
       "      <td>Xdl7t</td>\n",
       "      <td>1.988431</td>\n",
       "      <td>0.155413</td>\n",
       "      <td>4.751769</td>\n",
       "      <td>154.036647</td>\n",
       "    </tr>\n",
       "  </tbody>\n",
       "</table>\n",
       "</div>"
      ],
      "text/plain": [
       "      id        f0        f1        f2     product\n",
       "0  txEyH  0.705745 -0.497823  1.221170  105.280062\n",
       "1  2acmU  1.334711 -0.340164  4.365080   73.037750\n",
       "2  409Wp  1.022732  0.151990  1.419926   85.265647\n",
       "3  iJLyR -0.032172  0.139033  2.978566  168.620776\n",
       "4  Xdl7t  1.988431  0.155413  4.751769  154.036647"
      ]
     },
     "execution_count": 3,
     "metadata": {},
     "output_type": "execute_result"
    }
   ],
   "source": [
    "df_0 = pd.read_csv('datasets/geo_data_0.csv')\n",
    "print(df_0.info())\n",
    "df_0.head(5)"
   ]
  },
  {
   "cell_type": "code",
   "execution_count": 4,
   "metadata": {},
   "outputs": [
    {
     "name": "stdout",
     "output_type": "stream",
     "text": [
      "<class 'pandas.core.frame.DataFrame'>\n",
      "RangeIndex: 100000 entries, 0 to 99999\n",
      "Data columns (total 5 columns):\n",
      " #   Column   Non-Null Count   Dtype  \n",
      "---  ------   --------------   -----  \n",
      " 0   id       100000 non-null  object \n",
      " 1   f0       100000 non-null  float64\n",
      " 2   f1       100000 non-null  float64\n",
      " 3   f2       100000 non-null  float64\n",
      " 4   product  100000 non-null  float64\n",
      "dtypes: float64(4), object(1)\n",
      "memory usage: 3.8+ MB\n",
      "None\n"
     ]
    },
    {
     "data": {
      "text/html": [
       "<div>\n",
       "<style scoped>\n",
       "    .dataframe tbody tr th:only-of-type {\n",
       "        vertical-align: middle;\n",
       "    }\n",
       "\n",
       "    .dataframe tbody tr th {\n",
       "        vertical-align: top;\n",
       "    }\n",
       "\n",
       "    .dataframe thead th {\n",
       "        text-align: right;\n",
       "    }\n",
       "</style>\n",
       "<table border=\"1\" class=\"dataframe\">\n",
       "  <thead>\n",
       "    <tr style=\"text-align: right;\">\n",
       "      <th></th>\n",
       "      <th>id</th>\n",
       "      <th>f0</th>\n",
       "      <th>f1</th>\n",
       "      <th>f2</th>\n",
       "      <th>product</th>\n",
       "    </tr>\n",
       "  </thead>\n",
       "  <tbody>\n",
       "    <tr>\n",
       "      <th>0</th>\n",
       "      <td>kBEdx</td>\n",
       "      <td>-15.001348</td>\n",
       "      <td>-8.276000</td>\n",
       "      <td>-0.005876</td>\n",
       "      <td>3.179103</td>\n",
       "    </tr>\n",
       "    <tr>\n",
       "      <th>1</th>\n",
       "      <td>62mP7</td>\n",
       "      <td>14.272088</td>\n",
       "      <td>-3.475083</td>\n",
       "      <td>0.999183</td>\n",
       "      <td>26.953261</td>\n",
       "    </tr>\n",
       "    <tr>\n",
       "      <th>2</th>\n",
       "      <td>vyE1P</td>\n",
       "      <td>6.263187</td>\n",
       "      <td>-5.948386</td>\n",
       "      <td>5.001160</td>\n",
       "      <td>134.766305</td>\n",
       "    </tr>\n",
       "    <tr>\n",
       "      <th>3</th>\n",
       "      <td>KcrkZ</td>\n",
       "      <td>-13.081196</td>\n",
       "      <td>-11.506057</td>\n",
       "      <td>4.999415</td>\n",
       "      <td>137.945408</td>\n",
       "    </tr>\n",
       "    <tr>\n",
       "      <th>4</th>\n",
       "      <td>AHL4O</td>\n",
       "      <td>12.702195</td>\n",
       "      <td>-8.147433</td>\n",
       "      <td>5.004363</td>\n",
       "      <td>134.766305</td>\n",
       "    </tr>\n",
       "  </tbody>\n",
       "</table>\n",
       "</div>"
      ],
      "text/plain": [
       "      id         f0         f1        f2     product\n",
       "0  kBEdx -15.001348  -8.276000 -0.005876    3.179103\n",
       "1  62mP7  14.272088  -3.475083  0.999183   26.953261\n",
       "2  vyE1P   6.263187  -5.948386  5.001160  134.766305\n",
       "3  KcrkZ -13.081196 -11.506057  4.999415  137.945408\n",
       "4  AHL4O  12.702195  -8.147433  5.004363  134.766305"
      ]
     },
     "execution_count": 4,
     "metadata": {},
     "output_type": "execute_result"
    }
   ],
   "source": [
    "df_1 = pd.read_csv('datasets/geo_data_1.csv')\n",
    "print(df_1.info())\n",
    "df_1.head(5)"
   ]
  },
  {
   "cell_type": "code",
   "execution_count": 5,
   "metadata": {},
   "outputs": [
    {
     "name": "stdout",
     "output_type": "stream",
     "text": [
      "<class 'pandas.core.frame.DataFrame'>\n",
      "RangeIndex: 100000 entries, 0 to 99999\n",
      "Data columns (total 5 columns):\n",
      " #   Column   Non-Null Count   Dtype  \n",
      "---  ------   --------------   -----  \n",
      " 0   id       100000 non-null  object \n",
      " 1   f0       100000 non-null  float64\n",
      " 2   f1       100000 non-null  float64\n",
      " 3   f2       100000 non-null  float64\n",
      " 4   product  100000 non-null  float64\n",
      "dtypes: float64(4), object(1)\n",
      "memory usage: 3.8+ MB\n",
      "None\n"
     ]
    },
    {
     "data": {
      "text/html": [
       "<div>\n",
       "<style scoped>\n",
       "    .dataframe tbody tr th:only-of-type {\n",
       "        vertical-align: middle;\n",
       "    }\n",
       "\n",
       "    .dataframe tbody tr th {\n",
       "        vertical-align: top;\n",
       "    }\n",
       "\n",
       "    .dataframe thead th {\n",
       "        text-align: right;\n",
       "    }\n",
       "</style>\n",
       "<table border=\"1\" class=\"dataframe\">\n",
       "  <thead>\n",
       "    <tr style=\"text-align: right;\">\n",
       "      <th></th>\n",
       "      <th>id</th>\n",
       "      <th>f0</th>\n",
       "      <th>f1</th>\n",
       "      <th>f2</th>\n",
       "      <th>product</th>\n",
       "    </tr>\n",
       "  </thead>\n",
       "  <tbody>\n",
       "    <tr>\n",
       "      <th>0</th>\n",
       "      <td>fwXo0</td>\n",
       "      <td>-1.146987</td>\n",
       "      <td>0.963328</td>\n",
       "      <td>-0.828965</td>\n",
       "      <td>27.758673</td>\n",
       "    </tr>\n",
       "    <tr>\n",
       "      <th>1</th>\n",
       "      <td>WJtFt</td>\n",
       "      <td>0.262778</td>\n",
       "      <td>0.269839</td>\n",
       "      <td>-2.530187</td>\n",
       "      <td>56.069697</td>\n",
       "    </tr>\n",
       "    <tr>\n",
       "      <th>2</th>\n",
       "      <td>ovLUW</td>\n",
       "      <td>0.194587</td>\n",
       "      <td>0.289035</td>\n",
       "      <td>-5.586433</td>\n",
       "      <td>62.871910</td>\n",
       "    </tr>\n",
       "    <tr>\n",
       "      <th>3</th>\n",
       "      <td>q6cA6</td>\n",
       "      <td>2.236060</td>\n",
       "      <td>-0.553760</td>\n",
       "      <td>0.930038</td>\n",
       "      <td>114.572842</td>\n",
       "    </tr>\n",
       "    <tr>\n",
       "      <th>4</th>\n",
       "      <td>WPMUX</td>\n",
       "      <td>-0.515993</td>\n",
       "      <td>1.716266</td>\n",
       "      <td>5.899011</td>\n",
       "      <td>149.600746</td>\n",
       "    </tr>\n",
       "  </tbody>\n",
       "</table>\n",
       "</div>"
      ],
      "text/plain": [
       "      id        f0        f1        f2     product\n",
       "0  fwXo0 -1.146987  0.963328 -0.828965   27.758673\n",
       "1  WJtFt  0.262778  0.269839 -2.530187   56.069697\n",
       "2  ovLUW  0.194587  0.289035 -5.586433   62.871910\n",
       "3  q6cA6  2.236060 -0.553760  0.930038  114.572842\n",
       "4  WPMUX -0.515993  1.716266  5.899011  149.600746"
      ]
     },
     "execution_count": 5,
     "metadata": {},
     "output_type": "execute_result"
    }
   ],
   "source": [
    "df_2 = pd.read_csv('datasets/geo_data_2.csv')\n",
    "print(df_2.info())\n",
    "df_2.head(5)"
   ]
  },
  {
   "cell_type": "markdown",
   "metadata": {},
   "source": [
    "1. Пропусков в данных нет. Оставляем как есть.\n",
    "2. Имеются отрицательные значения, которые, возможно, связаны с качеством скважины. Оставляем как есть."
   ]
  },
  {
   "cell_type": "markdown",
   "metadata": {},
   "source": [
    "## Обучение и проверка модели"
   ]
  },
  {
   "cell_type": "code",
   "execution_count": 6,
   "metadata": {},
   "outputs": [],
   "source": [
    "df = {0: df_0, 1: df_1, 2: df_2}"
   ]
  },
  {
   "cell_type": "code",
   "execution_count": 7,
   "metadata": {},
   "outputs": [],
   "source": [
    "predictions = {}\n",
    "targets = {}\n",
    "rmse_scores = {}\n",
    "\n",
    "for key, i in df.items():\n",
    "    features = i.drop(['id', 'product'], axis=1)\n",
    "    target = i['product']\n",
    "    features_train, features_valid, target_train, target_valid = train_test_split(features, target, test_size=0.25, random_state=RANDOM_STATE)\n",
    "    \n",
    "    model = LinearRegression()\n",
    "    model.fit(features_train, target_train)\n",
    "    predictions_valid = model.predict(features_valid)\n",
    "    rmse = mean_squared_error(target_valid, predictions_valid) ** 0.5\n",
    "    rmse_scores[key] = rmse\n",
    "    predictions[key] = pd.Series(predictions_valid)\n",
    "    targets[key] = target_valid.reset_index(drop=True)\n",
    "    "
   ]
  },
  {
   "cell_type": "code",
   "execution_count": 8,
   "metadata": {},
   "outputs": [],
   "source": [
    "def regions_info(key):\n",
    "    region_predictions = predictions[key]\n",
    "    region_predictions_mean = round(region_predictions.mean(), 2)\n",
    "    region_rmse = rmse_scores[key]\n",
    "    \n",
    "    return region_predictions, region_predictions_mean, region_rmse"
   ]
  },
  {
   "cell_type": "code",
   "execution_count": 9,
   "metadata": {},
   "outputs": [
    {
     "name": "stdout",
     "output_type": "stream",
     "text": [
      "Средний объём запасов в скважине (тыс. баррелей): 92.59\n",
      "RMSE модели: 37.5794217150813\n"
     ]
    }
   ],
   "source": [
    "predictions_0, predictions_0_mean, rmse_0 = regions_info(0)\n",
    "\n",
    "print('Средний объём запасов в скважине (тыс. баррелей):', predictions_0_mean)\n",
    "print('RMSE модели:', rmse_0)"
   ]
  },
  {
   "cell_type": "code",
   "execution_count": 10,
   "metadata": {},
   "outputs": [
    {
     "name": "stdout",
     "output_type": "stream",
     "text": [
      "Средний объём запасов в скважине (тыс. баррелей): 68.73\n",
      "RMSE модели: 0.8930992867756182\n"
     ]
    }
   ],
   "source": [
    "predictions_1, predictions_1_mean, rmse_1 = regions_info(1)\n",
    "\n",
    "print('Средний объём запасов в скважине (тыс. баррелей):', predictions_1_mean)\n",
    "print('RMSE модели:', rmse_1)"
   ]
  },
  {
   "cell_type": "code",
   "execution_count": 11,
   "metadata": {
    "scrolled": false
   },
   "outputs": [
    {
     "name": "stdout",
     "output_type": "stream",
     "text": [
      "Средний объём запасов в скважине (тыс. баррелей): 94.97\n",
      "RMSE модели: 40.02970873393434\n"
     ]
    }
   ],
   "source": [
    "predictions_2, predictions_2_mean, rmse_2 = regions_info(2)\n",
    "\n",
    "print('Средний объём запасов в скважине (тыс. баррелей):', predictions_2_mean)\n",
    "print('RMSE модели:', rmse_2)"
   ]
  },
  {
   "cell_type": "markdown",
   "metadata": {},
   "source": [
    "Средний объём запасов в скважине больше в регионе 2, затем 0. Но качество модели лучше в регионе 1."
   ]
  },
  {
   "cell_type": "markdown",
   "metadata": {},
   "source": [
    "## Подготовка к расчёту прибыли"
   ]
  },
  {
   "cell_type": "code",
   "execution_count": 12,
   "metadata": {
    "scrolled": false
   },
   "outputs": [
    {
     "name": "stdout",
     "output_type": "stream",
     "text": [
      "Достаточный объём сырья для безубыточной разработки новой скважины: 111.11 единиц продукта\n"
     ]
    }
   ],
   "source": [
    "loss_free_volume = BUDGET / HOLES_TARGET_COUNT / PRODUCT_PROFIT\n",
    "print(f'Достаточный объём сырья для безубыточной разработки новой скважины: {round(loss_free_volume, 2)} единиц продукта')\n"
   ]
  },
  {
   "cell_type": "markdown",
   "metadata": {},
   "source": [
    "Достаточный объём сырья для безубыточной разработки новой скважины больше, чем средний объем запасов скважин в каждом из трех регионов. При этом по средему объёму запасов в скважине сильно отстает регион 1.\n"
   ]
  },
  {
   "cell_type": "markdown",
   "metadata": {},
   "source": [
    "## Расчёт прибыли и рисков "
   ]
  },
  {
   "cell_type": "code",
   "execution_count": 13,
   "metadata": {},
   "outputs": [],
   "source": [
    "def best_holes_profit(pred, targ):\n",
    "    best_predictions = pred.sort_values(ascending=False).head(200)\n",
    "    best_target = targ.loc[best_predictions.index].head(200)\n",
    "    \n",
    "    common_volume = best_target.sum()\n",
    "    profit = (common_volume * PRODUCT_PROFIT) - BUDGET\n",
    "    return profit"
   ]
  },
  {
   "cell_type": "code",
   "execution_count": 14,
   "metadata": {},
   "outputs": [
    {
     "name": "stdout",
     "output_type": "stream",
     "text": [
      "Прибыль от 200 лучших скважин 0 региона: 3320826043.1398506\n"
     ]
    }
   ],
   "source": [
    "profit_0 = best_holes_profit(predictions[0], targets[0])\n",
    "print('Прибыль от 200 лучших скважин 0 региона:', profit_0)"
   ]
  },
  {
   "cell_type": "code",
   "execution_count": 15,
   "metadata": {},
   "outputs": [
    {
     "name": "stdout",
     "output_type": "stream",
     "text": [
      "Прибыль от 200 лучших скважин региона 1: 2415086696.681511\n"
     ]
    }
   ],
   "source": [
    "profit_1 = best_holes_profit(predictions[1], targets[1])\n",
    "print('Прибыль от 200 лучших скважин региона 1:', profit_1)"
   ]
  },
  {
   "cell_type": "code",
   "execution_count": 16,
   "metadata": {},
   "outputs": [
    {
     "name": "stdout",
     "output_type": "stream",
     "text": [
      "Прибыль от 200 лучших скважин региона 2: 2710349963.5998325\n"
     ]
    }
   ],
   "source": [
    "profit_2 = best_holes_profit(predictions[2], targets[2])\n",
    "print('Прибыль от 200 лучших скважин региона 2:', profit_2)"
   ]
  },
  {
   "cell_type": "markdown",
   "metadata": {},
   "source": [
    "По результатам данных прибыль от 200 лучших скважин была больше в регионе 0, затем 2."
   ]
  },
  {
   "cell_type": "code",
   "execution_count": 17,
   "metadata": {},
   "outputs": [],
   "source": [
    "state = np.random.RandomState(RANDOM_STATE)\n",
    "\n",
    "def profit_distribution(key):\n",
    "    profits = []\n",
    "    \n",
    "    for i in range(1000):\n",
    "        predictions_subsample = predictions[key].sample(n=500, replace=True, random_state=state)\n",
    "        target_subsample = targets[key].loc[predictions_subsample.index]\n",
    "        \n",
    "        profit = best_holes_profit(predictions_subsample, target_subsample)\n",
    "        profits.append(profit)\n",
    "    \n",
    "    profits_df = pd.Series(profits)\n",
    "    profit_mean = profits_df.mean()\n",
    "    risk_share = (profits_df < 0).mean()\n",
    "    \n",
    "    lower = profits_df.quantile(0.025)\n",
    "    upper = profits_df.quantile(0.975)\n",
    "    profits_interval = (lower, upper)\n",
    "\n",
    "    return risk_share, profit_mean, profits_interval\n"
   ]
  },
  {
   "cell_type": "code",
   "execution_count": 18,
   "metadata": {},
   "outputs": [
    {
     "name": "stdout",
     "output_type": "stream",
     "text": [
      "Вероятность убытков равна 6.00%\n",
      "95%-й доверительный интервал: (-102090094.83793654, 947976353.3583689)\n",
      "Средняя прибыль в регионе: 425938526.910592\n",
      "Регион с высоким уровнем риска - не подходит по критериям\n"
     ]
    }
   ],
   "source": [
    "risk_share_0, profit_mean_0, interval_0 = profit_distribution(0)\n",
    "\n",
    "print(f'Вероятность убытков равна {risk_share_0:.2%}')\n",
    "print(f'95%-й доверительный интервал: {interval_0}')\n",
    "print(f'Средняя прибыль в регионе: {profit_mean_0}')\n",
    "\n",
    "if risk_share_0 < ALPHA:\n",
    "    print('Регион с низким уровнем риска - подходит по критериям')\n",
    "else:\n",
    "    print('Регион с высоким уровнем риска - не подходит по критериям')"
   ]
  },
  {
   "cell_type": "code",
   "execution_count": 19,
   "metadata": {},
   "outputs": [
    {
     "name": "stdout",
     "output_type": "stream",
     "text": [
      "Вероятность убытков равна 0.30%\n",
      "95%-й доверительный интервал: (128123231.43308444, 953612982.0669085)\n",
      "Средняя прибыль в регионе: 518259493.69732505\n",
      "Регион с низким уровнем риска - подходит по критериям\n"
     ]
    }
   ],
   "source": [
    "risk_share_1, profit_mean_1, interval_1 = profit_distribution(1)\n",
    "print(f'Вероятность убытков равна {risk_share_1:.2%}')\n",
    "print(f'95%-й доверительный интервал: {interval_1}')\n",
    "print(f'Средняя прибыль в регионе: {profit_mean_1}')\n",
    "\n",
    "if risk_share_1 < ALPHA:\n",
    "    print('Регион с низким уровнем риска - подходит по критериям')\n",
    "else:\n",
    "    print('Регион с высоким уровнем риска - не подходит по критериям')"
   ]
  },
  {
   "cell_type": "code",
   "execution_count": 20,
   "metadata": {},
   "outputs": [
    {
     "name": "stdout",
     "output_type": "stream",
     "text": [
      "Вероятность убытков равна 6.20%\n",
      "95%-й доверительный интервал: (-115852609.16001143, 989629939.8445739)\n",
      "Средняя прибыль в регионе: 420194005.3440499\n",
      "Регион с высоким уровнем риска - не подходит по критериям\n"
     ]
    }
   ],
   "source": [
    "risk_share_2, profit_mean_2, interval_2 = profit_distribution(2)\n",
    "print(f'Вероятность убытков равна {risk_share_2:.2%}')\n",
    "print(f'95%-й доверительный интервал: {interval_2}')\n",
    "print(f'Средняя прибыль в регионе: {profit_mean_2}')\n",
    "\n",
    "if risk_share_2 < ALPHA:\n",
    "    print('Регион с низким уровнем риска - подходит по критериям')\n",
    "else:\n",
    "    print('Регион с высоким уровнем риска - не подходит по критериям')"
   ]
  },
  {
   "cell_type": "markdown",
   "metadata": {},
   "source": [
    "## Вывод"
   ]
  },
  {
   "cell_type": "markdown",
   "metadata": {},
   "source": [
    "Безубыточным оказался только регион 1 - (вероятность убытков в нем меньше 2.5%). Среди них выбираем регион с наибольшей средней прибылью. Средняя прибыль от каждой скважины в регионе составляет 518259493 рублей."
   ]
  }
 ],
 "metadata": {
  "ExecuteTimeLog": [
   {
    "duration": 662,
    "start_time": "2022-05-29T18:30:50.483Z"
   },
   {
    "duration": 394,
    "start_time": "2022-05-29T18:31:53.938Z"
   },
   {
    "duration": 404,
    "start_time": "2022-05-29T18:31:54.334Z"
   },
   {
    "duration": 224,
    "start_time": "2022-05-29T18:31:54.739Z"
   },
   {
    "duration": 217,
    "start_time": "2022-05-29T18:31:54.965Z"
   },
   {
    "duration": 394,
    "start_time": "2022-05-29T18:33:21.168Z"
   },
   {
    "duration": 158,
    "start_time": "2022-05-29T18:33:21.564Z"
   },
   {
    "duration": 149,
    "start_time": "2022-05-29T18:33:21.724Z"
   },
   {
    "duration": 153,
    "start_time": "2022-05-29T18:33:21.876Z"
   },
   {
    "duration": 147,
    "start_time": "2022-05-29T18:33:36.543Z"
   },
   {
    "duration": 157,
    "start_time": "2022-05-29T18:33:38.987Z"
   },
   {
    "duration": 148,
    "start_time": "2022-05-29T18:33:45.310Z"
   },
   {
    "duration": 151,
    "start_time": "2022-05-29T18:33:50.197Z"
   },
   {
    "duration": 142,
    "start_time": "2022-05-29T18:34:02.644Z"
   },
   {
    "duration": 152,
    "start_time": "2022-05-29T18:34:15.240Z"
   },
   {
    "duration": 48,
    "start_time": "2022-05-29T18:45:21.565Z"
   },
   {
    "duration": 21,
    "start_time": "2022-05-29T18:45:30.691Z"
   },
   {
    "duration": 25,
    "start_time": "2022-05-29T18:46:00.986Z"
   },
   {
    "duration": 728,
    "start_time": "2022-05-29T18:46:07.320Z"
   },
   {
    "duration": 3,
    "start_time": "2022-05-29T18:49:38.743Z"
   },
   {
    "duration": 2,
    "start_time": "2022-05-29T19:02:29.115Z"
   },
   {
    "duration": 362,
    "start_time": "2022-05-29T19:11:21.778Z"
   },
   {
    "duration": 151,
    "start_time": "2022-05-29T19:11:22.142Z"
   },
   {
    "duration": 131,
    "start_time": "2022-05-29T19:11:22.294Z"
   },
   {
    "duration": 134,
    "start_time": "2022-05-29T19:11:22.427Z"
   },
   {
    "duration": 4,
    "start_time": "2022-05-29T19:11:22.562Z"
   },
   {
    "duration": 0,
    "start_time": "2022-05-29T19:11:22.568Z"
   },
   {
    "duration": 0,
    "start_time": "2022-05-29T19:11:22.569Z"
   },
   {
    "duration": 68,
    "start_time": "2022-05-29T19:11:34.986Z"
   },
   {
    "duration": 37,
    "start_time": "2022-05-29T19:13:54.650Z"
   },
   {
    "duration": 40,
    "start_time": "2022-05-29T19:14:40.519Z"
   },
   {
    "duration": 36,
    "start_time": "2022-05-29T19:14:44.534Z"
   },
   {
    "duration": 23,
    "start_time": "2022-05-29T19:15:15.828Z"
   },
   {
    "duration": 16,
    "start_time": "2022-05-29T19:15:42.305Z"
   },
   {
    "duration": 14,
    "start_time": "2022-05-29T19:16:06.928Z"
   },
   {
    "duration": 5,
    "start_time": "2022-05-29T19:16:21.395Z"
   },
   {
    "duration": 744,
    "start_time": "2022-05-29T19:17:13.991Z"
   },
   {
    "duration": 3,
    "start_time": "2022-05-29T19:19:08.709Z"
   },
   {
    "duration": 2,
    "start_time": "2022-05-29T19:19:09.016Z"
   },
   {
    "duration": 149,
    "start_time": "2022-05-29T19:19:23.662Z"
   },
   {
    "duration": 41,
    "start_time": "2022-05-29T19:19:41.467Z"
   },
   {
    "duration": 29,
    "start_time": "2022-05-29T19:19:49.934Z"
   },
   {
    "duration": 11,
    "start_time": "2022-05-29T19:19:50.262Z"
   },
   {
    "duration": 8,
    "start_time": "2022-05-29T19:20:05.859Z"
   },
   {
    "duration": 9,
    "start_time": "2022-05-29T19:21:08.330Z"
   },
   {
    "duration": 30,
    "start_time": "2022-05-29T19:21:15.175Z"
   },
   {
    "duration": 10,
    "start_time": "2022-05-29T19:21:17.798Z"
   },
   {
    "duration": 5,
    "start_time": "2022-05-29T19:21:30.931Z"
   },
   {
    "duration": 5,
    "start_time": "2022-05-29T19:21:45.397Z"
   },
   {
    "duration": 27,
    "start_time": "2022-05-29T19:22:33.822Z"
   },
   {
    "duration": 10,
    "start_time": "2022-05-29T19:22:34.955Z"
   },
   {
    "duration": 4,
    "start_time": "2022-05-29T19:22:37.348Z"
   },
   {
    "duration": 9,
    "start_time": "2022-05-29T19:22:45.193Z"
   },
   {
    "duration": 5,
    "start_time": "2022-05-29T19:22:49.096Z"
   },
   {
    "duration": 68,
    "start_time": "2022-05-29T19:24:10.219Z"
   },
   {
    "duration": 3,
    "start_time": "2022-05-29T19:27:30.224Z"
   },
   {
    "duration": 45,
    "start_time": "2022-05-29T19:33:27.895Z"
   },
   {
    "duration": 22,
    "start_time": "2022-05-29T19:34:59.899Z"
   },
   {
    "duration": 16,
    "start_time": "2022-05-29T19:43:36.262Z"
   },
   {
    "duration": 3,
    "start_time": "2022-05-29T19:43:39.330Z"
   },
   {
    "duration": 19,
    "start_time": "2022-05-29T19:43:48.213Z"
   },
   {
    "duration": 24,
    "start_time": "2022-05-29T19:43:56.067Z"
   },
   {
    "duration": 284,
    "start_time": "2022-05-29T19:45:41.155Z"
   },
   {
    "duration": 2,
    "start_time": "2022-05-29T19:46:16.670Z"
   },
   {
    "duration": 243,
    "start_time": "2022-05-29T19:46:17.698Z"
   },
   {
    "duration": 239,
    "start_time": "2022-05-29T19:47:19.399Z"
   },
   {
    "duration": 11,
    "start_time": "2022-05-29T19:48:14.516Z"
   },
   {
    "duration": 9,
    "start_time": "2022-05-29T19:48:58.554Z"
   },
   {
    "duration": 10,
    "start_time": "2022-05-29T19:49:26.912Z"
   },
   {
    "duration": 4,
    "start_time": "2022-05-29T19:49:36.335Z"
   },
   {
    "duration": 353,
    "start_time": "2022-05-29T19:49:37.593Z"
   },
   {
    "duration": 252,
    "start_time": "2022-05-29T19:50:24.796Z"
   },
   {
    "duration": 86,
    "start_time": "2022-05-29T19:50:51.457Z"
   },
   {
    "duration": 357,
    "start_time": "2022-05-29T19:52:19.386Z"
   },
   {
    "duration": 62,
    "start_time": "2022-05-29T19:52:37.573Z"
   },
   {
    "duration": 104,
    "start_time": "2022-05-29T19:52:54.042Z"
   },
   {
    "duration": 24,
    "start_time": "2022-05-29T19:53:16.443Z"
   },
   {
    "duration": 32,
    "start_time": "2022-05-29T19:53:40.118Z"
   },
   {
    "duration": 236,
    "start_time": "2022-05-29T19:53:43.710Z"
   },
   {
    "duration": 53,
    "start_time": "2022-05-29T19:54:40.476Z"
   },
   {
    "duration": 38,
    "start_time": "2022-05-29T19:54:56.401Z"
   },
   {
    "duration": 66,
    "start_time": "2022-05-29T19:55:03.478Z"
   },
   {
    "duration": 350,
    "start_time": "2022-05-29T19:55:12.779Z"
   },
   {
    "duration": 86,
    "start_time": "2022-05-29T19:55:20.960Z"
   },
   {
    "duration": 43,
    "start_time": "2022-05-29T19:56:11.108Z"
   },
   {
    "duration": 120,
    "start_time": "2022-05-29T19:56:16.019Z"
   },
   {
    "duration": 418,
    "start_time": "2022-05-29T19:57:35.019Z"
   },
   {
    "duration": 250,
    "start_time": "2022-05-29T19:57:57.285Z"
   },
   {
    "duration": 289,
    "start_time": "2022-05-29T19:58:18.654Z"
   },
   {
    "duration": 36,
    "start_time": "2022-05-29T19:58:52.311Z"
   },
   {
    "duration": 84,
    "start_time": "2022-05-29T19:59:18.342Z"
   },
   {
    "duration": 71,
    "start_time": "2022-05-29T19:59:23.557Z"
   },
   {
    "duration": 120,
    "start_time": "2022-05-29T19:59:36.213Z"
   },
   {
    "duration": 36,
    "start_time": "2022-05-29T19:59:43.513Z"
   },
   {
    "duration": 308,
    "start_time": "2022-05-29T19:59:57.988Z"
   },
   {
    "duration": 4,
    "start_time": "2022-05-29T20:00:03.420Z"
   },
   {
    "duration": 55,
    "start_time": "2022-05-29T20:00:08.988Z"
   },
   {
    "duration": 44,
    "start_time": "2022-05-29T20:00:55.291Z"
   },
   {
    "duration": 335,
    "start_time": "2022-05-29T20:01:07.803Z"
   },
   {
    "duration": 878,
    "start_time": "2022-05-30T18:55:12.531Z"
   },
   {
    "duration": 3,
    "start_time": "2022-05-30T18:55:13.411Z"
   },
   {
    "duration": 450,
    "start_time": "2022-05-30T18:55:13.416Z"
   },
   {
    "duration": 210,
    "start_time": "2022-05-30T18:55:13.868Z"
   },
   {
    "duration": 213,
    "start_time": "2022-05-30T18:55:14.080Z"
   },
   {
    "duration": 3,
    "start_time": "2022-05-30T18:55:14.294Z"
   },
   {
    "duration": 295,
    "start_time": "2022-05-30T18:55:14.298Z"
   },
   {
    "duration": 86,
    "start_time": "2022-05-30T19:04:35.148Z"
   },
   {
    "duration": 106,
    "start_time": "2022-05-30T19:04:48.921Z"
   },
   {
    "duration": 32,
    "start_time": "2022-05-30T19:04:54.303Z"
   },
   {
    "duration": 255,
    "start_time": "2022-05-30T19:04:57.983Z"
   },
   {
    "duration": 31,
    "start_time": "2022-05-30T19:05:24.205Z"
   },
   {
    "duration": 32,
    "start_time": "2022-05-30T19:05:28.903Z"
   },
   {
    "duration": 88,
    "start_time": "2022-05-30T19:05:45.544Z"
   },
   {
    "duration": 3,
    "start_time": "2022-05-30T19:08:04.648Z"
   },
   {
    "duration": 74,
    "start_time": "2022-05-30T19:08:05.056Z"
   },
   {
    "duration": 2,
    "start_time": "2022-05-30T19:08:23.341Z"
   },
   {
    "duration": 115,
    "start_time": "2022-05-30T19:08:27.712Z"
   },
   {
    "duration": 31,
    "start_time": "2022-05-30T19:09:11.503Z"
   },
   {
    "duration": 37,
    "start_time": "2022-05-30T19:09:17.194Z"
   },
   {
    "duration": 8,
    "start_time": "2022-05-30T19:10:40.252Z"
   },
   {
    "duration": 287,
    "start_time": "2022-05-30T19:10:49.854Z"
   },
   {
    "duration": 5,
    "start_time": "2022-05-30T19:10:50.228Z"
   },
   {
    "duration": 82,
    "start_time": "2022-05-30T19:12:37.551Z"
   },
   {
    "duration": 66,
    "start_time": "2022-05-30T19:12:48.263Z"
   },
   {
    "duration": 103,
    "start_time": "2022-05-30T19:17:43.025Z"
   },
   {
    "duration": 62,
    "start_time": "2022-05-30T19:19:36.566Z"
   },
   {
    "duration": 368,
    "start_time": "2022-05-30T19:20:12.665Z"
   },
   {
    "duration": 346,
    "start_time": "2022-05-30T19:20:41.084Z"
   },
   {
    "duration": 395,
    "start_time": "2022-05-30T19:21:00.439Z"
   },
   {
    "duration": 271,
    "start_time": "2022-05-30T19:21:07.660Z"
   },
   {
    "duration": 45,
    "start_time": "2022-05-30T19:22:00.084Z"
   },
   {
    "duration": 292,
    "start_time": "2022-05-30T19:22:09.639Z"
   },
   {
    "duration": 2,
    "start_time": "2022-05-30T19:22:22.040Z"
   },
   {
    "duration": 2,
    "start_time": "2022-05-30T19:22:25.241Z"
   },
   {
    "duration": 323,
    "start_time": "2022-05-30T19:23:09.307Z"
   },
   {
    "duration": 5,
    "start_time": "2022-05-30T19:23:53.281Z"
   },
   {
    "duration": 326,
    "start_time": "2022-05-30T19:24:07.605Z"
   },
   {
    "duration": 322,
    "start_time": "2022-05-30T19:24:09.807Z"
   },
   {
    "duration": 3,
    "start_time": "2022-05-30T19:24:19.692Z"
   },
   {
    "duration": 5,
    "start_time": "2022-05-30T19:24:30.367Z"
   },
   {
    "duration": 5,
    "start_time": "2022-05-30T19:24:54.789Z"
   },
   {
    "duration": 4,
    "start_time": "2022-05-30T19:24:55.180Z"
   },
   {
    "duration": 4,
    "start_time": "2022-05-30T19:27:21.883Z"
   },
   {
    "duration": 5,
    "start_time": "2022-05-30T19:27:29.583Z"
   },
   {
    "duration": 10,
    "start_time": "2022-05-30T19:28:11.386Z"
   },
   {
    "duration": 5,
    "start_time": "2022-05-30T19:28:16.001Z"
   },
   {
    "duration": 5,
    "start_time": "2022-05-30T19:30:43.666Z"
   },
   {
    "duration": 8,
    "start_time": "2022-05-30T19:30:54.089Z"
   },
   {
    "duration": 3,
    "start_time": "2022-05-30T19:30:56.810Z"
   },
   {
    "duration": 4,
    "start_time": "2022-05-30T19:30:57.059Z"
   },
   {
    "duration": 4,
    "start_time": "2022-05-30T19:31:08.102Z"
   },
   {
    "duration": 5,
    "start_time": "2022-05-30T19:31:15.190Z"
   },
   {
    "duration": 3,
    "start_time": "2022-05-30T19:31:39.713Z"
   },
   {
    "duration": 4,
    "start_time": "2022-05-30T19:31:40.178Z"
   },
   {
    "duration": 4,
    "start_time": "2022-05-30T19:31:40.779Z"
   },
   {
    "duration": 5,
    "start_time": "2022-05-30T19:31:52.860Z"
   },
   {
    "duration": 4,
    "start_time": "2022-05-30T19:36:26.816Z"
   },
   {
    "duration": 6,
    "start_time": "2022-05-30T19:36:29.718Z"
   },
   {
    "duration": 5,
    "start_time": "2022-05-30T19:37:14.296Z"
   },
   {
    "duration": 3,
    "start_time": "2022-05-30T19:37:35.999Z"
   },
   {
    "duration": 4,
    "start_time": "2022-05-30T19:37:44.236Z"
   },
   {
    "duration": 4,
    "start_time": "2022-05-30T19:37:46.894Z"
   },
   {
    "duration": 4,
    "start_time": "2022-05-30T19:37:56.091Z"
   },
   {
    "duration": 3,
    "start_time": "2022-05-30T19:38:53.950Z"
   },
   {
    "duration": 4,
    "start_time": "2022-05-30T19:39:13.701Z"
   },
   {
    "duration": 5,
    "start_time": "2022-05-30T19:39:19.528Z"
   },
   {
    "duration": 4,
    "start_time": "2022-05-30T19:39:26.186Z"
   },
   {
    "duration": 4,
    "start_time": "2022-05-30T19:39:35.355Z"
   },
   {
    "duration": 6,
    "start_time": "2022-05-30T19:39:35.669Z"
   },
   {
    "duration": 5,
    "start_time": "2022-05-30T19:39:35.988Z"
   },
   {
    "duration": 19,
    "start_time": "2022-05-30T19:40:05.723Z"
   },
   {
    "duration": 5,
    "start_time": "2022-05-30T19:41:37.128Z"
   },
   {
    "duration": 2,
    "start_time": "2022-05-30T19:43:37.931Z"
   },
   {
    "duration": 4,
    "start_time": "2022-05-30T19:43:38.265Z"
   },
   {
    "duration": 4,
    "start_time": "2022-05-30T19:43:38.694Z"
   },
   {
    "duration": 6,
    "start_time": "2022-05-30T19:43:39.999Z"
   },
   {
    "duration": 3,
    "start_time": "2022-05-30T19:47:55.501Z"
   },
   {
    "duration": 5,
    "start_time": "2022-05-30T19:48:11.350Z"
   },
   {
    "duration": 4,
    "start_time": "2022-05-30T19:48:14.500Z"
   },
   {
    "duration": 5,
    "start_time": "2022-05-30T19:48:16.817Z"
   },
   {
    "duration": 3,
    "start_time": "2022-05-30T21:28:34.484Z"
   },
   {
    "duration": 3,
    "start_time": "2022-05-30T21:30:42.802Z"
   },
   {
    "duration": 3,
    "start_time": "2022-05-30T21:32:25.986Z"
   },
   {
    "duration": 3,
    "start_time": "2022-05-30T21:32:34.273Z"
   },
   {
    "duration": 3,
    "start_time": "2022-05-30T21:34:47.572Z"
   },
   {
    "duration": 3,
    "start_time": "2022-05-30T21:34:51.334Z"
   },
   {
    "duration": 4,
    "start_time": "2022-05-30T21:35:08.575Z"
   },
   {
    "duration": 4,
    "start_time": "2022-05-30T21:35:31.496Z"
   },
   {
    "duration": 3,
    "start_time": "2022-05-30T21:35:46.444Z"
   },
   {
    "duration": 26,
    "start_time": "2022-05-30T21:36:22.209Z"
   },
   {
    "duration": 3,
    "start_time": "2022-05-30T21:36:31.069Z"
   },
   {
    "duration": 3,
    "start_time": "2022-05-30T21:36:46.537Z"
   },
   {
    "duration": 4,
    "start_time": "2022-05-30T21:37:14.575Z"
   },
   {
    "duration": 5,
    "start_time": "2022-05-30T21:37:39.332Z"
   },
   {
    "duration": 3,
    "start_time": "2022-05-30T21:37:53.595Z"
   },
   {
    "duration": 5,
    "start_time": "2022-05-30T21:37:54.847Z"
   },
   {
    "duration": 5,
    "start_time": "2022-05-30T21:37:56.235Z"
   },
   {
    "duration": 5,
    "start_time": "2022-05-30T21:37:57.599Z"
   },
   {
    "duration": 36,
    "start_time": "2022-05-30T21:40:12.084Z"
   },
   {
    "duration": 239,
    "start_time": "2022-05-30T21:46:55.194Z"
   },
   {
    "duration": 2,
    "start_time": "2022-05-30T21:58:26.724Z"
   },
   {
    "duration": 3,
    "start_time": "2022-05-30T21:58:44.397Z"
   },
   {
    "duration": 4,
    "start_time": "2022-05-30T21:58:54.166Z"
   },
   {
    "duration": 24,
    "start_time": "2022-05-30T21:59:26.204Z"
   },
   {
    "duration": 3,
    "start_time": "2022-05-30T21:59:44.042Z"
   },
   {
    "duration": 33,
    "start_time": "2022-05-30T21:59:45.725Z"
   },
   {
    "duration": 3,
    "start_time": "2022-05-30T22:00:03.805Z"
   },
   {
    "duration": 15,
    "start_time": "2022-05-30T22:00:04.945Z"
   },
   {
    "duration": 3,
    "start_time": "2022-05-30T22:00:34.346Z"
   },
   {
    "duration": 14,
    "start_time": "2022-05-30T22:00:35.086Z"
   },
   {
    "duration": 3,
    "start_time": "2022-05-30T22:00:44.486Z"
   },
   {
    "duration": 14,
    "start_time": "2022-05-30T22:00:46.433Z"
   },
   {
    "duration": 3,
    "start_time": "2022-05-30T22:01:12.832Z"
   },
   {
    "duration": 13,
    "start_time": "2022-05-30T22:01:13.092Z"
   },
   {
    "duration": 3,
    "start_time": "2022-05-30T22:01:34.606Z"
   },
   {
    "duration": 14,
    "start_time": "2022-05-30T22:01:34.829Z"
   },
   {
    "duration": 3,
    "start_time": "2022-05-30T22:01:58.870Z"
   },
   {
    "duration": 15,
    "start_time": "2022-05-30T22:01:59.021Z"
   },
   {
    "duration": 14,
    "start_time": "2022-05-30T22:02:35.432Z"
   },
   {
    "duration": 14,
    "start_time": "2022-05-30T22:02:43.391Z"
   },
   {
    "duration": 13,
    "start_time": "2022-05-30T22:02:54.699Z"
   },
   {
    "duration": 3,
    "start_time": "2022-05-30T22:03:24.503Z"
   },
   {
    "duration": 14,
    "start_time": "2022-05-30T22:03:24.661Z"
   },
   {
    "duration": 14,
    "start_time": "2022-05-30T22:03:24.861Z"
   },
   {
    "duration": 3,
    "start_time": "2022-05-30T22:03:29.840Z"
   },
   {
    "duration": 14,
    "start_time": "2022-05-30T22:03:29.982Z"
   },
   {
    "duration": 14,
    "start_time": "2022-05-30T22:03:30.117Z"
   },
   {
    "duration": 3,
    "start_time": "2022-05-30T22:03:52.168Z"
   },
   {
    "duration": 14,
    "start_time": "2022-05-30T22:03:52.311Z"
   },
   {
    "duration": 13,
    "start_time": "2022-05-30T22:03:52.482Z"
   },
   {
    "duration": 15,
    "start_time": "2022-05-30T22:03:53.060Z"
   },
   {
    "duration": 14,
    "start_time": "2022-05-30T22:04:08.410Z"
   },
   {
    "duration": 14,
    "start_time": "2022-05-30T22:04:08.559Z"
   },
   {
    "duration": 13,
    "start_time": "2022-05-30T22:04:08.713Z"
   },
   {
    "duration": 3,
    "start_time": "2022-05-30T22:05:20.492Z"
   },
   {
    "duration": 15,
    "start_time": "2022-05-30T22:05:20.820Z"
   },
   {
    "duration": 14,
    "start_time": "2022-05-30T22:05:21.036Z"
   },
   {
    "duration": 18,
    "start_time": "2022-05-30T22:05:21.469Z"
   },
   {
    "duration": 3,
    "start_time": "2022-05-30T22:05:29.933Z"
   },
   {
    "duration": 3,
    "start_time": "2022-05-30T22:05:54.320Z"
   },
   {
    "duration": 17,
    "start_time": "2022-05-30T22:05:54.496Z"
   },
   {
    "duration": 15,
    "start_time": "2022-05-30T22:05:57.788Z"
   },
   {
    "duration": 15,
    "start_time": "2022-05-30T22:05:58.156Z"
   },
   {
    "duration": 3,
    "start_time": "2022-05-30T22:06:12.793Z"
   },
   {
    "duration": 16,
    "start_time": "2022-05-30T22:06:12.940Z"
   },
   {
    "duration": 15,
    "start_time": "2022-05-30T22:06:13.100Z"
   },
   {
    "duration": 15,
    "start_time": "2022-05-30T22:06:13.287Z"
   },
   {
    "duration": 3,
    "start_time": "2022-05-30T22:06:37.789Z"
   },
   {
    "duration": 13,
    "start_time": "2022-05-30T22:06:37.949Z"
   },
   {
    "duration": 15,
    "start_time": "2022-05-30T22:06:38.092Z"
   },
   {
    "duration": 14,
    "start_time": "2022-05-30T22:06:38.284Z"
   },
   {
    "duration": 35,
    "start_time": "2022-05-30T22:08:52.418Z"
   },
   {
    "duration": 4,
    "start_time": "2022-05-30T22:35:37.158Z"
   },
   {
    "duration": 14,
    "start_time": "2022-05-30T22:35:37.502Z"
   },
   {
    "duration": 15,
    "start_time": "2022-05-30T22:35:38.125Z"
   },
   {
    "duration": 14,
    "start_time": "2022-05-30T22:35:38.463Z"
   },
   {
    "duration": 3,
    "start_time": "2022-05-30T22:45:56.903Z"
   },
   {
    "duration": 15,
    "start_time": "2022-05-30T22:45:58.851Z"
   },
   {
    "duration": 3,
    "start_time": "2022-05-30T22:49:04.383Z"
   },
   {
    "duration": 22,
    "start_time": "2022-05-30T22:49:04.713Z"
   },
   {
    "duration": 3,
    "start_time": "2022-05-30T22:49:16.892Z"
   },
   {
    "duration": 14,
    "start_time": "2022-05-30T22:49:17.092Z"
   },
   {
    "duration": 225,
    "start_time": "2022-05-30T22:57:59.703Z"
   },
   {
    "duration": 279,
    "start_time": "2022-05-30T22:58:34.558Z"
   },
   {
    "duration": 338,
    "start_time": "2022-05-30T23:00:32.994Z"
   },
   {
    "duration": 360,
    "start_time": "2022-05-30T23:00:39.571Z"
   },
   {
    "duration": 318,
    "start_time": "2022-05-30T23:01:11.614Z"
   },
   {
    "duration": 3,
    "start_time": "2022-05-30T23:01:12.330Z"
   },
   {
    "duration": 27,
    "start_time": "2022-05-30T23:02:16.103Z"
   },
   {
    "duration": 3,
    "start_time": "2022-05-30T23:04:11.037Z"
   },
   {
    "duration": 10,
    "start_time": "2022-05-30T23:04:12.838Z"
   },
   {
    "duration": 3,
    "start_time": "2022-05-30T23:04:41.599Z"
   },
   {
    "duration": 11,
    "start_time": "2022-05-30T23:04:45.178Z"
   },
   {
    "duration": 28,
    "start_time": "2022-05-30T23:05:38.416Z"
   },
   {
    "duration": 23,
    "start_time": "2022-05-30T23:06:06.130Z"
   },
   {
    "duration": 6,
    "start_time": "2022-05-30T23:06:12.323Z"
   },
   {
    "duration": 7,
    "start_time": "2022-05-30T23:06:19.964Z"
   },
   {
    "duration": 9,
    "start_time": "2022-05-30T23:08:36.468Z"
   },
   {
    "duration": 18,
    "start_time": "2022-05-30T23:09:45.730Z"
   },
   {
    "duration": 17,
    "start_time": "2022-05-30T23:10:39.714Z"
   },
   {
    "duration": 9,
    "start_time": "2022-05-30T23:11:03.522Z"
   },
   {
    "duration": 4,
    "start_time": "2022-05-30T23:11:04.076Z"
   },
   {
    "duration": 11,
    "start_time": "2022-05-30T23:12:28.646Z"
   },
   {
    "duration": 9,
    "start_time": "2022-05-30T23:13:10.352Z"
   },
   {
    "duration": 7,
    "start_time": "2022-05-30T23:13:19.455Z"
   },
   {
    "duration": 7,
    "start_time": "2022-05-30T23:14:39.083Z"
   },
   {
    "duration": 7,
    "start_time": "2022-05-30T23:15:23.639Z"
   },
   {
    "duration": 4,
    "start_time": "2022-05-30T23:16:01.659Z"
   },
   {
    "duration": 8,
    "start_time": "2022-05-30T23:16:02.270Z"
   },
   {
    "duration": 8,
    "start_time": "2022-05-30T23:16:04.245Z"
   },
   {
    "duration": 8,
    "start_time": "2022-05-30T23:16:04.639Z"
   },
   {
    "duration": 4,
    "start_time": "2022-05-30T23:16:31.378Z"
   },
   {
    "duration": 6,
    "start_time": "2022-05-30T23:16:31.813Z"
   },
   {
    "duration": 7,
    "start_time": "2022-05-30T23:16:32.095Z"
   },
   {
    "duration": 7,
    "start_time": "2022-05-30T23:16:32.366Z"
   },
   {
    "duration": 4,
    "start_time": "2022-05-30T23:17:46.503Z"
   },
   {
    "duration": 6,
    "start_time": "2022-05-30T23:17:46.653Z"
   },
   {
    "duration": 7,
    "start_time": "2022-05-30T23:17:46.854Z"
   },
   {
    "duration": 7,
    "start_time": "2022-05-30T23:17:47.205Z"
   },
   {
    "duration": 3,
    "start_time": "2022-05-30T23:24:57.454Z"
   },
   {
    "duration": 7,
    "start_time": "2022-05-30T23:24:57.878Z"
   },
   {
    "duration": 7,
    "start_time": "2022-05-30T23:24:58.465Z"
   },
   {
    "duration": 7,
    "start_time": "2022-05-30T23:24:58.753Z"
   },
   {
    "duration": 3,
    "start_time": "2022-05-30T23:25:11.938Z"
   },
   {
    "duration": 7,
    "start_time": "2022-05-30T23:25:12.234Z"
   },
   {
    "duration": 7,
    "start_time": "2022-05-30T23:25:12.390Z"
   },
   {
    "duration": 6,
    "start_time": "2022-05-30T23:25:12.560Z"
   },
   {
    "duration": 4,
    "start_time": "2022-05-30T23:38:14.123Z"
   },
   {
    "duration": 11,
    "start_time": "2022-05-30T23:38:14.407Z"
   },
   {
    "duration": 4,
    "start_time": "2022-05-30T23:38:25.427Z"
   },
   {
    "duration": 11,
    "start_time": "2022-05-30T23:38:25.601Z"
   },
   {
    "duration": 4,
    "start_time": "2022-05-30T23:40:14.417Z"
   },
   {
    "duration": 14,
    "start_time": "2022-05-30T23:40:14.593Z"
   },
   {
    "duration": 20,
    "start_time": "2022-05-30T23:41:30.419Z"
   },
   {
    "duration": 3,
    "start_time": "2022-05-30T23:41:47.538Z"
   },
   {
    "duration": 3,
    "start_time": "2022-05-30T23:41:52.870Z"
   },
   {
    "duration": 4,
    "start_time": "2022-05-30T23:44:37.975Z"
   },
   {
    "duration": 12,
    "start_time": "2022-05-30T23:44:40.017Z"
   },
   {
    "duration": 4,
    "start_time": "2022-05-30T23:44:55.150Z"
   },
   {
    "duration": 11,
    "start_time": "2022-05-30T23:44:55.505Z"
   },
   {
    "duration": 6,
    "start_time": "2022-05-30T23:45:09.766Z"
   },
   {
    "duration": 11,
    "start_time": "2022-05-30T23:45:10.105Z"
   },
   {
    "duration": 5,
    "start_time": "2022-05-30T23:48:10.777Z"
   },
   {
    "duration": 5,
    "start_time": "2022-05-30T23:48:14.545Z"
   },
   {
    "duration": 4,
    "start_time": "2022-05-30T23:48:29.659Z"
   },
   {
    "duration": 4,
    "start_time": "2022-05-30T23:48:48.277Z"
   },
   {
    "duration": 8,
    "start_time": "2022-05-30T23:48:56.578Z"
   },
   {
    "duration": 3,
    "start_time": "2022-05-30T23:49:04.798Z"
   },
   {
    "duration": 4,
    "start_time": "2022-05-30T23:51:13.468Z"
   },
   {
    "duration": 14,
    "start_time": "2022-05-30T23:51:13.815Z"
   },
   {
    "duration": 15,
    "start_time": "2022-05-30T23:51:23.107Z"
   },
   {
    "duration": 4,
    "start_time": "2022-05-30T23:51:34.990Z"
   },
   {
    "duration": 2360,
    "start_time": "2022-05-30T23:51:35.134Z"
   },
   {
    "duration": 4,
    "start_time": "2022-05-30T23:52:25.010Z"
   },
   {
    "duration": 5,
    "start_time": "2022-05-30T23:52:25.824Z"
   },
   {
    "duration": 4,
    "start_time": "2022-05-30T23:53:07.302Z"
   },
   {
    "duration": 8,
    "start_time": "2022-05-30T23:53:07.475Z"
   },
   {
    "duration": 4,
    "start_time": "2022-05-30T23:53:44.184Z"
   },
   {
    "duration": 7,
    "start_time": "2022-05-30T23:53:44.334Z"
   },
   {
    "duration": 4,
    "start_time": "2022-05-30T23:53:59.953Z"
   },
   {
    "duration": 6,
    "start_time": "2022-05-30T23:54:00.115Z"
   },
   {
    "duration": 4,
    "start_time": "2022-05-30T23:58:07.547Z"
   },
   {
    "duration": 8,
    "start_time": "2022-05-30T23:58:07.797Z"
   },
   {
    "duration": 4,
    "start_time": "2022-05-30T23:58:34.438Z"
   },
   {
    "duration": 8,
    "start_time": "2022-05-30T23:58:34.591Z"
   },
   {
    "duration": 4,
    "start_time": "2022-05-30T23:59:15.789Z"
   },
   {
    "duration": 7,
    "start_time": "2022-05-30T23:59:16.298Z"
   },
   {
    "duration": 4,
    "start_time": "2022-05-31T00:02:25.427Z"
   },
   {
    "duration": 15,
    "start_time": "2022-05-31T00:02:25.644Z"
   },
   {
    "duration": 5,
    "start_time": "2022-05-31T00:03:13.417Z"
   },
   {
    "duration": 8,
    "start_time": "2022-05-31T00:03:14.049Z"
   },
   {
    "duration": 5,
    "start_time": "2022-05-31T00:04:16.262Z"
   },
   {
    "duration": 7,
    "start_time": "2022-05-31T00:04:16.448Z"
   },
   {
    "duration": 5,
    "start_time": "2022-05-31T00:18:43.019Z"
   },
   {
    "duration": 12,
    "start_time": "2022-05-31T00:18:43.188Z"
   },
   {
    "duration": 4,
    "start_time": "2022-05-31T00:19:30.640Z"
   },
   {
    "duration": 858,
    "start_time": "2022-05-31T00:19:30.887Z"
   },
   {
    "duration": 4,
    "start_time": "2022-05-31T00:19:38.918Z"
   },
   {
    "duration": 834,
    "start_time": "2022-05-31T00:19:39.193Z"
   },
   {
    "duration": 5,
    "start_time": "2022-05-31T00:20:02.481Z"
   },
   {
    "duration": 868,
    "start_time": "2022-05-31T00:20:02.666Z"
   },
   {
    "duration": 869,
    "start_time": "2022-05-31T00:21:18.633Z"
   },
   {
    "duration": 957,
    "start_time": "2022-05-31T00:21:29.726Z"
   },
   {
    "duration": 5,
    "start_time": "2022-05-31T00:22:13.120Z"
   },
   {
    "duration": 1125,
    "start_time": "2022-05-31T00:22:13.278Z"
   },
   {
    "duration": 0,
    "start_time": "2022-05-31T00:22:14.405Z"
   },
   {
    "duration": 5,
    "start_time": "2022-05-31T00:23:25.170Z"
   },
   {
    "duration": 1622,
    "start_time": "2022-05-31T00:23:25.409Z"
   },
   {
    "duration": 5,
    "start_time": "2022-05-31T00:24:36.900Z"
   },
   {
    "duration": 1140,
    "start_time": "2022-05-31T00:24:37.124Z"
   },
   {
    "duration": 5,
    "start_time": "2022-05-31T00:27:18.082Z"
   },
   {
    "duration": 775,
    "start_time": "2022-05-31T00:27:18.281Z"
   },
   {
    "duration": 733,
    "start_time": "2022-05-31T00:27:40.289Z"
   },
   {
    "duration": 4,
    "start_time": "2022-05-31T00:28:13.815Z"
   },
   {
    "duration": 1106,
    "start_time": "2022-05-31T00:28:14.007Z"
   },
   {
    "duration": 0,
    "start_time": "2022-05-31T00:28:15.114Z"
   },
   {
    "duration": 1238,
    "start_time": "2022-05-31T00:30:16.156Z"
   },
   {
    "duration": 7,
    "start_time": "2022-05-31T00:30:36.211Z"
   },
   {
    "duration": 769,
    "start_time": "2022-05-31T00:30:36.352Z"
   },
   {
    "duration": 4,
    "start_time": "2022-05-31T00:34:41.636Z"
   },
   {
    "duration": 850,
    "start_time": "2022-05-31T00:34:41.769Z"
   },
   {
    "duration": 844,
    "start_time": "2022-05-31T00:34:42.621Z"
   },
   {
    "duration": 5,
    "start_time": "2022-05-31T00:36:15.820Z"
   },
   {
    "duration": 786,
    "start_time": "2022-05-31T00:36:15.958Z"
   },
   {
    "duration": 0,
    "start_time": "2022-05-31T00:36:16.746Z"
   },
   {
    "duration": 779,
    "start_time": "2022-05-31T00:36:16.795Z"
   },
   {
    "duration": 5,
    "start_time": "2022-05-31T00:36:42.469Z"
   },
   {
    "duration": 823,
    "start_time": "2022-05-31T00:36:42.612Z"
   },
   {
    "duration": 914,
    "start_time": "2022-05-31T00:36:43.436Z"
   },
   {
    "duration": 906,
    "start_time": "2022-05-31T00:36:46.140Z"
   },
   {
    "duration": 4,
    "start_time": "2022-05-31T00:38:09.987Z"
   },
   {
    "duration": 851,
    "start_time": "2022-05-31T00:38:10.169Z"
   },
   {
    "duration": 870,
    "start_time": "2022-05-31T00:38:11.022Z"
   },
   {
    "duration": 961,
    "start_time": "2022-05-31T20:38:30.912Z"
   },
   {
    "duration": 4,
    "start_time": "2022-05-31T20:38:31.881Z"
   },
   {
    "duration": 264,
    "start_time": "2022-05-31T20:38:31.887Z"
   },
   {
    "duration": 172,
    "start_time": "2022-05-31T20:38:32.153Z"
   },
   {
    "duration": 174,
    "start_time": "2022-05-31T20:38:32.327Z"
   },
   {
    "duration": 3,
    "start_time": "2022-05-31T20:38:32.503Z"
   },
   {
    "duration": 370,
    "start_time": "2022-05-31T20:38:32.508Z"
   },
   {
    "duration": 5,
    "start_time": "2022-05-31T20:38:32.882Z"
   },
   {
    "duration": 189,
    "start_time": "2022-05-31T20:38:32.892Z"
   },
   {
    "duration": 7,
    "start_time": "2022-05-31T20:38:33.084Z"
   },
   {
    "duration": 5,
    "start_time": "2022-05-31T20:38:33.092Z"
   },
   {
    "duration": 5,
    "start_time": "2022-05-31T20:38:33.098Z"
   },
   {
    "duration": 8,
    "start_time": "2022-05-31T20:38:33.105Z"
   },
   {
    "duration": 12,
    "start_time": "2022-05-31T20:38:33.115Z"
   },
   {
    "duration": 7,
    "start_time": "2022-05-31T20:38:33.129Z"
   },
   {
    "duration": 31,
    "start_time": "2022-05-31T20:38:33.138Z"
   },
   {
    "duration": 9,
    "start_time": "2022-05-31T20:38:33.171Z"
   },
   {
    "duration": 131,
    "start_time": "2022-05-31T20:38:33.182Z"
   },
   {
    "duration": 0,
    "start_time": "2022-05-31T20:38:33.315Z"
   },
   {
    "duration": 0,
    "start_time": "2022-05-31T20:38:33.316Z"
   },
   {
    "duration": 913,
    "start_time": "2022-05-31T20:51:44.786Z"
   },
   {
    "duration": 3,
    "start_time": "2022-05-31T20:51:45.701Z"
   },
   {
    "duration": 256,
    "start_time": "2022-05-31T20:51:45.706Z"
   },
   {
    "duration": 158,
    "start_time": "2022-05-31T20:51:45.967Z"
   },
   {
    "duration": 165,
    "start_time": "2022-05-31T20:51:46.127Z"
   },
   {
    "duration": 4,
    "start_time": "2022-05-31T20:51:46.295Z"
   },
   {
    "duration": 278,
    "start_time": "2022-05-31T20:51:46.301Z"
   },
   {
    "duration": 4,
    "start_time": "2022-05-31T20:51:46.581Z"
   },
   {
    "duration": 90,
    "start_time": "2022-05-31T20:51:46.587Z"
   },
   {
    "duration": 108,
    "start_time": "2022-05-31T20:51:46.680Z"
   },
   {
    "duration": 8,
    "start_time": "2022-05-31T20:51:46.789Z"
   },
   {
    "duration": 4,
    "start_time": "2022-05-31T20:51:46.799Z"
   },
   {
    "duration": 8,
    "start_time": "2022-05-31T20:51:46.805Z"
   },
   {
    "duration": 132,
    "start_time": "2022-05-31T20:51:46.815Z"
   },
   {
    "duration": 0,
    "start_time": "2022-05-31T20:51:46.949Z"
   },
   {
    "duration": 0,
    "start_time": "2022-05-31T20:51:46.951Z"
   },
   {
    "duration": 0,
    "start_time": "2022-05-31T20:51:46.952Z"
   },
   {
    "duration": 0,
    "start_time": "2022-05-31T20:51:46.953Z"
   },
   {
    "duration": 0,
    "start_time": "2022-05-31T20:51:46.966Z"
   },
   {
    "duration": 0,
    "start_time": "2022-05-31T20:51:46.967Z"
   },
   {
    "duration": 3,
    "start_time": "2022-05-31T20:52:52.738Z"
   },
   {
    "duration": 18,
    "start_time": "2022-05-31T20:52:55.931Z"
   },
   {
    "duration": 4,
    "start_time": "2022-05-31T20:53:08.088Z"
   },
   {
    "duration": 17,
    "start_time": "2022-05-31T20:53:09.642Z"
   },
   {
    "duration": 3,
    "start_time": "2022-05-31T20:53:16.215Z"
   },
   {
    "duration": 8,
    "start_time": "2022-05-31T20:53:16.479Z"
   },
   {
    "duration": 6,
    "start_time": "2022-05-31T20:54:29.220Z"
   },
   {
    "duration": 8,
    "start_time": "2022-05-31T20:54:29.374Z"
   },
   {
    "duration": 8,
    "start_time": "2022-05-31T20:54:31.954Z"
   },
   {
    "duration": 10,
    "start_time": "2022-05-31T20:54:36.363Z"
   },
   {
    "duration": 8,
    "start_time": "2022-05-31T20:54:44.971Z"
   },
   {
    "duration": 3,
    "start_time": "2022-05-31T20:54:56.653Z"
   },
   {
    "duration": 4,
    "start_time": "2022-05-31T20:54:59.881Z"
   },
   {
    "duration": 29,
    "start_time": "2022-05-31T20:55:04.346Z"
   },
   {
    "duration": 25,
    "start_time": "2022-05-31T20:55:17.250Z"
   },
   {
    "duration": 28,
    "start_time": "2022-05-31T20:55:27.658Z"
   },
   {
    "duration": 7,
    "start_time": "2022-05-31T20:59:47.962Z"
   },
   {
    "duration": 21,
    "start_time": "2022-05-31T20:59:48.200Z"
   },
   {
    "duration": 4,
    "start_time": "2022-05-31T20:59:56.254Z"
   },
   {
    "duration": 23,
    "start_time": "2022-05-31T20:59:56.675Z"
   },
   {
    "duration": 3,
    "start_time": "2022-05-31T21:00:57.643Z"
   },
   {
    "duration": 8,
    "start_time": "2022-05-31T21:00:57.854Z"
   },
   {
    "duration": 3,
    "start_time": "2022-05-31T21:01:17.009Z"
   },
   {
    "duration": 8,
    "start_time": "2022-05-31T21:01:17.250Z"
   },
   {
    "duration": 3,
    "start_time": "2022-05-31T21:01:44.681Z"
   },
   {
    "duration": 22,
    "start_time": "2022-05-31T21:01:44.879Z"
   },
   {
    "duration": 3,
    "start_time": "2022-05-31T21:02:22.486Z"
   },
   {
    "duration": 28,
    "start_time": "2022-05-31T21:02:22.672Z"
   },
   {
    "duration": 4,
    "start_time": "2022-05-31T21:02:32.449Z"
   },
   {
    "duration": 4,
    "start_time": "2022-05-31T21:02:35.894Z"
   },
   {
    "duration": 28,
    "start_time": "2022-05-31T21:02:36.155Z"
   },
   {
    "duration": 4,
    "start_time": "2022-05-31T21:04:46.806Z"
   },
   {
    "duration": 32,
    "start_time": "2022-05-31T21:04:47.054Z"
   },
   {
    "duration": 3,
    "start_time": "2022-05-31T21:08:17.340Z"
   },
   {
    "duration": 35,
    "start_time": "2022-05-31T21:08:17.510Z"
   },
   {
    "duration": 37,
    "start_time": "2022-05-31T21:11:02.339Z"
   },
   {
    "duration": 28,
    "start_time": "2022-05-31T21:11:02.587Z"
   },
   {
    "duration": 45,
    "start_time": "2022-05-31T21:11:18.283Z"
   },
   {
    "duration": 38,
    "start_time": "2022-05-31T21:11:18.747Z"
   },
   {
    "duration": 49,
    "start_time": "2022-05-31T21:11:29.065Z"
   },
   {
    "duration": 33,
    "start_time": "2022-05-31T21:11:29.200Z"
   },
   {
    "duration": 3,
    "start_time": "2022-05-31T21:11:40.058Z"
   },
   {
    "duration": 14,
    "start_time": "2022-05-31T21:11:40.063Z"
   },
   {
    "duration": 3,
    "start_time": "2022-05-31T21:12:41.616Z"
   },
   {
    "duration": 3,
    "start_time": "2022-05-31T21:12:43.122Z"
   },
   {
    "duration": 8,
    "start_time": "2022-05-31T21:12:43.304Z"
   },
   {
    "duration": 3,
    "start_time": "2022-05-31T21:13:15.206Z"
   },
   {
    "duration": 5,
    "start_time": "2022-05-31T21:13:17.465Z"
   },
   {
    "duration": 10,
    "start_time": "2022-05-31T21:13:17.609Z"
   },
   {
    "duration": 3,
    "start_time": "2022-05-31T21:14:25.614Z"
   },
   {
    "duration": 12,
    "start_time": "2022-05-31T21:14:25.790Z"
   },
   {
    "duration": 4,
    "start_time": "2022-05-31T21:16:40.121Z"
   },
   {
    "duration": 7,
    "start_time": "2022-05-31T21:16:40.429Z"
   },
   {
    "duration": 9,
    "start_time": "2022-05-31T21:16:45.176Z"
   },
   {
    "duration": 8,
    "start_time": "2022-05-31T21:16:48.061Z"
   },
   {
    "duration": 4,
    "start_time": "2022-05-31T21:17:21.280Z"
   },
   {
    "duration": 385,
    "start_time": "2022-05-31T21:17:21.574Z"
   },
   {
    "duration": 3,
    "start_time": "2022-05-31T21:18:21.390Z"
   },
   {
    "duration": 7,
    "start_time": "2022-05-31T21:18:21.596Z"
   },
   {
    "duration": 7,
    "start_time": "2022-05-31T21:18:24.859Z"
   },
   {
    "duration": 8,
    "start_time": "2022-05-31T21:18:25.055Z"
   },
   {
    "duration": 5,
    "start_time": "2022-05-31T21:18:28.707Z"
   },
   {
    "duration": 21,
    "start_time": "2022-05-31T21:18:33.939Z"
   },
   {
    "duration": 10,
    "start_time": "2022-05-31T21:19:06.371Z"
   },
   {
    "duration": 22,
    "start_time": "2022-05-31T21:19:06.522Z"
   },
   {
    "duration": 25,
    "start_time": "2022-05-31T21:19:10.321Z"
   },
   {
    "duration": 7,
    "start_time": "2022-05-31T21:20:28.061Z"
   },
   {
    "duration": 233,
    "start_time": "2022-05-31T21:20:28.705Z"
   },
   {
    "duration": 4,
    "start_time": "2022-05-31T21:20:44.196Z"
   },
   {
    "duration": 1474,
    "start_time": "2022-05-31T21:20:44.453Z"
   },
   {
    "duration": 5,
    "start_time": "2022-05-31T21:21:00.922Z"
   },
   {
    "duration": 655,
    "start_time": "2022-05-31T21:21:01.352Z"
   },
   {
    "duration": 4,
    "start_time": "2022-05-31T21:21:08.328Z"
   },
   {
    "duration": 1381,
    "start_time": "2022-05-31T21:21:08.527Z"
   },
   {
    "duration": 4,
    "start_time": "2022-05-31T21:21:26.654Z"
   },
   {
    "duration": 1297,
    "start_time": "2022-05-31T21:21:26.803Z"
   },
   {
    "duration": 4,
    "start_time": "2022-05-31T21:21:54.894Z"
   },
   {
    "duration": 330,
    "start_time": "2022-05-31T21:21:55.044Z"
   },
   {
    "duration": 4,
    "start_time": "2022-05-31T21:22:05.300Z"
   },
   {
    "duration": 347,
    "start_time": "2022-05-31T21:22:05.454Z"
   },
   {
    "duration": 5,
    "start_time": "2022-05-31T21:22:25.180Z"
   },
   {
    "duration": 1305,
    "start_time": "2022-05-31T21:22:25.321Z"
   },
   {
    "duration": 5,
    "start_time": "2022-05-31T21:22:37.190Z"
   },
   {
    "duration": 590,
    "start_time": "2022-05-31T21:22:37.314Z"
   },
   {
    "duration": 4,
    "start_time": "2022-05-31T21:22:53.796Z"
   },
   {
    "duration": 28,
    "start_time": "2022-05-31T21:22:53.961Z"
   },
   {
    "duration": 4,
    "start_time": "2022-05-31T21:23:28.812Z"
   },
   {
    "duration": 1372,
    "start_time": "2022-05-31T21:23:28.964Z"
   },
   {
    "duration": 4,
    "start_time": "2022-05-31T21:24:02.953Z"
   },
   {
    "duration": 644,
    "start_time": "2022-05-31T21:24:03.094Z"
   },
   {
    "duration": 4,
    "start_time": "2022-05-31T21:24:20.751Z"
   },
   {
    "duration": 19,
    "start_time": "2022-05-31T21:24:20.881Z"
   },
   {
    "duration": 4,
    "start_time": "2022-05-31T21:24:34.082Z"
   },
   {
    "duration": 29,
    "start_time": "2022-05-31T21:24:34.253Z"
   },
   {
    "duration": 6,
    "start_time": "2022-05-31T21:24:43.318Z"
   },
   {
    "duration": 30,
    "start_time": "2022-05-31T21:24:43.465Z"
   },
   {
    "duration": 6,
    "start_time": "2022-05-31T21:24:51.753Z"
   },
   {
    "duration": 16,
    "start_time": "2022-05-31T21:24:51.914Z"
   },
   {
    "duration": 4,
    "start_time": "2022-05-31T21:25:15.558Z"
   },
   {
    "duration": 18,
    "start_time": "2022-05-31T21:25:15.695Z"
   },
   {
    "duration": 5,
    "start_time": "2022-05-31T21:25:43.670Z"
   },
   {
    "duration": 1273,
    "start_time": "2022-05-31T21:25:43.814Z"
   },
   {
    "duration": 5,
    "start_time": "2022-05-31T21:27:32.313Z"
   },
   {
    "duration": 309,
    "start_time": "2022-05-31T21:27:32.459Z"
   },
   {
    "duration": 4,
    "start_time": "2022-05-31T21:27:37.857Z"
   },
   {
    "duration": 1416,
    "start_time": "2022-05-31T21:27:37.985Z"
   },
   {
    "duration": 5,
    "start_time": "2022-05-31T21:27:56.253Z"
   },
   {
    "duration": 20,
    "start_time": "2022-05-31T21:27:56.391Z"
   },
   {
    "duration": 5,
    "start_time": "2022-05-31T21:29:53.101Z"
   },
   {
    "duration": 1428,
    "start_time": "2022-05-31T21:29:53.258Z"
   },
   {
    "duration": 5,
    "start_time": "2022-05-31T21:30:59.156Z"
   },
   {
    "duration": 25,
    "start_time": "2022-05-31T21:30:59.374Z"
   },
   {
    "duration": 31,
    "start_time": "2022-05-31T21:31:02.113Z"
   },
   {
    "duration": 2,
    "start_time": "2022-05-31T21:32:33.946Z"
   },
   {
    "duration": 5,
    "start_time": "2022-05-31T21:32:37.948Z"
   },
   {
    "duration": 16,
    "start_time": "2022-05-31T21:32:38.183Z"
   },
   {
    "duration": 6,
    "start_time": "2022-05-31T21:33:34.108Z"
   },
   {
    "duration": 15,
    "start_time": "2022-05-31T21:33:41.478Z"
   },
   {
    "duration": 3,
    "start_time": "2022-05-31T21:34:05.486Z"
   },
   {
    "duration": 5,
    "start_time": "2022-05-31T21:34:08.503Z"
   },
   {
    "duration": 15,
    "start_time": "2022-05-31T21:34:09.130Z"
   },
   {
    "duration": 15,
    "start_time": "2022-05-31T21:34:15.507Z"
   },
   {
    "duration": 3,
    "start_time": "2022-05-31T21:34:54.052Z"
   },
   {
    "duration": 5,
    "start_time": "2022-05-31T21:34:57.329Z"
   },
   {
    "duration": 21,
    "start_time": "2022-05-31T21:34:57.479Z"
   },
   {
    "duration": 3,
    "start_time": "2022-05-31T21:36:17.079Z"
   },
   {
    "duration": 7,
    "start_time": "2022-05-31T21:36:23.627Z"
   },
   {
    "duration": 22,
    "start_time": "2022-05-31T21:36:23.776Z"
   },
   {
    "duration": 4,
    "start_time": "2022-05-31T21:36:44.893Z"
   },
   {
    "duration": 10,
    "start_time": "2022-05-31T21:36:47.770Z"
   },
   {
    "duration": 20,
    "start_time": "2022-05-31T21:36:47.917Z"
   },
   {
    "duration": 4,
    "start_time": "2022-05-31T21:37:04.030Z"
   },
   {
    "duration": 5,
    "start_time": "2022-05-31T21:37:06.219Z"
   },
   {
    "duration": 18,
    "start_time": "2022-05-31T21:37:06.380Z"
   },
   {
    "duration": 6,
    "start_time": "2022-05-31T21:37:43.195Z"
   },
   {
    "duration": 4,
    "start_time": "2022-05-31T21:37:51.127Z"
   },
   {
    "duration": 6,
    "start_time": "2022-05-31T21:37:53.904Z"
   },
   {
    "duration": 4,
    "start_time": "2022-05-31T21:38:02.888Z"
   },
   {
    "duration": 5,
    "start_time": "2022-05-31T21:38:05.187Z"
   },
   {
    "duration": 18,
    "start_time": "2022-05-31T21:38:05.345Z"
   },
   {
    "duration": 3,
    "start_time": "2022-05-31T21:38:40.402Z"
   },
   {
    "duration": 6,
    "start_time": "2022-05-31T21:38:42.781Z"
   },
   {
    "duration": 25,
    "start_time": "2022-05-31T21:38:42.953Z"
   },
   {
    "duration": 3,
    "start_time": "2022-05-31T21:40:03.304Z"
   },
   {
    "duration": 8,
    "start_time": "2022-05-31T21:40:05.571Z"
   },
   {
    "duration": 21,
    "start_time": "2022-05-31T21:40:05.714Z"
   },
   {
    "duration": 3,
    "start_time": "2022-05-31T21:41:10.059Z"
   },
   {
    "duration": 14,
    "start_time": "2022-05-31T21:41:10.288Z"
   },
   {
    "duration": 5,
    "start_time": "2022-05-31T21:42:09.566Z"
   },
   {
    "duration": 11,
    "start_time": "2022-05-31T21:42:09.783Z"
   },
   {
    "duration": 4,
    "start_time": "2022-05-31T21:42:22.484Z"
   },
   {
    "duration": 7,
    "start_time": "2022-05-31T21:42:22.690Z"
   },
   {
    "duration": 6,
    "start_time": "2022-05-31T21:42:29.483Z"
   },
   {
    "duration": 4,
    "start_time": "2022-05-31T21:42:52.315Z"
   },
   {
    "duration": 147,
    "start_time": "2022-05-31T21:42:54.781Z"
   },
   {
    "duration": 5,
    "start_time": "2022-05-31T21:43:06.547Z"
   },
   {
    "duration": 2591,
    "start_time": "2022-05-31T21:43:06.794Z"
   },
   {
    "duration": 5,
    "start_time": "2022-05-31T21:43:27.714Z"
   },
   {
    "duration": 1635,
    "start_time": "2022-05-31T21:43:27.870Z"
   },
   {
    "duration": 4,
    "start_time": "2022-05-31T21:44:16.525Z"
   },
   {
    "duration": 7,
    "start_time": "2022-05-31T21:44:17.496Z"
   },
   {
    "duration": 7,
    "start_time": "2022-05-31T21:44:19.719Z"
   },
   {
    "duration": 7,
    "start_time": "2022-05-31T21:44:19.958Z"
   },
   {
    "duration": 43,
    "start_time": "2022-05-31T21:44:23.556Z"
   },
   {
    "duration": 26,
    "start_time": "2022-05-31T21:44:40.232Z"
   },
   {
    "duration": 1430,
    "start_time": "2022-05-31T21:44:40.880Z"
   },
   {
    "duration": 4,
    "start_time": "2022-05-31T21:44:48.725Z"
   },
   {
    "duration": 27,
    "start_time": "2022-05-31T21:44:51.879Z"
   },
   {
    "duration": 6,
    "start_time": "2022-05-31T21:44:58.427Z"
   },
   {
    "duration": 24,
    "start_time": "2022-05-31T21:45:00.122Z"
   },
   {
    "duration": 2,
    "start_time": "2022-05-31T21:46:27.212Z"
   },
   {
    "duration": 7,
    "start_time": "2022-05-31T21:46:29.906Z"
   },
   {
    "duration": 17,
    "start_time": "2022-05-31T21:46:33.197Z"
   },
   {
    "duration": 3,
    "start_time": "2022-05-31T21:46:47.086Z"
   },
   {
    "duration": 7,
    "start_time": "2022-05-31T21:46:49.346Z"
   },
   {
    "duration": 17,
    "start_time": "2022-05-31T21:46:49.959Z"
   },
   {
    "duration": 3,
    "start_time": "2022-05-31T21:47:18.402Z"
   },
   {
    "duration": 7,
    "start_time": "2022-05-31T21:47:21.298Z"
   },
   {
    "duration": 22,
    "start_time": "2022-05-31T21:47:21.891Z"
   },
   {
    "duration": 30,
    "start_time": "2022-05-31T21:47:27.549Z"
   },
   {
    "duration": 4,
    "start_time": "2022-05-31T21:50:14.400Z"
   },
   {
    "duration": 16,
    "start_time": "2022-05-31T21:50:14.663Z"
   },
   {
    "duration": 892,
    "start_time": "2022-05-31T21:50:19.618Z"
   },
   {
    "duration": 3,
    "start_time": "2022-05-31T21:50:20.512Z"
   },
   {
    "duration": 266,
    "start_time": "2022-05-31T21:50:20.516Z"
   },
   {
    "duration": 157,
    "start_time": "2022-05-31T21:50:20.784Z"
   },
   {
    "duration": 166,
    "start_time": "2022-05-31T21:50:20.943Z"
   },
   {
    "duration": 2,
    "start_time": "2022-05-31T21:50:21.111Z"
   },
   {
    "duration": 272,
    "start_time": "2022-05-31T21:50:21.115Z"
   },
   {
    "duration": 79,
    "start_time": "2022-05-31T21:50:21.391Z"
   },
   {
    "duration": 110,
    "start_time": "2022-05-31T21:50:21.472Z"
   },
   {
    "duration": 5,
    "start_time": "2022-05-31T21:50:21.584Z"
   },
   {
    "duration": 6,
    "start_time": "2022-05-31T21:50:21.591Z"
   },
   {
    "duration": 5,
    "start_time": "2022-05-31T21:50:21.599Z"
   },
   {
    "duration": 4,
    "start_time": "2022-05-31T21:50:21.607Z"
   },
   {
    "duration": 11,
    "start_time": "2022-05-31T21:50:21.613Z"
   },
   {
    "duration": 8,
    "start_time": "2022-05-31T21:50:21.626Z"
   },
   {
    "duration": 37,
    "start_time": "2022-05-31T21:50:21.635Z"
   },
   {
    "duration": 7,
    "start_time": "2022-05-31T21:50:21.674Z"
   },
   {
    "duration": 153,
    "start_time": "2022-05-31T21:50:21.683Z"
   },
   {
    "duration": 0,
    "start_time": "2022-05-31T21:50:21.838Z"
   },
   {
    "duration": 0,
    "start_time": "2022-05-31T21:50:21.840Z"
   },
   {
    "duration": 23,
    "start_time": "2022-05-31T21:52:32.597Z"
   },
   {
    "duration": 80,
    "start_time": "2022-06-01T19:39:01.874Z"
   },
   {
    "duration": 860,
    "start_time": "2022-06-01T19:43:45.768Z"
   },
   {
    "duration": 3,
    "start_time": "2022-06-01T19:43:46.630Z"
   },
   {
    "duration": 620,
    "start_time": "2022-06-01T19:43:46.635Z"
   },
   {
    "duration": 216,
    "start_time": "2022-06-01T19:43:47.256Z"
   },
   {
    "duration": 208,
    "start_time": "2022-06-01T19:43:47.474Z"
   },
   {
    "duration": 3,
    "start_time": "2022-06-01T19:43:47.684Z"
   },
   {
    "duration": 352,
    "start_time": "2022-06-01T19:43:47.688Z"
   },
   {
    "duration": 5,
    "start_time": "2022-06-01T19:43:48.042Z"
   },
   {
    "duration": 100,
    "start_time": "2022-06-01T19:43:48.128Z"
   },
   {
    "duration": 18,
    "start_time": "2022-06-01T19:43:48.229Z"
   },
   {
    "duration": 8,
    "start_time": "2022-06-01T19:43:48.249Z"
   },
   {
    "duration": 4,
    "start_time": "2022-06-01T19:43:48.259Z"
   },
   {
    "duration": 6,
    "start_time": "2022-06-01T19:43:48.264Z"
   },
   {
    "duration": 9,
    "start_time": "2022-06-01T19:43:48.272Z"
   },
   {
    "duration": 7,
    "start_time": "2022-06-01T19:43:48.283Z"
   },
   {
    "duration": 7,
    "start_time": "2022-06-01T19:43:48.292Z"
   },
   {
    "duration": 5,
    "start_time": "2022-06-01T19:43:48.327Z"
   },
   {
    "duration": 135,
    "start_time": "2022-06-01T19:43:48.334Z"
   },
   {
    "duration": 0,
    "start_time": "2022-06-01T19:43:48.471Z"
   },
   {
    "duration": 0,
    "start_time": "2022-06-01T19:43:48.473Z"
   },
   {
    "duration": 3,
    "start_time": "2022-06-01T19:47:20.491Z"
   },
   {
    "duration": 28,
    "start_time": "2022-06-01T19:47:21.701Z"
   },
   {
    "duration": 5,
    "start_time": "2022-06-01T19:47:26.962Z"
   },
   {
    "duration": 33,
    "start_time": "2022-06-01T19:47:27.230Z"
   },
   {
    "duration": 2,
    "start_time": "2022-06-01T19:47:33.637Z"
   },
   {
    "duration": 6,
    "start_time": "2022-06-01T19:47:36.589Z"
   },
   {
    "duration": 20,
    "start_time": "2022-06-01T22:02:06.889Z"
   },
   {
    "duration": 4,
    "start_time": "2022-06-01T22:05:21.978Z"
   },
   {
    "duration": 5,
    "start_time": "2022-06-01T22:05:26.802Z"
   },
   {
    "duration": 21,
    "start_time": "2022-06-01T22:05:32.430Z"
   },
   {
    "duration": 3,
    "start_time": "2022-06-01T22:05:41.089Z"
   },
   {
    "duration": 4,
    "start_time": "2022-06-01T22:05:43.860Z"
   },
   {
    "duration": 22,
    "start_time": "2022-06-01T22:05:45.964Z"
   },
   {
    "duration": 4,
    "start_time": "2022-06-01T22:11:52.278Z"
   },
   {
    "duration": 5,
    "start_time": "2022-06-01T22:11:54.757Z"
   },
   {
    "duration": 22,
    "start_time": "2022-06-01T22:11:56.981Z"
   },
   {
    "duration": 3,
    "start_time": "2022-06-01T22:13:44.012Z"
   },
   {
    "duration": 11,
    "start_time": "2022-06-01T22:13:44.324Z"
   },
   {
    "duration": 3,
    "start_time": "2022-06-01T22:13:59.122Z"
   },
   {
    "duration": 10,
    "start_time": "2022-06-01T22:13:59.474Z"
   },
   {
    "duration": 267,
    "start_time": "2022-06-01T22:17:15.262Z"
   },
   {
    "duration": 3,
    "start_time": "2022-06-01T22:17:18.531Z"
   },
   {
    "duration": 5,
    "start_time": "2022-06-01T22:17:23.881Z"
   },
   {
    "duration": 3,
    "start_time": "2022-06-01T22:17:27.998Z"
   },
   {
    "duration": 8,
    "start_time": "2022-06-01T22:17:30.034Z"
   },
   {
    "duration": 9,
    "start_time": "2022-06-01T22:18:23.830Z"
   },
   {
    "duration": 364,
    "start_time": "2022-06-01T22:18:57.866Z"
   },
   {
    "duration": 4,
    "start_time": "2022-06-01T22:19:03.793Z"
   },
   {
    "duration": 221,
    "start_time": "2022-06-01T22:19:04.349Z"
   },
   {
    "duration": 10,
    "start_time": "2022-06-01T22:19:10.845Z"
   },
   {
    "duration": 11,
    "start_time": "2022-06-01T22:19:14.078Z"
   },
   {
    "duration": 5,
    "start_time": "2022-06-01T22:19:28.737Z"
   },
   {
    "duration": 29,
    "start_time": "2022-06-01T22:19:31.670Z"
   },
   {
    "duration": 5,
    "start_time": "2022-06-01T22:19:57.416Z"
   },
   {
    "duration": 23,
    "start_time": "2022-06-01T22:19:59.572Z"
   },
   {
    "duration": 3,
    "start_time": "2022-06-01T22:20:47.138Z"
   },
   {
    "duration": 13,
    "start_time": "2022-06-01T22:20:49.094Z"
   },
   {
    "duration": 3,
    "start_time": "2022-06-01T22:21:04.464Z"
   },
   {
    "duration": 11,
    "start_time": "2022-06-01T22:21:06.762Z"
   },
   {
    "duration": 3,
    "start_time": "2022-06-01T22:21:28.884Z"
   },
   {
    "duration": 9,
    "start_time": "2022-06-01T22:21:29.314Z"
   },
   {
    "duration": 10,
    "start_time": "2022-06-01T22:22:39.366Z"
   },
   {
    "duration": 3,
    "start_time": "2022-06-01T22:22:49.846Z"
   },
   {
    "duration": 22,
    "start_time": "2022-06-01T22:22:50.047Z"
   },
   {
    "duration": 21,
    "start_time": "2022-06-01T22:22:57.835Z"
   },
   {
    "duration": 6,
    "start_time": "2022-06-01T22:23:12.621Z"
   },
   {
    "duration": 20,
    "start_time": "2022-06-01T22:23:14.973Z"
   },
   {
    "duration": 4,
    "start_time": "2022-06-01T22:23:33.162Z"
   },
   {
    "duration": 9,
    "start_time": "2022-06-01T22:23:34.218Z"
   },
   {
    "duration": 9,
    "start_time": "2022-06-01T22:23:36.506Z"
   },
   {
    "duration": 8,
    "start_time": "2022-06-01T22:23:39.322Z"
   },
   {
    "duration": 109,
    "start_time": "2022-06-01T22:27:21.025Z"
   },
   {
    "duration": 58,
    "start_time": "2022-06-01T22:27:23.370Z"
   },
   {
    "duration": 336,
    "start_time": "2022-06-01T22:28:14.991Z"
   },
   {
    "duration": 303,
    "start_time": "2022-06-01T22:30:35.028Z"
   },
   {
    "duration": 3,
    "start_time": "2022-06-01T22:30:38.108Z"
   },
   {
    "duration": 5,
    "start_time": "2022-06-01T22:30:47.671Z"
   },
   {
    "duration": 3,
    "start_time": "2022-06-01T22:30:52.035Z"
   },
   {
    "duration": 8,
    "start_time": "2022-06-01T22:30:53.516Z"
   },
   {
    "duration": 3,
    "start_time": "2022-06-01T22:31:36.933Z"
   },
   {
    "duration": 10,
    "start_time": "2022-06-01T22:31:38.128Z"
   },
   {
    "duration": 3,
    "start_time": "2022-06-01T22:32:07.967Z"
   },
   {
    "duration": 23,
    "start_time": "2022-06-01T22:32:08.132Z"
   },
   {
    "duration": 3,
    "start_time": "2022-06-01T22:32:31.074Z"
   },
   {
    "duration": 10,
    "start_time": "2022-06-01T22:32:31.612Z"
   },
   {
    "duration": 3,
    "start_time": "2022-06-01T22:32:49.127Z"
   },
   {
    "duration": 25,
    "start_time": "2022-06-01T22:32:49.479Z"
   },
   {
    "duration": 3,
    "start_time": "2022-06-01T22:33:02.918Z"
   },
   {
    "duration": 23,
    "start_time": "2022-06-01T22:33:03.086Z"
   },
   {
    "duration": 3,
    "start_time": "2022-06-01T22:33:21.808Z"
   },
   {
    "duration": 9,
    "start_time": "2022-06-01T22:33:22.329Z"
   },
   {
    "duration": 65,
    "start_time": "2022-06-01T22:33:44.164Z"
   },
   {
    "duration": 78,
    "start_time": "2022-06-01T22:33:49.850Z"
   },
   {
    "duration": 248,
    "start_time": "2022-06-01T22:33:56.783Z"
   },
   {
    "duration": 3,
    "start_time": "2022-06-01T22:34:21.249Z"
   },
   {
    "duration": 9,
    "start_time": "2022-06-01T22:34:21.455Z"
   },
   {
    "duration": 4,
    "start_time": "2022-06-01T22:34:26.670Z"
   },
   {
    "duration": 6,
    "start_time": "2022-06-01T22:34:28.300Z"
   },
   {
    "duration": 7,
    "start_time": "2022-06-01T22:34:30.128Z"
   },
   {
    "duration": 6,
    "start_time": "2022-06-01T22:34:30.552Z"
   },
   {
    "duration": 5,
    "start_time": "2022-06-01T22:34:34.808Z"
   },
   {
    "duration": 21,
    "start_time": "2022-06-01T22:34:37.894Z"
   },
   {
    "duration": 20,
    "start_time": "2022-06-01T22:34:40.211Z"
   },
   {
    "duration": 282,
    "start_time": "2022-06-01T22:34:49.159Z"
   },
   {
    "duration": 5,
    "start_time": "2022-06-01T22:35:56.463Z"
   },
   {
    "duration": 621,
    "start_time": "2022-06-01T22:35:58.759Z"
   },
   {
    "duration": 628,
    "start_time": "2022-06-01T22:36:03.870Z"
   },
   {
    "duration": 614,
    "start_time": "2022-06-01T22:36:10.760Z"
   },
   {
    "duration": 617,
    "start_time": "2022-06-01T22:36:13.320Z"
   },
   {
    "duration": 5,
    "start_time": "2022-06-01T22:36:59.343Z"
   },
   {
    "duration": 21,
    "start_time": "2022-06-01T22:37:03.244Z"
   },
   {
    "duration": 7,
    "start_time": "2022-06-01T22:37:51.197Z"
   },
   {
    "duration": 7,
    "start_time": "2022-06-01T22:38:02.042Z"
   },
   {
    "duration": 4,
    "start_time": "2022-06-01T22:39:10.761Z"
   },
   {
    "duration": 3211,
    "start_time": "2022-06-01T22:39:18.921Z"
   },
   {
    "duration": 3190,
    "start_time": "2022-06-01T22:39:22.134Z"
   },
   {
    "duration": 3180,
    "start_time": "2022-06-01T22:39:42.053Z"
   },
   {
    "duration": 3056,
    "start_time": "2022-06-01T22:39:45.235Z"
   },
   {
    "duration": 2982,
    "start_time": "2022-06-01T22:47:48.025Z"
   },
   {
    "duration": 4,
    "start_time": "2022-06-01T22:48:21.206Z"
   },
   {
    "duration": 3350,
    "start_time": "2022-06-01T22:48:23.619Z"
   },
   {
    "duration": 5,
    "start_time": "2022-06-01T22:50:47.777Z"
   },
   {
    "duration": 3272,
    "start_time": "2022-06-01T22:50:52.486Z"
   },
   {
    "duration": 3035,
    "start_time": "2022-06-01T22:50:56.542Z"
   },
   {
    "duration": 3202,
    "start_time": "2022-06-01T22:50:59.579Z"
   },
   {
    "duration": 5,
    "start_time": "2022-06-01T22:51:13.130Z"
   },
   {
    "duration": 3455,
    "start_time": "2022-06-01T22:51:16.681Z"
   },
   {
    "duration": 3502,
    "start_time": "2022-06-01T22:51:20.139Z"
   },
   {
    "duration": 3371,
    "start_time": "2022-06-01T22:51:30.116Z"
   },
   {
    "duration": 5,
    "start_time": "2022-06-01T22:51:53.681Z"
   },
   {
    "duration": 2978,
    "start_time": "2022-06-01T22:51:57.290Z"
   },
   {
    "duration": 3064,
    "start_time": "2022-06-01T22:52:00.270Z"
   },
   {
    "duration": 3149,
    "start_time": "2022-06-01T22:52:03.336Z"
   },
   {
    "duration": 6,
    "start_time": "2022-06-01T22:53:23.346Z"
   },
   {
    "duration": 6,
    "start_time": "2022-06-01T22:53:45.710Z"
   },
   {
    "duration": 3219,
    "start_time": "2022-06-01T22:53:47.846Z"
   },
   {
    "duration": 3190,
    "start_time": "2022-06-01T22:53:55.181Z"
   },
   {
    "duration": 3,
    "start_time": "2022-06-01T22:56:52.824Z"
   },
   {
    "duration": 7,
    "start_time": "2022-06-01T22:56:56.138Z"
   },
   {
    "duration": 7,
    "start_time": "2022-06-01T22:56:56.708Z"
   },
   {
    "duration": 6,
    "start_time": "2022-06-01T22:56:57.049Z"
   },
   {
    "duration": 20,
    "start_time": "2022-06-01T22:57:08.021Z"
   },
   {
    "duration": 8,
    "start_time": "2022-06-01T22:57:18.331Z"
   },
   {
    "duration": 3041,
    "start_time": "2022-06-01T22:57:21.632Z"
   },
   {
    "duration": 2990,
    "start_time": "2022-06-01T22:57:24.675Z"
   },
   {
    "duration": 2995,
    "start_time": "2022-06-01T22:57:27.667Z"
   },
   {
    "duration": 5,
    "start_time": "2022-06-01T23:05:55.686Z"
   },
   {
    "duration": 3004,
    "start_time": "2022-06-01T23:05:57.839Z"
   },
   {
    "duration": 2979,
    "start_time": "2022-06-01T23:06:01.812Z"
   },
   {
    "duration": 3081,
    "start_time": "2022-06-01T23:06:05.555Z"
   },
   {
    "duration": 5,
    "start_time": "2022-06-01T23:09:38.710Z"
   },
   {
    "duration": 2978,
    "start_time": "2022-06-01T23:09:40.887Z"
   },
   {
    "duration": 2992,
    "start_time": "2022-06-01T23:09:43.867Z"
   },
   {
    "duration": 3045,
    "start_time": "2022-06-01T23:09:46.860Z"
   },
   {
    "duration": 3026,
    "start_time": "2022-06-01T23:09:52.541Z"
   },
   {
    "duration": 3417,
    "start_time": "2022-06-01T23:10:06.030Z"
   },
   {
    "duration": 5,
    "start_time": "2022-06-01T23:10:45.607Z"
   },
   {
    "duration": 3061,
    "start_time": "2022-06-01T23:10:47.760Z"
   },
   {
    "duration": 5,
    "start_time": "2022-06-01T23:11:01.304Z"
   },
   {
    "duration": 10,
    "start_time": "2022-06-02T12:57:52.808Z"
   },
   {
    "duration": 61,
    "start_time": "2022-06-02T12:57:53.090Z"
   },
   {
    "duration": 11,
    "start_time": "2022-06-02T12:57:53.373Z"
   },
   {
    "duration": 5,
    "start_time": "2022-06-02T12:58:04.191Z"
   },
   {
    "duration": 13,
    "start_time": "2022-06-02T12:58:06.216Z"
   },
   {
    "duration": 1231,
    "start_time": "2022-06-02T12:58:35.768Z"
   },
   {
    "duration": 3,
    "start_time": "2022-06-02T12:58:37.001Z"
   },
   {
    "duration": 482,
    "start_time": "2022-06-02T12:58:37.006Z"
   },
   {
    "duration": 225,
    "start_time": "2022-06-02T12:58:37.490Z"
   },
   {
    "duration": 224,
    "start_time": "2022-06-02T12:58:37.719Z"
   },
   {
    "duration": 3,
    "start_time": "2022-06-02T12:58:37.944Z"
   },
   {
    "duration": 343,
    "start_time": "2022-06-02T12:58:37.948Z"
   },
   {
    "duration": 4,
    "start_time": "2022-06-02T12:58:38.293Z"
   },
   {
    "duration": 92,
    "start_time": "2022-06-02T12:58:38.299Z"
   },
   {
    "duration": 96,
    "start_time": "2022-06-02T12:58:38.393Z"
   },
   {
    "duration": 6,
    "start_time": "2022-06-02T12:58:38.491Z"
   },
   {
    "duration": 7,
    "start_time": "2022-06-02T12:58:38.499Z"
   },
   {
    "duration": 8,
    "start_time": "2022-06-02T12:58:38.508Z"
   },
   {
    "duration": 9,
    "start_time": "2022-06-02T12:58:38.520Z"
   },
   {
    "duration": 8,
    "start_time": "2022-06-02T12:58:38.532Z"
   },
   {
    "duration": 42,
    "start_time": "2022-06-02T12:58:38.543Z"
   },
   {
    "duration": 8,
    "start_time": "2022-06-02T12:58:38.587Z"
   },
   {
    "duration": 3464,
    "start_time": "2022-06-02T12:58:38.597Z"
   },
   {
    "duration": 3588,
    "start_time": "2022-06-02T12:58:42.065Z"
   },
   {
    "duration": 3516,
    "start_time": "2022-06-02T12:58:45.655Z"
   },
   {
    "duration": 3792,
    "start_time": "2022-06-02T12:59:48.179Z"
   },
   {
    "duration": 7,
    "start_time": "2022-06-02T13:00:06.135Z"
   },
   {
    "duration": 3455,
    "start_time": "2022-06-02T13:00:08.013Z"
   },
   {
    "duration": 6,
    "start_time": "2022-06-02T13:01:43.970Z"
   },
   {
    "duration": 3843,
    "start_time": "2022-06-02T13:02:17.399Z"
   },
   {
    "duration": 6,
    "start_time": "2022-06-02T13:02:37.968Z"
   },
   {
    "duration": 3396,
    "start_time": "2022-06-02T13:02:39.722Z"
   },
   {
    "duration": 3694,
    "start_time": "2022-06-02T13:03:02.018Z"
   },
   {
    "duration": 3550,
    "start_time": "2022-06-02T13:03:35.703Z"
   },
   {
    "duration": 3581,
    "start_time": "2022-06-02T13:04:06.350Z"
   },
   {
    "duration": 3595,
    "start_time": "2022-06-02T13:04:11.769Z"
   },
   {
    "duration": 7,
    "start_time": "2022-06-02T13:05:13.070Z"
   },
   {
    "duration": 3552,
    "start_time": "2022-06-02T13:05:15.896Z"
   },
   {
    "duration": 3299,
    "start_time": "2022-06-02T13:05:27.717Z"
   },
   {
    "duration": 3127,
    "start_time": "2022-06-02T13:05:32.435Z"
   },
   {
    "duration": 6,
    "start_time": "2022-06-02T13:07:10.077Z"
   },
   {
    "duration": 3712,
    "start_time": "2022-06-02T13:07:12.371Z"
   },
   {
    "duration": 6,
    "start_time": "2022-06-02T13:07:49.744Z"
   },
   {
    "duration": 3445,
    "start_time": "2022-06-02T13:07:51.915Z"
   },
   {
    "duration": 6,
    "start_time": "2022-06-02T13:08:02.321Z"
   },
   {
    "duration": 3611,
    "start_time": "2022-06-02T13:08:04.412Z"
   },
   {
    "duration": 3571,
    "start_time": "2022-06-02T13:08:14.777Z"
   },
   {
    "duration": 3467,
    "start_time": "2022-06-02T13:08:33.268Z"
   },
   {
    "duration": 5,
    "start_time": "2022-06-02T13:11:07.861Z"
   },
   {
    "duration": 3626,
    "start_time": "2022-06-02T13:11:10.147Z"
   },
   {
    "duration": 3697,
    "start_time": "2022-06-02T13:11:59.566Z"
   },
   {
    "duration": 5,
    "start_time": "2022-06-03T13:50:53.544Z"
   },
   {
    "duration": 1466,
    "start_time": "2022-06-03T13:51:00.981Z"
   },
   {
    "duration": 3,
    "start_time": "2022-06-03T13:51:02.449Z"
   },
   {
    "duration": 490,
    "start_time": "2022-06-03T13:51:02.453Z"
   },
   {
    "duration": 187,
    "start_time": "2022-06-03T13:51:02.951Z"
   },
   {
    "duration": 256,
    "start_time": "2022-06-03T13:51:03.140Z"
   },
   {
    "duration": 3,
    "start_time": "2022-06-03T13:51:03.398Z"
   },
   {
    "duration": 347,
    "start_time": "2022-06-03T13:51:03.403Z"
   },
   {
    "duration": 3,
    "start_time": "2022-06-03T13:51:03.754Z"
   },
   {
    "duration": 75,
    "start_time": "2022-06-03T13:51:03.761Z"
   },
   {
    "duration": 111,
    "start_time": "2022-06-03T13:51:03.846Z"
   },
   {
    "duration": 13,
    "start_time": "2022-06-03T13:51:03.958Z"
   },
   {
    "duration": 6,
    "start_time": "2022-06-03T13:51:03.973Z"
   },
   {
    "duration": 8,
    "start_time": "2022-06-03T13:51:03.980Z"
   },
   {
    "duration": 17,
    "start_time": "2022-06-03T13:51:03.989Z"
   },
   {
    "duration": 8,
    "start_time": "2022-06-03T13:51:04.007Z"
   },
   {
    "duration": 6,
    "start_time": "2022-06-03T13:51:04.017Z"
   },
   {
    "duration": 6,
    "start_time": "2022-06-03T13:51:04.025Z"
   },
   {
    "duration": 4785,
    "start_time": "2022-06-03T13:51:04.033Z"
   },
   {
    "duration": 4875,
    "start_time": "2022-06-03T13:51:08.827Z"
   },
   {
    "duration": 4857,
    "start_time": "2022-06-03T13:51:13.703Z"
   },
   {
    "duration": 6,
    "start_time": "2022-06-03T13:51:27.353Z"
   },
   {
    "duration": 114,
    "start_time": "2022-06-03T13:51:29.924Z"
   },
   {
    "duration": 6,
    "start_time": "2022-06-03T13:51:48.889Z"
   },
   {
    "duration": 4347,
    "start_time": "2022-06-03T13:51:52.547Z"
   },
   {
    "duration": 4,
    "start_time": "2022-06-03T13:53:34.696Z"
   },
   {
    "duration": 46,
    "start_time": "2022-06-03T13:53:37.204Z"
   },
   {
    "duration": 7,
    "start_time": "2022-06-03T13:54:12.346Z"
   },
   {
    "duration": 34,
    "start_time": "2022-06-03T13:54:14.745Z"
   },
   {
    "duration": 8,
    "start_time": "2022-06-03T13:55:13.044Z"
   },
   {
    "duration": 20,
    "start_time": "2022-06-03T13:55:17.382Z"
   },
   {
    "duration": 6,
    "start_time": "2022-06-03T13:55:47.855Z"
   },
   {
    "duration": 31,
    "start_time": "2022-06-03T13:55:50.707Z"
   },
   {
    "duration": 6,
    "start_time": "2022-06-03T13:56:15.815Z"
   },
   {
    "duration": 26,
    "start_time": "2022-06-03T13:56:18.340Z"
   },
   {
    "duration": 3,
    "start_time": "2022-06-03T13:56:57.687Z"
   },
   {
    "duration": 7,
    "start_time": "2022-06-03T13:56:59.179Z"
   },
   {
    "duration": 8,
    "start_time": "2022-06-03T13:57:01.252Z"
   },
   {
    "duration": 7,
    "start_time": "2022-06-03T13:57:01.942Z"
   },
   {
    "duration": 3242,
    "start_time": "2022-06-03T13:57:17.343Z"
   },
   {
    "duration": 8,
    "start_time": "2022-06-03T13:57:21.351Z"
   },
   {
    "duration": 3464,
    "start_time": "2022-06-03T13:57:24.017Z"
   },
   {
    "duration": 3,
    "start_time": "2022-06-03T13:57:50.622Z"
   },
   {
    "duration": 8,
    "start_time": "2022-06-03T13:57:52.134Z"
   },
   {
    "duration": 7,
    "start_time": "2022-06-03T13:57:54.636Z"
   },
   {
    "duration": 3180,
    "start_time": "2022-06-03T13:57:57.992Z"
   },
   {
    "duration": 5,
    "start_time": "2022-06-03T13:58:11.382Z"
   },
   {
    "duration": 1095,
    "start_time": "2022-06-03T13:58:13.871Z"
   },
   {
    "duration": 1212,
    "start_time": "2022-06-03T13:58:15.892Z"
   },
   {
    "duration": 1287,
    "start_time": "2022-06-03T13:58:17.106Z"
   },
   {
    "duration": 166,
    "start_time": "2022-06-03T14:03:28.028Z"
   },
   {
    "duration": 6,
    "start_time": "2022-06-03T14:11:29.598Z"
   },
   {
    "duration": 1048,
    "start_time": "2022-06-03T14:11:32.243Z"
   },
   {
    "duration": 1110,
    "start_time": "2022-06-03T14:11:35.709Z"
   },
   {
    "duration": 1028,
    "start_time": "2022-06-03T14:11:39.122Z"
   },
   {
    "duration": 7,
    "start_time": "2022-06-03T14:16:04.826Z"
   },
   {
    "duration": 1171,
    "start_time": "2022-06-03T14:16:07.629Z"
   },
   {
    "duration": 4,
    "start_time": "2022-06-03T14:16:31.501Z"
   },
   {
    "duration": 1097,
    "start_time": "2022-06-03T14:16:33.836Z"
   },
   {
    "duration": 7,
    "start_time": "2022-06-03T14:16:45.642Z"
   },
   {
    "duration": 1035,
    "start_time": "2022-06-03T14:16:54.635Z"
   },
   {
    "duration": 120,
    "start_time": "2022-06-03T14:21:45.438Z"
   },
   {
    "duration": 1101,
    "start_time": "2022-06-03T14:23:19.114Z"
   },
   {
    "duration": 2,
    "start_time": "2022-06-03T14:23:20.218Z"
   },
   {
    "duration": 508,
    "start_time": "2022-06-03T14:23:20.222Z"
   },
   {
    "duration": 187,
    "start_time": "2022-06-03T14:23:20.732Z"
   },
   {
    "duration": 153,
    "start_time": "2022-06-03T14:23:20.921Z"
   },
   {
    "duration": 3,
    "start_time": "2022-06-03T14:23:21.076Z"
   },
   {
    "duration": 269,
    "start_time": "2022-06-03T14:23:21.080Z"
   },
   {
    "duration": 8,
    "start_time": "2022-06-03T14:23:21.353Z"
   },
   {
    "duration": 170,
    "start_time": "2022-06-03T14:23:21.362Z"
   },
   {
    "duration": 11,
    "start_time": "2022-06-03T14:23:21.538Z"
   },
   {
    "duration": 8,
    "start_time": "2022-06-03T14:23:21.551Z"
   },
   {
    "duration": 3,
    "start_time": "2022-06-03T14:23:21.561Z"
   },
   {
    "duration": 10,
    "start_time": "2022-06-03T14:23:21.566Z"
   },
   {
    "duration": 11,
    "start_time": "2022-06-03T14:23:21.578Z"
   },
   {
    "duration": 7,
    "start_time": "2022-06-03T14:23:21.590Z"
   },
   {
    "duration": 7,
    "start_time": "2022-06-03T14:23:21.598Z"
   },
   {
    "duration": 10,
    "start_time": "2022-06-03T14:23:21.626Z"
   },
   {
    "duration": 1194,
    "start_time": "2022-06-03T14:23:21.642Z"
   },
   {
    "duration": 1151,
    "start_time": "2022-06-03T14:23:22.842Z"
   },
   {
    "duration": 1250,
    "start_time": "2022-06-03T14:23:23.997Z"
   },
   {
    "duration": 2277,
    "start_time": "2022-06-04T10:17:34.501Z"
   },
   {
    "duration": 6,
    "start_time": "2022-06-04T10:17:52.481Z"
   },
   {
    "duration": 409,
    "start_time": "2022-06-04T17:23:23.345Z"
   },
   {
    "duration": 511,
    "start_time": "2022-06-04T17:23:23.756Z"
   },
   {
    "duration": 4,
    "start_time": "2022-06-04T17:23:24.269Z"
   },
   {
    "duration": 225,
    "start_time": "2022-06-04T17:23:24.276Z"
   },
   {
    "duration": 130,
    "start_time": "2022-06-04T17:23:24.502Z"
   },
   {
    "duration": 137,
    "start_time": "2022-06-04T17:23:24.633Z"
   },
   {
    "duration": 3,
    "start_time": "2022-06-04T17:23:24.771Z"
   },
   {
    "duration": 354,
    "start_time": "2022-06-04T17:23:24.775Z"
   },
   {
    "duration": 4,
    "start_time": "2022-06-04T17:23:25.131Z"
   },
   {
    "duration": 12,
    "start_time": "2022-06-04T17:23:25.225Z"
   },
   {
    "duration": 4,
    "start_time": "2022-06-04T17:23:25.324Z"
   },
   {
    "duration": 8,
    "start_time": "2022-06-04T17:23:25.330Z"
   },
   {
    "duration": 8,
    "start_time": "2022-06-04T17:23:25.339Z"
   },
   {
    "duration": 7,
    "start_time": "2022-06-04T17:23:25.348Z"
   },
   {
    "duration": 9,
    "start_time": "2022-06-04T17:23:25.356Z"
   },
   {
    "duration": 8,
    "start_time": "2022-06-04T17:23:25.367Z"
   },
   {
    "duration": 7,
    "start_time": "2022-06-04T17:23:25.377Z"
   },
   {
    "duration": 37,
    "start_time": "2022-06-04T17:23:25.386Z"
   },
   {
    "duration": 1684,
    "start_time": "2022-06-04T17:23:25.425Z"
   },
   {
    "duration": 1607,
    "start_time": "2022-06-04T17:23:27.123Z"
   },
   {
    "duration": 1694,
    "start_time": "2022-06-04T17:23:28.731Z"
   },
   {
    "duration": 4,
    "start_time": "2022-06-04T17:26:37.423Z"
   },
   {
    "duration": 6,
    "start_time": "2022-06-04T17:26:40.304Z"
   },
   {
    "duration": 1877,
    "start_time": "2022-06-04T17:26:42.916Z"
   },
   {
    "duration": 3,
    "start_time": "2022-06-04T17:27:50.912Z"
   },
   {
    "duration": 4,
    "start_time": "2022-06-04T17:27:53.796Z"
   },
   {
    "duration": 2126,
    "start_time": "2022-06-04T17:27:56.354Z"
   },
   {
    "duration": 5,
    "start_time": "2022-06-04T17:29:04.146Z"
   },
   {
    "duration": 2453,
    "start_time": "2022-06-04T17:29:07.045Z"
   },
   {
    "duration": 6,
    "start_time": "2022-06-04T17:31:30.763Z"
   },
   {
    "duration": 5,
    "start_time": "2022-06-04T17:42:03.807Z"
   },
   {
    "duration": 7,
    "start_time": "2022-06-04T17:42:55.608Z"
   },
   {
    "duration": 2639,
    "start_time": "2022-06-04T17:42:59.619Z"
   },
   {
    "duration": 5,
    "start_time": "2022-06-04T17:43:43.525Z"
   },
   {
    "duration": 2016,
    "start_time": "2022-06-04T17:43:46.222Z"
   },
   {
    "duration": 1987,
    "start_time": "2022-06-04T17:44:18.391Z"
   },
   {
    "duration": 2228,
    "start_time": "2022-06-04T17:44:26.159Z"
   },
   {
    "duration": 2299,
    "start_time": "2022-06-04T17:51:48.204Z"
   },
   {
    "duration": 2408,
    "start_time": "2022-06-04T17:52:08.657Z"
   },
   {
    "duration": 2351,
    "start_time": "2022-06-04T17:52:28.151Z"
   },
   {
    "duration": 2039,
    "start_time": "2022-06-04T17:53:19.407Z"
   },
   {
    "duration": 2100,
    "start_time": "2022-06-04T17:53:56.703Z"
   },
   {
    "duration": 2133,
    "start_time": "2022-06-04T17:54:00.862Z"
   },
   {
    "duration": 2012,
    "start_time": "2022-06-04T17:54:03.742Z"
   },
   {
    "duration": 2270,
    "start_time": "2022-06-04T17:54:05.911Z"
   },
   {
    "duration": 5,
    "start_time": "2022-06-04T17:55:16.348Z"
   },
   {
    "duration": 7,
    "start_time": "2022-06-04T17:55:26.844Z"
   },
   {
    "duration": 2220,
    "start_time": "2022-06-04T17:55:29.361Z"
   },
   {
    "duration": 5,
    "start_time": "2022-06-04T17:55:48.249Z"
   },
   {
    "duration": 4,
    "start_time": "2022-06-04T17:55:57.918Z"
   },
   {
    "duration": 10,
    "start_time": "2022-06-04T17:56:01.949Z"
   },
   {
    "duration": 1664,
    "start_time": "2022-06-04T17:56:04.644Z"
   },
   {
    "duration": 1757,
    "start_time": "2022-06-04T17:56:09.451Z"
   },
   {
    "duration": 1924,
    "start_time": "2022-06-04T17:56:14.211Z"
   },
   {
    "duration": 3,
    "start_time": "2022-06-04T17:56:33.603Z"
   },
   {
    "duration": 1280,
    "start_time": "2022-06-04T18:02:53.659Z"
   },
   {
    "duration": 1251,
    "start_time": "2022-06-04T18:02:56.564Z"
   },
   {
    "duration": 1381,
    "start_time": "2022-06-04T18:02:58.402Z"
   },
   {
    "duration": 446,
    "start_time": "2022-06-04T18:03:25.765Z"
   },
   {
    "duration": 481,
    "start_time": "2022-06-04T18:03:26.213Z"
   },
   {
    "duration": 3,
    "start_time": "2022-06-04T18:03:26.695Z"
   },
   {
    "duration": 284,
    "start_time": "2022-06-04T18:03:26.700Z"
   },
   {
    "duration": 174,
    "start_time": "2022-06-04T18:03:26.986Z"
   },
   {
    "duration": 193,
    "start_time": "2022-06-04T18:03:27.167Z"
   },
   {
    "duration": 5,
    "start_time": "2022-06-04T18:03:27.362Z"
   },
   {
    "duration": 389,
    "start_time": "2022-06-04T18:03:27.369Z"
   },
   {
    "duration": 7,
    "start_time": "2022-06-04T18:03:27.762Z"
   },
   {
    "duration": 155,
    "start_time": "2022-06-04T18:03:27.772Z"
   },
   {
    "duration": 9,
    "start_time": "2022-06-04T18:03:27.928Z"
   },
   {
    "duration": 23,
    "start_time": "2022-06-04T18:03:27.939Z"
   },
   {
    "duration": 14,
    "start_time": "2022-06-04T18:03:27.964Z"
   },
   {
    "duration": 7,
    "start_time": "2022-06-04T18:03:27.980Z"
   },
   {
    "duration": 25,
    "start_time": "2022-06-04T18:03:27.989Z"
   },
   {
    "duration": 46,
    "start_time": "2022-06-04T18:03:28.015Z"
   },
   {
    "duration": 7,
    "start_time": "2022-06-04T18:03:28.063Z"
   },
   {
    "duration": 5,
    "start_time": "2022-06-04T18:03:28.072Z"
   },
   {
    "duration": 1323,
    "start_time": "2022-06-04T18:03:28.079Z"
   },
   {
    "duration": 1253,
    "start_time": "2022-06-04T18:03:29.403Z"
   },
   {
    "duration": 1249,
    "start_time": "2022-06-04T18:03:30.657Z"
   }
  ],
  "kernelspec": {
   "display_name": "Python 3 (ipykernel)",
   "language": "python",
   "name": "python3"
  },
  "language_info": {
   "codemirror_mode": {
    "name": "ipython",
    "version": 3
   },
   "file_extension": ".py",
   "mimetype": "text/x-python",
   "name": "python",
   "nbconvert_exporter": "python",
   "pygments_lexer": "ipython3",
   "version": "3.9.7"
  },
  "toc": {
   "base_numbering": 1,
   "nav_menu": {},
   "number_sections": true,
   "sideBar": true,
   "skip_h1_title": true,
   "title_cell": "Table of Contents",
   "title_sidebar": "Contents",
   "toc_cell": false,
   "toc_position": {},
   "toc_section_display": true,
   "toc_window_display": false
  }
 },
 "nbformat": 4,
 "nbformat_minor": 2
}
