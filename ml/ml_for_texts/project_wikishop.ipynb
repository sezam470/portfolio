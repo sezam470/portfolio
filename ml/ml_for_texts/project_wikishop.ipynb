{
 "cells": [
  {
   "cell_type": "markdown",
   "metadata": {},
   "source": [
    "<font color='green'><b>Полезные (и просто интересные) материалы:</b></font> \\\n",
    "Для работы с текстами используют и другие подходы. Например, сейчас активно используются RNN (LSTM) и трансформеры (BERT и другие с улицы Сезам, например, ELMO). НО! Они не являются панацеей, не всегда они нужны, так как и TF-IDF или Word2Vec + модели из классического ML тоже могут справляться. \\\n",
    "BERT тяжелый, существует много его вариаций для разных задач, есть готовые модели, есть надстройки над библиотекой transformers. Если, обучать BERT на GPU (можно в Google Colab или Kaggle), то должно быть побыстрее.\\\n",
    "https://huggingface.co/transformers/model_doc/bert.html \\\n",
    "https://t.me/renat_alimbekov \\\n",
    "https://colah.github.io/posts/2015-08-Understanding-LSTMs/ - Про LSTM \\\n",
    "https://web.stanford.edu/~jurafsky/slp3/10.pdf - про энкодер-декодер модели, этеншены\\\n",
    "https://pytorch.org/tutorials/beginner/transformer_tutorial.html - официальный гайд\n",
    "по трансформеру от создателей pytorch\\\n",
    "https://transformer.huggingface.co/ - поболтать с трансформером \\\n",
    "Библиотеки: allennlp, fairseq, transformers, tensorflow-text — множествореализованных\n",
    "методов для трансформеров методов NLP \\\n",
    "Word2Vec https://radimrehurek.com/gensim/models/word2vec.html \n",
    "\n",
    "<font color='green'>Пример BERT с GPU:\n",
    "```python\n",
    "%%time\n",
    "from tqdm import notebook\n",
    "batch_size = 2 # для примера возьмем такой батч, где будет всего две строки датасета\n",
    "embeddings = [] \n",
    "for i in notebook.tqdm(range(input_ids.shape[0] // batch_size)):\n",
    "        batch = torch.LongTensor(input_ids[batch_size*i:batch_size*(i+1)]).cuda() # закидываем тензор на GPU\n",
    "        attention_mask_batch = torch.LongTensor(attention_mask[batch_size*i:batch_size*(i+1)]).cuda()\n",
    "        \n",
    "        with torch.no_grad():\n",
    "            model.cuda()\n",
    "            batch_embeddings = model(batch, attention_mask=attention_mask_batch)\n",
    "        \n",
    "        embeddings.append(batch_embeddings[0][:,0,:].cpu().numpy()) # перевод обратно на проц, чтобы в нумпай кинуть\n",
    "        del batch\n",
    "        del attention_mask_batch\n",
    "        del batch_embeddings\n",
    "        \n",
    "features = np.concatenate(embeddings) \n",
    "```\n",
    "Можно сделать предварительную проверку на наличие GPU.\\\n",
    "Например, так: ```device = torch.device(\"cuda:0\") if torch.cuda.is_available() else torch.device(\"cpu\")```\\\n",
    "Тогда вместо .cuda() нужно писать .to(device)\n",
    "\n",
    "Если понравилась работа с текстами, можно посмотреть очень интересный (но очень-очень сложный) курс лекций: https://github.com/yandexdataschool/nlp_course .\n",
    "</font>"
   ]
  },
  {
   "cell_type": "markdown",
   "metadata": {},
   "source": [
    "# Проект для «Викишоп»"
   ]
  },
  {
   "cell_type": "markdown",
   "metadata": {},
   "source": [
    "Интернет-магазин «Викишоп» запускает новый сервис. Теперь пользователи могут редактировать и дополнять описания товаров, как в вики-сообществах. То есть клиенты предлагают свои правки и комментируют изменения других. Магазину нужен инструмент, который будет искать токсичные комментарии и отправлять их на модерацию. \n",
    "\n",
    "Обучите модель классифицировать комментарии на позитивные и негативные. В вашем распоряжении набор данных с разметкой о токсичности правок.\n",
    "\n",
    "Постройте модель со значением метрики качества *F1* не меньше 0.75. \n",
    "\n",
    "**Инструкция по выполнению проекта**\n",
    "\n",
    "1. Загрузите и подготовьте данные.\n",
    "2. Обучите разные модели. \n",
    "3. Сделайте выводы.\n",
    "\n",
    "Для выполнения проекта применять *BERT* необязательно, но вы можете попробовать.\n",
    "\n",
    "**Описание данных**\n",
    "\n",
    "Данные находятся в файле `toxic_comments.csv`. Столбец *text* в нём содержит текст комментария, а *toxic* — целевой признак."
   ]
  },
  {
   "cell_type": "markdown",
   "metadata": {},
   "source": [
    "## Подготовка"
   ]
  },
  {
   "cell_type": "code",
   "execution_count": null,
   "metadata": {},
   "outputs": [],
   "source": [
    "import pandas as pd\n",
    "import numpy as np\n",
    "from sklearn.feature_extraction.text import TfidfVectorizer\n",
    "from sklearn.feature_extraction.text import CountVectorizer\n",
    "import nltk\n",
    "from nltk.corpus import stopwords as stopwords_nltk\n",
    "import re\n",
    "from pymystem3 import Mystem\n",
    "\n",
    "from sklearn.linear_model import LogisticRegression\n",
    "from sklearn.model_selection import cross_val_score\n",
    "from sklearn.model_selection import train_test_split\n",
    "from sklearn.metrics import f1_score\n",
    "from nltk.stem import WordNetLemmatizer\n",
    "\n",
    "from catboost import CatBoostClassifier\n",
    "from sklearn.model_selection import GridSearchCV\n",
    "from sklearn.tree import DecisionTreeClassifier\n",
    "from sklearn.ensemble import RandomForestClassifier\n",
    "from random import randint\n"
   ]
  },
  {
   "cell_type": "code",
   "execution_count": 2,
   "metadata": {},
   "outputs": [
    {
     "ename": "NameError",
     "evalue": "name 'nltk' is not defined",
     "output_type": "error",
     "traceback": [
      "\u001b[0;31m---------------------------------------------------------------------------\u001b[0m",
      "\u001b[0;31mNameError\u001b[0m                                 Traceback (most recent call last)",
      "\u001b[0;32m/var/folders/zp/dh05ly8s0yj_s39_hf82cps00000gn/T/ipykernel_20609/2996534050.py\u001b[0m in \u001b[0;36m<module>\u001b[0;34m\u001b[0m\n\u001b[0;32m----> 1\u001b[0;31m \u001b[0mnltk\u001b[0m\u001b[0;34m.\u001b[0m\u001b[0mdownload\u001b[0m\u001b[0;34m(\u001b[0m\u001b[0;34m'stopwords'\u001b[0m\u001b[0;34m)\u001b[0m\u001b[0;34m\u001b[0m\u001b[0;34m\u001b[0m\u001b[0m\n\u001b[0m",
      "\u001b[0;31mNameError\u001b[0m: name 'nltk' is not defined"
     ]
    }
   ],
   "source": [
    "nltk.download('stopwords')"
   ]
  },
  {
   "cell_type": "code",
   "execution_count": null,
   "metadata": {},
   "outputs": [],
   "source": [
    "RANDOM_STATE = 12345"
   ]
  },
  {
   "cell_type": "code",
   "execution_count": null,
   "metadata": {},
   "outputs": [],
   "source": [
    "stopwords = set(stopwords_nltk.words('english'))"
   ]
  },
  {
   "cell_type": "code",
   "execution_count": 4,
   "metadata": {
    "scrolled": false
   },
   "outputs": [
    {
     "name": "stdout",
     "output_type": "stream",
     "text": [
      "<class 'pandas.core.frame.DataFrame'>\n",
      "RangeIndex: 159571 entries, 0 to 159570\n",
      "Data columns (total 2 columns):\n",
      " #   Column  Non-Null Count   Dtype \n",
      "---  ------  --------------   ----- \n",
      " 0   text    159571 non-null  object\n",
      " 1   toxic   159571 non-null  int64 \n",
      "dtypes: int64(1), object(1)\n",
      "memory usage: 2.4+ MB\n",
      "None\n"
     ]
    },
    {
     "data": {
      "text/html": [
       "<div>\n",
       "<style scoped>\n",
       "    .dataframe tbody tr th:only-of-type {\n",
       "        vertical-align: middle;\n",
       "    }\n",
       "\n",
       "    .dataframe tbody tr th {\n",
       "        vertical-align: top;\n",
       "    }\n",
       "\n",
       "    .dataframe thead th {\n",
       "        text-align: right;\n",
       "    }\n",
       "</style>\n",
       "<table border=\"1\" class=\"dataframe\">\n",
       "  <thead>\n",
       "    <tr style=\"text-align: right;\">\n",
       "      <th></th>\n",
       "      <th>text</th>\n",
       "      <th>toxic</th>\n",
       "    </tr>\n",
       "  </thead>\n",
       "  <tbody>\n",
       "    <tr>\n",
       "      <th>0</th>\n",
       "      <td>Explanation\\nWhy the edits made under my usern...</td>\n",
       "      <td>0</td>\n",
       "    </tr>\n",
       "    <tr>\n",
       "      <th>1</th>\n",
       "      <td>D'aww! He matches this background colour I'm s...</td>\n",
       "      <td>0</td>\n",
       "    </tr>\n",
       "    <tr>\n",
       "      <th>2</th>\n",
       "      <td>Hey man, I'm really not trying to edit war. It...</td>\n",
       "      <td>0</td>\n",
       "    </tr>\n",
       "    <tr>\n",
       "      <th>3</th>\n",
       "      <td>\"\\nMore\\nI can't make any real suggestions on ...</td>\n",
       "      <td>0</td>\n",
       "    </tr>\n",
       "    <tr>\n",
       "      <th>4</th>\n",
       "      <td>You, sir, are my hero. Any chance you remember...</td>\n",
       "      <td>0</td>\n",
       "    </tr>\n",
       "  </tbody>\n",
       "</table>\n",
       "</div>"
      ],
      "text/plain": [
       "                                                text  toxic\n",
       "0  Explanation\\nWhy the edits made under my usern...      0\n",
       "1  D'aww! He matches this background colour I'm s...      0\n",
       "2  Hey man, I'm really not trying to edit war. It...      0\n",
       "3  \"\\nMore\\nI can't make any real suggestions on ...      0\n",
       "4  You, sir, are my hero. Any chance you remember...      0"
      ]
     },
     "execution_count": 4,
     "metadata": {},
     "output_type": "execute_result"
    }
   ],
   "source": [
    "df = pd.read_csv('datasets/toxic_comments.csv')\n",
    "print(df.info())\n",
    "df.head()"
   ]
  },
  {
   "cell_type": "code",
   "execution_count": 5,
   "metadata": {},
   "outputs": [
    {
     "data": {
      "text/plain": [
       "0    143346\n",
       "1     16225\n",
       "Name: toxic, dtype: int64"
      ]
     },
     "execution_count": 5,
     "metadata": {},
     "output_type": "execute_result"
    }
   ],
   "source": [
    "# Взвесим классы\n",
    "df['toxic'].value_counts()"
   ]
  },
  {
   "cell_type": "markdown",
   "metadata": {},
   "source": [
    "Классы не сбалансированы."
   ]
  },
  {
   "cell_type": "code",
   "execution_count": 6,
   "metadata": {},
   "outputs": [
    {
     "data": {
      "text/html": [
       "<div>\n",
       "<style scoped>\n",
       "    .dataframe tbody tr th:only-of-type {\n",
       "        vertical-align: middle;\n",
       "    }\n",
       "\n",
       "    .dataframe tbody tr th {\n",
       "        vertical-align: top;\n",
       "    }\n",
       "\n",
       "    .dataframe thead th {\n",
       "        text-align: right;\n",
       "    }\n",
       "</style>\n",
       "<table border=\"1\" class=\"dataframe\">\n",
       "  <thead>\n",
       "    <tr style=\"text-align: right;\">\n",
       "      <th></th>\n",
       "      <th>text</th>\n",
       "      <th>toxic</th>\n",
       "    </tr>\n",
       "  </thead>\n",
       "  <tbody>\n",
       "    <tr>\n",
       "      <th>0</th>\n",
       "      <td>Explanation Why the edits made under my userna...</td>\n",
       "      <td>0</td>\n",
       "    </tr>\n",
       "    <tr>\n",
       "      <th>1</th>\n",
       "      <td>D aww He matches this background colour I m se...</td>\n",
       "      <td>0</td>\n",
       "    </tr>\n",
       "    <tr>\n",
       "      <th>2</th>\n",
       "      <td>Hey man I m really not trying to edit war It s...</td>\n",
       "      <td>0</td>\n",
       "    </tr>\n",
       "    <tr>\n",
       "      <th>3</th>\n",
       "      <td>More I can t make any real suggestions on impr...</td>\n",
       "      <td>0</td>\n",
       "    </tr>\n",
       "    <tr>\n",
       "      <th>4</th>\n",
       "      <td>You sir are my hero Any chance you remember wh...</td>\n",
       "      <td>0</td>\n",
       "    </tr>\n",
       "  </tbody>\n",
       "</table>\n",
       "</div>"
      ],
      "text/plain": [
       "                                                text  toxic\n",
       "0  Explanation Why the edits made under my userna...      0\n",
       "1  D aww He matches this background colour I m se...      0\n",
       "2  Hey man I m really not trying to edit war It s...      0\n",
       "3  More I can t make any real suggestions on impr...      0\n",
       "4  You sir are my hero Any chance you remember wh...      0"
      ]
     },
     "metadata": {},
     "output_type": "display_data"
    }
   ],
   "source": [
    "# Очистим тексты от посторонних символов\n",
    "df['text'] = df['text'].apply(lambda x: re.sub(r'[^a-zA-Z]', ' ', x).split())\n",
    "df['text'] = df['text'].apply(lambda x: ' '.join(x))\n",
    "\n",
    "display(df.head())"
   ]
  },
  {
   "cell_type": "code",
   "execution_count": 7,
   "metadata": {},
   "outputs": [],
   "source": [
    "lemmatizer = WordNetLemmatizer()\n",
    "\n",
    "def lemmatize_text(text):\n",
    "    words = text.split()\n",
    "    return ' '.join([lemmatizer.lemmatize(w) for w in words])"
   ]
  },
  {
   "cell_type": "code",
   "execution_count": 8,
   "metadata": {},
   "outputs": [
    {
     "data": {
      "text/html": [
       "<div>\n",
       "<style scoped>\n",
       "    .dataframe tbody tr th:only-of-type {\n",
       "        vertical-align: middle;\n",
       "    }\n",
       "\n",
       "    .dataframe tbody tr th {\n",
       "        vertical-align: top;\n",
       "    }\n",
       "\n",
       "    .dataframe thead th {\n",
       "        text-align: right;\n",
       "    }\n",
       "</style>\n",
       "<table border=\"1\" class=\"dataframe\">\n",
       "  <thead>\n",
       "    <tr style=\"text-align: right;\">\n",
       "      <th></th>\n",
       "      <th>text</th>\n",
       "      <th>toxic</th>\n",
       "      <th>lemm_text</th>\n",
       "    </tr>\n",
       "  </thead>\n",
       "  <tbody>\n",
       "    <tr>\n",
       "      <th>0</th>\n",
       "      <td>Explanation Why the edits made under my userna...</td>\n",
       "      <td>0</td>\n",
       "      <td>Explanation Why the edits made under my userna...</td>\n",
       "    </tr>\n",
       "    <tr>\n",
       "      <th>1</th>\n",
       "      <td>D aww He matches this background colour I m se...</td>\n",
       "      <td>0</td>\n",
       "      <td>D aww He match this background colour I m seem...</td>\n",
       "    </tr>\n",
       "    <tr>\n",
       "      <th>2</th>\n",
       "      <td>Hey man I m really not trying to edit war It s...</td>\n",
       "      <td>0</td>\n",
       "      <td>Hey man I m really not trying to edit war It s...</td>\n",
       "    </tr>\n",
       "    <tr>\n",
       "      <th>3</th>\n",
       "      <td>More I can t make any real suggestions on impr...</td>\n",
       "      <td>0</td>\n",
       "      <td>More I can t make any real suggestion on impro...</td>\n",
       "    </tr>\n",
       "    <tr>\n",
       "      <th>4</th>\n",
       "      <td>You sir are my hero Any chance you remember wh...</td>\n",
       "      <td>0</td>\n",
       "      <td>You sir are my hero Any chance you remember wh...</td>\n",
       "    </tr>\n",
       "  </tbody>\n",
       "</table>\n",
       "</div>"
      ],
      "text/plain": [
       "                                                text  toxic  \\\n",
       "0  Explanation Why the edits made under my userna...      0   \n",
       "1  D aww He matches this background colour I m se...      0   \n",
       "2  Hey man I m really not trying to edit war It s...      0   \n",
       "3  More I can t make any real suggestions on impr...      0   \n",
       "4  You sir are my hero Any chance you remember wh...      0   \n",
       "\n",
       "                                           lemm_text  \n",
       "0  Explanation Why the edits made under my userna...  \n",
       "1  D aww He match this background colour I m seem...  \n",
       "2  Hey man I m really not trying to edit war It s...  \n",
       "3  More I can t make any real suggestion on impro...  \n",
       "4  You sir are my hero Any chance you remember wh...  "
      ]
     },
     "execution_count": 8,
     "metadata": {},
     "output_type": "execute_result"
    }
   ],
   "source": [
    "# Лемматизируем тексты корпуса\n",
    "df['lemm_text'] = df['text'].apply(lemmatize_text)\n",
    "df.head()"
   ]
  },
  {
   "cell_type": "code",
   "execution_count": 10,
   "metadata": {},
   "outputs": [
    {
     "data": {
      "text/html": [
       "<div>\n",
       "<style scoped>\n",
       "    .dataframe tbody tr th:only-of-type {\n",
       "        vertical-align: middle;\n",
       "    }\n",
       "\n",
       "    .dataframe tbody tr th {\n",
       "        vertical-align: top;\n",
       "    }\n",
       "\n",
       "    .dataframe thead th {\n",
       "        text-align: right;\n",
       "    }\n",
       "</style>\n",
       "<table border=\"1\" class=\"dataframe\">\n",
       "  <thead>\n",
       "    <tr style=\"text-align: right;\">\n",
       "      <th></th>\n",
       "      <th>text</th>\n",
       "      <th>lemm_text</th>\n",
       "    </tr>\n",
       "  </thead>\n",
       "  <tbody>\n",
       "    <tr>\n",
       "      <th>111565</th>\n",
       "      <td>Ath Cliath section We have a bit of a problem ...</td>\n",
       "      <td>Ath Cliath section We have a bit of a problem ...</td>\n",
       "    </tr>\n",
       "    <tr>\n",
       "      <th>8575</th>\n",
       "      <td>Sure thing By the way I have a new userbox tha...</td>\n",
       "      <td>Sure thing By the way I have a new userbox tha...</td>\n",
       "    </tr>\n",
       "    <tr>\n",
       "      <th>153402</th>\n",
       "      <td>We are in the same boat as Britannica which is...</td>\n",
       "      <td>We are in the same boat a Britannica which is ...</td>\n",
       "    </tr>\n",
       "    <tr>\n",
       "      <th>65019</th>\n",
       "      <td>I had a look through the section on theology a...</td>\n",
       "      <td>I had a look through the section on theology a...</td>\n",
       "    </tr>\n",
       "    <tr>\n",
       "      <th>155787</th>\n",
       "      <td>Warren Commission Exhibit E the Chin It is tim...</td>\n",
       "      <td>Warren Commission Exhibit E the Chin It is tim...</td>\n",
       "    </tr>\n",
       "  </tbody>\n",
       "</table>\n",
       "</div>"
      ],
      "text/plain": [
       "                                                     text  \\\n",
       "111565  Ath Cliath section We have a bit of a problem ...   \n",
       "8575    Sure thing By the way I have a new userbox tha...   \n",
       "153402  We are in the same boat as Britannica which is...   \n",
       "65019   I had a look through the section on theology a...   \n",
       "155787  Warren Commission Exhibit E the Chin It is tim...   \n",
       "\n",
       "                                                lemm_text  \n",
       "111565  Ath Cliath section We have a bit of a problem ...  \n",
       "8575    Sure thing By the way I have a new userbox tha...  \n",
       "153402  We are in the same boat a Britannica which is ...  \n",
       "65019   I had a look through the section on theology a...  \n",
       "155787  Warren Commission Exhibit E the Chin It is tim...  "
      ]
     },
     "metadata": {},
     "output_type": "display_data"
    },
    {
     "data": {
      "text/html": [
       "<div>\n",
       "<style scoped>\n",
       "    .dataframe tbody tr th:only-of-type {\n",
       "        vertical-align: middle;\n",
       "    }\n",
       "\n",
       "    .dataframe tbody tr th {\n",
       "        vertical-align: top;\n",
       "    }\n",
       "\n",
       "    .dataframe thead th {\n",
       "        text-align: right;\n",
       "    }\n",
       "</style>\n",
       "<table border=\"1\" class=\"dataframe\">\n",
       "  <thead>\n",
       "    <tr style=\"text-align: right;\">\n",
       "      <th></th>\n",
       "      <th>text</th>\n",
       "      <th>lemm_text</th>\n",
       "    </tr>\n",
       "  </thead>\n",
       "  <tbody>\n",
       "    <tr>\n",
       "      <th>82956</th>\n",
       "      <td>Please do not vandalize pages as you did with ...</td>\n",
       "      <td>Please do not vandalize page a you did with th...</td>\n",
       "    </tr>\n",
       "    <tr>\n",
       "      <th>56103</th>\n",
       "      <td>Once again I ve translated via Google and had ...</td>\n",
       "      <td>Once again I ve translated via Google and had ...</td>\n",
       "    </tr>\n",
       "    <tr>\n",
       "      <th>105523</th>\n",
       "      <td>I just wanted to say your article sucks</td>\n",
       "      <td>I just wanted to say your article suck</td>\n",
       "    </tr>\n",
       "    <tr>\n",
       "      <th>39712</th>\n",
       "      <td>Trouted You have been trouted for Fuck you mot...</td>\n",
       "      <td>Trouted You have been trouted for Fuck you mot...</td>\n",
       "    </tr>\n",
       "    <tr>\n",
       "      <th>3621</th>\n",
       "      <td>Thanks I d seen the Lu s I pagemove request at...</td>\n",
       "      <td>Thanks I d seen the Lu s I pagemove request at...</td>\n",
       "    </tr>\n",
       "  </tbody>\n",
       "</table>\n",
       "</div>"
      ],
      "text/plain": [
       "                                                     text  \\\n",
       "82956   Please do not vandalize pages as you did with ...   \n",
       "56103   Once again I ve translated via Google and had ...   \n",
       "105523            I just wanted to say your article sucks   \n",
       "39712   Trouted You have been trouted for Fuck you mot...   \n",
       "3621    Thanks I d seen the Lu s I pagemove request at...   \n",
       "\n",
       "                                                lemm_text  \n",
       "82956   Please do not vandalize page a you did with th...  \n",
       "56103   Once again I ve translated via Google and had ...  \n",
       "105523             I just wanted to say your article suck  \n",
       "39712   Trouted You have been trouted for Fuck you mot...  \n",
       "3621    Thanks I d seen the Lu s I pagemove request at...  "
      ]
     },
     "metadata": {},
     "output_type": "display_data"
    },
    {
     "data": {
      "text/html": [
       "<div>\n",
       "<style scoped>\n",
       "    .dataframe tbody tr th:only-of-type {\n",
       "        vertical-align: middle;\n",
       "    }\n",
       "\n",
       "    .dataframe tbody tr th {\n",
       "        vertical-align: top;\n",
       "    }\n",
       "\n",
       "    .dataframe thead th {\n",
       "        text-align: right;\n",
       "    }\n",
       "</style>\n",
       "<table border=\"1\" class=\"dataframe\">\n",
       "  <thead>\n",
       "    <tr style=\"text-align: right;\">\n",
       "      <th></th>\n",
       "      <th>text</th>\n",
       "      <th>lemm_text</th>\n",
       "    </tr>\n",
       "  </thead>\n",
       "  <tbody>\n",
       "    <tr>\n",
       "      <th>110631</th>\n",
       "      <td>You really ought to read WP FAQ Business it s ...</td>\n",
       "      <td>You really ought to read WP FAQ Business it s ...</td>\n",
       "    </tr>\n",
       "    <tr>\n",
       "      <th>127210</th>\n",
       "      <td>Retroactive thinking What are having retroacti...</td>\n",
       "      <td>Retroactive thinking What are having retroacti...</td>\n",
       "    </tr>\n",
       "    <tr>\n",
       "      <th>7437</th>\n",
       "      <td>vindinctive Apparently you have not looked at ...</td>\n",
       "      <td>vindinctive Apparently you have not looked at ...</td>\n",
       "    </tr>\n",
       "    <tr>\n",
       "      <th>123241</th>\n",
       "      <td>sabotaging this article on the eternity clause...</td>\n",
       "      <td>sabotaging this article on the eternity clause...</td>\n",
       "    </tr>\n",
       "    <tr>\n",
       "      <th>157381</th>\n",
       "      <td>Excuse me who the fuck do you think you are de...</td>\n",
       "      <td>Excuse me who the fuck do you think you are de...</td>\n",
       "    </tr>\n",
       "  </tbody>\n",
       "</table>\n",
       "</div>"
      ],
      "text/plain": [
       "                                                     text  \\\n",
       "110631  You really ought to read WP FAQ Business it s ...   \n",
       "127210  Retroactive thinking What are having retroacti...   \n",
       "7437    vindinctive Apparently you have not looked at ...   \n",
       "123241  sabotaging this article on the eternity clause...   \n",
       "157381  Excuse me who the fuck do you think you are de...   \n",
       "\n",
       "                                                lemm_text  \n",
       "110631  You really ought to read WP FAQ Business it s ...  \n",
       "127210  Retroactive thinking What are having retroacti...  \n",
       "7437    vindinctive Apparently you have not looked at ...  \n",
       "123241  sabotaging this article on the eternity clause...  \n",
       "157381  Excuse me who the fuck do you think you are de...  "
      ]
     },
     "metadata": {},
     "output_type": "display_data"
    }
   ],
   "source": [
    "train_df, other_df = train_test_split(df, test_size=0.25, random_state=RANDOM_STATE)\n",
    "valid_df, test_df = train_test_split(other_df, test_size=0.5, random_state=RANDOM_STATE)\n",
    "\n",
    "features_train = train_df.drop(['toxic'], axis=1)\n",
    "features_valid = valid_df.drop(['toxic'], axis=1)\n",
    "features_test = test_df.drop(['toxic'], axis=1)\n",
    "\n",
    "display(features_train.head())\n",
    "display(features_valid.head())\n",
    "display(features_test.head())"
   ]
  },
  {
   "cell_type": "code",
   "execution_count": 11,
   "metadata": {},
   "outputs": [
    {
     "name": "stdout",
     "output_type": "stream",
     "text": [
      "111565    0\n",
      "8575      0\n",
      "153402    0\n",
      "65019     0\n",
      "155787    0\n",
      "Name: toxic, dtype: int64\n",
      "82956     0\n",
      "56103     0\n",
      "105523    1\n",
      "39712     1\n",
      "3621      0\n",
      "Name: toxic, dtype: int64\n",
      "110631    0\n",
      "127210    0\n",
      "7437      0\n",
      "123241    0\n",
      "157381    1\n",
      "Name: toxic, dtype: int64\n"
     ]
    }
   ],
   "source": [
    "target_train = train_df['toxic']\n",
    "target_valid = valid_df['toxic']\n",
    "target_test = test_df['toxic']\n",
    "\n",
    "print(target_train.head())\n",
    "print(target_valid.head())\n",
    "print(target_test.head())"
   ]
  },
  {
   "cell_type": "code",
   "execution_count": 12,
   "metadata": {},
   "outputs": [
    {
     "name": "stdout",
     "output_type": "stream",
     "text": [
      "  (0, 70552)\t0.17164141019015153\n",
      "  (0, 35705)\t0.17164141019015153\n",
      "  (0, 26110)\t0.09628922580242742\n",
      "  (0, 131328)\t0.1460118306101786\n",
      "  (0, 88154)\t0.06587833467946713\n",
      "  (0, 9939)\t0.15853465862316918\n",
      "  (0, 70271)\t0.1604930272468847\n",
      "  (0, 107255)\t0.05210639418651967\n",
      "  (0, 12863)\t0.06254639177669576\n",
      "  (0, 23804)\t0.06293492318825762\n",
      "  (0, 5935)\t0.06524593318376669\n",
      "  (0, 128265)\t0.07643185311733816\n",
      "  (0, 35714)\t0.1315417488194532\n",
      "  (0, 131327)\t0.13609695580142506\n",
      "  (0, 95184)\t0.0990454097706476\n",
      "  (0, 101992)\t0.10978840819340827\n",
      "  (0, 12779)\t0.0651035605844043\n",
      "  (0, 42318)\t0.138704909005662\n",
      "  (0, 134223)\t0.07301907974451072\n",
      "  (0, 36221)\t0.17164141019015153\n",
      "  (0, 35820)\t0.17164141019015153\n",
      "  (0, 18079)\t0.20781862445117458\n",
      "  (0, 66680)\t0.04756814474347022\n",
      "  (0, 135969)\t0.06245261657149667\n",
      "  (0, 68674)\t0.075766842401091\n",
      "  :\t:\n",
      "  (119677, 41881)\t0.2853392513138432\n",
      "  (119677, 132078)\t0.24060471490351415\n",
      "  (119677, 33349)\t0.12203640337051935\n",
      "  (119677, 90101)\t0.1118481938132253\n",
      "  (119677, 63839)\t0.15912788493428415\n",
      "  (119677, 1643)\t0.10641089807313235\n",
      "  (119677, 90075)\t0.15232166616395518\n",
      "  (119677, 29807)\t0.1184255264892662\n",
      "  (119677, 40079)\t0.09893955627930742\n",
      "  (119677, 45274)\t0.1264001633774691\n",
      "  (119677, 85295)\t0.09758839164637684\n",
      "  (119677, 27507)\t0.2115205402040884\n",
      "  (119677, 136159)\t0.24321503951918524\n",
      "  (119677, 48906)\t0.12121197923226619\n",
      "  (119677, 73150)\t0.1231904653423125\n",
      "  (119677, 30617)\t0.44411824587280285\n",
      "  (119677, 23961)\t0.07866571467364579\n",
      "  (119677, 33357)\t0.16334656803940256\n",
      "  (119677, 63827)\t0.13808451049275666\n",
      "  (119677, 119904)\t0.05586654450295283\n",
      "  (119677, 22835)\t0.1194541994289991\n",
      "  (119677, 135826)\t0.12605536614248058\n",
      "  (119677, 97820)\t0.26424866913900963\n",
      "  (119677, 7551)\t0.19906160209954993\n",
      "  (119677, 129365)\t0.07366637471176903\n",
      "  (0, 130057)\t0.26395876084734426\n",
      "  (0, 119918)\t0.5543153942514241\n",
      "  (0, 93433)\t0.14206393474893741\n",
      "  (0, 89082)\t0.12527886280720468\n",
      "  (0, 36863)\t0.1870838734563236\n",
      "  (0, 36835)\t0.1668092417130183\n",
      "  (0, 27572)\t0.5737009731142254\n",
      "  (0, 25660)\t0.22231358321176103\n",
      "  (0, 24454)\t0.32283697295283675\n",
      "  (0, 14331)\t0.20390614379880642\n",
      "  (1, 133913)\t0.08379366089256429\n",
      "  (1, 132294)\t0.041170779878574426\n",
      "  (1, 131080)\t0.09911692008684742\n",
      "  (1, 129343)\t0.06331170125874037\n",
      "  (1, 127307)\t0.12580479192786512\n",
      "  (1, 124770)\t0.20595370207483993\n",
      "  (1, 124764)\t0.11468886782912599\n",
      "  (1, 122387)\t0.059641322925051574\n",
      "  (1, 121313)\t0.07371519095763204\n",
      "  (1, 120744)\t0.11024198800061742\n",
      "  (1, 115729)\t0.150834730207601\n",
      "  (1, 114479)\t0.14468893797042717\n",
      "  (1, 114010)\t0.16240352630184143\n",
      "  (1, 113737)\t0.08613177003404252\n",
      "  (1, 108606)\t0.0788447804302243\n",
      "  :\t:\n",
      "  (19943, 80020)\t0.1168045454967334\n",
      "  (19943, 73068)\t0.1282628108681383\n",
      "  (19943, 71214)\t0.1196185544339662\n",
      "  (19943, 71199)\t0.11376847924016559\n",
      "  (19943, 61471)\t0.07814714951391519\n",
      "  (19943, 43830)\t0.2017416757695972\n",
      "  (19943, 39056)\t0.10255120170639119\n",
      "  (19943, 37135)\t0.10460384060314223\n",
      "  (19943, 25269)\t0.09119366784825428\n",
      "  (19943, 22719)\t0.2833145570027795\n",
      "  (19943, 20484)\t0.2304443806432134\n",
      "  (19943, 18814)\t0.18745695354923655\n",
      "  (19943, 15991)\t0.1154983829239556\n",
      "  (19943, 14322)\t0.08334068810417009\n",
      "  (19943, 8006)\t0.09976958571672791\n",
      "  (19943, 1230)\t0.08086697961343287\n",
      "  (19944, 87940)\t0.5161440740111227\n",
      "  (19944, 71714)\t0.32130532247371946\n",
      "  (19944, 68099)\t0.4949102322568438\n",
      "  (19944, 31097)\t0.41465141281585527\n",
      "  (19944, 13486)\t0.4620457255191869\n",
      "  (19945, 121736)\t0.42318148658950877\n",
      "  (19945, 119671)\t0.5236655702376636\n",
      "  (19945, 101966)\t0.47161970925347113\n",
      "  (19945, 5580)\t0.5694441586312284\n",
      "  (0, 136425)\t0.14311015695307103\n",
      "  (0, 136229)\t0.11130156130683945\n",
      "  (0, 134030)\t0.13572222754631938\n",
      "  (0, 132820)\t0.19685281271839458\n",
      "  (0, 132294)\t0.1449775243919021\n",
      "  (0, 129401)\t0.15932686575668184\n",
      "  (0, 129343)\t0.11147194370136952\n",
      "  (0, 117221)\t0.12624631932581157\n",
      "  (0, 104560)\t0.2056649995468012\n",
      "  (0, 102487)\t0.12980892342688505\n",
      "  (0, 101325)\t0.20278150378779067\n",
      "  (0, 101252)\t0.17346386189074658\n",
      "  (0, 100759)\t0.30771147628555245\n",
      "  (0, 100117)\t0.10901267233595932\n",
      "  (0, 100008)\t0.11053805473239173\n",
      "  (0, 98473)\t0.1102193400292812\n",
      "  (0, 93433)\t0.08086912378563195\n",
      "  (0, 91661)\t0.11873437296344798\n",
      "  (0, 91513)\t0.20456679896970156\n",
      "  (0, 91214)\t0.09489230930357008\n",
      "  (0, 88248)\t0.1921818334161691\n",
      "  (0, 86928)\t0.16231609421532853\n",
      "  (0, 83050)\t0.1086386574960664\n",
      "  (0, 82429)\t0.09865646059193395\n",
      "  (0, 81497)\t0.10675732426176225\n",
      "  :\t:\n",
      "  (19945, 87392)\t0.37100872714006056\n",
      "  (19945, 83418)\t0.21231344353488243\n",
      "  (19945, 69540)\t0.38011829837474864\n",
      "  (19945, 61471)\t0.16627835220642584\n",
      "  (19945, 40592)\t0.18720475327070005\n",
      "  (19945, 36835)\t0.13604804646449917\n",
      "  (19945, 3852)\t0.2221052627763449\n",
      "  (19945, 1409)\t0.2590305289485471\n",
      "  (19945, 1230)\t0.1720654969716832\n",
      "  (19946, 136229)\t0.17370746781323204\n",
      "  (19946, 128565)\t0.321230336042648\n",
      "  (19946, 107255)\t0.1547286243971363\n",
      "  (19946, 103209)\t0.2127682071331078\n",
      "  (19946, 101966)\t0.1838971824063692\n",
      "  (19946, 99987)\t0.2790691223107854\n",
      "  (19946, 84084)\t0.25816114793619394\n",
      "  (19946, 80849)\t0.1999226382641655\n",
      "  (19946, 76340)\t0.21767590506250423\n",
      "  (19946, 68057)\t0.24400772911762134\n",
      "  (19946, 36914)\t0.17273628615598038\n",
      "  (19946, 33070)\t0.33045793830644493\n",
      "  (19946, 31448)\t0.25317087577713665\n",
      "  (19946, 25203)\t0.41780311738224546\n",
      "  (19946, 22377)\t0.19607048120584247\n",
      "  (19946, 22197)\t0.23674907696509173\n"
     ]
    }
   ],
   "source": [
    "# Добавим в данные признак tf idf\n",
    "count_tf_idf = TfidfVectorizer(stop_words=stopwords)\n",
    "\n",
    "tf_idf_train = count_tf_idf.fit_transform(features_train['lemm_text'])\n",
    "tf_idf_valid = count_tf_idf.transform(features_valid['lemm_text'])\n",
    "tf_idf_test = count_tf_idf.transform(features_test['lemm_text'])\n",
    "\n",
    "print(tf_idf_train)\n",
    "print(tf_idf_valid)\n",
    "print(tf_idf_test)"
   ]
  },
  {
   "cell_type": "markdown",
   "metadata": {},
   "source": [
    "<div class=\"alert alert-block alert-info\">\n",
    "Векторизатор обучаем только после разбиения выборки на части. При этом он должен быть обучен только на тренировочной части данных.\n",
    "</div>"
   ]
  },
  {
   "cell_type": "markdown",
   "metadata": {},
   "source": [
    "1. Очистили тексты выборки от посторонних символов, провели лемматизацию.\n",
    "2. Преобразовали тексты в вектора с помощью модели TF-IDF (оценки важности слов).\n",
    "2. Классы в выборке не сбалансированы. При обучении моделей сбалансируем классы."
   ]
  },
  {
   "cell_type": "markdown",
   "metadata": {},
   "source": [
    "## Обучение"
   ]
  },
  {
   "cell_type": "markdown",
   "metadata": {},
   "source": [
    "### Логистическая регрессия"
   ]
  },
  {
   "cell_type": "code",
   "execution_count": 13,
   "metadata": {},
   "outputs": [
    {
     "name": "stdout",
     "output_type": "stream",
     "text": [
      "F1 наилучшей модели 'Логистическая регрессия' на валидационной выборке: 0.7477516059957172\n"
     ]
    }
   ],
   "source": [
    "model_lg = LogisticRegression(random_state=RANDOM_STATE, class_weight='balanced', solver='lbfgs', max_iter=1000)\n",
    "model_lg.fit(tf_idf_train, target_train)\n",
    "\n",
    "pred_valid = model_lg.predict(tf_idf_valid)\n",
    "f1_valid = f1_score(target_valid, pred_valid)\n",
    "\n",
    "print(\"F1 наилучшей модели 'Логистическая регрессия' на валидационной выборке:\", f1_valid)\n"
   ]
  },
  {
   "cell_type": "markdown",
   "metadata": {},
   "source": [
    "### Градиентный бустинг"
   ]
  },
  {
   "cell_type": "code",
   "execution_count": 14,
   "metadata": {},
   "outputs": [
    {
     "name": "stdout",
     "output_type": "stream",
     "text": [
      "0:\tlearn: 0.6520324\ttotal: 3.07s\tremaining: 2m 30s\n",
      "1:\tlearn: 0.6215697\ttotal: 5.33s\tremaining: 2m 7s\n",
      "2:\tlearn: 0.5974717\ttotal: 7.57s\tremaining: 1m 58s\n",
      "3:\tlearn: 0.5849294\ttotal: 9.84s\tremaining: 1m 53s\n",
      "4:\tlearn: 0.5704476\ttotal: 12.2s\tremaining: 1m 49s\n",
      "5:\tlearn: 0.5587096\ttotal: 14.4s\tremaining: 1m 45s\n",
      "6:\tlearn: 0.5497374\ttotal: 16.6s\tremaining: 1m 42s\n",
      "7:\tlearn: 0.5422540\ttotal: 18.9s\tremaining: 1m 39s\n",
      "8:\tlearn: 0.5331295\ttotal: 21.1s\tremaining: 1m 35s\n",
      "9:\tlearn: 0.5260133\ttotal: 23.3s\tremaining: 1m 33s\n",
      "10:\tlearn: 0.5212618\ttotal: 25.5s\tremaining: 1m 30s\n",
      "11:\tlearn: 0.5136164\ttotal: 27.7s\tremaining: 1m 27s\n",
      "12:\tlearn: 0.5068651\ttotal: 29.9s\tremaining: 1m 24s\n",
      "13:\tlearn: 0.5027035\ttotal: 32.2s\tremaining: 1m 22s\n",
      "14:\tlearn: 0.4986257\ttotal: 34.3s\tremaining: 1m 19s\n",
      "15:\tlearn: 0.4946007\ttotal: 36.4s\tremaining: 1m 17s\n",
      "16:\tlearn: 0.4903612\ttotal: 38.6s\tremaining: 1m 14s\n",
      "17:\tlearn: 0.4865575\ttotal: 40.5s\tremaining: 1m 12s\n",
      "18:\tlearn: 0.4807599\ttotal: 42.8s\tremaining: 1m 9s\n",
      "19:\tlearn: 0.4779761\ttotal: 44.9s\tremaining: 1m 7s\n",
      "20:\tlearn: 0.4755287\ttotal: 47.1s\tremaining: 1m 5s\n",
      "21:\tlearn: 0.4722036\ttotal: 49.3s\tremaining: 1m 2s\n",
      "22:\tlearn: 0.4685809\ttotal: 51.5s\tremaining: 1m\n",
      "23:\tlearn: 0.4659646\ttotal: 53.7s\tremaining: 58.2s\n",
      "24:\tlearn: 0.4639011\ttotal: 56s\tremaining: 56s\n",
      "25:\tlearn: 0.4613265\ttotal: 58.2s\tremaining: 53.7s\n",
      "26:\tlearn: 0.4578542\ttotal: 1m\tremaining: 51.5s\n",
      "27:\tlearn: 0.4554221\ttotal: 1m 2s\tremaining: 49.2s\n",
      "28:\tlearn: 0.4528187\ttotal: 1m 4s\tremaining: 46.9s\n",
      "29:\tlearn: 0.4509435\ttotal: 1m 6s\tremaining: 44.7s\n",
      "30:\tlearn: 0.4480566\ttotal: 1m 9s\tremaining: 42.4s\n",
      "31:\tlearn: 0.4463475\ttotal: 1m 11s\tremaining: 40.1s\n",
      "32:\tlearn: 0.4444063\ttotal: 1m 13s\tremaining: 37.9s\n",
      "33:\tlearn: 0.4424440\ttotal: 1m 15s\tremaining: 35.6s\n",
      "34:\tlearn: 0.4405709\ttotal: 1m 17s\tremaining: 33.3s\n",
      "35:\tlearn: 0.4385721\ttotal: 1m 19s\tremaining: 31s\n",
      "36:\tlearn: 0.4373487\ttotal: 1m 22s\tremaining: 28.8s\n",
      "37:\tlearn: 0.4358710\ttotal: 1m 24s\tremaining: 26.6s\n",
      "38:\tlearn: 0.4336341\ttotal: 1m 26s\tremaining: 24.4s\n",
      "39:\tlearn: 0.4322312\ttotal: 1m 28s\tremaining: 22.1s\n",
      "40:\tlearn: 0.4303741\ttotal: 1m 30s\tremaining: 19.9s\n",
      "41:\tlearn: 0.4293284\ttotal: 1m 32s\tremaining: 17.7s\n",
      "42:\tlearn: 0.4273953\ttotal: 1m 35s\tremaining: 15.5s\n",
      "43:\tlearn: 0.4256138\ttotal: 1m 37s\tremaining: 13.2s\n",
      "44:\tlearn: 0.4238660\ttotal: 1m 39s\tremaining: 11s\n",
      "45:\tlearn: 0.4225020\ttotal: 1m 41s\tremaining: 8.81s\n",
      "46:\tlearn: 0.4214734\ttotal: 1m 43s\tremaining: 6.6s\n",
      "47:\tlearn: 0.4202367\ttotal: 1m 45s\tremaining: 4.4s\n",
      "48:\tlearn: 0.4193511\ttotal: 1m 47s\tremaining: 2.2s\n",
      "49:\tlearn: 0.4180048\ttotal: 1m 49s\tremaining: 0us\n",
      "F1 наилучшей модели 'Градиентный бустинг' на валидационной выборке 0.6797793235787958\n"
     ]
    }
   ],
   "source": [
    "cat = CatBoostClassifier(random_state=RANDOM_STATE, learning_rate=0.1, auto_class_weights='Balanced', iterations=50)\n",
    "cat.fit(tf_idf_train, target_train)\n",
    "\n",
    "pred_valid = cat.predict(tf_idf_valid)\n",
    "f1_valid = f1_score(target_valid, pred_valid)\n",
    "\n",
    "print(\"F1 наилучшей модели 'Градиентный бустинг' на валидационной выборке\", f1_valid)\n"
   ]
  },
  {
   "cell_type": "code",
   "execution_count": 15,
   "metadata": {},
   "outputs": [
    {
     "name": "stdout",
     "output_type": "stream",
     "text": [
      "{'nan_mode': 'Min', 'eval_metric': 'Logloss', 'iterations': 50, 'sampling_frequency': 'PerTree', 'leaf_estimation_method': 'Newton', 'grow_policy': 'SymmetricTree', 'penalties_coefficient': 1, 'boosting_type': 'Plain', 'model_shrink_mode': 'Constant', 'feature_border_type': 'GreedyLogSum', 'bayesian_matrix_reg': 0.10000000149011612, 'force_unit_auto_pair_weights': False, 'l2_leaf_reg': 3, 'random_strength': 1, 'rsm': 1, 'boost_from_average': False, 'model_size_reg': 0.5, 'pool_metainfo_options': {'tags': {}}, 'subsample': 0.800000011920929, 'use_best_model': False, 'class_names': [0, 1], 'random_seed': 12345, 'depth': 6, 'posterior_sampling': False, 'border_count': 254, 'class_weights': [1, 8.859779357910156], 'classes_count': 0, 'auto_class_weights': 'Balanced', 'sparse_features_conflict_fraction': 0, 'leaf_estimation_backtracking': 'AnyImprovement', 'best_model_min_trees': 1, 'model_shrink_rate': 0, 'min_data_in_leaf': 1, 'loss_function': 'Logloss', 'learning_rate': 0.10000000149011612, 'score_function': 'Cosine', 'task_type': 'CPU', 'leaf_estimation_iterations': 10, 'bootstrap_type': 'MVS', 'max_leaves': 64}\n"
     ]
    }
   ],
   "source": [
    "print(cat.get_all_params())"
   ]
  },
  {
   "cell_type": "markdown",
   "metadata": {},
   "source": [
    "### Решающее дерево"
   ]
  },
  {
   "cell_type": "code",
   "execution_count": 16,
   "metadata": {},
   "outputs": [
    {
     "name": "stdout",
     "output_type": "stream",
     "text": [
      "F1 наилучшей модели 'Дерево решений' на валидационной выборке: 0.5253893026404874 Глубина дерева: 8\n"
     ]
    }
   ],
   "source": [
    "best_model_tree = None\n",
    "best_f1_valid = 0\n",
    "best_depth_tree = 0\n",
    "\n",
    "for depth in range(1, 10):\n",
    "    model_tree = DecisionTreeClassifier(random_state=RANDOM_STATE, max_depth=depth, class_weight='balanced')\n",
    "    model_tree.fit(tf_idf_train, target_train)\n",
    "    \n",
    "    pred_valid = model_tree.predict(tf_idf_valid)\n",
    "    f1_valid = f1_score(target_valid, pred_valid)\n",
    "\n",
    "    if f1_valid > best_f1_valid:\n",
    "        best_model_tree = model_tree\n",
    "        best_f1_valid = f1_valid\n",
    "        best_depth_tree = depth\n",
    "        \n",
    "print(\"F1 наилучшей модели 'Дерево решений' на валидационной выборке:\", best_f1_valid, \"Глубина дерева:\", best_depth_tree)\n"
   ]
  },
  {
   "cell_type": "markdown",
   "metadata": {},
   "source": [
    "### Случайный лес"
   ]
  },
  {
   "cell_type": "code",
   "execution_count": 17,
   "metadata": {},
   "outputs": [
    {
     "name": "stdout",
     "output_type": "stream",
     "text": [
      "{'class_weight': 'balanced', 'max_depth': 74, 'n_estimators': 19, 'random_state': 12345}\n"
     ]
    }
   ],
   "source": [
    "model_forest = RandomForestClassifier()\n",
    "params = {\n",
    "    'max_depth': [randint(1, 100)],\n",
    "    'n_estimators': [randint(1, 100)],\n",
    "    'random_state': [RANDOM_STATE],\n",
    "    'class_weight': ['balanced']\n",
    "}\n",
    "\n",
    "grid = GridSearchCV(model_forest, params, scoring='f1')\n",
    "grid.fit(tf_idf_train, target_train)\n",
    "print(grid.best_params_)"
   ]
  },
  {
   "cell_type": "code",
   "execution_count": 18,
   "metadata": {},
   "outputs": [],
   "source": [
    "def search_forest(depth, est):\n",
    "    model_forest = RandomForestClassifier(max_depth=depth, n_estimators=est, random_state=RANDOM_STATE, class_weight='balanced')\n",
    "    model_forest.fit(tf_idf_train, target_train)\n",
    "\n",
    "    pred_valid = model_forest.predict(tf_idf_valid)\n",
    "    f1_valid = f1_score(target_valid, pred_valid)\n",
    "    \n",
    "    print(\"F1 наилучшей модели 'Случайный лес' на валидационной выборке\", f1_valid)\n",
    "    "
   ]
  },
  {
   "cell_type": "code",
   "execution_count": 19,
   "metadata": {},
   "outputs": [
    {
     "name": "stdout",
     "output_type": "stream",
     "text": [
      "F1 наилучшей модели 'Случайный лес' на валидационной выборке 0.46526036288538125\n"
     ]
    }
   ],
   "source": [
    "search_forest(48, 82)"
   ]
  },
  {
   "cell_type": "markdown",
   "metadata": {},
   "source": [
    "### Проверка на тестовой выборке"
   ]
  },
  {
   "cell_type": "code",
   "execution_count": 20,
   "metadata": {},
   "outputs": [
    {
     "name": "stdout",
     "output_type": "stream",
     "text": [
      "F1 наилучшей модели 'Логистическая регрессия' на тестовой выборке: 0.7544238239102288\n"
     ]
    }
   ],
   "source": [
    "pred_test = model_lg.predict(tf_idf_test)\n",
    "f1_test = f1_score(target_test, pred_test)\n",
    "\n",
    "print(\"F1 наилучшей модели 'Логистическая регрессия' на тестовой выборке:\", f1_test)"
   ]
  },
  {
   "cell_type": "markdown",
   "metadata": {},
   "source": [
    "## Выводы"
   ]
  },
  {
   "cell_type": "markdown",
   "metadata": {},
   "source": [
    "Лучшей моделью оказалась Логистическая регрессия (значение метрики `f1` на тестовой выборке равно 0.7544)."
   ]
  }
 ],
 "metadata": {
  "ExecuteTimeLog": [
   {
    "duration": 357,
    "start_time": "2022-07-29T19:18:46.690Z"
   },
   {
    "duration": 2539,
    "start_time": "2022-07-29T19:18:47.049Z"
   },
   {
    "duration": 396,
    "start_time": "2022-07-29T19:19:12.475Z"
   },
   {
    "duration": 913,
    "start_time": "2022-07-29T19:19:12.873Z"
   },
   {
    "duration": 67,
    "start_time": "2022-07-31T12:05:16.385Z"
   },
   {
    "duration": 461,
    "start_time": "2022-07-31T12:05:22.424Z"
   },
   {
    "duration": 3675,
    "start_time": "2022-07-31T12:05:22.887Z"
   },
   {
    "duration": 30,
    "start_time": "2022-07-31T12:05:26.564Z"
   },
   {
    "duration": 54,
    "start_time": "2022-07-31T12:05:49.078Z"
   },
   {
    "duration": 36,
    "start_time": "2022-07-31T12:08:56.275Z"
   },
   {
    "duration": 4,
    "start_time": "2022-07-31T21:07:21.028Z"
   },
   {
    "duration": 801,
    "start_time": "2022-07-31T21:07:21.034Z"
   },
   {
    "duration": 55,
    "start_time": "2022-07-31T21:07:21.837Z"
   },
   {
    "duration": 3,
    "start_time": "2022-07-31T21:23:22.404Z"
   },
   {
    "duration": 32,
    "start_time": "2022-07-31T21:23:49.391Z"
   },
   {
    "duration": 5,
    "start_time": "2022-07-31T21:24:14.047Z"
   },
   {
    "duration": 290,
    "start_time": "2022-07-31T21:24:45.364Z"
   },
   {
    "duration": 49,
    "start_time": "2022-07-31T21:24:48.062Z"
   },
   {
    "duration": 33,
    "start_time": "2022-07-31T21:25:33.697Z"
   },
   {
    "duration": 22,
    "start_time": "2022-07-31T21:29:52.001Z"
   },
   {
    "duration": 216,
    "start_time": "2022-07-31T21:35:09.241Z"
   },
   {
    "duration": 34,
    "start_time": "2022-07-31T21:37:05.099Z"
   },
   {
    "duration": 321,
    "start_time": "2022-07-31T21:42:28.999Z"
   },
   {
    "duration": 320,
    "start_time": "2022-07-31T21:43:06.816Z"
   },
   {
    "duration": 37,
    "start_time": "2022-07-31T21:45:22.340Z"
   },
   {
    "duration": 16,
    "start_time": "2022-07-31T21:45:26.443Z"
   },
   {
    "duration": 18,
    "start_time": "2022-07-31T21:45:26.812Z"
   },
   {
    "duration": 749,
    "start_time": "2022-07-31T21:45:28.469Z"
   },
   {
    "duration": 16,
    "start_time": "2022-07-31T21:45:30.156Z"
   },
   {
    "duration": 3,
    "start_time": "2022-07-31T21:45:52.105Z"
   },
   {
    "duration": 20,
    "start_time": "2022-07-31T21:45:53.869Z"
   },
   {
    "duration": 761,
    "start_time": "2022-07-31T21:45:54.099Z"
   },
   {
    "duration": 4,
    "start_time": "2022-07-31T21:46:06.014Z"
   },
   {
    "duration": 780,
    "start_time": "2022-07-31T21:46:14.410Z"
   },
   {
    "duration": 8221,
    "start_time": "2022-07-31T21:46:19.491Z"
   },
   {
    "duration": 25,
    "start_time": "2022-07-31T21:51:26.601Z"
   },
   {
    "duration": 22,
    "start_time": "2022-07-31T21:51:26.898Z"
   },
   {
    "duration": 3,
    "start_time": "2022-07-31T21:51:31.750Z"
   },
   {
    "duration": 8598,
    "start_time": "2022-07-31T21:51:35.962Z"
   },
   {
    "duration": 8056,
    "start_time": "2022-07-31T21:52:40.396Z"
   },
   {
    "duration": 8366,
    "start_time": "2022-07-31T21:53:02.485Z"
   },
   {
    "duration": 4,
    "start_time": "2022-07-31T21:53:11.696Z"
   },
   {
    "duration": 59434,
    "start_time": "2022-08-01T16:18:48.337Z"
   },
   {
    "duration": 58300,
    "start_time": "2022-08-01T16:29:31.880Z"
   },
   {
    "duration": 6,
    "start_time": "2022-08-01T16:30:30.182Z"
   },
   {
    "duration": 2488,
    "start_time": "2022-08-01T16:30:30.189Z"
   },
   {
    "duration": 19,
    "start_time": "2022-08-01T16:30:32.679Z"
   },
   {
    "duration": 294,
    "start_time": "2022-08-01T16:30:32.700Z"
   },
   {
    "duration": 0,
    "start_time": "2022-08-01T16:30:32.996Z"
   },
   {
    "duration": 0,
    "start_time": "2022-08-01T16:30:32.997Z"
   },
   {
    "duration": 0,
    "start_time": "2022-08-01T16:30:32.998Z"
   },
   {
    "duration": 18,
    "start_time": "2022-08-01T16:31:26.852Z"
   },
   {
    "duration": 18,
    "start_time": "2022-08-01T16:31:29.280Z"
   },
   {
    "duration": 25,
    "start_time": "2022-08-01T16:32:01.393Z"
   },
   {
    "duration": 18,
    "start_time": "2022-08-01T16:34:21.356Z"
   },
   {
    "duration": 16,
    "start_time": "2022-08-01T16:34:41.776Z"
   },
   {
    "duration": 17,
    "start_time": "2022-08-01T16:34:53.695Z"
   },
   {
    "duration": 18,
    "start_time": "2022-08-01T16:35:07.225Z"
   },
   {
    "duration": 21507,
    "start_time": "2022-08-01T16:35:42.986Z"
   },
   {
    "duration": 17,
    "start_time": "2022-08-01T16:36:26.973Z"
   },
   {
    "duration": 4,
    "start_time": "2022-08-01T16:36:38.729Z"
   },
   {
    "duration": 3167,
    "start_time": "2022-08-01T16:36:52.062Z"
   },
   {
    "duration": 4928,
    "start_time": "2022-08-01T16:41:56.668Z"
   },
   {
    "duration": 6489,
    "start_time": "2022-08-01T16:42:47.092Z"
   },
   {
    "duration": 6471,
    "start_time": "2022-08-01T16:43:02.830Z"
   },
   {
    "duration": 6661,
    "start_time": "2022-08-01T16:43:51.837Z"
   },
   {
    "duration": 5190,
    "start_time": "2022-08-01T16:49:14.177Z"
   },
   {
    "duration": 5475,
    "start_time": "2022-08-01T16:50:55.015Z"
   },
   {
    "duration": 60261,
    "start_time": "2022-08-01T17:11:11.278Z"
   },
   {
    "duration": 4,
    "start_time": "2022-08-01T17:12:11.541Z"
   },
   {
    "duration": 847,
    "start_time": "2022-08-01T17:12:11.547Z"
   },
   {
    "duration": 28,
    "start_time": "2022-08-01T17:12:12.396Z"
   },
   {
    "duration": 5193,
    "start_time": "2022-08-01T17:12:12.426Z"
   },
   {
    "duration": 6665,
    "start_time": "2022-08-01T17:12:17.623Z"
   },
   {
    "duration": 5,
    "start_time": "2022-08-01T17:16:29.465Z"
   },
   {
    "duration": 58200,
    "start_time": "2022-08-01T17:17:58.309Z"
   },
   {
    "duration": 4,
    "start_time": "2022-08-01T17:18:56.511Z"
   },
   {
    "duration": 911,
    "start_time": "2022-08-01T17:18:56.524Z"
   },
   {
    "duration": 22,
    "start_time": "2022-08-01T17:18:57.436Z"
   },
   {
    "duration": 5207,
    "start_time": "2022-08-01T17:18:57.460Z"
   },
   {
    "duration": 65977,
    "start_time": "2022-08-01T17:19:02.669Z"
   },
   {
    "duration": 327,
    "start_time": "2022-08-01T17:20:08.649Z"
   },
   {
    "duration": 4,
    "start_time": "2022-08-01T17:20:26.616Z"
   },
   {
    "duration": 3,
    "start_time": "2022-08-01T17:22:12.967Z"
   },
   {
    "duration": 21,
    "start_time": "2022-08-01T17:24:24.068Z"
   },
   {
    "duration": 258,
    "start_time": "2022-08-01T17:26:00.802Z"
   },
   {
    "duration": 52953,
    "start_time": "2022-08-01T17:26:11.898Z"
   },
   {
    "duration": 4,
    "start_time": "2022-08-01T17:27:04.853Z"
   },
   {
    "duration": 885,
    "start_time": "2022-08-01T17:27:04.859Z"
   },
   {
    "duration": 22,
    "start_time": "2022-08-01T17:27:05.746Z"
   },
   {
    "duration": 5207,
    "start_time": "2022-08-01T17:27:05.770Z"
   },
   {
    "duration": 67377,
    "start_time": "2022-08-01T17:27:10.978Z"
   },
   {
    "duration": 6544,
    "start_time": "2022-08-01T17:28:18.357Z"
   },
   {
    "duration": 7251,
    "start_time": "2022-08-01T17:28:31.972Z"
   },
   {
    "duration": 53274,
    "start_time": "2022-08-01T17:44:02.389Z"
   },
   {
    "duration": 5,
    "start_time": "2022-08-01T17:44:55.665Z"
   },
   {
    "duration": 2392,
    "start_time": "2022-08-01T17:44:55.672Z"
   },
   {
    "duration": 21,
    "start_time": "2022-08-01T17:44:58.066Z"
   },
   {
    "duration": 5313,
    "start_time": "2022-08-01T17:44:58.090Z"
   },
   {
    "duration": 72316,
    "start_time": "2022-08-01T17:45:03.404Z"
   },
   {
    "duration": 550,
    "start_time": "2022-08-01T17:46:15.724Z"
   },
   {
    "duration": 242,
    "start_time": "2022-08-01T18:11:13.608Z"
   },
   {
    "duration": 348,
    "start_time": "2022-08-01T18:11:58.312Z"
   },
   {
    "duration": 54,
    "start_time": "2022-08-01T18:12:31.944Z"
   },
   {
    "duration": 49,
    "start_time": "2022-08-01T18:12:41.569Z"
   },
   {
    "duration": 20969,
    "start_time": "2022-08-01T18:12:55.757Z"
   },
   {
    "duration": 6728,
    "start_time": "2022-08-01T18:14:08.397Z"
   },
   {
    "duration": 6681,
    "start_time": "2022-08-01T18:14:26.483Z"
   },
   {
    "duration": 6812,
    "start_time": "2022-08-01T18:14:46.313Z"
   },
   {
    "duration": 6851,
    "start_time": "2022-08-01T18:15:04.623Z"
   },
   {
    "duration": 7112,
    "start_time": "2022-08-01T18:15:16.058Z"
   },
   {
    "duration": 66,
    "start_time": "2022-08-01T18:15:40.312Z"
   },
   {
    "duration": 6816,
    "start_time": "2022-08-01T18:15:50.142Z"
   },
   {
    "duration": 7121,
    "start_time": "2022-08-01T18:26:20.789Z"
   },
   {
    "duration": 7154,
    "start_time": "2022-08-01T18:27:43.130Z"
   },
   {
    "duration": 6866,
    "start_time": "2022-08-01T18:28:02.420Z"
   },
   {
    "duration": 6581,
    "start_time": "2022-08-01T18:28:37.306Z"
   },
   {
    "duration": 6876,
    "start_time": "2022-08-01T20:09:46.864Z"
   },
   {
    "duration": 6614,
    "start_time": "2022-08-01T20:10:48.680Z"
   },
   {
    "duration": 4,
    "start_time": "2022-08-01T20:10:55.296Z"
   },
   {
    "duration": 48,
    "start_time": "2022-08-01T20:14:08.475Z"
   },
   {
    "duration": 68,
    "start_time": "2022-08-01T20:14:46.799Z"
   },
   {
    "duration": 6819,
    "start_time": "2022-08-01T20:14:57.282Z"
   },
   {
    "duration": 6622,
    "start_time": "2022-08-01T20:29:16.273Z"
   },
   {
    "duration": 6702,
    "start_time": "2022-08-01T20:29:35.662Z"
   },
   {
    "duration": 6726,
    "start_time": "2022-08-01T20:29:53.216Z"
   },
   {
    "duration": 3,
    "start_time": "2022-08-01T20:32:39.949Z"
   },
   {
    "duration": 44,
    "start_time": "2022-08-01T20:35:58.920Z"
   },
   {
    "duration": 42,
    "start_time": "2022-08-01T20:36:25.346Z"
   },
   {
    "duration": 43,
    "start_time": "2022-08-01T20:37:11.621Z"
   },
   {
    "duration": 26,
    "start_time": "2022-08-01T20:39:59.812Z"
   },
   {
    "duration": 16,
    "start_time": "2022-08-01T20:40:46.071Z"
   },
   {
    "duration": 30,
    "start_time": "2022-08-01T20:40:53.179Z"
   },
   {
    "duration": 102,
    "start_time": "2022-08-01T20:45:25.431Z"
   },
   {
    "duration": 68,
    "start_time": "2022-08-01T20:45:35.059Z"
   },
   {
    "duration": 99,
    "start_time": "2022-08-01T20:47:11.539Z"
   },
   {
    "duration": 81,
    "start_time": "2022-08-01T20:48:02.935Z"
   },
   {
    "duration": 19,
    "start_time": "2022-08-01T20:48:31.164Z"
   },
   {
    "duration": 7,
    "start_time": "2022-08-01T20:48:40.090Z"
   },
   {
    "duration": 28,
    "start_time": "2022-08-01T20:49:53.214Z"
   },
   {
    "duration": 676,
    "start_time": "2022-08-01T20:52:33.970Z"
   },
   {
    "duration": 23,
    "start_time": "2022-08-01T20:54:00.295Z"
   },
   {
    "duration": 78,
    "start_time": "2022-08-01T20:54:33.092Z"
   },
   {
    "duration": 7,
    "start_time": "2022-08-01T20:54:33.915Z"
   },
   {
    "duration": 55,
    "start_time": "2022-08-01T20:54:38.858Z"
   },
   {
    "duration": 4767,
    "start_time": "2022-08-01T20:55:09.093Z"
   },
   {
    "duration": 66908,
    "start_time": "2022-08-01T20:56:37.116Z"
   },
   {
    "duration": 127,
    "start_time": "2022-08-01T20:57:44.026Z"
   },
   {
    "duration": 2138,
    "start_time": "2022-08-01T20:57:44.155Z"
   },
   {
    "duration": 43,
    "start_time": "2022-08-01T20:57:46.295Z"
   },
   {
    "duration": 4302,
    "start_time": "2022-08-01T20:59:23.640Z"
   },
   {
    "duration": 460,
    "start_time": "2022-08-01T20:59:40.881Z"
   },
   {
    "duration": 6162,
    "start_time": "2022-08-01T20:59:53.032Z"
   },
   {
    "duration": 5995,
    "start_time": "2022-08-01T21:00:04.672Z"
   },
   {
    "duration": 673,
    "start_time": "2022-08-01T21:00:12.650Z"
   },
   {
    "duration": 22,
    "start_time": "2022-08-01T21:01:12.317Z"
   },
   {
    "duration": 16,
    "start_time": "2022-08-01T21:01:17.015Z"
   },
   {
    "duration": 7,
    "start_time": "2022-08-01T21:01:42.665Z"
   },
   {
    "duration": 30,
    "start_time": "2022-08-01T21:01:45.860Z"
   },
   {
    "duration": 15,
    "start_time": "2022-08-01T21:01:50.532Z"
   },
   {
    "duration": 59416,
    "start_time": "2022-08-01T21:01:59.423Z"
   },
   {
    "duration": 4,
    "start_time": "2022-08-01T21:02:58.842Z"
   },
   {
    "duration": 9,
    "start_time": "2022-08-01T21:02:58.848Z"
   },
   {
    "duration": 1007,
    "start_time": "2022-08-01T21:02:58.859Z"
   },
   {
    "duration": 329,
    "start_time": "2022-08-01T21:02:59.868Z"
   },
   {
    "duration": 0,
    "start_time": "2022-08-01T21:03:00.199Z"
   },
   {
    "duration": 0,
    "start_time": "2022-08-01T21:03:00.200Z"
   },
   {
    "duration": 0,
    "start_time": "2022-08-01T21:03:00.201Z"
   },
   {
    "duration": 0,
    "start_time": "2022-08-01T21:03:00.202Z"
   },
   {
    "duration": 0,
    "start_time": "2022-08-01T21:03:00.204Z"
   },
   {
    "duration": 0,
    "start_time": "2022-08-01T21:03:00.205Z"
   },
   {
    "duration": 0,
    "start_time": "2022-08-01T21:03:00.206Z"
   },
   {
    "duration": 0,
    "start_time": "2022-08-01T21:03:00.224Z"
   },
   {
    "duration": 0,
    "start_time": "2022-08-01T21:03:00.225Z"
   },
   {
    "duration": 17,
    "start_time": "2022-08-01T21:08:38.875Z"
   },
   {
    "duration": 16,
    "start_time": "2022-08-01T21:08:45.275Z"
   },
   {
    "duration": 16,
    "start_time": "2022-08-01T21:08:45.415Z"
   },
   {
    "duration": 55026,
    "start_time": "2022-08-01T21:10:38.376Z"
   },
   {
    "duration": 3,
    "start_time": "2022-08-01T21:11:33.404Z"
   },
   {
    "duration": 17,
    "start_time": "2022-08-01T21:11:33.408Z"
   },
   {
    "duration": 797,
    "start_time": "2022-08-01T21:11:33.427Z"
   },
   {
    "duration": 291,
    "start_time": "2022-08-01T21:11:34.225Z"
   },
   {
    "duration": 0,
    "start_time": "2022-08-01T21:11:34.518Z"
   },
   {
    "duration": 0,
    "start_time": "2022-08-01T21:11:34.524Z"
   },
   {
    "duration": 0,
    "start_time": "2022-08-01T21:11:34.526Z"
   },
   {
    "duration": 1,
    "start_time": "2022-08-01T21:11:34.527Z"
   },
   {
    "duration": 0,
    "start_time": "2022-08-01T21:11:34.529Z"
   },
   {
    "duration": 0,
    "start_time": "2022-08-01T21:11:34.530Z"
   },
   {
    "duration": 0,
    "start_time": "2022-08-01T21:11:34.532Z"
   },
   {
    "duration": 0,
    "start_time": "2022-08-01T21:11:34.533Z"
   },
   {
    "duration": 1,
    "start_time": "2022-08-01T21:11:34.534Z"
   },
   {
    "duration": 46,
    "start_time": "2022-08-02T16:17:59.279Z"
   },
   {
    "duration": 54690,
    "start_time": "2022-08-02T16:19:04.978Z"
   },
   {
    "duration": 3,
    "start_time": "2022-08-02T16:19:59.670Z"
   },
   {
    "duration": 10,
    "start_time": "2022-08-02T16:19:59.674Z"
   },
   {
    "duration": 2509,
    "start_time": "2022-08-02T16:19:59.687Z"
   },
   {
    "duration": 58680,
    "start_time": "2022-08-02T16:20:09.787Z"
   },
   {
    "duration": 3,
    "start_time": "2022-08-02T16:21:08.469Z"
   },
   {
    "duration": 10,
    "start_time": "2022-08-02T16:21:08.474Z"
   },
   {
    "duration": 829,
    "start_time": "2022-08-02T16:21:08.486Z"
   },
   {
    "duration": 5060,
    "start_time": "2022-08-02T16:21:09.317Z"
   },
   {
    "duration": 66604,
    "start_time": "2022-08-02T16:21:14.378Z"
   },
   {
    "duration": 119,
    "start_time": "2022-08-02T16:22:20.983Z"
   },
   {
    "duration": 9,
    "start_time": "2022-08-02T16:22:21.104Z"
   },
   {
    "duration": 2270,
    "start_time": "2022-08-02T16:22:21.114Z"
   },
   {
    "duration": 4,
    "start_time": "2022-08-02T16:22:23.386Z"
   },
   {
    "duration": 20,
    "start_time": "2022-08-02T16:22:23.392Z"
   },
   {
    "duration": 26,
    "start_time": "2022-08-02T16:22:23.413Z"
   },
   {
    "duration": 322,
    "start_time": "2022-08-02T16:22:23.440Z"
   },
   {
    "duration": 0,
    "start_time": "2022-08-02T16:22:23.764Z"
   },
   {
    "duration": 0,
    "start_time": "2022-08-02T16:22:23.765Z"
   },
   {
    "duration": 57655,
    "start_time": "2022-08-02T16:22:42.727Z"
   },
   {
    "duration": 3,
    "start_time": "2022-08-02T16:23:40.384Z"
   },
   {
    "duration": 12,
    "start_time": "2022-08-02T16:23:40.388Z"
   },
   {
    "duration": 832,
    "start_time": "2022-08-02T16:23:40.402Z"
   },
   {
    "duration": 5053,
    "start_time": "2022-08-02T16:23:41.236Z"
   },
   {
    "duration": 66819,
    "start_time": "2022-08-02T16:23:46.291Z"
   },
   {
    "duration": 87,
    "start_time": "2022-08-02T16:24:53.112Z"
   },
   {
    "duration": 7,
    "start_time": "2022-08-02T16:24:53.209Z"
   },
   {
    "duration": 19,
    "start_time": "2022-08-02T16:24:53.217Z"
   },
   {
    "duration": 13,
    "start_time": "2022-08-02T16:24:53.238Z"
   },
   {
    "duration": 16,
    "start_time": "2022-08-02T16:24:53.252Z"
   },
   {
    "duration": 22,
    "start_time": "2022-08-02T16:24:53.269Z"
   },
   {
    "duration": 300,
    "start_time": "2022-08-02T16:24:53.292Z"
   },
   {
    "duration": 0,
    "start_time": "2022-08-02T16:24:53.594Z"
   },
   {
    "duration": 0,
    "start_time": "2022-08-02T16:24:53.595Z"
   },
   {
    "duration": 53254,
    "start_time": "2022-08-02T16:27:50.647Z"
   },
   {
    "duration": 7,
    "start_time": "2022-08-02T16:28:43.902Z"
   },
   {
    "duration": 18,
    "start_time": "2022-08-02T16:28:43.911Z"
   },
   {
    "duration": 799,
    "start_time": "2022-08-02T16:28:43.930Z"
   },
   {
    "duration": 5250,
    "start_time": "2022-08-02T16:28:44.732Z"
   },
   {
    "duration": 66771,
    "start_time": "2022-08-02T16:28:49.984Z"
   },
   {
    "duration": 98,
    "start_time": "2022-08-02T16:29:56.757Z"
   },
   {
    "duration": 8,
    "start_time": "2022-08-02T16:29:56.856Z"
   },
   {
    "duration": 5,
    "start_time": "2022-08-02T16:29:56.865Z"
   },
   {
    "duration": 12,
    "start_time": "2022-08-02T16:29:56.871Z"
   },
   {
    "duration": 5,
    "start_time": "2022-08-02T16:29:56.884Z"
   },
   {
    "duration": 18,
    "start_time": "2022-08-02T16:29:56.891Z"
   },
   {
    "duration": 345,
    "start_time": "2022-08-02T16:29:56.911Z"
   },
   {
    "duration": 0,
    "start_time": "2022-08-02T16:29:57.259Z"
   },
   {
    "duration": 0,
    "start_time": "2022-08-02T16:29:57.261Z"
   },
   {
    "duration": 6,
    "start_time": "2022-08-02T16:31:22.914Z"
   },
   {
    "duration": 6,
    "start_time": "2022-08-02T16:31:29.251Z"
   },
   {
    "duration": 6,
    "start_time": "2022-08-02T16:31:39.926Z"
   },
   {
    "duration": 6,
    "start_time": "2022-08-02T16:31:46.070Z"
   },
   {
    "duration": 65982,
    "start_time": "2022-08-02T16:35:27.886Z"
   },
   {
    "duration": 5477,
    "start_time": "2022-08-02T16:37:55.521Z"
   },
   {
    "duration": 301,
    "start_time": "2022-08-02T16:38:12.820Z"
   },
   {
    "duration": 234,
    "start_time": "2022-08-02T16:38:40.746Z"
   },
   {
    "duration": 304,
    "start_time": "2022-08-02T16:42:19.158Z"
   },
   {
    "duration": 58232,
    "start_time": "2022-08-02T16:42:44.922Z"
   },
   {
    "duration": 3,
    "start_time": "2022-08-02T16:43:43.156Z"
   },
   {
    "duration": 8,
    "start_time": "2022-08-02T16:43:43.161Z"
   },
   {
    "duration": 922,
    "start_time": "2022-08-02T16:43:43.171Z"
   },
   {
    "duration": 5774,
    "start_time": "2022-08-02T16:43:44.096Z"
   },
   {
    "duration": 2037,
    "start_time": "2022-08-02T16:43:49.872Z"
   },
   {
    "duration": 12592,
    "start_time": "2022-08-02T16:43:51.910Z"
   },
   {
    "duration": 81,
    "start_time": "2022-08-02T16:44:04.504Z"
   },
   {
    "duration": 7,
    "start_time": "2022-08-02T16:44:04.587Z"
   },
   {
    "duration": 2,
    "start_time": "2022-08-02T16:44:04.609Z"
   },
   {
    "duration": 10,
    "start_time": "2022-08-02T16:44:04.613Z"
   },
   {
    "duration": 10,
    "start_time": "2022-08-02T16:44:04.625Z"
   },
   {
    "duration": 328,
    "start_time": "2022-08-02T16:44:04.636Z"
   },
   {
    "duration": 10964,
    "start_time": "2022-08-02T16:45:36.925Z"
   },
   {
    "duration": 862,
    "start_time": "2022-08-02T16:45:51.389Z"
   },
   {
    "duration": 50280,
    "start_time": "2022-08-02T16:46:45.650Z"
   },
   {
    "duration": 3,
    "start_time": "2022-08-02T16:47:35.932Z"
   },
   {
    "duration": 10,
    "start_time": "2022-08-02T16:47:35.937Z"
   },
   {
    "duration": 875,
    "start_time": "2022-08-02T16:47:35.949Z"
   },
   {
    "duration": 5121,
    "start_time": "2022-08-02T16:47:36.826Z"
   },
   {
    "duration": 1987,
    "start_time": "2022-08-02T16:47:41.948Z"
   },
   {
    "duration": 50655,
    "start_time": "2022-08-02T16:49:12.660Z"
   },
   {
    "duration": 2,
    "start_time": "2022-08-02T16:50:03.317Z"
   },
   {
    "duration": 20,
    "start_time": "2022-08-02T16:50:03.321Z"
   },
   {
    "duration": 2411,
    "start_time": "2022-08-02T16:50:03.343Z"
   },
   {
    "duration": 5194,
    "start_time": "2022-08-02T16:50:05.756Z"
   },
   {
    "duration": 1980,
    "start_time": "2022-08-02T16:50:10.951Z"
   },
   {
    "duration": 48544,
    "start_time": "2022-08-02T16:51:33.088Z"
   },
   {
    "duration": 2,
    "start_time": "2022-08-02T16:52:21.634Z"
   },
   {
    "duration": 14,
    "start_time": "2022-08-02T16:52:21.637Z"
   },
   {
    "duration": 2409,
    "start_time": "2022-08-02T16:52:21.653Z"
   },
   {
    "duration": 5177,
    "start_time": "2022-08-02T16:52:24.063Z"
   },
   {
    "duration": 1967,
    "start_time": "2022-08-02T16:52:29.242Z"
   },
   {
    "duration": 46,
    "start_time": "2022-08-02T16:55:24.727Z"
   },
   {
    "duration": 52875,
    "start_time": "2022-08-02T16:55:41.396Z"
   },
   {
    "duration": 252,
    "start_time": "2022-08-02T16:56:34.272Z"
   },
   {
    "duration": 17,
    "start_time": "2022-08-02T16:57:04.558Z"
   },
   {
    "duration": 58383,
    "start_time": "2022-08-02T17:01:47.693Z"
   },
   {
    "duration": 3,
    "start_time": "2022-08-02T17:02:46.078Z"
   },
   {
    "duration": 15,
    "start_time": "2022-08-02T17:02:46.083Z"
   },
   {
    "duration": 2504,
    "start_time": "2022-08-02T17:02:46.109Z"
   },
   {
    "duration": 5194,
    "start_time": "2022-08-02T17:02:48.616Z"
   },
   {
    "duration": 2277,
    "start_time": "2022-08-02T17:02:53.811Z"
   },
   {
    "duration": 61199,
    "start_time": "2022-08-02T17:03:54.445Z"
   },
   {
    "duration": 3,
    "start_time": "2022-08-02T17:04:55.647Z"
   },
   {
    "duration": 17,
    "start_time": "2022-08-02T17:04:55.652Z"
   },
   {
    "duration": 2580,
    "start_time": "2022-08-02T17:04:55.671Z"
   },
   {
    "duration": 5341,
    "start_time": "2022-08-02T17:04:58.257Z"
   },
   {
    "duration": 2019,
    "start_time": "2022-08-02T17:05:03.600Z"
   },
   {
    "duration": 59399,
    "start_time": "2022-08-02T17:10:06.893Z"
   },
   {
    "duration": 3,
    "start_time": "2022-08-02T17:11:06.295Z"
   },
   {
    "duration": 9,
    "start_time": "2022-08-02T17:11:06.300Z"
   },
   {
    "duration": 2545,
    "start_time": "2022-08-02T17:11:06.311Z"
   },
   {
    "duration": 5198,
    "start_time": "2022-08-02T17:11:08.858Z"
   },
   {
    "duration": 2021,
    "start_time": "2022-08-02T17:11:14.058Z"
   },
   {
    "duration": 49,
    "start_time": "2022-08-02T17:12:11.257Z"
   },
   {
    "duration": 57315,
    "start_time": "2022-08-02T17:13:00.527Z"
   },
   {
    "duration": 2,
    "start_time": "2022-08-02T17:13:57.845Z"
   },
   {
    "duration": 12,
    "start_time": "2022-08-02T17:13:57.849Z"
   },
   {
    "duration": 2574,
    "start_time": "2022-08-02T17:13:57.864Z"
   },
   {
    "duration": 5523,
    "start_time": "2022-08-02T17:14:00.441Z"
   },
   {
    "duration": 2192,
    "start_time": "2022-08-02T17:14:05.967Z"
   },
   {
    "duration": 49,
    "start_time": "2022-08-02T17:17:16.259Z"
   },
   {
    "duration": 10,
    "start_time": "2022-08-02T17:17:20.941Z"
   },
   {
    "duration": 9,
    "start_time": "2022-08-02T17:20:15.929Z"
   },
   {
    "duration": 52957,
    "start_time": "2022-08-02T17:20:46.323Z"
   },
   {
    "duration": 4,
    "start_time": "2022-08-02T17:21:39.283Z"
   },
   {
    "duration": 19,
    "start_time": "2022-08-02T17:21:39.289Z"
   },
   {
    "duration": 2655,
    "start_time": "2022-08-02T17:21:39.311Z"
   },
   {
    "duration": 5777,
    "start_time": "2022-08-02T17:21:41.969Z"
   },
   {
    "duration": 2082,
    "start_time": "2022-08-02T17:21:47.748Z"
   },
   {
    "duration": 56766,
    "start_time": "2022-08-02T17:22:35.245Z"
   },
   {
    "duration": 4,
    "start_time": "2022-08-02T17:23:32.015Z"
   },
   {
    "duration": 27,
    "start_time": "2022-08-02T17:23:32.021Z"
   },
   {
    "duration": 2629,
    "start_time": "2022-08-02T17:23:32.050Z"
   },
   {
    "duration": 5459,
    "start_time": "2022-08-02T17:23:34.681Z"
   },
   {
    "duration": 1991,
    "start_time": "2022-08-02T17:23:40.142Z"
   },
   {
    "duration": 987,
    "start_time": "2022-08-02T17:23:42.135Z"
   },
   {
    "duration": 324,
    "start_time": "2022-08-02T17:23:43.124Z"
   },
   {
    "duration": 0,
    "start_time": "2022-08-02T17:23:43.450Z"
   },
   {
    "duration": 0,
    "start_time": "2022-08-02T17:23:43.452Z"
   },
   {
    "duration": 0,
    "start_time": "2022-08-02T17:23:43.453Z"
   },
   {
    "duration": 0,
    "start_time": "2022-08-02T17:23:43.454Z"
   },
   {
    "duration": 0,
    "start_time": "2022-08-02T17:23:43.456Z"
   },
   {
    "duration": 0,
    "start_time": "2022-08-02T17:23:43.457Z"
   },
   {
    "duration": 0,
    "start_time": "2022-08-02T17:23:43.459Z"
   },
   {
    "duration": 19,
    "start_time": "2022-08-02T17:24:56.218Z"
   },
   {
    "duration": 24,
    "start_time": "2022-08-02T17:25:23.126Z"
   },
   {
    "duration": 730,
    "start_time": "2022-08-02T17:25:50.270Z"
   },
   {
    "duration": 36,
    "start_time": "2022-08-02T17:25:55.071Z"
   },
   {
    "duration": 723,
    "start_time": "2022-08-02T17:26:02.471Z"
   },
   {
    "duration": 716,
    "start_time": "2022-08-02T17:26:12.419Z"
   },
   {
    "duration": 36,
    "start_time": "2022-08-02T17:26:13.138Z"
   },
   {
    "duration": 53693,
    "start_time": "2022-08-02T17:27:18.475Z"
   },
   {
    "duration": 3,
    "start_time": "2022-08-02T17:28:12.170Z"
   },
   {
    "duration": 12,
    "start_time": "2022-08-02T17:28:12.174Z"
   },
   {
    "duration": 886,
    "start_time": "2022-08-02T17:28:12.189Z"
   },
   {
    "duration": 5535,
    "start_time": "2022-08-02T17:28:13.077Z"
   },
   {
    "duration": 2044,
    "start_time": "2022-08-02T17:28:18.614Z"
   },
   {
    "duration": 999,
    "start_time": "2022-08-02T17:28:20.660Z"
   },
   {
    "duration": 324,
    "start_time": "2022-08-02T17:28:21.661Z"
   },
   {
    "duration": 0,
    "start_time": "2022-08-02T17:28:21.987Z"
   },
   {
    "duration": 0,
    "start_time": "2022-08-02T17:28:21.989Z"
   },
   {
    "duration": 0,
    "start_time": "2022-08-02T17:28:21.990Z"
   },
   {
    "duration": 0,
    "start_time": "2022-08-02T17:28:21.991Z"
   },
   {
    "duration": 0,
    "start_time": "2022-08-02T17:28:21.992Z"
   },
   {
    "duration": 0,
    "start_time": "2022-08-02T17:28:22.009Z"
   },
   {
    "duration": 0,
    "start_time": "2022-08-02T17:28:22.010Z"
   },
   {
    "duration": 48,
    "start_time": "2022-08-02T17:32:12.041Z"
   },
   {
    "duration": 50782,
    "start_time": "2022-08-02T17:33:39.822Z"
   },
   {
    "duration": 4,
    "start_time": "2022-08-02T17:34:30.608Z"
   },
   {
    "duration": 20,
    "start_time": "2022-08-02T17:34:30.615Z"
   },
   {
    "duration": 2653,
    "start_time": "2022-08-02T17:34:30.637Z"
   },
   {
    "duration": 5588,
    "start_time": "2022-08-02T17:34:33.293Z"
   },
   {
    "duration": 44,
    "start_time": "2022-08-02T17:34:38.883Z"
   },
   {
    "duration": 56,
    "start_time": "2022-08-02T17:34:38.929Z"
   },
   {
    "duration": 0,
    "start_time": "2022-08-02T17:34:38.987Z"
   },
   {
    "duration": 0,
    "start_time": "2022-08-02T17:34:38.989Z"
   },
   {
    "duration": 0,
    "start_time": "2022-08-02T17:34:38.990Z"
   },
   {
    "duration": 0,
    "start_time": "2022-08-02T17:34:38.991Z"
   },
   {
    "duration": 0,
    "start_time": "2022-08-02T17:34:38.994Z"
   },
   {
    "duration": 0,
    "start_time": "2022-08-02T17:34:38.995Z"
   },
   {
    "duration": 0,
    "start_time": "2022-08-02T17:34:38.996Z"
   },
   {
    "duration": 0,
    "start_time": "2022-08-02T17:34:38.997Z"
   },
   {
    "duration": 87,
    "start_time": "2022-08-02T17:35:16.718Z"
   },
   {
    "duration": 91601,
    "start_time": "2022-08-02T17:38:27.549Z"
   },
   {
    "duration": 86781,
    "start_time": "2022-08-02T17:42:12.256Z"
   },
   {
    "duration": 79,
    "start_time": "2022-08-02T17:44:01.324Z"
   },
   {
    "duration": 9,
    "start_time": "2022-08-02T17:44:08.023Z"
   },
   {
    "duration": 305,
    "start_time": "2022-08-02T17:44:13.622Z"
   },
   {
    "duration": 3,
    "start_time": "2022-08-02T17:44:17.926Z"
   },
   {
    "duration": 7062,
    "start_time": "2022-08-02T17:44:18.661Z"
   },
   {
    "duration": 7054,
    "start_time": "2022-08-02T17:44:36.212Z"
   },
   {
    "duration": 796,
    "start_time": "2022-08-02T17:44:45.117Z"
   },
   {
    "duration": 19,
    "start_time": "2022-08-02T17:44:50.713Z"
   },
   {
    "duration": 59339,
    "start_time": "2022-08-02T17:45:20.177Z"
   },
   {
    "duration": 7305,
    "start_time": "2022-08-02T17:47:19.683Z"
   },
   {
    "duration": 347,
    "start_time": "2022-08-02T17:50:39.848Z"
   },
   {
    "duration": 264,
    "start_time": "2022-08-02T17:52:31.157Z"
   },
   {
    "duration": 81465,
    "start_time": "2022-08-02T17:53:19.890Z"
   },
   {
    "duration": 3224,
    "start_time": "2022-08-02T17:54:46.121Z"
   },
   {
    "duration": 61,
    "start_time": "2022-08-02T17:55:49.886Z"
   },
   {
    "duration": 82328,
    "start_time": "2022-08-02T17:55:56.236Z"
   },
   {
    "duration": 2786,
    "start_time": "2022-08-02T17:57:23.731Z"
   },
   {
    "duration": 2060,
    "start_time": "2022-08-02T17:59:49.584Z"
   },
   {
    "duration": 3096,
    "start_time": "2022-08-02T17:59:55.852Z"
   },
   {
    "duration": 3665,
    "start_time": "2022-08-02T18:00:07.539Z"
   },
   {
    "duration": 83183,
    "start_time": "2022-08-02T18:02:47.099Z"
   },
   {
    "duration": 2085,
    "start_time": "2022-08-02T18:04:10.285Z"
   },
   {
    "duration": 59729,
    "start_time": "2022-08-02T18:04:33.575Z"
   },
   {
    "duration": 3,
    "start_time": "2022-08-02T18:05:33.306Z"
   },
   {
    "duration": 7,
    "start_time": "2022-08-02T18:05:33.311Z"
   },
   {
    "duration": 899,
    "start_time": "2022-08-02T18:05:33.319Z"
   },
   {
    "duration": 5558,
    "start_time": "2022-08-02T18:05:34.223Z"
   },
   {
    "duration": 47,
    "start_time": "2022-08-02T18:05:39.783Z"
   },
   {
    "duration": 82092,
    "start_time": "2022-08-02T18:05:39.832Z"
   },
   {
    "duration": 2416,
    "start_time": "2022-08-02T18:07:01.926Z"
   },
   {
    "duration": 0,
    "start_time": "2022-08-02T18:07:04.343Z"
   },
   {
    "duration": 0,
    "start_time": "2022-08-02T18:07:04.345Z"
   },
   {
    "duration": 0,
    "start_time": "2022-08-02T18:07:04.346Z"
   },
   {
    "duration": 0,
    "start_time": "2022-08-02T18:07:04.348Z"
   },
   {
    "duration": 0,
    "start_time": "2022-08-02T18:07:04.349Z"
   },
   {
    "duration": 0,
    "start_time": "2022-08-02T18:07:04.350Z"
   },
   {
    "duration": 0,
    "start_time": "2022-08-02T18:07:04.351Z"
   },
   {
    "duration": 4,
    "start_time": "2022-08-02T18:08:15.590Z"
   },
   {
    "duration": 45,
    "start_time": "2022-08-03T09:55:39.531Z"
   },
   {
    "duration": 82837,
    "start_time": "2022-08-03T09:57:20.244Z"
   },
   {
    "duration": 3,
    "start_time": "2022-08-03T09:58:43.083Z"
   },
   {
    "duration": 6,
    "start_time": "2022-08-03T09:58:43.088Z"
   },
   {
    "duration": 3446,
    "start_time": "2022-08-03T09:58:43.097Z"
   },
   {
    "duration": 5337,
    "start_time": "2022-08-03T09:58:46.544Z"
   },
   {
    "duration": 71843,
    "start_time": "2022-08-03T09:58:51.882Z"
   },
   {
    "duration": 3,
    "start_time": "2022-08-03T10:00:03.727Z"
   },
   {
    "duration": 106,
    "start_time": "2022-08-03T10:00:03.732Z"
   },
   {
    "duration": 10,
    "start_time": "2022-08-03T10:00:03.840Z"
   },
   {
    "duration": 344,
    "start_time": "2022-08-03T10:00:03.852Z"
   },
   {
    "duration": 0,
    "start_time": "2022-08-03T10:00:04.198Z"
   },
   {
    "duration": 27,
    "start_time": "2022-08-03T10:01:36.175Z"
   },
   {
    "duration": 22,
    "start_time": "2022-08-03T10:01:57.930Z"
   },
   {
    "duration": 359,
    "start_time": "2022-08-03T10:09:57.136Z"
   },
   {
    "duration": 4,
    "start_time": "2022-08-03T10:10:04.769Z"
   },
   {
    "duration": 5967,
    "start_time": "2022-08-03T10:10:51.629Z"
   },
   {
    "duration": 1792,
    "start_time": "2022-08-03T10:12:04.333Z"
   },
   {
    "duration": 509,
    "start_time": "2022-08-03T10:12:14.155Z"
   },
   {
    "duration": 2821,
    "start_time": "2022-08-03T10:14:13.542Z"
   },
   {
    "duration": 6,
    "start_time": "2022-08-03T10:18:19.801Z"
   },
   {
    "duration": 2,
    "start_time": "2022-08-03T10:18:23.691Z"
   },
   {
    "duration": 16,
    "start_time": "2022-08-03T10:18:24.048Z"
   },
   {
    "duration": 76199,
    "start_time": "2022-08-03T10:18:35.565Z"
   },
   {
    "duration": 75569,
    "start_time": "2022-08-03T10:20:25.569Z"
   },
   {
    "duration": 3,
    "start_time": "2022-08-03T10:22:35.848Z"
   },
   {
    "duration": 358,
    "start_time": "2022-08-03T10:22:36.239Z"
   },
   {
    "duration": 458,
    "start_time": "2022-08-03T10:23:23.043Z"
   },
   {
    "duration": 3,
    "start_time": "2022-08-03T10:23:44.195Z"
   },
   {
    "duration": 74903,
    "start_time": "2022-08-03T10:23:44.556Z"
   },
   {
    "duration": 73,
    "start_time": "2022-08-03T10:25:26.747Z"
   },
   {
    "duration": 6,
    "start_time": "2022-08-03T10:25:29.238Z"
   },
   {
    "duration": 6076,
    "start_time": "2022-08-03T10:25:31.096Z"
   },
   {
    "duration": 6306,
    "start_time": "2022-08-03T10:25:58.767Z"
   },
   {
    "duration": 7042,
    "start_time": "2022-08-03T10:26:57.876Z"
   },
   {
    "duration": 27,
    "start_time": "2022-08-03T10:27:58.937Z"
   },
   {
    "duration": 7211,
    "start_time": "2022-08-03T10:29:00.038Z"
   },
   {
    "duration": 22,
    "start_time": "2022-08-03T10:29:13.134Z"
   },
   {
    "duration": 7133,
    "start_time": "2022-08-03T10:29:51.135Z"
   },
   {
    "duration": 7318,
    "start_time": "2022-08-03T10:30:34.681Z"
   },
   {
    "duration": 25,
    "start_time": "2022-08-03T10:30:49.035Z"
   },
   {
    "duration": 7457,
    "start_time": "2022-08-03T10:31:05.787Z"
   },
   {
    "duration": 50391,
    "start_time": "2022-08-03T10:31:20.641Z"
   },
   {
    "duration": 6856,
    "start_time": "2022-08-03T10:32:25.738Z"
   },
   {
    "duration": 7532,
    "start_time": "2022-08-03T10:32:42.933Z"
   },
   {
    "duration": 6894,
    "start_time": "2022-08-03T10:33:13.548Z"
   },
   {
    "duration": 7198,
    "start_time": "2022-08-03T10:33:25.645Z"
   },
   {
    "duration": 6741,
    "start_time": "2022-08-03T10:33:41.946Z"
   },
   {
    "duration": 27,
    "start_time": "2022-08-03T10:33:56.130Z"
   },
   {
    "duration": 118671,
    "start_time": "2022-08-03T10:34:03.702Z"
   },
   {
    "duration": 3,
    "start_time": "2022-08-03T10:36:02.374Z"
   },
   {
    "duration": 8,
    "start_time": "2022-08-03T10:36:02.378Z"
   },
   {
    "duration": 723,
    "start_time": "2022-08-03T10:36:02.388Z"
   },
   {
    "duration": 5227,
    "start_time": "2022-08-03T10:37:42.050Z"
   },
   {
    "duration": 3,
    "start_time": "2022-08-03T10:37:47.278Z"
   },
   {
    "duration": 85215,
    "start_time": "2022-08-03T10:38:43.636Z"
   },
   {
    "duration": 3,
    "start_time": "2022-08-03T10:40:08.853Z"
   },
   {
    "duration": 6,
    "start_time": "2022-08-03T10:40:08.857Z"
   },
   {
    "duration": 716,
    "start_time": "2022-08-03T10:40:08.864Z"
   },
   {
    "duration": 4657,
    "start_time": "2022-08-03T10:40:09.582Z"
   },
   {
    "duration": 4,
    "start_time": "2022-08-03T10:40:14.240Z"
   },
   {
    "duration": 74270,
    "start_time": "2022-08-03T10:40:14.245Z"
   },
   {
    "duration": 5,
    "start_time": "2022-08-03T10:41:28.517Z"
   },
   {
    "duration": 119,
    "start_time": "2022-08-03T10:41:28.524Z"
   },
   {
    "duration": 7,
    "start_time": "2022-08-03T10:41:28.645Z"
   },
   {
    "duration": 6334,
    "start_time": "2022-08-03T10:41:28.654Z"
   },
   {
    "duration": 295,
    "start_time": "2022-08-03T10:41:34.990Z"
   },
   {
    "duration": 0,
    "start_time": "2022-08-03T10:41:35.287Z"
   },
   {
    "duration": 23,
    "start_time": "2022-08-03T10:43:24.170Z"
   },
   {
    "duration": 43,
    "start_time": "2022-08-03T10:43:31.067Z"
   },
   {
    "duration": 26,
    "start_time": "2022-08-03T10:43:38.963Z"
   },
   {
    "duration": 41,
    "start_time": "2022-08-03T10:44:30.296Z"
   },
   {
    "duration": 6,
    "start_time": "2022-08-03T10:45:14.159Z"
   },
   {
    "duration": 30,
    "start_time": "2022-08-03T10:45:36.244Z"
   },
   {
    "duration": 22,
    "start_time": "2022-08-03T10:45:43.853Z"
   },
   {
    "duration": 28,
    "start_time": "2022-08-03T10:46:11.330Z"
   },
   {
    "duration": 4,
    "start_time": "2022-08-03T10:54:51.261Z"
   },
   {
    "duration": 98716,
    "start_time": "2022-08-03T11:04:04.163Z"
   },
   {
    "duration": 4,
    "start_time": "2022-08-03T11:05:42.880Z"
   },
   {
    "duration": 9,
    "start_time": "2022-08-03T11:05:42.885Z"
   },
   {
    "duration": 827,
    "start_time": "2022-08-03T11:05:42.895Z"
   },
   {
    "duration": 6546,
    "start_time": "2022-08-03T11:05:43.729Z"
   },
   {
    "duration": 3,
    "start_time": "2022-08-03T11:05:50.277Z"
   },
   {
    "duration": 89135,
    "start_time": "2022-08-03T11:05:50.281Z"
   },
   {
    "duration": 13,
    "start_time": "2022-08-03T11:07:19.418Z"
   },
   {
    "duration": 89,
    "start_time": "2022-08-03T11:07:19.434Z"
   },
   {
    "duration": 18,
    "start_time": "2022-08-03T11:07:19.529Z"
   },
   {
    "duration": 7545,
    "start_time": "2022-08-03T11:07:19.549Z"
   },
   {
    "duration": 360,
    "start_time": "2022-08-03T11:07:27.095Z"
   },
   {
    "duration": 0,
    "start_time": "2022-08-03T11:07:27.458Z"
   },
   {
    "duration": 0,
    "start_time": "2022-08-03T11:07:27.460Z"
   },
   {
    "duration": 0,
    "start_time": "2022-08-03T11:07:27.461Z"
   },
   {
    "duration": 0,
    "start_time": "2022-08-03T11:07:27.462Z"
   },
   {
    "duration": 52246,
    "start_time": "2022-08-04T08:21:07.144Z"
   },
   {
    "duration": 2,
    "start_time": "2022-08-04T08:21:59.392Z"
   },
   {
    "duration": 8,
    "start_time": "2022-08-04T08:21:59.396Z"
   },
   {
    "duration": 2267,
    "start_time": "2022-08-04T08:21:59.410Z"
   },
   {
    "duration": 5142,
    "start_time": "2022-08-04T08:22:01.678Z"
   },
   {
    "duration": 2,
    "start_time": "2022-08-04T08:22:06.822Z"
   },
   {
    "duration": 77721,
    "start_time": "2022-08-04T08:22:06.826Z"
   },
   {
    "duration": 4,
    "start_time": "2022-08-04T08:23:24.549Z"
   },
   {
    "duration": 62,
    "start_time": "2022-08-04T08:23:24.554Z"
   },
   {
    "duration": 6,
    "start_time": "2022-08-04T08:23:24.618Z"
   },
   {
    "duration": 11828,
    "start_time": "2022-08-04T08:23:24.626Z"
   },
   {
    "duration": 42521,
    "start_time": "2022-08-04T08:23:36.455Z"
   },
   {
    "duration": 0,
    "start_time": "2022-08-04T08:24:18.977Z"
   },
   {
    "duration": 0,
    "start_time": "2022-08-04T08:24:18.979Z"
   },
   {
    "duration": 0,
    "start_time": "2022-08-04T08:24:18.980Z"
   },
   {
    "duration": 0,
    "start_time": "2022-08-04T08:24:18.980Z"
   },
   {
    "duration": 0,
    "start_time": "2022-08-04T08:24:18.981Z"
   },
   {
    "duration": 42448,
    "start_time": "2022-08-04T08:26:17.381Z"
   },
   {
    "duration": 41244,
    "start_time": "2022-08-04T08:27:29.867Z"
   },
   {
    "duration": 41102,
    "start_time": "2022-08-04T08:33:15.514Z"
   },
   {
    "duration": 42281,
    "start_time": "2022-08-04T08:34:14.170Z"
   },
   {
    "duration": 71650,
    "start_time": "2022-08-04T10:04:19.757Z"
   },
   {
    "duration": 3,
    "start_time": "2022-08-04T10:05:31.409Z"
   },
   {
    "duration": 31,
    "start_time": "2022-08-04T10:05:31.413Z"
   },
   {
    "duration": 846,
    "start_time": "2022-08-04T10:05:31.446Z"
   },
   {
    "duration": 5307,
    "start_time": "2022-08-04T10:05:32.294Z"
   },
   {
    "duration": 8,
    "start_time": "2022-08-04T10:05:37.603Z"
   },
   {
    "duration": 78186,
    "start_time": "2022-08-04T10:05:37.613Z"
   },
   {
    "duration": 13,
    "start_time": "2022-08-04T10:06:55.800Z"
   },
   {
    "duration": 60,
    "start_time": "2022-08-04T10:06:55.814Z"
   },
   {
    "duration": 5,
    "start_time": "2022-08-04T10:06:55.877Z"
   },
   {
    "duration": 12389,
    "start_time": "2022-08-04T10:06:55.884Z"
   },
   {
    "duration": 47415,
    "start_time": "2022-08-04T10:07:08.275Z"
   },
   {
    "duration": 0,
    "start_time": "2022-08-04T10:07:55.691Z"
   },
   {
    "duration": 0,
    "start_time": "2022-08-04T10:07:55.692Z"
   },
   {
    "duration": 0,
    "start_time": "2022-08-04T10:07:55.693Z"
   },
   {
    "duration": 0,
    "start_time": "2022-08-04T10:07:55.694Z"
   },
   {
    "duration": 5,
    "start_time": "2022-08-04T10:09:17.651Z"
   },
   {
    "duration": 54,
    "start_time": "2022-08-04T10:11:20.848Z"
   },
   {
    "duration": 11606,
    "start_time": "2022-08-04T10:11:24.543Z"
   },
   {
    "duration": 0,
    "start_time": "2022-08-04T10:33:51.419Z"
   },
   {
    "duration": 46086,
    "start_time": "2022-08-04T10:33:59.131Z"
   },
   {
    "duration": 47463,
    "start_time": "2022-08-04T18:40:01.178Z"
   },
   {
    "duration": 3,
    "start_time": "2022-08-04T18:40:48.643Z"
   },
   {
    "duration": 15,
    "start_time": "2022-08-04T18:40:48.648Z"
   },
   {
    "duration": 2482,
    "start_time": "2022-08-04T18:40:48.666Z"
   },
   {
    "duration": 5883,
    "start_time": "2022-08-04T18:40:51.149Z"
   },
   {
    "duration": 4,
    "start_time": "2022-08-04T18:40:57.034Z"
   },
   {
    "duration": 84350,
    "start_time": "2022-08-04T18:40:57.040Z"
   },
   {
    "duration": 11,
    "start_time": "2022-08-04T18:42:21.392Z"
   },
   {
    "duration": 105,
    "start_time": "2022-08-04T18:42:21.405Z"
   },
   {
    "duration": 6,
    "start_time": "2022-08-04T18:42:21.514Z"
   },
   {
    "duration": 12262,
    "start_time": "2022-08-04T18:42:21.522Z"
   },
   {
    "duration": 34119,
    "start_time": "2022-08-04T18:42:33.785Z"
   },
   {
    "duration": 995,
    "start_time": "2022-08-04T18:43:07.905Z"
   },
   {
    "duration": 1,
    "start_time": "2022-08-04T18:43:08.903Z"
   },
   {
    "duration": 0,
    "start_time": "2022-08-04T18:43:08.905Z"
   },
   {
    "duration": 0,
    "start_time": "2022-08-04T18:43:08.907Z"
   },
   {
    "duration": 49209,
    "start_time": "2022-08-04T19:37:04.428Z"
   },
   {
    "duration": 3,
    "start_time": "2022-08-04T19:37:53.639Z"
   },
   {
    "duration": 6,
    "start_time": "2022-08-04T19:37:53.644Z"
   },
   {
    "duration": 809,
    "start_time": "2022-08-04T19:37:53.652Z"
   },
   {
    "duration": 5691,
    "start_time": "2022-08-04T19:37:54.464Z"
   },
   {
    "duration": 4,
    "start_time": "2022-08-04T19:38:00.158Z"
   },
   {
    "duration": 82724,
    "start_time": "2022-08-04T19:38:00.164Z"
   },
   {
    "duration": 4,
    "start_time": "2022-08-04T19:39:22.889Z"
   },
   {
    "duration": 98,
    "start_time": "2022-08-04T19:39:22.895Z"
   },
   {
    "duration": 11,
    "start_time": "2022-08-04T19:39:23.007Z"
   },
   {
    "duration": 12699,
    "start_time": "2022-08-04T19:39:23.019Z"
   },
   {
    "duration": 33793,
    "start_time": "2022-08-04T19:39:35.720Z"
   },
   {
    "duration": 0,
    "start_time": "2022-08-04T19:52:26.697Z"
   },
   {
    "duration": 0,
    "start_time": "2022-08-04T19:52:26.702Z"
   },
   {
    "duration": 1,
    "start_time": "2022-08-04T19:52:26.717Z"
   },
   {
    "duration": 0,
    "start_time": "2022-08-04T19:52:26.719Z"
   },
   {
    "duration": 20,
    "start_time": "2022-08-04T19:52:53.121Z"
   },
   {
    "duration": 4,
    "start_time": "2022-08-04T19:52:53.323Z"
   },
   {
    "duration": 4,
    "start_time": "2022-08-04T19:53:23.969Z"
   },
   {
    "duration": 22,
    "start_time": "2022-08-04T19:53:33.982Z"
   },
   {
    "duration": 5,
    "start_time": "2022-08-04T19:54:07.797Z"
   },
   {
    "duration": 50756,
    "start_time": "2022-08-04T19:55:02.037Z"
   },
   {
    "duration": 8,
    "start_time": "2022-08-04T19:55:52.795Z"
   },
   {
    "duration": 12,
    "start_time": "2022-08-04T19:55:52.804Z"
   },
   {
    "duration": 823,
    "start_time": "2022-08-04T19:55:52.818Z"
   },
   {
    "duration": 5954,
    "start_time": "2022-08-04T19:55:53.643Z"
   },
   {
    "duration": 6,
    "start_time": "2022-08-04T19:55:59.598Z"
   },
   {
    "duration": 81219,
    "start_time": "2022-08-04T19:55:59.606Z"
   },
   {
    "duration": 5,
    "start_time": "2022-08-04T19:57:20.827Z"
   },
   {
    "duration": 109,
    "start_time": "2022-08-04T19:57:20.833Z"
   },
   {
    "duration": 5,
    "start_time": "2022-08-04T19:57:20.944Z"
   },
   {
    "duration": 12385,
    "start_time": "2022-08-04T19:57:20.951Z"
   },
   {
    "duration": 33469,
    "start_time": "2022-08-04T19:57:33.338Z"
   },
   {
    "duration": 25598,
    "start_time": "2022-08-04T19:58:06.809Z"
   },
   {
    "duration": 53721,
    "start_time": "2022-08-04T19:58:32.409Z"
   },
   {
    "duration": 4,
    "start_time": "2022-08-04T19:59:26.131Z"
   },
   {
    "duration": 6,
    "start_time": "2022-08-04T19:59:26.137Z"
   },
   {
    "duration": 52127,
    "start_time": "2022-08-04T20:08:05.353Z"
   },
   {
    "duration": 3,
    "start_time": "2022-08-04T20:08:57.481Z"
   },
   {
    "duration": 12,
    "start_time": "2022-08-04T20:08:57.486Z"
   },
   {
    "duration": 806,
    "start_time": "2022-08-04T20:08:57.500Z"
   },
   {
    "duration": 5924,
    "start_time": "2022-08-04T20:08:58.309Z"
   },
   {
    "duration": 3,
    "start_time": "2022-08-04T20:09:04.236Z"
   },
   {
    "duration": 78995,
    "start_time": "2022-08-04T20:09:04.241Z"
   },
   {
    "duration": 5,
    "start_time": "2022-08-04T20:10:23.238Z"
   },
   {
    "duration": 109,
    "start_time": "2022-08-04T20:10:23.245Z"
   },
   {
    "duration": 6,
    "start_time": "2022-08-04T20:10:23.355Z"
   },
   {
    "duration": 11977,
    "start_time": "2022-08-04T20:10:23.362Z"
   },
   {
    "duration": 43568,
    "start_time": "2022-08-04T20:10:35.341Z"
   },
   {
    "duration": 26855,
    "start_time": "2022-08-04T20:11:18.911Z"
   },
   {
    "duration": 421890,
    "start_time": "2022-08-04T20:11:45.770Z"
   },
   {
    "duration": 4,
    "start_time": "2022-08-04T20:18:47.662Z"
   },
   {
    "duration": 7,
    "start_time": "2022-08-04T20:18:47.668Z"
   },
   {
    "duration": 1500,
    "start_time": "2022-08-04T20:18:47.677Z"
   },
   {
    "duration": 0,
    "start_time": "2022-08-04T20:18:49.181Z"
   },
   {
    "duration": 50349,
    "start_time": "2022-08-04T20:34:33.946Z"
   },
   {
    "duration": 6,
    "start_time": "2022-08-04T20:35:24.297Z"
   },
   {
    "duration": 8,
    "start_time": "2022-08-04T20:35:24.304Z"
   },
   {
    "duration": 805,
    "start_time": "2022-08-04T20:35:24.313Z"
   },
   {
    "duration": 5818,
    "start_time": "2022-08-04T20:35:25.121Z"
   },
   {
    "duration": 3,
    "start_time": "2022-08-04T20:35:30.941Z"
   },
   {
    "duration": 79840,
    "start_time": "2022-08-04T20:35:30.945Z"
   },
   {
    "duration": 3,
    "start_time": "2022-08-04T20:36:50.787Z"
   },
   {
    "duration": 95,
    "start_time": "2022-08-04T20:36:50.792Z"
   },
   {
    "duration": 16,
    "start_time": "2022-08-04T20:36:50.889Z"
   },
   {
    "duration": 11871,
    "start_time": "2022-08-04T20:36:50.907Z"
   },
   {
    "duration": 45535,
    "start_time": "2022-08-04T20:37:02.780Z"
   },
   {
    "duration": 26189,
    "start_time": "2022-08-04T20:37:48.317Z"
   },
   {
    "duration": 19,
    "start_time": "2022-08-04T20:38:14.509Z"
   },
   {
    "duration": 49926,
    "start_time": "2022-08-04T20:38:14.530Z"
   },
   {
    "duration": 4,
    "start_time": "2022-08-04T20:39:04.458Z"
   },
   {
    "duration": 30826,
    "start_time": "2022-08-04T20:39:04.464Z"
   },
   {
    "duration": 319,
    "start_time": "2022-08-04T20:39:35.292Z"
   },
   {
    "duration": 0,
    "start_time": "2022-08-04T20:39:35.613Z"
   },
   {
    "duration": 5,
    "start_time": "2022-08-04T20:43:29.035Z"
   },
   {
    "duration": 31281,
    "start_time": "2022-08-04T20:43:31.629Z"
   },
   {
    "duration": 22,
    "start_time": "2022-08-04T20:44:02.912Z"
   },
   {
    "duration": 46976,
    "start_time": "2022-08-04T20:45:47.689Z"
   },
   {
    "duration": 3,
    "start_time": "2022-08-04T20:46:34.667Z"
   },
   {
    "duration": 11,
    "start_time": "2022-08-04T20:46:34.671Z"
   },
   {
    "duration": 789,
    "start_time": "2022-08-04T20:46:34.684Z"
   },
   {
    "duration": 5845,
    "start_time": "2022-08-04T20:46:35.475Z"
   },
   {
    "duration": 3,
    "start_time": "2022-08-04T20:46:41.322Z"
   },
   {
    "duration": 77419,
    "start_time": "2022-08-04T20:46:41.327Z"
   },
   {
    "duration": 3,
    "start_time": "2022-08-04T20:47:58.748Z"
   },
   {
    "duration": 106,
    "start_time": "2022-08-04T20:47:58.753Z"
   },
   {
    "duration": 7,
    "start_time": "2022-08-04T20:47:58.861Z"
   },
   {
    "duration": 11979,
    "start_time": "2022-08-04T20:47:58.870Z"
   },
   {
    "duration": 43053,
    "start_time": "2022-08-04T20:48:10.851Z"
   },
   {
    "duration": 25705,
    "start_time": "2022-08-04T20:48:53.906Z"
   },
   {
    "duration": 47400,
    "start_time": "2022-08-04T20:50:23.906Z"
   },
   {
    "duration": 3,
    "start_time": "2022-08-04T20:51:11.309Z"
   },
   {
    "duration": 10,
    "start_time": "2022-08-04T20:51:11.313Z"
   },
   {
    "duration": 848,
    "start_time": "2022-08-04T20:51:11.325Z"
   },
   {
    "duration": 41,
    "start_time": "2022-08-04T20:51:12.175Z"
   },
   {
    "duration": 5960,
    "start_time": "2022-08-04T20:51:12.218Z"
   },
   {
    "duration": 3,
    "start_time": "2022-08-04T20:51:18.180Z"
   },
   {
    "duration": 79034,
    "start_time": "2022-08-04T20:51:18.185Z"
   },
   {
    "duration": 3,
    "start_time": "2022-08-04T20:52:37.221Z"
   },
   {
    "duration": 100,
    "start_time": "2022-08-04T20:52:37.227Z"
   },
   {
    "duration": 5,
    "start_time": "2022-08-04T20:52:37.328Z"
   },
   {
    "duration": 11963,
    "start_time": "2022-08-04T20:52:37.335Z"
   },
   {
    "duration": 43215,
    "start_time": "2022-08-04T20:52:49.300Z"
   },
   {
    "duration": 25590,
    "start_time": "2022-08-04T20:53:32.517Z"
   },
   {
    "duration": 7642,
    "start_time": "2022-08-04T20:53:58.109Z"
   },
   {
    "duration": 4,
    "start_time": "2022-08-04T20:54:05.753Z"
   },
   {
    "duration": 30770,
    "start_time": "2022-08-04T20:54:05.758Z"
   },
   {
    "duration": 1345,
    "start_time": "2022-08-04T20:54:36.530Z"
   },
   {
    "duration": 992,
    "start_time": "2022-08-04T20:55:04.287Z"
   },
   {
    "duration": 30523,
    "start_time": "2022-08-04T20:55:13.525Z"
   },
   {
    "duration": 19,
    "start_time": "2022-08-04T20:56:36.086Z"
   },
   {
    "duration": 1003,
    "start_time": "2022-08-04T20:56:51.832Z"
   },
   {
    "duration": 63891,
    "start_time": "2022-08-04T21:04:45.672Z"
   },
   {
    "duration": 2,
    "start_time": "2022-08-04T21:05:49.565Z"
   },
   {
    "duration": 9,
    "start_time": "2022-08-04T21:05:49.569Z"
   },
   {
    "duration": 830,
    "start_time": "2022-08-04T21:05:49.580Z"
   },
   {
    "duration": 32,
    "start_time": "2022-08-04T21:05:50.412Z"
   },
   {
    "duration": 5955,
    "start_time": "2022-08-04T21:05:50.446Z"
   },
   {
    "duration": 3,
    "start_time": "2022-08-04T21:05:56.403Z"
   },
   {
    "duration": 80920,
    "start_time": "2022-08-04T21:05:56.409Z"
   },
   {
    "duration": 4,
    "start_time": "2022-08-04T21:07:17.331Z"
   },
   {
    "duration": 118,
    "start_time": "2022-08-04T21:07:17.338Z"
   },
   {
    "duration": 6,
    "start_time": "2022-08-04T21:07:17.457Z"
   },
   {
    "duration": 12194,
    "start_time": "2022-08-04T21:07:17.465Z"
   },
   {
    "duration": 44746,
    "start_time": "2022-08-04T21:07:29.661Z"
   },
   {
    "duration": 26906,
    "start_time": "2022-08-04T21:08:14.410Z"
   },
   {
    "duration": 7692,
    "start_time": "2022-08-04T21:08:41.319Z"
   },
   {
    "duration": 4,
    "start_time": "2022-08-04T21:08:49.013Z"
   },
   {
    "duration": 31941,
    "start_time": "2022-08-04T21:08:49.018Z"
   },
   {
    "duration": 52505,
    "start_time": "2022-08-04T21:12:45.127Z"
   },
   {
    "duration": 2,
    "start_time": "2022-08-04T21:13:37.634Z"
   },
   {
    "duration": 15,
    "start_time": "2022-08-04T21:13:37.638Z"
   },
   {
    "duration": 820,
    "start_time": "2022-08-04T21:13:37.655Z"
   },
   {
    "duration": 33,
    "start_time": "2022-08-04T21:13:38.477Z"
   },
   {
    "duration": 5750,
    "start_time": "2022-08-04T21:13:38.511Z"
   },
   {
    "duration": 3,
    "start_time": "2022-08-04T21:13:44.263Z"
   },
   {
    "duration": 77820,
    "start_time": "2022-08-04T21:13:44.268Z"
   },
   {
    "duration": 4,
    "start_time": "2022-08-04T21:15:02.089Z"
   },
   {
    "duration": 109,
    "start_time": "2022-08-04T21:15:02.095Z"
   },
   {
    "duration": 6,
    "start_time": "2022-08-04T21:15:02.205Z"
   },
   {
    "duration": 11774,
    "start_time": "2022-08-04T21:15:02.213Z"
   },
   {
    "duration": 44315,
    "start_time": "2022-08-04T21:15:13.989Z"
   },
   {
    "duration": 25021,
    "start_time": "2022-08-04T21:15:58.306Z"
   },
   {
    "duration": 46177,
    "start_time": "2022-08-04T21:25:30.285Z"
   },
   {
    "duration": 3,
    "start_time": "2022-08-04T21:26:16.464Z"
   },
   {
    "duration": 6,
    "start_time": "2022-08-04T21:26:16.469Z"
   },
   {
    "duration": 822,
    "start_time": "2022-08-04T21:26:16.477Z"
   },
   {
    "duration": 26,
    "start_time": "2022-08-04T21:26:17.303Z"
   },
   {
    "duration": 5915,
    "start_time": "2022-08-04T21:26:17.331Z"
   },
   {
    "duration": 3,
    "start_time": "2022-08-04T21:26:23.248Z"
   },
   {
    "duration": 32058,
    "start_time": "2022-08-04T21:26:23.253Z"
   },
   {
    "duration": 4,
    "start_time": "2022-08-04T21:26:55.313Z"
   },
   {
    "duration": 102,
    "start_time": "2022-08-04T21:26:55.320Z"
   },
   {
    "duration": 5,
    "start_time": "2022-08-04T21:26:55.424Z"
   },
   {
    "duration": 11779,
    "start_time": "2022-08-04T21:26:55.431Z"
   },
   {
    "duration": 44892,
    "start_time": "2022-08-04T21:27:07.212Z"
   },
   {
    "duration": 49500,
    "start_time": "2022-08-04T21:28:16.246Z"
   },
   {
    "duration": 2,
    "start_time": "2022-08-04T21:29:05.749Z"
   },
   {
    "duration": 10,
    "start_time": "2022-08-04T21:29:05.753Z"
   },
   {
    "duration": 839,
    "start_time": "2022-08-04T21:29:05.765Z"
   },
   {
    "duration": 27,
    "start_time": "2022-08-04T21:29:06.606Z"
   },
   {
    "duration": 6010,
    "start_time": "2022-08-04T21:29:06.634Z"
   },
   {
    "duration": 3,
    "start_time": "2022-08-04T21:29:12.646Z"
   },
   {
    "duration": 32720,
    "start_time": "2022-08-04T21:29:12.651Z"
   },
   {
    "duration": 4,
    "start_time": "2022-08-04T21:29:45.373Z"
   },
   {
    "duration": 109,
    "start_time": "2022-08-04T21:29:45.379Z"
   },
   {
    "duration": 14,
    "start_time": "2022-08-04T21:29:45.489Z"
   },
   {
    "duration": 12017,
    "start_time": "2022-08-04T21:29:45.505Z"
   },
   {
    "duration": 50385,
    "start_time": "2022-08-04T21:30:09.048Z"
   },
   {
    "duration": 3,
    "start_time": "2022-08-04T21:30:59.435Z"
   },
   {
    "duration": 7,
    "start_time": "2022-08-04T21:30:59.440Z"
   },
   {
    "duration": 832,
    "start_time": "2022-08-04T21:30:59.449Z"
   },
   {
    "duration": 33,
    "start_time": "2022-08-04T21:31:00.282Z"
   },
   {
    "duration": 5927,
    "start_time": "2022-08-04T21:31:00.317Z"
   },
   {
    "duration": 4,
    "start_time": "2022-08-04T21:31:06.246Z"
   },
   {
    "duration": 33687,
    "start_time": "2022-08-04T21:31:06.251Z"
   },
   {
    "duration": 4,
    "start_time": "2022-08-04T21:31:39.940Z"
   },
   {
    "duration": 101,
    "start_time": "2022-08-04T21:31:39.947Z"
   },
   {
    "duration": 5,
    "start_time": "2022-08-04T21:31:40.050Z"
   },
   {
    "duration": 12231,
    "start_time": "2022-08-04T21:31:40.057Z"
   },
   {
    "duration": 43317,
    "start_time": "2022-08-04T21:31:52.290Z"
   },
   {
    "duration": 25379,
    "start_time": "2022-08-04T21:32:35.609Z"
   },
   {
    "duration": 296859,
    "start_time": "2022-08-04T21:33:00.989Z"
   },
   {
    "duration": 5,
    "start_time": "2022-08-04T21:37:57.849Z"
   },
   {
    "duration": 34060,
    "start_time": "2022-08-04T21:37:57.855Z"
   },
   {
    "duration": 138363,
    "start_time": "2022-08-04T21:38:31.917Z"
   },
   {
    "duration": 0,
    "start_time": "2022-08-04T21:40:50.283Z"
   },
   {
    "duration": 19,
    "start_time": "2022-08-04T21:40:54.232Z"
   },
   {
    "duration": 52394,
    "start_time": "2022-08-04T21:44:26.985Z"
   },
   {
    "duration": 3,
    "start_time": "2022-08-04T21:45:19.381Z"
   },
   {
    "duration": 17,
    "start_time": "2022-08-04T21:45:19.386Z"
   },
   {
    "duration": 814,
    "start_time": "2022-08-04T21:45:19.404Z"
   },
   {
    "duration": 25,
    "start_time": "2022-08-04T21:45:20.221Z"
   },
   {
    "duration": 5873,
    "start_time": "2022-08-04T21:45:20.247Z"
   },
   {
    "duration": 3,
    "start_time": "2022-08-04T21:45:26.122Z"
   },
   {
    "duration": 32790,
    "start_time": "2022-08-04T21:45:26.127Z"
   },
   {
    "duration": 5,
    "start_time": "2022-08-04T21:45:58.919Z"
   },
   {
    "duration": 120,
    "start_time": "2022-08-04T21:45:58.926Z"
   },
   {
    "duration": 5,
    "start_time": "2022-08-04T21:45:59.048Z"
   },
   {
    "duration": 13007,
    "start_time": "2022-08-04T21:45:59.054Z"
   },
   {
    "duration": 45945,
    "start_time": "2022-08-04T21:46:12.063Z"
   },
   {
    "duration": 26834,
    "start_time": "2022-08-04T21:46:58.011Z"
   },
   {
    "duration": 57847,
    "start_time": "2022-08-04T21:47:24.848Z"
   },
   {
    "duration": 4,
    "start_time": "2022-08-04T21:48:22.703Z"
   },
   {
    "duration": 47765,
    "start_time": "2022-08-04T21:48:50.406Z"
   },
   {
    "duration": 2,
    "start_time": "2022-08-04T21:49:38.174Z"
   },
   {
    "duration": 8,
    "start_time": "2022-08-04T21:49:38.178Z"
   },
   {
    "duration": 856,
    "start_time": "2022-08-04T21:49:38.188Z"
   },
   {
    "duration": 30,
    "start_time": "2022-08-04T21:49:39.045Z"
   },
   {
    "duration": 5940,
    "start_time": "2022-08-04T21:49:39.077Z"
   },
   {
    "duration": 4,
    "start_time": "2022-08-04T21:49:45.019Z"
   },
   {
    "duration": 34593,
    "start_time": "2022-08-04T21:49:45.024Z"
   },
   {
    "duration": 4,
    "start_time": "2022-08-04T21:50:19.619Z"
   },
   {
    "duration": 106,
    "start_time": "2022-08-04T21:50:19.626Z"
   },
   {
    "duration": 6,
    "start_time": "2022-08-04T21:50:19.733Z"
   },
   {
    "duration": 12296,
    "start_time": "2022-08-04T21:50:19.741Z"
   },
   {
    "duration": 45379,
    "start_time": "2022-08-04T21:50:32.038Z"
   },
   {
    "duration": 26018,
    "start_time": "2022-08-04T21:51:17.418Z"
   },
   {
    "duration": 40319,
    "start_time": "2022-08-04T21:51:43.438Z"
   },
   {
    "duration": 4,
    "start_time": "2022-08-04T21:52:23.758Z"
   },
   {
    "duration": 32666,
    "start_time": "2022-08-04T21:52:23.764Z"
   },
   {
    "duration": 61872,
    "start_time": "2022-08-04T21:52:56.432Z"
   },
   {
    "duration": 0,
    "start_time": "2022-08-04T21:53:58.306Z"
   },
   {
    "duration": 0,
    "start_time": "2022-08-04T21:53:58.307Z"
   },
   {
    "duration": 636,
    "start_time": "2022-08-04T21:54:00.564Z"
   },
   {
    "duration": 47492,
    "start_time": "2022-08-04T21:57:33.589Z"
   },
   {
    "duration": 2,
    "start_time": "2022-08-04T21:58:21.084Z"
   },
   {
    "duration": 15,
    "start_time": "2022-08-04T21:58:21.088Z"
   },
   {
    "duration": 879,
    "start_time": "2022-08-04T21:58:21.105Z"
   },
   {
    "duration": 18,
    "start_time": "2022-08-04T21:58:21.986Z"
   },
   {
    "duration": 5986,
    "start_time": "2022-08-04T21:58:22.006Z"
   },
   {
    "duration": 9,
    "start_time": "2022-08-04T21:58:27.994Z"
   },
   {
    "duration": 32944,
    "start_time": "2022-08-04T21:58:28.005Z"
   },
   {
    "duration": 4,
    "start_time": "2022-08-04T21:59:00.951Z"
   },
   {
    "duration": 101,
    "start_time": "2022-08-04T21:59:00.957Z"
   },
   {
    "duration": 5,
    "start_time": "2022-08-04T21:59:01.060Z"
   },
   {
    "duration": 12205,
    "start_time": "2022-08-04T21:59:01.066Z"
   },
   {
    "duration": 45836,
    "start_time": "2022-08-04T21:59:13.273Z"
   },
   {
    "duration": 26196,
    "start_time": "2022-08-04T21:59:59.110Z"
   },
   {
    "duration": 472555,
    "start_time": "2022-08-04T22:00:25.308Z"
   },
   {
    "duration": 3,
    "start_time": "2022-08-04T22:08:17.865Z"
   },
   {
    "duration": 32249,
    "start_time": "2022-08-04T22:08:17.870Z"
   },
   {
    "duration": 64343,
    "start_time": "2022-08-04T22:08:50.121Z"
   },
   {
    "duration": 7,
    "start_time": "2022-08-04T22:09:54.466Z"
   },
   {
    "duration": 31,
    "start_time": "2022-08-04T22:09:54.475Z"
   },
   {
    "duration": 335,
    "start_time": "2022-08-04T22:10:08.755Z"
   },
   {
    "duration": 3,
    "start_time": "2022-08-04T22:10:20.535Z"
   },
   {
    "duration": 3,
    "start_time": "2022-08-04T22:10:54.187Z"
   },
   {
    "duration": 37088,
    "start_time": "2022-08-04T22:12:03.389Z"
   },
   {
    "duration": 48771,
    "start_time": "2022-08-04T22:15:07.233Z"
   },
   {
    "duration": 2,
    "start_time": "2022-08-04T22:15:56.006Z"
   },
   {
    "duration": 14,
    "start_time": "2022-08-04T22:15:56.010Z"
   },
   {
    "duration": 901,
    "start_time": "2022-08-04T22:15:56.026Z"
   },
   {
    "duration": 6,
    "start_time": "2022-08-04T22:15:56.931Z"
   },
   {
    "duration": 5748,
    "start_time": "2022-08-04T22:15:56.939Z"
   },
   {
    "duration": 3,
    "start_time": "2022-08-04T22:16:02.689Z"
   },
   {
    "duration": 31692,
    "start_time": "2022-08-04T22:16:02.702Z"
   },
   {
    "duration": 4,
    "start_time": "2022-08-04T22:16:34.402Z"
   },
   {
    "duration": 110,
    "start_time": "2022-08-04T22:16:34.408Z"
   },
   {
    "duration": 5,
    "start_time": "2022-08-04T22:16:34.519Z"
   },
   {
    "duration": 11683,
    "start_time": "2022-08-04T22:16:34.526Z"
   },
   {
    "duration": 42101,
    "start_time": "2022-08-04T22:16:46.211Z"
   },
   {
    "duration": 24611,
    "start_time": "2022-08-04T22:17:28.315Z"
   },
   {
    "duration": 47453,
    "start_time": "2022-08-04T22:17:59.820Z"
   },
   {
    "duration": 2,
    "start_time": "2022-08-04T22:18:47.276Z"
   },
   {
    "duration": 6,
    "start_time": "2022-08-04T22:18:47.280Z"
   },
   {
    "duration": 827,
    "start_time": "2022-08-04T22:18:47.288Z"
   },
   {
    "duration": 7,
    "start_time": "2022-08-04T22:18:48.117Z"
   },
   {
    "duration": 5686,
    "start_time": "2022-08-04T22:18:48.126Z"
   },
   {
    "duration": 2,
    "start_time": "2022-08-04T22:18:53.815Z"
   },
   {
    "duration": 31897,
    "start_time": "2022-08-04T22:18:53.819Z"
   },
   {
    "duration": 4,
    "start_time": "2022-08-04T22:19:25.717Z"
   },
   {
    "duration": 106,
    "start_time": "2022-08-04T22:19:25.723Z"
   },
   {
    "duration": 5,
    "start_time": "2022-08-04T22:19:25.830Z"
   },
   {
    "duration": 11420,
    "start_time": "2022-08-04T22:19:25.836Z"
   },
   {
    "duration": 42655,
    "start_time": "2022-08-04T22:19:37.258Z"
   },
   {
    "duration": 86183,
    "start_time": "2022-08-04T22:20:20.004Z"
   },
   {
    "duration": 24489,
    "start_time": "2022-08-04T22:21:46.189Z"
   },
   {
    "duration": 52547,
    "start_time": "2022-08-04T22:23:14.850Z"
   },
   {
    "duration": 4,
    "start_time": "2022-08-04T22:24:07.399Z"
   },
   {
    "duration": 11,
    "start_time": "2022-08-04T22:24:07.404Z"
   },
   {
    "duration": 797,
    "start_time": "2022-08-04T22:24:07.417Z"
   },
   {
    "duration": 6,
    "start_time": "2022-08-04T22:24:08.215Z"
   },
   {
    "duration": 5783,
    "start_time": "2022-08-04T22:24:08.222Z"
   },
   {
    "duration": 3,
    "start_time": "2022-08-04T22:24:14.007Z"
   },
   {
    "duration": 31377,
    "start_time": "2022-08-04T22:24:14.011Z"
   },
   {
    "duration": 3,
    "start_time": "2022-08-04T22:24:45.390Z"
   },
   {
    "duration": 85,
    "start_time": "2022-08-04T22:24:45.403Z"
   },
   {
    "duration": 16,
    "start_time": "2022-08-04T22:24:45.490Z"
   },
   {
    "duration": 11534,
    "start_time": "2022-08-04T22:24:45.508Z"
   },
   {
    "duration": 41167,
    "start_time": "2022-08-04T22:24:57.044Z"
   },
   {
    "duration": 266694,
    "start_time": "2022-08-04T22:25:38.212Z"
   },
   {
    "duration": 4,
    "start_time": "2022-08-04T22:30:04.907Z"
   },
   {
    "duration": 23955,
    "start_time": "2022-08-04T22:30:04.912Z"
   },
   {
    "duration": 49269,
    "start_time": "2022-08-04T22:30:28.870Z"
   },
   {
    "duration": 0,
    "start_time": "2022-08-04T22:31:18.141Z"
   },
   {
    "duration": 0,
    "start_time": "2022-08-04T22:31:18.143Z"
   },
   {
    "duration": 0,
    "start_time": "2022-08-04T22:31:18.144Z"
   },
   {
    "duration": 0,
    "start_time": "2022-08-04T22:31:18.144Z"
   },
   {
    "duration": 50913,
    "start_time": "2022-08-04T22:31:43.688Z"
   },
   {
    "duration": 3,
    "start_time": "2022-08-04T22:32:34.603Z"
   },
   {
    "duration": 7,
    "start_time": "2022-08-04T22:32:34.607Z"
   },
   {
    "duration": 796,
    "start_time": "2022-08-04T22:32:34.616Z"
   },
   {
    "duration": 6,
    "start_time": "2022-08-04T22:32:35.413Z"
   },
   {
    "duration": 5664,
    "start_time": "2022-08-04T22:32:35.421Z"
   },
   {
    "duration": 3,
    "start_time": "2022-08-04T22:32:41.087Z"
   },
   {
    "duration": 31408,
    "start_time": "2022-08-04T22:32:41.092Z"
   },
   {
    "duration": 4,
    "start_time": "2022-08-04T22:33:12.501Z"
   },
   {
    "duration": 104,
    "start_time": "2022-08-04T22:33:12.509Z"
   },
   {
    "duration": 5,
    "start_time": "2022-08-04T22:33:12.615Z"
   },
   {
    "duration": 11507,
    "start_time": "2022-08-04T22:33:12.622Z"
   },
   {
    "duration": 43386,
    "start_time": "2022-08-04T22:33:24.130Z"
   },
   {
    "duration": 63279,
    "start_time": "2022-08-04T22:34:07.520Z"
   },
   {
    "duration": 3,
    "start_time": "2022-08-04T22:35:10.802Z"
   },
   {
    "duration": 24799,
    "start_time": "2022-08-04T22:35:10.807Z"
   },
   {
    "duration": 49733,
    "start_time": "2022-08-04T22:36:06.120Z"
   },
   {
    "duration": 3,
    "start_time": "2022-08-04T22:36:55.855Z"
   },
   {
    "duration": 10,
    "start_time": "2022-08-04T22:36:55.859Z"
   },
   {
    "duration": 805,
    "start_time": "2022-08-04T22:36:55.871Z"
   },
   {
    "duration": 5,
    "start_time": "2022-08-04T22:36:56.677Z"
   },
   {
    "duration": 5768,
    "start_time": "2022-08-04T22:36:56.684Z"
   },
   {
    "duration": 3,
    "start_time": "2022-08-04T22:37:02.453Z"
   },
   {
    "duration": 31319,
    "start_time": "2022-08-04T22:37:02.458Z"
   },
   {
    "duration": 3,
    "start_time": "2022-08-04T22:37:33.779Z"
   },
   {
    "duration": 97,
    "start_time": "2022-08-04T22:37:33.784Z"
   },
   {
    "duration": 6,
    "start_time": "2022-08-04T22:37:33.882Z"
   },
   {
    "duration": 11593,
    "start_time": "2022-08-04T22:37:33.903Z"
   },
   {
    "duration": 61002,
    "start_time": "2022-08-04T22:37:45.502Z"
   },
   {
    "duration": 160071,
    "start_time": "2022-08-04T22:38:46.506Z"
   },
   {
    "duration": 3,
    "start_time": "2022-08-04T22:41:26.579Z"
   },
   {
    "duration": 24716,
    "start_time": "2022-08-04T22:41:26.584Z"
   },
   {
    "duration": 104437,
    "start_time": "2022-08-04T22:41:51.302Z"
   },
   {
    "duration": 4,
    "start_time": "2022-08-04T22:43:35.741Z"
   },
   {
    "duration": 37160,
    "start_time": "2022-08-04T22:43:35.746Z"
   },
   {
    "duration": 11,
    "start_time": "2022-08-04T22:44:12.908Z"
   },
   {
    "duration": 276674,
    "start_time": "2022-08-04T22:44:12.922Z"
   },
   {
    "duration": 48737,
    "start_time": "2022-08-07T19:49:00.103Z"
   },
   {
    "duration": 3,
    "start_time": "2022-08-07T19:49:48.842Z"
   },
   {
    "duration": 7,
    "start_time": "2022-08-07T19:49:48.846Z"
   },
   {
    "duration": 2460,
    "start_time": "2022-08-07T19:49:48.855Z"
   },
   {
    "duration": 5,
    "start_time": "2022-08-07T19:49:51.317Z"
   },
   {
    "duration": 5156,
    "start_time": "2022-08-07T19:49:51.324Z"
   },
   {
    "duration": 3,
    "start_time": "2022-08-07T19:49:56.486Z"
   },
   {
    "duration": 29431,
    "start_time": "2022-08-07T19:49:56.490Z"
   },
   {
    "duration": 4,
    "start_time": "2022-08-07T19:50:25.923Z"
   },
   {
    "duration": 98,
    "start_time": "2022-08-07T19:50:25.928Z"
   },
   {
    "duration": 5,
    "start_time": "2022-08-07T19:50:26.028Z"
   },
   {
    "duration": 6436,
    "start_time": "2022-08-07T19:50:26.034Z"
   },
   {
    "duration": 69517,
    "start_time": "2022-08-07T19:50:32.472Z"
   },
   {
    "duration": 143497,
    "start_time": "2022-08-07T19:51:41.992Z"
   },
   {
    "duration": 4,
    "start_time": "2022-08-07T19:54:05.490Z"
   },
   {
    "duration": 22934,
    "start_time": "2022-08-07T19:54:05.495Z"
   },
   {
    "duration": 165410,
    "start_time": "2022-08-07T19:54:28.430Z"
   },
   {
    "duration": 4,
    "start_time": "2022-08-07T19:57:13.841Z"
   },
   {
    "duration": 32692,
    "start_time": "2022-08-07T19:57:13.846Z"
   },
   {
    "duration": 11,
    "start_time": "2022-08-07T19:57:46.539Z"
   }
  ],
  "kernelspec": {
   "display_name": "Python 3 (ipykernel)",
   "language": "python",
   "name": "python3"
  },
  "language_info": {
   "codemirror_mode": {
    "name": "ipython",
    "version": 3
   },
   "file_extension": ".py",
   "mimetype": "text/x-python",
   "name": "python",
   "nbconvert_exporter": "python",
   "pygments_lexer": "ipython3",
   "version": "3.9.7"
  },
  "toc": {
   "base_numbering": 1,
   "nav_menu": {},
   "number_sections": true,
   "sideBar": true,
   "skip_h1_title": true,
   "title_cell": "Содержание",
   "title_sidebar": "Contents",
   "toc_cell": true,
   "toc_position": {
    "height": "calc(100% - 180px)",
    "left": "10px",
    "top": "150px",
    "width": "302.391px"
   },
   "toc_section_display": true,
   "toc_window_display": false
  }
 },
 "nbformat": 4,
 "nbformat_minor": 2
}
