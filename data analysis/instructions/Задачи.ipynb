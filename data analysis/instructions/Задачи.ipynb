{
  "nbformat": 4,
  "nbformat_minor": 0,
  "metadata": {
    "colab": {
      "provenance": [],
      "toc_visible": true
    },
    "kernelspec": {
      "name": "python3",
      "display_name": "Python 3"
    },
    "language_info": {
      "name": "python"
    }
  },
  "cells": [
    {
      "cell_type": "code",
      "source": [
        "import pandas as pd\n",
        "import numpy as np\n",
        "import re\n",
        "import matplotlib.pyplot as plt"
      ],
      "metadata": {
        "id": "FIi_8DsY-kgJ"
      },
      "execution_count": null,
      "outputs": []
    },
    {
      "cell_type": "markdown",
      "source": [
        "## Pandas"
      ],
      "metadata": {
        "id": "K6ZhddjRUhi9"
      }
    },
    {
      "cell_type": "markdown",
      "source": [
        "**1. Заменить в датафрейме `a` все нечетные или отрицательные числа на число `n`, а у остальных чисел в датафрейме поменять знак.**"
      ],
      "metadata": {
        "id": "NY2cYNFf9TfA"
      }
    },
    {
      "cell_type": "code",
      "source": [
        "def replace_all_odd_or_negative(a, n):\n",
        "    return a.apply(lambda row: row.apply(lambda x: n if 0 > x or x % 2 == 1 else -x))"
      ],
      "metadata": {
        "id": "cibGhRfd9oqQ"
      },
      "execution_count": null,
      "outputs": []
    },
    {
      "cell_type": "code",
      "source": [
        "# Пример\n",
        "a = pd.DataFrame([\n",
        "    [-1, 1, 0],\n",
        "    [2, -4, 6]\n",
        "])\n",
        "n = 100\n",
        "replace_all_odd_or_negative(a, n)"
      ],
      "metadata": {
        "colab": {
          "base_uri": "https://localhost:8080/",
          "height": 111
        },
        "id": "tki_wGOZzgew",
        "outputId": "807f6aa7-83d4-4b32-94a8-c78a7e8c61f4"
      },
      "execution_count": null,
      "outputs": [
        {
          "output_type": "execute_result",
          "data": {
            "text/plain": [
              "     0    1  2\n",
              "0  100  100  0\n",
              "1   -2  100 -6"
            ],
            "text/html": [
              "\n",
              "  <div id=\"df-f3aeffc2-aa61-4669-93df-67ff3c63da17\" class=\"colab-df-container\">\n",
              "    <div>\n",
              "<style scoped>\n",
              "    .dataframe tbody tr th:only-of-type {\n",
              "        vertical-align: middle;\n",
              "    }\n",
              "\n",
              "    .dataframe tbody tr th {\n",
              "        vertical-align: top;\n",
              "    }\n",
              "\n",
              "    .dataframe thead th {\n",
              "        text-align: right;\n",
              "    }\n",
              "</style>\n",
              "<table border=\"1\" class=\"dataframe\">\n",
              "  <thead>\n",
              "    <tr style=\"text-align: right;\">\n",
              "      <th></th>\n",
              "      <th>0</th>\n",
              "      <th>1</th>\n",
              "      <th>2</th>\n",
              "    </tr>\n",
              "  </thead>\n",
              "  <tbody>\n",
              "    <tr>\n",
              "      <th>0</th>\n",
              "      <td>100</td>\n",
              "      <td>100</td>\n",
              "      <td>0</td>\n",
              "    </tr>\n",
              "    <tr>\n",
              "      <th>1</th>\n",
              "      <td>-2</td>\n",
              "      <td>100</td>\n",
              "      <td>-6</td>\n",
              "    </tr>\n",
              "  </tbody>\n",
              "</table>\n",
              "</div>\n",
              "    <div class=\"colab-df-buttons\">\n",
              "\n",
              "  <div class=\"colab-df-container\">\n",
              "    <button class=\"colab-df-convert\" onclick=\"convertToInteractive('df-f3aeffc2-aa61-4669-93df-67ff3c63da17')\"\n",
              "            title=\"Convert this dataframe to an interactive table.\"\n",
              "            style=\"display:none;\">\n",
              "\n",
              "  <svg xmlns=\"http://www.w3.org/2000/svg\" height=\"24px\" viewBox=\"0 -960 960 960\">\n",
              "    <path d=\"M120-120v-720h720v720H120Zm60-500h600v-160H180v160Zm220 220h160v-160H400v160Zm0 220h160v-160H400v160ZM180-400h160v-160H180v160Zm440 0h160v-160H620v160ZM180-180h160v-160H180v160Zm440 0h160v-160H620v160Z\"/>\n",
              "  </svg>\n",
              "    </button>\n",
              "\n",
              "  <style>\n",
              "    .colab-df-container {\n",
              "      display:flex;\n",
              "      gap: 12px;\n",
              "    }\n",
              "\n",
              "    .colab-df-convert {\n",
              "      background-color: #E8F0FE;\n",
              "      border: none;\n",
              "      border-radius: 50%;\n",
              "      cursor: pointer;\n",
              "      display: none;\n",
              "      fill: #1967D2;\n",
              "      height: 32px;\n",
              "      padding: 0 0 0 0;\n",
              "      width: 32px;\n",
              "    }\n",
              "\n",
              "    .colab-df-convert:hover {\n",
              "      background-color: #E2EBFA;\n",
              "      box-shadow: 0px 1px 2px rgba(60, 64, 67, 0.3), 0px 1px 3px 1px rgba(60, 64, 67, 0.15);\n",
              "      fill: #174EA6;\n",
              "    }\n",
              "\n",
              "    .colab-df-buttons div {\n",
              "      margin-bottom: 4px;\n",
              "    }\n",
              "\n",
              "    [theme=dark] .colab-df-convert {\n",
              "      background-color: #3B4455;\n",
              "      fill: #D2E3FC;\n",
              "    }\n",
              "\n",
              "    [theme=dark] .colab-df-convert:hover {\n",
              "      background-color: #434B5C;\n",
              "      box-shadow: 0px 1px 3px 1px rgba(0, 0, 0, 0.15);\n",
              "      filter: drop-shadow(0px 1px 2px rgba(0, 0, 0, 0.3));\n",
              "      fill: #FFFFFF;\n",
              "    }\n",
              "  </style>\n",
              "\n",
              "    <script>\n",
              "      const buttonEl =\n",
              "        document.querySelector('#df-f3aeffc2-aa61-4669-93df-67ff3c63da17 button.colab-df-convert');\n",
              "      buttonEl.style.display =\n",
              "        google.colab.kernel.accessAllowed ? 'block' : 'none';\n",
              "\n",
              "      async function convertToInteractive(key) {\n",
              "        const element = document.querySelector('#df-f3aeffc2-aa61-4669-93df-67ff3c63da17');\n",
              "        const dataTable =\n",
              "          await google.colab.kernel.invokeFunction('convertToInteractive',\n",
              "                                                    [key], {});\n",
              "        if (!dataTable) return;\n",
              "\n",
              "        const docLinkHtml = 'Like what you see? Visit the ' +\n",
              "          '<a target=\"_blank\" href=https://colab.research.google.com/notebooks/data_table.ipynb>data table notebook</a>'\n",
              "          + ' to learn more about interactive tables.';\n",
              "        element.innerHTML = '';\n",
              "        dataTable['output_type'] = 'display_data';\n",
              "        await google.colab.output.renderOutput(dataTable, element);\n",
              "        const docLink = document.createElement('div');\n",
              "        docLink.innerHTML = docLinkHtml;\n",
              "        element.appendChild(docLink);\n",
              "      }\n",
              "    </script>\n",
              "  </div>\n",
              "\n",
              "\n",
              "<div id=\"df-0d85f13a-388d-4986-9175-56f6be054c83\">\n",
              "  <button class=\"colab-df-quickchart\" onclick=\"quickchart('df-0d85f13a-388d-4986-9175-56f6be054c83')\"\n",
              "            title=\"Suggest charts\"\n",
              "            style=\"display:none;\">\n",
              "\n",
              "<svg xmlns=\"http://www.w3.org/2000/svg\" height=\"24px\"viewBox=\"0 0 24 24\"\n",
              "     width=\"24px\">\n",
              "    <g>\n",
              "        <path d=\"M19 3H5c-1.1 0-2 .9-2 2v14c0 1.1.9 2 2 2h14c1.1 0 2-.9 2-2V5c0-1.1-.9-2-2-2zM9 17H7v-7h2v7zm4 0h-2V7h2v10zm4 0h-2v-4h2v4z\"/>\n",
              "    </g>\n",
              "</svg>\n",
              "  </button>\n",
              "\n",
              "<style>\n",
              "  .colab-df-quickchart {\n",
              "      --bg-color: #E8F0FE;\n",
              "      --fill-color: #1967D2;\n",
              "      --hover-bg-color: #E2EBFA;\n",
              "      --hover-fill-color: #174EA6;\n",
              "      --disabled-fill-color: #AAA;\n",
              "      --disabled-bg-color: #DDD;\n",
              "  }\n",
              "\n",
              "  [theme=dark] .colab-df-quickchart {\n",
              "      --bg-color: #3B4455;\n",
              "      --fill-color: #D2E3FC;\n",
              "      --hover-bg-color: #434B5C;\n",
              "      --hover-fill-color: #FFFFFF;\n",
              "      --disabled-bg-color: #3B4455;\n",
              "      --disabled-fill-color: #666;\n",
              "  }\n",
              "\n",
              "  .colab-df-quickchart {\n",
              "    background-color: var(--bg-color);\n",
              "    border: none;\n",
              "    border-radius: 50%;\n",
              "    cursor: pointer;\n",
              "    display: none;\n",
              "    fill: var(--fill-color);\n",
              "    height: 32px;\n",
              "    padding: 0;\n",
              "    width: 32px;\n",
              "  }\n",
              "\n",
              "  .colab-df-quickchart:hover {\n",
              "    background-color: var(--hover-bg-color);\n",
              "    box-shadow: 0 1px 2px rgba(60, 64, 67, 0.3), 0 1px 3px 1px rgba(60, 64, 67, 0.15);\n",
              "    fill: var(--button-hover-fill-color);\n",
              "  }\n",
              "\n",
              "  .colab-df-quickchart-complete:disabled,\n",
              "  .colab-df-quickchart-complete:disabled:hover {\n",
              "    background-color: var(--disabled-bg-color);\n",
              "    fill: var(--disabled-fill-color);\n",
              "    box-shadow: none;\n",
              "  }\n",
              "\n",
              "  .colab-df-spinner {\n",
              "    border: 2px solid var(--fill-color);\n",
              "    border-color: transparent;\n",
              "    border-bottom-color: var(--fill-color);\n",
              "    animation:\n",
              "      spin 1s steps(1) infinite;\n",
              "  }\n",
              "\n",
              "  @keyframes spin {\n",
              "    0% {\n",
              "      border-color: transparent;\n",
              "      border-bottom-color: var(--fill-color);\n",
              "      border-left-color: var(--fill-color);\n",
              "    }\n",
              "    20% {\n",
              "      border-color: transparent;\n",
              "      border-left-color: var(--fill-color);\n",
              "      border-top-color: var(--fill-color);\n",
              "    }\n",
              "    30% {\n",
              "      border-color: transparent;\n",
              "      border-left-color: var(--fill-color);\n",
              "      border-top-color: var(--fill-color);\n",
              "      border-right-color: var(--fill-color);\n",
              "    }\n",
              "    40% {\n",
              "      border-color: transparent;\n",
              "      border-right-color: var(--fill-color);\n",
              "      border-top-color: var(--fill-color);\n",
              "    }\n",
              "    60% {\n",
              "      border-color: transparent;\n",
              "      border-right-color: var(--fill-color);\n",
              "    }\n",
              "    80% {\n",
              "      border-color: transparent;\n",
              "      border-right-color: var(--fill-color);\n",
              "      border-bottom-color: var(--fill-color);\n",
              "    }\n",
              "    90% {\n",
              "      border-color: transparent;\n",
              "      border-bottom-color: var(--fill-color);\n",
              "    }\n",
              "  }\n",
              "</style>\n",
              "\n",
              "  <script>\n",
              "    async function quickchart(key) {\n",
              "      const quickchartButtonEl =\n",
              "        document.querySelector('#' + key + ' button');\n",
              "      quickchartButtonEl.disabled = true;  // To prevent multiple clicks.\n",
              "      quickchartButtonEl.classList.add('colab-df-spinner');\n",
              "      try {\n",
              "        const charts = await google.colab.kernel.invokeFunction(\n",
              "            'suggestCharts', [key], {});\n",
              "      } catch (error) {\n",
              "        console.error('Error during call to suggestCharts:', error);\n",
              "      }\n",
              "      quickchartButtonEl.classList.remove('colab-df-spinner');\n",
              "      quickchartButtonEl.classList.add('colab-df-quickchart-complete');\n",
              "    }\n",
              "    (() => {\n",
              "      let quickchartButtonEl =\n",
              "        document.querySelector('#df-0d85f13a-388d-4986-9175-56f6be054c83 button');\n",
              "      quickchartButtonEl.style.display =\n",
              "        google.colab.kernel.accessAllowed ? 'block' : 'none';\n",
              "    })();\n",
              "  </script>\n",
              "</div>\n",
              "    </div>\n",
              "  </div>\n"
            ],
            "application/vnd.google.colaboratory.intrinsic+json": {
              "type": "dataframe",
              "summary": "{\n  \"name\": \"replace_all_odd_or_negative(a, n)\",\n  \"rows\": 2,\n  \"fields\": [\n    {\n      \"column\": 0,\n      \"properties\": {\n        \"dtype\": \"number\",\n        \"std\": 72,\n        \"min\": -2,\n        \"max\": 100,\n        \"num_unique_values\": 2,\n        \"samples\": [\n          -2,\n          100\n        ],\n        \"semantic_type\": \"\",\n        \"description\": \"\"\n      }\n    },\n    {\n      \"column\": 1,\n      \"properties\": {\n        \"dtype\": \"number\",\n        \"std\": 0,\n        \"min\": 100,\n        \"max\": 100,\n        \"num_unique_values\": 1,\n        \"samples\": [\n          100\n        ],\n        \"semantic_type\": \"\",\n        \"description\": \"\"\n      }\n    },\n    {\n      \"column\": 2,\n      \"properties\": {\n        \"dtype\": \"number\",\n        \"std\": 4,\n        \"min\": -6,\n        \"max\": 0,\n        \"num_unique_values\": 2,\n        \"samples\": [\n          -6\n        ],\n        \"semantic_type\": \"\",\n        \"description\": \"\"\n      }\n    }\n  ]\n}"
            }
          },
          "metadata": {},
          "execution_count": 29
        }
      ]
    },
    {
      "cell_type": "markdown",
      "source": [
        "**2. Венуть копию датафрейма `a`, где индексы и названия колонок должны идти в противоположном порядке, при этом сами числовые данные должны остаться на месте.**"
      ],
      "metadata": {
        "id": "sG6_7utQrlOv"
      }
    },
    {
      "cell_type": "code",
      "source": [
        "def reverse_all_labels(a):\n",
        "    b = a.copy()\n",
        "    b.index = b.index[::-1]\n",
        "    b.columns = b.columns[::-1]\n",
        "    return b"
      ],
      "metadata": {
        "id": "bBYZXv16-nYn"
      },
      "execution_count": null,
      "outputs": []
    },
    {
      "cell_type": "code",
      "source": [
        "# Пример\n",
        "a = pd.DataFrame({\n",
        "    'A': [1, 2, 3, 4],\n",
        "    'B': [5, 6, 7, 8],\n",
        "    'C': [9, 10, 11, 12],\n",
        "    'D': [13, 14, 15, 16]\n",
        "}, index=[0, 1, 2, 3])\n",
        "reverse_all_labels(a)"
      ],
      "metadata": {
        "colab": {
          "base_uri": "https://localhost:8080/",
          "height": 173
        },
        "id": "_L8cxku2zVpi",
        "outputId": "56e2232e-ece7-4c3c-a33b-88da89710d75"
      },
      "execution_count": null,
      "outputs": [
        {
          "output_type": "execute_result",
          "data": {
            "text/plain": [
              "   D  C   B   A\n",
              "3  1  5   9  13\n",
              "2  2  6  10  14\n",
              "1  3  7  11  15\n",
              "0  4  8  12  16"
            ],
            "text/html": [
              "\n",
              "  <div id=\"df-f26b1db9-c838-40e6-9af0-24b0d6ef6da8\" class=\"colab-df-container\">\n",
              "    <div>\n",
              "<style scoped>\n",
              "    .dataframe tbody tr th:only-of-type {\n",
              "        vertical-align: middle;\n",
              "    }\n",
              "\n",
              "    .dataframe tbody tr th {\n",
              "        vertical-align: top;\n",
              "    }\n",
              "\n",
              "    .dataframe thead th {\n",
              "        text-align: right;\n",
              "    }\n",
              "</style>\n",
              "<table border=\"1\" class=\"dataframe\">\n",
              "  <thead>\n",
              "    <tr style=\"text-align: right;\">\n",
              "      <th></th>\n",
              "      <th>D</th>\n",
              "      <th>C</th>\n",
              "      <th>B</th>\n",
              "      <th>A</th>\n",
              "    </tr>\n",
              "  </thead>\n",
              "  <tbody>\n",
              "    <tr>\n",
              "      <th>3</th>\n",
              "      <td>1</td>\n",
              "      <td>5</td>\n",
              "      <td>9</td>\n",
              "      <td>13</td>\n",
              "    </tr>\n",
              "    <tr>\n",
              "      <th>2</th>\n",
              "      <td>2</td>\n",
              "      <td>6</td>\n",
              "      <td>10</td>\n",
              "      <td>14</td>\n",
              "    </tr>\n",
              "    <tr>\n",
              "      <th>1</th>\n",
              "      <td>3</td>\n",
              "      <td>7</td>\n",
              "      <td>11</td>\n",
              "      <td>15</td>\n",
              "    </tr>\n",
              "    <tr>\n",
              "      <th>0</th>\n",
              "      <td>4</td>\n",
              "      <td>8</td>\n",
              "      <td>12</td>\n",
              "      <td>16</td>\n",
              "    </tr>\n",
              "  </tbody>\n",
              "</table>\n",
              "</div>\n",
              "    <div class=\"colab-df-buttons\">\n",
              "\n",
              "  <div class=\"colab-df-container\">\n",
              "    <button class=\"colab-df-convert\" onclick=\"convertToInteractive('df-f26b1db9-c838-40e6-9af0-24b0d6ef6da8')\"\n",
              "            title=\"Convert this dataframe to an interactive table.\"\n",
              "            style=\"display:none;\">\n",
              "\n",
              "  <svg xmlns=\"http://www.w3.org/2000/svg\" height=\"24px\" viewBox=\"0 -960 960 960\">\n",
              "    <path d=\"M120-120v-720h720v720H120Zm60-500h600v-160H180v160Zm220 220h160v-160H400v160Zm0 220h160v-160H400v160ZM180-400h160v-160H180v160Zm440 0h160v-160H620v160ZM180-180h160v-160H180v160Zm440 0h160v-160H620v160Z\"/>\n",
              "  </svg>\n",
              "    </button>\n",
              "\n",
              "  <style>\n",
              "    .colab-df-container {\n",
              "      display:flex;\n",
              "      gap: 12px;\n",
              "    }\n",
              "\n",
              "    .colab-df-convert {\n",
              "      background-color: #E8F0FE;\n",
              "      border: none;\n",
              "      border-radius: 50%;\n",
              "      cursor: pointer;\n",
              "      display: none;\n",
              "      fill: #1967D2;\n",
              "      height: 32px;\n",
              "      padding: 0 0 0 0;\n",
              "      width: 32px;\n",
              "    }\n",
              "\n",
              "    .colab-df-convert:hover {\n",
              "      background-color: #E2EBFA;\n",
              "      box-shadow: 0px 1px 2px rgba(60, 64, 67, 0.3), 0px 1px 3px 1px rgba(60, 64, 67, 0.15);\n",
              "      fill: #174EA6;\n",
              "    }\n",
              "\n",
              "    .colab-df-buttons div {\n",
              "      margin-bottom: 4px;\n",
              "    }\n",
              "\n",
              "    [theme=dark] .colab-df-convert {\n",
              "      background-color: #3B4455;\n",
              "      fill: #D2E3FC;\n",
              "    }\n",
              "\n",
              "    [theme=dark] .colab-df-convert:hover {\n",
              "      background-color: #434B5C;\n",
              "      box-shadow: 0px 1px 3px 1px rgba(0, 0, 0, 0.15);\n",
              "      filter: drop-shadow(0px 1px 2px rgba(0, 0, 0, 0.3));\n",
              "      fill: #FFFFFF;\n",
              "    }\n",
              "  </style>\n",
              "\n",
              "    <script>\n",
              "      const buttonEl =\n",
              "        document.querySelector('#df-f26b1db9-c838-40e6-9af0-24b0d6ef6da8 button.colab-df-convert');\n",
              "      buttonEl.style.display =\n",
              "        google.colab.kernel.accessAllowed ? 'block' : 'none';\n",
              "\n",
              "      async function convertToInteractive(key) {\n",
              "        const element = document.querySelector('#df-f26b1db9-c838-40e6-9af0-24b0d6ef6da8');\n",
              "        const dataTable =\n",
              "          await google.colab.kernel.invokeFunction('convertToInteractive',\n",
              "                                                    [key], {});\n",
              "        if (!dataTable) return;\n",
              "\n",
              "        const docLinkHtml = 'Like what you see? Visit the ' +\n",
              "          '<a target=\"_blank\" href=https://colab.research.google.com/notebooks/data_table.ipynb>data table notebook</a>'\n",
              "          + ' to learn more about interactive tables.';\n",
              "        element.innerHTML = '';\n",
              "        dataTable['output_type'] = 'display_data';\n",
              "        await google.colab.output.renderOutput(dataTable, element);\n",
              "        const docLink = document.createElement('div');\n",
              "        docLink.innerHTML = docLinkHtml;\n",
              "        element.appendChild(docLink);\n",
              "      }\n",
              "    </script>\n",
              "  </div>\n",
              "\n",
              "\n",
              "<div id=\"df-f81ba030-9f49-4cb9-b107-fa24665362bc\">\n",
              "  <button class=\"colab-df-quickchart\" onclick=\"quickchart('df-f81ba030-9f49-4cb9-b107-fa24665362bc')\"\n",
              "            title=\"Suggest charts\"\n",
              "            style=\"display:none;\">\n",
              "\n",
              "<svg xmlns=\"http://www.w3.org/2000/svg\" height=\"24px\"viewBox=\"0 0 24 24\"\n",
              "     width=\"24px\">\n",
              "    <g>\n",
              "        <path d=\"M19 3H5c-1.1 0-2 .9-2 2v14c0 1.1.9 2 2 2h14c1.1 0 2-.9 2-2V5c0-1.1-.9-2-2-2zM9 17H7v-7h2v7zm4 0h-2V7h2v10zm4 0h-2v-4h2v4z\"/>\n",
              "    </g>\n",
              "</svg>\n",
              "  </button>\n",
              "\n",
              "<style>\n",
              "  .colab-df-quickchart {\n",
              "      --bg-color: #E8F0FE;\n",
              "      --fill-color: #1967D2;\n",
              "      --hover-bg-color: #E2EBFA;\n",
              "      --hover-fill-color: #174EA6;\n",
              "      --disabled-fill-color: #AAA;\n",
              "      --disabled-bg-color: #DDD;\n",
              "  }\n",
              "\n",
              "  [theme=dark] .colab-df-quickchart {\n",
              "      --bg-color: #3B4455;\n",
              "      --fill-color: #D2E3FC;\n",
              "      --hover-bg-color: #434B5C;\n",
              "      --hover-fill-color: #FFFFFF;\n",
              "      --disabled-bg-color: #3B4455;\n",
              "      --disabled-fill-color: #666;\n",
              "  }\n",
              "\n",
              "  .colab-df-quickchart {\n",
              "    background-color: var(--bg-color);\n",
              "    border: none;\n",
              "    border-radius: 50%;\n",
              "    cursor: pointer;\n",
              "    display: none;\n",
              "    fill: var(--fill-color);\n",
              "    height: 32px;\n",
              "    padding: 0;\n",
              "    width: 32px;\n",
              "  }\n",
              "\n",
              "  .colab-df-quickchart:hover {\n",
              "    background-color: var(--hover-bg-color);\n",
              "    box-shadow: 0 1px 2px rgba(60, 64, 67, 0.3), 0 1px 3px 1px rgba(60, 64, 67, 0.15);\n",
              "    fill: var(--button-hover-fill-color);\n",
              "  }\n",
              "\n",
              "  .colab-df-quickchart-complete:disabled,\n",
              "  .colab-df-quickchart-complete:disabled:hover {\n",
              "    background-color: var(--disabled-bg-color);\n",
              "    fill: var(--disabled-fill-color);\n",
              "    box-shadow: none;\n",
              "  }\n",
              "\n",
              "  .colab-df-spinner {\n",
              "    border: 2px solid var(--fill-color);\n",
              "    border-color: transparent;\n",
              "    border-bottom-color: var(--fill-color);\n",
              "    animation:\n",
              "      spin 1s steps(1) infinite;\n",
              "  }\n",
              "\n",
              "  @keyframes spin {\n",
              "    0% {\n",
              "      border-color: transparent;\n",
              "      border-bottom-color: var(--fill-color);\n",
              "      border-left-color: var(--fill-color);\n",
              "    }\n",
              "    20% {\n",
              "      border-color: transparent;\n",
              "      border-left-color: var(--fill-color);\n",
              "      border-top-color: var(--fill-color);\n",
              "    }\n",
              "    30% {\n",
              "      border-color: transparent;\n",
              "      border-left-color: var(--fill-color);\n",
              "      border-top-color: var(--fill-color);\n",
              "      border-right-color: var(--fill-color);\n",
              "    }\n",
              "    40% {\n",
              "      border-color: transparent;\n",
              "      border-right-color: var(--fill-color);\n",
              "      border-top-color: var(--fill-color);\n",
              "    }\n",
              "    60% {\n",
              "      border-color: transparent;\n",
              "      border-right-color: var(--fill-color);\n",
              "    }\n",
              "    80% {\n",
              "      border-color: transparent;\n",
              "      border-right-color: var(--fill-color);\n",
              "      border-bottom-color: var(--fill-color);\n",
              "    }\n",
              "    90% {\n",
              "      border-color: transparent;\n",
              "      border-bottom-color: var(--fill-color);\n",
              "    }\n",
              "  }\n",
              "</style>\n",
              "\n",
              "  <script>\n",
              "    async function quickchart(key) {\n",
              "      const quickchartButtonEl =\n",
              "        document.querySelector('#' + key + ' button');\n",
              "      quickchartButtonEl.disabled = true;  // To prevent multiple clicks.\n",
              "      quickchartButtonEl.classList.add('colab-df-spinner');\n",
              "      try {\n",
              "        const charts = await google.colab.kernel.invokeFunction(\n",
              "            'suggestCharts', [key], {});\n",
              "      } catch (error) {\n",
              "        console.error('Error during call to suggestCharts:', error);\n",
              "      }\n",
              "      quickchartButtonEl.classList.remove('colab-df-spinner');\n",
              "      quickchartButtonEl.classList.add('colab-df-quickchart-complete');\n",
              "    }\n",
              "    (() => {\n",
              "      let quickchartButtonEl =\n",
              "        document.querySelector('#df-f81ba030-9f49-4cb9-b107-fa24665362bc button');\n",
              "      quickchartButtonEl.style.display =\n",
              "        google.colab.kernel.accessAllowed ? 'block' : 'none';\n",
              "    })();\n",
              "  </script>\n",
              "</div>\n",
              "    </div>\n",
              "  </div>\n"
            ],
            "application/vnd.google.colaboratory.intrinsic+json": {
              "type": "dataframe",
              "summary": "{\n  \"name\": \"reverse_all_labels(a)\",\n  \"rows\": 4,\n  \"fields\": [\n    {\n      \"column\": \"D\",\n      \"properties\": {\n        \"dtype\": \"number\",\n        \"std\": 1,\n        \"min\": 1,\n        \"max\": 4,\n        \"num_unique_values\": 4,\n        \"samples\": [\n          2,\n          4,\n          1\n        ],\n        \"semantic_type\": \"\",\n        \"description\": \"\"\n      }\n    },\n    {\n      \"column\": \"C\",\n      \"properties\": {\n        \"dtype\": \"number\",\n        \"std\": 1,\n        \"min\": 5,\n        \"max\": 8,\n        \"num_unique_values\": 4,\n        \"samples\": [\n          6,\n          8,\n          5\n        ],\n        \"semantic_type\": \"\",\n        \"description\": \"\"\n      }\n    },\n    {\n      \"column\": \"B\",\n      \"properties\": {\n        \"dtype\": \"number\",\n        \"std\": 1,\n        \"min\": 9,\n        \"max\": 12,\n        \"num_unique_values\": 4,\n        \"samples\": [\n          10,\n          12,\n          9\n        ],\n        \"semantic_type\": \"\",\n        \"description\": \"\"\n      }\n    },\n    {\n      \"column\": \"A\",\n      \"properties\": {\n        \"dtype\": \"number\",\n        \"std\": 1,\n        \"min\": 13,\n        \"max\": 16,\n        \"num_unique_values\": 4,\n        \"samples\": [\n          14,\n          16,\n          13\n        ],\n        \"semantic_type\": \"\",\n        \"description\": \"\"\n      }\n    }\n  ]\n}"
            }
          },
          "metadata": {},
          "execution_count": 28
        }
      ]
    },
    {
      "cell_type": "markdown",
      "source": [
        "**3. Вернуть серию, в которой ассоциативные метки — все названия колонок датафрейма `a`, а значения принимают значение True, если все значения в этой колонке датафрейма являются NaN-значениями, False — иначе.**"
      ],
      "metadata": {
        "id": "UKhgI-rrq9Aa"
      }
    },
    {
      "cell_type": "code",
      "source": [
        "def isna_columns(a):\n",
        "    return a.isna().all()"
      ],
      "metadata": {
        "id": "guPF5jLWrHBM"
      },
      "execution_count": null,
      "outputs": []
    },
    {
      "cell_type": "code",
      "source": [
        "# Пример\n",
        "a = pd.DataFrame({\n",
        "    'A': [1, 2, 4],\n",
        "    'B': [np.NaN, np.NaN, np.NaN],\n",
        "    'C': [np.NaN, 6, np.NaN]\n",
        "})\n",
        "isna_columns(a)"
      ],
      "metadata": {
        "colab": {
          "base_uri": "https://localhost:8080/"
        },
        "id": "At5PibNxyW90",
        "outputId": "ac75d2b8-cdfd-4409-9d7d-abb1bb8dc7c7"
      },
      "execution_count": null,
      "outputs": [
        {
          "output_type": "execute_result",
          "data": {
            "text/plain": [
              "A    False\n",
              "B     True\n",
              "C    False\n",
              "dtype: bool"
            ]
          },
          "metadata": {},
          "execution_count": 22
        }
      ]
    },
    {
      "cell_type": "markdown",
      "source": [
        "**4. Вернуть серию, где ассоциативные метки — названия колонок исходного датафрейма, а значения True, если среднее по этому столбцу строго больше медианы, иначе - False**"
      ],
      "metadata": {
        "id": "SC8FuAtNyqUm"
      }
    },
    {
      "cell_type": "code",
      "source": [
        "def is_mean_greater_than_median(a):\n",
        "  return a.mean() > a.median()"
      ],
      "metadata": {
        "id": "GmHwnDpqyquX"
      },
      "execution_count": null,
      "outputs": []
    },
    {
      "cell_type": "code",
      "source": [
        "# Пример\n",
        "a = pd.DataFrame({\n",
        "    'A': [100, 0, 0],\n",
        "    'B': [0, 100, 100],\n",
        "    'C': [1, 2, 3]\n",
        "})\n",
        "is_mean_greater_than_median(a)"
      ],
      "metadata": {
        "colab": {
          "base_uri": "https://localhost:8080/"
        },
        "id": "pdUWvpZ1yyKK",
        "outputId": "52b8ccbd-fc5d-4b3a-c0ea-4bcb861eb07f"
      },
      "execution_count": null,
      "outputs": [
        {
          "output_type": "execute_result",
          "data": {
            "text/plain": [
              "A     True\n",
              "B    False\n",
              "C    False\n",
              "dtype: bool"
            ]
          },
          "metadata": {},
          "execution_count": 25
        }
      ]
    },
    {
      "cell_type": "markdown",
      "source": [
        "**5. Вернуть серию, в которой ассоциативные метки — названия колонок датафрейма `a`, а значения — разность максимального и минимального значения в колонке.**"
      ],
      "metadata": {
        "id": "fiYPAt-EwIU8"
      }
    },
    {
      "cell_type": "code",
      "source": [
        "def column_interval_len(a):\n",
        "  return a.agg(np.max) - a.agg(np.min)"
      ],
      "metadata": {
        "id": "KRONLopnwB9D"
      },
      "execution_count": null,
      "outputs": []
    },
    {
      "cell_type": "code",
      "source": [
        "# Пример\n",
        "a = pd.DataFrame({\n",
        "    'A': [1, 2, 3],\n",
        "    'B': [0, -100, 100],\n",
        "    'C': [12, 12, 12]\n",
        "})\n",
        "column_interval_len(a)"
      ],
      "metadata": {
        "colab": {
          "base_uri": "https://localhost:8080/"
        },
        "id": "ucB1ZN5dzMrT",
        "outputId": "692353cf-6cfa-42d5-cd84-57f00e71d8a3"
      },
      "execution_count": null,
      "outputs": [
        {
          "output_type": "execute_result",
          "data": {
            "text/plain": [
              "A      2\n",
              "B    200\n",
              "C      0\n",
              "dtype: int64"
            ]
          },
          "metadata": {},
          "execution_count": 27
        }
      ]
    },
    {
      "cell_type": "markdown",
      "source": [
        "**6. Из датафрейма `a`, который имеет двойные индексы строк и всего одну колонку, вернуть среднее по всем значениям, у которых на месте второй из вложенных меток строк стоит значение 'first'.**"
      ],
      "metadata": {
        "id": "kvCqC22IBnqm"
      }
    },
    {
      "cell_type": "code",
      "source": [
        "def count_first_mean(a):\n",
        "    return np.mean([a.loc[i[0], i[1]] for i in a.index if i[1] == 'first'])"
      ],
      "metadata": {
        "id": "UriVrp9HB3Sh"
      },
      "execution_count": null,
      "outputs": []
    },
    {
      "cell_type": "code",
      "source": [
        "# Пример\n",
        "a = pd.DataFrame(\n",
        "    {'col': [1, 2, 3]},\n",
        "    index=pd.MultiIndex.from_tuples([\n",
        "        ('A', 'first'), ('B', 'first'), ('B', 'second')\n",
        "    ])\n",
        ")\n",
        "count_first_mean(a)"
      ],
      "metadata": {
        "colab": {
          "base_uri": "https://localhost:8080/"
        },
        "id": "xRdXEF8ACEEv",
        "outputId": "bdbd0e1d-e07d-4c3e-cde2-e9dd1957157a"
      },
      "execution_count": null,
      "outputs": [
        {
          "output_type": "execute_result",
          "data": {
            "text/plain": [
              "1.5"
            ]
          },
          "metadata": {},
          "execution_count": 31
        }
      ]
    },
    {
      "cell_type": "markdown",
      "source": [
        "**7. Из датафрейма `a` с колонками 'gender' и 'pet', отвечающих за пол владельца домашних питомцов ('female' либо 'male') и количество домашних питомцев, которые есть у человека, вернуть среднее количество домашних животных у женщин (female), прошедших опрос.**\n"
      ],
      "metadata": {
        "id": "5TyayRUFFXjI"
      }
    },
    {
      "cell_type": "code",
      "source": [
        "def mean_pet_count(a):\n",
        "    return a.groupby('gender').mean().loc['female', 'pet']"
      ],
      "metadata": {
        "id": "jtdUG7fhFXr8"
      },
      "execution_count": null,
      "outputs": []
    },
    {
      "cell_type": "code",
      "source": [
        "# Пример\n",
        "a = pd.DataFrame([['female', 2], ['male', 1], ['female', 2], ['male', 1]], columns=['gender', 'pet'])\n",
        "mean_pet_count(a)"
      ],
      "metadata": {
        "colab": {
          "base_uri": "https://localhost:8080/"
        },
        "id": "p4MuAV-0Fa_t",
        "outputId": "e98a24ea-e88f-41a8-9323-f21a2906fb14"
      },
      "execution_count": null,
      "outputs": [
        {
          "output_type": "execute_result",
          "data": {
            "text/plain": [
              "2.0"
            ]
          },
          "metadata": {},
          "execution_count": 34
        }
      ]
    },
    {
      "cell_type": "markdown",
      "source": [
        "**8. Поместить значения из массива в промежуток от 0 до 1.**"
      ],
      "metadata": {
        "id": "rWB5SZkF68JA"
      }
    },
    {
      "cell_type": "code",
      "source": [
        "def min_max_scaler(x):\n",
        "  return lambda x:(x-x.min())/(x.max()-x.min())"
      ],
      "metadata": {
        "id": "b67gg5oI67FT"
      },
      "execution_count": null,
      "outputs": []
    },
    {
      "cell_type": "markdown",
      "source": [
        "**9. Напишите строку кода на языке Python, которая меняет значения '1st' на 1:**"
      ],
      "metadata": {
        "id": "TjRowNfJ1OZ0"
      }
    },
    {
      "cell_type": "code",
      "source": [
        "df = pd.DataFrame({\n",
        "    'Column1': [10, 25, 'NULL', 70, 18],\n",
        "    'Column2': [0, 'NULL', 1, 0, 1],\n",
        "    'Column3': ['1st', '3rd', '3rd', '2nd', '1st']})"
      ],
      "metadata": {
        "id": "sa79E8GH1Oke"
      },
      "execution_count": null,
      "outputs": []
    },
    {
      "cell_type": "code",
      "source": [
        "df = df.replace('1st', 1)"
      ],
      "metadata": {
        "id": "6J5GLRSF1f9x"
      },
      "execution_count": null,
      "outputs": []
    },
    {
      "cell_type": "markdown",
      "source": [
        "**Напишите строку кода на языке Python, которая меняет значения 'NULL' на NaN в колонке 'Column1':**"
      ],
      "metadata": {
        "id": "izYG1dqx1mwq"
      }
    },
    {
      "cell_type": "code",
      "source": [
        "df['Column1'] = df['Column1'].replace('NULL', np.nan)"
      ],
      "metadata": {
        "id": "Tou6YZ0M1r8M"
      },
      "execution_count": null,
      "outputs": []
    },
    {
      "cell_type": "markdown",
      "source": [
        "**10. Сколько колонок останется в нашем датафрейме после выполнения следующей строки кода df.drop({'Column1','Column2'}, axis=1):**"
      ],
      "metadata": {
        "id": "sPDGRhBt1zw9"
      }
    },
    {
      "cell_type": "code",
      "source": [
        "df = pd.DataFrame({\n",
        "    'Column1': [10, 25, 'NULL', 70, 18],\n",
        "    'Column2': [0, 'NULL', 1, 0, 1],\n",
        "    'Column3': ['1st', '3rd', '3rd', '2nd', '1st']})\n"
      ],
      "metadata": {
        "id": "0CSvnHVx2BSJ"
      },
      "execution_count": null,
      "outputs": []
    },
    {
      "cell_type": "code",
      "source": [
        "# Количество колонок не изменится, поскольку датафрейм не был переопределен.\n",
        "# Для изменения исходного датафрейма надо было выполнить следующую строку кода: df = df.drop({'Column1','Column2'}, axis=1)\n",
        "3"
      ],
      "metadata": {
        "id": "ws7J0c3A2Dpj"
      },
      "execution_count": null,
      "outputs": []
    },
    {
      "cell_type": "markdown",
      "source": [
        "**11. Средствами библиотеки Pandas и языка Python считайте данные из файла [titanic.csv](https://dc-edu.itmo.ru/asset-v1:ITMOUniversity+TEST2022+2022_2+type@asset+block@titanic.csv) (набор данных выживших пассажиров Титаника: класс кабины, возраст, пол, порт посадки и т.д.) и введите названия колонок (через запятую), в которых есть значения NaN:**"
      ],
      "metadata": {
        "id": "vzeWUDQP2UAF"
      }
    },
    {
      "cell_type": "code",
      "source": [
        "Age"
      ],
      "metadata": {
        "id": "pjLg38692YqD",
        "colab": {
          "base_uri": "https://localhost:8080/",
          "height": 139
        },
        "outputId": "8e7cc2b2-3ec1-45d4-ec1b-61093b0f7b33"
      },
      "execution_count": null,
      "outputs": [
        {
          "output_type": "error",
          "ename": "NameError",
          "evalue": "name 'Age' is not defined",
          "traceback": [
            "\u001b[0;31m---------------------------------------------------------------------------\u001b[0m",
            "\u001b[0;31mNameError\u001b[0m                                 Traceback (most recent call last)",
            "\u001b[0;32m<ipython-input-27-f798102fc000>\u001b[0m in \u001b[0;36m<cell line: 1>\u001b[0;34m()\u001b[0m\n\u001b[0;32m----> 1\u001b[0;31m \u001b[0mAge\u001b[0m\u001b[0;34m\u001b[0m\u001b[0;34m\u001b[0m\u001b[0m\n\u001b[0m",
            "\u001b[0;31mNameError\u001b[0m: name 'Age' is not defined"
          ]
        }
      ]
    },
    {
      "cell_type": "markdown",
      "source": [
        "**12. Средствами библиотеки Pandas и языка Python считайте данные из файла titanic.csv (набор данных выживших пассажиров Титаника: класс кабины, возраст, пол, порт посадки и т.д.) и графики**"
      ],
      "metadata": {
        "id": "DnPdk-xN3W1c"
      }
    },
    {
      "cell_type": "markdown",
      "source": [
        "Столбчатая диаграмма распределениа класса кабины:"
      ],
      "metadata": {
        "id": "UpNGgWvP3sya"
      }
    },
    {
      "cell_type": "code",
      "source": [
        "df['PClass'].value_counts().plot.bar()"
      ],
      "metadata": {
        "id": "dg4y2EMV31Rm",
        "colab": {
          "base_uri": "https://localhost:8080/",
          "height": 139
        },
        "outputId": "576d4a15-9b3b-48c3-ab43-044be00b8a84"
      },
      "execution_count": null,
      "outputs": [
        {
          "output_type": "error",
          "ename": "NameError",
          "evalue": "name 'df' is not defined",
          "traceback": [
            "\u001b[0;31m---------------------------------------------------------------------------\u001b[0m",
            "\u001b[0;31mNameError\u001b[0m                                 Traceback (most recent call last)",
            "\u001b[0;32m<ipython-input-24-5661f95faf7d>\u001b[0m in \u001b[0;36m<cell line: 1>\u001b[0;34m()\u001b[0m\n\u001b[0;32m----> 1\u001b[0;31m \u001b[0mdf\u001b[0m\u001b[0;34m[\u001b[0m\u001b[0;34m'PClass'\u001b[0m\u001b[0;34m]\u001b[0m\u001b[0;34m.\u001b[0m\u001b[0mvalue_counts\u001b[0m\u001b[0;34m(\u001b[0m\u001b[0;34m)\u001b[0m\u001b[0;34m.\u001b[0m\u001b[0mplot\u001b[0m\u001b[0;34m.\u001b[0m\u001b[0mbar\u001b[0m\u001b[0;34m(\u001b[0m\u001b[0;34m)\u001b[0m\u001b[0;34m\u001b[0m\u001b[0;34m\u001b[0m\u001b[0m\n\u001b[0m",
            "\u001b[0;31mNameError\u001b[0m: name 'df' is not defined"
          ]
        }
      ]
    },
    {
      "cell_type": "markdown",
      "source": [
        "Круговая диаграмма распределениа класса кабины, круговую диаграмму распределениа класса кабины:"
      ],
      "metadata": {
        "id": "CXLLDcTD3tYH"
      }
    },
    {
      "cell_type": "markdown",
      "source": [],
      "metadata": {
        "id": "RVtpWWKxbSey"
      }
    },
    {
      "cell_type": "code",
      "source": [
        "df['Age'].value_counts().plot.pie()"
      ],
      "metadata": {
        "id": "pbpYY0U04IyU"
      },
      "execution_count": null,
      "outputs": []
    },
    {
      "cell_type": "markdown",
      "source": [
        "Гистограмма распределения возраста пассажиров:"
      ],
      "metadata": {
        "id": "iPfaHRvz3_i-"
      }
    },
    {
      "cell_type": "code",
      "source": [
        "df['Age'].value_counts().plot.hist()"
      ],
      "metadata": {
        "id": "7OfeOhHA3_rQ"
      },
      "execution_count": null,
      "outputs": []
    },
    {
      "cell_type": "markdown",
      "source": [
        "**13. Объединяем эти датафреймы с помощью метода .merge() по общим колонкам 'Column1', 'Column2'], присоединяя правый датафрейм к левому how='left'.**"
      ],
      "metadata": {
        "id": "yTzoc7yQ4TWX"
      }
    },
    {
      "cell_type": "code",
      "source": [
        "left = pd.DataFrame({\n",
        "      'Column1': ['a', 'b', 'c', 'c', 'e', 'e', 'a'],\n",
        "      'Column2': [3, 34, 44, 76, 77, 81, 2],\n",
        "      'Column3': [True, False, False, False, True, True, False]})\n",
        "\n",
        "right = pd.DataFrame({\n",
        "      'Column1': ['d', 'b', 'c', 'c', 'f', 'a', 'a','a'],\n",
        "      'Column2': [13, 21, 44, 67, 15, 87, 2, 2],\n",
        "      'Column4': [3, 34, 44, 76, 77, 81, 2, 22]})\n"
      ],
      "metadata": {
        "id": "72Ue1Oc-4b5f"
      },
      "execution_count": null,
      "outputs": []
    },
    {
      "cell_type": "code",
      "source": [
        "df_result = left.merge(right, how = 'left', left_on='Column1', right_on='Column1')"
      ],
      "metadata": {
        "id": "ZaD-glDIFSwt"
      },
      "execution_count": null,
      "outputs": []
    },
    {
      "cell_type": "markdown",
      "source": [
        "Сколько строк в результирующем датафрейме, у которых df_result['Column1'] == 'a'?"
      ],
      "metadata": {
        "id": "GUgTx0Di4ltm"
      }
    },
    {
      "cell_type": "code",
      "source": [
        "df_result[(df_result['Column1'] == 'a')] # 3"
      ],
      "metadata": {
        "id": "rADIsIqx4ldd",
        "colab": {
          "base_uri": "https://localhost:8080/",
          "height": 235
        },
        "outputId": "bb4a930b-7e1e-4e0a-efed-d08209a82e3a"
      },
      "execution_count": null,
      "outputs": [
        {
          "output_type": "execute_result",
          "data": {
            "text/plain": [
              "   Column1  Column2_x  Column3  Column2_y  Column4\n",
              "0        a          3     True       87.0     81.0\n",
              "1        a          3     True        2.0      2.0\n",
              "2        a          3     True        2.0     22.0\n",
              "10       a          2    False       87.0     81.0\n",
              "11       a          2    False        2.0      2.0\n",
              "12       a          2    False        2.0     22.0"
            ],
            "text/html": [
              "\n",
              "  <div id=\"df-5f8da460-231d-441b-8ad3-8fa91af0bc74\" class=\"colab-df-container\">\n",
              "    <div>\n",
              "<style scoped>\n",
              "    .dataframe tbody tr th:only-of-type {\n",
              "        vertical-align: middle;\n",
              "    }\n",
              "\n",
              "    .dataframe tbody tr th {\n",
              "        vertical-align: top;\n",
              "    }\n",
              "\n",
              "    .dataframe thead th {\n",
              "        text-align: right;\n",
              "    }\n",
              "</style>\n",
              "<table border=\"1\" class=\"dataframe\">\n",
              "  <thead>\n",
              "    <tr style=\"text-align: right;\">\n",
              "      <th></th>\n",
              "      <th>Column1</th>\n",
              "      <th>Column2_x</th>\n",
              "      <th>Column3</th>\n",
              "      <th>Column2_y</th>\n",
              "      <th>Column4</th>\n",
              "    </tr>\n",
              "  </thead>\n",
              "  <tbody>\n",
              "    <tr>\n",
              "      <th>0</th>\n",
              "      <td>a</td>\n",
              "      <td>3</td>\n",
              "      <td>True</td>\n",
              "      <td>87.0</td>\n",
              "      <td>81.0</td>\n",
              "    </tr>\n",
              "    <tr>\n",
              "      <th>1</th>\n",
              "      <td>a</td>\n",
              "      <td>3</td>\n",
              "      <td>True</td>\n",
              "      <td>2.0</td>\n",
              "      <td>2.0</td>\n",
              "    </tr>\n",
              "    <tr>\n",
              "      <th>2</th>\n",
              "      <td>a</td>\n",
              "      <td>3</td>\n",
              "      <td>True</td>\n",
              "      <td>2.0</td>\n",
              "      <td>22.0</td>\n",
              "    </tr>\n",
              "    <tr>\n",
              "      <th>10</th>\n",
              "      <td>a</td>\n",
              "      <td>2</td>\n",
              "      <td>False</td>\n",
              "      <td>87.0</td>\n",
              "      <td>81.0</td>\n",
              "    </tr>\n",
              "    <tr>\n",
              "      <th>11</th>\n",
              "      <td>a</td>\n",
              "      <td>2</td>\n",
              "      <td>False</td>\n",
              "      <td>2.0</td>\n",
              "      <td>2.0</td>\n",
              "    </tr>\n",
              "    <tr>\n",
              "      <th>12</th>\n",
              "      <td>a</td>\n",
              "      <td>2</td>\n",
              "      <td>False</td>\n",
              "      <td>2.0</td>\n",
              "      <td>22.0</td>\n",
              "    </tr>\n",
              "  </tbody>\n",
              "</table>\n",
              "</div>\n",
              "    <div class=\"colab-df-buttons\">\n",
              "\n",
              "  <div class=\"colab-df-container\">\n",
              "    <button class=\"colab-df-convert\" onclick=\"convertToInteractive('df-5f8da460-231d-441b-8ad3-8fa91af0bc74')\"\n",
              "            title=\"Convert this dataframe to an interactive table.\"\n",
              "            style=\"display:none;\">\n",
              "\n",
              "  <svg xmlns=\"http://www.w3.org/2000/svg\" height=\"24px\" viewBox=\"0 -960 960 960\">\n",
              "    <path d=\"M120-120v-720h720v720H120Zm60-500h600v-160H180v160Zm220 220h160v-160H400v160Zm0 220h160v-160H400v160ZM180-400h160v-160H180v160Zm440 0h160v-160H620v160ZM180-180h160v-160H180v160Zm440 0h160v-160H620v160Z\"/>\n",
              "  </svg>\n",
              "    </button>\n",
              "\n",
              "  <style>\n",
              "    .colab-df-container {\n",
              "      display:flex;\n",
              "      gap: 12px;\n",
              "    }\n",
              "\n",
              "    .colab-df-convert {\n",
              "      background-color: #E8F0FE;\n",
              "      border: none;\n",
              "      border-radius: 50%;\n",
              "      cursor: pointer;\n",
              "      display: none;\n",
              "      fill: #1967D2;\n",
              "      height: 32px;\n",
              "      padding: 0 0 0 0;\n",
              "      width: 32px;\n",
              "    }\n",
              "\n",
              "    .colab-df-convert:hover {\n",
              "      background-color: #E2EBFA;\n",
              "      box-shadow: 0px 1px 2px rgba(60, 64, 67, 0.3), 0px 1px 3px 1px rgba(60, 64, 67, 0.15);\n",
              "      fill: #174EA6;\n",
              "    }\n",
              "\n",
              "    .colab-df-buttons div {\n",
              "      margin-bottom: 4px;\n",
              "    }\n",
              "\n",
              "    [theme=dark] .colab-df-convert {\n",
              "      background-color: #3B4455;\n",
              "      fill: #D2E3FC;\n",
              "    }\n",
              "\n",
              "    [theme=dark] .colab-df-convert:hover {\n",
              "      background-color: #434B5C;\n",
              "      box-shadow: 0px 1px 3px 1px rgba(0, 0, 0, 0.15);\n",
              "      filter: drop-shadow(0px 1px 2px rgba(0, 0, 0, 0.3));\n",
              "      fill: #FFFFFF;\n",
              "    }\n",
              "  </style>\n",
              "\n",
              "    <script>\n",
              "      const buttonEl =\n",
              "        document.querySelector('#df-5f8da460-231d-441b-8ad3-8fa91af0bc74 button.colab-df-convert');\n",
              "      buttonEl.style.display =\n",
              "        google.colab.kernel.accessAllowed ? 'block' : 'none';\n",
              "\n",
              "      async function convertToInteractive(key) {\n",
              "        const element = document.querySelector('#df-5f8da460-231d-441b-8ad3-8fa91af0bc74');\n",
              "        const dataTable =\n",
              "          await google.colab.kernel.invokeFunction('convertToInteractive',\n",
              "                                                    [key], {});\n",
              "        if (!dataTable) return;\n",
              "\n",
              "        const docLinkHtml = 'Like what you see? Visit the ' +\n",
              "          '<a target=\"_blank\" href=https://colab.research.google.com/notebooks/data_table.ipynb>data table notebook</a>'\n",
              "          + ' to learn more about interactive tables.';\n",
              "        element.innerHTML = '';\n",
              "        dataTable['output_type'] = 'display_data';\n",
              "        await google.colab.output.renderOutput(dataTable, element);\n",
              "        const docLink = document.createElement('div');\n",
              "        docLink.innerHTML = docLinkHtml;\n",
              "        element.appendChild(docLink);\n",
              "      }\n",
              "    </script>\n",
              "  </div>\n",
              "\n",
              "\n",
              "<div id=\"df-5868d2dd-0bde-4ea7-8703-e0d9442b184c\">\n",
              "  <button class=\"colab-df-quickchart\" onclick=\"quickchart('df-5868d2dd-0bde-4ea7-8703-e0d9442b184c')\"\n",
              "            title=\"Suggest charts\"\n",
              "            style=\"display:none;\">\n",
              "\n",
              "<svg xmlns=\"http://www.w3.org/2000/svg\" height=\"24px\"viewBox=\"0 0 24 24\"\n",
              "     width=\"24px\">\n",
              "    <g>\n",
              "        <path d=\"M19 3H5c-1.1 0-2 .9-2 2v14c0 1.1.9 2 2 2h14c1.1 0 2-.9 2-2V5c0-1.1-.9-2-2-2zM9 17H7v-7h2v7zm4 0h-2V7h2v10zm4 0h-2v-4h2v4z\"/>\n",
              "    </g>\n",
              "</svg>\n",
              "  </button>\n",
              "\n",
              "<style>\n",
              "  .colab-df-quickchart {\n",
              "      --bg-color: #E8F0FE;\n",
              "      --fill-color: #1967D2;\n",
              "      --hover-bg-color: #E2EBFA;\n",
              "      --hover-fill-color: #174EA6;\n",
              "      --disabled-fill-color: #AAA;\n",
              "      --disabled-bg-color: #DDD;\n",
              "  }\n",
              "\n",
              "  [theme=dark] .colab-df-quickchart {\n",
              "      --bg-color: #3B4455;\n",
              "      --fill-color: #D2E3FC;\n",
              "      --hover-bg-color: #434B5C;\n",
              "      --hover-fill-color: #FFFFFF;\n",
              "      --disabled-bg-color: #3B4455;\n",
              "      --disabled-fill-color: #666;\n",
              "  }\n",
              "\n",
              "  .colab-df-quickchart {\n",
              "    background-color: var(--bg-color);\n",
              "    border: none;\n",
              "    border-radius: 50%;\n",
              "    cursor: pointer;\n",
              "    display: none;\n",
              "    fill: var(--fill-color);\n",
              "    height: 32px;\n",
              "    padding: 0;\n",
              "    width: 32px;\n",
              "  }\n",
              "\n",
              "  .colab-df-quickchart:hover {\n",
              "    background-color: var(--hover-bg-color);\n",
              "    box-shadow: 0 1px 2px rgba(60, 64, 67, 0.3), 0 1px 3px 1px rgba(60, 64, 67, 0.15);\n",
              "    fill: var(--button-hover-fill-color);\n",
              "  }\n",
              "\n",
              "  .colab-df-quickchart-complete:disabled,\n",
              "  .colab-df-quickchart-complete:disabled:hover {\n",
              "    background-color: var(--disabled-bg-color);\n",
              "    fill: var(--disabled-fill-color);\n",
              "    box-shadow: none;\n",
              "  }\n",
              "\n",
              "  .colab-df-spinner {\n",
              "    border: 2px solid var(--fill-color);\n",
              "    border-color: transparent;\n",
              "    border-bottom-color: var(--fill-color);\n",
              "    animation:\n",
              "      spin 1s steps(1) infinite;\n",
              "  }\n",
              "\n",
              "  @keyframes spin {\n",
              "    0% {\n",
              "      border-color: transparent;\n",
              "      border-bottom-color: var(--fill-color);\n",
              "      border-left-color: var(--fill-color);\n",
              "    }\n",
              "    20% {\n",
              "      border-color: transparent;\n",
              "      border-left-color: var(--fill-color);\n",
              "      border-top-color: var(--fill-color);\n",
              "    }\n",
              "    30% {\n",
              "      border-color: transparent;\n",
              "      border-left-color: var(--fill-color);\n",
              "      border-top-color: var(--fill-color);\n",
              "      border-right-color: var(--fill-color);\n",
              "    }\n",
              "    40% {\n",
              "      border-color: transparent;\n",
              "      border-right-color: var(--fill-color);\n",
              "      border-top-color: var(--fill-color);\n",
              "    }\n",
              "    60% {\n",
              "      border-color: transparent;\n",
              "      border-right-color: var(--fill-color);\n",
              "    }\n",
              "    80% {\n",
              "      border-color: transparent;\n",
              "      border-right-color: var(--fill-color);\n",
              "      border-bottom-color: var(--fill-color);\n",
              "    }\n",
              "    90% {\n",
              "      border-color: transparent;\n",
              "      border-bottom-color: var(--fill-color);\n",
              "    }\n",
              "  }\n",
              "</style>\n",
              "\n",
              "  <script>\n",
              "    async function quickchart(key) {\n",
              "      const quickchartButtonEl =\n",
              "        document.querySelector('#' + key + ' button');\n",
              "      quickchartButtonEl.disabled = true;  // To prevent multiple clicks.\n",
              "      quickchartButtonEl.classList.add('colab-df-spinner');\n",
              "      try {\n",
              "        const charts = await google.colab.kernel.invokeFunction(\n",
              "            'suggestCharts', [key], {});\n",
              "      } catch (error) {\n",
              "        console.error('Error during call to suggestCharts:', error);\n",
              "      }\n",
              "      quickchartButtonEl.classList.remove('colab-df-spinner');\n",
              "      quickchartButtonEl.classList.add('colab-df-quickchart-complete');\n",
              "    }\n",
              "    (() => {\n",
              "      let quickchartButtonEl =\n",
              "        document.querySelector('#df-5868d2dd-0bde-4ea7-8703-e0d9442b184c button');\n",
              "      quickchartButtonEl.style.display =\n",
              "        google.colab.kernel.accessAllowed ? 'block' : 'none';\n",
              "    })();\n",
              "  </script>\n",
              "</div>\n",
              "    </div>\n",
              "  </div>\n"
            ],
            "application/vnd.google.colaboratory.intrinsic+json": {
              "type": "dataframe",
              "summary": "{\n  \"name\": \"df_result[(df_result['Column1'] == 'a')] # 3\",\n  \"rows\": 6,\n  \"fields\": [\n    {\n      \"column\": \"Column1\",\n      \"properties\": {\n        \"dtype\": \"category\",\n        \"num_unique_values\": 1,\n        \"samples\": [\n          \"a\"\n        ],\n        \"semantic_type\": \"\",\n        \"description\": \"\"\n      }\n    },\n    {\n      \"column\": \"Column2_x\",\n      \"properties\": {\n        \"dtype\": \"number\",\n        \"std\": 0,\n        \"min\": 2,\n        \"max\": 3,\n        \"num_unique_values\": 2,\n        \"samples\": [\n          2\n        ],\n        \"semantic_type\": \"\",\n        \"description\": \"\"\n      }\n    },\n    {\n      \"column\": \"Column3\",\n      \"properties\": {\n        \"dtype\": \"boolean\",\n        \"num_unique_values\": 2,\n        \"samples\": [\n          false\n        ],\n        \"semantic_type\": \"\",\n        \"description\": \"\"\n      }\n    },\n    {\n      \"column\": \"Column2_y\",\n      \"properties\": {\n        \"dtype\": \"number\",\n        \"std\": 43.89381125701739,\n        \"min\": 2.0,\n        \"max\": 87.0,\n        \"num_unique_values\": 2,\n        \"samples\": [\n          2.0\n        ],\n        \"semantic_type\": \"\",\n        \"description\": \"\"\n      }\n    },\n    {\n      \"column\": \"Column4\",\n      \"properties\": {\n        \"dtype\": \"number\",\n        \"std\": 36.736902427940215,\n        \"min\": 2.0,\n        \"max\": 81.0,\n        \"num_unique_values\": 3,\n        \"samples\": [\n          81.0\n        ],\n        \"semantic_type\": \"\",\n        \"description\": \"\"\n      }\n    }\n  ]\n}"
            }
          },
          "metadata": {},
          "execution_count": 35
        }
      ]
    },
    {
      "cell_type": "markdown",
      "source": [
        "how=inner"
      ],
      "metadata": {
        "id": "ct6SVEAWGFOI"
      }
    },
    {
      "cell_type": "code",
      "source": [
        "left = pd.DataFrame({\n",
        "      'key': ['a', 'b', 'c', 'd', 'e', 'e', 'a'],\n",
        "      'data1': [12, 34, 44, 76, 77, 81, 2]})\n",
        "right = pd.DataFrame({\n",
        "       'data2': [-1, -65, - 34, -23]}, index=['d', 'b', 'c', 'a'])"
      ],
      "metadata": {
        "id": "PW0w3ADzGWW-"
      },
      "execution_count": null,
      "outputs": []
    },
    {
      "cell_type": "code",
      "source": [
        "pd.merge(left, right, how='inner', left_on='key', right_index=True)"
      ],
      "metadata": {
        "colab": {
          "base_uri": "https://localhost:8080/",
          "height": 204
        },
        "id": "Jm3vAGe2GHTi",
        "outputId": "e946737b-a829-4f92-bb1b-e052986d7df3"
      },
      "execution_count": null,
      "outputs": [
        {
          "output_type": "execute_result",
          "data": {
            "text/plain": [
              "  key  data1  data2\n",
              "0   a     12    -23\n",
              "6   a      2    -23\n",
              "1   b     34    -65\n",
              "2   c     44    -34\n",
              "3   d     76     -1"
            ],
            "text/html": [
              "\n",
              "  <div id=\"df-98faba34-de7a-4e63-80a0-074ecf65d4da\" class=\"colab-df-container\">\n",
              "    <div>\n",
              "<style scoped>\n",
              "    .dataframe tbody tr th:only-of-type {\n",
              "        vertical-align: middle;\n",
              "    }\n",
              "\n",
              "    .dataframe tbody tr th {\n",
              "        vertical-align: top;\n",
              "    }\n",
              "\n",
              "    .dataframe thead th {\n",
              "        text-align: right;\n",
              "    }\n",
              "</style>\n",
              "<table border=\"1\" class=\"dataframe\">\n",
              "  <thead>\n",
              "    <tr style=\"text-align: right;\">\n",
              "      <th></th>\n",
              "      <th>key</th>\n",
              "      <th>data1</th>\n",
              "      <th>data2</th>\n",
              "    </tr>\n",
              "  </thead>\n",
              "  <tbody>\n",
              "    <tr>\n",
              "      <th>0</th>\n",
              "      <td>a</td>\n",
              "      <td>12</td>\n",
              "      <td>-23</td>\n",
              "    </tr>\n",
              "    <tr>\n",
              "      <th>6</th>\n",
              "      <td>a</td>\n",
              "      <td>2</td>\n",
              "      <td>-23</td>\n",
              "    </tr>\n",
              "    <tr>\n",
              "      <th>1</th>\n",
              "      <td>b</td>\n",
              "      <td>34</td>\n",
              "      <td>-65</td>\n",
              "    </tr>\n",
              "    <tr>\n",
              "      <th>2</th>\n",
              "      <td>c</td>\n",
              "      <td>44</td>\n",
              "      <td>-34</td>\n",
              "    </tr>\n",
              "    <tr>\n",
              "      <th>3</th>\n",
              "      <td>d</td>\n",
              "      <td>76</td>\n",
              "      <td>-1</td>\n",
              "    </tr>\n",
              "  </tbody>\n",
              "</table>\n",
              "</div>\n",
              "    <div class=\"colab-df-buttons\">\n",
              "\n",
              "  <div class=\"colab-df-container\">\n",
              "    <button class=\"colab-df-convert\" onclick=\"convertToInteractive('df-98faba34-de7a-4e63-80a0-074ecf65d4da')\"\n",
              "            title=\"Convert this dataframe to an interactive table.\"\n",
              "            style=\"display:none;\">\n",
              "\n",
              "  <svg xmlns=\"http://www.w3.org/2000/svg\" height=\"24px\" viewBox=\"0 -960 960 960\">\n",
              "    <path d=\"M120-120v-720h720v720H120Zm60-500h600v-160H180v160Zm220 220h160v-160H400v160Zm0 220h160v-160H400v160ZM180-400h160v-160H180v160Zm440 0h160v-160H620v160ZM180-180h160v-160H180v160Zm440 0h160v-160H620v160Z\"/>\n",
              "  </svg>\n",
              "    </button>\n",
              "\n",
              "  <style>\n",
              "    .colab-df-container {\n",
              "      display:flex;\n",
              "      gap: 12px;\n",
              "    }\n",
              "\n",
              "    .colab-df-convert {\n",
              "      background-color: #E8F0FE;\n",
              "      border: none;\n",
              "      border-radius: 50%;\n",
              "      cursor: pointer;\n",
              "      display: none;\n",
              "      fill: #1967D2;\n",
              "      height: 32px;\n",
              "      padding: 0 0 0 0;\n",
              "      width: 32px;\n",
              "    }\n",
              "\n",
              "    .colab-df-convert:hover {\n",
              "      background-color: #E2EBFA;\n",
              "      box-shadow: 0px 1px 2px rgba(60, 64, 67, 0.3), 0px 1px 3px 1px rgba(60, 64, 67, 0.15);\n",
              "      fill: #174EA6;\n",
              "    }\n",
              "\n",
              "    .colab-df-buttons div {\n",
              "      margin-bottom: 4px;\n",
              "    }\n",
              "\n",
              "    [theme=dark] .colab-df-convert {\n",
              "      background-color: #3B4455;\n",
              "      fill: #D2E3FC;\n",
              "    }\n",
              "\n",
              "    [theme=dark] .colab-df-convert:hover {\n",
              "      background-color: #434B5C;\n",
              "      box-shadow: 0px 1px 3px 1px rgba(0, 0, 0, 0.15);\n",
              "      filter: drop-shadow(0px 1px 2px rgba(0, 0, 0, 0.3));\n",
              "      fill: #FFFFFF;\n",
              "    }\n",
              "  </style>\n",
              "\n",
              "    <script>\n",
              "      const buttonEl =\n",
              "        document.querySelector('#df-98faba34-de7a-4e63-80a0-074ecf65d4da button.colab-df-convert');\n",
              "      buttonEl.style.display =\n",
              "        google.colab.kernel.accessAllowed ? 'block' : 'none';\n",
              "\n",
              "      async function convertToInteractive(key) {\n",
              "        const element = document.querySelector('#df-98faba34-de7a-4e63-80a0-074ecf65d4da');\n",
              "        const dataTable =\n",
              "          await google.colab.kernel.invokeFunction('convertToInteractive',\n",
              "                                                    [key], {});\n",
              "        if (!dataTable) return;\n",
              "\n",
              "        const docLinkHtml = 'Like what you see? Visit the ' +\n",
              "          '<a target=\"_blank\" href=https://colab.research.google.com/notebooks/data_table.ipynb>data table notebook</a>'\n",
              "          + ' to learn more about interactive tables.';\n",
              "        element.innerHTML = '';\n",
              "        dataTable['output_type'] = 'display_data';\n",
              "        await google.colab.output.renderOutput(dataTable, element);\n",
              "        const docLink = document.createElement('div');\n",
              "        docLink.innerHTML = docLinkHtml;\n",
              "        element.appendChild(docLink);\n",
              "      }\n",
              "    </script>\n",
              "  </div>\n",
              "\n",
              "\n",
              "<div id=\"df-45a95aa6-94d5-41d9-8d61-66aab5971e6e\">\n",
              "  <button class=\"colab-df-quickchart\" onclick=\"quickchart('df-45a95aa6-94d5-41d9-8d61-66aab5971e6e')\"\n",
              "            title=\"Suggest charts\"\n",
              "            style=\"display:none;\">\n",
              "\n",
              "<svg xmlns=\"http://www.w3.org/2000/svg\" height=\"24px\"viewBox=\"0 0 24 24\"\n",
              "     width=\"24px\">\n",
              "    <g>\n",
              "        <path d=\"M19 3H5c-1.1 0-2 .9-2 2v14c0 1.1.9 2 2 2h14c1.1 0 2-.9 2-2V5c0-1.1-.9-2-2-2zM9 17H7v-7h2v7zm4 0h-2V7h2v10zm4 0h-2v-4h2v4z\"/>\n",
              "    </g>\n",
              "</svg>\n",
              "  </button>\n",
              "\n",
              "<style>\n",
              "  .colab-df-quickchart {\n",
              "      --bg-color: #E8F0FE;\n",
              "      --fill-color: #1967D2;\n",
              "      --hover-bg-color: #E2EBFA;\n",
              "      --hover-fill-color: #174EA6;\n",
              "      --disabled-fill-color: #AAA;\n",
              "      --disabled-bg-color: #DDD;\n",
              "  }\n",
              "\n",
              "  [theme=dark] .colab-df-quickchart {\n",
              "      --bg-color: #3B4455;\n",
              "      --fill-color: #D2E3FC;\n",
              "      --hover-bg-color: #434B5C;\n",
              "      --hover-fill-color: #FFFFFF;\n",
              "      --disabled-bg-color: #3B4455;\n",
              "      --disabled-fill-color: #666;\n",
              "  }\n",
              "\n",
              "  .colab-df-quickchart {\n",
              "    background-color: var(--bg-color);\n",
              "    border: none;\n",
              "    border-radius: 50%;\n",
              "    cursor: pointer;\n",
              "    display: none;\n",
              "    fill: var(--fill-color);\n",
              "    height: 32px;\n",
              "    padding: 0;\n",
              "    width: 32px;\n",
              "  }\n",
              "\n",
              "  .colab-df-quickchart:hover {\n",
              "    background-color: var(--hover-bg-color);\n",
              "    box-shadow: 0 1px 2px rgba(60, 64, 67, 0.3), 0 1px 3px 1px rgba(60, 64, 67, 0.15);\n",
              "    fill: var(--button-hover-fill-color);\n",
              "  }\n",
              "\n",
              "  .colab-df-quickchart-complete:disabled,\n",
              "  .colab-df-quickchart-complete:disabled:hover {\n",
              "    background-color: var(--disabled-bg-color);\n",
              "    fill: var(--disabled-fill-color);\n",
              "    box-shadow: none;\n",
              "  }\n",
              "\n",
              "  .colab-df-spinner {\n",
              "    border: 2px solid var(--fill-color);\n",
              "    border-color: transparent;\n",
              "    border-bottom-color: var(--fill-color);\n",
              "    animation:\n",
              "      spin 1s steps(1) infinite;\n",
              "  }\n",
              "\n",
              "  @keyframes spin {\n",
              "    0% {\n",
              "      border-color: transparent;\n",
              "      border-bottom-color: var(--fill-color);\n",
              "      border-left-color: var(--fill-color);\n",
              "    }\n",
              "    20% {\n",
              "      border-color: transparent;\n",
              "      border-left-color: var(--fill-color);\n",
              "      border-top-color: var(--fill-color);\n",
              "    }\n",
              "    30% {\n",
              "      border-color: transparent;\n",
              "      border-left-color: var(--fill-color);\n",
              "      border-top-color: var(--fill-color);\n",
              "      border-right-color: var(--fill-color);\n",
              "    }\n",
              "    40% {\n",
              "      border-color: transparent;\n",
              "      border-right-color: var(--fill-color);\n",
              "      border-top-color: var(--fill-color);\n",
              "    }\n",
              "    60% {\n",
              "      border-color: transparent;\n",
              "      border-right-color: var(--fill-color);\n",
              "    }\n",
              "    80% {\n",
              "      border-color: transparent;\n",
              "      border-right-color: var(--fill-color);\n",
              "      border-bottom-color: var(--fill-color);\n",
              "    }\n",
              "    90% {\n",
              "      border-color: transparent;\n",
              "      border-bottom-color: var(--fill-color);\n",
              "    }\n",
              "  }\n",
              "</style>\n",
              "\n",
              "  <script>\n",
              "    async function quickchart(key) {\n",
              "      const quickchartButtonEl =\n",
              "        document.querySelector('#' + key + ' button');\n",
              "      quickchartButtonEl.disabled = true;  // To prevent multiple clicks.\n",
              "      quickchartButtonEl.classList.add('colab-df-spinner');\n",
              "      try {\n",
              "        const charts = await google.colab.kernel.invokeFunction(\n",
              "            'suggestCharts', [key], {});\n",
              "      } catch (error) {\n",
              "        console.error('Error during call to suggestCharts:', error);\n",
              "      }\n",
              "      quickchartButtonEl.classList.remove('colab-df-spinner');\n",
              "      quickchartButtonEl.classList.add('colab-df-quickchart-complete');\n",
              "    }\n",
              "    (() => {\n",
              "      let quickchartButtonEl =\n",
              "        document.querySelector('#df-45a95aa6-94d5-41d9-8d61-66aab5971e6e button');\n",
              "      quickchartButtonEl.style.display =\n",
              "        google.colab.kernel.accessAllowed ? 'block' : 'none';\n",
              "    })();\n",
              "  </script>\n",
              "</div>\n",
              "    </div>\n",
              "  </div>\n"
            ],
            "application/vnd.google.colaboratory.intrinsic+json": {
              "type": "dataframe",
              "summary": "{\n  \"name\": \"pd\",\n  \"rows\": 5,\n  \"fields\": [\n    {\n      \"column\": \"key\",\n      \"properties\": {\n        \"dtype\": \"string\",\n        \"num_unique_values\": 4,\n        \"samples\": [\n          \"b\",\n          \"d\",\n          \"a\"\n        ],\n        \"semantic_type\": \"\",\n        \"description\": \"\"\n      }\n    },\n    {\n      \"column\": \"data1\",\n      \"properties\": {\n        \"dtype\": \"number\",\n        \"std\": 29,\n        \"min\": 2,\n        \"max\": 76,\n        \"num_unique_values\": 5,\n        \"samples\": [\n          2,\n          76,\n          34\n        ],\n        \"semantic_type\": \"\",\n        \"description\": \"\"\n      }\n    },\n    {\n      \"column\": \"data2\",\n      \"properties\": {\n        \"dtype\": \"number\",\n        \"std\": 23,\n        \"min\": -65,\n        \"max\": -1,\n        \"num_unique_values\": 4,\n        \"samples\": [\n          -65,\n          -1,\n          -23\n        ],\n        \"semantic_type\": \"\",\n        \"description\": \"\"\n      }\n    }\n  ]\n}"
            }
          },
          "metadata": {},
          "execution_count": 41
        }
      ]
    },
    {
      "cell_type": "markdown",
      "source": [
        "outer"
      ],
      "metadata": {
        "id": "8e6hGHdFGvl0"
      }
    },
    {
      "cell_type": "code",
      "source": [
        "pd.merge(left, right, left_on='key', right_index=True, how='outer')"
      ],
      "metadata": {
        "colab": {
          "base_uri": "https://localhost:8080/",
          "height": 266
        },
        "id": "RJAG_7AIGw3Y",
        "outputId": "ce24104d-635e-4e74-e375-ca14758eb930"
      },
      "execution_count": null,
      "outputs": [
        {
          "output_type": "execute_result",
          "data": {
            "text/plain": [
              "  key  data1  data2\n",
              "0   a     12  -23.0\n",
              "6   a      2  -23.0\n",
              "1   b     34  -65.0\n",
              "2   c     44  -34.0\n",
              "3   d     76   -1.0\n",
              "4   e     77    NaN\n",
              "5   e     81    NaN"
            ],
            "text/html": [
              "\n",
              "  <div id=\"df-c6ecafad-ab80-40e4-b13e-6d0f9532090b\" class=\"colab-df-container\">\n",
              "    <div>\n",
              "<style scoped>\n",
              "    .dataframe tbody tr th:only-of-type {\n",
              "        vertical-align: middle;\n",
              "    }\n",
              "\n",
              "    .dataframe tbody tr th {\n",
              "        vertical-align: top;\n",
              "    }\n",
              "\n",
              "    .dataframe thead th {\n",
              "        text-align: right;\n",
              "    }\n",
              "</style>\n",
              "<table border=\"1\" class=\"dataframe\">\n",
              "  <thead>\n",
              "    <tr style=\"text-align: right;\">\n",
              "      <th></th>\n",
              "      <th>key</th>\n",
              "      <th>data1</th>\n",
              "      <th>data2</th>\n",
              "    </tr>\n",
              "  </thead>\n",
              "  <tbody>\n",
              "    <tr>\n",
              "      <th>0</th>\n",
              "      <td>a</td>\n",
              "      <td>12</td>\n",
              "      <td>-23.0</td>\n",
              "    </tr>\n",
              "    <tr>\n",
              "      <th>6</th>\n",
              "      <td>a</td>\n",
              "      <td>2</td>\n",
              "      <td>-23.0</td>\n",
              "    </tr>\n",
              "    <tr>\n",
              "      <th>1</th>\n",
              "      <td>b</td>\n",
              "      <td>34</td>\n",
              "      <td>-65.0</td>\n",
              "    </tr>\n",
              "    <tr>\n",
              "      <th>2</th>\n",
              "      <td>c</td>\n",
              "      <td>44</td>\n",
              "      <td>-34.0</td>\n",
              "    </tr>\n",
              "    <tr>\n",
              "      <th>3</th>\n",
              "      <td>d</td>\n",
              "      <td>76</td>\n",
              "      <td>-1.0</td>\n",
              "    </tr>\n",
              "    <tr>\n",
              "      <th>4</th>\n",
              "      <td>e</td>\n",
              "      <td>77</td>\n",
              "      <td>NaN</td>\n",
              "    </tr>\n",
              "    <tr>\n",
              "      <th>5</th>\n",
              "      <td>e</td>\n",
              "      <td>81</td>\n",
              "      <td>NaN</td>\n",
              "    </tr>\n",
              "  </tbody>\n",
              "</table>\n",
              "</div>\n",
              "    <div class=\"colab-df-buttons\">\n",
              "\n",
              "  <div class=\"colab-df-container\">\n",
              "    <button class=\"colab-df-convert\" onclick=\"convertToInteractive('df-c6ecafad-ab80-40e4-b13e-6d0f9532090b')\"\n",
              "            title=\"Convert this dataframe to an interactive table.\"\n",
              "            style=\"display:none;\">\n",
              "\n",
              "  <svg xmlns=\"http://www.w3.org/2000/svg\" height=\"24px\" viewBox=\"0 -960 960 960\">\n",
              "    <path d=\"M120-120v-720h720v720H120Zm60-500h600v-160H180v160Zm220 220h160v-160H400v160Zm0 220h160v-160H400v160ZM180-400h160v-160H180v160Zm440 0h160v-160H620v160ZM180-180h160v-160H180v160Zm440 0h160v-160H620v160Z\"/>\n",
              "  </svg>\n",
              "    </button>\n",
              "\n",
              "  <style>\n",
              "    .colab-df-container {\n",
              "      display:flex;\n",
              "      gap: 12px;\n",
              "    }\n",
              "\n",
              "    .colab-df-convert {\n",
              "      background-color: #E8F0FE;\n",
              "      border: none;\n",
              "      border-radius: 50%;\n",
              "      cursor: pointer;\n",
              "      display: none;\n",
              "      fill: #1967D2;\n",
              "      height: 32px;\n",
              "      padding: 0 0 0 0;\n",
              "      width: 32px;\n",
              "    }\n",
              "\n",
              "    .colab-df-convert:hover {\n",
              "      background-color: #E2EBFA;\n",
              "      box-shadow: 0px 1px 2px rgba(60, 64, 67, 0.3), 0px 1px 3px 1px rgba(60, 64, 67, 0.15);\n",
              "      fill: #174EA6;\n",
              "    }\n",
              "\n",
              "    .colab-df-buttons div {\n",
              "      margin-bottom: 4px;\n",
              "    }\n",
              "\n",
              "    [theme=dark] .colab-df-convert {\n",
              "      background-color: #3B4455;\n",
              "      fill: #D2E3FC;\n",
              "    }\n",
              "\n",
              "    [theme=dark] .colab-df-convert:hover {\n",
              "      background-color: #434B5C;\n",
              "      box-shadow: 0px 1px 3px 1px rgba(0, 0, 0, 0.15);\n",
              "      filter: drop-shadow(0px 1px 2px rgba(0, 0, 0, 0.3));\n",
              "      fill: #FFFFFF;\n",
              "    }\n",
              "  </style>\n",
              "\n",
              "    <script>\n",
              "      const buttonEl =\n",
              "        document.querySelector('#df-c6ecafad-ab80-40e4-b13e-6d0f9532090b button.colab-df-convert');\n",
              "      buttonEl.style.display =\n",
              "        google.colab.kernel.accessAllowed ? 'block' : 'none';\n",
              "\n",
              "      async function convertToInteractive(key) {\n",
              "        const element = document.querySelector('#df-c6ecafad-ab80-40e4-b13e-6d0f9532090b');\n",
              "        const dataTable =\n",
              "          await google.colab.kernel.invokeFunction('convertToInteractive',\n",
              "                                                    [key], {});\n",
              "        if (!dataTable) return;\n",
              "\n",
              "        const docLinkHtml = 'Like what you see? Visit the ' +\n",
              "          '<a target=\"_blank\" href=https://colab.research.google.com/notebooks/data_table.ipynb>data table notebook</a>'\n",
              "          + ' to learn more about interactive tables.';\n",
              "        element.innerHTML = '';\n",
              "        dataTable['output_type'] = 'display_data';\n",
              "        await google.colab.output.renderOutput(dataTable, element);\n",
              "        const docLink = document.createElement('div');\n",
              "        docLink.innerHTML = docLinkHtml;\n",
              "        element.appendChild(docLink);\n",
              "      }\n",
              "    </script>\n",
              "  </div>\n",
              "\n",
              "\n",
              "<div id=\"df-9ea9a0d4-7df6-4ef3-bec1-776bcb884502\">\n",
              "  <button class=\"colab-df-quickchart\" onclick=\"quickchart('df-9ea9a0d4-7df6-4ef3-bec1-776bcb884502')\"\n",
              "            title=\"Suggest charts\"\n",
              "            style=\"display:none;\">\n",
              "\n",
              "<svg xmlns=\"http://www.w3.org/2000/svg\" height=\"24px\"viewBox=\"0 0 24 24\"\n",
              "     width=\"24px\">\n",
              "    <g>\n",
              "        <path d=\"M19 3H5c-1.1 0-2 .9-2 2v14c0 1.1.9 2 2 2h14c1.1 0 2-.9 2-2V5c0-1.1-.9-2-2-2zM9 17H7v-7h2v7zm4 0h-2V7h2v10zm4 0h-2v-4h2v4z\"/>\n",
              "    </g>\n",
              "</svg>\n",
              "  </button>\n",
              "\n",
              "<style>\n",
              "  .colab-df-quickchart {\n",
              "      --bg-color: #E8F0FE;\n",
              "      --fill-color: #1967D2;\n",
              "      --hover-bg-color: #E2EBFA;\n",
              "      --hover-fill-color: #174EA6;\n",
              "      --disabled-fill-color: #AAA;\n",
              "      --disabled-bg-color: #DDD;\n",
              "  }\n",
              "\n",
              "  [theme=dark] .colab-df-quickchart {\n",
              "      --bg-color: #3B4455;\n",
              "      --fill-color: #D2E3FC;\n",
              "      --hover-bg-color: #434B5C;\n",
              "      --hover-fill-color: #FFFFFF;\n",
              "      --disabled-bg-color: #3B4455;\n",
              "      --disabled-fill-color: #666;\n",
              "  }\n",
              "\n",
              "  .colab-df-quickchart {\n",
              "    background-color: var(--bg-color);\n",
              "    border: none;\n",
              "    border-radius: 50%;\n",
              "    cursor: pointer;\n",
              "    display: none;\n",
              "    fill: var(--fill-color);\n",
              "    height: 32px;\n",
              "    padding: 0;\n",
              "    width: 32px;\n",
              "  }\n",
              "\n",
              "  .colab-df-quickchart:hover {\n",
              "    background-color: var(--hover-bg-color);\n",
              "    box-shadow: 0 1px 2px rgba(60, 64, 67, 0.3), 0 1px 3px 1px rgba(60, 64, 67, 0.15);\n",
              "    fill: var(--button-hover-fill-color);\n",
              "  }\n",
              "\n",
              "  .colab-df-quickchart-complete:disabled,\n",
              "  .colab-df-quickchart-complete:disabled:hover {\n",
              "    background-color: var(--disabled-bg-color);\n",
              "    fill: var(--disabled-fill-color);\n",
              "    box-shadow: none;\n",
              "  }\n",
              "\n",
              "  .colab-df-spinner {\n",
              "    border: 2px solid var(--fill-color);\n",
              "    border-color: transparent;\n",
              "    border-bottom-color: var(--fill-color);\n",
              "    animation:\n",
              "      spin 1s steps(1) infinite;\n",
              "  }\n",
              "\n",
              "  @keyframes spin {\n",
              "    0% {\n",
              "      border-color: transparent;\n",
              "      border-bottom-color: var(--fill-color);\n",
              "      border-left-color: var(--fill-color);\n",
              "    }\n",
              "    20% {\n",
              "      border-color: transparent;\n",
              "      border-left-color: var(--fill-color);\n",
              "      border-top-color: var(--fill-color);\n",
              "    }\n",
              "    30% {\n",
              "      border-color: transparent;\n",
              "      border-left-color: var(--fill-color);\n",
              "      border-top-color: var(--fill-color);\n",
              "      border-right-color: var(--fill-color);\n",
              "    }\n",
              "    40% {\n",
              "      border-color: transparent;\n",
              "      border-right-color: var(--fill-color);\n",
              "      border-top-color: var(--fill-color);\n",
              "    }\n",
              "    60% {\n",
              "      border-color: transparent;\n",
              "      border-right-color: var(--fill-color);\n",
              "    }\n",
              "    80% {\n",
              "      border-color: transparent;\n",
              "      border-right-color: var(--fill-color);\n",
              "      border-bottom-color: var(--fill-color);\n",
              "    }\n",
              "    90% {\n",
              "      border-color: transparent;\n",
              "      border-bottom-color: var(--fill-color);\n",
              "    }\n",
              "  }\n",
              "</style>\n",
              "\n",
              "  <script>\n",
              "    async function quickchart(key) {\n",
              "      const quickchartButtonEl =\n",
              "        document.querySelector('#' + key + ' button');\n",
              "      quickchartButtonEl.disabled = true;  // To prevent multiple clicks.\n",
              "      quickchartButtonEl.classList.add('colab-df-spinner');\n",
              "      try {\n",
              "        const charts = await google.colab.kernel.invokeFunction(\n",
              "            'suggestCharts', [key], {});\n",
              "      } catch (error) {\n",
              "        console.error('Error during call to suggestCharts:', error);\n",
              "      }\n",
              "      quickchartButtonEl.classList.remove('colab-df-spinner');\n",
              "      quickchartButtonEl.classList.add('colab-df-quickchart-complete');\n",
              "    }\n",
              "    (() => {\n",
              "      let quickchartButtonEl =\n",
              "        document.querySelector('#df-9ea9a0d4-7df6-4ef3-bec1-776bcb884502 button');\n",
              "      quickchartButtonEl.style.display =\n",
              "        google.colab.kernel.accessAllowed ? 'block' : 'none';\n",
              "    })();\n",
              "  </script>\n",
              "</div>\n",
              "    </div>\n",
              "  </div>\n"
            ],
            "application/vnd.google.colaboratory.intrinsic+json": {
              "type": "dataframe",
              "summary": "{\n  \"name\": \"pd\",\n  \"rows\": 7,\n  \"fields\": [\n    {\n      \"column\": \"key\",\n      \"properties\": {\n        \"dtype\": \"string\",\n        \"num_unique_values\": 5,\n        \"samples\": [\n          \"b\",\n          \"e\",\n          \"c\"\n        ],\n        \"semantic_type\": \"\",\n        \"description\": \"\"\n      }\n    },\n    {\n      \"column\": \"data1\",\n      \"properties\": {\n        \"dtype\": \"number\",\n        \"std\": 32,\n        \"min\": 2,\n        \"max\": 81,\n        \"num_unique_values\": 7,\n        \"samples\": [\n          12,\n          2,\n          77\n        ],\n        \"semantic_type\": \"\",\n        \"description\": \"\"\n      }\n    },\n    {\n      \"column\": \"data2\",\n      \"properties\": {\n        \"dtype\": \"number\",\n        \"std\": 23.328094650013746,\n        \"min\": -65.0,\n        \"max\": -1.0,\n        \"num_unique_values\": 4,\n        \"samples\": [\n          -65.0,\n          -1.0,\n          -23.0\n        ],\n        \"semantic_type\": \"\",\n        \"description\": \"\"\n      }\n    }\n  ]\n}"
            }
          },
          "metadata": {},
          "execution_count": 44
        }
      ]
    },
    {
      "cell_type": "markdown",
      "source": [
        "**14. Изменить тип данных на datetime64[ns] в датафрейме df_data:**"
      ],
      "metadata": {
        "id": "SQNPeeI8PRkK"
      }
    },
    {
      "cell_type": "code",
      "source": [
        "          Date\n",
        "0   01-05-2022\n",
        "1   01-06-2022\n",
        "2   01-07-2022\n",
        "3   01-08-2022\n",
        "4   01-09-2022\n",
        "5   01-10-2022\n",
        "6   01-11-2022\n",
        "7   01-12-2022\n",
        "8   01-01-2023\n",
        "9   01-02-2023\n",
        "10  01-03-2023\n",
        "11  01-04-2023\n",
        "12  01-05-2023"
      ],
      "metadata": {
        "id": "exMrH2izSOxe"
      },
      "execution_count": null,
      "outputs": []
    },
    {
      "cell_type": "code",
      "source": [
        "df_data = df_data.astype({'Date': np.datetime64})"
      ],
      "metadata": {
        "id": "6YNtA024QLJo"
      },
      "execution_count": null,
      "outputs": []
    },
    {
      "cell_type": "code",
      "source": [
        "df_data = df_data.astype('datetime64')"
      ],
      "metadata": {
        "id": "xQKAgjbqQz8v"
      },
      "execution_count": null,
      "outputs": []
    },
    {
      "cell_type": "code",
      "source": [
        "df_data = df_data.astype('datetime64[ns]')"
      ],
      "metadata": {
        "id": "1qiF7QBsQ1ys"
      },
      "execution_count": null,
      "outputs": []
    },
    {
      "cell_type": "markdown",
      "source": [
        "**15. Средствами библиотеки Pandas языка Python в создайте датафрейм df_all из файла daily_weather_data.csv, в котором собраны данные о погоде в столицах мира по месяцам с 2018 по 2022 год. Напишите строки кода, которые приведут к требуемым результатам. Рекомендуем выполнять данное задание по порядку.**\n"
      ],
      "metadata": {
        "id": "clNU7LmJRQOl"
      }
    },
    {
      "cell_type": "code",
      "source": [
        "df_all = pd.read_csv('https://dc-edu.itmo.ru/asset-v1:ITMOUniversity+TEST2022+2022_2+type@asset+block@daily_weather_data.csv',\n",
        "                       delimiter=',',\n",
        "                       decimal='.')"
      ],
      "metadata": {
        "id": "yTNtY_tZSGVp"
      },
      "execution_count": null,
      "outputs": []
    },
    {
      "cell_type": "markdown",
      "source": [
        "Привести значения колонки 'date' к типу datetime64[ns]:"
      ],
      "metadata": {
        "id": "_Fe9odEbTJde"
      }
    },
    {
      "cell_type": "code",
      "source": [
        "df_all = df_all.astype({'date': 'datetime64[ns]'})"
      ],
      "metadata": {
        "id": "fKetSr8WTI08"
      },
      "execution_count": null,
      "outputs": []
    },
    {
      "cell_type": "markdown",
      "source": [
        "Установите значения колонки 'date' в качестве индексов:"
      ],
      "metadata": {
        "id": "0D37Qo9sTc3u"
      }
    },
    {
      "cell_type": "code",
      "source": [
        "df_all = df_all.set_index('date')"
      ],
      "metadata": {
        "id": "2G7saLQ5Tc-t"
      },
      "execution_count": null,
      "outputs": []
    },
    {
      "cell_type": "markdown",
      "source": [
        "Оставить в датафрейме только те строки, у которых столица Sukhumi:"
      ],
      "metadata": {
        "id": "JIYialzwTrHx"
      }
    },
    {
      "cell_type": "code",
      "source": [
        "df_all = df_all[(df_all['city'] == 'Sukhumi')]"
      ],
      "metadata": {
        "id": "uGVgjB5NTrOc"
      },
      "execution_count": null,
      "outputs": []
    },
    {
      "cell_type": "markdown",
      "source": [
        "Сгруппируйте данные по годам и выведите среднее значение средней температуры 'tavg' за каждый год в Sukhumi:"
      ],
      "metadata": {
        "id": "urDgQ37lTziN"
      }
    },
    {
      "cell_type": "code",
      "source": [
        "df_all = df_all[['tavg']].groupby(pd.Grouper(freq='1Y')).mean()"
      ],
      "metadata": {
        "id": "RP6fbRDnTznZ"
      },
      "execution_count": null,
      "outputs": []
    },
    {
      "cell_type": "markdown",
      "source": [
        "Введите значение средней температуры за 2021 год в Sukhumi (округлите до целого):"
      ],
      "metadata": {
        "id": "QqAMAzAJT8Ox"
      }
    },
    {
      "cell_type": "code",
      "source": [
        "df_all[df_all.index.year == 2021]['tavg'].round()"
      ],
      "metadata": {
        "id": "cYeOmiCET8Us"
      },
      "execution_count": null,
      "outputs": []
    },
    {
      "cell_type": "markdown",
      "source": [
        "## Регулярные выражение"
      ],
      "metadata": {
        "id": "xxVqRQW1U2TZ"
      }
    },
    {
      "cell_type": "markdown",
      "source": [
        "**16. При помощи Python реализуйте функцию, которая находит в начале строки str год (например, 2023). На выходе должны получать значение года. Обратите внимание, что функция должна выдавать None, если строка начинается не с года (например, в \"год 2023\").**\n",
        "\n"
      ],
      "metadata": {
        "id": "afXuqsdESYgE"
      }
    },
    {
      "cell_type": "code",
      "source": [
        "def re_match(str):\n",
        "    result = None\n",
        "    matchResult = re.match('\\d{4}', str)\n",
        "    if matchResult != None:\n",
        "      result = matchResult.group()\n",
        "    return result"
      ],
      "metadata": {
        "id": "zCjpZcbNSclh"
      },
      "execution_count": null,
      "outputs": []
    },
    {
      "cell_type": "markdown",
      "source": [
        "**17. При помощи Python реализуйте функцию с именем re_all(str), которая находит в строке str количество вхождений годов, начинающихся с 19. Например, результатом выполнения re_all(\"1908, 2000, 1897,1913,2023 года\") должно быть число 2 (1908, 1913):**"
      ],
      "metadata": {
        "id": "9K7_kRKyd73B"
      }
    },
    {
      "cell_type": "code",
      "source": [
        "def re_all(str):\n",
        "  result = len(re.findall('19[0-9]{2}',str))\n",
        "  return result"
      ],
      "metadata": {
        "id": "d7oz8_LMapNw"
      },
      "execution_count": null,
      "outputs": []
    },
    {
      "cell_type": "markdown",
      "source": [
        "**18. При помощи Python реализуйте функцию, которая преобразует выражение \"Смелый человек совершает смелые поступки. Но смелые поступки не всегда делают его героем.» так, чтобы избежать повтора слова \"смелые\". Вместо него подставить \"такие\" во втором предложении.**"
      ],
      "metadata": {
        "id": "cGj1VKhbeY-0"
      }
    },
    {
      "cell_type": "code",
      "source": [
        "import re\n",
        "def replace(str, word1, word2):\n",
        "    result = re.sub(word2, word1, re.sub(word1, word2, str), count=1)\n",
        "    return result"
      ],
      "metadata": {
        "id": "RNZ4i-IseYY0"
      },
      "execution_count": null,
      "outputs": []
    },
    {
      "cell_type": "markdown",
      "source": [
        "## BeautifulSoup"
      ],
      "metadata": {
        "id": "kx7EmSjdUsw7"
      }
    },
    {
      "cell_type": "code",
      "source": [
        "from bs4 import BeautifulSoup"
      ],
      "metadata": {
        "id": "JS7RYf7eUvI_"
      },
      "execution_count": null,
      "outputs": []
    },
    {
      "cell_type": "markdown",
      "source": [
        "**19. Дан некий фрагмент HTML-документа. При помощи языка Python напишите код, который выводит все значения тега <li>**\n"
      ],
      "metadata": {
        "id": "TIPQ5M_0PLvk"
      }
    },
    {
      "cell_type": "code",
      "source": [
        "html_doc = '''<nav>\n",
        "<ul>\n",
        "<li><a href=\"/home\">Home</a></li>\n",
        "<li><a href=\"/about\">About</a></li>\n",
        "<li><a href=\"/catalog\">Catalog</a></li>\n",
        "<li><a href=\"/contact\">Contact us</a></li>\n",
        "</ul>\n",
        "<p class=\"title\">\n",
        "<b> Title </b>\n",
        "</p>\n",
        "<b>Item 1</b>\n",
        "<b>Item 2</b>\n",
        "<b>Item 3</b>\n",
        "</nav>'''"
      ],
      "metadata": {
        "id": "HFo8krXcPL1x"
      },
      "execution_count": null,
      "outputs": []
    },
    {
      "cell_type": "code",
      "source": [
        "from bs4 import BeautifulSoup\n",
        "page = BeautifulSoup(html_doc, features='html.parser')\n",
        "for tag in page.find_all('li'):\n",
        "  print(tag.text)"
      ],
      "metadata": {
        "colab": {
          "base_uri": "https://localhost:8080/"
        },
        "id": "k_UfnU-gPN0m",
        "outputId": "59bcf655-df96-4c3b-e71e-99fa006dcfd9"
      },
      "execution_count": null,
      "outputs": [
        {
          "output_type": "stream",
          "name": "stdout",
          "text": [
            "Home\n",
            "About\n",
            "Catalog\n",
            "Contact us\n"
          ]
        }
      ]
    },
    {
      "cell_type": "markdown",
      "source": [
        "**При помощи языка Python напишите строку кода, которая выводит все теги <а>, у которых значение аттрибута href принимает значение /аbout:**"
      ],
      "metadata": {
        "id": "iUh8bHK5R4an"
      }
    },
    {
      "cell_type": "code",
      "source": [
        "page = BeautifulSoup(html_doc, features='html.parser')\n",
        "page.find_all('a', {'href':'/about'})"
      ],
      "metadata": {
        "colab": {
          "base_uri": "https://localhost:8080/"
        },
        "id": "aLVqyvpoSNVr",
        "outputId": "f037fed7-0d25-4d05-e795-abe0427ccd9a"
      },
      "execution_count": null,
      "outputs": [
        {
          "output_type": "execute_result",
          "data": {
            "text/plain": [
              "[<a href=\"/about\">About</a>]"
            ]
          },
          "metadata": {},
          "execution_count": 58
        }
      ]
    },
    {
      "cell_type": "markdown",
      "source": [
        "**При помощи языка Python напишите строки кода, которые выводят все дочерние элементы тега `<ul>`:**\n",
        "\n",
        "\n"
      ],
      "metadata": {
        "id": "bnxi4-tfS8od"
      }
    },
    {
      "cell_type": "code",
      "source": [
        "html_doc = \"\".join(html_doc.split('\\n'))\n",
        "page = BeautifulSoup(html_doc, features='html.parser')\n",
        "list(page.ul.children)"
      ],
      "metadata": {
        "colab": {
          "base_uri": "https://localhost:8080/"
        },
        "id": "WHRTCIsLSm5G",
        "outputId": "6b34558a-ed8c-4f13-bf4c-688b7a3d85f1"
      },
      "execution_count": null,
      "outputs": [
        {
          "output_type": "execute_result",
          "data": {
            "text/plain": [
              "[<li><a href=\"/home\">Home</a></li>,\n",
              " <li><a href=\"/about\">About</a></li>,\n",
              " <li><a href=\"/catalog\">Catalog</a></li>,\n",
              " <li><a href=\"/contact\">Contact us</a></li>]"
            ]
          },
          "metadata": {},
          "execution_count": 70
        }
      ]
    },
    {
      "cell_type": "markdown",
      "source": [
        "\n",
        "**При помощи языка Python напишите строку кода, которая выводит второй тег `<li>`методом .next_sibling**"
      ],
      "metadata": {
        "id": "AjACrIctkzEt"
      }
    },
    {
      "cell_type": "code",
      "source": [
        "from bs4 import BeautifulSoup\n",
        "html_doc = \"\".join(html_doc.split('\\n'))\n",
        "page = BeautifulSoup(html_doc, features='html.parser')\n",
        "page.li.next_sibling"
      ],
      "metadata": {
        "colab": {
          "base_uri": "https://localhost:8080/"
        },
        "id": "p7HcYXr0k1ih",
        "outputId": "98f53fd2-3da2-418f-d648-f5da3abef625"
      },
      "execution_count": null,
      "outputs": [
        {
          "output_type": "execute_result",
          "data": {
            "text/plain": [
              "<li><a href=\"/about\">About</a></li>"
            ]
          },
          "metadata": {},
          "execution_count": 12
        }
      ]
    },
    {
      "cell_type": "markdown",
      "source": [
        "**При помощи языка Python напишите строку кода для получения всех тегов с помощью метода .select() (с помощью CSS селекторов), у которых аттрибут href из приведенного выше HTML-документа.**"
      ],
      "metadata": {
        "id": "_mnnZLvwnz9k"
      }
    },
    {
      "cell_type": "code",
      "source": [
        "from bs4 import BeautifulSoup\n",
        "html_doc = \"\".join(html_doc.split('\\n'))\n",
        "page = BeautifulSoup(html_doc, features='html.parser')\n",
        "page.select('[href]')"
      ],
      "metadata": {
        "colab": {
          "base_uri": "https://localhost:8080/"
        },
        "id": "2nsPd9aCnvAo",
        "outputId": "0b32d2b1-dd00-4909-8c4d-103d4d315524"
      },
      "execution_count": null,
      "outputs": [
        {
          "output_type": "execute_result",
          "data": {
            "text/plain": [
              "[<a href=\"/home\">Home</a>,\n",
              " <a href=\"/about\">About</a>,\n",
              " <a href=\"/catalog\">Catalog</a>,\n",
              " <a href=\"/contact\">Contact us</a>]"
            ]
          },
          "metadata": {},
          "execution_count": 13
        }
      ]
    },
    {
      "cell_type": "markdown",
      "source": [
        "**При помощи языка Python напишите функцию get_tag_by_text(page,text), которая с помощью метода next_sibling выводит тег следующий за тегом с текстом Item 1. На вход функция получает объект page конструктора BeautifulSoup (в нашем случае page = BeautifulSoup(html_doc, features='html.parser') и текст тега text (в нашем случае text = 'Item 1').**\n",
        "\n"
      ],
      "metadata": {
        "id": "fgm5p0w-omf8"
      }
    },
    {
      "cell_type": "code",
      "source": [
        "from bs4 import BeautifulSoup\n",
        "html_doc = \"\".join(html_doc.split('\\n'))\n",
        "page = BeautifulSoup(html_doc, features='html.parser')\n",
        "text = 'Item 1'\n",
        "def get_tag_by_text(page,text):\n",
        "  for tag in page.find_all():\n",
        "    if tag.text == text:\n",
        "      return tag.next_sibling\n",
        "get_tag_by_text(page,text)"
      ],
      "metadata": {
        "colab": {
          "base_uri": "https://localhost:8080/"
        },
        "id": "l_C4qIeRomW_",
        "outputId": "016cfc05-c2d7-463f-d5fb-8ff137983b2d"
      },
      "execution_count": null,
      "outputs": [
        {
          "output_type": "execute_result",
          "data": {
            "text/plain": [
              "<b>Item 2</b>"
            ]
          },
          "metadata": {},
          "execution_count": 26
        }
      ]
    },
    {
      "cell_type": "markdown",
      "source": [
        "**При помощи языка Python напишите строку кода для получения с помощью метода .select() (с помощью CSS селекторов) тех тегов из приведенного выше HTML-документа, имена которых НЕ `<ul>`, `<nav>`, `<li>`:**"
      ],
      "metadata": {
        "id": "wuIZ3Yf3tIz4"
      }
    },
    {
      "cell_type": "code",
      "source": [
        "from bs4 import BeautifulSoup\n",
        "html_doc = \"\".join(html_doc.split('\\n'))\n",
        "page = BeautifulSoup(html_doc, features='html.parser')\n",
        "page.select('*:not(ul, nav, li)')"
      ],
      "metadata": {
        "colab": {
          "base_uri": "https://localhost:8080/"
        },
        "id": "bfEyHpiQtI6r",
        "outputId": "42d08fc9-c1c6-4f90-c4c1-726ac1623783"
      },
      "execution_count": null,
      "outputs": [
        {
          "output_type": "execute_result",
          "data": {
            "text/plain": [
              "[<a href=\"/home\">Home</a>,\n",
              " <a href=\"/about\">About</a>,\n",
              " <a href=\"/catalog\">Catalog</a>,\n",
              " <a href=\"/contact\">Contact us</a>,\n",
              " <p class=\"title\"><b> Title </b></p>,\n",
              " <b> Title </b>,\n",
              " <b>Item 1</b>,\n",
              " <b>Item 2</b>,\n",
              " <b>Item 3</b>]"
            ]
          },
          "metadata": {},
          "execution_count": 27
        }
      ]
    },
    {
      "cell_type": "markdown",
      "source": [
        "**20. При помощи языка Python необходимо вывести список всех значений тегов в виде ['xjfdge4735202', 'Квартиры', ...]**\n",
        "\n"
      ],
      "metadata": {
        "id": "wf_T8Cyh3YRF"
      }
    },
    {
      "cell_type": "code",
      "source": [
        "\n",
        "xml = \"\"\"\n",
        "<?xml version=\"1.0\" encoding=\"UTF-8\"?>\n",
        "<Ads formatVersion=\"3\" target=\"Avito.ru\">\n",
        "    <Ad>\n",
        "        <Id>xjfdge4735202</Id>\n",
        "        <Category>Квартиры</Category>\n",
        "        <OperationType>Продам</OperationType>\n",
        "        <DateBegin>2015-11-27</DateBegin>\n",
        "        <DateEnd>2079-08-28</DateEnd>\n",
        "        <Description>\n",
        "            Новая, просторная, светлая и уютная квартира\n",
        "        </Description>\n",
        "        <ManagerName>Иван Петров-Водкин</ManagerName>\n",
        "        <ContactPhone>+7 916 683-78-22</ContactPhone>\n",
        "        <Images>\n",
        "            <Image url=\"http://img.test.ru/8F7B-4A4F3A0F2BA1.jpg\" />\n",
        "        </Images>\n",
        "        <Rooms>2</Rooms>\n",
        "        <Square>61</Square>\n",
        "        <Floor>13</Floor>\n",
        "        <Floors>16</Floors>\n",
        "        <HouseType>Деревянный</HouseType>\n",
        "        <MarketType>Новостройка</MarketType>\n",
        "    </Ad>\n",
        "    <Ad>\n",
        "        <Id>xjfdge4735204</Id>\n",
        "        <Category>Комнаты</Category>\n",
        "        <Description>Новая, просторная, светлая и уютная квартира. </Description>\n",
        "        <Price>102000</Price>\n",
        "        <Rooms>2</Rooms>\n",
        "        <Square>61.3</Square>\n",
        "        <Floor>14</Floor>\n",
        "        <Floors>16</Floors>\n",
        "        <HouseType>Деревянный</HouseType>\n",
        "        <OperationType>Сдам</OperationType>\n",
        "    </Ad>\n",
        "    <Ad>\n",
        "        <Id>xjfdge4735205</Id>\n",
        "        <Category>Коммерческая недвижимость</Category>\n",
        "        <OperationType>Сдам</OperationType>\n",
        "        <Description>Hедвижимость.</Description>\n",
        "        <Price>12000</Price>\n",
        "        <Square>234</Square>\n",
        "    </Ad>\n",
        "</Ads>\n",
        "\"\"\"\n"
      ],
      "metadata": {
        "id": "k67MZu-h3ldw"
      },
      "execution_count": null,
      "outputs": []
    },
    {
      "cell_type": "code",
      "source": [
        "from bs4 import BeautifulSoup\n",
        "xml_data = BeautifulSoup(xml, features='lxml')\n",
        "list1 = []\n",
        "for string in xml_data.stripped_strings:\n",
        "  list1.append(string)\n",
        "\n",
        "print(list1)"
      ],
      "metadata": {
        "colab": {
          "base_uri": "https://localhost:8080/"
        },
        "id": "Nrd6Qaxk4My9",
        "outputId": "fefee53b-4433-40d3-903f-3ca00b8961c1"
      },
      "execution_count": null,
      "outputs": [
        {
          "output_type": "stream",
          "name": "stdout",
          "text": [
            "['xjfdge4735202', 'Квартиры', 'Продам', '2015-11-27', '2079-08-28', 'Новая, просторная, светлая и уютная квартира', 'Иван Петров-Водкин', '+7 916 683-78-22', '2', '61', '13', '16', 'Деревянный', 'Новостройка', 'xjfdge4735204', 'Комнаты', 'Новая, просторная, светлая и уютная квартира.', '102000', '2', '61.3', '14', '16', 'Деревянный', 'Сдам', 'xjfdge4735205', 'Коммерческая недвижимость', 'Сдам', 'Hедвижимость.', '12000', '234']\n"
          ]
        }
      ]
    },
    {
      "cell_type": "markdown",
      "source": [
        "**При помощи языка Python напишите функцию add_tag(data,text), которая добавляет новый тег <type>Новое объявление</type> в конец приведенного выше XML-документа. На вход функция получает объект data конструктора BeautifulSoup (в нашем случае data = BeautifulSoup(xml, features='lxml')').**"
      ],
      "metadata": {
        "id": "CM0ZJN_V5RV_"
      }
    },
    {
      "cell_type": "code",
      "source": [
        "from bs4 import BeautifulSoup\n",
        "data = BeautifulSoup(xml, features='lxml')\n",
        "text = 'Новое объявление'\n",
        "def add_tag(data,text):\n",
        "  new = data.new_tag('type')\n",
        "  new.string = text\n",
        "  data.ads.append(new)\n",
        "  return data\n",
        "\n",
        "add_tag(data,text)\n"
      ],
      "metadata": {
        "colab": {
          "base_uri": "https://localhost:8080/"
        },
        "id": "u2emeRxQ5Rcj",
        "outputId": "9dbcd055-cf19-4ec0-dc8c-dc57518fecb4"
      },
      "execution_count": null,
      "outputs": [
        {
          "output_type": "execute_result",
          "data": {
            "text/plain": [
              "<?xml version=\"1.0\" encoding=\"UTF-8\"?><html><body><ads formatversion=\"3\" target=\"Avito.ru\">\n",
              "<ad>\n",
              "<id>xjfdge4735202</id>\n",
              "<category>Квартиры</category>\n",
              "<operationtype>Продам</operationtype>\n",
              "<datebegin>2015-11-27</datebegin>\n",
              "<dateend>2079-08-28</dateend>\n",
              "<description>\n",
              "            Новая, просторная, светлая и уютная квартира\n",
              "        </description>\n",
              "<managername>Иван Петров-Водкин</managername>\n",
              "<contactphone>+7 916 683-78-22</contactphone>\n",
              "<images>\n",
              "<image url=\"http://img.test.ru/8F7B-4A4F3A0F2BA1.jpg\"/>\n",
              "</images>\n",
              "<rooms>2</rooms>\n",
              "<square>61</square>\n",
              "<floor>13</floor>\n",
              "<floors>16</floors>\n",
              "<housetype>Деревянный</housetype>\n",
              "<markettype>Новостройка</markettype>\n",
              "</ad>\n",
              "<ad>\n",
              "<id>xjfdge4735204</id>\n",
              "<category>Комнаты</category>\n",
              "<description>Новая, просторная, светлая и уютная квартира. </description>\n",
              "<price>102000</price>\n",
              "<rooms>2</rooms>\n",
              "<square>61.3</square>\n",
              "<floor>14</floor>\n",
              "<floors>16</floors>\n",
              "<housetype>Деревянный</housetype>\n",
              "<operationtype>Сдам</operationtype>\n",
              "</ad>\n",
              "<ad>\n",
              "<id>xjfdge4735205</id>\n",
              "<category>Коммерческая недвижимость</category>\n",
              "<operationtype>Сдам</operationtype>\n",
              "<description>Hедвижимость.</description>\n",
              "<price>12000</price>\n",
              "<square>234</square>\n",
              "</ad>\n",
              "<type>Новое объявление</type></ads>\n",
              "</body></html>"
            ]
          },
          "metadata": {},
          "execution_count": 43
        }
      ]
    },
    {
      "cell_type": "markdown",
      "source": [
        "**При помощи языка Python выведите значения тегов, где встречается слово квартира (Квартира, квартир и т.д). Для выполнения задания необходимо использовать регулярные выражения.**"
      ],
      "metadata": {
        "id": "cFyc1wN27Pw1"
      }
    },
    {
      "cell_type": "code",
      "source": [
        "from bs4 import BeautifulSoup\n",
        "import re\n",
        "data = BeautifulSoup(xml, features='lxml')\n",
        "for tag in data.find_all(string=re.compile('\\wвартир\\w*')):\n",
        "  print(tag)\n"
      ],
      "metadata": {
        "colab": {
          "base_uri": "https://localhost:8080/"
        },
        "id": "zUKv2hUs7P21",
        "outputId": "5eef6f4d-a75e-43da-f644-b30359810727"
      },
      "execution_count": null,
      "outputs": [
        {
          "output_type": "stream",
          "name": "stdout",
          "text": [
            "Квартиры\n",
            "\n",
            "            Новая, просторная, светлая и уютная квартира\n",
            "        \n",
            "Новая, просторная, светлая и уютная квартира. \n"
          ]
        }
      ]
    },
    {
      "cell_type": "markdown",
      "source": [
        "**21. Дан HTML-документ, в котором содержится информация о новинках за определенный период. С помощью языка Python cформируйте список всех названий фильмов из файла, используя соответсвующие теги и аттрибуты. Результирующий список должен содержать только названия фильмов.**"
      ],
      "metadata": {
        "id": "5u1RePMOAxRS"
      }
    },
    {
      "cell_type": "code",
      "source": [
        "from bs4 import BeautifulSoup\n",
        "import re\n",
        "with open('/content/kinopoisk.html') as f:\n",
        "  contents = f.read()\n",
        "  page = BeautifulSoup(contents, 'html.parser')\n",
        "  movies_div = page.find_all('div', {'class': 'name'})\n",
        "  movies = []\n",
        "  for tag in movies_div:\n",
        "    movie = tag.find('a').text\n",
        "    movie = re.sub(' \\(\\d{4}\\)$', '', movie)\n",
        "    movies.append(movie)\n",
        "  print(movies)\n"
      ],
      "metadata": {
        "colab": {
          "base_uri": "https://localhost:8080/"
        },
        "id": "qa8fNftHBkxp",
        "outputId": "056ae0e5-6b93-4ae2-e6b4-ccce93528cb0"
      },
      "execution_count": null,
      "outputs": [
        {
          "output_type": "stream",
          "name": "stdout",
          "text": [
            "['О чем говорят мужчины. Простые удовольствия', 'Беспринципные в деревне', 'Нюрнберг', 'Сто лет тому вперёд', 'Самая большая луна', 'Вызов']\n"
          ]
        }
      ]
    },
    {
      "cell_type": "markdown",
      "source": [
        "## JSON"
      ],
      "metadata": {
        "id": "epVTJqba2Idq"
      }
    },
    {
      "cell_type": "markdown",
      "source": [
        "**Дан фрагмент JSON файла. С помощью языка Python выведите список жанров фильма (['мультфильм', 'комедия', 'приключения']):**"
      ],
      "metadata": {
        "id": "Mg-Kk8b_2N0V"
      }
    },
    {
      "cell_type": "code",
      "source": [
        "data = '''{\"kinopoiskId\":1114973,\n",
        "\"nameRu\":\"Большое путешествие\",\n",
        "\"nameEn\":\"\",\n",
        "\"year\":2019,\n",
        "\"posterUrl\":\"https://kinopoiskapiunofficial.tech/images/posters/kp/1114973.jpg\",\n",
        "\"posterUrlPreview\":\"https://kinopoiskapiunofficial.tech/images/posters/kp_small/1114973.jpg\",\n",
        "\"countries\":[{\"country\":\"Россия\"},{\"country\":\"США\"}],\n",
        "\"genres\":[{\"genre\":\"мультфильм\"},{\"genre\":\"комедия\"},{\"genre\":\"приключения\"}],\n",
        "\"duration\":80,\n",
        "\"premiereRu\":\"2022-08-04\"}'''"
      ],
      "metadata": {
        "id": "KmvaiqI-QrgW"
      },
      "execution_count": null,
      "outputs": []
    },
    {
      "cell_type": "code",
      "source": [
        "import json\n",
        "data = \"\"\"{\"kinopoiskId\":1114973,\"nameRu\":\"Большое путешествие\",\n",
        "        \"nameEn\":\"\",\"year\":2019,\"posterUrl\":\"https://kinopoiskapiunofficial.tech/images/posters/kp/1114973.jpg\",\n",
        "        \"posterUrlPreview\":\"https://kinopoiskapiunofficial.tech/images/posters/kp_small/1114973.jpg\",\"countries\":[{\"country\":\"Россия\"},{\"country\":\"США\"}],\"genres\":[{\"genre\":\"мультфильм\"},{\"genre\":\"комедия\"},{\"genre\":\"приключения\"}],\"duration\":80,\"premiereRu\":\"2022-08-04\"}\"\"\"\n",
        "data_json = json.loads(data)\n",
        "result = [v for g in data_json['genres'] for k, v in g.items()]\n",
        "print(result)"
      ],
      "metadata": {
        "colab": {
          "base_uri": "https://localhost:8080/"
        },
        "id": "EWoDnYPI2n1e",
        "outputId": "9de189ad-c5bf-45a2-8fe7-3cfa1e0f7e5a"
      },
      "execution_count": null,
      "outputs": [
        {
          "output_type": "stream",
          "name": "stdout",
          "text": [
            "['мультфильм', 'комедия', 'приключения']\n"
          ]
        }
      ]
    },
    {
      "cell_type": "markdown",
      "source": [
        "**С помощью языка Python реализуйте функцию new_name(data), которая при трансформации данного JSON файла в объект Python присвоит значение \"The Big Trip\" ключу \"nameEn\" (эту функцию можно использовать в качестве параметра object_hook метода .loads()):**"
      ],
      "metadata": {
        "id": "Bi61fa6E3Sys"
      }
    },
    {
      "cell_type": "code",
      "source": [
        "import json\n",
        "def new_name(data):\n",
        "  data[\"nameEn\"] = \"The Big Trip\"\n",
        "  return data\n",
        "\n",
        "json.loads(data, object_hook = lambda dict: new_name(dict))"
      ],
      "metadata": {
        "id": "1eyUvj4F3Uke"
      },
      "execution_count": null,
      "outputs": []
    },
    {
      "cell_type": "markdown",
      "source": [
        "**С помощью языка Python прочитайте данный файл, предварительно загрузив его во временное хранилище Google Colab или на Google disk), выведите список продолжительности каждого фильма (ключ duration) через запятую (например, 102, 120, 90):**"
      ],
      "metadata": {
        "id": "ZyitK-tP4G3f"
      }
    },
    {
      "cell_type": "code",
      "source": [
        "with open(\"/content/kinopoisk_example.json\") as file:  # сразу читаем файл и преобразуем в объект Phython\n",
        "  data_json = json.load(file)\n",
        "list1 = []\n",
        "for film in data_json['items']:\n",
        "  list1.append(film['duration'])\n",
        "print(list1)"
      ],
      "metadata": {
        "colab": {
          "base_uri": "https://localhost:8080/"
        },
        "id": "T0PDRskO4Gp-",
        "outputId": "f3ae0621-678d-4490-8ae8-ea5d9329b12a"
      },
      "execution_count": null,
      "outputs": [
        {
          "output_type": "stream",
          "name": "stdout",
          "text": [
            "[80, 101, 82, 112, 92, 80, 103, 93, 114, 90, 107, 86, 90, 99, 97, 98, 100, 89, 105, 90, 160, 41, 103, 103, 126, 85, 143, 90, 106, 86, 117, 85, 76, 122, 100, 119, 47, 32, 140, 95, 122, 93, 90, 102, 75, 96, 89, 106, 85, 85, 86, None, 183]\n"
          ]
        }
      ]
    },
    {
      "cell_type": "markdown",
      "source": [
        "## Requests"
      ],
      "metadata": {
        "id": "1nqNK2K4m2jK"
      }
    },
    {
      "cell_type": "markdown",
      "source": [
        "# Новый раздел"
      ],
      "metadata": {
        "id": "ViHLy7FC090L"
      }
    },
    {
      "cell_type": "code",
      "source": [
        "import requests"
      ],
      "metadata": {
        "id": "xcjFpqMnm5N9"
      },
      "execution_count": null,
      "outputs": []
    },
    {
      "cell_type": "markdown",
      "source": [
        "**С помощью языка Python отправьте запрос на получение информации с https://api.openrouteservice.org/v2/directions/ и введите полученный код ответа:**"
      ],
      "metadata": {
        "id": "-rcNDCRhmqEZ"
      }
    },
    {
      "cell_type": "code",
      "source": [
        "url = 'https://api.openrouteservice.org/v2/directions/'\n",
        "data = requests.get(url)\n",
        "data.status_code\n"
      ],
      "metadata": {
        "colab": {
          "base_uri": "https://localhost:8080/"
        },
        "id": "_dsqoEi7mqLL",
        "outputId": "295c275b-4242-4fe9-fb21-7bf6ba769ae1"
      },
      "execution_count": null,
      "outputs": [
        {
          "output_type": "execute_result",
          "data": {
            "text/plain": [
              "401"
            ]
          },
          "metadata": {},
          "execution_count": 142
        }
      ]
    },
    {
      "cell_type": "markdown",
      "source": [
        "**Информацию о рейтингах фильмов в формате XML можно получить в том числе и через сервис https://rating.kinopoisk.ru/ID.xml (на место \"ID\" необходимо подставить ID фильма).\n",
        "С помощью языка Python отправьте GET запрос на указанный сервис для фильма с ID = 1411988. В ответе введите значение заголовка \"Content-Encoding\", полученного в ответном запросе:**"
      ],
      "metadata": {
        "id": "9iTT7DUlnQBI"
      }
    },
    {
      "cell_type": "code",
      "source": [
        "url = 'https://rating.kinopoisk.ru/1411988.xml'\n",
        "data = requests.get(url)\n",
        "data.headers[\"Content-Encoding\"]"
      ],
      "metadata": {
        "colab": {
          "base_uri": "https://localhost:8080/",
          "height": 35
        },
        "id": "Ons4smF8nPjJ",
        "outputId": "97ed2e93-4b9f-4e89-b0af-a15558a5267b"
      },
      "execution_count": null,
      "outputs": [
        {
          "output_type": "execute_result",
          "data": {
            "text/plain": [
              "'gzip'"
            ],
            "application/vnd.google.colaboratory.intrinsic+json": {
              "type": "string"
            }
          },
          "metadata": {},
          "execution_count": 145
        }
      ]
    },
    {
      "cell_type": "markdown",
      "source": [
        "**С помощью языка Python отправьте GET запрос на сервис https://rating.kinopoisk.ru/ID.xml для фильма с ID = 1411988. Отобразите значение рейтинга для данного фильма https://www.kinopoisk.ru/ (тег `<kp_rating>`):**"
      ],
      "metadata": {
        "id": "TJ9hiScsnvqp"
      }
    },
    {
      "cell_type": "code",
      "source": [
        "url = 'https://rating.kinopoisk.ru/1411988.xml'\n",
        "data = requests.get(url)\n",
        "data.text\n",
        "page = BeautifulSoup(data.content, features='lxml')\n",
        "page.find('kp_rating').text"
      ],
      "metadata": {
        "colab": {
          "base_uri": "https://localhost:8080/",
          "height": 89
        },
        "id": "gggRun_5nvw4",
        "outputId": "e8d7c4e9-d402-4640-fe7c-4b7a780d4cbd"
      },
      "execution_count": null,
      "outputs": [
        {
          "output_type": "stream",
          "name": "stderr",
          "text": [
            "<ipython-input-159-3ee1b8527ba6>:4: XMLParsedAsHTMLWarning: It looks like you're parsing an XML document using an HTML parser. If this really is an HTML document (maybe it's XHTML?), you can ignore or filter this warning. If it's XML, you should know that using an XML parser will be more reliable. To parse this document as XML, make sure you have the lxml package installed, and pass the keyword argument `features=\"xml\"` into the BeautifulSoup constructor.\n",
            "  page = BeautifulSoup(data.content, features='lxml')\n"
          ]
        },
        {
          "output_type": "execute_result",
          "data": {
            "text/plain": [
              "'6.039'"
            ],
            "application/vnd.google.colaboratory.intrinsic+json": {
              "type": "string"
            }
          },
          "metadata": {},
          "execution_count": 159
        }
      ]
    },
    {
      "cell_type": "markdown",
      "source": [
        "**Основные API для GitHub перечислены [здесь](https://api.github.com/). Найдите API для получения информации о пользователе (user_url) по его логину. С помощью языка Python отправьте запрос на получение информации для пользователя \"itmo\". Введите страну регистрации данного пользователя из полученного ответа (\"location\"):**"
      ],
      "metadata": {
        "id": "r5GffF0PvdES"
      }
    },
    {
      "cell_type": "code",
      "source": [
        "data = requests.get('https://api.github.com')\n",
        "url = data.json()[\"user_url\"]\n",
        "url = url.replace('{user}', 'itmo')\n",
        "data = requests.get(url)\n",
        "data.json()[\"location\"]"
      ],
      "metadata": {
        "colab": {
          "base_uri": "https://localhost:8080/",
          "height": 35
        },
        "id": "jIBUSQ_mt3Th",
        "outputId": "b1c42a6a-49c2-46ff-eb0f-a6629cd95871"
      },
      "execution_count": null,
      "outputs": [
        {
          "output_type": "execute_result",
          "data": {
            "text/plain": [
              "'finland'"
            ],
            "application/vnd.google.colaboratory.intrinsic+json": {
              "type": "string"
            }
          },
          "metadata": {},
          "execution_count": 181
        }
      ]
    },
    {
      "cell_type": "code",
      "source": [
        "data = requests.get('https://www.cbr-xml-daily.ru/daily_json.js')\n",
        "len(data.json()['Valute'])"
      ],
      "metadata": {
        "colab": {
          "base_uri": "https://localhost:8080/"
        },
        "id": "lnFpZjZjvtn-",
        "outputId": "d2947259-c359-4c3e-b536-e46ea2940d2a"
      },
      "execution_count": null,
      "outputs": [
        {
          "output_type": "execute_result",
          "data": {
            "text/plain": [
              "43"
            ]
          },
          "metadata": {},
          "execution_count": 185
        }
      ]
    },
    {
      "cell_type": "markdown",
      "source": [
        "**С помощью языка Python получите данные о текущих курсах валют ЦБ РФ (https://www.cbr-xml-daily.ru/daily_json.js) и найдите наименьшее значение \"Value\". Обязательно надо учитывать значение поля \"Nominal\" (для какого количества единиц указан курс) для каждой валюты. Числовой код валюты (\"NumCode\") с наименьшим курсом введите в качестве ответа (в том виде, как в полученном ответном запросе):**"
      ],
      "metadata": {
        "id": "nHpKJAi9xA5S"
      }
    },
    {
      "cell_type": "code",
      "source": [
        "response = requests.get('https://www.cbr-xml-daily.ru/daily_json.js')\n",
        "data = response.json()\n",
        "valutes = data[\"Valute\"]\n",
        "values = []\n",
        "\n",
        "for valute in data[\"Valute\"]:\n",
        "  nominal = valutes[valute][\"Nominal\"]\n",
        "  value = valutes[valute][\"Value\"]\n",
        "  numcode = valutes[valute][\"NumCode\"]\n",
        "  if nominal != 1:\n",
        "    value = value/nominal\n",
        "  values.append({\"NumCode\": numcode, \"Value\": value})\n",
        "\n",
        "data1 = sorted(values, key=lambda k: k['Value'])\n",
        "print(data1[0]['NumCode'])"
      ],
      "metadata": {
        "colab": {
          "base_uri": "https://localhost:8080/"
        },
        "id": "-wBppbFkxAZ0",
        "outputId": "bfd45777-b133-40ea-8b9b-e00b5baaa3d8"
      },
      "execution_count": null,
      "outputs": [
        {
          "output_type": "stream",
          "name": "stdout",
          "text": [
            "704\n"
          ]
        }
      ]
    },
    {
      "cell_type": "markdown",
      "source": [
        "**С помощью языка Python получите данные о текущих курсах валют ЦБ РФ (https://www.cbr-xml-daily.ru/daily_json.js). Отсортируйте список валют в обратном алфавитном порядке (ключ \"CharCode\"), введите значение CharCode из такого списка для индекса 22:**"
      ],
      "metadata": {
        "id": "l58_YXDC2fjV"
      }
    },
    {
      "cell_type": "code",
      "source": [
        "response = requests.get('https://www.cbr-xml-daily.ru/daily_json.js')\n",
        "data = response.json()\n",
        "# valutes = sorted(data[\"Valute\"], charCode)\n",
        "data = sorted(valutes, reverse=True)\n",
        "data[22]"
      ],
      "metadata": {
        "colab": {
          "base_uri": "https://localhost:8080/",
          "height": 35
        },
        "id": "svvzxWin2frX",
        "outputId": "e1c247b1-cf81-4e20-c582-ccee6963f9f5"
      },
      "execution_count": null,
      "outputs": [
        {
          "output_type": "execute_result",
          "data": {
            "text/plain": [
              "'JPY'"
            ],
            "application/vnd.google.colaboratory.intrinsic+json": {
              "type": "string"
            }
          },
          "metadata": {},
          "execution_count": 213
        }
      ]
    },
    {
      "cell_type": "markdown",
      "source": [
        "# Анализ и преобразование данных"
      ],
      "metadata": {
        "id": "spAuwH1b1NKs"
      }
    },
    {
      "cell_type": "markdown",
      "source": [
        "**В [файле](https://dc-edu.itmo.ru/assets/courseware/v1/4ffb888298ea6314131a6baeb5498423/asset-v1:ITMO+DA+2024+type@asset+block/task1_3.csv) содержатся сведения о том, какие вакцинации были сделаны животному. Структура файла – чип животного (CHIP) и код вакцины (VACCINATION_CODE). Код вакцины, состоит из набора букв, соответствующих заболеваниям, от которых делается данная прививка (D - чума, P - парвовирусный энтерит, Pi - парагрипп, R – бешенство).**"
      ],
      "metadata": {
        "id": "GOGRbgxvuYgK"
      }
    },
    {
      "cell_type": "code",
      "source": [
        "df = pd.read_csv('https://dc-edu.itmo.ru/assets/courseware/v1/4ffb888298ea6314131a6baeb5498423/asset-v1:ITMO+DA+2024+type@asset+block/task1_3.csv')\n",
        "df"
      ],
      "metadata": {
        "colab": {
          "base_uri": "https://localhost:8080/",
          "height": 419
        },
        "id": "IwLk7iMYuYnm",
        "outputId": "1dc035b2-744e-4fb0-884d-cdbf2bfaf1e1"
      },
      "execution_count": null,
      "outputs": [
        {
          "output_type": "execute_result",
          "data": {
            "text/plain": [
              "                CHIP VACCINATION_CODE\n",
              "0    643098123500501            DHPPi\n",
              "1    643098123500501                R\n",
              "2    643098162337594          DHPPi-L\n",
              "3    643090025610457         DHPPi-LR\n",
              "4    643090025610457                R\n",
              "..               ...              ...\n",
              "361  643098146919038                R\n",
              "362  643096526249062                R\n",
              "363  643096550988247          DHPС-LR\n",
              "364  643098176354430                R\n",
              "365  643097279481548             DHPС\n",
              "\n",
              "[366 rows x 2 columns]"
            ],
            "text/html": [
              "\n",
              "  <div id=\"df-ed8c35f0-a965-4b90-a926-6f749e4d2533\" class=\"colab-df-container\">\n",
              "    <div>\n",
              "<style scoped>\n",
              "    .dataframe tbody tr th:only-of-type {\n",
              "        vertical-align: middle;\n",
              "    }\n",
              "\n",
              "    .dataframe tbody tr th {\n",
              "        vertical-align: top;\n",
              "    }\n",
              "\n",
              "    .dataframe thead th {\n",
              "        text-align: right;\n",
              "    }\n",
              "</style>\n",
              "<table border=\"1\" class=\"dataframe\">\n",
              "  <thead>\n",
              "    <tr style=\"text-align: right;\">\n",
              "      <th></th>\n",
              "      <th>CHIP</th>\n",
              "      <th>VACCINATION_CODE</th>\n",
              "    </tr>\n",
              "  </thead>\n",
              "  <tbody>\n",
              "    <tr>\n",
              "      <th>0</th>\n",
              "      <td>643098123500501</td>\n",
              "      <td>DHPPi</td>\n",
              "    </tr>\n",
              "    <tr>\n",
              "      <th>1</th>\n",
              "      <td>643098123500501</td>\n",
              "      <td>R</td>\n",
              "    </tr>\n",
              "    <tr>\n",
              "      <th>2</th>\n",
              "      <td>643098162337594</td>\n",
              "      <td>DHPPi-L</td>\n",
              "    </tr>\n",
              "    <tr>\n",
              "      <th>3</th>\n",
              "      <td>643090025610457</td>\n",
              "      <td>DHPPi-LR</td>\n",
              "    </tr>\n",
              "    <tr>\n",
              "      <th>4</th>\n",
              "      <td>643090025610457</td>\n",
              "      <td>R</td>\n",
              "    </tr>\n",
              "    <tr>\n",
              "      <th>...</th>\n",
              "      <td>...</td>\n",
              "      <td>...</td>\n",
              "    </tr>\n",
              "    <tr>\n",
              "      <th>361</th>\n",
              "      <td>643098146919038</td>\n",
              "      <td>R</td>\n",
              "    </tr>\n",
              "    <tr>\n",
              "      <th>362</th>\n",
              "      <td>643096526249062</td>\n",
              "      <td>R</td>\n",
              "    </tr>\n",
              "    <tr>\n",
              "      <th>363</th>\n",
              "      <td>643096550988247</td>\n",
              "      <td>DHPС-LR</td>\n",
              "    </tr>\n",
              "    <tr>\n",
              "      <th>364</th>\n",
              "      <td>643098176354430</td>\n",
              "      <td>R</td>\n",
              "    </tr>\n",
              "    <tr>\n",
              "      <th>365</th>\n",
              "      <td>643097279481548</td>\n",
              "      <td>DHPС</td>\n",
              "    </tr>\n",
              "  </tbody>\n",
              "</table>\n",
              "<p>366 rows × 2 columns</p>\n",
              "</div>\n",
              "    <div class=\"colab-df-buttons\">\n",
              "\n",
              "  <div class=\"colab-df-container\">\n",
              "    <button class=\"colab-df-convert\" onclick=\"convertToInteractive('df-ed8c35f0-a965-4b90-a926-6f749e4d2533')\"\n",
              "            title=\"Convert this dataframe to an interactive table.\"\n",
              "            style=\"display:none;\">\n",
              "\n",
              "  <svg xmlns=\"http://www.w3.org/2000/svg\" height=\"24px\" viewBox=\"0 -960 960 960\">\n",
              "    <path d=\"M120-120v-720h720v720H120Zm60-500h600v-160H180v160Zm220 220h160v-160H400v160Zm0 220h160v-160H400v160ZM180-400h160v-160H180v160Zm440 0h160v-160H620v160ZM180-180h160v-160H180v160Zm440 0h160v-160H620v160Z\"/>\n",
              "  </svg>\n",
              "    </button>\n",
              "\n",
              "  <style>\n",
              "    .colab-df-container {\n",
              "      display:flex;\n",
              "      gap: 12px;\n",
              "    }\n",
              "\n",
              "    .colab-df-convert {\n",
              "      background-color: #E8F0FE;\n",
              "      border: none;\n",
              "      border-radius: 50%;\n",
              "      cursor: pointer;\n",
              "      display: none;\n",
              "      fill: #1967D2;\n",
              "      height: 32px;\n",
              "      padding: 0 0 0 0;\n",
              "      width: 32px;\n",
              "    }\n",
              "\n",
              "    .colab-df-convert:hover {\n",
              "      background-color: #E2EBFA;\n",
              "      box-shadow: 0px 1px 2px rgba(60, 64, 67, 0.3), 0px 1px 3px 1px rgba(60, 64, 67, 0.15);\n",
              "      fill: #174EA6;\n",
              "    }\n",
              "\n",
              "    .colab-df-buttons div {\n",
              "      margin-bottom: 4px;\n",
              "    }\n",
              "\n",
              "    [theme=dark] .colab-df-convert {\n",
              "      background-color: #3B4455;\n",
              "      fill: #D2E3FC;\n",
              "    }\n",
              "\n",
              "    [theme=dark] .colab-df-convert:hover {\n",
              "      background-color: #434B5C;\n",
              "      box-shadow: 0px 1px 3px 1px rgba(0, 0, 0, 0.15);\n",
              "      filter: drop-shadow(0px 1px 2px rgba(0, 0, 0, 0.3));\n",
              "      fill: #FFFFFF;\n",
              "    }\n",
              "  </style>\n",
              "\n",
              "    <script>\n",
              "      const buttonEl =\n",
              "        document.querySelector('#df-ed8c35f0-a965-4b90-a926-6f749e4d2533 button.colab-df-convert');\n",
              "      buttonEl.style.display =\n",
              "        google.colab.kernel.accessAllowed ? 'block' : 'none';\n",
              "\n",
              "      async function convertToInteractive(key) {\n",
              "        const element = document.querySelector('#df-ed8c35f0-a965-4b90-a926-6f749e4d2533');\n",
              "        const dataTable =\n",
              "          await google.colab.kernel.invokeFunction('convertToInteractive',\n",
              "                                                    [key], {});\n",
              "        if (!dataTable) return;\n",
              "\n",
              "        const docLinkHtml = 'Like what you see? Visit the ' +\n",
              "          '<a target=\"_blank\" href=https://colab.research.google.com/notebooks/data_table.ipynb>data table notebook</a>'\n",
              "          + ' to learn more about interactive tables.';\n",
              "        element.innerHTML = '';\n",
              "        dataTable['output_type'] = 'display_data';\n",
              "        await google.colab.output.renderOutput(dataTable, element);\n",
              "        const docLink = document.createElement('div');\n",
              "        docLink.innerHTML = docLinkHtml;\n",
              "        element.appendChild(docLink);\n",
              "      }\n",
              "    </script>\n",
              "  </div>\n",
              "\n",
              "\n",
              "<div id=\"df-4ae4b8f7-4980-4e1c-868b-6a40359b8999\">\n",
              "  <button class=\"colab-df-quickchart\" onclick=\"quickchart('df-4ae4b8f7-4980-4e1c-868b-6a40359b8999')\"\n",
              "            title=\"Suggest charts\"\n",
              "            style=\"display:none;\">\n",
              "\n",
              "<svg xmlns=\"http://www.w3.org/2000/svg\" height=\"24px\"viewBox=\"0 0 24 24\"\n",
              "     width=\"24px\">\n",
              "    <g>\n",
              "        <path d=\"M19 3H5c-1.1 0-2 .9-2 2v14c0 1.1.9 2 2 2h14c1.1 0 2-.9 2-2V5c0-1.1-.9-2-2-2zM9 17H7v-7h2v7zm4 0h-2V7h2v10zm4 0h-2v-4h2v4z\"/>\n",
              "    </g>\n",
              "</svg>\n",
              "  </button>\n",
              "\n",
              "<style>\n",
              "  .colab-df-quickchart {\n",
              "      --bg-color: #E8F0FE;\n",
              "      --fill-color: #1967D2;\n",
              "      --hover-bg-color: #E2EBFA;\n",
              "      --hover-fill-color: #174EA6;\n",
              "      --disabled-fill-color: #AAA;\n",
              "      --disabled-bg-color: #DDD;\n",
              "  }\n",
              "\n",
              "  [theme=dark] .colab-df-quickchart {\n",
              "      --bg-color: #3B4455;\n",
              "      --fill-color: #D2E3FC;\n",
              "      --hover-bg-color: #434B5C;\n",
              "      --hover-fill-color: #FFFFFF;\n",
              "      --disabled-bg-color: #3B4455;\n",
              "      --disabled-fill-color: #666;\n",
              "  }\n",
              "\n",
              "  .colab-df-quickchart {\n",
              "    background-color: var(--bg-color);\n",
              "    border: none;\n",
              "    border-radius: 50%;\n",
              "    cursor: pointer;\n",
              "    display: none;\n",
              "    fill: var(--fill-color);\n",
              "    height: 32px;\n",
              "    padding: 0;\n",
              "    width: 32px;\n",
              "  }\n",
              "\n",
              "  .colab-df-quickchart:hover {\n",
              "    background-color: var(--hover-bg-color);\n",
              "    box-shadow: 0 1px 2px rgba(60, 64, 67, 0.3), 0 1px 3px 1px rgba(60, 64, 67, 0.15);\n",
              "    fill: var(--button-hover-fill-color);\n",
              "  }\n",
              "\n",
              "  .colab-df-quickchart-complete:disabled,\n",
              "  .colab-df-quickchart-complete:disabled:hover {\n",
              "    background-color: var(--disabled-bg-color);\n",
              "    fill: var(--disabled-fill-color);\n",
              "    box-shadow: none;\n",
              "  }\n",
              "\n",
              "  .colab-df-spinner {\n",
              "    border: 2px solid var(--fill-color);\n",
              "    border-color: transparent;\n",
              "    border-bottom-color: var(--fill-color);\n",
              "    animation:\n",
              "      spin 1s steps(1) infinite;\n",
              "  }\n",
              "\n",
              "  @keyframes spin {\n",
              "    0% {\n",
              "      border-color: transparent;\n",
              "      border-bottom-color: var(--fill-color);\n",
              "      border-left-color: var(--fill-color);\n",
              "    }\n",
              "    20% {\n",
              "      border-color: transparent;\n",
              "      border-left-color: var(--fill-color);\n",
              "      border-top-color: var(--fill-color);\n",
              "    }\n",
              "    30% {\n",
              "      border-color: transparent;\n",
              "      border-left-color: var(--fill-color);\n",
              "      border-top-color: var(--fill-color);\n",
              "      border-right-color: var(--fill-color);\n",
              "    }\n",
              "    40% {\n",
              "      border-color: transparent;\n",
              "      border-right-color: var(--fill-color);\n",
              "      border-top-color: var(--fill-color);\n",
              "    }\n",
              "    60% {\n",
              "      border-color: transparent;\n",
              "      border-right-color: var(--fill-color);\n",
              "    }\n",
              "    80% {\n",
              "      border-color: transparent;\n",
              "      border-right-color: var(--fill-color);\n",
              "      border-bottom-color: var(--fill-color);\n",
              "    }\n",
              "    90% {\n",
              "      border-color: transparent;\n",
              "      border-bottom-color: var(--fill-color);\n",
              "    }\n",
              "  }\n",
              "</style>\n",
              "\n",
              "  <script>\n",
              "    async function quickchart(key) {\n",
              "      const quickchartButtonEl =\n",
              "        document.querySelector('#' + key + ' button');\n",
              "      quickchartButtonEl.disabled = true;  // To prevent multiple clicks.\n",
              "      quickchartButtonEl.classList.add('colab-df-spinner');\n",
              "      try {\n",
              "        const charts = await google.colab.kernel.invokeFunction(\n",
              "            'suggestCharts', [key], {});\n",
              "      } catch (error) {\n",
              "        console.error('Error during call to suggestCharts:', error);\n",
              "      }\n",
              "      quickchartButtonEl.classList.remove('colab-df-spinner');\n",
              "      quickchartButtonEl.classList.add('colab-df-quickchart-complete');\n",
              "    }\n",
              "    (() => {\n",
              "      let quickchartButtonEl =\n",
              "        document.querySelector('#df-4ae4b8f7-4980-4e1c-868b-6a40359b8999 button');\n",
              "      quickchartButtonEl.style.display =\n",
              "        google.colab.kernel.accessAllowed ? 'block' : 'none';\n",
              "    })();\n",
              "  </script>\n",
              "</div>\n",
              "    </div>\n",
              "  </div>\n"
            ],
            "application/vnd.google.colaboratory.intrinsic+json": {
              "type": "dataframe",
              "variable_name": "df",
              "summary": "{\n  \"name\": \"df\",\n  \"rows\": 366,\n  \"fields\": [\n    {\n      \"column\": \"CHIP\",\n      \"properties\": {\n        \"dtype\": \"number\",\n        \"std\": 2824998097,\n        \"min\": 643090011319766,\n        \"max\": 643099186388882,\n        \"num_unique_values\": 220,\n        \"samples\": [\n          643096540529115,\n          643099149911125,\n          643098178317311\n        ],\n        \"semantic_type\": \"\",\n        \"description\": \"\"\n      }\n    },\n    {\n      \"column\": \"VACCINATION_CODE\",\n      \"properties\": {\n        \"dtype\": \"category\",\n        \"num_unique_values\": 11,\n        \"samples\": [\n          \"L\",\n          \"DHPPi\",\n          \"DHP\\u0421\"\n        ],\n        \"semantic_type\": \"\",\n        \"description\": \"\"\n      }\n    }\n  ]\n}"
            }
          },
          "metadata": {},
          "execution_count": 30
        }
      ]
    },
    {
      "cell_type": "code",
      "source": [
        "df[df[\"VACCINATION_CODE\"].str.contains('D|R|Pi')].shape[0]"
      ],
      "metadata": {
        "colab": {
          "base_uri": "https://localhost:8080/"
        },
        "id": "GuLJ8dL0wQgP",
        "outputId": "29efd6f6-970b-4093-d149-7265b0f55731"
      },
      "execution_count": null,
      "outputs": [
        {
          "output_type": "execute_result",
          "data": {
            "text/plain": [
              "334"
            ]
          },
          "metadata": {},
          "execution_count": 32
        }
      ]
    },
    {
      "cell_type": "markdown",
      "source": [
        "**Сколько было сделано прививок, в которых одновременно присутствовали вакцины от парвовирусного энтерита и парагриппа (P,Pi)?**"
      ],
      "metadata": {
        "id": "cuI2Alux0dPA"
      }
    },
    {
      "cell_type": "code",
      "source": [
        "df[df[\"VACCINATION_CODE\"].str.contains('P') & df[\"VACCINATION_CODE\"].str.contains('Pi')].shape[0]"
      ],
      "metadata": {
        "colab": {
          "base_uri": "https://localhost:8080/"
        },
        "id": "Jlmw0txH0dVP",
        "outputId": "ad8a4499-eeb2-4b5a-ef9d-b86f16aaa5b5"
      },
      "execution_count": null,
      "outputs": [
        {
          "output_type": "execute_result",
          "data": {
            "text/plain": [
              "151"
            ]
          },
          "metadata": {},
          "execution_count": 34
        }
      ]
    },
    {
      "cell_type": "markdown",
      "source": [
        "# Визуализация данных"
      ],
      "metadata": {
        "id": "4dPQb0N8Ystt"
      }
    },
    {
      "cell_type": "markdown",
      "source": [
        "При помощи библиотеки pandas импортируйте [набор данных об автомобилях](https://dc-edu.itmo.ru/assets/courseware/v1/b6cb4ea6a069a5a588596dd9e12de293/asset-v1:ITMO+DA+2024+type@asset+block/auto-mpg-quiz.csv) в формате CSV. Колонка 'name' должна быть использована в качестве индекса. Десятичный разделитель — точка, разделитель колонок — запятая.\n",
        "\n",
        "Отсортируйте данные по возрастанию мощности автомобилей (колонка ) и постройте график зависимости ускорения от мощности (accel от hp). Какая команда позволит это сделать?"
      ],
      "metadata": {
        "id": "KBA3Uit0Yv_C"
      }
    },
    {
      "cell_type": "code",
      "source": [
        "import pandas as pd\n",
        "import matplotlib.pyplot as plt\n",
        "%matplotlib inline\n",
        "\n",
        "all_cars = pd.read_csv('https://dc-edu.itmo.ru/assets/courseware/v1/b6cb4ea6a069a5a588596dd9e12de293/asset-v1:ITMO+DA+2024+type@asset+block/auto-mpg-quiz.csv',\n",
        "                       delimiter=',',\n",
        "                       decimal='.',\n",
        "                       index_col = 'name')\n",
        "\n",
        "all_cars_sorted = all_cars.sort_values(by=['hp'])\n",
        "\n",
        "plt.plot('hp', 'accel', data=all_cars_sorted)\n",
        "plt.show()"
      ],
      "metadata": {
        "colab": {
          "base_uri": "https://localhost:8080/",
          "height": 430
        },
        "id": "QRLKr0ypYwQA",
        "outputId": "3ab3caa8-ed3c-4845-a23f-4316c6b6cdba"
      },
      "execution_count": null,
      "outputs": [
        {
          "output_type": "display_data",
          "data": {
            "text/plain": [
              "<Figure size 640x480 with 1 Axes>"
            ],
            "image/png": "[encoded data removed]"
          },
          "metadata": {}
        }
      ]
    },
    {
      "cell_type": "code",
      "source": [
        "plt.hist('hp', data=all_cars)"
      ],
      "metadata": {
        "colab": {
          "base_uri": "https://localhost:8080/",
          "height": 498
        },
        "id": "cg_Z9WK5Zy3f",
        "outputId": "c0b98821-016f-439b-9187-e08484276b0e"
      },
      "execution_count": null,
      "outputs": [
        {
          "output_type": "execute_result",
          "data": {
            "text/plain": [
              "(array([ 27.,  95., 120.,  44.,  19.,  47.,  13.,  14.,   5.,   8.]),\n",
              " array([ 46. ,  64.4,  82.8, 101.2, 119.6, 138. , 156.4, 174.8, 193.2,\n",
              "        211.6, 230. ]),\n",
              " <BarContainer object of 10 artists>)"
            ]
          },
          "metadata": {},
          "execution_count": 11
        },
        {
          "output_type": "display_data",
          "data": {
            "text/plain": [
              "<Figure size 640x480 with 1 Axes>"
            ],
            "image/png": "[encoded data removed]"
          },
          "metadata": {}
        }
      ]
    },
    {
      "cell_type": "code",
      "source": [
        "data = all_cars.groupby('cyl').count()\n",
        "plt.pie(data['mpg'], labels=data.index)\n",
        "plt.show()"
      ],
      "metadata": {
        "colab": {
          "base_uri": "https://localhost:8080/",
          "height": 406
        },
        "id": "mLKvJg3Pao4j",
        "outputId": "59e98a4b-6b5f-41f2-9d35-19c949a33dd6"
      },
      "execution_count": null,
      "outputs": [
        {
          "output_type": "display_data",
          "data": {
            "text/plain": [
              "<Figure size 640x480 with 1 Axes>"
            ],
            "image/png": "[encoded data removed]"
          },
          "metadata": {}
        }
      ]
    },
    {
      "cell_type": "code",
      "source": [],
      "metadata": {
        "id": "icCQQ-YseXEw"
      },
      "execution_count": null,
      "outputs": []
    },
    {
      "cell_type": "code",
      "source": [
        "data = pd.read_excel('/content/var.xlsx')\n",
        "data.dropna()"
      ],
      "metadata": {
        "colab": {
          "base_uri": "https://localhost:8080/",
          "height": 1000
        },
        "id": "FOvXrfP6eXJ8",
        "outputId": "7b648966-2dae-4e8f-a2f6-1f926b7beb06"
      },
      "execution_count": null,
      "outputs": [
        {
          "output_type": "execute_result",
          "data": {
            "text/plain": [
              "                             Choice_1                          Choice_2  \\\n",
              "11                Визуализация данных               Электронные таблицы   \n",
              "39                Визуализация данных                        Статистика   \n",
              "54   Методы искусственного интеллекта               Электронные таблицы   \n",
              "74                Электронные таблицы                    Анализ текстов   \n",
              "77                             Python                    Анализ текстов   \n",
              "107                            Python             Обработка изображений   \n",
              "113                    Анализ текстов                 Машинное обучение   \n",
              "143               Визуализация данных                 Машинное обучение   \n",
              "144               Визуализация данных                    Анализ текстов   \n",
              "146                        Статистика                    Анализ текстов   \n",
              "169                 Машинное обучение                        Статистика   \n",
              "192               Визуализация данных                        Статистика   \n",
              "209  Методы искусственного интеллекта               Электронные таблицы   \n",
              "213                 Машинное обучение                          Big Data   \n",
              "242                            Python                 Машинное обучение   \n",
              "304                            Python               Визуализация данных   \n",
              "320                 Машинное обучение                    Анализ текстов   \n",
              "337               Электронные таблицы               Визуализация данных   \n",
              "339                          Big Data                            Python   \n",
              "361                          Big Data                    Анализ текстов   \n",
              "370                            Python                    Анализ текстов   \n",
              "391               Электронные таблицы                          Big Data   \n",
              "393               Визуализация данных                 Машинное обучение   \n",
              "414                        Статистика  Методы искусственного интеллекта   \n",
              "424                          Big Data               Визуализация данных   \n",
              "433                    Анализ текстов               Визуализация данных   \n",
              "452                    Анализ текстов               Электронные таблицы   \n",
              "469               Электронные таблицы               Визуализация данных   \n",
              "541                          Big Data                    Анализ текстов   \n",
              "545               Визуализация данных               Электронные таблицы   \n",
              "549                    Анализ текстов               Электронные таблицы   \n",
              "550  Методы искусственного интеллекта                        Статистика   \n",
              "552                 Машинное обучение               Визуализация данных   \n",
              "555                          Big Data               Электронные таблицы   \n",
              "586                            Python                 Машинное обучение   \n",
              "598                          Big Data                    Анализ текстов   \n",
              "\n",
              "                             Choice_3                          Choice_4  \\\n",
              "11                           Big Data                    Анализ текстов   \n",
              "39   Методы искусственного интеллекта             Обработка изображений   \n",
              "54                Визуализация данных                          Big Data   \n",
              "74              Обработка изображений  Методы искусственного интеллекта   \n",
              "77              Обработка изображений  Методы искусственного интеллекта   \n",
              "107                        Статистика  Методы искусственного интеллекта   \n",
              "113                          Big Data                            Python   \n",
              "143                            Python                        Статистика   \n",
              "144                 Машинное обучение                          Big Data   \n",
              "146             Обработка изображений               Электронные таблицы   \n",
              "169                    Анализ текстов                          Big Data   \n",
              "192                            Python             Обработка изображений   \n",
              "209               Визуализация данных                          Big Data   \n",
              "213               Визуализация данных               Электронные таблицы   \n",
              "242  Методы искусственного интеллекта             Обработка изображений   \n",
              "304                          Big Data                 Машинное обучение   \n",
              "320             Обработка изображений  Методы искусственного интеллекта   \n",
              "337                          Big Data                 Машинное обучение   \n",
              "339                 Машинное обучение               Визуализация данных   \n",
              "361             Обработка изображений  Методы искусственного интеллекта   \n",
              "370             Обработка изображений               Электронные таблицы   \n",
              "391               Визуализация данных                 Машинное обучение   \n",
              "393               Электронные таблицы  Методы искусственного интеллекта   \n",
              "414             Обработка изображений                    Анализ текстов   \n",
              "424               Электронные таблицы             Обработка изображений   \n",
              "433                          Big Data                 Машинное обучение   \n",
              "452               Визуализация данных                          Big Data   \n",
              "469                          Big Data                    Анализ текстов   \n",
              "541             Обработка изображений  Методы искусственного интеллекта   \n",
              "545                          Big Data                 Машинное обучение   \n",
              "549               Визуализация данных                          Big Data   \n",
              "550                            Python             Обработка изображений   \n",
              "552               Электронные таблицы                    Анализ текстов   \n",
              "555               Визуализация данных                 Машинное обучение   \n",
              "586                          Big Data               Электронные таблицы   \n",
              "598             Обработка изображений  Методы искусственного интеллекта   \n",
              "\n",
              "                             Choice_5                          Choice_6  \\\n",
              "11              Обработка изображений                 Машинное обучение   \n",
              "39                     Анализ текстов                          Big Data   \n",
              "54                  Машинное обучение                            Python   \n",
              "74                         Статистика                            Python   \n",
              "77                         Статистика                 Машинное обучение   \n",
              "107               Электронные таблицы                    Анализ текстов   \n",
              "113               Электронные таблицы               Визуализация данных   \n",
              "143  Методы искусственного интеллекта             Обработка изображений   \n",
              "144                        Статистика  Методы искусственного интеллекта   \n",
              "146               Визуализация данных                          Big Data   \n",
              "169               Визуализация данных               Электронные таблицы   \n",
              "192                    Анализ текстов  Методы искусственного интеллекта   \n",
              "209                 Машинное обучение                            Python   \n",
              "213                        Статистика  Методы искусственного интеллекта   \n",
              "242                          Big Data                    Анализ текстов   \n",
              "304                    Анализ текстов             Обработка изображений   \n",
              "320                        Статистика               Электронные таблицы   \n",
              "337                            Python                        Статистика   \n",
              "339               Электронные таблицы                    Анализ текстов   \n",
              "361                        Статистика                            Python   \n",
              "370               Визуализация данных  Методы искусственного интеллекта   \n",
              "391  Методы искусственного интеллекта             Обработка изображений   \n",
              "393                    Анализ текстов             Обработка изображений   \n",
              "414               Электронные таблицы               Визуализация данных   \n",
              "424                    Анализ текстов  Методы искусственного интеллекта   \n",
              "433                            Python                        Статистика   \n",
              "452                 Машинное обучение                            Python   \n",
              "469             Обработка изображений  Методы искусственного интеллекта   \n",
              "541                        Статистика                            Python   \n",
              "545                            Python                        Статистика   \n",
              "549                 Машинное обучение                            Python   \n",
              "550                    Анализ текстов               Электронные таблицы   \n",
              "552             Обработка изображений  Методы искусственного интеллекта   \n",
              "555                            Python                        Статистика   \n",
              "586  Методы искусственного интеллекта               Визуализация данных   \n",
              "598                        Статистика                            Python   \n",
              "\n",
              "                             Choice_7                          Choice_8  \\\n",
              "11                             Python  Методы искусственного интеллекта   \n",
              "39                Электронные таблицы                            Python   \n",
              "54                         Статистика             Обработка изображений   \n",
              "74                  Машинное обучение                          Big Data   \n",
              "77                           Big Data               Визуализация данных   \n",
              "107               Визуализация данных                          Big Data   \n",
              "113                        Статистика  Методы искусственного интеллекта   \n",
              "143                    Анализ текстов                          Big Data   \n",
              "144             Обработка изображений               Электронные таблицы   \n",
              "146                 Машинное обучение                            Python   \n",
              "169  Методы искусственного интеллекта             Обработка изображений   \n",
              "192               Электронные таблицы                          Big Data   \n",
              "209                        Статистика             Обработка изображений   \n",
              "213             Обработка изображений                    Анализ текстов   \n",
              "242               Визуализация данных               Электронные таблицы   \n",
              "304  Методы искусственного интеллекта               Электронные таблицы   \n",
              "320               Визуализация данных                          Big Data   \n",
              "337  Методы искусственного интеллекта             Обработка изображений   \n",
              "339             Обработка изображений  Методы искусственного интеллекта   \n",
              "361                 Машинное обучение               Визуализация данных   \n",
              "370                          Big Data                 Машинное обучение   \n",
              "391                    Анализ текстов                            Python   \n",
              "393                            Python                        Статистика   \n",
              "414                          Big Data                 Машинное обучение   \n",
              "424                        Статистика                            Python   \n",
              "433  Методы искусственного интеллекта             Обработка изображений   \n",
              "452                        Статистика  Методы искусственного интеллекта   \n",
              "469                        Статистика                            Python   \n",
              "541                 Машинное обучение               Визуализация данных   \n",
              "545  Методы искусственного интеллекта             Обработка изображений   \n",
              "549                        Статистика  Методы искусственного интеллекта   \n",
              "550               Визуализация данных                          Big Data   \n",
              "552                        Статистика                            Python   \n",
              "555  Методы искусственного интеллекта             Обработка изображений   \n",
              "586             Обработка изображений                    Анализ текстов   \n",
              "598                 Машинное обучение               Визуализация данных   \n",
              "\n",
              "                             Choice_9  \n",
              "11                         Статистика  \n",
              "39                  Машинное обучение  \n",
              "54                     Анализ текстов  \n",
              "74                Визуализация данных  \n",
              "77                Электронные таблицы  \n",
              "107                 Машинное обучение  \n",
              "113             Обработка изображений  \n",
              "143               Электронные таблицы  \n",
              "144                            Python  \n",
              "146  Методы искусственного интеллекта  \n",
              "169                            Python  \n",
              "192                 Машинное обучение  \n",
              "209                    Анализ текстов  \n",
              "213                            Python  \n",
              "242                        Статистика  \n",
              "304                        Статистика  \n",
              "320                            Python  \n",
              "337                    Анализ текстов  \n",
              "339                        Статистика  \n",
              "361               Электронные таблицы  \n",
              "370                        Статистика  \n",
              "391                        Статистика  \n",
              "393                          Big Data  \n",
              "414                            Python  \n",
              "424                 Машинное обучение  \n",
              "433               Электронные таблицы  \n",
              "452             Обработка изображений  \n",
              "469                 Машинное обучение  \n",
              "541               Электронные таблицы  \n",
              "545                    Анализ текстов  \n",
              "549             Обработка изображений  \n",
              "550                 Машинное обучение  \n",
              "552                          Big Data  \n",
              "555                    Анализ текстов  \n",
              "586                        Статистика  \n",
              "598               Электронные таблицы  "
            ],
            "text/html": [
              "\n",
              "  <div id=\"df-e5f7617c-45cb-4586-b1cf-fe51fcb0009f\" class=\"colab-df-container\">\n",
              "    <div>\n",
              "<style scoped>\n",
              "    .dataframe tbody tr th:only-of-type {\n",
              "        vertical-align: middle;\n",
              "    }\n",
              "\n",
              "    .dataframe tbody tr th {\n",
              "        vertical-align: top;\n",
              "    }\n",
              "\n",
              "    .dataframe thead th {\n",
              "        text-align: right;\n",
              "    }\n",
              "</style>\n",
              "<table border=\"1\" class=\"dataframe\">\n",
              "  <thead>\n",
              "    <tr style=\"text-align: right;\">\n",
              "      <th></th>\n",
              "      <th>Choice_1</th>\n",
              "      <th>Choice_2</th>\n",
              "      <th>Choice_3</th>\n",
              "      <th>Choice_4</th>\n",
              "      <th>Choice_5</th>\n",
              "      <th>Choice_6</th>\n",
              "      <th>Choice_7</th>\n",
              "      <th>Choice_8</th>\n",
              "      <th>Choice_9</th>\n",
              "    </tr>\n",
              "  </thead>\n",
              "  <tbody>\n",
              "    <tr>\n",
              "      <th>11</th>\n",
              "      <td>Визуализация данных</td>\n",
              "      <td>Электронные таблицы</td>\n",
              "      <td>Big Data</td>\n",
              "      <td>Анализ текстов</td>\n",
              "      <td>Обработка изображений</td>\n",
              "      <td>Машинное обучение</td>\n",
              "      <td>Python</td>\n",
              "      <td>Методы искусственного интеллекта</td>\n",
              "      <td>Статистика</td>\n",
              "    </tr>\n",
              "    <tr>\n",
              "      <th>39</th>\n",
              "      <td>Визуализация данных</td>\n",
              "      <td>Статистика</td>\n",
              "      <td>Методы искусственного интеллекта</td>\n",
              "      <td>Обработка изображений</td>\n",
              "      <td>Анализ текстов</td>\n",
              "      <td>Big Data</td>\n",
              "      <td>Электронные таблицы</td>\n",
              "      <td>Python</td>\n",
              "      <td>Машинное обучение</td>\n",
              "    </tr>\n",
              "    <tr>\n",
              "      <th>54</th>\n",
              "      <td>Методы искусственного интеллекта</td>\n",
              "      <td>Электронные таблицы</td>\n",
              "      <td>Визуализация данных</td>\n",
              "      <td>Big Data</td>\n",
              "      <td>Машинное обучение</td>\n",
              "      <td>Python</td>\n",
              "      <td>Статистика</td>\n",
              "      <td>Обработка изображений</td>\n",
              "      <td>Анализ текстов</td>\n",
              "    </tr>\n",
              "    <tr>\n",
              "      <th>74</th>\n",
              "      <td>Электронные таблицы</td>\n",
              "      <td>Анализ текстов</td>\n",
              "      <td>Обработка изображений</td>\n",
              "      <td>Методы искусственного интеллекта</td>\n",
              "      <td>Статистика</td>\n",
              "      <td>Python</td>\n",
              "      <td>Машинное обучение</td>\n",
              "      <td>Big Data</td>\n",
              "      <td>Визуализация данных</td>\n",
              "    </tr>\n",
              "    <tr>\n",
              "      <th>77</th>\n",
              "      <td>Python</td>\n",
              "      <td>Анализ текстов</td>\n",
              "      <td>Обработка изображений</td>\n",
              "      <td>Методы искусственного интеллекта</td>\n",
              "      <td>Статистика</td>\n",
              "      <td>Машинное обучение</td>\n",
              "      <td>Big Data</td>\n",
              "      <td>Визуализация данных</td>\n",
              "      <td>Электронные таблицы</td>\n",
              "    </tr>\n",
              "    <tr>\n",
              "      <th>107</th>\n",
              "      <td>Python</td>\n",
              "      <td>Обработка изображений</td>\n",
              "      <td>Статистика</td>\n",
              "      <td>Методы искусственного интеллекта</td>\n",
              "      <td>Электронные таблицы</td>\n",
              "      <td>Анализ текстов</td>\n",
              "      <td>Визуализация данных</td>\n",
              "      <td>Big Data</td>\n",
              "      <td>Машинное обучение</td>\n",
              "    </tr>\n",
              "    <tr>\n",
              "      <th>113</th>\n",
              "      <td>Анализ текстов</td>\n",
              "      <td>Машинное обучение</td>\n",
              "      <td>Big Data</td>\n",
              "      <td>Python</td>\n",
              "      <td>Электронные таблицы</td>\n",
              "      <td>Визуализация данных</td>\n",
              "      <td>Статистика</td>\n",
              "      <td>Методы искусственного интеллекта</td>\n",
              "      <td>Обработка изображений</td>\n",
              "    </tr>\n",
              "    <tr>\n",
              "      <th>143</th>\n",
              "      <td>Визуализация данных</td>\n",
              "      <td>Машинное обучение</td>\n",
              "      <td>Python</td>\n",
              "      <td>Статистика</td>\n",
              "      <td>Методы искусственного интеллекта</td>\n",
              "      <td>Обработка изображений</td>\n",
              "      <td>Анализ текстов</td>\n",
              "      <td>Big Data</td>\n",
              "      <td>Электронные таблицы</td>\n",
              "    </tr>\n",
              "    <tr>\n",
              "      <th>144</th>\n",
              "      <td>Визуализация данных</td>\n",
              "      <td>Анализ текстов</td>\n",
              "      <td>Машинное обучение</td>\n",
              "      <td>Big Data</td>\n",
              "      <td>Статистика</td>\n",
              "      <td>Методы искусственного интеллекта</td>\n",
              "      <td>Обработка изображений</td>\n",
              "      <td>Электронные таблицы</td>\n",
              "      <td>Python</td>\n",
              "    </tr>\n",
              "    <tr>\n",
              "      <th>146</th>\n",
              "      <td>Статистика</td>\n",
              "      <td>Анализ текстов</td>\n",
              "      <td>Обработка изображений</td>\n",
              "      <td>Электронные таблицы</td>\n",
              "      <td>Визуализация данных</td>\n",
              "      <td>Big Data</td>\n",
              "      <td>Машинное обучение</td>\n",
              "      <td>Python</td>\n",
              "      <td>Методы искусственного интеллекта</td>\n",
              "    </tr>\n",
              "    <tr>\n",
              "      <th>169</th>\n",
              "      <td>Машинное обучение</td>\n",
              "      <td>Статистика</td>\n",
              "      <td>Анализ текстов</td>\n",
              "      <td>Big Data</td>\n",
              "      <td>Визуализация данных</td>\n",
              "      <td>Электронные таблицы</td>\n",
              "      <td>Методы искусственного интеллекта</td>\n",
              "      <td>Обработка изображений</td>\n",
              "      <td>Python</td>\n",
              "    </tr>\n",
              "    <tr>\n",
              "      <th>192</th>\n",
              "      <td>Визуализация данных</td>\n",
              "      <td>Статистика</td>\n",
              "      <td>Python</td>\n",
              "      <td>Обработка изображений</td>\n",
              "      <td>Анализ текстов</td>\n",
              "      <td>Методы искусственного интеллекта</td>\n",
              "      <td>Электронные таблицы</td>\n",
              "      <td>Big Data</td>\n",
              "      <td>Машинное обучение</td>\n",
              "    </tr>\n",
              "    <tr>\n",
              "      <th>209</th>\n",
              "      <td>Методы искусственного интеллекта</td>\n",
              "      <td>Электронные таблицы</td>\n",
              "      <td>Визуализация данных</td>\n",
              "      <td>Big Data</td>\n",
              "      <td>Машинное обучение</td>\n",
              "      <td>Python</td>\n",
              "      <td>Статистика</td>\n",
              "      <td>Обработка изображений</td>\n",
              "      <td>Анализ текстов</td>\n",
              "    </tr>\n",
              "    <tr>\n",
              "      <th>213</th>\n",
              "      <td>Машинное обучение</td>\n",
              "      <td>Big Data</td>\n",
              "      <td>Визуализация данных</td>\n",
              "      <td>Электронные таблицы</td>\n",
              "      <td>Статистика</td>\n",
              "      <td>Методы искусственного интеллекта</td>\n",
              "      <td>Обработка изображений</td>\n",
              "      <td>Анализ текстов</td>\n",
              "      <td>Python</td>\n",
              "    </tr>\n",
              "    <tr>\n",
              "      <th>242</th>\n",
              "      <td>Python</td>\n",
              "      <td>Машинное обучение</td>\n",
              "      <td>Методы искусственного интеллекта</td>\n",
              "      <td>Обработка изображений</td>\n",
              "      <td>Big Data</td>\n",
              "      <td>Анализ текстов</td>\n",
              "      <td>Визуализация данных</td>\n",
              "      <td>Электронные таблицы</td>\n",
              "      <td>Статистика</td>\n",
              "    </tr>\n",
              "    <tr>\n",
              "      <th>304</th>\n",
              "      <td>Python</td>\n",
              "      <td>Визуализация данных</td>\n",
              "      <td>Big Data</td>\n",
              "      <td>Машинное обучение</td>\n",
              "      <td>Анализ текстов</td>\n",
              "      <td>Обработка изображений</td>\n",
              "      <td>Методы искусственного интеллекта</td>\n",
              "      <td>Электронные таблицы</td>\n",
              "      <td>Статистика</td>\n",
              "    </tr>\n",
              "    <tr>\n",
              "      <th>320</th>\n",
              "      <td>Машинное обучение</td>\n",
              "      <td>Анализ текстов</td>\n",
              "      <td>Обработка изображений</td>\n",
              "      <td>Методы искусственного интеллекта</td>\n",
              "      <td>Статистика</td>\n",
              "      <td>Электронные таблицы</td>\n",
              "      <td>Визуализация данных</td>\n",
              "      <td>Big Data</td>\n",
              "      <td>Python</td>\n",
              "    </tr>\n",
              "    <tr>\n",
              "      <th>337</th>\n",
              "      <td>Электронные таблицы</td>\n",
              "      <td>Визуализация данных</td>\n",
              "      <td>Big Data</td>\n",
              "      <td>Машинное обучение</td>\n",
              "      <td>Python</td>\n",
              "      <td>Статистика</td>\n",
              "      <td>Методы искусственного интеллекта</td>\n",
              "      <td>Обработка изображений</td>\n",
              "      <td>Анализ текстов</td>\n",
              "    </tr>\n",
              "    <tr>\n",
              "      <th>339</th>\n",
              "      <td>Big Data</td>\n",
              "      <td>Python</td>\n",
              "      <td>Машинное обучение</td>\n",
              "      <td>Визуализация данных</td>\n",
              "      <td>Электронные таблицы</td>\n",
              "      <td>Анализ текстов</td>\n",
              "      <td>Обработка изображений</td>\n",
              "      <td>Методы искусственного интеллекта</td>\n",
              "      <td>Статистика</td>\n",
              "    </tr>\n",
              "    <tr>\n",
              "      <th>361</th>\n",
              "      <td>Big Data</td>\n",
              "      <td>Анализ текстов</td>\n",
              "      <td>Обработка изображений</td>\n",
              "      <td>Методы искусственного интеллекта</td>\n",
              "      <td>Статистика</td>\n",
              "      <td>Python</td>\n",
              "      <td>Машинное обучение</td>\n",
              "      <td>Визуализация данных</td>\n",
              "      <td>Электронные таблицы</td>\n",
              "    </tr>\n",
              "    <tr>\n",
              "      <th>370</th>\n",
              "      <td>Python</td>\n",
              "      <td>Анализ текстов</td>\n",
              "      <td>Обработка изображений</td>\n",
              "      <td>Электронные таблицы</td>\n",
              "      <td>Визуализация данных</td>\n",
              "      <td>Методы искусственного интеллекта</td>\n",
              "      <td>Big Data</td>\n",
              "      <td>Машинное обучение</td>\n",
              "      <td>Статистика</td>\n",
              "    </tr>\n",
              "    <tr>\n",
              "      <th>391</th>\n",
              "      <td>Электронные таблицы</td>\n",
              "      <td>Big Data</td>\n",
              "      <td>Визуализация данных</td>\n",
              "      <td>Машинное обучение</td>\n",
              "      <td>Методы искусственного интеллекта</td>\n",
              "      <td>Обработка изображений</td>\n",
              "      <td>Анализ текстов</td>\n",
              "      <td>Python</td>\n",
              "      <td>Статистика</td>\n",
              "    </tr>\n",
              "    <tr>\n",
              "      <th>393</th>\n",
              "      <td>Визуализация данных</td>\n",
              "      <td>Машинное обучение</td>\n",
              "      <td>Электронные таблицы</td>\n",
              "      <td>Методы искусственного интеллекта</td>\n",
              "      <td>Анализ текстов</td>\n",
              "      <td>Обработка изображений</td>\n",
              "      <td>Python</td>\n",
              "      <td>Статистика</td>\n",
              "      <td>Big Data</td>\n",
              "    </tr>\n",
              "    <tr>\n",
              "      <th>414</th>\n",
              "      <td>Статистика</td>\n",
              "      <td>Методы искусственного интеллекта</td>\n",
              "      <td>Обработка изображений</td>\n",
              "      <td>Анализ текстов</td>\n",
              "      <td>Электронные таблицы</td>\n",
              "      <td>Визуализация данных</td>\n",
              "      <td>Big Data</td>\n",
              "      <td>Машинное обучение</td>\n",
              "      <td>Python</td>\n",
              "    </tr>\n",
              "    <tr>\n",
              "      <th>424</th>\n",
              "      <td>Big Data</td>\n",
              "      <td>Визуализация данных</td>\n",
              "      <td>Электронные таблицы</td>\n",
              "      <td>Обработка изображений</td>\n",
              "      <td>Анализ текстов</td>\n",
              "      <td>Методы искусственного интеллекта</td>\n",
              "      <td>Статистика</td>\n",
              "      <td>Python</td>\n",
              "      <td>Машинное обучение</td>\n",
              "    </tr>\n",
              "    <tr>\n",
              "      <th>433</th>\n",
              "      <td>Анализ текстов</td>\n",
              "      <td>Визуализация данных</td>\n",
              "      <td>Big Data</td>\n",
              "      <td>Машинное обучение</td>\n",
              "      <td>Python</td>\n",
              "      <td>Статистика</td>\n",
              "      <td>Методы искусственного интеллекта</td>\n",
              "      <td>Обработка изображений</td>\n",
              "      <td>Электронные таблицы</td>\n",
              "    </tr>\n",
              "    <tr>\n",
              "      <th>452</th>\n",
              "      <td>Анализ текстов</td>\n",
              "      <td>Электронные таблицы</td>\n",
              "      <td>Визуализация данных</td>\n",
              "      <td>Big Data</td>\n",
              "      <td>Машинное обучение</td>\n",
              "      <td>Python</td>\n",
              "      <td>Статистика</td>\n",
              "      <td>Методы искусственного интеллекта</td>\n",
              "      <td>Обработка изображений</td>\n",
              "    </tr>\n",
              "    <tr>\n",
              "      <th>469</th>\n",
              "      <td>Электронные таблицы</td>\n",
              "      <td>Визуализация данных</td>\n",
              "      <td>Big Data</td>\n",
              "      <td>Анализ текстов</td>\n",
              "      <td>Обработка изображений</td>\n",
              "      <td>Методы искусственного интеллекта</td>\n",
              "      <td>Статистика</td>\n",
              "      <td>Python</td>\n",
              "      <td>Машинное обучение</td>\n",
              "    </tr>\n",
              "    <tr>\n",
              "      <th>541</th>\n",
              "      <td>Big Data</td>\n",
              "      <td>Анализ текстов</td>\n",
              "      <td>Обработка изображений</td>\n",
              "      <td>Методы искусственного интеллекта</td>\n",
              "      <td>Статистика</td>\n",
              "      <td>Python</td>\n",
              "      <td>Машинное обучение</td>\n",
              "      <td>Визуализация данных</td>\n",
              "      <td>Электронные таблицы</td>\n",
              "    </tr>\n",
              "    <tr>\n",
              "      <th>545</th>\n",
              "      <td>Визуализация данных</td>\n",
              "      <td>Электронные таблицы</td>\n",
              "      <td>Big Data</td>\n",
              "      <td>Машинное обучение</td>\n",
              "      <td>Python</td>\n",
              "      <td>Статистика</td>\n",
              "      <td>Методы искусственного интеллекта</td>\n",
              "      <td>Обработка изображений</td>\n",
              "      <td>Анализ текстов</td>\n",
              "    </tr>\n",
              "    <tr>\n",
              "      <th>549</th>\n",
              "      <td>Анализ текстов</td>\n",
              "      <td>Электронные таблицы</td>\n",
              "      <td>Визуализация данных</td>\n",
              "      <td>Big Data</td>\n",
              "      <td>Машинное обучение</td>\n",
              "      <td>Python</td>\n",
              "      <td>Статистика</td>\n",
              "      <td>Методы искусственного интеллекта</td>\n",
              "      <td>Обработка изображений</td>\n",
              "    </tr>\n",
              "    <tr>\n",
              "      <th>550</th>\n",
              "      <td>Методы искусственного интеллекта</td>\n",
              "      <td>Статистика</td>\n",
              "      <td>Python</td>\n",
              "      <td>Обработка изображений</td>\n",
              "      <td>Анализ текстов</td>\n",
              "      <td>Электронные таблицы</td>\n",
              "      <td>Визуализация данных</td>\n",
              "      <td>Big Data</td>\n",
              "      <td>Машинное обучение</td>\n",
              "    </tr>\n",
              "    <tr>\n",
              "      <th>552</th>\n",
              "      <td>Машинное обучение</td>\n",
              "      <td>Визуализация данных</td>\n",
              "      <td>Электронные таблицы</td>\n",
              "      <td>Анализ текстов</td>\n",
              "      <td>Обработка изображений</td>\n",
              "      <td>Методы искусственного интеллекта</td>\n",
              "      <td>Статистика</td>\n",
              "      <td>Python</td>\n",
              "      <td>Big Data</td>\n",
              "    </tr>\n",
              "    <tr>\n",
              "      <th>555</th>\n",
              "      <td>Big Data</td>\n",
              "      <td>Электронные таблицы</td>\n",
              "      <td>Визуализация данных</td>\n",
              "      <td>Машинное обучение</td>\n",
              "      <td>Python</td>\n",
              "      <td>Статистика</td>\n",
              "      <td>Методы искусственного интеллекта</td>\n",
              "      <td>Обработка изображений</td>\n",
              "      <td>Анализ текстов</td>\n",
              "    </tr>\n",
              "    <tr>\n",
              "      <th>586</th>\n",
              "      <td>Python</td>\n",
              "      <td>Машинное обучение</td>\n",
              "      <td>Big Data</td>\n",
              "      <td>Электронные таблицы</td>\n",
              "      <td>Методы искусственного интеллекта</td>\n",
              "      <td>Визуализация данных</td>\n",
              "      <td>Обработка изображений</td>\n",
              "      <td>Анализ текстов</td>\n",
              "      <td>Статистика</td>\n",
              "    </tr>\n",
              "    <tr>\n",
              "      <th>598</th>\n",
              "      <td>Big Data</td>\n",
              "      <td>Анализ текстов</td>\n",
              "      <td>Обработка изображений</td>\n",
              "      <td>Методы искусственного интеллекта</td>\n",
              "      <td>Статистика</td>\n",
              "      <td>Python</td>\n",
              "      <td>Машинное обучение</td>\n",
              "      <td>Визуализация данных</td>\n",
              "      <td>Электронные таблицы</td>\n",
              "    </tr>\n",
              "  </tbody>\n",
              "</table>\n",
              "</div>\n",
              "    <div class=\"colab-df-buttons\">\n",
              "\n",
              "  <div class=\"colab-df-container\">\n",
              "    <button class=\"colab-df-convert\" onclick=\"convertToInteractive('df-e5f7617c-45cb-4586-b1cf-fe51fcb0009f')\"\n",
              "            title=\"Convert this dataframe to an interactive table.\"\n",
              "            style=\"display:none;\">\n",
              "\n",
              "  <svg xmlns=\"http://www.w3.org/2000/svg\" height=\"24px\" viewBox=\"0 -960 960 960\">\n",
              "    <path d=\"M120-120v-720h720v720H120Zm60-500h600v-160H180v160Zm220 220h160v-160H400v160Zm0 220h160v-160H400v160ZM180-400h160v-160H180v160Zm440 0h160v-160H620v160ZM180-180h160v-160H180v160Zm440 0h160v-160H620v160Z\"/>\n",
              "  </svg>\n",
              "    </button>\n",
              "\n",
              "  <style>\n",
              "    .colab-df-container {\n",
              "      display:flex;\n",
              "      gap: 12px;\n",
              "    }\n",
              "\n",
              "    .colab-df-convert {\n",
              "      background-color: #E8F0FE;\n",
              "      border: none;\n",
              "      border-radius: 50%;\n",
              "      cursor: pointer;\n",
              "      display: none;\n",
              "      fill: #1967D2;\n",
              "      height: 32px;\n",
              "      padding: 0 0 0 0;\n",
              "      width: 32px;\n",
              "    }\n",
              "\n",
              "    .colab-df-convert:hover {\n",
              "      background-color: #E2EBFA;\n",
              "      box-shadow: 0px 1px 2px rgba(60, 64, 67, 0.3), 0px 1px 3px 1px rgba(60, 64, 67, 0.15);\n",
              "      fill: #174EA6;\n",
              "    }\n",
              "\n",
              "    .colab-df-buttons div {\n",
              "      margin-bottom: 4px;\n",
              "    }\n",
              "\n",
              "    [theme=dark] .colab-df-convert {\n",
              "      background-color: #3B4455;\n",
              "      fill: #D2E3FC;\n",
              "    }\n",
              "\n",
              "    [theme=dark] .colab-df-convert:hover {\n",
              "      background-color: #434B5C;\n",
              "      box-shadow: 0px 1px 3px 1px rgba(0, 0, 0, 0.15);\n",
              "      filter: drop-shadow(0px 1px 2px rgba(0, 0, 0, 0.3));\n",
              "      fill: #FFFFFF;\n",
              "    }\n",
              "  </style>\n",
              "\n",
              "    <script>\n",
              "      const buttonEl =\n",
              "        document.querySelector('#df-e5f7617c-45cb-4586-b1cf-fe51fcb0009f button.colab-df-convert');\n",
              "      buttonEl.style.display =\n",
              "        google.colab.kernel.accessAllowed ? 'block' : 'none';\n",
              "\n",
              "      async function convertToInteractive(key) {\n",
              "        const element = document.querySelector('#df-e5f7617c-45cb-4586-b1cf-fe51fcb0009f');\n",
              "        const dataTable =\n",
              "          await google.colab.kernel.invokeFunction('convertToInteractive',\n",
              "                                                    [key], {});\n",
              "        if (!dataTable) return;\n",
              "\n",
              "        const docLinkHtml = 'Like what you see? Visit the ' +\n",
              "          '<a target=\"_blank\" href=https://colab.research.google.com/notebooks/data_table.ipynb>data table notebook</a>'\n",
              "          + ' to learn more about interactive tables.';\n",
              "        element.innerHTML = '';\n",
              "        dataTable['output_type'] = 'display_data';\n",
              "        await google.colab.output.renderOutput(dataTable, element);\n",
              "        const docLink = document.createElement('div');\n",
              "        docLink.innerHTML = docLinkHtml;\n",
              "        element.appendChild(docLink);\n",
              "      }\n",
              "    </script>\n",
              "  </div>\n",
              "\n",
              "\n",
              "<div id=\"df-29da0b18-e29f-4f24-90f7-15fc83b3b415\">\n",
              "  <button class=\"colab-df-quickchart\" onclick=\"quickchart('df-29da0b18-e29f-4f24-90f7-15fc83b3b415')\"\n",
              "            title=\"Suggest charts\"\n",
              "            style=\"display:none;\">\n",
              "\n",
              "<svg xmlns=\"http://www.w3.org/2000/svg\" height=\"24px\"viewBox=\"0 0 24 24\"\n",
              "     width=\"24px\">\n",
              "    <g>\n",
              "        <path d=\"M19 3H5c-1.1 0-2 .9-2 2v14c0 1.1.9 2 2 2h14c1.1 0 2-.9 2-2V5c0-1.1-.9-2-2-2zM9 17H7v-7h2v7zm4 0h-2V7h2v10zm4 0h-2v-4h2v4z\"/>\n",
              "    </g>\n",
              "</svg>\n",
              "  </button>\n",
              "\n",
              "<style>\n",
              "  .colab-df-quickchart {\n",
              "      --bg-color: #E8F0FE;\n",
              "      --fill-color: #1967D2;\n",
              "      --hover-bg-color: #E2EBFA;\n",
              "      --hover-fill-color: #174EA6;\n",
              "      --disabled-fill-color: #AAA;\n",
              "      --disabled-bg-color: #DDD;\n",
              "  }\n",
              "\n",
              "  [theme=dark] .colab-df-quickchart {\n",
              "      --bg-color: #3B4455;\n",
              "      --fill-color: #D2E3FC;\n",
              "      --hover-bg-color: #434B5C;\n",
              "      --hover-fill-color: #FFFFFF;\n",
              "      --disabled-bg-color: #3B4455;\n",
              "      --disabled-fill-color: #666;\n",
              "  }\n",
              "\n",
              "  .colab-df-quickchart {\n",
              "    background-color: var(--bg-color);\n",
              "    border: none;\n",
              "    border-radius: 50%;\n",
              "    cursor: pointer;\n",
              "    display: none;\n",
              "    fill: var(--fill-color);\n",
              "    height: 32px;\n",
              "    padding: 0;\n",
              "    width: 32px;\n",
              "  }\n",
              "\n",
              "  .colab-df-quickchart:hover {\n",
              "    background-color: var(--hover-bg-color);\n",
              "    box-shadow: 0 1px 2px rgba(60, 64, 67, 0.3), 0 1px 3px 1px rgba(60, 64, 67, 0.15);\n",
              "    fill: var(--button-hover-fill-color);\n",
              "  }\n",
              "\n",
              "  .colab-df-quickchart-complete:disabled,\n",
              "  .colab-df-quickchart-complete:disabled:hover {\n",
              "    background-color: var(--disabled-bg-color);\n",
              "    fill: var(--disabled-fill-color);\n",
              "    box-shadow: none;\n",
              "  }\n",
              "\n",
              "  .colab-df-spinner {\n",
              "    border: 2px solid var(--fill-color);\n",
              "    border-color: transparent;\n",
              "    border-bottom-color: var(--fill-color);\n",
              "    animation:\n",
              "      spin 1s steps(1) infinite;\n",
              "  }\n",
              "\n",
              "  @keyframes spin {\n",
              "    0% {\n",
              "      border-color: transparent;\n",
              "      border-bottom-color: var(--fill-color);\n",
              "      border-left-color: var(--fill-color);\n",
              "    }\n",
              "    20% {\n",
              "      border-color: transparent;\n",
              "      border-left-color: var(--fill-color);\n",
              "      border-top-color: var(--fill-color);\n",
              "    }\n",
              "    30% {\n",
              "      border-color: transparent;\n",
              "      border-left-color: var(--fill-color);\n",
              "      border-top-color: var(--fill-color);\n",
              "      border-right-color: var(--fill-color);\n",
              "    }\n",
              "    40% {\n",
              "      border-color: transparent;\n",
              "      border-right-color: var(--fill-color);\n",
              "      border-top-color: var(--fill-color);\n",
              "    }\n",
              "    60% {\n",
              "      border-color: transparent;\n",
              "      border-right-color: var(--fill-color);\n",
              "    }\n",
              "    80% {\n",
              "      border-color: transparent;\n",
              "      border-right-color: var(--fill-color);\n",
              "      border-bottom-color: var(--fill-color);\n",
              "    }\n",
              "    90% {\n",
              "      border-color: transparent;\n",
              "      border-bottom-color: var(--fill-color);\n",
              "    }\n",
              "  }\n",
              "</style>\n",
              "\n",
              "  <script>\n",
              "    async function quickchart(key) {\n",
              "      const quickchartButtonEl =\n",
              "        document.querySelector('#' + key + ' button');\n",
              "      quickchartButtonEl.disabled = true;  // To prevent multiple clicks.\n",
              "      quickchartButtonEl.classList.add('colab-df-spinner');\n",
              "      try {\n",
              "        const charts = await google.colab.kernel.invokeFunction(\n",
              "            'suggestCharts', [key], {});\n",
              "      } catch (error) {\n",
              "        console.error('Error during call to suggestCharts:', error);\n",
              "      }\n",
              "      quickchartButtonEl.classList.remove('colab-df-spinner');\n",
              "      quickchartButtonEl.classList.add('colab-df-quickchart-complete');\n",
              "    }\n",
              "    (() => {\n",
              "      let quickchartButtonEl =\n",
              "        document.querySelector('#df-29da0b18-e29f-4f24-90f7-15fc83b3b415 button');\n",
              "      quickchartButtonEl.style.display =\n",
              "        google.colab.kernel.accessAllowed ? 'block' : 'none';\n",
              "    })();\n",
              "  </script>\n",
              "</div>\n",
              "    </div>\n",
              "  </div>\n"
            ],
            "application/vnd.google.colaboratory.intrinsic+json": {
              "type": "dataframe",
              "summary": "{\n  \"name\": \"data\",\n  \"rows\": 36,\n  \"fields\": [\n    {\n      \"column\": \"Choice_1\",\n      \"properties\": {\n        \"dtype\": \"category\",\n        \"num_unique_values\": 8,\n        \"samples\": [\n          \"\\u041c\\u0435\\u0442\\u043e\\u0434\\u044b \\u0438\\u0441\\u043a\\u0443\\u0441\\u0441\\u0442\\u0432\\u0435\\u043d\\u043d\\u043e\\u0433\\u043e \\u0438\\u043d\\u0442\\u0435\\u043b\\u043b\\u0435\\u043a\\u0442\\u0430\",\n          \"\\u0421\\u0442\\u0430\\u0442\\u0438\\u0441\\u0442\\u0438\\u043a\\u0430\",\n          \"\\u0412\\u0438\\u0437\\u0443\\u0430\\u043b\\u0438\\u0437\\u0430\\u0446\\u0438\\u044f \\u0434\\u0430\\u043d\\u043d\\u044b\\u0445\"\n        ],\n        \"semantic_type\": \"\",\n        \"description\": \"\"\n      }\n    },\n    {\n      \"column\": \"Choice_2\",\n      \"properties\": {\n        \"dtype\": \"category\",\n        \"num_unique_values\": 9,\n        \"samples\": [\n          \"Python\",\n          \"\\u0421\\u0442\\u0430\\u0442\\u0438\\u0441\\u0442\\u0438\\u043a\\u0430\",\n          \"Big Data\"\n        ],\n        \"semantic_type\": \"\",\n        \"description\": \"\"\n      }\n    },\n    {\n      \"column\": \"Choice_3\",\n      \"properties\": {\n        \"dtype\": \"category\",\n        \"num_unique_values\": 9,\n        \"samples\": [\n          \"\\u0410\\u043d\\u0430\\u043b\\u0438\\u0437 \\u0442\\u0435\\u043a\\u0441\\u0442\\u043e\\u0432\",\n          \"\\u041c\\u0435\\u0442\\u043e\\u0434\\u044b \\u0438\\u0441\\u043a\\u0443\\u0441\\u0441\\u0442\\u0432\\u0435\\u043d\\u043d\\u043e\\u0433\\u043e \\u0438\\u043d\\u0442\\u0435\\u043b\\u043b\\u0435\\u043a\\u0442\\u0430\",\n          \"Python\"\n        ],\n        \"semantic_type\": \"\",\n        \"description\": \"\"\n      }\n    },\n    {\n      \"column\": \"Choice_4\",\n      \"properties\": {\n        \"dtype\": \"category\",\n        \"num_unique_values\": 9,\n        \"samples\": [\n          \"\\u041c\\u0430\\u0448\\u0438\\u043d\\u043d\\u043e\\u0435 \\u043e\\u0431\\u0443\\u0447\\u0435\\u043d\\u0438\\u0435\",\n          \"\\u041e\\u0431\\u0440\\u0430\\u0431\\u043e\\u0442\\u043a\\u0430 \\u0438\\u0437\\u043e\\u0431\\u0440\\u0430\\u0436\\u0435\\u043d\\u0438\\u0439\",\n          \"\\u0421\\u0442\\u0430\\u0442\\u0438\\u0441\\u0442\\u0438\\u043a\\u0430\"\n        ],\n        \"semantic_type\": \"\",\n        \"description\": \"\"\n      }\n    },\n    {\n      \"column\": \"Choice_5\",\n      \"properties\": {\n        \"dtype\": \"category\",\n        \"num_unique_values\": 9,\n        \"samples\": [\n          \"Big Data\",\n          \"\\u0410\\u043d\\u0430\\u043b\\u0438\\u0437 \\u0442\\u0435\\u043a\\u0441\\u0442\\u043e\\u0432\",\n          \"\\u041c\\u0435\\u0442\\u043e\\u0434\\u044b \\u0438\\u0441\\u043a\\u0443\\u0441\\u0441\\u0442\\u0432\\u0435\\u043d\\u043d\\u043e\\u0433\\u043e \\u0438\\u043d\\u0442\\u0435\\u043b\\u043b\\u0435\\u043a\\u0442\\u0430\"\n        ],\n        \"semantic_type\": \"\",\n        \"description\": \"\"\n      }\n    },\n    {\n      \"column\": \"Choice_6\",\n      \"properties\": {\n        \"dtype\": \"category\",\n        \"num_unique_values\": 9,\n        \"samples\": [\n          \"\\u042d\\u043b\\u0435\\u043a\\u0442\\u0440\\u043e\\u043d\\u043d\\u044b\\u0435 \\u0442\\u0430\\u0431\\u043b\\u0438\\u0446\\u044b\",\n          \"Big Data\",\n          \"\\u041e\\u0431\\u0440\\u0430\\u0431\\u043e\\u0442\\u043a\\u0430 \\u0438\\u0437\\u043e\\u0431\\u0440\\u0430\\u0436\\u0435\\u043d\\u0438\\u0439\"\n        ],\n        \"semantic_type\": \"\",\n        \"description\": \"\"\n      }\n    },\n    {\n      \"column\": \"Choice_7\",\n      \"properties\": {\n        \"dtype\": \"category\",\n        \"num_unique_values\": 9,\n        \"samples\": [\n          \"\\u041e\\u0431\\u0440\\u0430\\u0431\\u043e\\u0442\\u043a\\u0430 \\u0438\\u0437\\u043e\\u0431\\u0440\\u0430\\u0436\\u0435\\u043d\\u0438\\u0439\",\n          \"\\u042d\\u043b\\u0435\\u043a\\u0442\\u0440\\u043e\\u043d\\u043d\\u044b\\u0435 \\u0442\\u0430\\u0431\\u043b\\u0438\\u0446\\u044b\",\n          \"\\u0412\\u0438\\u0437\\u0443\\u0430\\u043b\\u0438\\u0437\\u0430\\u0446\\u0438\\u044f \\u0434\\u0430\\u043d\\u043d\\u044b\\u0445\"\n        ],\n        \"semantic_type\": \"\",\n        \"description\": \"\"\n      }\n    },\n    {\n      \"column\": \"Choice_8\",\n      \"properties\": {\n        \"dtype\": \"category\",\n        \"num_unique_values\": 9,\n        \"samples\": [\n          \"\\u041c\\u0430\\u0448\\u0438\\u043d\\u043d\\u043e\\u0435 \\u043e\\u0431\\u0443\\u0447\\u0435\\u043d\\u0438\\u0435\",\n          \"Python\",\n          \"\\u042d\\u043b\\u0435\\u043a\\u0442\\u0440\\u043e\\u043d\\u043d\\u044b\\u0435 \\u0442\\u0430\\u0431\\u043b\\u0438\\u0446\\u044b\"\n        ],\n        \"semantic_type\": \"\",\n        \"description\": \"\"\n      }\n    },\n    {\n      \"column\": \"Choice_9\",\n      \"properties\": {\n        \"dtype\": \"category\",\n        \"num_unique_values\": 9,\n        \"samples\": [\n          \"\\u041c\\u0435\\u0442\\u043e\\u0434\\u044b \\u0438\\u0441\\u043a\\u0443\\u0441\\u0441\\u0442\\u0432\\u0435\\u043d\\u043d\\u043e\\u0433\\u043e \\u0438\\u043d\\u0442\\u0435\\u043b\\u043b\\u0435\\u043a\\u0442\\u0430\",\n          \"\\u041c\\u0430\\u0448\\u0438\\u043d\\u043d\\u043e\\u0435 \\u043e\\u0431\\u0443\\u0447\\u0435\\u043d\\u0438\\u0435\",\n          \"\\u041e\\u0431\\u0440\\u0430\\u0431\\u043e\\u0442\\u043a\\u0430 \\u0438\\u0437\\u043e\\u0431\\u0440\\u0430\\u0436\\u0435\\u043d\\u0438\\u0439\"\n        ],\n        \"semantic_type\": \"\",\n        \"description\": \"\"\n      }\n    }\n  ]\n}"
            }
          },
          "metadata": {},
          "execution_count": 54
        }
      ]
    },
    {
      "cell_type": "code",
      "source": [
        "data['Choice_1'].value_counts().plot.bar()\n",
        "# plt.bar(data.index, data['Choice_1'])"
      ],
      "metadata": {
        "colab": {
          "base_uri": "https://localhost:8080/",
          "height": 721
        },
        "id": "NloySAYnenW8",
        "outputId": "af50ae06-517b-469d-ace2-00948e41353d"
      },
      "execution_count": null,
      "outputs": [
        {
          "output_type": "execute_result",
          "data": {
            "text/plain": [
              "<Axes: xlabel='Choice_1'>"
            ]
          },
          "metadata": {},
          "execution_count": 55
        },
        {
          "output_type": "display_data",
          "data": {
            "text/plain": [
              "<Figure size 640x480 with 1 Axes>"
            ],
            "image/png": "[encoded data removed]"
          },
          "metadata": {}
        }
      ]
    },
    {
      "cell_type": "code",
      "source": [
        "choise1 = data['Choice_1'].value_counts()\n",
        "choise1"
      ],
      "metadata": {
        "colab": {
          "base_uri": "https://localhost:8080/"
        },
        "id": "tH2kG597hbAr",
        "outputId": "7e6fda18-9a5d-4ed2-cf65-cd3c536c86a6"
      },
      "execution_count": null,
      "outputs": [
        {
          "output_type": "execute_result",
          "data": {
            "text/plain": [
              "Choice_1\n",
              "Статистика                          78\n",
              "Визуализация данных                 66\n",
              "Big Data                            56\n",
              "Python                              52\n",
              "Методы искусственного интеллекта    50\n",
              "Анализ текстов                      46\n",
              "Электронные таблицы                 43\n",
              "Обработка изображений               38\n",
              "Машинное обучение                   36\n",
              "Ничего из перечисленного            14\n",
              "Name: count, dtype: int64"
            ]
          },
          "metadata": {},
          "execution_count": 56
        }
      ]
    },
    {
      "cell_type": "code",
      "source": [
        "plt.pie(choise1, labels=choise1.index, autopct='%1.1f%%') # средствами matplotlib\n",
        "# choise1.plot.pie()"
      ],
      "metadata": {
        "colab": {
          "base_uri": "https://localhost:8080/",
          "height": 916
        },
        "id": "Og3I4evFh05L",
        "outputId": "2006050d-8f2b-4a59-d94e-753898999612"
      },
      "execution_count": null,
      "outputs": [
        {
          "output_type": "execute_result",
          "data": {
            "text/plain": [
              "([<matplotlib.patches.Wedge at 0x799aba62e4d0>,\n",
              "  <matplotlib.patches.Wedge at 0x799aba62dc60>,\n",
              "  <matplotlib.patches.Wedge at 0x799aba62f310>,\n",
              "  <matplotlib.patches.Wedge at 0x799aba62e260>,\n",
              "  <matplotlib.patches.Wedge at 0x799aba62ce20>,\n",
              "  <matplotlib.patches.Wedge at 0x799aba62eb00>,\n",
              "  <matplotlib.patches.Wedge at 0x799aba62f910>,\n",
              "  <matplotlib.patches.Wedge at 0x799aba026a70>,\n",
              "  <matplotlib.patches.Wedge at 0x799aba027ca0>,\n",
              "  <matplotlib.patches.Wedge at 0x799aba025090>],\n",
              " [Text(0.959172222997593, 0.5385059392707344, 'Статистика'),\n",
              "  Text(0.12597695236268364, 1.0927624661715878, 'Визуализация данных'),\n",
              "  Text(-0.6962629323399375, 0.8515972810251287, 'Big Data'),\n",
              "  Text(-1.082797808731175, 0.1937753993853873, 'Python'),\n",
              "  Text(-0.9695815018373312, -0.5195302794783625, 'Методы искусственного интеллекта'),\n",
              "  Text(-0.47773637984290046, -0.9908420415861452, 'Анализ текстов'),\n",
              "  Text(0.1474522877512574, -1.0900723933927143, 'Электронные таблицы'),\n",
              "  Text(0.6793732204384239, -0.865131219729773, 'Обработка изображений'),\n",
              "  Text(1.0045083503031766, -0.44828894049618356, 'Машинное обучение'),\n",
              "  Text(1.095366142913648, -0.10086135512909608, 'Ничего из перечисленного')],\n",
              " [Text(0.5231848489077779, 0.2937305123294915, '16.3%'),\n",
              "  Text(0.06871470128873652, 0.5960522542754114, '13.8%'),\n",
              "  Text(-0.3797797812763295, 0.4645076078318883, '11.7%'),\n",
              "  Text(-0.5906169865806408, 0.10569567239202941, '10.9%'),\n",
              "  Text(-0.528862637365817, -0.28338015244274317, '10.4%'),\n",
              "  Text(-0.2605834799143093, -0.5404592954106245, '9.6%'),\n",
              "  Text(0.08042852059159493, -0.5945849418505714, '9.0%'),\n",
              "  Text(0.37056721114823116, -0.4718897562162398, '7.9%'),\n",
              "  Text(0.5479136456199145, -0.24452124027064556, '7.5%'),\n",
              "  Text(0.5974724415892626, -0.05501528461587058, '2.9%')])"
            ]
          },
          "metadata": {},
          "execution_count": 60
        },
        {
          "output_type": "display_data",
          "data": {
            "text/plain": [
              "<Figure size 640x480 with 1 Axes>"
            ],
            "image/png": "[encoded data removed]"
          },
          "metadata": {}
        }
      ]
    },
    {
      "cell_type": "markdown",
      "source": [
        "**График Японские свечи**"
      ],
      "metadata": {
        "id": "rd4oWhNwmKvl"
      }
    },
    {
      "cell_type": "code",
      "source": [
        "df = pd.read_csv('https://dc-edu.itmo.ru/assets/courseware/v1/824fccdb3e15cab129049a536ece5500/asset-v1:ITMO+DA+2024+type@asset+block/SPFB.RTS-12.18_180901_181231.csv')"
      ],
      "metadata": {
        "id": "-7MvwfFbmK2l"
      },
      "execution_count": null,
      "outputs": []
    },
    {
      "cell_type": "code",
      "source": [
        "df = df[df['<DATE>'] == '11/09/18']\n",
        "df.head()"
      ],
      "metadata": {
        "colab": {
          "base_uri": "https://localhost:8080/",
          "height": 204
        },
        "id": "gPUw6RFQoAUC",
        "outputId": "6e596125-8696-43b4-f59e-bc0809876f5e"
      },
      "execution_count": null,
      "outputs": [
        {
          "output_type": "execute_result",
          "data": {
            "text/plain": [
              "            <TICKER>  <PER>    <DATE> <TIME>    <OPEN>    <HIGH>     <LOW>  \\\n",
              "1942  SPFB.RTS-12.18      1  11/09/18  10:01  103300.0  104000.0  103300.0   \n",
              "1943  SPFB.RTS-12.18      1  11/09/18  10:02  103740.0  103900.0  103740.0   \n",
              "1944  SPFB.RTS-12.18      1  11/09/18  10:03  103850.0  103960.0  103850.0   \n",
              "1945  SPFB.RTS-12.18      1  11/09/18  10:04  103920.0  103920.0  103780.0   \n",
              "1946  SPFB.RTS-12.18      1  11/09/18  10:05  103790.0  103860.0  103790.0   \n",
              "\n",
              "       <CLOSE>  <VOL>  \n",
              "1942  103730.0    159  \n",
              "1943  103820.0    137  \n",
              "1944  103960.0     38  \n",
              "1945  103800.0     70  \n",
              "1946  103860.0      8  "
            ],
            "text/html": [
              "\n",
              "  <div id=\"df-acb0af1c-f226-442e-9edf-86bbe0055946\" class=\"colab-df-container\">\n",
              "    <div>\n",
              "<style scoped>\n",
              "    .dataframe tbody tr th:only-of-type {\n",
              "        vertical-align: middle;\n",
              "    }\n",
              "\n",
              "    .dataframe tbody tr th {\n",
              "        vertical-align: top;\n",
              "    }\n",
              "\n",
              "    .dataframe thead th {\n",
              "        text-align: right;\n",
              "    }\n",
              "</style>\n",
              "<table border=\"1\" class=\"dataframe\">\n",
              "  <thead>\n",
              "    <tr style=\"text-align: right;\">\n",
              "      <th></th>\n",
              "      <th>&lt;TICKER&gt;</th>\n",
              "      <th>&lt;PER&gt;</th>\n",
              "      <th>&lt;DATE&gt;</th>\n",
              "      <th>&lt;TIME&gt;</th>\n",
              "      <th>&lt;OPEN&gt;</th>\n",
              "      <th>&lt;HIGH&gt;</th>\n",
              "      <th>&lt;LOW&gt;</th>\n",
              "      <th>&lt;CLOSE&gt;</th>\n",
              "      <th>&lt;VOL&gt;</th>\n",
              "    </tr>\n",
              "  </thead>\n",
              "  <tbody>\n",
              "    <tr>\n",
              "      <th>1942</th>\n",
              "      <td>SPFB.RTS-12.18</td>\n",
              "      <td>1</td>\n",
              "      <td>11/09/18</td>\n",
              "      <td>10:01</td>\n",
              "      <td>103300.0</td>\n",
              "      <td>104000.0</td>\n",
              "      <td>103300.0</td>\n",
              "      <td>103730.0</td>\n",
              "      <td>159</td>\n",
              "    </tr>\n",
              "    <tr>\n",
              "      <th>1943</th>\n",
              "      <td>SPFB.RTS-12.18</td>\n",
              "      <td>1</td>\n",
              "      <td>11/09/18</td>\n",
              "      <td>10:02</td>\n",
              "      <td>103740.0</td>\n",
              "      <td>103900.0</td>\n",
              "      <td>103740.0</td>\n",
              "      <td>103820.0</td>\n",
              "      <td>137</td>\n",
              "    </tr>\n",
              "    <tr>\n",
              "      <th>1944</th>\n",
              "      <td>SPFB.RTS-12.18</td>\n",
              "      <td>1</td>\n",
              "      <td>11/09/18</td>\n",
              "      <td>10:03</td>\n",
              "      <td>103850.0</td>\n",
              "      <td>103960.0</td>\n",
              "      <td>103850.0</td>\n",
              "      <td>103960.0</td>\n",
              "      <td>38</td>\n",
              "    </tr>\n",
              "    <tr>\n",
              "      <th>1945</th>\n",
              "      <td>SPFB.RTS-12.18</td>\n",
              "      <td>1</td>\n",
              "      <td>11/09/18</td>\n",
              "      <td>10:04</td>\n",
              "      <td>103920.0</td>\n",
              "      <td>103920.0</td>\n",
              "      <td>103780.0</td>\n",
              "      <td>103800.0</td>\n",
              "      <td>70</td>\n",
              "    </tr>\n",
              "    <tr>\n",
              "      <th>1946</th>\n",
              "      <td>SPFB.RTS-12.18</td>\n",
              "      <td>1</td>\n",
              "      <td>11/09/18</td>\n",
              "      <td>10:05</td>\n",
              "      <td>103790.0</td>\n",
              "      <td>103860.0</td>\n",
              "      <td>103790.0</td>\n",
              "      <td>103860.0</td>\n",
              "      <td>8</td>\n",
              "    </tr>\n",
              "  </tbody>\n",
              "</table>\n",
              "</div>\n",
              "    <div class=\"colab-df-buttons\">\n",
              "\n",
              "  <div class=\"colab-df-container\">\n",
              "    <button class=\"colab-df-convert\" onclick=\"convertToInteractive('df-acb0af1c-f226-442e-9edf-86bbe0055946')\"\n",
              "            title=\"Convert this dataframe to an interactive table.\"\n",
              "            style=\"display:none;\">\n",
              "\n",
              "  <svg xmlns=\"http://www.w3.org/2000/svg\" height=\"24px\" viewBox=\"0 -960 960 960\">\n",
              "    <path d=\"M120-120v-720h720v720H120Zm60-500h600v-160H180v160Zm220 220h160v-160H400v160Zm0 220h160v-160H400v160ZM180-400h160v-160H180v160Zm440 0h160v-160H620v160ZM180-180h160v-160H180v160Zm440 0h160v-160H620v160Z\"/>\n",
              "  </svg>\n",
              "    </button>\n",
              "\n",
              "  <style>\n",
              "    .colab-df-container {\n",
              "      display:flex;\n",
              "      gap: 12px;\n",
              "    }\n",
              "\n",
              "    .colab-df-convert {\n",
              "      background-color: #E8F0FE;\n",
              "      border: none;\n",
              "      border-radius: 50%;\n",
              "      cursor: pointer;\n",
              "      display: none;\n",
              "      fill: #1967D2;\n",
              "      height: 32px;\n",
              "      padding: 0 0 0 0;\n",
              "      width: 32px;\n",
              "    }\n",
              "\n",
              "    .colab-df-convert:hover {\n",
              "      background-color: #E2EBFA;\n",
              "      box-shadow: 0px 1px 2px rgba(60, 64, 67, 0.3), 0px 1px 3px 1px rgba(60, 64, 67, 0.15);\n",
              "      fill: #174EA6;\n",
              "    }\n",
              "\n",
              "    .colab-df-buttons div {\n",
              "      margin-bottom: 4px;\n",
              "    }\n",
              "\n",
              "    [theme=dark] .colab-df-convert {\n",
              "      background-color: #3B4455;\n",
              "      fill: #D2E3FC;\n",
              "    }\n",
              "\n",
              "    [theme=dark] .colab-df-convert:hover {\n",
              "      background-color: #434B5C;\n",
              "      box-shadow: 0px 1px 3px 1px rgba(0, 0, 0, 0.15);\n",
              "      filter: drop-shadow(0px 1px 2px rgba(0, 0, 0, 0.3));\n",
              "      fill: #FFFFFF;\n",
              "    }\n",
              "  </style>\n",
              "\n",
              "    <script>\n",
              "      const buttonEl =\n",
              "        document.querySelector('#df-acb0af1c-f226-442e-9edf-86bbe0055946 button.colab-df-convert');\n",
              "      buttonEl.style.display =\n",
              "        google.colab.kernel.accessAllowed ? 'block' : 'none';\n",
              "\n",
              "      async function convertToInteractive(key) {\n",
              "        const element = document.querySelector('#df-acb0af1c-f226-442e-9edf-86bbe0055946');\n",
              "        const dataTable =\n",
              "          await google.colab.kernel.invokeFunction('convertToInteractive',\n",
              "                                                    [key], {});\n",
              "        if (!dataTable) return;\n",
              "\n",
              "        const docLinkHtml = 'Like what you see? Visit the ' +\n",
              "          '<a target=\"_blank\" href=https://colab.research.google.com/notebooks/data_table.ipynb>data table notebook</a>'\n",
              "          + ' to learn more about interactive tables.';\n",
              "        element.innerHTML = '';\n",
              "        dataTable['output_type'] = 'display_data';\n",
              "        await google.colab.output.renderOutput(dataTable, element);\n",
              "        const docLink = document.createElement('div');\n",
              "        docLink.innerHTML = docLinkHtml;\n",
              "        element.appendChild(docLink);\n",
              "      }\n",
              "    </script>\n",
              "  </div>\n",
              "\n",
              "\n",
              "<div id=\"df-1ef26d3f-f49e-46ea-aab7-958c2030b010\">\n",
              "  <button class=\"colab-df-quickchart\" onclick=\"quickchart('df-1ef26d3f-f49e-46ea-aab7-958c2030b010')\"\n",
              "            title=\"Suggest charts\"\n",
              "            style=\"display:none;\">\n",
              "\n",
              "<svg xmlns=\"http://www.w3.org/2000/svg\" height=\"24px\"viewBox=\"0 0 24 24\"\n",
              "     width=\"24px\">\n",
              "    <g>\n",
              "        <path d=\"M19 3H5c-1.1 0-2 .9-2 2v14c0 1.1.9 2 2 2h14c1.1 0 2-.9 2-2V5c0-1.1-.9-2-2-2zM9 17H7v-7h2v7zm4 0h-2V7h2v10zm4 0h-2v-4h2v4z\"/>\n",
              "    </g>\n",
              "</svg>\n",
              "  </button>\n",
              "\n",
              "<style>\n",
              "  .colab-df-quickchart {\n",
              "      --bg-color: #E8F0FE;\n",
              "      --fill-color: #1967D2;\n",
              "      --hover-bg-color: #E2EBFA;\n",
              "      --hover-fill-color: #174EA6;\n",
              "      --disabled-fill-color: #AAA;\n",
              "      --disabled-bg-color: #DDD;\n",
              "  }\n",
              "\n",
              "  [theme=dark] .colab-df-quickchart {\n",
              "      --bg-color: #3B4455;\n",
              "      --fill-color: #D2E3FC;\n",
              "      --hover-bg-color: #434B5C;\n",
              "      --hover-fill-color: #FFFFFF;\n",
              "      --disabled-bg-color: #3B4455;\n",
              "      --disabled-fill-color: #666;\n",
              "  }\n",
              "\n",
              "  .colab-df-quickchart {\n",
              "    background-color: var(--bg-color);\n",
              "    border: none;\n",
              "    border-radius: 50%;\n",
              "    cursor: pointer;\n",
              "    display: none;\n",
              "    fill: var(--fill-color);\n",
              "    height: 32px;\n",
              "    padding: 0;\n",
              "    width: 32px;\n",
              "  }\n",
              "\n",
              "  .colab-df-quickchart:hover {\n",
              "    background-color: var(--hover-bg-color);\n",
              "    box-shadow: 0 1px 2px rgba(60, 64, 67, 0.3), 0 1px 3px 1px rgba(60, 64, 67, 0.15);\n",
              "    fill: var(--button-hover-fill-color);\n",
              "  }\n",
              "\n",
              "  .colab-df-quickchart-complete:disabled,\n",
              "  .colab-df-quickchart-complete:disabled:hover {\n",
              "    background-color: var(--disabled-bg-color);\n",
              "    fill: var(--disabled-fill-color);\n",
              "    box-shadow: none;\n",
              "  }\n",
              "\n",
              "  .colab-df-spinner {\n",
              "    border: 2px solid var(--fill-color);\n",
              "    border-color: transparent;\n",
              "    border-bottom-color: var(--fill-color);\n",
              "    animation:\n",
              "      spin 1s steps(1) infinite;\n",
              "  }\n",
              "\n",
              "  @keyframes spin {\n",
              "    0% {\n",
              "      border-color: transparent;\n",
              "      border-bottom-color: var(--fill-color);\n",
              "      border-left-color: var(--fill-color);\n",
              "    }\n",
              "    20% {\n",
              "      border-color: transparent;\n",
              "      border-left-color: var(--fill-color);\n",
              "      border-top-color: var(--fill-color);\n",
              "    }\n",
              "    30% {\n",
              "      border-color: transparent;\n",
              "      border-left-color: var(--fill-color);\n",
              "      border-top-color: var(--fill-color);\n",
              "      border-right-color: var(--fill-color);\n",
              "    }\n",
              "    40% {\n",
              "      border-color: transparent;\n",
              "      border-right-color: var(--fill-color);\n",
              "      border-top-color: var(--fill-color);\n",
              "    }\n",
              "    60% {\n",
              "      border-color: transparent;\n",
              "      border-right-color: var(--fill-color);\n",
              "    }\n",
              "    80% {\n",
              "      border-color: transparent;\n",
              "      border-right-color: var(--fill-color);\n",
              "      border-bottom-color: var(--fill-color);\n",
              "    }\n",
              "    90% {\n",
              "      border-color: transparent;\n",
              "      border-bottom-color: var(--fill-color);\n",
              "    }\n",
              "  }\n",
              "</style>\n",
              "\n",
              "  <script>\n",
              "    async function quickchart(key) {\n",
              "      const quickchartButtonEl =\n",
              "        document.querySelector('#' + key + ' button');\n",
              "      quickchartButtonEl.disabled = true;  // To prevent multiple clicks.\n",
              "      quickchartButtonEl.classList.add('colab-df-spinner');\n",
              "      try {\n",
              "        const charts = await google.colab.kernel.invokeFunction(\n",
              "            'suggestCharts', [key], {});\n",
              "      } catch (error) {\n",
              "        console.error('Error during call to suggestCharts:', error);\n",
              "      }\n",
              "      quickchartButtonEl.classList.remove('colab-df-spinner');\n",
              "      quickchartButtonEl.classList.add('colab-df-quickchart-complete');\n",
              "    }\n",
              "    (() => {\n",
              "      let quickchartButtonEl =\n",
              "        document.querySelector('#df-1ef26d3f-f49e-46ea-aab7-958c2030b010 button');\n",
              "      quickchartButtonEl.style.display =\n",
              "        google.colab.kernel.accessAllowed ? 'block' : 'none';\n",
              "    })();\n",
              "  </script>\n",
              "</div>\n",
              "    </div>\n",
              "  </div>\n"
            ],
            "application/vnd.google.colaboratory.intrinsic+json": {
              "type": "dataframe",
              "variable_name": "df",
              "repr_error": "0"
            }
          },
          "metadata": {},
          "execution_count": 139
        }
      ]
    },
    {
      "cell_type": "code",
      "source": [
        "df.columns = df.columns.str.strip('<>')\n",
        "df['DATETIME'] = pd.to_datetime(df['DATE'] + ' ' + df['TIME'], format='%d/%m/%y %H:%M')\n",
        "\n",
        "new_df = df.copy().drop(['DATE', 'TIME'], axis=1)\n",
        "new_df = new_df.set_index('DATETIME')\n",
        "new_df_resampled = new_df.resample('H').agg({'OPEN': 'first', 'CLOSE': 'last', 'HIGH': 'max', 'LOW': 'min', 'VOL': 'sum'})\n",
        "new_df_resampled\n"
      ],
      "metadata": {
        "colab": {
          "base_uri": "https://localhost:8080/",
          "height": 514
        },
        "id": "SqBZivvqnzwG",
        "outputId": "50423df4-20a0-4802-d993-57b081026d38"
      },
      "execution_count": null,
      "outputs": [
        {
          "output_type": "execute_result",
          "data": {
            "text/plain": [
              "                         OPEN     CLOSE      HIGH       LOW   VOL\n",
              "DATETIME                                                         \n",
              "2018-09-11 10:00:00  103300.0  104170.0  104430.0  103300.0  2049\n",
              "2018-09-11 11:00:00  104250.0  104330.0  104700.0  104210.0  1434\n",
              "2018-09-11 12:00:00  104340.0  103630.0  104360.0  103510.0   898\n",
              "2018-09-11 13:00:00  103660.0  103800.0  103970.0  103640.0   189\n",
              "2018-09-11 14:00:00  103840.0  103360.0  103840.0  103240.0   428\n",
              "2018-09-11 15:00:00  103320.0  103260.0  103500.0  103040.0   762\n",
              "2018-09-11 16:00:00  103280.0  103570.0  103720.0  103120.0  1051\n",
              "2018-09-11 17:00:00  103600.0  104050.0  104230.0  103600.0   764\n",
              "2018-09-11 18:00:00  104150.0  104440.0  104450.0  104130.0   513\n",
              "2018-09-11 19:00:00  104480.0  104650.0  104810.0  104470.0   357\n",
              "2018-09-11 20:00:00  104680.0  104440.0  104720.0  104370.0   320\n",
              "2018-09-11 21:00:00  104380.0  104600.0  104600.0  104340.0   191\n",
              "2018-09-11 22:00:00  104640.0  104850.0  104930.0  104580.0   219\n",
              "2018-09-11 23:00:00  104850.0  105200.0  105200.0  104850.0   266"
            ],
            "text/html": [
              "\n",
              "  <div id=\"df-5be41e00-b833-4299-b637-26ef0b7b357b\" class=\"colab-df-container\">\n",
              "    <div>\n",
              "<style scoped>\n",
              "    .dataframe tbody tr th:only-of-type {\n",
              "        vertical-align: middle;\n",
              "    }\n",
              "\n",
              "    .dataframe tbody tr th {\n",
              "        vertical-align: top;\n",
              "    }\n",
              "\n",
              "    .dataframe thead th {\n",
              "        text-align: right;\n",
              "    }\n",
              "</style>\n",
              "<table border=\"1\" class=\"dataframe\">\n",
              "  <thead>\n",
              "    <tr style=\"text-align: right;\">\n",
              "      <th></th>\n",
              "      <th>OPEN</th>\n",
              "      <th>CLOSE</th>\n",
              "      <th>HIGH</th>\n",
              "      <th>LOW</th>\n",
              "      <th>VOL</th>\n",
              "    </tr>\n",
              "    <tr>\n",
              "      <th>DATETIME</th>\n",
              "      <th></th>\n",
              "      <th></th>\n",
              "      <th></th>\n",
              "      <th></th>\n",
              "      <th></th>\n",
              "    </tr>\n",
              "  </thead>\n",
              "  <tbody>\n",
              "    <tr>\n",
              "      <th>2018-09-11 10:00:00</th>\n",
              "      <td>103300.0</td>\n",
              "      <td>104170.0</td>\n",
              "      <td>104430.0</td>\n",
              "      <td>103300.0</td>\n",
              "      <td>2049</td>\n",
              "    </tr>\n",
              "    <tr>\n",
              "      <th>2018-09-11 11:00:00</th>\n",
              "      <td>104250.0</td>\n",
              "      <td>104330.0</td>\n",
              "      <td>104700.0</td>\n",
              "      <td>104210.0</td>\n",
              "      <td>1434</td>\n",
              "    </tr>\n",
              "    <tr>\n",
              "      <th>2018-09-11 12:00:00</th>\n",
              "      <td>104340.0</td>\n",
              "      <td>103630.0</td>\n",
              "      <td>104360.0</td>\n",
              "      <td>103510.0</td>\n",
              "      <td>898</td>\n",
              "    </tr>\n",
              "    <tr>\n",
              "      <th>2018-09-11 13:00:00</th>\n",
              "      <td>103660.0</td>\n",
              "      <td>103800.0</td>\n",
              "      <td>103970.0</td>\n",
              "      <td>103640.0</td>\n",
              "      <td>189</td>\n",
              "    </tr>\n",
              "    <tr>\n",
              "      <th>2018-09-11 14:00:00</th>\n",
              "      <td>103840.0</td>\n",
              "      <td>103360.0</td>\n",
              "      <td>103840.0</td>\n",
              "      <td>103240.0</td>\n",
              "      <td>428</td>\n",
              "    </tr>\n",
              "    <tr>\n",
              "      <th>2018-09-11 15:00:00</th>\n",
              "      <td>103320.0</td>\n",
              "      <td>103260.0</td>\n",
              "      <td>103500.0</td>\n",
              "      <td>103040.0</td>\n",
              "      <td>762</td>\n",
              "    </tr>\n",
              "    <tr>\n",
              "      <th>2018-09-11 16:00:00</th>\n",
              "      <td>103280.0</td>\n",
              "      <td>103570.0</td>\n",
              "      <td>103720.0</td>\n",
              "      <td>103120.0</td>\n",
              "      <td>1051</td>\n",
              "    </tr>\n",
              "    <tr>\n",
              "      <th>2018-09-11 17:00:00</th>\n",
              "      <td>103600.0</td>\n",
              "      <td>104050.0</td>\n",
              "      <td>104230.0</td>\n",
              "      <td>103600.0</td>\n",
              "      <td>764</td>\n",
              "    </tr>\n",
              "    <tr>\n",
              "      <th>2018-09-11 18:00:00</th>\n",
              "      <td>104150.0</td>\n",
              "      <td>104440.0</td>\n",
              "      <td>104450.0</td>\n",
              "      <td>104130.0</td>\n",
              "      <td>513</td>\n",
              "    </tr>\n",
              "    <tr>\n",
              "      <th>2018-09-11 19:00:00</th>\n",
              "      <td>104480.0</td>\n",
              "      <td>104650.0</td>\n",
              "      <td>104810.0</td>\n",
              "      <td>104470.0</td>\n",
              "      <td>357</td>\n",
              "    </tr>\n",
              "    <tr>\n",
              "      <th>2018-09-11 20:00:00</th>\n",
              "      <td>104680.0</td>\n",
              "      <td>104440.0</td>\n",
              "      <td>104720.0</td>\n",
              "      <td>104370.0</td>\n",
              "      <td>320</td>\n",
              "    </tr>\n",
              "    <tr>\n",
              "      <th>2018-09-11 21:00:00</th>\n",
              "      <td>104380.0</td>\n",
              "      <td>104600.0</td>\n",
              "      <td>104600.0</td>\n",
              "      <td>104340.0</td>\n",
              "      <td>191</td>\n",
              "    </tr>\n",
              "    <tr>\n",
              "      <th>2018-09-11 22:00:00</th>\n",
              "      <td>104640.0</td>\n",
              "      <td>104850.0</td>\n",
              "      <td>104930.0</td>\n",
              "      <td>104580.0</td>\n",
              "      <td>219</td>\n",
              "    </tr>\n",
              "    <tr>\n",
              "      <th>2018-09-11 23:00:00</th>\n",
              "      <td>104850.0</td>\n",
              "      <td>105200.0</td>\n",
              "      <td>105200.0</td>\n",
              "      <td>104850.0</td>\n",
              "      <td>266</td>\n",
              "    </tr>\n",
              "  </tbody>\n",
              "</table>\n",
              "</div>\n",
              "    <div class=\"colab-df-buttons\">\n",
              "\n",
              "  <div class=\"colab-df-container\">\n",
              "    <button class=\"colab-df-convert\" onclick=\"convertToInteractive('df-5be41e00-b833-4299-b637-26ef0b7b357b')\"\n",
              "            title=\"Convert this dataframe to an interactive table.\"\n",
              "            style=\"display:none;\">\n",
              "\n",
              "  <svg xmlns=\"http://www.w3.org/2000/svg\" height=\"24px\" viewBox=\"0 -960 960 960\">\n",
              "    <path d=\"M120-120v-720h720v720H120Zm60-500h600v-160H180v160Zm220 220h160v-160H400v160Zm0 220h160v-160H400v160ZM180-400h160v-160H180v160Zm440 0h160v-160H620v160ZM180-180h160v-160H180v160Zm440 0h160v-160H620v160Z\"/>\n",
              "  </svg>\n",
              "    </button>\n",
              "\n",
              "  <style>\n",
              "    .colab-df-container {\n",
              "      display:flex;\n",
              "      gap: 12px;\n",
              "    }\n",
              "\n",
              "    .colab-df-convert {\n",
              "      background-color: #E8F0FE;\n",
              "      border: none;\n",
              "      border-radius: 50%;\n",
              "      cursor: pointer;\n",
              "      display: none;\n",
              "      fill: #1967D2;\n",
              "      height: 32px;\n",
              "      padding: 0 0 0 0;\n",
              "      width: 32px;\n",
              "    }\n",
              "\n",
              "    .colab-df-convert:hover {\n",
              "      background-color: #E2EBFA;\n",
              "      box-shadow: 0px 1px 2px rgba(60, 64, 67, 0.3), 0px 1px 3px 1px rgba(60, 64, 67, 0.15);\n",
              "      fill: #174EA6;\n",
              "    }\n",
              "\n",
              "    .colab-df-buttons div {\n",
              "      margin-bottom: 4px;\n",
              "    }\n",
              "\n",
              "    [theme=dark] .colab-df-convert {\n",
              "      background-color: #3B4455;\n",
              "      fill: #D2E3FC;\n",
              "    }\n",
              "\n",
              "    [theme=dark] .colab-df-convert:hover {\n",
              "      background-color: #434B5C;\n",
              "      box-shadow: 0px 1px 3px 1px rgba(0, 0, 0, 0.15);\n",
              "      filter: drop-shadow(0px 1px 2px rgba(0, 0, 0, 0.3));\n",
              "      fill: #FFFFFF;\n",
              "    }\n",
              "  </style>\n",
              "\n",
              "    <script>\n",
              "      const buttonEl =\n",
              "        document.querySelector('#df-5be41e00-b833-4299-b637-26ef0b7b357b button.colab-df-convert');\n",
              "      buttonEl.style.display =\n",
              "        google.colab.kernel.accessAllowed ? 'block' : 'none';\n",
              "\n",
              "      async function convertToInteractive(key) {\n",
              "        const element = document.querySelector('#df-5be41e00-b833-4299-b637-26ef0b7b357b');\n",
              "        const dataTable =\n",
              "          await google.colab.kernel.invokeFunction('convertToInteractive',\n",
              "                                                    [key], {});\n",
              "        if (!dataTable) return;\n",
              "\n",
              "        const docLinkHtml = 'Like what you see? Visit the ' +\n",
              "          '<a target=\"_blank\" href=https://colab.research.google.com/notebooks/data_table.ipynb>data table notebook</a>'\n",
              "          + ' to learn more about interactive tables.';\n",
              "        element.innerHTML = '';\n",
              "        dataTable['output_type'] = 'display_data';\n",
              "        await google.colab.output.renderOutput(dataTable, element);\n",
              "        const docLink = document.createElement('div');\n",
              "        docLink.innerHTML = docLinkHtml;\n",
              "        element.appendChild(docLink);\n",
              "      }\n",
              "    </script>\n",
              "  </div>\n",
              "\n",
              "\n",
              "<div id=\"df-ff221d31-125f-4f99-9974-94b87820b5ba\">\n",
              "  <button class=\"colab-df-quickchart\" onclick=\"quickchart('df-ff221d31-125f-4f99-9974-94b87820b5ba')\"\n",
              "            title=\"Suggest charts\"\n",
              "            style=\"display:none;\">\n",
              "\n",
              "<svg xmlns=\"http://www.w3.org/2000/svg\" height=\"24px\"viewBox=\"0 0 24 24\"\n",
              "     width=\"24px\">\n",
              "    <g>\n",
              "        <path d=\"M19 3H5c-1.1 0-2 .9-2 2v14c0 1.1.9 2 2 2h14c1.1 0 2-.9 2-2V5c0-1.1-.9-2-2-2zM9 17H7v-7h2v7zm4 0h-2V7h2v10zm4 0h-2v-4h2v4z\"/>\n",
              "    </g>\n",
              "</svg>\n",
              "  </button>\n",
              "\n",
              "<style>\n",
              "  .colab-df-quickchart {\n",
              "      --bg-color: #E8F0FE;\n",
              "      --fill-color: #1967D2;\n",
              "      --hover-bg-color: #E2EBFA;\n",
              "      --hover-fill-color: #174EA6;\n",
              "      --disabled-fill-color: #AAA;\n",
              "      --disabled-bg-color: #DDD;\n",
              "  }\n",
              "\n",
              "  [theme=dark] .colab-df-quickchart {\n",
              "      --bg-color: #3B4455;\n",
              "      --fill-color: #D2E3FC;\n",
              "      --hover-bg-color: #434B5C;\n",
              "      --hover-fill-color: #FFFFFF;\n",
              "      --disabled-bg-color: #3B4455;\n",
              "      --disabled-fill-color: #666;\n",
              "  }\n",
              "\n",
              "  .colab-df-quickchart {\n",
              "    background-color: var(--bg-color);\n",
              "    border: none;\n",
              "    border-radius: 50%;\n",
              "    cursor: pointer;\n",
              "    display: none;\n",
              "    fill: var(--fill-color);\n",
              "    height: 32px;\n",
              "    padding: 0;\n",
              "    width: 32px;\n",
              "  }\n",
              "\n",
              "  .colab-df-quickchart:hover {\n",
              "    background-color: var(--hover-bg-color);\n",
              "    box-shadow: 0 1px 2px rgba(60, 64, 67, 0.3), 0 1px 3px 1px rgba(60, 64, 67, 0.15);\n",
              "    fill: var(--button-hover-fill-color);\n",
              "  }\n",
              "\n",
              "  .colab-df-quickchart-complete:disabled,\n",
              "  .colab-df-quickchart-complete:disabled:hover {\n",
              "    background-color: var(--disabled-bg-color);\n",
              "    fill: var(--disabled-fill-color);\n",
              "    box-shadow: none;\n",
              "  }\n",
              "\n",
              "  .colab-df-spinner {\n",
              "    border: 2px solid var(--fill-color);\n",
              "    border-color: transparent;\n",
              "    border-bottom-color: var(--fill-color);\n",
              "    animation:\n",
              "      spin 1s steps(1) infinite;\n",
              "  }\n",
              "\n",
              "  @keyframes spin {\n",
              "    0% {\n",
              "      border-color: transparent;\n",
              "      border-bottom-color: var(--fill-color);\n",
              "      border-left-color: var(--fill-color);\n",
              "    }\n",
              "    20% {\n",
              "      border-color: transparent;\n",
              "      border-left-color: var(--fill-color);\n",
              "      border-top-color: var(--fill-color);\n",
              "    }\n",
              "    30% {\n",
              "      border-color: transparent;\n",
              "      border-left-color: var(--fill-color);\n",
              "      border-top-color: var(--fill-color);\n",
              "      border-right-color: var(--fill-color);\n",
              "    }\n",
              "    40% {\n",
              "      border-color: transparent;\n",
              "      border-right-color: var(--fill-color);\n",
              "      border-top-color: var(--fill-color);\n",
              "    }\n",
              "    60% {\n",
              "      border-color: transparent;\n",
              "      border-right-color: var(--fill-color);\n",
              "    }\n",
              "    80% {\n",
              "      border-color: transparent;\n",
              "      border-right-color: var(--fill-color);\n",
              "      border-bottom-color: var(--fill-color);\n",
              "    }\n",
              "    90% {\n",
              "      border-color: transparent;\n",
              "      border-bottom-color: var(--fill-color);\n",
              "    }\n",
              "  }\n",
              "</style>\n",
              "\n",
              "  <script>\n",
              "    async function quickchart(key) {\n",
              "      const quickchartButtonEl =\n",
              "        document.querySelector('#' + key + ' button');\n",
              "      quickchartButtonEl.disabled = true;  // To prevent multiple clicks.\n",
              "      quickchartButtonEl.classList.add('colab-df-spinner');\n",
              "      try {\n",
              "        const charts = await google.colab.kernel.invokeFunction(\n",
              "            'suggestCharts', [key], {});\n",
              "      } catch (error) {\n",
              "        console.error('Error during call to suggestCharts:', error);\n",
              "      }\n",
              "      quickchartButtonEl.classList.remove('colab-df-spinner');\n",
              "      quickchartButtonEl.classList.add('colab-df-quickchart-complete');\n",
              "    }\n",
              "    (() => {\n",
              "      let quickchartButtonEl =\n",
              "        document.querySelector('#df-ff221d31-125f-4f99-9974-94b87820b5ba button');\n",
              "      quickchartButtonEl.style.display =\n",
              "        google.colab.kernel.accessAllowed ? 'block' : 'none';\n",
              "    })();\n",
              "  </script>\n",
              "</div>\n",
              "    </div>\n",
              "  </div>\n"
            ],
            "application/vnd.google.colaboratory.intrinsic+json": {
              "type": "dataframe",
              "variable_name": "new_df_resampled",
              "summary": "{\n  \"name\": \"new_df_resampled\",\n  \"rows\": 14,\n  \"fields\": [\n    {\n      \"column\": \"DATETIME\",\n      \"properties\": {\n        \"dtype\": \"date\",\n        \"min\": \"2018-09-11 10:00:00\",\n        \"max\": \"2018-09-11 23:00:00\",\n        \"num_unique_values\": 14,\n        \"samples\": [\n          \"2018-09-11 19:00:00\",\n          \"2018-09-11 21:00:00\",\n          \"2018-09-11 10:00:00\"\n        ],\n        \"semantic_type\": \"\",\n        \"description\": \"\"\n      }\n    },\n    {\n      \"column\": \"OPEN\",\n      \"properties\": {\n        \"dtype\": \"number\",\n        \"std\": 547.6909572152754,\n        \"min\": 103280.0,\n        \"max\": 104850.0,\n        \"num_unique_values\": 14,\n        \"samples\": [\n          104480.0,\n          104380.0,\n          103300.0\n        ],\n        \"semantic_type\": \"\",\n        \"description\": \"\"\n      }\n    },\n    {\n      \"column\": \"CLOSE\",\n      \"properties\": {\n        \"dtype\": \"number\",\n        \"std\": 581.578469755816,\n        \"min\": 103260.0,\n        \"max\": 105200.0,\n        \"num_unique_values\": 13,\n        \"samples\": [\n          104850.0,\n          104650.0,\n          104170.0\n        ],\n        \"semantic_type\": \"\",\n        \"description\": \"\"\n      }\n    },\n    {\n      \"column\": \"HIGH\",\n      \"properties\": {\n        \"dtype\": \"number\",\n        \"std\": 490.27464830361237,\n        \"min\": 103500.0,\n        \"max\": 105200.0,\n        \"num_unique_values\": 14,\n        \"samples\": [\n          104810.0,\n          104600.0,\n          104430.0\n        ],\n        \"semantic_type\": \"\",\n        \"description\": \"\"\n      }\n    },\n    {\n      \"column\": \"LOW\",\n      \"properties\": {\n        \"dtype\": \"number\",\n        \"std\": 601.5200525555017,\n        \"min\": 103040.0,\n        \"max\": 104850.0,\n        \"num_unique_values\": 14,\n        \"samples\": [\n          104470.0,\n          104340.0,\n          103300.0\n        ],\n        \"semantic_type\": \"\",\n        \"description\": \"\"\n      }\n    },\n    {\n      \"column\": \"VOL\",\n      \"properties\": {\n        \"dtype\": \"number\",\n        \"std\": 542,\n        \"min\": 189,\n        \"max\": 2049,\n        \"num_unique_values\": 14,\n        \"samples\": [\n          357,\n          191,\n          2049\n        ],\n        \"semantic_type\": \"\",\n        \"description\": \"\"\n      }\n    }\n  ]\n}"
            }
          },
          "metadata": {},
          "execution_count": 140
        }
      ]
    },
    {
      "cell_type": "code",
      "source": [
        "import plotly.graph_objects as go"
      ],
      "metadata": {
        "id": "LN91buPNtAtq"
      },
      "execution_count": null,
      "outputs": []
    },
    {
      "cell_type": "code",
      "source": [
        "fig = go.Figure(data=go.Candlestick(\n",
        "      x=new_df_resampled.index,\n",
        "      open=new_df_resampled['OPEN'],\n",
        "      close=new_df_resampled['CLOSE'],\n",
        "      high=new_df_resampled['HIGH'],\n",
        "      low=new_df_resampled['LOW'],\n",
        "    ))\n",
        "\n",
        "fig.update_layout(title='Японские свечи', xaxis_title='Часы', yaxis_title='Цена')\n",
        "fig.show()"
      ],
      "metadata": {
        "colab": {
          "base_uri": "https://localhost:8080/",
          "height": 542
        },
        "id": "VyZBqXggtI1_",
        "outputId": "2750a4fb-fabc-44c9-d3d5-b43b10c10c16"
      },
      "execution_count": null,
      "outputs": [
        {
          "output_type": "display_data",
          "data": {
            "text/html": [
              "<html>\n",
              "<head><meta charset=\"utf-8\" /></head>\n",
              "<body>\n",
              "    <div>            <script src=\"https://cdnjs.cloudflare.com/ajax/libs/mathjax/2.7.5/MathJax.js?config=TeX-AMS-MML_SVG\"></script><script type=\"text/javascript\">if (window.MathJax && window.MathJax.Hub && window.MathJax.Hub.Config) {window.MathJax.Hub.Config({SVG: {font: \"STIX-Web\"}});}</script>                <script type=\"text/javascript\">window.PlotlyConfig = {MathJaxConfig: 'local'};</script>\n",
              "        <script charset=\"utf-8\" src=\"https://cdn.plot.ly/plotly-2.24.1.min.js\"></script>                <div id=\"93da6a93-8127-489d-8105-2c16a085b78d\" class=\"plotly-graph-div\" style=\"height:525px; width:100%;\"></div>            <script type=\"text/javascript\">                                    window.PLOTLYENV=window.PLOTLYENV || {};                                    if (document.getElementById(\"93da6a93-8127-489d-8105-2c16a085b78d\")) {                    Plotly.newPlot(                        \"93da6a93-8127-489d-8105-2c16a085b78d\",                        [{\"close\":[104170.0,104330.0,103630.0,103800.0,103360.0,103260.0,103570.0,104050.0,104440.0,104650.0,104440.0,104600.0,104850.0,105200.0],\"high\":[104430.0,104700.0,104360.0,103970.0,103840.0,103500.0,103720.0,104230.0,104450.0,104810.0,104720.0,104600.0,104930.0,105200.0],\"low\":[103300.0,104210.0,103510.0,103640.0,103240.0,103040.0,103120.0,103600.0,104130.0,104470.0,104370.0,104340.0,104580.0,104850.0],\"open\":[103300.0,104250.0,104340.0,103660.0,103840.0,103320.0,103280.0,103600.0,104150.0,104480.0,104680.0,104380.0,104640.0,104850.0],\"x\":[\"2018-09-11T10:00:00\",\"2018-09-11T11:00:00\",\"2018-09-11T12:00:00\",\"2018-09-11T13:00:00\",\"2018-09-11T14:00:00\",\"2018-09-11T15:00:00\",\"2018-09-11T16:00:00\",\"2018-09-11T17:00:00\",\"2018-09-11T18:00:00\",\"2018-09-11T19:00:00\",\"2018-09-11T20:00:00\",\"2018-09-11T21:00:00\",\"2018-09-11T22:00:00\",\"2018-09-11T23:00:00\"],\"type\":\"candlestick\"}],                        {\"template\":{\"data\":{\"histogram2dcontour\":[{\"type\":\"histogram2dcontour\",\"colorbar\":{\"outlinewidth\":0,\"ticks\":\"\"},\"colorscale\":[[0.0,\"#0d0887\"],[0.1111111111111111,\"#46039f\"],[0.2222222222222222,\"#7201a8\"],[0.3333333333333333,\"#9c179e\"],[0.4444444444444444,\"#bd3786\"],[0.5555555555555556,\"#d8576b\"],[0.6666666666666666,\"#ed7953\"],[0.7777777777777778,\"#fb9f3a\"],[0.8888888888888888,\"#fdca26\"],[1.0,\"#f0f921\"]]}],\"choropleth\":[{\"type\":\"choropleth\",\"colorbar\":{\"outlinewidth\":0,\"ticks\":\"\"}}],\"histogram2d\":[{\"type\":\"histogram2d\",\"colorbar\":{\"outlinewidth\":0,\"ticks\":\"\"},\"colorscale\":[[0.0,\"#0d0887\"],[0.1111111111111111,\"#46039f\"],[0.2222222222222222,\"#7201a8\"],[0.3333333333333333,\"#9c179e\"],[0.4444444444444444,\"#bd3786\"],[0.5555555555555556,\"#d8576b\"],[0.6666666666666666,\"#ed7953\"],[0.7777777777777778,\"#fb9f3a\"],[0.8888888888888888,\"#fdca26\"],[1.0,\"#f0f921\"]]}],\"heatmap\":[{\"type\":\"heatmap\",\"colorbar\":{\"outlinewidth\":0,\"ticks\":\"\"},\"colorscale\":[[0.0,\"#0d0887\"],[0.1111111111111111,\"#46039f\"],[0.2222222222222222,\"#7201a8\"],[0.3333333333333333,\"#9c179e\"],[0.4444444444444444,\"#bd3786\"],[0.5555555555555556,\"#d8576b\"],[0.6666666666666666,\"#ed7953\"],[0.7777777777777778,\"#fb9f3a\"],[0.8888888888888888,\"#fdca26\"],[1.0,\"#f0f921\"]]}],\"heatmapgl\":[{\"type\":\"heatmapgl\",\"colorbar\":{\"outlinewidth\":0,\"ticks\":\"\"},\"colorscale\":[[0.0,\"#0d0887\"],[0.1111111111111111,\"#46039f\"],[0.2222222222222222,\"#7201a8\"],[0.3333333333333333,\"#9c179e\"],[0.4444444444444444,\"#bd3786\"],[0.5555555555555556,\"#d8576b\"],[0.6666666666666666,\"#ed7953\"],[0.7777777777777778,\"#fb9f3a\"],[0.8888888888888888,\"#fdca26\"],[1.0,\"#f0f921\"]]}],\"contourcarpet\":[{\"type\":\"contourcarpet\",\"colorbar\":{\"outlinewidth\":0,\"ticks\":\"\"}}],\"contour\":[{\"type\":\"contour\",\"colorbar\":{\"outlinewidth\":0,\"ticks\":\"\"},\"colorscale\":[[0.0,\"#0d0887\"],[0.1111111111111111,\"#46039f\"],[0.2222222222222222,\"#7201a8\"],[0.3333333333333333,\"#9c179e\"],[0.4444444444444444,\"#bd3786\"],[0.5555555555555556,\"#d8576b\"],[0.6666666666666666,\"#ed7953\"],[0.7777777777777778,\"#fb9f3a\"],[0.8888888888888888,\"#fdca26\"],[1.0,\"#f0f921\"]]}],\"surface\":[{\"type\":\"surface\",\"colorbar\":{\"outlinewidth\":0,\"ticks\":\"\"},\"colorscale\":[[0.0,\"#0d0887\"],[0.1111111111111111,\"#46039f\"],[0.2222222222222222,\"#7201a8\"],[0.3333333333333333,\"#9c179e\"],[0.4444444444444444,\"#bd3786\"],[0.5555555555555556,\"#d8576b\"],[0.6666666666666666,\"#ed7953\"],[0.7777777777777778,\"#fb9f3a\"],[0.8888888888888888,\"#fdca26\"],[1.0,\"#f0f921\"]]}],\"mesh3d\":[{\"type\":\"mesh3d\",\"colorbar\":{\"outlinewidth\":0,\"ticks\":\"\"}}],\"scatter\":[{\"fillpattern\":{\"fillmode\":\"overlay\",\"size\":10,\"solidity\":0.2},\"type\":\"scatter\"}],\"parcoords\":[{\"type\":\"parcoords\",\"line\":{\"colorbar\":{\"outlinewidth\":0,\"ticks\":\"\"}}}],\"scatterpolargl\":[{\"type\":\"scatterpolargl\",\"marker\":{\"colorbar\":{\"outlinewidth\":0,\"ticks\":\"\"}}}],\"bar\":[{\"error_x\":{\"color\":\"#2a3f5f\"},\"error_y\":{\"color\":\"#2a3f5f\"},\"marker\":{\"line\":{\"color\":\"#E5ECF6\",\"width\":0.5},\"pattern\":{\"fillmode\":\"overlay\",\"size\":10,\"solidity\":0.2}},\"type\":\"bar\"}],\"scattergeo\":[{\"type\":\"scattergeo\",\"marker\":{\"colorbar\":{\"outlinewidth\":0,\"ticks\":\"\"}}}],\"scatterpolar\":[{\"type\":\"scatterpolar\",\"marker\":{\"colorbar\":{\"outlinewidth\":0,\"ticks\":\"\"}}}],\"histogram\":[{\"marker\":{\"pattern\":{\"fillmode\":\"overlay\",\"size\":10,\"solidity\":0.2}},\"type\":\"histogram\"}],\"scattergl\":[{\"type\":\"scattergl\",\"marker\":{\"colorbar\":{\"outlinewidth\":0,\"ticks\":\"\"}}}],\"scatter3d\":[{\"type\":\"scatter3d\",\"line\":{\"colorbar\":{\"outlinewidth\":0,\"ticks\":\"\"}},\"marker\":{\"colorbar\":{\"outlinewidth\":0,\"ticks\":\"\"}}}],\"scattermapbox\":[{\"type\":\"scattermapbox\",\"marker\":{\"colorbar\":{\"outlinewidth\":0,\"ticks\":\"\"}}}],\"scatterternary\":[{\"type\":\"scatterternary\",\"marker\":{\"colorbar\":{\"outlinewidth\":0,\"ticks\":\"\"}}}],\"scattercarpet\":[{\"type\":\"scattercarpet\",\"marker\":{\"colorbar\":{\"outlinewidth\":0,\"ticks\":\"\"}}}],\"carpet\":[{\"aaxis\":{\"endlinecolor\":\"#2a3f5f\",\"gridcolor\":\"white\",\"linecolor\":\"white\",\"minorgridcolor\":\"white\",\"startlinecolor\":\"#2a3f5f\"},\"baxis\":{\"endlinecolor\":\"#2a3f5f\",\"gridcolor\":\"white\",\"linecolor\":\"white\",\"minorgridcolor\":\"white\",\"startlinecolor\":\"#2a3f5f\"},\"type\":\"carpet\"}],\"table\":[{\"cells\":{\"fill\":{\"color\":\"#EBF0F8\"},\"line\":{\"color\":\"white\"}},\"header\":{\"fill\":{\"color\":\"#C8D4E3\"},\"line\":{\"color\":\"white\"}},\"type\":\"table\"}],\"barpolar\":[{\"marker\":{\"line\":{\"color\":\"#E5ECF6\",\"width\":0.5},\"pattern\":{\"fillmode\":\"overlay\",\"size\":10,\"solidity\":0.2}},\"type\":\"barpolar\"}],\"pie\":[{\"automargin\":true,\"type\":\"pie\"}]},\"layout\":{\"autotypenumbers\":\"strict\",\"colorway\":[\"#636efa\",\"#EF553B\",\"#00cc96\",\"#ab63fa\",\"#FFA15A\",\"#19d3f3\",\"#FF6692\",\"#B6E880\",\"#FF97FF\",\"#FECB52\"],\"font\":{\"color\":\"#2a3f5f\"},\"hovermode\":\"closest\",\"hoverlabel\":{\"align\":\"left\"},\"paper_bgcolor\":\"white\",\"plot_bgcolor\":\"#E5ECF6\",\"polar\":{\"bgcolor\":\"#E5ECF6\",\"angularaxis\":{\"gridcolor\":\"white\",\"linecolor\":\"white\",\"ticks\":\"\"},\"radialaxis\":{\"gridcolor\":\"white\",\"linecolor\":\"white\",\"ticks\":\"\"}},\"ternary\":{\"bgcolor\":\"#E5ECF6\",\"aaxis\":{\"gridcolor\":\"white\",\"linecolor\":\"white\",\"ticks\":\"\"},\"baxis\":{\"gridcolor\":\"white\",\"linecolor\":\"white\",\"ticks\":\"\"},\"caxis\":{\"gridcolor\":\"white\",\"linecolor\":\"white\",\"ticks\":\"\"}},\"coloraxis\":{\"colorbar\":{\"outlinewidth\":0,\"ticks\":\"\"}},\"colorscale\":{\"sequential\":[[0.0,\"#0d0887\"],[0.1111111111111111,\"#46039f\"],[0.2222222222222222,\"#7201a8\"],[0.3333333333333333,\"#9c179e\"],[0.4444444444444444,\"#bd3786\"],[0.5555555555555556,\"#d8576b\"],[0.6666666666666666,\"#ed7953\"],[0.7777777777777778,\"#fb9f3a\"],[0.8888888888888888,\"#fdca26\"],[1.0,\"#f0f921\"]],\"sequentialminus\":[[0.0,\"#0d0887\"],[0.1111111111111111,\"#46039f\"],[0.2222222222222222,\"#7201a8\"],[0.3333333333333333,\"#9c179e\"],[0.4444444444444444,\"#bd3786\"],[0.5555555555555556,\"#d8576b\"],[0.6666666666666666,\"#ed7953\"],[0.7777777777777778,\"#fb9f3a\"],[0.8888888888888888,\"#fdca26\"],[1.0,\"#f0f921\"]],\"diverging\":[[0,\"#8e0152\"],[0.1,\"#c51b7d\"],[0.2,\"#de77ae\"],[0.3,\"#f1b6da\"],[0.4,\"#fde0ef\"],[0.5,\"#f7f7f7\"],[0.6,\"#e6f5d0\"],[0.7,\"#b8e186\"],[0.8,\"#7fbc41\"],[0.9,\"#4d9221\"],[1,\"#276419\"]]},\"xaxis\":{\"gridcolor\":\"white\",\"linecolor\":\"white\",\"ticks\":\"\",\"title\":{\"standoff\":15},\"zerolinecolor\":\"white\",\"automargin\":true,\"zerolinewidth\":2},\"yaxis\":{\"gridcolor\":\"white\",\"linecolor\":\"white\",\"ticks\":\"\",\"title\":{\"standoff\":15},\"zerolinecolor\":\"white\",\"automargin\":true,\"zerolinewidth\":2},\"scene\":{\"xaxis\":{\"backgroundcolor\":\"#E5ECF6\",\"gridcolor\":\"white\",\"linecolor\":\"white\",\"showbackground\":true,\"ticks\":\"\",\"zerolinecolor\":\"white\",\"gridwidth\":2},\"yaxis\":{\"backgroundcolor\":\"#E5ECF6\",\"gridcolor\":\"white\",\"linecolor\":\"white\",\"showbackground\":true,\"ticks\":\"\",\"zerolinecolor\":\"white\",\"gridwidth\":2},\"zaxis\":{\"backgroundcolor\":\"#E5ECF6\",\"gridcolor\":\"white\",\"linecolor\":\"white\",\"showbackground\":true,\"ticks\":\"\",\"zerolinecolor\":\"white\",\"gridwidth\":2}},\"shapedefaults\":{\"line\":{\"color\":\"#2a3f5f\"}},\"annotationdefaults\":{\"arrowcolor\":\"#2a3f5f\",\"arrowhead\":0,\"arrowwidth\":1},\"geo\":{\"bgcolor\":\"white\",\"landcolor\":\"#E5ECF6\",\"subunitcolor\":\"white\",\"showland\":true,\"showlakes\":true,\"lakecolor\":\"white\"},\"title\":{\"x\":0.05},\"mapbox\":{\"style\":\"light\"}}},\"title\":{\"text\":\"\\u042f\\u043f\\u043e\\u043d\\u0441\\u043a\\u0438\\u0435 \\u0441\\u0432\\u0435\\u0447\\u0438\"},\"xaxis\":{\"title\":{\"text\":\"\\u0427\\u0430\\u0441\\u044b\"}},\"yaxis\":{\"title\":{\"text\":\"\\u0426\\u0435\\u043d\\u0430\"}}},                        {\"responsive\": true}                    ).then(function(){\n",
              "                            \n",
              "var gd = document.getElementById('93da6a93-8127-489d-8105-2c16a085b78d');\n",
              "var x = new MutationObserver(function (mutations, observer) {{\n",
              "        var display = window.getComputedStyle(gd).display;\n",
              "        if (!display || display === 'none') {{\n",
              "            console.log([gd, 'removed!']);\n",
              "            Plotly.purge(gd);\n",
              "            observer.disconnect();\n",
              "        }}\n",
              "}});\n",
              "\n",
              "// Listen for the removal of the full notebook cells\n",
              "var notebookContainer = gd.closest('#notebook-container');\n",
              "if (notebookContainer) {{\n",
              "    x.observe(notebookContainer, {childList: true});\n",
              "}}\n",
              "\n",
              "// Listen for the clearing of the current output cell\n",
              "var outputEl = gd.closest('.output');\n",
              "if (outputEl) {{\n",
              "    x.observe(outputEl, {childList: true});\n",
              "}}\n",
              "\n",
              "                        })                };                            </script>        </div>\n",
              "</body>\n",
              "</html>"
            ]
          },
          "metadata": {}
        }
      ]
    },
    {
      "cell_type": "markdown",
      "source": [
        "**Дан временной ряд. Постройте на его основе сглаженные ряды методом скользящего среднего (SMA offline) с указанной далее шириной окна. На основе полученных значений нарисуйте линейные графики.**"
      ],
      "metadata": {
        "id": "RH3cOeUnGgXl"
      }
    },
    {
      "cell_type": "markdown",
      "source": [
        "**Используется метод SMA offline с шириной окна равной трем.\n",
        "Какое сглаженное значение будет соответствовать пятому элементу исходного ряда?**"
      ],
      "metadata": {
        "id": "jJptqWUzNGAt"
      }
    },
    {
      "cell_type": "code",
      "source": [
        "arr = [34, 32, 37, 33, 38, 35, 39, 34, 39, 35, 37, 32, 35, 37, 39, 36, 43, 34, 32, 36, 37, 35]"
      ],
      "metadata": {
        "id": "8eNJYpmDJ-3y"
      },
      "execution_count": null,
      "outputs": []
    },
    {
      "cell_type": "code",
      "source": [
        "df = pd.DataFrame(arr, columns=['name'], index=np.arange(1, 23))\n",
        "df"
      ],
      "metadata": {
        "colab": {
          "base_uri": "https://localhost:8080/",
          "height": 731
        },
        "id": "B_XDS_VaKpCS",
        "outputId": "8b93bf84-34a2-41c5-e98f-21b800fda0b6"
      },
      "execution_count": null,
      "outputs": [
        {
          "output_type": "execute_result",
          "data": {
            "text/plain": [
              "    name\n",
              "1     34\n",
              "2     32\n",
              "3     37\n",
              "4     33\n",
              "5     38\n",
              "6     35\n",
              "7     39\n",
              "8     34\n",
              "9     39\n",
              "10    35\n",
              "11    37\n",
              "12    32\n",
              "13    35\n",
              "14    37\n",
              "15    39\n",
              "16    36\n",
              "17    43\n",
              "18    34\n",
              "19    32\n",
              "20    36\n",
              "21    37\n",
              "22    35"
            ],
            "text/html": [
              "\n",
              "  <div id=\"df-c88ed65e-3995-41dd-a181-23b2ccf4764d\" class=\"colab-df-container\">\n",
              "    <div>\n",
              "<style scoped>\n",
              "    .dataframe tbody tr th:only-of-type {\n",
              "        vertical-align: middle;\n",
              "    }\n",
              "\n",
              "    .dataframe tbody tr th {\n",
              "        vertical-align: top;\n",
              "    }\n",
              "\n",
              "    .dataframe thead th {\n",
              "        text-align: right;\n",
              "    }\n",
              "</style>\n",
              "<table border=\"1\" class=\"dataframe\">\n",
              "  <thead>\n",
              "    <tr style=\"text-align: right;\">\n",
              "      <th></th>\n",
              "      <th>name</th>\n",
              "    </tr>\n",
              "  </thead>\n",
              "  <tbody>\n",
              "    <tr>\n",
              "      <th>1</th>\n",
              "      <td>34</td>\n",
              "    </tr>\n",
              "    <tr>\n",
              "      <th>2</th>\n",
              "      <td>32</td>\n",
              "    </tr>\n",
              "    <tr>\n",
              "      <th>3</th>\n",
              "      <td>37</td>\n",
              "    </tr>\n",
              "    <tr>\n",
              "      <th>4</th>\n",
              "      <td>33</td>\n",
              "    </tr>\n",
              "    <tr>\n",
              "      <th>5</th>\n",
              "      <td>38</td>\n",
              "    </tr>\n",
              "    <tr>\n",
              "      <th>6</th>\n",
              "      <td>35</td>\n",
              "    </tr>\n",
              "    <tr>\n",
              "      <th>7</th>\n",
              "      <td>39</td>\n",
              "    </tr>\n",
              "    <tr>\n",
              "      <th>8</th>\n",
              "      <td>34</td>\n",
              "    </tr>\n",
              "    <tr>\n",
              "      <th>9</th>\n",
              "      <td>39</td>\n",
              "    </tr>\n",
              "    <tr>\n",
              "      <th>10</th>\n",
              "      <td>35</td>\n",
              "    </tr>\n",
              "    <tr>\n",
              "      <th>11</th>\n",
              "      <td>37</td>\n",
              "    </tr>\n",
              "    <tr>\n",
              "      <th>12</th>\n",
              "      <td>32</td>\n",
              "    </tr>\n",
              "    <tr>\n",
              "      <th>13</th>\n",
              "      <td>35</td>\n",
              "    </tr>\n",
              "    <tr>\n",
              "      <th>14</th>\n",
              "      <td>37</td>\n",
              "    </tr>\n",
              "    <tr>\n",
              "      <th>15</th>\n",
              "      <td>39</td>\n",
              "    </tr>\n",
              "    <tr>\n",
              "      <th>16</th>\n",
              "      <td>36</td>\n",
              "    </tr>\n",
              "    <tr>\n",
              "      <th>17</th>\n",
              "      <td>43</td>\n",
              "    </tr>\n",
              "    <tr>\n",
              "      <th>18</th>\n",
              "      <td>34</td>\n",
              "    </tr>\n",
              "    <tr>\n",
              "      <th>19</th>\n",
              "      <td>32</td>\n",
              "    </tr>\n",
              "    <tr>\n",
              "      <th>20</th>\n",
              "      <td>36</td>\n",
              "    </tr>\n",
              "    <tr>\n",
              "      <th>21</th>\n",
              "      <td>37</td>\n",
              "    </tr>\n",
              "    <tr>\n",
              "      <th>22</th>\n",
              "      <td>35</td>\n",
              "    </tr>\n",
              "  </tbody>\n",
              "</table>\n",
              "</div>\n",
              "    <div class=\"colab-df-buttons\">\n",
              "\n",
              "  <div class=\"colab-df-container\">\n",
              "    <button class=\"colab-df-convert\" onclick=\"convertToInteractive('df-c88ed65e-3995-41dd-a181-23b2ccf4764d')\"\n",
              "            title=\"Convert this dataframe to an interactive table.\"\n",
              "            style=\"display:none;\">\n",
              "\n",
              "  <svg xmlns=\"http://www.w3.org/2000/svg\" height=\"24px\" viewBox=\"0 -960 960 960\">\n",
              "    <path d=\"M120-120v-720h720v720H120Zm60-500h600v-160H180v160Zm220 220h160v-160H400v160Zm0 220h160v-160H400v160ZM180-400h160v-160H180v160Zm440 0h160v-160H620v160ZM180-180h160v-160H180v160Zm440 0h160v-160H620v160Z\"/>\n",
              "  </svg>\n",
              "    </button>\n",
              "\n",
              "  <style>\n",
              "    .colab-df-container {\n",
              "      display:flex;\n",
              "      gap: 12px;\n",
              "    }\n",
              "\n",
              "    .colab-df-convert {\n",
              "      background-color: #E8F0FE;\n",
              "      border: none;\n",
              "      border-radius: 50%;\n",
              "      cursor: pointer;\n",
              "      display: none;\n",
              "      fill: #1967D2;\n",
              "      height: 32px;\n",
              "      padding: 0 0 0 0;\n",
              "      width: 32px;\n",
              "    }\n",
              "\n",
              "    .colab-df-convert:hover {\n",
              "      background-color: #E2EBFA;\n",
              "      box-shadow: 0px 1px 2px rgba(60, 64, 67, 0.3), 0px 1px 3px 1px rgba(60, 64, 67, 0.15);\n",
              "      fill: #174EA6;\n",
              "    }\n",
              "\n",
              "    .colab-df-buttons div {\n",
              "      margin-bottom: 4px;\n",
              "    }\n",
              "\n",
              "    [theme=dark] .colab-df-convert {\n",
              "      background-color: #3B4455;\n",
              "      fill: #D2E3FC;\n",
              "    }\n",
              "\n",
              "    [theme=dark] .colab-df-convert:hover {\n",
              "      background-color: #434B5C;\n",
              "      box-shadow: 0px 1px 3px 1px rgba(0, 0, 0, 0.15);\n",
              "      filter: drop-shadow(0px 1px 2px rgba(0, 0, 0, 0.3));\n",
              "      fill: #FFFFFF;\n",
              "    }\n",
              "  </style>\n",
              "\n",
              "    <script>\n",
              "      const buttonEl =\n",
              "        document.querySelector('#df-c88ed65e-3995-41dd-a181-23b2ccf4764d button.colab-df-convert');\n",
              "      buttonEl.style.display =\n",
              "        google.colab.kernel.accessAllowed ? 'block' : 'none';\n",
              "\n",
              "      async function convertToInteractive(key) {\n",
              "        const element = document.querySelector('#df-c88ed65e-3995-41dd-a181-23b2ccf4764d');\n",
              "        const dataTable =\n",
              "          await google.colab.kernel.invokeFunction('convertToInteractive',\n",
              "                                                    [key], {});\n",
              "        if (!dataTable) return;\n",
              "\n",
              "        const docLinkHtml = 'Like what you see? Visit the ' +\n",
              "          '<a target=\"_blank\" href=https://colab.research.google.com/notebooks/data_table.ipynb>data table notebook</a>'\n",
              "          + ' to learn more about interactive tables.';\n",
              "        element.innerHTML = '';\n",
              "        dataTable['output_type'] = 'display_data';\n",
              "        await google.colab.output.renderOutput(dataTable, element);\n",
              "        const docLink = document.createElement('div');\n",
              "        docLink.innerHTML = docLinkHtml;\n",
              "        element.appendChild(docLink);\n",
              "      }\n",
              "    </script>\n",
              "  </div>\n",
              "\n",
              "\n",
              "<div id=\"df-0f69a816-f966-4149-94dd-08d14013228f\">\n",
              "  <button class=\"colab-df-quickchart\" onclick=\"quickchart('df-0f69a816-f966-4149-94dd-08d14013228f')\"\n",
              "            title=\"Suggest charts\"\n",
              "            style=\"display:none;\">\n",
              "\n",
              "<svg xmlns=\"http://www.w3.org/2000/svg\" height=\"24px\"viewBox=\"0 0 24 24\"\n",
              "     width=\"24px\">\n",
              "    <g>\n",
              "        <path d=\"M19 3H5c-1.1 0-2 .9-2 2v14c0 1.1.9 2 2 2h14c1.1 0 2-.9 2-2V5c0-1.1-.9-2-2-2zM9 17H7v-7h2v7zm4 0h-2V7h2v10zm4 0h-2v-4h2v4z\"/>\n",
              "    </g>\n",
              "</svg>\n",
              "  </button>\n",
              "\n",
              "<style>\n",
              "  .colab-df-quickchart {\n",
              "      --bg-color: #E8F0FE;\n",
              "      --fill-color: #1967D2;\n",
              "      --hover-bg-color: #E2EBFA;\n",
              "      --hover-fill-color: #174EA6;\n",
              "      --disabled-fill-color: #AAA;\n",
              "      --disabled-bg-color: #DDD;\n",
              "  }\n",
              "\n",
              "  [theme=dark] .colab-df-quickchart {\n",
              "      --bg-color: #3B4455;\n",
              "      --fill-color: #D2E3FC;\n",
              "      --hover-bg-color: #434B5C;\n",
              "      --hover-fill-color: #FFFFFF;\n",
              "      --disabled-bg-color: #3B4455;\n",
              "      --disabled-fill-color: #666;\n",
              "  }\n",
              "\n",
              "  .colab-df-quickchart {\n",
              "    background-color: var(--bg-color);\n",
              "    border: none;\n",
              "    border-radius: 50%;\n",
              "    cursor: pointer;\n",
              "    display: none;\n",
              "    fill: var(--fill-color);\n",
              "    height: 32px;\n",
              "    padding: 0;\n",
              "    width: 32px;\n",
              "  }\n",
              "\n",
              "  .colab-df-quickchart:hover {\n",
              "    background-color: var(--hover-bg-color);\n",
              "    box-shadow: 0 1px 2px rgba(60, 64, 67, 0.3), 0 1px 3px 1px rgba(60, 64, 67, 0.15);\n",
              "    fill: var(--button-hover-fill-color);\n",
              "  }\n",
              "\n",
              "  .colab-df-quickchart-complete:disabled,\n",
              "  .colab-df-quickchart-complete:disabled:hover {\n",
              "    background-color: var(--disabled-bg-color);\n",
              "    fill: var(--disabled-fill-color);\n",
              "    box-shadow: none;\n",
              "  }\n",
              "\n",
              "  .colab-df-spinner {\n",
              "    border: 2px solid var(--fill-color);\n",
              "    border-color: transparent;\n",
              "    border-bottom-color: var(--fill-color);\n",
              "    animation:\n",
              "      spin 1s steps(1) infinite;\n",
              "  }\n",
              "\n",
              "  @keyframes spin {\n",
              "    0% {\n",
              "      border-color: transparent;\n",
              "      border-bottom-color: var(--fill-color);\n",
              "      border-left-color: var(--fill-color);\n",
              "    }\n",
              "    20% {\n",
              "      border-color: transparent;\n",
              "      border-left-color: var(--fill-color);\n",
              "      border-top-color: var(--fill-color);\n",
              "    }\n",
              "    30% {\n",
              "      border-color: transparent;\n",
              "      border-left-color: var(--fill-color);\n",
              "      border-top-color: var(--fill-color);\n",
              "      border-right-color: var(--fill-color);\n",
              "    }\n",
              "    40% {\n",
              "      border-color: transparent;\n",
              "      border-right-color: var(--fill-color);\n",
              "      border-top-color: var(--fill-color);\n",
              "    }\n",
              "    60% {\n",
              "      border-color: transparent;\n",
              "      border-right-color: var(--fill-color);\n",
              "    }\n",
              "    80% {\n",
              "      border-color: transparent;\n",
              "      border-right-color: var(--fill-color);\n",
              "      border-bottom-color: var(--fill-color);\n",
              "    }\n",
              "    90% {\n",
              "      border-color: transparent;\n",
              "      border-bottom-color: var(--fill-color);\n",
              "    }\n",
              "  }\n",
              "</style>\n",
              "\n",
              "  <script>\n",
              "    async function quickchart(key) {\n",
              "      const quickchartButtonEl =\n",
              "        document.querySelector('#' + key + ' button');\n",
              "      quickchartButtonEl.disabled = true;  // To prevent multiple clicks.\n",
              "      quickchartButtonEl.classList.add('colab-df-spinner');\n",
              "      try {\n",
              "        const charts = await google.colab.kernel.invokeFunction(\n",
              "            'suggestCharts', [key], {});\n",
              "      } catch (error) {\n",
              "        console.error('Error during call to suggestCharts:', error);\n",
              "      }\n",
              "      quickchartButtonEl.classList.remove('colab-df-spinner');\n",
              "      quickchartButtonEl.classList.add('colab-df-quickchart-complete');\n",
              "    }\n",
              "    (() => {\n",
              "      let quickchartButtonEl =\n",
              "        document.querySelector('#df-0f69a816-f966-4149-94dd-08d14013228f button');\n",
              "      quickchartButtonEl.style.display =\n",
              "        google.colab.kernel.accessAllowed ? 'block' : 'none';\n",
              "    })();\n",
              "  </script>\n",
              "</div>\n",
              "    </div>\n",
              "  </div>\n"
            ],
            "application/vnd.google.colaboratory.intrinsic+json": {
              "type": "dataframe",
              "variable_name": "df",
              "summary": "{\n  \"name\": \"df\",\n  \"rows\": 22,\n  \"fields\": [\n    {\n      \"column\": \"name\",\n      \"properties\": {\n        \"dtype\": \"number\",\n        \"std\": 2,\n        \"min\": 32,\n        \"max\": 43,\n        \"num_unique_values\": 9,\n        \"samples\": [\n          36,\n          32,\n          35\n        ],\n        \"semantic_type\": \"\",\n        \"description\": \"\"\n      }\n    }\n  ]\n}"
            }
          },
          "metadata": {},
          "execution_count": 12
        }
      ]
    },
    {
      "cell_type": "code",
      "source": [
        "df['name'].rolling(3).mean().plot()\n"
      ],
      "metadata": {
        "colab": {
          "base_uri": "https://localhost:8080/",
          "height": 447
        },
        "id": "QjSPnOFlGzwK",
        "outputId": "7bf07925-418c-4869-8b1a-c80d5a0831c0"
      },
      "execution_count": null,
      "outputs": [
        {
          "output_type": "execute_result",
          "data": {
            "text/plain": [
              "<Axes: >"
            ]
          },
          "metadata": {},
          "execution_count": 16
        },
        {
          "output_type": "display_data",
          "data": {
            "text/plain": [
              "<Figure size 640x480 with 1 Axes>"
            ],
            "image/png": "[encoded data removed]"
          },
          "metadata": {}
        }
      ]
    },
    {
      "cell_type": "code",
      "source": [
        "df.rolling(7).mean().plot()"
      ],
      "metadata": {
        "colab": {
          "base_uri": "https://localhost:8080/",
          "height": 447
        },
        "id": "JDReeyX5NP-L",
        "outputId": "1a19ad3a-d995-4a9c-ca43-8a2a8e185806"
      },
      "execution_count": null,
      "outputs": [
        {
          "output_type": "execute_result",
          "data": {
            "text/plain": [
              "<Axes: >"
            ]
          },
          "metadata": {},
          "execution_count": 206
        },
        {
          "output_type": "display_data",
          "data": {
            "text/plain": [
              "<Figure size 640x480 with 1 Axes>"
            ],
            "image/png": "[encoded data removed]"
          },
          "metadata": {}
        }
      ]
    },
    {
      "cell_type": "code",
      "source": [
        "def exponential_smoothing(series, alpha):\n",
        "    result = [series[0]] # first value is same as series\n",
        "    for n in range(1, len(series)):\n",
        "        result.append(alpha * series[n] + (1 - alpha) * result[n-1])\n",
        "    return result"
      ],
      "metadata": {
        "id": "tyU6ej64PFAH"
      },
      "execution_count": null,
      "outputs": []
    },
    {
      "cell_type": "code",
      "source": [
        "exp_smooth = exponential_smoothing(arr, 0.1)\n",
        "pd.DataFrame(exp_smooth, columns=['name'])['name'].plot()"
      ],
      "metadata": {
        "colab": {
          "base_uri": "https://localhost:8080/",
          "height": 449
        },
        "id": "H2bBxympPGVd",
        "outputId": "25e1aaa8-aede-4d18-e891-e19693bd7095"
      },
      "execution_count": null,
      "outputs": [
        {
          "output_type": "execute_result",
          "data": {
            "text/plain": [
              "<Axes: >"
            ]
          },
          "metadata": {},
          "execution_count": 228
        },
        {
          "output_type": "display_data",
          "data": {
            "text/plain": [
              "<Figure size 640x480 with 1 Axes>"
            ],
            "image/png": "[encoded data removed]"
          },
          "metadata": {}
        }
      ]
    },
    {
      "cell_type": "markdown",
      "source": [
        "Задан временной ряд  из  элементов (см. файл). Ряд содержит шумы. Проведите экспоненциальное сглаживание временного ряда. При сглаживании используйте коэффициент сглаживания.\n",
        "\n",
        "Постройте линейный тренд для этого же исходного временного ряда.\n",
        "\n",
        "Определите, насколько хорошо линейный тренд аппроксимирует значения временного ряда.\n",
        "\n",
        "Определите коэффициент  линейного тренда, задаваемого уравнением вида: y = a * x + b"
      ],
      "metadata": {
        "id": "GUo92X_3guO0"
      }
    },
    {
      "cell_type": "code",
      "source": [
        "ds = pd.read_csv('https://dc-edu.itmo.ru/assets/courseware/v1/a148bf1493b6b8991a50d1460ce585bb/asset-v1:ITMO+DA+2024+type@asset+block/task5_364950.csv')\n",
        "ds.index += 1\n",
        "ds"
      ],
      "metadata": {
        "colab": {
          "base_uri": "https://localhost:8080/",
          "height": 419
        },
        "id": "PmeG_qhVgt-q",
        "outputId": "5cdd8186-9cce-4476-b009-21dc9197260c"
      },
      "execution_count": null,
      "outputs": [
        {
          "output_type": "execute_result",
          "data": {
            "text/plain": [
              "       y\n",
              "1     11\n",
              "2     23\n",
              "3     26\n",
              "4     17\n",
              "5     39\n",
              "..   ...\n",
              "96   126\n",
              "97   138\n",
              "98   130\n",
              "99   150\n",
              "100  148\n",
              "\n",
              "[100 rows x 1 columns]"
            ],
            "text/html": [
              "\n",
              "  <div id=\"df-f375cef6-8dbc-4ae7-9d2b-e41ce48a273b\" class=\"colab-df-container\">\n",
              "    <div>\n",
              "<style scoped>\n",
              "    .dataframe tbody tr th:only-of-type {\n",
              "        vertical-align: middle;\n",
              "    }\n",
              "\n",
              "    .dataframe tbody tr th {\n",
              "        vertical-align: top;\n",
              "    }\n",
              "\n",
              "    .dataframe thead th {\n",
              "        text-align: right;\n",
              "    }\n",
              "</style>\n",
              "<table border=\"1\" class=\"dataframe\">\n",
              "  <thead>\n",
              "    <tr style=\"text-align: right;\">\n",
              "      <th></th>\n",
              "      <th>y</th>\n",
              "    </tr>\n",
              "  </thead>\n",
              "  <tbody>\n",
              "    <tr>\n",
              "      <th>1</th>\n",
              "      <td>11</td>\n",
              "    </tr>\n",
              "    <tr>\n",
              "      <th>2</th>\n",
              "      <td>23</td>\n",
              "    </tr>\n",
              "    <tr>\n",
              "      <th>3</th>\n",
              "      <td>26</td>\n",
              "    </tr>\n",
              "    <tr>\n",
              "      <th>4</th>\n",
              "      <td>17</td>\n",
              "    </tr>\n",
              "    <tr>\n",
              "      <th>5</th>\n",
              "      <td>39</td>\n",
              "    </tr>\n",
              "    <tr>\n",
              "      <th>...</th>\n",
              "      <td>...</td>\n",
              "    </tr>\n",
              "    <tr>\n",
              "      <th>96</th>\n",
              "      <td>126</td>\n",
              "    </tr>\n",
              "    <tr>\n",
              "      <th>97</th>\n",
              "      <td>138</td>\n",
              "    </tr>\n",
              "    <tr>\n",
              "      <th>98</th>\n",
              "      <td>130</td>\n",
              "    </tr>\n",
              "    <tr>\n",
              "      <th>99</th>\n",
              "      <td>150</td>\n",
              "    </tr>\n",
              "    <tr>\n",
              "      <th>100</th>\n",
              "      <td>148</td>\n",
              "    </tr>\n",
              "  </tbody>\n",
              "</table>\n",
              "<p>100 rows × 1 columns</p>\n",
              "</div>\n",
              "    <div class=\"colab-df-buttons\">\n",
              "\n",
              "  <div class=\"colab-df-container\">\n",
              "    <button class=\"colab-df-convert\" onclick=\"convertToInteractive('df-f375cef6-8dbc-4ae7-9d2b-e41ce48a273b')\"\n",
              "            title=\"Convert this dataframe to an interactive table.\"\n",
              "            style=\"display:none;\">\n",
              "\n",
              "  <svg xmlns=\"http://www.w3.org/2000/svg\" height=\"24px\" viewBox=\"0 -960 960 960\">\n",
              "    <path d=\"M120-120v-720h720v720H120Zm60-500h600v-160H180v160Zm220 220h160v-160H400v160Zm0 220h160v-160H400v160ZM180-400h160v-160H180v160Zm440 0h160v-160H620v160ZM180-180h160v-160H180v160Zm440 0h160v-160H620v160Z\"/>\n",
              "  </svg>\n",
              "    </button>\n",
              "\n",
              "  <style>\n",
              "    .colab-df-container {\n",
              "      display:flex;\n",
              "      gap: 12px;\n",
              "    }\n",
              "\n",
              "    .colab-df-convert {\n",
              "      background-color: #E8F0FE;\n",
              "      border: none;\n",
              "      border-radius: 50%;\n",
              "      cursor: pointer;\n",
              "      display: none;\n",
              "      fill: #1967D2;\n",
              "      height: 32px;\n",
              "      padding: 0 0 0 0;\n",
              "      width: 32px;\n",
              "    }\n",
              "\n",
              "    .colab-df-convert:hover {\n",
              "      background-color: #E2EBFA;\n",
              "      box-shadow: 0px 1px 2px rgba(60, 64, 67, 0.3), 0px 1px 3px 1px rgba(60, 64, 67, 0.15);\n",
              "      fill: #174EA6;\n",
              "    }\n",
              "\n",
              "    .colab-df-buttons div {\n",
              "      margin-bottom: 4px;\n",
              "    }\n",
              "\n",
              "    [theme=dark] .colab-df-convert {\n",
              "      background-color: #3B4455;\n",
              "      fill: #D2E3FC;\n",
              "    }\n",
              "\n",
              "    [theme=dark] .colab-df-convert:hover {\n",
              "      background-color: #434B5C;\n",
              "      box-shadow: 0px 1px 3px 1px rgba(0, 0, 0, 0.15);\n",
              "      filter: drop-shadow(0px 1px 2px rgba(0, 0, 0, 0.3));\n",
              "      fill: #FFFFFF;\n",
              "    }\n",
              "  </style>\n",
              "\n",
              "    <script>\n",
              "      const buttonEl =\n",
              "        document.querySelector('#df-f375cef6-8dbc-4ae7-9d2b-e41ce48a273b button.colab-df-convert');\n",
              "      buttonEl.style.display =\n",
              "        google.colab.kernel.accessAllowed ? 'block' : 'none';\n",
              "\n",
              "      async function convertToInteractive(key) {\n",
              "        const element = document.querySelector('#df-f375cef6-8dbc-4ae7-9d2b-e41ce48a273b');\n",
              "        const dataTable =\n",
              "          await google.colab.kernel.invokeFunction('convertToInteractive',\n",
              "                                                    [key], {});\n",
              "        if (!dataTable) return;\n",
              "\n",
              "        const docLinkHtml = 'Like what you see? Visit the ' +\n",
              "          '<a target=\"_blank\" href=https://colab.research.google.com/notebooks/data_table.ipynb>data table notebook</a>'\n",
              "          + ' to learn more about interactive tables.';\n",
              "        element.innerHTML = '';\n",
              "        dataTable['output_type'] = 'display_data';\n",
              "        await google.colab.output.renderOutput(dataTable, element);\n",
              "        const docLink = document.createElement('div');\n",
              "        docLink.innerHTML = docLinkHtml;\n",
              "        element.appendChild(docLink);\n",
              "      }\n",
              "    </script>\n",
              "  </div>\n",
              "\n",
              "\n",
              "<div id=\"df-ee0ae218-faec-4eae-856d-7cf27c017786\">\n",
              "  <button class=\"colab-df-quickchart\" onclick=\"quickchart('df-ee0ae218-faec-4eae-856d-7cf27c017786')\"\n",
              "            title=\"Suggest charts\"\n",
              "            style=\"display:none;\">\n",
              "\n",
              "<svg xmlns=\"http://www.w3.org/2000/svg\" height=\"24px\"viewBox=\"0 0 24 24\"\n",
              "     width=\"24px\">\n",
              "    <g>\n",
              "        <path d=\"M19 3H5c-1.1 0-2 .9-2 2v14c0 1.1.9 2 2 2h14c1.1 0 2-.9 2-2V5c0-1.1-.9-2-2-2zM9 17H7v-7h2v7zm4 0h-2V7h2v10zm4 0h-2v-4h2v4z\"/>\n",
              "    </g>\n",
              "</svg>\n",
              "  </button>\n",
              "\n",
              "<style>\n",
              "  .colab-df-quickchart {\n",
              "      --bg-color: #E8F0FE;\n",
              "      --fill-color: #1967D2;\n",
              "      --hover-bg-color: #E2EBFA;\n",
              "      --hover-fill-color: #174EA6;\n",
              "      --disabled-fill-color: #AAA;\n",
              "      --disabled-bg-color: #DDD;\n",
              "  }\n",
              "\n",
              "  [theme=dark] .colab-df-quickchart {\n",
              "      --bg-color: #3B4455;\n",
              "      --fill-color: #D2E3FC;\n",
              "      --hover-bg-color: #434B5C;\n",
              "      --hover-fill-color: #FFFFFF;\n",
              "      --disabled-bg-color: #3B4455;\n",
              "      --disabled-fill-color: #666;\n",
              "  }\n",
              "\n",
              "  .colab-df-quickchart {\n",
              "    background-color: var(--bg-color);\n",
              "    border: none;\n",
              "    border-radius: 50%;\n",
              "    cursor: pointer;\n",
              "    display: none;\n",
              "    fill: var(--fill-color);\n",
              "    height: 32px;\n",
              "    padding: 0;\n",
              "    width: 32px;\n",
              "  }\n",
              "\n",
              "  .colab-df-quickchart:hover {\n",
              "    background-color: var(--hover-bg-color);\n",
              "    box-shadow: 0 1px 2px rgba(60, 64, 67, 0.3), 0 1px 3px 1px rgba(60, 64, 67, 0.15);\n",
              "    fill: var(--button-hover-fill-color);\n",
              "  }\n",
              "\n",
              "  .colab-df-quickchart-complete:disabled,\n",
              "  .colab-df-quickchart-complete:disabled:hover {\n",
              "    background-color: var(--disabled-bg-color);\n",
              "    fill: var(--disabled-fill-color);\n",
              "    box-shadow: none;\n",
              "  }\n",
              "\n",
              "  .colab-df-spinner {\n",
              "    border: 2px solid var(--fill-color);\n",
              "    border-color: transparent;\n",
              "    border-bottom-color: var(--fill-color);\n",
              "    animation:\n",
              "      spin 1s steps(1) infinite;\n",
              "  }\n",
              "\n",
              "  @keyframes spin {\n",
              "    0% {\n",
              "      border-color: transparent;\n",
              "      border-bottom-color: var(--fill-color);\n",
              "      border-left-color: var(--fill-color);\n",
              "    }\n",
              "    20% {\n",
              "      border-color: transparent;\n",
              "      border-left-color: var(--fill-color);\n",
              "      border-top-color: var(--fill-color);\n",
              "    }\n",
              "    30% {\n",
              "      border-color: transparent;\n",
              "      border-left-color: var(--fill-color);\n",
              "      border-top-color: var(--fill-color);\n",
              "      border-right-color: var(--fill-color);\n",
              "    }\n",
              "    40% {\n",
              "      border-color: transparent;\n",
              "      border-right-color: var(--fill-color);\n",
              "      border-top-color: var(--fill-color);\n",
              "    }\n",
              "    60% {\n",
              "      border-color: transparent;\n",
              "      border-right-color: var(--fill-color);\n",
              "    }\n",
              "    80% {\n",
              "      border-color: transparent;\n",
              "      border-right-color: var(--fill-color);\n",
              "      border-bottom-color: var(--fill-color);\n",
              "    }\n",
              "    90% {\n",
              "      border-color: transparent;\n",
              "      border-bottom-color: var(--fill-color);\n",
              "    }\n",
              "  }\n",
              "</style>\n",
              "\n",
              "  <script>\n",
              "    async function quickchart(key) {\n",
              "      const quickchartButtonEl =\n",
              "        document.querySelector('#' + key + ' button');\n",
              "      quickchartButtonEl.disabled = true;  // To prevent multiple clicks.\n",
              "      quickchartButtonEl.classList.add('colab-df-spinner');\n",
              "      try {\n",
              "        const charts = await google.colab.kernel.invokeFunction(\n",
              "            'suggestCharts', [key], {});\n",
              "      } catch (error) {\n",
              "        console.error('Error during call to suggestCharts:', error);\n",
              "      }\n",
              "      quickchartButtonEl.classList.remove('colab-df-spinner');\n",
              "      quickchartButtonEl.classList.add('colab-df-quickchart-complete');\n",
              "    }\n",
              "    (() => {\n",
              "      let quickchartButtonEl =\n",
              "        document.querySelector('#df-ee0ae218-faec-4eae-856d-7cf27c017786 button');\n",
              "      quickchartButtonEl.style.display =\n",
              "        google.colab.kernel.accessAllowed ? 'block' : 'none';\n",
              "    })();\n",
              "  </script>\n",
              "</div>\n",
              "    </div>\n",
              "  </div>\n"
            ],
            "application/vnd.google.colaboratory.intrinsic+json": {
              "type": "dataframe",
              "variable_name": "ds",
              "summary": "{\n  \"name\": \"ds\",\n  \"rows\": 100,\n  \"fields\": [\n    {\n      \"column\": \"y\",\n      \"properties\": {\n        \"dtype\": \"number\",\n        \"std\": 37,\n        \"min\": 11,\n        \"max\": 150,\n        \"num_unique_values\": 71,\n        \"samples\": [\n          42,\n          11,\n          109\n        ],\n        \"semantic_type\": \"\",\n        \"description\": \"\"\n      }\n    }\n  ]\n}"
            }
          },
          "metadata": {},
          "execution_count": 64
        }
      ]
    },
    {
      "cell_type": "code",
      "source": [
        "ds['y_exp_norm'] = ds['y'].ewm(alpha=0.24, adjust=False).mean()\n",
        "ds.loc[[100]]"
      ],
      "metadata": {
        "colab": {
          "base_uri": "https://localhost:8080/",
          "height": 80
        },
        "id": "gbmDpJvvheby",
        "outputId": "2f80fd3e-9e69-47cf-80be-9c76308b58a6"
      },
      "execution_count": null,
      "outputs": [
        {
          "output_type": "execute_result",
          "data": {
            "text/plain": [
              "       y  y_exp_norm\n",
              "100  148  137.826509"
            ],
            "text/html": [
              "\n",
              "  <div id=\"df-0394a251-69bd-444d-bc02-75c7f51e0e8d\" class=\"colab-df-container\">\n",
              "    <div>\n",
              "<style scoped>\n",
              "    .dataframe tbody tr th:only-of-type {\n",
              "        vertical-align: middle;\n",
              "    }\n",
              "\n",
              "    .dataframe tbody tr th {\n",
              "        vertical-align: top;\n",
              "    }\n",
              "\n",
              "    .dataframe thead th {\n",
              "        text-align: right;\n",
              "    }\n",
              "</style>\n",
              "<table border=\"1\" class=\"dataframe\">\n",
              "  <thead>\n",
              "    <tr style=\"text-align: right;\">\n",
              "      <th></th>\n",
              "      <th>y</th>\n",
              "      <th>y_exp_norm</th>\n",
              "    </tr>\n",
              "  </thead>\n",
              "  <tbody>\n",
              "    <tr>\n",
              "      <th>100</th>\n",
              "      <td>148</td>\n",
              "      <td>137.826509</td>\n",
              "    </tr>\n",
              "  </tbody>\n",
              "</table>\n",
              "</div>\n",
              "    <div class=\"colab-df-buttons\">\n",
              "\n",
              "  <div class=\"colab-df-container\">\n",
              "    <button class=\"colab-df-convert\" onclick=\"convertToInteractive('df-0394a251-69bd-444d-bc02-75c7f51e0e8d')\"\n",
              "            title=\"Convert this dataframe to an interactive table.\"\n",
              "            style=\"display:none;\">\n",
              "\n",
              "  <svg xmlns=\"http://www.w3.org/2000/svg\" height=\"24px\" viewBox=\"0 -960 960 960\">\n",
              "    <path d=\"M120-120v-720h720v720H120Zm60-500h600v-160H180v160Zm220 220h160v-160H400v160Zm0 220h160v-160H400v160ZM180-400h160v-160H180v160Zm440 0h160v-160H620v160ZM180-180h160v-160H180v160Zm440 0h160v-160H620v160Z\"/>\n",
              "  </svg>\n",
              "    </button>\n",
              "\n",
              "  <style>\n",
              "    .colab-df-container {\n",
              "      display:flex;\n",
              "      gap: 12px;\n",
              "    }\n",
              "\n",
              "    .colab-df-convert {\n",
              "      background-color: #E8F0FE;\n",
              "      border: none;\n",
              "      border-radius: 50%;\n",
              "      cursor: pointer;\n",
              "      display: none;\n",
              "      fill: #1967D2;\n",
              "      height: 32px;\n",
              "      padding: 0 0 0 0;\n",
              "      width: 32px;\n",
              "    }\n",
              "\n",
              "    .colab-df-convert:hover {\n",
              "      background-color: #E2EBFA;\n",
              "      box-shadow: 0px 1px 2px rgba(60, 64, 67, 0.3), 0px 1px 3px 1px rgba(60, 64, 67, 0.15);\n",
              "      fill: #174EA6;\n",
              "    }\n",
              "\n",
              "    .colab-df-buttons div {\n",
              "      margin-bottom: 4px;\n",
              "    }\n",
              "\n",
              "    [theme=dark] .colab-df-convert {\n",
              "      background-color: #3B4455;\n",
              "      fill: #D2E3FC;\n",
              "    }\n",
              "\n",
              "    [theme=dark] .colab-df-convert:hover {\n",
              "      background-color: #434B5C;\n",
              "      box-shadow: 0px 1px 3px 1px rgba(0, 0, 0, 0.15);\n",
              "      filter: drop-shadow(0px 1px 2px rgba(0, 0, 0, 0.3));\n",
              "      fill: #FFFFFF;\n",
              "    }\n",
              "  </style>\n",
              "\n",
              "    <script>\n",
              "      const buttonEl =\n",
              "        document.querySelector('#df-0394a251-69bd-444d-bc02-75c7f51e0e8d button.colab-df-convert');\n",
              "      buttonEl.style.display =\n",
              "        google.colab.kernel.accessAllowed ? 'block' : 'none';\n",
              "\n",
              "      async function convertToInteractive(key) {\n",
              "        const element = document.querySelector('#df-0394a251-69bd-444d-bc02-75c7f51e0e8d');\n",
              "        const dataTable =\n",
              "          await google.colab.kernel.invokeFunction('convertToInteractive',\n",
              "                                                    [key], {});\n",
              "        if (!dataTable) return;\n",
              "\n",
              "        const docLinkHtml = 'Like what you see? Visit the ' +\n",
              "          '<a target=\"_blank\" href=https://colab.research.google.com/notebooks/data_table.ipynb>data table notebook</a>'\n",
              "          + ' to learn more about interactive tables.';\n",
              "        element.innerHTML = '';\n",
              "        dataTable['output_type'] = 'display_data';\n",
              "        await google.colab.output.renderOutput(dataTable, element);\n",
              "        const docLink = document.createElement('div');\n",
              "        docLink.innerHTML = docLinkHtml;\n",
              "        element.appendChild(docLink);\n",
              "      }\n",
              "    </script>\n",
              "  </div>\n",
              "\n",
              "    </div>\n",
              "  </div>\n"
            ],
            "application/vnd.google.colaboratory.intrinsic+json": {
              "type": "dataframe",
              "summary": "{\n  \"name\": \"ds\",\n  \"rows\": 1,\n  \"fields\": [\n    {\n      \"column\": \"y\",\n      \"properties\": {\n        \"dtype\": \"number\",\n        \"std\": null,\n        \"min\": 148,\n        \"max\": 148,\n        \"num_unique_values\": 1,\n        \"samples\": [\n          148\n        ],\n        \"semantic_type\": \"\",\n        \"description\": \"\"\n      }\n    },\n    {\n      \"column\": \"y_exp_norm\",\n      \"properties\": {\n        \"dtype\": \"number\",\n        \"std\": null,\n        \"min\": 137.8265086581112,\n        \"max\": 137.8265086581112,\n        \"num_unique_values\": 1,\n        \"samples\": [\n          137.8265086581112\n        ],\n        \"semantic_type\": \"\",\n        \"description\": \"\"\n      }\n    }\n  ]\n}"
            }
          },
          "metadata": {},
          "execution_count": 65
        }
      ]
    },
    {
      "cell_type": "code",
      "source": [
        "ds['y_exp_norm_user'] = exponential_smoothing(ds['y'].to_list(), 0.24)\n",
        "ds"
      ],
      "metadata": {
        "colab": {
          "base_uri": "https://localhost:8080/",
          "height": 419
        },
        "id": "YUR35J1mkElB",
        "outputId": "5120a575-70e5-4603-a7cb-2a86f8087043"
      },
      "execution_count": null,
      "outputs": [
        {
          "output_type": "execute_result",
          "data": {
            "text/plain": [
              "       y  y_exp_norm  y_exp_norm_user\n",
              "1     11   11.000000        11.000000\n",
              "2     23   13.880000        13.880000\n",
              "3     26   16.788800        16.788800\n",
              "4     17   16.839488        16.839488\n",
              "5     39   22.158011        22.158011\n",
              "..   ...         ...              ...\n",
              "96   126  127.049577       127.049577\n",
              "97   138  129.677679       129.677679\n",
              "98   130  129.755036       129.755036\n",
              "99   150  134.613827       134.613827\n",
              "100  148  137.826509       137.826509\n",
              "\n",
              "[100 rows x 3 columns]"
            ],
            "text/html": [
              "\n",
              "  <div id=\"df-4e96759c-ac84-4d76-99ea-58a1bb95cb81\" class=\"colab-df-container\">\n",
              "    <div>\n",
              "<style scoped>\n",
              "    .dataframe tbody tr th:only-of-type {\n",
              "        vertical-align: middle;\n",
              "    }\n",
              "\n",
              "    .dataframe tbody tr th {\n",
              "        vertical-align: top;\n",
              "    }\n",
              "\n",
              "    .dataframe thead th {\n",
              "        text-align: right;\n",
              "    }\n",
              "</style>\n",
              "<table border=\"1\" class=\"dataframe\">\n",
              "  <thead>\n",
              "    <tr style=\"text-align: right;\">\n",
              "      <th></th>\n",
              "      <th>y</th>\n",
              "      <th>y_exp_norm</th>\n",
              "      <th>y_exp_norm_user</th>\n",
              "    </tr>\n",
              "  </thead>\n",
              "  <tbody>\n",
              "    <tr>\n",
              "      <th>1</th>\n",
              "      <td>11</td>\n",
              "      <td>11.000000</td>\n",
              "      <td>11.000000</td>\n",
              "    </tr>\n",
              "    <tr>\n",
              "      <th>2</th>\n",
              "      <td>23</td>\n",
              "      <td>13.880000</td>\n",
              "      <td>13.880000</td>\n",
              "    </tr>\n",
              "    <tr>\n",
              "      <th>3</th>\n",
              "      <td>26</td>\n",
              "      <td>16.788800</td>\n",
              "      <td>16.788800</td>\n",
              "    </tr>\n",
              "    <tr>\n",
              "      <th>4</th>\n",
              "      <td>17</td>\n",
              "      <td>16.839488</td>\n",
              "      <td>16.839488</td>\n",
              "    </tr>\n",
              "    <tr>\n",
              "      <th>5</th>\n",
              "      <td>39</td>\n",
              "      <td>22.158011</td>\n",
              "      <td>22.158011</td>\n",
              "    </tr>\n",
              "    <tr>\n",
              "      <th>...</th>\n",
              "      <td>...</td>\n",
              "      <td>...</td>\n",
              "      <td>...</td>\n",
              "    </tr>\n",
              "    <tr>\n",
              "      <th>96</th>\n",
              "      <td>126</td>\n",
              "      <td>127.049577</td>\n",
              "      <td>127.049577</td>\n",
              "    </tr>\n",
              "    <tr>\n",
              "      <th>97</th>\n",
              "      <td>138</td>\n",
              "      <td>129.677679</td>\n",
              "      <td>129.677679</td>\n",
              "    </tr>\n",
              "    <tr>\n",
              "      <th>98</th>\n",
              "      <td>130</td>\n",
              "      <td>129.755036</td>\n",
              "      <td>129.755036</td>\n",
              "    </tr>\n",
              "    <tr>\n",
              "      <th>99</th>\n",
              "      <td>150</td>\n",
              "      <td>134.613827</td>\n",
              "      <td>134.613827</td>\n",
              "    </tr>\n",
              "    <tr>\n",
              "      <th>100</th>\n",
              "      <td>148</td>\n",
              "      <td>137.826509</td>\n",
              "      <td>137.826509</td>\n",
              "    </tr>\n",
              "  </tbody>\n",
              "</table>\n",
              "<p>100 rows × 3 columns</p>\n",
              "</div>\n",
              "    <div class=\"colab-df-buttons\">\n",
              "\n",
              "  <div class=\"colab-df-container\">\n",
              "    <button class=\"colab-df-convert\" onclick=\"convertToInteractive('df-4e96759c-ac84-4d76-99ea-58a1bb95cb81')\"\n",
              "            title=\"Convert this dataframe to an interactive table.\"\n",
              "            style=\"display:none;\">\n",
              "\n",
              "  <svg xmlns=\"http://www.w3.org/2000/svg\" height=\"24px\" viewBox=\"0 -960 960 960\">\n",
              "    <path d=\"M120-120v-720h720v720H120Zm60-500h600v-160H180v160Zm220 220h160v-160H400v160Zm0 220h160v-160H400v160ZM180-400h160v-160H180v160Zm440 0h160v-160H620v160ZM180-180h160v-160H180v160Zm440 0h160v-160H620v160Z\"/>\n",
              "  </svg>\n",
              "    </button>\n",
              "\n",
              "  <style>\n",
              "    .colab-df-container {\n",
              "      display:flex;\n",
              "      gap: 12px;\n",
              "    }\n",
              "\n",
              "    .colab-df-convert {\n",
              "      background-color: #E8F0FE;\n",
              "      border: none;\n",
              "      border-radius: 50%;\n",
              "      cursor: pointer;\n",
              "      display: none;\n",
              "      fill: #1967D2;\n",
              "      height: 32px;\n",
              "      padding: 0 0 0 0;\n",
              "      width: 32px;\n",
              "    }\n",
              "\n",
              "    .colab-df-convert:hover {\n",
              "      background-color: #E2EBFA;\n",
              "      box-shadow: 0px 1px 2px rgba(60, 64, 67, 0.3), 0px 1px 3px 1px rgba(60, 64, 67, 0.15);\n",
              "      fill: #174EA6;\n",
              "    }\n",
              "\n",
              "    .colab-df-buttons div {\n",
              "      margin-bottom: 4px;\n",
              "    }\n",
              "\n",
              "    [theme=dark] .colab-df-convert {\n",
              "      background-color: #3B4455;\n",
              "      fill: #D2E3FC;\n",
              "    }\n",
              "\n",
              "    [theme=dark] .colab-df-convert:hover {\n",
              "      background-color: #434B5C;\n",
              "      box-shadow: 0px 1px 3px 1px rgba(0, 0, 0, 0.15);\n",
              "      filter: drop-shadow(0px 1px 2px rgba(0, 0, 0, 0.3));\n",
              "      fill: #FFFFFF;\n",
              "    }\n",
              "  </style>\n",
              "\n",
              "    <script>\n",
              "      const buttonEl =\n",
              "        document.querySelector('#df-4e96759c-ac84-4d76-99ea-58a1bb95cb81 button.colab-df-convert');\n",
              "      buttonEl.style.display =\n",
              "        google.colab.kernel.accessAllowed ? 'block' : 'none';\n",
              "\n",
              "      async function convertToInteractive(key) {\n",
              "        const element = document.querySelector('#df-4e96759c-ac84-4d76-99ea-58a1bb95cb81');\n",
              "        const dataTable =\n",
              "          await google.colab.kernel.invokeFunction('convertToInteractive',\n",
              "                                                    [key], {});\n",
              "        if (!dataTable) return;\n",
              "\n",
              "        const docLinkHtml = 'Like what you see? Visit the ' +\n",
              "          '<a target=\"_blank\" href=https://colab.research.google.com/notebooks/data_table.ipynb>data table notebook</a>'\n",
              "          + ' to learn more about interactive tables.';\n",
              "        element.innerHTML = '';\n",
              "        dataTable['output_type'] = 'display_data';\n",
              "        await google.colab.output.renderOutput(dataTable, element);\n",
              "        const docLink = document.createElement('div');\n",
              "        docLink.innerHTML = docLinkHtml;\n",
              "        element.appendChild(docLink);\n",
              "      }\n",
              "    </script>\n",
              "  </div>\n",
              "\n",
              "\n",
              "<div id=\"df-a9f77f0c-b820-4902-9d13-fc9d9c6d071f\">\n",
              "  <button class=\"colab-df-quickchart\" onclick=\"quickchart('df-a9f77f0c-b820-4902-9d13-fc9d9c6d071f')\"\n",
              "            title=\"Suggest charts\"\n",
              "            style=\"display:none;\">\n",
              "\n",
              "<svg xmlns=\"http://www.w3.org/2000/svg\" height=\"24px\"viewBox=\"0 0 24 24\"\n",
              "     width=\"24px\">\n",
              "    <g>\n",
              "        <path d=\"M19 3H5c-1.1 0-2 .9-2 2v14c0 1.1.9 2 2 2h14c1.1 0 2-.9 2-2V5c0-1.1-.9-2-2-2zM9 17H7v-7h2v7zm4 0h-2V7h2v10zm4 0h-2v-4h2v4z\"/>\n",
              "    </g>\n",
              "</svg>\n",
              "  </button>\n",
              "\n",
              "<style>\n",
              "  .colab-df-quickchart {\n",
              "      --bg-color: #E8F0FE;\n",
              "      --fill-color: #1967D2;\n",
              "      --hover-bg-color: #E2EBFA;\n",
              "      --hover-fill-color: #174EA6;\n",
              "      --disabled-fill-color: #AAA;\n",
              "      --disabled-bg-color: #DDD;\n",
              "  }\n",
              "\n",
              "  [theme=dark] .colab-df-quickchart {\n",
              "      --bg-color: #3B4455;\n",
              "      --fill-color: #D2E3FC;\n",
              "      --hover-bg-color: #434B5C;\n",
              "      --hover-fill-color: #FFFFFF;\n",
              "      --disabled-bg-color: #3B4455;\n",
              "      --disabled-fill-color: #666;\n",
              "  }\n",
              "\n",
              "  .colab-df-quickchart {\n",
              "    background-color: var(--bg-color);\n",
              "    border: none;\n",
              "    border-radius: 50%;\n",
              "    cursor: pointer;\n",
              "    display: none;\n",
              "    fill: var(--fill-color);\n",
              "    height: 32px;\n",
              "    padding: 0;\n",
              "    width: 32px;\n",
              "  }\n",
              "\n",
              "  .colab-df-quickchart:hover {\n",
              "    background-color: var(--hover-bg-color);\n",
              "    box-shadow: 0 1px 2px rgba(60, 64, 67, 0.3), 0 1px 3px 1px rgba(60, 64, 67, 0.15);\n",
              "    fill: var(--button-hover-fill-color);\n",
              "  }\n",
              "\n",
              "  .colab-df-quickchart-complete:disabled,\n",
              "  .colab-df-quickchart-complete:disabled:hover {\n",
              "    background-color: var(--disabled-bg-color);\n",
              "    fill: var(--disabled-fill-color);\n",
              "    box-shadow: none;\n",
              "  }\n",
              "\n",
              "  .colab-df-spinner {\n",
              "    border: 2px solid var(--fill-color);\n",
              "    border-color: transparent;\n",
              "    border-bottom-color: var(--fill-color);\n",
              "    animation:\n",
              "      spin 1s steps(1) infinite;\n",
              "  }\n",
              "\n",
              "  @keyframes spin {\n",
              "    0% {\n",
              "      border-color: transparent;\n",
              "      border-bottom-color: var(--fill-color);\n",
              "      border-left-color: var(--fill-color);\n",
              "    }\n",
              "    20% {\n",
              "      border-color: transparent;\n",
              "      border-left-color: var(--fill-color);\n",
              "      border-top-color: var(--fill-color);\n",
              "    }\n",
              "    30% {\n",
              "      border-color: transparent;\n",
              "      border-left-color: var(--fill-color);\n",
              "      border-top-color: var(--fill-color);\n",
              "      border-right-color: var(--fill-color);\n",
              "    }\n",
              "    40% {\n",
              "      border-color: transparent;\n",
              "      border-right-color: var(--fill-color);\n",
              "      border-top-color: var(--fill-color);\n",
              "    }\n",
              "    60% {\n",
              "      border-color: transparent;\n",
              "      border-right-color: var(--fill-color);\n",
              "    }\n",
              "    80% {\n",
              "      border-color: transparent;\n",
              "      border-right-color: var(--fill-color);\n",
              "      border-bottom-color: var(--fill-color);\n",
              "    }\n",
              "    90% {\n",
              "      border-color: transparent;\n",
              "      border-bottom-color: var(--fill-color);\n",
              "    }\n",
              "  }\n",
              "</style>\n",
              "\n",
              "  <script>\n",
              "    async function quickchart(key) {\n",
              "      const quickchartButtonEl =\n",
              "        document.querySelector('#' + key + ' button');\n",
              "      quickchartButtonEl.disabled = true;  // To prevent multiple clicks.\n",
              "      quickchartButtonEl.classList.add('colab-df-spinner');\n",
              "      try {\n",
              "        const charts = await google.colab.kernel.invokeFunction(\n",
              "            'suggestCharts', [key], {});\n",
              "      } catch (error) {\n",
              "        console.error('Error during call to suggestCharts:', error);\n",
              "      }\n",
              "      quickchartButtonEl.classList.remove('colab-df-spinner');\n",
              "      quickchartButtonEl.classList.add('colab-df-quickchart-complete');\n",
              "    }\n",
              "    (() => {\n",
              "      let quickchartButtonEl =\n",
              "        document.querySelector('#df-a9f77f0c-b820-4902-9d13-fc9d9c6d071f button');\n",
              "      quickchartButtonEl.style.display =\n",
              "        google.colab.kernel.accessAllowed ? 'block' : 'none';\n",
              "    })();\n",
              "  </script>\n",
              "</div>\n",
              "    </div>\n",
              "  </div>\n"
            ],
            "application/vnd.google.colaboratory.intrinsic+json": {
              "type": "dataframe",
              "variable_name": "ds",
              "summary": "{\n  \"name\": \"ds\",\n  \"rows\": 100,\n  \"fields\": [\n    {\n      \"column\": \"y\",\n      \"properties\": {\n        \"dtype\": \"number\",\n        \"std\": 37,\n        \"min\": 11,\n        \"max\": 150,\n        \"num_unique_values\": 71,\n        \"samples\": [\n          42,\n          11,\n          109\n        ],\n        \"semantic_type\": \"\",\n        \"description\": \"\"\n      }\n    },\n    {\n      \"column\": \"y_exp_norm\",\n      \"properties\": {\n        \"dtype\": \"number\",\n        \"std\": 36.52625358604181,\n        \"min\": 11.0,\n        \"max\": 137.8265086581112,\n        \"num_unique_values\": 100,\n        \"samples\": [\n          115.01724624540788,\n          80.46199737702344,\n          96.89723987861653\n        ],\n        \"semantic_type\": \"\",\n        \"description\": \"\"\n      }\n    },\n    {\n      \"column\": \"y_exp_norm_user\",\n      \"properties\": {\n        \"dtype\": \"number\",\n        \"std\": 36.52625358604181,\n        \"min\": 11.0,\n        \"max\": 137.8265086581112,\n        \"num_unique_values\": 100,\n        \"samples\": [\n          115.01724624540788,\n          80.46199737702344,\n          96.89723987861653\n        ],\n        \"semantic_type\": \"\",\n        \"description\": \"\"\n      }\n    }\n  ]\n}"
            }
          },
          "metadata": {},
          "execution_count": 66
        }
      ]
    },
    {
      "cell_type": "code",
      "source": [
        "x = np.array(ds.index)\n",
        "y = np.array(ds.y)\n",
        "poly = np.polyfit(x, y, 1)\n",
        "a = poly[0]\n",
        "print(a)\n",
        "b = poly[1]\n",
        "ds['lin_trend'] = a * x + b\n",
        "ds"
      ],
      "metadata": {
        "colab": {
          "base_uri": "https://localhost:8080/",
          "height": 436
        },
        "id": "AJkTlavGmDgQ",
        "outputId": "85b9c781-9e25-4d62-8937-70185f6bb914"
      },
      "execution_count": null,
      "outputs": [
        {
          "output_type": "stream",
          "name": "stdout",
          "text": [
            "1.2593279327932794\n"
          ]
        },
        {
          "output_type": "execute_result",
          "data": {
            "text/plain": [
              "       y  y_exp_norm  y_exp_norm_user   lin_trend\n",
              "1     11   11.000000        11.000000   15.573267\n",
              "2     23   13.880000        13.880000   16.832595\n",
              "3     26   16.788800        16.788800   18.091923\n",
              "4     17   16.839488        16.839488   19.351251\n",
              "5     39   22.158011        22.158011   20.610579\n",
              "..   ...         ...              ...         ...\n",
              "96   126  127.049577       127.049577  135.209421\n",
              "97   138  129.677679       129.677679  136.468749\n",
              "98   130  129.755036       129.755036  137.728077\n",
              "99   150  134.613827       134.613827  138.987405\n",
              "100  148  137.826509       137.826509  140.246733\n",
              "\n",
              "[100 rows x 4 columns]"
            ],
            "text/html": [
              "\n",
              "  <div id=\"df-20adacd8-aea1-4fc4-92df-912d0ed78e38\" class=\"colab-df-container\">\n",
              "    <div>\n",
              "<style scoped>\n",
              "    .dataframe tbody tr th:only-of-type {\n",
              "        vertical-align: middle;\n",
              "    }\n",
              "\n",
              "    .dataframe tbody tr th {\n",
              "        vertical-align: top;\n",
              "    }\n",
              "\n",
              "    .dataframe thead th {\n",
              "        text-align: right;\n",
              "    }\n",
              "</style>\n",
              "<table border=\"1\" class=\"dataframe\">\n",
              "  <thead>\n",
              "    <tr style=\"text-align: right;\">\n",
              "      <th></th>\n",
              "      <th>y</th>\n",
              "      <th>y_exp_norm</th>\n",
              "      <th>y_exp_norm_user</th>\n",
              "      <th>lin_trend</th>\n",
              "    </tr>\n",
              "  </thead>\n",
              "  <tbody>\n",
              "    <tr>\n",
              "      <th>1</th>\n",
              "      <td>11</td>\n",
              "      <td>11.000000</td>\n",
              "      <td>11.000000</td>\n",
              "      <td>15.573267</td>\n",
              "    </tr>\n",
              "    <tr>\n",
              "      <th>2</th>\n",
              "      <td>23</td>\n",
              "      <td>13.880000</td>\n",
              "      <td>13.880000</td>\n",
              "      <td>16.832595</td>\n",
              "    </tr>\n",
              "    <tr>\n",
              "      <th>3</th>\n",
              "      <td>26</td>\n",
              "      <td>16.788800</td>\n",
              "      <td>16.788800</td>\n",
              "      <td>18.091923</td>\n",
              "    </tr>\n",
              "    <tr>\n",
              "      <th>4</th>\n",
              "      <td>17</td>\n",
              "      <td>16.839488</td>\n",
              "      <td>16.839488</td>\n",
              "      <td>19.351251</td>\n",
              "    </tr>\n",
              "    <tr>\n",
              "      <th>5</th>\n",
              "      <td>39</td>\n",
              "      <td>22.158011</td>\n",
              "      <td>22.158011</td>\n",
              "      <td>20.610579</td>\n",
              "    </tr>\n",
              "    <tr>\n",
              "      <th>...</th>\n",
              "      <td>...</td>\n",
              "      <td>...</td>\n",
              "      <td>...</td>\n",
              "      <td>...</td>\n",
              "    </tr>\n",
              "    <tr>\n",
              "      <th>96</th>\n",
              "      <td>126</td>\n",
              "      <td>127.049577</td>\n",
              "      <td>127.049577</td>\n",
              "      <td>135.209421</td>\n",
              "    </tr>\n",
              "    <tr>\n",
              "      <th>97</th>\n",
              "      <td>138</td>\n",
              "      <td>129.677679</td>\n",
              "      <td>129.677679</td>\n",
              "      <td>136.468749</td>\n",
              "    </tr>\n",
              "    <tr>\n",
              "      <th>98</th>\n",
              "      <td>130</td>\n",
              "      <td>129.755036</td>\n",
              "      <td>129.755036</td>\n",
              "      <td>137.728077</td>\n",
              "    </tr>\n",
              "    <tr>\n",
              "      <th>99</th>\n",
              "      <td>150</td>\n",
              "      <td>134.613827</td>\n",
              "      <td>134.613827</td>\n",
              "      <td>138.987405</td>\n",
              "    </tr>\n",
              "    <tr>\n",
              "      <th>100</th>\n",
              "      <td>148</td>\n",
              "      <td>137.826509</td>\n",
              "      <td>137.826509</td>\n",
              "      <td>140.246733</td>\n",
              "    </tr>\n",
              "  </tbody>\n",
              "</table>\n",
              "<p>100 rows × 4 columns</p>\n",
              "</div>\n",
              "    <div class=\"colab-df-buttons\">\n",
              "\n",
              "  <div class=\"colab-df-container\">\n",
              "    <button class=\"colab-df-convert\" onclick=\"convertToInteractive('df-20adacd8-aea1-4fc4-92df-912d0ed78e38')\"\n",
              "            title=\"Convert this dataframe to an interactive table.\"\n",
              "            style=\"display:none;\">\n",
              "\n",
              "  <svg xmlns=\"http://www.w3.org/2000/svg\" height=\"24px\" viewBox=\"0 -960 960 960\">\n",
              "    <path d=\"M120-120v-720h720v720H120Zm60-500h600v-160H180v160Zm220 220h160v-160H400v160Zm0 220h160v-160H400v160ZM180-400h160v-160H180v160Zm440 0h160v-160H620v160ZM180-180h160v-160H180v160Zm440 0h160v-160H620v160Z\"/>\n",
              "  </svg>\n",
              "    </button>\n",
              "\n",
              "  <style>\n",
              "    .colab-df-container {\n",
              "      display:flex;\n",
              "      gap: 12px;\n",
              "    }\n",
              "\n",
              "    .colab-df-convert {\n",
              "      background-color: #E8F0FE;\n",
              "      border: none;\n",
              "      border-radius: 50%;\n",
              "      cursor: pointer;\n",
              "      display: none;\n",
              "      fill: #1967D2;\n",
              "      height: 32px;\n",
              "      padding: 0 0 0 0;\n",
              "      width: 32px;\n",
              "    }\n",
              "\n",
              "    .colab-df-convert:hover {\n",
              "      background-color: #E2EBFA;\n",
              "      box-shadow: 0px 1px 2px rgba(60, 64, 67, 0.3), 0px 1px 3px 1px rgba(60, 64, 67, 0.15);\n",
              "      fill: #174EA6;\n",
              "    }\n",
              "\n",
              "    .colab-df-buttons div {\n",
              "      margin-bottom: 4px;\n",
              "    }\n",
              "\n",
              "    [theme=dark] .colab-df-convert {\n",
              "      background-color: #3B4455;\n",
              "      fill: #D2E3FC;\n",
              "    }\n",
              "\n",
              "    [theme=dark] .colab-df-convert:hover {\n",
              "      background-color: #434B5C;\n",
              "      box-shadow: 0px 1px 3px 1px rgba(0, 0, 0, 0.15);\n",
              "      filter: drop-shadow(0px 1px 2px rgba(0, 0, 0, 0.3));\n",
              "      fill: #FFFFFF;\n",
              "    }\n",
              "  </style>\n",
              "\n",
              "    <script>\n",
              "      const buttonEl =\n",
              "        document.querySelector('#df-20adacd8-aea1-4fc4-92df-912d0ed78e38 button.colab-df-convert');\n",
              "      buttonEl.style.display =\n",
              "        google.colab.kernel.accessAllowed ? 'block' : 'none';\n",
              "\n",
              "      async function convertToInteractive(key) {\n",
              "        const element = document.querySelector('#df-20adacd8-aea1-4fc4-92df-912d0ed78e38');\n",
              "        const dataTable =\n",
              "          await google.colab.kernel.invokeFunction('convertToInteractive',\n",
              "                                                    [key], {});\n",
              "        if (!dataTable) return;\n",
              "\n",
              "        const docLinkHtml = 'Like what you see? Visit the ' +\n",
              "          '<a target=\"_blank\" href=https://colab.research.google.com/notebooks/data_table.ipynb>data table notebook</a>'\n",
              "          + ' to learn more about interactive tables.';\n",
              "        element.innerHTML = '';\n",
              "        dataTable['output_type'] = 'display_data';\n",
              "        await google.colab.output.renderOutput(dataTable, element);\n",
              "        const docLink = document.createElement('div');\n",
              "        docLink.innerHTML = docLinkHtml;\n",
              "        element.appendChild(docLink);\n",
              "      }\n",
              "    </script>\n",
              "  </div>\n",
              "\n",
              "\n",
              "<div id=\"df-a71652dd-41bc-4930-9481-c3e733879f02\">\n",
              "  <button class=\"colab-df-quickchart\" onclick=\"quickchart('df-a71652dd-41bc-4930-9481-c3e733879f02')\"\n",
              "            title=\"Suggest charts\"\n",
              "            style=\"display:none;\">\n",
              "\n",
              "<svg xmlns=\"http://www.w3.org/2000/svg\" height=\"24px\"viewBox=\"0 0 24 24\"\n",
              "     width=\"24px\">\n",
              "    <g>\n",
              "        <path d=\"M19 3H5c-1.1 0-2 .9-2 2v14c0 1.1.9 2 2 2h14c1.1 0 2-.9 2-2V5c0-1.1-.9-2-2-2zM9 17H7v-7h2v7zm4 0h-2V7h2v10zm4 0h-2v-4h2v4z\"/>\n",
              "    </g>\n",
              "</svg>\n",
              "  </button>\n",
              "\n",
              "<style>\n",
              "  .colab-df-quickchart {\n",
              "      --bg-color: #E8F0FE;\n",
              "      --fill-color: #1967D2;\n",
              "      --hover-bg-color: #E2EBFA;\n",
              "      --hover-fill-color: #174EA6;\n",
              "      --disabled-fill-color: #AAA;\n",
              "      --disabled-bg-color: #DDD;\n",
              "  }\n",
              "\n",
              "  [theme=dark] .colab-df-quickchart {\n",
              "      --bg-color: #3B4455;\n",
              "      --fill-color: #D2E3FC;\n",
              "      --hover-bg-color: #434B5C;\n",
              "      --hover-fill-color: #FFFFFF;\n",
              "      --disabled-bg-color: #3B4455;\n",
              "      --disabled-fill-color: #666;\n",
              "  }\n",
              "\n",
              "  .colab-df-quickchart {\n",
              "    background-color: var(--bg-color);\n",
              "    border: none;\n",
              "    border-radius: 50%;\n",
              "    cursor: pointer;\n",
              "    display: none;\n",
              "    fill: var(--fill-color);\n",
              "    height: 32px;\n",
              "    padding: 0;\n",
              "    width: 32px;\n",
              "  }\n",
              "\n",
              "  .colab-df-quickchart:hover {\n",
              "    background-color: var(--hover-bg-color);\n",
              "    box-shadow: 0 1px 2px rgba(60, 64, 67, 0.3), 0 1px 3px 1px rgba(60, 64, 67, 0.15);\n",
              "    fill: var(--button-hover-fill-color);\n",
              "  }\n",
              "\n",
              "  .colab-df-quickchart-complete:disabled,\n",
              "  .colab-df-quickchart-complete:disabled:hover {\n",
              "    background-color: var(--disabled-bg-color);\n",
              "    fill: var(--disabled-fill-color);\n",
              "    box-shadow: none;\n",
              "  }\n",
              "\n",
              "  .colab-df-spinner {\n",
              "    border: 2px solid var(--fill-color);\n",
              "    border-color: transparent;\n",
              "    border-bottom-color: var(--fill-color);\n",
              "    animation:\n",
              "      spin 1s steps(1) infinite;\n",
              "  }\n",
              "\n",
              "  @keyframes spin {\n",
              "    0% {\n",
              "      border-color: transparent;\n",
              "      border-bottom-color: var(--fill-color);\n",
              "      border-left-color: var(--fill-color);\n",
              "    }\n",
              "    20% {\n",
              "      border-color: transparent;\n",
              "      border-left-color: var(--fill-color);\n",
              "      border-top-color: var(--fill-color);\n",
              "    }\n",
              "    30% {\n",
              "      border-color: transparent;\n",
              "      border-left-color: var(--fill-color);\n",
              "      border-top-color: var(--fill-color);\n",
              "      border-right-color: var(--fill-color);\n",
              "    }\n",
              "    40% {\n",
              "      border-color: transparent;\n",
              "      border-right-color: var(--fill-color);\n",
              "      border-top-color: var(--fill-color);\n",
              "    }\n",
              "    60% {\n",
              "      border-color: transparent;\n",
              "      border-right-color: var(--fill-color);\n",
              "    }\n",
              "    80% {\n",
              "      border-color: transparent;\n",
              "      border-right-color: var(--fill-color);\n",
              "      border-bottom-color: var(--fill-color);\n",
              "    }\n",
              "    90% {\n",
              "      border-color: transparent;\n",
              "      border-bottom-color: var(--fill-color);\n",
              "    }\n",
              "  }\n",
              "</style>\n",
              "\n",
              "  <script>\n",
              "    async function quickchart(key) {\n",
              "      const quickchartButtonEl =\n",
              "        document.querySelector('#' + key + ' button');\n",
              "      quickchartButtonEl.disabled = true;  // To prevent multiple clicks.\n",
              "      quickchartButtonEl.classList.add('colab-df-spinner');\n",
              "      try {\n",
              "        const charts = await google.colab.kernel.invokeFunction(\n",
              "            'suggestCharts', [key], {});\n",
              "      } catch (error) {\n",
              "        console.error('Error during call to suggestCharts:', error);\n",
              "      }\n",
              "      quickchartButtonEl.classList.remove('colab-df-spinner');\n",
              "      quickchartButtonEl.classList.add('colab-df-quickchart-complete');\n",
              "    }\n",
              "    (() => {\n",
              "      let quickchartButtonEl =\n",
              "        document.querySelector('#df-a71652dd-41bc-4930-9481-c3e733879f02 button');\n",
              "      quickchartButtonEl.style.display =\n",
              "        google.colab.kernel.accessAllowed ? 'block' : 'none';\n",
              "    })();\n",
              "  </script>\n",
              "</div>\n",
              "    </div>\n",
              "  </div>\n"
            ],
            "application/vnd.google.colaboratory.intrinsic+json": {
              "type": "dataframe",
              "variable_name": "ds",
              "summary": "{\n  \"name\": \"ds\",\n  \"rows\": 100,\n  \"fields\": [\n    {\n      \"column\": \"y\",\n      \"properties\": {\n        \"dtype\": \"number\",\n        \"std\": 37,\n        \"min\": 11,\n        \"max\": 150,\n        \"num_unique_values\": 71,\n        \"samples\": [\n          42,\n          11,\n          109\n        ],\n        \"semantic_type\": \"\",\n        \"description\": \"\"\n      }\n    },\n    {\n      \"column\": \"y_exp_norm\",\n      \"properties\": {\n        \"dtype\": \"number\",\n        \"std\": 36.52625358604181,\n        \"min\": 11.0,\n        \"max\": 137.8265086581112,\n        \"num_unique_values\": 100,\n        \"samples\": [\n          115.01724624540788,\n          80.46199737702344,\n          96.89723987861653\n        ],\n        \"semantic_type\": \"\",\n        \"description\": \"\"\n      }\n    },\n    {\n      \"column\": \"y_exp_norm_user\",\n      \"properties\": {\n        \"dtype\": \"number\",\n        \"std\": 36.52625358604181,\n        \"min\": 11.0,\n        \"max\": 137.8265086581112,\n        \"num_unique_values\": 100,\n        \"samples\": [\n          115.01724624540788,\n          80.46199737702344,\n          96.89723987861653\n        ],\n        \"semantic_type\": \"\",\n        \"description\": \"\"\n      }\n    },\n    {\n      \"column\": \"lin_trend\",\n      \"properties\": {\n        \"dtype\": \"number\",\n        \"std\": 36.53498221723631,\n        \"min\": 15.573267326732696,\n        \"max\": 140.24673267326736,\n        \"num_unique_values\": 100,\n        \"samples\": [\n          120.09748574857488,\n          82.31764776477651,\n          103.72622262226226\n        ],\n        \"semantic_type\": \"\",\n        \"description\": \"\"\n      }\n    }\n  ]\n}"
            }
          },
          "metadata": {},
          "execution_count": 76
        }
      ]
    },
    {
      "cell_type": "code",
      "source": [
        "plt.figure(figsize=(20, 8))\n",
        "plt.plot('y', data=ds)\n",
        "plt.plot('y_exp_norm', data=ds)\n",
        "plt.xlabel('Time step')\n",
        "plt.ylabel('y')\n",
        "plt.show()"
      ],
      "metadata": {
        "colab": {
          "base_uri": "https://localhost:8080/",
          "height": 441
        },
        "id": "xkUFw-klnnYH",
        "outputId": "09b40ad6-b53f-421b-84ad-d6f0cd8ccad2"
      },
      "execution_count": null,
      "outputs": [
        {
          "output_type": "display_data",
          "data": {
            "text/plain": [
              "<Figure size 2000x800 with 1 Axes>"
            ],
            "image/png": "[encoded data removed]"
          },
          "metadata": {}
        }
      ]
    },
    {
      "cell_type": "markdown",
      "source": [
        "Вычислим коэффициент детерминации"
      ],
      "metadata": {
        "id": "tw0nzpaDo_1O"
      }
    },
    {
      "cell_type": "code",
      "source": [
        "f_i = ds['lin_trend']\n",
        "y_avg = ds['y'].mean()\n",
        "R2 = 1 - ((y - f_i) ** 2).sum() / ((y - y_avg) ** 2).sum()\n",
        "round(R2, 2)"
      ],
      "metadata": {
        "colab": {
          "base_uri": "https://localhost:8080/"
        },
        "id": "t9hIQfgWovnW",
        "outputId": "960d8c79-ad4c-4e66-bce5-074cf72798dd"
      },
      "execution_count": null,
      "outputs": [
        {
          "output_type": "execute_result",
          "data": {
            "text/plain": [
              "0.94"
            ]
          },
          "metadata": {},
          "execution_count": 74
        }
      ]
    },
    {
      "cell_type": "code",
      "source": [
        "y_101 = a * 101 + b\n",
        "y_101"
      ],
      "metadata": {
        "colab": {
          "base_uri": "https://localhost:8080/"
        },
        "id": "HmvHNS2UqjjV",
        "outputId": "766ad938-0577-42b2-c276-df7bc5e51138"
      },
      "execution_count": null,
      "outputs": [
        {
          "output_type": "execute_result",
          "data": {
            "text/plain": [
              "141.50606060606063"
            ]
          },
          "metadata": {},
          "execution_count": 77
        }
      ]
    }
  ]
}