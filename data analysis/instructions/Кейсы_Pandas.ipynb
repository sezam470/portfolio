{
  "nbformat": 4,
  "nbformat_minor": 0,
  "metadata": {
    "colab": {
      "provenance": []
    },
    "kernelspec": {
      "name": "python3",
      "display_name": "Python 3"
    },
    "language_info": {
      "name": "python"
    }
  },
  "cells": [
    {
      "cell_type": "code",
      "source": [
        "import pandas as pd\n",
        "import numpy as np"
      ],
      "metadata": {
        "id": "FIi_8DsY-kgJ"
      },
      "execution_count": 3,
      "outputs": []
    },
    {
      "cell_type": "markdown",
      "source": [
        "**1. Заменить в датафрейме `a` все нечетные или отрицательные числа на число `n`, а у остальных чисел в датафрейме поменять знак.**"
      ],
      "metadata": {
        "id": "NY2cYNFf9TfA"
      }
    },
    {
      "cell_type": "code",
      "source": [
        "def replace_all_odd_or_negative(a, n):\n",
        "    return a.apply(lambda row: row.apply(lambda x: n if 0 > x or x % 2 == 1 else -x))"
      ],
      "metadata": {
        "id": "cibGhRfd9oqQ"
      },
      "execution_count": null,
      "outputs": []
    },
    {
      "cell_type": "code",
      "source": [
        "# Пример\n",
        "a = pd.DataFrame([\n",
        "    [-1, 1, 0],\n",
        "    [2, -4, 6]\n",
        "])\n",
        "n = 100\n",
        "replace_all_odd_or_negative(a, n)"
      ],
      "metadata": {
        "colab": {
          "base_uri": "https://localhost:8080/",
          "height": 111
        },
        "id": "tki_wGOZzgew",
        "outputId": "807f6aa7-83d4-4b32-94a8-c78a7e8c61f4"
      },
      "execution_count": null,
      "outputs": [
        {
          "output_type": "execute_result",
          "data": {
            "text/plain": [
              "     0    1  2\n",
              "0  100  100  0\n",
              "1   -2  100 -6"
            ],
            "text/html": [
              "\n",
              "  <div id=\"df-f3aeffc2-aa61-4669-93df-67ff3c63da17\" class=\"colab-df-container\">\n",
              "    <div>\n",
              "<style scoped>\n",
              "    .dataframe tbody tr th:only-of-type {\n",
              "        vertical-align: middle;\n",
              "    }\n",
              "\n",
              "    .dataframe tbody tr th {\n",
              "        vertical-align: top;\n",
              "    }\n",
              "\n",
              "    .dataframe thead th {\n",
              "        text-align: right;\n",
              "    }\n",
              "</style>\n",
              "<table border=\"1\" class=\"dataframe\">\n",
              "  <thead>\n",
              "    <tr style=\"text-align: right;\">\n",
              "      <th></th>\n",
              "      <th>0</th>\n",
              "      <th>1</th>\n",
              "      <th>2</th>\n",
              "    </tr>\n",
              "  </thead>\n",
              "  <tbody>\n",
              "    <tr>\n",
              "      <th>0</th>\n",
              "      <td>100</td>\n",
              "      <td>100</td>\n",
              "      <td>0</td>\n",
              "    </tr>\n",
              "    <tr>\n",
              "      <th>1</th>\n",
              "      <td>-2</td>\n",
              "      <td>100</td>\n",
              "      <td>-6</td>\n",
              "    </tr>\n",
              "  </tbody>\n",
              "</table>\n",
              "</div>\n",
              "    <div class=\"colab-df-buttons\">\n",
              "\n",
              "  <div class=\"colab-df-container\">\n",
              "    <button class=\"colab-df-convert\" onclick=\"convertToInteractive('df-f3aeffc2-aa61-4669-93df-67ff3c63da17')\"\n",
              "            title=\"Convert this dataframe to an interactive table.\"\n",
              "            style=\"display:none;\">\n",
              "\n",
              "  <svg xmlns=\"http://www.w3.org/2000/svg\" height=\"24px\" viewBox=\"0 -960 960 960\">\n",
              "    <path d=\"M120-120v-720h720v720H120Zm60-500h600v-160H180v160Zm220 220h160v-160H400v160Zm0 220h160v-160H400v160ZM180-400h160v-160H180v160Zm440 0h160v-160H620v160ZM180-180h160v-160H180v160Zm440 0h160v-160H620v160Z\"/>\n",
              "  </svg>\n",
              "    </button>\n",
              "\n",
              "  <style>\n",
              "    .colab-df-container {\n",
              "      display:flex;\n",
              "      gap: 12px;\n",
              "    }\n",
              "\n",
              "    .colab-df-convert {\n",
              "      background-color: #E8F0FE;\n",
              "      border: none;\n",
              "      border-radius: 50%;\n",
              "      cursor: pointer;\n",
              "      display: none;\n",
              "      fill: #1967D2;\n",
              "      height: 32px;\n",
              "      padding: 0 0 0 0;\n",
              "      width: 32px;\n",
              "    }\n",
              "\n",
              "    .colab-df-convert:hover {\n",
              "      background-color: #E2EBFA;\n",
              "      box-shadow: 0px 1px 2px rgba(60, 64, 67, 0.3), 0px 1px 3px 1px rgba(60, 64, 67, 0.15);\n",
              "      fill: #174EA6;\n",
              "    }\n",
              "\n",
              "    .colab-df-buttons div {\n",
              "      margin-bottom: 4px;\n",
              "    }\n",
              "\n",
              "    [theme=dark] .colab-df-convert {\n",
              "      background-color: #3B4455;\n",
              "      fill: #D2E3FC;\n",
              "    }\n",
              "\n",
              "    [theme=dark] .colab-df-convert:hover {\n",
              "      background-color: #434B5C;\n",
              "      box-shadow: 0px 1px 3px 1px rgba(0, 0, 0, 0.15);\n",
              "      filter: drop-shadow(0px 1px 2px rgba(0, 0, 0, 0.3));\n",
              "      fill: #FFFFFF;\n",
              "    }\n",
              "  </style>\n",
              "\n",
              "    <script>\n",
              "      const buttonEl =\n",
              "        document.querySelector('#df-f3aeffc2-aa61-4669-93df-67ff3c63da17 button.colab-df-convert');\n",
              "      buttonEl.style.display =\n",
              "        google.colab.kernel.accessAllowed ? 'block' : 'none';\n",
              "\n",
              "      async function convertToInteractive(key) {\n",
              "        const element = document.querySelector('#df-f3aeffc2-aa61-4669-93df-67ff3c63da17');\n",
              "        const dataTable =\n",
              "          await google.colab.kernel.invokeFunction('convertToInteractive',\n",
              "                                                    [key], {});\n",
              "        if (!dataTable) return;\n",
              "\n",
              "        const docLinkHtml = 'Like what you see? Visit the ' +\n",
              "          '<a target=\"_blank\" href=https://colab.research.google.com/notebooks/data_table.ipynb>data table notebook</a>'\n",
              "          + ' to learn more about interactive tables.';\n",
              "        element.innerHTML = '';\n",
              "        dataTable['output_type'] = 'display_data';\n",
              "        await google.colab.output.renderOutput(dataTable, element);\n",
              "        const docLink = document.createElement('div');\n",
              "        docLink.innerHTML = docLinkHtml;\n",
              "        element.appendChild(docLink);\n",
              "      }\n",
              "    </script>\n",
              "  </div>\n",
              "\n",
              "\n",
              "<div id=\"df-0d85f13a-388d-4986-9175-56f6be054c83\">\n",
              "  <button class=\"colab-df-quickchart\" onclick=\"quickchart('df-0d85f13a-388d-4986-9175-56f6be054c83')\"\n",
              "            title=\"Suggest charts\"\n",
              "            style=\"display:none;\">\n",
              "\n",
              "<svg xmlns=\"http://www.w3.org/2000/svg\" height=\"24px\"viewBox=\"0 0 24 24\"\n",
              "     width=\"24px\">\n",
              "    <g>\n",
              "        <path d=\"M19 3H5c-1.1 0-2 .9-2 2v14c0 1.1.9 2 2 2h14c1.1 0 2-.9 2-2V5c0-1.1-.9-2-2-2zM9 17H7v-7h2v7zm4 0h-2V7h2v10zm4 0h-2v-4h2v4z\"/>\n",
              "    </g>\n",
              "</svg>\n",
              "  </button>\n",
              "\n",
              "<style>\n",
              "  .colab-df-quickchart {\n",
              "      --bg-color: #E8F0FE;\n",
              "      --fill-color: #1967D2;\n",
              "      --hover-bg-color: #E2EBFA;\n",
              "      --hover-fill-color: #174EA6;\n",
              "      --disabled-fill-color: #AAA;\n",
              "      --disabled-bg-color: #DDD;\n",
              "  }\n",
              "\n",
              "  [theme=dark] .colab-df-quickchart {\n",
              "      --bg-color: #3B4455;\n",
              "      --fill-color: #D2E3FC;\n",
              "      --hover-bg-color: #434B5C;\n",
              "      --hover-fill-color: #FFFFFF;\n",
              "      --disabled-bg-color: #3B4455;\n",
              "      --disabled-fill-color: #666;\n",
              "  }\n",
              "\n",
              "  .colab-df-quickchart {\n",
              "    background-color: var(--bg-color);\n",
              "    border: none;\n",
              "    border-radius: 50%;\n",
              "    cursor: pointer;\n",
              "    display: none;\n",
              "    fill: var(--fill-color);\n",
              "    height: 32px;\n",
              "    padding: 0;\n",
              "    width: 32px;\n",
              "  }\n",
              "\n",
              "  .colab-df-quickchart:hover {\n",
              "    background-color: var(--hover-bg-color);\n",
              "    box-shadow: 0 1px 2px rgba(60, 64, 67, 0.3), 0 1px 3px 1px rgba(60, 64, 67, 0.15);\n",
              "    fill: var(--button-hover-fill-color);\n",
              "  }\n",
              "\n",
              "  .colab-df-quickchart-complete:disabled,\n",
              "  .colab-df-quickchart-complete:disabled:hover {\n",
              "    background-color: var(--disabled-bg-color);\n",
              "    fill: var(--disabled-fill-color);\n",
              "    box-shadow: none;\n",
              "  }\n",
              "\n",
              "  .colab-df-spinner {\n",
              "    border: 2px solid var(--fill-color);\n",
              "    border-color: transparent;\n",
              "    border-bottom-color: var(--fill-color);\n",
              "    animation:\n",
              "      spin 1s steps(1) infinite;\n",
              "  }\n",
              "\n",
              "  @keyframes spin {\n",
              "    0% {\n",
              "      border-color: transparent;\n",
              "      border-bottom-color: var(--fill-color);\n",
              "      border-left-color: var(--fill-color);\n",
              "    }\n",
              "    20% {\n",
              "      border-color: transparent;\n",
              "      border-left-color: var(--fill-color);\n",
              "      border-top-color: var(--fill-color);\n",
              "    }\n",
              "    30% {\n",
              "      border-color: transparent;\n",
              "      border-left-color: var(--fill-color);\n",
              "      border-top-color: var(--fill-color);\n",
              "      border-right-color: var(--fill-color);\n",
              "    }\n",
              "    40% {\n",
              "      border-color: transparent;\n",
              "      border-right-color: var(--fill-color);\n",
              "      border-top-color: var(--fill-color);\n",
              "    }\n",
              "    60% {\n",
              "      border-color: transparent;\n",
              "      border-right-color: var(--fill-color);\n",
              "    }\n",
              "    80% {\n",
              "      border-color: transparent;\n",
              "      border-right-color: var(--fill-color);\n",
              "      border-bottom-color: var(--fill-color);\n",
              "    }\n",
              "    90% {\n",
              "      border-color: transparent;\n",
              "      border-bottom-color: var(--fill-color);\n",
              "    }\n",
              "  }\n",
              "</style>\n",
              "\n",
              "  <script>\n",
              "    async function quickchart(key) {\n",
              "      const quickchartButtonEl =\n",
              "        document.querySelector('#' + key + ' button');\n",
              "      quickchartButtonEl.disabled = true;  // To prevent multiple clicks.\n",
              "      quickchartButtonEl.classList.add('colab-df-spinner');\n",
              "      try {\n",
              "        const charts = await google.colab.kernel.invokeFunction(\n",
              "            'suggestCharts', [key], {});\n",
              "      } catch (error) {\n",
              "        console.error('Error during call to suggestCharts:', error);\n",
              "      }\n",
              "      quickchartButtonEl.classList.remove('colab-df-spinner');\n",
              "      quickchartButtonEl.classList.add('colab-df-quickchart-complete');\n",
              "    }\n",
              "    (() => {\n",
              "      let quickchartButtonEl =\n",
              "        document.querySelector('#df-0d85f13a-388d-4986-9175-56f6be054c83 button');\n",
              "      quickchartButtonEl.style.display =\n",
              "        google.colab.kernel.accessAllowed ? 'block' : 'none';\n",
              "    })();\n",
              "  </script>\n",
              "</div>\n",
              "    </div>\n",
              "  </div>\n"
            ],
            "application/vnd.google.colaboratory.intrinsic+json": {
              "type": "dataframe",
              "summary": "{\n  \"name\": \"replace_all_odd_or_negative(a, n)\",\n  \"rows\": 2,\n  \"fields\": [\n    {\n      \"column\": 0,\n      \"properties\": {\n        \"dtype\": \"number\",\n        \"std\": 72,\n        \"min\": -2,\n        \"max\": 100,\n        \"num_unique_values\": 2,\n        \"samples\": [\n          -2,\n          100\n        ],\n        \"semantic_type\": \"\",\n        \"description\": \"\"\n      }\n    },\n    {\n      \"column\": 1,\n      \"properties\": {\n        \"dtype\": \"number\",\n        \"std\": 0,\n        \"min\": 100,\n        \"max\": 100,\n        \"num_unique_values\": 1,\n        \"samples\": [\n          100\n        ],\n        \"semantic_type\": \"\",\n        \"description\": \"\"\n      }\n    },\n    {\n      \"column\": 2,\n      \"properties\": {\n        \"dtype\": \"number\",\n        \"std\": 4,\n        \"min\": -6,\n        \"max\": 0,\n        \"num_unique_values\": 2,\n        \"samples\": [\n          -6\n        ],\n        \"semantic_type\": \"\",\n        \"description\": \"\"\n      }\n    }\n  ]\n}"
            }
          },
          "metadata": {},
          "execution_count": 29
        }
      ]
    },
    {
      "cell_type": "markdown",
      "source": [
        "**2. Венуть копию датафрейма `a`, где индексы и названия колонок должны идти в противоположном порядке, при этом сами числовые данные должны остаться на месте.**"
      ],
      "metadata": {
        "id": "sG6_7utQrlOv"
      }
    },
    {
      "cell_type": "code",
      "source": [
        "def reverse_all_labels(a):\n",
        "    b = a.copy()\n",
        "    b.index = b.index[::-1]\n",
        "    b.columns = b.columns[::-1]\n",
        "    return b"
      ],
      "metadata": {
        "id": "bBYZXv16-nYn"
      },
      "execution_count": null,
      "outputs": []
    },
    {
      "cell_type": "code",
      "source": [
        "# Пример\n",
        "a = pd.DataFrame({\n",
        "    'A': [1, 2, 3, 4],\n",
        "    'B': [5, 6, 7, 8],\n",
        "    'C': [9, 10, 11, 12],\n",
        "    'D': [13, 14, 15, 16]\n",
        "}, index=[0, 1, 2, 3])\n",
        "reverse_all_labels(a)"
      ],
      "metadata": {
        "colab": {
          "base_uri": "https://localhost:8080/",
          "height": 173
        },
        "id": "_L8cxku2zVpi",
        "outputId": "56e2232e-ece7-4c3c-a33b-88da89710d75"
      },
      "execution_count": null,
      "outputs": [
        {
          "output_type": "execute_result",
          "data": {
            "text/plain": [
              "   D  C   B   A\n",
              "3  1  5   9  13\n",
              "2  2  6  10  14\n",
              "1  3  7  11  15\n",
              "0  4  8  12  16"
            ],
            "text/html": [
              "\n",
              "  <div id=\"df-f26b1db9-c838-40e6-9af0-24b0d6ef6da8\" class=\"colab-df-container\">\n",
              "    <div>\n",
              "<style scoped>\n",
              "    .dataframe tbody tr th:only-of-type {\n",
              "        vertical-align: middle;\n",
              "    }\n",
              "\n",
              "    .dataframe tbody tr th {\n",
              "        vertical-align: top;\n",
              "    }\n",
              "\n",
              "    .dataframe thead th {\n",
              "        text-align: right;\n",
              "    }\n",
              "</style>\n",
              "<table border=\"1\" class=\"dataframe\">\n",
              "  <thead>\n",
              "    <tr style=\"text-align: right;\">\n",
              "      <th></th>\n",
              "      <th>D</th>\n",
              "      <th>C</th>\n",
              "      <th>B</th>\n",
              "      <th>A</th>\n",
              "    </tr>\n",
              "  </thead>\n",
              "  <tbody>\n",
              "    <tr>\n",
              "      <th>3</th>\n",
              "      <td>1</td>\n",
              "      <td>5</td>\n",
              "      <td>9</td>\n",
              "      <td>13</td>\n",
              "    </tr>\n",
              "    <tr>\n",
              "      <th>2</th>\n",
              "      <td>2</td>\n",
              "      <td>6</td>\n",
              "      <td>10</td>\n",
              "      <td>14</td>\n",
              "    </tr>\n",
              "    <tr>\n",
              "      <th>1</th>\n",
              "      <td>3</td>\n",
              "      <td>7</td>\n",
              "      <td>11</td>\n",
              "      <td>15</td>\n",
              "    </tr>\n",
              "    <tr>\n",
              "      <th>0</th>\n",
              "      <td>4</td>\n",
              "      <td>8</td>\n",
              "      <td>12</td>\n",
              "      <td>16</td>\n",
              "    </tr>\n",
              "  </tbody>\n",
              "</table>\n",
              "</div>\n",
              "    <div class=\"colab-df-buttons\">\n",
              "\n",
              "  <div class=\"colab-df-container\">\n",
              "    <button class=\"colab-df-convert\" onclick=\"convertToInteractive('df-f26b1db9-c838-40e6-9af0-24b0d6ef6da8')\"\n",
              "            title=\"Convert this dataframe to an interactive table.\"\n",
              "            style=\"display:none;\">\n",
              "\n",
              "  <svg xmlns=\"http://www.w3.org/2000/svg\" height=\"24px\" viewBox=\"0 -960 960 960\">\n",
              "    <path d=\"M120-120v-720h720v720H120Zm60-500h600v-160H180v160Zm220 220h160v-160H400v160Zm0 220h160v-160H400v160ZM180-400h160v-160H180v160Zm440 0h160v-160H620v160ZM180-180h160v-160H180v160Zm440 0h160v-160H620v160Z\"/>\n",
              "  </svg>\n",
              "    </button>\n",
              "\n",
              "  <style>\n",
              "    .colab-df-container {\n",
              "      display:flex;\n",
              "      gap: 12px;\n",
              "    }\n",
              "\n",
              "    .colab-df-convert {\n",
              "      background-color: #E8F0FE;\n",
              "      border: none;\n",
              "      border-radius: 50%;\n",
              "      cursor: pointer;\n",
              "      display: none;\n",
              "      fill: #1967D2;\n",
              "      height: 32px;\n",
              "      padding: 0 0 0 0;\n",
              "      width: 32px;\n",
              "    }\n",
              "\n",
              "    .colab-df-convert:hover {\n",
              "      background-color: #E2EBFA;\n",
              "      box-shadow: 0px 1px 2px rgba(60, 64, 67, 0.3), 0px 1px 3px 1px rgba(60, 64, 67, 0.15);\n",
              "      fill: #174EA6;\n",
              "    }\n",
              "\n",
              "    .colab-df-buttons div {\n",
              "      margin-bottom: 4px;\n",
              "    }\n",
              "\n",
              "    [theme=dark] .colab-df-convert {\n",
              "      background-color: #3B4455;\n",
              "      fill: #D2E3FC;\n",
              "    }\n",
              "\n",
              "    [theme=dark] .colab-df-convert:hover {\n",
              "      background-color: #434B5C;\n",
              "      box-shadow: 0px 1px 3px 1px rgba(0, 0, 0, 0.15);\n",
              "      filter: drop-shadow(0px 1px 2px rgba(0, 0, 0, 0.3));\n",
              "      fill: #FFFFFF;\n",
              "    }\n",
              "  </style>\n",
              "\n",
              "    <script>\n",
              "      const buttonEl =\n",
              "        document.querySelector('#df-f26b1db9-c838-40e6-9af0-24b0d6ef6da8 button.colab-df-convert');\n",
              "      buttonEl.style.display =\n",
              "        google.colab.kernel.accessAllowed ? 'block' : 'none';\n",
              "\n",
              "      async function convertToInteractive(key) {\n",
              "        const element = document.querySelector('#df-f26b1db9-c838-40e6-9af0-24b0d6ef6da8');\n",
              "        const dataTable =\n",
              "          await google.colab.kernel.invokeFunction('convertToInteractive',\n",
              "                                                    [key], {});\n",
              "        if (!dataTable) return;\n",
              "\n",
              "        const docLinkHtml = 'Like what you see? Visit the ' +\n",
              "          '<a target=\"_blank\" href=https://colab.research.google.com/notebooks/data_table.ipynb>data table notebook</a>'\n",
              "          + ' to learn more about interactive tables.';\n",
              "        element.innerHTML = '';\n",
              "        dataTable['output_type'] = 'display_data';\n",
              "        await google.colab.output.renderOutput(dataTable, element);\n",
              "        const docLink = document.createElement('div');\n",
              "        docLink.innerHTML = docLinkHtml;\n",
              "        element.appendChild(docLink);\n",
              "      }\n",
              "    </script>\n",
              "  </div>\n",
              "\n",
              "\n",
              "<div id=\"df-f81ba030-9f49-4cb9-b107-fa24665362bc\">\n",
              "  <button class=\"colab-df-quickchart\" onclick=\"quickchart('df-f81ba030-9f49-4cb9-b107-fa24665362bc')\"\n",
              "            title=\"Suggest charts\"\n",
              "            style=\"display:none;\">\n",
              "\n",
              "<svg xmlns=\"http://www.w3.org/2000/svg\" height=\"24px\"viewBox=\"0 0 24 24\"\n",
              "     width=\"24px\">\n",
              "    <g>\n",
              "        <path d=\"M19 3H5c-1.1 0-2 .9-2 2v14c0 1.1.9 2 2 2h14c1.1 0 2-.9 2-2V5c0-1.1-.9-2-2-2zM9 17H7v-7h2v7zm4 0h-2V7h2v10zm4 0h-2v-4h2v4z\"/>\n",
              "    </g>\n",
              "</svg>\n",
              "  </button>\n",
              "\n",
              "<style>\n",
              "  .colab-df-quickchart {\n",
              "      --bg-color: #E8F0FE;\n",
              "      --fill-color: #1967D2;\n",
              "      --hover-bg-color: #E2EBFA;\n",
              "      --hover-fill-color: #174EA6;\n",
              "      --disabled-fill-color: #AAA;\n",
              "      --disabled-bg-color: #DDD;\n",
              "  }\n",
              "\n",
              "  [theme=dark] .colab-df-quickchart {\n",
              "      --bg-color: #3B4455;\n",
              "      --fill-color: #D2E3FC;\n",
              "      --hover-bg-color: #434B5C;\n",
              "      --hover-fill-color: #FFFFFF;\n",
              "      --disabled-bg-color: #3B4455;\n",
              "      --disabled-fill-color: #666;\n",
              "  }\n",
              "\n",
              "  .colab-df-quickchart {\n",
              "    background-color: var(--bg-color);\n",
              "    border: none;\n",
              "    border-radius: 50%;\n",
              "    cursor: pointer;\n",
              "    display: none;\n",
              "    fill: var(--fill-color);\n",
              "    height: 32px;\n",
              "    padding: 0;\n",
              "    width: 32px;\n",
              "  }\n",
              "\n",
              "  .colab-df-quickchart:hover {\n",
              "    background-color: var(--hover-bg-color);\n",
              "    box-shadow: 0 1px 2px rgba(60, 64, 67, 0.3), 0 1px 3px 1px rgba(60, 64, 67, 0.15);\n",
              "    fill: var(--button-hover-fill-color);\n",
              "  }\n",
              "\n",
              "  .colab-df-quickchart-complete:disabled,\n",
              "  .colab-df-quickchart-complete:disabled:hover {\n",
              "    background-color: var(--disabled-bg-color);\n",
              "    fill: var(--disabled-fill-color);\n",
              "    box-shadow: none;\n",
              "  }\n",
              "\n",
              "  .colab-df-spinner {\n",
              "    border: 2px solid var(--fill-color);\n",
              "    border-color: transparent;\n",
              "    border-bottom-color: var(--fill-color);\n",
              "    animation:\n",
              "      spin 1s steps(1) infinite;\n",
              "  }\n",
              "\n",
              "  @keyframes spin {\n",
              "    0% {\n",
              "      border-color: transparent;\n",
              "      border-bottom-color: var(--fill-color);\n",
              "      border-left-color: var(--fill-color);\n",
              "    }\n",
              "    20% {\n",
              "      border-color: transparent;\n",
              "      border-left-color: var(--fill-color);\n",
              "      border-top-color: var(--fill-color);\n",
              "    }\n",
              "    30% {\n",
              "      border-color: transparent;\n",
              "      border-left-color: var(--fill-color);\n",
              "      border-top-color: var(--fill-color);\n",
              "      border-right-color: var(--fill-color);\n",
              "    }\n",
              "    40% {\n",
              "      border-color: transparent;\n",
              "      border-right-color: var(--fill-color);\n",
              "      border-top-color: var(--fill-color);\n",
              "    }\n",
              "    60% {\n",
              "      border-color: transparent;\n",
              "      border-right-color: var(--fill-color);\n",
              "    }\n",
              "    80% {\n",
              "      border-color: transparent;\n",
              "      border-right-color: var(--fill-color);\n",
              "      border-bottom-color: var(--fill-color);\n",
              "    }\n",
              "    90% {\n",
              "      border-color: transparent;\n",
              "      border-bottom-color: var(--fill-color);\n",
              "    }\n",
              "  }\n",
              "</style>\n",
              "\n",
              "  <script>\n",
              "    async function quickchart(key) {\n",
              "      const quickchartButtonEl =\n",
              "        document.querySelector('#' + key + ' button');\n",
              "      quickchartButtonEl.disabled = true;  // To prevent multiple clicks.\n",
              "      quickchartButtonEl.classList.add('colab-df-spinner');\n",
              "      try {\n",
              "        const charts = await google.colab.kernel.invokeFunction(\n",
              "            'suggestCharts', [key], {});\n",
              "      } catch (error) {\n",
              "        console.error('Error during call to suggestCharts:', error);\n",
              "      }\n",
              "      quickchartButtonEl.classList.remove('colab-df-spinner');\n",
              "      quickchartButtonEl.classList.add('colab-df-quickchart-complete');\n",
              "    }\n",
              "    (() => {\n",
              "      let quickchartButtonEl =\n",
              "        document.querySelector('#df-f81ba030-9f49-4cb9-b107-fa24665362bc button');\n",
              "      quickchartButtonEl.style.display =\n",
              "        google.colab.kernel.accessAllowed ? 'block' : 'none';\n",
              "    })();\n",
              "  </script>\n",
              "</div>\n",
              "    </div>\n",
              "  </div>\n"
            ],
            "application/vnd.google.colaboratory.intrinsic+json": {
              "type": "dataframe",
              "summary": "{\n  \"name\": \"reverse_all_labels(a)\",\n  \"rows\": 4,\n  \"fields\": [\n    {\n      \"column\": \"D\",\n      \"properties\": {\n        \"dtype\": \"number\",\n        \"std\": 1,\n        \"min\": 1,\n        \"max\": 4,\n        \"num_unique_values\": 4,\n        \"samples\": [\n          2,\n          4,\n          1\n        ],\n        \"semantic_type\": \"\",\n        \"description\": \"\"\n      }\n    },\n    {\n      \"column\": \"C\",\n      \"properties\": {\n        \"dtype\": \"number\",\n        \"std\": 1,\n        \"min\": 5,\n        \"max\": 8,\n        \"num_unique_values\": 4,\n        \"samples\": [\n          6,\n          8,\n          5\n        ],\n        \"semantic_type\": \"\",\n        \"description\": \"\"\n      }\n    },\n    {\n      \"column\": \"B\",\n      \"properties\": {\n        \"dtype\": \"number\",\n        \"std\": 1,\n        \"min\": 9,\n        \"max\": 12,\n        \"num_unique_values\": 4,\n        \"samples\": [\n          10,\n          12,\n          9\n        ],\n        \"semantic_type\": \"\",\n        \"description\": \"\"\n      }\n    },\n    {\n      \"column\": \"A\",\n      \"properties\": {\n        \"dtype\": \"number\",\n        \"std\": 1,\n        \"min\": 13,\n        \"max\": 16,\n        \"num_unique_values\": 4,\n        \"samples\": [\n          14,\n          16,\n          13\n        ],\n        \"semantic_type\": \"\",\n        \"description\": \"\"\n      }\n    }\n  ]\n}"
            }
          },
          "metadata": {},
          "execution_count": 28
        }
      ]
    },
    {
      "cell_type": "markdown",
      "source": [
        "**3. Вернуть серию, в которой ассоциативные метки — все названия колонок датафрейма `a`, а значения принимают значение True, если все значения в этой колонке датафрейма являются NaN-значениями, False — иначе.**"
      ],
      "metadata": {
        "id": "UKhgI-rrq9Aa"
      }
    },
    {
      "cell_type": "code",
      "source": [
        "def isna_columns(a):\n",
        "    return a.isna().all()"
      ],
      "metadata": {
        "id": "guPF5jLWrHBM"
      },
      "execution_count": null,
      "outputs": []
    },
    {
      "cell_type": "code",
      "source": [
        "# Пример\n",
        "a = pd.DataFrame({\n",
        "    'A': [1, 2, 4],\n",
        "    'B': [np.NaN, np.NaN, np.NaN],\n",
        "    'C': [np.NaN, 6, np.NaN]\n",
        "})\n",
        "isna_columns(a)"
      ],
      "metadata": {
        "colab": {
          "base_uri": "https://localhost:8080/"
        },
        "id": "At5PibNxyW90",
        "outputId": "ac75d2b8-cdfd-4409-9d7d-abb1bb8dc7c7"
      },
      "execution_count": null,
      "outputs": [
        {
          "output_type": "execute_result",
          "data": {
            "text/plain": [
              "A    False\n",
              "B     True\n",
              "C    False\n",
              "dtype: bool"
            ]
          },
          "metadata": {},
          "execution_count": 22
        }
      ]
    },
    {
      "cell_type": "markdown",
      "source": [
        "**4. Вернуть серию, где ассоциативные метки — названия колонок исходного датафрейма, а значения True, если среднее по этому столбцу строго больше медианы, иначе - False**"
      ],
      "metadata": {
        "id": "SC8FuAtNyqUm"
      }
    },
    {
      "cell_type": "code",
      "source": [
        "def is_mean_greater_than_median(a):\n",
        "  return a.mean() > a.median()"
      ],
      "metadata": {
        "id": "GmHwnDpqyquX"
      },
      "execution_count": null,
      "outputs": []
    },
    {
      "cell_type": "code",
      "source": [
        "# Пример\n",
        "a = pd.DataFrame({\n",
        "    'A': [100, 0, 0],\n",
        "    'B': [0, 100, 100],\n",
        "    'C': [1, 2, 3]\n",
        "})\n",
        "is_mean_greater_than_median(a)"
      ],
      "metadata": {
        "colab": {
          "base_uri": "https://localhost:8080/"
        },
        "id": "pdUWvpZ1yyKK",
        "outputId": "52b8ccbd-fc5d-4b3a-c0ea-4bcb861eb07f"
      },
      "execution_count": null,
      "outputs": [
        {
          "output_type": "execute_result",
          "data": {
            "text/plain": [
              "A     True\n",
              "B    False\n",
              "C    False\n",
              "dtype: bool"
            ]
          },
          "metadata": {},
          "execution_count": 25
        }
      ]
    },
    {
      "cell_type": "markdown",
      "source": [
        "**5. Вернуть серию, в которой ассоциативные метки — названия колонок датафрейма `a`, а значения — разность максимального и минимального значения в колонке.**"
      ],
      "metadata": {
        "id": "fiYPAt-EwIU8"
      }
    },
    {
      "cell_type": "code",
      "source": [
        "def column_interval_len(a):\n",
        "  return a.agg(np.max) - a.agg(np.min)"
      ],
      "metadata": {
        "id": "KRONLopnwB9D"
      },
      "execution_count": null,
      "outputs": []
    },
    {
      "cell_type": "code",
      "source": [
        "# Пример\n",
        "a = pd.DataFrame({\n",
        "    'A': [1, 2, 3],\n",
        "    'B': [0, -100, 100],\n",
        "    'C': [12, 12, 12]\n",
        "})\n",
        "column_interval_len(a)"
      ],
      "metadata": {
        "colab": {
          "base_uri": "https://localhost:8080/"
        },
        "id": "ucB1ZN5dzMrT",
        "outputId": "692353cf-6cfa-42d5-cd84-57f00e71d8a3"
      },
      "execution_count": null,
      "outputs": [
        {
          "output_type": "execute_result",
          "data": {
            "text/plain": [
              "A      2\n",
              "B    200\n",
              "C      0\n",
              "dtype: int64"
            ]
          },
          "metadata": {},
          "execution_count": 27
        }
      ]
    },
    {
      "cell_type": "markdown",
      "source": [
        "**6. Из датафрейма `a`, который имеет двойные индексы строк и всего одну колонку, вернуть среднее по всем значениям, у которых на месте второй из вложенных меток строк стоит значение 'first'.**"
      ],
      "metadata": {
        "id": "kvCqC22IBnqm"
      }
    },
    {
      "cell_type": "code",
      "source": [
        "def count_first_mean(a):\n",
        "    return np.mean([a.loc[i[0], i[1]] for i in a.index if i[1] == 'first'])"
      ],
      "metadata": {
        "id": "UriVrp9HB3Sh"
      },
      "execution_count": null,
      "outputs": []
    },
    {
      "cell_type": "code",
      "source": [
        "# Пример\n",
        "a = pd.DataFrame(\n",
        "    {'col': [1, 2, 3]},\n",
        "    index=pd.MultiIndex.from_tuples([\n",
        "        ('A', 'first'), ('B', 'first'), ('B', 'second')\n",
        "    ])\n",
        ")\n",
        "count_first_mean(a)"
      ],
      "metadata": {
        "colab": {
          "base_uri": "https://localhost:8080/"
        },
        "id": "xRdXEF8ACEEv",
        "outputId": "bdbd0e1d-e07d-4c3e-cde2-e9dd1957157a"
      },
      "execution_count": null,
      "outputs": [
        {
          "output_type": "execute_result",
          "data": {
            "text/plain": [
              "1.5"
            ]
          },
          "metadata": {},
          "execution_count": 31
        }
      ]
    },
    {
      "cell_type": "markdown",
      "source": [
        "**7. Из датафрейма `a` с колонками 'gender' и 'pet', отвечающих за пол владельца домашних питомцов ('female' либо 'male') и количество домашних питомцев, которые есть у человека, вернуть среднее количество домашних животных у женщин (female), прошедших опрос.**\n"
      ],
      "metadata": {
        "id": "5TyayRUFFXjI"
      }
    },
    {
      "cell_type": "code",
      "source": [
        "def mean_pet_count(a):\n",
        "    return a.groupby('gender').mean().loc['female', 'pet']"
      ],
      "metadata": {
        "id": "jtdUG7fhFXr8"
      },
      "execution_count": null,
      "outputs": []
    },
    {
      "cell_type": "code",
      "source": [
        "# Пример\n",
        "a = pd.DataFrame([['female', 2], ['male', 1], ['female', 2], ['male', 1]], columns=['gender', 'pet'])\n",
        "mean_pet_count(a)"
      ],
      "metadata": {
        "colab": {
          "base_uri": "https://localhost:8080/"
        },
        "id": "p4MuAV-0Fa_t",
        "outputId": "e98a24ea-e88f-41a8-9323-f21a2906fb14"
      },
      "execution_count": null,
      "outputs": [
        {
          "output_type": "execute_result",
          "data": {
            "text/plain": [
              "2.0"
            ]
          },
          "metadata": {},
          "execution_count": 34
        }
      ]
    },
    {
      "cell_type": "markdown",
      "source": [
        "**8. Поместить значения из массива в промежуток от 0 до 1.**"
      ],
      "metadata": {
        "id": "rWB5SZkF68JA"
      }
    },
    {
      "cell_type": "code",
      "source": [
        "def min_max_scaler(x):\n",
        "  return lambda x:(x-x.min())/(x.max()-x.min())"
      ],
      "metadata": {
        "id": "b67gg5oI67FT"
      },
      "execution_count": null,
      "outputs": []
    },
    {
      "cell_type": "markdown",
      "source": [
        "**9. Напишите строку кода на языке Python, которая меняет значения '1st' на 1:**"
      ],
      "metadata": {
        "id": "TjRowNfJ1OZ0"
      }
    },
    {
      "cell_type": "code",
      "source": [
        "df = pd.DataFrame({\n",
        "    'Column1': [10, 25, 'NULL', 70, 18],\n",
        "    'Column2': [0, 'NULL', 1, 0, 1],\n",
        "    'Column3': ['1st', '3rd', '3rd', '2nd', '1st']})"
      ],
      "metadata": {
        "id": "sa79E8GH1Oke"
      },
      "execution_count": null,
      "outputs": []
    },
    {
      "cell_type": "code",
      "source": [
        "df = df.replace('1st', 1)"
      ],
      "metadata": {
        "id": "6J5GLRSF1f9x"
      },
      "execution_count": null,
      "outputs": []
    },
    {
      "cell_type": "markdown",
      "source": [
        "**Напишите строку кода на языке Python, которая меняет значения 'NULL' на NaN в колонке 'Column1':**"
      ],
      "metadata": {
        "id": "izYG1dqx1mwq"
      }
    },
    {
      "cell_type": "code",
      "source": [
        "df['Column1'] = df['Column1'].replace('NULL', np.nan)"
      ],
      "metadata": {
        "id": "Tou6YZ0M1r8M"
      },
      "execution_count": null,
      "outputs": []
    },
    {
      "cell_type": "markdown",
      "source": [
        "**10. Сколько колонок останется в нашем датафрейме после выполнения следующей строки кода df.drop({'Column1','Column2'}, axis=1):**"
      ],
      "metadata": {
        "id": "sPDGRhBt1zw9"
      }
    },
    {
      "cell_type": "code",
      "source": [
        "df = pd.DataFrame({\n",
        "    'Column1': [10, 25, 'NULL', 70, 18],\n",
        "    'Column2': [0, 'NULL', 1, 0, 1],\n",
        "    'Column3': ['1st', '3rd', '3rd', '2nd', '1st']})\n",
        ""
      ],
      "metadata": {
        "id": "0CSvnHVx2BSJ"
      },
      "execution_count": null,
      "outputs": []
    },
    {
      "cell_type": "code",
      "source": [
        "# Количество колонок не изменится, поскольку датафрейм не был переопределен.\n",
        "# Для изменения исходного датафрейма надо было выполнить следующую строку кода: df = df.drop({'Column1','Column2'}, axis=1)\n",
        "3"
      ],
      "metadata": {
        "id": "ws7J0c3A2Dpj"
      },
      "execution_count": null,
      "outputs": []
    },
    {
      "cell_type": "markdown",
      "source": [
        "**11. Средствами библиотеки Pandas и языка Python считайте данные из файла [titanic.csv](https://dc-edu.itmo.ru/asset-v1:ITMOUniversity+TEST2022+2022_2+type@asset+block@titanic.csv) (набор данных выживших пассажиров Титаника: класс кабины, возраст, пол, порт посадки и т.д.) и введите названия колонок (через запятую), в которых есть значения NaN:**"
      ],
      "metadata": {
        "id": "vzeWUDQP2UAF"
      }
    },
    {
      "cell_type": "code",
      "source": [
        "Age"
      ],
      "metadata": {
        "id": "pjLg38692YqD"
      },
      "execution_count": null,
      "outputs": []
    },
    {
      "cell_type": "markdown",
      "source": [
        "**12. Средствами библиотеки Pandas и языка Python считайте данные из файла titanic.csv (набор данных выживших пассажиров Титаника: класс кабины, возраст, пол, порт посадки и т.д.) и графики**"
      ],
      "metadata": {
        "id": "DnPdk-xN3W1c"
      }
    },
    {
      "cell_type": "markdown",
      "source": [
        "Столбчатая диаграмма распределениа класса кабины:"
      ],
      "metadata": {
        "id": "UpNGgWvP3sya"
      }
    },
    {
      "cell_type": "code",
      "source": [
        "df['PClass'].value_counts().plot.bar()"
      ],
      "metadata": {
        "id": "dg4y2EMV31Rm"
      },
      "execution_count": null,
      "outputs": []
    },
    {
      "cell_type": "markdown",
      "source": [
        "Круговая диаграмма распределениа класса кабины, круговую диаграмму распределениа класса кабины:"
      ],
      "metadata": {
        "id": "CXLLDcTD3tYH"
      }
    },
    {
      "cell_type": "code",
      "source": [
        "df['Age'].value_counts().plot.pie()"
      ],
      "metadata": {
        "id": "pbpYY0U04IyU"
      },
      "execution_count": null,
      "outputs": []
    },
    {
      "cell_type": "markdown",
      "source": [
        "Гистограмма распределения возраста пассажиров:"
      ],
      "metadata": {
        "id": "iPfaHRvz3_i-"
      }
    },
    {
      "cell_type": "code",
      "source": [
        "df['Age'].value_counts().plot.hist()"
      ],
      "metadata": {
        "id": "7OfeOhHA3_rQ"
      },
      "execution_count": null,
      "outputs": []
    },
    {
      "cell_type": "markdown",
      "source": [
        "**13. Объединяем эти датафреймы с помощью метода .merge() по общим колонкам 'Column1', 'Column2'], присоединяя правый датафрейм к левому how='left'.**"
      ],
      "metadata": {
        "id": "yTzoc7yQ4TWX"
      }
    },
    {
      "cell_type": "code",
      "source": [
        "left = pd.DataFrame({\n",
        "      'Column1': ['a', 'b', 'c', 'c', 'e', 'e', 'a'],\n",
        "      'Column2': [3, 34, 44, 76, 77, 81, 2],\n",
        "      'Column3': [True, False, False, False, True, True, False]})\n",
        "\n",
        "right = pd.DataFrame({\n",
        "      'Column1': ['d', 'b', 'c', 'c', 'f', 'a', 'a','a'],\n",
        "      'Column2': [13, 21, 44, 67, 15, 87, 2, 2],\n",
        "      'Column4': [3, 34, 44, 76, 77, 81, 2, 22]})\n",
        ""
      ],
      "metadata": {
        "id": "72Ue1Oc-4b5f"
      },
      "execution_count": null,
      "outputs": []
    },
    {
      "cell_type": "markdown",
      "source": [
        "Сколько строк в результирующем датафрейме, у которых df_result['Column1'] == 'a'?"
      ],
      "metadata": {
        "id": "GUgTx0Di4ltm"
      }
    },
    {
      "cell_type": "code",
      "source": [
        "df_result[(df_result['Column1'] == 'a')] # 3"
      ],
      "metadata": {
        "id": "rADIsIqx4ldd"
      },
      "execution_count": null,
      "outputs": []
    },
    {
      "cell_type": "markdown",
      "source": [
        "**14. Изменить тип данных на datetime64[ns] в датафрейме df_data:**"
      ],
      "metadata": {
        "id": "SQNPeeI8PRkK"
      }
    },
    {
      "cell_type": "code",
      "source": [
        "          Date\n",
        "0   01-05-2022\n",
        "1   01-06-2022\n",
        "2   01-07-2022\n",
        "3   01-08-2022\n",
        "4   01-09-2022\n",
        "5   01-10-2022\n",
        "6   01-11-2022\n",
        "7   01-12-2022\n",
        "8   01-01-2023\n",
        "9   01-02-2023\n",
        "10  01-03-2023\n",
        "11  01-04-2023\n",
        "12  01-05-2023"
      ],
      "metadata": {
        "id": "exMrH2izSOxe"
      },
      "execution_count": null,
      "outputs": []
    },
    {
      "cell_type": "code",
      "source": [
        "df_data = df_data.astype({'Date': np.datetime64})"
      ],
      "metadata": {
        "id": "6YNtA024QLJo"
      },
      "execution_count": null,
      "outputs": []
    },
    {
      "cell_type": "code",
      "source": [
        "df_data = df_data.astype('datetime64')"
      ],
      "metadata": {
        "id": "xQKAgjbqQz8v"
      },
      "execution_count": null,
      "outputs": []
    },
    {
      "cell_type": "code",
      "source": [
        "df_data = df_data.astype('datetime64[ns]')"
      ],
      "metadata": {
        "id": "1qiF7QBsQ1ys"
      },
      "execution_count": null,
      "outputs": []
    },
    {
      "cell_type": "markdown",
      "source": [
        "**15. Средствами библиотеки Pandas языка Python в создайте датафрейм df_all из файла daily_weather_data.csv, в котором собраны данные о погоде в столицах мира по месяцам с 2018 по 2022 год. Напишите строки кода, которые приведут к требуемым результатам. Рекомендуем выполнять данное задание по порядку.**\n"
      ],
      "metadata": {
        "id": "clNU7LmJRQOl"
      }
    },
    {
      "cell_type": "code",
      "source": [
        "df_all = pd.read_csv('https://dc-edu.itmo.ru/asset-v1:ITMOUniversity+TEST2022+2022_2+type@asset+block@daily_weather_data.csv',\n",
        "                       delimiter=',',\n",
        "                       decimal='.')"
      ],
      "metadata": {
        "id": "yTNtY_tZSGVp"
      },
      "execution_count": 4,
      "outputs": []
    },
    {
      "cell_type": "markdown",
      "source": [
        "Привести значения колонки 'date' к типу datetime64[ns]:"
      ],
      "metadata": {
        "id": "_Fe9odEbTJde"
      }
    },
    {
      "cell_type": "code",
      "source": [
        "df_all = df_all.astype({'date': 'datetime64[ns]'})"
      ],
      "metadata": {
        "id": "fKetSr8WTI08"
      },
      "execution_count": null,
      "outputs": []
    },
    {
      "cell_type": "markdown",
      "source": [
        "Установите значения колонки 'date' в качестве индексов:"
      ],
      "metadata": {
        "id": "0D37Qo9sTc3u"
      }
    },
    {
      "cell_type": "code",
      "source": [
        "df_all = df_all.set_index('date')"
      ],
      "metadata": {
        "id": "2G7saLQ5Tc-t"
      },
      "execution_count": null,
      "outputs": []
    },
    {
      "cell_type": "markdown",
      "source": [
        "Оставить в датафрейме только те строки, у которых столица Sukhumi:"
      ],
      "metadata": {
        "id": "JIYialzwTrHx"
      }
    },
    {
      "cell_type": "code",
      "source": [
        "df_all = df_all[(df_all['city'] == 'Sukhumi')]"
      ],
      "metadata": {
        "id": "uGVgjB5NTrOc"
      },
      "execution_count": null,
      "outputs": []
    },
    {
      "cell_type": "markdown",
      "source": [
        "Сгруппируйте данные по годам и выведите среднее значение средней температуры 'tavg' за каждый год в Sukhumi:"
      ],
      "metadata": {
        "id": "urDgQ37lTziN"
      }
    },
    {
      "cell_type": "code",
      "source": [
        "df_all = df_all[['tavg']].groupby(pd.Grouper(freq='1Y')).mean()"
      ],
      "metadata": {
        "id": "RP6fbRDnTznZ"
      },
      "execution_count": null,
      "outputs": []
    },
    {
      "cell_type": "markdown",
      "source": [
        "Введите значение средней температуры за 2021 год в Sukhumi (округлите до целого):"
      ],
      "metadata": {
        "id": "QqAMAzAJT8Ox"
      }
    },
    {
      "cell_type": "code",
      "source": [
        "df_all[df_all.index.year == 2021]['tavg'].round()"
      ],
      "metadata": {
        "id": "cYeOmiCET8Us"
      },
      "execution_count": null,
      "outputs": []
    }
  ]
}